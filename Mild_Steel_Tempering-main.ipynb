{
 "cells": [
  {
   "cell_type": "code",
   "execution_count": null,
   "metadata": {},
   "outputs": [],
   "source": [
    "!pip install polars beautifulsoup4 splinter selenium "
   ]
  },
  {
   "cell_type": "code",
   "execution_count": 28,
   "metadata": {},
   "outputs": [],
   "source": [
    "import polars as pl\n",
    "import pathlib\n",
    "import re\n",
    "\n",
    "from bs4 import BeautifulSoup\n",
    "from splinter import Browser"
   ]
  },
  {
   "cell_type": "markdown",
   "metadata": {},
   "source": [
    "# Loading Data"
   ]
  },
  {
   "cell_type": "code",
   "execution_count": 29,
   "metadata": {},
   "outputs": [
    {
     "name": "stdout",
     "output_type": "stream",
     "text": [
      "Path is project root\n"
     ]
    }
   ],
   "source": [
    "cwd = pathlib.Path.cwd()\n",
    "\n",
    "if cwd.name == 'Mild-Steel-Tempering':\n",
    "    print(\"Path is project root\")\n",
    "else:\n",
    "    print(\"Please correct current working directory to the project root\")\n"
   ]
  },
  {
   "cell_type": "code",
   "execution_count": 30,
   "metadata": {},
   "outputs": [
    {
     "data": {
      "text/plain": [
       "PurePosixPath('/home/mox/Documents/coding_projects/bootcamp_local/Homeworks/Mild-Steel-Tempering/resources')"
      ]
     },
     "execution_count": 30,
     "metadata": {},
     "output_type": "execute_result"
    }
   ],
   "source": [
    "resources_path = pathlib.PurePath(pathlib.PurePath(cwd), 'resources')\n",
    "resources_path"
   ]
  },
  {
   "cell_type": "markdown",
   "metadata": {},
   "source": [
    "### Many alloy composition columns were parsed incorrectly and failing to load\n",
    "\n",
    "Several weight percent columns were parsed as int automatically due to having \"0\" for many initial rows. \n",
    "\n",
    "All weight percent columns should be parsed as float. "
   ]
  },
  {
   "cell_type": "code",
   "execution_count": 31,
   "metadata": {},
   "outputs": [
    {
     "name": "stdout",
     "output_type": "stream",
     "text": [
      "Rows: 1466\n",
      "Columns: 17\n",
      "$ Source                                  <str> 'Grange and Baughman, 1956', 'Grange and Baughman, 1956', 'Grange and Baughman, 1956', 'Grange and Baughman, 1956', 'Grange and Baughman, 1956', 'Grange and Baughman, 1956', 'Grange and Baughman, 1956', 'Grange and Baughman, 1956', 'Grange and Baughman, 1956', 'Grange and Baughman, 1956'\n",
      "$ Steel type                              <str> 'AISI-SAE 1026', 'AISI-SAE 1026', 'AISI-SAE 1026', 'AISI-SAE 1026', 'AISI-SAE 1026', 'AISI-SAE 1026', 'AISI-SAE 1026', 'AISI-SAE 1026', 'AISI-SAE 1026', 'AISI-SAE 1026'\n",
      "$ Initial hardness (HRC) - post quenching <str> '?', '?', '?', '?', '?', '?', '?', '?', '?', '?'\n",
      "$ Tempering time (s)                      <i64> 600, 600, 600, 600, 600, 600, 600, 600, 600, 600\n",
      "$ Tempering temperature (ºC)              <f64> 204.4, 260.0, 315.6, 371.1, 426.7, 482.2, 537.8, 593.3, 648.9, 704.4\n",
      "$ C (%wt)                                 <f64> 0.25, 0.25, 0.25, 0.25, 0.25, 0.25, 0.25, 0.25, 0.25, 0.25\n",
      "$ Mn (%wt)                                <f64> 0.79, 0.79, 0.79, 0.79, 0.79, 0.79, 0.79, 0.79, 0.79, 0.79\n",
      "$ P (%wt)                                 <f64> 0.012, 0.012, 0.012, 0.012, 0.012, 0.012, 0.012, 0.012, 0.012, 0.012\n",
      "$ S (%wt)                                 <f64> 0.026, 0.026, 0.026, 0.026, 0.026, 0.026, 0.026, 0.026, 0.026, 0.026\n",
      "$ Si (%wt)                                <f64> 0.11, 0.11, 0.11, 0.11, 0.11, 0.11, 0.11, 0.11, 0.11, 0.11\n",
      "$ Ni (%wt)                                <f64> 0.0, 0.0, 0.0, 0.0, 0.0, 0.0, 0.0, 0.0, 0.0, 0.0\n",
      "$ Cr (%wt)                                <f64> 0.0, 0.0, 0.0, 0.0, 0.0, 0.0, 0.0, 0.0, 0.0, 0.0\n",
      "$ Mo (%wt)                                <f64> 0.0, 0.0, 0.0, 0.0, 0.0, 0.0, 0.0, 0.0, 0.0, 0.0\n",
      "$ V (%wt)                                 <f64> 0.0, 0.0, 0.0, 0.0, 0.0, 0.0, 0.0, 0.0, 0.0, 0.0\n",
      "$ Al (%wt)                                <f64> 0.0, 0.0, 0.0, 0.0, 0.0, 0.0, 0.0, 0.0, 0.0, 0.0\n",
      "$ Cu (%wt)                                <f64> 0.0, 0.0, 0.0, 0.0, 0.0, 0.0, 0.0, 0.0, 0.0, 0.0\n",
      "$ Final hardness (HRC) - post tempering   <f64> 50.6, 48.3, 43.7, 40.5, 37.3, 31.2, 26.2, 23.1, 17.3, 11.7\n",
      "\n"
     ]
    }
   ],
   "source": [
    "data_path = f\"{resources_path}/Raiipa-tempering-data.csv\"\n",
    "schema_overrides = {\"C (%wt)\" : pl.Float64,\n",
    "\"Mn (%wt)\" : pl.Float64,\n",
    "\"P (%wt)\" : pl.Float64,\n",
    "\"S (%wt)\" : pl.Float64,\n",
    "\"Si (%wt)\" : pl.Float64,\n",
    "\"Ni (%wt)\" : pl.Float64,\n",
    "\"Cr (%wt)\" : pl.Float64,\n",
    "\"Mo (%wt)\" : pl.Float64,\n",
    "\"V (%wt)\" : pl.Float64,\n",
    "\"Al (%wt)\" : pl.Float64,\n",
    "\"Cu (%wt)\" : pl.Float64}\n",
    "\n",
    "df_data = pl.read_csv(data_path, schema_overrides=schema_overrides)\n",
    "df_data.glimpse()"
   ]
  },
  {
   "cell_type": "code",
   "execution_count": 32,
   "metadata": {},
   "outputs": [
    {
     "data": {
      "text/plain": [
       "['Source',\n",
       " 'Steel type',\n",
       " 'Initial hardness (HRC) - post quenching',\n",
       " 'Tempering time (s)',\n",
       " 'Tempering temperature (ºC)',\n",
       " 'C (%wt)',\n",
       " 'Mn (%wt)',\n",
       " 'P (%wt)',\n",
       " 'S (%wt)',\n",
       " 'Si (%wt)',\n",
       " 'Ni (%wt)',\n",
       " 'Cr (%wt)',\n",
       " 'Mo (%wt)',\n",
       " 'V (%wt)',\n",
       " 'Al (%wt)',\n",
       " 'Cu (%wt)',\n",
       " 'Final hardness (HRC) - post tempering']"
      ]
     },
     "execution_count": 32,
     "metadata": {},
     "output_type": "execute_result"
    }
   ],
   "source": [
    "# save initial columns names as they are very descriptive and may be useful later\n",
    "initial_column_names = df_data.columns\n",
    "initial_column_names"
   ]
  },
  {
   "cell_type": "markdown",
   "metadata": {},
   "source": [
    "# Cleaning\n",
    "Many columns need renaming for ease of manipulation\n",
    "\n",
    "Columns need datatypes correction\n",
    " 'Initial hardness (HRC) - post quenching' needs datatype correction. ? is NA value\n"
   ]
  },
  {
   "cell_type": "code",
   "execution_count": 33,
   "metadata": {},
   "outputs": [
    {
     "data": {
      "text/plain": [
       "{'Source': 'source',\n",
       " 'Steel type': 'steel_type',\n",
       " 'Initial hardness (HRC) - post quenching': 'initial_hardness_post_quenching_HRC',\n",
       " 'Tempering time (s)': 'tempering_time_s',\n",
       " 'Tempering temperature (ºC)': 'tempering_temperature_C',\n",
       " 'C (%wt)': 'C',\n",
       " 'Mn (%wt)': 'Mn',\n",
       " 'P (%wt)': 'P',\n",
       " 'S (%wt)': 'S',\n",
       " 'Si (%wt)': 'Si',\n",
       " 'Ni (%wt)': 'Ni',\n",
       " 'Cr (%wt)': 'Cr',\n",
       " 'Mo (%wt)': 'Mo',\n",
       " 'V (%wt)': 'V',\n",
       " 'Al (%wt)': 'Al',\n",
       " 'Cu (%wt)': 'Cu',\n",
       " 'Final hardness (HRC) - post tempering': 'final_hardness_post_tempering_HRC'}"
      ]
     },
     "execution_count": 33,
     "metadata": {},
     "output_type": "execute_result"
    }
   ],
   "source": [
    "dict_new_cnames = {}\n",
    "for og_name in initial_column_names:\n",
    "    # replace filler in hardness columns\n",
    "    new_name = og_name.replace(' - ', '')\n",
    "    \n",
    "    # Handle units\n",
    "    try:\n",
    "        #if alloy weight percent remove units and return only elemental symbol\n",
    "        if re.search(r\"\\(%wt\\)\", og_name):\n",
    "            new_name = og_name.split(' ')[0]\n",
    "            #skip the rest of the try block that will re_add the units to the end\n",
    "            pass\n",
    "        else: \n",
    "            #If not elemental composition, lowercase the string\n",
    "            new_name = new_name.lower()\n",
    "        # regex find the units inside the parenthesis, of the original name, not the lowercased new name\n",
    "        # This lines breaks and goes to except if there is no units\n",
    "        unit = re.search(r'\\((\\w+)\\)', og_name).group(1)\n",
    "        # replace the unit parenthesis string with parenthesis with an empty string\n",
    "        new_name = re.sub(r\"\\(.+\\)\", \"\", new_name)\n",
    "        # trim to whitespace end characters left by some unit removals\n",
    "        new_name = new_name.rstrip()\n",
    "        # append the unit string to the end of the processed name\n",
    "        new_name = f\"{new_name}_{unit}\"\n",
    "    except:\n",
    "        # skip unit processing on names with no units denoted by parenthesis\n",
    "        pass\n",
    "\n",
    "    # Strip away special characters\n",
    "    new_name = new_name.encode(\"ascii\", errors=\"ignore\").decode()\n",
    "    #replace all whitespace with underscores\n",
    "    new_name = new_name.replace(' ', '_')\n",
    "    #add the name to the rename dict\n",
    "    dict_new_cnames[og_name] = new_name\n",
    "dict_new_cnames\n"
   ]
  },
  {
   "cell_type": "code",
   "execution_count": 34,
   "metadata": {},
   "outputs": [],
   "source": [
    "df_clean_cnames = df_data.rename(dict_new_cnames)"
   ]
  },
  {
   "cell_type": "markdown",
   "metadata": {},
   "source": [
    "## Clean data types and column values"
   ]
  },
  {
   "cell_type": "code",
   "execution_count": 35,
   "metadata": {},
   "outputs": [],
   "source": [
    "count_of_qmark = df_clean_cnames['initial_hardness_post_quenching_HRC'].value_counts()\\\n",
    "    .filter(pl.col('initial_hardness_post_quenching_HRC') == \"?\")\\\n",
    "        .select(\"count\").item()\n"
   ]
  },
  {
   "cell_type": "code",
   "execution_count": 36,
   "metadata": {},
   "outputs": [
    {
     "name": "stdout",
     "output_type": "stream",
     "text": [
      "Unknown initial hardness: 65%\n"
     ]
    }
   ],
   "source": [
    "percent_intial_hardness_unknown = count_of_qmark / int(df_clean_cnames['initial_hardness_post_quenching_HRC'].shape[0])\n",
    "print(f\"Unknown initial hardness: {round(percent_intial_hardness_unknown, 2) * 100:.0f}%\")\n"
   ]
  },
  {
   "cell_type": "code",
   "execution_count": 37,
   "metadata": {},
   "outputs": [
    {
     "data": {
      "text/html": [
       "<div><style>\n",
       ".dataframe > thead > tr,\n",
       ".dataframe > tbody > tr {\n",
       "  text-align: right;\n",
       "  white-space: pre-wrap;\n",
       "}\n",
       "</style>\n",
       "<small>shape: (3, 17)</small><table border=\"1\" class=\"dataframe\"><thead><tr><th>source</th><th>steel_type</th><th>initial_hardness_post_quenching_HRC</th><th>tempering_time_s</th><th>tempering_temperature_C</th><th>C</th><th>Mn</th><th>P</th><th>S</th><th>Si</th><th>Ni</th><th>Cr</th><th>Mo</th><th>V</th><th>Al</th><th>Cu</th><th>final_hardness_post_tempering_HRC</th></tr><tr><td>str</td><td>str</td><td>str</td><td>i64</td><td>f64</td><td>f64</td><td>f64</td><td>f64</td><td>f64</td><td>f64</td><td>f64</td><td>f64</td><td>f64</td><td>f64</td><td>f64</td><td>f64</td><td>f64</td></tr></thead><tbody><tr><td>&quot;Hollomon and Jaffe, 1945&quot;</td><td>&quot;1,15%C - plain carbon steel&quot;</td><td>&quot;64.5&quot;</td><td>86400</td><td>500.0</td><td>1.15</td><td>0.58</td><td>0.012</td><td>0.021</td><td>0.09</td><td>0.0</td><td>0.01</td><td>0.0</td><td>0.0</td><td>0.0</td><td>0.0</td><td>32.0</td></tr><tr><td>&quot;Hollomon and Jaffe, 1945&quot;</td><td>&quot;1,15%C - plain carbon steel&quot;</td><td>&quot;64.5&quot;</td><td>86400</td><td>600.0</td><td>1.15</td><td>0.58</td><td>0.012</td><td>0.021</td><td>0.09</td><td>0.0</td><td>0.01</td><td>0.0</td><td>0.0</td><td>0.0</td><td>0.0</td><td>23.0</td></tr><tr><td>&quot;Hollomon and Jaffe, 1945&quot;</td><td>&quot;1,15%C - plain carbon steel&quot;</td><td>&quot;64.5&quot;</td><td>86400</td><td>700.0</td><td>1.15</td><td>0.58</td><td>0.012</td><td>0.021</td><td>0.09</td><td>0.0</td><td>0.01</td><td>0.0</td><td>0.0</td><td>0.0</td><td>0.0</td><td>4.5</td></tr></tbody></table></div>"
      ],
      "text/plain": [
       "shape: (3, 17)\n",
       "┌───────────────┬───────────────┬──────────────┬──────────────┬───┬─────┬─────┬─────┬──────────────┐\n",
       "│ source        ┆ steel_type    ┆ initial_hard ┆ tempering_ti ┆ … ┆ V   ┆ Al  ┆ Cu  ┆ final_hardne │\n",
       "│ ---           ┆ ---           ┆ ness_post_qu ┆ me_s         ┆   ┆ --- ┆ --- ┆ --- ┆ ss_post_temp │\n",
       "│ str           ┆ str           ┆ enchin…      ┆ ---          ┆   ┆ f64 ┆ f64 ┆ f64 ┆ ering_…      │\n",
       "│               ┆               ┆ ---          ┆ i64          ┆   ┆     ┆     ┆     ┆ ---          │\n",
       "│               ┆               ┆ str          ┆              ┆   ┆     ┆     ┆     ┆ f64          │\n",
       "╞═══════════════╪═══════════════╪══════════════╪══════════════╪═══╪═════╪═════╪═════╪══════════════╡\n",
       "│ Hollomon and  ┆ 1,15%C -      ┆ 64.5         ┆ 86400        ┆ … ┆ 0.0 ┆ 0.0 ┆ 0.0 ┆ 32.0         │\n",
       "│ Jaffe, 1945   ┆ plain carbon  ┆              ┆              ┆   ┆     ┆     ┆     ┆              │\n",
       "│               ┆ steel         ┆              ┆              ┆   ┆     ┆     ┆     ┆              │\n",
       "│ Hollomon and  ┆ 1,15%C -      ┆ 64.5         ┆ 86400        ┆ … ┆ 0.0 ┆ 0.0 ┆ 0.0 ┆ 23.0         │\n",
       "│ Jaffe, 1945   ┆ plain carbon  ┆              ┆              ┆   ┆     ┆     ┆     ┆              │\n",
       "│               ┆ steel         ┆              ┆              ┆   ┆     ┆     ┆     ┆              │\n",
       "│ Hollomon and  ┆ 1,15%C -      ┆ 64.5         ┆ 86400        ┆ … ┆ 0.0 ┆ 0.0 ┆ 0.0 ┆ 4.5          │\n",
       "│ Jaffe, 1945   ┆ plain carbon  ┆              ┆              ┆   ┆     ┆     ┆     ┆              │\n",
       "│               ┆ steel         ┆              ┆              ┆   ┆     ┆     ┆     ┆              │\n",
       "└───────────────┴───────────────┴──────────────┴──────────────┴───┴─────┴─────┴─────┴──────────────┘"
      ]
     },
     "execution_count": 37,
     "metadata": {},
     "output_type": "execute_result"
    }
   ],
   "source": [
    "df_clean_cnames.tail(3)\n"
   ]
  },
  {
   "cell_type": "code",
   "execution_count": 38,
   "metadata": {},
   "outputs": [
    {
     "data": {
      "text/html": [
       "<div><style>\n",
       ".dataframe > thead > tr,\n",
       ".dataframe > tbody > tr {\n",
       "  text-align: right;\n",
       "  white-space: pre-wrap;\n",
       "}\n",
       "</style>\n",
       "<small>shape: (3, 2)</small><table border=\"1\" class=\"dataframe\"><thead><tr><th>initial_hardness_post_quenching_HRC</th><th>count</th></tr><tr><td>str</td><td>u32</td></tr></thead><tbody><tr><td>&quot;?&quot;</td><td>949</td></tr><tr><td>&quot;66.5&quot;</td><td>90</td></tr><tr><td>&quot;63.1&quot;</td><td>51</td></tr></tbody></table></div>"
      ],
      "text/plain": [
       "shape: (3, 2)\n",
       "┌─────────────────────────────────┬───────┐\n",
       "│ initial_hardness_post_quenchin… ┆ count │\n",
       "│ ---                             ┆ ---   │\n",
       "│ str                             ┆ u32   │\n",
       "╞═════════════════════════════════╪═══════╡\n",
       "│ ?                               ┆ 949   │\n",
       "│ 66.5                            ┆ 90    │\n",
       "│ 63.1                            ┆ 51    │\n",
       "└─────────────────────────────────┴───────┘"
      ]
     },
     "execution_count": 38,
     "metadata": {},
     "output_type": "execute_result"
    }
   ],
   "source": [
    "df_clean_cnames[\"initial_hardness_post_quenching_HRC\"].value_counts().sort('count', descending=True).head(3)"
   ]
  },
  {
   "cell_type": "code",
   "execution_count": 39,
   "metadata": {},
   "outputs": [],
   "source": [
    "df_clean = df_clean_cnames.with_columns(pl.col('initial_hardness_post_quenching_HRC').cast(pl.Float64, strict=False))\n"
   ]
  },
  {
   "cell_type": "code",
   "execution_count": 40,
   "metadata": {},
   "outputs": [
    {
     "data": {
      "text/html": [
       "<div><style>\n",
       ".dataframe > thead > tr,\n",
       ".dataframe > tbody > tr {\n",
       "  text-align: right;\n",
       "  white-space: pre-wrap;\n",
       "}\n",
       "</style>\n",
       "<small>shape: (3, 2)</small><table border=\"1\" class=\"dataframe\"><thead><tr><th>initial_hardness_post_quenching_HRC</th><th>count</th></tr><tr><td>f64</td><td>u32</td></tr></thead><tbody><tr><td>null</td><td>949</td></tr><tr><td>66.5</td><td>90</td></tr><tr><td>55.8</td><td>51</td></tr></tbody></table></div>"
      ],
      "text/plain": [
       "shape: (3, 2)\n",
       "┌─────────────────────────────────┬───────┐\n",
       "│ initial_hardness_post_quenchin… ┆ count │\n",
       "│ ---                             ┆ ---   │\n",
       "│ f64                             ┆ u32   │\n",
       "╞═════════════════════════════════╪═══════╡\n",
       "│ null                            ┆ 949   │\n",
       "│ 66.5                            ┆ 90    │\n",
       "│ 55.8                            ┆ 51    │\n",
       "└─────────────────────────────────┴───────┘"
      ]
     },
     "execution_count": 40,
     "metadata": {},
     "output_type": "execute_result"
    }
   ],
   "source": [
    "df_clean[\"initial_hardness_post_quenching_HRC\"].value_counts().sort('count', descending=True).head(3)"
   ]
  },
  {
   "cell_type": "code",
   "execution_count": 41,
   "metadata": {},
   "outputs": [
    {
     "data": {
      "text/html": [
       "<div><style>\n",
       ".dataframe > thead > tr,\n",
       ".dataframe > tbody > tr {\n",
       "  text-align: right;\n",
       "  white-space: pre-wrap;\n",
       "}\n",
       "</style>\n",
       "<small>shape: (9, 18)</small><table border=\"1\" class=\"dataframe\"><thead><tr><th>statistic</th><th>source</th><th>steel_type</th><th>initial_hardness_post_quenching_HRC</th><th>tempering_time_s</th><th>tempering_temperature_C</th><th>C</th><th>Mn</th><th>P</th><th>S</th><th>Si</th><th>Ni</th><th>Cr</th><th>Mo</th><th>V</th><th>Al</th><th>Cu</th><th>final_hardness_post_tempering_HRC</th></tr><tr><td>str</td><td>str</td><td>str</td><td>f64</td><td>f64</td><td>f64</td><td>f64</td><td>f64</td><td>f64</td><td>f64</td><td>f64</td><td>f64</td><td>f64</td><td>f64</td><td>f64</td><td>f64</td><td>f64</td><td>f64</td></tr></thead><tbody><tr><td>&quot;count&quot;</td><td>&quot;1466&quot;</td><td>&quot;1466&quot;</td><td>517.0</td><td>1466.0</td><td>1466.0</td><td>1466.0</td><td>1466.0</td><td>1466.0</td><td>1466.0</td><td>1466.0</td><td>1466.0</td><td>1466.0</td><td>1466.0</td><td>1466.0</td><td>1466.0</td><td>1466.0</td><td>1466.0</td></tr><tr><td>&quot;null_count&quot;</td><td>&quot;0&quot;</td><td>&quot;0&quot;</td><td>949.0</td><td>0.0</td><td>0.0</td><td>0.0</td><td>0.0</td><td>0.0</td><td>0.0</td><td>0.0</td><td>0.0</td><td>0.0</td><td>0.0</td><td>0.0</td><td>0.0</td><td>0.0</td><td>0.0</td></tr><tr><td>&quot;mean&quot;</td><td>null</td><td>null</td><td>61.493617</td><td>21969.754434</td><td>422.024147</td><td>0.511583</td><td>0.74073</td><td>0.017236</td><td>0.023802</td><td>0.239379</td><td>0.362838</td><td>0.389696</td><td>0.080232</td><td>0.005457</td><td>0.034379</td><td>0.005986</td><td>41.468008</td></tr><tr><td>&quot;std&quot;</td><td>null</td><td>null</td><td>5.656383</td><td>34177.623863</td><td>176.088041</td><td>0.224354</td><td>0.252913</td><td>0.007966</td><td>0.007967</td><td>0.239193</td><td>0.810091</td><td>0.480721</td><td>0.121422</td><td>0.02905</td><td>0.20534</td><td>0.019085</td><td>14.079248</td></tr><tr><td>&quot;min&quot;</td><td>&quot;Grange and Baughman, 1956&quot;</td><td>&quot;0,31%C - plain carbon steel&quot;</td><td>46.5</td><td>10.0</td><td>100.0</td><td>0.25</td><td>0.3</td><td>0.007</td><td>0.005</td><td>0.06</td><td>0.0</td><td>0.0</td><td>0.0</td><td>0.0</td><td>0.0</td><td>0.0</td><td>0.9</td></tr><tr><td>&quot;25%&quot;</td><td>null</td><td>null</td><td>58.8</td><td>600.0</td><td>260.0</td><td>0.37</td><td>0.6</td><td>0.012</td><td>0.018</td><td>0.16</td><td>0.0</td><td>0.02</td><td>0.0</td><td>0.0</td><td>0.0</td><td>0.0</td><td>32.1</td></tr><tr><td>&quot;50%&quot;</td><td>null</td><td>null</td><td>63.1</td><td>3600.0</td><td>426.7</td><td>0.42</td><td>0.74</td><td>0.017</td><td>0.024</td><td>0.21</td><td>0.01</td><td>0.06</td><td>0.0</td><td>0.0</td><td>0.0</td><td>0.0</td><td>43.1</td></tr><tr><td>&quot;75%&quot;</td><td>null</td><td>null</td><td>66.5</td><td>14400.0</td><td>593.3</td><td>0.56</td><td>0.8</td><td>0.019</td><td>0.029</td><td>0.24</td><td>0.06</td><td>0.8</td><td>0.22</td><td>0.0</td><td>0.0</td><td>0.0</td><td>51.8</td></tr><tr><td>&quot;max&quot;</td><td>&quot;Penha, 2010&quot;</td><td>&quot;Nitriding Steel &quot;</td><td>67.0</td><td>115200.0</td><td>704.4</td><td>1.15</td><td>1.85</td><td>0.054</td><td>0.055</td><td>1.62</td><td>3.41</td><td>1.57</td><td>0.36</td><td>0.16</td><td>1.26</td><td>0.08</td><td>68.5</td></tr></tbody></table></div>"
      ],
      "text/plain": [
       "shape: (9, 18)\n",
       "┌────────────┬────────────┬───────────┬───────────┬───┬──────────┬──────────┬──────────┬───────────┐\n",
       "│ statistic  ┆ source     ┆ steel_typ ┆ initial_h ┆ … ┆ V        ┆ Al       ┆ Cu       ┆ final_har │\n",
       "│ ---        ┆ ---        ┆ e         ┆ ardness_p ┆   ┆ ---      ┆ ---      ┆ ---      ┆ dness_pos │\n",
       "│ str        ┆ str        ┆ ---       ┆ ost_quenc ┆   ┆ f64      ┆ f64      ┆ f64      ┆ t_temperi │\n",
       "│            ┆            ┆ str       ┆ hin…      ┆   ┆          ┆          ┆          ┆ ng_…      │\n",
       "│            ┆            ┆           ┆ ---       ┆   ┆          ┆          ┆          ┆ ---       │\n",
       "│            ┆            ┆           ┆ f64       ┆   ┆          ┆          ┆          ┆ f64       │\n",
       "╞════════════╪════════════╪═══════════╪═══════════╪═══╪══════════╪══════════╪══════════╪═══════════╡\n",
       "│ count      ┆ 1466       ┆ 1466      ┆ 517.0     ┆ … ┆ 1466.0   ┆ 1466.0   ┆ 1466.0   ┆ 1466.0    │\n",
       "│ null_count ┆ 0          ┆ 0         ┆ 949.0     ┆ … ┆ 0.0      ┆ 0.0      ┆ 0.0      ┆ 0.0       │\n",
       "│ mean       ┆ null       ┆ null      ┆ 61.493617 ┆ … ┆ 0.005457 ┆ 0.034379 ┆ 0.005986 ┆ 41.468008 │\n",
       "│ std        ┆ null       ┆ null      ┆ 5.656383  ┆ … ┆ 0.02905  ┆ 0.20534  ┆ 0.019085 ┆ 14.079248 │\n",
       "│ min        ┆ Grange and ┆ 0,31%C -  ┆ 46.5      ┆ … ┆ 0.0      ┆ 0.0      ┆ 0.0      ┆ 0.9       │\n",
       "│            ┆ Baughman,  ┆ plain     ┆           ┆   ┆          ┆          ┆          ┆           │\n",
       "│            ┆ 1956       ┆ carbon    ┆           ┆   ┆          ┆          ┆          ┆           │\n",
       "│            ┆            ┆ steel     ┆           ┆   ┆          ┆          ┆          ┆           │\n",
       "│ 25%        ┆ null       ┆ null      ┆ 58.8      ┆ … ┆ 0.0      ┆ 0.0      ┆ 0.0      ┆ 32.1      │\n",
       "│ 50%        ┆ null       ┆ null      ┆ 63.1      ┆ … ┆ 0.0      ┆ 0.0      ┆ 0.0      ┆ 43.1      │\n",
       "│ 75%        ┆ null       ┆ null      ┆ 66.5      ┆ … ┆ 0.0      ┆ 0.0      ┆ 0.0      ┆ 51.8      │\n",
       "│ max        ┆ Penha,     ┆ Nitriding ┆ 67.0      ┆ … ┆ 0.16     ┆ 1.26     ┆ 0.08     ┆ 68.5      │\n",
       "│            ┆ 2010       ┆ Steel     ┆           ┆   ┆          ┆          ┆          ┆           │\n",
       "└────────────┴────────────┴───────────┴───────────┴───┴──────────┴──────────┴──────────┴───────────┘"
      ]
     },
     "execution_count": 41,
     "metadata": {},
     "output_type": "execute_result"
    }
   ],
   "source": [
    "df_clean.describe()"
   ]
  },
  {
   "cell_type": "markdown",
   "metadata": {},
   "source": [
    "# Making steel types values searchable on AZoM.com\n",
    "Steel types that do not include AISI and a code are not searchable in steel databased and need manual renaming\n",
    "\n",
    "Exmaple: \"0,74%C - plain carbon steel\" is a AISI 1074 steel. Confirmed via elemental composition on https://www.azom.com/article.aspx?ArticleID=6558\n"
   ]
  },
  {
   "cell_type": "code",
   "execution_count": 42,
   "metadata": {},
   "outputs": [
    {
     "data": {
      "text/plain": [
       "(36, 2)"
      ]
     },
     "execution_count": 42,
     "metadata": {},
     "output_type": "execute_result"
    }
   ],
   "source": [
    "steel_identifiers = [\"steel_type\", \"source\"]\n",
    "df_clean[steel_identifiers].unique().shape"
   ]
  },
  {
   "cell_type": "code",
   "execution_count": 43,
   "metadata": {},
   "outputs": [],
   "source": [
    "not_searchable = df_clean[steel_identifiers].unique().filter(pl.col('steel_type').str.contains(\"AISI\").not_())\n"
   ]
  },
  {
   "cell_type": "code",
   "execution_count": 44,
   "metadata": {},
   "outputs": [],
   "source": [
    "df_not_searchable = df_clean.join(not_searchable, on=steel_identifiers, how=\"inner\")\n"
   ]
  },
  {
   "cell_type": "code",
   "execution_count": 45,
   "metadata": {},
   "outputs": [
    {
     "data": {
      "text/html": [
       "<div><style>\n",
       ".dataframe > thead > tr,\n",
       ".dataframe > tbody > tr {\n",
       "  text-align: right;\n",
       "  white-space: pre-wrap;\n",
       "}\n",
       "</style>\n",
       "<small>shape: (7, 13)</small><table border=\"1\" class=\"dataframe\"><thead><tr><th>source</th><th>steel_type</th><th>C</th><th>Mn</th><th>P</th><th>S</th><th>Si</th><th>Ni</th><th>Cr</th><th>Mo</th><th>V</th><th>Al</th><th>Cu</th></tr><tr><td>str</td><td>str</td><td>f64</td><td>f64</td><td>f64</td><td>f64</td><td>f64</td><td>f64</td><td>f64</td><td>f64</td><td>f64</td><td>f64</td><td>f64</td></tr></thead><tbody><tr><td>&quot;Hollomon and Jaffe, 1945&quot;</td><td>&quot;0,31%C - plain carbon steel&quot;</td><td>0.31</td><td>0.52</td><td>0.007</td><td>0.026</td><td>0.1</td><td>0.0</td><td>0.015</td><td>0.0</td><td>0.0</td><td>0.0</td><td>0.06</td></tr><tr><td>&quot;Hollomon and Jaffe, 1945&quot;</td><td>&quot;0,89%C - plain carbon steel&quot;</td><td>0.89</td><td>0.55</td><td>0.012</td><td>0.02</td><td>0.06</td><td>0.0</td><td>0.01</td><td>0.0</td><td>0.0</td><td>0.0</td><td>0.08</td></tr><tr><td>&quot;Hollomon and Jaffe, 1945&quot;</td><td>&quot;0,74%C - plain carbon steel&quot;</td><td>0.74</td><td>0.66</td><td>0.009</td><td>0.021</td><td>0.18</td><td>0.0</td><td>0.01</td><td>0.0</td><td>0.0</td><td>0.0</td><td>0.0</td></tr><tr><td>&quot;Hollomon and Jaffe, 1945&quot;</td><td>&quot;0,56%C - plain carbon steel&quot;</td><td>0.56</td><td>0.54</td><td>0.012</td><td>0.015</td><td>0.18</td><td>0.0</td><td>0.02</td><td>0.0</td><td>0.0</td><td>0.0</td><td>0.0</td></tr><tr><td>&quot;Grange and Baughman, 1956&quot;</td><td>&quot;Nitriding Steel &quot;</td><td>0.41</td><td>0.57</td><td>0.017</td><td>0.005</td><td>0.24</td><td>0.17</td><td>1.57</td><td>0.36</td><td>0.0</td><td>1.26</td><td>0.0</td></tr><tr><td>&quot;Hollomon and Jaffe, 1945&quot;</td><td>&quot;0,98%C - plain carbon steel&quot;</td><td>0.98</td><td>0.3</td><td>0.007</td><td>0.021</td><td>0.3</td><td>0.0</td><td>0.03</td><td>0.0</td><td>0.0</td><td>0.0</td><td>0.055</td></tr><tr><td>&quot;Hollomon and Jaffe, 1945&quot;</td><td>&quot;1,15%C - plain carbon steel&quot;</td><td>1.15</td><td>0.58</td><td>0.012</td><td>0.021</td><td>0.09</td><td>0.0</td><td>0.01</td><td>0.0</td><td>0.0</td><td>0.0</td><td>0.0</td></tr></tbody></table></div>"
      ],
      "text/plain": [
       "shape: (7, 13)\n",
       "┌──────────────────────┬─────────────────────────────┬──────┬──────┬───┬──────┬─────┬──────┬───────┐\n",
       "│ source               ┆ steel_type                  ┆ C    ┆ Mn   ┆ … ┆ Mo   ┆ V   ┆ Al   ┆ Cu    │\n",
       "│ ---                  ┆ ---                         ┆ ---  ┆ ---  ┆   ┆ ---  ┆ --- ┆ ---  ┆ ---   │\n",
       "│ str                  ┆ str                         ┆ f64  ┆ f64  ┆   ┆ f64  ┆ f64 ┆ f64  ┆ f64   │\n",
       "╞══════════════════════╪═════════════════════════════╪══════╪══════╪═══╪══════╪═════╪══════╪═══════╡\n",
       "│ Hollomon and Jaffe,  ┆ 0,31%C - plain carbon steel ┆ 0.31 ┆ 0.52 ┆ … ┆ 0.0  ┆ 0.0 ┆ 0.0  ┆ 0.06  │\n",
       "│ 1945                 ┆                             ┆      ┆      ┆   ┆      ┆     ┆      ┆       │\n",
       "│ Hollomon and Jaffe,  ┆ 0,89%C - plain carbon steel ┆ 0.89 ┆ 0.55 ┆ … ┆ 0.0  ┆ 0.0 ┆ 0.0  ┆ 0.08  │\n",
       "│ 1945                 ┆                             ┆      ┆      ┆   ┆      ┆     ┆      ┆       │\n",
       "│ Hollomon and Jaffe,  ┆ 0,74%C - plain carbon steel ┆ 0.74 ┆ 0.66 ┆ … ┆ 0.0  ┆ 0.0 ┆ 0.0  ┆ 0.0   │\n",
       "│ 1945                 ┆                             ┆      ┆      ┆   ┆      ┆     ┆      ┆       │\n",
       "│ Hollomon and Jaffe,  ┆ 0,56%C - plain carbon steel ┆ 0.56 ┆ 0.54 ┆ … ┆ 0.0  ┆ 0.0 ┆ 0.0  ┆ 0.0   │\n",
       "│ 1945                 ┆                             ┆      ┆      ┆   ┆      ┆     ┆      ┆       │\n",
       "│ Grange and Baughman, ┆ Nitriding Steel             ┆ 0.41 ┆ 0.57 ┆ … ┆ 0.36 ┆ 0.0 ┆ 1.26 ┆ 0.0   │\n",
       "│ 1956                 ┆                             ┆      ┆      ┆   ┆      ┆     ┆      ┆       │\n",
       "│ Hollomon and Jaffe,  ┆ 0,98%C - plain carbon steel ┆ 0.98 ┆ 0.3  ┆ … ┆ 0.0  ┆ 0.0 ┆ 0.0  ┆ 0.055 │\n",
       "│ 1945                 ┆                             ┆      ┆      ┆   ┆      ┆     ┆      ┆       │\n",
       "│ Hollomon and Jaffe,  ┆ 1,15%C - plain carbon steel ┆ 1.15 ┆ 0.58 ┆ … ┆ 0.0  ┆ 0.0 ┆ 0.0  ┆ 0.0   │\n",
       "│ 1945                 ┆                             ┆      ┆      ┆   ┆      ┆     ┆      ┆       │\n",
       "└──────────────────────┴─────────────────────────────┴──────┴──────┴───┴──────┴─────┴──────┴───────┘"
      ]
     },
     "execution_count": 45,
     "metadata": {},
     "output_type": "execute_result"
    }
   ],
   "source": [
    "df_not_searchable_alloy_ele = df_not_searchable.select([\"source\", \"steel_type\", \"C\", \"Mn\", \"P\", \"S\", \"Si\", \"Ni\", \"Cr\", \"Mo\", \"V\", \"Al\", \"Cu\"]).unique()\n",
    "df_not_searchable_alloy_ele"
   ]
  },
  {
   "cell_type": "code",
   "execution_count": 46,
   "metadata": {},
   "outputs": [],
   "source": [
    "dict_rename_bad = {'0,98%C - plain carbon steel': 'Non-searchable', \n",
    "                   '1,15%C - plain carbon steel': 'Non-searchable', \n",
    "                   '0,74%C - plain carbon steel': 'AISI 1074 Carbon Steel', \n",
    "                   '0,56%C - plain carbon steel': 'Non-searchable', \n",
    "                   '0,89%C - plain carbon steel': 'Non-searchable', \n",
    "                   'Nitriding Steel ': 'Non-searchable', \n",
    "                   '0,31%C - plain carbon steel': 'Non-searchable',\n",
    "                   'AISI-SAE E52100' : 'AISI 52100',\n",
    "                   \"AISI-SAE 4640\" : \"AISI 4640\",\n",
    "                   \"AISI-SAE 4047\" : \"AISI 4047\",\n",
    "                   \"AISI-SAE 1049\" : \"AISI 1049\",\n",
    "                   \"AISI-SAE 6145\" : \"AISI 6145\"}\n"
   ]
  },
  {
   "cell_type": "code",
   "execution_count": 47,
   "metadata": {},
   "outputs": [],
   "source": [
    "series_searchable_steel = df_clean['steel_type'].replace(dict_rename_bad).unique()\n",
    "series_searchable_steel = series_searchable_steel.filter(series_searchable_steel.eq('Non-searchable').not_())"
   ]
  },
  {
   "cell_type": "markdown",
   "metadata": {},
   "source": [
    "# Web Scrape for additional information"
   ]
  },
  {
   "cell_type": "code",
   "execution_count": 49,
   "metadata": {},
   "outputs": [
    {
     "data": {
      "text/html": [
       "<div><style>\n",
       ".dataframe > thead > tr,\n",
       ".dataframe > tbody > tr {\n",
       "  text-align: right;\n",
       "  white-space: pre-wrap;\n",
       "}\n",
       "</style>\n",
       "<small>shape: (29, 1)</small><table border=\"1\" class=\"dataframe\"><thead><tr><th>steel_type</th></tr><tr><td>str</td></tr></thead><tbody><tr><td>&quot;AISI 52100&quot;</td></tr><tr><td>&quot;AISI-SAE 5140&quot;</td></tr><tr><td>&quot;AISI-SAE 1065&quot;</td></tr><tr><td>&quot;AISI-SAE 1030&quot;</td></tr><tr><td>&quot;AISI-SAE 1050&quot;</td></tr><tr><td>&hellip;</td></tr><tr><td>&quot;AISI-SAE 1040&quot;</td></tr><tr><td>&quot;AISI-SAE 1038&quot;</td></tr><tr><td>&quot;AISI-SAE 2340&quot;</td></tr><tr><td>&quot;AISI 1074 Carbon Steel&quot;</td></tr><tr><td>&quot;AISI-SAE 6150&quot;</td></tr></tbody></table></div>"
      ],
      "text/plain": [
       "shape: (29, 1)\n",
       "┌────────────────────────┐\n",
       "│ steel_type             │\n",
       "│ ---                    │\n",
       "│ str                    │\n",
       "╞════════════════════════╡\n",
       "│ AISI 52100             │\n",
       "│ AISI-SAE 5140          │\n",
       "│ AISI-SAE 1065          │\n",
       "│ AISI-SAE 1030          │\n",
       "│ AISI-SAE 1050          │\n",
       "│ …                      │\n",
       "│ AISI-SAE 1040          │\n",
       "│ AISI-SAE 1038          │\n",
       "│ AISI-SAE 2340          │\n",
       "│ AISI 1074 Carbon Steel │\n",
       "│ AISI-SAE 6150          │\n",
       "└────────────────────────┘"
      ]
     },
     "execution_count": 49,
     "metadata": {},
     "output_type": "execute_result"
    }
   ],
   "source": []
  },
  {
   "cell_type": "code",
   "execution_count": null,
   "metadata": {},
   "outputs": [],
   "source": []
  }
 ],
 "metadata": {
  "kernelspec": {
   "display_name": ".venv",
   "language": "python",
   "name": "python3"
  },
  "language_info": {
   "codemirror_mode": {
    "name": "ipython",
    "version": 3
   },
   "file_extension": ".py",
   "mimetype": "text/x-python",
   "name": "python",
   "nbconvert_exporter": "python",
   "pygments_lexer": "ipython3",
   "version": "3.12.6"
  }
 },
 "nbformat": 4,
 "nbformat_minor": 2
}
