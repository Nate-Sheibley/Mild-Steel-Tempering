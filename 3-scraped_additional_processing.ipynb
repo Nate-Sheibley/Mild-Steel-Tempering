{
 "cells": [
  {
   "cell_type": "code",
   "execution_count": 1,
   "metadata": {},
   "outputs": [],
   "source": [
    "import polars as pl\n",
    "import pathlib\n",
    "import pint"
   ]
  },
  {
   "cell_type": "code",
   "execution_count": 2,
   "metadata": {},
   "outputs": [
    {
     "name": "stdout",
     "output_type": "stream",
     "text": [
      "Path is project root\n"
     ]
    }
   ],
   "source": [
    "cwd = pathlib.Path.cwd()\n",
    "\n",
    "if cwd.name == 'Mild-Steel-Tempering':\n",
    "    print(\"Path is project root\")\n",
    "else:\n",
    "    print(\"Please correct current working directory to the project root\")"
   ]
  },
  {
   "cell_type": "code",
   "execution_count": 3,
   "metadata": {},
   "outputs": [
    {
     "data": {
      "text/plain": [
       "PurePosixPath('/home/mox/Documents/coding_projects/bootcamp_local/Homeworks/Mild-Steel-Tempering/resources')"
      ]
     },
     "execution_count": 3,
     "metadata": {},
     "output_type": "execute_result"
    }
   ],
   "source": [
    "resources_path = pathlib.PurePath(pathlib.PurePath(cwd), 'resources')\n",
    "resources_path"
   ]
  },
  {
   "cell_type": "code",
   "execution_count": 4,
   "metadata": {},
   "outputs": [
    {
     "name": "stdout",
     "output_type": "stream",
     "text": [
      "Rows: 28\n",
      "Columns: 6\n",
      "$ steel           <str> 'AISI 6145', 'AISI-SAE 4027', 'AISI 1090', 'AISI 4640', 'AISI-SAE 1080', 'AISI 4047', 'AISI-SAE 1030', 'AISI-SAE 5140', 'AISI 1095', 'AISI-SAE 1050'\n",
      "$ density         <str> '7.75', '7.85', '7.85', '7.75', '7.7-8.03', '7.85', '7.85', '7.85', '7.85', '7.85'\n",
      "$ units_density   <str> 'g/cm3', 'g/cm3', 'g/cm3', 'g/cm3', 'g/cm3', 'g/cm3', 'g/cc', 'g/cm3', 'g/cm3', 'g/cm3'\n",
      "$ poissons_ratio  <str> '0.27-030', '0.27-0.30', '0.27-0.30', '0.27-030', '0.27-0.30', '0.27-0.30', '0.27-0.30', '0.27-0.30', '0.27-0.30', '0.27-0.30'\n",
      "$ elastic_modulus <f64> 7.85, 7.85, 7.85, 7.85, 7.85, 7.85, 7.85, 7.85, 7.85, 7.85\n",
      "$ units_em        <str> 'g/cm3', 'g/cm3', 'g/cm3', 'g/cm3', 'g/cm3', 'g/cm3', 'g/cm3', 'g/cm3', 'g/cm3', 'g/cm3'\n",
      "\n"
     ]
    }
   ],
   "source": [
    "data_path = f\"{resources_path}/scraped_properties.csv\"\n",
    "df_data = pl.read_csv(data_path)\n",
    "df_data.glimpse()"
   ]
  },
  {
   "cell_type": "code",
   "execution_count": null,
   "metadata": {},
   "outputs": [],
   "source": []
  }
 ],
 "metadata": {
  "kernelspec": {
   "display_name": ".venv",
   "language": "python",
   "name": "python3"
  },
  "language_info": {
   "codemirror_mode": {
    "name": "ipython",
    "version": 3
   },
   "file_extension": ".py",
   "mimetype": "text/x-python",
   "name": "python",
   "nbconvert_exporter": "python",
   "pygments_lexer": "ipython3",
   "version": "3.12.6"
  }
 },
 "nbformat": 4,
 "nbformat_minor": 2
}
