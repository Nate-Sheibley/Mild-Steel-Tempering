{
 "cells": [
  {
   "cell_type": "code",
   "execution_count": 1,
   "metadata": {},
   "outputs": [
    {
     "name": "stdout",
     "output_type": "stream",
     "text": [
      "Requirement already satisfied: polars in ./.venv/lib/python3.12/site-packages (1.9.0)\n",
      "Requirement already satisfied: beautifulsoup4 in ./.venv/lib/python3.12/site-packages (4.12.3)\n",
      "Requirement already satisfied: splinter in ./.venv/lib/python3.12/site-packages (0.21.0)\n",
      "Requirement already satisfied: selenium in ./.venv/lib/python3.12/site-packages (4.25.0)\n",
      "Requirement already satisfied: scikit-learn in ./.venv/lib/python3.12/site-packages (1.5.2)\n",
      "Requirement already satisfied: altair in ./.venv/lib/python3.12/site-packages (5.4.1)\n",
      "Requirement already satisfied: vl-convert-python in ./.venv/lib/python3.12/site-packages (1.7.0)\n",
      "Requirement already satisfied: tensorflow in ./.venv/lib/python3.12/site-packages (2.17.0)\n",
      "Requirement already satisfied: keras-tuner in ./.venv/lib/python3.12/site-packages (1.4.7)\n",
      "Requirement already satisfied: pandas in ./.venv/lib/python3.12/site-packages (2.2.3)\n",
      "Requirement already satisfied: soupsieve>1.2 in ./.venv/lib/python3.12/site-packages (from beautifulsoup4) (2.6)\n",
      "Requirement already satisfied: urllib3<3.0,>=1.26.14 in ./.venv/lib/python3.12/site-packages (from splinter) (2.2.3)\n",
      "Requirement already satisfied: trio~=0.17 in ./.venv/lib/python3.12/site-packages (from selenium) (0.26.2)\n",
      "Requirement already satisfied: trio-websocket~=0.9 in ./.venv/lib/python3.12/site-packages (from selenium) (0.11.1)\n",
      "Requirement already satisfied: certifi>=2021.10.8 in ./.venv/lib/python3.12/site-packages (from selenium) (2024.8.30)\n",
      "Requirement already satisfied: typing_extensions~=4.9 in ./.venv/lib/python3.12/site-packages (from selenium) (4.12.2)\n",
      "Requirement already satisfied: websocket-client~=1.8 in ./.venv/lib/python3.12/site-packages (from selenium) (1.8.0)\n",
      "Requirement already satisfied: numpy>=1.19.5 in ./.venv/lib/python3.12/site-packages (from scikit-learn) (1.26.4)\n",
      "Requirement already satisfied: scipy>=1.6.0 in ./.venv/lib/python3.12/site-packages (from scikit-learn) (1.14.1)\n",
      "Requirement already satisfied: joblib>=1.2.0 in ./.venv/lib/python3.12/site-packages (from scikit-learn) (1.4.2)\n",
      "Requirement already satisfied: threadpoolctl>=3.1.0 in ./.venv/lib/python3.12/site-packages (from scikit-learn) (3.5.0)\n",
      "Requirement already satisfied: jinja2 in ./.venv/lib/python3.12/site-packages (from altair) (3.1.4)\n",
      "Requirement already satisfied: jsonschema>=3.0 in ./.venv/lib/python3.12/site-packages (from altair) (4.23.0)\n",
      "Requirement already satisfied: narwhals>=1.5.2 in ./.venv/lib/python3.12/site-packages (from altair) (1.9.3)\n",
      "Requirement already satisfied: packaging in ./.venv/lib/python3.12/site-packages (from altair) (24.1)\n",
      "Requirement already satisfied: absl-py>=1.0.0 in ./.venv/lib/python3.12/site-packages (from tensorflow) (2.1.0)\n",
      "Requirement already satisfied: astunparse>=1.6.0 in ./.venv/lib/python3.12/site-packages (from tensorflow) (1.6.3)\n",
      "Requirement already satisfied: flatbuffers>=24.3.25 in ./.venv/lib/python3.12/site-packages (from tensorflow) (24.3.25)\n",
      "Requirement already satisfied: gast!=0.5.0,!=0.5.1,!=0.5.2,>=0.2.1 in ./.venv/lib/python3.12/site-packages (from tensorflow) (0.6.0)\n",
      "Requirement already satisfied: google-pasta>=0.1.1 in ./.venv/lib/python3.12/site-packages (from tensorflow) (0.2.0)\n",
      "Requirement already satisfied: h5py>=3.10.0 in ./.venv/lib/python3.12/site-packages (from tensorflow) (3.12.1)\n",
      "Requirement already satisfied: libclang>=13.0.0 in ./.venv/lib/python3.12/site-packages (from tensorflow) (18.1.1)\n",
      "Requirement already satisfied: ml-dtypes<0.5.0,>=0.3.1 in ./.venv/lib/python3.12/site-packages (from tensorflow) (0.4.1)\n",
      "Requirement already satisfied: opt-einsum>=2.3.2 in ./.venv/lib/python3.12/site-packages (from tensorflow) (3.4.0)\n",
      "Requirement already satisfied: protobuf!=4.21.0,!=4.21.1,!=4.21.2,!=4.21.3,!=4.21.4,!=4.21.5,<5.0.0dev,>=3.20.3 in ./.venv/lib/python3.12/site-packages (from tensorflow) (4.25.5)\n",
      "Requirement already satisfied: requests<3,>=2.21.0 in ./.venv/lib/python3.12/site-packages (from tensorflow) (2.32.3)\n",
      "Requirement already satisfied: setuptools in ./.venv/lib/python3.12/site-packages (from tensorflow) (75.1.0)\n",
      "Requirement already satisfied: six>=1.12.0 in ./.venv/lib/python3.12/site-packages (from tensorflow) (1.16.0)\n",
      "Requirement already satisfied: termcolor>=1.1.0 in ./.venv/lib/python3.12/site-packages (from tensorflow) (2.5.0)\n",
      "Requirement already satisfied: wrapt>=1.11.0 in ./.venv/lib/python3.12/site-packages (from tensorflow) (1.16.0)\n",
      "Requirement already satisfied: grpcio<2.0,>=1.24.3 in ./.venv/lib/python3.12/site-packages (from tensorflow) (1.66.2)\n",
      "Requirement already satisfied: tensorboard<2.18,>=2.17 in ./.venv/lib/python3.12/site-packages (from tensorflow) (2.17.1)\n",
      "Requirement already satisfied: keras>=3.2.0 in ./.venv/lib/python3.12/site-packages (from tensorflow) (3.6.0)\n",
      "Requirement already satisfied: kt-legacy in ./.venv/lib/python3.12/site-packages (from keras-tuner) (1.0.5)\n",
      "Requirement already satisfied: python-dateutil>=2.8.2 in ./.venv/lib/python3.12/site-packages (from pandas) (2.9.0.post0)\n",
      "Requirement already satisfied: pytz>=2020.1 in ./.venv/lib/python3.12/site-packages (from pandas) (2024.2)\n",
      "Requirement already satisfied: tzdata>=2022.7 in ./.venv/lib/python3.12/site-packages (from pandas) (2024.2)\n",
      "Requirement already satisfied: wheel<1.0,>=0.23.0 in ./.venv/lib/python3.12/site-packages (from astunparse>=1.6.0->tensorflow) (0.44.0)\n",
      "Requirement already satisfied: attrs>=22.2.0 in ./.venv/lib/python3.12/site-packages (from jsonschema>=3.0->altair) (24.2.0)\n",
      "Requirement already satisfied: jsonschema-specifications>=2023.03.6 in ./.venv/lib/python3.12/site-packages (from jsonschema>=3.0->altair) (2024.10.1)\n",
      "Requirement already satisfied: referencing>=0.28.4 in ./.venv/lib/python3.12/site-packages (from jsonschema>=3.0->altair) (0.35.1)\n",
      "Requirement already satisfied: rpds-py>=0.7.1 in ./.venv/lib/python3.12/site-packages (from jsonschema>=3.0->altair) (0.20.0)\n",
      "Requirement already satisfied: rich in ./.venv/lib/python3.12/site-packages (from keras>=3.2.0->tensorflow) (13.9.2)\n",
      "Requirement already satisfied: namex in ./.venv/lib/python3.12/site-packages (from keras>=3.2.0->tensorflow) (0.0.8)\n",
      "Requirement already satisfied: optree in ./.venv/lib/python3.12/site-packages (from keras>=3.2.0->tensorflow) (0.13.0)\n",
      "Requirement already satisfied: charset-normalizer<4,>=2 in ./.venv/lib/python3.12/site-packages (from requests<3,>=2.21.0->tensorflow) (3.4.0)\n",
      "Requirement already satisfied: idna<4,>=2.5 in ./.venv/lib/python3.12/site-packages (from requests<3,>=2.21.0->tensorflow) (3.10)\n",
      "Requirement already satisfied: markdown>=2.6.8 in ./.venv/lib/python3.12/site-packages (from tensorboard<2.18,>=2.17->tensorflow) (3.7)\n",
      "Requirement already satisfied: tensorboard-data-server<0.8.0,>=0.7.0 in ./.venv/lib/python3.12/site-packages (from tensorboard<2.18,>=2.17->tensorflow) (0.7.2)\n",
      "Requirement already satisfied: werkzeug>=1.0.1 in ./.venv/lib/python3.12/site-packages (from tensorboard<2.18,>=2.17->tensorflow) (3.0.4)\n",
      "Requirement already satisfied: sortedcontainers in ./.venv/lib/python3.12/site-packages (from trio~=0.17->selenium) (2.4.0)\n",
      "Requirement already satisfied: outcome in ./.venv/lib/python3.12/site-packages (from trio~=0.17->selenium) (1.3.0.post0)\n",
      "Requirement already satisfied: sniffio>=1.3.0 in ./.venv/lib/python3.12/site-packages (from trio~=0.17->selenium) (1.3.1)\n",
      "Requirement already satisfied: wsproto>=0.14 in ./.venv/lib/python3.12/site-packages (from trio-websocket~=0.9->selenium) (1.2.0)\n",
      "Requirement already satisfied: pysocks!=1.5.7,<2.0,>=1.5.6 in ./.venv/lib/python3.12/site-packages (from urllib3[socks]<3,>=1.26->selenium) (1.7.1)\n",
      "Requirement already satisfied: MarkupSafe>=2.0 in ./.venv/lib/python3.12/site-packages (from jinja2->altair) (3.0.1)\n",
      "Requirement already satisfied: h11<1,>=0.9.0 in ./.venv/lib/python3.12/site-packages (from wsproto>=0.14->trio-websocket~=0.9->selenium) (0.14.0)\n",
      "Requirement already satisfied: markdown-it-py>=2.2.0 in ./.venv/lib/python3.12/site-packages (from rich->keras>=3.2.0->tensorflow) (3.0.0)\n",
      "Requirement already satisfied: pygments<3.0.0,>=2.13.0 in ./.venv/lib/python3.12/site-packages (from rich->keras>=3.2.0->tensorflow) (2.18.0)\n",
      "Requirement already satisfied: mdurl~=0.1 in ./.venv/lib/python3.12/site-packages (from markdown-it-py>=2.2.0->rich->keras>=3.2.0->tensorflow) (0.1.2)\n"
     ]
    }
   ],
   "source": [
    "!pip install polars beautifulsoup4 splinter selenium scikit-learn altair vl-convert-python tensorflow keras-tuner pandas"
   ]
  },
  {
   "cell_type": "code",
   "execution_count": 2,
   "metadata": {
    "notebookRunGroups": {
     "groupValue": "2"
    }
   },
   "outputs": [
    {
     "name": "stderr",
     "output_type": "stream",
     "text": [
      "2024-10-13 17:32:38.117584: I tensorflow/core/util/port.cc:153] oneDNN custom operations are on. You may see slightly different numerical results due to floating-point round-off errors from different computation orders. To turn them off, set the environment variable `TF_ENABLE_ONEDNN_OPTS=0`.\n",
      "2024-10-13 17:32:38.118103: I external/local_xla/xla/tsl/cuda/cudart_stub.cc:32] Could not find cuda drivers on your machine, GPU will not be used.\n",
      "2024-10-13 17:32:38.119912: I external/local_xla/xla/tsl/cuda/cudart_stub.cc:32] Could not find cuda drivers on your machine, GPU will not be used.\n",
      "2024-10-13 17:32:38.125160: E external/local_xla/xla/stream_executor/cuda/cuda_fft.cc:485] Unable to register cuFFT factory: Attempting to register factory for plugin cuFFT when one has already been registered\n",
      "2024-10-13 17:32:38.133907: E external/local_xla/xla/stream_executor/cuda/cuda_dnn.cc:8454] Unable to register cuDNN factory: Attempting to register factory for plugin cuDNN when one has already been registered\n",
      "2024-10-13 17:32:38.136404: E external/local_xla/xla/stream_executor/cuda/cuda_blas.cc:1452] Unable to register cuBLAS factory: Attempting to register factory for plugin cuBLAS when one has already been registered\n",
      "2024-10-13 17:32:38.143198: I tensorflow/core/platform/cpu_feature_guard.cc:210] This TensorFlow binary is optimized to use available CPU instructions in performance-critical operations.\n",
      "To enable the following instructions: AVX2 AVX_VNNI FMA, in other operations, rebuild TensorFlow with the appropriate compiler flags.\n",
      "2024-10-13 17:32:38.633965: W tensorflow/compiler/tf2tensorrt/utils/py_utils.cc:38] TF-TRT Warning: Could not find TensorRT\n"
     ]
    }
   ],
   "source": [
    "#Data Manipulation and display toools\n",
    "import polars as pl\n",
    "from polars.exceptions import InvalidOperationError\n",
    "import altair as alt\n",
    "import numpy as np\n",
    "import pathlib\n",
    "\n",
    "from IPython.display import display_html \n",
    "#Necessary for tensorflow on my machine due to distutils being depreciated\n",
    "\n",
    "# Data preprocessing tools\n",
    "from sklearn.preprocessing import StandardScaler, OneHotEncoder\n",
    "from sklearn.model_selection import train_test_split\n",
    "from sklearn.decomposition import PCA\n",
    "\n",
    "# Machine learning tools\n",
    "from sklearn.ensemble import GradientBoostingRegressor\n",
    "from sklearn.metrics import r2_score\n",
    "\n",
    "#Necessary for tensorflow on my machine due to distutils being depreciated\n",
    "import setuptools\n",
    "import tensorflow as tf\n",
    "from tensorflow.keras.layers import Dense\n",
    "from tensorflow.keras import Sequential\n",
    "import keras_tuner as kt\n",
    "\n",
    "random_state = 2112250415"
   ]
  },
  {
   "cell_type": "markdown",
   "metadata": {},
   "source": [
    "# Loading Data"
   ]
  },
  {
   "cell_type": "code",
   "execution_count": 3,
   "metadata": {
    "notebookRunGroups": {
     "groupValue": "2"
    }
   },
   "outputs": [
    {
     "name": "stdout",
     "output_type": "stream",
     "text": [
      "Path is project root\n"
     ]
    }
   ],
   "source": [
    "cwd = pathlib.Path.cwd()\n",
    "\n",
    "if cwd.name == 'Mild-Steel-Tempering':\n",
    "    print(\"Path is project root\")\n",
    "else:\n",
    "    print(\"Please correct current working directory to the project root\")\n"
   ]
  },
  {
   "cell_type": "code",
   "execution_count": 4,
   "metadata": {
    "notebookRunGroups": {
     "groupValue": "2"
    }
   },
   "outputs": [
    {
     "data": {
      "text/plain": [
       "PurePosixPath('/home/mox/Documents/coding_projects/bootcamp_local/Homeworks/Mild-Steel-Tempering/resources/pred_hardness')"
      ]
     },
     "execution_count": 4,
     "metadata": {},
     "output_type": "execute_result"
    }
   ],
   "source": [
    "resources_path = pathlib.PurePath(pathlib.PurePath(cwd), 'resources', 'pred_hardness')\n",
    "resources_path"
   ]
  },
  {
   "cell_type": "code",
   "execution_count": 5,
   "metadata": {
    "notebookRunGroups": {
     "groupValue": "2"
    }
   },
   "outputs": [
    {
     "data": {
      "text/plain": [
       "PurePosixPath('/home/mox/Documents/coding_projects/bootcamp_local/Homeworks/Mild-Steel-Tempering/images/pred_hardness')"
      ]
     },
     "execution_count": 5,
     "metadata": {},
     "output_type": "execute_result"
    }
   ],
   "source": [
    "images_path = pathlib.PurePath(pathlib.PurePath(cwd), 'images', 'pred_hardness')\n",
    "images_path"
   ]
  },
  {
   "cell_type": "markdown",
   "metadata": {},
   "source": [
    "# Loading Scraped data from the other file"
   ]
  },
  {
   "cell_type": "code",
   "execution_count": 370,
   "metadata": {},
   "outputs": [],
   "source": [
    "data = pl.read_csv(f'{resources_path.parent}/all_cols_post_scrape.csv')\n",
    "data.shape"
   ]
  },
  {
   "cell_type": "code",
   "execution_count": 371,
   "metadata": {},
   "outputs": [
    {
     "data": {
      "text/plain": [
       "(1286, 20)"
      ]
     },
     "execution_count": 371,
     "metadata": {},
     "output_type": "execute_result"
    }
   ],
   "source": [
    "data.tail(3)"
   ]
  },
  {
   "cell_type": "markdown",
   "metadata": {},
   "source": [
    "# Select columns that have relevant data for the analysis\n",
    "\n",
    "Exclude:\n",
    "* Source data - does not provide information about the problem\n",
    "* initial hardness - very incomplete data and no accurate way to fill it\n",
    "* searchable -  contains more information than searchable, but is likely relipcated in elemental\n",
    "  * Searchable contains fewer values, this grouping was used to scrape the strength values and contains no additional information\n",
    "  * steel_type contains steel denotation from the papers. The informationa in this column is replicated in the elemental composition columns\n",
    "  * PCA will handle this\n"
   ]
  },
  {
   "cell_type": "code",
   "execution_count": 372,
   "metadata": {},
   "outputs": [
    {
     "data": {
      "text/plain": [
       "['steel_type',\n",
       " 'tempering_time_s',\n",
       " 'tempering_temperature_C',\n",
       " 'C',\n",
       " 'Mn',\n",
       " 'P',\n",
       " 'S',\n",
       " 'Si',\n",
       " 'Ni',\n",
       " 'Cr',\n",
       " 'Mo',\n",
       " 'V',\n",
       " 'Al',\n",
       " 'Cu',\n",
       " 'final_hardness_post_tempering_HRC',\n",
       " 'yield_strength_MPa',\n",
       " 'ultimate_strength_MPA']"
      ]
     },
     "execution_count": 372,
     "metadata": {},
     "output_type": "execute_result"
    }
   ],
   "source": [
    "df_relevent = data.drop(['source', 'searchable', 'initial_hardness_post_quenching_HRC'])\n",
    "df_relevent.columns"
   ]
  },
  {
   "cell_type": "markdown",
   "metadata": {},
   "source": [
    "# Preprocessing the data for machine learning"
   ]
  },
  {
   "cell_type": "code",
   "execution_count": 373,
   "metadata": {},
   "outputs": [],
   "source": [
    "target_columns = ['final_hardness_post_tempering_HRC']\n",
    "\n",
    "X_prepre = df_relevent.drop(target_columns)\n",
    "\n",
    "y_prepre = df_relevent.select(target_columns)"
   ]
  },
  {
   "cell_type": "code",
   "execution_count": 374,
   "metadata": {},
   "outputs": [
    {
     "data": {
      "text/html": [
       "<div><style>\n",
       ".dataframe > thead > tr,\n",
       ".dataframe > tbody > tr {\n",
       "  text-align: right;\n",
       "  white-space: pre-wrap;\n",
       "}\n",
       "</style>\n",
       "<small>shape: (3, 1)</small><table border=\"1\" class=\"dataframe\"><thead><tr><th>final_hardness_post_tempering_HRC</th></tr><tr><td>f64</td></tr></thead><tbody><tr><td>50.6</td></tr><tr><td>48.3</td></tr><tr><td>43.7</td></tr></tbody></table></div>"
      ],
      "text/plain": [
       "shape: (3, 1)\n",
       "┌─────────────────────────────────┐\n",
       "│ final_hardness_post_tempering_… │\n",
       "│ ---                             │\n",
       "│ f64                             │\n",
       "╞═════════════════════════════════╡\n",
       "│ 50.6                            │\n",
       "│ 48.3                            │\n",
       "│ 43.7                            │\n",
       "└─────────────────────────────────┘"
      ]
     },
     "execution_count": 374,
     "metadata": {},
     "output_type": "execute_result"
    }
   ],
   "source": [
    "y_prepre.head(3)"
   ]
  },
  {
   "cell_type": "code",
   "execution_count": 375,
   "metadata": {},
   "outputs": [
    {
     "data": {
      "text/html": [
       "<div><style>\n",
       ".dataframe > thead > tr,\n",
       ".dataframe > tbody > tr {\n",
       "  text-align: right;\n",
       "  white-space: pre-wrap;\n",
       "}\n",
       "</style>\n",
       "<small>shape: (9, 2)</small><table border=\"1\" class=\"dataframe\"><thead><tr><th>statistic</th><th>final_hardness_post_tempering_HRC</th></tr><tr><td>str</td><td>f64</td></tr></thead><tbody><tr><td>&quot;count&quot;</td><td>1286.0</td></tr><tr><td>&quot;null_count&quot;</td><td>0.0</td></tr><tr><td>&quot;mean&quot;</td><td>41.810653</td></tr><tr><td>&quot;std&quot;</td><td>14.373455</td></tr><tr><td>&quot;min&quot;</td><td>0.9</td></tr><tr><td>&quot;25%&quot;</td><td>32.5</td></tr><tr><td>&quot;50%&quot;</td><td>43.6</td></tr><tr><td>&quot;75%&quot;</td><td>52.3</td></tr><tr><td>&quot;max&quot;</td><td>68.5</td></tr></tbody></table></div>"
      ],
      "text/plain": [
       "shape: (9, 2)\n",
       "┌────────────┬─────────────────────────────────┐\n",
       "│ statistic  ┆ final_hardness_post_tempering_… │\n",
       "│ ---        ┆ ---                             │\n",
       "│ str        ┆ f64                             │\n",
       "╞════════════╪═════════════════════════════════╡\n",
       "│ count      ┆ 1286.0                          │\n",
       "│ null_count ┆ 0.0                             │\n",
       "│ mean       ┆ 41.810653                       │\n",
       "│ std        ┆ 14.373455                       │\n",
       "│ min        ┆ 0.9                             │\n",
       "│ 25%        ┆ 32.5                            │\n",
       "│ 50%        ┆ 43.6                            │\n",
       "│ 75%        ┆ 52.3                            │\n",
       "│ max        ┆ 68.5                            │\n",
       "└────────────┴─────────────────────────────────┘"
      ]
     },
     "execution_count": 375,
     "metadata": {},
     "output_type": "execute_result"
    }
   ],
   "source": [
    "y_prepre.describe()"
   ]
  },
  {
   "cell_type": "markdown",
   "metadata": {},
   "source": [
    "# Preprocess target values\n",
    "\n",
    "Target values are continuious.\n",
    "\n",
    "TODO: determine preprocessing, if any. Test effects of scaling vs not."
   ]
  },
  {
   "cell_type": "code",
   "execution_count": 376,
   "metadata": {},
   "outputs": [],
   "source": [
    "y_scaler = StandardScaler()\n",
    "\n",
    "y_scaler.fit(y_prepre)\n",
    "\n",
    "y = y_scaler.transform(y_prepre)"
   ]
  },
  {
   "cell_type": "markdown",
   "metadata": {},
   "source": [
    "# Preprocess data values"
   ]
  },
  {
   "cell_type": "code",
   "execution_count": 377,
   "metadata": {},
   "outputs": [
    {
     "name": "stdout",
     "output_type": "stream",
     "text": [
      "(1286, 16)\n"
     ]
    },
    {
     "data": {
      "text/html": [
       "<div><style>\n",
       ".dataframe > thead > tr,\n",
       ".dataframe > tbody > tr {\n",
       "  text-align: right;\n",
       "  white-space: pre-wrap;\n",
       "}\n",
       "</style>\n",
       "<small>shape: (3, 16)</small><table border=\"1\" class=\"dataframe\"><thead><tr><th>steel_type</th><th>tempering_time_s</th><th>tempering_temperature_C</th><th>C</th><th>Mn</th><th>P</th><th>S</th><th>Si</th><th>Ni</th><th>Cr</th><th>Mo</th><th>V</th><th>Al</th><th>Cu</th><th>yield_strength_MPa</th><th>ultimate_strength_MPA</th></tr><tr><td>str</td><td>i64</td><td>f64</td><td>f64</td><td>f64</td><td>f64</td><td>f64</td><td>f64</td><td>f64</td><td>f64</td><td>f64</td><td>f64</td><td>f64</td><td>f64</td><td>i64</td><td>i64</td></tr></thead><tbody><tr><td>&quot;AISI-SAE 1026&quot;</td><td>600</td><td>204.4</td><td>0.25</td><td>0.79</td><td>0.012</td><td>0.026</td><td>0.11</td><td>0.0</td><td>0.0</td><td>0.0</td><td>0.0</td><td>0.0</td><td>0.0</td><td>415</td><td>490</td></tr><tr><td>&quot;AISI-SAE 1026&quot;</td><td>600</td><td>260.0</td><td>0.25</td><td>0.79</td><td>0.012</td><td>0.026</td><td>0.11</td><td>0.0</td><td>0.0</td><td>0.0</td><td>0.0</td><td>0.0</td><td>0.0</td><td>415</td><td>490</td></tr><tr><td>&quot;AISI-SAE 1026&quot;</td><td>600</td><td>315.6</td><td>0.25</td><td>0.79</td><td>0.012</td><td>0.026</td><td>0.11</td><td>0.0</td><td>0.0</td><td>0.0</td><td>0.0</td><td>0.0</td><td>0.0</td><td>415</td><td>490</td></tr></tbody></table></div>"
      ],
      "text/plain": [
       "shape: (3, 16)\n",
       "┌───────────────┬──────────────┬──────────────┬──────┬───┬─────┬─────┬──────────────┬──────────────┐\n",
       "│ steel_type    ┆ tempering_ti ┆ tempering_te ┆ C    ┆ … ┆ Al  ┆ Cu  ┆ yield_streng ┆ ultimate_str │\n",
       "│ ---           ┆ me_s         ┆ mperature_C  ┆ ---  ┆   ┆ --- ┆ --- ┆ th_MPa       ┆ ength_MPA    │\n",
       "│ str           ┆ ---          ┆ ---          ┆ f64  ┆   ┆ f64 ┆ f64 ┆ ---          ┆ ---          │\n",
       "│               ┆ i64          ┆ f64          ┆      ┆   ┆     ┆     ┆ i64          ┆ i64          │\n",
       "╞═══════════════╪══════════════╪══════════════╪══════╪═══╪═════╪═════╪══════════════╪══════════════╡\n",
       "│ AISI-SAE 1026 ┆ 600          ┆ 204.4        ┆ 0.25 ┆ … ┆ 0.0 ┆ 0.0 ┆ 415          ┆ 490          │\n",
       "│ AISI-SAE 1026 ┆ 600          ┆ 260.0        ┆ 0.25 ┆ … ┆ 0.0 ┆ 0.0 ┆ 415          ┆ 490          │\n",
       "│ AISI-SAE 1026 ┆ 600          ┆ 315.6        ┆ 0.25 ┆ … ┆ 0.0 ┆ 0.0 ┆ 415          ┆ 490          │\n",
       "└───────────────┴──────────────┴──────────────┴──────┴───┴─────┴─────┴──────────────┴──────────────┘"
      ]
     },
     "execution_count": 377,
     "metadata": {},
     "output_type": "execute_result"
    }
   ],
   "source": [
    "print(X_prepre.shape)\n",
    "X_prepre.head(3)"
   ]
  },
  {
   "cell_type": "markdown",
   "metadata": {},
   "source": [
    "# Encode and scale variables\n",
    "Most columns are numeric and range from 0.0# to 1000 so scaling is necessary\n",
    "steel names are categorical and would benefit from one-hot encoding."
   ]
  },
  {
   "cell_type": "code",
   "execution_count": 378,
   "metadata": {},
   "outputs": [],
   "source": [
    "to_scale = X_prepre.drop('steel_type')\n",
    "check_onehot = X_prepre.select('steel_type')"
   ]
  },
  {
   "cell_type": "markdown",
   "metadata": {},
   "source": [
    "## One hot encode steel types\n",
    "\n",
    "Encoding chosen because this is a categorical for a given material and testing suite"
   ]
  },
  {
   "cell_type": "markdown",
   "metadata": {},
   "source": [
    "### Unify steel names so there is only 1 column per steel code"
   ]
  },
  {
   "cell_type": "code",
   "execution_count": 379,
   "metadata": {},
   "outputs": [
    {
     "name": "stdout",
     "output_type": "stream",
     "text": [
      "30\n",
      "AISI 6145\n",
      "AISI-SAE 1035\n",
      "AISI 1074 Carbon Steel\n",
      "AISI-SAE 5140\n",
      "AISI-SAE 4140\n",
      "AISI 1090\n",
      "AISI-SAE 1080\n",
      "AISI-SAE 1038\n",
      "AISI 52100\n",
      "AISI-SAE 4027\n",
      "AISI 1055\n",
      "AISI-SAE 1040\n",
      "AISI 4047\n",
      "AISI 4640\n",
      "AISI-SAE 5160\n",
      "AISI-SAE 1050\n",
      "AISI-SAE 1065\n",
      "AISI-SAE 6150\n",
      "AISI-SAE 4340\n",
      "AISI-SAE 9254\n",
      "AISI-SAE 1335\n",
      "AISI-SAE 1042\n",
      "AISI 1049\n",
      "AISI-SAE 4037\n",
      "AISI 1030\n",
      "AISI 1095\n",
      "AISI-SAE 1026\n",
      "AISI-SAE 1045\n",
      "28\n"
     ]
    }
   ],
   "source": [
    "print(len(check_onehot.unique()))\n",
    "# correct duplicate name \n",
    "dict_rename.update({'AISI-SAE 1030': \"AISI 1030\"})\n",
    "to_onehot = check_onehot['steel_type']\\\n",
    "    .replace(dict_rename)\\\n",
    "    .str.strip_chars()\n",
    "[print(val) for val in to_onehot.unique()]\n",
    "print(len(to_onehot.unique()))"
   ]
  },
  {
   "cell_type": "code",
   "execution_count": 380,
   "metadata": {},
   "outputs": [
    {
     "data": {
      "text/plain": [
       "(1286, 1)"
      ]
     },
     "execution_count": 380,
     "metadata": {},
     "output_type": "execute_result"
    }
   ],
   "source": [
    "to_onehot = pl.DataFrame(to_onehot)\n",
    "to_onehot.shape"
   ]
  },
  {
   "cell_type": "code",
   "execution_count": 381,
   "metadata": {},
   "outputs": [
    {
     "data": {
      "text/html": [
       "<div><style>\n",
       ".dataframe > thead > tr,\n",
       ".dataframe > tbody > tr {\n",
       "  text-align: right;\n",
       "  white-space: pre-wrap;\n",
       "}\n",
       "</style>\n",
       "<small>shape: (3, 28)</small><table border=\"1\" class=\"dataframe\"><thead><tr><th>steel_type_AISI 1030</th><th>steel_type_AISI 1049</th><th>steel_type_AISI 1055</th><th>steel_type_AISI 1074 Carbon Steel</th><th>steel_type_AISI 1090</th><th>steel_type_AISI 1095</th><th>steel_type_AISI 4047</th><th>steel_type_AISI 4640</th><th>steel_type_AISI 52100</th><th>steel_type_AISI 6145</th><th>steel_type_AISI-SAE 1026</th><th>steel_type_AISI-SAE 1035</th><th>steel_type_AISI-SAE 1038</th><th>steel_type_AISI-SAE 1040</th><th>steel_type_AISI-SAE 1042</th><th>steel_type_AISI-SAE 1045</th><th>steel_type_AISI-SAE 1050</th><th>steel_type_AISI-SAE 1065</th><th>steel_type_AISI-SAE 1080</th><th>steel_type_AISI-SAE 1335</th><th>steel_type_AISI-SAE 4027</th><th>steel_type_AISI-SAE 4037</th><th>steel_type_AISI-SAE 4140</th><th>steel_type_AISI-SAE 4340</th><th>steel_type_AISI-SAE 5140</th><th>steel_type_AISI-SAE 5160</th><th>steel_type_AISI-SAE 6150</th><th>steel_type_AISI-SAE 9254</th></tr><tr><td>f64</td><td>f64</td><td>f64</td><td>f64</td><td>f64</td><td>f64</td><td>f64</td><td>f64</td><td>f64</td><td>f64</td><td>f64</td><td>f64</td><td>f64</td><td>f64</td><td>f64</td><td>f64</td><td>f64</td><td>f64</td><td>f64</td><td>f64</td><td>f64</td><td>f64</td><td>f64</td><td>f64</td><td>f64</td><td>f64</td><td>f64</td><td>f64</td></tr></thead><tbody><tr><td>0.0</td><td>0.0</td><td>0.0</td><td>0.0</td><td>0.0</td><td>1.0</td><td>0.0</td><td>0.0</td><td>0.0</td><td>0.0</td><td>0.0</td><td>0.0</td><td>0.0</td><td>0.0</td><td>0.0</td><td>0.0</td><td>0.0</td><td>0.0</td><td>0.0</td><td>0.0</td><td>0.0</td><td>0.0</td><td>0.0</td><td>0.0</td><td>0.0</td><td>0.0</td><td>0.0</td><td>0.0</td></tr><tr><td>0.0</td><td>0.0</td><td>0.0</td><td>0.0</td><td>0.0</td><td>1.0</td><td>0.0</td><td>0.0</td><td>0.0</td><td>0.0</td><td>0.0</td><td>0.0</td><td>0.0</td><td>0.0</td><td>0.0</td><td>0.0</td><td>0.0</td><td>0.0</td><td>0.0</td><td>0.0</td><td>0.0</td><td>0.0</td><td>0.0</td><td>0.0</td><td>0.0</td><td>0.0</td><td>0.0</td><td>0.0</td></tr><tr><td>0.0</td><td>0.0</td><td>0.0</td><td>0.0</td><td>0.0</td><td>1.0</td><td>0.0</td><td>0.0</td><td>0.0</td><td>0.0</td><td>0.0</td><td>0.0</td><td>0.0</td><td>0.0</td><td>0.0</td><td>0.0</td><td>0.0</td><td>0.0</td><td>0.0</td><td>0.0</td><td>0.0</td><td>0.0</td><td>0.0</td><td>0.0</td><td>0.0</td><td>0.0</td><td>0.0</td><td>0.0</td></tr></tbody></table></div>"
      ],
      "text/plain": [
       "shape: (3, 28)\n",
       "┌───────────┬───────────┬───────────┬───────────┬───┬───────────┬───────────┬───────────┬──────────┐\n",
       "│ steel_typ ┆ steel_typ ┆ steel_typ ┆ steel_typ ┆ … ┆ steel_typ ┆ steel_typ ┆ steel_typ ┆ steel_ty │\n",
       "│ e_AISI    ┆ e_AISI    ┆ e_AISI    ┆ e_AISI    ┆   ┆ e_AISI-SA ┆ e_AISI-SA ┆ e_AISI-SA ┆ pe_AISI- │\n",
       "│ 1030      ┆ 1049      ┆ 1055      ┆ 1074      ┆   ┆ E 5140    ┆ E 5160    ┆ E 6150    ┆ SAE 9254 │\n",
       "│ ---       ┆ ---       ┆ ---       ┆ Carbon    ┆   ┆ ---       ┆ ---       ┆ ---       ┆ ---      │\n",
       "│ f64       ┆ f64       ┆ f64       ┆ St…       ┆   ┆ f64       ┆ f64       ┆ f64       ┆ f64      │\n",
       "│           ┆           ┆           ┆ ---       ┆   ┆           ┆           ┆           ┆          │\n",
       "│           ┆           ┆           ┆ f64       ┆   ┆           ┆           ┆           ┆          │\n",
       "╞═══════════╪═══════════╪═══════════╪═══════════╪═══╪═══════════╪═══════════╪═══════════╪══════════╡\n",
       "│ 0.0       ┆ 0.0       ┆ 0.0       ┆ 0.0       ┆ … ┆ 0.0       ┆ 0.0       ┆ 0.0       ┆ 0.0      │\n",
       "│ 0.0       ┆ 0.0       ┆ 0.0       ┆ 0.0       ┆ … ┆ 0.0       ┆ 0.0       ┆ 0.0       ┆ 0.0      │\n",
       "│ 0.0       ┆ 0.0       ┆ 0.0       ┆ 0.0       ┆ … ┆ 0.0       ┆ 0.0       ┆ 0.0       ┆ 0.0      │\n",
       "└───────────┴───────────┴───────────┴───────────┴───┴───────────┴───────────┴───────────┴──────────┘"
      ]
     },
     "execution_count": 381,
     "metadata": {},
     "output_type": "execute_result"
    }
   ],
   "source": [
    "# create the transformers\n",
    "ohe = OneHotEncoder(handle_unknown='ignore')\n",
    "\n",
    "oh_transformed = ohe.fit_transform(to_onehot)\n",
    "\n",
    "# get the transformed column names\n",
    "ohe_names = ohe.get_feature_names_out()\n",
    "\n",
    "# 4 stack exchange methods tried. Then I made this one up ¯\\_(ツ)_/¯\n",
    "# Combinated of recenly changed API and polars I think, no way to rename all columns like in pandas.\n",
    "columns = [f'column_{x}' for x in range(0, 30)]\n",
    "rename_dict = dict(zip(columns, ohe_names))\n",
    "\n",
    "df_ohe_encoded = pl.DataFrame(oh_transformed.toarray()).rename(rename_dict)\n",
    "df_ohe_encoded.tail(3)"
   ]
  },
  {
   "cell_type": "markdown",
   "metadata": {},
   "source": [
    "## Scale numerical columns \n",
    "This will ensure the small elemental composition values are not overshadowed by the large strength properties "
   ]
  },
  {
   "cell_type": "code",
   "execution_count": 384,
   "metadata": {},
   "outputs": [
    {
     "data": {
      "text/html": [
       "<div><style>\n",
       ".dataframe > thead > tr,\n",
       ".dataframe > tbody > tr {\n",
       "  text-align: right;\n",
       "  white-space: pre-wrap;\n",
       "}\n",
       "</style>\n",
       "<small>shape: (3, 15)</small><table border=\"1\" class=\"dataframe\"><thead><tr><th>tempering_time_s</th><th>tempering_temperature_C</th><th>C</th><th>Mn</th><th>P</th><th>S</th><th>Si</th><th>Ni</th><th>Cr</th><th>Mo</th><th>V</th><th>Al</th><th>Cu</th><th>yield_strength_MPa</th><th>ultimate_strength_MPA</th></tr><tr><td>i64</td><td>f64</td><td>f64</td><td>f64</td><td>f64</td><td>f64</td><td>f64</td><td>f64</td><td>f64</td><td>f64</td><td>f64</td><td>f64</td><td>f64</td><td>i64</td><td>i64</td></tr></thead><tbody><tr><td>86400</td><td>500.0</td><td>1.15</td><td>0.58</td><td>0.012</td><td>0.021</td><td>0.09</td><td>0.0</td><td>0.01</td><td>0.0</td><td>0.0</td><td>0.0</td><td>0.0</td><td>525</td><td>685</td></tr><tr><td>86400</td><td>600.0</td><td>1.15</td><td>0.58</td><td>0.012</td><td>0.021</td><td>0.09</td><td>0.0</td><td>0.01</td><td>0.0</td><td>0.0</td><td>0.0</td><td>0.0</td><td>525</td><td>685</td></tr><tr><td>86400</td><td>700.0</td><td>1.15</td><td>0.58</td><td>0.012</td><td>0.021</td><td>0.09</td><td>0.0</td><td>0.01</td><td>0.0</td><td>0.0</td><td>0.0</td><td>0.0</td><td>525</td><td>685</td></tr></tbody></table></div>"
      ],
      "text/plain": [
       "shape: (3, 15)\n",
       "┌─────────────────┬────────────────┬──────┬──────┬───┬─────┬─────┬────────────────┬────────────────┐\n",
       "│ tempering_time_ ┆ tempering_temp ┆ C    ┆ Mn   ┆ … ┆ Al  ┆ Cu  ┆ yield_strength ┆ ultimate_stren │\n",
       "│ s               ┆ erature_C      ┆ ---  ┆ ---  ┆   ┆ --- ┆ --- ┆ _MPa           ┆ gth_MPA        │\n",
       "│ ---             ┆ ---            ┆ f64  ┆ f64  ┆   ┆ f64 ┆ f64 ┆ ---            ┆ ---            │\n",
       "│ i64             ┆ f64            ┆      ┆      ┆   ┆     ┆     ┆ i64            ┆ i64            │\n",
       "╞═════════════════╪════════════════╪══════╪══════╪═══╪═════╪═════╪════════════════╪════════════════╡\n",
       "│ 86400           ┆ 500.0          ┆ 1.15 ┆ 0.58 ┆ … ┆ 0.0 ┆ 0.0 ┆ 525            ┆ 685            │\n",
       "│ 86400           ┆ 600.0          ┆ 1.15 ┆ 0.58 ┆ … ┆ 0.0 ┆ 0.0 ┆ 525            ┆ 685            │\n",
       "│ 86400           ┆ 700.0          ┆ 1.15 ┆ 0.58 ┆ … ┆ 0.0 ┆ 0.0 ┆ 525            ┆ 685            │\n",
       "└─────────────────┴────────────────┴──────┴──────┴───┴─────┴─────┴────────────────┴────────────────┘"
      ]
     },
     "execution_count": 384,
     "metadata": {},
     "output_type": "execute_result"
    }
   ],
   "source": [
    "to_scale.tail(3)"
   ]
  },
  {
   "cell_type": "code",
   "execution_count": 385,
   "metadata": {},
   "outputs": [
    {
     "data": {
      "text/html": [
       "<div><style>\n",
       ".dataframe > thead > tr,\n",
       ".dataframe > tbody > tr {\n",
       "  text-align: right;\n",
       "  white-space: pre-wrap;\n",
       "}\n",
       "</style>\n",
       "<small>shape: (3, 15)</small><table border=\"1\" class=\"dataframe\"><thead><tr><th>tempering_time_s</th><th>tempering_temperature_C</th><th>C</th><th>Mn</th><th>P</th><th>S</th><th>Si</th><th>Ni</th><th>Cr</th><th>Mo</th><th>V</th><th>Al</th><th>Cu</th><th>yield_strength_MPa</th><th>column_14</th></tr><tr><td>f64</td><td>f64</td><td>f64</td><td>f64</td><td>f64</td><td>f64</td><td>f64</td><td>f64</td><td>f64</td><td>f64</td><td>f64</td><td>f64</td><td>f64</td><td>f64</td><td>f64</td></tr></thead><tbody><tr><td>1.89775</td><td>0.467987</td><td>2.69532</td><td>-0.618793</td><td>-0.60703</td><td>-0.394811</td><td>-0.591857</td><td>-0.392117</td><td>-0.791743</td><td>-0.638219</td><td>-0.201129</td><td>0.0</td><td>-0.337311</td><td>0.188703</td><td>-0.105424</td></tr><tr><td>1.89775</td><td>1.028689</td><td>2.69532</td><td>-0.618793</td><td>-0.60703</td><td>-0.394811</td><td>-0.591857</td><td>-0.392117</td><td>-0.791743</td><td>-0.638219</td><td>-0.201129</td><td>0.0</td><td>-0.337311</td><td>0.188703</td><td>-0.105424</td></tr><tr><td>1.89775</td><td>1.589391</td><td>2.69532</td><td>-0.618793</td><td>-0.60703</td><td>-0.394811</td><td>-0.591857</td><td>-0.392117</td><td>-0.791743</td><td>-0.638219</td><td>-0.201129</td><td>0.0</td><td>-0.337311</td><td>0.188703</td><td>-0.105424</td></tr></tbody></table></div>"
      ],
      "text/plain": [
       "shape: (3, 15)\n",
       "┌──────────────┬─────────────┬─────────┬───────────┬───┬─────┬───────────┬─────────────┬───────────┐\n",
       "│ tempering_ti ┆ tempering_t ┆ C       ┆ Mn        ┆ … ┆ Al  ┆ Cu        ┆ yield_stren ┆ column_14 │\n",
       "│ me_s         ┆ emperature_ ┆ ---     ┆ ---       ┆   ┆ --- ┆ ---       ┆ gth_MPa     ┆ ---       │\n",
       "│ ---          ┆ C           ┆ f64     ┆ f64       ┆   ┆ f64 ┆ f64       ┆ ---         ┆ f64       │\n",
       "│ f64          ┆ ---         ┆         ┆           ┆   ┆     ┆           ┆ f64         ┆           │\n",
       "│              ┆ f64         ┆         ┆           ┆   ┆     ┆           ┆             ┆           │\n",
       "╞══════════════╪═════════════╪═════════╪═══════════╪═══╪═════╪═══════════╪═════════════╪═══════════╡\n",
       "│ 1.89775      ┆ 0.467987    ┆ 2.69532 ┆ -0.618793 ┆ … ┆ 0.0 ┆ -0.337311 ┆ 0.188703    ┆ -0.105424 │\n",
       "│ 1.89775      ┆ 1.028689    ┆ 2.69532 ┆ -0.618793 ┆ … ┆ 0.0 ┆ -0.337311 ┆ 0.188703    ┆ -0.105424 │\n",
       "│ 1.89775      ┆ 1.589391    ┆ 2.69532 ┆ -0.618793 ┆ … ┆ 0.0 ┆ -0.337311 ┆ 0.188703    ┆ -0.105424 │\n",
       "└──────────────┴─────────────┴─────────┴───────────┴───┴─────┴───────────┴─────────────┴───────────┘"
      ]
     },
     "execution_count": 385,
     "metadata": {},
     "output_type": "execute_result"
    }
   ],
   "source": [
    "scaler = StandardScaler()\n",
    "\n",
    "X_scaler = scaler.fit(to_scale)\n",
    "\n",
    "scaled = scaler.transform(to_scale)\n",
    "\n",
    "scaler_names = scaler.get_feature_names_out()\n",
    "columns = [f'column_{x}' for x in range(0, 14)]\n",
    "rename_dict = dict(zip(columns, scaler_names))\n",
    "\n",
    "df_scaled = pl.DataFrame(scaled).rename(rename_dict)\n",
    "df_scaled.tail(3)\n"
   ]
  },
  {
   "cell_type": "markdown",
   "metadata": {},
   "source": [
    "## Merge one hot encoded variables with scaled numeric variables"
   ]
  },
  {
   "cell_type": "code",
   "execution_count": 386,
   "metadata": {},
   "outputs": [
    {
     "data": {
      "text/html": [
       "<div><style>\n",
       ".dataframe > thead > tr,\n",
       ".dataframe > tbody > tr {\n",
       "  text-align: right;\n",
       "  white-space: pre-wrap;\n",
       "}\n",
       "</style>\n",
       "<small>shape: (1_286, 43)</small><table border=\"1\" class=\"dataframe\"><thead><tr><th>steel_type_AISI 1030</th><th>steel_type_AISI 1049</th><th>steel_type_AISI 1055</th><th>steel_type_AISI 1074 Carbon Steel</th><th>steel_type_AISI 1090</th><th>steel_type_AISI 1095</th><th>steel_type_AISI 4047</th><th>steel_type_AISI 4640</th><th>steel_type_AISI 52100</th><th>steel_type_AISI 6145</th><th>steel_type_AISI-SAE 1026</th><th>steel_type_AISI-SAE 1035</th><th>steel_type_AISI-SAE 1038</th><th>steel_type_AISI-SAE 1040</th><th>steel_type_AISI-SAE 1042</th><th>steel_type_AISI-SAE 1045</th><th>steel_type_AISI-SAE 1050</th><th>steel_type_AISI-SAE 1065</th><th>steel_type_AISI-SAE 1080</th><th>steel_type_AISI-SAE 1335</th><th>steel_type_AISI-SAE 4027</th><th>steel_type_AISI-SAE 4037</th><th>steel_type_AISI-SAE 4140</th><th>steel_type_AISI-SAE 4340</th><th>steel_type_AISI-SAE 5140</th><th>steel_type_AISI-SAE 5160</th><th>steel_type_AISI-SAE 6150</th><th>steel_type_AISI-SAE 9254</th><th>tempering_time_s</th><th>tempering_temperature_C</th><th>C</th><th>Mn</th><th>P</th><th>S</th><th>Si</th><th>Ni</th><th>Cr</th><th>Mo</th><th>V</th><th>Al</th><th>Cu</th><th>yield_strength_MPa</th><th>column_14</th></tr><tr><td>f64</td><td>f64</td><td>f64</td><td>f64</td><td>f64</td><td>f64</td><td>f64</td><td>f64</td><td>f64</td><td>f64</td><td>f64</td><td>f64</td><td>f64</td><td>f64</td><td>f64</td><td>f64</td><td>f64</td><td>f64</td><td>f64</td><td>f64</td><td>f64</td><td>f64</td><td>f64</td><td>f64</td><td>f64</td><td>f64</td><td>f64</td><td>f64</td><td>f64</td><td>f64</td><td>f64</td><td>f64</td><td>f64</td><td>f64</td><td>f64</td><td>f64</td><td>f64</td><td>f64</td><td>f64</td><td>f64</td><td>f64</td><td>f64</td><td>f64</td></tr></thead><tbody><tr><td>0.0</td><td>0.0</td><td>0.0</td><td>0.0</td><td>0.0</td><td>0.0</td><td>0.0</td><td>0.0</td><td>0.0</td><td>0.0</td><td>1.0</td><td>0.0</td><td>0.0</td><td>0.0</td><td>0.0</td><td>0.0</td><td>0.0</td><td>0.0</td><td>0.0</td><td>0.0</td><td>0.0</td><td>0.0</td><td>0.0</td><td>0.0</td><td>0.0</td><td>0.0</td><td>0.0</td><td>0.0</td><td>-0.617861</td><td>-1.189448</td><td>-1.155898</td><td>0.167872</td><td>-0.60703</td><td>0.268364</td><td>-0.513467</td><td>-0.392117</td><td>-0.813526</td><td>-0.638219</td><td>-0.201129</td><td>0.0</td><td>-0.337311</td><td>-0.342255</td><td>-1.009596</td></tr><tr><td>0.0</td><td>0.0</td><td>0.0</td><td>0.0</td><td>0.0</td><td>0.0</td><td>0.0</td><td>0.0</td><td>0.0</td><td>0.0</td><td>1.0</td><td>0.0</td><td>0.0</td><td>0.0</td><td>0.0</td><td>0.0</td><td>0.0</td><td>0.0</td><td>0.0</td><td>0.0</td><td>0.0</td><td>0.0</td><td>0.0</td><td>0.0</td><td>0.0</td><td>0.0</td><td>0.0</td><td>0.0</td><td>-0.617861</td><td>-0.877697</td><td>-1.155898</td><td>0.167872</td><td>-0.60703</td><td>0.268364</td><td>-0.513467</td><td>-0.392117</td><td>-0.813526</td><td>-0.638219</td><td>-0.201129</td><td>0.0</td><td>-0.337311</td><td>-0.342255</td><td>-1.009596</td></tr><tr><td>0.0</td><td>0.0</td><td>0.0</td><td>0.0</td><td>0.0</td><td>0.0</td><td>0.0</td><td>0.0</td><td>0.0</td><td>0.0</td><td>1.0</td><td>0.0</td><td>0.0</td><td>0.0</td><td>0.0</td><td>0.0</td><td>0.0</td><td>0.0</td><td>0.0</td><td>0.0</td><td>0.0</td><td>0.0</td><td>0.0</td><td>0.0</td><td>0.0</td><td>0.0</td><td>0.0</td><td>0.0</td><td>-0.617861</td><td>-0.565947</td><td>-1.155898</td><td>0.167872</td><td>-0.60703</td><td>0.268364</td><td>-0.513467</td><td>-0.392117</td><td>-0.813526</td><td>-0.638219</td><td>-0.201129</td><td>0.0</td><td>-0.337311</td><td>-0.342255</td><td>-1.009596</td></tr><tr><td>0.0</td><td>0.0</td><td>0.0</td><td>0.0</td><td>0.0</td><td>0.0</td><td>0.0</td><td>0.0</td><td>0.0</td><td>0.0</td><td>1.0</td><td>0.0</td><td>0.0</td><td>0.0</td><td>0.0</td><td>0.0</td><td>0.0</td><td>0.0</td><td>0.0</td><td>0.0</td><td>0.0</td><td>0.0</td><td>0.0</td><td>0.0</td><td>0.0</td><td>0.0</td><td>0.0</td><td>0.0</td><td>-0.617861</td><td>-0.254758</td><td>-1.155898</td><td>0.167872</td><td>-0.60703</td><td>0.268364</td><td>-0.513467</td><td>-0.392117</td><td>-0.813526</td><td>-0.638219</td><td>-0.201129</td><td>0.0</td><td>-0.337311</td><td>-0.342255</td><td>-1.009596</td></tr><tr><td>0.0</td><td>0.0</td><td>0.0</td><td>0.0</td><td>0.0</td><td>0.0</td><td>0.0</td><td>0.0</td><td>0.0</td><td>0.0</td><td>1.0</td><td>0.0</td><td>0.0</td><td>0.0</td><td>0.0</td><td>0.0</td><td>0.0</td><td>0.0</td><td>0.0</td><td>0.0</td><td>0.0</td><td>0.0</td><td>0.0</td><td>0.0</td><td>0.0</td><td>0.0</td><td>0.0</td><td>0.0</td><td>-0.617861</td><td>0.056993</td><td>-1.155898</td><td>0.167872</td><td>-0.60703</td><td>0.268364</td><td>-0.513467</td><td>-0.392117</td><td>-0.813526</td><td>-0.638219</td><td>-0.201129</td><td>0.0</td><td>-0.337311</td><td>-0.342255</td><td>-1.009596</td></tr><tr><td>&hellip;</td><td>&hellip;</td><td>&hellip;</td><td>&hellip;</td><td>&hellip;</td><td>&hellip;</td><td>&hellip;</td><td>&hellip;</td><td>&hellip;</td><td>&hellip;</td><td>&hellip;</td><td>&hellip;</td><td>&hellip;</td><td>&hellip;</td><td>&hellip;</td><td>&hellip;</td><td>&hellip;</td><td>&hellip;</td><td>&hellip;</td><td>&hellip;</td><td>&hellip;</td><td>&hellip;</td><td>&hellip;</td><td>&hellip;</td><td>&hellip;</td><td>&hellip;</td><td>&hellip;</td><td>&hellip;</td><td>&hellip;</td><td>&hellip;</td><td>&hellip;</td><td>&hellip;</td><td>&hellip;</td><td>&hellip;</td><td>&hellip;</td><td>&hellip;</td><td>&hellip;</td><td>&hellip;</td><td>&hellip;</td><td>&hellip;</td><td>&hellip;</td><td>&hellip;</td><td>&hellip;</td></tr><tr><td>0.0</td><td>0.0</td><td>0.0</td><td>0.0</td><td>0.0</td><td>1.0</td><td>0.0</td><td>0.0</td><td>0.0</td><td>0.0</td><td>0.0</td><td>0.0</td><td>0.0</td><td>0.0</td><td>0.0</td><td>0.0</td><td>0.0</td><td>0.0</td><td>0.0</td><td>0.0</td><td>0.0</td><td>0.0</td><td>0.0</td><td>0.0</td><td>0.0</td><td>0.0</td><td>0.0</td><td>0.0</td><td>1.89775</td><td>-0.653417</td><td>2.69532</td><td>-0.618793</td><td>-0.60703</td><td>-0.394811</td><td>-0.591857</td><td>-0.392117</td><td>-0.791743</td><td>-0.638219</td><td>-0.201129</td><td>0.0</td><td>-0.337311</td><td>0.188703</td><td>-0.105424</td></tr><tr><td>0.0</td><td>0.0</td><td>0.0</td><td>0.0</td><td>0.0</td><td>1.0</td><td>0.0</td><td>0.0</td><td>0.0</td><td>0.0</td><td>0.0</td><td>0.0</td><td>0.0</td><td>0.0</td><td>0.0</td><td>0.0</td><td>0.0</td><td>0.0</td><td>0.0</td><td>0.0</td><td>0.0</td><td>0.0</td><td>0.0</td><td>0.0</td><td>0.0</td><td>0.0</td><td>0.0</td><td>0.0</td><td>1.89775</td><td>-0.092715</td><td>2.69532</td><td>-0.618793</td><td>-0.60703</td><td>-0.394811</td><td>-0.591857</td><td>-0.392117</td><td>-0.791743</td><td>-0.638219</td><td>-0.201129</td><td>0.0</td><td>-0.337311</td><td>0.188703</td><td>-0.105424</td></tr><tr><td>0.0</td><td>0.0</td><td>0.0</td><td>0.0</td><td>0.0</td><td>1.0</td><td>0.0</td><td>0.0</td><td>0.0</td><td>0.0</td><td>0.0</td><td>0.0</td><td>0.0</td><td>0.0</td><td>0.0</td><td>0.0</td><td>0.0</td><td>0.0</td><td>0.0</td><td>0.0</td><td>0.0</td><td>0.0</td><td>0.0</td><td>0.0</td><td>0.0</td><td>0.0</td><td>0.0</td><td>0.0</td><td>1.89775</td><td>0.467987</td><td>2.69532</td><td>-0.618793</td><td>-0.60703</td><td>-0.394811</td><td>-0.591857</td><td>-0.392117</td><td>-0.791743</td><td>-0.638219</td><td>-0.201129</td><td>0.0</td><td>-0.337311</td><td>0.188703</td><td>-0.105424</td></tr><tr><td>0.0</td><td>0.0</td><td>0.0</td><td>0.0</td><td>0.0</td><td>1.0</td><td>0.0</td><td>0.0</td><td>0.0</td><td>0.0</td><td>0.0</td><td>0.0</td><td>0.0</td><td>0.0</td><td>0.0</td><td>0.0</td><td>0.0</td><td>0.0</td><td>0.0</td><td>0.0</td><td>0.0</td><td>0.0</td><td>0.0</td><td>0.0</td><td>0.0</td><td>0.0</td><td>0.0</td><td>0.0</td><td>1.89775</td><td>1.028689</td><td>2.69532</td><td>-0.618793</td><td>-0.60703</td><td>-0.394811</td><td>-0.591857</td><td>-0.392117</td><td>-0.791743</td><td>-0.638219</td><td>-0.201129</td><td>0.0</td><td>-0.337311</td><td>0.188703</td><td>-0.105424</td></tr><tr><td>0.0</td><td>0.0</td><td>0.0</td><td>0.0</td><td>0.0</td><td>1.0</td><td>0.0</td><td>0.0</td><td>0.0</td><td>0.0</td><td>0.0</td><td>0.0</td><td>0.0</td><td>0.0</td><td>0.0</td><td>0.0</td><td>0.0</td><td>0.0</td><td>0.0</td><td>0.0</td><td>0.0</td><td>0.0</td><td>0.0</td><td>0.0</td><td>0.0</td><td>0.0</td><td>0.0</td><td>0.0</td><td>1.89775</td><td>1.589391</td><td>2.69532</td><td>-0.618793</td><td>-0.60703</td><td>-0.394811</td><td>-0.591857</td><td>-0.392117</td><td>-0.791743</td><td>-0.638219</td><td>-0.201129</td><td>0.0</td><td>-0.337311</td><td>0.188703</td><td>-0.105424</td></tr></tbody></table></div>"
      ],
      "text/plain": [
       "shape: (1_286, 43)\n",
       "┌────────────┬────────────┬────────────┬────────────┬───┬─────┬───────────┬────────────┬───────────┐\n",
       "│ steel_type ┆ steel_type ┆ steel_type ┆ steel_type ┆ … ┆ Al  ┆ Cu        ┆ yield_stre ┆ column_14 │\n",
       "│ _AISI 1030 ┆ _AISI 1049 ┆ _AISI 1055 ┆ _AISI 1074 ┆   ┆ --- ┆ ---       ┆ ngth_MPa   ┆ ---       │\n",
       "│ ---        ┆ ---        ┆ ---        ┆ Carbon St… ┆   ┆ f64 ┆ f64       ┆ ---        ┆ f64       │\n",
       "│ f64        ┆ f64        ┆ f64        ┆ ---        ┆   ┆     ┆           ┆ f64        ┆           │\n",
       "│            ┆            ┆            ┆ f64        ┆   ┆     ┆           ┆            ┆           │\n",
       "╞════════════╪════════════╪════════════╪════════════╪═══╪═════╪═══════════╪════════════╪═══════════╡\n",
       "│ 0.0        ┆ 0.0        ┆ 0.0        ┆ 0.0        ┆ … ┆ 0.0 ┆ -0.337311 ┆ -0.342255  ┆ -1.009596 │\n",
       "│ 0.0        ┆ 0.0        ┆ 0.0        ┆ 0.0        ┆ … ┆ 0.0 ┆ -0.337311 ┆ -0.342255  ┆ -1.009596 │\n",
       "│ 0.0        ┆ 0.0        ┆ 0.0        ┆ 0.0        ┆ … ┆ 0.0 ┆ -0.337311 ┆ -0.342255  ┆ -1.009596 │\n",
       "│ 0.0        ┆ 0.0        ┆ 0.0        ┆ 0.0        ┆ … ┆ 0.0 ┆ -0.337311 ┆ -0.342255  ┆ -1.009596 │\n",
       "│ 0.0        ┆ 0.0        ┆ 0.0        ┆ 0.0        ┆ … ┆ 0.0 ┆ -0.337311 ┆ -0.342255  ┆ -1.009596 │\n",
       "│ …          ┆ …          ┆ …          ┆ …          ┆ … ┆ …   ┆ …         ┆ …          ┆ …         │\n",
       "│ 0.0        ┆ 0.0        ┆ 0.0        ┆ 0.0        ┆ … ┆ 0.0 ┆ -0.337311 ┆ 0.188703   ┆ -0.105424 │\n",
       "│ 0.0        ┆ 0.0        ┆ 0.0        ┆ 0.0        ┆ … ┆ 0.0 ┆ -0.337311 ┆ 0.188703   ┆ -0.105424 │\n",
       "│ 0.0        ┆ 0.0        ┆ 0.0        ┆ 0.0        ┆ … ┆ 0.0 ┆ -0.337311 ┆ 0.188703   ┆ -0.105424 │\n",
       "│ 0.0        ┆ 0.0        ┆ 0.0        ┆ 0.0        ┆ … ┆ 0.0 ┆ -0.337311 ┆ 0.188703   ┆ -0.105424 │\n",
       "│ 0.0        ┆ 0.0        ┆ 0.0        ┆ 0.0        ┆ … ┆ 0.0 ┆ -0.337311 ┆ 0.188703   ┆ -0.105424 │\n",
       "└────────────┴────────────┴────────────┴────────────┴───┴─────┴───────────┴────────────┴───────────┘"
      ]
     },
     "execution_count": 386,
     "metadata": {},
     "output_type": "execute_result"
    }
   ],
   "source": [
    "X = pl.concat([df_ohe_encoded, df_scaled], how='horizontal')\n",
    "X"
   ]
  },
  {
   "cell_type": "code",
   "execution_count": 387,
   "metadata": {},
   "outputs": [],
   "source": [
    "X.write_csv(f\"{resources_path}/X_nopreproc.csv\")\n",
    "\n",
    "pl.DataFrame(y).write_csv(f\"{resources_path}/y_nopreproc.csv\")\n"
   ]
  },
  {
   "cell_type": "markdown",
   "metadata": {},
   "source": [
    "## Modelling for data preprocess\n",
    "\n",
    "PCA modelling used to reduce X dimensions from 44 to 12 maintaining 95.7% of the explained variance.\n",
    "\n",
    "KBinsDiscretizer used to bin imbalanced Y target. 15 bins, where half have less than 5 support reduced to 5 similarly supported bins"
   ]
  },
  {
   "cell_type": "markdown",
   "metadata": {},
   "source": [
    "### PCA analysis\n",
    "\n",
    "Introduction of two strength metrics certainly introduced multcolinearity, with eachother and with the elemental composision, some of whicha re indicators of strength.\n",
    "\n",
    "PCA analysis will be done to alleiviate these factors."
   ]
  },
  {
   "cell_type": "code",
   "execution_count": 388,
   "metadata": {},
   "outputs": [],
   "source": [
    "X = pl.read_csv(f\"{resources_path}/X_nopreproc.csv\")"
   ]
  },
  {
   "cell_type": "code",
   "execution_count": 389,
   "metadata": {},
   "outputs": [],
   "source": [
    "pca_explained_sum = {'x': [], 'pca_explained_var': []}\n",
    "pca_explained_min = {'x': [], 'pca_explained_min_component': []}\n",
    "for x in range(3,30):\n",
    "    pca = PCA(n_components=x ,random_state=random_state)\n",
    "\n",
    "    pca.fit(X)\n",
    "\n",
    "    pca_explained_sum['x'].append(x)\n",
    "    sum_explained = np.sum(pca.explained_variance_ratio_)\n",
    "    pca_explained_sum['pca_explained_var'].append(sum_explained)\n",
    "\n",
    "    pca_explained_min['x'].append(x)\n",
    "    min_explained = np.min(pca.explained_variance_ratio_)\n",
    "    pca_explained_min['pca_explained_min_component'].append(min_explained)"
   ]
  },
  {
   "cell_type": "code",
   "execution_count": 390,
   "metadata": {},
   "outputs": [],
   "source": [
    "df_pca_explained = pl.DataFrame(pca_explained_sum)"
   ]
  },
  {
   "cell_type": "markdown",
   "metadata": {},
   "source": [
    "### PCA component number determination"
   ]
  },
  {
   "cell_type": "code",
   "execution_count": 391,
   "metadata": {},
   "outputs": [
    {
     "data": {
      "text/html": [
       "\n",
       "<style>\n",
       "  #altair-viz-3cdca2406134413a90150fd5fe9dc57f.vega-embed {\n",
       "    width: 100%;\n",
       "    display: flex;\n",
       "  }\n",
       "\n",
       "  #altair-viz-3cdca2406134413a90150fd5fe9dc57f.vega-embed details,\n",
       "  #altair-viz-3cdca2406134413a90150fd5fe9dc57f.vega-embed details summary {\n",
       "    position: relative;\n",
       "  }\n",
       "</style>\n",
       "<div id=\"altair-viz-3cdca2406134413a90150fd5fe9dc57f\"></div>\n",
       "<script type=\"text/javascript\">\n",
       "  var VEGA_DEBUG = (typeof VEGA_DEBUG == \"undefined\") ? {} : VEGA_DEBUG;\n",
       "  (function(spec, embedOpt){\n",
       "    let outputDiv = document.currentScript.previousElementSibling;\n",
       "    if (outputDiv.id !== \"altair-viz-3cdca2406134413a90150fd5fe9dc57f\") {\n",
       "      outputDiv = document.getElementById(\"altair-viz-3cdca2406134413a90150fd5fe9dc57f\");\n",
       "    }\n",
       "    const paths = {\n",
       "      \"vega\": \"https://cdn.jsdelivr.net/npm/vega@5?noext\",\n",
       "      \"vega-lib\": \"https://cdn.jsdelivr.net/npm/vega-lib?noext\",\n",
       "      \"vega-lite\": \"https://cdn.jsdelivr.net/npm/vega-lite@5.20.1?noext\",\n",
       "      \"vega-embed\": \"https://cdn.jsdelivr.net/npm/vega-embed@6?noext\",\n",
       "    };\n",
       "\n",
       "    function maybeLoadScript(lib, version) {\n",
       "      var key = `${lib.replace(\"-\", \"\")}_version`;\n",
       "      return (VEGA_DEBUG[key] == version) ?\n",
       "        Promise.resolve(paths[lib]) :\n",
       "        new Promise(function(resolve, reject) {\n",
       "          var s = document.createElement('script');\n",
       "          document.getElementsByTagName(\"head\")[0].appendChild(s);\n",
       "          s.async = true;\n",
       "          s.onload = () => {\n",
       "            VEGA_DEBUG[key] = version;\n",
       "            return resolve(paths[lib]);\n",
       "          };\n",
       "          s.onerror = () => reject(`Error loading script: ${paths[lib]}`);\n",
       "          s.src = paths[lib];\n",
       "        });\n",
       "    }\n",
       "\n",
       "    function showError(err) {\n",
       "      outputDiv.innerHTML = `<div class=\"error\" style=\"color:red;\">${err}</div>`;\n",
       "      throw err;\n",
       "    }\n",
       "\n",
       "    function displayChart(vegaEmbed) {\n",
       "      vegaEmbed(outputDiv, spec, embedOpt)\n",
       "        .catch(err => showError(`Javascript Error: ${err.message}<br>This usually means there's a typo in your chart specification. See the javascript console for the full traceback.`));\n",
       "    }\n",
       "\n",
       "    if(typeof define === \"function\" && define.amd) {\n",
       "      requirejs.config({paths});\n",
       "      require([\"vega-embed\"], displayChart, err => showError(`Error loading script: ${err.message}`));\n",
       "    } else {\n",
       "      maybeLoadScript(\"vega\", \"5\")\n",
       "        .then(() => maybeLoadScript(\"vega-lite\", \"5.20.1\"))\n",
       "        .then(() => maybeLoadScript(\"vega-embed\", \"6\"))\n",
       "        .catch(showError)\n",
       "        .then(() => displayChart(vegaEmbed));\n",
       "    }\n",
       "  })({\"config\": {\"view\": {\"continuousWidth\": 300, \"continuousHeight\": 300}}, \"data\": {\"name\": \"data-830a671cd175ff7b3debfc5ad55ee60d\"}, \"mark\": {\"type\": \"line\"}, \"encoding\": {\"x\": {\"field\": \"x\", \"title\": \"PCA X\", \"type\": \"quantitative\"}, \"y\": {\"field\": \"pca_explained_var\", \"scale\": {\"domain\": [0.5, 1]}, \"title\": \"Total explained variance\", \"type\": \"quantitative\"}}, \"title\": \"Total Explained Variance vs Number of PCA Features\", \"$schema\": \"https://vega.github.io/schema/vega-lite/v5.20.1.json\", \"datasets\": {\"data-830a671cd175ff7b3debfc5ad55ee60d\": [{\"x\": 3, \"pca_explained_var\": 0.4653074367529579}, {\"x\": 4, \"pca_explained_var\": 0.5631839925513059}, {\"x\": 5, \"pca_explained_var\": 0.6405907358484287}, {\"x\": 6, \"pca_explained_var\": 0.7078622730072375}, {\"x\": 7, \"pca_explained_var\": 0.7714124862007338}, {\"x\": 8, \"pca_explained_var\": 0.8269726660279424}, {\"x\": 9, \"pca_explained_var\": 0.8709322056678083}, {\"x\": 10, \"pca_explained_var\": 0.9088271332144257}, {\"x\": 11, \"pca_explained_var\": 0.9345439324744532}, {\"x\": 12, \"pca_explained_var\": 0.9500253454829436}, {\"x\": 13, \"pca_explained_var\": 0.9616449002020467}, {\"x\": 14, \"pca_explained_var\": 0.9684864590128206}, {\"x\": 15, \"pca_explained_var\": 0.9716781783909016}, {\"x\": 16, \"pca_explained_var\": 0.974683614984519}, {\"x\": 17, \"pca_explained_var\": 0.9774574867586572}, {\"x\": 18, \"pca_explained_var\": 0.9800371061278896}, {\"x\": 19, \"pca_explained_var\": 0.9824660304818559}, {\"x\": 20, \"pca_explained_var\": 0.984781548183212}, {\"x\": 21, \"pca_explained_var\": 0.9869174265510642}, {\"x\": 22, \"pca_explained_var\": 0.9890183894489988}, {\"x\": 23, \"pca_explained_var\": 0.9911053272594159}, {\"x\": 24, \"pca_explained_var\": 0.9931691148411188}, {\"x\": 25, \"pca_explained_var\": 0.9951470742234877}, {\"x\": 26, \"pca_explained_var\": 0.9963462913073481}, {\"x\": 27, \"pca_explained_var\": 0.9974184556382505}, {\"x\": 28, \"pca_explained_var\": 0.9983406002094692}, {\"x\": 29, \"pca_explained_var\": 0.9989561780349905}]}}, {\"mode\": \"vega-lite\"});\n",
       "</script>"
      ],
      "text/plain": [
       "alt.Chart(...)"
      ]
     },
     "execution_count": 391,
     "metadata": {},
     "output_type": "execute_result"
    }
   ],
   "source": [
    "alt.Chart(df_pca_explained,\n",
    "          title= \"Total Explained Variance vs Number of PCA Features\").mark_line().encode(\n",
    "    alt.X('x:Q').title(\"PCA X\"),\n",
    "    alt.Y('pca_explained_var:Q')\\\n",
    "        .scale(domain=(0.5,1))\\\n",
    "            .title(\"Total explained variance\")\n",
    ")"
   ]
  },
  {
   "cell_type": "markdown",
   "metadata": {},
   "source": [
    "### Value of increasing PCA components decreases between 10 and 15"
   ]
  },
  {
   "cell_type": "code",
   "execution_count": 392,
   "metadata": {},
   "outputs": [
    {
     "data": {
      "text/html": [
       "<div><style>\n",
       ".dataframe > thead > tr,\n",
       ".dataframe > tbody > tr {\n",
       "  text-align: right;\n",
       "  white-space: pre-wrap;\n",
       "}\n",
       "</style>\n",
       "<small>shape: (6, 2)</small><table border=\"1\" class=\"dataframe\"><thead><tr><th>x</th><th>pca_explained_min_component</th></tr><tr><td>i64</td><td>f64</td></tr></thead><tbody><tr><td>10</td><td>0.037895</td></tr><tr><td>11</td><td>0.025717</td></tr><tr><td>12</td><td>0.015481</td></tr><tr><td>13</td><td>0.01162</td></tr><tr><td>14</td><td>0.006842</td></tr><tr><td>15</td><td>0.003192</td></tr></tbody></table></div>"
      ],
      "text/plain": [
       "shape: (6, 2)\n",
       "┌─────┬─────────────────────────────┐\n",
       "│ x   ┆ pca_explained_min_component │\n",
       "│ --- ┆ ---                         │\n",
       "│ i64 ┆ f64                         │\n",
       "╞═════╪═════════════════════════════╡\n",
       "│ 10  ┆ 0.037895                    │\n",
       "│ 11  ┆ 0.025717                    │\n",
       "│ 12  ┆ 0.015481                    │\n",
       "│ 13  ┆ 0.01162                     │\n",
       "│ 14  ┆ 0.006842                    │\n",
       "│ 15  ┆ 0.003192                    │\n",
       "└─────┴─────────────────────────────┘"
      ]
     },
     "execution_count": 392,
     "metadata": {},
     "output_type": "execute_result"
    }
   ],
   "source": [
    "df_pca_explained_min = pl.DataFrame(pca_explained_min)\n",
    "df_pca_explained_min.filter(pl.col('x').le(15) & pl.col('x').ge(10))"
   ]
  },
  {
   "cell_type": "markdown",
   "metadata": {},
   "source": [
    "### PCA component number 13 selected\n",
    "Component 13 has half the explained ratio contribution as component 13, and component 14 decreased by a factor of 10\n",
    "\n",
    "13 components has explains 96.2% of the variance."
   ]
  },
  {
   "cell_type": "code",
   "execution_count": 393,
   "metadata": {},
   "outputs": [
    {
     "data": {
      "text/html": [
       "<div><style>\n",
       ".dataframe > thead > tr,\n",
       ".dataframe > tbody > tr {\n",
       "  text-align: right;\n",
       "  white-space: pre-wrap;\n",
       "}\n",
       "</style>\n",
       "<small>shape: (1, 2)</small><table border=\"1\" class=\"dataframe\"><thead><tr><th>x</th><th>pca_explained_var</th></tr><tr><td>i64</td><td>f64</td></tr></thead><tbody><tr><td>13</td><td>0.961645</td></tr></tbody></table></div>"
      ],
      "text/plain": [
       "shape: (1, 2)\n",
       "┌─────┬───────────────────┐\n",
       "│ x   ┆ pca_explained_var │\n",
       "│ --- ┆ ---               │\n",
       "│ i64 ┆ f64               │\n",
       "╞═════╪═══════════════════╡\n",
       "│ 13  ┆ 0.961645          │\n",
       "└─────┴───────────────────┘"
      ]
     },
     "execution_count": 393,
     "metadata": {},
     "output_type": "execute_result"
    }
   ],
   "source": [
    "df_pca_explained.filter(pl.col(\"x\").eq(13))"
   ]
  },
  {
   "cell_type": "code",
   "execution_count": 394,
   "metadata": {},
   "outputs": [
    {
     "data": {
      "text/html": [
       "<div><style>\n",
       ".dataframe > thead > tr,\n",
       ".dataframe > tbody > tr {\n",
       "  text-align: right;\n",
       "  white-space: pre-wrap;\n",
       "}\n",
       "</style>\n",
       "<small>shape: (3, 13)</small><table border=\"1\" class=\"dataframe\"><thead><tr><th>column_0</th><th>column_1</th><th>column_2</th><th>column_3</th><th>column_4</th><th>column_5</th><th>column_6</th><th>column_7</th><th>column_8</th><th>column_9</th><th>column_10</th><th>column_11</th><th>column_12</th></tr><tr><td>f64</td><td>f64</td><td>f64</td><td>f64</td><td>f64</td><td>f64</td><td>f64</td><td>f64</td><td>f64</td><td>f64</td><td>f64</td><td>f64</td><td>f64</td></tr></thead><tbody><tr><td>-1.396549</td><td>0.357322</td><td>0.11312</td><td>-0.35176</td><td>-0.475294</td><td>-0.085418</td><td>-1.457699</td><td>0.792878</td><td>-0.123649</td><td>-0.967397</td><td>-0.402453</td><td>0.138054</td><td>0.316879</td></tr><tr><td>-1.408114</td><td>0.303587</td><td>0.136813</td><td>-0.349753</td><td>-0.573852</td><td>-0.23484</td><td>-1.270245</td><td>0.633357</td><td>-0.123784</td><td>-0.940428</td><td>-0.405776</td><td>0.141606</td><td>0.304695</td></tr><tr><td>-1.419679</td><td>0.249852</td><td>0.160507</td><td>-0.347746</td><td>-0.67241</td><td>-0.384263</td><td>-1.082791</td><td>0.473836</td><td>-0.123919</td><td>-0.913459</td><td>-0.409099</td><td>0.145159</td><td>0.292511</td></tr></tbody></table></div>"
      ],
      "text/plain": [
       "shape: (3, 13)\n",
       "┌───────────┬──────────┬──────────┬───────────┬───┬───────────┬───────────┬───────────┬───────────┐\n",
       "│ column_0  ┆ column_1 ┆ column_2 ┆ column_3  ┆ … ┆ column_9  ┆ column_10 ┆ column_11 ┆ column_12 │\n",
       "│ ---       ┆ ---      ┆ ---      ┆ ---       ┆   ┆ ---       ┆ ---       ┆ ---       ┆ ---       │\n",
       "│ f64       ┆ f64      ┆ f64      ┆ f64       ┆   ┆ f64       ┆ f64       ┆ f64       ┆ f64       │\n",
       "╞═══════════╪══════════╪══════════╪═══════════╪═══╪═══════════╪═══════════╪═══════════╪═══════════╡\n",
       "│ -1.396549 ┆ 0.357322 ┆ 0.11312  ┆ -0.35176  ┆ … ┆ -0.967397 ┆ -0.402453 ┆ 0.138054  ┆ 0.316879  │\n",
       "│ -1.408114 ┆ 0.303587 ┆ 0.136813 ┆ -0.349753 ┆ … ┆ -0.940428 ┆ -0.405776 ┆ 0.141606  ┆ 0.304695  │\n",
       "│ -1.419679 ┆ 0.249852 ┆ 0.160507 ┆ -0.347746 ┆ … ┆ -0.913459 ┆ -0.409099 ┆ 0.145159  ┆ 0.292511  │\n",
       "└───────────┴──────────┴──────────┴───────────┴───┴───────────┴───────────┴───────────┴───────────┘"
      ]
     },
     "execution_count": 394,
     "metadata": {},
     "output_type": "execute_result"
    }
   ],
   "source": [
    "pca = PCA(n_components= 13, random_state=random_state)\n",
    "\n",
    "pca.fit(X)\n",
    "\n",
    "X_pca = pca.transform(X)\n",
    "\n",
    "df_pca = pl.DataFrame(X_pca)\n",
    "df_pca.head(3)"
   ]
  },
  {
   "cell_type": "code",
   "execution_count": 395,
   "metadata": {},
   "outputs": [
    {
     "data": {
      "text/html": [
       "<div><style>\n",
       ".dataframe > thead > tr,\n",
       ".dataframe > tbody > tr {\n",
       "  text-align: right;\n",
       "  white-space: pre-wrap;\n",
       "}\n",
       "</style>\n",
       "<small>shape: (9, 14)</small><table border=\"1\" class=\"dataframe\"><thead><tr><th>statistic</th><th>column_0</th><th>column_1</th><th>column_2</th><th>column_3</th><th>column_4</th><th>column_5</th><th>column_6</th><th>column_7</th><th>column_8</th><th>column_9</th><th>column_10</th><th>column_11</th><th>column_12</th></tr><tr><td>str</td><td>f64</td><td>f64</td><td>f64</td><td>f64</td><td>f64</td><td>f64</td><td>f64</td><td>f64</td><td>f64</td><td>f64</td><td>f64</td><td>f64</td><td>f64</td></tr></thead><tbody><tr><td>&quot;count&quot;</td><td>1286.0</td><td>1286.0</td><td>1286.0</td><td>1286.0</td><td>1286.0</td><td>1286.0</td><td>1286.0</td><td>1286.0</td><td>1286.0</td><td>1286.0</td><td>1286.0</td><td>1286.0</td><td>1286.0</td></tr><tr><td>&quot;null_count&quot;</td><td>0.0</td><td>0.0</td><td>0.0</td><td>0.0</td><td>0.0</td><td>0.0</td><td>0.0</td><td>0.0</td><td>0.0</td><td>0.0</td><td>0.0</td><td>0.0</td><td>0.0</td></tr><tr><td>&quot;mean&quot;</td><td>-3.8677e-17</td><td>1.9338e-17</td><td>-8.9785e-17</td><td>8.5641e-17</td><td>3.3151e-17</td><td>2.7626e-18</td><td>3.1770e-17</td><td>5.5252e-18</td><td>-4.4202e-17</td><td>-4.2820e-17</td><td>-1.2432e-16</td><td>1.6576e-17</td><td>-1.6576e-17</td></tr><tr><td>&quot;std&quot;</td><td>1.653448</td><td>1.572193</td><td>1.326167</td><td>1.210351</td><td>1.076369</td><td>1.003431</td><td>0.975282</td><td>0.911914</td><td>0.811145</td><td>0.753117</td><td>0.620412</td><td>0.481368</td><td>0.417029</td></tr><tr><td>&quot;min&quot;</td><td>-2.755651</td><td>-2.749125</td><td>-2.631238</td><td>-2.526038</td><td>-3.325919</td><td>-1.580944</td><td>-2.390954</td><td>-2.977647</td><td>-1.634804</td><td>-1.47535</td><td>-1.006469</td><td>-0.940166</td><td>-0.97989</td></tr><tr><td>&quot;25%&quot;</td><td>-1.107186</td><td>-1.236004</td><td>-0.652254</td><td>-0.596507</td><td>-0.673487</td><td>-0.753635</td><td>-0.706409</td><td>-0.567779</td><td>-0.509937</td><td>-0.442693</td><td>-0.411362</td><td>-0.270313</td><td>-0.360951</td></tr><tr><td>&quot;50%&quot;</td><td>-0.188674</td><td>-0.121004</td><td>-0.113746</td><td>-0.187207</td><td>-0.016828</td><td>-0.195364</td><td>-0.037295</td><td>-0.023571</td><td>0.066648</td><td>-0.027211</td><td>-0.168751</td><td>0.012771</td><td>0.094007</td></tr><tr><td>&quot;75%&quot;</td><td>0.473879</td><td>1.091142</td><td>0.54757</td><td>0.852972</td><td>0.593213</td><td>0.34491</td><td>0.575031</td><td>0.474041</td><td>0.529772</td><td>0.249033</td><td>0.422331</td><td>0.249639</td><td>0.301865</td></tr><tr><td>&quot;max&quot;</td><td>4.895881</td><td>3.739467</td><td>4.450363</td><td>3.646042</td><td>4.063784</td><td>3.125609</td><td>4.122047</td><td>3.998631</td><td>1.510213</td><td>2.563479</td><td>1.49625</td><td>1.012016</td><td>0.760051</td></tr></tbody></table></div>"
      ],
      "text/plain": [
       "shape: (9, 14)\n",
       "┌───────────┬───────────┬───────────┬───────────┬───┬───────────┬───────────┬───────────┬──────────┐\n",
       "│ statistic ┆ column_0  ┆ column_1  ┆ column_2  ┆ … ┆ column_9  ┆ column_10 ┆ column_11 ┆ column_1 │\n",
       "│ ---       ┆ ---       ┆ ---       ┆ ---       ┆   ┆ ---       ┆ ---       ┆ ---       ┆ 2        │\n",
       "│ str       ┆ f64       ┆ f64       ┆ f64       ┆   ┆ f64       ┆ f64       ┆ f64       ┆ ---      │\n",
       "│           ┆           ┆           ┆           ┆   ┆           ┆           ┆           ┆ f64      │\n",
       "╞═══════════╪═══════════╪═══════════╪═══════════╪═══╪═══════════╪═══════════╪═══════════╪══════════╡\n",
       "│ count     ┆ 1286.0    ┆ 1286.0    ┆ 1286.0    ┆ … ┆ 1286.0    ┆ 1286.0    ┆ 1286.0    ┆ 1286.0   │\n",
       "│ null_coun ┆ 0.0       ┆ 0.0       ┆ 0.0       ┆ … ┆ 0.0       ┆ 0.0       ┆ 0.0       ┆ 0.0      │\n",
       "│ t         ┆           ┆           ┆           ┆   ┆           ┆           ┆           ┆          │\n",
       "│ mean      ┆ -3.8677e- ┆ 1.9338e-1 ┆ -8.9785e- ┆ … ┆ -4.2820e- ┆ -1.2432e- ┆ 1.6576e-1 ┆ -1.6576e │\n",
       "│           ┆ 17        ┆ 7         ┆ 17        ┆   ┆ 17        ┆ 16        ┆ 7         ┆ -17      │\n",
       "│ std       ┆ 1.653448  ┆ 1.572193  ┆ 1.326167  ┆ … ┆ 0.753117  ┆ 0.620412  ┆ 0.481368  ┆ 0.417029 │\n",
       "│ min       ┆ -2.755651 ┆ -2.749125 ┆ -2.631238 ┆ … ┆ -1.47535  ┆ -1.006469 ┆ -0.940166 ┆ -0.97989 │\n",
       "│ 25%       ┆ -1.107186 ┆ -1.236004 ┆ -0.652254 ┆ … ┆ -0.442693 ┆ -0.411362 ┆ -0.270313 ┆ -0.36095 │\n",
       "│           ┆           ┆           ┆           ┆   ┆           ┆           ┆           ┆ 1        │\n",
       "│ 50%       ┆ -0.188674 ┆ -0.121004 ┆ -0.113746 ┆ … ┆ -0.027211 ┆ -0.168751 ┆ 0.012771  ┆ 0.094007 │\n",
       "│ 75%       ┆ 0.473879  ┆ 1.091142  ┆ 0.54757   ┆ … ┆ 0.249033  ┆ 0.422331  ┆ 0.249639  ┆ 0.301865 │\n",
       "│ max       ┆ 4.895881  ┆ 3.739467  ┆ 4.450363  ┆ … ┆ 2.563479  ┆ 1.49625   ┆ 1.012016  ┆ 0.760051 │\n",
       "└───────────┴───────────┴───────────┴───────────┴───┴───────────┴───────────┴───────────┴──────────┘"
      ]
     },
     "execution_count": 395,
     "metadata": {},
     "output_type": "execute_result"
    }
   ],
   "source": [
    "df_pca.describe()"
   ]
  },
  {
   "cell_type": "markdown",
   "metadata": {},
   "source": [
    "## Check data balance before train-test-split\n",
    "Balancing the target is unnecessary as it is a continuous variable. \n",
    "\n",
    "It is not effected by imbalance in the same way a categorical target is."
   ]
  },
  {
   "cell_type": "code",
   "execution_count": 396,
   "metadata": {},
   "outputs": [],
   "source": [
    "df_pca.write_csv(f'{resources_path}/df_X.csv')\n",
    "pl.DataFrame(y).write_csv(f'{resources_path}/df_y.csv')\n"
   ]
  },
  {
   "cell_type": "markdown",
   "metadata": {},
   "source": [
    "# Modelling"
   ]
  },
  {
   "cell_type": "code",
   "execution_count": 397,
   "metadata": {},
   "outputs": [],
   "source": [
    "X = pl.read_csv(f'{resources_path}/df_X.csv')\n",
    "y = pl.read_csv(f'{resources_path}/df_y.csv')\n",
    "# Polars does not always work well with Keras\n",
    "X = X.to_numpy()\n",
    "y = y.to_numpy()"
   ]
  },
  {
   "cell_type": "markdown",
   "metadata": {},
   "source": [
    "## Test train split"
   ]
  },
  {
   "cell_type": "code",
   "execution_count": 398,
   "metadata": {},
   "outputs": [],
   "source": [
    "X_train, X_test, y_train, y_test = train_test_split(X, \n",
    "                                                    y, \n",
    "                                                    random_state=random_state)"
   ]
  },
  {
   "cell_type": "markdown",
   "metadata": {},
   "source": [
    "## Gradient boost regression\n",
    "\n",
    "The final hardness is a continuos varaible, that may be non-linear with respect to the supporting features. \n",
    "\n",
    "### This model does perform well.\n",
    "\n",
    "I will attmpt to use neural network modelling to see if it can be improved, and to get history.\n"
   ]
  },
  {
   "cell_type": "code",
   "execution_count": 399,
   "metadata": {},
   "outputs": [
    {
     "name": "stderr",
     "output_type": "stream",
     "text": [
      "/home/mox/Documents/coding_projects/bootcamp_local/Homeworks/Mild-Steel-Tempering/.venv/lib/python3.12/site-packages/sklearn/ensemble/_gb.py:668: DataConversionWarning: A column-vector y was passed when a 1d array was expected. Please change the shape of y to (n_samples, ), for example using ravel().\n",
      "  y = column_or_1d(y, warn=True)  # TODO: Is this still required?\n"
     ]
    },
    {
     "data": {
      "text/html": [
       "<style>#sk-container-id-4 {\n",
       "  /* Definition of color scheme common for light and dark mode */\n",
       "  --sklearn-color-text: black;\n",
       "  --sklearn-color-line: gray;\n",
       "  /* Definition of color scheme for unfitted estimators */\n",
       "  --sklearn-color-unfitted-level-0: #fff5e6;\n",
       "  --sklearn-color-unfitted-level-1: #f6e4d2;\n",
       "  --sklearn-color-unfitted-level-2: #ffe0b3;\n",
       "  --sklearn-color-unfitted-level-3: chocolate;\n",
       "  /* Definition of color scheme for fitted estimators */\n",
       "  --sklearn-color-fitted-level-0: #f0f8ff;\n",
       "  --sklearn-color-fitted-level-1: #d4ebff;\n",
       "  --sklearn-color-fitted-level-2: #b3dbfd;\n",
       "  --sklearn-color-fitted-level-3: cornflowerblue;\n",
       "\n",
       "  /* Specific color for light theme */\n",
       "  --sklearn-color-text-on-default-background: var(--sg-text-color, var(--theme-code-foreground, var(--jp-content-font-color1, black)));\n",
       "  --sklearn-color-background: var(--sg-background-color, var(--theme-background, var(--jp-layout-color0, white)));\n",
       "  --sklearn-color-border-box: var(--sg-text-color, var(--theme-code-foreground, var(--jp-content-font-color1, black)));\n",
       "  --sklearn-color-icon: #696969;\n",
       "\n",
       "  @media (prefers-color-scheme: dark) {\n",
       "    /* Redefinition of color scheme for dark theme */\n",
       "    --sklearn-color-text-on-default-background: var(--sg-text-color, var(--theme-code-foreground, var(--jp-content-font-color1, white)));\n",
       "    --sklearn-color-background: var(--sg-background-color, var(--theme-background, var(--jp-layout-color0, #111)));\n",
       "    --sklearn-color-border-box: var(--sg-text-color, var(--theme-code-foreground, var(--jp-content-font-color1, white)));\n",
       "    --sklearn-color-icon: #878787;\n",
       "  }\n",
       "}\n",
       "\n",
       "#sk-container-id-4 {\n",
       "  color: var(--sklearn-color-text);\n",
       "}\n",
       "\n",
       "#sk-container-id-4 pre {\n",
       "  padding: 0;\n",
       "}\n",
       "\n",
       "#sk-container-id-4 input.sk-hidden--visually {\n",
       "  border: 0;\n",
       "  clip: rect(1px 1px 1px 1px);\n",
       "  clip: rect(1px, 1px, 1px, 1px);\n",
       "  height: 1px;\n",
       "  margin: -1px;\n",
       "  overflow: hidden;\n",
       "  padding: 0;\n",
       "  position: absolute;\n",
       "  width: 1px;\n",
       "}\n",
       "\n",
       "#sk-container-id-4 div.sk-dashed-wrapped {\n",
       "  border: 1px dashed var(--sklearn-color-line);\n",
       "  margin: 0 0.4em 0.5em 0.4em;\n",
       "  box-sizing: border-box;\n",
       "  padding-bottom: 0.4em;\n",
       "  background-color: var(--sklearn-color-background);\n",
       "}\n",
       "\n",
       "#sk-container-id-4 div.sk-container {\n",
       "  /* jupyter's `normalize.less` sets `[hidden] { display: none; }`\n",
       "     but bootstrap.min.css set `[hidden] { display: none !important; }`\n",
       "     so we also need the `!important` here to be able to override the\n",
       "     default hidden behavior on the sphinx rendered scikit-learn.org.\n",
       "     See: https://github.com/scikit-learn/scikit-learn/issues/21755 */\n",
       "  display: inline-block !important;\n",
       "  position: relative;\n",
       "}\n",
       "\n",
       "#sk-container-id-4 div.sk-text-repr-fallback {\n",
       "  display: none;\n",
       "}\n",
       "\n",
       "div.sk-parallel-item,\n",
       "div.sk-serial,\n",
       "div.sk-item {\n",
       "  /* draw centered vertical line to link estimators */\n",
       "  background-image: linear-gradient(var(--sklearn-color-text-on-default-background), var(--sklearn-color-text-on-default-background));\n",
       "  background-size: 2px 100%;\n",
       "  background-repeat: no-repeat;\n",
       "  background-position: center center;\n",
       "}\n",
       "\n",
       "/* Parallel-specific style estimator block */\n",
       "\n",
       "#sk-container-id-4 div.sk-parallel-item::after {\n",
       "  content: \"\";\n",
       "  width: 100%;\n",
       "  border-bottom: 2px solid var(--sklearn-color-text-on-default-background);\n",
       "  flex-grow: 1;\n",
       "}\n",
       "\n",
       "#sk-container-id-4 div.sk-parallel {\n",
       "  display: flex;\n",
       "  align-items: stretch;\n",
       "  justify-content: center;\n",
       "  background-color: var(--sklearn-color-background);\n",
       "  position: relative;\n",
       "}\n",
       "\n",
       "#sk-container-id-4 div.sk-parallel-item {\n",
       "  display: flex;\n",
       "  flex-direction: column;\n",
       "}\n",
       "\n",
       "#sk-container-id-4 div.sk-parallel-item:first-child::after {\n",
       "  align-self: flex-end;\n",
       "  width: 50%;\n",
       "}\n",
       "\n",
       "#sk-container-id-4 div.sk-parallel-item:last-child::after {\n",
       "  align-self: flex-start;\n",
       "  width: 50%;\n",
       "}\n",
       "\n",
       "#sk-container-id-4 div.sk-parallel-item:only-child::after {\n",
       "  width: 0;\n",
       "}\n",
       "\n",
       "/* Serial-specific style estimator block */\n",
       "\n",
       "#sk-container-id-4 div.sk-serial {\n",
       "  display: flex;\n",
       "  flex-direction: column;\n",
       "  align-items: center;\n",
       "  background-color: var(--sklearn-color-background);\n",
       "  padding-right: 1em;\n",
       "  padding-left: 1em;\n",
       "}\n",
       "\n",
       "\n",
       "/* Toggleable style: style used for estimator/Pipeline/ColumnTransformer box that is\n",
       "clickable and can be expanded/collapsed.\n",
       "- Pipeline and ColumnTransformer use this feature and define the default style\n",
       "- Estimators will overwrite some part of the style using the `sk-estimator` class\n",
       "*/\n",
       "\n",
       "/* Pipeline and ColumnTransformer style (default) */\n",
       "\n",
       "#sk-container-id-4 div.sk-toggleable {\n",
       "  /* Default theme specific background. It is overwritten whether we have a\n",
       "  specific estimator or a Pipeline/ColumnTransformer */\n",
       "  background-color: var(--sklearn-color-background);\n",
       "}\n",
       "\n",
       "/* Toggleable label */\n",
       "#sk-container-id-4 label.sk-toggleable__label {\n",
       "  cursor: pointer;\n",
       "  display: block;\n",
       "  width: 100%;\n",
       "  margin-bottom: 0;\n",
       "  padding: 0.5em;\n",
       "  box-sizing: border-box;\n",
       "  text-align: center;\n",
       "}\n",
       "\n",
       "#sk-container-id-4 label.sk-toggleable__label-arrow:before {\n",
       "  /* Arrow on the left of the label */\n",
       "  content: \"▸\";\n",
       "  float: left;\n",
       "  margin-right: 0.25em;\n",
       "  color: var(--sklearn-color-icon);\n",
       "}\n",
       "\n",
       "#sk-container-id-4 label.sk-toggleable__label-arrow:hover:before {\n",
       "  color: var(--sklearn-color-text);\n",
       "}\n",
       "\n",
       "/* Toggleable content - dropdown */\n",
       "\n",
       "#sk-container-id-4 div.sk-toggleable__content {\n",
       "  max-height: 0;\n",
       "  max-width: 0;\n",
       "  overflow: hidden;\n",
       "  text-align: left;\n",
       "  /* unfitted */\n",
       "  background-color: var(--sklearn-color-unfitted-level-0);\n",
       "}\n",
       "\n",
       "#sk-container-id-4 div.sk-toggleable__content.fitted {\n",
       "  /* fitted */\n",
       "  background-color: var(--sklearn-color-fitted-level-0);\n",
       "}\n",
       "\n",
       "#sk-container-id-4 div.sk-toggleable__content pre {\n",
       "  margin: 0.2em;\n",
       "  border-radius: 0.25em;\n",
       "  color: var(--sklearn-color-text);\n",
       "  /* unfitted */\n",
       "  background-color: var(--sklearn-color-unfitted-level-0);\n",
       "}\n",
       "\n",
       "#sk-container-id-4 div.sk-toggleable__content.fitted pre {\n",
       "  /* unfitted */\n",
       "  background-color: var(--sklearn-color-fitted-level-0);\n",
       "}\n",
       "\n",
       "#sk-container-id-4 input.sk-toggleable__control:checked~div.sk-toggleable__content {\n",
       "  /* Expand drop-down */\n",
       "  max-height: 200px;\n",
       "  max-width: 100%;\n",
       "  overflow: auto;\n",
       "}\n",
       "\n",
       "#sk-container-id-4 input.sk-toggleable__control:checked~label.sk-toggleable__label-arrow:before {\n",
       "  content: \"▾\";\n",
       "}\n",
       "\n",
       "/* Pipeline/ColumnTransformer-specific style */\n",
       "\n",
       "#sk-container-id-4 div.sk-label input.sk-toggleable__control:checked~label.sk-toggleable__label {\n",
       "  color: var(--sklearn-color-text);\n",
       "  background-color: var(--sklearn-color-unfitted-level-2);\n",
       "}\n",
       "\n",
       "#sk-container-id-4 div.sk-label.fitted input.sk-toggleable__control:checked~label.sk-toggleable__label {\n",
       "  background-color: var(--sklearn-color-fitted-level-2);\n",
       "}\n",
       "\n",
       "/* Estimator-specific style */\n",
       "\n",
       "/* Colorize estimator box */\n",
       "#sk-container-id-4 div.sk-estimator input.sk-toggleable__control:checked~label.sk-toggleable__label {\n",
       "  /* unfitted */\n",
       "  background-color: var(--sklearn-color-unfitted-level-2);\n",
       "}\n",
       "\n",
       "#sk-container-id-4 div.sk-estimator.fitted input.sk-toggleable__control:checked~label.sk-toggleable__label {\n",
       "  /* fitted */\n",
       "  background-color: var(--sklearn-color-fitted-level-2);\n",
       "}\n",
       "\n",
       "#sk-container-id-4 div.sk-label label.sk-toggleable__label,\n",
       "#sk-container-id-4 div.sk-label label {\n",
       "  /* The background is the default theme color */\n",
       "  color: var(--sklearn-color-text-on-default-background);\n",
       "}\n",
       "\n",
       "/* On hover, darken the color of the background */\n",
       "#sk-container-id-4 div.sk-label:hover label.sk-toggleable__label {\n",
       "  color: var(--sklearn-color-text);\n",
       "  background-color: var(--sklearn-color-unfitted-level-2);\n",
       "}\n",
       "\n",
       "/* Label box, darken color on hover, fitted */\n",
       "#sk-container-id-4 div.sk-label.fitted:hover label.sk-toggleable__label.fitted {\n",
       "  color: var(--sklearn-color-text);\n",
       "  background-color: var(--sklearn-color-fitted-level-2);\n",
       "}\n",
       "\n",
       "/* Estimator label */\n",
       "\n",
       "#sk-container-id-4 div.sk-label label {\n",
       "  font-family: monospace;\n",
       "  font-weight: bold;\n",
       "  display: inline-block;\n",
       "  line-height: 1.2em;\n",
       "}\n",
       "\n",
       "#sk-container-id-4 div.sk-label-container {\n",
       "  text-align: center;\n",
       "}\n",
       "\n",
       "/* Estimator-specific */\n",
       "#sk-container-id-4 div.sk-estimator {\n",
       "  font-family: monospace;\n",
       "  border: 1px dotted var(--sklearn-color-border-box);\n",
       "  border-radius: 0.25em;\n",
       "  box-sizing: border-box;\n",
       "  margin-bottom: 0.5em;\n",
       "  /* unfitted */\n",
       "  background-color: var(--sklearn-color-unfitted-level-0);\n",
       "}\n",
       "\n",
       "#sk-container-id-4 div.sk-estimator.fitted {\n",
       "  /* fitted */\n",
       "  background-color: var(--sklearn-color-fitted-level-0);\n",
       "}\n",
       "\n",
       "/* on hover */\n",
       "#sk-container-id-4 div.sk-estimator:hover {\n",
       "  /* unfitted */\n",
       "  background-color: var(--sklearn-color-unfitted-level-2);\n",
       "}\n",
       "\n",
       "#sk-container-id-4 div.sk-estimator.fitted:hover {\n",
       "  /* fitted */\n",
       "  background-color: var(--sklearn-color-fitted-level-2);\n",
       "}\n",
       "\n",
       "/* Specification for estimator info (e.g. \"i\" and \"?\") */\n",
       "\n",
       "/* Common style for \"i\" and \"?\" */\n",
       "\n",
       ".sk-estimator-doc-link,\n",
       "a:link.sk-estimator-doc-link,\n",
       "a:visited.sk-estimator-doc-link {\n",
       "  float: right;\n",
       "  font-size: smaller;\n",
       "  line-height: 1em;\n",
       "  font-family: monospace;\n",
       "  background-color: var(--sklearn-color-background);\n",
       "  border-radius: 1em;\n",
       "  height: 1em;\n",
       "  width: 1em;\n",
       "  text-decoration: none !important;\n",
       "  margin-left: 1ex;\n",
       "  /* unfitted */\n",
       "  border: var(--sklearn-color-unfitted-level-1) 1pt solid;\n",
       "  color: var(--sklearn-color-unfitted-level-1);\n",
       "}\n",
       "\n",
       ".sk-estimator-doc-link.fitted,\n",
       "a:link.sk-estimator-doc-link.fitted,\n",
       "a:visited.sk-estimator-doc-link.fitted {\n",
       "  /* fitted */\n",
       "  border: var(--sklearn-color-fitted-level-1) 1pt solid;\n",
       "  color: var(--sklearn-color-fitted-level-1);\n",
       "}\n",
       "\n",
       "/* On hover */\n",
       "div.sk-estimator:hover .sk-estimator-doc-link:hover,\n",
       ".sk-estimator-doc-link:hover,\n",
       "div.sk-label-container:hover .sk-estimator-doc-link:hover,\n",
       ".sk-estimator-doc-link:hover {\n",
       "  /* unfitted */\n",
       "  background-color: var(--sklearn-color-unfitted-level-3);\n",
       "  color: var(--sklearn-color-background);\n",
       "  text-decoration: none;\n",
       "}\n",
       "\n",
       "div.sk-estimator.fitted:hover .sk-estimator-doc-link.fitted:hover,\n",
       ".sk-estimator-doc-link.fitted:hover,\n",
       "div.sk-label-container:hover .sk-estimator-doc-link.fitted:hover,\n",
       ".sk-estimator-doc-link.fitted:hover {\n",
       "  /* fitted */\n",
       "  background-color: var(--sklearn-color-fitted-level-3);\n",
       "  color: var(--sklearn-color-background);\n",
       "  text-decoration: none;\n",
       "}\n",
       "\n",
       "/* Span, style for the box shown on hovering the info icon */\n",
       ".sk-estimator-doc-link span {\n",
       "  display: none;\n",
       "  z-index: 9999;\n",
       "  position: relative;\n",
       "  font-weight: normal;\n",
       "  right: .2ex;\n",
       "  padding: .5ex;\n",
       "  margin: .5ex;\n",
       "  width: min-content;\n",
       "  min-width: 20ex;\n",
       "  max-width: 50ex;\n",
       "  color: var(--sklearn-color-text);\n",
       "  box-shadow: 2pt 2pt 4pt #999;\n",
       "  /* unfitted */\n",
       "  background: var(--sklearn-color-unfitted-level-0);\n",
       "  border: .5pt solid var(--sklearn-color-unfitted-level-3);\n",
       "}\n",
       "\n",
       ".sk-estimator-doc-link.fitted span {\n",
       "  /* fitted */\n",
       "  background: var(--sklearn-color-fitted-level-0);\n",
       "  border: var(--sklearn-color-fitted-level-3);\n",
       "}\n",
       "\n",
       ".sk-estimator-doc-link:hover span {\n",
       "  display: block;\n",
       "}\n",
       "\n",
       "/* \"?\"-specific style due to the `<a>` HTML tag */\n",
       "\n",
       "#sk-container-id-4 a.estimator_doc_link {\n",
       "  float: right;\n",
       "  font-size: 1rem;\n",
       "  line-height: 1em;\n",
       "  font-family: monospace;\n",
       "  background-color: var(--sklearn-color-background);\n",
       "  border-radius: 1rem;\n",
       "  height: 1rem;\n",
       "  width: 1rem;\n",
       "  text-decoration: none;\n",
       "  /* unfitted */\n",
       "  color: var(--sklearn-color-unfitted-level-1);\n",
       "  border: var(--sklearn-color-unfitted-level-1) 1pt solid;\n",
       "}\n",
       "\n",
       "#sk-container-id-4 a.estimator_doc_link.fitted {\n",
       "  /* fitted */\n",
       "  border: var(--sklearn-color-fitted-level-1) 1pt solid;\n",
       "  color: var(--sklearn-color-fitted-level-1);\n",
       "}\n",
       "\n",
       "/* On hover */\n",
       "#sk-container-id-4 a.estimator_doc_link:hover {\n",
       "  /* unfitted */\n",
       "  background-color: var(--sklearn-color-unfitted-level-3);\n",
       "  color: var(--sklearn-color-background);\n",
       "  text-decoration: none;\n",
       "}\n",
       "\n",
       "#sk-container-id-4 a.estimator_doc_link.fitted:hover {\n",
       "  /* fitted */\n",
       "  background-color: var(--sklearn-color-fitted-level-3);\n",
       "}\n",
       "</style><div id=\"sk-container-id-4\" class=\"sk-top-container\"><div class=\"sk-text-repr-fallback\"><pre>GradientBoostingRegressor(random_state=2112250415)</pre><b>In a Jupyter environment, please rerun this cell to show the HTML representation or trust the notebook. <br />On GitHub, the HTML representation is unable to render, please try loading this page with nbviewer.org.</b></div><div class=\"sk-container\" hidden><div class=\"sk-item\"><div class=\"sk-estimator fitted sk-toggleable\"><input class=\"sk-toggleable__control sk-hidden--visually\" id=\"sk-estimator-id-4\" type=\"checkbox\" checked><label for=\"sk-estimator-id-4\" class=\"sk-toggleable__label fitted sk-toggleable__label-arrow fitted\">&nbsp;&nbsp;GradientBoostingRegressor<a class=\"sk-estimator-doc-link fitted\" rel=\"noreferrer\" target=\"_blank\" href=\"https://scikit-learn.org/1.5/modules/generated/sklearn.ensemble.GradientBoostingRegressor.html\">?<span>Documentation for GradientBoostingRegressor</span></a><span class=\"sk-estimator-doc-link fitted\">i<span>Fitted</span></span></label><div class=\"sk-toggleable__content fitted\"><pre>GradientBoostingRegressor(random_state=2112250415)</pre></div> </div></div></div></div>"
      ],
      "text/plain": [
       "GradientBoostingRegressor(random_state=2112250415)"
      ]
     },
     "execution_count": 399,
     "metadata": {},
     "output_type": "execute_result"
    }
   ],
   "source": [
    "gb_regressor = GradientBoostingRegressor(random_state=random_state)\n",
    "\n",
    "gb_regressor.fit(X_train, y_train)\n"
   ]
  },
  {
   "cell_type": "code",
   "execution_count": 400,
   "metadata": {},
   "outputs": [
    {
     "data": {
      "text/plain": [
       "(322,)"
      ]
     },
     "execution_count": 400,
     "metadata": {},
     "output_type": "execute_result"
    }
   ],
   "source": [
    "y_pred = gb_regressor.predict(X_test)\n",
    "y_pred.shape"
   ]
  },
  {
   "cell_type": "code",
   "execution_count": 401,
   "metadata": {},
   "outputs": [],
   "source": [
    "# match y_test shape to model output shape\n",
    "def reshape_y_for_eval(y_test):\n",
    "    return y_test.reshape(1,-1)[0]"
   ]
  },
  {
   "cell_type": "code",
   "execution_count": 402,
   "metadata": {},
   "outputs": [
    {
     "name": "stdout",
     "output_type": "stream",
     "text": [
      "R2 score: 0.928\n"
     ]
    }
   ],
   "source": [
    "print(\"R2 score:\", round(gb_regressor.score(X_test, reshape_y_for_eval(y_test)),3))"
   ]
  },
  {
   "cell_type": "markdown",
   "metadata": {},
   "source": [
    "### Invert the y_scaling done prior to modelling for the plotting "
   ]
  },
  {
   "cell_type": "code",
   "execution_count": 403,
   "metadata": {
    "notebookRunGroups": {
     "groupValue": "2"
    }
   },
   "outputs": [],
   "source": [
    "def y_inverse_transform(y_data):\n",
    "    result = y_scaler.inverse_transform(y_data.reshape(-1, 1)).reshape(1,-1)[0]\n",
    "    return result"
   ]
  },
  {
   "cell_type": "code",
   "execution_count": 404,
   "metadata": {},
   "outputs": [],
   "source": [
    "y_test_invscal = y_inverse_transform(y_test)\n",
    "y_pred_invscal = y_inverse_transform(y_pred)"
   ]
  },
  {
   "cell_type": "code",
   "execution_count": 405,
   "metadata": {},
   "outputs": [
    {
     "data": {
      "text/html": [
       "<div><style>\n",
       ".dataframe > thead > tr,\n",
       ".dataframe > tbody > tr {\n",
       "  text-align: right;\n",
       "  white-space: pre-wrap;\n",
       "}\n",
       "</style>\n",
       "<small>shape: (3, 2)</small><table border=\"1\" class=\"dataframe\"><thead><tr><th>Real Final Hardness (HRC)</th><th>Predicted Final Hardness (HRC)</th></tr><tr><td>f64</td><td>f64</td></tr></thead><tbody><tr><td>57.5</td><td>56.934392</td></tr><tr><td>60.4</td><td>60.633832</td></tr><tr><td>47.5</td><td>45.07313</td></tr></tbody></table></div>"
      ],
      "text/plain": [
       "shape: (3, 2)\n",
       "┌───────────────────────────┬────────────────────────────────┐\n",
       "│ Real Final Hardness (HRC) ┆ Predicted Final Hardness (HRC) │\n",
       "│ ---                       ┆ ---                            │\n",
       "│ f64                       ┆ f64                            │\n",
       "╞═══════════════════════════╪════════════════════════════════╡\n",
       "│ 57.5                      ┆ 56.934392                      │\n",
       "│ 60.4                      ┆ 60.633832                      │\n",
       "│ 47.5                      ┆ 45.07313                       │\n",
       "└───────────────────────────┴────────────────────────────────┘"
      ]
     },
     "execution_count": 405,
     "metadata": {},
     "output_type": "execute_result"
    }
   ],
   "source": [
    "test_df = pl.DataFrame({'Real Final Hardness (HRC)' : y_test_invscal,\n",
    "                        'Predicted Final Hardness (HRC)' : y_pred_invscal})\n",
    "test_df.head(3)"
   ]
  },
  {
   "cell_type": "code",
   "execution_count": 407,
   "metadata": {},
   "outputs": [
    {
     "data": {
      "text/html": [
       "\n",
       "<style>\n",
       "  #altair-viz-3391a58d7b9b421c8a661a6218750582.vega-embed {\n",
       "    width: 100%;\n",
       "    display: flex;\n",
       "  }\n",
       "\n",
       "  #altair-viz-3391a58d7b9b421c8a661a6218750582.vega-embed details,\n",
       "  #altair-viz-3391a58d7b9b421c8a661a6218750582.vega-embed details summary {\n",
       "    position: relative;\n",
       "  }\n",
       "</style>\n",
       "<div id=\"altair-viz-3391a58d7b9b421c8a661a6218750582\"></div>\n",
       "<script type=\"text/javascript\">\n",
       "  var VEGA_DEBUG = (typeof VEGA_DEBUG == \"undefined\") ? {} : VEGA_DEBUG;\n",
       "  (function(spec, embedOpt){\n",
       "    let outputDiv = document.currentScript.previousElementSibling;\n",
       "    if (outputDiv.id !== \"altair-viz-3391a58d7b9b421c8a661a6218750582\") {\n",
       "      outputDiv = document.getElementById(\"altair-viz-3391a58d7b9b421c8a661a6218750582\");\n",
       "    }\n",
       "    const paths = {\n",
       "      \"vega\": \"https://cdn.jsdelivr.net/npm/vega@5?noext\",\n",
       "      \"vega-lib\": \"https://cdn.jsdelivr.net/npm/vega-lib?noext\",\n",
       "      \"vega-lite\": \"https://cdn.jsdelivr.net/npm/vega-lite@5.20.1?noext\",\n",
       "      \"vega-embed\": \"https://cdn.jsdelivr.net/npm/vega-embed@6?noext\",\n",
       "    };\n",
       "\n",
       "    function maybeLoadScript(lib, version) {\n",
       "      var key = `${lib.replace(\"-\", \"\")}_version`;\n",
       "      return (VEGA_DEBUG[key] == version) ?\n",
       "        Promise.resolve(paths[lib]) :\n",
       "        new Promise(function(resolve, reject) {\n",
       "          var s = document.createElement('script');\n",
       "          document.getElementsByTagName(\"head\")[0].appendChild(s);\n",
       "          s.async = true;\n",
       "          s.onload = () => {\n",
       "            VEGA_DEBUG[key] = version;\n",
       "            return resolve(paths[lib]);\n",
       "          };\n",
       "          s.onerror = () => reject(`Error loading script: ${paths[lib]}`);\n",
       "          s.src = paths[lib];\n",
       "        });\n",
       "    }\n",
       "\n",
       "    function showError(err) {\n",
       "      outputDiv.innerHTML = `<div class=\"error\" style=\"color:red;\">${err}</div>`;\n",
       "      throw err;\n",
       "    }\n",
       "\n",
       "    function displayChart(vegaEmbed) {\n",
       "      vegaEmbed(outputDiv, spec, embedOpt)\n",
       "        .catch(err => showError(`Javascript Error: ${err.message}<br>This usually means there's a typo in your chart specification. See the javascript console for the full traceback.`));\n",
       "    }\n",
       "\n",
       "    if(typeof define === \"function\" && define.amd) {\n",
       "      requirejs.config({paths});\n",
       "      require([\"vega-embed\"], displayChart, err => showError(`Error loading script: ${err.message}`));\n",
       "    } else {\n",
       "      maybeLoadScript(\"vega\", \"5\")\n",
       "        .then(() => maybeLoadScript(\"vega-lite\", \"5.20.1\"))\n",
       "        .then(() => maybeLoadScript(\"vega-embed\", \"6\"))\n",
       "        .catch(showError)\n",
       "        .then(() => displayChart(vegaEmbed));\n",
       "    }\n",
       "  })({\"config\": {\"view\": {\"continuousWidth\": 300, \"continuousHeight\": 300}}, \"layer\": [{\"mark\": {\"type\": \"point\"}, \"encoding\": {\"x\": {\"field\": \"Real Final Hardness (HRC)\", \"type\": \"quantitative\"}, \"y\": {\"field\": \"Predicted Final Hardness (HRC)\", \"type\": \"quantitative\"}}}, {\"mark\": {\"type\": \"line\", \"color\": \"red\"}, \"encoding\": {\"x\": {\"field\": \"Real Final Hardness (HRC)\", \"type\": \"quantitative\"}, \"y\": {\"field\": \"Predicted Final Hardness (HRC)\", \"type\": \"quantitative\"}}, \"transform\": [{\"on\": \"Real Final Hardness (HRC)\", \"regression\": \"Predicted Final Hardness (HRC)\", \"method\": \"linear\"}]}], \"data\": {\"name\": \"data-84fe3143b2eec66534f17b7ef157c356\"}, \"title\": \"GBRegression Fit\", \"$schema\": \"https://vega.github.io/schema/vega-lite/v5.20.1.json\", \"datasets\": {\"data-84fe3143b2eec66534f17b7ef157c356\": [{\"Real Final Hardness (HRC)\": 57.5, \"Predicted Final Hardness (HRC)\": 56.93439249437436}, {\"Real Final Hardness (HRC)\": 60.4, \"Predicted Final Hardness (HRC)\": 60.633831518678306}, {\"Real Final Hardness (HRC)\": 47.5, \"Predicted Final Hardness (HRC)\": 45.07312969514121}, {\"Real Final Hardness (HRC)\": 31.5, \"Predicted Final Hardness (HRC)\": 26.65033710271666}, {\"Real Final Hardness (HRC)\": 30.4, \"Predicted Final Hardness (HRC)\": 31.760828832468388}, {\"Real Final Hardness (HRC)\": 39.6, \"Predicted Final Hardness (HRC)\": 39.595480820637235}, {\"Real Final Hardness (HRC)\": 16.3, \"Predicted Final Hardness (HRC)\": 16.457895420960728}, {\"Real Final Hardness (HRC)\": 26.7, \"Predicted Final Hardness (HRC)\": 33.33392194364889}, {\"Real Final Hardness (HRC)\": 22.5, \"Predicted Final Hardness (HRC)\": 24.90038477170153}, {\"Real Final Hardness (HRC)\": 53.4, \"Predicted Final Hardness (HRC)\": 51.02084167583247}, {\"Real Final Hardness (HRC)\": 64.0, \"Predicted Final Hardness (HRC)\": 64.04808906554578}, {\"Real Final Hardness (HRC)\": 17.5, \"Predicted Final Hardness (HRC)\": 22.840556788389947}, {\"Real Final Hardness (HRC)\": 46.5, \"Predicted Final Hardness (HRC)\": 42.74209709740999}, {\"Real Final Hardness (HRC)\": 19.6, \"Predicted Final Hardness (HRC)\": 24.734329312435754}, {\"Real Final Hardness (HRC)\": 34.1, \"Predicted Final Hardness (HRC)\": 33.32736955441367}, {\"Real Final Hardness (HRC)\": 45.6, \"Predicted Final Hardness (HRC)\": 51.67270985887972}, {\"Real Final Hardness (HRC)\": 57.5, \"Predicted Final Hardness (HRC)\": 61.00418478534766}, {\"Real Final Hardness (HRC)\": 56.5, \"Predicted Final Hardness (HRC)\": 46.15340974258601}, {\"Real Final Hardness (HRC)\": 32.1, \"Predicted Final Hardness (HRC)\": 31.94160441126531}, {\"Real Final Hardness (HRC)\": 29.5, \"Predicted Final Hardness (HRC)\": 25.801507701669472}, {\"Real Final Hardness (HRC)\": 49.0, \"Predicted Final Hardness (HRC)\": 49.659430821211906}, {\"Real Final Hardness (HRC)\": 51.0, \"Predicted Final Hardness (HRC)\": 49.477389612538566}, {\"Real Final Hardness (HRC)\": 54.3, \"Predicted Final Hardness (HRC)\": 43.23106695832917}, {\"Real Final Hardness (HRC)\": 22.4, \"Predicted Final Hardness (HRC)\": 24.789631519185416}, {\"Real Final Hardness (HRC)\": 60.3, \"Predicted Final Hardness (HRC)\": 57.0603808644563}, {\"Real Final Hardness (HRC)\": 44.0, \"Predicted Final Hardness (HRC)\": 44.37149967624071}, {\"Real Final Hardness (HRC)\": 36.2, \"Predicted Final Hardness (HRC)\": 36.97682284035405}, {\"Real Final Hardness (HRC)\": 46.9, \"Predicted Final Hardness (HRC)\": 44.22735052358213}, {\"Real Final Hardness (HRC)\": 52.6, \"Predicted Final Hardness (HRC)\": 51.585797086268144}, {\"Real Final Hardness (HRC)\": 56.7, \"Predicted Final Hardness (HRC)\": 54.54267492330287}, {\"Real Final Hardness (HRC)\": 39.5, \"Predicted Final Hardness (HRC)\": 37.93921488431353}, {\"Real Final Hardness (HRC)\": 39.7, \"Predicted Final Hardness (HRC)\": 39.95937985371517}, {\"Real Final Hardness (HRC)\": 37.6, \"Predicted Final Hardness (HRC)\": 37.80772459699094}, {\"Real Final Hardness (HRC)\": 56.5, \"Predicted Final Hardness (HRC)\": 59.59282799231666}, {\"Real Final Hardness (HRC)\": 41.5, \"Predicted Final Hardness (HRC)\": 44.03858640589169}, {\"Real Final Hardness (HRC)\": 34.6, \"Predicted Final Hardness (HRC)\": 35.74837603364513}, {\"Real Final Hardness (HRC)\": 44.0, \"Predicted Final Hardness (HRC)\": 47.433993004502156}, {\"Real Final Hardness (HRC)\": 49.5, \"Predicted Final Hardness (HRC)\": 54.88756666178992}, {\"Real Final Hardness (HRC)\": 40.0, \"Predicted Final Hardness (HRC)\": 45.63414051246886}, {\"Real Final Hardness (HRC)\": 47.7, \"Predicted Final Hardness (HRC)\": 49.0447424815123}, {\"Real Final Hardness (HRC)\": 39.5, \"Predicted Final Hardness (HRC)\": 45.56812258651417}, {\"Real Final Hardness (HRC)\": 49.9, \"Predicted Final Hardness (HRC)\": 52.765388784625365}, {\"Real Final Hardness (HRC)\": 65.5, \"Predicted Final Hardness (HRC)\": 59.75719697850509}, {\"Real Final Hardness (HRC)\": 16.5, \"Predicted Final Hardness (HRC)\": 13.440852344449265}, {\"Real Final Hardness (HRC)\": 51.2, \"Predicted Final Hardness (HRC)\": 46.67589867232617}, {\"Real Final Hardness (HRC)\": 44.9, \"Predicted Final Hardness (HRC)\": 48.31316707965091}, {\"Real Final Hardness (HRC)\": 36.1, \"Predicted Final Hardness (HRC)\": 36.80769816448191}, {\"Real Final Hardness (HRC)\": 17.1, \"Predicted Final Hardness (HRC)\": 20.066768809573876}, {\"Real Final Hardness (HRC)\": 59.5, \"Predicted Final Hardness (HRC)\": 57.50018798121024}, {\"Real Final Hardness (HRC)\": 56.5, \"Predicted Final Hardness (HRC)\": 59.79719170962581}, {\"Real Final Hardness (HRC)\": 52.2, \"Predicted Final Hardness (HRC)\": 57.21380402562229}, {\"Real Final Hardness (HRC)\": 18.0, \"Predicted Final Hardness (HRC)\": 30.4877787046521}, {\"Real Final Hardness (HRC)\": 14.0, \"Predicted Final Hardness (HRC)\": 25.00560541851354}, {\"Real Final Hardness (HRC)\": 44.0, \"Predicted Final Hardness (HRC)\": 41.261239664679664}, {\"Real Final Hardness (HRC)\": 18.7, \"Predicted Final Hardness (HRC)\": 10.684495182451279}, {\"Real Final Hardness (HRC)\": 33.2, \"Predicted Final Hardness (HRC)\": 39.037890886092015}, {\"Real Final Hardness (HRC)\": 48.0, \"Predicted Final Hardness (HRC)\": 47.36327813997211}, {\"Real Final Hardness (HRC)\": 18.5, \"Predicted Final Hardness (HRC)\": 10.01500778844057}, {\"Real Final Hardness (HRC)\": 27.8, \"Predicted Final Hardness (HRC)\": 27.403187134687727}, {\"Real Final Hardness (HRC)\": 49.0, \"Predicted Final Hardness (HRC)\": 51.61524039003309}, {\"Real Final Hardness (HRC)\": 32.2, \"Predicted Final Hardness (HRC)\": 32.51587080567719}, {\"Real Final Hardness (HRC)\": 39.4, \"Predicted Final Hardness (HRC)\": 36.64052603450013}, {\"Real Final Hardness (HRC)\": 9.899999999999999, \"Predicted Final Hardness (HRC)\": 11.478318433406987}, {\"Real Final Hardness (HRC)\": 42.9, \"Predicted Final Hardness (HRC)\": 43.058951584168675}, {\"Real Final Hardness (HRC)\": 39.0, \"Predicted Final Hardness (HRC)\": 35.10592227138833}, {\"Real Final Hardness (HRC)\": 12.499999999999996, \"Predicted Final Hardness (HRC)\": 20.431911540565263}, {\"Real Final Hardness (HRC)\": 51.0, \"Predicted Final Hardness (HRC)\": 51.02767569848779}, {\"Real Final Hardness (HRC)\": 9.5, \"Predicted Final Hardness (HRC)\": 9.277416638210148}, {\"Real Final Hardness (HRC)\": 58.5, \"Predicted Final Hardness (HRC)\": 58.22027685820754}, {\"Real Final Hardness (HRC)\": 33.9, \"Predicted Final Hardness (HRC)\": 40.167004582644196}, {\"Real Final Hardness (HRC)\": 23.1, \"Predicted Final Hardness (HRC)\": 23.940442373273722}, {\"Real Final Hardness (HRC)\": 66.5, \"Predicted Final Hardness (HRC)\": 64.94573262179141}, {\"Real Final Hardness (HRC)\": 27.0, \"Predicted Final Hardness (HRC)\": 30.874154322408657}, {\"Real Final Hardness (HRC)\": 49.8, \"Predicted Final Hardness (HRC)\": 50.48341737128018}, {\"Real Final Hardness (HRC)\": 28.8, \"Predicted Final Hardness (HRC)\": 31.3121818520475}, {\"Real Final Hardness (HRC)\": 53.7, \"Predicted Final Hardness (HRC)\": 55.52781332723268}, {\"Real Final Hardness (HRC)\": 54.4, \"Predicted Final Hardness (HRC)\": 46.13213494928967}, {\"Real Final Hardness (HRC)\": 36.9, \"Predicted Final Hardness (HRC)\": 39.87875996195055}, {\"Real Final Hardness (HRC)\": 49.0, \"Predicted Final Hardness (HRC)\": 44.76194725455008}, {\"Real Final Hardness (HRC)\": 59.5, \"Predicted Final Hardness (HRC)\": 54.301780129409806}, {\"Real Final Hardness (HRC)\": 63.5, \"Predicted Final Hardness (HRC)\": 61.285557955586924}, {\"Real Final Hardness (HRC)\": 35.0, \"Predicted Final Hardness (HRC)\": 32.055737101915376}, {\"Real Final Hardness (HRC)\": 46.4, \"Predicted Final Hardness (HRC)\": 46.75737744169209}, {\"Real Final Hardness (HRC)\": 19.4, \"Predicted Final Hardness (HRC)\": 31.934138626010952}, {\"Real Final Hardness (HRC)\": 43.1, \"Predicted Final Hardness (HRC)\": 46.45608729342742}, {\"Real Final Hardness (HRC)\": 48.7, \"Predicted Final Hardness (HRC)\": 43.455589047744525}, {\"Real Final Hardness (HRC)\": 6.5, \"Predicted Final Hardness (HRC)\": 10.157933000730804}, {\"Real Final Hardness (HRC)\": 43.7, \"Predicted Final Hardness (HRC)\": 41.832125862271205}, {\"Real Final Hardness (HRC)\": 50.5, \"Predicted Final Hardness (HRC)\": 51.10673730277228}, {\"Real Final Hardness (HRC)\": 19.5, \"Predicted Final Hardness (HRC)\": 23.852290667643427}, {\"Real Final Hardness (HRC)\": 63.5, \"Predicted Final Hardness (HRC)\": 64.27175971267701}, {\"Real Final Hardness (HRC)\": 48.0, \"Predicted Final Hardness (HRC)\": 45.76601392261504}, {\"Real Final Hardness (HRC)\": 56.7, \"Predicted Final Hardness (HRC)\": 54.671681713546704}, {\"Real Final Hardness (HRC)\": 52.5, \"Predicted Final Hardness (HRC)\": 38.12601031706926}, {\"Real Final Hardness (HRC)\": 32.0, \"Predicted Final Hardness (HRC)\": 38.81624172244979}, {\"Real Final Hardness (HRC)\": 30.5, \"Predicted Final Hardness (HRC)\": 33.12430646502316}, {\"Real Final Hardness (HRC)\": 29.6, \"Predicted Final Hardness (HRC)\": 26.293930068908196}, {\"Real Final Hardness (HRC)\": 62.9, \"Predicted Final Hardness (HRC)\": 61.02217329862894}, {\"Real Final Hardness (HRC)\": 12.499999999999996, \"Predicted Final Hardness (HRC)\": 9.799314927381317}, {\"Real Final Hardness (HRC)\": 61.0, \"Predicted Final Hardness (HRC)\": 59.79719170962581}, {\"Real Final Hardness (HRC)\": 39.9, \"Predicted Final Hardness (HRC)\": 41.02414388068164}, {\"Real Final Hardness (HRC)\": 51.9, \"Predicted Final Hardness (HRC)\": 47.56486733630898}, {\"Real Final Hardness (HRC)\": 22.4, \"Predicted Final Hardness (HRC)\": 25.073207398215743}, {\"Real Final Hardness (HRC)\": 34.5, \"Predicted Final Hardness (HRC)\": 25.994328117278336}, {\"Real Final Hardness (HRC)\": 39.3, \"Predicted Final Hardness (HRC)\": 40.613738063129034}, {\"Real Final Hardness (HRC)\": 29.0, \"Predicted Final Hardness (HRC)\": 35.042118358458744}, {\"Real Final Hardness (HRC)\": 31.0, \"Predicted Final Hardness (HRC)\": 31.47062797913626}, {\"Real Final Hardness (HRC)\": 4.5, \"Predicted Final Hardness (HRC)\": 15.802676054911366}, {\"Real Final Hardness (HRC)\": 38.6, \"Predicted Final Hardness (HRC)\": 37.542464095700865}, {\"Real Final Hardness (HRC)\": 53.2, \"Predicted Final Hardness (HRC)\": 55.98932777160554}, {\"Real Final Hardness (HRC)\": 50.0, \"Predicted Final Hardness (HRC)\": 44.73926324505373}, {\"Real Final Hardness (HRC)\": 43.0, \"Predicted Final Hardness (HRC)\": 34.79689738279733}, {\"Real Final Hardness (HRC)\": 51.4, \"Predicted Final Hardness (HRC)\": 52.25075936306219}, {\"Real Final Hardness (HRC)\": 61.0, \"Predicted Final Hardness (HRC)\": 63.01434010160441}, {\"Real Final Hardness (HRC)\": 34.8, \"Predicted Final Hardness (HRC)\": 27.32048611403588}, {\"Real Final Hardness (HRC)\": 8.600000000000001, \"Predicted Final Hardness (HRC)\": 12.396520127079572}, {\"Real Final Hardness (HRC)\": 54.5, \"Predicted Final Hardness (HRC)\": 55.006583241017914}, {\"Real Final Hardness (HRC)\": 38.5, \"Predicted Final Hardness (HRC)\": 37.98481296273779}, {\"Real Final Hardness (HRC)\": 23.0, \"Predicted Final Hardness (HRC)\": 17.65688458098244}, {\"Real Final Hardness (HRC)\": 46.5, \"Predicted Final Hardness (HRC)\": 48.02030315860308}, {\"Real Final Hardness (HRC)\": 47.5, \"Predicted Final Hardness (HRC)\": 48.28333241240991}, {\"Real Final Hardness (HRC)\": 51.4, \"Predicted Final Hardness (HRC)\": 52.000208937429804}, {\"Real Final Hardness (HRC)\": 49.3, \"Predicted Final Hardness (HRC)\": 45.2162797494198}, {\"Real Final Hardness (HRC)\": 38.5, \"Predicted Final Hardness (HRC)\": 38.61044553361664}, {\"Real Final Hardness (HRC)\": 63.2, \"Predicted Final Hardness (HRC)\": 60.13934468394091}, {\"Real Final Hardness (HRC)\": 37.4, \"Predicted Final Hardness (HRC)\": 43.283261256157296}, {\"Real Final Hardness (HRC)\": 59.1, \"Predicted Final Hardness (HRC)\": 58.69247001109983}, {\"Real Final Hardness (HRC)\": 6.0, \"Predicted Final Hardness (HRC)\": 6.9858870077093655}, {\"Real Final Hardness (HRC)\": 35.4, \"Predicted Final Hardness (HRC)\": 38.94749583475897}, {\"Real Final Hardness (HRC)\": 43.0, \"Predicted Final Hardness (HRC)\": 42.55660908470762}, {\"Real Final Hardness (HRC)\": 31.5, \"Predicted Final Hardness (HRC)\": 23.62500347313193}, {\"Real Final Hardness (HRC)\": 58.7, \"Predicted Final Hardness (HRC)\": 56.1079886135565}, {\"Real Final Hardness (HRC)\": 39.0, \"Predicted Final Hardness (HRC)\": 35.706567531726336}, {\"Real Final Hardness (HRC)\": 45.2, \"Predicted Final Hardness (HRC)\": 40.23492775973218}, {\"Real Final Hardness (HRC)\": 18.9, \"Predicted Final Hardness (HRC)\": 24.81616999502015}, {\"Real Final Hardness (HRC)\": 63.3, \"Predicted Final Hardness (HRC)\": 60.76730940510393}, {\"Real Final Hardness (HRC)\": 35.5, \"Predicted Final Hardness (HRC)\": 35.9127983125018}, {\"Real Final Hardness (HRC)\": 61.0, \"Predicted Final Hardness (HRC)\": 58.33493896989549}, {\"Real Final Hardness (HRC)\": 14.2, \"Predicted Final Hardness (HRC)\": 18.668531268954037}, {\"Real Final Hardness (HRC)\": 31.5, \"Predicted Final Hardness (HRC)\": 32.5533971626983}, {\"Real Final Hardness (HRC)\": 40.3, \"Predicted Final Hardness (HRC)\": 40.613738063129034}, {\"Real Final Hardness (HRC)\": 56.0, \"Predicted Final Hardness (HRC)\": 57.61248845369265}, {\"Real Final Hardness (HRC)\": 35.1, \"Predicted Final Hardness (HRC)\": 36.095820804872645}, {\"Real Final Hardness (HRC)\": 50.7, \"Predicted Final Hardness (HRC)\": 48.66522366707355}, {\"Real Final Hardness (HRC)\": 39.2, \"Predicted Final Hardness (HRC)\": 44.081011454588825}, {\"Real Final Hardness (HRC)\": 30.5, \"Predicted Final Hardness (HRC)\": 33.649765331750466}, {\"Real Final Hardness (HRC)\": 44.1, \"Predicted Final Hardness (HRC)\": 39.134315074621895}, {\"Real Final Hardness (HRC)\": 30.3, \"Predicted Final Hardness (HRC)\": 31.830990905229115}, {\"Real Final Hardness (HRC)\": 49.2, \"Predicted Final Hardness (HRC)\": 48.652032399055166}, {\"Real Final Hardness (HRC)\": 46.5, \"Predicted Final Hardness (HRC)\": 41.57905681400754}, {\"Real Final Hardness (HRC)\": 51.4, \"Predicted Final Hardness (HRC)\": 54.36791838194989}, {\"Real Final Hardness (HRC)\": 47.2, \"Predicted Final Hardness (HRC)\": 48.540797145707344}, {\"Real Final Hardness (HRC)\": 53.2, \"Predicted Final Hardness (HRC)\": 51.6239396511122}, {\"Real Final Hardness (HRC)\": 66.5, \"Predicted Final Hardness (HRC)\": 65.96240989391048}, {\"Real Final Hardness (HRC)\": 48.1, \"Predicted Final Hardness (HRC)\": 52.269679752424935}, {\"Real Final Hardness (HRC)\": 50.4, \"Predicted Final Hardness (HRC)\": 48.775687289709644}, {\"Real Final Hardness (HRC)\": 41.5, \"Predicted Final Hardness (HRC)\": 37.26790624939059}, {\"Real Final Hardness (HRC)\": 62.5, \"Predicted Final Hardness (HRC)\": 60.012467027772516}, {\"Real Final Hardness (HRC)\": 44.0, \"Predicted Final Hardness (HRC)\": 46.98782086799932}, {\"Real Final Hardness (HRC)\": 31.2, \"Predicted Final Hardness (HRC)\": 31.419635560947533}, {\"Real Final Hardness (HRC)\": 15.5, \"Predicted Final Hardness (HRC)\": 19.074201621076057}, {\"Real Final Hardness (HRC)\": 19.0, \"Predicted Final Hardness (HRC)\": 22.820633492574647}, {\"Real Final Hardness (HRC)\": 39.6, \"Predicted Final Hardness (HRC)\": 41.2539995345641}, {\"Real Final Hardness (HRC)\": 44.9, \"Predicted Final Hardness (HRC)\": 42.70284619711318}, {\"Real Final Hardness (HRC)\": 60.1, \"Predicted Final Hardness (HRC)\": 57.0603808644563}, {\"Real Final Hardness (HRC)\": 29.7, \"Predicted Final Hardness (HRC)\": 34.24003492975807}, {\"Real Final Hardness (HRC)\": 50.3, \"Predicted Final Hardness (HRC)\": 47.89495034960316}, {\"Real Final Hardness (HRC)\": 29.5, \"Predicted Final Hardness (HRC)\": 31.94160441126531}, {\"Real Final Hardness (HRC)\": 36.5, \"Predicted Final Hardness (HRC)\": 41.288550968281676}, {\"Real Final Hardness (HRC)\": 38.2, \"Predicted Final Hardness (HRC)\": 36.352063600723625}, {\"Real Final Hardness (HRC)\": 19.4, \"Predicted Final Hardness (HRC)\": 27.67685446606322}, {\"Real Final Hardness (HRC)\": 52.9, \"Predicted Final Hardness (HRC)\": 51.724589145729155}, {\"Real Final Hardness (HRC)\": 45.0, \"Predicted Final Hardness (HRC)\": 43.2402247118954}, {\"Real Final Hardness (HRC)\": 16.0, \"Predicted Final Hardness (HRC)\": 17.15411323573776}, {\"Real Final Hardness (HRC)\": 67.5, \"Predicted Final Hardness (HRC)\": 65.57756507670172}, {\"Real Final Hardness (HRC)\": 10.899999999999995, \"Predicted Final Hardness (HRC)\": 13.628057296287793}, {\"Real Final Hardness (HRC)\": 59.1, \"Predicted Final Hardness (HRC)\": 60.94341819384646}, {\"Real Final Hardness (HRC)\": 41.2, \"Predicted Final Hardness (HRC)\": 47.87772561065122}, {\"Real Final Hardness (HRC)\": 46.7, \"Predicted Final Hardness (HRC)\": 46.91474365188366}, {\"Real Final Hardness (HRC)\": 47.5, \"Predicted Final Hardness (HRC)\": 47.29344131219314}, {\"Real Final Hardness (HRC)\": 45.7, \"Predicted Final Hardness (HRC)\": 50.27144028363185}, {\"Real Final Hardness (HRC)\": 35.5, \"Predicted Final Hardness (HRC)\": 27.591217627915782}, {\"Real Final Hardness (HRC)\": 35.8, \"Predicted Final Hardness (HRC)\": 32.990825730694475}, {\"Real Final Hardness (HRC)\": 47.2, \"Predicted Final Hardness (HRC)\": 50.83910561518068}, {\"Real Final Hardness (HRC)\": 36.2, \"Predicted Final Hardness (HRC)\": 36.97682284035405}, {\"Real Final Hardness (HRC)\": 48.5, \"Predicted Final Hardness (HRC)\": 48.26591708018107}, {\"Real Final Hardness (HRC)\": 25.5, \"Predicted Final Hardness (HRC)\": 25.574554864141664}, {\"Real Final Hardness (HRC)\": 27.199999999999996, \"Predicted Final Hardness (HRC)\": 27.647419442899256}, {\"Real Final Hardness (HRC)\": 25.3, \"Predicted Final Hardness (HRC)\": 25.95128558154242}, {\"Real Final Hardness (HRC)\": 48.9, \"Predicted Final Hardness (HRC)\": 48.92994097769207}, {\"Real Final Hardness (HRC)\": 27.8, \"Predicted Final Hardness (HRC)\": 28.87481493362449}, {\"Real Final Hardness (HRC)\": 50.0, \"Predicted Final Hardness (HRC)\": 47.976089584950984}, {\"Real Final Hardness (HRC)\": 42.5, \"Predicted Final Hardness (HRC)\": 32.339443810075196}, {\"Real Final Hardness (HRC)\": 56.4, \"Predicted Final Hardness (HRC)\": 58.46083504332173}, {\"Real Final Hardness (HRC)\": 63.1, \"Predicted Final Hardness (HRC)\": 61.87079252028674}, {\"Real Final Hardness (HRC)\": 39.2, \"Predicted Final Hardness (HRC)\": 37.78917621577212}, {\"Real Final Hardness (HRC)\": 52.6, \"Predicted Final Hardness (HRC)\": 49.886276350149444}, {\"Real Final Hardness (HRC)\": 33.0, \"Predicted Final Hardness (HRC)\": 29.32764246706069}, {\"Real Final Hardness (HRC)\": 37.0, \"Predicted Final Hardness (HRC)\": 34.92368608895217}, {\"Real Final Hardness (HRC)\": 50.0, \"Predicted Final Hardness (HRC)\": 54.87262809589325}, {\"Real Final Hardness (HRC)\": 30.9, \"Predicted Final Hardness (HRC)\": 32.02868764347102}, {\"Real Final Hardness (HRC)\": 48.0, \"Predicted Final Hardness (HRC)\": 50.69794131943693}, {\"Real Final Hardness (HRC)\": 24.2, \"Predicted Final Hardness (HRC)\": 22.610640673737887}, {\"Real Final Hardness (HRC)\": 36.6, \"Predicted Final Hardness (HRC)\": 35.347419518416096}, {\"Real Final Hardness (HRC)\": 46.8, \"Predicted Final Hardness (HRC)\": 46.41414875758285}, {\"Real Final Hardness (HRC)\": 37.0, \"Predicted Final Hardness (HRC)\": 31.758345578567315}, {\"Real Final Hardness (HRC)\": 50.0, \"Predicted Final Hardness (HRC)\": 48.35613979385005}, {\"Real Final Hardness (HRC)\": 31.4, \"Predicted Final Hardness (HRC)\": 35.50167812301568}, {\"Real Final Hardness (HRC)\": 54.5, \"Predicted Final Hardness (HRC)\": 53.14527690001794}, {\"Real Final Hardness (HRC)\": 63.0, \"Predicted Final Hardness (HRC)\": 61.285557955586924}, {\"Real Final Hardness (HRC)\": 46.5, \"Predicted Final Hardness (HRC)\": 47.12140173013235}, {\"Real Final Hardness (HRC)\": 45.3, \"Predicted Final Hardness (HRC)\": 43.85616949174386}, {\"Real Final Hardness (HRC)\": 62.7, \"Predicted Final Hardness (HRC)\": 61.02217329862894}, {\"Real Final Hardness (HRC)\": 55.3, \"Predicted Final Hardness (HRC)\": 55.95956393354907}, {\"Real Final Hardness (HRC)\": 62.4, \"Predicted Final Hardness (HRC)\": 60.76730940510393}, {\"Real Final Hardness (HRC)\": 63.3, \"Predicted Final Hardness (HRC)\": 61.02217329862894}, {\"Real Final Hardness (HRC)\": 65.5, \"Predicted Final Hardness (HRC)\": 64.17455298747907}, {\"Real Final Hardness (HRC)\": 33.3, \"Predicted Final Hardness (HRC)\": 36.881761993401526}, {\"Real Final Hardness (HRC)\": 33.5, \"Predicted Final Hardness (HRC)\": 34.599673276574215}, {\"Real Final Hardness (HRC)\": 48.6, \"Predicted Final Hardness (HRC)\": 48.45430922000146}, {\"Real Final Hardness (HRC)\": 37.1, \"Predicted Final Hardness (HRC)\": 38.085091398971535}, {\"Real Final Hardness (HRC)\": 66.5, \"Predicted Final Hardness (HRC)\": 65.3182568669095}, {\"Real Final Hardness (HRC)\": 54.5, \"Predicted Final Hardness (HRC)\": 55.36265093801973}, {\"Real Final Hardness (HRC)\": 67.0, \"Predicted Final Hardness (HRC)\": 65.33196178728349}, {\"Real Final Hardness (HRC)\": 66.5, \"Predicted Final Hardness (HRC)\": 60.012467027772516}, {\"Real Final Hardness (HRC)\": 63.5, \"Predicted Final Hardness (HRC)\": 59.83107498321707}, {\"Real Final Hardness (HRC)\": 63.3, \"Predicted Final Hardness (HRC)\": 60.13934468394091}, {\"Real Final Hardness (HRC)\": 57.7, \"Predicted Final Hardness (HRC)\": 53.201807472961356}, {\"Real Final Hardness (HRC)\": 36.9, \"Predicted Final Hardness (HRC)\": 39.12838891981326}, {\"Real Final Hardness (HRC)\": 48.3, \"Predicted Final Hardness (HRC)\": 46.982553022899204}, {\"Real Final Hardness (HRC)\": 49.6, \"Predicted Final Hardness (HRC)\": 42.61513494927129}, {\"Real Final Hardness (HRC)\": 33.0, \"Predicted Final Hardness (HRC)\": 30.203391575567913}, {\"Real Final Hardness (HRC)\": 50.0, \"Predicted Final Hardness (HRC)\": 50.774578051285374}, {\"Real Final Hardness (HRC)\": 60.8, \"Predicted Final Hardness (HRC)\": 59.74322562068078}, {\"Real Final Hardness (HRC)\": 47.0, \"Predicted Final Hardness (HRC)\": 48.766414737159074}, {\"Real Final Hardness (HRC)\": 66.0, \"Predicted Final Hardness (HRC)\": 64.27175971267701}, {\"Real Final Hardness (HRC)\": 57.4, \"Predicted Final Hardness (HRC)\": 60.33909719370948}, {\"Real Final Hardness (HRC)\": 13.5, \"Predicted Final Hardness (HRC)\": 18.62009304735812}, {\"Real Final Hardness (HRC)\": 48.3, \"Predicted Final Hardness (HRC)\": 50.32841742616412}, {\"Real Final Hardness (HRC)\": 38.1, \"Predicted Final Hardness (HRC)\": 43.56276611795075}, {\"Real Final Hardness (HRC)\": 41.0, \"Predicted Final Hardness (HRC)\": 44.37149967624071}, {\"Real Final Hardness (HRC)\": 35.6, \"Predicted Final Hardness (HRC)\": 32.96997788644751}, {\"Real Final Hardness (HRC)\": 48.5, \"Predicted Final Hardness (HRC)\": 41.288550968281676}, {\"Real Final Hardness (HRC)\": 42.5, \"Predicted Final Hardness (HRC)\": 45.31115021815177}, {\"Real Final Hardness (HRC)\": 51.2, \"Predicted Final Hardness (HRC)\": 49.7207386614231}, {\"Real Final Hardness (HRC)\": 46.5, \"Predicted Final Hardness (HRC)\": 48.93643890340164}, {\"Real Final Hardness (HRC)\": 54.6, \"Predicted Final Hardness (HRC)\": 41.26588198880181}, {\"Real Final Hardness (HRC)\": 58.3, \"Predicted Final Hardness (HRC)\": 56.5416229709006}, {\"Real Final Hardness (HRC)\": 43.6, \"Predicted Final Hardness (HRC)\": 40.958200950399345}, {\"Real Final Hardness (HRC)\": 51.6, \"Predicted Final Hardness (HRC)\": 49.96992411421107}, {\"Real Final Hardness (HRC)\": 46.0, \"Predicted Final Hardness (HRC)\": 50.101003211427155}, {\"Real Final Hardness (HRC)\": 49.1, \"Predicted Final Hardness (HRC)\": 44.32404213663136}, {\"Real Final Hardness (HRC)\": 31.9, \"Predicted Final Hardness (HRC)\": 34.32923211669682}, {\"Real Final Hardness (HRC)\": 49.5, \"Predicted Final Hardness (HRC)\": 50.825000600326256}, {\"Real Final Hardness (HRC)\": 58.4, \"Predicted Final Hardness (HRC)\": 60.56328527269654}, {\"Real Final Hardness (HRC)\": 59.5, \"Predicted Final Hardness (HRC)\": 61.493271632317416}, {\"Real Final Hardness (HRC)\": 49.9, \"Predicted Final Hardness (HRC)\": 51.04741201544475}, {\"Real Final Hardness (HRC)\": 59.8, \"Predicted Final Hardness (HRC)\": 62.9077365370308}, {\"Real Final Hardness (HRC)\": 19.2, \"Predicted Final Hardness (HRC)\": 25.015127784643852}, {\"Real Final Hardness (HRC)\": 34.2, \"Predicted Final Hardness (HRC)\": 32.990825730694475}, {\"Real Final Hardness (HRC)\": 34.0, \"Predicted Final Hardness (HRC)\": 32.130512622447846}, {\"Real Final Hardness (HRC)\": 22.6, \"Predicted Final Hardness (HRC)\": 25.232723052107342}, {\"Real Final Hardness (HRC)\": 49.0, \"Predicted Final Hardness (HRC)\": 49.659430821211906}, {\"Real Final Hardness (HRC)\": 58.5, \"Predicted Final Hardness (HRC)\": 63.76049320569358}, {\"Real Final Hardness (HRC)\": 44.8, \"Predicted Final Hardness (HRC)\": 45.146462340249116}, {\"Real Final Hardness (HRC)\": 39.0, \"Predicted Final Hardness (HRC)\": 39.68464166003226}, {\"Real Final Hardness (HRC)\": 17.3, \"Predicted Final Hardness (HRC)\": 18.878190455827074}, {\"Real Final Hardness (HRC)\": 60.5, \"Predicted Final Hardness (HRC)\": 60.382061984809155}, {\"Real Final Hardness (HRC)\": 60.0, \"Predicted Final Hardness (HRC)\": 60.633831518678306}, {\"Real Final Hardness (HRC)\": 50.5, \"Predicted Final Hardness (HRC)\": 49.73211245241542}, {\"Real Final Hardness (HRC)\": 28.5, \"Predicted Final Hardness (HRC)\": 28.39486421160069}, {\"Real Final Hardness (HRC)\": 8.600000000000001, \"Predicted Final Hardness (HRC)\": 13.848324213636701}, {\"Real Final Hardness (HRC)\": 38.5, \"Predicted Final Hardness (HRC)\": 39.168203068396195}, {\"Real Final Hardness (HRC)\": 29.0, \"Predicted Final Hardness (HRC)\": 27.903343973757018}, {\"Real Final Hardness (HRC)\": 47.6, \"Predicted Final Hardness (HRC)\": 45.61242101156808}, {\"Real Final Hardness (HRC)\": 29.1, \"Predicted Final Hardness (HRC)\": 35.4109974359518}, {\"Real Final Hardness (HRC)\": 49.1, \"Predicted Final Hardness (HRC)\": 49.15744002237333}, {\"Real Final Hardness (HRC)\": 67.5, \"Predicted Final Hardness (HRC)\": 64.94573262179141}, {\"Real Final Hardness (HRC)\": 57.8, \"Predicted Final Hardness (HRC)\": 46.453241456101715}, {\"Real Final Hardness (HRC)\": 20.5, \"Predicted Final Hardness (HRC)\": 23.25385041514382}, {\"Real Final Hardness (HRC)\": 67.5, \"Predicted Final Hardness (HRC)\": 64.17455298747907}, {\"Real Final Hardness (HRC)\": 44.3, \"Predicted Final Hardness (HRC)\": 42.389549588063026}, {\"Real Final Hardness (HRC)\": 31.2, \"Predicted Final Hardness (HRC)\": 30.783006891503046}, {\"Real Final Hardness (HRC)\": 11.400000000000002, \"Predicted Final Hardness (HRC)\": 11.802963573372175}, {\"Real Final Hardness (HRC)\": 28.0, \"Predicted Final Hardness (HRC)\": 28.23681698106452}, {\"Real Final Hardness (HRC)\": 57.5, \"Predicted Final Hardness (HRC)\": 59.59341447511172}, {\"Real Final Hardness (HRC)\": 56.7, \"Predicted Final Hardness (HRC)\": 54.13454260582455}, {\"Real Final Hardness (HRC)\": 37.5, \"Predicted Final Hardness (HRC)\": 33.86993069550977}, {\"Real Final Hardness (HRC)\": 54.5, \"Predicted Final Hardness (HRC)\": 53.98748565847263}, {\"Real Final Hardness (HRC)\": 31.3, \"Predicted Final Hardness (HRC)\": 36.19456915449288}, {\"Real Final Hardness (HRC)\": 37.3, \"Predicted Final Hardness (HRC)\": 41.85062445178005}, {\"Real Final Hardness (HRC)\": 45.0, \"Predicted Final Hardness (HRC)\": 47.2801774619908}, {\"Real Final Hardness (HRC)\": 34.6, \"Predicted Final Hardness (HRC)\": 31.375658821470026}, {\"Real Final Hardness (HRC)\": 51.6, \"Predicted Final Hardness (HRC)\": 58.36569392811988}, {\"Real Final Hardness (HRC)\": 46.5, \"Predicted Final Hardness (HRC)\": 50.678777007051025}, {\"Real Final Hardness (HRC)\": 51.5, \"Predicted Final Hardness (HRC)\": 53.122627188466296}, {\"Real Final Hardness (HRC)\": 17.1, \"Predicted Final Hardness (HRC)\": 22.458102719061383}, {\"Real Final Hardness (HRC)\": 49.1, \"Predicted Final Hardness (HRC)\": 44.05291613230241}, {\"Real Final Hardness (HRC)\": 51.7, \"Predicted Final Hardness (HRC)\": 41.26588198880181}, {\"Real Final Hardness (HRC)\": 64.5, \"Predicted Final Hardness (HRC)\": 64.17455298747907}, {\"Real Final Hardness (HRC)\": 53.4, \"Predicted Final Hardness (HRC)\": 52.04877348975616}, {\"Real Final Hardness (HRC)\": 29.2, \"Predicted Final Hardness (HRC)\": 35.791831839572396}, {\"Real Final Hardness (HRC)\": 51.9, \"Predicted Final Hardness (HRC)\": 57.7092708628139}, {\"Real Final Hardness (HRC)\": 30.5, \"Predicted Final Hardness (HRC)\": 27.591217627915782}, {\"Real Final Hardness (HRC)\": 29.6, \"Predicted Final Hardness (HRC)\": 33.419175226566104}, {\"Real Final Hardness (HRC)\": 9.399999999999999, \"Predicted Final Hardness (HRC)\": 15.924353646221782}, {\"Real Final Hardness (HRC)\": 20.9, \"Predicted Final Hardness (HRC)\": 24.585872896038424}, {\"Real Final Hardness (HRC)\": 45.5, \"Predicted Final Hardness (HRC)\": 50.59395052930336}, {\"Real Final Hardness (HRC)\": 39.3, \"Predicted Final Hardness (HRC)\": 36.352063600723625}, {\"Real Final Hardness (HRC)\": 31.6, \"Predicted Final Hardness (HRC)\": 37.207008830184904}, {\"Real Final Hardness (HRC)\": 36.3, \"Predicted Final Hardness (HRC)\": 38.87413602168358}, {\"Real Final Hardness (HRC)\": 13.5, \"Predicted Final Hardness (HRC)\": 17.57490316652139}, {\"Real Final Hardness (HRC)\": 28.5, \"Predicted Final Hardness (HRC)\": 31.963302573461426}, {\"Real Final Hardness (HRC)\": 29.7, \"Predicted Final Hardness (HRC)\": 30.58872889050298}, {\"Real Final Hardness (HRC)\": 2.6000000000000014, \"Predicted Final Hardness (HRC)\": 7.259344513964564}, {\"Real Final Hardness (HRC)\": 21.2, \"Predicted Final Hardness (HRC)\": 25.218427383510033}, {\"Real Final Hardness (HRC)\": 16.5, \"Predicted Final Hardness (HRC)\": 21.973954896041384}, {\"Real Final Hardness (HRC)\": 20.9, \"Predicted Final Hardness (HRC)\": 22.14534078745578}, {\"Real Final Hardness (HRC)\": 21.0, \"Predicted Final Hardness (HRC)\": 20.0104702603841}, {\"Real Final Hardness (HRC)\": 31.0, \"Predicted Final Hardness (HRC)\": 26.043654341976307}, {\"Real Final Hardness (HRC)\": 53.2, \"Predicted Final Hardness (HRC)\": 47.26734511110523}, {\"Real Final Hardness (HRC)\": 46.4, \"Predicted Final Hardness (HRC)\": 46.448146471886176}]}}, {\"mode\": \"vega-lite\"});\n",
       "</script>"
      ],
      "text/plain": [
       "alt.LayerChart(...)"
      ]
     },
     "execution_count": 407,
     "metadata": {},
     "output_type": "execute_result"
    }
   ],
   "source": [
    "base = alt.Chart(test_df).mark_point().encode(\n",
    "    alt.X('Real Final Hardness (HRC)'),\n",
    "    alt.Y('Predicted Final Hardness (HRC)')\n",
    ")\n",
    "\n",
    "fit = base.transform_regression(\n",
    "    'Real Final Hardness (HRC)','Predicted Final Hardness (HRC)', method='linear'\n",
    ").mark_line(color='red').encode()\n",
    "\n",
    "plot = (base + fit).properties(title='GBRegression Fit')\n",
    "plot.save(f\"{images_path}/GBR_fit.png\")\n",
    "plot"
   ]
  },
  {
   "cell_type": "markdown",
   "metadata": {},
   "source": [
    "## Gradient boost regression as a good fit\n",
    "\n",
    "R2 score is 0.92 without scaling. This is quite good.\n",
    "\n",
    "R2 score is 0.93 with y-scaling. Marginally better.\n",
    "\n",
    "Moving to a Deep Neural Network model to try and improve performance. "
   ]
  },
  {
   "cell_type": "markdown",
   "metadata": {},
   "source": [
    "# Deep Neural Network Model"
   ]
  },
  {
   "cell_type": "code",
   "execution_count": 408,
   "metadata": {},
   "outputs": [
    {
     "name": "stdout",
     "output_type": "stream",
     "text": [
      "Xdim 13 | ydim 1\n"
     ]
    }
   ],
   "source": [
    "dim_input = X_test.shape[1]\n",
    "dim_output = y.shape[1]\n",
    "print(\"Xdim\", dim_input,\"| ydim\", dim_output)"
   ]
  },
  {
   "cell_type": "code",
   "execution_count": 409,
   "metadata": {},
   "outputs": [],
   "source": [
    "# https://machinelearningmastery.com/multi-label-classification-with-deep-learning/\n",
    "\n",
    "# input\n",
    "layers = [Dense(16, activation='relu'),\n",
    "          # fork model to predict hardness\n",
    "          Dense(units=16, activation='relu'),\n",
    "        #Dense(units=64, activation='relu'),\n",
    "        #Dense(units=64, activation='relu'),\n",
    "          # Output layers for each label\n",
    "          Dense(dim_output, name='Hardness')\n",
    "]\n",
    "\n",
    "nn_model = Sequential(layers)\n",
    "\n",
    "nn_model.compile(optimizer=tf.keras.optimizers.Adam(0.0005),\n",
    "                 loss='mean_absolute_error',\n",
    "                 metrics=['mse'])\n",
    "\n",
    "nn_history = nn_model.fit(x=X_train, y=y_train, \n",
    "                        verbose=0, \n",
    "                        epochs=100,\n",
    "                        validation_split = 0.2)\n"
   ]
  },
  {
   "cell_type": "code",
   "execution_count": 410,
   "metadata": {},
   "outputs": [
    {
     "data": {
      "text/html": [
       "<pre style=\"white-space:pre;overflow-x:auto;line-height:normal;font-family:Menlo,'DejaVu Sans Mono',consolas,'Courier New',monospace\"><span style=\"font-weight: bold\">Model: \"sequential_26\"</span>\n",
       "</pre>\n"
      ],
      "text/plain": [
       "\u001b[1mModel: \"sequential_26\"\u001b[0m\n"
      ]
     },
     "metadata": {},
     "output_type": "display_data"
    },
    {
     "data": {
      "text/html": [
       "<pre style=\"white-space:pre;overflow-x:auto;line-height:normal;font-family:Menlo,'DejaVu Sans Mono',consolas,'Courier New',monospace\">┏━━━━━━━━━━━━━━━━━━━━━━━━━━━━━━━━━┳━━━━━━━━━━━━━━━━━━━━━━━━┳━━━━━━━━━━━━━━━┓\n",
       "┃<span style=\"font-weight: bold\"> Layer (type)                    </span>┃<span style=\"font-weight: bold\"> Output Shape           </span>┃<span style=\"font-weight: bold\">       Param # </span>┃\n",
       "┡━━━━━━━━━━━━━━━━━━━━━━━━━━━━━━━━━╇━━━━━━━━━━━━━━━━━━━━━━━━╇━━━━━━━━━━━━━━━┩\n",
       "│ dense_54 (<span style=\"color: #0087ff; text-decoration-color: #0087ff\">Dense</span>)                │ (<span style=\"color: #00d7ff; text-decoration-color: #00d7ff\">None</span>, <span style=\"color: #00af00; text-decoration-color: #00af00\">16</span>)             │           <span style=\"color: #00af00; text-decoration-color: #00af00\">224</span> │\n",
       "├─────────────────────────────────┼────────────────────────┼───────────────┤\n",
       "│ dense_55 (<span style=\"color: #0087ff; text-decoration-color: #0087ff\">Dense</span>)                │ (<span style=\"color: #00d7ff; text-decoration-color: #00d7ff\">None</span>, <span style=\"color: #00af00; text-decoration-color: #00af00\">16</span>)             │           <span style=\"color: #00af00; text-decoration-color: #00af00\">272</span> │\n",
       "├─────────────────────────────────┼────────────────────────┼───────────────┤\n",
       "│ Hardness (<span style=\"color: #0087ff; text-decoration-color: #0087ff\">Dense</span>)                │ (<span style=\"color: #00d7ff; text-decoration-color: #00d7ff\">None</span>, <span style=\"color: #00af00; text-decoration-color: #00af00\">1</span>)              │            <span style=\"color: #00af00; text-decoration-color: #00af00\">17</span> │\n",
       "└─────────────────────────────────┴────────────────────────┴───────────────┘\n",
       "</pre>\n"
      ],
      "text/plain": [
       "┏━━━━━━━━━━━━━━━━━━━━━━━━━━━━━━━━━┳━━━━━━━━━━━━━━━━━━━━━━━━┳━━━━━━━━━━━━━━━┓\n",
       "┃\u001b[1m \u001b[0m\u001b[1mLayer (type)                   \u001b[0m\u001b[1m \u001b[0m┃\u001b[1m \u001b[0m\u001b[1mOutput Shape          \u001b[0m\u001b[1m \u001b[0m┃\u001b[1m \u001b[0m\u001b[1m      Param #\u001b[0m\u001b[1m \u001b[0m┃\n",
       "┡━━━━━━━━━━━━━━━━━━━━━━━━━━━━━━━━━╇━━━━━━━━━━━━━━━━━━━━━━━━╇━━━━━━━━━━━━━━━┩\n",
       "│ dense_54 (\u001b[38;5;33mDense\u001b[0m)                │ (\u001b[38;5;45mNone\u001b[0m, \u001b[38;5;34m16\u001b[0m)             │           \u001b[38;5;34m224\u001b[0m │\n",
       "├─────────────────────────────────┼────────────────────────┼───────────────┤\n",
       "│ dense_55 (\u001b[38;5;33mDense\u001b[0m)                │ (\u001b[38;5;45mNone\u001b[0m, \u001b[38;5;34m16\u001b[0m)             │           \u001b[38;5;34m272\u001b[0m │\n",
       "├─────────────────────────────────┼────────────────────────┼───────────────┤\n",
       "│ Hardness (\u001b[38;5;33mDense\u001b[0m)                │ (\u001b[38;5;45mNone\u001b[0m, \u001b[38;5;34m1\u001b[0m)              │            \u001b[38;5;34m17\u001b[0m │\n",
       "└─────────────────────────────────┴────────────────────────┴───────────────┘\n"
      ]
     },
     "metadata": {},
     "output_type": "display_data"
    },
    {
     "data": {
      "text/html": [
       "<pre style=\"white-space:pre;overflow-x:auto;line-height:normal;font-family:Menlo,'DejaVu Sans Mono',consolas,'Courier New',monospace\"><span style=\"font-weight: bold\"> Total params: </span><span style=\"color: #00af00; text-decoration-color: #00af00\">1,541</span> (6.02 KB)\n",
       "</pre>\n"
      ],
      "text/plain": [
       "\u001b[1m Total params: \u001b[0m\u001b[38;5;34m1,541\u001b[0m (6.02 KB)\n"
      ]
     },
     "metadata": {},
     "output_type": "display_data"
    },
    {
     "data": {
      "text/html": [
       "<pre style=\"white-space:pre;overflow-x:auto;line-height:normal;font-family:Menlo,'DejaVu Sans Mono',consolas,'Courier New',monospace\"><span style=\"font-weight: bold\"> Trainable params: </span><span style=\"color: #00af00; text-decoration-color: #00af00\">513</span> (2.00 KB)\n",
       "</pre>\n"
      ],
      "text/plain": [
       "\u001b[1m Trainable params: \u001b[0m\u001b[38;5;34m513\u001b[0m (2.00 KB)\n"
      ]
     },
     "metadata": {},
     "output_type": "display_data"
    },
    {
     "data": {
      "text/html": [
       "<pre style=\"white-space:pre;overflow-x:auto;line-height:normal;font-family:Menlo,'DejaVu Sans Mono',consolas,'Courier New',monospace\"><span style=\"font-weight: bold\"> Non-trainable params: </span><span style=\"color: #00af00; text-decoration-color: #00af00\">0</span> (0.00 B)\n",
       "</pre>\n"
      ],
      "text/plain": [
       "\u001b[1m Non-trainable params: \u001b[0m\u001b[38;5;34m0\u001b[0m (0.00 B)\n"
      ]
     },
     "metadata": {},
     "output_type": "display_data"
    },
    {
     "data": {
      "text/html": [
       "<pre style=\"white-space:pre;overflow-x:auto;line-height:normal;font-family:Menlo,'DejaVu Sans Mono',consolas,'Courier New',monospace\"><span style=\"font-weight: bold\"> Optimizer params: </span><span style=\"color: #00af00; text-decoration-color: #00af00\">1,028</span> (4.02 KB)\n",
       "</pre>\n"
      ],
      "text/plain": [
       "\u001b[1m Optimizer params: \u001b[0m\u001b[38;5;34m1,028\u001b[0m (4.02 KB)\n"
      ]
     },
     "metadata": {},
     "output_type": "display_data"
    }
   ],
   "source": [
    "nn_model.summary()"
   ]
  },
  {
   "cell_type": "markdown",
   "metadata": {},
   "source": [
    "## Evaluate NN model\n",
    "\n",
    "Fit and model done 5 times to get stability from the accuracies generated per model."
   ]
  },
  {
   "cell_type": "code",
   "execution_count": 411,
   "metadata": {},
   "outputs": [
    {
     "name": "stdout",
     "output_type": "stream",
     "text": [
      "\u001b[1m11/11\u001b[0m \u001b[32m━━━━━━━━━━━━━━━━━━━━\u001b[0m\u001b[37m\u001b[0m \u001b[1m0s\u001b[0m 451us/step - loss: 0.1901 - mse: 0.0718\n"
     ]
    },
    {
     "data": {
      "text/plain": [
       "{'loss': 0.18134644627571106, 'mse': 0.06577352434396744}"
      ]
     },
     "execution_count": 411,
     "metadata": {},
     "output_type": "execute_result"
    }
   ],
   "source": [
    "result = nn_model.evaluate(X_test, y_test, return_dict=True)\n",
    "result"
   ]
  },
  {
   "cell_type": "code",
   "execution_count": 412,
   "metadata": {},
   "outputs": [
    {
     "data": {
      "text/html": [
       "<div><style>\n",
       ".dataframe > thead > tr,\n",
       ".dataframe > tbody > tr {\n",
       "  text-align: right;\n",
       "  white-space: pre-wrap;\n",
       "}\n",
       "</style>\n",
       "<small>shape: (3, 5)</small><table border=\"1\" class=\"dataframe\"><thead><tr><th>index</th><th>loss</th><th>mse</th><th>val_loss</th><th>val_mse</th></tr><tr><td>u32</td><td>f64</td><td>f64</td><td>f64</td><td>f64</td></tr></thead><tbody><tr><td>0</td><td>0.913528</td><td>1.264116</td><td>0.849921</td><td>1.064733</td></tr><tr><td>1</td><td>0.820101</td><td>1.024939</td><td>0.789308</td><td>0.937838</td></tr><tr><td>2</td><td>0.754411</td><td>0.886089</td><td>0.742033</td><td>0.847306</td></tr></tbody></table></div>"
      ],
      "text/plain": [
       "shape: (3, 5)\n",
       "┌───────┬──────────┬──────────┬──────────┬──────────┐\n",
       "│ index ┆ loss     ┆ mse      ┆ val_loss ┆ val_mse  │\n",
       "│ ---   ┆ ---      ┆ ---      ┆ ---      ┆ ---      │\n",
       "│ u32   ┆ f64      ┆ f64      ┆ f64      ┆ f64      │\n",
       "╞═══════╪══════════╪══════════╪══════════╪══════════╡\n",
       "│ 0     ┆ 0.913528 ┆ 1.264116 ┆ 0.849921 ┆ 1.064733 │\n",
       "│ 1     ┆ 0.820101 ┆ 1.024939 ┆ 0.789308 ┆ 0.937838 │\n",
       "│ 2     ┆ 0.754411 ┆ 0.886089 ┆ 0.742033 ┆ 0.847306 │\n",
       "└───────┴──────────┴──────────┴──────────┴──────────┘"
      ]
     },
     "execution_count": 412,
     "metadata": {},
     "output_type": "execute_result"
    }
   ],
   "source": [
    "history_df = pl.DataFrame(nn_history.history)\n",
    "history_df = history_df.with_row_index()\n",
    "history_df.head(3)"
   ]
  },
  {
   "cell_type": "code",
   "execution_count": 413,
   "metadata": {},
   "outputs": [],
   "source": [
    "def plot_model_history(df, name='DNN', feature='mse', tuner=False):\n",
    "    title = f'{feature}'.title() if feature != 'mse' else \"Mean Squared Error\"\n",
    "    selector = ['index', feature]\n",
    "    if tuner: selector.append(f'val_{feature}')\n",
    "\n",
    "    df_reduced = df.select(selector)\n",
    "\n",
    "    plot = alt.Chart(df_reduced).mark_line().encode(\n",
    "        alt.X('index').title('Epochs'),\n",
    "        alt.Y(alt.repeat('layer'), type='quantitative').\\\n",
    "            title(title),\n",
    "        color = alt.datum(alt.repeat('layer'))\n",
    "    ).repeat(\n",
    "        layer = selector[1:]\n",
    "    ).properties(title=f\"{title} by Epoch\")\n",
    "\n",
    "    plot.show()\n",
    "\n",
    "    plot.save(f\"{images_path}/{name}_{feature}.png\")\n"
   ]
  },
  {
   "cell_type": "code",
   "execution_count": 414,
   "metadata": {},
   "outputs": [
    {
     "data": {
      "text/html": [
       "\n",
       "<style>\n",
       "  #altair-viz-a539a61e13e34ad48ca27d7a4d85e8e0.vega-embed {\n",
       "    width: 100%;\n",
       "    display: flex;\n",
       "  }\n",
       "\n",
       "  #altair-viz-a539a61e13e34ad48ca27d7a4d85e8e0.vega-embed details,\n",
       "  #altair-viz-a539a61e13e34ad48ca27d7a4d85e8e0.vega-embed details summary {\n",
       "    position: relative;\n",
       "  }\n",
       "</style>\n",
       "<div id=\"altair-viz-a539a61e13e34ad48ca27d7a4d85e8e0\"></div>\n",
       "<script type=\"text/javascript\">\n",
       "  var VEGA_DEBUG = (typeof VEGA_DEBUG == \"undefined\") ? {} : VEGA_DEBUG;\n",
       "  (function(spec, embedOpt){\n",
       "    let outputDiv = document.currentScript.previousElementSibling;\n",
       "    if (outputDiv.id !== \"altair-viz-a539a61e13e34ad48ca27d7a4d85e8e0\") {\n",
       "      outputDiv = document.getElementById(\"altair-viz-a539a61e13e34ad48ca27d7a4d85e8e0\");\n",
       "    }\n",
       "    const paths = {\n",
       "      \"vega\": \"https://cdn.jsdelivr.net/npm/vega@5?noext\",\n",
       "      \"vega-lib\": \"https://cdn.jsdelivr.net/npm/vega-lib?noext\",\n",
       "      \"vega-lite\": \"https://cdn.jsdelivr.net/npm/vega-lite@5.20.1?noext\",\n",
       "      \"vega-embed\": \"https://cdn.jsdelivr.net/npm/vega-embed@6?noext\",\n",
       "    };\n",
       "\n",
       "    function maybeLoadScript(lib, version) {\n",
       "      var key = `${lib.replace(\"-\", \"\")}_version`;\n",
       "      return (VEGA_DEBUG[key] == version) ?\n",
       "        Promise.resolve(paths[lib]) :\n",
       "        new Promise(function(resolve, reject) {\n",
       "          var s = document.createElement('script');\n",
       "          document.getElementsByTagName(\"head\")[0].appendChild(s);\n",
       "          s.async = true;\n",
       "          s.onload = () => {\n",
       "            VEGA_DEBUG[key] = version;\n",
       "            return resolve(paths[lib]);\n",
       "          };\n",
       "          s.onerror = () => reject(`Error loading script: ${paths[lib]}`);\n",
       "          s.src = paths[lib];\n",
       "        });\n",
       "    }\n",
       "\n",
       "    function showError(err) {\n",
       "      outputDiv.innerHTML = `<div class=\"error\" style=\"color:red;\">${err}</div>`;\n",
       "      throw err;\n",
       "    }\n",
       "\n",
       "    function displayChart(vegaEmbed) {\n",
       "      vegaEmbed(outputDiv, spec, embedOpt)\n",
       "        .catch(err => showError(`Javascript Error: ${err.message}<br>This usually means there's a typo in your chart specification. See the javascript console for the full traceback.`));\n",
       "    }\n",
       "\n",
       "    if(typeof define === \"function\" && define.amd) {\n",
       "      requirejs.config({paths});\n",
       "      require([\"vega-embed\"], displayChart, err => showError(`Error loading script: ${err.message}`));\n",
       "    } else {\n",
       "      maybeLoadScript(\"vega\", \"5\")\n",
       "        .then(() => maybeLoadScript(\"vega-lite\", \"5.20.1\"))\n",
       "        .then(() => maybeLoadScript(\"vega-embed\", \"6\"))\n",
       "        .catch(showError)\n",
       "        .then(() => displayChart(vegaEmbed));\n",
       "    }\n",
       "  })({\"config\": {\"view\": {\"continuousWidth\": 300, \"continuousHeight\": 300}}, \"repeat\": {\"layer\": [\"mse\", \"val_mse\"]}, \"spec\": {\"data\": {\"name\": \"data-a6d0bad3e5641946abfad5cd1ecc93fb\"}, \"mark\": {\"type\": \"line\"}, \"encoding\": {\"color\": {\"datum\": {\"repeat\": \"layer\"}}, \"x\": {\"field\": \"index\", \"title\": \"Epochs\", \"type\": \"quantitative\"}, \"y\": {\"field\": {\"repeat\": \"layer\"}, \"title\": \"Mean Squared Error\", \"type\": \"quantitative\"}}}, \"title\": \"Mean Squared Error by Epoch\", \"$schema\": \"https://vega.github.io/schema/vega-lite/v5.20.1.json\", \"datasets\": {\"data-a6d0bad3e5641946abfad5cd1ecc93fb\": [{\"index\": 0, \"mse\": 1.2641161680221558, \"val_mse\": 1.0647327899932861}, {\"index\": 1, \"mse\": 1.024938702583313, \"val_mse\": 0.9378376603126526}, {\"index\": 2, \"mse\": 0.8860892653465271, \"val_mse\": 0.8473061919212341}, {\"index\": 3, \"mse\": 0.7845979332923889, \"val_mse\": 0.76907879114151}, {\"index\": 4, \"mse\": 0.6974664926528931, \"val_mse\": 0.694088876247406}, {\"index\": 5, \"mse\": 0.6155897378921509, \"val_mse\": 0.6240947246551514}, {\"index\": 6, \"mse\": 0.5459122657775879, \"val_mse\": 0.5499967336654663}, {\"index\": 7, \"mse\": 0.46132373809814453, \"val_mse\": 0.4710213541984558}, {\"index\": 8, \"mse\": 0.3904249668121338, \"val_mse\": 0.3950207829475403}, {\"index\": 9, \"mse\": 0.31660109758377075, \"val_mse\": 0.3264527916908264}, {\"index\": 10, \"mse\": 0.253256231546402, \"val_mse\": 0.2674408257007599}, {\"index\": 11, \"mse\": 0.20198065042495728, \"val_mse\": 0.22170773148536682}, {\"index\": 12, \"mse\": 0.1650482714176178, \"val_mse\": 0.18201307952404022}, {\"index\": 13, \"mse\": 0.13728387653827667, \"val_mse\": 0.16285908222198486}, {\"index\": 14, \"mse\": 0.11928929388523102, \"val_mse\": 0.14924831688404083}, {\"index\": 15, \"mse\": 0.11036612838506699, \"val_mse\": 0.1416424810886383}, {\"index\": 16, \"mse\": 0.10261096060276031, \"val_mse\": 0.13770133256912231}, {\"index\": 17, \"mse\": 0.09718014299869537, \"val_mse\": 0.13320088386535645}, {\"index\": 18, \"mse\": 0.09434626251459122, \"val_mse\": 0.13369688391685486}, {\"index\": 19, \"mse\": 0.09088960289955139, \"val_mse\": 0.13026826083660126}, {\"index\": 20, \"mse\": 0.08902912586927414, \"val_mse\": 0.1287153661251068}, {\"index\": 21, \"mse\": 0.08737442642450333, \"val_mse\": 0.12732158601284027}, {\"index\": 22, \"mse\": 0.08657825738191605, \"val_mse\": 0.1283842921257019}, {\"index\": 23, \"mse\": 0.08415044844150543, \"val_mse\": 0.12612368166446686}, {\"index\": 24, \"mse\": 0.08232712745666504, \"val_mse\": 0.12417477369308472}, {\"index\": 25, \"mse\": 0.08102968335151672, \"val_mse\": 0.12253467738628387}, {\"index\": 26, \"mse\": 0.07967255264520645, \"val_mse\": 0.12370820343494415}, {\"index\": 27, \"mse\": 0.07895759493112564, \"val_mse\": 0.12136014550924301}, {\"index\": 28, \"mse\": 0.07789396494626999, \"val_mse\": 0.12038742750883102}, {\"index\": 29, \"mse\": 0.0779954195022583, \"val_mse\": 0.12187778949737549}, {\"index\": 30, \"mse\": 0.07655403763055801, \"val_mse\": 0.1196754202246666}, {\"index\": 31, \"mse\": 0.07580161839723587, \"val_mse\": 0.11803329735994339}, {\"index\": 32, \"mse\": 0.07498791068792343, \"val_mse\": 0.11809336394071579}, {\"index\": 33, \"mse\": 0.07451282441616058, \"val_mse\": 0.11763185262680054}, {\"index\": 34, \"mse\": 0.07333634048700333, \"val_mse\": 0.11503425985574722}, {\"index\": 35, \"mse\": 0.07171175628900528, \"val_mse\": 0.11726462095975876}, {\"index\": 36, \"mse\": 0.07182316482067108, \"val_mse\": 0.11484890431165695}, {\"index\": 37, \"mse\": 0.07040375471115112, \"val_mse\": 0.11110574752092361}, {\"index\": 38, \"mse\": 0.0691353976726532, \"val_mse\": 0.10949798673391342}, {\"index\": 39, \"mse\": 0.06883415579795837, \"val_mse\": 0.11338643729686737}, {\"index\": 40, \"mse\": 0.0678737685084343, \"val_mse\": 0.10866176337003708}, {\"index\": 41, \"mse\": 0.06686384230852127, \"val_mse\": 0.11059808731079102}, {\"index\": 42, \"mse\": 0.06780174374580383, \"val_mse\": 0.11077030748128891}, {\"index\": 43, \"mse\": 0.06676885485649109, \"val_mse\": 0.10934135317802429}, {\"index\": 44, \"mse\": 0.065056212246418, \"val_mse\": 0.10487387329339981}, {\"index\": 45, \"mse\": 0.06434763222932816, \"val_mse\": 0.10497045516967773}, {\"index\": 46, \"mse\": 0.0640544518828392, \"val_mse\": 0.10476821660995483}, {\"index\": 47, \"mse\": 0.06452231854200363, \"val_mse\": 0.10678015649318695}, {\"index\": 48, \"mse\": 0.06348833441734314, \"val_mse\": 0.10302555561065674}, {\"index\": 49, \"mse\": 0.06364669650793076, \"val_mse\": 0.10502045601606369}, {\"index\": 50, \"mse\": 0.06225515156984329, \"val_mse\": 0.10319789499044418}, {\"index\": 51, \"mse\": 0.062039174139499664, \"val_mse\": 0.1054469496011734}, {\"index\": 52, \"mse\": 0.061893850564956665, \"val_mse\": 0.10325797647237778}, {\"index\": 53, \"mse\": 0.06117812544107437, \"val_mse\": 0.10292414575815201}, {\"index\": 54, \"mse\": 0.06063801795244217, \"val_mse\": 0.10158872604370117}, {\"index\": 55, \"mse\": 0.06056559830904007, \"val_mse\": 0.1039125993847847}, {\"index\": 56, \"mse\": 0.060701269656419754, \"val_mse\": 0.10366624593734741}, {\"index\": 57, \"mse\": 0.060211341828107834, \"val_mse\": 0.10185782611370087}, {\"index\": 58, \"mse\": 0.059816036373376846, \"val_mse\": 0.10204785317182541}, {\"index\": 59, \"mse\": 0.05927920714020729, \"val_mse\": 0.10071935504674911}, {\"index\": 60, \"mse\": 0.05906776711344719, \"val_mse\": 0.10035644471645355}, {\"index\": 61, \"mse\": 0.05817915126681328, \"val_mse\": 0.10050782561302185}, {\"index\": 62, \"mse\": 0.05853116512298584, \"val_mse\": 0.09766419231891632}, {\"index\": 63, \"mse\": 0.0578373447060585, \"val_mse\": 0.10084076970815659}, {\"index\": 64, \"mse\": 0.05782701075077057, \"val_mse\": 0.09938749670982361}, {\"index\": 65, \"mse\": 0.05765405669808388, \"val_mse\": 0.09944329410791397}, {\"index\": 66, \"mse\": 0.057131242007017136, \"val_mse\": 0.09782274067401886}, {\"index\": 67, \"mse\": 0.05715292692184448, \"val_mse\": 0.09830152988433838}, {\"index\": 68, \"mse\": 0.05670413002371788, \"val_mse\": 0.09715607017278671}, {\"index\": 69, \"mse\": 0.05607939511537552, \"val_mse\": 0.09740910679101944}, {\"index\": 70, \"mse\": 0.05614699423313141, \"val_mse\": 0.09610024094581604}, {\"index\": 71, \"mse\": 0.05601201951503754, \"val_mse\": 0.09760028123855591}, {\"index\": 72, \"mse\": 0.05630169436335564, \"val_mse\": 0.09755679219961166}, {\"index\": 73, \"mse\": 0.055702485144138336, \"val_mse\": 0.09726516157388687}, {\"index\": 74, \"mse\": 0.056029852479696274, \"val_mse\": 0.09867148101329803}, {\"index\": 75, \"mse\": 0.05572717636823654, \"val_mse\": 0.09839678555727005}, {\"index\": 76, \"mse\": 0.05566864088177681, \"val_mse\": 0.097048319876194}, {\"index\": 77, \"mse\": 0.05500475689768791, \"val_mse\": 0.09450503438711166}, {\"index\": 78, \"mse\": 0.05559072643518448, \"val_mse\": 0.0948794037103653}, {\"index\": 79, \"mse\": 0.05464284494519234, \"val_mse\": 0.0955919623374939}, {\"index\": 80, \"mse\": 0.05493974685668945, \"val_mse\": 0.09672591090202332}, {\"index\": 81, \"mse\": 0.0545470230281353, \"val_mse\": 0.09579171240329742}, {\"index\": 82, \"mse\": 0.05423938110470772, \"val_mse\": 0.09517781436443329}, {\"index\": 83, \"mse\": 0.05394837260246277, \"val_mse\": 0.09583926200866699}, {\"index\": 84, \"mse\": 0.05365768074989319, \"val_mse\": 0.09498418122529984}, {\"index\": 85, \"mse\": 0.05346157029271126, \"val_mse\": 0.09608172625303268}, {\"index\": 86, \"mse\": 0.05320483818650246, \"val_mse\": 0.09357580542564392}, {\"index\": 87, \"mse\": 0.05300336331129074, \"val_mse\": 0.09308881312608719}, {\"index\": 88, \"mse\": 0.052995212376117706, \"val_mse\": 0.09547130018472672}, {\"index\": 89, \"mse\": 0.053256236016750336, \"val_mse\": 0.09390030801296234}, {\"index\": 90, \"mse\": 0.053209807723760605, \"val_mse\": 0.09358980506658554}, {\"index\": 91, \"mse\": 0.05280665308237076, \"val_mse\": 0.09497182071208954}, {\"index\": 92, \"mse\": 0.05263596028089523, \"val_mse\": 0.09595131129026413}, {\"index\": 93, \"mse\": 0.051937755197286606, \"val_mse\": 0.09334295243024826}, {\"index\": 94, \"mse\": 0.05174527317285538, \"val_mse\": 0.09414378553628922}, {\"index\": 95, \"mse\": 0.052297525107860565, \"val_mse\": 0.09178376942873001}, {\"index\": 96, \"mse\": 0.05234089866280556, \"val_mse\": 0.09345608949661255}, {\"index\": 97, \"mse\": 0.05177606642246246, \"val_mse\": 0.09427125751972198}, {\"index\": 98, \"mse\": 0.05201617628335953, \"val_mse\": 0.09318666905164719}, {\"index\": 99, \"mse\": 0.051319483667612076, \"val_mse\": 0.09241070598363876}]}}, {\"mode\": \"vega-lite\"});\n",
       "</script>"
      ],
      "text/plain": [
       "alt.RepeatChart(...)"
      ]
     },
     "metadata": {},
     "output_type": "display_data"
    },
    {
     "data": {
      "text/html": [
       "\n",
       "<style>\n",
       "  #altair-viz-e986dcc408f848628bf8e212dfee5228.vega-embed {\n",
       "    width: 100%;\n",
       "    display: flex;\n",
       "  }\n",
       "\n",
       "  #altair-viz-e986dcc408f848628bf8e212dfee5228.vega-embed details,\n",
       "  #altair-viz-e986dcc408f848628bf8e212dfee5228.vega-embed details summary {\n",
       "    position: relative;\n",
       "  }\n",
       "</style>\n",
       "<div id=\"altair-viz-e986dcc408f848628bf8e212dfee5228\"></div>\n",
       "<script type=\"text/javascript\">\n",
       "  var VEGA_DEBUG = (typeof VEGA_DEBUG == \"undefined\") ? {} : VEGA_DEBUG;\n",
       "  (function(spec, embedOpt){\n",
       "    let outputDiv = document.currentScript.previousElementSibling;\n",
       "    if (outputDiv.id !== \"altair-viz-e986dcc408f848628bf8e212dfee5228\") {\n",
       "      outputDiv = document.getElementById(\"altair-viz-e986dcc408f848628bf8e212dfee5228\");\n",
       "    }\n",
       "    const paths = {\n",
       "      \"vega\": \"https://cdn.jsdelivr.net/npm/vega@5?noext\",\n",
       "      \"vega-lib\": \"https://cdn.jsdelivr.net/npm/vega-lib?noext\",\n",
       "      \"vega-lite\": \"https://cdn.jsdelivr.net/npm/vega-lite@5.20.1?noext\",\n",
       "      \"vega-embed\": \"https://cdn.jsdelivr.net/npm/vega-embed@6?noext\",\n",
       "    };\n",
       "\n",
       "    function maybeLoadScript(lib, version) {\n",
       "      var key = `${lib.replace(\"-\", \"\")}_version`;\n",
       "      return (VEGA_DEBUG[key] == version) ?\n",
       "        Promise.resolve(paths[lib]) :\n",
       "        new Promise(function(resolve, reject) {\n",
       "          var s = document.createElement('script');\n",
       "          document.getElementsByTagName(\"head\")[0].appendChild(s);\n",
       "          s.async = true;\n",
       "          s.onload = () => {\n",
       "            VEGA_DEBUG[key] = version;\n",
       "            return resolve(paths[lib]);\n",
       "          };\n",
       "          s.onerror = () => reject(`Error loading script: ${paths[lib]}`);\n",
       "          s.src = paths[lib];\n",
       "        });\n",
       "    }\n",
       "\n",
       "    function showError(err) {\n",
       "      outputDiv.innerHTML = `<div class=\"error\" style=\"color:red;\">${err}</div>`;\n",
       "      throw err;\n",
       "    }\n",
       "\n",
       "    function displayChart(vegaEmbed) {\n",
       "      vegaEmbed(outputDiv, spec, embedOpt)\n",
       "        .catch(err => showError(`Javascript Error: ${err.message}<br>This usually means there's a typo in your chart specification. See the javascript console for the full traceback.`));\n",
       "    }\n",
       "\n",
       "    if(typeof define === \"function\" && define.amd) {\n",
       "      requirejs.config({paths});\n",
       "      require([\"vega-embed\"], displayChart, err => showError(`Error loading script: ${err.message}`));\n",
       "    } else {\n",
       "      maybeLoadScript(\"vega\", \"5\")\n",
       "        .then(() => maybeLoadScript(\"vega-lite\", \"5.20.1\"))\n",
       "        .then(() => maybeLoadScript(\"vega-embed\", \"6\"))\n",
       "        .catch(showError)\n",
       "        .then(() => displayChart(vegaEmbed));\n",
       "    }\n",
       "  })({\"config\": {\"view\": {\"continuousWidth\": 300, \"continuousHeight\": 300}}, \"repeat\": {\"layer\": [\"loss\", \"val_loss\"]}, \"spec\": {\"data\": {\"name\": \"data-c523737e0cd86cd4a4c8876a4e5e5877\"}, \"mark\": {\"type\": \"line\"}, \"encoding\": {\"color\": {\"datum\": {\"repeat\": \"layer\"}}, \"x\": {\"field\": \"index\", \"title\": \"Epochs\", \"type\": \"quantitative\"}, \"y\": {\"field\": {\"repeat\": \"layer\"}, \"title\": \"Loss\", \"type\": \"quantitative\"}}}, \"title\": \"Loss by Epoch\", \"$schema\": \"https://vega.github.io/schema/vega-lite/v5.20.1.json\", \"datasets\": {\"data-c523737e0cd86cd4a4c8876a4e5e5877\": [{\"index\": 0, \"loss\": 0.9135283827781677, \"val_loss\": 0.8499210476875305}, {\"index\": 1, \"loss\": 0.8201010823249817, \"val_loss\": 0.7893075942993164}, {\"index\": 2, \"loss\": 0.7544113397598267, \"val_loss\": 0.7420331835746765}, {\"index\": 3, \"loss\": 0.7008153200149536, \"val_loss\": 0.6991057991981506}, {\"index\": 4, \"loss\": 0.6515354514122009, \"val_loss\": 0.6590294241905212}, {\"index\": 5, \"loss\": 0.6007183194160461, \"val_loss\": 0.6174401640892029}, {\"index\": 6, \"loss\": 0.5554414987564087, \"val_loss\": 0.5740249752998352}, {\"index\": 7, \"loss\": 0.5096513628959656, \"val_loss\": 0.5293044447898865}, {\"index\": 8, \"loss\": 0.46705830097198486, \"val_loss\": 0.48223111033439636}, {\"index\": 9, \"loss\": 0.41966599225997925, \"val_loss\": 0.4346436560153961}, {\"index\": 10, \"loss\": 0.37493953108787537, \"val_loss\": 0.3893052041530609}, {\"index\": 11, \"loss\": 0.3330065906047821, \"val_loss\": 0.34445542097091675}, {\"index\": 12, \"loss\": 0.30207112431526184, \"val_loss\": 0.30691078305244446}, {\"index\": 13, \"loss\": 0.275119423866272, \"val_loss\": 0.2889906167984009}, {\"index\": 14, \"loss\": 0.2565694749355316, \"val_loss\": 0.2792052924633026}, {\"index\": 15, \"loss\": 0.244397833943367, \"val_loss\": 0.2688531279563904}, {\"index\": 16, \"loss\": 0.2333836406469345, \"val_loss\": 0.2639155685901642}, {\"index\": 17, \"loss\": 0.22713564336299896, \"val_loss\": 0.2574308216571808}, {\"index\": 18, \"loss\": 0.22268228232860565, \"val_loss\": 0.2569904327392578}, {\"index\": 19, \"loss\": 0.21737296879291534, \"val_loss\": 0.25149303674697876}, {\"index\": 20, \"loss\": 0.21390700340270996, \"val_loss\": 0.247484490275383}, {\"index\": 21, \"loss\": 0.21105854213237762, \"val_loss\": 0.2447805106639862}, {\"index\": 22, \"loss\": 0.2080632597208023, \"val_loss\": 0.24685391783714294}, {\"index\": 23, \"loss\": 0.20486822724342346, \"val_loss\": 0.2434019148349762}, {\"index\": 24, \"loss\": 0.20236001908779144, \"val_loss\": 0.24371489882469177}, {\"index\": 25, \"loss\": 0.20227739214897156, \"val_loss\": 0.23941168189048767}, {\"index\": 26, \"loss\": 0.1989612579345703, \"val_loss\": 0.24001556634902954}, {\"index\": 27, \"loss\": 0.197892963886261, \"val_loss\": 0.23800665140151978}, {\"index\": 28, \"loss\": 0.19632366299629211, \"val_loss\": 0.2350413203239441}, {\"index\": 29, \"loss\": 0.19555266201496124, \"val_loss\": 0.2377791851758957}, {\"index\": 30, \"loss\": 0.19369952380657196, \"val_loss\": 0.23506756126880646}, {\"index\": 31, \"loss\": 0.19256439805030823, \"val_loss\": 0.2314113974571228}, {\"index\": 32, \"loss\": 0.19097591936588287, \"val_loss\": 0.23386473953723907}, {\"index\": 33, \"loss\": 0.1888866126537323, \"val_loss\": 0.2324337214231491}, {\"index\": 34, \"loss\": 0.18896856904029846, \"val_loss\": 0.22861982882022858}, {\"index\": 35, \"loss\": 0.18666204810142517, \"val_loss\": 0.23388709127902985}, {\"index\": 36, \"loss\": 0.18679676949977875, \"val_loss\": 0.2302156537771225}, {\"index\": 37, \"loss\": 0.18556492030620575, \"val_loss\": 0.2238471806049347}, {\"index\": 38, \"loss\": 0.1850862205028534, \"val_loss\": 0.2234479933977127}, {\"index\": 39, \"loss\": 0.1841348111629486, \"val_loss\": 0.2319871038198471}, {\"index\": 40, \"loss\": 0.18213656544685364, \"val_loss\": 0.22154568135738373}, {\"index\": 41, \"loss\": 0.17965167760849, \"val_loss\": 0.22803333401679993}, {\"index\": 42, \"loss\": 0.18158531188964844, \"val_loss\": 0.22371527552604675}, {\"index\": 43, \"loss\": 0.17976076900959015, \"val_loss\": 0.224859818816185}, {\"index\": 44, \"loss\": 0.17813460528850555, \"val_loss\": 0.21826833486557007}, {\"index\": 45, \"loss\": 0.17755846679210663, \"val_loss\": 0.22086970508098602}, {\"index\": 46, \"loss\": 0.1761372685432434, \"val_loss\": 0.21760599315166473}, {\"index\": 47, \"loss\": 0.17701469361782074, \"val_loss\": 0.22214040160179138}, {\"index\": 48, \"loss\": 0.17426322400569916, \"val_loss\": 0.2146536260843277}, {\"index\": 49, \"loss\": 0.1754213273525238, \"val_loss\": 0.21949908137321472}, {\"index\": 50, \"loss\": 0.1729000359773636, \"val_loss\": 0.21703533828258514}, {\"index\": 51, \"loss\": 0.17251259088516235, \"val_loss\": 0.2212500274181366}, {\"index\": 52, \"loss\": 0.1730828583240509, \"val_loss\": 0.2186400592327118}, {\"index\": 53, \"loss\": 0.17189563810825348, \"val_loss\": 0.21588851511478424}, {\"index\": 54, \"loss\": 0.17025956511497498, \"val_loss\": 0.2148510366678238}, {\"index\": 55, \"loss\": 0.17087624967098236, \"val_loss\": 0.21916821599006653}, {\"index\": 56, \"loss\": 0.17046767473220825, \"val_loss\": 0.21773354709148407}, {\"index\": 57, \"loss\": 0.16933372616767883, \"val_loss\": 0.21220916509628296}, {\"index\": 58, \"loss\": 0.1682540774345398, \"val_loss\": 0.21582454442977905}, {\"index\": 59, \"loss\": 0.16703718900680542, \"val_loss\": 0.21302631497383118}, {\"index\": 60, \"loss\": 0.16650471091270447, \"val_loss\": 0.21168819069862366}, {\"index\": 61, \"loss\": 0.16612479090690613, \"val_loss\": 0.21492645144462585}, {\"index\": 62, \"loss\": 0.1664263904094696, \"val_loss\": 0.20939484238624573}, {\"index\": 63, \"loss\": 0.1654478907585144, \"val_loss\": 0.21500249207019806}, {\"index\": 64, \"loss\": 0.16515490412712097, \"val_loss\": 0.21161332726478577}, {\"index\": 65, \"loss\": 0.16395476460456848, \"val_loss\": 0.21063758432865143}, {\"index\": 66, \"loss\": 0.16332721710205078, \"val_loss\": 0.20892778038978577}, {\"index\": 67, \"loss\": 0.1628715693950653, \"val_loss\": 0.20810294151306152}, {\"index\": 68, \"loss\": 0.1626129001379013, \"val_loss\": 0.2075025886297226}, {\"index\": 69, \"loss\": 0.16159288585186005, \"val_loss\": 0.20836690068244934}, {\"index\": 70, \"loss\": 0.16204188764095306, \"val_loss\": 0.20641125738620758}, {\"index\": 71, \"loss\": 0.1609524041414261, \"val_loss\": 0.20679102838039398}, {\"index\": 72, \"loss\": 0.16107749938964844, \"val_loss\": 0.20640593767166138}, {\"index\": 73, \"loss\": 0.15955106914043427, \"val_loss\": 0.205833300948143}, {\"index\": 74, \"loss\": 0.16112840175628662, \"val_loss\": 0.21142591536045074}, {\"index\": 75, \"loss\": 0.1614389270544052, \"val_loss\": 0.20843559503555298}, {\"index\": 76, \"loss\": 0.16065379977226257, \"val_loss\": 0.20717619359493256}, {\"index\": 77, \"loss\": 0.16013270616531372, \"val_loss\": 0.20421463251113892}, {\"index\": 78, \"loss\": 0.1611725091934204, \"val_loss\": 0.2043396532535553}, {\"index\": 79, \"loss\": 0.1593167930841446, \"val_loss\": 0.20442433655261993}, {\"index\": 80, \"loss\": 0.15883611142635345, \"val_loss\": 0.20708200335502625}, {\"index\": 81, \"loss\": 0.15850377082824707, \"val_loss\": 0.20460502803325653}, {\"index\": 82, \"loss\": 0.158321350812912, \"val_loss\": 0.20378580689430237}, {\"index\": 83, \"loss\": 0.15814654529094696, \"val_loss\": 0.20460814237594604}, {\"index\": 84, \"loss\": 0.15682487189769745, \"val_loss\": 0.20246776938438416}, {\"index\": 85, \"loss\": 0.15651005506515503, \"val_loss\": 0.20621642470359802}, {\"index\": 86, \"loss\": 0.1566680669784546, \"val_loss\": 0.2024831473827362}, {\"index\": 87, \"loss\": 0.15627199411392212, \"val_loss\": 0.20030218362808228}, {\"index\": 88, \"loss\": 0.15555688738822937, \"val_loss\": 0.20393387973308563}, {\"index\": 89, \"loss\": 0.15652762353420258, \"val_loss\": 0.19989480078220367}, {\"index\": 90, \"loss\": 0.15593712031841278, \"val_loss\": 0.20012205839157104}, {\"index\": 91, \"loss\": 0.15544067323207855, \"val_loss\": 0.20216085016727448}, {\"index\": 92, \"loss\": 0.1544381082057953, \"val_loss\": 0.20305629074573517}, {\"index\": 93, \"loss\": 0.15471981465816498, \"val_loss\": 0.20039984583854675}, {\"index\": 94, \"loss\": 0.1547325998544693, \"val_loss\": 0.20103955268859863}, {\"index\": 95, \"loss\": 0.15579785406589508, \"val_loss\": 0.19922007620334625}, {\"index\": 96, \"loss\": 0.15487249195575714, \"val_loss\": 0.20122593641281128}, {\"index\": 97, \"loss\": 0.15409229695796967, \"val_loss\": 0.2009168267250061}, {\"index\": 98, \"loss\": 0.15372489392757416, \"val_loss\": 0.1970382183790207}, {\"index\": 99, \"loss\": 0.15347255766391754, \"val_loss\": 0.19697757065296173}]}}, {\"mode\": \"vega-lite\"});\n",
       "</script>"
      ],
      "text/plain": [
       "alt.RepeatChart(...)"
      ]
     },
     "metadata": {},
     "output_type": "display_data"
    }
   ],
   "source": [
    "plot_model_history(history_df, feature='mse', name=\"initial_NN\", tuner=True)\n",
    "plot_model_history(history_df, feature='loss', name=\"initial_NN\", tuner=True)"
   ]
  },
  {
   "cell_type": "markdown",
   "metadata": {},
   "source": [
    "# Results\n",
    "\n",
    "NN model pushes R2 down to 0.5 with very few epochs (<25)."
   ]
  },
  {
   "cell_type": "markdown",
   "metadata": {},
   "source": [
    "# Build a Tuner"
   ]
  },
  {
   "cell_type": "code",
   "execution_count": 464,
   "metadata": {},
   "outputs": [],
   "source": [
    "name = \"hardness_DNN_tuner\"\n",
    "def create_hp_model(hp):\n",
    "    #Activation for all hidden layers\n",
    "      activation = hp.Choice('activation',['relu','tanh','sigmoid'])\n",
    "\n",
    "      layers = [Dense(units=hp.Int('time_units1',\n",
    "                             min_value=8,\n",
    "                             max_value=256,\n",
    "                             sampling='linear'), \n",
    "                             activation=activation),\n",
    "                             # fork model to predict hardness\n",
    "                  Dense(units=hp.Int('time_units2',\n",
    "                             min_value=8,\n",
    "                             max_value=256,\n",
    "                             sampling='linear'), \n",
    "                             activation=activation),\n",
    "                  Dense(units=hp.Int('time_units3',\n",
    "                             min_value=8,\n",
    "                             max_value=256,\n",
    "                             sampling='linear'), \n",
    "                             activation=activation),\n",
    "                  Dense(units=hp.Int('time_units4',\n",
    "                             min_value=8,\n",
    "                             max_value=256,\n",
    "                             sampling='linear'), \n",
    "                             activation=activation),\n",
    "                  Dense(dim_output, name='Hardness')\n",
    "          ]\n",
    "    \n",
    "      nn_model = Sequential(layers)\n",
    "\n",
    "      nn_model.compile(optimizer=tf.keras.optimizers.Adam(0.001),\n",
    "                 loss='mean_absolute_error',\n",
    "                 metrics=['mse'])\n",
    "    \n",
    "      return nn_model"
   ]
  },
  {
   "cell_type": "code",
   "execution_count": 465,
   "metadata": {},
   "outputs": [],
   "source": [
    "tuner = kt.Hyperband(\n",
    "    create_hp_model,\n",
    "    objective=[\"val_loss\",\"val_loss\"],\n",
    "    max_epochs=20,\n",
    "    factor=5,\n",
    "    hyperband_iterations=2,\n",
    "    project_name=name,\n",
    "    executions_per_trial=5,\n",
    "    overwrite= True)# TODO: remove when done tuning this set and have saved DNN to github after model freeze\n"
   ]
  },
  {
   "cell_type": "code",
   "execution_count": null,
   "metadata": {},
   "outputs": [
    {
     "name": "stdout",
     "output_type": "stream",
     "text": [
      "Trial 2 Complete [00h 00m 49s]\n",
      "multi_objective: 0.2552858471870422\n",
      "\n",
      "Best multi_objective So Far: 0.19914618730545045\n",
      "Total elapsed time: 00h 01m 38s\n",
      "\n",
      "Search: Running Trial #3\n",
      "\n",
      "Value             |Best Value So Far |Hyperparameter\n",
      "tanh              |relu              |activation\n",
      "104               |131               |time_units1\n",
      "14                |271               |time_units2\n",
      "445               |398               |time_units3\n",
      "441               |449               |time_units4\n",
      "4                 |4                 |tuner/epochs\n",
      "0                 |0                 |tuner/initial_epoch\n",
      "1                 |1                 |tuner/bracket\n",
      "0                 |0                 |tuner/round\n",
      "\n",
      "Epoch 1/4\n",
      "\u001b[1m31/31\u001b[0m \u001b[32m━━━━━━━━━━━━━━━━━━━━\u001b[0m\u001b[37m\u001b[0m \u001b[1m1s\u001b[0m 4ms/step - loss: 0.4966 - mse: 0.4232 - val_loss: 0.3276 - val_mse: 0.1802\n",
      "Epoch 2/4\n",
      "\u001b[1m31/31\u001b[0m \u001b[32m━━━━━━━━━━━━━━━━━━━━\u001b[0m\u001b[37m\u001b[0m \u001b[1m0s\u001b[0m 2ms/step - loss: 0.3469 - mse: 0.2013 - val_loss: 0.2744 - val_mse: 0.1223\n",
      "Epoch 3/4\n",
      "\u001b[1m31/31\u001b[0m \u001b[32m━━━━━━━━━━━━━━━━━━━━\u001b[0m\u001b[37m\u001b[0m \u001b[1m0s\u001b[0m 2ms/step - loss: 0.2705 - mse: 0.1213 - val_loss: 0.2633 - val_mse: 0.1255\n",
      "Epoch 4/4\n",
      "\u001b[1m31/31\u001b[0m \u001b[32m━━━━━━━━━━━━━━━━━━━━\u001b[0m\u001b[37m\u001b[0m \u001b[1m0s\u001b[0m 2ms/step - loss: 0.2668 - mse: 0.1282 - val_loss: 0.2591 - val_mse: 0.1251\n",
      "Epoch 1/4\n",
      "\u001b[1m31/31\u001b[0m \u001b[32m━━━━━━━━━━━━━━━━━━━━\u001b[0m\u001b[37m\u001b[0m \u001b[1m1s\u001b[0m 4ms/step - loss: 0.5472 - mse: 0.5132 - val_loss: 0.3354 - val_mse: 0.1954\n",
      "Epoch 2/4\n",
      "\u001b[1m31/31\u001b[0m \u001b[32m━━━━━━━━━━━━━━━━━━━━\u001b[0m\u001b[37m\u001b[0m \u001b[1m0s\u001b[0m 2ms/step - loss: 0.3467 - mse: 0.1996 - val_loss: 0.3021 - val_mse: 0.1571\n",
      "Epoch 3/4\n",
      "\u001b[1m31/31\u001b[0m \u001b[32m━━━━━━━━━━━━━━━━━━━━\u001b[0m\u001b[37m\u001b[0m \u001b[1m0s\u001b[0m 2ms/step - loss: 0.2910 - mse: 0.1550 - val_loss: 0.3019 - val_mse: 0.1535\n",
      "Epoch 4/4\n",
      "\u001b[1m31/31\u001b[0m \u001b[32m━━━━━━━━━━━━━━━━━━━━\u001b[0m\u001b[37m\u001b[0m \u001b[1m0s\u001b[0m 2ms/step - loss: 0.2662 - mse: 0.1277 - val_loss: 0.2747 - val_mse: 0.1375\n",
      "Epoch 1/4\n",
      "\u001b[1m31/31\u001b[0m \u001b[32m━━━━━━━━━━━━━━━━━━━━\u001b[0m\u001b[37m\u001b[0m \u001b[1m1s\u001b[0m 4ms/step - loss: 0.4910 - mse: 0.4419 - val_loss: 0.3473 - val_mse: 0.2112\n",
      "Epoch 2/4\n",
      "\u001b[1m31/31\u001b[0m \u001b[32m━━━━━━━━━━━━━━━━━━━━\u001b[0m\u001b[37m\u001b[0m \u001b[1m0s\u001b[0m 2ms/step - loss: 0.3271 - mse: 0.1861 - val_loss: 0.3367 - val_mse: 0.1926\n",
      "Epoch 3/4\n",
      "\u001b[1m31/31\u001b[0m \u001b[32m━━━━━━━━━━━━━━━━━━━━\u001b[0m\u001b[37m\u001b[0m \u001b[1m0s\u001b[0m 2ms/step - loss: 0.2981 - mse: 0.1487 - val_loss: 0.3014 - val_mse: 0.1571\n",
      "Epoch 4/4\n",
      "\u001b[1m31/31\u001b[0m \u001b[32m━━━━━━━━━━━━━━━━━━━━\u001b[0m\u001b[37m\u001b[0m \u001b[1m0s\u001b[0m 2ms/step - loss: 0.3069 - mse: 0.1641 - val_loss: 0.2698 - val_mse: 0.1288\n"
     ]
    },
    {
     "name": "stderr",
     "output_type": "stream",
     "text": [
      "Exception ignored in: <bound method IPythonKernel._clean_thread_parent_frames of <ipykernel.ipkernel.IPythonKernel object at 0x7bf04bcfd280>>\n",
      "Traceback (most recent call last):\n",
      "  File \"/home/mox/Documents/coding_projects/bootcamp_local/Homeworks/Mild-Steel-Tempering/.venv/lib/python3.12/site-packages/ipykernel/ipkernel.py\", line 775, in _clean_thread_parent_frames\n",
      "    def _clean_thread_parent_frames(\n",
      "\n",
      "KeyboardInterrupt: \n"
     ]
    },
    {
     "name": "stdout",
     "output_type": "stream",
     "text": [
      "Epoch 1/4\n",
      "\u001b[1m31/31\u001b[0m \u001b[32m━━━━━━━━━━━━━━━━━━━━\u001b[0m\u001b[37m\u001b[0m \u001b[1m1s\u001b[0m 4ms/step - loss: 0.4233 - mse: 0.3124 - val_loss: 0.3255 - val_mse: 0.1695\n",
      "Epoch 2/4\n",
      "\u001b[1m31/31\u001b[0m \u001b[32m━━━━━━━━━━━━━━━━━━━━\u001b[0m\u001b[37m\u001b[0m \u001b[1m0s\u001b[0m 2ms/step - loss: 0.3072 - mse: 0.1692 - val_loss: 0.2877 - val_mse: 0.1487\n",
      "Epoch 3/4\n",
      "\u001b[1m31/31\u001b[0m \u001b[32m━━━━━━━━━━━━━━━━━━━━\u001b[0m\u001b[37m\u001b[0m \u001b[1m0s\u001b[0m 2ms/step - loss: 0.2988 - mse: 0.1536 - val_loss: 0.2754 - val_mse: 0.1300\n",
      "Epoch 4/4\n",
      "\u001b[1m31/31\u001b[0m \u001b[32m━━━━━━━━━━━━━━━━━━━━\u001b[0m\u001b[37m\u001b[0m \u001b[1m0s\u001b[0m 2ms/step - loss: 0.2655 - mse: 0.1243 - val_loss: 0.2789 - val_mse: 0.1436\n"
     ]
    }
   ],
   "source": [
    "tuner.search(x=X_train, \n",
    "             y=y_train,\n",
    "             epochs=250,\n",
    "             validation_data=(X_test,y_test))"
   ]
  },
  {
   "cell_type": "code",
   "execution_count": 453,
   "metadata": {},
   "outputs": [],
   "source": [
    "best_model = tuner.get_best_models(1)[0]"
   ]
  },
  {
   "cell_type": "code",
   "execution_count": 454,
   "metadata": {},
   "outputs": [],
   "source": [
    "fit_history = best_model.fit(x=X_train, \n",
    "               y=y_train, \n",
    "               verbose=0,\n",
    "               epochs=150)"
   ]
  },
  {
   "cell_type": "code",
   "execution_count": 455,
   "metadata": {},
   "outputs": [
    {
     "data": {
      "text/plain": [
       "{'activation': 'relu',\n",
       " 'time_units1': 145,\n",
       " 'time_units2': 389,\n",
       " 'time_units3': 70,\n",
       " 'time_units4': 36,\n",
       " 'tuner/epochs': 20,\n",
       " 'tuner/initial_epoch': 4,\n",
       " 'tuner/bracket': 1,\n",
       " 'tuner/round': 1,\n",
       " 'tuner/trial_id': '0016'}"
      ]
     },
     "execution_count": 455,
     "metadata": {},
     "output_type": "execute_result"
    }
   ],
   "source": [
    "tuner.get_best_hyperparameters(1)[0].values"
   ]
  },
  {
   "cell_type": "code",
   "execution_count": 456,
   "metadata": {},
   "outputs": [
    {
     "data": {
      "text/html": [
       "<div><style>\n",
       ".dataframe > thead > tr,\n",
       ".dataframe > tbody > tr {\n",
       "  text-align: right;\n",
       "  white-space: pre-wrap;\n",
       "}\n",
       "</style>\n",
       "<small>shape: (3, 3)</small><table border=\"1\" class=\"dataframe\"><thead><tr><th>index</th><th>loss</th><th>mse</th></tr><tr><td>u32</td><td>f64</td><td>f64</td></tr></thead><tbody><tr><td>0</td><td>0.182897</td><td>0.062156</td></tr><tr><td>1</td><td>0.147749</td><td>0.045775</td></tr><tr><td>2</td><td>0.142241</td><td>0.042619</td></tr></tbody></table></div>"
      ],
      "text/plain": [
       "shape: (3, 3)\n",
       "┌───────┬──────────┬──────────┐\n",
       "│ index ┆ loss     ┆ mse      │\n",
       "│ ---   ┆ ---      ┆ ---      │\n",
       "│ u32   ┆ f64      ┆ f64      │\n",
       "╞═══════╪══════════╪══════════╡\n",
       "│ 0     ┆ 0.182897 ┆ 0.062156 │\n",
       "│ 1     ┆ 0.147749 ┆ 0.045775 │\n",
       "│ 2     ┆ 0.142241 ┆ 0.042619 │\n",
       "└───────┴──────────┴──────────┘"
      ]
     },
     "execution_count": 456,
     "metadata": {},
     "output_type": "execute_result"
    }
   ],
   "source": [
    "history_df = pl.DataFrame(fit_history.history)\n",
    "history_df = history_df.with_row_index()\n",
    "history_df.head(3)"
   ]
  },
  {
   "cell_type": "code",
   "execution_count": 457,
   "metadata": {},
   "outputs": [
    {
     "data": {
      "text/html": [
       "\n",
       "<style>\n",
       "  #altair-viz-d2c54ad57a0f40ce95482b38488fae2b.vega-embed {\n",
       "    width: 100%;\n",
       "    display: flex;\n",
       "  }\n",
       "\n",
       "  #altair-viz-d2c54ad57a0f40ce95482b38488fae2b.vega-embed details,\n",
       "  #altair-viz-d2c54ad57a0f40ce95482b38488fae2b.vega-embed details summary {\n",
       "    position: relative;\n",
       "  }\n",
       "</style>\n",
       "<div id=\"altair-viz-d2c54ad57a0f40ce95482b38488fae2b\"></div>\n",
       "<script type=\"text/javascript\">\n",
       "  var VEGA_DEBUG = (typeof VEGA_DEBUG == \"undefined\") ? {} : VEGA_DEBUG;\n",
       "  (function(spec, embedOpt){\n",
       "    let outputDiv = document.currentScript.previousElementSibling;\n",
       "    if (outputDiv.id !== \"altair-viz-d2c54ad57a0f40ce95482b38488fae2b\") {\n",
       "      outputDiv = document.getElementById(\"altair-viz-d2c54ad57a0f40ce95482b38488fae2b\");\n",
       "    }\n",
       "    const paths = {\n",
       "      \"vega\": \"https://cdn.jsdelivr.net/npm/vega@5?noext\",\n",
       "      \"vega-lib\": \"https://cdn.jsdelivr.net/npm/vega-lib?noext\",\n",
       "      \"vega-lite\": \"https://cdn.jsdelivr.net/npm/vega-lite@5.20.1?noext\",\n",
       "      \"vega-embed\": \"https://cdn.jsdelivr.net/npm/vega-embed@6?noext\",\n",
       "    };\n",
       "\n",
       "    function maybeLoadScript(lib, version) {\n",
       "      var key = `${lib.replace(\"-\", \"\")}_version`;\n",
       "      return (VEGA_DEBUG[key] == version) ?\n",
       "        Promise.resolve(paths[lib]) :\n",
       "        new Promise(function(resolve, reject) {\n",
       "          var s = document.createElement('script');\n",
       "          document.getElementsByTagName(\"head\")[0].appendChild(s);\n",
       "          s.async = true;\n",
       "          s.onload = () => {\n",
       "            VEGA_DEBUG[key] = version;\n",
       "            return resolve(paths[lib]);\n",
       "          };\n",
       "          s.onerror = () => reject(`Error loading script: ${paths[lib]}`);\n",
       "          s.src = paths[lib];\n",
       "        });\n",
       "    }\n",
       "\n",
       "    function showError(err) {\n",
       "      outputDiv.innerHTML = `<div class=\"error\" style=\"color:red;\">${err}</div>`;\n",
       "      throw err;\n",
       "    }\n",
       "\n",
       "    function displayChart(vegaEmbed) {\n",
       "      vegaEmbed(outputDiv, spec, embedOpt)\n",
       "        .catch(err => showError(`Javascript Error: ${err.message}<br>This usually means there's a typo in your chart specification. See the javascript console for the full traceback.`));\n",
       "    }\n",
       "\n",
       "    if(typeof define === \"function\" && define.amd) {\n",
       "      requirejs.config({paths});\n",
       "      require([\"vega-embed\"], displayChart, err => showError(`Error loading script: ${err.message}`));\n",
       "    } else {\n",
       "      maybeLoadScript(\"vega\", \"5\")\n",
       "        .then(() => maybeLoadScript(\"vega-lite\", \"5.20.1\"))\n",
       "        .then(() => maybeLoadScript(\"vega-embed\", \"6\"))\n",
       "        .catch(showError)\n",
       "        .then(() => displayChart(vegaEmbed));\n",
       "    }\n",
       "  })({\"config\": {\"view\": {\"continuousWidth\": 300, \"continuousHeight\": 300}}, \"repeat\": {\"layer\": [\"mse\"]}, \"spec\": {\"data\": {\"name\": \"data-577673f6717952cc5c29bfb7e9c2276b\"}, \"mark\": {\"type\": \"line\"}, \"encoding\": {\"color\": {\"datum\": {\"repeat\": \"layer\"}}, \"x\": {\"field\": \"index\", \"title\": \"Epochs\", \"type\": \"quantitative\"}, \"y\": {\"field\": {\"repeat\": \"layer\"}, \"title\": \"Mean Squared Error\", \"type\": \"quantitative\"}}}, \"title\": \"Mean Squared Error by Epoch\", \"$schema\": \"https://vega.github.io/schema/vega-lite/v5.20.1.json\", \"datasets\": {\"data-577673f6717952cc5c29bfb7e9c2276b\": [{\"index\": 0, \"mse\": 0.062156129628419876}, {\"index\": 1, \"mse\": 0.04577519744634628}, {\"index\": 2, \"mse\": 0.04261864349246025}, {\"index\": 3, \"mse\": 0.05365458503365517}, {\"index\": 4, \"mse\": 0.04321415349841118}, {\"index\": 5, \"mse\": 0.042406778782606125}, {\"index\": 6, \"mse\": 0.03585725277662277}, {\"index\": 7, \"mse\": 0.04008468613028526}, {\"index\": 8, \"mse\": 0.03892387077212334}, {\"index\": 9, \"mse\": 0.05309157073497772}, {\"index\": 10, \"mse\": 0.04234213009476662}, {\"index\": 11, \"mse\": 0.05762748792767525}, {\"index\": 12, \"mse\": 0.036263927817344666}, {\"index\": 13, \"mse\": 0.032408375293016434}, {\"index\": 14, \"mse\": 0.032527755945920944}, {\"index\": 15, \"mse\": 0.032151032239198685}, {\"index\": 16, \"mse\": 0.04424704238772392}, {\"index\": 17, \"mse\": 0.03589175269007683}, {\"index\": 18, \"mse\": 0.034574929624795914}, {\"index\": 19, \"mse\": 0.04520232230424881}, {\"index\": 20, \"mse\": 0.034724920988082886}, {\"index\": 21, \"mse\": 0.03475029766559601}, {\"index\": 22, \"mse\": 0.031129809096455574}, {\"index\": 23, \"mse\": 0.03514713793992996}, {\"index\": 24, \"mse\": 0.03165464848279953}, {\"index\": 25, \"mse\": 0.03588032349944115}, {\"index\": 26, \"mse\": 0.026696715503931046}, {\"index\": 27, \"mse\": 0.029361886903643608}, {\"index\": 28, \"mse\": 0.028100380674004555}, {\"index\": 29, \"mse\": 0.02313106320798397}, {\"index\": 30, \"mse\": 0.025967255234718323}, {\"index\": 31, \"mse\": 0.030811062082648277}, {\"index\": 32, \"mse\": 0.02856327034533024}, {\"index\": 33, \"mse\": 0.02681702934205532}, {\"index\": 34, \"mse\": 0.027331888675689697}, {\"index\": 35, \"mse\": 0.02430838905274868}, {\"index\": 36, \"mse\": 0.023000476881861687}, {\"index\": 37, \"mse\": 0.025219429284334183}, {\"index\": 38, \"mse\": 0.030424201861023903}, {\"index\": 39, \"mse\": 0.026931041851639748}, {\"index\": 40, \"mse\": 0.02639682963490486}, {\"index\": 41, \"mse\": 0.022993789985775948}, {\"index\": 42, \"mse\": 0.039779096841812134}, {\"index\": 43, \"mse\": 0.027779852971434593}, {\"index\": 44, \"mse\": 0.027977585792541504}, {\"index\": 45, \"mse\": 0.02812722697854042}, {\"index\": 46, \"mse\": 0.027507351711392403}, {\"index\": 47, \"mse\": 0.02713732048869133}, {\"index\": 48, \"mse\": 0.02523234859108925}, {\"index\": 49, \"mse\": 0.029164178296923637}, {\"index\": 50, \"mse\": 0.026292776688933372}, {\"index\": 51, \"mse\": 0.020757528021931648}, {\"index\": 52, \"mse\": 0.022646799683570862}, {\"index\": 53, \"mse\": 0.026294896379113197}, {\"index\": 54, \"mse\": 0.029351556673645973}, {\"index\": 55, \"mse\": 0.025369031354784966}, {\"index\": 56, \"mse\": 0.024973798543214798}, {\"index\": 57, \"mse\": 0.025171978399157524}, {\"index\": 58, \"mse\": 0.02319791167974472}, {\"index\": 59, \"mse\": 0.02432272583246231}, {\"index\": 60, \"mse\": 0.024030061438679695}, {\"index\": 61, \"mse\": 0.022637058049440384}, {\"index\": 62, \"mse\": 0.020935650914907455}, {\"index\": 63, \"mse\": 0.02287512831389904}, {\"index\": 64, \"mse\": 0.026712404564023018}, {\"index\": 65, \"mse\": 0.021495597437024117}, {\"index\": 66, \"mse\": 0.02441423572599888}, {\"index\": 67, \"mse\": 0.021903986111283302}, {\"index\": 68, \"mse\": 0.028338605538010597}, {\"index\": 69, \"mse\": 0.023148715496063232}, {\"index\": 70, \"mse\": 0.019877661019563675}, {\"index\": 71, \"mse\": 0.01893545128405094}, {\"index\": 72, \"mse\": 0.021775411441922188}, {\"index\": 73, \"mse\": 0.019022325053811073}, {\"index\": 74, \"mse\": 0.025584641844034195}, {\"index\": 75, \"mse\": 0.021429380401968956}, {\"index\": 76, \"mse\": 0.022599058225750923}, {\"index\": 77, \"mse\": 0.0243730079382658}, {\"index\": 78, \"mse\": 0.02137056551873684}, {\"index\": 79, \"mse\": 0.019721252843737602}, {\"index\": 80, \"mse\": 0.027012916281819344}, {\"index\": 81, \"mse\": 0.024144478142261505}, {\"index\": 82, \"mse\": 0.025661345571279526}, {\"index\": 83, \"mse\": 0.02427668124437332}, {\"index\": 84, \"mse\": 0.020530560985207558}, {\"index\": 85, \"mse\": 0.018520954996347427}, {\"index\": 86, \"mse\": 0.023066138848662376}, {\"index\": 87, \"mse\": 0.03629138320684433}, {\"index\": 88, \"mse\": 0.029076194390654564}, {\"index\": 89, \"mse\": 0.022274643182754517}, {\"index\": 90, \"mse\": 0.02095521055161953}, {\"index\": 91, \"mse\": 0.027173027396202087}, {\"index\": 92, \"mse\": 0.020034991204738617}, {\"index\": 93, \"mse\": 0.019184689968824387}, {\"index\": 94, \"mse\": 0.02426675334572792}, {\"index\": 95, \"mse\": 0.0191026721149683}, {\"index\": 96, \"mse\": 0.02232038602232933}, {\"index\": 97, \"mse\": 0.020911162719130516}, {\"index\": 98, \"mse\": 0.02168329432606697}, {\"index\": 99, \"mse\": 0.023728571832180023}, {\"index\": 100, \"mse\": 0.02181050553917885}, {\"index\": 101, \"mse\": 0.021088723093271255}, {\"index\": 102, \"mse\": 0.019056232646107674}, {\"index\": 103, \"mse\": 0.020538639277219772}, {\"index\": 104, \"mse\": 0.018032029271125793}, {\"index\": 105, \"mse\": 0.021377824246883392}, {\"index\": 106, \"mse\": 0.02051931992173195}, {\"index\": 107, \"mse\": 0.023419272154569626}, {\"index\": 108, \"mse\": 0.018929749727249146}, {\"index\": 109, \"mse\": 0.019135285168886185}, {\"index\": 110, \"mse\": 0.020130861550569534}, {\"index\": 111, \"mse\": 0.024413036182522774}, {\"index\": 112, \"mse\": 0.017984634265303612}, {\"index\": 113, \"mse\": 0.02108440175652504}, {\"index\": 114, \"mse\": 0.023030877113342285}, {\"index\": 115, \"mse\": 0.01957947015762329}, {\"index\": 116, \"mse\": 0.022525442764163017}, {\"index\": 117, \"mse\": 0.02097402513027191}, {\"index\": 118, \"mse\": 0.017024356871843338}, {\"index\": 119, \"mse\": 0.017362002283334732}, {\"index\": 120, \"mse\": 0.019554736092686653}, {\"index\": 121, \"mse\": 0.01756378263235092}, {\"index\": 122, \"mse\": 0.017712928354740143}, {\"index\": 123, \"mse\": 0.020193137228488922}, {\"index\": 124, \"mse\": 0.020435677841305733}, {\"index\": 125, \"mse\": 0.01717233844101429}, {\"index\": 126, \"mse\": 0.01797853223979473}, {\"index\": 127, \"mse\": 0.015781667083501816}, {\"index\": 128, \"mse\": 0.021830465644598007}, {\"index\": 129, \"mse\": 0.02152065746486187}, {\"index\": 130, \"mse\": 0.016456367447972298}, {\"index\": 131, \"mse\": 0.017846934497356415}, {\"index\": 132, \"mse\": 0.022523079067468643}, {\"index\": 133, \"mse\": 0.02067588083446026}, {\"index\": 134, \"mse\": 0.01785247214138508}, {\"index\": 135, \"mse\": 0.016491038724780083}, {\"index\": 136, \"mse\": 0.02123664878308773}, {\"index\": 137, \"mse\": 0.01975579746067524}, {\"index\": 138, \"mse\": 0.024263320490717888}, {\"index\": 139, \"mse\": 0.020910965278744698}, {\"index\": 140, \"mse\": 0.017926378175616264}, {\"index\": 141, \"mse\": 0.017425144091248512}, {\"index\": 142, \"mse\": 0.020594511181116104}, {\"index\": 143, \"mse\": 0.016527071595191956}, {\"index\": 144, \"mse\": 0.01667703315615654}, {\"index\": 145, \"mse\": 0.020358067005872726}, {\"index\": 146, \"mse\": 0.024029165506362915}, {\"index\": 147, \"mse\": 0.01747591607272625}, {\"index\": 148, \"mse\": 0.02170533500611782}, {\"index\": 149, \"mse\": 0.01937103644013405}]}}, {\"mode\": \"vega-lite\"});\n",
       "</script>"
      ],
      "text/plain": [
       "alt.RepeatChart(...)"
      ]
     },
     "metadata": {},
     "output_type": "display_data"
    },
    {
     "data": {
      "text/html": [
       "\n",
       "<style>\n",
       "  #altair-viz-bc764b0ada1d47e7977fecbbb423300c.vega-embed {\n",
       "    width: 100%;\n",
       "    display: flex;\n",
       "  }\n",
       "\n",
       "  #altair-viz-bc764b0ada1d47e7977fecbbb423300c.vega-embed details,\n",
       "  #altair-viz-bc764b0ada1d47e7977fecbbb423300c.vega-embed details summary {\n",
       "    position: relative;\n",
       "  }\n",
       "</style>\n",
       "<div id=\"altair-viz-bc764b0ada1d47e7977fecbbb423300c\"></div>\n",
       "<script type=\"text/javascript\">\n",
       "  var VEGA_DEBUG = (typeof VEGA_DEBUG == \"undefined\") ? {} : VEGA_DEBUG;\n",
       "  (function(spec, embedOpt){\n",
       "    let outputDiv = document.currentScript.previousElementSibling;\n",
       "    if (outputDiv.id !== \"altair-viz-bc764b0ada1d47e7977fecbbb423300c\") {\n",
       "      outputDiv = document.getElementById(\"altair-viz-bc764b0ada1d47e7977fecbbb423300c\");\n",
       "    }\n",
       "    const paths = {\n",
       "      \"vega\": \"https://cdn.jsdelivr.net/npm/vega@5?noext\",\n",
       "      \"vega-lib\": \"https://cdn.jsdelivr.net/npm/vega-lib?noext\",\n",
       "      \"vega-lite\": \"https://cdn.jsdelivr.net/npm/vega-lite@5.20.1?noext\",\n",
       "      \"vega-embed\": \"https://cdn.jsdelivr.net/npm/vega-embed@6?noext\",\n",
       "    };\n",
       "\n",
       "    function maybeLoadScript(lib, version) {\n",
       "      var key = `${lib.replace(\"-\", \"\")}_version`;\n",
       "      return (VEGA_DEBUG[key] == version) ?\n",
       "        Promise.resolve(paths[lib]) :\n",
       "        new Promise(function(resolve, reject) {\n",
       "          var s = document.createElement('script');\n",
       "          document.getElementsByTagName(\"head\")[0].appendChild(s);\n",
       "          s.async = true;\n",
       "          s.onload = () => {\n",
       "            VEGA_DEBUG[key] = version;\n",
       "            return resolve(paths[lib]);\n",
       "          };\n",
       "          s.onerror = () => reject(`Error loading script: ${paths[lib]}`);\n",
       "          s.src = paths[lib];\n",
       "        });\n",
       "    }\n",
       "\n",
       "    function showError(err) {\n",
       "      outputDiv.innerHTML = `<div class=\"error\" style=\"color:red;\">${err}</div>`;\n",
       "      throw err;\n",
       "    }\n",
       "\n",
       "    function displayChart(vegaEmbed) {\n",
       "      vegaEmbed(outputDiv, spec, embedOpt)\n",
       "        .catch(err => showError(`Javascript Error: ${err.message}<br>This usually means there's a typo in your chart specification. See the javascript console for the full traceback.`));\n",
       "    }\n",
       "\n",
       "    if(typeof define === \"function\" && define.amd) {\n",
       "      requirejs.config({paths});\n",
       "      require([\"vega-embed\"], displayChart, err => showError(`Error loading script: ${err.message}`));\n",
       "    } else {\n",
       "      maybeLoadScript(\"vega\", \"5\")\n",
       "        .then(() => maybeLoadScript(\"vega-lite\", \"5.20.1\"))\n",
       "        .then(() => maybeLoadScript(\"vega-embed\", \"6\"))\n",
       "        .catch(showError)\n",
       "        .then(() => displayChart(vegaEmbed));\n",
       "    }\n",
       "  })({\"config\": {\"view\": {\"continuousWidth\": 300, \"continuousHeight\": 300}}, \"repeat\": {\"layer\": [\"loss\"]}, \"spec\": {\"data\": {\"name\": \"data-e9193b79e52205d4f0878870dd4f3b02\"}, \"mark\": {\"type\": \"line\"}, \"encoding\": {\"color\": {\"datum\": {\"repeat\": \"layer\"}}, \"x\": {\"field\": \"index\", \"title\": \"Epochs\", \"type\": \"quantitative\"}, \"y\": {\"field\": {\"repeat\": \"layer\"}, \"title\": \"Loss\", \"type\": \"quantitative\"}}}, \"title\": \"Loss by Epoch\", \"$schema\": \"https://vega.github.io/schema/vega-lite/v5.20.1.json\", \"datasets\": {\"data-e9193b79e52205d4f0878870dd4f3b02\": [{\"index\": 0, \"loss\": 0.18289685249328613}, {\"index\": 1, \"loss\": 0.14774905145168304}, {\"index\": 2, \"loss\": 0.1422409862279892}, {\"index\": 3, \"loss\": 0.16742391884326935}, {\"index\": 4, \"loss\": 0.14379559457302094}, {\"index\": 5, \"loss\": 0.1434791088104248}, {\"index\": 6, \"loss\": 0.1265098601579666}, {\"index\": 7, \"loss\": 0.13815659284591675}, {\"index\": 8, \"loss\": 0.13417822122573853}, {\"index\": 9, \"loss\": 0.1621762216091156}, {\"index\": 10, \"loss\": 0.14405488967895508}, {\"index\": 11, \"loss\": 0.1632303148508072}, {\"index\": 12, \"loss\": 0.13157492876052856}, {\"index\": 13, \"loss\": 0.12232612818479538}, {\"index\": 14, \"loss\": 0.11878794431686401}, {\"index\": 15, \"loss\": 0.12176727503538132}, {\"index\": 16, \"loss\": 0.14885711669921875}, {\"index\": 17, \"loss\": 0.12999190390110016}, {\"index\": 18, \"loss\": 0.12865084409713745}, {\"index\": 19, \"loss\": 0.15010714530944824}, {\"index\": 20, \"loss\": 0.12396232038736343}, {\"index\": 21, \"loss\": 0.1280592828989029}, {\"index\": 22, \"loss\": 0.11855367571115494}, {\"index\": 23, \"loss\": 0.12931394577026367}, {\"index\": 24, \"loss\": 0.12140213698148727}, {\"index\": 25, \"loss\": 0.1288912147283554}, {\"index\": 26, \"loss\": 0.10891009867191315}, {\"index\": 27, \"loss\": 0.11196213960647583}, {\"index\": 28, \"loss\": 0.1140216812491417}, {\"index\": 29, \"loss\": 0.10021533071994781}, {\"index\": 30, \"loss\": 0.10801342874765396}, {\"index\": 31, \"loss\": 0.12335367500782013}, {\"index\": 32, \"loss\": 0.11329115927219391}, {\"index\": 33, \"loss\": 0.11304406821727753}, {\"index\": 34, \"loss\": 0.11467263847589493}, {\"index\": 35, \"loss\": 0.10401566326618195}, {\"index\": 36, \"loss\": 0.09879666566848755}, {\"index\": 37, \"loss\": 0.10707152634859085}, {\"index\": 38, \"loss\": 0.11740504950284958}, {\"index\": 39, \"loss\": 0.10709381848573685}, {\"index\": 40, \"loss\": 0.1087251752614975}, {\"index\": 41, \"loss\": 0.10037387162446976}, {\"index\": 42, \"loss\": 0.14008653163909912}, {\"index\": 43, \"loss\": 0.113152414560318}, {\"index\": 44, \"loss\": 0.11470792442560196}, {\"index\": 45, \"loss\": 0.10885096341371536}, {\"index\": 46, \"loss\": 0.10788840055465698}, {\"index\": 47, \"loss\": 0.10583855956792831}, {\"index\": 48, \"loss\": 0.11123506724834442}, {\"index\": 49, \"loss\": 0.11783841997385025}, {\"index\": 50, \"loss\": 0.11421006917953491}, {\"index\": 51, \"loss\": 0.09697550535202026}, {\"index\": 52, \"loss\": 0.09781159460544586}, {\"index\": 53, \"loss\": 0.10764120519161224}, {\"index\": 54, \"loss\": 0.11288367211818695}, {\"index\": 55, \"loss\": 0.10765288770198822}, {\"index\": 56, \"loss\": 0.10461151599884033}, {\"index\": 57, \"loss\": 0.10825896263122559}, {\"index\": 58, \"loss\": 0.10242714732885361}, {\"index\": 59, \"loss\": 0.10451073944568634}, {\"index\": 60, \"loss\": 0.10095531493425369}, {\"index\": 61, \"loss\": 0.09962519258260727}, {\"index\": 62, \"loss\": 0.09710005670785904}, {\"index\": 63, \"loss\": 0.09706602245569229}, {\"index\": 64, \"loss\": 0.10677963495254517}, {\"index\": 65, \"loss\": 0.09430746734142303}, {\"index\": 66, \"loss\": 0.10001108050346375}, {\"index\": 67, \"loss\": 0.09821832925081253}, {\"index\": 68, \"loss\": 0.11129271984100342}, {\"index\": 69, \"loss\": 0.10210222750902176}, {\"index\": 70, \"loss\": 0.09273456037044525}, {\"index\": 71, \"loss\": 0.09134887903928757}, {\"index\": 72, \"loss\": 0.09388427436351776}, {\"index\": 73, \"loss\": 0.08686722815036774}, {\"index\": 74, \"loss\": 0.10200157016515732}, {\"index\": 75, \"loss\": 0.09379351139068604}, {\"index\": 76, \"loss\": 0.09974294900894165}, {\"index\": 77, \"loss\": 0.10285381227731705}, {\"index\": 78, \"loss\": 0.09968231618404388}, {\"index\": 79, \"loss\": 0.09144473075866699}, {\"index\": 80, \"loss\": 0.10747318714857101}, {\"index\": 81, \"loss\": 0.1053851768374443}, {\"index\": 82, \"loss\": 0.10849504917860031}, {\"index\": 83, \"loss\": 0.10141899436712265}, {\"index\": 84, \"loss\": 0.09265924245119095}, {\"index\": 85, \"loss\": 0.08801029622554779}, {\"index\": 86, \"loss\": 0.09295783936977386}, {\"index\": 87, \"loss\": 0.12599781155586243}, {\"index\": 88, \"loss\": 0.11851555854082108}, {\"index\": 89, \"loss\": 0.10226835310459137}, {\"index\": 90, \"loss\": 0.09677157551050186}, {\"index\": 91, \"loss\": 0.11307121813297272}, {\"index\": 92, \"loss\": 0.0950448215007782}, {\"index\": 93, \"loss\": 0.09132515639066696}, {\"index\": 94, \"loss\": 0.09885071963071823}, {\"index\": 95, \"loss\": 0.09124065935611725}, {\"index\": 96, \"loss\": 0.09427164494991302}, {\"index\": 97, \"loss\": 0.09636580944061279}, {\"index\": 98, \"loss\": 0.09602846950292587}, {\"index\": 99, \"loss\": 0.1022121012210846}, {\"index\": 100, \"loss\": 0.09760192781686783}, {\"index\": 101, \"loss\": 0.09357079863548279}, {\"index\": 102, \"loss\": 0.09030265361070633}, {\"index\": 103, \"loss\": 0.09156947582960129}, {\"index\": 104, \"loss\": 0.08395915478467941}, {\"index\": 105, \"loss\": 0.0937846302986145}, {\"index\": 106, \"loss\": 0.092010498046875}, {\"index\": 107, \"loss\": 0.09481102973222733}, {\"index\": 108, \"loss\": 0.08976279199123383}, {\"index\": 109, \"loss\": 0.08768941462039948}, {\"index\": 110, \"loss\": 0.09255892038345337}, {\"index\": 111, \"loss\": 0.10226543247699738}, {\"index\": 112, \"loss\": 0.08553478121757507}, {\"index\": 113, \"loss\": 0.09758628159761429}, {\"index\": 114, \"loss\": 0.10288957506418228}, {\"index\": 115, \"loss\": 0.09207285940647125}, {\"index\": 116, \"loss\": 0.1005135327577591}, {\"index\": 117, \"loss\": 0.09683151543140411}, {\"index\": 118, \"loss\": 0.08266885578632355}, {\"index\": 119, \"loss\": 0.08295198529958725}, {\"index\": 120, \"loss\": 0.08997657895088196}, {\"index\": 121, \"loss\": 0.08389931917190552}, {\"index\": 122, \"loss\": 0.08598653972148895}, {\"index\": 123, \"loss\": 0.0898803323507309}, {\"index\": 124, \"loss\": 0.09511955082416534}, {\"index\": 125, \"loss\": 0.08450088649988174}, {\"index\": 126, \"loss\": 0.08365760743618011}, {\"index\": 127, \"loss\": 0.07853309065103531}, {\"index\": 128, \"loss\": 0.09760592132806778}, {\"index\": 129, \"loss\": 0.095940001308918}, {\"index\": 130, \"loss\": 0.08243810385465622}, {\"index\": 131, \"loss\": 0.08399881422519684}, {\"index\": 132, \"loss\": 0.09557968378067017}, {\"index\": 133, \"loss\": 0.09580767154693604}, {\"index\": 134, \"loss\": 0.08612583577632904}, {\"index\": 135, \"loss\": 0.08444813638925552}, {\"index\": 136, \"loss\": 0.09449387341737747}, {\"index\": 137, \"loss\": 0.09402387589216232}, {\"index\": 138, \"loss\": 0.102577805519104}, {\"index\": 139, \"loss\": 0.0933559462428093}, {\"index\": 140, \"loss\": 0.08612356334924698}, {\"index\": 141, \"loss\": 0.082737997174263}, {\"index\": 142, \"loss\": 0.09467542916536331}, {\"index\": 143, \"loss\": 0.08011962473392487}, {\"index\": 144, \"loss\": 0.08517652004957199}, {\"index\": 145, \"loss\": 0.0909615084528923}, {\"index\": 146, \"loss\": 0.10421806573867798}, {\"index\": 147, \"loss\": 0.08311815559864044}, {\"index\": 148, \"loss\": 0.09837682545185089}, {\"index\": 149, \"loss\": 0.08989962190389633}]}}, {\"mode\": \"vega-lite\"});\n",
       "</script>"
      ],
      "text/plain": [
       "alt.RepeatChart(...)"
      ]
     },
     "metadata": {},
     "output_type": "display_data"
    }
   ],
   "source": [
    "plot_model_history(history_df, feature='mse', name=name, tuner=False)\n",
    "plot_model_history(history_df, feature='loss', name=name, tuner=False)"
   ]
  },
  {
   "cell_type": "markdown",
   "metadata": {},
   "source": [
    "# Optimizing optimizer"
   ]
  },
  {
   "cell_type": "code",
   "execution_count": 458,
   "metadata": {},
   "outputs": [],
   "source": [
    "\n",
    "def create_opt_model(opt):\n",
    "    #Activation for all hidden layers\n",
    "\n",
    "    layers = [Dense(units=164, \n",
    "                    activation='relu'),\n",
    "                Dense(units=24, \n",
    "                      activation='relu'),\n",
    "                Dense(dim_output, name='Hardness')\n",
    "          ]\n",
    "    \n",
    "    nn_model = Sequential(layers)\n",
    "\n",
    "    nn_model.compile(optimizer=opt,\n",
    "                 loss='mean_absolute_error',\n",
    "                 metrics=['mse'])\n",
    "    \n",
    "    return nn_model"
   ]
  },
  {
   "cell_type": "code",
   "execution_count": 459,
   "metadata": {},
   "outputs": [],
   "source": [
    "optimizers = [name.lower() for name in [\"Adadelta\", \n",
    "                                        \"Adafactor\", \n",
    "                                        \"Adagrad\", \n",
    "                                        \"Adam\", \n",
    "                                        \"AdamW\", \n",
    "                                        \"Adamax\", \n",
    "                                        \"Ftrl\", \n",
    "                                        \"Lion\", \n",
    "                                        \"Nadam\", \n",
    "                                        \"RMSprop\", \n",
    "                                        \"SGD\"]]"
   ]
  },
  {
   "cell_type": "code",
   "execution_count": 460,
   "metadata": {},
   "outputs": [
    {
     "name": "stdout",
     "output_type": "stream",
     "text": [
      "\u001b[1m11/11\u001b[0m \u001b[32m━━━━━━━━━━━━━━━━━━━━\u001b[0m\u001b[37m\u001b[0m \u001b[1m0s\u001b[0m 1ms/step - loss: 0.1901 - mse: 0.0718  \n",
      "\u001b[1m11/11\u001b[0m \u001b[32m━━━━━━━━━━━━━━━━━━━━\u001b[0m\u001b[37m\u001b[0m \u001b[1m0s\u001b[0m 580us/step - loss: 0.1901 - mse: 0.0718\n",
      "\u001b[1m11/11\u001b[0m \u001b[32m━━━━━━━━━━━━━━━━━━━━\u001b[0m\u001b[37m\u001b[0m \u001b[1m0s\u001b[0m 664us/step - loss: 0.1901 - mse: 0.0718\n",
      "\u001b[1m11/11\u001b[0m \u001b[32m━━━━━━━━━━━━━━━━━━━━\u001b[0m\u001b[37m\u001b[0m \u001b[1m0s\u001b[0m 534us/step - loss: 0.1901 - mse: 0.0718\n",
      "\u001b[1m11/11\u001b[0m \u001b[32m━━━━━━━━━━━━━━━━━━━━\u001b[0m\u001b[37m\u001b[0m \u001b[1m0s\u001b[0m 501us/step - loss: 0.1901 - mse: 0.0718\n",
      "\u001b[1m11/11\u001b[0m \u001b[32m━━━━━━━━━━━━━━━━━━━━\u001b[0m\u001b[37m\u001b[0m \u001b[1m0s\u001b[0m 507us/step - loss: 0.1901 - mse: 0.0718\n",
      "\u001b[1m11/11\u001b[0m \u001b[32m━━━━━━━━━━━━━━━━━━━━\u001b[0m\u001b[37m\u001b[0m \u001b[1m0s\u001b[0m 604us/step - loss: 0.1901 - mse: 0.0718\n",
      "\u001b[1m11/11\u001b[0m \u001b[32m━━━━━━━━━━━━━━━━━━━━\u001b[0m\u001b[37m\u001b[0m \u001b[1m0s\u001b[0m 549us/step - loss: 0.1901 - mse: 0.0718\n",
      "\u001b[1m11/11\u001b[0m \u001b[32m━━━━━━━━━━━━━━━━━━━━\u001b[0m\u001b[37m\u001b[0m \u001b[1m0s\u001b[0m 602us/step - loss: 0.1901 - mse: 0.0718\n",
      "\u001b[1m11/11\u001b[0m \u001b[32m━━━━━━━━━━━━━━━━━━━━\u001b[0m\u001b[37m\u001b[0m \u001b[1m0s\u001b[0m 576us/step - loss: 0.1901 - mse: 0.0718\n",
      "\u001b[1m11/11\u001b[0m \u001b[32m━━━━━━━━━━━━━━━━━━━━\u001b[0m\u001b[37m\u001b[0m \u001b[1m0s\u001b[0m 514us/step - loss: 0.1901 - mse: 0.0718\n",
      "Best Optimizer: sgd with MSE 0.06577352434396744\n"
     ]
    }
   ],
   "source": [
    "for opt in optimizers:\n",
    "    best_opt = 'starter'\n",
    "    best_mse = 4\n",
    "\n",
    "    model = create_opt_model(opt)\n",
    "    model.fit(x=X_train, \n",
    "            y=y_train,\n",
    "            verbose=0,\n",
    "            epochs=150)\n",
    "    \n",
    "    loss, mse = nn_model.evaluate(X_test, y_test)\n",
    "    \n",
    "    if mse < best_mse:\n",
    "        best_mse = mse\n",
    "        best_opt = opt\n",
    "\n",
    "print(\"Best Optimizer:\", best_opt, \"with MSE\", best_mse)"
   ]
  },
  {
   "cell_type": "markdown",
   "metadata": {},
   "source": [
    "## Epoch optimization"
   ]
  },
  {
   "cell_type": "code",
   "execution_count": 461,
   "metadata": {},
   "outputs": [],
   "source": [
    "model = create_opt_model(tf.keras.optimizers.SGD(0.01))\n",
    "fit = model.fit(x=X_train, \n",
    "         y=y_train, \n",
    "         verbose=0,\n",
    "         epochs=100)\n",
    "\n"
   ]
  },
  {
   "cell_type": "code",
   "execution_count": 462,
   "metadata": {},
   "outputs": [
    {
     "data": {
      "text/html": [
       "\n",
       "<style>\n",
       "  #altair-viz-cc19313a123847bc85e2ee2e7dc1da10.vega-embed {\n",
       "    width: 100%;\n",
       "    display: flex;\n",
       "  }\n",
       "\n",
       "  #altair-viz-cc19313a123847bc85e2ee2e7dc1da10.vega-embed details,\n",
       "  #altair-viz-cc19313a123847bc85e2ee2e7dc1da10.vega-embed details summary {\n",
       "    position: relative;\n",
       "  }\n",
       "</style>\n",
       "<div id=\"altair-viz-cc19313a123847bc85e2ee2e7dc1da10\"></div>\n",
       "<script type=\"text/javascript\">\n",
       "  var VEGA_DEBUG = (typeof VEGA_DEBUG == \"undefined\") ? {} : VEGA_DEBUG;\n",
       "  (function(spec, embedOpt){\n",
       "    let outputDiv = document.currentScript.previousElementSibling;\n",
       "    if (outputDiv.id !== \"altair-viz-cc19313a123847bc85e2ee2e7dc1da10\") {\n",
       "      outputDiv = document.getElementById(\"altair-viz-cc19313a123847bc85e2ee2e7dc1da10\");\n",
       "    }\n",
       "    const paths = {\n",
       "      \"vega\": \"https://cdn.jsdelivr.net/npm/vega@5?noext\",\n",
       "      \"vega-lib\": \"https://cdn.jsdelivr.net/npm/vega-lib?noext\",\n",
       "      \"vega-lite\": \"https://cdn.jsdelivr.net/npm/vega-lite@5.20.1?noext\",\n",
       "      \"vega-embed\": \"https://cdn.jsdelivr.net/npm/vega-embed@6?noext\",\n",
       "    };\n",
       "\n",
       "    function maybeLoadScript(lib, version) {\n",
       "      var key = `${lib.replace(\"-\", \"\")}_version`;\n",
       "      return (VEGA_DEBUG[key] == version) ?\n",
       "        Promise.resolve(paths[lib]) :\n",
       "        new Promise(function(resolve, reject) {\n",
       "          var s = document.createElement('script');\n",
       "          document.getElementsByTagName(\"head\")[0].appendChild(s);\n",
       "          s.async = true;\n",
       "          s.onload = () => {\n",
       "            VEGA_DEBUG[key] = version;\n",
       "            return resolve(paths[lib]);\n",
       "          };\n",
       "          s.onerror = () => reject(`Error loading script: ${paths[lib]}`);\n",
       "          s.src = paths[lib];\n",
       "        });\n",
       "    }\n",
       "\n",
       "    function showError(err) {\n",
       "      outputDiv.innerHTML = `<div class=\"error\" style=\"color:red;\">${err}</div>`;\n",
       "      throw err;\n",
       "    }\n",
       "\n",
       "    function displayChart(vegaEmbed) {\n",
       "      vegaEmbed(outputDiv, spec, embedOpt)\n",
       "        .catch(err => showError(`Javascript Error: ${err.message}<br>This usually means there's a typo in your chart specification. See the javascript console for the full traceback.`));\n",
       "    }\n",
       "\n",
       "    if(typeof define === \"function\" && define.amd) {\n",
       "      requirejs.config({paths});\n",
       "      require([\"vega-embed\"], displayChart, err => showError(`Error loading script: ${err.message}`));\n",
       "    } else {\n",
       "      maybeLoadScript(\"vega\", \"5\")\n",
       "        .then(() => maybeLoadScript(\"vega-lite\", \"5.20.1\"))\n",
       "        .then(() => maybeLoadScript(\"vega-embed\", \"6\"))\n",
       "        .catch(showError)\n",
       "        .then(() => displayChart(vegaEmbed));\n",
       "    }\n",
       "  })({\"config\": {\"view\": {\"continuousWidth\": 300, \"continuousHeight\": 300}}, \"repeat\": {\"layer\": [\"mse\"]}, \"spec\": {\"data\": {\"name\": \"data-11eaa4906dd68b1f785b601d4a81a215\"}, \"mark\": {\"type\": \"line\"}, \"encoding\": {\"color\": {\"datum\": {\"repeat\": \"layer\"}}, \"x\": {\"field\": \"index\", \"title\": \"Epochs\", \"type\": \"quantitative\"}, \"y\": {\"field\": {\"repeat\": \"layer\"}, \"title\": \"Mean Squared Error\", \"type\": \"quantitative\"}}}, \"title\": \"Mean Squared Error by Epoch\", \"$schema\": \"https://vega.github.io/schema/vega-lite/v5.20.1.json\", \"datasets\": {\"data-11eaa4906dd68b1f785b601d4a81a215\": [{\"index\": 0, \"mse\": 1.028538703918457}, {\"index\": 1, \"mse\": 0.7199552059173584}, {\"index\": 2, \"mse\": 0.5177513360977173}, {\"index\": 3, \"mse\": 0.33163151144981384}, {\"index\": 4, \"mse\": 0.2175244241952896}, {\"index\": 5, \"mse\": 0.1486271470785141}, {\"index\": 6, \"mse\": 0.1111287921667099}, {\"index\": 7, \"mse\": 0.09432663768529892}, {\"index\": 8, \"mse\": 0.08525843173265457}, {\"index\": 9, \"mse\": 0.07740656286478043}, {\"index\": 10, \"mse\": 0.07317577302455902}, {\"index\": 11, \"mse\": 0.07118616253137589}, {\"index\": 12, \"mse\": 0.06705622375011444}, {\"index\": 13, \"mse\": 0.06399475783109665}, {\"index\": 14, \"mse\": 0.06314227730035782}, {\"index\": 15, \"mse\": 0.05988574028015137}, {\"index\": 16, \"mse\": 0.05983027070760727}, {\"index\": 17, \"mse\": 0.05774232745170593}, {\"index\": 18, \"mse\": 0.056820157915353775}, {\"index\": 19, \"mse\": 0.05556102097034454}, {\"index\": 20, \"mse\": 0.0555211640894413}, {\"index\": 21, \"mse\": 0.053291235119104385}, {\"index\": 22, \"mse\": 0.05284573882818222}, {\"index\": 23, \"mse\": 0.05267777293920517}, {\"index\": 24, \"mse\": 0.05127336084842682}, {\"index\": 25, \"mse\": 0.05044487863779068}, {\"index\": 26, \"mse\": 0.050998903810977936}, {\"index\": 27, \"mse\": 0.05121450126171112}, {\"index\": 28, \"mse\": 0.049535222351551056}, {\"index\": 29, \"mse\": 0.04874624311923981}, {\"index\": 30, \"mse\": 0.04919501021504402}, {\"index\": 31, \"mse\": 0.046916984021663666}, {\"index\": 32, \"mse\": 0.048882871866226196}, {\"index\": 33, \"mse\": 0.046868253499269485}, {\"index\": 34, \"mse\": 0.04705587029457092}, {\"index\": 35, \"mse\": 0.04742872714996338}, {\"index\": 36, \"mse\": 0.04526951164007187}, {\"index\": 37, \"mse\": 0.04533980414271355}, {\"index\": 38, \"mse\": 0.04587695375084877}, {\"index\": 39, \"mse\": 0.045913513749837875}, {\"index\": 40, \"mse\": 0.045635025948286057}, {\"index\": 41, \"mse\": 0.04568633809685707}, {\"index\": 42, \"mse\": 0.046233322471380234}, {\"index\": 43, \"mse\": 0.04415367916226387}, {\"index\": 44, \"mse\": 0.04382605105638504}, {\"index\": 45, \"mse\": 0.04570932686328888}, {\"index\": 46, \"mse\": 0.044581349939107895}, {\"index\": 47, \"mse\": 0.04253247380256653}, {\"index\": 48, \"mse\": 0.043580252677202225}, {\"index\": 49, \"mse\": 0.04447762668132782}, {\"index\": 50, \"mse\": 0.042240772396326065}, {\"index\": 51, \"mse\": 0.04258177801966667}, {\"index\": 52, \"mse\": 0.042816162109375}, {\"index\": 53, \"mse\": 0.04244035854935646}, {\"index\": 54, \"mse\": 0.042604029178619385}, {\"index\": 55, \"mse\": 0.04265328496694565}, {\"index\": 56, \"mse\": 0.04282362014055252}, {\"index\": 57, \"mse\": 0.04175615683197975}, {\"index\": 58, \"mse\": 0.04130476340651512}, {\"index\": 59, \"mse\": 0.04262538254261017}, {\"index\": 60, \"mse\": 0.04139700531959534}, {\"index\": 61, \"mse\": 0.04092341288924217}, {\"index\": 62, \"mse\": 0.04116577282547951}, {\"index\": 63, \"mse\": 0.04105337709188461}, {\"index\": 64, \"mse\": 0.04081513360142708}, {\"index\": 65, \"mse\": 0.04150637611746788}, {\"index\": 66, \"mse\": 0.04113192856311798}, {\"index\": 67, \"mse\": 0.04105091840028763}, {\"index\": 68, \"mse\": 0.04004697501659393}, {\"index\": 69, \"mse\": 0.040495190769433975}, {\"index\": 70, \"mse\": 0.039943207055330276}, {\"index\": 71, \"mse\": 0.04005744680762291}, {\"index\": 72, \"mse\": 0.0402250662446022}, {\"index\": 73, \"mse\": 0.03998018801212311}, {\"index\": 74, \"mse\": 0.03906715288758278}, {\"index\": 75, \"mse\": 0.03978554159402847}, {\"index\": 76, \"mse\": 0.03912709280848503}, {\"index\": 77, \"mse\": 0.03980090841650963}, {\"index\": 78, \"mse\": 0.038978029042482376}, {\"index\": 79, \"mse\": 0.03810938820242882}, {\"index\": 80, \"mse\": 0.0381985604763031}, {\"index\": 81, \"mse\": 0.03954610228538513}, {\"index\": 82, \"mse\": 0.038508713245391846}, {\"index\": 83, \"mse\": 0.038156162947416306}, {\"index\": 84, \"mse\": 0.038365814834833145}, {\"index\": 85, \"mse\": 0.037108950316905975}, {\"index\": 86, \"mse\": 0.03723778575658798}, {\"index\": 87, \"mse\": 0.0381188839673996}, {\"index\": 88, \"mse\": 0.03769361972808838}, {\"index\": 89, \"mse\": 0.03771495074033737}, {\"index\": 90, \"mse\": 0.03682258725166321}, {\"index\": 91, \"mse\": 0.037606384605169296}, {\"index\": 92, \"mse\": 0.03872700035572052}, {\"index\": 93, \"mse\": 0.03771600499749184}, {\"index\": 94, \"mse\": 0.03778236359357834}, {\"index\": 95, \"mse\": 0.03762443736195564}, {\"index\": 96, \"mse\": 0.0368417389690876}, {\"index\": 97, \"mse\": 0.03770817443728447}, {\"index\": 98, \"mse\": 0.03719163313508034}, {\"index\": 99, \"mse\": 0.0370846726000309}]}}, {\"mode\": \"vega-lite\"});\n",
       "</script>"
      ],
      "text/plain": [
       "alt.RepeatChart(...)"
      ]
     },
     "metadata": {},
     "output_type": "display_data"
    },
    {
     "data": {
      "text/html": [
       "\n",
       "<style>\n",
       "  #altair-viz-06e8fc8b1b0b4dbbaff3bff5e8ecf241.vega-embed {\n",
       "    width: 100%;\n",
       "    display: flex;\n",
       "  }\n",
       "\n",
       "  #altair-viz-06e8fc8b1b0b4dbbaff3bff5e8ecf241.vega-embed details,\n",
       "  #altair-viz-06e8fc8b1b0b4dbbaff3bff5e8ecf241.vega-embed details summary {\n",
       "    position: relative;\n",
       "  }\n",
       "</style>\n",
       "<div id=\"altair-viz-06e8fc8b1b0b4dbbaff3bff5e8ecf241\"></div>\n",
       "<script type=\"text/javascript\">\n",
       "  var VEGA_DEBUG = (typeof VEGA_DEBUG == \"undefined\") ? {} : VEGA_DEBUG;\n",
       "  (function(spec, embedOpt){\n",
       "    let outputDiv = document.currentScript.previousElementSibling;\n",
       "    if (outputDiv.id !== \"altair-viz-06e8fc8b1b0b4dbbaff3bff5e8ecf241\") {\n",
       "      outputDiv = document.getElementById(\"altair-viz-06e8fc8b1b0b4dbbaff3bff5e8ecf241\");\n",
       "    }\n",
       "    const paths = {\n",
       "      \"vega\": \"https://cdn.jsdelivr.net/npm/vega@5?noext\",\n",
       "      \"vega-lib\": \"https://cdn.jsdelivr.net/npm/vega-lib?noext\",\n",
       "      \"vega-lite\": \"https://cdn.jsdelivr.net/npm/vega-lite@5.20.1?noext\",\n",
       "      \"vega-embed\": \"https://cdn.jsdelivr.net/npm/vega-embed@6?noext\",\n",
       "    };\n",
       "\n",
       "    function maybeLoadScript(lib, version) {\n",
       "      var key = `${lib.replace(\"-\", \"\")}_version`;\n",
       "      return (VEGA_DEBUG[key] == version) ?\n",
       "        Promise.resolve(paths[lib]) :\n",
       "        new Promise(function(resolve, reject) {\n",
       "          var s = document.createElement('script');\n",
       "          document.getElementsByTagName(\"head\")[0].appendChild(s);\n",
       "          s.async = true;\n",
       "          s.onload = () => {\n",
       "            VEGA_DEBUG[key] = version;\n",
       "            return resolve(paths[lib]);\n",
       "          };\n",
       "          s.onerror = () => reject(`Error loading script: ${paths[lib]}`);\n",
       "          s.src = paths[lib];\n",
       "        });\n",
       "    }\n",
       "\n",
       "    function showError(err) {\n",
       "      outputDiv.innerHTML = `<div class=\"error\" style=\"color:red;\">${err}</div>`;\n",
       "      throw err;\n",
       "    }\n",
       "\n",
       "    function displayChart(vegaEmbed) {\n",
       "      vegaEmbed(outputDiv, spec, embedOpt)\n",
       "        .catch(err => showError(`Javascript Error: ${err.message}<br>This usually means there's a typo in your chart specification. See the javascript console for the full traceback.`));\n",
       "    }\n",
       "\n",
       "    if(typeof define === \"function\" && define.amd) {\n",
       "      requirejs.config({paths});\n",
       "      require([\"vega-embed\"], displayChart, err => showError(`Error loading script: ${err.message}`));\n",
       "    } else {\n",
       "      maybeLoadScript(\"vega\", \"5\")\n",
       "        .then(() => maybeLoadScript(\"vega-lite\", \"5.20.1\"))\n",
       "        .then(() => maybeLoadScript(\"vega-embed\", \"6\"))\n",
       "        .catch(showError)\n",
       "        .then(() => displayChart(vegaEmbed));\n",
       "    }\n",
       "  })({\"config\": {\"view\": {\"continuousWidth\": 300, \"continuousHeight\": 300}}, \"repeat\": {\"layer\": [\"loss\"]}, \"spec\": {\"data\": {\"name\": \"data-f0be2bc1e80f7c838fa48995e53b27c4\"}, \"mark\": {\"type\": \"line\"}, \"encoding\": {\"color\": {\"datum\": {\"repeat\": \"layer\"}}, \"x\": {\"field\": \"index\", \"title\": \"Epochs\", \"type\": \"quantitative\"}, \"y\": {\"field\": {\"repeat\": \"layer\"}, \"title\": \"Loss\", \"type\": \"quantitative\"}}}, \"title\": \"Loss by Epoch\", \"$schema\": \"https://vega.github.io/schema/vega-lite/v5.20.1.json\", \"datasets\": {\"data-f0be2bc1e80f7c838fa48995e53b27c4\": [{\"index\": 0, \"loss\": 0.8184579610824585}, {\"index\": 1, \"loss\": 0.666141927242279}, {\"index\": 2, \"loss\": 0.5398426651954651}, {\"index\": 3, \"loss\": 0.41507092118263245}, {\"index\": 4, \"loss\": 0.3261134922504425}, {\"index\": 5, \"loss\": 0.27420035004615784}, {\"index\": 6, \"loss\": 0.2439071089029312}, {\"index\": 7, \"loss\": 0.22389288246631622}, {\"index\": 8, \"loss\": 0.21219739317893982}, {\"index\": 9, \"loss\": 0.20142245292663574}, {\"index\": 10, \"loss\": 0.19390462338924408}, {\"index\": 11, \"loss\": 0.18839313089847565}, {\"index\": 12, \"loss\": 0.18370649218559265}, {\"index\": 13, \"loss\": 0.17938484251499176}, {\"index\": 14, \"loss\": 0.1766548901796341}, {\"index\": 15, \"loss\": 0.17243726551532745}, {\"index\": 16, \"loss\": 0.1702422797679901}, {\"index\": 17, \"loss\": 0.1673334240913391}, {\"index\": 18, \"loss\": 0.16528238356113434}, {\"index\": 19, \"loss\": 0.16317318379878998}, {\"index\": 20, \"loss\": 0.16279329359531403}, {\"index\": 21, \"loss\": 0.15976622700691223}, {\"index\": 22, \"loss\": 0.15708692371845245}, {\"index\": 23, \"loss\": 0.15569540858268738}, {\"index\": 24, \"loss\": 0.1535497009754181}, {\"index\": 25, \"loss\": 0.15188845992088318}, {\"index\": 26, \"loss\": 0.1526758372783661}, {\"index\": 27, \"loss\": 0.15252310037612915}, {\"index\": 28, \"loss\": 0.15090608596801758}, {\"index\": 29, \"loss\": 0.14832790195941925}, {\"index\": 30, \"loss\": 0.14818835258483887}, {\"index\": 31, \"loss\": 0.14522120356559753}, {\"index\": 32, \"loss\": 0.14656847715377808}, {\"index\": 33, \"loss\": 0.14332401752471924}, {\"index\": 34, \"loss\": 0.14255955815315247}, {\"index\": 35, \"loss\": 0.14448203146457672}, {\"index\": 36, \"loss\": 0.14069168269634247}, {\"index\": 37, \"loss\": 0.1384824812412262}, {\"index\": 38, \"loss\": 0.1407964676618576}, {\"index\": 39, \"loss\": 0.13959427177906036}, {\"index\": 40, \"loss\": 0.13795363903045654}, {\"index\": 41, \"loss\": 0.13939417898654938}, {\"index\": 42, \"loss\": 0.13912495970726013}, {\"index\": 43, \"loss\": 0.1376790702342987}, {\"index\": 44, \"loss\": 0.13540995121002197}, {\"index\": 45, \"loss\": 0.14025837182998657}, {\"index\": 46, \"loss\": 0.13628420233726501}, {\"index\": 47, \"loss\": 0.1343405693769455}, {\"index\": 48, \"loss\": 0.1347421258687973}, {\"index\": 49, \"loss\": 0.13574950397014618}, {\"index\": 50, \"loss\": 0.13168704509735107}, {\"index\": 51, \"loss\": 0.1319553256034851}, {\"index\": 52, \"loss\": 0.13374942541122437}, {\"index\": 53, \"loss\": 0.1307273507118225}, {\"index\": 54, \"loss\": 0.13089489936828613}, {\"index\": 55, \"loss\": 0.1308373063802719}, {\"index\": 56, \"loss\": 0.13131006062030792}, {\"index\": 57, \"loss\": 0.12941625714302063}, {\"index\": 58, \"loss\": 0.130115807056427}, {\"index\": 59, \"loss\": 0.13220754265785217}, {\"index\": 60, \"loss\": 0.12938176095485687}, {\"index\": 61, \"loss\": 0.12997651100158691}, {\"index\": 62, \"loss\": 0.12807795405387878}, {\"index\": 63, \"loss\": 0.12750470638275146}, {\"index\": 64, \"loss\": 0.12729525566101074}, {\"index\": 65, \"loss\": 0.1289963722229004}, {\"index\": 66, \"loss\": 0.12817442417144775}, {\"index\": 67, \"loss\": 0.12727560102939606}, {\"index\": 68, \"loss\": 0.12726975977420807}, {\"index\": 69, \"loss\": 0.12698353826999664}, {\"index\": 70, \"loss\": 0.12606647610664368}, {\"index\": 71, \"loss\": 0.1250988394021988}, {\"index\": 72, \"loss\": 0.12634149193763733}, {\"index\": 73, \"loss\": 0.1262052208185196}, {\"index\": 74, \"loss\": 0.12383587658405304}, {\"index\": 75, \"loss\": 0.12534098327159882}, {\"index\": 76, \"loss\": 0.12499537318944931}, {\"index\": 77, \"loss\": 0.12745028734207153}, {\"index\": 78, \"loss\": 0.12372197955846786}, {\"index\": 79, \"loss\": 0.12290598452091217}, {\"index\": 80, \"loss\": 0.12380538135766983}, {\"index\": 81, \"loss\": 0.12516868114471436}, {\"index\": 82, \"loss\": 0.12251465022563934}, {\"index\": 83, \"loss\": 0.12349151074886322}, {\"index\": 84, \"loss\": 0.12385249137878418}, {\"index\": 85, \"loss\": 0.12056407332420349}, {\"index\": 86, \"loss\": 0.12252878397703171}, {\"index\": 87, \"loss\": 0.12189999967813492}, {\"index\": 88, \"loss\": 0.12113858014345169}, {\"index\": 89, \"loss\": 0.1217254176735878}, {\"index\": 90, \"loss\": 0.12033627927303314}, {\"index\": 91, \"loss\": 0.1207757517695427}, {\"index\": 92, \"loss\": 0.12222562730312347}, {\"index\": 93, \"loss\": 0.12183213979005814}, {\"index\": 94, \"loss\": 0.12066945433616638}, {\"index\": 95, \"loss\": 0.12092769145965576}, {\"index\": 96, \"loss\": 0.11949023604393005}, {\"index\": 97, \"loss\": 0.12245915830135345}, {\"index\": 98, \"loss\": 0.12121535837650299}, {\"index\": 99, \"loss\": 0.11913543194532394}]}}, {\"mode\": \"vega-lite\"});\n",
       "</script>"
      ],
      "text/plain": [
       "alt.RepeatChart(...)"
      ]
     },
     "metadata": {},
     "output_type": "display_data"
    }
   ],
   "source": [
    "name= 'epoch_test'\n",
    "history_df = pl.DataFrame(fit.history)\n",
    "history_df = history_df.with_row_index()\n",
    "history_df\n",
    "plot_model_history(history_df, feature='mse', name=name)\n",
    "plot_model_history(history_df, feature='loss', name=name)"
   ]
  },
  {
   "cell_type": "markdown",
   "metadata": {},
   "source": [
    "# Model Selected, performance is poor"
   ]
  },
  {
   "cell_type": "code",
   "execution_count": 463,
   "metadata": {},
   "outputs": [
    {
     "data": {
      "text/html": [
       "\n",
       "<style>\n",
       "  #altair-viz-7e90a1f521b04f478b5588e346edb58b.vega-embed {\n",
       "    width: 100%;\n",
       "    display: flex;\n",
       "  }\n",
       "\n",
       "  #altair-viz-7e90a1f521b04f478b5588e346edb58b.vega-embed details,\n",
       "  #altair-viz-7e90a1f521b04f478b5588e346edb58b.vega-embed details summary {\n",
       "    position: relative;\n",
       "  }\n",
       "</style>\n",
       "<div id=\"altair-viz-7e90a1f521b04f478b5588e346edb58b\"></div>\n",
       "<script type=\"text/javascript\">\n",
       "  var VEGA_DEBUG = (typeof VEGA_DEBUG == \"undefined\") ? {} : VEGA_DEBUG;\n",
       "  (function(spec, embedOpt){\n",
       "    let outputDiv = document.currentScript.previousElementSibling;\n",
       "    if (outputDiv.id !== \"altair-viz-7e90a1f521b04f478b5588e346edb58b\") {\n",
       "      outputDiv = document.getElementById(\"altair-viz-7e90a1f521b04f478b5588e346edb58b\");\n",
       "    }\n",
       "    const paths = {\n",
       "      \"vega\": \"https://cdn.jsdelivr.net/npm/vega@5?noext\",\n",
       "      \"vega-lib\": \"https://cdn.jsdelivr.net/npm/vega-lib?noext\",\n",
       "      \"vega-lite\": \"https://cdn.jsdelivr.net/npm/vega-lite@5.20.1?noext\",\n",
       "      \"vega-embed\": \"https://cdn.jsdelivr.net/npm/vega-embed@6?noext\",\n",
       "    };\n",
       "\n",
       "    function maybeLoadScript(lib, version) {\n",
       "      var key = `${lib.replace(\"-\", \"\")}_version`;\n",
       "      return (VEGA_DEBUG[key] == version) ?\n",
       "        Promise.resolve(paths[lib]) :\n",
       "        new Promise(function(resolve, reject) {\n",
       "          var s = document.createElement('script');\n",
       "          document.getElementsByTagName(\"head\")[0].appendChild(s);\n",
       "          s.async = true;\n",
       "          s.onload = () => {\n",
       "            VEGA_DEBUG[key] = version;\n",
       "            return resolve(paths[lib]);\n",
       "          };\n",
       "          s.onerror = () => reject(`Error loading script: ${paths[lib]}`);\n",
       "          s.src = paths[lib];\n",
       "        });\n",
       "    }\n",
       "\n",
       "    function showError(err) {\n",
       "      outputDiv.innerHTML = `<div class=\"error\" style=\"color:red;\">${err}</div>`;\n",
       "      throw err;\n",
       "    }\n",
       "\n",
       "    function displayChart(vegaEmbed) {\n",
       "      vegaEmbed(outputDiv, spec, embedOpt)\n",
       "        .catch(err => showError(`Javascript Error: ${err.message}<br>This usually means there's a typo in your chart specification. See the javascript console for the full traceback.`));\n",
       "    }\n",
       "\n",
       "    if(typeof define === \"function\" && define.amd) {\n",
       "      requirejs.config({paths});\n",
       "      require([\"vega-embed\"], displayChart, err => showError(`Error loading script: ${err.message}`));\n",
       "    } else {\n",
       "      maybeLoadScript(\"vega\", \"5\")\n",
       "        .then(() => maybeLoadScript(\"vega-lite\", \"5.20.1\"))\n",
       "        .then(() => maybeLoadScript(\"vega-embed\", \"6\"))\n",
       "        .catch(showError)\n",
       "        .then(() => displayChart(vegaEmbed));\n",
       "    }\n",
       "  })({\"config\": {\"view\": {\"continuousWidth\": 300, \"continuousHeight\": 300}}, \"repeat\": {\"layer\": [\"mse\"]}, \"spec\": {\"data\": {\"name\": \"data-83e929b6ba046de8a927214336b13127\"}, \"mark\": {\"type\": \"line\"}, \"encoding\": {\"color\": {\"datum\": {\"repeat\": \"layer\"}}, \"x\": {\"field\": \"index\", \"title\": \"Epochs\", \"type\": \"quantitative\"}, \"y\": {\"field\": {\"repeat\": \"layer\"}, \"title\": \"Mean Squared Error\", \"type\": \"quantitative\"}}}, \"title\": \"Mean Squared Error by Epoch\", \"$schema\": \"https://vega.github.io/schema/vega-lite/v5.20.1.json\", \"datasets\": {\"data-83e929b6ba046de8a927214336b13127\": [{\"index\": 0, \"mse\": 0.8445069789886475}, {\"index\": 1, \"mse\": 0.6782962083816528}, {\"index\": 2, \"mse\": 0.48114779591560364}, {\"index\": 3, \"mse\": 0.3187640905380249}, {\"index\": 4, \"mse\": 0.21539397537708282}, {\"index\": 5, \"mse\": 0.15690672397613525}, {\"index\": 6, \"mse\": 0.12674932181835175}, {\"index\": 7, \"mse\": 0.11232011765241623}, {\"index\": 8, \"mse\": 0.09819144755601883}, {\"index\": 9, \"mse\": 0.09149987995624542}, {\"index\": 10, \"mse\": 0.08471208065748215}, {\"index\": 11, \"mse\": 0.08255361765623093}, {\"index\": 12, \"mse\": 0.07857796549797058}, {\"index\": 13, \"mse\": 0.07641439139842987}, {\"index\": 14, \"mse\": 0.07331889122724533}, {\"index\": 15, \"mse\": 0.07121635973453522}, {\"index\": 16, \"mse\": 0.06988842785358429}, {\"index\": 17, \"mse\": 0.06752602010965347}, {\"index\": 18, \"mse\": 0.06586197018623352}, {\"index\": 19, \"mse\": 0.06472274661064148}, {\"index\": 20, \"mse\": 0.06440569460391998}, {\"index\": 21, \"mse\": 0.0624714158475399}, {\"index\": 22, \"mse\": 0.06217256188392639}, {\"index\": 23, \"mse\": 0.059629105031490326}, {\"index\": 24, \"mse\": 0.05980583280324936}]}}, {\"mode\": \"vega-lite\"});\n",
       "</script>"
      ],
      "text/plain": [
       "alt.RepeatChart(...)"
      ]
     },
     "metadata": {},
     "output_type": "display_data"
    },
    {
     "data": {
      "text/html": [
       "\n",
       "<style>\n",
       "  #altair-viz-1c158416e0744b65aca960cc5a09f1ba.vega-embed {\n",
       "    width: 100%;\n",
       "    display: flex;\n",
       "  }\n",
       "\n",
       "  #altair-viz-1c158416e0744b65aca960cc5a09f1ba.vega-embed details,\n",
       "  #altair-viz-1c158416e0744b65aca960cc5a09f1ba.vega-embed details summary {\n",
       "    position: relative;\n",
       "  }\n",
       "</style>\n",
       "<div id=\"altair-viz-1c158416e0744b65aca960cc5a09f1ba\"></div>\n",
       "<script type=\"text/javascript\">\n",
       "  var VEGA_DEBUG = (typeof VEGA_DEBUG == \"undefined\") ? {} : VEGA_DEBUG;\n",
       "  (function(spec, embedOpt){\n",
       "    let outputDiv = document.currentScript.previousElementSibling;\n",
       "    if (outputDiv.id !== \"altair-viz-1c158416e0744b65aca960cc5a09f1ba\") {\n",
       "      outputDiv = document.getElementById(\"altair-viz-1c158416e0744b65aca960cc5a09f1ba\");\n",
       "    }\n",
       "    const paths = {\n",
       "      \"vega\": \"https://cdn.jsdelivr.net/npm/vega@5?noext\",\n",
       "      \"vega-lib\": \"https://cdn.jsdelivr.net/npm/vega-lib?noext\",\n",
       "      \"vega-lite\": \"https://cdn.jsdelivr.net/npm/vega-lite@5.20.1?noext\",\n",
       "      \"vega-embed\": \"https://cdn.jsdelivr.net/npm/vega-embed@6?noext\",\n",
       "    };\n",
       "\n",
       "    function maybeLoadScript(lib, version) {\n",
       "      var key = `${lib.replace(\"-\", \"\")}_version`;\n",
       "      return (VEGA_DEBUG[key] == version) ?\n",
       "        Promise.resolve(paths[lib]) :\n",
       "        new Promise(function(resolve, reject) {\n",
       "          var s = document.createElement('script');\n",
       "          document.getElementsByTagName(\"head\")[0].appendChild(s);\n",
       "          s.async = true;\n",
       "          s.onload = () => {\n",
       "            VEGA_DEBUG[key] = version;\n",
       "            return resolve(paths[lib]);\n",
       "          };\n",
       "          s.onerror = () => reject(`Error loading script: ${paths[lib]}`);\n",
       "          s.src = paths[lib];\n",
       "        });\n",
       "    }\n",
       "\n",
       "    function showError(err) {\n",
       "      outputDiv.innerHTML = `<div class=\"error\" style=\"color:red;\">${err}</div>`;\n",
       "      throw err;\n",
       "    }\n",
       "\n",
       "    function displayChart(vegaEmbed) {\n",
       "      vegaEmbed(outputDiv, spec, embedOpt)\n",
       "        .catch(err => showError(`Javascript Error: ${err.message}<br>This usually means there's a typo in your chart specification. See the javascript console for the full traceback.`));\n",
       "    }\n",
       "\n",
       "    if(typeof define === \"function\" && define.amd) {\n",
       "      requirejs.config({paths});\n",
       "      require([\"vega-embed\"], displayChart, err => showError(`Error loading script: ${err.message}`));\n",
       "    } else {\n",
       "      maybeLoadScript(\"vega\", \"5\")\n",
       "        .then(() => maybeLoadScript(\"vega-lite\", \"5.20.1\"))\n",
       "        .then(() => maybeLoadScript(\"vega-embed\", \"6\"))\n",
       "        .catch(showError)\n",
       "        .then(() => displayChart(vegaEmbed));\n",
       "    }\n",
       "  })({\"config\": {\"view\": {\"continuousWidth\": 300, \"continuousHeight\": 300}}, \"repeat\": {\"layer\": [\"loss\"]}, \"spec\": {\"data\": {\"name\": \"data-a8c937cb98c4fd40c79b94082e489040\"}, \"mark\": {\"type\": \"line\"}, \"encoding\": {\"color\": {\"datum\": {\"repeat\": \"layer\"}}, \"x\": {\"field\": \"index\", \"title\": \"Epochs\", \"type\": \"quantitative\"}, \"y\": {\"field\": {\"repeat\": \"layer\"}, \"title\": \"Loss\", \"type\": \"quantitative\"}}}, \"title\": \"Loss by Epoch\", \"$schema\": \"https://vega.github.io/schema/vega-lite/v5.20.1.json\", \"datasets\": {\"data-a8c937cb98c4fd40c79b94082e489040\": [{\"index\": 0, \"loss\": 0.7336227893829346}, {\"index\": 1, \"loss\": 0.6448180675506592}, {\"index\": 2, \"loss\": 0.5257601737976074}, {\"index\": 3, \"loss\": 0.4012998640537262}, {\"index\": 4, \"loss\": 0.3264610469341278}, {\"index\": 5, \"loss\": 0.2795524001121521}, {\"index\": 6, \"loss\": 0.25389477610588074}, {\"index\": 7, \"loss\": 0.23847734928131104}, {\"index\": 8, \"loss\": 0.22395898401737213}, {\"index\": 9, \"loss\": 0.21432402729988098}, {\"index\": 10, \"loss\": 0.20654256641864777}, {\"index\": 11, \"loss\": 0.20230567455291748}, {\"index\": 12, \"loss\": 0.19775862991809845}, {\"index\": 13, \"loss\": 0.19289663434028625}, {\"index\": 14, \"loss\": 0.18892575800418854}, {\"index\": 15, \"loss\": 0.18647713959217072}, {\"index\": 16, \"loss\": 0.18256579339504242}, {\"index\": 17, \"loss\": 0.1807490885257721}, {\"index\": 18, \"loss\": 0.1765194982290268}, {\"index\": 19, \"loss\": 0.17576712369918823}, {\"index\": 20, \"loss\": 0.174610897898674}, {\"index\": 21, \"loss\": 0.17133773863315582}, {\"index\": 22, \"loss\": 0.17016150057315826}, {\"index\": 23, \"loss\": 0.1662023663520813}, {\"index\": 24, \"loss\": 0.16533984243869781}]}}, {\"mode\": \"vega-lite\"});\n",
       "</script>"
      ],
      "text/plain": [
       "alt.RepeatChart(...)"
      ]
     },
     "metadata": {},
     "output_type": "display_data"
    }
   ],
   "source": [
    "model = create_opt_model(opt)\n",
    "fit = model.fit(x=X_train, \n",
    "        y=y_train,\n",
    "        verbose=0,\n",
    "        epochs=25)\n",
    "name = 'final NN'\n",
    "history_df = pl.DataFrame(fit.history)\n",
    "history_df = history_df.with_row_index()\n",
    "history_df\n",
    "plot_model_history(history_df, feature='mse', name=name)\n",
    "plot_model_history(history_df, feature='loss', name=name)"
   ]
  },
  {
   "cell_type": "code",
   "execution_count": null,
   "metadata": {},
   "outputs": [],
   "source": []
  },
  {
   "cell_type": "code",
   "execution_count": null,
   "metadata": {},
   "outputs": [],
   "source": []
  }
 ],
 "metadata": {
  "kernelspec": {
   "display_name": ".venv",
   "language": "python",
   "name": "python3"
  },
  "language_info": {
   "codemirror_mode": {
    "name": "ipython",
    "version": 3
   },
   "file_extension": ".py",
   "mimetype": "text/x-python",
   "name": "python",
   "nbconvert_exporter": "python",
   "pygments_lexer": "ipython3",
   "version": "3.12.7"
  }
 },
 "nbformat": 4,
 "nbformat_minor": 2
}
