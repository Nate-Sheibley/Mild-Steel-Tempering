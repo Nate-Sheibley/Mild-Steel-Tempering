{
 "cells": [
  {
   "cell_type": "code",
   "execution_count": 20,
   "metadata": {},
   "outputs": [],
   "source": [
    "import polars as pl\n",
    "import pathlib\n",
    "import re"
   ]
  },
  {
   "cell_type": "markdown",
   "metadata": {},
   "source": [
    "# Loading Data"
   ]
  },
  {
   "cell_type": "code",
   "execution_count": 21,
   "metadata": {},
   "outputs": [
    {
     "name": "stdout",
     "output_type": "stream",
     "text": [
      "Path is project root\n"
     ]
    }
   ],
   "source": [
    "cwd = pathlib.Path.cwd()\n",
    "\n",
    "if cwd.name == 'Mild-Steel-Tempering':\n",
    "    print(\"Path is project root\")\n",
    "else:\n",
    "    print(\"Please correct current working directory to the project root\")\n"
   ]
  },
  {
   "cell_type": "code",
   "execution_count": 22,
   "metadata": {},
   "outputs": [
    {
     "data": {
      "text/plain": [
       "PurePosixPath('/home/mox/Documents/coding_projects/bootcamp_local/Homeworks/Mild-Steel-Tempering/resources')"
      ]
     },
     "execution_count": 22,
     "metadata": {},
     "output_type": "execute_result"
    }
   ],
   "source": [
    "resources_path = pathlib.PurePath(pathlib.PurePath(cwd), 'resources')\n",
    "resources_path"
   ]
  },
  {
   "cell_type": "markdown",
   "metadata": {},
   "source": [
    "### Many alloy composition columns were parsed incorrectly and failing to load\n",
    "\n",
    "Several weight percent columns were parsed as int automatically due to having \"0\" for many initial rows. \n",
    "\n",
    "All weight percent columns should be parsed as float. "
   ]
  },
  {
   "cell_type": "code",
   "execution_count": 23,
   "metadata": {},
   "outputs": [
    {
     "name": "stdout",
     "output_type": "stream",
     "text": [
      "Rows: 1466\n",
      "Columns: 17\n",
      "$ Source                                  <str> 'Grange and Baughman, 1956', 'Grange and Baughman, 1956', 'Grange and Baughman, 1956', 'Grange and Baughman, 1956', 'Grange and Baughman, 1956', 'Grange and Baughman, 1956', 'Grange and Baughman, 1956', 'Grange and Baughman, 1956', 'Grange and Baughman, 1956', 'Grange and Baughman, 1956'\n",
      "$ Steel type                              <str> 'AISI-SAE 1026', 'AISI-SAE 1026', 'AISI-SAE 1026', 'AISI-SAE 1026', 'AISI-SAE 1026', 'AISI-SAE 1026', 'AISI-SAE 1026', 'AISI-SAE 1026', 'AISI-SAE 1026', 'AISI-SAE 1026'\n",
      "$ Initial hardness (HRC) - post quenching <str> '?', '?', '?', '?', '?', '?', '?', '?', '?', '?'\n",
      "$ Tempering time (s)                      <i64> 600, 600, 600, 600, 600, 600, 600, 600, 600, 600\n",
      "$ Tempering temperature (ºC)              <f64> 204.4, 260.0, 315.6, 371.1, 426.7, 482.2, 537.8, 593.3, 648.9, 704.4\n",
      "$ C (%wt)                                 <f64> 0.25, 0.25, 0.25, 0.25, 0.25, 0.25, 0.25, 0.25, 0.25, 0.25\n",
      "$ Mn (%wt)                                <f64> 0.79, 0.79, 0.79, 0.79, 0.79, 0.79, 0.79, 0.79, 0.79, 0.79\n",
      "$ P (%wt)                                 <f64> 0.012, 0.012, 0.012, 0.012, 0.012, 0.012, 0.012, 0.012, 0.012, 0.012\n",
      "$ S (%wt)                                 <f64> 0.026, 0.026, 0.026, 0.026, 0.026, 0.026, 0.026, 0.026, 0.026, 0.026\n",
      "$ Si (%wt)                                <f64> 0.11, 0.11, 0.11, 0.11, 0.11, 0.11, 0.11, 0.11, 0.11, 0.11\n",
      "$ Ni (%wt)                                <f64> 0.0, 0.0, 0.0, 0.0, 0.0, 0.0, 0.0, 0.0, 0.0, 0.0\n",
      "$ Cr (%wt)                                <f64> 0.0, 0.0, 0.0, 0.0, 0.0, 0.0, 0.0, 0.0, 0.0, 0.0\n",
      "$ Mo (%wt)                                <f64> 0.0, 0.0, 0.0, 0.0, 0.0, 0.0, 0.0, 0.0, 0.0, 0.0\n",
      "$ V (%wt)                                 <f64> 0.0, 0.0, 0.0, 0.0, 0.0, 0.0, 0.0, 0.0, 0.0, 0.0\n",
      "$ Al (%wt)                                <f64> 0.0, 0.0, 0.0, 0.0, 0.0, 0.0, 0.0, 0.0, 0.0, 0.0\n",
      "$ Cu (%wt)                                <f64> 0.0, 0.0, 0.0, 0.0, 0.0, 0.0, 0.0, 0.0, 0.0, 0.0\n",
      "$ Final hardness (HRC) - post tempering   <f64> 50.6, 48.3, 43.7, 40.5, 37.3, 31.2, 26.2, 23.1, 17.3, 11.7\n",
      "\n"
     ]
    }
   ],
   "source": [
    "data_path = f\"{resources_path}/Raiipa-tempering-data.csv\"\n",
    "schema_overrides = {\"C (%wt)\" : pl.Float64,\n",
    "\"Mn (%wt)\" : pl.Float64,\n",
    "\"P (%wt)\" : pl.Float64,\n",
    "\"S (%wt)\" : pl.Float64,\n",
    "\"Si (%wt)\" : pl.Float64,\n",
    "\"Ni (%wt)\" : pl.Float64,\n",
    "\"Cr (%wt)\" : pl.Float64,\n",
    "\"Mo (%wt)\" : pl.Float64,\n",
    "\"V (%wt)\" : pl.Float64,\n",
    "\"Al (%wt)\" : pl.Float64,\n",
    "\"Cu (%wt)\" : pl.Float64}\n",
    "\n",
    "df_data = pl.read_csv(data_path, schema_overrides=schema_overrides)\n",
    "df_data.glimpse()"
   ]
  },
  {
   "cell_type": "code",
   "execution_count": 24,
   "metadata": {},
   "outputs": [
    {
     "data": {
      "text/plain": [
       "['Source',\n",
       " 'Steel type',\n",
       " 'Initial hardness (HRC) - post quenching',\n",
       " 'Tempering time (s)',\n",
       " 'Tempering temperature (ºC)',\n",
       " 'C (%wt)',\n",
       " 'Mn (%wt)',\n",
       " 'P (%wt)',\n",
       " 'S (%wt)',\n",
       " 'Si (%wt)',\n",
       " 'Ni (%wt)',\n",
       " 'Cr (%wt)',\n",
       " 'Mo (%wt)',\n",
       " 'V (%wt)',\n",
       " 'Al (%wt)',\n",
       " 'Cu (%wt)',\n",
       " 'Final hardness (HRC) - post tempering']"
      ]
     },
     "execution_count": 24,
     "metadata": {},
     "output_type": "execute_result"
    }
   ],
   "source": [
    "# save initial columns names as they are very descriptive and may be useful later\n",
    "initial_column_names = df_data.columns\n",
    "initial_column_names"
   ]
  },
  {
   "cell_type": "markdown",
   "metadata": {},
   "source": [
    "# Cleaning\n",
    "Many columns need renaming for ease of manipulation\n",
    "\n",
    "Columns need datatypes correction\n",
    " 'Initial hardness (HRC) - post quenching' needs datatype correction. ? is NA value\n"
   ]
  },
  {
   "cell_type": "code",
   "execution_count": 25,
   "metadata": {},
   "outputs": [],
   "source": [
    "dict_new_cnames = {}"
   ]
  },
  {
   "cell_type": "code",
   "execution_count": 26,
   "metadata": {},
   "outputs": [
    {
     "data": {
      "text/plain": [
       "{'Source': 'source',\n",
       " 'Steel type': 'steel_type',\n",
       " 'Initial hardness (HRC) - post quenching': 'initial_hardness_post_quenching_HRC',\n",
       " 'Tempering time (s)': 'tempering_time_s',\n",
       " 'Tempering temperature (ºC)': 'tempering_temperature_C',\n",
       " 'C (%wt)': 'C',\n",
       " 'Mn (%wt)': 'Mn',\n",
       " 'P (%wt)': 'P',\n",
       " 'S (%wt)': 'S',\n",
       " 'Si (%wt)': 'Si',\n",
       " 'Ni (%wt)': 'Ni',\n",
       " 'Cr (%wt)': 'Cr',\n",
       " 'Mo (%wt)': 'Mo',\n",
       " 'V (%wt)': 'V',\n",
       " 'Al (%wt)': 'Al',\n",
       " 'Cu (%wt)': 'Cu',\n",
       " 'Final hardness (HRC) - post tempering': 'final_hardness_post_tempering_HRC'}"
      ]
     },
     "execution_count": 26,
     "metadata": {},
     "output_type": "execute_result"
    }
   ],
   "source": [
    "dict_new_cnames = {}\n",
    "for og_name in initial_column_names:\n",
    "    # replace filler in hardness columns\n",
    "    new_name = og_name.replace(' - ', '')\n",
    "    \n",
    "    # Handle units\n",
    "    try:\n",
    "        #if alloy weight percent remove units and return only elemental symbol\n",
    "        if re.search(r\"\\(%wt\\)\", og_name):\n",
    "            new_name = og_name.split(' ')[0]\n",
    "            #skip the rest of the try block that will re_add the units to the end\n",
    "            pass\n",
    "        else: \n",
    "            #If not elemental composition, lowercase the string\n",
    "            new_name = new_name.lower()\n",
    "        # regex find the units inside the parenthesis, of the original name, not the lowercased new name\n",
    "        # This lines breaks and goes to except if there is no units\n",
    "        unit = re.search(r'\\((\\w+)\\)', og_name).group(1)\n",
    "        # replace the unit parenthesis string with parenthesis with an empty string\n",
    "        new_name = re.sub(r\"\\(.+\\)\", \"\", new_name)\n",
    "        # trim to whitespace end characters left by some unit removals\n",
    "        new_name = new_name.rstrip()\n",
    "        # append the unit string to the end of the processed name\n",
    "        new_name = f\"{new_name}_{unit}\"\n",
    "    except:\n",
    "        # skip unit processing on names with no units denoted by parenthesis\n",
    "        pass\n",
    "\n",
    "    # Strip away special characters\n",
    "    new_name = new_name.encode(\"ascii\", errors=\"ignore\").decode()\n",
    "    #replace all whitespace with underscores\n",
    "    new_name = new_name.replace(' ', '_')\n",
    "    #add the name to the rename dict\n",
    "    dict_new_cnames[og_name] = new_name\n",
    "dict_new_cnames\n"
   ]
  },
  {
   "cell_type": "code",
   "execution_count": 27,
   "metadata": {},
   "outputs": [],
   "source": [
    "df_clean_cnames = df_data.rename(dict_new_cnames)"
   ]
  },
  {
   "cell_type": "markdown",
   "metadata": {},
   "source": [
    "## Clean data types and column values"
   ]
  },
  {
   "cell_type": "code",
   "execution_count": 28,
   "metadata": {},
   "outputs": [],
   "source": [
    "count_of_qmark = df_clean_cnames['initial_hardness_post_quenching_HRC'].value_counts()\\\n",
    "    .filter(pl.col('initial_hardness_post_quenching_HRC') == \"?\")\\\n",
    "        .select(\"count\").item()\n"
   ]
  },
  {
   "cell_type": "code",
   "execution_count": 29,
   "metadata": {},
   "outputs": [
    {
     "name": "stdout",
     "output_type": "stream",
     "text": [
      "Unknown initial hardness: 65%\n"
     ]
    }
   ],
   "source": [
    "percent_intial_hardness_unknown = count_of_qmark / int(df_clean_cnames['initial_hardness_post_quenching_HRC'].shape[0])\n",
    "print(f\"Unknown initial hardness: {round(percent_intial_hardness_unknown, 2) * 100:.0f}%\")\n"
   ]
  },
  {
   "cell_type": "code",
   "execution_count": 30,
   "metadata": {},
   "outputs": [
    {
     "data": {
      "text/html": [
       "<div><style>\n",
       ".dataframe > thead > tr,\n",
       ".dataframe > tbody > tr {\n",
       "  text-align: right;\n",
       "  white-space: pre-wrap;\n",
       "}\n",
       "</style>\n",
       "<small>shape: (1_466, 17)</small><table border=\"1\" class=\"dataframe\"><thead><tr><th>source</th><th>steel_type</th><th>initial_hardness_post_quenching_HRC</th><th>tempering_time_s</th><th>tempering_temperature_C</th><th>C</th><th>Mn</th><th>P</th><th>S</th><th>Si</th><th>Ni</th><th>Cr</th><th>Mo</th><th>V</th><th>Al</th><th>Cu</th><th>final_hardness_post_tempering_HRC</th></tr><tr><td>str</td><td>str</td><td>str</td><td>i64</td><td>f64</td><td>f64</td><td>f64</td><td>f64</td><td>f64</td><td>f64</td><td>f64</td><td>f64</td><td>f64</td><td>f64</td><td>f64</td><td>f64</td><td>f64</td></tr></thead><tbody><tr><td>&quot;Grange and Baughman, 1956&quot;</td><td>&quot;AISI-SAE 1026&quot;</td><td>&quot;?&quot;</td><td>600</td><td>204.4</td><td>0.25</td><td>0.79</td><td>0.012</td><td>0.026</td><td>0.11</td><td>0.0</td><td>0.0</td><td>0.0</td><td>0.0</td><td>0.0</td><td>0.0</td><td>50.6</td></tr><tr><td>&quot;Grange and Baughman, 1956&quot;</td><td>&quot;AISI-SAE 1026&quot;</td><td>&quot;?&quot;</td><td>600</td><td>260.0</td><td>0.25</td><td>0.79</td><td>0.012</td><td>0.026</td><td>0.11</td><td>0.0</td><td>0.0</td><td>0.0</td><td>0.0</td><td>0.0</td><td>0.0</td><td>48.3</td></tr><tr><td>&quot;Grange and Baughman, 1956&quot;</td><td>&quot;AISI-SAE 1026&quot;</td><td>&quot;?&quot;</td><td>600</td><td>315.6</td><td>0.25</td><td>0.79</td><td>0.012</td><td>0.026</td><td>0.11</td><td>0.0</td><td>0.0</td><td>0.0</td><td>0.0</td><td>0.0</td><td>0.0</td><td>43.7</td></tr><tr><td>&quot;Grange and Baughman, 1956&quot;</td><td>&quot;AISI-SAE 1026&quot;</td><td>&quot;?&quot;</td><td>600</td><td>371.1</td><td>0.25</td><td>0.79</td><td>0.012</td><td>0.026</td><td>0.11</td><td>0.0</td><td>0.0</td><td>0.0</td><td>0.0</td><td>0.0</td><td>0.0</td><td>40.5</td></tr><tr><td>&quot;Grange and Baughman, 1956&quot;</td><td>&quot;AISI-SAE 1026&quot;</td><td>&quot;?&quot;</td><td>600</td><td>426.7</td><td>0.25</td><td>0.79</td><td>0.012</td><td>0.026</td><td>0.11</td><td>0.0</td><td>0.0</td><td>0.0</td><td>0.0</td><td>0.0</td><td>0.0</td><td>37.3</td></tr><tr><td>&hellip;</td><td>&hellip;</td><td>&hellip;</td><td>&hellip;</td><td>&hellip;</td><td>&hellip;</td><td>&hellip;</td><td>&hellip;</td><td>&hellip;</td><td>&hellip;</td><td>&hellip;</td><td>&hellip;</td><td>&hellip;</td><td>&hellip;</td><td>&hellip;</td><td>&hellip;</td><td>&hellip;</td></tr><tr><td>&quot;Hollomon and Jaffe, 1945&quot;</td><td>&quot;1,15%C - plain carbon steel&quot;</td><td>&quot;64.5&quot;</td><td>86400</td><td>300.0</td><td>1.15</td><td>0.58</td><td>0.012</td><td>0.021</td><td>0.09</td><td>0.0</td><td>0.01</td><td>0.0</td><td>0.0</td><td>0.0</td><td>0.0</td><td>50.5</td></tr><tr><td>&quot;Hollomon and Jaffe, 1945&quot;</td><td>&quot;1,15%C - plain carbon steel&quot;</td><td>&quot;64.5&quot;</td><td>86400</td><td>400.0</td><td>1.15</td><td>0.58</td><td>0.012</td><td>0.021</td><td>0.09</td><td>0.0</td><td>0.01</td><td>0.0</td><td>0.0</td><td>0.0</td><td>0.0</td><td>42.0</td></tr><tr><td>&quot;Hollomon and Jaffe, 1945&quot;</td><td>&quot;1,15%C - plain carbon steel&quot;</td><td>&quot;64.5&quot;</td><td>86400</td><td>500.0</td><td>1.15</td><td>0.58</td><td>0.012</td><td>0.021</td><td>0.09</td><td>0.0</td><td>0.01</td><td>0.0</td><td>0.0</td><td>0.0</td><td>0.0</td><td>32.0</td></tr><tr><td>&quot;Hollomon and Jaffe, 1945&quot;</td><td>&quot;1,15%C - plain carbon steel&quot;</td><td>&quot;64.5&quot;</td><td>86400</td><td>600.0</td><td>1.15</td><td>0.58</td><td>0.012</td><td>0.021</td><td>0.09</td><td>0.0</td><td>0.01</td><td>0.0</td><td>0.0</td><td>0.0</td><td>0.0</td><td>23.0</td></tr><tr><td>&quot;Hollomon and Jaffe, 1945&quot;</td><td>&quot;1,15%C - plain carbon steel&quot;</td><td>&quot;64.5&quot;</td><td>86400</td><td>700.0</td><td>1.15</td><td>0.58</td><td>0.012</td><td>0.021</td><td>0.09</td><td>0.0</td><td>0.01</td><td>0.0</td><td>0.0</td><td>0.0</td><td>0.0</td><td>4.5</td></tr></tbody></table></div>"
      ],
      "text/plain": [
       "shape: (1_466, 17)\n",
       "┌───────────────┬───────────────┬──────────────┬──────────────┬───┬─────┬─────┬─────┬──────────────┐\n",
       "│ source        ┆ steel_type    ┆ initial_hard ┆ tempering_ti ┆ … ┆ V   ┆ Al  ┆ Cu  ┆ final_hardne │\n",
       "│ ---           ┆ ---           ┆ ness_post_qu ┆ me_s         ┆   ┆ --- ┆ --- ┆ --- ┆ ss_post_temp │\n",
       "│ str           ┆ str           ┆ enchin…      ┆ ---          ┆   ┆ f64 ┆ f64 ┆ f64 ┆ ering_…      │\n",
       "│               ┆               ┆ ---          ┆ i64          ┆   ┆     ┆     ┆     ┆ ---          │\n",
       "│               ┆               ┆ str          ┆              ┆   ┆     ┆     ┆     ┆ f64          │\n",
       "╞═══════════════╪═══════════════╪══════════════╪══════════════╪═══╪═════╪═════╪═════╪══════════════╡\n",
       "│ Grange and    ┆ AISI-SAE 1026 ┆ ?            ┆ 600          ┆ … ┆ 0.0 ┆ 0.0 ┆ 0.0 ┆ 50.6         │\n",
       "│ Baughman,     ┆               ┆              ┆              ┆   ┆     ┆     ┆     ┆              │\n",
       "│ 1956          ┆               ┆              ┆              ┆   ┆     ┆     ┆     ┆              │\n",
       "│ Grange and    ┆ AISI-SAE 1026 ┆ ?            ┆ 600          ┆ … ┆ 0.0 ┆ 0.0 ┆ 0.0 ┆ 48.3         │\n",
       "│ Baughman,     ┆               ┆              ┆              ┆   ┆     ┆     ┆     ┆              │\n",
       "│ 1956          ┆               ┆              ┆              ┆   ┆     ┆     ┆     ┆              │\n",
       "│ Grange and    ┆ AISI-SAE 1026 ┆ ?            ┆ 600          ┆ … ┆ 0.0 ┆ 0.0 ┆ 0.0 ┆ 43.7         │\n",
       "│ Baughman,     ┆               ┆              ┆              ┆   ┆     ┆     ┆     ┆              │\n",
       "│ 1956          ┆               ┆              ┆              ┆   ┆     ┆     ┆     ┆              │\n",
       "│ Grange and    ┆ AISI-SAE 1026 ┆ ?            ┆ 600          ┆ … ┆ 0.0 ┆ 0.0 ┆ 0.0 ┆ 40.5         │\n",
       "│ Baughman,     ┆               ┆              ┆              ┆   ┆     ┆     ┆     ┆              │\n",
       "│ 1956          ┆               ┆              ┆              ┆   ┆     ┆     ┆     ┆              │\n",
       "│ Grange and    ┆ AISI-SAE 1026 ┆ ?            ┆ 600          ┆ … ┆ 0.0 ┆ 0.0 ┆ 0.0 ┆ 37.3         │\n",
       "│ Baughman,     ┆               ┆              ┆              ┆   ┆     ┆     ┆     ┆              │\n",
       "│ 1956          ┆               ┆              ┆              ┆   ┆     ┆     ┆     ┆              │\n",
       "│ …             ┆ …             ┆ …            ┆ …            ┆ … ┆ …   ┆ …   ┆ …   ┆ …            │\n",
       "│ Hollomon and  ┆ 1,15%C -      ┆ 64.5         ┆ 86400        ┆ … ┆ 0.0 ┆ 0.0 ┆ 0.0 ┆ 50.5         │\n",
       "│ Jaffe, 1945   ┆ plain carbon  ┆              ┆              ┆   ┆     ┆     ┆     ┆              │\n",
       "│               ┆ steel         ┆              ┆              ┆   ┆     ┆     ┆     ┆              │\n",
       "│ Hollomon and  ┆ 1,15%C -      ┆ 64.5         ┆ 86400        ┆ … ┆ 0.0 ┆ 0.0 ┆ 0.0 ┆ 42.0         │\n",
       "│ Jaffe, 1945   ┆ plain carbon  ┆              ┆              ┆   ┆     ┆     ┆     ┆              │\n",
       "│               ┆ steel         ┆              ┆              ┆   ┆     ┆     ┆     ┆              │\n",
       "│ Hollomon and  ┆ 1,15%C -      ┆ 64.5         ┆ 86400        ┆ … ┆ 0.0 ┆ 0.0 ┆ 0.0 ┆ 32.0         │\n",
       "│ Jaffe, 1945   ┆ plain carbon  ┆              ┆              ┆   ┆     ┆     ┆     ┆              │\n",
       "│               ┆ steel         ┆              ┆              ┆   ┆     ┆     ┆     ┆              │\n",
       "│ Hollomon and  ┆ 1,15%C -      ┆ 64.5         ┆ 86400        ┆ … ┆ 0.0 ┆ 0.0 ┆ 0.0 ┆ 23.0         │\n",
       "│ Jaffe, 1945   ┆ plain carbon  ┆              ┆              ┆   ┆     ┆     ┆     ┆              │\n",
       "│               ┆ steel         ┆              ┆              ┆   ┆     ┆     ┆     ┆              │\n",
       "│ Hollomon and  ┆ 1,15%C -      ┆ 64.5         ┆ 86400        ┆ … ┆ 0.0 ┆ 0.0 ┆ 0.0 ┆ 4.5          │\n",
       "│ Jaffe, 1945   ┆ plain carbon  ┆              ┆              ┆   ┆     ┆     ┆     ┆              │\n",
       "│               ┆ steel         ┆              ┆              ┆   ┆     ┆     ┆     ┆              │\n",
       "└───────────────┴───────────────┴──────────────┴──────────────┴───┴─────┴─────┴─────┴──────────────┘"
      ]
     },
     "execution_count": 30,
     "metadata": {},
     "output_type": "execute_result"
    }
   ],
   "source": [
    "df_clean_cnames"
   ]
  },
  {
   "cell_type": "code",
   "execution_count": 31,
   "metadata": {},
   "outputs": [
    {
     "data": {
      "text/html": [
       "<div><style>\n",
       ".dataframe > thead > tr,\n",
       ".dataframe > tbody > tr {\n",
       "  text-align: right;\n",
       "  white-space: pre-wrap;\n",
       "}\n",
       "</style>\n",
       "<small>shape: (3, 2)</small><table border=\"1\" class=\"dataframe\"><thead><tr><th>initial_hardness_post_quenching_HRC</th><th>count</th></tr><tr><td>str</td><td>u32</td></tr></thead><tbody><tr><td>&quot;?&quot;</td><td>949</td></tr><tr><td>&quot;66.5&quot;</td><td>90</td></tr><tr><td>&quot;63.1&quot;</td><td>51</td></tr></tbody></table></div>"
      ],
      "text/plain": [
       "shape: (3, 2)\n",
       "┌─────────────────────────────────┬───────┐\n",
       "│ initial_hardness_post_quenchin… ┆ count │\n",
       "│ ---                             ┆ ---   │\n",
       "│ str                             ┆ u32   │\n",
       "╞═════════════════════════════════╪═══════╡\n",
       "│ ?                               ┆ 949   │\n",
       "│ 66.5                            ┆ 90    │\n",
       "│ 63.1                            ┆ 51    │\n",
       "└─────────────────────────────────┴───────┘"
      ]
     },
     "execution_count": 31,
     "metadata": {},
     "output_type": "execute_result"
    }
   ],
   "source": [
    "df_clean_cnames[\"initial_hardness_post_quenching_HRC\"].value_counts().sort('count', descending=True).head(3)"
   ]
  },
  {
   "cell_type": "code",
   "execution_count": 32,
   "metadata": {},
   "outputs": [],
   "source": [
    "df_clean = df_clean_cnames.with_columns(pl.col('initial_hardness_post_quenching_HRC').cast(pl.Float64, strict=False))"
   ]
  },
  {
   "cell_type": "code",
   "execution_count": 33,
   "metadata": {},
   "outputs": [
    {
     "data": {
      "text/html": [
       "<div><style>\n",
       ".dataframe > thead > tr,\n",
       ".dataframe > tbody > tr {\n",
       "  text-align: right;\n",
       "  white-space: pre-wrap;\n",
       "}\n",
       "</style>\n",
       "<small>shape: (3, 2)</small><table border=\"1\" class=\"dataframe\"><thead><tr><th>initial_hardness_post_quenching_HRC</th><th>count</th></tr><tr><td>f64</td><td>u32</td></tr></thead><tbody><tr><td>null</td><td>949</td></tr><tr><td>66.5</td><td>90</td></tr><tr><td>63.3</td><td>51</td></tr></tbody></table></div>"
      ],
      "text/plain": [
       "shape: (3, 2)\n",
       "┌─────────────────────────────────┬───────┐\n",
       "│ initial_hardness_post_quenchin… ┆ count │\n",
       "│ ---                             ┆ ---   │\n",
       "│ f64                             ┆ u32   │\n",
       "╞═════════════════════════════════╪═══════╡\n",
       "│ null                            ┆ 949   │\n",
       "│ 66.5                            ┆ 90    │\n",
       "│ 63.3                            ┆ 51    │\n",
       "└─────────────────────────────────┴───────┘"
      ]
     },
     "execution_count": 33,
     "metadata": {},
     "output_type": "execute_result"
    }
   ],
   "source": [
    "df_clean[\"initial_hardness_post_quenching_HRC\"].value_counts().sort('count', descending=True).head(3)"
   ]
  },
  {
   "cell_type": "code",
   "execution_count": 34,
   "metadata": {},
   "outputs": [
    {
     "data": {
      "text/html": [
       "<div><style>\n",
       ".dataframe > thead > tr,\n",
       ".dataframe > tbody > tr {\n",
       "  text-align: right;\n",
       "  white-space: pre-wrap;\n",
       "}\n",
       "</style>\n",
       "<small>shape: (1_466, 17)</small><table border=\"1\" class=\"dataframe\"><thead><tr><th>source</th><th>steel_type</th><th>initial_hardness_post_quenching_HRC</th><th>tempering_time_s</th><th>tempering_temperature_C</th><th>C</th><th>Mn</th><th>P</th><th>S</th><th>Si</th><th>Ni</th><th>Cr</th><th>Mo</th><th>V</th><th>Al</th><th>Cu</th><th>final_hardness_post_tempering_HRC</th></tr><tr><td>str</td><td>str</td><td>f64</td><td>i64</td><td>f64</td><td>f64</td><td>f64</td><td>f64</td><td>f64</td><td>f64</td><td>f64</td><td>f64</td><td>f64</td><td>f64</td><td>f64</td><td>f64</td><td>f64</td></tr></thead><tbody><tr><td>&quot;Grange and Baughman, 1956&quot;</td><td>&quot;AISI-SAE 1026&quot;</td><td>null</td><td>600</td><td>204.4</td><td>0.25</td><td>0.79</td><td>0.012</td><td>0.026</td><td>0.11</td><td>0.0</td><td>0.0</td><td>0.0</td><td>0.0</td><td>0.0</td><td>0.0</td><td>50.6</td></tr><tr><td>&quot;Grange and Baughman, 1956&quot;</td><td>&quot;AISI-SAE 1026&quot;</td><td>null</td><td>600</td><td>260.0</td><td>0.25</td><td>0.79</td><td>0.012</td><td>0.026</td><td>0.11</td><td>0.0</td><td>0.0</td><td>0.0</td><td>0.0</td><td>0.0</td><td>0.0</td><td>48.3</td></tr><tr><td>&quot;Grange and Baughman, 1956&quot;</td><td>&quot;AISI-SAE 1026&quot;</td><td>null</td><td>600</td><td>315.6</td><td>0.25</td><td>0.79</td><td>0.012</td><td>0.026</td><td>0.11</td><td>0.0</td><td>0.0</td><td>0.0</td><td>0.0</td><td>0.0</td><td>0.0</td><td>43.7</td></tr><tr><td>&quot;Grange and Baughman, 1956&quot;</td><td>&quot;AISI-SAE 1026&quot;</td><td>null</td><td>600</td><td>371.1</td><td>0.25</td><td>0.79</td><td>0.012</td><td>0.026</td><td>0.11</td><td>0.0</td><td>0.0</td><td>0.0</td><td>0.0</td><td>0.0</td><td>0.0</td><td>40.5</td></tr><tr><td>&quot;Grange and Baughman, 1956&quot;</td><td>&quot;AISI-SAE 1026&quot;</td><td>null</td><td>600</td><td>426.7</td><td>0.25</td><td>0.79</td><td>0.012</td><td>0.026</td><td>0.11</td><td>0.0</td><td>0.0</td><td>0.0</td><td>0.0</td><td>0.0</td><td>0.0</td><td>37.3</td></tr><tr><td>&hellip;</td><td>&hellip;</td><td>&hellip;</td><td>&hellip;</td><td>&hellip;</td><td>&hellip;</td><td>&hellip;</td><td>&hellip;</td><td>&hellip;</td><td>&hellip;</td><td>&hellip;</td><td>&hellip;</td><td>&hellip;</td><td>&hellip;</td><td>&hellip;</td><td>&hellip;</td><td>&hellip;</td></tr><tr><td>&quot;Hollomon and Jaffe, 1945&quot;</td><td>&quot;1,15%C - plain carbon steel&quot;</td><td>64.5</td><td>86400</td><td>300.0</td><td>1.15</td><td>0.58</td><td>0.012</td><td>0.021</td><td>0.09</td><td>0.0</td><td>0.01</td><td>0.0</td><td>0.0</td><td>0.0</td><td>0.0</td><td>50.5</td></tr><tr><td>&quot;Hollomon and Jaffe, 1945&quot;</td><td>&quot;1,15%C - plain carbon steel&quot;</td><td>64.5</td><td>86400</td><td>400.0</td><td>1.15</td><td>0.58</td><td>0.012</td><td>0.021</td><td>0.09</td><td>0.0</td><td>0.01</td><td>0.0</td><td>0.0</td><td>0.0</td><td>0.0</td><td>42.0</td></tr><tr><td>&quot;Hollomon and Jaffe, 1945&quot;</td><td>&quot;1,15%C - plain carbon steel&quot;</td><td>64.5</td><td>86400</td><td>500.0</td><td>1.15</td><td>0.58</td><td>0.012</td><td>0.021</td><td>0.09</td><td>0.0</td><td>0.01</td><td>0.0</td><td>0.0</td><td>0.0</td><td>0.0</td><td>32.0</td></tr><tr><td>&quot;Hollomon and Jaffe, 1945&quot;</td><td>&quot;1,15%C - plain carbon steel&quot;</td><td>64.5</td><td>86400</td><td>600.0</td><td>1.15</td><td>0.58</td><td>0.012</td><td>0.021</td><td>0.09</td><td>0.0</td><td>0.01</td><td>0.0</td><td>0.0</td><td>0.0</td><td>0.0</td><td>23.0</td></tr><tr><td>&quot;Hollomon and Jaffe, 1945&quot;</td><td>&quot;1,15%C - plain carbon steel&quot;</td><td>64.5</td><td>86400</td><td>700.0</td><td>1.15</td><td>0.58</td><td>0.012</td><td>0.021</td><td>0.09</td><td>0.0</td><td>0.01</td><td>0.0</td><td>0.0</td><td>0.0</td><td>0.0</td><td>4.5</td></tr></tbody></table></div>"
      ],
      "text/plain": [
       "shape: (1_466, 17)\n",
       "┌───────────────┬───────────────┬──────────────┬──────────────┬───┬─────┬─────┬─────┬──────────────┐\n",
       "│ source        ┆ steel_type    ┆ initial_hard ┆ tempering_ti ┆ … ┆ V   ┆ Al  ┆ Cu  ┆ final_hardne │\n",
       "│ ---           ┆ ---           ┆ ness_post_qu ┆ me_s         ┆   ┆ --- ┆ --- ┆ --- ┆ ss_post_temp │\n",
       "│ str           ┆ str           ┆ enchin…      ┆ ---          ┆   ┆ f64 ┆ f64 ┆ f64 ┆ ering_…      │\n",
       "│               ┆               ┆ ---          ┆ i64          ┆   ┆     ┆     ┆     ┆ ---          │\n",
       "│               ┆               ┆ f64          ┆              ┆   ┆     ┆     ┆     ┆ f64          │\n",
       "╞═══════════════╪═══════════════╪══════════════╪══════════════╪═══╪═════╪═════╪═════╪══════════════╡\n",
       "│ Grange and    ┆ AISI-SAE 1026 ┆ null         ┆ 600          ┆ … ┆ 0.0 ┆ 0.0 ┆ 0.0 ┆ 50.6         │\n",
       "│ Baughman,     ┆               ┆              ┆              ┆   ┆     ┆     ┆     ┆              │\n",
       "│ 1956          ┆               ┆              ┆              ┆   ┆     ┆     ┆     ┆              │\n",
       "│ Grange and    ┆ AISI-SAE 1026 ┆ null         ┆ 600          ┆ … ┆ 0.0 ┆ 0.0 ┆ 0.0 ┆ 48.3         │\n",
       "│ Baughman,     ┆               ┆              ┆              ┆   ┆     ┆     ┆     ┆              │\n",
       "│ 1956          ┆               ┆              ┆              ┆   ┆     ┆     ┆     ┆              │\n",
       "│ Grange and    ┆ AISI-SAE 1026 ┆ null         ┆ 600          ┆ … ┆ 0.0 ┆ 0.0 ┆ 0.0 ┆ 43.7         │\n",
       "│ Baughman,     ┆               ┆              ┆              ┆   ┆     ┆     ┆     ┆              │\n",
       "│ 1956          ┆               ┆              ┆              ┆   ┆     ┆     ┆     ┆              │\n",
       "│ Grange and    ┆ AISI-SAE 1026 ┆ null         ┆ 600          ┆ … ┆ 0.0 ┆ 0.0 ┆ 0.0 ┆ 40.5         │\n",
       "│ Baughman,     ┆               ┆              ┆              ┆   ┆     ┆     ┆     ┆              │\n",
       "│ 1956          ┆               ┆              ┆              ┆   ┆     ┆     ┆     ┆              │\n",
       "│ Grange and    ┆ AISI-SAE 1026 ┆ null         ┆ 600          ┆ … ┆ 0.0 ┆ 0.0 ┆ 0.0 ┆ 37.3         │\n",
       "│ Baughman,     ┆               ┆              ┆              ┆   ┆     ┆     ┆     ┆              │\n",
       "│ 1956          ┆               ┆              ┆              ┆   ┆     ┆     ┆     ┆              │\n",
       "│ …             ┆ …             ┆ …            ┆ …            ┆ … ┆ …   ┆ …   ┆ …   ┆ …            │\n",
       "│ Hollomon and  ┆ 1,15%C -      ┆ 64.5         ┆ 86400        ┆ … ┆ 0.0 ┆ 0.0 ┆ 0.0 ┆ 50.5         │\n",
       "│ Jaffe, 1945   ┆ plain carbon  ┆              ┆              ┆   ┆     ┆     ┆     ┆              │\n",
       "│               ┆ steel         ┆              ┆              ┆   ┆     ┆     ┆     ┆              │\n",
       "│ Hollomon and  ┆ 1,15%C -      ┆ 64.5         ┆ 86400        ┆ … ┆ 0.0 ┆ 0.0 ┆ 0.0 ┆ 42.0         │\n",
       "│ Jaffe, 1945   ┆ plain carbon  ┆              ┆              ┆   ┆     ┆     ┆     ┆              │\n",
       "│               ┆ steel         ┆              ┆              ┆   ┆     ┆     ┆     ┆              │\n",
       "│ Hollomon and  ┆ 1,15%C -      ┆ 64.5         ┆ 86400        ┆ … ┆ 0.0 ┆ 0.0 ┆ 0.0 ┆ 32.0         │\n",
       "│ Jaffe, 1945   ┆ plain carbon  ┆              ┆              ┆   ┆     ┆     ┆     ┆              │\n",
       "│               ┆ steel         ┆              ┆              ┆   ┆     ┆     ┆     ┆              │\n",
       "│ Hollomon and  ┆ 1,15%C -      ┆ 64.5         ┆ 86400        ┆ … ┆ 0.0 ┆ 0.0 ┆ 0.0 ┆ 23.0         │\n",
       "│ Jaffe, 1945   ┆ plain carbon  ┆              ┆              ┆   ┆     ┆     ┆     ┆              │\n",
       "│               ┆ steel         ┆              ┆              ┆   ┆     ┆     ┆     ┆              │\n",
       "│ Hollomon and  ┆ 1,15%C -      ┆ 64.5         ┆ 86400        ┆ … ┆ 0.0 ┆ 0.0 ┆ 0.0 ┆ 4.5          │\n",
       "│ Jaffe, 1945   ┆ plain carbon  ┆              ┆              ┆   ┆     ┆     ┆     ┆              │\n",
       "│               ┆ steel         ┆              ┆              ┆   ┆     ┆     ┆     ┆              │\n",
       "└───────────────┴───────────────┴──────────────┴──────────────┴───┴─────┴─────┴─────┴──────────────┘"
      ]
     },
     "execution_count": 34,
     "metadata": {},
     "output_type": "execute_result"
    }
   ],
   "source": [
    "df_clean"
   ]
  },
  {
   "cell_type": "markdown",
   "metadata": {},
   "source": [
    "# Making steel types values searchable\n",
    "Steel types that do not include AISI and a code are not searchable in steel databased and need manual renaming\n",
    "Exmaple: I\"0,74%C - plain carbon steel\" is a AISI 1074 steel. Confirmed via elemental composition on https://www.azom.com/article.aspx?ArticleID=6558\n"
   ]
  },
  {
   "cell_type": "code",
   "execution_count": 35,
   "metadata": {
    "notebookRunGroups": {
     "groupValue": "2"
    }
   },
   "outputs": [
    {
     "data": {
      "text/plain": [
       "(36, 2)"
      ]
     },
     "execution_count": 35,
     "metadata": {},
     "output_type": "execute_result"
    }
   ],
   "source": [
    "steel_identifiers = [\"steel_type\", \"source\"]\n",
    "df_clean[steel_identifiers].unique().shape"
   ]
  },
  {
   "cell_type": "code",
   "execution_count": 36,
   "metadata": {},
   "outputs": [],
   "source": [
    "not_searchable = df_clean[steel_identifiers].unique().filter(pl.col('steel_type').str.contains(\"AISI\").not_())\n"
   ]
  },
  {
   "cell_type": "code",
   "execution_count": 37,
   "metadata": {},
   "outputs": [],
   "source": [
    "df_not_searchable = df_clean.join(not_searchable, on=steel_identifiers, how=\"inner\")\n"
   ]
  },
  {
   "cell_type": "code",
   "execution_count": 38,
   "metadata": {},
   "outputs": [
    {
     "data": {
      "text/html": [
       "<div><style>\n",
       ".dataframe > thead > tr,\n",
       ".dataframe > tbody > tr {\n",
       "  text-align: right;\n",
       "  white-space: pre-wrap;\n",
       "}\n",
       "</style>\n",
       "<small>shape: (7, 13)</small><table border=\"1\" class=\"dataframe\"><thead><tr><th>source</th><th>steel_type</th><th>C</th><th>Mn</th><th>P</th><th>S</th><th>Si</th><th>Ni</th><th>Cr</th><th>Mo</th><th>V</th><th>Al</th><th>Cu</th></tr><tr><td>str</td><td>str</td><td>f64</td><td>f64</td><td>f64</td><td>f64</td><td>f64</td><td>f64</td><td>f64</td><td>f64</td><td>f64</td><td>f64</td><td>f64</td></tr></thead><tbody><tr><td>&quot;Hollomon and Jaffe, 1945&quot;</td><td>&quot;0,31%C - plain carbon steel&quot;</td><td>0.31</td><td>0.52</td><td>0.007</td><td>0.026</td><td>0.1</td><td>0.0</td><td>0.015</td><td>0.0</td><td>0.0</td><td>0.0</td><td>0.06</td></tr><tr><td>&quot;Hollomon and Jaffe, 1945&quot;</td><td>&quot;0,74%C - plain carbon steel&quot;</td><td>0.74</td><td>0.66</td><td>0.009</td><td>0.021</td><td>0.18</td><td>0.0</td><td>0.01</td><td>0.0</td><td>0.0</td><td>0.0</td><td>0.0</td></tr><tr><td>&quot;Hollomon and Jaffe, 1945&quot;</td><td>&quot;1,15%C - plain carbon steel&quot;</td><td>1.15</td><td>0.58</td><td>0.012</td><td>0.021</td><td>0.09</td><td>0.0</td><td>0.01</td><td>0.0</td><td>0.0</td><td>0.0</td><td>0.0</td></tr><tr><td>&quot;Hollomon and Jaffe, 1945&quot;</td><td>&quot;0,56%C - plain carbon steel&quot;</td><td>0.56</td><td>0.54</td><td>0.012</td><td>0.015</td><td>0.18</td><td>0.0</td><td>0.02</td><td>0.0</td><td>0.0</td><td>0.0</td><td>0.0</td></tr><tr><td>&quot;Hollomon and Jaffe, 1945&quot;</td><td>&quot;0,98%C - plain carbon steel&quot;</td><td>0.98</td><td>0.3</td><td>0.007</td><td>0.021</td><td>0.3</td><td>0.0</td><td>0.03</td><td>0.0</td><td>0.0</td><td>0.0</td><td>0.055</td></tr><tr><td>&quot;Grange and Baughman, 1956&quot;</td><td>&quot;Nitriding Steel &quot;</td><td>0.41</td><td>0.57</td><td>0.017</td><td>0.005</td><td>0.24</td><td>0.17</td><td>1.57</td><td>0.36</td><td>0.0</td><td>1.26</td><td>0.0</td></tr><tr><td>&quot;Hollomon and Jaffe, 1945&quot;</td><td>&quot;0,89%C - plain carbon steel&quot;</td><td>0.89</td><td>0.55</td><td>0.012</td><td>0.02</td><td>0.06</td><td>0.0</td><td>0.01</td><td>0.0</td><td>0.0</td><td>0.0</td><td>0.08</td></tr></tbody></table></div>"
      ],
      "text/plain": [
       "shape: (7, 13)\n",
       "┌──────────────────────┬─────────────────────────────┬──────┬──────┬───┬──────┬─────┬──────┬───────┐\n",
       "│ source               ┆ steel_type                  ┆ C    ┆ Mn   ┆ … ┆ Mo   ┆ V   ┆ Al   ┆ Cu    │\n",
       "│ ---                  ┆ ---                         ┆ ---  ┆ ---  ┆   ┆ ---  ┆ --- ┆ ---  ┆ ---   │\n",
       "│ str                  ┆ str                         ┆ f64  ┆ f64  ┆   ┆ f64  ┆ f64 ┆ f64  ┆ f64   │\n",
       "╞══════════════════════╪═════════════════════════════╪══════╪══════╪═══╪══════╪═════╪══════╪═══════╡\n",
       "│ Hollomon and Jaffe,  ┆ 0,31%C - plain carbon steel ┆ 0.31 ┆ 0.52 ┆ … ┆ 0.0  ┆ 0.0 ┆ 0.0  ┆ 0.06  │\n",
       "│ 1945                 ┆                             ┆      ┆      ┆   ┆      ┆     ┆      ┆       │\n",
       "│ Hollomon and Jaffe,  ┆ 0,74%C - plain carbon steel ┆ 0.74 ┆ 0.66 ┆ … ┆ 0.0  ┆ 0.0 ┆ 0.0  ┆ 0.0   │\n",
       "│ 1945                 ┆                             ┆      ┆      ┆   ┆      ┆     ┆      ┆       │\n",
       "│ Hollomon and Jaffe,  ┆ 1,15%C - plain carbon steel ┆ 1.15 ┆ 0.58 ┆ … ┆ 0.0  ┆ 0.0 ┆ 0.0  ┆ 0.0   │\n",
       "│ 1945                 ┆                             ┆      ┆      ┆   ┆      ┆     ┆      ┆       │\n",
       "│ Hollomon and Jaffe,  ┆ 0,56%C - plain carbon steel ┆ 0.56 ┆ 0.54 ┆ … ┆ 0.0  ┆ 0.0 ┆ 0.0  ┆ 0.0   │\n",
       "│ 1945                 ┆                             ┆      ┆      ┆   ┆      ┆     ┆      ┆       │\n",
       "│ Hollomon and Jaffe,  ┆ 0,98%C - plain carbon steel ┆ 0.98 ┆ 0.3  ┆ … ┆ 0.0  ┆ 0.0 ┆ 0.0  ┆ 0.055 │\n",
       "│ 1945                 ┆                             ┆      ┆      ┆   ┆      ┆     ┆      ┆       │\n",
       "│ Grange and Baughman, ┆ Nitriding Steel             ┆ 0.41 ┆ 0.57 ┆ … ┆ 0.36 ┆ 0.0 ┆ 1.26 ┆ 0.0   │\n",
       "│ 1956                 ┆                             ┆      ┆      ┆   ┆      ┆     ┆      ┆       │\n",
       "│ Hollomon and Jaffe,  ┆ 0,89%C - plain carbon steel ┆ 0.89 ┆ 0.55 ┆ … ┆ 0.0  ┆ 0.0 ┆ 0.0  ┆ 0.08  │\n",
       "│ 1945                 ┆                             ┆      ┆      ┆   ┆      ┆     ┆      ┆       │\n",
       "└──────────────────────┴─────────────────────────────┴──────┴──────┴───┴──────┴─────┴──────┴───────┘"
      ]
     },
     "execution_count": 38,
     "metadata": {},
     "output_type": "execute_result"
    }
   ],
   "source": [
    "df_not_searchable_alloy_ele = df_not_searchable.select([\"source\", \"steel_type\", \"C\", \"Mn\", \"P\", \"S\", \"Si\", \"Ni\", \"Cr\", \"Mo\", \"V\", \"Al\", \"Cu\"]).unique()\n",
    "df_not_searchable_alloy_ele"
   ]
  },
  {
   "cell_type": "code",
   "execution_count": 39,
   "metadata": {},
   "outputs": [],
   "source": [
    "dict_rename_bad = {'0,98%C - plain carbon steel': 'Non-searchable', \n",
    "                   '1,15%C - plain carbon steel': 'Non-searchable', \n",
    "                   '0,74%C - plain carbon steel': 'AISI 1074 Carbon Steel ', \n",
    "                   '0,56%C - plain carbon steel': 'Non-searchable', \n",
    "                   '0,89%C - plain carbon steel': 'Non-searchable', \n",
    "                   'Nitriding Steel ': 'Non-searchable', \n",
    "                   '0,31%C - plain carbon steel': 'Non-searchable'}\n"
   ]
  },
  {
   "cell_type": "code",
   "execution_count": 40,
   "metadata": {},
   "outputs": [
    {
     "data": {
      "text/plain": [
       "dict_keys(['0,98%C - plain carbon steel', '1,15%C - plain carbon steel', '0,74%C - plain carbon steel', '0,56%C - plain carbon steel', '0,89%C - plain carbon steel', 'Nitriding Steel ', '0,31%C - plain carbon steel'])"
      ]
     },
     "execution_count": 40,
     "metadata": {},
     "output_type": "execute_result"
    }
   ],
   "source": [
    "dict_rename_bad.keys()"
   ]
  },
  {
   "cell_type": "code",
   "execution_count": 45,
   "metadata": {},
   "outputs": [
    {
     "data": {
      "text/plain": [
       "(1201, 17)"
      ]
     },
     "execution_count": 45,
     "metadata": {},
     "output_type": "execute_result"
    }
   ],
   "source": [
    "df_searchable = df_clean.filter(pl.col('steel_type').is_in(['0,98%C - plain carbon steel', '1,15%C - plain carbon steel', '0,56%C - plain carbon steel', '0,89%C - plain carbon steel', 'Nitriding Steel ', '0,31%C - plain carbon steel']).not_())\n",
    "df_searchable.shape"
   ]
  },
  {
   "cell_type": "code",
   "execution_count": 48,
   "metadata": {},
   "outputs": [
    {
     "data": {
      "text/html": [
       "<div><style>\n",
       ".dataframe > thead > tr,\n",
       ".dataframe > tbody > tr {\n",
       "  text-align: right;\n",
       "  white-space: pre-wrap;\n",
       "}\n",
       "</style>\n",
       "<small>shape: (9, 2)</small><table border=\"1\" class=\"dataframe\"><thead><tr><th>statistic</th><th>value</th></tr><tr><td>str</td><td>f64</td></tr></thead><tbody><tr><td>&quot;count&quot;</td><td>1201.0</td></tr><tr><td>&quot;null_count&quot;</td><td>0.0</td></tr><tr><td>&quot;mean&quot;</td><td>0.465054</td></tr><tr><td>&quot;std&quot;</td><td>0.168658</td></tr><tr><td>&quot;min&quot;</td><td>0.25</td></tr><tr><td>&quot;25%&quot;</td><td>0.37</td></tr><tr><td>&quot;50%&quot;</td><td>0.42</td></tr><tr><td>&quot;75%&quot;</td><td>0.51</td></tr><tr><td>&quot;max&quot;</td><td>1.02</td></tr></tbody></table></div>"
      ],
      "text/plain": [
       "shape: (9, 2)\n",
       "┌────────────┬──────────┐\n",
       "│ statistic  ┆ value    │\n",
       "│ ---        ┆ ---      │\n",
       "│ str        ┆ f64      │\n",
       "╞════════════╪══════════╡\n",
       "│ count      ┆ 1201.0   │\n",
       "│ null_count ┆ 0.0      │\n",
       "│ mean       ┆ 0.465054 │\n",
       "│ std        ┆ 0.168658 │\n",
       "│ min        ┆ 0.25     │\n",
       "│ 25%        ┆ 0.37     │\n",
       "│ 50%        ┆ 0.42     │\n",
       "│ 75%        ┆ 0.51     │\n",
       "│ max        ┆ 1.02     │\n",
       "└────────────┴──────────┘"
      ]
     },
     "execution_count": 48,
     "metadata": {},
     "output_type": "execute_result"
    }
   ],
   "source": [
    "df_searchable['C'].describe()"
   ]
  },
  {
   "cell_type": "code",
   "execution_count": null,
   "metadata": {},
   "outputs": [],
   "source": []
  }
 ],
 "metadata": {
  "kernelspec": {
   "display_name": ".venv",
   "language": "python",
   "name": "python3"
  },
  "language_info": {
   "codemirror_mode": {
    "name": "ipython",
    "version": 3
   },
   "file_extension": ".py",
   "mimetype": "text/x-python",
   "name": "python",
   "nbconvert_exporter": "python",
   "pygments_lexer": "ipython3",
   "version": "3.12.6"
  }
 },
 "nbformat": 4,
 "nbformat_minor": 2
}
