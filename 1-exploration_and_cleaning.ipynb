{
 "cells": [
  {
   "cell_type": "code",
   "execution_count": 1,
   "metadata": {},
   "outputs": [],
   "source": [
    "import polars as pl\n",
    "import pathlib\n",
    "import re"
   ]
  },
  {
   "cell_type": "markdown",
   "metadata": {},
   "source": [
    "# Loading Data"
   ]
  },
  {
   "cell_type": "code",
   "execution_count": 2,
   "metadata": {},
   "outputs": [
    {
     "name": "stdout",
     "output_type": "stream",
     "text": [
      "Path is project root\n"
     ]
    }
   ],
   "source": [
    "cwd = pathlib.Path.cwd()\n",
    "\n",
    "if cwd.name == 'Mild-Steel-Tempering':\n",
    "    print(\"Path is project root\")\n",
    "else:\n",
    "    print(\"Please correct current working directory to the project root\")\n"
   ]
  },
  {
   "cell_type": "code",
   "execution_count": 3,
   "metadata": {},
   "outputs": [
    {
     "data": {
      "text/plain": [
       "PurePosixPath('/home/mox/Documents/coding_projects/bootcamp_local/Homeworks/Mild-Steel-Tempering/resources')"
      ]
     },
     "execution_count": 3,
     "metadata": {},
     "output_type": "execute_result"
    }
   ],
   "source": [
    "resources_path = pathlib.PurePath(pathlib.PurePath(cwd), 'resources')\n",
    "resources_path"
   ]
  },
  {
   "cell_type": "markdown",
   "metadata": {},
   "source": [
    "### Many alloy composition columns were parsed incorrectly and failing to load\n",
    "\n",
    "Several weight percent columns were parsed as int automatically due to having \"0\" for many initial rows. \n",
    "\n",
    "All weight percent columns should be parsed as float. "
   ]
  },
  {
   "cell_type": "code",
   "execution_count": 4,
   "metadata": {},
   "outputs": [
    {
     "name": "stdout",
     "output_type": "stream",
     "text": [
      "Rows: 1466\n",
      "Columns: 17\n",
      "$ Source                                  <str> 'Grange and Baughman, 1956', 'Grange and Baughman, 1956', 'Grange and Baughman, 1956', 'Grange and Baughman, 1956', 'Grange and Baughman, 1956', 'Grange and Baughman, 1956', 'Grange and Baughman, 1956', 'Grange and Baughman, 1956', 'Grange and Baughman, 1956', 'Grange and Baughman, 1956'\n",
      "$ Steel type                              <str> 'AISI-SAE 1026', 'AISI-SAE 1026', 'AISI-SAE 1026', 'AISI-SAE 1026', 'AISI-SAE 1026', 'AISI-SAE 1026', 'AISI-SAE 1026', 'AISI-SAE 1026', 'AISI-SAE 1026', 'AISI-SAE 1026'\n",
      "$ Initial hardness (HRC) - post quenching <str> '?', '?', '?', '?', '?', '?', '?', '?', '?', '?'\n",
      "$ Tempering time (s)                      <i64> 600, 600, 600, 600, 600, 600, 600, 600, 600, 600\n",
      "$ Tempering temperature (ºC)              <f64> 204.4, 260.0, 315.6, 371.1, 426.7, 482.2, 537.8, 593.3, 648.9, 704.4\n",
      "$ C (%wt)                                 <f64> 0.25, 0.25, 0.25, 0.25, 0.25, 0.25, 0.25, 0.25, 0.25, 0.25\n",
      "$ Mn (%wt)                                <f64> 0.79, 0.79, 0.79, 0.79, 0.79, 0.79, 0.79, 0.79, 0.79, 0.79\n",
      "$ P (%wt)                                 <f64> 0.012, 0.012, 0.012, 0.012, 0.012, 0.012, 0.012, 0.012, 0.012, 0.012\n",
      "$ S (%wt)                                 <f64> 0.026, 0.026, 0.026, 0.026, 0.026, 0.026, 0.026, 0.026, 0.026, 0.026\n",
      "$ Si (%wt)                                <f64> 0.11, 0.11, 0.11, 0.11, 0.11, 0.11, 0.11, 0.11, 0.11, 0.11\n",
      "$ Ni (%wt)                                <f64> 0.0, 0.0, 0.0, 0.0, 0.0, 0.0, 0.0, 0.0, 0.0, 0.0\n",
      "$ Cr (%wt)                                <f64> 0.0, 0.0, 0.0, 0.0, 0.0, 0.0, 0.0, 0.0, 0.0, 0.0\n",
      "$ Mo (%wt)                                <f64> 0.0, 0.0, 0.0, 0.0, 0.0, 0.0, 0.0, 0.0, 0.0, 0.0\n",
      "$ V (%wt)                                 <f64> 0.0, 0.0, 0.0, 0.0, 0.0, 0.0, 0.0, 0.0, 0.0, 0.0\n",
      "$ Al (%wt)                                <f64> 0.0, 0.0, 0.0, 0.0, 0.0, 0.0, 0.0, 0.0, 0.0, 0.0\n",
      "$ Cu (%wt)                                <f64> 0.0, 0.0, 0.0, 0.0, 0.0, 0.0, 0.0, 0.0, 0.0, 0.0\n",
      "$ Final hardness (HRC) - post tempering   <f64> 50.6, 48.3, 43.7, 40.5, 37.3, 31.2, 26.2, 23.1, 17.3, 11.7\n",
      "\n"
     ]
    }
   ],
   "source": [
    "data_path = f\"{resources_path}/Raiipa-tempering-data.csv\"\n",
    "schema_overrides = {\"C (%wt)\" : pl.Float64,\n",
    "\"Mn (%wt)\" : pl.Float64,\n",
    "\"P (%wt)\" : pl.Float64,\n",
    "\"S (%wt)\" : pl.Float64,\n",
    "\"Si (%wt)\" : pl.Float64,\n",
    "\"Ni (%wt)\" : pl.Float64,\n",
    "\"Cr (%wt)\" : pl.Float64,\n",
    "\"Mo (%wt)\" : pl.Float64,\n",
    "\"V (%wt)\" : pl.Float64,\n",
    "\"Al (%wt)\" : pl.Float64,\n",
    "\"Cu (%wt)\" : pl.Float64}\n",
    "\n",
    "df_data = pl.read_csv(data_path, schema_overrides=schema_overrides)\n",
    "df_data.glimpse()"
   ]
  },
  {
   "cell_type": "code",
   "execution_count": 5,
   "metadata": {},
   "outputs": [
    {
     "data": {
      "text/plain": [
       "['Source',\n",
       " 'Steel type',\n",
       " 'Initial hardness (HRC) - post quenching',\n",
       " 'Tempering time (s)',\n",
       " 'Tempering temperature (ºC)',\n",
       " 'C (%wt)',\n",
       " 'Mn (%wt)',\n",
       " 'P (%wt)',\n",
       " 'S (%wt)',\n",
       " 'Si (%wt)',\n",
       " 'Ni (%wt)',\n",
       " 'Cr (%wt)',\n",
       " 'Mo (%wt)',\n",
       " 'V (%wt)',\n",
       " 'Al (%wt)',\n",
       " 'Cu (%wt)',\n",
       " 'Final hardness (HRC) - post tempering']"
      ]
     },
     "execution_count": 5,
     "metadata": {},
     "output_type": "execute_result"
    }
   ],
   "source": [
    "# save initial columns names as they are very descriptive and may be useful later\n",
    "initial_column_names = df_data.columns\n",
    "initial_column_names"
   ]
  },
  {
   "cell_type": "markdown",
   "metadata": {},
   "source": [
    "# Cleaning\n",
    "Many columns need renaming for ease of manipulation\n",
    "\n",
    "Columns need datatypes correction\n",
    " 'Initial hardness (HRC) - post quenching' needs datatype correction. ? is NA value\n"
   ]
  },
  {
   "cell_type": "code",
   "execution_count": 6,
   "metadata": {},
   "outputs": [],
   "source": [
    "dict_new_cnames = {}"
   ]
  },
  {
   "cell_type": "code",
   "execution_count": 7,
   "metadata": {},
   "outputs": [
    {
     "data": {
      "text/plain": [
       "{'Source': 'source',\n",
       " 'Steel type': 'steel_type',\n",
       " 'Initial hardness (HRC) - post quenching': 'initial_hardnesspost_quenching_HRC',\n",
       " 'Tempering time (s)': 'tempering_time_s',\n",
       " 'Tempering temperature (ºC)': 'tempering_temperature_C',\n",
       " 'C (%wt)': 'C',\n",
       " 'Mn (%wt)': 'Mn',\n",
       " 'P (%wt)': 'P',\n",
       " 'S (%wt)': 'S',\n",
       " 'Si (%wt)': 'Si',\n",
       " 'Ni (%wt)': 'Ni',\n",
       " 'Cr (%wt)': 'Cr',\n",
       " 'Mo (%wt)': 'Mo',\n",
       " 'V (%wt)': 'V',\n",
       " 'Al (%wt)': 'Al',\n",
       " 'Cu (%wt)': 'Cu',\n",
       " 'Final hardness (HRC) - post tempering': 'final_hardnesspost_tempering_HRC'}"
      ]
     },
     "execution_count": 7,
     "metadata": {},
     "output_type": "execute_result"
    }
   ],
   "source": [
    "dict_new_cnames = {}\n",
    "for og_name in initial_column_names:\n",
    "    # replace filler in hardness columns\n",
    "    new_name = og_name.replace(' - ', '')\n",
    "    \n",
    "    # Handle units\n",
    "    try:\n",
    "        #if alloy weight percent remove units and return only elemental symbol\n",
    "        if re.search(r\"\\(%wt\\)\", og_name):\n",
    "            new_name = og_name.split(' ')[0]\n",
    "            #skip the rest of the try block that will re_add the units to the end\n",
    "            pass\n",
    "        else: \n",
    "            #If not elemental composition, lowercase the string\n",
    "            new_name = new_name.lower()\n",
    "        # regex find the units inside the parenthesis, of the original name, not the lowercased new name\n",
    "        unit = re.search(r'\\((\\w+)\\)', og_name).group(1)\n",
    "        # replace the unit parenthesis string with parenthesis with an empty string\n",
    "        # as the unit strings are in a regular location in the column names\n",
    "        remove_units = re.sub(r\" \\(.+\\)\", \"\", new_name)\n",
    "        # append the unit string to the end of the new name \n",
    "        new_name = f\"{remove_units}_{unit}\"\n",
    "    except:\n",
    "        # skip unit processing on names with no units\n",
    "        pass\n",
    "\n",
    "    # Strip away special characters\n",
    "    new_name = new_name.encode(\"ascii\", errors=\"ignore\").decode()\n",
    "    #replace all whitespace with underscores\n",
    "    new_name = new_name.replace(' ', '_')\n",
    "    #add the name to the rename dict\n",
    "    dict_new_cnames[og_name] = new_name\n",
    "dict_new_cnames\n"
   ]
  },
  {
   "cell_type": "code",
   "execution_count": 8,
   "metadata": {},
   "outputs": [],
   "source": [
    "df_clean_cnames = df_data.rename(dict_new_cnames)"
   ]
  },
  {
   "cell_type": "markdown",
   "metadata": {},
   "source": [
    "## Clean data types and column values"
   ]
  },
  {
   "cell_type": "code",
   "execution_count": 37,
   "metadata": {},
   "outputs": [
    {
     "data": {
      "text/plain": [
       "949"
      ]
     },
     "execution_count": 37,
     "metadata": {},
     "output_type": "execute_result"
    }
   ],
   "source": [
    "count_of_qmark = df_clean_cnames['initial_hardnesspost_quenching_HRC'].value_counts().filter(pl.col('initial_hardnesspost_quenching_HRC') == \"?\").select(\"count\").item()\n"
   ]
  },
  {
   "cell_type": "code",
   "execution_count": 49,
   "metadata": {},
   "outputs": [
    {
     "name": "stdout",
     "output_type": "stream",
     "text": [
      "Unknown initial hardness: 65%\n"
     ]
    }
   ],
   "source": [
    "percent_intial_hardness_unknown = count_of_qmark / int(df_clean_cnames['initial_hardnesspost_quenching_HRC'].shape[0])\n",
    "print(f\"Unknown initial hardness: {round(percent_intial_hardness_unknown, 2) * 100:.0f}%\")\n"
   ]
  },
  {
   "cell_type": "code",
   "execution_count": null,
   "metadata": {},
   "outputs": [],
   "source": []
  }
 ],
 "metadata": {
  "kernelspec": {
   "display_name": ".venv",
   "language": "python",
   "name": "python3"
  },
  "language_info": {
   "codemirror_mode": {
    "name": "ipython",
    "version": 3
   },
   "file_extension": ".py",
   "mimetype": "text/x-python",
   "name": "python",
   "nbconvert_exporter": "python",
   "pygments_lexer": "ipython3",
   "version": "3.12.6"
  }
 },
 "nbformat": 4,
 "nbformat_minor": 2
}
