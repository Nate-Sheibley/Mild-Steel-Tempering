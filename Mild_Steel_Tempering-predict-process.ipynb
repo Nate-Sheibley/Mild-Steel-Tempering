{
 "cells": [
  {
   "cell_type": "code",
   "execution_count": 1,
   "metadata": {},
   "outputs": [
    {
     "name": "stdout",
     "output_type": "stream",
     "text": [
      "Requirement already satisfied: polars in ./.venv/lib/python3.12/site-packages (1.9.0)\n",
      "Requirement already satisfied: beautifulsoup4 in ./.venv/lib/python3.12/site-packages (4.12.3)\n",
      "Requirement already satisfied: splinter in ./.venv/lib/python3.12/site-packages (0.21.0)\n",
      "Requirement already satisfied: selenium in ./.venv/lib/python3.12/site-packages (4.25.0)\n",
      "Requirement already satisfied: scikit-learn in ./.venv/lib/python3.12/site-packages (1.5.2)\n",
      "Requirement already satisfied: altair in ./.venv/lib/python3.12/site-packages (5.4.1)\n",
      "Requirement already satisfied: vl-convert-python in ./.venv/lib/python3.12/site-packages (1.7.0)\n",
      "Requirement already satisfied: tensorflow in ./.venv/lib/python3.12/site-packages (2.17.0)\n",
      "Requirement already satisfied: keras-tuner in ./.venv/lib/python3.12/site-packages (1.4.7)\n",
      "Requirement already satisfied: pandas in ./.venv/lib/python3.12/site-packages (2.2.3)\n",
      "Requirement already satisfied: soupsieve>1.2 in ./.venv/lib/python3.12/site-packages (from beautifulsoup4) (2.6)\n",
      "Requirement already satisfied: urllib3<3.0,>=1.26.14 in ./.venv/lib/python3.12/site-packages (from splinter) (2.2.3)\n",
      "Requirement already satisfied: trio~=0.17 in ./.venv/lib/python3.12/site-packages (from selenium) (0.26.2)\n",
      "Requirement already satisfied: trio-websocket~=0.9 in ./.venv/lib/python3.12/site-packages (from selenium) (0.11.1)\n",
      "Requirement already satisfied: certifi>=2021.10.8 in ./.venv/lib/python3.12/site-packages (from selenium) (2024.8.30)\n",
      "Requirement already satisfied: typing_extensions~=4.9 in ./.venv/lib/python3.12/site-packages (from selenium) (4.12.2)\n",
      "Requirement already satisfied: websocket-client~=1.8 in ./.venv/lib/python3.12/site-packages (from selenium) (1.8.0)\n",
      "Requirement already satisfied: numpy>=1.19.5 in ./.venv/lib/python3.12/site-packages (from scikit-learn) (1.26.4)\n",
      "Requirement already satisfied: scipy>=1.6.0 in ./.venv/lib/python3.12/site-packages (from scikit-learn) (1.14.1)\n",
      "Requirement already satisfied: joblib>=1.2.0 in ./.venv/lib/python3.12/site-packages (from scikit-learn) (1.4.2)\n",
      "Requirement already satisfied: threadpoolctl>=3.1.0 in ./.venv/lib/python3.12/site-packages (from scikit-learn) (3.5.0)\n",
      "Requirement already satisfied: jinja2 in ./.venv/lib/python3.12/site-packages (from altair) (3.1.4)\n",
      "Requirement already satisfied: jsonschema>=3.0 in ./.venv/lib/python3.12/site-packages (from altair) (4.23.0)\n",
      "Requirement already satisfied: narwhals>=1.5.2 in ./.venv/lib/python3.12/site-packages (from altair) (1.9.3)\n",
      "Requirement already satisfied: packaging in ./.venv/lib/python3.12/site-packages (from altair) (24.1)\n",
      "Requirement already satisfied: absl-py>=1.0.0 in ./.venv/lib/python3.12/site-packages (from tensorflow) (2.1.0)\n",
      "Requirement already satisfied: astunparse>=1.6.0 in ./.venv/lib/python3.12/site-packages (from tensorflow) (1.6.3)\n",
      "Requirement already satisfied: flatbuffers>=24.3.25 in ./.venv/lib/python3.12/site-packages (from tensorflow) (24.3.25)\n",
      "Requirement already satisfied: gast!=0.5.0,!=0.5.1,!=0.5.2,>=0.2.1 in ./.venv/lib/python3.12/site-packages (from tensorflow) (0.6.0)\n",
      "Requirement already satisfied: google-pasta>=0.1.1 in ./.venv/lib/python3.12/site-packages (from tensorflow) (0.2.0)\n",
      "Requirement already satisfied: h5py>=3.10.0 in ./.venv/lib/python3.12/site-packages (from tensorflow) (3.12.1)\n",
      "Requirement already satisfied: libclang>=13.0.0 in ./.venv/lib/python3.12/site-packages (from tensorflow) (18.1.1)\n",
      "Requirement already satisfied: ml-dtypes<0.5.0,>=0.3.1 in ./.venv/lib/python3.12/site-packages (from tensorflow) (0.4.1)\n",
      "Requirement already satisfied: opt-einsum>=2.3.2 in ./.venv/lib/python3.12/site-packages (from tensorflow) (3.4.0)\n",
      "Requirement already satisfied: protobuf!=4.21.0,!=4.21.1,!=4.21.2,!=4.21.3,!=4.21.4,!=4.21.5,<5.0.0dev,>=3.20.3 in ./.venv/lib/python3.12/site-packages (from tensorflow) (4.25.5)\n",
      "Requirement already satisfied: requests<3,>=2.21.0 in ./.venv/lib/python3.12/site-packages (from tensorflow) (2.32.3)\n",
      "Requirement already satisfied: setuptools in ./.venv/lib/python3.12/site-packages (from tensorflow) (75.1.0)\n",
      "Requirement already satisfied: six>=1.12.0 in ./.venv/lib/python3.12/site-packages (from tensorflow) (1.16.0)\n",
      "Requirement already satisfied: termcolor>=1.1.0 in ./.venv/lib/python3.12/site-packages (from tensorflow) (2.5.0)\n",
      "Requirement already satisfied: wrapt>=1.11.0 in ./.venv/lib/python3.12/site-packages (from tensorflow) (1.16.0)\n",
      "Requirement already satisfied: grpcio<2.0,>=1.24.3 in ./.venv/lib/python3.12/site-packages (from tensorflow) (1.66.2)\n",
      "Requirement already satisfied: tensorboard<2.18,>=2.17 in ./.venv/lib/python3.12/site-packages (from tensorflow) (2.17.1)\n",
      "Requirement already satisfied: keras>=3.2.0 in ./.venv/lib/python3.12/site-packages (from tensorflow) (3.6.0)\n",
      "Requirement already satisfied: kt-legacy in ./.venv/lib/python3.12/site-packages (from keras-tuner) (1.0.5)\n",
      "Requirement already satisfied: python-dateutil>=2.8.2 in ./.venv/lib/python3.12/site-packages (from pandas) (2.9.0.post0)\n",
      "Requirement already satisfied: pytz>=2020.1 in ./.venv/lib/python3.12/site-packages (from pandas) (2024.2)\n",
      "Requirement already satisfied: tzdata>=2022.7 in ./.venv/lib/python3.12/site-packages (from pandas) (2024.2)\n",
      "Requirement already satisfied: wheel<1.0,>=0.23.0 in ./.venv/lib/python3.12/site-packages (from astunparse>=1.6.0->tensorflow) (0.44.0)\n",
      "Requirement already satisfied: attrs>=22.2.0 in ./.venv/lib/python3.12/site-packages (from jsonschema>=3.0->altair) (24.2.0)\n",
      "Requirement already satisfied: jsonschema-specifications>=2023.03.6 in ./.venv/lib/python3.12/site-packages (from jsonschema>=3.0->altair) (2024.10.1)\n",
      "Requirement already satisfied: referencing>=0.28.4 in ./.venv/lib/python3.12/site-packages (from jsonschema>=3.0->altair) (0.35.1)\n",
      "Requirement already satisfied: rpds-py>=0.7.1 in ./.venv/lib/python3.12/site-packages (from jsonschema>=3.0->altair) (0.20.0)\n",
      "Requirement already satisfied: rich in ./.venv/lib/python3.12/site-packages (from keras>=3.2.0->tensorflow) (13.9.2)\n",
      "Requirement already satisfied: namex in ./.venv/lib/python3.12/site-packages (from keras>=3.2.0->tensorflow) (0.0.8)\n",
      "Requirement already satisfied: optree in ./.venv/lib/python3.12/site-packages (from keras>=3.2.0->tensorflow) (0.13.0)\n",
      "Requirement already satisfied: charset-normalizer<4,>=2 in ./.venv/lib/python3.12/site-packages (from requests<3,>=2.21.0->tensorflow) (3.4.0)\n",
      "Requirement already satisfied: idna<4,>=2.5 in ./.venv/lib/python3.12/site-packages (from requests<3,>=2.21.0->tensorflow) (3.10)\n",
      "Requirement already satisfied: markdown>=2.6.8 in ./.venv/lib/python3.12/site-packages (from tensorboard<2.18,>=2.17->tensorflow) (3.7)\n",
      "Requirement already satisfied: tensorboard-data-server<0.8.0,>=0.7.0 in ./.venv/lib/python3.12/site-packages (from tensorboard<2.18,>=2.17->tensorflow) (0.7.2)\n",
      "Requirement already satisfied: werkzeug>=1.0.1 in ./.venv/lib/python3.12/site-packages (from tensorboard<2.18,>=2.17->tensorflow) (3.0.4)\n",
      "Requirement already satisfied: sortedcontainers in ./.venv/lib/python3.12/site-packages (from trio~=0.17->selenium) (2.4.0)\n",
      "Requirement already satisfied: outcome in ./.venv/lib/python3.12/site-packages (from trio~=0.17->selenium) (1.3.0.post0)\n",
      "Requirement already satisfied: sniffio>=1.3.0 in ./.venv/lib/python3.12/site-packages (from trio~=0.17->selenium) (1.3.1)\n",
      "Requirement already satisfied: wsproto>=0.14 in ./.venv/lib/python3.12/site-packages (from trio-websocket~=0.9->selenium) (1.2.0)\n",
      "Requirement already satisfied: pysocks!=1.5.7,<2.0,>=1.5.6 in ./.venv/lib/python3.12/site-packages (from urllib3[socks]<3,>=1.26->selenium) (1.7.1)\n",
      "Requirement already satisfied: MarkupSafe>=2.0 in ./.venv/lib/python3.12/site-packages (from jinja2->altair) (3.0.1)\n",
      "Requirement already satisfied: h11<1,>=0.9.0 in ./.venv/lib/python3.12/site-packages (from wsproto>=0.14->trio-websocket~=0.9->selenium) (0.14.0)\n",
      "Requirement already satisfied: markdown-it-py>=2.2.0 in ./.venv/lib/python3.12/site-packages (from rich->keras>=3.2.0->tensorflow) (3.0.0)\n",
      "Requirement already satisfied: pygments<3.0.0,>=2.13.0 in ./.venv/lib/python3.12/site-packages (from rich->keras>=3.2.0->tensorflow) (2.18.0)\n",
      "Requirement already satisfied: mdurl~=0.1 in ./.venv/lib/python3.12/site-packages (from markdown-it-py>=2.2.0->rich->keras>=3.2.0->tensorflow) (0.1.2)\n"
     ]
    }
   ],
   "source": [
    "!pip install polars beautifulsoup4 splinter selenium scikit-learn altair vl-convert-python tensorflow keras-tuner pandas"
   ]
  },
  {
   "cell_type": "code",
   "execution_count": 215,
   "metadata": {},
   "outputs": [],
   "source": [
    "#Data Manipulation and display toools\n",
    "import polars as pl\n",
    "from polars.exceptions import InvalidOperationError\n",
    "import altair as alt\n",
    "import numpy as np\n",
    "import pathlib\n",
    "# Pandas is necessary for ease of use with the ML libraries\n",
    "# Polars does not use indexing and therefore does not always follow the data format properly\n",
    "# Particularly the format:\n",
    "#   {tablename: {index_val1: [row1_values]},\n",
    "#               {index_val2: [row2_values]}}\n",
    "import pandas as pd\n",
    "from IPython.display import display_html \n",
    "\n",
    "# Web scraping tools\n",
    "import re\n",
    "from bs4 import BeautifulSoup\n",
    "# Uses firefox browser\n",
    "from splinter import Browser\n",
    "import time\n",
    "\n",
    "# Data preprocessing tools\n",
    "from sklearn.preprocessing import StandardScaler, OneHotEncoder, KBinsDiscretizer, OrdinalEncoder\n",
    "from sklearn.model_selection import train_test_split\n",
    "from sklearn.decomposition import PCA\n",
    "\n",
    "# Machine learning tools\n",
    "from sklearn.ensemble import ExtraTreesClassifier, GradientBoostingRegressor\n",
    "from sklearn.metrics import classification_report, accuracy_score\n",
    "\n",
    "#Necessary for tensorflow on my machine due to distutils being depreciated\n",
    "import setuptools\n",
    "from tensorflow.keras.layers import Input, Dense\n",
    "from tensorflow.keras import Model, Sequential\n",
    "from tensorflow.keras import optimizers\n",
    "import keras_tuner as kt\n",
    "\n",
    "random_state = 2112250415"
   ]
  },
  {
   "cell_type": "markdown",
   "metadata": {},
   "source": [
    "# Loading Data"
   ]
  },
  {
   "cell_type": "code",
   "execution_count": 3,
   "metadata": {},
   "outputs": [
    {
     "name": "stdout",
     "output_type": "stream",
     "text": [
      "Path is project root\n"
     ]
    }
   ],
   "source": [
    "cwd = pathlib.Path.cwd()\n",
    "\n",
    "if cwd.name == 'Mild-Steel-Tempering':\n",
    "    print(\"Path is project root\")\n",
    "else:\n",
    "    print(\"Please correct current working directory to the project root\")\n"
   ]
  },
  {
   "cell_type": "code",
   "execution_count": 4,
   "metadata": {},
   "outputs": [
    {
     "data": {
      "text/plain": [
       "PurePosixPath('/home/mox/Documents/coding_projects/bootcamp_local/Homeworks/Mild-Steel-Tempering/resources/multiout')"
      ]
     },
     "execution_count": 4,
     "metadata": {},
     "output_type": "execute_result"
    }
   ],
   "source": [
    "resources_path = pathlib.PurePath(pathlib.PurePath(cwd), 'resources', 'multiout')\n",
    "resources_path"
   ]
  },
  {
   "cell_type": "code",
   "execution_count": 5,
   "metadata": {},
   "outputs": [
    {
     "data": {
      "text/plain": [
       "PurePosixPath('/home/mox/Documents/coding_projects/bootcamp_local/Homeworks/Mild-Steel-Tempering/images/multiout')"
      ]
     },
     "execution_count": 5,
     "metadata": {},
     "output_type": "execute_result"
    }
   ],
   "source": [
    "images_path = pathlib.PurePath(pathlib.PurePath(cwd), 'images', 'multiout')\n",
    "images_path"
   ]
  },
  {
   "cell_type": "markdown",
   "metadata": {},
   "source": [
    "### Many alloy composition columns were parsed incorrectly and failing to load\n",
    "\n",
    "Several weight percent columns were parsed as int automatically due to having \"0\" for many initial rows. \n",
    "\n",
    "All weight percent columns should be parsed as float. "
   ]
  },
  {
   "cell_type": "code",
   "execution_count": 6,
   "metadata": {},
   "outputs": [
    {
     "name": "stdout",
     "output_type": "stream",
     "text": [
      "Rows: 1466\n",
      "Columns: 17\n",
      "$ Source                                  <str> 'Grange and Baughman, 1956', 'Grange and Baughman, 1956', 'Grange and Baughman, 1956', 'Grange and Baughman, 1956', 'Grange and Baughman, 1956', 'Grange and Baughman, 1956', 'Grange and Baughman, 1956', 'Grange and Baughman, 1956', 'Grange and Baughman, 1956', 'Grange and Baughman, 1956'\n",
      "$ Steel type                              <str> 'AISI-SAE 1026', 'AISI-SAE 1026', 'AISI-SAE 1026', 'AISI-SAE 1026', 'AISI-SAE 1026', 'AISI-SAE 1026', 'AISI-SAE 1026', 'AISI-SAE 1026', 'AISI-SAE 1026', 'AISI-SAE 1026'\n",
      "$ Initial hardness (HRC) - post quenching <str> '?', '?', '?', '?', '?', '?', '?', '?', '?', '?'\n",
      "$ Tempering time (s)                      <i64> 600, 600, 600, 600, 600, 600, 600, 600, 600, 600\n",
      "$ Tempering temperature (ºC)              <f64> 204.4, 260.0, 315.6, 371.1, 426.7, 482.2, 537.8, 593.3, 648.9, 704.4\n",
      "$ C (%wt)                                 <f64> 0.25, 0.25, 0.25, 0.25, 0.25, 0.25, 0.25, 0.25, 0.25, 0.25\n",
      "$ Mn (%wt)                                <f64> 0.79, 0.79, 0.79, 0.79, 0.79, 0.79, 0.79, 0.79, 0.79, 0.79\n",
      "$ P (%wt)                                 <f64> 0.012, 0.012, 0.012, 0.012, 0.012, 0.012, 0.012, 0.012, 0.012, 0.012\n",
      "$ S (%wt)                                 <f64> 0.026, 0.026, 0.026, 0.026, 0.026, 0.026, 0.026, 0.026, 0.026, 0.026\n",
      "$ Si (%wt)                                <f64> 0.11, 0.11, 0.11, 0.11, 0.11, 0.11, 0.11, 0.11, 0.11, 0.11\n",
      "$ Ni (%wt)                                <f64> 0.0, 0.0, 0.0, 0.0, 0.0, 0.0, 0.0, 0.0, 0.0, 0.0\n",
      "$ Cr (%wt)                                <f64> 0.0, 0.0, 0.0, 0.0, 0.0, 0.0, 0.0, 0.0, 0.0, 0.0\n",
      "$ Mo (%wt)                                <f64> 0.0, 0.0, 0.0, 0.0, 0.0, 0.0, 0.0, 0.0, 0.0, 0.0\n",
      "$ V (%wt)                                 <f64> 0.0, 0.0, 0.0, 0.0, 0.0, 0.0, 0.0, 0.0, 0.0, 0.0\n",
      "$ Al (%wt)                                <f64> 0.0, 0.0, 0.0, 0.0, 0.0, 0.0, 0.0, 0.0, 0.0, 0.0\n",
      "$ Cu (%wt)                                <f64> 0.0, 0.0, 0.0, 0.0, 0.0, 0.0, 0.0, 0.0, 0.0, 0.0\n",
      "$ Final hardness (HRC) - post tempering   <f64> 50.6, 48.3, 43.7, 40.5, 37.3, 31.2, 26.2, 23.1, 17.3, 11.7\n",
      "\n"
     ]
    }
   ],
   "source": [
    "data_path = f\"{resources_path.parent}/Raiipa-tempering-data.csv\"\n",
    "schema_overrides = {\"C (%wt)\" : pl.Float64,\n",
    "\"Mn (%wt)\" : pl.Float64,\n",
    "\"P (%wt)\" : pl.Float64,\n",
    "\"S (%wt)\" : pl.Float64,\n",
    "\"Si (%wt)\" : pl.Float64,\n",
    "\"Ni (%wt)\" : pl.Float64,\n",
    "\"Cr (%wt)\" : pl.Float64,\n",
    "\"Mo (%wt)\" : pl.Float64,\n",
    "\"V (%wt)\" : pl.Float64,\n",
    "\"Al (%wt)\" : pl.Float64,\n",
    "\"Cu (%wt)\" : pl.Float64}\n",
    "\n",
    "df_data = pl.read_csv(data_path, schema_overrides=schema_overrides)\n",
    "df_data.glimpse()"
   ]
  },
  {
   "cell_type": "code",
   "execution_count": 7,
   "metadata": {},
   "outputs": [
    {
     "data": {
      "text/plain": [
       "['Source',\n",
       " 'Steel type',\n",
       " 'Initial hardness (HRC) - post quenching',\n",
       " 'Tempering time (s)',\n",
       " 'Tempering temperature (ºC)',\n",
       " 'C (%wt)',\n",
       " 'Mn (%wt)',\n",
       " 'P (%wt)',\n",
       " 'S (%wt)',\n",
       " 'Si (%wt)',\n",
       " 'Ni (%wt)',\n",
       " 'Cr (%wt)',\n",
       " 'Mo (%wt)',\n",
       " 'V (%wt)',\n",
       " 'Al (%wt)',\n",
       " 'Cu (%wt)',\n",
       " 'Final hardness (HRC) - post tempering']"
      ]
     },
     "execution_count": 7,
     "metadata": {},
     "output_type": "execute_result"
    }
   ],
   "source": [
    "# save initial columns names as they are very descriptive and may be useful later\n",
    "initial_column_names = df_data.columns\n",
    "initial_column_names"
   ]
  },
  {
   "cell_type": "markdown",
   "metadata": {},
   "source": [
    "# Cleaning\n",
    "Many columns need renaming for ease of manipulation\n",
    "\n",
    "Columns need datatypes correction\n",
    " 'Initial hardness (HRC) - post quenching' needs datatype correction. ? is NA value\n"
   ]
  },
  {
   "cell_type": "code",
   "execution_count": 8,
   "metadata": {},
   "outputs": [
    {
     "data": {
      "text/plain": [
       "{'Source': 'source',\n",
       " 'Steel type': 'steel_type',\n",
       " 'Initial hardness (HRC) - post quenching': 'initial_hardness_post_quenching_HRC',\n",
       " 'Tempering time (s)': 'tempering_time_s',\n",
       " 'Tempering temperature (ºC)': 'tempering_temperature_C',\n",
       " 'C (%wt)': 'C',\n",
       " 'Mn (%wt)': 'Mn',\n",
       " 'P (%wt)': 'P',\n",
       " 'S (%wt)': 'S',\n",
       " 'Si (%wt)': 'Si',\n",
       " 'Ni (%wt)': 'Ni',\n",
       " 'Cr (%wt)': 'Cr',\n",
       " 'Mo (%wt)': 'Mo',\n",
       " 'V (%wt)': 'V',\n",
       " 'Al (%wt)': 'Al',\n",
       " 'Cu (%wt)': 'Cu',\n",
       " 'Final hardness (HRC) - post tempering': 'final_hardness_post_tempering_HRC'}"
      ]
     },
     "execution_count": 8,
     "metadata": {},
     "output_type": "execute_result"
    }
   ],
   "source": [
    "dict_new_cnames = {}\n",
    "for og_name in initial_column_names:\n",
    "    # replace filler in hardness columns\n",
    "    new_name = og_name.replace(' - ', '')\n",
    "    \n",
    "    # Handle units\n",
    "    try:\n",
    "        #if alloy weight percent remove units and return only elemental symbol\n",
    "        if re.search(r\"\\(%wt\\)\", og_name):\n",
    "            new_name = og_name.split(' ')[0]\n",
    "            #skip the rest of the try block that will re_add the units to the end\n",
    "            pass\n",
    "        else: \n",
    "            #If not elemental composition, lowercase the string\n",
    "            new_name = new_name.lower()\n",
    "        # regex find the units inside the parenthesis, of the original name, not the lowercased new name\n",
    "        # This lines breaks and goes to except if there is no units\n",
    "        unit = re.search(r'\\((\\w+)\\)', og_name).group(1)\n",
    "        # replace the unit parenthesis string with parenthesis with an empty string\n",
    "        new_name = re.sub(r\"\\(.+\\)\", \"\", new_name)\n",
    "        # trim to whitespace end characters left by some unit removals\n",
    "        new_name = new_name.rstrip()\n",
    "        # append the unit string to the end of the processed name\n",
    "        new_name = f\"{new_name}_{unit}\"\n",
    "    except:\n",
    "        # skip unit processing on names with no units denoted by parenthesis\n",
    "        pass\n",
    "\n",
    "    # Strip away special characters\n",
    "    new_name = new_name.encode(\"ascii\", errors=\"ignore\").decode()\n",
    "    #replace all whitespace with underscores\n",
    "    new_name = new_name.replace(' ', '_')\n",
    "    #add the name to the rename dict\n",
    "    dict_new_cnames[og_name] = new_name\n",
    "dict_new_cnames\n"
   ]
  },
  {
   "cell_type": "code",
   "execution_count": 9,
   "metadata": {},
   "outputs": [],
   "source": [
    "df_clean_cnames = df_data.rename(dict_new_cnames)"
   ]
  },
  {
   "cell_type": "markdown",
   "metadata": {},
   "source": [
    "## Clean data types and column values"
   ]
  },
  {
   "cell_type": "code",
   "execution_count": 10,
   "metadata": {},
   "outputs": [],
   "source": [
    "count_of_qmark = df_clean_cnames['initial_hardness_post_quenching_HRC'].value_counts()\\\n",
    "    .filter(pl.col('initial_hardness_post_quenching_HRC') == \"?\")\\\n",
    "        .select(\"count\").item()\n"
   ]
  },
  {
   "cell_type": "code",
   "execution_count": 11,
   "metadata": {},
   "outputs": [
    {
     "name": "stdout",
     "output_type": "stream",
     "text": [
      "Unknown initial hardness: 65%\n"
     ]
    }
   ],
   "source": [
    "percent_intial_hardness_unknown = count_of_qmark / int(df_clean_cnames['initial_hardness_post_quenching_HRC'].shape[0])\n",
    "print(f\"Unknown initial hardness: {round(percent_intial_hardness_unknown, 2) * 100:.0f}%\")\n"
   ]
  },
  {
   "cell_type": "code",
   "execution_count": 12,
   "metadata": {},
   "outputs": [
    {
     "data": {
      "text/html": [
       "<div><style>\n",
       ".dataframe > thead > tr,\n",
       ".dataframe > tbody > tr {\n",
       "  text-align: right;\n",
       "  white-space: pre-wrap;\n",
       "}\n",
       "</style>\n",
       "<small>shape: (3, 17)</small><table border=\"1\" class=\"dataframe\"><thead><tr><th>source</th><th>steel_type</th><th>initial_hardness_post_quenching_HRC</th><th>tempering_time_s</th><th>tempering_temperature_C</th><th>C</th><th>Mn</th><th>P</th><th>S</th><th>Si</th><th>Ni</th><th>Cr</th><th>Mo</th><th>V</th><th>Al</th><th>Cu</th><th>final_hardness_post_tempering_HRC</th></tr><tr><td>str</td><td>str</td><td>str</td><td>i64</td><td>f64</td><td>f64</td><td>f64</td><td>f64</td><td>f64</td><td>f64</td><td>f64</td><td>f64</td><td>f64</td><td>f64</td><td>f64</td><td>f64</td><td>f64</td></tr></thead><tbody><tr><td>&quot;Hollomon and Jaffe, 1945&quot;</td><td>&quot;1,15%C - plain carbon steel&quot;</td><td>&quot;64.5&quot;</td><td>86400</td><td>500.0</td><td>1.15</td><td>0.58</td><td>0.012</td><td>0.021</td><td>0.09</td><td>0.0</td><td>0.01</td><td>0.0</td><td>0.0</td><td>0.0</td><td>0.0</td><td>32.0</td></tr><tr><td>&quot;Hollomon and Jaffe, 1945&quot;</td><td>&quot;1,15%C - plain carbon steel&quot;</td><td>&quot;64.5&quot;</td><td>86400</td><td>600.0</td><td>1.15</td><td>0.58</td><td>0.012</td><td>0.021</td><td>0.09</td><td>0.0</td><td>0.01</td><td>0.0</td><td>0.0</td><td>0.0</td><td>0.0</td><td>23.0</td></tr><tr><td>&quot;Hollomon and Jaffe, 1945&quot;</td><td>&quot;1,15%C - plain carbon steel&quot;</td><td>&quot;64.5&quot;</td><td>86400</td><td>700.0</td><td>1.15</td><td>0.58</td><td>0.012</td><td>0.021</td><td>0.09</td><td>0.0</td><td>0.01</td><td>0.0</td><td>0.0</td><td>0.0</td><td>0.0</td><td>4.5</td></tr></tbody></table></div>"
      ],
      "text/plain": [
       "shape: (3, 17)\n",
       "┌───────────────┬───────────────┬──────────────┬──────────────┬───┬─────┬─────┬─────┬──────────────┐\n",
       "│ source        ┆ steel_type    ┆ initial_hard ┆ tempering_ti ┆ … ┆ V   ┆ Al  ┆ Cu  ┆ final_hardne │\n",
       "│ ---           ┆ ---           ┆ ness_post_qu ┆ me_s         ┆   ┆ --- ┆ --- ┆ --- ┆ ss_post_temp │\n",
       "│ str           ┆ str           ┆ enchin…      ┆ ---          ┆   ┆ f64 ┆ f64 ┆ f64 ┆ ering_…      │\n",
       "│               ┆               ┆ ---          ┆ i64          ┆   ┆     ┆     ┆     ┆ ---          │\n",
       "│               ┆               ┆ str          ┆              ┆   ┆     ┆     ┆     ┆ f64          │\n",
       "╞═══════════════╪═══════════════╪══════════════╪══════════════╪═══╪═════╪═════╪═════╪══════════════╡\n",
       "│ Hollomon and  ┆ 1,15%C -      ┆ 64.5         ┆ 86400        ┆ … ┆ 0.0 ┆ 0.0 ┆ 0.0 ┆ 32.0         │\n",
       "│ Jaffe, 1945   ┆ plain carbon  ┆              ┆              ┆   ┆     ┆     ┆     ┆              │\n",
       "│               ┆ steel         ┆              ┆              ┆   ┆     ┆     ┆     ┆              │\n",
       "│ Hollomon and  ┆ 1,15%C -      ┆ 64.5         ┆ 86400        ┆ … ┆ 0.0 ┆ 0.0 ┆ 0.0 ┆ 23.0         │\n",
       "│ Jaffe, 1945   ┆ plain carbon  ┆              ┆              ┆   ┆     ┆     ┆     ┆              │\n",
       "│               ┆ steel         ┆              ┆              ┆   ┆     ┆     ┆     ┆              │\n",
       "│ Hollomon and  ┆ 1,15%C -      ┆ 64.5         ┆ 86400        ┆ … ┆ 0.0 ┆ 0.0 ┆ 0.0 ┆ 4.5          │\n",
       "│ Jaffe, 1945   ┆ plain carbon  ┆              ┆              ┆   ┆     ┆     ┆     ┆              │\n",
       "│               ┆ steel         ┆              ┆              ┆   ┆     ┆     ┆     ┆              │\n",
       "└───────────────┴───────────────┴──────────────┴──────────────┴───┴─────┴─────┴─────┴──────────────┘"
      ]
     },
     "execution_count": 12,
     "metadata": {},
     "output_type": "execute_result"
    }
   ],
   "source": [
    "df_clean_cnames.tail(3)\n"
   ]
  },
  {
   "cell_type": "code",
   "execution_count": 13,
   "metadata": {},
   "outputs": [
    {
     "data": {
      "text/html": [
       "<div><style>\n",
       ".dataframe > thead > tr,\n",
       ".dataframe > tbody > tr {\n",
       "  text-align: right;\n",
       "  white-space: pre-wrap;\n",
       "}\n",
       "</style>\n",
       "<small>shape: (3, 2)</small><table border=\"1\" class=\"dataframe\"><thead><tr><th>initial_hardness_post_quenching_HRC</th><th>count</th></tr><tr><td>str</td><td>u32</td></tr></thead><tbody><tr><td>&quot;?&quot;</td><td>949</td></tr><tr><td>&quot;66.5&quot;</td><td>90</td></tr><tr><td>&quot;61.6&quot;</td><td>51</td></tr></tbody></table></div>"
      ],
      "text/plain": [
       "shape: (3, 2)\n",
       "┌─────────────────────────────────┬───────┐\n",
       "│ initial_hardness_post_quenchin… ┆ count │\n",
       "│ ---                             ┆ ---   │\n",
       "│ str                             ┆ u32   │\n",
       "╞═════════════════════════════════╪═══════╡\n",
       "│ ?                               ┆ 949   │\n",
       "│ 66.5                            ┆ 90    │\n",
       "│ 61.6                            ┆ 51    │\n",
       "└─────────────────────────────────┴───────┘"
      ]
     },
     "execution_count": 13,
     "metadata": {},
     "output_type": "execute_result"
    }
   ],
   "source": [
    "df_clean_cnames[\"initial_hardness_post_quenching_HRC\"].value_counts().sort('count', descending=True).head(3)"
   ]
  },
  {
   "cell_type": "code",
   "execution_count": 14,
   "metadata": {},
   "outputs": [],
   "source": [
    "df_clean = df_clean_cnames.with_columns(pl.col('initial_hardness_post_quenching_HRC').cast(pl.Float64, strict=False))\n"
   ]
  },
  {
   "cell_type": "code",
   "execution_count": 15,
   "metadata": {},
   "outputs": [
    {
     "data": {
      "text/html": [
       "<div><style>\n",
       ".dataframe > thead > tr,\n",
       ".dataframe > tbody > tr {\n",
       "  text-align: right;\n",
       "  white-space: pre-wrap;\n",
       "}\n",
       "</style>\n",
       "<small>shape: (3, 2)</small><table border=\"1\" class=\"dataframe\"><thead><tr><th>initial_hardness_post_quenching_HRC</th><th>count</th></tr><tr><td>f64</td><td>u32</td></tr></thead><tbody><tr><td>null</td><td>949</td></tr><tr><td>66.5</td><td>90</td></tr><tr><td>63.1</td><td>51</td></tr></tbody></table></div>"
      ],
      "text/plain": [
       "shape: (3, 2)\n",
       "┌─────────────────────────────────┬───────┐\n",
       "│ initial_hardness_post_quenchin… ┆ count │\n",
       "│ ---                             ┆ ---   │\n",
       "│ f64                             ┆ u32   │\n",
       "╞═════════════════════════════════╪═══════╡\n",
       "│ null                            ┆ 949   │\n",
       "│ 66.5                            ┆ 90    │\n",
       "│ 63.1                            ┆ 51    │\n",
       "└─────────────────────────────────┴───────┘"
      ]
     },
     "execution_count": 15,
     "metadata": {},
     "output_type": "execute_result"
    }
   ],
   "source": [
    "df_clean[\"initial_hardness_post_quenching_HRC\"].value_counts().sort('count', descending=True).head(3)"
   ]
  },
  {
   "cell_type": "code",
   "execution_count": 16,
   "metadata": {},
   "outputs": [
    {
     "data": {
      "text/html": [
       "<div><style>\n",
       ".dataframe > thead > tr,\n",
       ".dataframe > tbody > tr {\n",
       "  text-align: right;\n",
       "  white-space: pre-wrap;\n",
       "}\n",
       "</style>\n",
       "<small>shape: (9, 18)</small><table border=\"1\" class=\"dataframe\"><thead><tr><th>statistic</th><th>source</th><th>steel_type</th><th>initial_hardness_post_quenching_HRC</th><th>tempering_time_s</th><th>tempering_temperature_C</th><th>C</th><th>Mn</th><th>P</th><th>S</th><th>Si</th><th>Ni</th><th>Cr</th><th>Mo</th><th>V</th><th>Al</th><th>Cu</th><th>final_hardness_post_tempering_HRC</th></tr><tr><td>str</td><td>str</td><td>str</td><td>f64</td><td>f64</td><td>f64</td><td>f64</td><td>f64</td><td>f64</td><td>f64</td><td>f64</td><td>f64</td><td>f64</td><td>f64</td><td>f64</td><td>f64</td><td>f64</td><td>f64</td></tr></thead><tbody><tr><td>&quot;count&quot;</td><td>&quot;1466&quot;</td><td>&quot;1466&quot;</td><td>517.0</td><td>1466.0</td><td>1466.0</td><td>1466.0</td><td>1466.0</td><td>1466.0</td><td>1466.0</td><td>1466.0</td><td>1466.0</td><td>1466.0</td><td>1466.0</td><td>1466.0</td><td>1466.0</td><td>1466.0</td><td>1466.0</td></tr><tr><td>&quot;null_count&quot;</td><td>&quot;0&quot;</td><td>&quot;0&quot;</td><td>949.0</td><td>0.0</td><td>0.0</td><td>0.0</td><td>0.0</td><td>0.0</td><td>0.0</td><td>0.0</td><td>0.0</td><td>0.0</td><td>0.0</td><td>0.0</td><td>0.0</td><td>0.0</td><td>0.0</td></tr><tr><td>&quot;mean&quot;</td><td>null</td><td>null</td><td>61.493617</td><td>21969.754434</td><td>422.024147</td><td>0.511583</td><td>0.74073</td><td>0.017236</td><td>0.023802</td><td>0.239379</td><td>0.362838</td><td>0.389696</td><td>0.080232</td><td>0.005457</td><td>0.034379</td><td>0.005986</td><td>41.468008</td></tr><tr><td>&quot;std&quot;</td><td>null</td><td>null</td><td>5.656383</td><td>34177.623863</td><td>176.088041</td><td>0.224354</td><td>0.252913</td><td>0.007966</td><td>0.007967</td><td>0.239193</td><td>0.810091</td><td>0.480721</td><td>0.121422</td><td>0.02905</td><td>0.20534</td><td>0.019085</td><td>14.079248</td></tr><tr><td>&quot;min&quot;</td><td>&quot;Grange and Baughman, 1956&quot;</td><td>&quot;0,31%C - plain carbon steel&quot;</td><td>46.5</td><td>10.0</td><td>100.0</td><td>0.25</td><td>0.3</td><td>0.007</td><td>0.005</td><td>0.06</td><td>0.0</td><td>0.0</td><td>0.0</td><td>0.0</td><td>0.0</td><td>0.0</td><td>0.9</td></tr><tr><td>&quot;25%&quot;</td><td>null</td><td>null</td><td>58.8</td><td>600.0</td><td>260.0</td><td>0.37</td><td>0.6</td><td>0.012</td><td>0.018</td><td>0.16</td><td>0.0</td><td>0.02</td><td>0.0</td><td>0.0</td><td>0.0</td><td>0.0</td><td>32.1</td></tr><tr><td>&quot;50%&quot;</td><td>null</td><td>null</td><td>63.1</td><td>3600.0</td><td>426.7</td><td>0.42</td><td>0.74</td><td>0.017</td><td>0.024</td><td>0.21</td><td>0.01</td><td>0.06</td><td>0.0</td><td>0.0</td><td>0.0</td><td>0.0</td><td>43.1</td></tr><tr><td>&quot;75%&quot;</td><td>null</td><td>null</td><td>66.5</td><td>14400.0</td><td>593.3</td><td>0.56</td><td>0.8</td><td>0.019</td><td>0.029</td><td>0.24</td><td>0.06</td><td>0.8</td><td>0.22</td><td>0.0</td><td>0.0</td><td>0.0</td><td>51.8</td></tr><tr><td>&quot;max&quot;</td><td>&quot;Penha, 2010&quot;</td><td>&quot;Nitriding Steel &quot;</td><td>67.0</td><td>115200.0</td><td>704.4</td><td>1.15</td><td>1.85</td><td>0.054</td><td>0.055</td><td>1.62</td><td>3.41</td><td>1.57</td><td>0.36</td><td>0.16</td><td>1.26</td><td>0.08</td><td>68.5</td></tr></tbody></table></div>"
      ],
      "text/plain": [
       "shape: (9, 18)\n",
       "┌────────────┬────────────┬───────────┬───────────┬───┬──────────┬──────────┬──────────┬───────────┐\n",
       "│ statistic  ┆ source     ┆ steel_typ ┆ initial_h ┆ … ┆ V        ┆ Al       ┆ Cu       ┆ final_har │\n",
       "│ ---        ┆ ---        ┆ e         ┆ ardness_p ┆   ┆ ---      ┆ ---      ┆ ---      ┆ dness_pos │\n",
       "│ str        ┆ str        ┆ ---       ┆ ost_quenc ┆   ┆ f64      ┆ f64      ┆ f64      ┆ t_temperi │\n",
       "│            ┆            ┆ str       ┆ hin…      ┆   ┆          ┆          ┆          ┆ ng_…      │\n",
       "│            ┆            ┆           ┆ ---       ┆   ┆          ┆          ┆          ┆ ---       │\n",
       "│            ┆            ┆           ┆ f64       ┆   ┆          ┆          ┆          ┆ f64       │\n",
       "╞════════════╪════════════╪═══════════╪═══════════╪═══╪══════════╪══════════╪══════════╪═══════════╡\n",
       "│ count      ┆ 1466       ┆ 1466      ┆ 517.0     ┆ … ┆ 1466.0   ┆ 1466.0   ┆ 1466.0   ┆ 1466.0    │\n",
       "│ null_count ┆ 0          ┆ 0         ┆ 949.0     ┆ … ┆ 0.0      ┆ 0.0      ┆ 0.0      ┆ 0.0       │\n",
       "│ mean       ┆ null       ┆ null      ┆ 61.493617 ┆ … ┆ 0.005457 ┆ 0.034379 ┆ 0.005986 ┆ 41.468008 │\n",
       "│ std        ┆ null       ┆ null      ┆ 5.656383  ┆ … ┆ 0.02905  ┆ 0.20534  ┆ 0.019085 ┆ 14.079248 │\n",
       "│ min        ┆ Grange and ┆ 0,31%C -  ┆ 46.5      ┆ … ┆ 0.0      ┆ 0.0      ┆ 0.0      ┆ 0.9       │\n",
       "│            ┆ Baughman,  ┆ plain     ┆           ┆   ┆          ┆          ┆          ┆           │\n",
       "│            ┆ 1956       ┆ carbon    ┆           ┆   ┆          ┆          ┆          ┆           │\n",
       "│            ┆            ┆ steel     ┆           ┆   ┆          ┆          ┆          ┆           │\n",
       "│ 25%        ┆ null       ┆ null      ┆ 58.8      ┆ … ┆ 0.0      ┆ 0.0      ┆ 0.0      ┆ 32.1      │\n",
       "│ 50%        ┆ null       ┆ null      ┆ 63.1      ┆ … ┆ 0.0      ┆ 0.0      ┆ 0.0      ┆ 43.1      │\n",
       "│ 75%        ┆ null       ┆ null      ┆ 66.5      ┆ … ┆ 0.0      ┆ 0.0      ┆ 0.0      ┆ 51.8      │\n",
       "│ max        ┆ Penha,     ┆ Nitriding ┆ 67.0      ┆ … ┆ 0.16     ┆ 1.26     ┆ 0.08     ┆ 68.5      │\n",
       "│            ┆ 2010       ┆ Steel     ┆           ┆   ┆          ┆          ┆          ┆           │\n",
       "└────────────┴────────────┴───────────┴───────────┴───┴──────────┴──────────┴──────────┴───────────┘"
      ]
     },
     "execution_count": 16,
     "metadata": {},
     "output_type": "execute_result"
    }
   ],
   "source": [
    "df_clean.describe()"
   ]
  },
  {
   "cell_type": "markdown",
   "metadata": {},
   "source": [
    "# Making steel types values searchable on AZoM.com\n",
    "Steel types that do not include AISI and a code are not searchable in steel databased and need manual renaming\n",
    "\n",
    "Exmaple: \"0,74%C - plain carbon steel\" is a AISI 1074 steel. Confirmed via elemental composition on https://www.azom.com/article.aspx?ArticleID=6558\n"
   ]
  },
  {
   "cell_type": "code",
   "execution_count": 17,
   "metadata": {},
   "outputs": [
    {
     "data": {
      "text/plain": [
       "(36, 2)"
      ]
     },
     "execution_count": 17,
     "metadata": {},
     "output_type": "execute_result"
    }
   ],
   "source": [
    "steel_identifiers = [\"steel_type\", \"source\"]\n",
    "df_clean[steel_identifiers].unique().shape"
   ]
  },
  {
   "cell_type": "markdown",
   "metadata": {},
   "source": [
    "## Renaming all possible steels so they are searchable\n",
    "\n",
    "1945 source\n",
    "\n",
    "I can not access source papers. Making a best guess of steel grade from elemental composition\n",
    "\n",
    "I assume some alloying elements are a bit strange due to wartime shortages and potential contamination between alloys due to the push to increasew prodiction.\n",
    "\n",
    "### additional Justifications are inline"
   ]
  },
  {
   "cell_type": "code",
   "execution_count": 18,
   "metadata": {},
   "outputs": [],
   "source": [
    "#1945 source...\n",
    "# I can not access source for the 1945 paper on these\n",
    "# I assume they alloying elements are a bit strange due to wartime shortages\n",
    "# and potentially contamination between alloys due to the push to increasew prodiction\n",
    "dict_rename = {'0,98%C - plain carbon steel': 'AISI 1095', # copper and Cr, probably intentional?\n",
    "                   '1,15%C - plain carbon steel': 'AISI 1095', # small chromium impurity?\n",
    "                   '0,74%C - plain carbon steel': 'AISI 1074 Carbon Steel', \n",
    "                   '0,56%C - plain carbon steel': 'AISI 1055', # small chromium impurity?\n",
    "                   '0,89%C - plain carbon steel': 'AISI 1090', # Cu discounted as impurity\n",
    "                   'Nitriding Steel ': 'Non-searchable', \n",
    "                   '0,31%C - plain carbon steel': 'AISI 1030', # AISI 1030, Cr impurity\n",
    "                   # These 4 steels are automotive steels and free access to the properties is unavailable to my knowledge\n",
    "                   \"AISI-SAE 9264\" : 'AISI-SAE 9254', # access limited, may be AISI-SAE 9264 , not in AZoM\n",
    "                   \"AISI-SAE 2340\" : 'Non-searchable', # access limited, may be SAE J2340, not in AZoM\n",
    "                   \"AISI-SAE 3140\" : 'Non-searchable', # Not in AZoM. elemental match to SAE 3140 https://www.steel-grades.com/metals/18/5155/-SAE-3140.html\n",
    "                   \"AISI-SAE 4068\" : 'Non-searchable', # access limited, may be SAE 4068, not in AZoM\n",
    "                \n",
    "                    \"AISI-SAE 4640\" : \"AISI 4640\",\n",
    "                   \"AISI-SAE 4047\" : \"AISI 4047\",\n",
    "                   \"AISI-SAE 1049\" : \"AISI 1049\",\n",
    "                   \"AISI-SAE 6145\" : \"AISI 6145\",\n",
    "                   \"AISI-SAE E52100\" : \"AISI 52100\"} # # Not in AZoM elemental match to  SAE 4068https://www.steel-grades.com/Steel-Grades/Carbon-Steel/SAE-4068-.html"
   ]
  },
  {
   "cell_type": "code",
   "execution_count": 19,
   "metadata": {},
   "outputs": [],
   "source": [
    "series_searchable_steel = df_clean.clone()\n",
    "renamed = series_searchable_steel['steel_type'].replace(dict_rename)\n",
    "series_searchable_steel = series_searchable_steel.with_columns(searchable = renamed)"
   ]
  },
  {
   "cell_type": "code",
   "execution_count": 20,
   "metadata": {},
   "outputs": [
    {
     "data": {
      "text/html": [
       "<div><style>\n",
       ".dataframe > thead > tr,\n",
       ".dataframe > tbody > tr {\n",
       "  text-align: right;\n",
       "  white-space: pre-wrap;\n",
       "}\n",
       "</style>\n",
       "<small>shape: (29,)</small><table border=\"1\" class=\"dataframe\"><thead><tr><th>searchable</th></tr><tr><td>str</td></tr></thead><tbody><tr><td>&quot;AISI-SAE 4037&quot;</td></tr><tr><td>&quot;AISI 6145&quot;</td></tr><tr><td>&quot;AISI 52100&quot;</td></tr><tr><td>&quot;AISI-SAE 4140&quot;</td></tr><tr><td>&quot;AISI-SAE 1035&quot;</td></tr><tr><td>&hellip;</td></tr><tr><td>&quot;AISI-SAE 1335&quot;</td></tr><tr><td>&quot;AISI-SAE 5160&quot;</td></tr><tr><td>&quot;AISI 1095&quot;</td></tr><tr><td>&quot;AISI-SAE 5140&quot;</td></tr><tr><td>&quot;AISI 1055&quot;</td></tr></tbody></table></div>"
      ],
      "text/plain": [
       "shape: (29,)\n",
       "Series: 'searchable' [str]\n",
       "[\n",
       "\t\"AISI-SAE 4037\"\n",
       "\t\"AISI 6145\"\n",
       "\t\"AISI 52100\"\n",
       "\t\"AISI-SAE 4140\"\n",
       "\t\"AISI-SAE 1035\"\n",
       "\t…\n",
       "\t\"AISI-SAE 1335\"\n",
       "\t\"AISI-SAE 5160\"\n",
       "\t\"AISI 1095\"\n",
       "\t\"AISI-SAE 5140\"\n",
       "\t\"AISI 1055\"\n",
       "]"
      ]
     },
     "execution_count": 20,
     "metadata": {},
     "output_type": "execute_result"
    }
   ],
   "source": [
    "series_to_search = series_searchable_steel['searchable'].unique()\n",
    "steels_to_search = series_to_search.filter(series_to_search.eq('Non-searchable').not_())\n",
    "steels_to_search"
   ]
  },
  {
   "cell_type": "markdown",
   "metadata": {},
   "source": [
    "## Save Searchable steel\n",
    "Checkpoint so that the code to this point does not need to be run every time"
   ]
  },
  {
   "cell_type": "code",
   "execution_count": 21,
   "metadata": {},
   "outputs": [],
   "source": [
    "path_save_searchable = f\"{resources_path.parent}/searchable_steels.csv\"\n",
    "pl.DataFrame(steels_to_search).write_csv(path_save_searchable)"
   ]
  },
  {
   "cell_type": "markdown",
   "metadata": {},
   "source": [
    "# Web Scraping\n",
    "\n",
    "Not all steels are documented in a way that allowed them to be searched.\n",
    "\n",
    "Several steels are denoted by \"x.xx% plain carbon steel.\" These are not standard searchable, except manually. A manual search was done, a few of the older steels do not conform to any known standard, particularly the steels with copper present. \n",
    "\n",
    "It is speculated that these are wartime steels from WW2 and alloying was done to reach the desired properties, not necessarily to adhere to a standard, especially considering there were material shortages, especially in some preferred alloying elements. The manufacturing crucibles also could not have been fully cleaned between batches of different material, resulting in contaimination between, say, a brass batch and a steel batch, resulting in elevated copper concentrations in the steel.\n",
    "\n",
    "Some SAE are not available on the free services and were also not incuded in the final dataset.\n",
    "---\n",
    "\n",
    "Two stages of scraping are necessary.\n",
    "\n",
    "AZoM.com does not have data on all steels, neither does MakeItFrom.com.\n",
    "\n",
    "Scraping from both will be done to get the most infortmation possible. \n",
    "\n",
    "Using both we can scrape additional data for 29 of the 36 steels present in the Raiipa dataset. \n",
    "\n",
    "1286 rows retained of the original 1467."
   ]
  },
  {
   "cell_type": "code",
   "execution_count": 22,
   "metadata": {},
   "outputs": [
    {
     "name": "stdout",
     "output_type": "stream",
     "text": [
      "AISI-SAE 4037\n",
      "AISI 6145\n",
      "AISI 52100\n",
      "AISI-SAE 4140\n",
      "AISI-SAE 1035\n",
      "AISI-SAE 9254\n",
      "AISI-SAE 4340\n",
      "AISI 1049\n",
      "AISI-SAE 1038\n",
      "AISI-SAE 1065\n",
      "AISI 1074 Carbon Steel\n",
      "AISI-SAE 1040\n",
      "AISI 1030\n",
      "AISI-SAE 1042\n",
      "AISI 1090\n",
      "AISI-SAE 1045\n",
      "AISI-SAE 1050\n",
      "AISI-SAE 4027\n",
      "AISI 4640\n",
      "AISI-SAE 1080\n",
      "AISI 4047\n",
      "AISI-SAE 1026\n",
      "AISI-SAE 1030\n",
      "AISI-SAE 6150\n",
      "AISI-SAE 1335\n",
      "AISI-SAE 5160\n",
      "AISI 1095\n",
      "AISI-SAE 5140\n",
      "AISI 1055\n"
     ]
    },
    {
     "data": {
      "text/plain": [
       "29"
      ]
     },
     "execution_count": 22,
     "metadata": {},
     "output_type": "execute_result"
    }
   ],
   "source": [
    "len([print(steel) for steel in steels_to_search])"
   ]
  },
  {
   "cell_type": "markdown",
   "metadata": {},
   "source": [
    "## Scraping AZoM.com"
   ]
  },
  {
   "cell_type": "code",
   "execution_count": 23,
   "metadata": {},
   "outputs": [],
   "source": [
    "browser = Browser('firefox')\n",
    "base_url = \"https://www.azom.com\"\n",
    "search_path = \"/search.aspx?q=\""
   ]
  },
  {
   "cell_type": "code",
   "execution_count": 24,
   "metadata": {},
   "outputs": [],
   "source": [
    "# Search the steel \n",
    "def get_soup(soup):\n",
    "    search_result = soup.find('div', class_='resultsContainer')\n",
    "    first_item = search_result.find('a')\n",
    "    # https://pytutorial.com/get-element-href-beautifulsoup/\n",
    "    steel_link = first_item.get('href')\n",
    "    time.sleep(0.15)\n",
    "    browser.visit(f\"{base_url}{steel_link}\")\n",
    "    soup2 = BeautifulSoup(browser.html, 'html.parser')\n",
    "    return soup2\n"
   ]
  },
  {
   "cell_type": "code",
   "execution_count": 25,
   "metadata": {},
   "outputs": [],
   "source": [
    "# already have elemental composition\n",
    "# property - metric - imperial\n",
    "# table_elements = tables[0]\n",
    "# table_phys_props = tables[1]\n",
    "# table_mecha_props = tables[2]\n",
    "# table_therm_props = tables[3]\n",
    "# table_other_desigs = tables[4]\n",
    "#parse tables\n",
    "def get_tables(soup):\n",
    "    tables = []\n",
    "    # parse all tables in the\n",
    "    for html_table in soup.find_all('table'):\n",
    "        table = []\n",
    "        # parse rows in the table\n",
    "        for tr in html_table.find_all('tr'):\n",
    "            row = []\n",
    "            #parse data cells in the row\n",
    "            for t in tr.find_all(['th', 'td']):\n",
    "                text = t.get_text(strip=True)\n",
    "                #add data to row\n",
    "                row.append(text)\n",
    "            #add row to table\n",
    "            table.append(row)\n",
    "    #returns a list of list of lists\n",
    "        tables.append(table)\n",
    "    return tables\n",
    "    "
   ]
  },
  {
   "cell_type": "code",
   "execution_count": 26,
   "metadata": {},
   "outputs": [],
   "source": [
    "def make_dfs(lolols):\n",
    "    tables = []\n",
    "    # convert the list of lists to a dataframe\n",
    "    for lol in lolols:\n",
    "        try:\n",
    "            df = pl.DataFrame(lol, orient='row')\n",
    "            # rename columns using first row\n",
    "            # https://stackoverflow.com/questions/75187317/how-to-rename-column-names-with-first-row-in-polars\n",
    "            # [1:] removes the first row that replaced the column names \n",
    "            df = df.rename(df.head(1).to_dicts().pop())[1:]\n",
    "            # add the dataframe to the list of tables on for this steel\n",
    "            tables.append(df)\n",
    "        except:\n",
    "            tables.append(lol)\n",
    "    return tables"
   ]
  },
  {
   "cell_type": "code",
   "execution_count": 27,
   "metadata": {},
   "outputs": [
    {
     "name": "stdout",
     "output_type": "stream",
     "text": [
      "Working on: AISI-SAE 4037\n",
      "Working on: AISI 6145\n",
      "Working on: AISI 52100\n",
      "Working on: AISI-SAE 4140\n",
      "Working on: AISI-SAE 1035\n",
      "Working on: AISI-SAE 9254\n",
      "Working on: AISI-SAE 4340\n",
      "Working on: AISI 1049\n",
      "Working on: AISI-SAE 1038\n",
      "Working on: AISI-SAE 1065\n",
      "Working on: AISI 1074 Carbon Steel\n",
      "Working on: AISI-SAE 1040\n",
      "Working on: AISI 1030\n",
      "Working on: AISI-SAE 1042\n",
      "Working on: AISI 1090\n",
      "Working on: AISI-SAE 1045\n",
      "Working on: AISI-SAE 1050\n",
      "Working on: AISI-SAE 4027\n",
      "Working on: AISI 4640\n",
      "Working on: AISI-SAE 1080\n",
      "Working on: AISI 4047\n",
      "Working on: AISI-SAE 1026\n",
      "Working on: AISI-SAE 1030\n",
      "Working on: AISI-SAE 6150\n",
      "Working on: AISI-SAE 1335\n",
      "Working on: AISI-SAE 5160\n",
      "Working on: AISI 1095\n",
      "Working on: AISI-SAE 5140\n",
      "Working on: AISI 1055\n"
     ]
    }
   ],
   "source": [
    "dict_steel_tables = {}\n",
    "for steel in steels_to_search:\n",
    "    try:\n",
    "        print(\"Working on:\", steel)\n",
    "        #search AZoM for the steel\n",
    "        browser.visit(f\"{base_url}{search_path}{steel}\")\n",
    "        soup_search = BeautifulSoup(browser.html, 'html.parser')\n",
    "    \n",
    "        #takes soup html and returns list of lists\n",
    "        soup = get_soup(soup_search)\n",
    "        lolols = get_tables(soup)\n",
    "        dict_steel_tables[steel] = make_dfs(lolols)\n",
    "        # tables list of lists and returns a dictionary\n",
    "        # robots.txt indicates Crawl-delay: 120\n",
    "        time.sleep(0.15)\n",
    "    except: \n",
    "        dict_steel_tables[steel] = []"
   ]
  },
  {
   "cell_type": "code",
   "execution_count": 28,
   "metadata": {},
   "outputs": [
    {
     "data": {
      "text/plain": [
       "{'AISI-SAE 4037': [shape: (7, 2)\n",
       "  ┌────────────────┬─────────────┐\n",
       "  │ Element        ┆ Content (%) │\n",
       "  │ ---            ┆ ---         │\n",
       "  │ str            ┆ str         │\n",
       "  ╞════════════════╪═════════════╡\n",
       "  │ Iron, Fe       ┆ 97.98-98.6  │\n",
       "  │ Manganese, Mn  ┆ 0.70-0.90   │\n",
       "  │ Carbon, C      ┆ 0.35-0.40   │\n",
       "  │ Silicon, Si    ┆ 0.15-0.35   │\n",
       "  │ Molybdenum, Mo ┆ 0.20-0.30   │\n",
       "  │ Sulfur, S      ┆ 0.040       │\n",
       "  │ Phosphorous, P ┆ 0.035       │\n",
       "  └────────────────┴─────────────┘,\n",
       "  shape: (1, 3)\n",
       "  ┌────────────┬────────────┬──────────────┐\n",
       "  │ Properties ┆ Metric     ┆ Imperial     │\n",
       "  │ ---        ┆ ---        ┆ ---          │\n",
       "  │ str        ┆ str        ┆ str          │\n",
       "  ╞════════════╪════════════╪══════════════╡\n",
       "  │ Density    ┆ 7.85 g/cm3 ┆ 0.284 lb/in³ │\n",
       "  └────────────┴────────────┴──────────────┘,\n",
       "  shape: (10, 3)\n",
       "  ┌─────────────────────────────────┬─────────────┬─────────────────┐\n",
       "  │ Properties                      ┆ Metric      ┆ Imperial        │\n",
       "  │ ---                             ┆ ---         ┆ ---             │\n",
       "  │ str                             ┆ str         ┆ str             │\n",
       "  ╞═════════════════════════════════╪═════════════╪═════════════════╡\n",
       "  │ Elastic modulus                 ┆ 190-210 GPa ┆ 27557-30458 ksi │\n",
       "  │ Bulk modulus (typical for stee… ┆ 140 GPa     ┆ 20300 ksi       │\n",
       "  │ Shear modulus (typical for ste… ┆ 80 GPa      ┆ 11600 ksi       │\n",
       "  │ Poisson’s ratio                 ┆ 0.27-0.30   ┆ 0.27-0.30       │\n",
       "  │ Hardness, Brinell               ┆ 196         ┆ 196             │\n",
       "  │ Hardness, Knoop (converted fro… ┆ 218         ┆ 218             │\n",
       "  │ Hardness, Rockwell B (converte… ┆ 92          ┆ 92              │\n",
       "  │ Hardness, Rockwell C (converte… ┆ 12          ┆ 12              │\n",
       "  │ Hardness, Vickers (converted f… ┆ 206         ┆ 206             │\n",
       "  │ Machinability (annealed and co… ┆ 70          ┆ 70              │\n",
       "  └─────────────────────────────────┴─────────────┴─────────────────┘,\n",
       "  shape: (1, 3)\n",
       "  ┌──────────────────────┬───────────┬──────────────────────┐\n",
       "  │ Properties           ┆ Metric    ┆ Imperial             │\n",
       "  │ ---                  ┆ ---       ┆ ---                  │\n",
       "  │ str                  ┆ str       ┆ str                  │\n",
       "  ╞══════════════════════╪═══════════╪══════════════════════╡\n",
       "  │ Thermal conductivity ┆ 48.1 W/mK ┆ 334 BTU in/hr.ft².°F │\n",
       "  └──────────────────────┴───────────┴──────────────────────┘],\n",
       " 'AISI 6145': [shape: (7, 2)\n",
       "  ┌───────────────┬─────────────┐\n",
       "  │ Element       ┆ Content (%) │\n",
       "  │ ---           ┆ ---         │\n",
       "  │ str           ┆ str         │\n",
       "  ╞═══════════════╪═════════════╡\n",
       "  │ Chromium, Cr  ┆ 0.8-1.1     │\n",
       "  │ Manganese, Mn ┆ ≤0.7-0.9    │\n",
       "  │ Carbon, C     ┆ ≤0.43-0.48  │\n",
       "  │ Silicon, Si   ┆ ≤0.2-0.35   │\n",
       "  │ Vanadium, V   ┆ ≥0.15       │\n",
       "  │ Phosphorus, P ┆ ≤0.04       │\n",
       "  │ Sulfur, S     ┆ ≤0.05       │\n",
       "  └───────────────┴─────────────┘,\n",
       "  shape: (1, 3)\n",
       "  ┌────────────┬────────────┬──────────────┐\n",
       "  │ Properties ┆ Metric     ┆ Imperial     │\n",
       "  │ ---        ┆ ---        ┆ ---          │\n",
       "  │ str        ┆ str        ┆ str          │\n",
       "  ╞════════════╪════════════╪══════════════╡\n",
       "  │ Density    ┆ 7.75 g/cm3 ┆ 0.280 lb/in3 │\n",
       "  └────────────┴────────────┴──────────────┘,\n",
       "  shape: (8, 3)\n",
       "  ┌────────────────────────┬─────────────┬─────────────────┐\n",
       "  │ Properties             ┆ Metric      ┆ Imperial        │\n",
       "  │ ---                    ┆ ---         ┆ ---             │\n",
       "  │ str                    ┆ str         ┆ str             │\n",
       "  ╞════════════════════════╪═════════════╪═════════════════╡\n",
       "  │ Tensile strength       ┆ 1213 MPa    ┆ 175900 psi      │\n",
       "  │ Yield strength (@0.2%) ┆ 1165 MPa    ┆ 169000 psi      │\n",
       "  │ Modulus of elasticity  ┆ 201-209 GPa ┆ 29200-30300 ksi │\n",
       "  │ Bulk modulus           ┆ 160-170 GPa ┆ 23200-24700 ksi │\n",
       "  │ Shear modulus          ┆ 81-82 GPa   ┆ 11700-11900 ksi │\n",
       "  │ Poisson’s ratio        ┆ 0.27-030    ┆ 0.27-030        │\n",
       "  │ Elongation at break    ┆ 16%         ┆ 16%             │\n",
       "  │ Hardness, Brinell      ┆ 429         ┆ 429             │\n",
       "  └────────────────────────┴─────────────┴─────────────────┘,\n",
       "  shape: (2, 3)\n",
       "  ┌────────────────────────────────┬───────────┬───────────────────────┐\n",
       "  │ Properties                     ┆ Metric    ┆ Imperial              │\n",
       "  │ ---                            ┆ ---       ┆ ---                   │\n",
       "  │ str                            ┆ str       ┆ str                   │\n",
       "  ╞════════════════════════════════╪═══════════╪═══════════════════════╡\n",
       "  │ Thermal expansion co-efficient ┆ 10 µm/m°C ┆ 5.5 µin/in°F          │\n",
       "  │ Thermal conductivity           ┆ 25 W/mK   ┆ 173.3 BTU.in/hrft².°F │\n",
       "  └────────────────────────────────┴───────────┴───────────────────────┘],\n",
       " 'AISI 52100': [shape: (7, 2)\n",
       "  ┌────────────────┬───────────────┐\n",
       "  │ Element        ┆ Content       │\n",
       "  │ ---            ┆ (%)           │\n",
       "  │ str            ┆ ---           │\n",
       "  │                ┆ str           │\n",
       "  ╞════════════════╪═══════════════╡\n",
       "  │ Iron, Fe       ┆ 96.5 - 97.32  │\n",
       "  │ Chromium, Cr   ┆ 1.30 - 1.60   │\n",
       "  │ Carbon, C      ┆ 0.980 - 1.10  │\n",
       "  │ Manganese, Mn  ┆ 0.250 - 0.450 │\n",
       "  │ Silicon, Si    ┆ 0.150 - 0.300 │\n",
       "  │ Sulfur, S      ┆ ≤ 0.0250      │\n",
       "  │ Phosphorous, P ┆ ≤ 0.0250      │\n",
       "  └────────────────┴───────────────┘,\n",
       "  shape: (2, 3)\n",
       "  ┌───────────────┬────────────┬──────────────┐\n",
       "  │ Properties    ┆ Metric     ┆ Imperial     │\n",
       "  │ ---           ┆ ---        ┆ ---          │\n",
       "  │ str           ┆ str        ┆ str          │\n",
       "  ╞═══════════════╪════════════╪══════════════╡\n",
       "  │ Density       ┆ 7.81 g/cm3 ┆ 0.282 lb/in³ │\n",
       "  │ Melting point ┆ 1424°C     ┆ 2595°F       │\n",
       "  └───────────────┴────────────┴──────────────┘,\n",
       "  shape: (12, 3)\n",
       "  ┌─────────────────────────────────┬─────────────┬─────────────────┐\n",
       "  │ Properties                      ┆ Metric      ┆ Imperial        │\n",
       "  │ ---                             ┆ ---         ┆ ---             │\n",
       "  │ str                             ┆ str         ┆ str             │\n",
       "  ╞═════════════════════════════════╪═════════════╪═════════════════╡\n",
       "  │ Bulk modulus (typical for stee… ┆ 140 GPa     ┆ 20300 ksi       │\n",
       "  │ Shear modulus (typical for ste… ┆ 80 GPa      ┆ 11600 ksi       │\n",
       "  │ Elastic modulus                 ┆ 190-210 GPa ┆ 27557-30458 ksi │\n",
       "  │ Poisson's ratio                 ┆ 0.27-0.30   ┆ 0.27-0.30       │\n",
       "  │ Hardness, Brinell               ┆ -           ┆ -               │\n",
       "  │ …                               ┆ …           ┆ …               │\n",
       "  │ Hardness, Rockwell C (quenched… ┆ 64          ┆ 64              │\n",
       "  │ Hardness, Rockwell C (quenched… ┆ 64          ┆ 64              │\n",
       "  │ Hardness, Rockwell C (quenched… ┆ 66          ┆ 66              │\n",
       "  │ Hardness, Vickers (converted f… ┆ 848         ┆ 848             │\n",
       "  │ Machinability (spheroidized     ┆ 40          ┆ 40              │\n",
       "  │ an…                             ┆             ┆                 │\n",
       "  └─────────────────────────────────┴─────────────┴─────────────────┘,\n",
       "  shape: (2, 3)\n",
       "  ┌─────────────────────────────────┬─────────────┬──────────────────────┐\n",
       "  │ Properties                      ┆ Metric      ┆ Imperial             │\n",
       "  │ ---                             ┆ ---         ┆ ---                  │\n",
       "  │ str                             ┆ str         ┆ str                  │\n",
       "  ╞═════════════════════════════════╪═════════════╪══════════════════════╡\n",
       "  │ Thermal expansion co-efficient… ┆ 11.9 µm/m°C ┆ 6.61 µin/in°F        │\n",
       "  │ Thermal conductivity (typical … ┆ 46.6 W/mK   ┆ 323 BTU in/hr.ft².°F │\n",
       "  └─────────────────────────────────┴─────────────┴──────────────────────┘],\n",
       " 'AISI-SAE 4140': [shape: (8, 2)\n",
       "  ┌────────────────┬───────────────┐\n",
       "  │ Element        ┆ Content (%)   │\n",
       "  │ ---            ┆ ---           │\n",
       "  │ str            ┆ str           │\n",
       "  ╞════════════════╪═══════════════╡\n",
       "  │ Chromium, Cr   ┆ 0.80 - 1.10   │\n",
       "  │ Manganese, Mn  ┆ 0.75 - 1.0    │\n",
       "  │ Carbon, C      ┆ 0.380 - 0.430 │\n",
       "  │ Silicon, Si    ┆ 0.15 - 0.30   │\n",
       "  │ Molybdenum, Mo ┆ 0.15 - 0.25   │\n",
       "  │ Sulfur, S      ┆ 0.040         │\n",
       "  │ Phosphorous, P ┆ 0.035         │\n",
       "  │ Iron, Fe       ┆ Balance       │\n",
       "  └────────────────┴───────────────┘,\n",
       "  shape: (2, 3)\n",
       "  ┌───────────────┬────────────┬──────────────┐\n",
       "  │ Properties    ┆ Metric     ┆ Imperial     │\n",
       "  │ ---           ┆ ---        ┆ ---          │\n",
       "  │ str           ┆ str        ┆ str          │\n",
       "  ╞═══════════════╪════════════╪══════════════╡\n",
       "  │ Density       ┆ 7.85 g/cm3 ┆ 0.284 lb/in³ │\n",
       "  │ Melting point ┆ 1416°C     ┆ 2580°F       │\n",
       "  └───────────────┴────────────┴──────────────┘,\n",
       "  shape: (13, 3)\n",
       "  ┌─────────────────────────────────┬─────────────┬─────────────────┐\n",
       "  │ Properties                      ┆ Metric      ┆ Imperial        │\n",
       "  │ ---                             ┆ ---         ┆ ---             │\n",
       "  │ str                             ┆ str         ┆ str             │\n",
       "  ╞═════════════════════════════════╪═════════════╪═════════════════╡\n",
       "  │ Tensile strength                ┆ 655 MPa     ┆ 95000 psi       │\n",
       "  │ Yield strength                  ┆ 415 MPa     ┆ 60200 psi       │\n",
       "  │ Bulk modulus (typical for stee… ┆ 140 GPa     ┆ 20300 ksi       │\n",
       "  │ Shear modulus (typical for ste… ┆ 80 GPa      ┆ 11600 ksi       │\n",
       "  │ Elastic modulus                 ┆ 190-210 GPa ┆ 27557-30458 ksi │\n",
       "  │ …                               ┆ …           ┆ …               │\n",
       "  │ Hardness, Knoop (converted fro… ┆ 219         ┆ 219             │\n",
       "  │ Hardness, Rockwell B (converte… ┆ 92          ┆ 92              │\n",
       "  │ Hardness, Rockwell C (converte… ┆ 13          ┆ 13              │\n",
       "  │ Hardness, Vickers (converted f… ┆ 207         ┆ 207             │\n",
       "  │ Machinability (based on AISI 1… ┆ 65          ┆ 65              │\n",
       "  └─────────────────────────────────┴─────────────┴─────────────────┘,\n",
       "  shape: (2, 3)\n",
       "  ┌─────────────────────────────────┬─────────────┬──────────────────────┐\n",
       "  │ Properties                      ┆ Metric      ┆ Imperial             │\n",
       "  │ ---                             ┆ ---         ┆ ---                  │\n",
       "  │ str                             ┆ str         ┆ str                  │\n",
       "  ╞═════════════════════════════════╪═════════════╪══════════════════════╡\n",
       "  │ Thermal expansion coefficient … ┆ 12.2 µm/m°C ┆ 6.78 µin/in°F        │\n",
       "  │ Thermal conductivity (@ 100°C)  ┆ 42.6 W/mK   ┆ 296 BTU in/hr.ft².°F │\n",
       "  └─────────────────────────────────┴─────────────┴──────────────────────┘,\n",
       "  shape: (6, 4)\n",
       "  ┌──────────┬──────────────────────────┬──────────────────┬──────────────────┐\n",
       "  │ AMS 6349 ┆ ASTM A193 (B7, B7M)      ┆ ASTM A506 (4140) ┆ ASTM A752 (4140) │\n",
       "  │ ---      ┆ ---                      ┆ ---              ┆ ---              │\n",
       "  │ str      ┆ str                      ┆ str              ┆ str              │\n",
       "  ╞══════════╪══════════════════════════╪══════════════════╪══════════════════╡\n",
       "  │ AMS 6381 ┆ ASTM A194 (7, 7M)        ┆ ASTM A513        ┆ ASTM A829        │\n",
       "  │ AMS 6382 ┆ ASTM A29 (4140)          ┆ ASTM A513 (4140) ┆ SAE J1397 (4140) │\n",
       "  │ AMS 6390 ┆ ASTM A320 (L7, L7M, L7D) ┆ ASTM A519 (4140) ┆ SAE J404 (4140)  │\n",
       "  │ AMS 6395 ┆ ASTM A322 (4140)         ┆ ASTM A646 (4140) ┆ SAE J412 (4140)  │\n",
       "  │ AMS 6529 ┆ ASTM A331 (4140)         ┆ ASTM A711        ┆                  │\n",
       "  │          ┆                          ┆                  ┆                  │\n",
       "  └──────────┴──────────────────────────┴──────────────────┴──────────────────┘],\n",
       " 'AISI-SAE 1035': [shape: (5, 2)\n",
       "  ┌────────────────┬─────────────┐\n",
       "  │ Element        ┆ Content (%) │\n",
       "  │ ---            ┆ ---         │\n",
       "  │ str            ┆ str         │\n",
       "  ╞════════════════╪═════════════╡\n",
       "  │ Iron, Fe       ┆ 98.63-99.09 │\n",
       "  │ Manganese, Mn  ┆ 0.60-0.90   │\n",
       "  │ Carbon, C      ┆ 0.310-0.380 │\n",
       "  │ Sulfur, S      ┆ ≤ 0.050     │\n",
       "  │ Phosphorous, P ┆ ≤ 0.040     │\n",
       "  └────────────────┴─────────────┘,\n",
       "  shape: (1, 3)\n",
       "  ┌────────────┬────────────┬──────────────┐\n",
       "  │ Properties ┆ Metric     ┆ Imperial     │\n",
       "  │ ---        ┆ ---        ┆ ---          │\n",
       "  │ str        ┆ str        ┆ str          │\n",
       "  ╞════════════╪════════════╪══════════════╡\n",
       "  │ Density    ┆ 7.85 g/cm3 ┆ 0.284 lb/in3 │\n",
       "  └────────────┴────────────┴──────────────┘,\n",
       "  shape: (13, 3)\n",
       "  ┌─────────────────────────────────┬─────────────┬─────────────────┐\n",
       "  │ Properties                      ┆ Metric      ┆ Imperial        │\n",
       "  │ ---                             ┆ ---         ┆ ---             │\n",
       "  │ str                             ┆ str         ┆ str             │\n",
       "  ╞═════════════════════════════════╪═════════════╪═════════════════╡\n",
       "  │ Tensile strength, ultimate      ┆ 585 MPa     ┆ 84800 psi       │\n",
       "  │ Tensile strength, yield         ┆ 370 MPa     ┆ 53700 psi       │\n",
       "  │ Modulus of elasticity           ┆ 190-210 GPa ┆ 29700-30458 ksi │\n",
       "  │ Bulk modulus (typical for stee… ┆ 140 GPa     ┆ 20300 ksi       │\n",
       "  │ Shear modulus (typical for ste… ┆ 80 GPa      ┆ 11600 ksi       │\n",
       "  │ …                               ┆ …           ┆ …               │\n",
       "  │ Hardness, Brinell               ┆ 183         ┆ 183             │\n",
       "  │ Hardness, Knoop (converted fro… ┆ 204         ┆ 204             │\n",
       "  │ Hardness, Rockwell B (converte… ┆ 89          ┆ 89              │\n",
       "  │ Hardness, Vickers (converted f… ┆ 192         ┆ 192             │\n",
       "  │ Machinability (based on AISI 1… ┆ 65          ┆ 65              │\n",
       "  └─────────────────────────────────┴─────────────┴─────────────────┘,\n",
       "  shape: (2, 3)\n",
       "  ┌─────────────────────────────────┬───────────┬──────────────────────┐\n",
       "  │ Thermal Properties              ┆ Metric    ┆ Imperial             │\n",
       "  │ ---                             ┆ ---       ┆ ---                  │\n",
       "  │ str                             ┆ str       ┆ str                  │\n",
       "  ╞═════════════════════════════════╪═══════════╪══════════════════════╡\n",
       "  │ Thermal expansion co-efficient… ┆ 11 µm/m°C ┆ 6.11 µin/in°F        │\n",
       "  │ Thermal conductivity            ┆ 51.9 W/mK ┆ 360 BTU in/hr.ft2.°F │\n",
       "  └─────────────────────────────────┴───────────┴──────────────────────┘,\n",
       "  [['AMS 5080',\n",
       "    'ASTM A544 (1035)',\n",
       "    'MIL S-19434',\n",
       "    'AFNOR CC 35',\n",
       "    'B.S. 080 A 37'],\n",
       "   ['AMS 5082',\n",
       "    'ASTM A545 (1035)',\n",
       "    'MIL S-3289',\n",
       "    'DIN 1.0501',\n",
       "    'B.S. 080 M 36'],\n",
       "   ['ASTM A29 (1035)',\n",
       "    'ASTM A546 (1035)',\n",
       "    'MIL S-46070',\n",
       "    'UNI C 35',\n",
       "    'AMS 5080D'],\n",
       "   ['ASTM A510 (1035)',\n",
       "    'ASTM A576 (1035)',\n",
       "    'QQ S700 (C1035)',\n",
       "    'SS 1550',\n",
       "    'AMS 5082A'],\n",
       "   ['ASTM A512 (1035)',\n",
       "    'ASTM A682 (1035)',\n",
       "    'SAE J1397 (1035)',\n",
       "    'B.S. 060 A 35',\n",
       "    'ASTM A108'],\n",
       "   ['ASTM A513 (1035)',\n",
       "    'ASTM A827',\n",
       "    'SAE J403 (1035)',\n",
       "    'B.S. 080 A 32',\n",
       "    'QQ S635'],\n",
       "   ['ASTM A519 (1035)', 'ASTM A830', 'SAE J412 (1035)', 'B.S. 080 A 35'],\n",
       "   ['', '', '', '']]],\n",
       " 'AISI-SAE 9254': [],\n",
       " 'AISI-SAE 4340': [shape: (9, 2)\n",
       "  ┌────────────────┬────────────────┐\n",
       "  │ Element        ┆ Content (%)    │\n",
       "  │ ---            ┆ ---            │\n",
       "  │ str            ┆ str            │\n",
       "  ╞════════════════╪════════════════╡\n",
       "  │ Iron, Fe       ┆ 95.195 - 96.33 │\n",
       "  │ Nickel, Ni     ┆ 1.65 - 2.00    │\n",
       "  │ Chromium, Cr   ┆ 0.700 - 0.900  │\n",
       "  │ Manganese, Mn  ┆ 0.600 - 0.800  │\n",
       "  │ Carbon, C      ┆ 0.370 - 0.430  │\n",
       "  │ Molybdenum, Mo ┆ 0.200 - 0.300  │\n",
       "  │ Silicon, Si    ┆ 0.150 - 0.300  │\n",
       "  │ Sulfur, S      ┆ 0.0400         │\n",
       "  │ Phosphorous, P ┆ 0.0350         │\n",
       "  └────────────────┴────────────────┘,\n",
       "  shape: (2, 3)\n",
       "  ┌───────────────┬────────────┬──────────────┐\n",
       "  │ Properties    ┆ Metric     ┆ Imperial     │\n",
       "  │ ---           ┆ ---        ┆ ---          │\n",
       "  │ str           ┆ str        ┆ str          │\n",
       "  ╞═══════════════╪════════════╪══════════════╡\n",
       "  │ Density       ┆ 7.85 g/cm3 ┆ 0.284 lb/in³ │\n",
       "  │ Melting point ┆ 1427°C     ┆ 2600°F       │\n",
       "  └───────────────┴────────────┴──────────────┘,\n",
       "  shape: (14, 3)\n",
       "  ┌─────────────────────────────────┬─────────────┬─────────────────┐\n",
       "  │ Properties                      ┆ Metric      ┆ Imperial        │\n",
       "  │ ---                             ┆ ---         ┆ ---             │\n",
       "  │ str                             ┆ str         ┆ str             │\n",
       "  ╞═════════════════════════════════╪═════════════╪═════════════════╡\n",
       "  │ Tensile strength                ┆ 745 MPa     ┆ 108000 psi      │\n",
       "  │ Yield strength                  ┆ 470 MPa     ┆ 68200 psi       │\n",
       "  │ Bulk modulus (typical for stee… ┆ 140 GPa     ┆ 20300 ksi       │\n",
       "  │ Shear modulus (typical for ste… ┆ 80 GPa      ┆ 11600 ksi       │\n",
       "  │ Elastic modulus                 ┆ 190-210 GPa ┆ 27557-30458 ksi │\n",
       "  │ …                               ┆ …           ┆ …               │\n",
       "  │ Hardness, Knoop (converted fro… ┆ 240         ┆ 240             │\n",
       "  │ Hardness, Rockwell B (converte… ┆ 95          ┆ 95              │\n",
       "  │ Hardness, Rockwell C (converte… ┆ 17          ┆ 17              │\n",
       "  │ Hardness, Vickers (converted f… ┆ 228         ┆ 228             │\n",
       "  │ Machinability (annealed and co… ┆ 50          ┆ 50              │\n",
       "  └─────────────────────────────────┴─────────────┴─────────────────┘,\n",
       "  shape: (2, 3)\n",
       "  ┌─────────────────────────────────┬─────────────┬──────────────────────┐\n",
       "  │ Properties                      ┆ Metric      ┆ Imperial             │\n",
       "  │ ---                             ┆ ---         ┆ ---                  │\n",
       "  │ str                             ┆ str         ┆ str                  │\n",
       "  ╞═════════════════════════════════╪═════════════╪══════════════════════╡\n",
       "  │ Thermal expansion co-efficient… ┆ 12.3 µm/m°C ┆ 6.83 µin/in°F        │\n",
       "  │ Thermal conductivity (typical … ┆ 44.5 W/mK   ┆ 309 BTU in/hr.ft².°F │\n",
       "  └─────────────────────────────────┴─────────────┴──────────────────────┘,\n",
       "  [['AMS 6359',\n",
       "    'AMS 6454',\n",
       "    'ASTM A331 (4340)',\n",
       "    'ASTM A711',\n",
       "    'SAE J1397 (4340)'],\n",
       "   ['AMS 6409',\n",
       "    'ASTM A29 (4340)',\n",
       "    'ASTM A506 (4340)',\n",
       "    'ASTM A752 (4340)',\n",
       "    'SAE J404 (4340)'],\n",
       "   ['AMS 6414',\n",
       "    'ASTM A320 (L43)',\n",
       "    'ASTM A519 (4340)',\n",
       "    'ASTM A829',\n",
       "    'SAE J412 (4340)'],\n",
       "   ['AMS 6415', 'ASTM A322 (4340)', 'ASTM A646 (4340-7)', 'MIL S-5000'],\n",
       "   ['', '', '', '', '']]],\n",
       " 'AISI 1049': [shape: (5, 2)\n",
       "  ┌────────────────┬─────────────┐\n",
       "  │ Element        ┆ Content (%) │\n",
       "  │ ---            ┆ ---         │\n",
       "  │ str            ┆ str         │\n",
       "  ╞════════════════╪═════════════╡\n",
       "  │ Iron, Fe       ┆ 98.48-98.94 │\n",
       "  │ Manganese, Mn  ┆ 0.600-0.900 │\n",
       "  │ Carbon, C      ┆ 0.460-0.530 │\n",
       "  │ Sulfur, S      ┆ 0.0500      │\n",
       "  │ Phosphorous, P ┆ 0.0400      │\n",
       "  └────────────────┴─────────────┘,\n",
       "  shape: (1, 3)\n",
       "  ┌────────────┬────────────────┬────────────────────┐\n",
       "  │ Properties ┆ Metric         ┆ Imperial           │\n",
       "  │ ---        ┆ ---            ┆ ---                │\n",
       "  │ str        ┆ str            ┆ str                │\n",
       "  ╞════════════╪════════════════╪════════════════════╡\n",
       "  │ Density    ┆ 7.7-8.03 g/cm3 ┆ 0.278-0.290 lb/in3 │\n",
       "  └────────────┴────────────────┴────────────────────┘,\n",
       "  shape: (2, 3)\n",
       "  ┌─────────────────┬─────────────┬─────────────────┐\n",
       "  │ Properties      ┆ Metric      ┆ Imperial        │\n",
       "  │ ---             ┆ ---         ┆ ---             │\n",
       "  │ str             ┆ str         ┆ str             │\n",
       "  ╞═════════════════╪═════════════╪═════════════════╡\n",
       "  │ Elastic modulus ┆ 190-210 GPa ┆ 29700-30458 ksi │\n",
       "  │ Poisson’s ratio ┆ 0.27-0.30   ┆ 0.27-0.30       │\n",
       "  └─────────────────┴─────────────┴─────────────────┘],\n",
       " 'AISI-SAE 1038': [shape: (5, 2)\n",
       "  ┌────────────────┬─────────────┐\n",
       "  │ Element        ┆ Content (%) │\n",
       "  │ ---            ┆ ---         │\n",
       "  │ str            ┆ str         │\n",
       "  ╞════════════════╪═════════════╡\n",
       "  │ Iron, Fe       ┆ 98.59-99.09 │\n",
       "  │ Manganese, Mn  ┆ 0.60-0.90   │\n",
       "  │ Carbon, C      ┆ 0.340-0.420 │\n",
       "  │ Sulfur, S      ┆ ≤ 0.050     │\n",
       "  │ Phosphorous, P ┆ ≤ 0.040     │\n",
       "  └────────────────┴─────────────┘,\n",
       "  shape: (1, 3)\n",
       "  ┌────────────┬─────────────┬───────────────┐\n",
       "  │ Properties ┆ Metric      ┆ Imperial      │\n",
       "  │ ---        ┆ ---         ┆ ---           │\n",
       "  │ str        ┆ str         ┆ str           │\n",
       "  ╞════════════╪═════════════╪═══════════════╡\n",
       "  │ Density    ┆ 7.845 g/cm3 ┆ 0.2834 lb/in³ │\n",
       "  └────────────┴─────────────┴───────────────┘,\n",
       "  shape: (13, 3)\n",
       "  ┌─────────────────────────────────┬─────────────┬─────────────────┐\n",
       "  │ Properties                      ┆ Metric      ┆ Imperial        │\n",
       "  │ ---                             ┆ ---         ┆ ---             │\n",
       "  │ str                             ┆ str         ┆ str             │\n",
       "  ╞═════════════════════════════════╪═════════════╪═════════════════╡\n",
       "  │ Tensile strength, ultimate      ┆ 570 MPa     ┆ 82700 psi       │\n",
       "  │ Tensile strength, yield         ┆ 485 MPa     ┆ 70300 psi       │\n",
       "  │ Modulus of elasticity           ┆ 190-210 GPa ┆ 29700-30458 ksi │\n",
       "  │ Bulk modulus (typical for stee… ┆ 140 GPa     ┆ 20300 ksi       │\n",
       "  │ Shear modulus (typical for ste… ┆ 80.0 GPa    ┆ 11600 ksi       │\n",
       "  │ …                               ┆ …           ┆ …               │\n",
       "  │ Hardness, Brinell               ┆ 163         ┆ 163             │\n",
       "  │ Hardness, Knoop (converted fro… ┆ 184         ┆ 184             │\n",
       "  │ Hardness, Rockwell B (converte… ┆ 84          ┆ 84              │\n",
       "  │ Hardness, Vickers (converted f… ┆ 170         ┆ 170             │\n",
       "  │ Machinability (based on AISI 1… ┆ 65          ┆ 65              │\n",
       "  └─────────────────────────────────┴─────────────┴─────────────────┘,\n",
       "  shape: (1, 3)\n",
       "  ┌──────────────────────┬───────────┬──────────────────────┐\n",
       "  │ Thermal Properties   ┆ Metric    ┆ Imperial             │\n",
       "  │ ---                  ┆ ---       ┆ ---                  │\n",
       "  │ str                  ┆ str       ┆ str                  │\n",
       "  ╞══════════════════════╪═══════════╪══════════════════════╡\n",
       "  │ Thermal conductivity ┆ 51.9 W/mK ┆ 360 BTU in/hr.ft².°F │\n",
       "  └──────────────────────┴───────────┴──────────────────────┘],\n",
       " 'AISI-SAE 1065': [shape: (5, 2)\n",
       "  ┌────────────────┬──────────────┐\n",
       "  │ Element        ┆ Content (%)  │\n",
       "  │ ---            ┆ ---          │\n",
       "  │ str            ┆ str          │\n",
       "  ╞════════════════╪══════════════╡\n",
       "  │ Iron, Fe       ┆ 98.31 - 98.8 │\n",
       "  │ Manganese, Mn  ┆ 0.60 - 0.90  │\n",
       "  │ Carbon, C      ┆ 0.60 - 0.70  │\n",
       "  │ Sulfur, S      ┆ 0.05         │\n",
       "  │ Phosphorous, P ┆ 0.04         │\n",
       "  └────────────────┴──────────────┘,\n",
       "  shape: (1, 3)\n",
       "  ┌────────────┬────────────┬──────────────┐\n",
       "  │ Properties ┆ Metric     ┆ Imperial     │\n",
       "  │ ---        ┆ ---        ┆ ---          │\n",
       "  │ str        ┆ str        ┆ str          │\n",
       "  ╞════════════╪════════════╪══════════════╡\n",
       "  │ Density    ┆ 7.85 g/cm3 ┆ 0.284 lb/in³ │\n",
       "  └────────────┴────────────┴──────────────┘,\n",
       "  shape: (14, 3)\n",
       "  ┌─────────────────────────────────┬─────────┬───────────┐\n",
       "  │ Properties                      ┆ Metric  ┆ Imperial  │\n",
       "  │ ---                             ┆ ---     ┆ ---       │\n",
       "  │ str                             ┆ str     ┆ str       │\n",
       "  ╞═════════════════════════════════╪═════════╪═══════════╡\n",
       "  │ Tensile strength, ultimate      ┆ 635 MPa ┆ 92100 psi │\n",
       "  │ Tensile strength, yield         ┆ 490 MPa ┆ 71100 psi │\n",
       "  │ Modulus of elasticity           ┆ 200GPa  ┆ 29007ksi  │\n",
       "  │ Bulk modulus (typical for stee… ┆ 140 GPa ┆ 20300 ksi │\n",
       "  │ Shear modulus (typical for ste… ┆ 80 GPa  ┆ 11600 ksi │\n",
       "  │ …                               ┆ …       ┆ …         │\n",
       "  │ Hardness, Knoop (converted fro… ┆ 209     ┆ 209       │\n",
       "  │ Hardness, Rockwell B (converte… ┆ 90      ┆ 90        │\n",
       "  │ Hardness, Rockwell C (converte… ┆ 10      ┆ 10        │\n",
       "  │ Hardness, Vickers (converted f… ┆ 196     ┆ 196       │\n",
       "  │ Machinability (based on AISI 1… ┆ 60      ┆ 60        │\n",
       "  └─────────────────────────────────┴─────────┴───────────┘,\n",
       "  shape: (1, 3)\n",
       "  ┌──────────────────────┬───────────┬──────────────────────┐\n",
       "  │ Properties           ┆ Metric    ┆ Imperial             │\n",
       "  │ ---                  ┆ ---       ┆ ---                  │\n",
       "  │ str                  ┆ str       ┆ str                  │\n",
       "  ╞══════════════════════╪═══════════╪══════════════════════╡\n",
       "  │ Thermal conductivity ┆ 49.8 W/mK ┆ 346 BTU in/hr.ft².°F │\n",
       "  └──────────────────────┴───────────┴──────────────────────┘],\n",
       " 'AISI 1074 Carbon Steel': [shape: (4, 2)\n",
       "  ┌────────────────┬─────────────┐\n",
       "  │ Element        ┆ Content (%) │\n",
       "  │ ---            ┆ ---         │\n",
       "  │ str            ┆ str         │\n",
       "  ╞════════════════╪═════════════╡\n",
       "  │ Carbon, C      ┆ 0.70-0.80   │\n",
       "  │ Manganese, Mn  ┆ 0.50-0.80   │\n",
       "  │ Sulfur, S      ┆ 0.05 (max)  │\n",
       "  │ Phosphorous, P ┆ 0.04 (max)  │\n",
       "  └────────────────┴─────────────┘,\n",
       "  shape: (1, 3)\n",
       "  ┌────────────┬───────────────┬─────────────────────┐\n",
       "  │ Properties ┆ Metric        ┆ Imperial            │\n",
       "  │ ---        ┆ ---           ┆ ---                 │\n",
       "  │ str        ┆ str           ┆ str                 │\n",
       "  ╞════════════╪═══════════════╪═════════════════════╡\n",
       "  │ Density    ┆ 7.7-8.03g/cm3 ┆ 0.278- 0.290 lb/in3 │\n",
       "  └────────────┴───────────────┴─────────────────────┘,\n",
       "  shape: (7, 3)\n",
       "  ┌─────────────────────┬─────────────┬─────────────────┐\n",
       "  │ Properties          ┆ Metric      ┆ Imperial        │\n",
       "  │ ---                 ┆ ---         ┆ ---             │\n",
       "  │ str                 ┆ str         ┆ str             │\n",
       "  ╞═════════════════════╪═════════════╪═════════════════╡\n",
       "  │ Tensile strength    ┆ 650 MPa     ┆ 94275 psi       │\n",
       "  │ Yield strength      ┆ 505 MPa     ┆ 73244 psi       │\n",
       "  │ Elastic modulus     ┆ 190-210 GPa ┆ 27557-30458 ksi │\n",
       "  │ Poisson's ratio     ┆ 0.27-0.30   ┆ 0.27-0.30       │\n",
       "  │ Elongation at break ┆ 10%         ┆ 10%             │\n",
       "  │ Reduction of area   ┆ 40%         ┆ 40%             │\n",
       "  │ Hardness            ┆ 192         ┆ 192             │\n",
       "  └─────────────────────┴─────────────┴─────────────────┘],\n",
       " 'AISI-SAE 1040': [shape: (5, 2)\n",
       "  ┌────────────────┬─────────────┐\n",
       "  │ Element        ┆ Content (%) │\n",
       "  │ ---            ┆ ---         │\n",
       "  │ str            ┆ str         │\n",
       "  ╞════════════════╪═════════════╡\n",
       "  │ Iron, Fe       ┆ 98.6-99     │\n",
       "  │ Manganese, Mn  ┆ 0.60-0.90   │\n",
       "  │ Carbon, C      ┆ 0.370-0.440 │\n",
       "  │ Sulfur, S      ┆ ≤ 0.050     │\n",
       "  │ Phosphorous, P ┆ ≤ 0.040     │\n",
       "  └────────────────┴─────────────┘,\n",
       "  shape: (2, 3)\n",
       "  ┌─────────────────────────────────┬────────────┬───────────────┐\n",
       "  │ Properties                      ┆ Metric     ┆ Imperial      │\n",
       "  │ ---                             ┆ ---        ┆ ---           │\n",
       "  │ str                             ┆ str        ┆ str           │\n",
       "  ╞═════════════════════════════════╪════════════╪═══════════════╡\n",
       "  │ Density (chemical composition … ┆ 7.845 g/cc ┆ 0.2834 lb/in³ │\n",
       "  │ Melting point                   ┆ 1521°C     ┆ 2770°C        │\n",
       "  └─────────────────────────────────┴────────────┴───────────────┘,\n",
       "  shape: (16, 3)\n",
       "  ┌─────────────────────────────────┬─────────────┬─────────────────┐\n",
       "  │ Properties                      ┆ Metric      ┆ Imperial        │\n",
       "  │ ---                             ┆ ---         ┆ ---             │\n",
       "  │ str                             ┆ str         ┆ str             │\n",
       "  ╞═════════════════════════════════╪═════════════╪═════════════════╡\n",
       "  │ Tensile strength                ┆ 620 MPa     ┆ 89900 psi       │\n",
       "  │ Yield strength                  ┆ 415 MPa     ┆ 60200 psi       │\n",
       "  │ Bulk modulus (typical for stee… ┆ 140 GPa     ┆ 20300 ksi       │\n",
       "  │ Shear modulus (typical for ste… ┆ 80 GPa      ┆ 11600 ksi       │\n",
       "  │ Elastic modulus                 ┆ 190-210 GPa ┆ 27557-30458 ksi │\n",
       "  │ …                               ┆ …           ┆ …               │\n",
       "  │ Hardness, Rockwell C (converte… ┆ 13          ┆ 13              │\n",
       "  │ Hardness, Vickers (converted f… ┆ 211         ┆ 211             │\n",
       "  │ Izod impact (annealed at 790°C… ┆ 45 J        ┆ 33.2 ft-lb      │\n",
       "  │ Izod impact (as rolled)         ┆ 49 J        ┆ 36.1 ft-lb      │\n",
       "  │ Izod impact (normalized at 900… ┆ 65 J        ┆ 47.9 ft-lb      │\n",
       "  └─────────────────────────────────┴─────────────┴─────────────────┘,\n",
       "  shape: (3, 3)\n",
       "  ┌─────────────────────────────────┬─────────────┬──────────────────────┐\n",
       "  │ Properties                      ┆ Metric      ┆ Imperial             │\n",
       "  │ ---                             ┆ ---         ┆ ---                  │\n",
       "  │ str                             ┆ str         ┆ str                  │\n",
       "  ╞═════════════════════════════════╪═════════════╪══════════════════════╡\n",
       "  │ Thermal expansion co-efficient… ┆ 11.3 µm/m°C ┆ 6.28 µin/in°F        │\n",
       "  │ Thermal conductivity (@ 100°C/… ┆ 50.7 W/mK   ┆ 352 BTU in/hr.ft².°F │\n",
       "  │ Thermal conductivity (@ 0°C)    ┆ 51.9 W/mK   ┆ 360 BTU in/hr.ft².°F │\n",
       "  └─────────────────────────────────┴─────────────┴──────────────────────┘],\n",
       " 'AISI 1030': [shape: (5, 2)\n",
       "  ┌────────────────┬─────────────┐\n",
       "  │ Element        ┆ Content (%) │\n",
       "  │ ---            ┆ ---         │\n",
       "  │ str            ┆ str         │\n",
       "  ╞════════════════╪═════════════╡\n",
       "  │ Iron, Fe       ┆ 98.67-99.13 │\n",
       "  │ Manganese, Mn  ┆ 0.60-0.90   │\n",
       "  │ Carbon, C      ┆ 0.270-0.340 │\n",
       "  │ Phosphorous, P ┆ ≤ 0.040     │\n",
       "  │ Sulfur, S      ┆ ≤ 0.050     │\n",
       "  └────────────────┴─────────────┘,\n",
       "  shape: (2, 3)\n",
       "  ┌───────────────┬───────────┬──────────────┐\n",
       "  │ Properties    ┆ Metric    ┆ Imperial     │\n",
       "  │ ---           ┆ ---       ┆ ---          │\n",
       "  │ str           ┆ str       ┆ str          │\n",
       "  ╞═══════════════╪═══════════╪══════════════╡\n",
       "  │ Density       ┆ 7.85 g/cc ┆ 0.284 lb/in3 │\n",
       "  │ Melting point ┆ 1510°C    ┆ 2750°F       │\n",
       "  └───────────────┴───────────┴──────────────┘,\n",
       "  shape: (13, 3)\n",
       "  ┌─────────────────────────────────┬─────────────┬─────────────────┐\n",
       "  │ Properties                      ┆ Metric      ┆ Imperial        │\n",
       "  │ ---                             ┆ ---         ┆ ---             │\n",
       "  │ str                             ┆ str         ┆ str             │\n",
       "  ╞═════════════════════════════════╪═════════════╪═════════════════╡\n",
       "  │ Tensile strength, ultimate      ┆ 525 MPa     ┆ 76100 psi       │\n",
       "  │ Tensile strength, yield         ┆ 440 MPa     ┆ 63800 psi       │\n",
       "  │ Modulus of elasticity           ┆ 190-210 GPa ┆ 29700-30458 ksi │\n",
       "  │ Bulk modulus (typical for stee… ┆ 140 GPa     ┆ 20300 ksi       │\n",
       "  │ Shear modulus (typical for ste… ┆ 80 GPa      ┆ 11600 ksi       │\n",
       "  │ …                               ┆ …           ┆ …               │\n",
       "  │ Hardness, Brinell               ┆ 149         ┆ 149             │\n",
       "  │ Hardness, Knoop (converted fro… ┆ 169         ┆ 169             │\n",
       "  │ Hardness, Rockwell B (converte… ┆ 80          ┆ 80              │\n",
       "  │ Hardness, Vickers (converted f… ┆ 155         ┆ 155             │\n",
       "  │ Machinability (based on AISI 1… ┆ 70          ┆ 70              │\n",
       "  └─────────────────────────────────┴─────────────┴─────────────────┘,\n",
       "  shape: (2, 3)\n",
       "  ┌─────────────────────────────────┬─────────────┬──────────────────────┐\n",
       "  │ Properties                      ┆ Metric      ┆ Imperial             │\n",
       "  │ ---                             ┆ ---         ┆ ---                  │\n",
       "  │ str                             ┆ str         ┆ str                  │\n",
       "  ╞═════════════════════════════════╪═════════════╪══════════════════════╡\n",
       "  │ Thermal expansion co-efficient… ┆ 11.7 µm/m°C ┆ 6.50 µin/in°F        │\n",
       "  │ Thermal Conductivity            ┆ 51.9 W/mK   ┆ 360 BTU in/hr.ft2.°F │\n",
       "  └─────────────────────────────────┴─────────────┴──────────────────────┘,\n",
       "  shape: (6, 3)\n",
       "  ┌──────────────────┬───────────────────────┬─────────────────┐\n",
       "  │ ASTM A29 (1030)  ┆ ASTM A546 (1030)      ┆ SAE J403 (1030) │\n",
       "  │ ---              ┆ ---                   ┆ ---             │\n",
       "  │ str              ┆ str                   ┆ str             │\n",
       "  ╞══════════════════╪═══════════════════════╪═════════════════╡\n",
       "  │ ASTM A510 (1030) ┆ ASTM A576 (1030)      ┆ SAE J412 (1030) │\n",
       "  │ ASTM A512 (1030) ┆ ASTM A682 (1030)      ┆ DIN 1.1172      │\n",
       "  │ ASTM A513 (1030) ┆ ASTM A830             ┆ UNI CB 35       │\n",
       "  │ ASTM A519 (1030) ┆ MIL S-11310 (CS 1030) ┆ ASTM A108       │\n",
       "  │ ASTM A544 (1030) ┆ FED QQ-S-700(C1030)   ┆ FED QQ-S-635    │\n",
       "  │ ASTM A545 (1030) ┆ SAE J1397 (1030)      ┆                 │\n",
       "  └──────────────────┴───────────────────────┴─────────────────┘],\n",
       " 'AISI-SAE 1042': [shape: (5, 2)\n",
       "  ┌────────────────┬─────────────┐\n",
       "  │ Element        ┆ Content (%) │\n",
       "  │ ---            ┆ ---         │\n",
       "  │ str            ┆ str         │\n",
       "  ╞════════════════╪═════════════╡\n",
       "  │ Iron, Fe       ┆ 98.54-99.0  │\n",
       "  │ Manganese, Mn  ┆ 0.600-0.900 │\n",
       "  │ Carbon, C      ┆ 0.400-0.470 │\n",
       "  │ Sulfur, S      ┆ 0.0500      │\n",
       "  │ Phosphorous, P ┆ 0.0400      │\n",
       "  └────────────────┴─────────────┘,\n",
       "  shape: (1, 3)\n",
       "  ┌────────────┬─────────────┬───────────────┐\n",
       "  │ Properties ┆ Metric      ┆ Imperial      │\n",
       "  │ ---        ┆ ---         ┆ ---           │\n",
       "  │ str        ┆ str         ┆ str           │\n",
       "  ╞════════════╪═════════════╪═══════════════╡\n",
       "  │ Density    ┆ 7.844 g/cm3 ┆ 0.2833 lb/in3 │\n",
       "  └────────────┴─────────────┴───────────────┘,\n",
       "  shape: (2, 3)\n",
       "  ┌─────────────────┬─────────────┬─────────────────┐\n",
       "  │ Properties      ┆ Metric      ┆ Imperial        │\n",
       "  │ ---             ┆ ---         ┆ ---             │\n",
       "  │ str             ┆ str         ┆ str             │\n",
       "  ╞═════════════════╪═════════════╪═════════════════╡\n",
       "  │ Elastic modulus ┆ 190-210 GPa ┆ 27557-30458 ksi │\n",
       "  │ Poisson's ratio ┆ 0.27-0.30   ┆ 0.27-0.30       │\n",
       "  └─────────────────┴─────────────┴─────────────────┘,\n",
       "  shape: (2, 2)\n",
       "  ┌──────────────────────┬────────────┐\n",
       "  │ Properties           ┆ Conditions │\n",
       "  │ ---                  ┆ ---        │\n",
       "  │ str                  ┆ str        │\n",
       "  ╞══════════════════════╪════════════╡\n",
       "  │ T (ºC)               ┆ Treatment  │\n",
       "  │ Thermal conductivity ┆ 51.9 W/mk  │\n",
       "  └──────────────────────┴────────────┘],\n",
       " 'AISI 1090': [shape: (5, 2)\n",
       "  ┌────────────────┬───────────────┐\n",
       "  │ Element        ┆ Content (%)   │\n",
       "  │ ---            ┆ ---           │\n",
       "  │ str            ┆ str           │\n",
       "  ╞════════════════╪═══════════════╡\n",
       "  │ Iron, Fe       ┆ 98.03 - 98.55 │\n",
       "  │ Carbon, C      ┆ 0.85 - 0.980  │\n",
       "  │ Manganese, Mn  ┆ 0.60 - 0.90   │\n",
       "  │ Sulfur, S      ┆ ≤ 0.050       │\n",
       "  │ Phosphorous, P ┆ ≤ 0.040       │\n",
       "  └────────────────┴───────────────┘,\n",
       "  shape: (1, 3)\n",
       "  ┌────────────┬────────────┬──────────────┐\n",
       "  │ Properties ┆ Metric     ┆ Imperial     │\n",
       "  │ ---        ┆ ---        ┆ ---          │\n",
       "  │ str        ┆ str        ┆ str          │\n",
       "  ╞════════════╪════════════╪══════════════╡\n",
       "  │ Density    ┆ 7.85 g/cm3 ┆ 0.284 lb/in³ │\n",
       "  └────────────┴────────────┴──────────────┘,\n",
       "  shape: (13, 3)\n",
       "  ┌─────────────────────────────────┬─────────────┬─────────────────┐\n",
       "  │ Properties                      ┆ Metric      ┆ Imperial        │\n",
       "  │ ---                             ┆ ---         ┆ ---             │\n",
       "  │ str                             ┆ str         ┆ str             │\n",
       "  ╞═════════════════════════════════╪═════════════╪═════════════════╡\n",
       "  │ Tensile strength                ┆ 696 MPa     ┆ 101000 psi      │\n",
       "  │ Yield strength                  ┆ 540 MPa     ┆ 78300 psi       │\n",
       "  │ Bulk modulus (typical for stee… ┆ 140 GPa     ┆ 20300 ksi       │\n",
       "  │ Shear modulus (typical for ste… ┆ 80 GPa      ┆ 11600 ksi       │\n",
       "  │ Elastic modulus                 ┆ 190-210 GPa ┆ 27557-30458 ksi │\n",
       "  │ …                               ┆ …           ┆ …               │\n",
       "  │ Hardness, Brinell               ┆ 197         ┆ 197             │\n",
       "  │ Hardness, Knoop (converted fro… ┆ 219         ┆ 219             │\n",
       "  │ Hardness, Rockwell B (converte… ┆ 92          ┆ 92              │\n",
       "  │ Hardness, Rockwell C (converte… ┆ 13          ┆ 13              │\n",
       "  │ Hardness, Vickers (converted f… ┆ 207         ┆ 207             │\n",
       "  └─────────────────────────────────┴─────────────┴─────────────────┘,\n",
       "  shape: (1, 3)\n",
       "  ┌─────────────────────────────────┬───────────┬──────────────────────┐\n",
       "  │ Properties                      ┆ Metric    ┆ Imperial             │\n",
       "  │ ---                             ┆ ---       ┆ ---                  │\n",
       "  │ str                             ┆ str       ┆ str                  │\n",
       "  ╞═════════════════════════════════╪═══════════╪══════════════════════╡\n",
       "  │ Thermal conductivity (typical … ┆ 49.8 W/mK ┆ 346 BTU in/hr.ft².°F │\n",
       "  └─────────────────────────────────┴───────────┴──────────────────────┘],\n",
       " 'AISI-SAE 1045': [shape: (5, 2)\n",
       "  ┌────────────────┬─────────────┐\n",
       "  │ Element        ┆ Content (%) │\n",
       "  │ ---            ┆ ---         │\n",
       "  │ str            ┆ str         │\n",
       "  ╞════════════════╪═════════════╡\n",
       "  │ Carbon, C      ┆ 0.43-0.50   │\n",
       "  │ Manganese, Mn  ┆ 0.60-0.90   │\n",
       "  │ Sulfur, S      ┆ 0.05 (max)  │\n",
       "  │ Phosphorous, P ┆ 0.04 (max)  │\n",
       "  │ Iron, Fe       ┆ Balance     │\n",
       "  └────────────────┴─────────────┘,\n",
       "  shape: (1, 3)\n",
       "  ┌────────────┬────────────┬──────────────┐\n",
       "  │ Properties ┆ Metric     ┆ Imperial     │\n",
       "  │ ---        ┆ ---        ┆ ---          │\n",
       "  │ str        ┆ str        ┆ str          │\n",
       "  ╞════════════╪════════════╪══════════════╡\n",
       "  │ Density    ┆ 7.87 g/cm3 ┆ 0.284 lb/in3 │\n",
       "  └────────────┴────────────┴──────────────┘,\n",
       "  shape: (10, 3)\n",
       "  ┌─────────────────────────────────┬─────────┬───────────┐\n",
       "  │ Properties                      ┆ Metric  ┆ Imperial  │\n",
       "  │ ---                             ┆ ---     ┆ ---       │\n",
       "  │ str                             ┆ str     ┆ str       │\n",
       "  ╞═════════════════════════════════╪═════════╪═══════════╡\n",
       "  │ Tensile strength                ┆ 585 MPa ┆ 84800 psi │\n",
       "  │ Yield strength                  ┆ 450 MPa ┆ 65300 psi │\n",
       "  │ Modulus of elasticity           ┆ 200 GPa ┆ 29000 ksi │\n",
       "  │ Shear modulus (typical for ste… ┆ 80 GPa  ┆ 11600 ksi │\n",
       "  │ Poisson’s ratio                 ┆ 0.29    ┆ 0.29      │\n",
       "  │ Elongation at break (in 50 mm)  ┆ 12 %    ┆ 12 %      │\n",
       "  │ Hardness, Brinell               ┆ 163     ┆ 163       │\n",
       "  │ Hardness, Knoop (converted fro… ┆ 184     ┆ 184       │\n",
       "  │ Hardness, Rockwell B (converte… ┆ 84      ┆ 84        │\n",
       "  │ Hardness, Vickers (converted f… ┆ 170     ┆ 170       │\n",
       "  └─────────────────────────────────┴─────────┴───────────┘,\n",
       "  shape: (2, 3)\n",
       "  ┌─────────────────────────────────┬─────────────┬──────────────────────┐\n",
       "  │ Properties                      ┆ Metric      ┆ Imperial             │\n",
       "  │ ---                             ┆ ---         ┆ ---                  │\n",
       "  │ str                             ┆ str         ┆ str                  │\n",
       "  ╞═════════════════════════════════╪═════════════╪══════════════════════╡\n",
       "  │ Thermal conductivity            ┆ 51.9 W/mK   ┆ 360 BTU in/hr.ft2.°F │\n",
       "  │ Thermal expansion co-efficient… ┆ 11.2 µm/m°C ┆ 6.22 µm/m°C          │\n",
       "  └─────────────────────────────────┴─────────────┴──────────────────────┘,\n",
       "  shape: (6, 4)\n",
       "  ┌──────────────────────┬─────────────────────┬──────────────────┬─────────────────┐\n",
       "  │ AFNOR XC 42 TS       ┆ AFNOR XC 45         ┆ AFNOR XC 48      ┆ AFNOR XC42      │\n",
       "  │ ---                  ┆ ---                 ┆ ---              ┆ ---             │\n",
       "  │ str                  ┆ str                 ┆ str              ┆ str             │\n",
       "  ╞══════════════════════╪═════════════════════╪══════════════════╪═════════════════╡\n",
       "  │ DIN 1.1191           ┆ JIS S 45C           ┆ JIS S 48 C       ┆ SS 1672         │\n",
       "  │ ASTM A29             ┆ ASTM A510           ┆ ASTM A519        ┆ ASTM A576       │\n",
       "  │ FED QQ-S-635 (C1045) ┆ FED QQ-S-700 (1045) ┆ SAE J403         ┆ ASTM A682       │\n",
       "  │ SAE J414             ┆ ASTM A183 (2-Nuts)  ┆ ASTM A236 (1045) ┆ SAE J412        │\n",
       "  │ ASTM A266 (1045)     ┆ ASTM A827           ┆ ASTM A830        ┆ QQ S700 (C1045) │\n",
       "  │ SAE J1397 (1045)     ┆                     ┆                  ┆                 │\n",
       "  └──────────────────────┴─────────────────────┴──────────────────┴─────────────────┘],\n",
       " 'AISI-SAE 1050': [shape: (5, 2)\n",
       "  ┌────────────────┬─────────────┐\n",
       "  │ Element        ┆ Content (%) │\n",
       "  │ ---            ┆ ---         │\n",
       "  │ str            ┆ str         │\n",
       "  ╞════════════════╪═════════════╡\n",
       "  │ Iron, Fe       ┆ 98.46-98.92 │\n",
       "  │ Manganese, Mn  ┆ 0.60-0.90   │\n",
       "  │ Carbon, C      ┆ 0.470-0.55  │\n",
       "  │ Sulfur, S      ┆ ≤ 0.050     │\n",
       "  │ Phosphorous, P ┆ ≤ 0.040     │\n",
       "  └────────────────┴─────────────┘,\n",
       "  shape: (1, 3)\n",
       "  ┌────────────┬────────────┬──────────────┐\n",
       "  │ Properties ┆ Metric     ┆ Imperial     │\n",
       "  │ ---        ┆ ---        ┆ ---          │\n",
       "  │ str        ┆ str        ┆ str          │\n",
       "  ╞════════════╪════════════╪══════════════╡\n",
       "  │ Density    ┆ 7.85 g/cm3 ┆ 0.284 lb/in³ │\n",
       "  └────────────┴────────────┴──────────────┘,\n",
       "  shape: (14, 3)\n",
       "  ┌─────────────────────────────────┬─────────────┬─────────────────┐\n",
       "  │ Properties                      ┆ Metric      ┆ Imperial        │\n",
       "  │ ---                             ┆ ---         ┆ ---             │\n",
       "  │ str                             ┆ str         ┆ str             │\n",
       "  ╞═════════════════════════════════╪═════════════╪═════════════════╡\n",
       "  │ Tensile strength                ┆ 690 MPa     ┆ 100000 psi      │\n",
       "  │ Yield strength                  ┆ 580 MPa     ┆ 84100 psi       │\n",
       "  │ Shear modulus (typical for ste… ┆ 80 GPa      ┆ 11600 ksi       │\n",
       "  │ Bulk modulus (typical for stee… ┆ 140 GPa     ┆ 20300 ksi       │\n",
       "  │ Elastic modulus                 ┆ 190-210 GPa ┆ 27557-30458 ksi │\n",
       "  │ …                               ┆ …           ┆ …               │\n",
       "  │ Hardness, Brinell               ┆ 197         ┆ 197             │\n",
       "  │ Hardness, Knoop (converted fro… ┆ 219         ┆ 219             │\n",
       "  │ Hardness, Rockwell B (converte… ┆ 92          ┆ 92              │\n",
       "  │ Hardness, Rockwell C (converte… ┆ 13          ┆ 13              │\n",
       "  │ Hardness, Vickers (converted f… ┆ 207         ┆ 207             │\n",
       "  └─────────────────────────────────┴─────────────┴─────────────────┘,\n",
       "  shape: (1, 3)\n",
       "  ┌─────────────────────────────────┬───────────┬──────────────────────┐\n",
       "  │ Properties                      ┆ Metric    ┆ Imperial             │\n",
       "  │ ---                             ┆ ---       ┆ ---                  │\n",
       "  │ str                             ┆ str       ┆ str                  │\n",
       "  ╞═════════════════════════════════╪═══════════╪══════════════════════╡\n",
       "  │ Thermal conductivity (typical … ┆ 49.8 W/mK ┆ 346 BTU in/hr.ft².°F │\n",
       "  └─────────────────────────────────┴───────────┴──────────────────────┘],\n",
       " 'AISI-SAE 4027': [shape: (7, 2)\n",
       "  ┌────────────────┬─────────────┐\n",
       "  │ Element        ┆ Content (%) │\n",
       "  │ ---            ┆ ---         │\n",
       "  │ str            ┆ str         │\n",
       "  ╞════════════════╪═════════════╡\n",
       "  │ Iron, Fe       ┆ 98.08-98.7  │\n",
       "  │ Manganese, Mn  ┆ 0.70-0.90   │\n",
       "  │ Carbon, C      ┆ 0.25-0.30   │\n",
       "  │ Molybdenum, Mo ┆ 0.20-0.30   │\n",
       "  │ Silicon, Si    ┆ 0.15-0.35   │\n",
       "  │ Sulfur, S      ┆ 0.040       │\n",
       "  │ Phosphorous, P ┆ 0.035       │\n",
       "  └────────────────┴─────────────┘,\n",
       "  shape: (1, 3)\n",
       "  ┌────────────┬────────────┬──────────────┐\n",
       "  │ Properties ┆ Metric     ┆ Imperial     │\n",
       "  │ ---        ┆ ---        ┆ ---          │\n",
       "  │ str        ┆ str        ┆ str          │\n",
       "  ╞════════════╪════════════╪══════════════╡\n",
       "  │ Density    ┆ 7.85 g/cm3 ┆ 0.284 lb/in³ │\n",
       "  └────────────┴────────────┴──────────────┘,\n",
       "  shape: (13, 3)\n",
       "  ┌─────────────────────────────────┬─────────────┬─────────────────┐\n",
       "  │ Properties                      ┆ Metric      ┆ Imperial        │\n",
       "  │ ---                             ┆ ---         ┆ ---             │\n",
       "  │ str                             ┆ str         ┆ str             │\n",
       "  ╞═════════════════════════════════╪═════════════╪═════════════════╡\n",
       "  │ Tensile strength                ┆ 515 MPa     ┆ 74700 psi       │\n",
       "  │ Yield strength                  ┆ 325 MPa     ┆ 47100 psi       │\n",
       "  │ Bulk modulus (typical for stee… ┆ 140 GPa     ┆ 20300 ksi       │\n",
       "  │ Shear modulus (typical for ste… ┆ 80.0 GPa    ┆ 11600 ksi       │\n",
       "  │ Elastic modulus                 ┆ 190-210 GPa ┆ 27557-30458 ksi │\n",
       "  │ …                               ┆ …           ┆ …               │\n",
       "  │ Hardness, Brinell               ┆ 143         ┆ 143             │\n",
       "  │ Hardness, Knoop (converted fro… ┆ 163         ┆ 163             │\n",
       "  │ Hardness, Rockwell B (converte… ┆ 78          ┆ 78              │\n",
       "  │ Hardness, Vickers (converted f… ┆ 149         ┆ 149             │\n",
       "  │ Machinability (annealed and co… ┆ 70          ┆ 70              │\n",
       "  └─────────────────────────────────┴─────────────┴─────────────────┘,\n",
       "  shape: (1, 3)\n",
       "  ┌─────────────────────────────────┬───────────┬──────────────────────┐\n",
       "  │ Properties                      ┆ Metric    ┆ Imperial             │\n",
       "  │ ---                             ┆ ---       ┆ ---                  │\n",
       "  │ str                             ┆ str       ┆ str                  │\n",
       "  ╞═════════════════════════════════╪═══════════╪══════════════════════╡\n",
       "  │ Thermal conductivity (typical … ┆ 44.5 W/mK ┆ 309 BTU in/hr.ft².°F │\n",
       "  └─────────────────────────────────┴───────────┴──────────────────────┘],\n",
       " 'AISI 4640': [shape: (7, 2)\n",
       "  ┌────────────────┬─────────────┐\n",
       "  │ Element        ┆ Content (%) │\n",
       "  │ ---            ┆ ---         │\n",
       "  │ str            ┆ str         │\n",
       "  ╞════════════════╪═════════════╡\n",
       "  │ Nickel, Ni     ┆ 1.65-2      │\n",
       "  │ Manganese, Mn  ┆ ≤0.6-0.8    │\n",
       "  │ Carbon, C      ┆ ≤0.38-0.43  │\n",
       "  │ Silicon, Si    ┆ ≤0.2-0.35   │\n",
       "  │ Molybdenum, Mo ┆ 0.2-0.3     │\n",
       "  │ Phosphorus, P  ┆ ≤0.04       │\n",
       "  │ Sulfur, S      ┆ ≤0.04       │\n",
       "  └────────────────┴─────────────┘,\n",
       "  shape: (1, 3)\n",
       "  ┌────────────┬────────────┬──────────────┐\n",
       "  │ Properties ┆ Metric     ┆ Imperial     │\n",
       "  │ ---        ┆ ---        ┆ ---          │\n",
       "  │ str        ┆ str        ┆ str          │\n",
       "  ╞════════════╪════════════╪══════════════╡\n",
       "  │ Density    ┆ 7.75 g/cm3 ┆ 0.280 lb/in3 │\n",
       "  └────────────┴────────────┴──────────────┘,\n",
       "  shape: (8, 3)\n",
       "  ┌───────────────────────┬─────────────┬─────────────────┐\n",
       "  │ Properties            ┆ Metric      ┆ Imperial        │\n",
       "  │ ---                   ┆ ---         ┆ ---             │\n",
       "  │ str                   ┆ str         ┆ str             │\n",
       "  ╞═══════════════════════╪═════════════╪═════════════════╡\n",
       "  │ Tensile strength      ┆ 1276 MPa    ┆ 185100 psi      │\n",
       "  │ Yield strength        ┆ 1103 MPa    ┆ 160000 psi      │\n",
       "  │ Modulus of elasticity ┆ 201-209 GPa ┆ 29200-30300 ksi │\n",
       "  │ Bulk modulus          ┆ 160-170 GPa ┆ 23200-24700 ksi │\n",
       "  │ Shear modulus         ┆ 81-82 GPa   ┆ 11700-11900 ksi │\n",
       "  │ Poisson’s ratio       ┆ 0.27-030    ┆ 0.27-030        │\n",
       "  │ Elongation at break   ┆ 14%         ┆ 14%             │\n",
       "  │ Hardness, Brinell     ┆ 390         ┆ 390             │\n",
       "  └───────────────────────┴─────────────┴─────────────────┘,\n",
       "  shape: (2, 3)\n",
       "  ┌─────────────────────────────────┬───────────┬─────────────────────┐\n",
       "  │ Properties                      ┆ Metric    ┆ Imperial            │\n",
       "  │ ---                             ┆ ---       ┆ ---                 │\n",
       "  │ str                             ┆ str       ┆ str                 │\n",
       "  ╞═════════════════════════════════╪═══════════╪═════════════════════╡\n",
       "  │ Thermal expansion co-efficient… ┆ 10 µm/m°C ┆ 5.5 µin/in°F        │\n",
       "  │ Thermal conductivity            ┆ 25 W/mK   ┆ 173 BTU.in/hrft².°F │\n",
       "  └─────────────────────────────────┴───────────┴─────────────────────┘],\n",
       " 'AISI-SAE 1080': [shape: (5, 2)\n",
       "  ┌────────────────┬─────────────┐\n",
       "  │ Element        ┆ Content     │\n",
       "  │ ---            ┆ (%)         │\n",
       "  │ str            ┆ ---         │\n",
       "  │                ┆ str         │\n",
       "  ╞════════════════╪═════════════╡\n",
       "  │ Iron, Fe       ┆ 98.0 - 99.0 │\n",
       "  │ Carbon, C      ┆ 0.75 - 0.88 │\n",
       "  │ Manganese, Mn  ┆ 0.60 - 0.90 │\n",
       "  │ Sulfur, S      ┆ 0.05 (max)  │\n",
       "  │ Phosphorous, P ┆ 0.04 (max)  │\n",
       "  └────────────────┴─────────────┘,\n",
       "  shape: (1, 3)\n",
       "  ┌────────────┬────────────────┬────────────────────┐\n",
       "  │ Properties ┆ Metric         ┆ Imperial           │\n",
       "  │ ---        ┆ ---            ┆ ---                │\n",
       "  │ str        ┆ str            ┆ str                │\n",
       "  ╞════════════╪════════════════╪════════════════════╡\n",
       "  │ Density    ┆ 7.7-8.03 g/cm3 ┆ 0.278-0.290 lb/in³ │\n",
       "  └────────────┴────────────────┴────────────────────┘,\n",
       "  shape: (2, 3)\n",
       "  ┌─────────────────┬─────────────┬─────────────────┐\n",
       "  │ Properties      ┆ Metric      ┆ Imperial        │\n",
       "  │ ---             ┆ ---         ┆ ---             │\n",
       "  │ str             ┆ str         ┆ str             │\n",
       "  ╞═════════════════╪═════════════╪═════════════════╡\n",
       "  │ Elastic modulus ┆ 190-210 GPa ┆ 29700-30458 ksi │\n",
       "  │ Poisson’s ratio ┆ 0.27-0.30   ┆ 0.27-0.30       │\n",
       "  └─────────────────┴─────────────┴─────────────────┘,\n",
       "  shape: (3, 2)\n",
       "  ┌────────────────────────────────┬───────────────────┐\n",
       "  │ Properties                     ┆ Conditions        │\n",
       "  │ ---                            ┆ ---               │\n",
       "  │ str                            ┆ str               │\n",
       "  ╞════════════════════════════════╪═══════════════════╡\n",
       "  │ T                              ┆ Treatment         │\n",
       "  │ (ºC)                           ┆                   │\n",
       "  │ Thermal expansion co-efficient ┆ 14.7 x (10-6/ ºC) │\n",
       "  │ Thermal conductivity           ┆ 48.1 W/mK         │\n",
       "  └────────────────────────────────┴───────────────────┘],\n",
       " 'AISI 4047': [shape: (7, 2)\n",
       "  ┌────────────────┬─────────────┐\n",
       "  │ Element        ┆ Content (%) │\n",
       "  │ ---            ┆ ---         │\n",
       "  │ str            ┆ str         │\n",
       "  ╞════════════════╪═════════════╡\n",
       "  │ Iron, Fe       ┆ 97.87-98.51 │\n",
       "  │ Manganese, Mn  ┆ 0.70-0.90   │\n",
       "  │ Carbon, C      ┆ 0.45-0.50   │\n",
       "  │ Molybdenum, Mo ┆ 0.20-0.30   │\n",
       "  │ Silicon, Si    ┆ 0.15-0.35   │\n",
       "  │ Sulfur, S      ┆ 0.040       │\n",
       "  │ Phosphorous, P ┆ 0.035       │\n",
       "  └────────────────┴─────────────┘,\n",
       "  shape: (1, 3)\n",
       "  ┌────────────┬────────────┬──────────────┐\n",
       "  │ Properties ┆ Metric     ┆ Imperial     │\n",
       "  │ ---        ┆ ---        ┆ ---          │\n",
       "  │ str        ┆ str        ┆ str          │\n",
       "  ╞════════════╪════════════╪══════════════╡\n",
       "  │ Density    ┆ 7.85 g/cm3 ┆ 0.284 lb/in³ │\n",
       "  └────────────┴────────────┴──────────────┘,\n",
       "  shape: (10, 3)\n",
       "  ┌─────────────────────────────────┬─────────────┬─────────────────┐\n",
       "  │ Properties                      ┆ Metric      ┆ Imperial        │\n",
       "  │ ---                             ┆ ---         ┆ ---             │\n",
       "  │ str                             ┆ str         ┆ str             │\n",
       "  ╞═════════════════════════════════╪═════════════╪═════════════════╡\n",
       "  │ Elastic modulus                 ┆ 190-210 GPa ┆ 27557-30458 ksi │\n",
       "  │ Bulk modulus (typical for stee… ┆ 140 GPa     ┆ 20300 ksi       │\n",
       "  │ Shear modulus (typical for ste… ┆ 80 GPa      ┆ 11600 ksi       │\n",
       "  │ Poisson’s ratio                 ┆ 0.27-0.30   ┆ 0.27-0.30       │\n",
       "  │ Hardness, Brinell               ┆ 179-229     ┆ 179-229         │\n",
       "  │ Hardness, Knoop (converted fro… ┆ 226         ┆ 226             │\n",
       "  │ Hardness, Rockwell B (converte… ┆ 93          ┆ 93              │\n",
       "  │ Hardness, Rockwell C (converte… ┆ 14          ┆ 14              │\n",
       "  │ Hardness, Vickers (converted f… ┆ 214         ┆ 214             │\n",
       "  │ Machinability (annealed and co… ┆ 65          ┆ 65              │\n",
       "  └─────────────────────────────────┴─────────────┴─────────────────┘,\n",
       "  shape: (1, 3)\n",
       "  ┌──────────────────────┬───────────┬──────────────────────┐\n",
       "  │ Properties           ┆ Metric    ┆ Imperial             │\n",
       "  │ ---                  ┆ ---       ┆ ---                  │\n",
       "  │ str                  ┆ str       ┆ str                  │\n",
       "  ╞══════════════════════╪═══════════╪══════════════════════╡\n",
       "  │ Thermal conductivity ┆ 44.5 W/mK ┆ 309 BTU in/hr.ft².°F │\n",
       "  └──────────────────────┴───────────┴──────────────────────┘],\n",
       " 'AISI-SAE 1026': [shape: (5, 2)\n",
       "  ┌────────────────┬─────────────┐\n",
       "  │ Element        ┆ Content (%) │\n",
       "  │ ---            ┆ ---         │\n",
       "  │ str            ┆ str         │\n",
       "  ╞════════════════╪═════════════╡\n",
       "  │ Iron, Fe       ┆ 98.73-99.18 │\n",
       "  │ Carbon, C      ┆ 0.220-0.280 │\n",
       "  │ Manganese, Mn  ┆ 0.60-0.90   │\n",
       "  │ Sulfur, S      ┆ ≤ 0.050     │\n",
       "  │ Phosphorous, P ┆ ≤ 0.040     │\n",
       "  └────────────────┴─────────────┘,\n",
       "  shape: (1, 3)\n",
       "  ┌────────────┬──────────────┬───────────────┐\n",
       "  │ Properties ┆ Metric       ┆ Imperial      │\n",
       "  │ ---        ┆ ---          ┆ ---           │\n",
       "  │ str        ┆ str          ┆ str           │\n",
       "  ╞════════════╪══════════════╪═══════════════╡\n",
       "  │ Density    ┆ 7.858 g/ cm3 ┆ 0.2839 lb/in³ │\n",
       "  └────────────┴──────────────┴───────────────┘,\n",
       "  shape: (13, 3)\n",
       "  ┌─────────────────────────────────┬─────────────┬─────────────────┐\n",
       "  │ Properties                      ┆ Metric      ┆ Imperial        │\n",
       "  │ ---                             ┆ ---         ┆ ---             │\n",
       "  │ str                             ┆ str         ┆ str             │\n",
       "  ╞═════════════════════════════════╪═════════════╪═════════════════╡\n",
       "  │ Tensile strength                ┆ 490 MPa     ┆ 71100 psi       │\n",
       "  │ Yield strength                  ┆ 415 MPa     ┆ 60200 psi       │\n",
       "  │ Bulk modulus (typical for stee… ┆ 140 GPa     ┆ 20300 ksi       │\n",
       "  │ Shear modulus (typical for ste… ┆ 80.0 GPa    ┆ 11600 ksi       │\n",
       "  │ Elastic modulus                 ┆ 190-210 GPa ┆ 27557-30458 ksi │\n",
       "  │ …                               ┆ …           ┆ …               │\n",
       "  │ Hardness, Brinell               ┆ 143         ┆ 143             │\n",
       "  │ Hardness, Knoop (converted fro… ┆ 163         ┆ 163             │\n",
       "  │ Hardness, Rockwell B (converte… ┆ 78          ┆ 78              │\n",
       "  │ Hardness, Vickers (converted f… ┆ 149         ┆ 149             │\n",
       "  │ Machinability (based on AISI 1… ┆ 75          ┆ 75              │\n",
       "  └─────────────────────────────────┴─────────────┴─────────────────┘,\n",
       "  shape: (2, 3)\n",
       "  ┌─────────────────────────────────┬─────────────┬──────────────────────┐\n",
       "  │ Properties                      ┆ Metric      ┆ Imperial             │\n",
       "  │ ---                             ┆ ---         ┆ ---                  │\n",
       "  │ str                             ┆ str         ┆ str                  │\n",
       "  ╞═════════════════════════════════╪═════════════╪══════════════════════╡\n",
       "  │ Thermal expansion co-efficient… ┆ 12.1 µm/m°C ┆ 6.72 µin/in°F        │\n",
       "  │ Thermal conductivity (0ºC)      ┆ 51.9 W/mK   ┆ 360 BTU in/hr.ft².°F │\n",
       "  └─────────────────────────────────┴─────────────┴──────────────────────┘,\n",
       "  shape: (4, 5)\n",
       "  ┌─────────────┬───────────┬───────────┬─────────────┬─────────────┐\n",
       "  │ ASTM A29    ┆ ASTM A510 ┆ ASTM A512 ┆ ASTM A513   ┆ ASTM A519   │\n",
       "  │ ---         ┆ ---       ┆ ---       ┆ ---         ┆ ---         │\n",
       "  │ str         ┆ str       ┆ str       ┆ str         ┆ str         │\n",
       "  ╞═════════════╪═══════════╪═══════════╪═════════════╪═════════════╡\n",
       "  │ ASTM A545   ┆ ASTM A576 ┆ ASTM A830 ┆ MIL F-20670 ┆ MIL S-22698 │\n",
       "  │ MIL S-24093 ┆ SAE J1397 ┆ SAE J403  ┆ SAE J412    ┆ SAE J414    │\n",
       "  │ ASTM A273   ┆           ┆           ┆             ┆             │\n",
       "  │             ┆           ┆           ┆             ┆             │\n",
       "  └─────────────┴───────────┴───────────┴─────────────┴─────────────┘],\n",
       " 'AISI-SAE 1030': [shape: (5, 2)\n",
       "  ┌────────────────┬─────────────┐\n",
       "  │ Element        ┆ Content (%) │\n",
       "  │ ---            ┆ ---         │\n",
       "  │ str            ┆ str         │\n",
       "  ╞════════════════╪═════════════╡\n",
       "  │ Iron, Fe       ┆ 98.67-99.13 │\n",
       "  │ Manganese, Mn  ┆ 0.60-0.90   │\n",
       "  │ Carbon, C      ┆ 0.270-0.340 │\n",
       "  │ Phosphorous, P ┆ ≤ 0.040     │\n",
       "  │ Sulfur, S      ┆ ≤ 0.050     │\n",
       "  └────────────────┴─────────────┘,\n",
       "  shape: (2, 3)\n",
       "  ┌───────────────┬───────────┬──────────────┐\n",
       "  │ Properties    ┆ Metric    ┆ Imperial     │\n",
       "  │ ---           ┆ ---       ┆ ---          │\n",
       "  │ str           ┆ str       ┆ str          │\n",
       "  ╞═══════════════╪═══════════╪══════════════╡\n",
       "  │ Density       ┆ 7.85 g/cc ┆ 0.284 lb/in3 │\n",
       "  │ Melting point ┆ 1510°C    ┆ 2750°F       │\n",
       "  └───────────────┴───────────┴──────────────┘,\n",
       "  shape: (13, 3)\n",
       "  ┌─────────────────────────────────┬─────────────┬─────────────────┐\n",
       "  │ Properties                      ┆ Metric      ┆ Imperial        │\n",
       "  │ ---                             ┆ ---         ┆ ---             │\n",
       "  │ str                             ┆ str         ┆ str             │\n",
       "  ╞═════════════════════════════════╪═════════════╪═════════════════╡\n",
       "  │ Tensile strength, ultimate      ┆ 525 MPa     ┆ 76100 psi       │\n",
       "  │ Tensile strength, yield         ┆ 440 MPa     ┆ 63800 psi       │\n",
       "  │ Modulus of elasticity           ┆ 190-210 GPa ┆ 29700-30458 ksi │\n",
       "  │ Bulk modulus (typical for stee… ┆ 140 GPa     ┆ 20300 ksi       │\n",
       "  │ Shear modulus (typical for ste… ┆ 80 GPa      ┆ 11600 ksi       │\n",
       "  │ …                               ┆ …           ┆ …               │\n",
       "  │ Hardness, Brinell               ┆ 149         ┆ 149             │\n",
       "  │ Hardness, Knoop (converted fro… ┆ 169         ┆ 169             │\n",
       "  │ Hardness, Rockwell B (converte… ┆ 80          ┆ 80              │\n",
       "  │ Hardness, Vickers (converted f… ┆ 155         ┆ 155             │\n",
       "  │ Machinability (based on AISI 1… ┆ 70          ┆ 70              │\n",
       "  └─────────────────────────────────┴─────────────┴─────────────────┘,\n",
       "  shape: (2, 3)\n",
       "  ┌─────────────────────────────────┬─────────────┬──────────────────────┐\n",
       "  │ Properties                      ┆ Metric      ┆ Imperial             │\n",
       "  │ ---                             ┆ ---         ┆ ---                  │\n",
       "  │ str                             ┆ str         ┆ str                  │\n",
       "  ╞═════════════════════════════════╪═════════════╪══════════════════════╡\n",
       "  │ Thermal expansion co-efficient… ┆ 11.7 µm/m°C ┆ 6.50 µin/in°F        │\n",
       "  │ Thermal Conductivity            ┆ 51.9 W/mK   ┆ 360 BTU in/hr.ft2.°F │\n",
       "  └─────────────────────────────────┴─────────────┴──────────────────────┘,\n",
       "  shape: (6, 3)\n",
       "  ┌──────────────────┬───────────────────────┬─────────────────┐\n",
       "  │ ASTM A29 (1030)  ┆ ASTM A546 (1030)      ┆ SAE J403 (1030) │\n",
       "  │ ---              ┆ ---                   ┆ ---             │\n",
       "  │ str              ┆ str                   ┆ str             │\n",
       "  ╞══════════════════╪═══════════════════════╪═════════════════╡\n",
       "  │ ASTM A510 (1030) ┆ ASTM A576 (1030)      ┆ SAE J412 (1030) │\n",
       "  │ ASTM A512 (1030) ┆ ASTM A682 (1030)      ┆ DIN 1.1172      │\n",
       "  │ ASTM A513 (1030) ┆ ASTM A830             ┆ UNI CB 35       │\n",
       "  │ ASTM A519 (1030) ┆ MIL S-11310 (CS 1030) ┆ ASTM A108       │\n",
       "  │ ASTM A544 (1030) ┆ FED QQ-S-700(C1030)   ┆ FED QQ-S-635    │\n",
       "  │ ASTM A545 (1030) ┆ SAE J1397 (1030)      ┆                 │\n",
       "  └──────────────────┴───────────────────────┴─────────────────┘],\n",
       " 'AISI-SAE 6150': [shape: (8, 2)\n",
       "  ┌────────────────┬────────────────┐\n",
       "  │ Element        ┆ Content (%)    │\n",
       "  │ ---            ┆ ---            │\n",
       "  │ str            ┆ str            │\n",
       "  ╞════════════════╪════════════════╡\n",
       "  │ Iron, Fe       ┆ 97.095 - 97.72 │\n",
       "  │ Chromium, Cr   ┆ 0.800 - 1.10   │\n",
       "  │ Manganese, Mn  ┆ 0.7 - 0.9      │\n",
       "  │ Carbon, C      ┆ 0.480 - 0.530  │\n",
       "  │ Silicon, Si    ┆ 0.150 - 0.3    │\n",
       "  │ Vanadium, V    ┆ ≥ 0.150        │\n",
       "  │ Sulfur, S      ┆ ≤ 0.04         │\n",
       "  │ Phosphorous, P ┆ ≤ 0.0350       │\n",
       "  └────────────────┴────────────────┘,\n",
       "  shape: (1, 3)\n",
       "  ┌────────────┬────────────┬──────────────┐\n",
       "  │ Properties ┆ Metric     ┆ Imperial     │\n",
       "  │ ---        ┆ ---        ┆ ---          │\n",
       "  │ str        ┆ str        ┆ str          │\n",
       "  ╞════════════╪════════════╪══════════════╡\n",
       "  │ Density    ┆ 7.85 g/cm3 ┆ 0.284 lb/in³ │\n",
       "  └────────────┴────────────┴──────────────┘,\n",
       "  shape: (14, 3)\n",
       "  ┌─────────────────────────────────┬─────────────┬─────────────────┐\n",
       "  │ Properties                      ┆ Metric      ┆ Imperial        │\n",
       "  │ ---                             ┆ ---         ┆ ---             │\n",
       "  │ str                             ┆ str         ┆ str             │\n",
       "  ╞═════════════════════════════════╪═════════════╪═════════════════╡\n",
       "  │ Tensile strength, ultimate      ┆ 670 MPa     ┆ 97200 psi       │\n",
       "  │ Tensile strength, yield         ┆ 415 MPa     ┆ 60200 psi       │\n",
       "  │ Izod impact                     ┆ 27 J        ┆ 19.9 ft-lb      │\n",
       "  │ Modulus of elasticity           ┆ 190-210 GPa ┆ 27557-30458 ksi │\n",
       "  │ Shear modulus (typical for ste… ┆ 80 GPa      ┆ 11600 ksi       │\n",
       "  │ …                               ┆ …           ┆ …               │\n",
       "  │ Hardness, Vickers (converted f… ┆ 207         ┆ 207             │\n",
       "  │ Hardness, Knoop (converted fro… ┆ 219         ┆ 219             │\n",
       "  │ Hardness, Rockwell B (converte… ┆ 92          ┆ 92              │\n",
       "  │ Hardness, Rockwell C (converte… ┆ 13          ┆ 13              │\n",
       "  │ Machinability (annealed and co… ┆ 55          ┆ 55              │\n",
       "  └─────────────────────────────────┴─────────────┴─────────────────┘,\n",
       "  shape: (1, 3)\n",
       "  ┌──────────────────────┬───────────┬───────────────────────┐\n",
       "  │ Properties           ┆ Metric    ┆ Imperial              │\n",
       "  │ ---                  ┆ ---       ┆ ---                   │\n",
       "  │ str                  ┆ str       ┆ str                   │\n",
       "  ╞══════════════════════╪═══════════╪═══════════════════════╡\n",
       "  │ Thermal conductivity ┆ 46.6 W/mK ┆ 323 BTU in/hr.ft2. °F │\n",
       "  └──────────────────────┴───────────┴───────────────────────┘,\n",
       "  shape: (4, 5)\n",
       "  ┌───────────┬──────────────────┬──────────────────┬─────────────────┬───────────────┐\n",
       "  │ AMS 6448  ┆ AMS 6455C        ┆ ASTM A519 (6150) ┆ SAE J404 (6150) ┆ SS 2230       │\n",
       "  │ ---       ┆ ---              ┆ ---              ┆ ---             ┆ ---           │\n",
       "  │ str       ┆ str              ┆ str              ┆ str             ┆ str           │\n",
       "  ╞═══════════╪══════════════════╪══════════════════╪═════════════════╪═══════════════╡\n",
       "  │ AMS 6448C ┆ AMS 7301         ┆ ASTM A752 (6150) ┆ SAE J412 (6150) ┆ B.S. 735 A 50 │\n",
       "  │ AMS 6450  ┆ ASTM A29 (6150)  ┆ ASTM A829        ┆ AFNOR 50 CV 4   ┆ B.S. En. 47   │\n",
       "  │ AMS 6450C ┆ ASTM A322 (6150) ┆ MIL S-8503       ┆ DIN 1.8159      ┆               │\n",
       "  │ AMS 6455  ┆ ASTM A331 (6150) ┆ SAE J1397 (6150) ┆ UNI 5OCrV 4     ┆               │\n",
       "  └───────────┴──────────────────┴──────────────────┴─────────────────┴───────────────┘],\n",
       " 'AISI-SAE 1335': [shape: (6, 2)\n",
       "  ┌────────────────┬───────────────┐\n",
       "  │ Element        ┆ Content (%)   │\n",
       "  │ ---            ┆ ---           │\n",
       "  │ str            ┆ str           │\n",
       "  ╞════════════════╪═══════════════╡\n",
       "  │ Iron, Fe       ┆ 97.3 - 97.92  │\n",
       "  │ Manganese, Mn  ┆ 1.60 - 1.90   │\n",
       "  │ Carbon, C      ┆ 0.330 - 0.380 │\n",
       "  │ Silicon, Si    ┆ 0.15 - 0.35   │\n",
       "  │ Sulfur, S      ┆ ≤ 0.040       │\n",
       "  │ Phosphorous, P ┆ ≤ 0.035       │\n",
       "  └────────────────┴───────────────┘,\n",
       "  shape: (1, 3)\n",
       "  ┌────────────┬────────────┬──────────────┐\n",
       "  │ Properties ┆ Metric     ┆ Imperial     │\n",
       "  │ ---        ┆ ---        ┆ ---          │\n",
       "  │ str        ┆ str        ┆ str          │\n",
       "  ╞════════════╪════════════╪══════════════╡\n",
       "  │ Density    ┆ 7.87 g/cm3 ┆ 0.284 lb/in³ │\n",
       "  └────────────┴────────────┴──────────────┘,\n",
       "  shape: (10, 3)\n",
       "  ┌─────────────────────────────────┬─────────────┬─────────────────┐\n",
       "  │ Properties                      ┆ Metric      ┆ Imperial        │\n",
       "  │ ---                             ┆ ---         ┆ ---             │\n",
       "  │ str                             ┆ str         ┆ str             │\n",
       "  ╞═════════════════════════════════╪═════════════╪═════════════════╡\n",
       "  │ Bulk modulus (typical for stee… ┆ 140 GPa     ┆ 20300 ksi       │\n",
       "  │ Shear modulus (typical for ste… ┆ 80.0 GPa    ┆ 11600 ksi       │\n",
       "  │ Elastic modulus                 ┆ 190-210 GPa ┆ 27557-30458 ksi │\n",
       "  │ Poisson's ratio                 ┆ 0.27-0.30   ┆ 0.27-0.30       │\n",
       "  │ Hardness, Brinell               ┆ 179 - 235   ┆ 179 - 235       │\n",
       "  │ Hardness, Knoop (converted fro… ┆ 229         ┆ 229             │\n",
       "  │ Hardness, Rockwell B (converte… ┆ 93          ┆ 93              │\n",
       "  │ Hardness, Rockwell C            ┆ 15          ┆ 15              │\n",
       "  │ Hardness, Vickers (converted f… ┆ 217         ┆ 217             │\n",
       "  │ Machinability (based on 100 ma… ┆ 55          ┆ 55              │\n",
       "  └─────────────────────────────────┴─────────────┴─────────────────┘,\n",
       "  shape: (2, 3)\n",
       "  ┌─────────────────────────────────┬─────────────┬──────────────────────┐\n",
       "  │ Properties                      ┆ Metric      ┆ Imperial             │\n",
       "  │ ---                             ┆ ---         ┆ ---                  │\n",
       "  │ str                             ┆ str         ┆ str                  │\n",
       "  ╞═════════════════════════════════╪═════════════╪══════════════════════╡\n",
       "  │ Thermal expansion co-efficient… ┆ 11.5 µm/m°C ┆ 6.39 µin/in°F        │\n",
       "  │ Thermal conductivity (typical … ┆ 51.9 W/mK   ┆ 360 BTU in/hr.ft².°F │\n",
       "  └─────────────────────────────────┴─────────────┴──────────────────────┘],\n",
       " 'AISI-SAE 5160': [shape: (7, 2)\n",
       "  ┌────────────────┬────────────────┐\n",
       "  │ Element        ┆ Content (%)    │\n",
       "  │ ---            ┆ ---            │\n",
       "  │ str            ┆ str            │\n",
       "  ╞════════════════╪════════════════╡\n",
       "  │ Iron, Fe       ┆ 97.085 - 97.84 │\n",
       "  │ Manganese, Mn  ┆ 0.750 - 1      │\n",
       "  │ Chromium, Cr   ┆ 0.7 - 0.9      │\n",
       "  │ Carbon, C      ┆ 0.560 - 0.640  │\n",
       "  │ Phosphorous, P ┆ ≤ 0.0350       │\n",
       "  │ Silicon, Si    ┆ 0.150 - 0.3    │\n",
       "  │ Sulfur, S      ┆ ≤ 0.04         │\n",
       "  └────────────────┴────────────────┘,\n",
       "  shape: (1, 3)\n",
       "  ┌────────────┬────────────┬──────────────┐\n",
       "  │ Properties ┆ Metric     ┆ Imperial     │\n",
       "  │ ---        ┆ ---        ┆ ---          │\n",
       "  │ str        ┆ str        ┆ str          │\n",
       "  ╞════════════╪════════════╪══════════════╡\n",
       "  │ Density    ┆ 7.85 g/cm3 ┆ 0.284 lb/in³ │\n",
       "  └────────────┴────────────┴──────────────┘,\n",
       "  shape: (13, 3)\n",
       "  ┌─────────────────────────────────┬─────────────┬─────────────────┐\n",
       "  │ Properties                      ┆ Metric      ┆ Imperial        │\n",
       "  │ ---                             ┆ ---         ┆ ---             │\n",
       "  │ str                             ┆ str         ┆ str             │\n",
       "  ╞═════════════════════════════════╪═════════════╪═════════════════╡\n",
       "  │ Tensile strength, ultimate      ┆ 724 MPa     ┆ 105000 psi      │\n",
       "  │ Tensile strength, yield         ┆ 275 MPa     ┆ 39900 psi       │\n",
       "  │ Modulus of elasticity           ┆ 190-210 GPa ┆ 27557-30458 ksi │\n",
       "  │ Bulk modulus (typical for stee… ┆ 140 GPa     ┆ 20300 ksi       │\n",
       "  │ Shear modulus (typical for ste… ┆ 80 GPa      ┆ 11600 ksi       │\n",
       "  │ …                               ┆ …           ┆ …               │\n",
       "  │ Hardness, Knoop (converted fro… ┆ 219         ┆ 219             │\n",
       "  │ Hardness, Rockwell B (converte… ┆ 92          ┆ 92              │\n",
       "  │ Hardness, Rockwell C (converte… ┆ 13          ┆ 13              │\n",
       "  │ Hardness, Vickers (converted f… ┆ 207         ┆ 207             │\n",
       "  │ Machinability (spheroidized an… ┆ 55          ┆ 55              │\n",
       "  └─────────────────────────────────┴─────────────┴─────────────────┘,\n",
       "  shape: (1, 3)\n",
       "  ┌──────────────────────┬───────────┬───────────────────────┐\n",
       "  │ Properties           ┆ Metric    ┆ Imperial              │\n",
       "  │ ---                  ┆ ---       ┆ ---                   │\n",
       "  │ str                  ┆ str       ┆ str                   │\n",
       "  ╞══════════════════════╪═══════════╪═══════════════════════╡\n",
       "  │ Thermal conductivity ┆ 46.6 W/mK ┆ 323 BTU in/hr.ft2. °F │\n",
       "  └──────────────────────┴───────────┴───────────────────────┘],\n",
       " 'AISI 1095': [shape: (5, 2)\n",
       "  ┌────────────────┬──────────────┐\n",
       "  │ Element        ┆ Content (%)  │\n",
       "  │ ---            ┆ ---          │\n",
       "  │ str            ┆ str          │\n",
       "  ╞════════════════╪══════════════╡\n",
       "  │ Iron, Fe       ┆ 98.38 - 98.8 │\n",
       "  │ Carbon, C      ┆ 0.90 - 1.03  │\n",
       "  │ Sulfur, S      ┆ ≤ 0.050      │\n",
       "  │ Phosphorous, P ┆ ≤ 0.040      │\n",
       "  │ Manganese, Mn  ┆ 0.30 - 0.50  │\n",
       "  └────────────────┴──────────────┘,\n",
       "  shape: (2, 3)\n",
       "  ┌───────────────┬────────────┬──────────────┐\n",
       "  │ Properties    ┆ Metric     ┆ Imperial     │\n",
       "  │ ---           ┆ ---        ┆ ---          │\n",
       "  │ str           ┆ str        ┆ str          │\n",
       "  ╞═══════════════╪════════════╪══════════════╡\n",
       "  │ Density       ┆ 7.85 g/cm3 ┆ 0.284 lb/in³ │\n",
       "  │ Melting point ┆ 1515°C     ┆ 2760°F       │\n",
       "  └───────────────┴────────────┴──────────────┘,\n",
       "  shape: (14, 3)\n",
       "  ┌─────────────────────────────────┬─────────────┬─────────────────┐\n",
       "  │ Properties                      ┆ Metric      ┆ Imperial        │\n",
       "  │ ---                             ┆ ---         ┆ ---             │\n",
       "  │ str                             ┆ str         ┆ str             │\n",
       "  ╞═════════════════════════════════╪═════════════╪═════════════════╡\n",
       "  │ Tensile strength                ┆ 685 MPa     ┆ 99400 psi       │\n",
       "  │ Yield strength                  ┆ 525 MPa     ┆ 76100 psi       │\n",
       "  │ Bulk modulus (typical for stee… ┆ 140 GPa     ┆ 20300 ksi       │\n",
       "  │ Shear modulus (typical for ste… ┆ 80.0 GPa    ┆ 11600 ksi       │\n",
       "  │ Elastic modulus                 ┆ 190-210 GPa ┆ 27557-30458 ksi │\n",
       "  │ …                               ┆ …           ┆ …               │\n",
       "  │ Hardness, Knoop (converted fro… ┆ 219         ┆ 219             │\n",
       "  │ Hardness, Rockwell B (converte… ┆ 92          ┆ 92              │\n",
       "  │ Hardness, Rockwell C (converte… ┆ 13          ┆ 13              │\n",
       "  │ Hardness, Vickers (converted f… ┆ 207         ┆ 207             │\n",
       "  │ Machinability (based on AISI 1… ┆ 45          ┆ 45              │\n",
       "  └─────────────────────────────────┴─────────────┴─────────────────┘,\n",
       "  shape: (2, 3)\n",
       "  ┌─────────────────────────────────┬───────────┬──────────────────────┐\n",
       "  │ Thermal Properties              ┆ Metric    ┆ Imperial             │\n",
       "  │ ---                             ┆ ---       ┆ ---                  │\n",
       "  │ str                             ┆ str       ┆ str                  │\n",
       "  ╞═════════════════════════════════╪═══════════╪══════════════════════╡\n",
       "  │ Thermal expansion co-efficient… ┆ 11 µm/m°C ┆ 6.11 µin/in°F        │\n",
       "  │ Thermal conductivity (typical … ┆ 49.8 W/mK ┆ 346 BTU in/hr.ft².°F │\n",
       "  └─────────────────────────────────┴───────────┴──────────────────────┘,\n",
       "  shape: (4, 5)\n",
       "  ┌───────────┬──────────────────┬───────────────────┬──────────────────┬─────────────────┐\n",
       "  │ AMS 5121  ┆ ASTM A29 (1095)  ┆ ASTM A713 (1095)  ┆ MIL S-7947       ┆ SAE J403 (1095) │\n",
       "  │ ---       ┆ ---              ┆ ---               ┆ ---              ┆ ---             │\n",
       "  │ str       ┆ str              ┆ str               ┆ str              ┆ str             │\n",
       "  ╞═══════════╪══════════════════╪═══════════════════╪══════════════════╪═════════════════╡\n",
       "  │ AMS 5122  ┆ ASTM A510 (1095) ┆ ASTM A830         ┆ MIL S-8559       ┆ SAE J412 (1095) │\n",
       "  │ AMS 5132  ┆ ASTM A576 (1095) ┆ DIN 1.1274        ┆ QQ S700 (C1095)  ┆ AMS 5121C       │\n",
       "  │ AMS 7304  ┆ ASTM A682 (1095) ┆ MIL S-16788 (C10) ┆ SAE J1397 (1095) ┆ AMS 5122C       │\n",
       "  │ AMS 5132D ┆                  ┆                   ┆                  ┆                 │\n",
       "  └───────────┴──────────────────┴───────────────────┴──────────────────┴─────────────────┘],\n",
       " 'AISI-SAE 5140': [shape: (7, 2)\n",
       "  ┌────────────────┬──────────────┐\n",
       "  │ Element        ┆ Content (%)  │\n",
       "  │ ---            ┆ ---          │\n",
       "  │ str            ┆ str          │\n",
       "  ╞════════════════╪══════════════╡\n",
       "  │ Iron, Fe       ┆ 97.395-98.07 │\n",
       "  │ Manganese, Mn  ┆ 0.700-0.900  │\n",
       "  │ Chromium, Cr   ┆ 0.700-0.900  │\n",
       "  │ Carbon, C      ┆ 0.380-0.430  │\n",
       "  │ Silicon, Si    ┆ 0.150-0.300  │\n",
       "  │ Sulfur, S      ┆ ≤ 0.0400     │\n",
       "  │ Phosphorous, P ┆ ≤ 0.0350     │\n",
       "  └────────────────┴──────────────┘,\n",
       "  shape: (1, 3)\n",
       "  ┌────────────┬────────────┬──────────────┐\n",
       "  │ Properties ┆ Metric     ┆ Imperial     │\n",
       "  │ ---        ┆ ---        ┆ ---          │\n",
       "  │ str        ┆ str        ┆ str          │\n",
       "  ╞════════════╪════════════╪══════════════╡\n",
       "  │ Density    ┆ 7.85 g/cm3 ┆ 0.284 lb/in³ │\n",
       "  └────────────┴────────────┴──────────────┘,\n",
       "  shape: (12, 3)\n",
       "  ┌─────────────────────────────────┬─────────────┬─────────────────┐\n",
       "  │ Properties                      ┆ Metric      ┆ Imperial        │\n",
       "  │ ---                             ┆ ---         ┆ ---             │\n",
       "  │ str                             ┆ str         ┆ str             │\n",
       "  ╞═════════════════════════════════╪═════════════╪═════════════════╡\n",
       "  │ Tensile strength                ┆ 570 MPa     ┆ 82700 psi       │\n",
       "  │ Yield strength                  ┆ 295 MPa     ┆ 42800 psi       │\n",
       "  │ Elastic modulus                 ┆ 190-210 GPa ┆ 27557-30458 ksi │\n",
       "  │ Bulk modulus (typical for stee… ┆ 140 GPa     ┆ 20300 ksi       │\n",
       "  │ Shear modulus (typical for ste… ┆ 80 GPa      ┆ 11600 ksi       │\n",
       "  │ …                               ┆ …           ┆ …               │\n",
       "  │ Hardness, Brinell               ┆ 167         ┆ 167             │\n",
       "  │ Hardness, Knoop (converted fro… ┆ 188         ┆ 188             │\n",
       "  │ Hardness, Rockwell B (converte… ┆ 85          ┆ 85              │\n",
       "  │ Hardness, Vickers (converted f… ┆ 175         ┆ 175             │\n",
       "  │ Machinability (annealed and co… ┆ 65          ┆ 65              │\n",
       "  └─────────────────────────────────┴─────────────┴─────────────────┘,\n",
       "  shape: (2, 3)\n",
       "  ┌─────────────────────────────────┬─────────────┬──────────────────────┐\n",
       "  │ Properties                      ┆ Metric      ┆ Imperial             │\n",
       "  │ ---                             ┆ ---         ┆ ---                  │\n",
       "  │ str                             ┆ str         ┆ str                  │\n",
       "  ╞═════════════════════════════════╪═════════════╪══════════════════════╡\n",
       "  │ Thermal conductivity            ┆ 44.6 W/mK   ┆ 310 BTU in/hr.ft².°F │\n",
       "  │ Thermal expansion co-efficient… ┆ 12.6 µm/m°C ┆ 7 µin/in°F           │\n",
       "  └─────────────────────────────────┴─────────────┴──────────────────────┘,\n",
       "  shape: (2, 6)\n",
       "  ┌──────────────┬───────────────┬───────────────┬───────────────┬────────────────┬─────────────┐\n",
       "  │ AFNOR 42 C 2 ┆ AFNOR 42 C 4  ┆ DIN 1.7035    ┆ UNI 40 Cr 4   ┆ UNI 41 Cr 4 KB ┆ JIS SCr 4 H │\n",
       "  │ ---          ┆ ---           ┆ ---           ┆ ---           ┆ ---            ┆ ---         │\n",
       "  │ str          ┆ str           ┆ str           ┆ str           ┆ str            ┆ str         │\n",
       "  ╞══════════════╪═══════════════╪═══════════════╪═══════════════╪════════════════╪═════════════╡\n",
       "  │ B.S. 2 S 117 ┆ B.S. 530 A 40 ┆ B.S. 530 H 40 ┆ B.S. 530 M 40 ┆ ASTM A322      ┆ ASTM A331   │\n",
       "  │ ASTM A505    ┆ ASTM A519     ┆ SAE J404      ┆ SAE J412      ┆ SAE J770       ┆             │\n",
       "  └──────────────┴───────────────┴───────────────┴───────────────┴────────────────┴─────────────┘],\n",
       " 'AISI 1055': [shape: (5, 2)\n",
       "  ┌────────────────┬─────────────┐\n",
       "  │ Element        ┆ Content (%) │\n",
       "  │ ---            ┆ ---         │\n",
       "  │ str            ┆ str         │\n",
       "  ╞════════════════╪═════════════╡\n",
       "  │ Iron, Fe       ┆ 98.41-98.9  │\n",
       "  │ Manganese, Mn  ┆ 0.60-0.90   │\n",
       "  │ Carbon, C      ┆ 0.50-0.60   │\n",
       "  │ Sulfur, S      ┆ ≤ 0.050     │\n",
       "  │ Phosphorous, P ┆ ≤ 0.040     │\n",
       "  └────────────────┴─────────────┘,\n",
       "  shape: (1, 3)\n",
       "  ┌────────────┬────────────┬──────────────┐\n",
       "  │ Properties ┆ Metric     ┆ Imperial     │\n",
       "  │ ---        ┆ ---        ┆ ---          │\n",
       "  │ str        ┆ str        ┆ str          │\n",
       "  ╞════════════╪════════════╪══════════════╡\n",
       "  │ Density    ┆ 7.85 g/cm3 ┆ 0.284 lb/in3 │\n",
       "  └────────────┴────────────┴──────────────┘,\n",
       "  shape: (14, 3)\n",
       "  ┌─────────────────────────────────┬─────────────┬─────────────────┐\n",
       "  │ Properties                      ┆ Metric      ┆ Imperial        │\n",
       "  │ ---                             ┆ ---         ┆ ---             │\n",
       "  │ str                             ┆ str         ┆ str             │\n",
       "  ╞═════════════════════════════════╪═════════════╪═════════════════╡\n",
       "  │ Tensile strength, ultimate      ┆ 660 MPa     ┆ 95700 psi       │\n",
       "  │ Tensile strength, yield         ┆ 560 MPa     ┆ 81200 psi       │\n",
       "  │ Modulus of elasticity           ┆ 190-210 GPa ┆ 29700-30458 ksi │\n",
       "  │ Bulk modulus (typical for stee… ┆ 140 GPa     ┆ 20300 ksi       │\n",
       "  │ Shear modulus (typical for ste… ┆ 80 GPa      ┆ 11600 ksi       │\n",
       "  │ …                               ┆ …           ┆ …               │\n",
       "  │ Hardness, Knoop (converted fro… ┆ 219         ┆ 219             │\n",
       "  │ Hardness, Rockwell B (converte… ┆ 92          ┆ 92              │\n",
       "  │ Hardness, Rockwell C (converte… ┆ 13          ┆ 13              │\n",
       "  │ Hardness, Vickers (converted f… ┆ 207         ┆ 207             │\n",
       "  │ Machinability (based on AISI 1… ┆ 55          ┆ 55              │\n",
       "  └─────────────────────────────────┴─────────────┴─────────────────┘,\n",
       "  shape: (2, 3)\n",
       "  ┌────────────────────────────────┬───────────┬──────────────────────┐\n",
       "  │ Properties                     ┆ Metric    ┆ Imperial             │\n",
       "  │ ---                            ┆ ---       ┆ ---                  │\n",
       "  │ str                            ┆ str       ┆ str                  │\n",
       "  ╞════════════════════════════════╪═══════════╪══════════════════════╡\n",
       "  │ Thermal expansion co-efficient ┆ 11 µm/m°C ┆ 6.11 µin/in°F        │\n",
       "  │ Thermal conductivity           ┆ 49.8 W/mK ┆ 346 BTU in/hr.ft2.°F │\n",
       "  └────────────────────────────────┴───────────┴──────────────────────┘]}"
      ]
     },
     "execution_count": 28,
     "metadata": {},
     "output_type": "execute_result"
    }
   ],
   "source": [
    "dict_steel_tables"
   ]
  },
  {
   "cell_type": "markdown",
   "metadata": {},
   "source": [
    "# Converting AZoM Scraped Data to one dataframe"
   ]
  },
  {
   "cell_type": "markdown",
   "metadata": {},
   "source": [
    "## Working with list of tables\n",
    "\n",
    "Must confirma all tables were sucesffuly made into polars tables\n",
    "\n",
    "Must reduce the numebr of tables to only those we are concerned with\n",
    "\n",
    "* Remove \"Other Designations\" tables, including those that did not get sucessfully converted to a polars dataframe (table 4)\n",
    "\n",
    "* Remove tables with properties that are not commonly present (thermal propterties table 3)\n",
    "\n",
    "* Remove elemental compositions, already present in the data (table 0)\n",
    "\n",
    "* Physical and mechanical properties are desired (tables 1,2)"
   ]
  },
  {
   "cell_type": "code",
   "execution_count": 29,
   "metadata": {},
   "outputs": [
    {
     "name": "stdout",
     "output_type": "stream",
     "text": [
      "All polars? True | 4 Tables | Steel: AISI-SAE 4037\n",
      "All polars? True | 4 Tables | Steel: AISI 6145\n",
      "All polars? True | 4 Tables | Steel: AISI 52100\n",
      "All polars? True | 5 Tables | Steel: AISI-SAE 4140\n",
      "All polars? False | 5 Tables | Steel: AISI-SAE 1035\n",
      "All polars? True | 0 Tables | Steel: AISI-SAE 9254\n",
      "All polars? False | 5 Tables | Steel: AISI-SAE 4340\n",
      "All polars? True | 3 Tables | Steel: AISI 1049\n",
      "All polars? True | 4 Tables | Steel: AISI-SAE 1038\n",
      "All polars? True | 4 Tables | Steel: AISI-SAE 1065\n",
      "All polars? True | 3 Tables | Steel: AISI 1074 Carbon Steel\n",
      "All polars? True | 4 Tables | Steel: AISI-SAE 1040\n",
      "All polars? True | 5 Tables | Steel: AISI 1030\n",
      "All polars? True | 4 Tables | Steel: AISI-SAE 1042\n",
      "All polars? True | 4 Tables | Steel: AISI 1090\n",
      "All polars? True | 5 Tables | Steel: AISI-SAE 1045\n",
      "All polars? True | 4 Tables | Steel: AISI-SAE 1050\n",
      "All polars? True | 4 Tables | Steel: AISI-SAE 4027\n",
      "All polars? True | 4 Tables | Steel: AISI 4640\n",
      "All polars? True | 4 Tables | Steel: AISI-SAE 1080\n",
      "All polars? True | 4 Tables | Steel: AISI 4047\n",
      "All polars? True | 5 Tables | Steel: AISI-SAE 1026\n",
      "All polars? True | 5 Tables | Steel: AISI-SAE 1030\n",
      "All polars? True | 5 Tables | Steel: AISI-SAE 6150\n",
      "All polars? True | 4 Tables | Steel: AISI-SAE 1335\n",
      "All polars? True | 4 Tables | Steel: AISI-SAE 5160\n",
      "All polars? True | 5 Tables | Steel: AISI 1095\n",
      "All polars? True | 5 Tables | Steel: AISI-SAE 5140\n",
      "All polars? True | 4 Tables | Steel: AISI 1055\n",
      "True\n"
     ]
    }
   ],
   "source": [
    "dict_steel_tables_keep = {}\n",
    "bool_check = True\n",
    "polars_check = True \n",
    "for steel, tables in dict_steel_tables.items():\n",
    "    all_polars = True\n",
    "    count_polars = 0\n",
    "    for table in tables:\n",
    "        if isinstance(table, pl.DataFrame): \n",
    "            count_polars += 1 \n",
    "    if count_polars != len(tables):\n",
    "        all_polars = False\n",
    "    if not (bool_check and all_polars):\n",
    "        bool_check = False\n",
    "    print(\"All polars?\", all_polars, '|', len(tables), \"Tables | Steel:\", steel)\n",
    "    dict_steel_tables_keep[steel] = tables[1:3]\n",
    "print(polars_check)"
   ]
  },
  {
   "cell_type": "markdown",
   "metadata": {},
   "source": [
    "### Check if all kept tables are good\n",
    "\n",
    "Confirm all are polars dataframes\n",
    "\n",
    "Look at the shape of all of them and determine which will be limiting"
   ]
  },
  {
   "cell_type": "code",
   "execution_count": 30,
   "metadata": {},
   "outputs": [
    {
     "name": "stdout",
     "output_type": "stream",
     "text": [
      "All polars? True | 2 Tables | Steel: AISI-SAE 4037\n",
      "Physical properties: (1, 3) | Properties head(1) shape: (1, 1)\n",
      "┌────────────┐\n",
      "│ Properties │\n",
      "│ ---        │\n",
      "│ str        │\n",
      "╞════════════╡\n",
      "│ Density    │\n",
      "└────────────┘\n",
      "Mechanical propsshape: (10, 3) | Properties head(1) shape: (1, 1)\n",
      "┌─────────────────┐\n",
      "│ Properties      │\n",
      "│ ---             │\n",
      "│ str             │\n",
      "╞═════════════════╡\n",
      "│ Elastic modulus │\n",
      "└─────────────────┘\n",
      "All polars? True | 2 Tables | Steel: AISI 6145\n",
      "Physical properties: (1, 3) | Properties head(1) shape: (1, 1)\n",
      "┌────────────┐\n",
      "│ Properties │\n",
      "│ ---        │\n",
      "│ str        │\n",
      "╞════════════╡\n",
      "│ Density    │\n",
      "└────────────┘\n",
      "Mechanical propsshape: (8, 3) | Properties head(1) shape: (1, 1)\n",
      "┌──────────────────┐\n",
      "│ Properties       │\n",
      "│ ---              │\n",
      "│ str              │\n",
      "╞══════════════════╡\n",
      "│ Tensile strength │\n",
      "└──────────────────┘\n",
      "All polars? True | 2 Tables | Steel: AISI 52100\n",
      "Physical properties: (2, 3) | Properties head(1) shape: (1, 1)\n",
      "┌────────────┐\n",
      "│ Properties │\n",
      "│ ---        │\n",
      "│ str        │\n",
      "╞════════════╡\n",
      "│ Density    │\n",
      "└────────────┘\n",
      "Mechanical propsshape: (12, 3) | Properties head(1) shape: (1, 1)\n",
      "┌─────────────────────────────────┐\n",
      "│ Properties                      │\n",
      "│ ---                             │\n",
      "│ str                             │\n",
      "╞═════════════════════════════════╡\n",
      "│ Bulk modulus (typical for stee… │\n",
      "└─────────────────────────────────┘\n",
      "All polars? True | 2 Tables | Steel: AISI-SAE 4140\n",
      "Physical properties: (2, 3) | Properties head(1) shape: (1, 1)\n",
      "┌────────────┐\n",
      "│ Properties │\n",
      "│ ---        │\n",
      "│ str        │\n",
      "╞════════════╡\n",
      "│ Density    │\n",
      "└────────────┘\n",
      "Mechanical propsshape: (13, 3) | Properties head(1) shape: (1, 1)\n",
      "┌──────────────────┐\n",
      "│ Properties       │\n",
      "│ ---              │\n",
      "│ str              │\n",
      "╞══════════════════╡\n",
      "│ Tensile strength │\n",
      "└──────────────────┘\n",
      "All polars? True | 2 Tables | Steel: AISI-SAE 1035\n",
      "Physical properties: (1, 3) | Properties head(1) shape: (1, 1)\n",
      "┌────────────┐\n",
      "│ Properties │\n",
      "│ ---        │\n",
      "│ str        │\n",
      "╞════════════╡\n",
      "│ Density    │\n",
      "└────────────┘\n",
      "Mechanical propsshape: (13, 3) | Properties head(1) shape: (1, 1)\n",
      "┌────────────────────────────┐\n",
      "│ Properties                 │\n",
      "│ ---                        │\n",
      "│ str                        │\n",
      "╞════════════════════════════╡\n",
      "│ Tensile strength, ultimate │\n",
      "└────────────────────────────┘\n",
      "All polars? True | 0 Tables | Steel: AISI-SAE 9254\n",
      "All polars? True | 2 Tables | Steel: AISI-SAE 4340\n",
      "Physical properties: (2, 3) | Properties head(1) shape: (1, 1)\n",
      "┌────────────┐\n",
      "│ Properties │\n",
      "│ ---        │\n",
      "│ str        │\n",
      "╞════════════╡\n",
      "│ Density    │\n",
      "└────────────┘\n",
      "Mechanical propsshape: (14, 3) | Properties head(1) shape: (1, 1)\n",
      "┌──────────────────┐\n",
      "│ Properties       │\n",
      "│ ---              │\n",
      "│ str              │\n",
      "╞══════════════════╡\n",
      "│ Tensile strength │\n",
      "└──────────────────┘\n",
      "All polars? True | 2 Tables | Steel: AISI 1049\n",
      "Physical properties: (1, 3) | Properties head(1) shape: (1, 1)\n",
      "┌────────────┐\n",
      "│ Properties │\n",
      "│ ---        │\n",
      "│ str        │\n",
      "╞════════════╡\n",
      "│ Density    │\n",
      "└────────────┘\n",
      "Mechanical propsshape: (2, 3) | Properties head(1) shape: (1, 1)\n",
      "┌─────────────────┐\n",
      "│ Properties      │\n",
      "│ ---             │\n",
      "│ str             │\n",
      "╞═════════════════╡\n",
      "│ Elastic modulus │\n",
      "└─────────────────┘\n",
      "All polars? True | 2 Tables | Steel: AISI-SAE 1038\n",
      "Physical properties: (1, 3) | Properties head(1) shape: (1, 1)\n",
      "┌────────────┐\n",
      "│ Properties │\n",
      "│ ---        │\n",
      "│ str        │\n",
      "╞════════════╡\n",
      "│ Density    │\n",
      "└────────────┘\n",
      "Mechanical propsshape: (13, 3) | Properties head(1) shape: (1, 1)\n",
      "┌────────────────────────────┐\n",
      "│ Properties                 │\n",
      "│ ---                        │\n",
      "│ str                        │\n",
      "╞════════════════════════════╡\n",
      "│ Tensile strength, ultimate │\n",
      "└────────────────────────────┘\n",
      "All polars? True | 2 Tables | Steel: AISI-SAE 1065\n",
      "Physical properties: (1, 3) | Properties head(1) shape: (1, 1)\n",
      "┌────────────┐\n",
      "│ Properties │\n",
      "│ ---        │\n",
      "│ str        │\n",
      "╞════════════╡\n",
      "│ Density    │\n",
      "└────────────┘\n",
      "Mechanical propsshape: (14, 3) | Properties head(1) shape: (1, 1)\n",
      "┌────────────────────────────┐\n",
      "│ Properties                 │\n",
      "│ ---                        │\n",
      "│ str                        │\n",
      "╞════════════════════════════╡\n",
      "│ Tensile strength, ultimate │\n",
      "└────────────────────────────┘\n",
      "All polars? True | 2 Tables | Steel: AISI 1074 Carbon Steel\n",
      "Physical properties: (1, 3) | Properties head(1) shape: (1, 1)\n",
      "┌────────────┐\n",
      "│ Properties │\n",
      "│ ---        │\n",
      "│ str        │\n",
      "╞════════════╡\n",
      "│ Density    │\n",
      "└────────────┘\n",
      "Mechanical propsshape: (7, 3) | Properties head(1) shape: (1, 1)\n",
      "┌──────────────────┐\n",
      "│ Properties       │\n",
      "│ ---              │\n",
      "│ str              │\n",
      "╞══════════════════╡\n",
      "│ Tensile strength │\n",
      "└──────────────────┘\n",
      "All polars? True | 2 Tables | Steel: AISI-SAE 1040\n",
      "Physical properties: (2, 3) | Properties head(1) shape: (1, 1)\n",
      "┌─────────────────────────────────┐\n",
      "│ Properties                      │\n",
      "│ ---                             │\n",
      "│ str                             │\n",
      "╞═════════════════════════════════╡\n",
      "│ Density (chemical composition … │\n",
      "└─────────────────────────────────┘\n",
      "Mechanical propsshape: (16, 3) | Properties head(1) shape: (1, 1)\n",
      "┌──────────────────┐\n",
      "│ Properties       │\n",
      "│ ---              │\n",
      "│ str              │\n",
      "╞══════════════════╡\n",
      "│ Tensile strength │\n",
      "└──────────────────┘\n",
      "All polars? True | 2 Tables | Steel: AISI 1030\n",
      "Physical properties: (2, 3) | Properties head(1) shape: (1, 1)\n",
      "┌────────────┐\n",
      "│ Properties │\n",
      "│ ---        │\n",
      "│ str        │\n",
      "╞════════════╡\n",
      "│ Density    │\n",
      "└────────────┘\n",
      "Mechanical propsshape: (13, 3) | Properties head(1) shape: (1, 1)\n",
      "┌────────────────────────────┐\n",
      "│ Properties                 │\n",
      "│ ---                        │\n",
      "│ str                        │\n",
      "╞════════════════════════════╡\n",
      "│ Tensile strength, ultimate │\n",
      "└────────────────────────────┘\n",
      "All polars? True | 2 Tables | Steel: AISI-SAE 1042\n",
      "Physical properties: (1, 3) | Properties head(1) shape: (1, 1)\n",
      "┌────────────┐\n",
      "│ Properties │\n",
      "│ ---        │\n",
      "│ str        │\n",
      "╞════════════╡\n",
      "│ Density    │\n",
      "└────────────┘\n",
      "Mechanical propsshape: (2, 3) | Properties head(1) shape: (1, 1)\n",
      "┌─────────────────┐\n",
      "│ Properties      │\n",
      "│ ---             │\n",
      "│ str             │\n",
      "╞═════════════════╡\n",
      "│ Elastic modulus │\n",
      "└─────────────────┘\n",
      "All polars? True | 2 Tables | Steel: AISI 1090\n",
      "Physical properties: (1, 3) | Properties head(1) shape: (1, 1)\n",
      "┌────────────┐\n",
      "│ Properties │\n",
      "│ ---        │\n",
      "│ str        │\n",
      "╞════════════╡\n",
      "│ Density    │\n",
      "└────────────┘\n",
      "Mechanical propsshape: (13, 3) | Properties head(1) shape: (1, 1)\n",
      "┌──────────────────┐\n",
      "│ Properties       │\n",
      "│ ---              │\n",
      "│ str              │\n",
      "╞══════════════════╡\n",
      "│ Tensile strength │\n",
      "└──────────────────┘\n",
      "All polars? True | 2 Tables | Steel: AISI-SAE 1045\n",
      "Physical properties: (1, 3) | Properties head(1) shape: (1, 1)\n",
      "┌────────────┐\n",
      "│ Properties │\n",
      "│ ---        │\n",
      "│ str        │\n",
      "╞════════════╡\n",
      "│ Density    │\n",
      "└────────────┘\n",
      "Mechanical propsshape: (10, 3) | Properties head(1) shape: (1, 1)\n",
      "┌──────────────────┐\n",
      "│ Properties       │\n",
      "│ ---              │\n",
      "│ str              │\n",
      "╞══════════════════╡\n",
      "│ Tensile strength │\n",
      "└──────────────────┘\n",
      "All polars? True | 2 Tables | Steel: AISI-SAE 1050\n",
      "Physical properties: (1, 3) | Properties head(1) shape: (1, 1)\n",
      "┌────────────┐\n",
      "│ Properties │\n",
      "│ ---        │\n",
      "│ str        │\n",
      "╞════════════╡\n",
      "│ Density    │\n",
      "└────────────┘\n",
      "Mechanical propsshape: (14, 3) | Properties head(1) shape: (1, 1)\n",
      "┌──────────────────┐\n",
      "│ Properties       │\n",
      "│ ---              │\n",
      "│ str              │\n",
      "╞══════════════════╡\n",
      "│ Tensile strength │\n",
      "└──────────────────┘\n",
      "All polars? True | 2 Tables | Steel: AISI-SAE 4027\n",
      "Physical properties: (1, 3) | Properties head(1) shape: (1, 1)\n",
      "┌────────────┐\n",
      "│ Properties │\n",
      "│ ---        │\n",
      "│ str        │\n",
      "╞════════════╡\n",
      "│ Density    │\n",
      "└────────────┘\n",
      "Mechanical propsshape: (13, 3) | Properties head(1) shape: (1, 1)\n",
      "┌──────────────────┐\n",
      "│ Properties       │\n",
      "│ ---              │\n",
      "│ str              │\n",
      "╞══════════════════╡\n",
      "│ Tensile strength │\n",
      "└──────────────────┘\n",
      "All polars? True | 2 Tables | Steel: AISI 4640\n",
      "Physical properties: (1, 3) | Properties head(1) shape: (1, 1)\n",
      "┌────────────┐\n",
      "│ Properties │\n",
      "│ ---        │\n",
      "│ str        │\n",
      "╞════════════╡\n",
      "│ Density    │\n",
      "└────────────┘\n",
      "Mechanical propsshape: (8, 3) | Properties head(1) shape: (1, 1)\n",
      "┌──────────────────┐\n",
      "│ Properties       │\n",
      "│ ---              │\n",
      "│ str              │\n",
      "╞══════════════════╡\n",
      "│ Tensile strength │\n",
      "└──────────────────┘\n",
      "All polars? True | 2 Tables | Steel: AISI-SAE 1080\n",
      "Physical properties: (1, 3) | Properties head(1) shape: (1, 1)\n",
      "┌────────────┐\n",
      "│ Properties │\n",
      "│ ---        │\n",
      "│ str        │\n",
      "╞════════════╡\n",
      "│ Density    │\n",
      "└────────────┘\n",
      "Mechanical propsshape: (2, 3) | Properties head(1) shape: (1, 1)\n",
      "┌─────────────────┐\n",
      "│ Properties      │\n",
      "│ ---             │\n",
      "│ str             │\n",
      "╞═════════════════╡\n",
      "│ Elastic modulus │\n",
      "└─────────────────┘\n",
      "All polars? True | 2 Tables | Steel: AISI 4047\n",
      "Physical properties: (1, 3) | Properties head(1) shape: (1, 1)\n",
      "┌────────────┐\n",
      "│ Properties │\n",
      "│ ---        │\n",
      "│ str        │\n",
      "╞════════════╡\n",
      "│ Density    │\n",
      "└────────────┘\n",
      "Mechanical propsshape: (10, 3) | Properties head(1) shape: (1, 1)\n",
      "┌─────────────────┐\n",
      "│ Properties      │\n",
      "│ ---             │\n",
      "│ str             │\n",
      "╞═════════════════╡\n",
      "│ Elastic modulus │\n",
      "└─────────────────┘\n",
      "All polars? True | 2 Tables | Steel: AISI-SAE 1026\n",
      "Physical properties: (1, 3) | Properties head(1) shape: (1, 1)\n",
      "┌────────────┐\n",
      "│ Properties │\n",
      "│ ---        │\n",
      "│ str        │\n",
      "╞════════════╡\n",
      "│ Density    │\n",
      "└────────────┘\n",
      "Mechanical propsshape: (13, 3) | Properties head(1) shape: (1, 1)\n",
      "┌──────────────────┐\n",
      "│ Properties       │\n",
      "│ ---              │\n",
      "│ str              │\n",
      "╞══════════════════╡\n",
      "│ Tensile strength │\n",
      "└──────────────────┘\n",
      "All polars? True | 2 Tables | Steel: AISI-SAE 1030\n",
      "Physical properties: (2, 3) | Properties head(1) shape: (1, 1)\n",
      "┌────────────┐\n",
      "│ Properties │\n",
      "│ ---        │\n",
      "│ str        │\n",
      "╞════════════╡\n",
      "│ Density    │\n",
      "└────────────┘\n",
      "Mechanical propsshape: (13, 3) | Properties head(1) shape: (1, 1)\n",
      "┌────────────────────────────┐\n",
      "│ Properties                 │\n",
      "│ ---                        │\n",
      "│ str                        │\n",
      "╞════════════════════════════╡\n",
      "│ Tensile strength, ultimate │\n",
      "└────────────────────────────┘\n",
      "All polars? True | 2 Tables | Steel: AISI-SAE 6150\n",
      "Physical properties: (1, 3) | Properties head(1) shape: (1, 1)\n",
      "┌────────────┐\n",
      "│ Properties │\n",
      "│ ---        │\n",
      "│ str        │\n",
      "╞════════════╡\n",
      "│ Density    │\n",
      "└────────────┘\n",
      "Mechanical propsshape: (14, 3) | Properties head(1) shape: (1, 1)\n",
      "┌────────────────────────────┐\n",
      "│ Properties                 │\n",
      "│ ---                        │\n",
      "│ str                        │\n",
      "╞════════════════════════════╡\n",
      "│ Tensile strength, ultimate │\n",
      "└────────────────────────────┘\n",
      "All polars? True | 2 Tables | Steel: AISI-SAE 1335\n",
      "Physical properties: (1, 3) | Properties head(1) shape: (1, 1)\n",
      "┌────────────┐\n",
      "│ Properties │\n",
      "│ ---        │\n",
      "│ str        │\n",
      "╞════════════╡\n",
      "│ Density    │\n",
      "└────────────┘\n",
      "Mechanical propsshape: (10, 3) | Properties head(1) shape: (1, 1)\n",
      "┌─────────────────────────────────┐\n",
      "│ Properties                      │\n",
      "│ ---                             │\n",
      "│ str                             │\n",
      "╞═════════════════════════════════╡\n",
      "│ Bulk modulus (typical for stee… │\n",
      "└─────────────────────────────────┘\n",
      "All polars? True | 2 Tables | Steel: AISI-SAE 5160\n",
      "Physical properties: (1, 3) | Properties head(1) shape: (1, 1)\n",
      "┌────────────┐\n",
      "│ Properties │\n",
      "│ ---        │\n",
      "│ str        │\n",
      "╞════════════╡\n",
      "│ Density    │\n",
      "└────────────┘\n",
      "Mechanical propsshape: (13, 3) | Properties head(1) shape: (1, 1)\n",
      "┌────────────────────────────┐\n",
      "│ Properties                 │\n",
      "│ ---                        │\n",
      "│ str                        │\n",
      "╞════════════════════════════╡\n",
      "│ Tensile strength, ultimate │\n",
      "└────────────────────────────┘\n",
      "All polars? True | 2 Tables | Steel: AISI 1095\n",
      "Physical properties: (2, 3) | Properties head(1) shape: (1, 1)\n",
      "┌────────────┐\n",
      "│ Properties │\n",
      "│ ---        │\n",
      "│ str        │\n",
      "╞════════════╡\n",
      "│ Density    │\n",
      "└────────────┘\n",
      "Mechanical propsshape: (14, 3) | Properties head(1) shape: (1, 1)\n",
      "┌──────────────────┐\n",
      "│ Properties       │\n",
      "│ ---              │\n",
      "│ str              │\n",
      "╞══════════════════╡\n",
      "│ Tensile strength │\n",
      "└──────────────────┘\n",
      "All polars? True | 2 Tables | Steel: AISI-SAE 5140\n",
      "Physical properties: (1, 3) | Properties head(1) shape: (1, 1)\n",
      "┌────────────┐\n",
      "│ Properties │\n",
      "│ ---        │\n",
      "│ str        │\n",
      "╞════════════╡\n",
      "│ Density    │\n",
      "└────────────┘\n",
      "Mechanical propsshape: (12, 3) | Properties head(1) shape: (1, 1)\n",
      "┌──────────────────┐\n",
      "│ Properties       │\n",
      "│ ---              │\n",
      "│ str              │\n",
      "╞══════════════════╡\n",
      "│ Tensile strength │\n",
      "└──────────────────┘\n",
      "All polars? True | 2 Tables | Steel: AISI 1055\n",
      "Physical properties: (1, 3) | Properties head(1) shape: (1, 1)\n",
      "┌────────────┐\n",
      "│ Properties │\n",
      "│ ---        │\n",
      "│ str        │\n",
      "╞════════════╡\n",
      "│ Density    │\n",
      "└────────────┘\n",
      "Mechanical propsshape: (14, 3) | Properties head(1) shape: (1, 1)\n",
      "┌────────────────────────────┐\n",
      "│ Properties                 │\n",
      "│ ---                        │\n",
      "│ str                        │\n",
      "╞════════════════════════════╡\n",
      "│ Tensile strength, ultimate │\n",
      "└────────────────────────────┘\n",
      "All Polars? True\n"
     ]
    }
   ],
   "source": [
    "dict_phys_props = {}\n",
    "dict_mech_props = {}\n",
    "\n",
    "polars_check = True \n",
    "for steel, tables in dict_steel_tables_keep.items():\n",
    "    try:\n",
    "        all_polars = True\n",
    "        count_polars = 0\n",
    "        for table in tables:\n",
    "            if isinstance(table, pl.DataFrame): \n",
    "                count_polars += 1 \n",
    "        if count_polars != len(tables):\n",
    "            all_polars = False\n",
    "        if not (bool_check and all_polars):\n",
    "            bool_check = False\n",
    "        print(\"All polars?\", all_polars, '|', len(tables), \"Tables | Steel:\", steel)\n",
    "\n",
    "        phys_props = tables[0]\n",
    "        mech_props = tables[1]\n",
    "        print(\"Physical properties:\", phys_props.shape, \"| Properties head(1)\", phys_props.select(pl.col('Properties').head(1)) )\n",
    "        print(\"Mechanical propsshape:\", mech_props.shape, \"| Properties head(1)\", mech_props.select(pl.col('Properties').head(1)) )\n",
    "        dict_phys_props[steel] = phys_props\n",
    "        dict_mech_props[steel] = mech_props\n",
    "    except:\n",
    "        dict_phys_props[steel] = pl.DataFrame({'Properties' : [], 'Metric' : []})\n",
    "        dict_mech_props[steel] = pl.DataFrame({'Properties' : [], 'Metric' : []})\n",
    "\n",
    "print(\"All Polars?\", polars_check)"
   ]
  },
  {
   "cell_type": "markdown",
   "metadata": {},
   "source": [
    "# Filter for complete data, and select unit standard\n",
    "\n",
    "Kpep only property and metric column from both sets of tables\n",
    "\n",
    "Find which properties are present in all tables of each type"
   ]
  },
  {
   "cell_type": "code",
   "execution_count": 31,
   "metadata": {},
   "outputs": [
    {
     "data": {
      "text/html": [
       "<div><style>\n",
       ".dataframe > thead > tr,\n",
       ".dataframe > tbody > tr {\n",
       "  text-align: right;\n",
       "  white-space: pre-wrap;\n",
       "}\n",
       "</style>\n",
       "<small>shape: (1, 2)</small><table border=\"1\" class=\"dataframe\"><thead><tr><th>Properties</th><th>Metric</th></tr><tr><td>str</td><td>str</td></tr></thead><tbody><tr><td>&quot;Density&quot;</td><td>&quot;7.85 g/cm3&quot;</td></tr></tbody></table></div>"
      ],
      "text/plain": [
       "shape: (1, 2)\n",
       "┌────────────┬────────────┐\n",
       "│ Properties ┆ Metric     │\n",
       "│ ---        ┆ ---        │\n",
       "│ str        ┆ str        │\n",
       "╞════════════╪════════════╡\n",
       "│ Density    ┆ 7.85 g/cm3 │\n",
       "└────────────┴────────────┘"
      ]
     },
     "execution_count": 31,
     "metadata": {},
     "output_type": "execute_result"
    }
   ],
   "source": [
    "def remove_imperial(property_dict):\n",
    "    new_dict = {}\n",
    "    for key, table in property_dict.items():\n",
    "        new_dict[key] = table.select([\"Properties\", \"Metric\"])\n",
    "    return new_dict\n",
    "\n",
    "dict_phys_props =  remove_imperial(dict_phys_props)\n",
    "dict_mech_props = remove_imperial(dict_mech_props)\n",
    "\n",
    "\n",
    "dict_phys_props['AISI-SAE 1050']"
   ]
  },
  {
   "cell_type": "markdown",
   "metadata": {},
   "source": [
    "# Properties to keep\n",
    "\n",
    "Only properties present in all metals are the following:\n",
    "\n",
    "Physical\n",
    "* Density\n",
    "\n",
    "Mechanical\n",
    "* Elastic modulus\n",
    "* Poisson's ratio"
   ]
  },
  {
   "cell_type": "markdown",
   "metadata": {},
   "source": [
    "### Treat 2 values that do not have spaces seperating the units from the digits"
   ]
  },
  {
   "cell_type": "code",
   "execution_count": 32,
   "metadata": {},
   "outputs": [
    {
     "name": "stdout",
     "output_type": "stream",
     "text": [
      "7.7-8.03g/cm3\n",
      "200GPa\n"
     ]
    }
   ],
   "source": [
    "print(dict_phys_props['AISI 1074 Carbon Steel'][0, \"Metric\"])\n",
    "print(dict_mech_props['AISI-SAE 1065'][2, \"Metric\"])"
   ]
  },
  {
   "cell_type": "code",
   "execution_count": 33,
   "metadata": {},
   "outputs": [
    {
     "data": {
      "text/html": [
       "<div><style>\n",
       ".dataframe > thead > tr,\n",
       ".dataframe > tbody > tr {\n",
       "  text-align: right;\n",
       "  white-space: pre-wrap;\n",
       "}\n",
       "</style>\n",
       "<small>shape: (14, 2)</small><table border=\"1\" class=\"dataframe\"><thead><tr><th>Properties</th><th>Metric</th></tr><tr><td>str</td><td>str</td></tr></thead><tbody><tr><td>&quot;Tensile strength, ultimate&quot;</td><td>&quot;635 MPa&quot;</td></tr><tr><td>&quot;Tensile strength, yield&quot;</td><td>&quot;490 MPa&quot;</td></tr><tr><td>&quot;Modulus of elasticity&quot;</td><td>&quot;200 GPa&quot;</td></tr><tr><td>&quot;Bulk modulus (typical for stee…</td><td>&quot;140 GPa&quot;</td></tr><tr><td>&quot;Shear modulus (typical for ste…</td><td>&quot;80 GPa&quot;</td></tr><tr><td>&hellip;</td><td>&hellip;</td></tr><tr><td>&quot;Hardness, Knoop (converted fro…</td><td>&quot;209&quot;</td></tr><tr><td>&quot;Hardness, Rockwell B (converte…</td><td>&quot;90&quot;</td></tr><tr><td>&quot;Hardness, Rockwell C (converte…</td><td>&quot;10&quot;</td></tr><tr><td>&quot;Hardness, Vickers (converted f…</td><td>&quot;196&quot;</td></tr><tr><td>&quot;Machinability (based on AISI 1…</td><td>&quot;60&quot;</td></tr></tbody></table></div>"
      ],
      "text/plain": [
       "shape: (14, 2)\n",
       "┌─────────────────────────────────┬─────────┐\n",
       "│ Properties                      ┆ Metric  │\n",
       "│ ---                             ┆ ---     │\n",
       "│ str                             ┆ str     │\n",
       "╞═════════════════════════════════╪═════════╡\n",
       "│ Tensile strength, ultimate      ┆ 635 MPa │\n",
       "│ Tensile strength, yield         ┆ 490 MPa │\n",
       "│ Modulus of elasticity           ┆ 200 GPa │\n",
       "│ Bulk modulus (typical for stee… ┆ 140 GPa │\n",
       "│ Shear modulus (typical for ste… ┆ 80 GPa  │\n",
       "│ …                               ┆ …       │\n",
       "│ Hardness, Knoop (converted fro… ┆ 209     │\n",
       "│ Hardness, Rockwell B (converte… ┆ 90      │\n",
       "│ Hardness, Rockwell C (converte… ┆ 10      │\n",
       "│ Hardness, Vickers (converted f… ┆ 196     │\n",
       "│ Machinability (based on AISI 1… ┆ 60      │\n",
       "└─────────────────────────────────┴─────────┘"
      ]
     },
     "execution_count": 33,
     "metadata": {},
     "output_type": "execute_result"
    }
   ],
   "source": [
    "#fix formatting in single cell. Did not incude a space \n",
    "# Could handle with regex, but onyl 2 errors are present so manual handling suffices\n",
    "# The project data has fixed scope, so this is acceptable.\n",
    "# arrives as '7.7-8.03g/cm3'\n",
    "dict_phys_props['AISI 1074 Carbon Steel'][0, \"Metric\"] = '7.7-8.03 g/cm3'\n",
    "# arrives as '200GPa'\n",
    "dict_mech_props['AISI-SAE 1065'][2, \"Metric\"] = '200 GPa'\n",
    "dict_mech_props['AISI-SAE 1065']"
   ]
  },
  {
   "cell_type": "markdown",
   "metadata": {},
   "source": [
    "## Process Density into a df"
   ]
  },
  {
   "cell_type": "code",
   "execution_count": 34,
   "metadata": {},
   "outputs": [
    {
     "name": "stdout",
     "output_type": "stream",
     "text": [
      "Failed on AISI-SAE 9254\n"
     ]
    }
   ],
   "source": [
    "s_steel = pl.Series(name = 'steel', dtype= pl.String)\n",
    "s_density = pl.Series(name = 'density', dtype= pl.String)\n",
    "s_unit = pl.Series(name = 'units_density', dtype= pl.String)\n",
    "\n",
    "for steel, table in dict_phys_props.items():\n",
    "    try:\n",
    "        #select only the  cell of interest\n",
    "        df_density = table.filter(pl.col('Properties').str.contains(\"Density\"))['Metric'].str.split(' ')\n",
    "        density = df_density.list.get(0)\n",
    "        unit = df_density.list.get(1)\n",
    "        # Make a series of all 3\n",
    "        s_steel.extend(pl.Series(name = 'steel', values = [steel]))\n",
    "        s_density = s_density.extend(density)\n",
    "        s_unit = s_unit.extend(unit)\n",
    "    except:\n",
    "        print(\"Failed on\", steel)"
   ]
  },
  {
   "cell_type": "code",
   "execution_count": 35,
   "metadata": {},
   "outputs": [
    {
     "data": {
      "text/html": [
       "<div><style>\n",
       ".dataframe > thead > tr,\n",
       ".dataframe > tbody > tr {\n",
       "  text-align: right;\n",
       "  white-space: pre-wrap;\n",
       "}\n",
       "</style>\n",
       "<small>shape: (28, 3)</small><table border=\"1\" class=\"dataframe\"><thead><tr><th>steel</th><th>density</th><th>units_density</th></tr><tr><td>str</td><td>str</td><td>str</td></tr></thead><tbody><tr><td>&quot;AISI-SAE 4037&quot;</td><td>&quot;7.85&quot;</td><td>&quot;g/cm3&quot;</td></tr><tr><td>&quot;AISI 6145&quot;</td><td>&quot;7.75&quot;</td><td>&quot;g/cm3&quot;</td></tr><tr><td>&quot;AISI 52100&quot;</td><td>&quot;7.81&quot;</td><td>&quot;g/cm3&quot;</td></tr><tr><td>&quot;AISI-SAE 4140&quot;</td><td>&quot;7.85&quot;</td><td>&quot;g/cm3&quot;</td></tr><tr><td>&quot;AISI-SAE 1035&quot;</td><td>&quot;7.85&quot;</td><td>&quot;g/cm3&quot;</td></tr><tr><td>&hellip;</td><td>&hellip;</td><td>&hellip;</td></tr><tr><td>&quot;AISI-SAE 1335&quot;</td><td>&quot;7.87&quot;</td><td>&quot;g/cm3&quot;</td></tr><tr><td>&quot;AISI-SAE 5160&quot;</td><td>&quot;7.85&quot;</td><td>&quot;g/cm3&quot;</td></tr><tr><td>&quot;AISI 1095&quot;</td><td>&quot;7.85&quot;</td><td>&quot;g/cm3&quot;</td></tr><tr><td>&quot;AISI-SAE 5140&quot;</td><td>&quot;7.85&quot;</td><td>&quot;g/cm3&quot;</td></tr><tr><td>&quot;AISI 1055&quot;</td><td>&quot;7.85&quot;</td><td>&quot;g/cm3&quot;</td></tr></tbody></table></div>"
      ],
      "text/plain": [
       "shape: (28, 3)\n",
       "┌───────────────┬─────────┬───────────────┐\n",
       "│ steel         ┆ density ┆ units_density │\n",
       "│ ---           ┆ ---     ┆ ---           │\n",
       "│ str           ┆ str     ┆ str           │\n",
       "╞═══════════════╪═════════╪═══════════════╡\n",
       "│ AISI-SAE 4037 ┆ 7.85    ┆ g/cm3         │\n",
       "│ AISI 6145     ┆ 7.75    ┆ g/cm3         │\n",
       "│ AISI 52100    ┆ 7.81    ┆ g/cm3         │\n",
       "│ AISI-SAE 4140 ┆ 7.85    ┆ g/cm3         │\n",
       "│ AISI-SAE 1035 ┆ 7.85    ┆ g/cm3         │\n",
       "│ …             ┆ …       ┆ …             │\n",
       "│ AISI-SAE 1335 ┆ 7.87    ┆ g/cm3         │\n",
       "│ AISI-SAE 5160 ┆ 7.85    ┆ g/cm3         │\n",
       "│ AISI 1095     ┆ 7.85    ┆ g/cm3         │\n",
       "│ AISI-SAE 5140 ┆ 7.85    ┆ g/cm3         │\n",
       "│ AISI 1055     ┆ 7.85    ┆ g/cm3         │\n",
       "└───────────────┴─────────┴───────────────┘"
      ]
     },
     "execution_count": 35,
     "metadata": {},
     "output_type": "execute_result"
    }
   ],
   "source": [
    "df_steel_properties = pl.DataFrame([s_steel, s_density, s_unit])\n",
    "df_steel_properties"
   ]
  },
  {
   "cell_type": "markdown",
   "metadata": {},
   "source": [
    "## Process mechanical properties"
   ]
  },
  {
   "cell_type": "code",
   "execution_count": 36,
   "metadata": {},
   "outputs": [],
   "source": [
    "def grab_property(table, property):\n",
    "    s_result = table.filter(pl.col('Properties')\\\n",
    "                            .str.to_lowercase()\\\n",
    "                                .str.contains(property))\\\n",
    "                                ['Metric']\n",
    "    return s_result"
   ]
  },
  {
   "cell_type": "code",
   "execution_count": 37,
   "metadata": {},
   "outputs": [],
   "source": [
    "def get_oobT(df, index):\n",
    "    return df.list.get(index, null_on_oob=True)"
   ]
  },
  {
   "cell_type": "code",
   "execution_count": 38,
   "metadata": {},
   "outputs": [
    {
     "name": "stdout",
     "output_type": "stream",
     "text": [
      "Failed on AISI-SAE 4037\n",
      "Failed on AISI 52100\n",
      "Failed on AISI-SAE 9254\n",
      "Failed on AISI 1049\n",
      "Failed on AISI-SAE 1042\n",
      "Failed on AISI-SAE 1080\n",
      "Failed on AISI 4047\n",
      "Failed on AISI-SAE 1335\n"
     ]
    },
    {
     "data": {
      "text/html": [
       "<div><style>\n",
       ".dataframe > thead > tr,\n",
       ".dataframe > tbody > tr {\n",
       "  text-align: right;\n",
       "  white-space: pre-wrap;\n",
       "}\n",
       "</style>\n",
       "<small>shape: (8, 2)</small><table border=\"1\" class=\"dataframe\"><thead><tr><th>steel</th><th>AZoM-Successful</th></tr><tr><td>str</td><td>bool</td></tr></thead><tbody><tr><td>&quot;AISI-SAE 4037&quot;</td><td>false</td></tr><tr><td>&quot;AISI 52100&quot;</td><td>false</td></tr><tr><td>&quot;AISI-SAE 9254&quot;</td><td>false</td></tr><tr><td>&quot;AISI 1049&quot;</td><td>false</td></tr><tr><td>&quot;AISI-SAE 1042&quot;</td><td>false</td></tr><tr><td>&quot;AISI-SAE 1080&quot;</td><td>false</td></tr><tr><td>&quot;AISI 4047&quot;</td><td>false</td></tr><tr><td>&quot;AISI-SAE 1335&quot;</td><td>false</td></tr></tbody></table></div>"
      ],
      "text/plain": [
       "shape: (8, 2)\n",
       "┌───────────────┬─────────────────┐\n",
       "│ steel         ┆ AZoM-Successful │\n",
       "│ ---           ┆ ---             │\n",
       "│ str           ┆ bool            │\n",
       "╞═══════════════╪═════════════════╡\n",
       "│ AISI-SAE 4037 ┆ false           │\n",
       "│ AISI 52100    ┆ false           │\n",
       "│ AISI-SAE 9254 ┆ false           │\n",
       "│ AISI 1049     ┆ false           │\n",
       "│ AISI-SAE 1042 ┆ false           │\n",
       "│ AISI-SAE 1080 ┆ false           │\n",
       "│ AISI 4047     ┆ false           │\n",
       "│ AISI-SAE 1335 ┆ false           │\n",
       "└───────────────┴─────────────────┘"
      ]
     },
     "execution_count": 38,
     "metadata": {},
     "output_type": "execute_result"
    }
   ],
   "source": [
    "# list of tuples if data was sucessfully scraped from AZoM\n",
    "azom_sucessful = {'steel':[],'AZoM-Successful':[]}\n",
    "list_of_scraped = [(\"steel\", \"pr\", \"em\", \"em_unit\", \"ys\", \"ys_unit\", \"uts\", \"uts_unit\")]\n",
    "\n",
    "for steel, table in dict_mech_props.items():\n",
    "    pr = None\n",
    "    em = None\n",
    "    em_unit = None\n",
    "    ys = None\n",
    "    ys_unit = None\n",
    "    uts = None\n",
    "    uts_unit = None\n",
    "\n",
    "    try:\n",
    "        # Grab values and split into units where necessary\n",
    "        #poisson's ratio\n",
    "        pr = grab_property(table, \"poisson\")\n",
    "\n",
    "        #elastic modulus\n",
    "        df_em = grab_property(table, \"elastic\").str.split(' ')\n",
    "        em = get_oobT(df_em, 0)\n",
    "        em_unit = get_oobT(df_em, 1)\n",
    "        # em = df_em.list.get(0, null_on_oob=True)\n",
    "        # em_unit = df_em.list.get(1, null_on_oob=True)\n",
    "\n",
    "        # grab yield strength\n",
    "        df_ys = grab_property(table, \"yield\").str.split(' ')\n",
    "        ys = get_oobT(df_ys, 0)\n",
    "        ys_unit = get_oobT(df_ys, 1)\n",
    "\n",
    "        # grab strength value that is not yield strength.\n",
    "        # Tensile strength or ultimate yield strength or ultimate tensile strength. All the same measurement\n",
    "        df_uts = table.filter(pl.col('Properties').str.to_lowercase().str.contains(\"strength\") & \n",
    "                            pl.col('Properties').str.to_lowercase().str.contains(\"yield\").not_())\\\n",
    "                                ['Metric'].str.split(' ')\n",
    "        uts = get_oobT(df_uts, 0)\n",
    "        uts_unit = get_oobT(df_uts, 1)\n",
    "    \n",
    "        # Make a tuple for each row\n",
    "        # If this fails it will be an IndexError and go to the except\n",
    "        row = (steel, pr[0], em[0], em_unit[0], ys[0], ys_unit[0], uts[0], uts_unit[0])\n",
    "\n",
    "        list_of_scraped.append(row)\n",
    "        azom_sucessful['steel'].append(steel)\n",
    "        azom_sucessful['AZoM-Successful'].append(True)\n",
    "        \n",
    "    except (IndexError, InvalidOperationError):\n",
    "        print(\"Failed on\", steel)\n",
    "        azom_sucessful['steel'].append(steel)\n",
    "        azom_sucessful['AZoM-Successful'].append(False)\n",
    "\n",
    "df_AZoM_successfull = pl.DataFrame(azom_sucessful)\n",
    "df_AZoM_successfull.filter(pl.col('AZoM-Successful')==False)"
   ]
  },
  {
   "cell_type": "markdown",
   "metadata": {},
   "source": [
    "## Convert to dataframes and save\n",
    "\n",
    "Checkpoint for continued work in this file so the scraping does not need to be done every time."
   ]
  },
  {
   "cell_type": "code",
   "execution_count": 39,
   "metadata": {},
   "outputs": [
    {
     "data": {
      "text/html": [
       "<div><style>\n",
       ".dataframe > thead > tr,\n",
       ".dataframe > tbody > tr {\n",
       "  text-align: right;\n",
       "  white-space: pre-wrap;\n",
       "}\n",
       "</style>\n",
       "<small>shape: (3, 8)</small><table border=\"1\" class=\"dataframe\"><thead><tr><th>steel</th><th>pr</th><th>em</th><th>em_unit</th><th>ys</th><th>ys_unit</th><th>uts</th><th>uts_unit</th></tr><tr><td>str</td><td>str</td><td>str</td><td>str</td><td>str</td><td>str</td><td>str</td><td>str</td></tr></thead><tbody><tr><td>&quot;AISI 1095&quot;</td><td>&quot;0.27-0.30&quot;</td><td>&quot;190-210&quot;</td><td>&quot;GPa&quot;</td><td>&quot;525&quot;</td><td>&quot;MPa&quot;</td><td>&quot;685&quot;</td><td>&quot;MPa&quot;</td></tr><tr><td>&quot;AISI-SAE 5140&quot;</td><td>&quot;0.27-0.30&quot;</td><td>&quot;190-210&quot;</td><td>&quot;GPa&quot;</td><td>&quot;295&quot;</td><td>&quot;MPa&quot;</td><td>&quot;570&quot;</td><td>&quot;MPa&quot;</td></tr><tr><td>&quot;AISI 1055&quot;</td><td>&quot;0.27-0.30&quot;</td><td>&quot;190-210&quot;</td><td>&quot;GPa&quot;</td><td>&quot;560&quot;</td><td>&quot;MPa&quot;</td><td>&quot;660&quot;</td><td>&quot;MPa&quot;</td></tr></tbody></table></div>"
      ],
      "text/plain": [
       "shape: (3, 8)\n",
       "┌───────────────┬───────────┬─────────┬─────────┬─────┬─────────┬─────┬──────────┐\n",
       "│ steel         ┆ pr        ┆ em      ┆ em_unit ┆ ys  ┆ ys_unit ┆ uts ┆ uts_unit │\n",
       "│ ---           ┆ ---       ┆ ---     ┆ ---     ┆ --- ┆ ---     ┆ --- ┆ ---      │\n",
       "│ str           ┆ str       ┆ str     ┆ str     ┆ str ┆ str     ┆ str ┆ str      │\n",
       "╞═══════════════╪═══════════╪═════════╪═════════╪═════╪═════════╪═════╪══════════╡\n",
       "│ AISI 1095     ┆ 0.27-0.30 ┆ 190-210 ┆ GPa     ┆ 525 ┆ MPa     ┆ 685 ┆ MPa      │\n",
       "│ AISI-SAE 5140 ┆ 0.27-0.30 ┆ 190-210 ┆ GPa     ┆ 295 ┆ MPa     ┆ 570 ┆ MPa      │\n",
       "│ AISI 1055     ┆ 0.27-0.30 ┆ 190-210 ┆ GPa     ┆ 560 ┆ MPa     ┆ 660 ┆ MPa      │\n",
       "└───────────────┴───────────┴─────────┴─────────┴─────┴─────────┴─────┴──────────┘"
      ]
     },
     "execution_count": 39,
     "metadata": {},
     "output_type": "execute_result"
    }
   ],
   "source": [
    "ttCdf_temp = pl.DataFrame(list_of_scraped, orient='row')\n",
    "# rename columns using first row\n",
    "# https://stackoverflow.com/questions/75187317/how-to-rename-column-names-with-first-row-in-polars\n",
    "# [1:] removes the first row that replaced the column names \n",
    "ttCdf_temp = ttCdf_temp.rename(ttCdf_temp.head(1).to_dicts().pop())[1:]\n",
    "ttCdf_temp.tail(3)"
   ]
  },
  {
   "cell_type": "code",
   "execution_count": 40,
   "metadata": {},
   "outputs": [
    {
     "data": {
      "text/html": [
       "<div><style>\n",
       ".dataframe > thead > tr,\n",
       ".dataframe > tbody > tr {\n",
       "  text-align: right;\n",
       "  white-space: pre-wrap;\n",
       "}\n",
       "</style>\n",
       "<small>shape: (21, 10)</small><table border=\"1\" class=\"dataframe\"><thead><tr><th>steel</th><th>density</th><th>units_density</th><th>pr</th><th>em</th><th>em_unit</th><th>ys</th><th>ys_unit</th><th>uts</th><th>uts_unit</th></tr><tr><td>str</td><td>str</td><td>str</td><td>str</td><td>str</td><td>str</td><td>str</td><td>str</td><td>str</td><td>str</td></tr></thead><tbody><tr><td>&quot;AISI 6145&quot;</td><td>&quot;7.75&quot;</td><td>&quot;g/cm3&quot;</td><td>&quot;0.27-030&quot;</td><td>&quot;201-209&quot;</td><td>&quot;GPa&quot;</td><td>&quot;1165&quot;</td><td>&quot;MPa&quot;</td><td>&quot;1213&quot;</td><td>&quot;MPa&quot;</td></tr><tr><td>&quot;AISI-SAE 4140&quot;</td><td>&quot;7.85&quot;</td><td>&quot;g/cm3&quot;</td><td>&quot;0.27-0.30&quot;</td><td>&quot;190-210&quot;</td><td>&quot;GPa&quot;</td><td>&quot;415&quot;</td><td>&quot;MPa&quot;</td><td>&quot;655&quot;</td><td>&quot;MPa&quot;</td></tr><tr><td>&quot;AISI-SAE 1035&quot;</td><td>&quot;7.85&quot;</td><td>&quot;g/cm3&quot;</td><td>&quot;0.27-0.30&quot;</td><td>&quot;190-210&quot;</td><td>&quot;GPa&quot;</td><td>&quot;370&quot;</td><td>&quot;MPa&quot;</td><td>&quot;585&quot;</td><td>&quot;MPa&quot;</td></tr><tr><td>&quot;AISI-SAE 4340&quot;</td><td>&quot;7.85&quot;</td><td>&quot;g/cm3&quot;</td><td>&quot;0.27-0.30&quot;</td><td>&quot;190-210&quot;</td><td>&quot;GPa&quot;</td><td>&quot;470&quot;</td><td>&quot;MPa&quot;</td><td>&quot;745&quot;</td><td>&quot;MPa&quot;</td></tr><tr><td>&quot;AISI-SAE 1038&quot;</td><td>&quot;7.845&quot;</td><td>&quot;g/cm3&quot;</td><td>&quot;0.27-0.30&quot;</td><td>&quot;190-210&quot;</td><td>&quot;GPa&quot;</td><td>&quot;485&quot;</td><td>&quot;MPa&quot;</td><td>&quot;570&quot;</td><td>&quot;MPa&quot;</td></tr><tr><td>&hellip;</td><td>&hellip;</td><td>&hellip;</td><td>&hellip;</td><td>&hellip;</td><td>&hellip;</td><td>&hellip;</td><td>&hellip;</td><td>&hellip;</td><td>&hellip;</td></tr><tr><td>&quot;AISI-SAE 6150&quot;</td><td>&quot;7.85&quot;</td><td>&quot;g/cm3&quot;</td><td>&quot;0.27 – 0.30&quot;</td><td>&quot;190-210&quot;</td><td>&quot;GPa&quot;</td><td>&quot;415&quot;</td><td>&quot;MPa&quot;</td><td>&quot;670&quot;</td><td>&quot;MPa&quot;</td></tr><tr><td>&quot;AISI-SAE 5160&quot;</td><td>&quot;7.85&quot;</td><td>&quot;g/cm3&quot;</td><td>&quot;0.27 – 0.30&quot;</td><td>&quot;190-210&quot;</td><td>&quot;GPa&quot;</td><td>&quot;275&quot;</td><td>&quot;MPa&quot;</td><td>&quot;724&quot;</td><td>&quot;MPa&quot;</td></tr><tr><td>&quot;AISI 1095&quot;</td><td>&quot;7.85&quot;</td><td>&quot;g/cm3&quot;</td><td>&quot;0.27-0.30&quot;</td><td>&quot;190-210&quot;</td><td>&quot;GPa&quot;</td><td>&quot;525&quot;</td><td>&quot;MPa&quot;</td><td>&quot;685&quot;</td><td>&quot;MPa&quot;</td></tr><tr><td>&quot;AISI-SAE 5140&quot;</td><td>&quot;7.85&quot;</td><td>&quot;g/cm3&quot;</td><td>&quot;0.27-0.30&quot;</td><td>&quot;190-210&quot;</td><td>&quot;GPa&quot;</td><td>&quot;295&quot;</td><td>&quot;MPa&quot;</td><td>&quot;570&quot;</td><td>&quot;MPa&quot;</td></tr><tr><td>&quot;AISI 1055&quot;</td><td>&quot;7.85&quot;</td><td>&quot;g/cm3&quot;</td><td>&quot;0.27-0.30&quot;</td><td>&quot;190-210&quot;</td><td>&quot;GPa&quot;</td><td>&quot;560&quot;</td><td>&quot;MPa&quot;</td><td>&quot;660&quot;</td><td>&quot;MPa&quot;</td></tr></tbody></table></div>"
      ],
      "text/plain": [
       "shape: (21, 10)\n",
       "┌───────────────┬─────────┬───────────────┬─────────────┬───┬──────┬─────────┬──────┬──────────┐\n",
       "│ steel         ┆ density ┆ units_density ┆ pr          ┆ … ┆ ys   ┆ ys_unit ┆ uts  ┆ uts_unit │\n",
       "│ ---           ┆ ---     ┆ ---           ┆ ---         ┆   ┆ ---  ┆ ---     ┆ ---  ┆ ---      │\n",
       "│ str           ┆ str     ┆ str           ┆ str         ┆   ┆ str  ┆ str     ┆ str  ┆ str      │\n",
       "╞═══════════════╪═════════╪═══════════════╪═════════════╪═══╪══════╪═════════╪══════╪══════════╡\n",
       "│ AISI 6145     ┆ 7.75    ┆ g/cm3         ┆ 0.27-030    ┆ … ┆ 1165 ┆ MPa     ┆ 1213 ┆ MPa      │\n",
       "│ AISI-SAE 4140 ┆ 7.85    ┆ g/cm3         ┆ 0.27-0.30   ┆ … ┆ 415  ┆ MPa     ┆ 655  ┆ MPa      │\n",
       "│ AISI-SAE 1035 ┆ 7.85    ┆ g/cm3         ┆ 0.27-0.30   ┆ … ┆ 370  ┆ MPa     ┆ 585  ┆ MPa      │\n",
       "│ AISI-SAE 4340 ┆ 7.85    ┆ g/cm3         ┆ 0.27-0.30   ┆ … ┆ 470  ┆ MPa     ┆ 745  ┆ MPa      │\n",
       "│ AISI-SAE 1038 ┆ 7.845   ┆ g/cm3         ┆ 0.27-0.30   ┆ … ┆ 485  ┆ MPa     ┆ 570  ┆ MPa      │\n",
       "│ …             ┆ …       ┆ …             ┆ …           ┆ … ┆ …    ┆ …       ┆ …    ┆ …        │\n",
       "│ AISI-SAE 6150 ┆ 7.85    ┆ g/cm3         ┆ 0.27 – 0.30 ┆ … ┆ 415  ┆ MPa     ┆ 670  ┆ MPa      │\n",
       "│ AISI-SAE 5160 ┆ 7.85    ┆ g/cm3         ┆ 0.27 – 0.30 ┆ … ┆ 275  ┆ MPa     ┆ 724  ┆ MPa      │\n",
       "│ AISI 1095     ┆ 7.85    ┆ g/cm3         ┆ 0.27-0.30   ┆ … ┆ 525  ┆ MPa     ┆ 685  ┆ MPa      │\n",
       "│ AISI-SAE 5140 ┆ 7.85    ┆ g/cm3         ┆ 0.27-0.30   ┆ … ┆ 295  ┆ MPa     ┆ 570  ┆ MPa      │\n",
       "│ AISI 1055     ┆ 7.85    ┆ g/cm3         ┆ 0.27-0.30   ┆ … ┆ 560  ┆ MPa     ┆ 660  ┆ MPa      │\n",
       "└───────────────┴─────────┴───────────────┴─────────────┴───┴──────┴─────────┴──────┴──────────┘"
      ]
     },
     "execution_count": 40,
     "metadata": {},
     "output_type": "execute_result"
    }
   ],
   "source": [
    "df_steel_properties = df_steel_properties.join(ttCdf_temp, on='steel', how='inner')\n",
    "df_steel_properties.write_csv(f'{resources_path.parent}/scraped_properties.csv')\n",
    "df_steel_properties\n"
   ]
  },
  {
   "cell_type": "code",
   "execution_count": 41,
   "metadata": {},
   "outputs": [
    {
     "data": {
      "text/plain": [
       "PurePosixPath('/home/mox/Documents/coding_projects/bootcamp_local/Homeworks/Mild-Steel-Tempering/resources/multiout')"
      ]
     },
     "execution_count": 41,
     "metadata": {},
     "output_type": "execute_result"
    }
   ],
   "source": [
    "resources_path"
   ]
  },
  {
   "cell_type": "code",
   "execution_count": 42,
   "metadata": {},
   "outputs": [],
   "source": [
    "s_AZOM_unsuccessful = df_AZoM_successfull.filter(pl.col('AZoM-Successful')==False)['steel']\n",
    "pl.DataFrame(s_AZOM_unsuccessful).write_csv(f'{resources_path.parent}/MIF_search.csv')"
   ]
  },
  {
   "cell_type": "markdown",
   "metadata": {},
   "source": [
    "# Process units from scraped AZoM data\n",
    "\n",
    "Ensure all units are base units and the same down each column"
   ]
  },
  {
   "cell_type": "code",
   "execution_count": 43,
   "metadata": {},
   "outputs": [
    {
     "name": "stdout",
     "output_type": "stream",
     "text": [
      "Rows: 21\n",
      "Columns: 10\n",
      "$ steel         <str> 'AISI 6145', 'AISI-SAE 4140', 'AISI-SAE 1035', 'AISI-SAE 4340', 'AISI-SAE 1038', 'AISI-SAE 1065', 'AISI 1074 Carbon Steel', 'AISI-SAE 1040', 'AISI 1030', 'AISI 1090'\n",
      "$ density       <str> '7.75', '7.85', '7.85', '7.85', '7.845', '7.85', '7.7-8.03', '7.845', '7.85', '7.85'\n",
      "$ units_density <str> 'g/cm3', 'g/cm3', 'g/cm3', 'g/cm3', 'g/cm3', 'g/cm3', 'g/cm3', 'g/cc', 'g/cc', 'g/cm3'\n",
      "$ pr            <str> '0.27-030', '0.27-0.30', '0.27-0.30', '0.27-0.30', '0.27-0.30', '0.27-0.30', '0.27-0.30', '0.27-0.30', '0.27-0.30', '0.27-0.30'\n",
      "$ em            <str> '201-209', '190-210', '190-210', '190-210', '190-210', '200', '190-210', '190-210', '190-210', '190-210'\n",
      "$ em_unit       <str> 'GPa', 'GPa', 'GPa', 'GPa', 'GPa', 'GPa', 'GPa', 'GPa', 'GPa', 'GPa'\n",
      "$ ys            <i64> 1165, 415, 370, 470, 485, 490, 505, 415, 440, 540\n",
      "$ ys_unit       <str> 'MPa', 'MPa', 'MPa', 'MPa', 'MPa', 'MPa', 'MPa', 'MPa', 'MPa', 'MPa'\n",
      "$ uts           <i64> 1213, 655, 585, 745, 570, 635, 650, 620, 525, 696\n",
      "$ uts_unit      <str> 'MPa', 'MPa', 'MPa', 'MPa', 'MPa', 'MPa', 'MPa', 'MPa', 'MPa', 'MPa'\n",
      "\n"
     ]
    }
   ],
   "source": [
    "data_path = f\"{resources_path.parent}/scraped_properties.csv\"\n",
    "df_scraped = pl.read_csv(data_path)\n",
    "df_scraped.glimpse()"
   ]
  },
  {
   "cell_type": "code",
   "execution_count": 44,
   "metadata": {},
   "outputs": [
    {
     "data": {
      "text/html": [
       "<div><style>\n",
       ".dataframe > thead > tr,\n",
       ".dataframe > tbody > tr {\n",
       "  text-align: right;\n",
       "  white-space: pre-wrap;\n",
       "}\n",
       "</style>\n",
       "<small>shape: (3, 4)</small><table border=\"1\" class=\"dataframe\"><thead><tr><th>units_density</th><th>em_unit</th><th>ys_unit</th><th>uts_unit</th></tr><tr><td>str</td><td>str</td><td>str</td><td>str</td></tr></thead><tbody><tr><td>&quot;g/&quot;</td><td>&quot;GPa&quot;</td><td>&quot;MPa&quot;</td><td>&quot;MPa&quot;</td></tr><tr><td>&quot;g/cc&quot;</td><td>&quot;GPa&quot;</td><td>&quot;MPa&quot;</td><td>&quot;MPa&quot;</td></tr><tr><td>&quot;g/cm3&quot;</td><td>&quot;GPa&quot;</td><td>&quot;MPa&quot;</td><td>&quot;MPa&quot;</td></tr></tbody></table></div>"
      ],
      "text/plain": [
       "shape: (3, 4)\n",
       "┌───────────────┬─────────┬─────────┬──────────┐\n",
       "│ units_density ┆ em_unit ┆ ys_unit ┆ uts_unit │\n",
       "│ ---           ┆ ---     ┆ ---     ┆ ---      │\n",
       "│ str           ┆ str     ┆ str     ┆ str      │\n",
       "╞═══════════════╪═════════╪═════════╪══════════╡\n",
       "│ g/            ┆ GPa     ┆ MPa     ┆ MPa      │\n",
       "│ g/cc          ┆ GPa     ┆ MPa     ┆ MPa      │\n",
       "│ g/cm3         ┆ GPa     ┆ MPa     ┆ MPa      │\n",
       "└───────────────┴─────────┴─────────┴──────────┘"
      ]
     },
     "execution_count": 44,
     "metadata": {},
     "output_type": "execute_result"
    }
   ],
   "source": [
    "df_scraped.select(['units_density', 'em_unit', \"ys_unit\", \"uts_unit\"]).unique()"
   ]
  },
  {
   "cell_type": "markdown",
   "metadata": {},
   "source": [
    "## All units are valid and ready to be added to header and unit column removed\n",
    "\n",
    "All units in units_density are a 1:1 conversion with g/cm3\n",
    "\n",
    "g/mL (water) = g/cc = g/cm3 = grams per cubic centimeter\n",
    "\n",
    "Converns:\n",
    "* emdash and hyphens present\n",
    "* AISI-SAE 1065 did not separate from it's decimal number.\n",
    "* AISI-SAE 1026 indicatse g/ but was originally \"g/ cm3\""
   ]
  },
  {
   "cell_type": "code",
   "execution_count": 45,
   "metadata": {},
   "outputs": [
    {
     "name": "stdout",
     "output_type": "stream",
     "text": [
      "(21, 6)\n"
     ]
    },
    {
     "data": {
      "text/html": [
       "<div><style>\n",
       ".dataframe > thead > tr,\n",
       ".dataframe > tbody > tr {\n",
       "  text-align: right;\n",
       "  white-space: pre-wrap;\n",
       "}\n",
       "</style>\n",
       "<small>shape: (5, 6)</small><table border=\"1\" class=\"dataframe\"><thead><tr><th>steel</th><th>density_g_per_cm3</th><th>pr</th><th>em_GPa</th><th>ys_MPa</th><th>uts_MPa</th></tr><tr><td>str</td><td>str</td><td>str</td><td>str</td><td>i64</td><td>i64</td></tr></thead><tbody><tr><td>&quot;AISI 6145&quot;</td><td>&quot;7.75&quot;</td><td>&quot;0.27-030&quot;</td><td>&quot;201-209&quot;</td><td>1165</td><td>1213</td></tr><tr><td>&quot;AISI-SAE 4140&quot;</td><td>&quot;7.85&quot;</td><td>&quot;0.27-0.30&quot;</td><td>&quot;190-210&quot;</td><td>415</td><td>655</td></tr><tr><td>&quot;AISI-SAE 1035&quot;</td><td>&quot;7.85&quot;</td><td>&quot;0.27-0.30&quot;</td><td>&quot;190-210&quot;</td><td>370</td><td>585</td></tr><tr><td>&quot;AISI-SAE 4340&quot;</td><td>&quot;7.85&quot;</td><td>&quot;0.27-0.30&quot;</td><td>&quot;190-210&quot;</td><td>470</td><td>745</td></tr><tr><td>&quot;AISI-SAE 1038&quot;</td><td>&quot;7.845&quot;</td><td>&quot;0.27-0.30&quot;</td><td>&quot;190-210&quot;</td><td>485</td><td>570</td></tr></tbody></table></div>"
      ],
      "text/plain": [
       "shape: (5, 6)\n",
       "┌───────────────┬───────────────────┬───────────┬─────────┬────────┬─────────┐\n",
       "│ steel         ┆ density_g_per_cm3 ┆ pr        ┆ em_GPa  ┆ ys_MPa ┆ uts_MPa │\n",
       "│ ---           ┆ ---               ┆ ---       ┆ ---     ┆ ---    ┆ ---     │\n",
       "│ str           ┆ str               ┆ str       ┆ str     ┆ i64    ┆ i64     │\n",
       "╞═══════════════╪═══════════════════╪═══════════╪═════════╪════════╪═════════╡\n",
       "│ AISI 6145     ┆ 7.75              ┆ 0.27-030  ┆ 201-209 ┆ 1165   ┆ 1213    │\n",
       "│ AISI-SAE 4140 ┆ 7.85              ┆ 0.27-0.30 ┆ 190-210 ┆ 415    ┆ 655     │\n",
       "│ AISI-SAE 1035 ┆ 7.85              ┆ 0.27-0.30 ┆ 190-210 ┆ 370    ┆ 585     │\n",
       "│ AISI-SAE 4340 ┆ 7.85              ┆ 0.27-0.30 ┆ 190-210 ┆ 470    ┆ 745     │\n",
       "│ AISI-SAE 1038 ┆ 7.845             ┆ 0.27-0.30 ┆ 190-210 ┆ 485    ┆ 570     │\n",
       "└───────────────┴───────────────────┴───────────┴─────────┴────────┴─────────┘"
      ]
     },
     "execution_count": 45,
     "metadata": {},
     "output_type": "execute_result"
    }
   ],
   "source": [
    "df_scraped_unit_header = df_scraped.select(['steel', \n",
    "                                            'density', \n",
    "                                            'pr', \n",
    "                                            'em', \n",
    "                                            'ys',\n",
    "                                            'uts']).rename({'density' : 'density_g_per_cm3',\n",
    "                                                                        'em' : 'em_GPa',\n",
    "                                                                        'ys' : 'ys_MPa',\n",
    "                                                                        'uts' : 'uts_MPa'})\n",
    "\n",
    "print(df_scraped_unit_header.shape)    \n",
    "df_scraped_unit_header.head()"
   ]
  },
  {
   "cell_type": "code",
   "execution_count": 46,
   "metadata": {},
   "outputs": [
    {
     "data": {
      "text/html": [
       "<div><style>\n",
       ".dataframe > thead > tr,\n",
       ".dataframe > tbody > tr {\n",
       "  text-align: right;\n",
       "  white-space: pre-wrap;\n",
       "}\n",
       "</style>\n",
       "<small>shape: (9, 7)</small><table border=\"1\" class=\"dataframe\"><thead><tr><th>statistic</th><th>steel</th><th>density_g_per_cm3</th><th>pr</th><th>em_GPa</th><th>ys_MPa</th><th>uts_MPa</th></tr><tr><td>str</td><td>str</td><td>str</td><td>str</td><td>str</td><td>f64</td><td>f64</td></tr></thead><tbody><tr><td>&quot;count&quot;</td><td>&quot;21&quot;</td><td>&quot;21&quot;</td><td>&quot;21&quot;</td><td>&quot;21&quot;</td><td>21.0</td><td>21.0</td></tr><tr><td>&quot;null_count&quot;</td><td>&quot;0&quot;</td><td>&quot;0&quot;</td><td>&quot;0&quot;</td><td>&quot;0&quot;</td><td>0.0</td><td>0.0</td></tr><tr><td>&quot;mean&quot;</td><td>null</td><td>null</td><td>null</td><td>null</td><td>508.47619</td><td>680.190476</td></tr><tr><td>&quot;std&quot;</td><td>null</td><td>null</td><td>null</td><td>null</td><td>223.223569</td><td>200.888183</td></tr><tr><td>&quot;min&quot;</td><td>&quot;AISI 1030&quot;</td><td>&quot;7.7-8.03&quot;</td><td>&quot;0.27 – 0.30&quot;</td><td>&quot;190-210&quot;</td><td>275.0</td><td>490.0</td></tr><tr><td>&quot;25%&quot;</td><td>null</td><td>null</td><td>null</td><td>null</td><td>415.0</td><td>570.0</td></tr><tr><td>&quot;50%&quot;</td><td>null</td><td>null</td><td>null</td><td>null</td><td>450.0</td><td>650.0</td></tr><tr><td>&quot;75%&quot;</td><td>null</td><td>null</td><td>null</td><td>null</td><td>525.0</td><td>690.0</td></tr><tr><td>&quot;max&quot;</td><td>&quot;AISI-SAE 6150&quot;</td><td>&quot;7.87&quot;</td><td>&quot;0.29&quot;</td><td>&quot;201-209&quot;</td><td>1165.0</td><td>1276.0</td></tr></tbody></table></div>"
      ],
      "text/plain": [
       "shape: (9, 7)\n",
       "┌────────────┬───────────────┬───────────────────┬─────────────┬─────────┬────────────┬────────────┐\n",
       "│ statistic  ┆ steel         ┆ density_g_per_cm3 ┆ pr          ┆ em_GPa  ┆ ys_MPa     ┆ uts_MPa    │\n",
       "│ ---        ┆ ---           ┆ ---               ┆ ---         ┆ ---     ┆ ---        ┆ ---        │\n",
       "│ str        ┆ str           ┆ str               ┆ str         ┆ str     ┆ f64        ┆ f64        │\n",
       "╞════════════╪═══════════════╪═══════════════════╪═════════════╪═════════╪════════════╪════════════╡\n",
       "│ count      ┆ 21            ┆ 21                ┆ 21          ┆ 21      ┆ 21.0       ┆ 21.0       │\n",
       "│ null_count ┆ 0             ┆ 0                 ┆ 0           ┆ 0       ┆ 0.0        ┆ 0.0        │\n",
       "│ mean       ┆ null          ┆ null              ┆ null        ┆ null    ┆ 508.47619  ┆ 680.190476 │\n",
       "│ std        ┆ null          ┆ null              ┆ null        ┆ null    ┆ 223.223569 ┆ 200.888183 │\n",
       "│ min        ┆ AISI 1030     ┆ 7.7-8.03          ┆ 0.27 – 0.30 ┆ 190-210 ┆ 275.0      ┆ 490.0      │\n",
       "│ 25%        ┆ null          ┆ null              ┆ null        ┆ null    ┆ 415.0      ┆ 570.0      │\n",
       "│ 50%        ┆ null          ┆ null              ┆ null        ┆ null    ┆ 450.0      ┆ 650.0      │\n",
       "│ 75%        ┆ null          ┆ null              ┆ null        ┆ null    ┆ 525.0      ┆ 690.0      │\n",
       "│ max        ┆ AISI-SAE 6150 ┆ 7.87              ┆ 0.29        ┆ 201-209 ┆ 1165.0     ┆ 1276.0     │\n",
       "└────────────┴───────────────┴───────────────────┴─────────────┴─────────┴────────────┴────────────┘"
      ]
     },
     "execution_count": 46,
     "metadata": {},
     "output_type": "execute_result"
    }
   ],
   "source": [
    "df_scraped_unit_header.describe()"
   ]
  },
  {
   "cell_type": "markdown",
   "metadata": {},
   "source": [
    "## Process ranges to an average value"
   ]
  },
  {
   "cell_type": "markdown",
   "metadata": {},
   "source": [
    "### Helper functions for mapping"
   ]
  },
  {
   "cell_type": "code",
   "execution_count": 47,
   "metadata": {},
   "outputs": [],
   "source": [
    "df_scraped_clean = df_scraped_unit_header.clone()\n"
   ]
  },
  {
   "cell_type": "code",
   "execution_count": 48,
   "metadata": {},
   "outputs": [],
   "source": [
    "# string to number conversion that is aware all values arefrom sklearn.cluster import KMeans, AgglomerativeClustering\n",
    "def strip_string(string):\n",
    "    return string.strip()\n",
    "\n",
    "def if_no_decimal_point(num):\n",
    "    #If leading 0 followed by number then replace leading 0 with \"0.\"\n",
    "    regex = r\"^0\\d\"\n",
    "    if re.search(regex, num):\n",
    "        #replace the \n",
    "        num = re.sub(\"^0\", \"0.\", num)\n",
    "    return np.float64(num)\n",
    "\n",
    "def process_ranged_val_cleaned(col, df=df_scraped_clean):\n",
    "    # AISI-SAE 5160 and AISI-SAE 6150 use a different dash than the others for the pr range\n",
    "    # Discovered when 2 nulls showed up after processing\n",
    "        # mean could not process the string and resulted in a null\n",
    "    s_same_dashes = df[col].str.replace('–', '-')\n",
    "    # Split the range froma string into two strings of numbers\n",
    "    s_split = s_same_dashes.str.split('-')\n",
    "    # Convert these decimal points to numbers \n",
    "        #aware that some decimal values are formatted 0## with no .\n",
    "    s_numeric_l = s_split.map_elements(lambda x: list(map(if_no_decimal_point, x)))\n",
    "    # take middle of the two values\n",
    "    return s_numeric_l.list.mean()"
   ]
  },
  {
   "cell_type": "markdown",
   "metadata": {},
   "source": [
    "# Process Units "
   ]
  },
  {
   "cell_type": "code",
   "execution_count": 49,
   "metadata": {},
   "outputs": [
    {
     "name": "stderr",
     "output_type": "stream",
     "text": [
      "/tmp/ipykernel_1349578/1347279945.py:4: MapWithoutReturnDtypeWarning: Calling `map_elements` without specifying `return_dtype` can lead to unpredictable results. Specify `return_dtype` to silence this warning.\n",
      "  s_numeric_l = s_split.map_elements(lambda x: list(map(if_no_decimal_point, x)))\n"
     ]
    }
   ],
   "source": [
    "# Split the range froma string into two strings of numbers\n",
    "s_split = df_scraped_clean['density_g_per_cm3'].str.split('-')\n",
    "# Convert these decimal points to numbers \n",
    "s_numeric_l = s_split.map_elements(lambda x: list(map(if_no_decimal_point, x)))\n",
    "# take middle of the two values\n",
    "s_mean_d = s_numeric_l.list.mean()"
   ]
  },
  {
   "cell_type": "code",
   "execution_count": 50,
   "metadata": {},
   "outputs": [
    {
     "name": "stderr",
     "output_type": "stream",
     "text": [
      "/tmp/ipykernel_1349578/2290863345.py:22: MapWithoutReturnDtypeWarning: Calling `map_elements` without specifying `return_dtype` can lead to unpredictable results. Specify `return_dtype` to silence this warning.\n",
      "  s_numeric_l = s_split.map_elements(lambda x: list(map(if_no_decimal_point, x)))\n"
     ]
    }
   ],
   "source": [
    "s_mean_p = process_ranged_val_cleaned(\"pr\")\n",
    "s_mean_em = process_ranged_val_cleaned(\"em_GPa\")"
   ]
  },
  {
   "cell_type": "code",
   "execution_count": 51,
   "metadata": {},
   "outputs": [
    {
     "data": {
      "text/html": [
       "<div><style>\n",
       ".dataframe > thead > tr,\n",
       ".dataframe > tbody > tr {\n",
       "  text-align: right;\n",
       "  white-space: pre-wrap;\n",
       "}\n",
       "</style>\n",
       "<small>shape: (9, 6)</small><table border=\"1\" class=\"dataframe\"><thead><tr><th>statistic</th><th>steel</th><th>density_g_per_cm3</th><th>elastic_modulus_GPa</th><th>yield_strength_MPa</th><th>ultimate_strength_MPA</th></tr><tr><td>str</td><td>str</td><td>f64</td><td>f64</td><td>f64</td><td>f64</td></tr></thead><tbody><tr><td>&quot;count&quot;</td><td>&quot;21&quot;</td><td>21.0</td><td>21.0</td><td>21.0</td><td>21.0</td></tr><tr><td>&quot;null_count&quot;</td><td>&quot;0&quot;</td><td>0.0</td><td>0.0</td><td>0.0</td><td>0.0</td></tr><tr><td>&quot;mean&quot;</td><td>null</td><td>7.842048</td><td>200.47619</td><td>508.47619</td><td>680.190476</td></tr><tr><td>&quot;std&quot;</td><td>null</td><td>0.031154</td><td>1.503963</td><td>223.223569</td><td>200.888183</td></tr><tr><td>&quot;min&quot;</td><td>&quot;AISI 1030&quot;</td><td>7.75</td><td>200.0</td><td>275.0</td><td>490.0</td></tr><tr><td>&quot;25%&quot;</td><td>null</td><td>7.85</td><td>200.0</td><td>415.0</td><td>570.0</td></tr><tr><td>&quot;50%&quot;</td><td>null</td><td>7.85</td><td>200.0</td><td>450.0</td><td>650.0</td></tr><tr><td>&quot;75%&quot;</td><td>null</td><td>7.85</td><td>200.0</td><td>525.0</td><td>690.0</td></tr><tr><td>&quot;max&quot;</td><td>&quot;AISI-SAE 6150&quot;</td><td>7.87</td><td>205.0</td><td>1165.0</td><td>1276.0</td></tr></tbody></table></div>"
      ],
      "text/plain": [
       "shape: (9, 6)\n",
       "┌────────────┬───────────────┬─────────────────┬─────────────────┬────────────────┬────────────────┐\n",
       "│ statistic  ┆ steel         ┆ density_g_per_c ┆ elastic_modulus ┆ yield_strength ┆ ultimate_stren │\n",
       "│ ---        ┆ ---           ┆ m3              ┆ _GPa            ┆ _MPa           ┆ gth_MPA        │\n",
       "│ str        ┆ str           ┆ ---             ┆ ---             ┆ ---            ┆ ---            │\n",
       "│            ┆               ┆ f64             ┆ f64             ┆ f64            ┆ f64            │\n",
       "╞════════════╪═══════════════╪═════════════════╪═════════════════╪════════════════╪════════════════╡\n",
       "│ count      ┆ 21            ┆ 21.0            ┆ 21.0            ┆ 21.0           ┆ 21.0           │\n",
       "│ null_count ┆ 0             ┆ 0.0             ┆ 0.0             ┆ 0.0            ┆ 0.0            │\n",
       "│ mean       ┆ null          ┆ 7.842048        ┆ 200.47619       ┆ 508.47619      ┆ 680.190476     │\n",
       "│ std        ┆ null          ┆ 0.031154        ┆ 1.503963        ┆ 223.223569     ┆ 200.888183     │\n",
       "│ min        ┆ AISI 1030     ┆ 7.75            ┆ 200.0           ┆ 275.0          ┆ 490.0          │\n",
       "│ 25%        ┆ null          ┆ 7.85            ┆ 200.0           ┆ 415.0          ┆ 570.0          │\n",
       "│ 50%        ┆ null          ┆ 7.85            ┆ 200.0           ┆ 450.0          ┆ 650.0          │\n",
       "│ 75%        ┆ null          ┆ 7.85            ┆ 200.0           ┆ 525.0          ┆ 690.0          │\n",
       "│ max        ┆ AISI-SAE 6150 ┆ 7.87            ┆ 205.0           ┆ 1165.0         ┆ 1276.0         │\n",
       "└────────────┴───────────────┴─────────────────┴─────────────────┴────────────────┴────────────────┘"
      ]
     },
     "execution_count": 51,
     "metadata": {},
     "output_type": "execute_result"
    }
   ],
   "source": [
    "df_AZoM_clean = df_scraped_clean.with_columns(poissons_ratio = s_mean_p, \n",
    "                                         density_g_per_cm3 = s_mean_d, \n",
    "                                         elastic_modulus_GPa = s_mean_em,\n",
    "                                         yield_strength_MPa = df_scraped_unit_header['ys_MPa'],\n",
    "                                         ultimate_strength_MPA = df_scraped_unit_header['uts_MPa'])\\\n",
    "                                            .select([\"steel\",\n",
    "                                                     \"density_g_per_cm3\",\n",
    "                                                     \"elastic_modulus_GPa\",\n",
    "                                                     \"yield_strength_MPa\",\n",
    "                                                     \"ultimate_strength_MPA\"])\n",
    "df_AZoM_clean.describe()"
   ]
  },
  {
   "cell_type": "markdown",
   "metadata": {},
   "source": [
    "# Drop columns that do not add information\n",
    "\n",
    "Poisson's Ratio, Density, and Elastic Modulus are singletons. They do not add information."
   ]
  },
  {
   "cell_type": "code",
   "execution_count": 52,
   "metadata": {},
   "outputs": [
    {
     "data": {
      "text/html": [
       "<div><style>\n",
       ".dataframe > thead > tr,\n",
       ".dataframe > tbody > tr {\n",
       "  text-align: right;\n",
       "  white-space: pre-wrap;\n",
       "}\n",
       "</style>\n",
       "<small>shape: (9, 4)</small><table border=\"1\" class=\"dataframe\"><thead><tr><th>statistic</th><th>steel</th><th>yield_strength_MPa</th><th>ultimate_strength_MPA</th></tr><tr><td>str</td><td>str</td><td>f64</td><td>f64</td></tr></thead><tbody><tr><td>&quot;count&quot;</td><td>&quot;21&quot;</td><td>21.0</td><td>21.0</td></tr><tr><td>&quot;null_count&quot;</td><td>&quot;0&quot;</td><td>0.0</td><td>0.0</td></tr><tr><td>&quot;mean&quot;</td><td>null</td><td>508.47619</td><td>680.190476</td></tr><tr><td>&quot;std&quot;</td><td>null</td><td>223.223569</td><td>200.888183</td></tr><tr><td>&quot;min&quot;</td><td>&quot;AISI 1030&quot;</td><td>275.0</td><td>490.0</td></tr><tr><td>&quot;25%&quot;</td><td>null</td><td>415.0</td><td>570.0</td></tr><tr><td>&quot;50%&quot;</td><td>null</td><td>450.0</td><td>650.0</td></tr><tr><td>&quot;75%&quot;</td><td>null</td><td>525.0</td><td>690.0</td></tr><tr><td>&quot;max&quot;</td><td>&quot;AISI-SAE 6150&quot;</td><td>1165.0</td><td>1276.0</td></tr></tbody></table></div>"
      ],
      "text/plain": [
       "shape: (9, 4)\n",
       "┌────────────┬───────────────┬────────────────────┬───────────────────────┐\n",
       "│ statistic  ┆ steel         ┆ yield_strength_MPa ┆ ultimate_strength_MPA │\n",
       "│ ---        ┆ ---           ┆ ---                ┆ ---                   │\n",
       "│ str        ┆ str           ┆ f64                ┆ f64                   │\n",
       "╞════════════╪═══════════════╪════════════════════╪═══════════════════════╡\n",
       "│ count      ┆ 21            ┆ 21.0               ┆ 21.0                  │\n",
       "│ null_count ┆ 0             ┆ 0.0                ┆ 0.0                   │\n",
       "│ mean       ┆ null          ┆ 508.47619          ┆ 680.190476            │\n",
       "│ std        ┆ null          ┆ 223.223569         ┆ 200.888183            │\n",
       "│ min        ┆ AISI 1030     ┆ 275.0              ┆ 490.0                 │\n",
       "│ 25%        ┆ null          ┆ 415.0              ┆ 570.0                 │\n",
       "│ 50%        ┆ null          ┆ 450.0              ┆ 650.0                 │\n",
       "│ 75%        ┆ null          ┆ 525.0              ┆ 690.0                 │\n",
       "│ max        ┆ AISI-SAE 6150 ┆ 1165.0             ┆ 1276.0                │\n",
       "└────────────┴───────────────┴────────────────────┴───────────────────────┘"
      ]
     },
     "execution_count": 52,
     "metadata": {},
     "output_type": "execute_result"
    }
   ],
   "source": [
    "df_AZoM_clean = df_AZoM_clean.select(['steel',\n",
    "                                    \"yield_strength_MPa\",\n",
    "                                    \"ultimate_strength_MPA\"])\n",
    "df_AZoM_clean.describe()"
   ]
  },
  {
   "cell_type": "code",
   "execution_count": 53,
   "metadata": {},
   "outputs": [],
   "source": [
    "df_AZoM_clean.write_csv(f'{resources_path.parent}/scraped_properties.csv')"
   ]
  },
  {
   "cell_type": "markdown",
   "metadata": {},
   "source": [
    "## Scraping MakeItFrom.com\n",
    "DuckDuckGo search used since the steels of question are split in two categories and MakeItFrom does not have a search function."
   ]
  },
  {
   "cell_type": "code",
   "execution_count": 54,
   "metadata": {},
   "outputs": [],
   "source": [
    "# https://www.makeitfrom.com/material-group/Wrought-Alloy-Steel-SAE-AISI\n",
    "# OR\n",
    "# https://www.makeitfrom.com/material-group/Wrought-Carbon-Or-Non-Alloy-Steel\n",
    "base_url = \"https://www.makeitfrom.com\"\n",
    "search_url = \"https://duckduckgo.com/?hps=1&q=\"\n",
    "search_suffix = \"+site%3Amakeitfrom.com&atb=v427-1&ia=web\""
   ]
  },
  {
   "cell_type": "code",
   "execution_count": 55,
   "metadata": {},
   "outputs": [
    {
     "data": {
      "text/html": [
       "<div><style>\n",
       ".dataframe > thead > tr,\n",
       ".dataframe > tbody > tr {\n",
       "  text-align: right;\n",
       "  white-space: pre-wrap;\n",
       "}\n",
       "</style>\n",
       "<small>shape: (8,)</small><table border=\"1\" class=\"dataframe\"><thead><tr><th>steel</th></tr><tr><td>str</td></tr></thead><tbody><tr><td>&quot;AISI-SAE 4037&quot;</td></tr><tr><td>&quot;AISI 52100&quot;</td></tr><tr><td>&quot;AISI-SAE 9254&quot;</td></tr><tr><td>&quot;AISI 1049&quot;</td></tr><tr><td>&quot;AISI-SAE 1042&quot;</td></tr><tr><td>&quot;AISI-SAE 1080&quot;</td></tr><tr><td>&quot;AISI 4047&quot;</td></tr><tr><td>&quot;AISI-SAE 1335&quot;</td></tr></tbody></table></div>"
      ],
      "text/plain": [
       "shape: (8,)\n",
       "Series: 'steel' [str]\n",
       "[\n",
       "\t\"AISI-SAE 4037\"\n",
       "\t\"AISI 52100\"\n",
       "\t\"AISI-SAE 9254\"\n",
       "\t\"AISI 1049\"\n",
       "\t\"AISI-SAE 1042\"\n",
       "\t\"AISI-SAE 1080\"\n",
       "\t\"AISI 4047\"\n",
       "\t\"AISI-SAE 1335\"\n",
       "]"
      ]
     },
     "execution_count": 55,
     "metadata": {},
     "output_type": "execute_result"
    }
   ],
   "source": [
    "s_AZOM_unsuccessful"
   ]
  },
  {
   "cell_type": "code",
   "execution_count": 56,
   "metadata": {},
   "outputs": [],
   "source": [
    "def handle_ranges(values_list):\n",
    "    if values_list[1] == 'to':\n",
    "        # map the range of values to a list of integers, then take the mean of it.\n",
    "        value = np.mean(list(map(int, values_list[0:3:2])))\n",
    "        units = values_list[3]\n",
    "    else:\n",
    "        value = np.float64(values_list[0])\n",
    "        units = values_list[1]\n",
    "    return value, units"
   ]
  },
  {
   "cell_type": "code",
   "execution_count": 57,
   "metadata": {},
   "outputs": [],
   "source": [
    "def get_row(soup):\n",
    "    mech_props = soup.find_all('div', class_='mech')\n",
    "    # -2 is a magic number\n",
    "    # the last 2 values are always tensile strength\n",
    "    uts = 'no_label'\n",
    "    uts_units = 'no_units'\n",
    "    ys = 'no_label'\n",
    "    ys_units = 'no_units'\n",
    "\n",
    "    for div in mech_props[-2:]:\n",
    "        ps = div.find_all('p')\n",
    "        # get the property name\n",
    "        label = ps[0].text\n",
    "        # get the string of values and units and split it\n",
    "        values = ps[1].text.split(' ')\n",
    "        # Grab the metric value \n",
    "        value, units = handle_ranges(values)\n",
    "        if 'uts' in label.lower():\n",
    "            uts = value\n",
    "            uts_units = units\n",
    "        elif 'yield' in label.lower():\n",
    "            ys = value\n",
    "            ys_units = units\n",
    "    row = (steel, ys, ys_units, uts, uts_units)\n",
    "    return row"
   ]
  },
  {
   "cell_type": "code",
   "execution_count": 58,
   "metadata": {},
   "outputs": [],
   "source": [
    "def handle_cold_drawn():\n",
    "    # Browser is already on steel page\n",
    "    soup = BeautifulSoup(browser.html, 'html.parser')\n",
    "    cold_drawn_present = True\n",
    "    steel_page = soup.find('div', class_='split links break-mid')\n",
    "    # https://stackoverflow.com/questions/33404049/navigation-with-beautifulsoup\n",
    "    \n",
    "    cold_drawn = steel_page.find('a', string= lambda text: text \\\n",
    "                            #cold drawn matches values from AZoM for steels that are on both\n",
    "                                and \"Cold Drawn\" in text\\\n",
    "                                # not \"and\" removed other processing in addtional to cold drawn if applicable\n",
    "                                and not \"and\" in text) \n",
    "    try: \n",
    "        cold_drawn_page = cold_drawn.get('href')\n",
    "        time.sleep(0.15)\n",
    "        browser.visit(f'{base_url}{cold_drawn_page}')\n",
    "    except AttributeError:\n",
    "        # do not go to the cold drawn page if not present\n",
    "        pass    "
   ]
  },
  {
   "cell_type": "code",
   "execution_count": 59,
   "metadata": {},
   "outputs": [
    {
     "name": "stdout",
     "output_type": "stream",
     "text": [
      "Working on: AISI-SAE 4037\n"
     ]
    },
    {
     "name": "stdout",
     "output_type": "stream",
     "text": [
      "Working on: AISI 52100\n",
      "Working on: AISI-SAE 9254\n",
      "Working on: AISI 1049\n",
      "Working on: AISI-SAE 1042\n",
      "Working on: AISI-SAE 1080\n",
      "Working on: AISI 4047\n",
      "Working on: AISI-SAE 1335\n"
     ]
    },
    {
     "data": {
      "text/plain": [
       "[('steel', 'ys', 'ys_unit', 'uts', 'uts_unit'),\n",
       " ('AISI-SAE 4037', 290.0, 'MPa', 540.0, 'MPa'),\n",
       " ('AISI 52100', 460.0, 'MPa', 1300.0, 'MPa'),\n",
       " ('AISI-SAE 9254', 410.0, 'MPa', 660.0, 'MPa'),\n",
       " ('AISI 1049', 640.0, 'MPa', 750.0, 'MPa'),\n",
       " ('AISI-SAE 1042', 580.0, 'MPa', 700.0, 'MPa'),\n",
       " ('AISI-SAE 1080', 535.0, 'MPa', 820.0, 'MPa'),\n",
       " ('AISI 4047', 310.0, 'MPa', 580.0, 'MPa'),\n",
       " ('AISI-SAE 1335', 300.0, 'MPa', 550.0, 'MPa')]"
      ]
     },
     "execution_count": 59,
     "metadata": {},
     "output_type": "execute_result"
    }
   ],
   "source": [
    "\n",
    "list_of_scraped = [(\"steel\", \"ys\", \"ys_unit\", \"uts\", \"uts_unit\")] \n",
    "for steel in s_AZOM_unsuccessful:\n",
    "    print(\"Working on:\", steel)\n",
    "    #search MIF for the steel\n",
    "    time.sleep(0.15)\n",
    "    browser.visit(f\"{search_url}{steel}{search_suffix}\")\n",
    "    soup_search = BeautifulSoup(browser.html, 'html.parser')\n",
    "    steel_link = soup_search.find('a',{'data-testid': \"result-extras-url-link\"}).get('href')\n",
    "    \n",
    "    time.sleep(0.15)\n",
    "    browser.visit(steel_link)\n",
    "    # handle cold drawn will land us on the desired steel page\n",
    "    handle_cold_drawn()\n",
    "    soup_results = BeautifulSoup(browser.html, \"html.parser\")\n",
    "    list_of_scraped.append(get_row(soup_results))\n",
    "\n",
    "browser.quit()\n",
    "\n",
    "list_of_scraped"
   ]
  },
  {
   "cell_type": "code",
   "execution_count": 60,
   "metadata": {},
   "outputs": [
    {
     "data": {
      "text/html": [
       "<div><style>\n",
       ".dataframe > thead > tr,\n",
       ".dataframe > tbody > tr {\n",
       "  text-align: right;\n",
       "  white-space: pre-wrap;\n",
       "}\n",
       "</style>\n",
       "<small>shape: (8, 5)</small><table border=\"1\" class=\"dataframe\"><thead><tr><th>steel</th><th>ys</th><th>ys_unit</th><th>uts</th><th>uts_unit</th></tr><tr><td>str</td><td>str</td><td>str</td><td>str</td><td>str</td></tr></thead><tbody><tr><td>&quot;AISI-SAE 4037&quot;</td><td>&quot;290&quot;</td><td>&quot;MPa&quot;</td><td>&quot;540&quot;</td><td>&quot;MPa&quot;</td></tr><tr><td>&quot;AISI 52100&quot;</td><td>&quot;460&quot;</td><td>&quot;MPa&quot;</td><td>&quot;1300&quot;</td><td>&quot;MPa&quot;</td></tr><tr><td>&quot;AISI-SAE 9254&quot;</td><td>&quot;410&quot;</td><td>&quot;MPa&quot;</td><td>&quot;660&quot;</td><td>&quot;MPa&quot;</td></tr><tr><td>&quot;AISI 1049&quot;</td><td>&quot;640&quot;</td><td>&quot;MPa&quot;</td><td>&quot;750&quot;</td><td>&quot;MPa&quot;</td></tr><tr><td>&quot;AISI-SAE 1042&quot;</td><td>&quot;580&quot;</td><td>&quot;MPa&quot;</td><td>&quot;700&quot;</td><td>&quot;MPa&quot;</td></tr><tr><td>&quot;AISI-SAE 1080&quot;</td><td>&quot;535&quot;</td><td>&quot;MPa&quot;</td><td>&quot;820&quot;</td><td>&quot;MPa&quot;</td></tr><tr><td>&quot;AISI 4047&quot;</td><td>&quot;310&quot;</td><td>&quot;MPa&quot;</td><td>&quot;580&quot;</td><td>&quot;MPa&quot;</td></tr><tr><td>&quot;AISI-SAE 1335&quot;</td><td>&quot;300&quot;</td><td>&quot;MPa&quot;</td><td>&quot;550&quot;</td><td>&quot;MPa&quot;</td></tr></tbody></table></div>"
      ],
      "text/plain": [
       "shape: (8, 5)\n",
       "┌───────────────┬─────┬─────────┬──────┬──────────┐\n",
       "│ steel         ┆ ys  ┆ ys_unit ┆ uts  ┆ uts_unit │\n",
       "│ ---           ┆ --- ┆ ---     ┆ ---  ┆ ---      │\n",
       "│ str           ┆ str ┆ str     ┆ str  ┆ str      │\n",
       "╞═══════════════╪═════╪═════════╪══════╪══════════╡\n",
       "│ AISI-SAE 4037 ┆ 290 ┆ MPa     ┆ 540  ┆ MPa      │\n",
       "│ AISI 52100    ┆ 460 ┆ MPa     ┆ 1300 ┆ MPa      │\n",
       "│ AISI-SAE 9254 ┆ 410 ┆ MPa     ┆ 660  ┆ MPa      │\n",
       "│ AISI 1049     ┆ 640 ┆ MPa     ┆ 750  ┆ MPa      │\n",
       "│ AISI-SAE 1042 ┆ 580 ┆ MPa     ┆ 700  ┆ MPa      │\n",
       "│ AISI-SAE 1080 ┆ 535 ┆ MPa     ┆ 820  ┆ MPa      │\n",
       "│ AISI 4047     ┆ 310 ┆ MPa     ┆ 580  ┆ MPa      │\n",
       "│ AISI-SAE 1335 ┆ 300 ┆ MPa     ┆ 550  ┆ MPa      │\n",
       "└───────────────┴─────┴─────────┴──────┴──────────┘"
      ]
     },
     "execution_count": 60,
     "metadata": {},
     "output_type": "execute_result"
    }
   ],
   "source": [
    "df_MIF = pl.DataFrame(list_of_scraped, orient='row')\n",
    "df_MIF = df_MIF.rename(df_MIF.head(1).to_dicts().pop())[1:]\n",
    "df_MIF"
   ]
  },
  {
   "cell_type": "code",
   "execution_count": 61,
   "metadata": {},
   "outputs": [
    {
     "data": {
      "text/html": [
       "<div><style>\n",
       ".dataframe > thead > tr,\n",
       ".dataframe > tbody > tr {\n",
       "  text-align: right;\n",
       "  white-space: pre-wrap;\n",
       "}\n",
       "</style>\n",
       "<small>shape: (8, 3)</small><table border=\"1\" class=\"dataframe\"><thead><tr><th>steel</th><th>yield_strength_MPa</th><th>ultimate_strength_MPA</th></tr><tr><td>str</td><td>str</td><td>str</td></tr></thead><tbody><tr><td>&quot;AISI-SAE 4037&quot;</td><td>&quot;290&quot;</td><td>&quot;540&quot;</td></tr><tr><td>&quot;AISI 52100&quot;</td><td>&quot;460&quot;</td><td>&quot;1300&quot;</td></tr><tr><td>&quot;AISI-SAE 9254&quot;</td><td>&quot;410&quot;</td><td>&quot;660&quot;</td></tr><tr><td>&quot;AISI 1049&quot;</td><td>&quot;640&quot;</td><td>&quot;750&quot;</td></tr><tr><td>&quot;AISI-SAE 1042&quot;</td><td>&quot;580&quot;</td><td>&quot;700&quot;</td></tr><tr><td>&quot;AISI-SAE 1080&quot;</td><td>&quot;535&quot;</td><td>&quot;820&quot;</td></tr><tr><td>&quot;AISI 4047&quot;</td><td>&quot;310&quot;</td><td>&quot;580&quot;</td></tr><tr><td>&quot;AISI-SAE 1335&quot;</td><td>&quot;300&quot;</td><td>&quot;550&quot;</td></tr></tbody></table></div>"
      ],
      "text/plain": [
       "shape: (8, 3)\n",
       "┌───────────────┬────────────────────┬───────────────────────┐\n",
       "│ steel         ┆ yield_strength_MPa ┆ ultimate_strength_MPA │\n",
       "│ ---           ┆ ---                ┆ ---                   │\n",
       "│ str           ┆ str                ┆ str                   │\n",
       "╞═══════════════╪════════════════════╪═══════════════════════╡\n",
       "│ AISI-SAE 4037 ┆ 290                ┆ 540                   │\n",
       "│ AISI 52100    ┆ 460                ┆ 1300                  │\n",
       "│ AISI-SAE 9254 ┆ 410                ┆ 660                   │\n",
       "│ AISI 1049     ┆ 640                ┆ 750                   │\n",
       "│ AISI-SAE 1042 ┆ 580                ┆ 700                   │\n",
       "│ AISI-SAE 1080 ┆ 535                ┆ 820                   │\n",
       "│ AISI 4047     ┆ 310                ┆ 580                   │\n",
       "│ AISI-SAE 1335 ┆ 300                ┆ 550                   │\n",
       "└───────────────┴────────────────────┴───────────────────────┘"
      ]
     },
     "execution_count": 61,
     "metadata": {},
     "output_type": "execute_result"
    }
   ],
   "source": [
    "df_MIF_clean = df_MIF.select(['steel', 'ys', 'uts']).rename({'ys' : 'yield_strength_MPa',\n",
    "                                                             'uts' : 'ultimate_strength_MPA'})\n",
    "df_MIF_clean"
   ]
  },
  {
   "cell_type": "code",
   "execution_count": 62,
   "metadata": {},
   "outputs": [
    {
     "data": {
      "text/html": [
       "<div><style>\n",
       ".dataframe > thead > tr,\n",
       ".dataframe > tbody > tr {\n",
       "  text-align: right;\n",
       "  white-space: pre-wrap;\n",
       "}\n",
       "</style>\n",
       "<small>shape: (21, 3)</small><table border=\"1\" class=\"dataframe\"><thead><tr><th>steel</th><th>yield_strength_MPa</th><th>ultimate_strength_MPA</th></tr><tr><td>str</td><td>i64</td><td>i64</td></tr></thead><tbody><tr><td>&quot;AISI 6145&quot;</td><td>1165</td><td>1213</td></tr><tr><td>&quot;AISI-SAE 4140&quot;</td><td>415</td><td>655</td></tr><tr><td>&quot;AISI-SAE 1035&quot;</td><td>370</td><td>585</td></tr><tr><td>&quot;AISI-SAE 4340&quot;</td><td>470</td><td>745</td></tr><tr><td>&quot;AISI-SAE 1038&quot;</td><td>485</td><td>570</td></tr><tr><td>&hellip;</td><td>&hellip;</td><td>&hellip;</td></tr><tr><td>&quot;AISI-SAE 6150&quot;</td><td>415</td><td>670</td></tr><tr><td>&quot;AISI-SAE 5160&quot;</td><td>275</td><td>724</td></tr><tr><td>&quot;AISI 1095&quot;</td><td>525</td><td>685</td></tr><tr><td>&quot;AISI-SAE 5140&quot;</td><td>295</td><td>570</td></tr><tr><td>&quot;AISI 1055&quot;</td><td>560</td><td>660</td></tr></tbody></table></div>"
      ],
      "text/plain": [
       "shape: (21, 3)\n",
       "┌───────────────┬────────────────────┬───────────────────────┐\n",
       "│ steel         ┆ yield_strength_MPa ┆ ultimate_strength_MPA │\n",
       "│ ---           ┆ ---                ┆ ---                   │\n",
       "│ str           ┆ i64                ┆ i64                   │\n",
       "╞═══════════════╪════════════════════╪═══════════════════════╡\n",
       "│ AISI 6145     ┆ 1165               ┆ 1213                  │\n",
       "│ AISI-SAE 4140 ┆ 415                ┆ 655                   │\n",
       "│ AISI-SAE 1035 ┆ 370                ┆ 585                   │\n",
       "│ AISI-SAE 4340 ┆ 470                ┆ 745                   │\n",
       "│ AISI-SAE 1038 ┆ 485                ┆ 570                   │\n",
       "│ …             ┆ …                  ┆ …                     │\n",
       "│ AISI-SAE 6150 ┆ 415                ┆ 670                   │\n",
       "│ AISI-SAE 5160 ┆ 275                ┆ 724                   │\n",
       "│ AISI 1095     ┆ 525                ┆ 685                   │\n",
       "│ AISI-SAE 5140 ┆ 295                ┆ 570                   │\n",
       "│ AISI 1055     ┆ 560                ┆ 660                   │\n",
       "└───────────────┴────────────────────┴───────────────────────┘"
      ]
     },
     "execution_count": 62,
     "metadata": {},
     "output_type": "execute_result"
    }
   ],
   "source": [
    "df_AZoM_clean"
   ]
  },
  {
   "cell_type": "code",
   "execution_count": 63,
   "metadata": {},
   "outputs": [
    {
     "data": {
      "text/html": [
       "<div><style>\n",
       ".dataframe > thead > tr,\n",
       ".dataframe > tbody > tr {\n",
       "  text-align: right;\n",
       "  white-space: pre-wrap;\n",
       "}\n",
       "</style>\n",
       "<small>shape: (29, 3)</small><table border=\"1\" class=\"dataframe\"><thead><tr><th>steel</th><th>yield_strength_MPa</th><th>ultimate_strength_MPA</th></tr><tr><td>str</td><td>i64</td><td>i64</td></tr></thead><tbody><tr><td>&quot;AISI 6145&quot;</td><td>1165</td><td>1213</td></tr><tr><td>&quot;AISI-SAE 4140&quot;</td><td>415</td><td>655</td></tr><tr><td>&quot;AISI-SAE 1035&quot;</td><td>370</td><td>585</td></tr><tr><td>&quot;AISI-SAE 4340&quot;</td><td>470</td><td>745</td></tr><tr><td>&quot;AISI-SAE 1038&quot;</td><td>485</td><td>570</td></tr><tr><td>&hellip;</td><td>&hellip;</td><td>&hellip;</td></tr><tr><td>&quot;AISI 1049&quot;</td><td>640</td><td>750</td></tr><tr><td>&quot;AISI-SAE 1042&quot;</td><td>580</td><td>700</td></tr><tr><td>&quot;AISI-SAE 1080&quot;</td><td>535</td><td>820</td></tr><tr><td>&quot;AISI 4047&quot;</td><td>310</td><td>580</td></tr><tr><td>&quot;AISI-SAE 1335&quot;</td><td>300</td><td>550</td></tr></tbody></table></div>"
      ],
      "text/plain": [
       "shape: (29, 3)\n",
       "┌───────────────┬────────────────────┬───────────────────────┐\n",
       "│ steel         ┆ yield_strength_MPa ┆ ultimate_strength_MPA │\n",
       "│ ---           ┆ ---                ┆ ---                   │\n",
       "│ str           ┆ i64                ┆ i64                   │\n",
       "╞═══════════════╪════════════════════╪═══════════════════════╡\n",
       "│ AISI 6145     ┆ 1165               ┆ 1213                  │\n",
       "│ AISI-SAE 4140 ┆ 415                ┆ 655                   │\n",
       "│ AISI-SAE 1035 ┆ 370                ┆ 585                   │\n",
       "│ AISI-SAE 4340 ┆ 470                ┆ 745                   │\n",
       "│ AISI-SAE 1038 ┆ 485                ┆ 570                   │\n",
       "│ …             ┆ …                  ┆ …                     │\n",
       "│ AISI 1049     ┆ 640                ┆ 750                   │\n",
       "│ AISI-SAE 1042 ┆ 580                ┆ 700                   │\n",
       "│ AISI-SAE 1080 ┆ 535                ┆ 820                   │\n",
       "│ AISI 4047     ┆ 310                ┆ 580                   │\n",
       "│ AISI-SAE 1335 ┆ 300                ┆ 550                   │\n",
       "└───────────────┴────────────────────┴───────────────────────┘"
      ]
     },
     "execution_count": 63,
     "metadata": {},
     "output_type": "execute_result"
    }
   ],
   "source": [
    "df_complete_props = pl.concat([df_AZoM_clean, df_MIF_clean], how='vertical_relaxed')\n",
    "df_complete_props = df_complete_props.with_columns(pl.col('yield_strength_MPa').cast(pl.Int64),\n",
    "                                       pl.col('ultimate_strength_MPA').cast(pl.Int64))\n",
    "df_complete_props"
   ]
  },
  {
   "cell_type": "code",
   "execution_count": 64,
   "metadata": {},
   "outputs": [],
   "source": [
    "df_complete_props.write_csv(f'{resources_path.parent}/scraped_properties.csv')"
   ]
  },
  {
   "cell_type": "markdown",
   "metadata": {},
   "source": [
    "# Join properties data with tempering data\n",
    "Inner join to exclude the steels that are not searchable with the given information, or that do not conform to any known and accessable standards.\n",
    "\n",
    "1286 rows after join"
   ]
  },
  {
   "cell_type": "code",
   "execution_count": 65,
   "metadata": {},
   "outputs": [],
   "source": [
    "df_complete_props = df_complete_props.rename({'steel':'searchable'})\n",
    "data = series_searchable_steel.join(df_complete_props, how=\"inner\", on='searchable')"
   ]
  },
  {
   "cell_type": "code",
   "execution_count": 66,
   "metadata": {},
   "outputs": [
    {
     "data": {
      "text/plain": [
       "(1286, 20)"
      ]
     },
     "execution_count": 66,
     "metadata": {},
     "output_type": "execute_result"
    }
   ],
   "source": [
    "data.shape"
   ]
  },
  {
   "cell_type": "markdown",
   "metadata": {},
   "source": [
    "# Select columns that have relevant data for the analysis\n",
    "\n",
    "Exclude:\n",
    "* Source data - does not provide information about the problem\n",
    "* initial hardness - very incomplete data and no accurate way to fill it\n",
    "* searchable -  contains more information than searchable, but is likely relipcated in elemental\n",
    "  * Searchable contains fewer values, this grouping was used to scrape the strength values and contains no additional information\n",
    "  * steel_type contains steel denotation from the papers. The informationa in this column is replicated in the elemental composition columns\n",
    "  * PCA will handle this\n"
   ]
  },
  {
   "cell_type": "code",
   "execution_count": 67,
   "metadata": {},
   "outputs": [
    {
     "data": {
      "text/plain": [
       "['steel_type',\n",
       " 'tempering_time_s',\n",
       " 'tempering_temperature_C',\n",
       " 'C',\n",
       " 'Mn',\n",
       " 'P',\n",
       " 'S',\n",
       " 'Si',\n",
       " 'Ni',\n",
       " 'Cr',\n",
       " 'Mo',\n",
       " 'V',\n",
       " 'Al',\n",
       " 'Cu',\n",
       " 'final_hardness_post_tempering_HRC',\n",
       " 'yield_strength_MPa',\n",
       " 'ultimate_strength_MPA']"
      ]
     },
     "execution_count": 67,
     "metadata": {},
     "output_type": "execute_result"
    }
   ],
   "source": [
    "df_relevent = data.drop(['source', 'searchable', 'initial_hardness_post_quenching_HRC'])\n",
    "df_relevent.columns"
   ]
  },
  {
   "cell_type": "markdown",
   "metadata": {},
   "source": [
    "# Preprocessing the data for machine learning"
   ]
  },
  {
   "cell_type": "code",
   "execution_count": 68,
   "metadata": {},
   "outputs": [],
   "source": [
    "target_columns = [ 'tempering_time_s', 'tempering_temperature_C']\n",
    "\n",
    "X_prepre = df_relevent.drop(target_columns)\n",
    "\n",
    "y_prepre = df_relevent.select(target_columns)"
   ]
  },
  {
   "cell_type": "code",
   "execution_count": 69,
   "metadata": {},
   "outputs": [],
   "source": [
    "#save pre-ML preprocessing data so that it can be loaded by the other file\n",
    "combined_data = pl.concat([X_prepre, y_prepre], how='horizontal')\n",
    "combined_data.write_csv(f'{resources_path.parent}/all_cols_post_scrape.csv')"
   ]
  },
  {
   "cell_type": "code",
   "execution_count": 70,
   "metadata": {},
   "outputs": [
    {
     "data": {
      "text/html": [
       "<div><style>\n",
       ".dataframe > thead > tr,\n",
       ".dataframe > tbody > tr {\n",
       "  text-align: right;\n",
       "  white-space: pre-wrap;\n",
       "}\n",
       "</style>\n",
       "<small>shape: (3, 2)</small><table border=\"1\" class=\"dataframe\"><thead><tr><th>tempering_time_s</th><th>tempering_temperature_C</th></tr><tr><td>i64</td><td>f64</td></tr></thead><tbody><tr><td>600</td><td>204.4</td></tr><tr><td>600</td><td>260.0</td></tr><tr><td>600</td><td>315.6</td></tr></tbody></table></div>"
      ],
      "text/plain": [
       "shape: (3, 2)\n",
       "┌──────────────────┬─────────────────────────┐\n",
       "│ tempering_time_s ┆ tempering_temperature_C │\n",
       "│ ---              ┆ ---                     │\n",
       "│ i64              ┆ f64                     │\n",
       "╞══════════════════╪═════════════════════════╡\n",
       "│ 600              ┆ 204.4                   │\n",
       "│ 600              ┆ 260.0                   │\n",
       "│ 600              ┆ 315.6                   │\n",
       "└──────────────────┴─────────────────────────┘"
      ]
     },
     "execution_count": 70,
     "metadata": {},
     "output_type": "execute_result"
    }
   ],
   "source": [
    "y_prepre.head(3)"
   ]
  },
  {
   "cell_type": "markdown",
   "metadata": {},
   "source": [
    "# Preprocess target values\n",
    "\n",
    "All are converted to Celcius but several are very near together because theyw ere originally Farenheight.\n",
    "\n",
    "eg 200 C is negligably near 204.4 C which equals 400 F.\n",
    "\n",
    "55 C ranges were picked, as it makes 11 whole number bins from 100 to 705\n"
   ]
  },
  {
   "cell_type": "markdown",
   "metadata": {},
   "source": [
    "## Bin tempering values by 55 C\n",
    "\n",
    "38 C was considered (100 F) but some values were indistinct. \n",
    "55 C is a whole number value that results in a whole number of bins.\n",
    "\n",
    "It results in 11 bins. \n",
    "\n",
    "This is the same number of bins when we bin tempering time <= 5 minutes"
   ]
  },
  {
   "cell_type": "code",
   "execution_count": 71,
   "metadata": {},
   "outputs": [
    {
     "data": {
      "text/plain": [
       "[155, 210, 265, 320, 375, 430, 485, 540, 595, 650]"
      ]
     },
     "execution_count": 71,
     "metadata": {},
     "output_type": "execute_result"
    }
   ],
   "source": [
    "tempering_bins = range(155, 705, 55)\n",
    "list(tempering_bins)"
   ]
  },
  {
   "cell_type": "code",
   "execution_count": 72,
   "metadata": {},
   "outputs": [],
   "source": [
    "labels = ['100', '200', '250', '300', '350', '400', '450', '500', '550', '600', '700']"
   ]
  },
  {
   "cell_type": "code",
   "execution_count": 73,
   "metadata": {},
   "outputs": [
    {
     "data": {
      "text/html": [
       "<div><style>\n",
       ".dataframe > thead > tr,\n",
       ".dataframe > tbody > tr {\n",
       "  text-align: right;\n",
       "  white-space: pre-wrap;\n",
       "}\n",
       "</style>\n",
       "<small>shape: (1_286,)</small><table border=\"1\" class=\"dataframe\"><thead><tr><th>tempering_temperature_C</th></tr><tr><td>cat</td></tr></thead><tbody><tr><td>&quot;200&quot;</td></tr><tr><td>&quot;250&quot;</td></tr><tr><td>&quot;300&quot;</td></tr><tr><td>&quot;350&quot;</td></tr><tr><td>&quot;400&quot;</td></tr><tr><td>&hellip;</td></tr><tr><td>&quot;300&quot;</td></tr><tr><td>&quot;400&quot;</td></tr><tr><td>&quot;500&quot;</td></tr><tr><td>&quot;600&quot;</td></tr><tr><td>&quot;700&quot;</td></tr></tbody></table></div>"
      ],
      "text/plain": [
       "shape: (1_286,)\n",
       "Series: 'tempering_temperature_C' [cat]\n",
       "[\n",
       "\t\"200\"\n",
       "\t\"250\"\n",
       "\t\"300\"\n",
       "\t\"350\"\n",
       "\t\"400\"\n",
       "\t…\n",
       "\t\"300\"\n",
       "\t\"400\"\n",
       "\t\"500\"\n",
       "\t\"600\"\n",
       "\t\"700\"\n",
       "]"
      ]
     },
     "execution_count": 73,
     "metadata": {},
     "output_type": "execute_result"
    }
   ],
   "source": [
    "#binned_temperting_tempC = \n",
    "tempering_tempC_binned = y_prepre['tempering_temperature_C'].cut(tempering_bins, labels=labels)\n",
    "tempering_tempC_binned\n"
   ]
  },
  {
   "cell_type": "code",
   "execution_count": 74,
   "metadata": {},
   "outputs": [
    {
     "data": {
      "text/html": [
       "<div><style>\n",
       ".dataframe > thead > tr,\n",
       ".dataframe > tbody > tr {\n",
       "  text-align: right;\n",
       "  white-space: pre-wrap;\n",
       "}\n",
       "</style>\n",
       "<small>shape: (1_286, 2)</small><table border=\"1\" class=\"dataframe\"><thead><tr><th>tempering_time_s_proc</th><th>tempering_temperature_C_proc</th></tr><tr><td>i64</td><td>cat</td></tr></thead><tbody><tr><td>600</td><td>&quot;200&quot;</td></tr><tr><td>600</td><td>&quot;250&quot;</td></tr><tr><td>600</td><td>&quot;300&quot;</td></tr><tr><td>600</td><td>&quot;350&quot;</td></tr><tr><td>600</td><td>&quot;400&quot;</td></tr><tr><td>&hellip;</td><td>&hellip;</td></tr><tr><td>86400</td><td>&quot;300&quot;</td></tr><tr><td>86400</td><td>&quot;400&quot;</td></tr><tr><td>86400</td><td>&quot;500&quot;</td></tr><tr><td>86400</td><td>&quot;600&quot;</td></tr><tr><td>86400</td><td>&quot;700&quot;</td></tr></tbody></table></div>"
      ],
      "text/plain": [
       "shape: (1_286, 2)\n",
       "┌───────────────────────┬──────────────────────────────┐\n",
       "│ tempering_time_s_proc ┆ tempering_temperature_C_proc │\n",
       "│ ---                   ┆ ---                          │\n",
       "│ i64                   ┆ cat                          │\n",
       "╞═══════════════════════╪══════════════════════════════╡\n",
       "│ 600                   ┆ 200                          │\n",
       "│ 600                   ┆ 250                          │\n",
       "│ 600                   ┆ 300                          │\n",
       "│ 600                   ┆ 350                          │\n",
       "│ 600                   ┆ 400                          │\n",
       "│ …                     ┆ …                            │\n",
       "│ 86400                 ┆ 300                          │\n",
       "│ 86400                 ┆ 400                          │\n",
       "│ 86400                 ┆ 500                          │\n",
       "│ 86400                 ┆ 600                          │\n",
       "│ 86400                 ┆ 700                          │\n",
       "└───────────────────────┴──────────────────────────────┘"
      ]
     },
     "execution_count": 74,
     "metadata": {},
     "output_type": "execute_result"
    }
   ],
   "source": [
    "y = pl.DataFrame({'tempering_time_s_proc': y_prepre['tempering_time_s'],\n",
    "    #'tempering_time_s_proc': tts_bin_string,\n",
    "                   'tempering_temperature_C_proc': tempering_tempC_binned})\n",
    "y"
   ]
  },
  {
   "cell_type": "markdown",
   "metadata": {},
   "source": [
    "# Preprocess data values"
   ]
  },
  {
   "cell_type": "code",
   "execution_count": 75,
   "metadata": {},
   "outputs": [
    {
     "name": "stdout",
     "output_type": "stream",
     "text": [
      "(1286, 15)\n"
     ]
    },
    {
     "data": {
      "text/html": [
       "<div><style>\n",
       ".dataframe > thead > tr,\n",
       ".dataframe > tbody > tr {\n",
       "  text-align: right;\n",
       "  white-space: pre-wrap;\n",
       "}\n",
       "</style>\n",
       "<small>shape: (3, 15)</small><table border=\"1\" class=\"dataframe\"><thead><tr><th>steel_type</th><th>C</th><th>Mn</th><th>P</th><th>S</th><th>Si</th><th>Ni</th><th>Cr</th><th>Mo</th><th>V</th><th>Al</th><th>Cu</th><th>final_hardness_post_tempering_HRC</th><th>yield_strength_MPa</th><th>ultimate_strength_MPA</th></tr><tr><td>str</td><td>f64</td><td>f64</td><td>f64</td><td>f64</td><td>f64</td><td>f64</td><td>f64</td><td>f64</td><td>f64</td><td>f64</td><td>f64</td><td>f64</td><td>i64</td><td>i64</td></tr></thead><tbody><tr><td>&quot;AISI-SAE 1026&quot;</td><td>0.25</td><td>0.79</td><td>0.012</td><td>0.026</td><td>0.11</td><td>0.0</td><td>0.0</td><td>0.0</td><td>0.0</td><td>0.0</td><td>0.0</td><td>50.6</td><td>415</td><td>490</td></tr><tr><td>&quot;AISI-SAE 1026&quot;</td><td>0.25</td><td>0.79</td><td>0.012</td><td>0.026</td><td>0.11</td><td>0.0</td><td>0.0</td><td>0.0</td><td>0.0</td><td>0.0</td><td>0.0</td><td>48.3</td><td>415</td><td>490</td></tr><tr><td>&quot;AISI-SAE 1026&quot;</td><td>0.25</td><td>0.79</td><td>0.012</td><td>0.026</td><td>0.11</td><td>0.0</td><td>0.0</td><td>0.0</td><td>0.0</td><td>0.0</td><td>0.0</td><td>43.7</td><td>415</td><td>490</td></tr></tbody></table></div>"
      ],
      "text/plain": [
       "shape: (3, 15)\n",
       "┌───────────────┬──────┬──────┬───────┬───┬─────┬────────────────┬────────────────┬────────────────┐\n",
       "│ steel_type    ┆ C    ┆ Mn   ┆ P     ┆ … ┆ Cu  ┆ final_hardness ┆ yield_strength ┆ ultimate_stren │\n",
       "│ ---           ┆ ---  ┆ ---  ┆ ---   ┆   ┆ --- ┆ _post_temperin ┆ _MPa           ┆ gth_MPA        │\n",
       "│ str           ┆ f64  ┆ f64  ┆ f64   ┆   ┆ f64 ┆ g_…            ┆ ---            ┆ ---            │\n",
       "│               ┆      ┆      ┆       ┆   ┆     ┆ ---            ┆ i64            ┆ i64            │\n",
       "│               ┆      ┆      ┆       ┆   ┆     ┆ f64            ┆                ┆                │\n",
       "╞═══════════════╪══════╪══════╪═══════╪═══╪═════╪════════════════╪════════════════╪════════════════╡\n",
       "│ AISI-SAE 1026 ┆ 0.25 ┆ 0.79 ┆ 0.012 ┆ … ┆ 0.0 ┆ 50.6           ┆ 415            ┆ 490            │\n",
       "│ AISI-SAE 1026 ┆ 0.25 ┆ 0.79 ┆ 0.012 ┆ … ┆ 0.0 ┆ 48.3           ┆ 415            ┆ 490            │\n",
       "│ AISI-SAE 1026 ┆ 0.25 ┆ 0.79 ┆ 0.012 ┆ … ┆ 0.0 ┆ 43.7           ┆ 415            ┆ 490            │\n",
       "└───────────────┴──────┴──────┴───────┴───┴─────┴────────────────┴────────────────┴────────────────┘"
      ]
     },
     "execution_count": 75,
     "metadata": {},
     "output_type": "execute_result"
    }
   ],
   "source": [
    "print(X_prepre.shape)\n",
    "X_prepre.head(3)"
   ]
  },
  {
   "cell_type": "markdown",
   "metadata": {},
   "source": [
    "# Encode and scale variables\n",
    "Most columns are numeric and range from 0.0# to 1000 so scaling is necessary\n",
    "steel names are categorical and would benefit from one-hot encoding."
   ]
  },
  {
   "cell_type": "markdown",
   "metadata": {},
   "source": [
    "## One hot encode steel types\n",
    "\n",
    "Encoding chosen because this is a categorical for a given material and testing suite"
   ]
  },
  {
   "cell_type": "code",
   "execution_count": 76,
   "metadata": {},
   "outputs": [],
   "source": [
    "to_scale = X_prepre.drop('steel_type')\n",
    "check_onehot = X_prepre.select('steel_type')"
   ]
  },
  {
   "cell_type": "code",
   "execution_count": 77,
   "metadata": {},
   "outputs": [
    {
     "name": "stdout",
     "output_type": "stream",
     "text": [
      "30\n",
      "AISI 1055\n",
      "AISI-SAE 1042\n",
      "AISI-SAE 1335\n",
      "AISI-SAE 1040\n",
      "AISI-SAE 6150\n",
      "AISI-SAE 4027\n",
      "AISI-SAE 5160\n",
      "AISI 6145\n",
      "AISI 52100\n",
      "AISI 1030\n",
      "AISI 1095\n",
      "AISI-SAE 1038\n",
      "AISI-SAE 1065\n",
      "AISI 1090\n",
      "AISI-SAE 4037\n",
      "AISI 4047\n",
      "AISI-SAE 9254\n",
      "AISI-SAE 4140\n",
      "AISI-SAE 5140\n",
      "AISI 1074 Carbon Steel\n",
      "AISI 1049\n",
      "AISI-SAE 4340\n",
      "AISI-SAE 1045\n",
      "AISI 4640\n",
      "AISI-SAE 1080\n",
      "AISI-SAE 1050\n",
      "AISI-SAE 1035\n",
      "AISI-SAE 1026\n",
      "28\n"
     ]
    }
   ],
   "source": [
    "print(len(check_onehot.unique()))\n",
    "# correct duplicate name \n",
    "dict_rename.update({'AISI-SAE 1030': \"AISI 1030\"})\n",
    "to_onehot = check_onehot['steel_type']\\\n",
    "    .replace(dict_rename)\\\n",
    "    .str.strip_chars()\n",
    "[print(val) for val in to_onehot.unique()]\n",
    "print(len(to_onehot.unique()))"
   ]
  },
  {
   "cell_type": "code",
   "execution_count": 78,
   "metadata": {},
   "outputs": [
    {
     "data": {
      "text/plain": [
       "(1286, 1)"
      ]
     },
     "execution_count": 78,
     "metadata": {},
     "output_type": "execute_result"
    }
   ],
   "source": [
    "to_onehot = pl.DataFrame(to_onehot)\n",
    "to_onehot.shape"
   ]
  },
  {
   "cell_type": "code",
   "execution_count": 79,
   "metadata": {},
   "outputs": [
    {
     "data": {
      "text/html": [
       "<div><style>\n",
       ".dataframe > thead > tr,\n",
       ".dataframe > tbody > tr {\n",
       "  text-align: right;\n",
       "  white-space: pre-wrap;\n",
       "}\n",
       "</style>\n",
       "<small>shape: (3, 28)</small><table border=\"1\" class=\"dataframe\"><thead><tr><th>steel_type_AISI 1030</th><th>steel_type_AISI 1049</th><th>steel_type_AISI 1055</th><th>steel_type_AISI 1074 Carbon Steel</th><th>steel_type_AISI 1090</th><th>steel_type_AISI 1095</th><th>steel_type_AISI 4047</th><th>steel_type_AISI 4640</th><th>steel_type_AISI 52100</th><th>steel_type_AISI 6145</th><th>steel_type_AISI-SAE 1026</th><th>steel_type_AISI-SAE 1035</th><th>steel_type_AISI-SAE 1038</th><th>steel_type_AISI-SAE 1040</th><th>steel_type_AISI-SAE 1042</th><th>steel_type_AISI-SAE 1045</th><th>steel_type_AISI-SAE 1050</th><th>steel_type_AISI-SAE 1065</th><th>steel_type_AISI-SAE 1080</th><th>steel_type_AISI-SAE 1335</th><th>steel_type_AISI-SAE 4027</th><th>steel_type_AISI-SAE 4037</th><th>steel_type_AISI-SAE 4140</th><th>steel_type_AISI-SAE 4340</th><th>steel_type_AISI-SAE 5140</th><th>steel_type_AISI-SAE 5160</th><th>steel_type_AISI-SAE 6150</th><th>steel_type_AISI-SAE 9254</th></tr><tr><td>f64</td><td>f64</td><td>f64</td><td>f64</td><td>f64</td><td>f64</td><td>f64</td><td>f64</td><td>f64</td><td>f64</td><td>f64</td><td>f64</td><td>f64</td><td>f64</td><td>f64</td><td>f64</td><td>f64</td><td>f64</td><td>f64</td><td>f64</td><td>f64</td><td>f64</td><td>f64</td><td>f64</td><td>f64</td><td>f64</td><td>f64</td><td>f64</td></tr></thead><tbody><tr><td>0.0</td><td>0.0</td><td>0.0</td><td>0.0</td><td>0.0</td><td>1.0</td><td>0.0</td><td>0.0</td><td>0.0</td><td>0.0</td><td>0.0</td><td>0.0</td><td>0.0</td><td>0.0</td><td>0.0</td><td>0.0</td><td>0.0</td><td>0.0</td><td>0.0</td><td>0.0</td><td>0.0</td><td>0.0</td><td>0.0</td><td>0.0</td><td>0.0</td><td>0.0</td><td>0.0</td><td>0.0</td></tr><tr><td>0.0</td><td>0.0</td><td>0.0</td><td>0.0</td><td>0.0</td><td>1.0</td><td>0.0</td><td>0.0</td><td>0.0</td><td>0.0</td><td>0.0</td><td>0.0</td><td>0.0</td><td>0.0</td><td>0.0</td><td>0.0</td><td>0.0</td><td>0.0</td><td>0.0</td><td>0.0</td><td>0.0</td><td>0.0</td><td>0.0</td><td>0.0</td><td>0.0</td><td>0.0</td><td>0.0</td><td>0.0</td></tr><tr><td>0.0</td><td>0.0</td><td>0.0</td><td>0.0</td><td>0.0</td><td>1.0</td><td>0.0</td><td>0.0</td><td>0.0</td><td>0.0</td><td>0.0</td><td>0.0</td><td>0.0</td><td>0.0</td><td>0.0</td><td>0.0</td><td>0.0</td><td>0.0</td><td>0.0</td><td>0.0</td><td>0.0</td><td>0.0</td><td>0.0</td><td>0.0</td><td>0.0</td><td>0.0</td><td>0.0</td><td>0.0</td></tr></tbody></table></div>"
      ],
      "text/plain": [
       "shape: (3, 28)\n",
       "┌───────────┬───────────┬───────────┬───────────┬───┬───────────┬───────────┬───────────┬──────────┐\n",
       "│ steel_typ ┆ steel_typ ┆ steel_typ ┆ steel_typ ┆ … ┆ steel_typ ┆ steel_typ ┆ steel_typ ┆ steel_ty │\n",
       "│ e_AISI    ┆ e_AISI    ┆ e_AISI    ┆ e_AISI    ┆   ┆ e_AISI-SA ┆ e_AISI-SA ┆ e_AISI-SA ┆ pe_AISI- │\n",
       "│ 1030      ┆ 1049      ┆ 1055      ┆ 1074      ┆   ┆ E 5140    ┆ E 5160    ┆ E 6150    ┆ SAE 9254 │\n",
       "│ ---       ┆ ---       ┆ ---       ┆ Carbon    ┆   ┆ ---       ┆ ---       ┆ ---       ┆ ---      │\n",
       "│ f64       ┆ f64       ┆ f64       ┆ St…       ┆   ┆ f64       ┆ f64       ┆ f64       ┆ f64      │\n",
       "│           ┆           ┆           ┆ ---       ┆   ┆           ┆           ┆           ┆          │\n",
       "│           ┆           ┆           ┆ f64       ┆   ┆           ┆           ┆           ┆          │\n",
       "╞═══════════╪═══════════╪═══════════╪═══════════╪═══╪═══════════╪═══════════╪═══════════╪══════════╡\n",
       "│ 0.0       ┆ 0.0       ┆ 0.0       ┆ 0.0       ┆ … ┆ 0.0       ┆ 0.0       ┆ 0.0       ┆ 0.0      │\n",
       "│ 0.0       ┆ 0.0       ┆ 0.0       ┆ 0.0       ┆ … ┆ 0.0       ┆ 0.0       ┆ 0.0       ┆ 0.0      │\n",
       "│ 0.0       ┆ 0.0       ┆ 0.0       ┆ 0.0       ┆ … ┆ 0.0       ┆ 0.0       ┆ 0.0       ┆ 0.0      │\n",
       "└───────────┴───────────┴───────────┴───────────┴───┴───────────┴───────────┴───────────┴──────────┘"
      ]
     },
     "execution_count": 79,
     "metadata": {},
     "output_type": "execute_result"
    }
   ],
   "source": [
    "# create the transformers\n",
    "ohe = OneHotEncoder(handle_unknown='ignore')\n",
    "\n",
    "oh_transformed = ohe.fit_transform(to_onehot)\n",
    "\n",
    "# get the transformed column names\n",
    "ohe_names = ohe.get_feature_names_out()\n",
    "\n",
    "# 4 stack exchange methods tried. Then I made this one up ¯\\_(ツ)_/¯\n",
    "# Combinated of recenly changed API and polars I think, no way to rename all columns like in pandas.\n",
    "columns = [f'column_{x}' for x in range(0, 30)]\n",
    "rename_dict = dict(zip(columns, ohe_names))\n",
    "\n",
    "df_ohe_encoded = pl.DataFrame(oh_transformed.toarray()).rename(rename_dict)\n",
    "df_ohe_encoded.tail(3)"
   ]
  },
  {
   "cell_type": "markdown",
   "metadata": {},
   "source": [
    "## Scale numerical columns \n",
    "This will ensure the small elemental composition values are not overshadowed by the large strength properties "
   ]
  },
  {
   "cell_type": "code",
   "execution_count": 80,
   "metadata": {},
   "outputs": [
    {
     "name": "stdout",
     "output_type": "stream",
     "text": [
      "<class 'polars.dataframe.frame.DataFrame'>\n"
     ]
    },
    {
     "data": {
      "text/html": [
       "<div><style>\n",
       ".dataframe > thead > tr,\n",
       ".dataframe > tbody > tr {\n",
       "  text-align: right;\n",
       "  white-space: pre-wrap;\n",
       "}\n",
       "</style>\n",
       "<small>shape: (3, 14)</small><table border=\"1\" class=\"dataframe\"><thead><tr><th>C</th><th>Mn</th><th>P</th><th>S</th><th>Si</th><th>Ni</th><th>Cr</th><th>Mo</th><th>V</th><th>Al</th><th>Cu</th><th>final_hardness_post_tempering_HRC</th><th>yield_strength_MPa</th><th>ultimate_strength_MPA</th></tr><tr><td>f64</td><td>f64</td><td>f64</td><td>f64</td><td>f64</td><td>f64</td><td>f64</td><td>f64</td><td>f64</td><td>f64</td><td>f64</td><td>f64</td><td>i64</td><td>i64</td></tr></thead><tbody><tr><td>1.15</td><td>0.58</td><td>0.012</td><td>0.021</td><td>0.09</td><td>0.0</td><td>0.01</td><td>0.0</td><td>0.0</td><td>0.0</td><td>0.0</td><td>32.0</td><td>525</td><td>685</td></tr><tr><td>1.15</td><td>0.58</td><td>0.012</td><td>0.021</td><td>0.09</td><td>0.0</td><td>0.01</td><td>0.0</td><td>0.0</td><td>0.0</td><td>0.0</td><td>23.0</td><td>525</td><td>685</td></tr><tr><td>1.15</td><td>0.58</td><td>0.012</td><td>0.021</td><td>0.09</td><td>0.0</td><td>0.01</td><td>0.0</td><td>0.0</td><td>0.0</td><td>0.0</td><td>4.5</td><td>525</td><td>685</td></tr></tbody></table></div>"
      ],
      "text/plain": [
       "shape: (3, 14)\n",
       "┌──────┬──────┬───────┬───────┬───┬─────┬───────────────────┬───────────────────┬──────────────────┐\n",
       "│ C    ┆ Mn   ┆ P     ┆ S     ┆ … ┆ Cu  ┆ final_hardness_po ┆ yield_strength_MP ┆ ultimate_strengt │\n",
       "│ ---  ┆ ---  ┆ ---   ┆ ---   ┆   ┆ --- ┆ st_tempering_…    ┆ a                 ┆ h_MPA            │\n",
       "│ f64  ┆ f64  ┆ f64   ┆ f64   ┆   ┆ f64 ┆ ---               ┆ ---               ┆ ---              │\n",
       "│      ┆      ┆       ┆       ┆   ┆     ┆ f64               ┆ i64               ┆ i64              │\n",
       "╞══════╪══════╪═══════╪═══════╪═══╪═════╪═══════════════════╪═══════════════════╪══════════════════╡\n",
       "│ 1.15 ┆ 0.58 ┆ 0.012 ┆ 0.021 ┆ … ┆ 0.0 ┆ 32.0              ┆ 525               ┆ 685              │\n",
       "│ 1.15 ┆ 0.58 ┆ 0.012 ┆ 0.021 ┆ … ┆ 0.0 ┆ 23.0              ┆ 525               ┆ 685              │\n",
       "│ 1.15 ┆ 0.58 ┆ 0.012 ┆ 0.021 ┆ … ┆ 0.0 ┆ 4.5               ┆ 525               ┆ 685              │\n",
       "└──────┴──────┴───────┴───────┴───┴─────┴───────────────────┴───────────────────┴──────────────────┘"
      ]
     },
     "execution_count": 80,
     "metadata": {},
     "output_type": "execute_result"
    }
   ],
   "source": [
    "print(type(to_scale))\n",
    "to_scale.tail(3)"
   ]
  },
  {
   "cell_type": "code",
   "execution_count": 81,
   "metadata": {},
   "outputs": [
    {
     "data": {
      "text/html": [
       "<div><style>\n",
       ".dataframe > thead > tr,\n",
       ".dataframe > tbody > tr {\n",
       "  text-align: right;\n",
       "  white-space: pre-wrap;\n",
       "}\n",
       "</style>\n",
       "<small>shape: (3, 14)</small><table border=\"1\" class=\"dataframe\"><thead><tr><th>C</th><th>Mn</th><th>P</th><th>S</th><th>Si</th><th>Ni</th><th>Cr</th><th>Mo</th><th>V</th><th>Al</th><th>Cu</th><th>final_hardness_post_tempering_HRC</th><th>yield_strength_MPa</th><th>ultimate_strength_MPA</th></tr><tr><td>f64</td><td>f64</td><td>f64</td><td>f64</td><td>f64</td><td>f64</td><td>f64</td><td>f64</td><td>f64</td><td>f64</td><td>f64</td><td>f64</td><td>f64</td><td>f64</td></tr></thead><tbody><tr><td>2.69532</td><td>-0.618793</td><td>-0.60703</td><td>-0.394811</td><td>-0.591857</td><td>-0.392117</td><td>-0.791743</td><td>-0.638219</td><td>-0.201129</td><td>0.0</td><td>-0.337311</td><td>-0.682819</td><td>0.188703</td><td>-0.105424</td></tr><tr><td>2.69532</td><td>-0.618793</td><td>-0.60703</td><td>-0.394811</td><td>-0.591857</td><td>-0.392117</td><td>-0.791743</td><td>-0.638219</td><td>-0.201129</td><td>0.0</td><td>-0.337311</td><td>-1.309217</td><td>0.188703</td><td>-0.105424</td></tr><tr><td>2.69532</td><td>-0.618793</td><td>-0.60703</td><td>-0.394811</td><td>-0.591857</td><td>-0.392117</td><td>-0.791743</td><td>-0.638219</td><td>-0.201129</td><td>0.0</td><td>-0.337311</td><td>-2.596813</td><td>0.188703</td><td>-0.105424</td></tr></tbody></table></div>"
      ],
      "text/plain": [
       "shape: (3, 14)\n",
       "┌─────────┬───────────┬──────────┬───────────┬───┬───────────┬────────────┬────────────┬───────────┐\n",
       "│ C       ┆ Mn        ┆ P        ┆ S         ┆ … ┆ Cu        ┆ final_hard ┆ yield_stre ┆ ultimate_ │\n",
       "│ ---     ┆ ---       ┆ ---      ┆ ---       ┆   ┆ ---       ┆ ness_post_ ┆ ngth_MPa   ┆ strength_ │\n",
       "│ f64     ┆ f64       ┆ f64      ┆ f64       ┆   ┆ f64       ┆ tempering_ ┆ ---        ┆ MPA       │\n",
       "│         ┆           ┆          ┆           ┆   ┆           ┆ …          ┆ f64        ┆ ---       │\n",
       "│         ┆           ┆          ┆           ┆   ┆           ┆ ---        ┆            ┆ f64       │\n",
       "│         ┆           ┆          ┆           ┆   ┆           ┆ f64        ┆            ┆           │\n",
       "╞═════════╪═══════════╪══════════╪═══════════╪═══╪═══════════╪════════════╪════════════╪═══════════╡\n",
       "│ 2.69532 ┆ -0.618793 ┆ -0.60703 ┆ -0.394811 ┆ … ┆ -0.337311 ┆ -0.682819  ┆ 0.188703   ┆ -0.105424 │\n",
       "│ 2.69532 ┆ -0.618793 ┆ -0.60703 ┆ -0.394811 ┆ … ┆ -0.337311 ┆ -1.309217  ┆ 0.188703   ┆ -0.105424 │\n",
       "│ 2.69532 ┆ -0.618793 ┆ -0.60703 ┆ -0.394811 ┆ … ┆ -0.337311 ┆ -2.596813  ┆ 0.188703   ┆ -0.105424 │\n",
       "└─────────┴───────────┴──────────┴───────────┴───┴───────────┴────────────┴────────────┴───────────┘"
      ]
     },
     "execution_count": 81,
     "metadata": {},
     "output_type": "execute_result"
    }
   ],
   "source": [
    "scaler = StandardScaler()\n",
    "\n",
    "X_scaler = scaler.fit(to_scale)\n",
    "\n",
    "scaled = scaler.transform(to_scale)\n",
    "\n",
    "scaler_names = scaler.get_feature_names_out()\n",
    "columns = [f'column_{x}' for x in range(0, 14)]\n",
    "rename_dict = dict(zip(columns, scaler_names))\n",
    "\n",
    "df_scaled = pl.DataFrame(scaled).rename(rename_dict)\n",
    "df_scaled.tail(3)\n"
   ]
  },
  {
   "cell_type": "markdown",
   "metadata": {},
   "source": [
    "## Merge one hot encoded variables with scaled numeric variables"
   ]
  },
  {
   "cell_type": "code",
   "execution_count": 82,
   "metadata": {},
   "outputs": [
    {
     "data": {
      "text/html": [
       "<div><style>\n",
       ".dataframe > thead > tr,\n",
       ".dataframe > tbody > tr {\n",
       "  text-align: right;\n",
       "  white-space: pre-wrap;\n",
       "}\n",
       "</style>\n",
       "<small>shape: (1_286, 42)</small><table border=\"1\" class=\"dataframe\"><thead><tr><th>steel_type_AISI 1030</th><th>steel_type_AISI 1049</th><th>steel_type_AISI 1055</th><th>steel_type_AISI 1074 Carbon Steel</th><th>steel_type_AISI 1090</th><th>steel_type_AISI 1095</th><th>steel_type_AISI 4047</th><th>steel_type_AISI 4640</th><th>steel_type_AISI 52100</th><th>steel_type_AISI 6145</th><th>steel_type_AISI-SAE 1026</th><th>steel_type_AISI-SAE 1035</th><th>steel_type_AISI-SAE 1038</th><th>steel_type_AISI-SAE 1040</th><th>steel_type_AISI-SAE 1042</th><th>steel_type_AISI-SAE 1045</th><th>steel_type_AISI-SAE 1050</th><th>steel_type_AISI-SAE 1065</th><th>steel_type_AISI-SAE 1080</th><th>steel_type_AISI-SAE 1335</th><th>steel_type_AISI-SAE 4027</th><th>steel_type_AISI-SAE 4037</th><th>steel_type_AISI-SAE 4140</th><th>steel_type_AISI-SAE 4340</th><th>steel_type_AISI-SAE 5140</th><th>steel_type_AISI-SAE 5160</th><th>steel_type_AISI-SAE 6150</th><th>steel_type_AISI-SAE 9254</th><th>C</th><th>Mn</th><th>P</th><th>S</th><th>Si</th><th>Ni</th><th>Cr</th><th>Mo</th><th>V</th><th>Al</th><th>Cu</th><th>final_hardness_post_tempering_HRC</th><th>yield_strength_MPa</th><th>ultimate_strength_MPA</th></tr><tr><td>f64</td><td>f64</td><td>f64</td><td>f64</td><td>f64</td><td>f64</td><td>f64</td><td>f64</td><td>f64</td><td>f64</td><td>f64</td><td>f64</td><td>f64</td><td>f64</td><td>f64</td><td>f64</td><td>f64</td><td>f64</td><td>f64</td><td>f64</td><td>f64</td><td>f64</td><td>f64</td><td>f64</td><td>f64</td><td>f64</td><td>f64</td><td>f64</td><td>f64</td><td>f64</td><td>f64</td><td>f64</td><td>f64</td><td>f64</td><td>f64</td><td>f64</td><td>f64</td><td>f64</td><td>f64</td><td>f64</td><td>f64</td><td>f64</td></tr></thead><tbody><tr><td>0.0</td><td>0.0</td><td>0.0</td><td>0.0</td><td>0.0</td><td>0.0</td><td>0.0</td><td>0.0</td><td>0.0</td><td>0.0</td><td>1.0</td><td>0.0</td><td>0.0</td><td>0.0</td><td>0.0</td><td>0.0</td><td>0.0</td><td>0.0</td><td>0.0</td><td>0.0</td><td>0.0</td><td>0.0</td><td>0.0</td><td>0.0</td><td>0.0</td><td>0.0</td><td>0.0</td><td>0.0</td><td>-1.155898</td><td>0.167872</td><td>-0.60703</td><td>0.268364</td><td>-0.513467</td><td>-0.392117</td><td>-0.813526</td><td>-0.638219</td><td>-0.201129</td><td>0.0</td><td>-0.337311</td><td>0.611736</td><td>-0.342255</td><td>-1.009596</td></tr><tr><td>0.0</td><td>0.0</td><td>0.0</td><td>0.0</td><td>0.0</td><td>0.0</td><td>0.0</td><td>0.0</td><td>0.0</td><td>0.0</td><td>1.0</td><td>0.0</td><td>0.0</td><td>0.0</td><td>0.0</td><td>0.0</td><td>0.0</td><td>0.0</td><td>0.0</td><td>0.0</td><td>0.0</td><td>0.0</td><td>0.0</td><td>0.0</td><td>0.0</td><td>0.0</td><td>0.0</td><td>0.0</td><td>-1.155898</td><td>0.167872</td><td>-0.60703</td><td>0.268364</td><td>-0.513467</td><td>-0.392117</td><td>-0.813526</td><td>-0.638219</td><td>-0.201129</td><td>0.0</td><td>-0.337311</td><td>0.451657</td><td>-0.342255</td><td>-1.009596</td></tr><tr><td>0.0</td><td>0.0</td><td>0.0</td><td>0.0</td><td>0.0</td><td>0.0</td><td>0.0</td><td>0.0</td><td>0.0</td><td>0.0</td><td>1.0</td><td>0.0</td><td>0.0</td><td>0.0</td><td>0.0</td><td>0.0</td><td>0.0</td><td>0.0</td><td>0.0</td><td>0.0</td><td>0.0</td><td>0.0</td><td>0.0</td><td>0.0</td><td>0.0</td><td>0.0</td><td>0.0</td><td>0.0</td><td>-1.155898</td><td>0.167872</td><td>-0.60703</td><td>0.268364</td><td>-0.513467</td><td>-0.392117</td><td>-0.813526</td><td>-0.638219</td><td>-0.201129</td><td>0.0</td><td>-0.337311</td><td>0.131498</td><td>-0.342255</td><td>-1.009596</td></tr><tr><td>0.0</td><td>0.0</td><td>0.0</td><td>0.0</td><td>0.0</td><td>0.0</td><td>0.0</td><td>0.0</td><td>0.0</td><td>0.0</td><td>1.0</td><td>0.0</td><td>0.0</td><td>0.0</td><td>0.0</td><td>0.0</td><td>0.0</td><td>0.0</td><td>0.0</td><td>0.0</td><td>0.0</td><td>0.0</td><td>0.0</td><td>0.0</td><td>0.0</td><td>0.0</td><td>0.0</td><td>0.0</td><td>-1.155898</td><td>0.167872</td><td>-0.60703</td><td>0.268364</td><td>-0.513467</td><td>-0.392117</td><td>-0.813526</td><td>-0.638219</td><td>-0.201129</td><td>0.0</td><td>-0.337311</td><td>-0.091221</td><td>-0.342255</td><td>-1.009596</td></tr><tr><td>0.0</td><td>0.0</td><td>0.0</td><td>0.0</td><td>0.0</td><td>0.0</td><td>0.0</td><td>0.0</td><td>0.0</td><td>0.0</td><td>1.0</td><td>0.0</td><td>0.0</td><td>0.0</td><td>0.0</td><td>0.0</td><td>0.0</td><td>0.0</td><td>0.0</td><td>0.0</td><td>0.0</td><td>0.0</td><td>0.0</td><td>0.0</td><td>0.0</td><td>0.0</td><td>0.0</td><td>0.0</td><td>-1.155898</td><td>0.167872</td><td>-0.60703</td><td>0.268364</td><td>-0.513467</td><td>-0.392117</td><td>-0.813526</td><td>-0.638219</td><td>-0.201129</td><td>0.0</td><td>-0.337311</td><td>-0.31394</td><td>-0.342255</td><td>-1.009596</td></tr><tr><td>&hellip;</td><td>&hellip;</td><td>&hellip;</td><td>&hellip;</td><td>&hellip;</td><td>&hellip;</td><td>&hellip;</td><td>&hellip;</td><td>&hellip;</td><td>&hellip;</td><td>&hellip;</td><td>&hellip;</td><td>&hellip;</td><td>&hellip;</td><td>&hellip;</td><td>&hellip;</td><td>&hellip;</td><td>&hellip;</td><td>&hellip;</td><td>&hellip;</td><td>&hellip;</td><td>&hellip;</td><td>&hellip;</td><td>&hellip;</td><td>&hellip;</td><td>&hellip;</td><td>&hellip;</td><td>&hellip;</td><td>&hellip;</td><td>&hellip;</td><td>&hellip;</td><td>&hellip;</td><td>&hellip;</td><td>&hellip;</td><td>&hellip;</td><td>&hellip;</td><td>&hellip;</td><td>&hellip;</td><td>&hellip;</td><td>&hellip;</td><td>&hellip;</td><td>&hellip;</td></tr><tr><td>0.0</td><td>0.0</td><td>0.0</td><td>0.0</td><td>0.0</td><td>1.0</td><td>0.0</td><td>0.0</td><td>0.0</td><td>0.0</td><td>0.0</td><td>0.0</td><td>0.0</td><td>0.0</td><td>0.0</td><td>0.0</td><td>0.0</td><td>0.0</td><td>0.0</td><td>0.0</td><td>0.0</td><td>0.0</td><td>0.0</td><td>0.0</td><td>0.0</td><td>0.0</td><td>0.0</td><td>0.0</td><td>2.69532</td><td>-0.618793</td><td>-0.60703</td><td>-0.394811</td><td>-0.591857</td><td>-0.392117</td><td>-0.791743</td><td>-0.638219</td><td>-0.201129</td><td>0.0</td><td>-0.337311</td><td>0.604776</td><td>0.188703</td><td>-0.105424</td></tr><tr><td>0.0</td><td>0.0</td><td>0.0</td><td>0.0</td><td>0.0</td><td>1.0</td><td>0.0</td><td>0.0</td><td>0.0</td><td>0.0</td><td>0.0</td><td>0.0</td><td>0.0</td><td>0.0</td><td>0.0</td><td>0.0</td><td>0.0</td><td>0.0</td><td>0.0</td><td>0.0</td><td>0.0</td><td>0.0</td><td>0.0</td><td>0.0</td><td>0.0</td><td>0.0</td><td>0.0</td><td>0.0</td><td>2.69532</td><td>-0.618793</td><td>-0.60703</td><td>-0.394811</td><td>-0.591857</td><td>-0.392117</td><td>-0.791743</td><td>-0.638219</td><td>-0.201129</td><td>0.0</td><td>-0.337311</td><td>0.013178</td><td>0.188703</td><td>-0.105424</td></tr><tr><td>0.0</td><td>0.0</td><td>0.0</td><td>0.0</td><td>0.0</td><td>1.0</td><td>0.0</td><td>0.0</td><td>0.0</td><td>0.0</td><td>0.0</td><td>0.0</td><td>0.0</td><td>0.0</td><td>0.0</td><td>0.0</td><td>0.0</td><td>0.0</td><td>0.0</td><td>0.0</td><td>0.0</td><td>0.0</td><td>0.0</td><td>0.0</td><td>0.0</td><td>0.0</td><td>0.0</td><td>0.0</td><td>2.69532</td><td>-0.618793</td><td>-0.60703</td><td>-0.394811</td><td>-0.591857</td><td>-0.392117</td><td>-0.791743</td><td>-0.638219</td><td>-0.201129</td><td>0.0</td><td>-0.337311</td><td>-0.682819</td><td>0.188703</td><td>-0.105424</td></tr><tr><td>0.0</td><td>0.0</td><td>0.0</td><td>0.0</td><td>0.0</td><td>1.0</td><td>0.0</td><td>0.0</td><td>0.0</td><td>0.0</td><td>0.0</td><td>0.0</td><td>0.0</td><td>0.0</td><td>0.0</td><td>0.0</td><td>0.0</td><td>0.0</td><td>0.0</td><td>0.0</td><td>0.0</td><td>0.0</td><td>0.0</td><td>0.0</td><td>0.0</td><td>0.0</td><td>0.0</td><td>0.0</td><td>2.69532</td><td>-0.618793</td><td>-0.60703</td><td>-0.394811</td><td>-0.591857</td><td>-0.392117</td><td>-0.791743</td><td>-0.638219</td><td>-0.201129</td><td>0.0</td><td>-0.337311</td><td>-1.309217</td><td>0.188703</td><td>-0.105424</td></tr><tr><td>0.0</td><td>0.0</td><td>0.0</td><td>0.0</td><td>0.0</td><td>1.0</td><td>0.0</td><td>0.0</td><td>0.0</td><td>0.0</td><td>0.0</td><td>0.0</td><td>0.0</td><td>0.0</td><td>0.0</td><td>0.0</td><td>0.0</td><td>0.0</td><td>0.0</td><td>0.0</td><td>0.0</td><td>0.0</td><td>0.0</td><td>0.0</td><td>0.0</td><td>0.0</td><td>0.0</td><td>0.0</td><td>2.69532</td><td>-0.618793</td><td>-0.60703</td><td>-0.394811</td><td>-0.591857</td><td>-0.392117</td><td>-0.791743</td><td>-0.638219</td><td>-0.201129</td><td>0.0</td><td>-0.337311</td><td>-2.596813</td><td>0.188703</td><td>-0.105424</td></tr></tbody></table></div>"
      ],
      "text/plain": [
       "shape: (1_286, 42)\n",
       "┌───────────┬───────────┬───────────┬───────────┬───┬───────────┬───────────┬───────────┬──────────┐\n",
       "│ steel_typ ┆ steel_typ ┆ steel_typ ┆ steel_typ ┆ … ┆ Cu        ┆ final_har ┆ yield_str ┆ ultimate │\n",
       "│ e_AISI    ┆ e_AISI    ┆ e_AISI    ┆ e_AISI    ┆   ┆ ---       ┆ dness_pos ┆ ength_MPa ┆ _strengt │\n",
       "│ 1030      ┆ 1049      ┆ 1055      ┆ 1074      ┆   ┆ f64       ┆ t_temperi ┆ ---       ┆ h_MPA    │\n",
       "│ ---       ┆ ---       ┆ ---       ┆ Carbon    ┆   ┆           ┆ ng_…      ┆ f64       ┆ ---      │\n",
       "│ f64       ┆ f64       ┆ f64       ┆ St…       ┆   ┆           ┆ ---       ┆           ┆ f64      │\n",
       "│           ┆           ┆           ┆ ---       ┆   ┆           ┆ f64       ┆           ┆          │\n",
       "│           ┆           ┆           ┆ f64       ┆   ┆           ┆           ┆           ┆          │\n",
       "╞═══════════╪═══════════╪═══════════╪═══════════╪═══╪═══════════╪═══════════╪═══════════╪══════════╡\n",
       "│ 0.0       ┆ 0.0       ┆ 0.0       ┆ 0.0       ┆ … ┆ -0.337311 ┆ 0.611736  ┆ -0.342255 ┆ -1.00959 │\n",
       "│           ┆           ┆           ┆           ┆   ┆           ┆           ┆           ┆ 6        │\n",
       "│ 0.0       ┆ 0.0       ┆ 0.0       ┆ 0.0       ┆ … ┆ -0.337311 ┆ 0.451657  ┆ -0.342255 ┆ -1.00959 │\n",
       "│           ┆           ┆           ┆           ┆   ┆           ┆           ┆           ┆ 6        │\n",
       "│ 0.0       ┆ 0.0       ┆ 0.0       ┆ 0.0       ┆ … ┆ -0.337311 ┆ 0.131498  ┆ -0.342255 ┆ -1.00959 │\n",
       "│           ┆           ┆           ┆           ┆   ┆           ┆           ┆           ┆ 6        │\n",
       "│ 0.0       ┆ 0.0       ┆ 0.0       ┆ 0.0       ┆ … ┆ -0.337311 ┆ -0.091221 ┆ -0.342255 ┆ -1.00959 │\n",
       "│           ┆           ┆           ┆           ┆   ┆           ┆           ┆           ┆ 6        │\n",
       "│ 0.0       ┆ 0.0       ┆ 0.0       ┆ 0.0       ┆ … ┆ -0.337311 ┆ -0.31394  ┆ -0.342255 ┆ -1.00959 │\n",
       "│           ┆           ┆           ┆           ┆   ┆           ┆           ┆           ┆ 6        │\n",
       "│ …         ┆ …         ┆ …         ┆ …         ┆ … ┆ …         ┆ …         ┆ …         ┆ …        │\n",
       "│ 0.0       ┆ 0.0       ┆ 0.0       ┆ 0.0       ┆ … ┆ -0.337311 ┆ 0.604776  ┆ 0.188703  ┆ -0.10542 │\n",
       "│           ┆           ┆           ┆           ┆   ┆           ┆           ┆           ┆ 4        │\n",
       "│ 0.0       ┆ 0.0       ┆ 0.0       ┆ 0.0       ┆ … ┆ -0.337311 ┆ 0.013178  ┆ 0.188703  ┆ -0.10542 │\n",
       "│           ┆           ┆           ┆           ┆   ┆           ┆           ┆           ┆ 4        │\n",
       "│ 0.0       ┆ 0.0       ┆ 0.0       ┆ 0.0       ┆ … ┆ -0.337311 ┆ -0.682819 ┆ 0.188703  ┆ -0.10542 │\n",
       "│           ┆           ┆           ┆           ┆   ┆           ┆           ┆           ┆ 4        │\n",
       "│ 0.0       ┆ 0.0       ┆ 0.0       ┆ 0.0       ┆ … ┆ -0.337311 ┆ -1.309217 ┆ 0.188703  ┆ -0.10542 │\n",
       "│           ┆           ┆           ┆           ┆   ┆           ┆           ┆           ┆ 4        │\n",
       "│ 0.0       ┆ 0.0       ┆ 0.0       ┆ 0.0       ┆ … ┆ -0.337311 ┆ -2.596813 ┆ 0.188703  ┆ -0.10542 │\n",
       "│           ┆           ┆           ┆           ┆   ┆           ┆           ┆           ┆ 4        │\n",
       "└───────────┴───────────┴───────────┴───────────┴───┴───────────┴───────────┴───────────┴──────────┘"
      ]
     },
     "execution_count": 82,
     "metadata": {},
     "output_type": "execute_result"
    }
   ],
   "source": [
    "X = pl.concat([df_ohe_encoded, df_scaled], how='horizontal')\n",
    "X"
   ]
  },
  {
   "cell_type": "code",
   "execution_count": 83,
   "metadata": {},
   "outputs": [],
   "source": [
    "X.write_csv(f\"{resources_path}/X_nopreproc.csv\")\n",
    "y.write_csv(f\"{resources_path}/y_nopreproc.csv\")\n"
   ]
  },
  {
   "cell_type": "markdown",
   "metadata": {},
   "source": [
    "## Modelling for data preprocess\n",
    "\n",
    "PCA modelling used to reduce X dimensions from 44 to 12 maintaining 95.7% of the explained variance.\n",
    "\n",
    "KBinsDiscretizer used to bin imbalanced Y target. 15 bins, where half have less than 5 support reduced to 5 similarly supported bins"
   ]
  },
  {
   "cell_type": "markdown",
   "metadata": {},
   "source": [
    "### PCA analysis\n",
    "\n",
    "Introduction of two strength metrics certainly introduced multcolinearity, with eachother and with the elemental composision, some of whicha re indicators of strength.\n",
    "\n",
    "PCA analysis will be done to alleiviate these factors."
   ]
  },
  {
   "cell_type": "code",
   "execution_count": 84,
   "metadata": {},
   "outputs": [],
   "source": [
    "X = pl.read_csv(f\"{resources_path}/X_nopreproc.csv\")"
   ]
  },
  {
   "cell_type": "code",
   "execution_count": 85,
   "metadata": {},
   "outputs": [],
   "source": [
    "pca_explained_sum = {'x': [], 'pca_explained_var': []}\n",
    "pca_explained_min = {'x': [], 'pca_explained_min_component': []}\n",
    "for x in range(3,30):\n",
    "    pca = PCA(n_components=x ,random_state=random_state)\n",
    "\n",
    "    pca.fit(X)\n",
    "\n",
    "    pca_explained_sum['x'].append(x)\n",
    "    sum_explained = np.sum(pca.explained_variance_ratio_)\n",
    "    pca_explained_sum['pca_explained_var'].append(sum_explained)\n",
    "\n",
    "    pca_explained_min['x'].append(x)\n",
    "    min_explained = np.min(pca.explained_variance_ratio_)\n",
    "    pca_explained_min['pca_explained_min_component'].append(min_explained)"
   ]
  },
  {
   "cell_type": "code",
   "execution_count": 86,
   "metadata": {},
   "outputs": [],
   "source": [
    "df_pca_explained = pl.DataFrame(pca_explained_sum)"
   ]
  },
  {
   "cell_type": "markdown",
   "metadata": {},
   "source": [
    "### PCA component number determination"
   ]
  },
  {
   "cell_type": "code",
   "execution_count": 87,
   "metadata": {},
   "outputs": [
    {
     "data": {
      "text/html": [
       "\n",
       "<style>\n",
       "  #altair-viz-af518116bfa04d36a304655a9a66f8e1.vega-embed {\n",
       "    width: 100%;\n",
       "    display: flex;\n",
       "  }\n",
       "\n",
       "  #altair-viz-af518116bfa04d36a304655a9a66f8e1.vega-embed details,\n",
       "  #altair-viz-af518116bfa04d36a304655a9a66f8e1.vega-embed details summary {\n",
       "    position: relative;\n",
       "  }\n",
       "</style>\n",
       "<div id=\"altair-viz-af518116bfa04d36a304655a9a66f8e1\"></div>\n",
       "<script type=\"text/javascript\">\n",
       "  var VEGA_DEBUG = (typeof VEGA_DEBUG == \"undefined\") ? {} : VEGA_DEBUG;\n",
       "  (function(spec, embedOpt){\n",
       "    let outputDiv = document.currentScript.previousElementSibling;\n",
       "    if (outputDiv.id !== \"altair-viz-af518116bfa04d36a304655a9a66f8e1\") {\n",
       "      outputDiv = document.getElementById(\"altair-viz-af518116bfa04d36a304655a9a66f8e1\");\n",
       "    }\n",
       "    const paths = {\n",
       "      \"vega\": \"https://cdn.jsdelivr.net/npm/vega@5?noext\",\n",
       "      \"vega-lib\": \"https://cdn.jsdelivr.net/npm/vega-lib?noext\",\n",
       "      \"vega-lite\": \"https://cdn.jsdelivr.net/npm/vega-lite@5.20.1?noext\",\n",
       "      \"vega-embed\": \"https://cdn.jsdelivr.net/npm/vega-embed@6?noext\",\n",
       "    };\n",
       "\n",
       "    function maybeLoadScript(lib, version) {\n",
       "      var key = `${lib.replace(\"-\", \"\")}_version`;\n",
       "      return (VEGA_DEBUG[key] == version) ?\n",
       "        Promise.resolve(paths[lib]) :\n",
       "        new Promise(function(resolve, reject) {\n",
       "          var s = document.createElement('script');\n",
       "          document.getElementsByTagName(\"head\")[0].appendChild(s);\n",
       "          s.async = true;\n",
       "          s.onload = () => {\n",
       "            VEGA_DEBUG[key] = version;\n",
       "            return resolve(paths[lib]);\n",
       "          };\n",
       "          s.onerror = () => reject(`Error loading script: ${paths[lib]}`);\n",
       "          s.src = paths[lib];\n",
       "        });\n",
       "    }\n",
       "\n",
       "    function showError(err) {\n",
       "      outputDiv.innerHTML = `<div class=\"error\" style=\"color:red;\">${err}</div>`;\n",
       "      throw err;\n",
       "    }\n",
       "\n",
       "    function displayChart(vegaEmbed) {\n",
       "      vegaEmbed(outputDiv, spec, embedOpt)\n",
       "        .catch(err => showError(`Javascript Error: ${err.message}<br>This usually means there's a typo in your chart specification. See the javascript console for the full traceback.`));\n",
       "    }\n",
       "\n",
       "    if(typeof define === \"function\" && define.amd) {\n",
       "      requirejs.config({paths});\n",
       "      require([\"vega-embed\"], displayChart, err => showError(`Error loading script: ${err.message}`));\n",
       "    } else {\n",
       "      maybeLoadScript(\"vega\", \"5\")\n",
       "        .then(() => maybeLoadScript(\"vega-lite\", \"5.20.1\"))\n",
       "        .then(() => maybeLoadScript(\"vega-embed\", \"6\"))\n",
       "        .catch(showError)\n",
       "        .then(() => displayChart(vegaEmbed));\n",
       "    }\n",
       "  })({\"config\": {\"view\": {\"continuousWidth\": 300, \"continuousHeight\": 300}}, \"data\": {\"name\": \"data-6db47d7a417d775c98a944a315e67a38\"}, \"mark\": {\"type\": \"line\"}, \"encoding\": {\"x\": {\"field\": \"x\", \"title\": \"PCA X\", \"type\": \"quantitative\"}, \"y\": {\"field\": \"pca_explained_var\", \"scale\": {\"domain\": [0.5, 1]}, \"title\": \"Total explained variance\", \"type\": \"quantitative\"}}, \"title\": \"Total Explained Variance vs Number of PCA Features\", \"$schema\": \"https://vega.github.io/schema/vega-lite/v5.20.1.json\", \"datasets\": {\"data-6db47d7a417d775c98a944a315e67a38\": [{\"x\": 3, \"pca_explained_var\": 0.5035785439226548}, {\"x\": 4, \"pca_explained_var\": 0.6115079686010605}, {\"x\": 5, \"pca_explained_var\": 0.6999171571480739}, {\"x\": 6, \"pca_explained_var\": 0.7632154584522631}, {\"x\": 7, \"pca_explained_var\": 0.8183070509868579}, {\"x\": 8, \"pca_explained_var\": 0.8653849345980702}, {\"x\": 9, \"pca_explained_var\": 0.9031275228714051}, {\"x\": 10, \"pca_explained_var\": 0.9301960220575535}, {\"x\": 11, \"pca_explained_var\": 0.9467319873554644}, {\"x\": 12, \"pca_explained_var\": 0.9589835543757207}, {\"x\": 13, \"pca_explained_var\": 0.9662634349953556}, {\"x\": 14, \"pca_explained_var\": 0.969678309454449}, {\"x\": 15, \"pca_explained_var\": 0.9729006579943715}, {\"x\": 16, \"pca_explained_var\": 0.9758428188337434}, {\"x\": 17, \"pca_explained_var\": 0.9786101625889677}, {\"x\": 18, \"pca_explained_var\": 0.981199816194744}, {\"x\": 19, \"pca_explained_var\": 0.9836825031713261}, {\"x\": 20, \"pca_explained_var\": 0.9859692382698946}, {\"x\": 21, \"pca_explained_var\": 0.9882246004708011}, {\"x\": 22, \"pca_explained_var\": 0.990461410551152}, {\"x\": 23, \"pca_explained_var\": 0.9926731101912586}, {\"x\": 24, \"pca_explained_var\": 0.9947948732107161}, {\"x\": 25, \"pca_explained_var\": 0.996075613316401}, {\"x\": 26, \"pca_explained_var\": 0.9972273601084056}, {\"x\": 27, \"pca_explained_var\": 0.9982177497585467}, {\"x\": 28, \"pca_explained_var\": 0.9988785219418684}, {\"x\": 29, \"pca_explained_var\": 0.9994794244740682}]}}, {\"mode\": \"vega-lite\"});\n",
       "</script>"
      ],
      "text/plain": [
       "alt.Chart(...)"
      ]
     },
     "execution_count": 87,
     "metadata": {},
     "output_type": "execute_result"
    }
   ],
   "source": [
    "alt.Chart(df_pca_explained,\n",
    "          title= \"Total Explained Variance vs Number of PCA Features\").mark_line().encode(\n",
    "    alt.X('x:Q').title(\"PCA X\"),\n",
    "    alt.Y('pca_explained_var:Q')\\\n",
    "        .scale(domain=(0.5,1))\\\n",
    "            .title(\"Total explained variance\")\n",
    ")"
   ]
  },
  {
   "cell_type": "markdown",
   "metadata": {},
   "source": [
    "### Value of increasing PCA components decreases between 10 and 15"
   ]
  },
  {
   "cell_type": "code",
   "execution_count": 88,
   "metadata": {},
   "outputs": [
    {
     "data": {
      "text/html": [
       "<div><style>\n",
       ".dataframe > thead > tr,\n",
       ".dataframe > tbody > tr {\n",
       "  text-align: right;\n",
       "  white-space: pre-wrap;\n",
       "}\n",
       "</style>\n",
       "<small>shape: (6, 2)</small><table border=\"1\" class=\"dataframe\"><thead><tr><th>x</th><th>pca_explained_min_component</th></tr><tr><td>i64</td><td>f64</td></tr></thead><tbody><tr><td>10</td><td>0.027068</td></tr><tr><td>11</td><td>0.016536</td></tr><tr><td>12</td><td>0.012252</td></tr><tr><td>13</td><td>0.00728</td></tr><tr><td>14</td><td>0.003415</td></tr><tr><td>15</td><td>0.003222</td></tr></tbody></table></div>"
      ],
      "text/plain": [
       "shape: (6, 2)\n",
       "┌─────┬─────────────────────────────┐\n",
       "│ x   ┆ pca_explained_min_component │\n",
       "│ --- ┆ ---                         │\n",
       "│ i64 ┆ f64                         │\n",
       "╞═════╪═════════════════════════════╡\n",
       "│ 10  ┆ 0.027068                    │\n",
       "│ 11  ┆ 0.016536                    │\n",
       "│ 12  ┆ 0.012252                    │\n",
       "│ 13  ┆ 0.00728                     │\n",
       "│ 14  ┆ 0.003415                    │\n",
       "│ 15  ┆ 0.003222                    │\n",
       "└─────┴─────────────────────────────┘"
      ]
     },
     "execution_count": 88,
     "metadata": {},
     "output_type": "execute_result"
    }
   ],
   "source": [
    "df_pca_explained_min = pl.DataFrame(pca_explained_min)\n",
    "df_pca_explained_min.filter(pl.col('x').le(15) & pl.col('x').ge(10))"
   ]
  },
  {
   "cell_type": "markdown",
   "metadata": {},
   "source": [
    "### PCA component number 12 selected\n",
    "Component 13 has half the explained ratio contribution as component 12, and component 13 is below 1% contribution\n",
    "\n",
    "12 components has explains 95.7% of the variance."
   ]
  },
  {
   "cell_type": "code",
   "execution_count": 89,
   "metadata": {},
   "outputs": [
    {
     "data": {
      "text/html": [
       "<div><style>\n",
       ".dataframe > thead > tr,\n",
       ".dataframe > tbody > tr {\n",
       "  text-align: right;\n",
       "  white-space: pre-wrap;\n",
       "}\n",
       "</style>\n",
       "<small>shape: (1, 2)</small><table border=\"1\" class=\"dataframe\"><thead><tr><th>x</th><th>pca_explained_var</th></tr><tr><td>i64</td><td>f64</td></tr></thead><tbody><tr><td>12</td><td>0.958984</td></tr></tbody></table></div>"
      ],
      "text/plain": [
       "shape: (1, 2)\n",
       "┌─────┬───────────────────┐\n",
       "│ x   ┆ pca_explained_var │\n",
       "│ --- ┆ ---               │\n",
       "│ i64 ┆ f64               │\n",
       "╞═════╪═══════════════════╡\n",
       "│ 12  ┆ 0.958984          │\n",
       "└─────┴───────────────────┘"
      ]
     },
     "execution_count": 89,
     "metadata": {},
     "output_type": "execute_result"
    }
   ],
   "source": [
    "df_pca_explained.filter(pl.col(\"x\").eq(12))"
   ]
  },
  {
   "cell_type": "code",
   "execution_count": 90,
   "metadata": {},
   "outputs": [
    {
     "data": {
      "text/html": [
       "<div><style>\n",
       ".dataframe > thead > tr,\n",
       ".dataframe > tbody > tr {\n",
       "  text-align: right;\n",
       "  white-space: pre-wrap;\n",
       "}\n",
       "</style>\n",
       "<small>shape: (3, 12)</small><table border=\"1\" class=\"dataframe\"><thead><tr><th>column_0</th><th>column_1</th><th>column_2</th><th>column_3</th><th>column_4</th><th>column_5</th><th>column_6</th><th>column_7</th><th>column_8</th><th>column_9</th><th>column_10</th><th>column_11</th></tr><tr><td>f64</td><td>f64</td><td>f64</td><td>f64</td><td>f64</td><td>f64</td><td>f64</td><td>f64</td><td>f64</td><td>f64</td><td>f64</td><td>f64</td></tr></thead><tbody><tr><td>-1.320436</td><td>0.433031</td><td>0.152744</td><td>-0.280106</td><td>-0.553453</td><td>-0.44246</td><td>0.789612</td><td>-0.116024</td><td>-1.126339</td><td>-0.650522</td><td>0.107193</td><td>0.362395</td></tr><tr><td>-1.352601</td><td>0.406635</td><td>0.167524</td><td>-0.322172</td><td>-0.622424</td><td>-0.421108</td><td>0.677043</td><td>-0.122864</td><td>-1.069579</td><td>-0.628965</td><td>0.113458</td><td>0.349196</td></tr><tr><td>-1.416932</td><td>0.353842</td><td>0.197083</td><td>-0.406302</td><td>-0.760366</td><td>-0.378402</td><td>0.451906</td><td>-0.136544</td><td>-0.956058</td><td>-0.585849</td><td>0.125988</td><td>0.3228</td></tr></tbody></table></div>"
      ],
      "text/plain": [
       "shape: (3, 12)\n",
       "┌───────────┬──────────┬──────────┬───────────┬───┬───────────┬───────────┬───────────┬───────────┐\n",
       "│ column_0  ┆ column_1 ┆ column_2 ┆ column_3  ┆ … ┆ column_8  ┆ column_9  ┆ column_10 ┆ column_11 │\n",
       "│ ---       ┆ ---      ┆ ---      ┆ ---       ┆   ┆ ---       ┆ ---       ┆ ---       ┆ ---       │\n",
       "│ f64       ┆ f64      ┆ f64      ┆ f64       ┆   ┆ f64       ┆ f64       ┆ f64       ┆ f64       │\n",
       "╞═══════════╪══════════╪══════════╪═══════════╪═══╪═══════════╪═══════════╪═══════════╪═══════════╡\n",
       "│ -1.320436 ┆ 0.433031 ┆ 0.152744 ┆ -0.280106 ┆ … ┆ -1.126339 ┆ -0.650522 ┆ 0.107193  ┆ 0.362395  │\n",
       "│ -1.352601 ┆ 0.406635 ┆ 0.167524 ┆ -0.322172 ┆ … ┆ -1.069579 ┆ -0.628965 ┆ 0.113458  ┆ 0.349196  │\n",
       "│ -1.416932 ┆ 0.353842 ┆ 0.197083 ┆ -0.406302 ┆ … ┆ -0.956058 ┆ -0.585849 ┆ 0.125988  ┆ 0.3228    │\n",
       "└───────────┴──────────┴──────────┴───────────┴───┴───────────┴───────────┴───────────┴───────────┘"
      ]
     },
     "execution_count": 90,
     "metadata": {},
     "output_type": "execute_result"
    }
   ],
   "source": [
    "pca = PCA(n_components= 12, random_state=random_state)\n",
    "\n",
    "pca.fit(X)\n",
    "\n",
    "X_pca = pca.transform(X)\n",
    "\n",
    "df_pca = pl.DataFrame(X_pca)\n",
    "df_pca.head(3)"
   ]
  },
  {
   "cell_type": "code",
   "execution_count": 91,
   "metadata": {},
   "outputs": [
    {
     "data": {
      "text/html": [
       "<div><style>\n",
       ".dataframe > thead > tr,\n",
       ".dataframe > tbody > tr {\n",
       "  text-align: right;\n",
       "  white-space: pre-wrap;\n",
       "}\n",
       "</style>\n",
       "<small>shape: (9, 13)</small><table border=\"1\" class=\"dataframe\"><thead><tr><th>statistic</th><th>column_0</th><th>column_1</th><th>column_2</th><th>column_3</th><th>column_4</th><th>column_5</th><th>column_6</th><th>column_7</th><th>column_8</th><th>column_9</th><th>column_10</th><th>column_11</th></tr><tr><td>str</td><td>f64</td><td>f64</td><td>f64</td><td>f64</td><td>f64</td><td>f64</td><td>f64</td><td>f64</td><td>f64</td><td>f64</td><td>f64</td><td>f64</td></tr></thead><tbody><tr><td>&quot;count&quot;</td><td>1286.0</td><td>1286.0</td><td>1286.0</td><td>1286.0</td><td>1286.0</td><td>1286.0</td><td>1286.0</td><td>1286.0</td><td>1286.0</td><td>1286.0</td><td>1286.0</td><td>1286.0</td></tr><tr><td>&quot;null_count&quot;</td><td>0.0</td><td>0.0</td><td>0.0</td><td>0.0</td><td>0.0</td><td>0.0</td><td>0.0</td><td>0.0</td><td>0.0</td><td>0.0</td><td>0.0</td><td>0.0</td></tr><tr><td>&quot;mean&quot;</td><td>1.3813e-17</td><td>-8.0116e-17</td><td>-1.9338e-17</td><td>-8.8403e-17</td><td>5.5252e-17</td><td>-6.9756e-17</td><td>2.7626e-17</td><td>8.2878e-18</td><td>9.3929e-17</td><td>-1.2432e-17</td><td>-4.4202e-17</td><td>-8.8403e-17</td></tr><tr><td>&quot;std&quot;</td><td>1.671878</td><td>1.574001</td><td>1.326873</td><td>1.227762</td><td>1.111202</td><td>0.940244</td><td>0.877177</td><td>0.810873</td><td>0.726039</td><td>0.61486</td><td>0.480573</td><td>0.413657</td></tr><tr><td>&quot;min&quot;</td><td>-3.160272</td><td>-3.06014</td><td>-2.519346</td><td>-2.932731</td><td>-3.087486</td><td>-1.308532</td><td>-3.902866</td><td>-1.63648</td><td>-1.578573</td><td>-1.071457</td><td>-0.958913</td><td>-1.076012</td></tr><tr><td>&quot;25%&quot;</td><td>-1.250181</td><td>-0.982207</td><td>-0.686134</td><td>-0.726365</td><td>-0.712909</td><td>-0.511157</td><td>-0.591495</td><td>-0.491043</td><td>-0.44238</td><td>-0.453306</td><td>-0.291369</td><td>-0.349439</td></tr><tr><td>&quot;50%&quot;</td><td>-0.08415</td><td>-0.039102</td><td>-0.084792</td><td>-0.100102</td><td>0.038288</td><td>-0.116496</td><td>0.117907</td><td>-0.01247</td><td>-0.040194</td><td>-0.08842</td><td>-0.005293</td><td>0.090399</td></tr><tr><td>&quot;75%&quot;</td><td>0.67165</td><td>0.967478</td><td>0.507161</td><td>0.808819</td><td>0.655451</td><td>0.288545</td><td>0.586282</td><td>0.532562</td><td>0.286874</td><td>0.362959</td><td>0.234679</td><td>0.310155</td></tr><tr><td>&quot;max&quot;</td><td>4.637292</td><td>3.551286</td><td>4.27113</td><td>3.572446</td><td>4.371646</td><td>4.388313</td><td>2.409663</td><td>1.558366</td><td>2.57386</td><td>1.741962</td><td>1.042306</td><td>0.715972</td></tr></tbody></table></div>"
      ],
      "text/plain": [
       "shape: (9, 13)\n",
       "┌───────────┬───────────┬───────────┬───────────┬───┬───────────┬───────────┬───────────┬──────────┐\n",
       "│ statistic ┆ column_0  ┆ column_1  ┆ column_2  ┆ … ┆ column_8  ┆ column_9  ┆ column_10 ┆ column_1 │\n",
       "│ ---       ┆ ---       ┆ ---       ┆ ---       ┆   ┆ ---       ┆ ---       ┆ ---       ┆ 1        │\n",
       "│ str       ┆ f64       ┆ f64       ┆ f64       ┆   ┆ f64       ┆ f64       ┆ f64       ┆ ---      │\n",
       "│           ┆           ┆           ┆           ┆   ┆           ┆           ┆           ┆ f64      │\n",
       "╞═══════════╪═══════════╪═══════════╪═══════════╪═══╪═══════════╪═══════════╪═══════════╪══════════╡\n",
       "│ count     ┆ 1286.0    ┆ 1286.0    ┆ 1286.0    ┆ … ┆ 1286.0    ┆ 1286.0    ┆ 1286.0    ┆ 1286.0   │\n",
       "│ null_coun ┆ 0.0       ┆ 0.0       ┆ 0.0       ┆ … ┆ 0.0       ┆ 0.0       ┆ 0.0       ┆ 0.0      │\n",
       "│ t         ┆           ┆           ┆           ┆   ┆           ┆           ┆           ┆          │\n",
       "│ mean      ┆ 1.3813e-1 ┆ -8.0116e- ┆ -1.9338e- ┆ … ┆ 9.3929e-1 ┆ -1.2432e- ┆ -4.4202e- ┆ -8.8403e │\n",
       "│           ┆ 7         ┆ 17        ┆ 17        ┆   ┆ 7         ┆ 17        ┆ 17        ┆ -17      │\n",
       "│ std       ┆ 1.671878  ┆ 1.574001  ┆ 1.326873  ┆ … ┆ 0.726039  ┆ 0.61486   ┆ 0.480573  ┆ 0.413657 │\n",
       "│ min       ┆ -3.160272 ┆ -3.06014  ┆ -2.519346 ┆ … ┆ -1.578573 ┆ -1.071457 ┆ -0.958913 ┆ -1.07601 │\n",
       "│           ┆           ┆           ┆           ┆   ┆           ┆           ┆           ┆ 2        │\n",
       "│ 25%       ┆ -1.250181 ┆ -0.982207 ┆ -0.686134 ┆ … ┆ -0.44238  ┆ -0.453306 ┆ -0.291369 ┆ -0.34943 │\n",
       "│           ┆           ┆           ┆           ┆   ┆           ┆           ┆           ┆ 9        │\n",
       "│ 50%       ┆ -0.08415  ┆ -0.039102 ┆ -0.084792 ┆ … ┆ -0.040194 ┆ -0.08842  ┆ -0.005293 ┆ 0.090399 │\n",
       "│ 75%       ┆ 0.67165   ┆ 0.967478  ┆ 0.507161  ┆ … ┆ 0.286874  ┆ 0.362959  ┆ 0.234679  ┆ 0.310155 │\n",
       "│ max       ┆ 4.637292  ┆ 3.551286  ┆ 4.27113   ┆ … ┆ 2.57386   ┆ 1.741962  ┆ 1.042306  ┆ 0.715972 │\n",
       "└───────────┴───────────┴───────────┴───────────┴───┴───────────┴───────────┴───────────┴──────────┘"
      ]
     },
     "execution_count": 91,
     "metadata": {},
     "output_type": "execute_result"
    }
   ],
   "source": [
    "df_pca.describe()"
   ]
  },
  {
   "cell_type": "markdown",
   "metadata": {},
   "source": [
    "## Check data balance before train-test-split"
   ]
  },
  {
   "cell_type": "code",
   "execution_count": 92,
   "metadata": {},
   "outputs": [
    {
     "data": {
      "text/plain": [
       "['tempering_time_s_proc', 'tempering_temperature_C_proc']"
      ]
     },
     "execution_count": 92,
     "metadata": {},
     "output_type": "execute_result"
    }
   ],
   "source": [
    "y = pl.read_csv(f\"{resources_path}/y_nopreproc.csv\", schema=pl.Schema({\"tempering_time_s_proc\":pl.String,\n",
    "                                                             \"tempering_temperature_C_proc\":pl.String}))\n",
    "y.columns"
   ]
  },
  {
   "cell_type": "code",
   "execution_count": 93,
   "metadata": {},
   "outputs": [
    {
     "name": "stdout",
     "output_type": "stream",
     "text": [
      "shape: (15, 2)\n",
      "┌───────────────────────┬─────┐\n",
      "│ tempering_time_s_proc ┆ n   │\n",
      "│ ---                   ┆ --- │\n",
      "│ i32                   ┆ u32 │\n",
      "╞═══════════════════════╪═════╡\n",
      "│ 3600                  ┆ 237 │\n",
      "│ 86400                 ┆ 206 │\n",
      "│ 14400                 ┆ 130 │\n",
      "│ 900                   ┆ 120 │\n",
      "│ 600                   ┆ 108 │\n",
      "│ …                     ┆ …   │\n",
      "│ 57600                 ┆ 30  │\n",
      "│ 115200                ┆ 30  │\n",
      "│ 40                    ┆ 24  │\n",
      "│ 120                   ┆ 24  │\n",
      "│ 300                   ┆ 24  │\n",
      "└───────────────────────┴─────┘\n",
      "shape: (11, 2)\n",
      "┌──────────────────────────────┬─────┐\n",
      "│ tempering_temperature_C_proc ┆ n   │\n",
      "│ ---                          ┆ --- │\n",
      "│ i32                          ┆ u32 │\n",
      "╞══════════════════════════════╪═════╡\n",
      "│ 400                          ┆ 170 │\n",
      "│ 500                          ┆ 167 │\n",
      "│ 600                          ┆ 164 │\n",
      "│ 300                          ┆ 145 │\n",
      "│ 200                          ┆ 141 │\n",
      "│ …                            ┆ …   │\n",
      "│ 100                          ┆ 110 │\n",
      "│ 700                          ┆ 99  │\n",
      "│ 550                          ┆ 74  │\n",
      "│ 350                          ┆ 52  │\n",
      "│ 450                          ┆ 52  │\n",
      "└──────────────────────────────┴─────┘\n"
     ]
    }
   ],
   "source": [
    "for col in ['tempering_time_s_proc', 'tempering_temperature_C_proc']:\n",
    "    temp = y.select(pl.col(col)\\\n",
    "                    .value_counts(sort=True, name='n'))\\\n",
    "                        .unnest(col)\\\n",
    "                            .with_columns(pl.col(col).cast(pl.Int32))\n",
    "    print(temp)\n",
    " \n"
   ]
  },
  {
   "cell_type": "markdown",
   "metadata": {},
   "source": [
    "## Unbalanced targets needs processing\n",
    "\n",
    "Some classifications has 200+ support but many have 50 or less in both metrics. (above)\n",
    "\n",
    "Binning through an algorithm will be used to allieviate this\n",
    "\n",
    "Before binning the f1 score scores were exceptionally low and support scores were very imbalanced. \n",
    "\n",
    "![before_balancing.png](images/multiout/before_balancing.png)\n",
    "![after_balancing.png](images/multiout/after_balancing.png)"
   ]
  },
  {
   "cell_type": "code",
   "execution_count": 94,
   "metadata": {},
   "outputs": [
    {
     "data": {
      "text/html": [
       "<div><style>\n",
       ".dataframe > thead > tr,\n",
       ".dataframe > tbody > tr {\n",
       "  text-align: right;\n",
       "  white-space: pre-wrap;\n",
       "}\n",
       "</style>\n",
       "<small>shape: (1_286, 2)</small><table border=\"1\" class=\"dataframe\"><thead><tr><th>tempering_time_s_proc</th><th>tempering_temperature_C_proc</th></tr><tr><td>str</td><td>str</td></tr></thead><tbody><tr><td>&quot;600&quot;</td><td>&quot;200&quot;</td></tr><tr><td>&quot;600&quot;</td><td>&quot;250&quot;</td></tr><tr><td>&quot;600&quot;</td><td>&quot;300&quot;</td></tr><tr><td>&quot;600&quot;</td><td>&quot;350&quot;</td></tr><tr><td>&quot;600&quot;</td><td>&quot;400&quot;</td></tr><tr><td>&hellip;</td><td>&hellip;</td></tr><tr><td>&quot;86400&quot;</td><td>&quot;300&quot;</td></tr><tr><td>&quot;86400&quot;</td><td>&quot;400&quot;</td></tr><tr><td>&quot;86400&quot;</td><td>&quot;500&quot;</td></tr><tr><td>&quot;86400&quot;</td><td>&quot;600&quot;</td></tr><tr><td>&quot;86400&quot;</td><td>&quot;700&quot;</td></tr></tbody></table></div>"
      ],
      "text/plain": [
       "shape: (1_286, 2)\n",
       "┌───────────────────────┬──────────────────────────────┐\n",
       "│ tempering_time_s_proc ┆ tempering_temperature_C_proc │\n",
       "│ ---                   ┆ ---                          │\n",
       "│ str                   ┆ str                          │\n",
       "╞═══════════════════════╪══════════════════════════════╡\n",
       "│ 600                   ┆ 200                          │\n",
       "│ 600                   ┆ 250                          │\n",
       "│ 600                   ┆ 300                          │\n",
       "│ 600                   ┆ 350                          │\n",
       "│ 600                   ┆ 400                          │\n",
       "│ …                     ┆ …                            │\n",
       "│ 86400                 ┆ 300                          │\n",
       "│ 86400                 ┆ 400                          │\n",
       "│ 86400                 ┆ 500                          │\n",
       "│ 86400                 ┆ 600                          │\n",
       "│ 86400                 ┆ 700                          │\n",
       "└───────────────────────┴──────────────────────────────┘"
      ]
     },
     "execution_count": 94,
     "metadata": {},
     "output_type": "execute_result"
    }
   ],
   "source": [
    "# https://imbalanced-learn.org/stable/common_pitfalls.html\n",
    "t_temp_proc = y.select('tempering_temperature_C_proc')\n",
    "y"
   ]
  },
  {
   "cell_type": "code",
   "execution_count": 95,
   "metadata": {},
   "outputs": [],
   "source": [
    "# vshort short med long vlong?\n",
    "# Kbinsdescritizer\n",
    "# [0-10min),[10min-60min), [60min-150min),[2.5h-8h), [8h+)   \n",
    "y = y.with_columns(pl.col('tempering_time_s_proc').cast(pl.Int32))\n",
    "bin_this = y['tempering_time_s_proc']"
   ]
  },
  {
   "cell_type": "code",
   "execution_count": 96,
   "metadata": {},
   "outputs": [
    {
     "data": {
      "text/plain": [
       "[5, 60, 150, 960, 1920]"
      ]
     },
     "execution_count": 96,
     "metadata": {},
     "output_type": "execute_result"
    }
   ],
   "source": [
    "to_bin = bin_this.reshape((-1,1))\n",
    "binner = KBinsDiscretizer(n_bins = 5, encode='ordinal', strategy='quantile')\n",
    "binner.fit(to_bin)\n",
    "binned = binner.transform(to_bin)\n",
    "bin_labels = []\n",
    "\n",
    "edges = binner.bin_edges_[0]\n",
    "for i in range(len(edges)-1):\n",
    "    # Keep numeric label, use axis labelling to denote this, not index labelling\n",
    "    # time units are tempered for less than x minutes\n",
    "    # label = f\"< {edges [i + 1] / 60} min\"\n",
    "    label = edges [i + 1] / 60\n",
    "    bin_labels.append(int(label))\n",
    "bin_labels\n"
   ]
  },
  {
   "cell_type": "code",
   "execution_count": 97,
   "metadata": {},
   "outputs": [
    {
     "data": {
      "text/plain": [
       "{'0.0': 5, '1.0': 60, '2.0': 150, '3.0': 960, '4.0': 1920}"
      ]
     },
     "execution_count": 97,
     "metadata": {},
     "output_type": "execute_result"
    }
   ],
   "source": [
    "dict_label_bins = dict(zip(['0.0','1.0','2.0','3.0','4.0'], bin_labels))\n",
    "dict_label_bins"
   ]
  },
  {
   "cell_type": "code",
   "execution_count": 98,
   "metadata": {},
   "outputs": [],
   "source": [
    "to_label = pl.DataFrame(binned).with_columns(pl.col('column_0')\\\n",
    "                                             .alias('tempering_time_min_binned'))\\\n",
    "                                                .select('tempering_time_min_binned')\n",
    "y_time_binned = to_label.with_columns(pl.col('tempering_time_min_binned')\\\n",
    "                                      .cast(pl.String)\\\n",
    "                                       .replace(dict_label_bins))"
   ]
  },
  {
   "cell_type": "code",
   "execution_count": 99,
   "metadata": {},
   "outputs": [],
   "source": [
    "y = pl.concat([y_time_binned, t_temp_proc], how='horizontal')\n",
    "y = y.with_columns(pl.col('tempering_time_min_binned').cast(pl.Int32),\n",
    "               pl.col('tempering_temperature_C_proc').cast(pl.Int32))"
   ]
  },
  {
   "cell_type": "code",
   "execution_count": 100,
   "metadata": {},
   "outputs": [],
   "source": [
    "time = y['tempering_time_min_binned'].to_numpy().reshape(-1, 1)\n",
    "enc_ord_time = OrdinalEncoder()\n",
    "enc_ord_time.fit(time)\n",
    "encd_time = enc_ord_time.transform(time)\n",
    "encd_time = pl.Series(encd_time).arr.get(0)"
   ]
  },
  {
   "cell_type": "code",
   "execution_count": 101,
   "metadata": {},
   "outputs": [],
   "source": [
    "temp = y['tempering_temperature_C_proc'].to_numpy().reshape(-1, 1)\n",
    "enc_ord_temp = OrdinalEncoder()\n",
    "enc_ord_temp.fit(temp)\n",
    "encd_temp = enc_ord_temp.transform(temp)\n",
    "encd_temp = pl.Series(encd_temp).arr.get(0)"
   ]
  },
  {
   "cell_type": "code",
   "execution_count": 102,
   "metadata": {},
   "outputs": [
    {
     "data": {
      "text/html": [
       "<div><style>\n",
       ".dataframe > thead > tr,\n",
       ".dataframe > tbody > tr {\n",
       "  text-align: right;\n",
       "  white-space: pre-wrap;\n",
       "}\n",
       "</style>\n",
       "<small>shape: (1_286, 2)</small><table border=\"1\" class=\"dataframe\"><thead><tr><th>time</th><th>temp</th></tr><tr><td>f64</td><td>f64</td></tr></thead><tbody><tr><td>1.0</td><td>1.0</td></tr><tr><td>1.0</td><td>2.0</td></tr><tr><td>1.0</td><td>3.0</td></tr><tr><td>1.0</td><td>4.0</td></tr><tr><td>1.0</td><td>5.0</td></tr><tr><td>&hellip;</td><td>&hellip;</td></tr><tr><td>4.0</td><td>3.0</td></tr><tr><td>4.0</td><td>5.0</td></tr><tr><td>4.0</td><td>7.0</td></tr><tr><td>4.0</td><td>9.0</td></tr><tr><td>4.0</td><td>10.0</td></tr></tbody></table></div>"
      ],
      "text/plain": [
       "shape: (1_286, 2)\n",
       "┌──────┬──────┐\n",
       "│ time ┆ temp │\n",
       "│ ---  ┆ ---  │\n",
       "│ f64  ┆ f64  │\n",
       "╞══════╪══════╡\n",
       "│ 1.0  ┆ 1.0  │\n",
       "│ 1.0  ┆ 2.0  │\n",
       "│ 1.0  ┆ 3.0  │\n",
       "│ 1.0  ┆ 4.0  │\n",
       "│ 1.0  ┆ 5.0  │\n",
       "│ …    ┆ …    │\n",
       "│ 4.0  ┆ 3.0  │\n",
       "│ 4.0  ┆ 5.0  │\n",
       "│ 4.0  ┆ 7.0  │\n",
       "│ 4.0  ┆ 9.0  │\n",
       "│ 4.0  ┆ 10.0 │\n",
       "└──────┴──────┘"
      ]
     },
     "execution_count": 102,
     "metadata": {},
     "output_type": "execute_result"
    }
   ],
   "source": [
    "y_enc = pl.DataFrame({\"time\":encd_time, \"temp\":encd_temp})\n",
    "y_enc"
   ]
  },
  {
   "cell_type": "code",
   "execution_count": 103,
   "metadata": {},
   "outputs": [],
   "source": [
    "df_pca.write_csv(f'{resources_path}/df_X.csv')\n",
    "y_enc.write_csv(f'{resources_path}/df_y.csv')\n"
   ]
  },
  {
   "cell_type": "markdown",
   "metadata": {},
   "source": [
    "# Modelling"
   ]
  },
  {
   "cell_type": "code",
   "execution_count": 104,
   "metadata": {},
   "outputs": [],
   "source": [
    "X = pl.read_csv(f'{resources_path}/df_X.csv')\n",
    "y = pl.read_csv(f'{resources_path}/df_y.csv',   \n",
    "                schema={'tempering_time_min_binned': pl.Float32, \n",
    "                        'tempering_temperature_C_proc' : pl.Float32})\n",
    "# Polars does not always work well with Keras\n",
    "X = X.to_numpy()\n",
    "y = y.to_numpy()"
   ]
  },
  {
   "cell_type": "markdown",
   "metadata": {},
   "source": [
    "## Test train split"
   ]
  },
  {
   "cell_type": "code",
   "execution_count": 105,
   "metadata": {},
   "outputs": [],
   "source": [
    "X_train, X_test, y_train, y_test = train_test_split(X, \n",
    "                                                    y, \n",
    "                                                    random_state=random_state, \n",
    "                                                    stratify=y)"
   ]
  },
  {
   "cell_type": "markdown",
   "metadata": {},
   "source": [
    "## Random ExtraTreesClassifier Model\n",
    "\n",
    "Chosen as a multiclass multilabel classifier that works by default, without the use of MultiOutputClassifier.\n",
    "\n",
    "### This naive model does not perform well.\n",
    "\n",
    "Target Feature|Accuracy|f1 Score\n",
    "---|---|---\n",
    "TimeTarget|15.5%|29.7%\n",
    "TempTarget|31.4%|15.9%"
   ]
  },
  {
   "cell_type": "code",
   "execution_count": 106,
   "metadata": {},
   "outputs": [
    {
     "data": {
      "text/html": [
       "<style>#sk-container-id-1 {\n",
       "  /* Definition of color scheme common for light and dark mode */\n",
       "  --sklearn-color-text: black;\n",
       "  --sklearn-color-line: gray;\n",
       "  /* Definition of color scheme for unfitted estimators */\n",
       "  --sklearn-color-unfitted-level-0: #fff5e6;\n",
       "  --sklearn-color-unfitted-level-1: #f6e4d2;\n",
       "  --sklearn-color-unfitted-level-2: #ffe0b3;\n",
       "  --sklearn-color-unfitted-level-3: chocolate;\n",
       "  /* Definition of color scheme for fitted estimators */\n",
       "  --sklearn-color-fitted-level-0: #f0f8ff;\n",
       "  --sklearn-color-fitted-level-1: #d4ebff;\n",
       "  --sklearn-color-fitted-level-2: #b3dbfd;\n",
       "  --sklearn-color-fitted-level-3: cornflowerblue;\n",
       "\n",
       "  /* Specific color for light theme */\n",
       "  --sklearn-color-text-on-default-background: var(--sg-text-color, var(--theme-code-foreground, var(--jp-content-font-color1, black)));\n",
       "  --sklearn-color-background: var(--sg-background-color, var(--theme-background, var(--jp-layout-color0, white)));\n",
       "  --sklearn-color-border-box: var(--sg-text-color, var(--theme-code-foreground, var(--jp-content-font-color1, black)));\n",
       "  --sklearn-color-icon: #696969;\n",
       "\n",
       "  @media (prefers-color-scheme: dark) {\n",
       "    /* Redefinition of color scheme for dark theme */\n",
       "    --sklearn-color-text-on-default-background: var(--sg-text-color, var(--theme-code-foreground, var(--jp-content-font-color1, white)));\n",
       "    --sklearn-color-background: var(--sg-background-color, var(--theme-background, var(--jp-layout-color0, #111)));\n",
       "    --sklearn-color-border-box: var(--sg-text-color, var(--theme-code-foreground, var(--jp-content-font-color1, white)));\n",
       "    --sklearn-color-icon: #878787;\n",
       "  }\n",
       "}\n",
       "\n",
       "#sk-container-id-1 {\n",
       "  color: var(--sklearn-color-text);\n",
       "}\n",
       "\n",
       "#sk-container-id-1 pre {\n",
       "  padding: 0;\n",
       "}\n",
       "\n",
       "#sk-container-id-1 input.sk-hidden--visually {\n",
       "  border: 0;\n",
       "  clip: rect(1px 1px 1px 1px);\n",
       "  clip: rect(1px, 1px, 1px, 1px);\n",
       "  height: 1px;\n",
       "  margin: -1px;\n",
       "  overflow: hidden;\n",
       "  padding: 0;\n",
       "  position: absolute;\n",
       "  width: 1px;\n",
       "}\n",
       "\n",
       "#sk-container-id-1 div.sk-dashed-wrapped {\n",
       "  border: 1px dashed var(--sklearn-color-line);\n",
       "  margin: 0 0.4em 0.5em 0.4em;\n",
       "  box-sizing: border-box;\n",
       "  padding-bottom: 0.4em;\n",
       "  background-color: var(--sklearn-color-background);\n",
       "}\n",
       "\n",
       "#sk-container-id-1 div.sk-container {\n",
       "  /* jupyter's `normalize.less` sets `[hidden] { display: none; }`\n",
       "     but bootstrap.min.css set `[hidden] { display: none !important; }`\n",
       "     so we also need the `!important` here to be able to override the\n",
       "     default hidden behavior on the sphinx rendered scikit-learn.org.\n",
       "     See: https://github.com/scikit-learn/scikit-learn/issues/21755 */\n",
       "  display: inline-block !important;\n",
       "  position: relative;\n",
       "}\n",
       "\n",
       "#sk-container-id-1 div.sk-text-repr-fallback {\n",
       "  display: none;\n",
       "}\n",
       "\n",
       "div.sk-parallel-item,\n",
       "div.sk-serial,\n",
       "div.sk-item {\n",
       "  /* draw centered vertical line to link estimators */\n",
       "  background-image: linear-gradient(var(--sklearn-color-text-on-default-background), var(--sklearn-color-text-on-default-background));\n",
       "  background-size: 2px 100%;\n",
       "  background-repeat: no-repeat;\n",
       "  background-position: center center;\n",
       "}\n",
       "\n",
       "/* Parallel-specific style estimator block */\n",
       "\n",
       "#sk-container-id-1 div.sk-parallel-item::after {\n",
       "  content: \"\";\n",
       "  width: 100%;\n",
       "  border-bottom: 2px solid var(--sklearn-color-text-on-default-background);\n",
       "  flex-grow: 1;\n",
       "}\n",
       "\n",
       "#sk-container-id-1 div.sk-parallel {\n",
       "  display: flex;\n",
       "  align-items: stretch;\n",
       "  justify-content: center;\n",
       "  background-color: var(--sklearn-color-background);\n",
       "  position: relative;\n",
       "}\n",
       "\n",
       "#sk-container-id-1 div.sk-parallel-item {\n",
       "  display: flex;\n",
       "  flex-direction: column;\n",
       "}\n",
       "\n",
       "#sk-container-id-1 div.sk-parallel-item:first-child::after {\n",
       "  align-self: flex-end;\n",
       "  width: 50%;\n",
       "}\n",
       "\n",
       "#sk-container-id-1 div.sk-parallel-item:last-child::after {\n",
       "  align-self: flex-start;\n",
       "  width: 50%;\n",
       "}\n",
       "\n",
       "#sk-container-id-1 div.sk-parallel-item:only-child::after {\n",
       "  width: 0;\n",
       "}\n",
       "\n",
       "/* Serial-specific style estimator block */\n",
       "\n",
       "#sk-container-id-1 div.sk-serial {\n",
       "  display: flex;\n",
       "  flex-direction: column;\n",
       "  align-items: center;\n",
       "  background-color: var(--sklearn-color-background);\n",
       "  padding-right: 1em;\n",
       "  padding-left: 1em;\n",
       "}\n",
       "\n",
       "\n",
       "/* Toggleable style: style used for estimator/Pipeline/ColumnTransformer box that is\n",
       "clickable and can be expanded/collapsed.\n",
       "- Pipeline and ColumnTransformer use this feature and define the default style\n",
       "- Estimators will overwrite some part of the style using the `sk-estimator` class\n",
       "*/\n",
       "\n",
       "/* Pipeline and ColumnTransformer style (default) */\n",
       "\n",
       "#sk-container-id-1 div.sk-toggleable {\n",
       "  /* Default theme specific background. It is overwritten whether we have a\n",
       "  specific estimator or a Pipeline/ColumnTransformer */\n",
       "  background-color: var(--sklearn-color-background);\n",
       "}\n",
       "\n",
       "/* Toggleable label */\n",
       "#sk-container-id-1 label.sk-toggleable__label {\n",
       "  cursor: pointer;\n",
       "  display: block;\n",
       "  width: 100%;\n",
       "  margin-bottom: 0;\n",
       "  padding: 0.5em;\n",
       "  box-sizing: border-box;\n",
       "  text-align: center;\n",
       "}\n",
       "\n",
       "#sk-container-id-1 label.sk-toggleable__label-arrow:before {\n",
       "  /* Arrow on the left of the label */\n",
       "  content: \"▸\";\n",
       "  float: left;\n",
       "  margin-right: 0.25em;\n",
       "  color: var(--sklearn-color-icon);\n",
       "}\n",
       "\n",
       "#sk-container-id-1 label.sk-toggleable__label-arrow:hover:before {\n",
       "  color: var(--sklearn-color-text);\n",
       "}\n",
       "\n",
       "/* Toggleable content - dropdown */\n",
       "\n",
       "#sk-container-id-1 div.sk-toggleable__content {\n",
       "  max-height: 0;\n",
       "  max-width: 0;\n",
       "  overflow: hidden;\n",
       "  text-align: left;\n",
       "  /* unfitted */\n",
       "  background-color: var(--sklearn-color-unfitted-level-0);\n",
       "}\n",
       "\n",
       "#sk-container-id-1 div.sk-toggleable__content.fitted {\n",
       "  /* fitted */\n",
       "  background-color: var(--sklearn-color-fitted-level-0);\n",
       "}\n",
       "\n",
       "#sk-container-id-1 div.sk-toggleable__content pre {\n",
       "  margin: 0.2em;\n",
       "  border-radius: 0.25em;\n",
       "  color: var(--sklearn-color-text);\n",
       "  /* unfitted */\n",
       "  background-color: var(--sklearn-color-unfitted-level-0);\n",
       "}\n",
       "\n",
       "#sk-container-id-1 div.sk-toggleable__content.fitted pre {\n",
       "  /* unfitted */\n",
       "  background-color: var(--sklearn-color-fitted-level-0);\n",
       "}\n",
       "\n",
       "#sk-container-id-1 input.sk-toggleable__control:checked~div.sk-toggleable__content {\n",
       "  /* Expand drop-down */\n",
       "  max-height: 200px;\n",
       "  max-width: 100%;\n",
       "  overflow: auto;\n",
       "}\n",
       "\n",
       "#sk-container-id-1 input.sk-toggleable__control:checked~label.sk-toggleable__label-arrow:before {\n",
       "  content: \"▾\";\n",
       "}\n",
       "\n",
       "/* Pipeline/ColumnTransformer-specific style */\n",
       "\n",
       "#sk-container-id-1 div.sk-label input.sk-toggleable__control:checked~label.sk-toggleable__label {\n",
       "  color: var(--sklearn-color-text);\n",
       "  background-color: var(--sklearn-color-unfitted-level-2);\n",
       "}\n",
       "\n",
       "#sk-container-id-1 div.sk-label.fitted input.sk-toggleable__control:checked~label.sk-toggleable__label {\n",
       "  background-color: var(--sklearn-color-fitted-level-2);\n",
       "}\n",
       "\n",
       "/* Estimator-specific style */\n",
       "\n",
       "/* Colorize estimator box */\n",
       "#sk-container-id-1 div.sk-estimator input.sk-toggleable__control:checked~label.sk-toggleable__label {\n",
       "  /* unfitted */\n",
       "  background-color: var(--sklearn-color-unfitted-level-2);\n",
       "}\n",
       "\n",
       "#sk-container-id-1 div.sk-estimator.fitted input.sk-toggleable__control:checked~label.sk-toggleable__label {\n",
       "  /* fitted */\n",
       "  background-color: var(--sklearn-color-fitted-level-2);\n",
       "}\n",
       "\n",
       "#sk-container-id-1 div.sk-label label.sk-toggleable__label,\n",
       "#sk-container-id-1 div.sk-label label {\n",
       "  /* The background is the default theme color */\n",
       "  color: var(--sklearn-color-text-on-default-background);\n",
       "}\n",
       "\n",
       "/* On hover, darken the color of the background */\n",
       "#sk-container-id-1 div.sk-label:hover label.sk-toggleable__label {\n",
       "  color: var(--sklearn-color-text);\n",
       "  background-color: var(--sklearn-color-unfitted-level-2);\n",
       "}\n",
       "\n",
       "/* Label box, darken color on hover, fitted */\n",
       "#sk-container-id-1 div.sk-label.fitted:hover label.sk-toggleable__label.fitted {\n",
       "  color: var(--sklearn-color-text);\n",
       "  background-color: var(--sklearn-color-fitted-level-2);\n",
       "}\n",
       "\n",
       "/* Estimator label */\n",
       "\n",
       "#sk-container-id-1 div.sk-label label {\n",
       "  font-family: monospace;\n",
       "  font-weight: bold;\n",
       "  display: inline-block;\n",
       "  line-height: 1.2em;\n",
       "}\n",
       "\n",
       "#sk-container-id-1 div.sk-label-container {\n",
       "  text-align: center;\n",
       "}\n",
       "\n",
       "/* Estimator-specific */\n",
       "#sk-container-id-1 div.sk-estimator {\n",
       "  font-family: monospace;\n",
       "  border: 1px dotted var(--sklearn-color-border-box);\n",
       "  border-radius: 0.25em;\n",
       "  box-sizing: border-box;\n",
       "  margin-bottom: 0.5em;\n",
       "  /* unfitted */\n",
       "  background-color: var(--sklearn-color-unfitted-level-0);\n",
       "}\n",
       "\n",
       "#sk-container-id-1 div.sk-estimator.fitted {\n",
       "  /* fitted */\n",
       "  background-color: var(--sklearn-color-fitted-level-0);\n",
       "}\n",
       "\n",
       "/* on hover */\n",
       "#sk-container-id-1 div.sk-estimator:hover {\n",
       "  /* unfitted */\n",
       "  background-color: var(--sklearn-color-unfitted-level-2);\n",
       "}\n",
       "\n",
       "#sk-container-id-1 div.sk-estimator.fitted:hover {\n",
       "  /* fitted */\n",
       "  background-color: var(--sklearn-color-fitted-level-2);\n",
       "}\n",
       "\n",
       "/* Specification for estimator info (e.g. \"i\" and \"?\") */\n",
       "\n",
       "/* Common style for \"i\" and \"?\" */\n",
       "\n",
       ".sk-estimator-doc-link,\n",
       "a:link.sk-estimator-doc-link,\n",
       "a:visited.sk-estimator-doc-link {\n",
       "  float: right;\n",
       "  font-size: smaller;\n",
       "  line-height: 1em;\n",
       "  font-family: monospace;\n",
       "  background-color: var(--sklearn-color-background);\n",
       "  border-radius: 1em;\n",
       "  height: 1em;\n",
       "  width: 1em;\n",
       "  text-decoration: none !important;\n",
       "  margin-left: 1ex;\n",
       "  /* unfitted */\n",
       "  border: var(--sklearn-color-unfitted-level-1) 1pt solid;\n",
       "  color: var(--sklearn-color-unfitted-level-1);\n",
       "}\n",
       "\n",
       ".sk-estimator-doc-link.fitted,\n",
       "a:link.sk-estimator-doc-link.fitted,\n",
       "a:visited.sk-estimator-doc-link.fitted {\n",
       "  /* fitted */\n",
       "  border: var(--sklearn-color-fitted-level-1) 1pt solid;\n",
       "  color: var(--sklearn-color-fitted-level-1);\n",
       "}\n",
       "\n",
       "/* On hover */\n",
       "div.sk-estimator:hover .sk-estimator-doc-link:hover,\n",
       ".sk-estimator-doc-link:hover,\n",
       "div.sk-label-container:hover .sk-estimator-doc-link:hover,\n",
       ".sk-estimator-doc-link:hover {\n",
       "  /* unfitted */\n",
       "  background-color: var(--sklearn-color-unfitted-level-3);\n",
       "  color: var(--sklearn-color-background);\n",
       "  text-decoration: none;\n",
       "}\n",
       "\n",
       "div.sk-estimator.fitted:hover .sk-estimator-doc-link.fitted:hover,\n",
       ".sk-estimator-doc-link.fitted:hover,\n",
       "div.sk-label-container:hover .sk-estimator-doc-link.fitted:hover,\n",
       ".sk-estimator-doc-link.fitted:hover {\n",
       "  /* fitted */\n",
       "  background-color: var(--sklearn-color-fitted-level-3);\n",
       "  color: var(--sklearn-color-background);\n",
       "  text-decoration: none;\n",
       "}\n",
       "\n",
       "/* Span, style for the box shown on hovering the info icon */\n",
       ".sk-estimator-doc-link span {\n",
       "  display: none;\n",
       "  z-index: 9999;\n",
       "  position: relative;\n",
       "  font-weight: normal;\n",
       "  right: .2ex;\n",
       "  padding: .5ex;\n",
       "  margin: .5ex;\n",
       "  width: min-content;\n",
       "  min-width: 20ex;\n",
       "  max-width: 50ex;\n",
       "  color: var(--sklearn-color-text);\n",
       "  box-shadow: 2pt 2pt 4pt #999;\n",
       "  /* unfitted */\n",
       "  background: var(--sklearn-color-unfitted-level-0);\n",
       "  border: .5pt solid var(--sklearn-color-unfitted-level-3);\n",
       "}\n",
       "\n",
       ".sk-estimator-doc-link.fitted span {\n",
       "  /* fitted */\n",
       "  background: var(--sklearn-color-fitted-level-0);\n",
       "  border: var(--sklearn-color-fitted-level-3);\n",
       "}\n",
       "\n",
       ".sk-estimator-doc-link:hover span {\n",
       "  display: block;\n",
       "}\n",
       "\n",
       "/* \"?\"-specific style due to the `<a>` HTML tag */\n",
       "\n",
       "#sk-container-id-1 a.estimator_doc_link {\n",
       "  float: right;\n",
       "  font-size: 1rem;\n",
       "  line-height: 1em;\n",
       "  font-family: monospace;\n",
       "  background-color: var(--sklearn-color-background);\n",
       "  border-radius: 1rem;\n",
       "  height: 1rem;\n",
       "  width: 1rem;\n",
       "  text-decoration: none;\n",
       "  /* unfitted */\n",
       "  color: var(--sklearn-color-unfitted-level-1);\n",
       "  border: var(--sklearn-color-unfitted-level-1) 1pt solid;\n",
       "}\n",
       "\n",
       "#sk-container-id-1 a.estimator_doc_link.fitted {\n",
       "  /* fitted */\n",
       "  border: var(--sklearn-color-fitted-level-1) 1pt solid;\n",
       "  color: var(--sklearn-color-fitted-level-1);\n",
       "}\n",
       "\n",
       "/* On hover */\n",
       "#sk-container-id-1 a.estimator_doc_link:hover {\n",
       "  /* unfitted */\n",
       "  background-color: var(--sklearn-color-unfitted-level-3);\n",
       "  color: var(--sklearn-color-background);\n",
       "  text-decoration: none;\n",
       "}\n",
       "\n",
       "#sk-container-id-1 a.estimator_doc_link.fitted:hover {\n",
       "  /* fitted */\n",
       "  background-color: var(--sklearn-color-fitted-level-3);\n",
       "}\n",
       "</style><div id=\"sk-container-id-1\" class=\"sk-top-container\"><div class=\"sk-text-repr-fallback\"><pre>ExtraTreesClassifier(criterion=&#x27;entropy&#x27;, n_estimators=10,\n",
       "                     random_state=2112250415)</pre><b>In a Jupyter environment, please rerun this cell to show the HTML representation or trust the notebook. <br />On GitHub, the HTML representation is unable to render, please try loading this page with nbviewer.org.</b></div><div class=\"sk-container\" hidden><div class=\"sk-item\"><div class=\"sk-estimator fitted sk-toggleable\"><input class=\"sk-toggleable__control sk-hidden--visually\" id=\"sk-estimator-id-1\" type=\"checkbox\" checked><label for=\"sk-estimator-id-1\" class=\"sk-toggleable__label fitted sk-toggleable__label-arrow fitted\">&nbsp;&nbsp;ExtraTreesClassifier<a class=\"sk-estimator-doc-link fitted\" rel=\"noreferrer\" target=\"_blank\" href=\"https://scikit-learn.org/1.5/modules/generated/sklearn.ensemble.ExtraTreesClassifier.html\">?<span>Documentation for ExtraTreesClassifier</span></a><span class=\"sk-estimator-doc-link fitted\">i<span>Fitted</span></span></label><div class=\"sk-toggleable__content fitted\"><pre>ExtraTreesClassifier(criterion=&#x27;entropy&#x27;, n_estimators=10,\n",
       "                     random_state=2112250415)</pre></div> </div></div></div></div>"
      ],
      "text/plain": [
       "ExtraTreesClassifier(criterion='entropy', n_estimators=10,\n",
       "                     random_state=2112250415)"
      ]
     },
     "execution_count": 106,
     "metadata": {},
     "output_type": "execute_result"
    }
   ],
   "source": [
    "et_classifier = ExtraTreesClassifier(n_estimators=10, \n",
    "                                      criterion='entropy',\n",
    "                                      random_state=random_state)\n",
    "\n",
    "et_classifier.fit(X_train, y_train)\n"
   ]
  },
  {
   "cell_type": "code",
   "execution_count": 107,
   "metadata": {},
   "outputs": [],
   "source": [
    "y_pred = et_classifier.predict(X_test)\n"
   ]
  },
  {
   "cell_type": "code",
   "execution_count": 108,
   "metadata": {},
   "outputs": [],
   "source": [
    "labels = []\n",
    "target_prefixes = [\"ttime_\", \"ttemp_\"]\n",
    "target_units = ['_min', '_C']\n",
    "\n",
    "for i in range(y_test.shape[1]):\n",
    "    prefixed = list(map(lambda x: f\"{target_prefixes[i]}{x}{target_units[i]}\", et_classifier.classes_[i]))\n",
    "    labels.append(prefixed)"
   ]
  },
  {
   "cell_type": "code",
   "execution_count": 109,
   "metadata": {},
   "outputs": [],
   "source": [
    "classification_reports = []\n",
    "for i in range(y_test.shape[1]):\n",
    "    cr = classification_report(y_test[:, i], y_pred[:, i],  output_dict=True)#target_names=labels[i],)\n",
    "    classification_reports.append(cr)"
   ]
  },
  {
   "cell_type": "code",
   "execution_count": 110,
   "metadata": {},
   "outputs": [
    {
     "data": {
      "text/html": [
       "<style type=\"text/css\">\n",
       "</style>\n",
       "<table id=\"T_af599\" style='display:inline'>\n",
       "  <caption>Tempering Temperature</caption>\n",
       "  <thead>\n",
       "    <tr>\n",
       "      <th class=\"blank level0\" >&nbsp;</th>\n",
       "      <th id=\"T_af599_level0_col0\" class=\"col_heading level0 col0\" >precision</th>\n",
       "      <th id=\"T_af599_level0_col1\" class=\"col_heading level0 col1\" >recall</th>\n",
       "      <th id=\"T_af599_level0_col2\" class=\"col_heading level0 col2\" >f1-score</th>\n",
       "      <th id=\"T_af599_level0_col3\" class=\"col_heading level0 col3\" >support</th>\n",
       "    </tr>\n",
       "  </thead>\n",
       "  <tbody>\n",
       "    <tr>\n",
       "      <th id=\"T_af599_level0_row0\" class=\"row_heading level0 row0\" >0.0</th>\n",
       "      <td id=\"T_af599_row0_col0\" class=\"data row0 col0\" >0.580645</td>\n",
       "      <td id=\"T_af599_row0_col1\" class=\"data row0 col1\" >0.620690</td>\n",
       "      <td id=\"T_af599_row0_col2\" class=\"data row0 col2\" >0.600000</td>\n",
       "      <td id=\"T_af599_row0_col3\" class=\"data row0 col3\" >29.000000</td>\n",
       "    </tr>\n",
       "    <tr>\n",
       "      <th id=\"T_af599_level0_row1\" class=\"row_heading level0 row1\" >1.0</th>\n",
       "      <td id=\"T_af599_row1_col0\" class=\"data row1 col0\" >0.575758</td>\n",
       "      <td id=\"T_af599_row1_col1\" class=\"data row1 col1\" >0.527778</td>\n",
       "      <td id=\"T_af599_row1_col2\" class=\"data row1 col2\" >0.550725</td>\n",
       "      <td id=\"T_af599_row1_col3\" class=\"data row1 col3\" >36.000000</td>\n",
       "    </tr>\n",
       "    <tr>\n",
       "      <th id=\"T_af599_level0_row2\" class=\"row_heading level0 row2\" >2.0</th>\n",
       "      <td id=\"T_af599_row2_col0\" class=\"data row2 col0\" >0.178571</td>\n",
       "      <td id=\"T_af599_row2_col1\" class=\"data row2 col1\" >0.178571</td>\n",
       "      <td id=\"T_af599_row2_col2\" class=\"data row2 col2\" >0.178571</td>\n",
       "      <td id=\"T_af599_row2_col3\" class=\"data row2 col3\" >28.000000</td>\n",
       "    </tr>\n",
       "    <tr>\n",
       "      <th id=\"T_af599_level0_row3\" class=\"row_heading level0 row3\" >3.0</th>\n",
       "      <td id=\"T_af599_row3_col0\" class=\"data row3 col0\" >0.461538</td>\n",
       "      <td id=\"T_af599_row3_col1\" class=\"data row3 col1\" >0.500000</td>\n",
       "      <td id=\"T_af599_row3_col2\" class=\"data row3 col2\" >0.480000</td>\n",
       "      <td id=\"T_af599_row3_col3\" class=\"data row3 col3\" >36.000000</td>\n",
       "    </tr>\n",
       "    <tr>\n",
       "      <th id=\"T_af599_level0_row4\" class=\"row_heading level0 row4\" >4.0</th>\n",
       "      <td id=\"T_af599_row4_col0\" class=\"data row4 col0\" >0.333333</td>\n",
       "      <td id=\"T_af599_row4_col1\" class=\"data row4 col1\" >0.250000</td>\n",
       "      <td id=\"T_af599_row4_col2\" class=\"data row4 col2\" >0.285714</td>\n",
       "      <td id=\"T_af599_row4_col3\" class=\"data row4 col3\" >12.000000</td>\n",
       "    </tr>\n",
       "    <tr>\n",
       "      <th id=\"T_af599_level0_row5\" class=\"row_heading level0 row5\" >5.0</th>\n",
       "      <td id=\"T_af599_row5_col0\" class=\"data row5 col0\" >0.384615</td>\n",
       "      <td id=\"T_af599_row5_col1\" class=\"data row5 col1\" >0.348837</td>\n",
       "      <td id=\"T_af599_row5_col2\" class=\"data row5 col2\" >0.365854</td>\n",
       "      <td id=\"T_af599_row5_col3\" class=\"data row5 col3\" >43.000000</td>\n",
       "    </tr>\n",
       "    <tr>\n",
       "      <th id=\"T_af599_level0_row6\" class=\"row_heading level0 row6\" >6.0</th>\n",
       "      <td id=\"T_af599_row6_col0\" class=\"data row6 col0\" >0.058824</td>\n",
       "      <td id=\"T_af599_row6_col1\" class=\"data row6 col1\" >0.083333</td>\n",
       "      <td id=\"T_af599_row6_col2\" class=\"data row6 col2\" >0.068966</td>\n",
       "      <td id=\"T_af599_row6_col3\" class=\"data row6 col3\" >12.000000</td>\n",
       "    </tr>\n",
       "    <tr>\n",
       "      <th id=\"T_af599_level0_row7\" class=\"row_heading level0 row7\" >7.0</th>\n",
       "      <td id=\"T_af599_row7_col0\" class=\"data row7 col0\" >0.274510</td>\n",
       "      <td id=\"T_af599_row7_col1\" class=\"data row7 col1\" >0.333333</td>\n",
       "      <td id=\"T_af599_row7_col2\" class=\"data row7 col2\" >0.301075</td>\n",
       "      <td id=\"T_af599_row7_col3\" class=\"data row7 col3\" >42.000000</td>\n",
       "    </tr>\n",
       "    <tr>\n",
       "      <th id=\"T_af599_level0_row8\" class=\"row_heading level0 row8\" >8.0</th>\n",
       "      <td id=\"T_af599_row8_col0\" class=\"data row8 col0\" >0.210526</td>\n",
       "      <td id=\"T_af599_row8_col1\" class=\"data row8 col1\" >0.200000</td>\n",
       "      <td id=\"T_af599_row8_col2\" class=\"data row8 col2\" >0.205128</td>\n",
       "      <td id=\"T_af599_row8_col3\" class=\"data row8 col3\" >20.000000</td>\n",
       "    </tr>\n",
       "    <tr>\n",
       "      <th id=\"T_af599_level0_row9\" class=\"row_heading level0 row9\" >9.0</th>\n",
       "      <td id=\"T_af599_row9_col0\" class=\"data row9 col0\" >0.333333</td>\n",
       "      <td id=\"T_af599_row9_col1\" class=\"data row9 col1\" >0.350000</td>\n",
       "      <td id=\"T_af599_row9_col2\" class=\"data row9 col2\" >0.341463</td>\n",
       "      <td id=\"T_af599_row9_col3\" class=\"data row9 col3\" >40.000000</td>\n",
       "    </tr>\n",
       "    <tr>\n",
       "      <th id=\"T_af599_level0_row10\" class=\"row_heading level0 row10\" >10.0</th>\n",
       "      <td id=\"T_af599_row10_col0\" class=\"data row10 col0\" >0.428571</td>\n",
       "      <td id=\"T_af599_row10_col1\" class=\"data row10 col1\" >0.250000</td>\n",
       "      <td id=\"T_af599_row10_col2\" class=\"data row10 col2\" >0.315789</td>\n",
       "      <td id=\"T_af599_row10_col3\" class=\"data row10 col3\" >24.000000</td>\n",
       "    </tr>\n",
       "    <tr>\n",
       "      <th id=\"T_af599_level0_row11\" class=\"row_heading level0 row11\" >accuracy</th>\n",
       "      <td id=\"T_af599_row11_col0\" class=\"data row11 col0\" >0.363354</td>\n",
       "      <td id=\"T_af599_row11_col1\" class=\"data row11 col1\" >0.363354</td>\n",
       "      <td id=\"T_af599_row11_col2\" class=\"data row11 col2\" >0.363354</td>\n",
       "      <td id=\"T_af599_row11_col3\" class=\"data row11 col3\" >0.363354</td>\n",
       "    </tr>\n",
       "    <tr>\n",
       "      <th id=\"T_af599_level0_row12\" class=\"row_heading level0 row12\" >macro avg</th>\n",
       "      <td id=\"T_af599_row12_col0\" class=\"data row12 col0\" >0.347293</td>\n",
       "      <td id=\"T_af599_row12_col1\" class=\"data row12 col1\" >0.331140</td>\n",
       "      <td id=\"T_af599_row12_col2\" class=\"data row12 col2\" >0.335753</td>\n",
       "      <td id=\"T_af599_row12_col3\" class=\"data row12 col3\" >322.000000</td>\n",
       "    </tr>\n",
       "    <tr>\n",
       "      <th id=\"T_af599_level0_row13\" class=\"row_heading level0 row13\" >weighted avg</th>\n",
       "      <td id=\"T_af599_row13_col0\" class=\"data row13 col0\" >0.372002</td>\n",
       "      <td id=\"T_af599_row13_col1\" class=\"data row13 col1\" >0.363354</td>\n",
       "      <td id=\"T_af599_row13_col2\" class=\"data row13 col2\" >0.364842</td>\n",
       "      <td id=\"T_af599_row13_col3\" class=\"data row13 col3\" >322.000000</td>\n",
       "    </tr>\n",
       "  </tbody>\n",
       "</table>\n",
       "          <style type=\"text/css\">\n",
       "</style>\n",
       "<table id=\"T_0986b\" style='display:inline'>\n",
       "  <caption>Tempering Time</caption>\n",
       "  <thead>\n",
       "    <tr>\n",
       "      <th class=\"blank level0\" >&nbsp;</th>\n",
       "      <th id=\"T_0986b_level0_col0\" class=\"col_heading level0 col0\" >precision</th>\n",
       "      <th id=\"T_0986b_level0_col1\" class=\"col_heading level0 col1\" >recall</th>\n",
       "      <th id=\"T_0986b_level0_col2\" class=\"col_heading level0 col2\" >f1-score</th>\n",
       "      <th id=\"T_0986b_level0_col3\" class=\"col_heading level0 col3\" >support</th>\n",
       "    </tr>\n",
       "  </thead>\n",
       "  <tbody>\n",
       "    <tr>\n",
       "      <th id=\"T_0986b_level0_row0\" class=\"row_heading level0 row0\" >0.0</th>\n",
       "      <td id=\"T_0986b_row0_col0\" class=\"data row0 col0\" >0.308824</td>\n",
       "      <td id=\"T_0986b_row0_col1\" class=\"data row0 col1\" >0.344262</td>\n",
       "      <td id=\"T_0986b_row0_col2\" class=\"data row0 col2\" >0.325581</td>\n",
       "      <td id=\"T_0986b_row0_col3\" class=\"data row0 col3\" >61.000000</td>\n",
       "    </tr>\n",
       "    <tr>\n",
       "      <th id=\"T_0986b_level0_row1\" class=\"row_heading level0 row1\" >1.0</th>\n",
       "      <td id=\"T_0986b_row1_col0\" class=\"data row1 col0\" >0.051724</td>\n",
       "      <td id=\"T_0986b_row1_col1\" class=\"data row1 col1\" >0.046875</td>\n",
       "      <td id=\"T_0986b_row1_col2\" class=\"data row1 col2\" >0.049180</td>\n",
       "      <td id=\"T_0986b_row1_col3\" class=\"data row1 col3\" >64.000000</td>\n",
       "    </tr>\n",
       "    <tr>\n",
       "      <th id=\"T_0986b_level0_row2\" class=\"row_heading level0 row2\" >2.0</th>\n",
       "      <td id=\"T_0986b_row2_col0\" class=\"data row2 col0\" >0.258621</td>\n",
       "      <td id=\"T_0986b_row2_col1\" class=\"data row2 col1\" >0.223881</td>\n",
       "      <td id=\"T_0986b_row2_col2\" class=\"data row2 col2\" >0.240000</td>\n",
       "      <td id=\"T_0986b_row2_col3\" class=\"data row2 col3\" >67.000000</td>\n",
       "    </tr>\n",
       "    <tr>\n",
       "      <th id=\"T_0986b_level0_row3\" class=\"row_heading level0 row3\" >3.0</th>\n",
       "      <td id=\"T_0986b_row3_col0\" class=\"data row3 col0\" >0.103896</td>\n",
       "      <td id=\"T_0986b_row3_col1\" class=\"data row3 col1\" >0.126984</td>\n",
       "      <td id=\"T_0986b_row3_col2\" class=\"data row3 col2\" >0.114286</td>\n",
       "      <td id=\"T_0986b_row3_col3\" class=\"data row3 col3\" >63.000000</td>\n",
       "    </tr>\n",
       "    <tr>\n",
       "      <th id=\"T_0986b_level0_row4\" class=\"row_heading level0 row4\" >4.0</th>\n",
       "      <td id=\"T_0986b_row4_col0\" class=\"data row4 col0\" >0.131148</td>\n",
       "      <td id=\"T_0986b_row4_col1\" class=\"data row4 col1\" >0.119403</td>\n",
       "      <td id=\"T_0986b_row4_col2\" class=\"data row4 col2\" >0.125000</td>\n",
       "      <td id=\"T_0986b_row4_col3\" class=\"data row4 col3\" >67.000000</td>\n",
       "    </tr>\n",
       "    <tr>\n",
       "      <th id=\"T_0986b_level0_row5\" class=\"row_heading level0 row5\" >accuracy</th>\n",
       "      <td id=\"T_0986b_row5_col0\" class=\"data row5 col0\" >0.170807</td>\n",
       "      <td id=\"T_0986b_row5_col1\" class=\"data row5 col1\" >0.170807</td>\n",
       "      <td id=\"T_0986b_row5_col2\" class=\"data row5 col2\" >0.170807</td>\n",
       "      <td id=\"T_0986b_row5_col3\" class=\"data row5 col3\" >0.170807</td>\n",
       "    </tr>\n",
       "    <tr>\n",
       "      <th id=\"T_0986b_level0_row6\" class=\"row_heading level0 row6\" >macro avg</th>\n",
       "      <td id=\"T_0986b_row6_col0\" class=\"data row6 col0\" >0.170842</td>\n",
       "      <td id=\"T_0986b_row6_col1\" class=\"data row6 col1\" >0.172281</td>\n",
       "      <td id=\"T_0986b_row6_col2\" class=\"data row6 col2\" >0.170809</td>\n",
       "      <td id=\"T_0986b_row6_col3\" class=\"data row6 col3\" >322.000000</td>\n",
       "    </tr>\n",
       "    <tr>\n",
       "      <th id=\"T_0986b_level0_row7\" class=\"row_heading level0 row7\" >weighted avg</th>\n",
       "      <td id=\"T_0986b_row7_col0\" class=\"data row7 col0\" >0.170213</td>\n",
       "      <td id=\"T_0986b_row7_col1\" class=\"data row7 col1\" >0.170807</td>\n",
       "      <td id=\"T_0986b_row7_col2\" class=\"data row7 col2\" >0.169761</td>\n",
       "      <td id=\"T_0986b_row7_col3\" class=\"data row7 col3\" >322.000000</td>\n",
       "    </tr>\n",
       "  </tbody>\n",
       "</table>\n"
      ]
     },
     "metadata": {},
     "output_type": "display_data"
    }
   ],
   "source": [
    "# polars does not parse the dicts correctly\n",
    "cr_rf_ttime = pd.DataFrame(classification_reports[0]).transpose()\n",
    "cr_rf_ttemp = pd.DataFrame(classification_reports[1]).transpose()\n",
    "\n",
    "def fix_classification_report(pd_df):\n",
    "    pl_df = pl.DataFrame(pd_df.reset_index())\\\n",
    "        .filter(pl.col('index').str.contains('avg|acc').not_())\\\n",
    "        .with_columns(pl.col('index').cast(pl.Float32))\\\n",
    "        .sort('index', descending=False)\n",
    "    return pl_df\n",
    "\n",
    "pl_cr_rf_ttime = fix_classification_report(cr_rf_ttime)\n",
    "\n",
    "pl_cr_rf_ttemp = fix_classification_report(cr_rf_ttemp)\n",
    "\n",
    "# display 2 DF inline https://softhints.com/display-two-pandas-dataframes-side-by-side-jupyter-notebook/\n",
    "cr_rf_ttime_styler = cr_rf_ttime.style.set_table_attributes(\"style='display:inline'\")\\\n",
    "    .set_caption('Tempering Time')\n",
    "cr_rf_ttemp_styler = cr_rf_ttemp.style.set_table_attributes(\"style='display:inline'\")\\\n",
    "    .set_caption('Tempering Temperature')\n",
    "\n",
    "space = \"\\xa0\" * 10\n",
    "display_html(cr_rf_ttemp_styler._repr_html_() + space + cr_rf_ttime_styler._repr_html_(), raw=True)"
   ]
  },
  {
   "cell_type": "code",
   "execution_count": 111,
   "metadata": {},
   "outputs": [
    {
     "data": {
      "text/html": [
       "\n",
       "<style>\n",
       "  #altair-viz-473e7d91a12f4a24ade4283dca92bf4e.vega-embed {\n",
       "    width: 100%;\n",
       "    display: flex;\n",
       "  }\n",
       "\n",
       "  #altair-viz-473e7d91a12f4a24ade4283dca92bf4e.vega-embed details,\n",
       "  #altair-viz-473e7d91a12f4a24ade4283dca92bf4e.vega-embed details summary {\n",
       "    position: relative;\n",
       "  }\n",
       "</style>\n",
       "<div id=\"altair-viz-473e7d91a12f4a24ade4283dca92bf4e\"></div>\n",
       "<script type=\"text/javascript\">\n",
       "  var VEGA_DEBUG = (typeof VEGA_DEBUG == \"undefined\") ? {} : VEGA_DEBUG;\n",
       "  (function(spec, embedOpt){\n",
       "    let outputDiv = document.currentScript.previousElementSibling;\n",
       "    if (outputDiv.id !== \"altair-viz-473e7d91a12f4a24ade4283dca92bf4e\") {\n",
       "      outputDiv = document.getElementById(\"altair-viz-473e7d91a12f4a24ade4283dca92bf4e\");\n",
       "    }\n",
       "    const paths = {\n",
       "      \"vega\": \"https://cdn.jsdelivr.net/npm/vega@5?noext\",\n",
       "      \"vega-lib\": \"https://cdn.jsdelivr.net/npm/vega-lib?noext\",\n",
       "      \"vega-lite\": \"https://cdn.jsdelivr.net/npm/vega-lite@5.20.1?noext\",\n",
       "      \"vega-embed\": \"https://cdn.jsdelivr.net/npm/vega-embed@6?noext\",\n",
       "    };\n",
       "\n",
       "    function maybeLoadScript(lib, version) {\n",
       "      var key = `${lib.replace(\"-\", \"\")}_version`;\n",
       "      return (VEGA_DEBUG[key] == version) ?\n",
       "        Promise.resolve(paths[lib]) :\n",
       "        new Promise(function(resolve, reject) {\n",
       "          var s = document.createElement('script');\n",
       "          document.getElementsByTagName(\"head\")[0].appendChild(s);\n",
       "          s.async = true;\n",
       "          s.onload = () => {\n",
       "            VEGA_DEBUG[key] = version;\n",
       "            return resolve(paths[lib]);\n",
       "          };\n",
       "          s.onerror = () => reject(`Error loading script: ${paths[lib]}`);\n",
       "          s.src = paths[lib];\n",
       "        });\n",
       "    }\n",
       "\n",
       "    function showError(err) {\n",
       "      outputDiv.innerHTML = `<div class=\"error\" style=\"color:red;\">${err}</div>`;\n",
       "      throw err;\n",
       "    }\n",
       "\n",
       "    function displayChart(vegaEmbed) {\n",
       "      vegaEmbed(outputDiv, spec, embedOpt)\n",
       "        .catch(err => showError(`Javascript Error: ${err.message}<br>This usually means there's a typo in your chart specification. See the javascript console for the full traceback.`));\n",
       "    }\n",
       "\n",
       "    if(typeof define === \"function\" && define.amd) {\n",
       "      requirejs.config({paths});\n",
       "      require([\"vega-embed\"], displayChart, err => showError(`Error loading script: ${err.message}`));\n",
       "    } else {\n",
       "      maybeLoadScript(\"vega\", \"5\")\n",
       "        .then(() => maybeLoadScript(\"vega-lite\", \"5.20.1\"))\n",
       "        .then(() => maybeLoadScript(\"vega-embed\", \"6\"))\n",
       "        .catch(showError)\n",
       "        .then(() => displayChart(vegaEmbed));\n",
       "    }\n",
       "  })({\"config\": {\"view\": {\"continuousWidth\": 300, \"continuousHeight\": 300}}, \"concat\": [{\"data\": {\"name\": \"data-24922531332960682cfaaaad683b8cd0\"}, \"mark\": {\"type\": \"bar\"}, \"encoding\": {\"color\": {\"field\": \"f1-score\", \"type\": \"quantitative\"}, \"x\": {\"field\": \"index\", \"title\": \"Tempering Temperature (C)\", \"type\": \"ordinal\"}, \"y\": {\"field\": \"support\", \"type\": \"quantitative\"}}}, {\"data\": {\"name\": \"data-433f45e8cd7a02835baca3f8c456c3da\"}, \"mark\": {\"type\": \"bar\"}, \"encoding\": {\"color\": {\"field\": \"f1-score\", \"type\": \"quantitative\"}, \"x\": {\"field\": \"index\", \"title\": \"Tempering Time (< min)\", \"type\": \"ordinal\"}, \"y\": {\"field\": \"support\", \"type\": \"quantitative\"}}}], \"title\": \"After Balancing Tempering Time\", \"$schema\": \"https://vega.github.io/schema/vega-lite/v5.20.1.json\", \"datasets\": {\"data-24922531332960682cfaaaad683b8cd0\": [{\"index\": 0.0, \"precision\": 0.5806451612903226, \"recall\": 0.6206896551724138, \"f1-score\": 0.6, \"support\": 29.0}, {\"index\": 1.0, \"precision\": 0.5757575757575758, \"recall\": 0.5277777777777778, \"f1-score\": 0.5507246376811594, \"support\": 36.0}, {\"index\": 2.0, \"precision\": 0.17857142857142858, \"recall\": 0.17857142857142858, \"f1-score\": 0.17857142857142858, \"support\": 28.0}, {\"index\": 3.0, \"precision\": 0.46153846153846156, \"recall\": 0.5, \"f1-score\": 0.48, \"support\": 36.0}, {\"index\": 4.0, \"precision\": 0.3333333333333333, \"recall\": 0.25, \"f1-score\": 0.2857142857142857, \"support\": 12.0}, {\"index\": 5.0, \"precision\": 0.38461538461538464, \"recall\": 0.3488372093023256, \"f1-score\": 0.36585365853658536, \"support\": 43.0}, {\"index\": 6.0, \"precision\": 0.058823529411764705, \"recall\": 0.08333333333333333, \"f1-score\": 0.06896551724137931, \"support\": 12.0}, {\"index\": 7.0, \"precision\": 0.27450980392156865, \"recall\": 0.3333333333333333, \"f1-score\": 0.3010752688172043, \"support\": 42.0}, {\"index\": 8.0, \"precision\": 0.21052631578947367, \"recall\": 0.2, \"f1-score\": 0.20512820512820512, \"support\": 20.0}, {\"index\": 9.0, \"precision\": 0.3333333333333333, \"recall\": 0.35, \"f1-score\": 0.34146341463414637, \"support\": 40.0}, {\"index\": 10.0, \"precision\": 0.42857142857142855, \"recall\": 0.25, \"f1-score\": 0.3157894736842105, \"support\": 24.0}], \"data-433f45e8cd7a02835baca3f8c456c3da\": [{\"index\": 0.0, \"precision\": 0.3088235294117647, \"recall\": 0.3442622950819672, \"f1-score\": 0.32558139534883723, \"support\": 61.0}, {\"index\": 1.0, \"precision\": 0.05172413793103448, \"recall\": 0.046875, \"f1-score\": 0.04918032786885246, \"support\": 64.0}, {\"index\": 2.0, \"precision\": 0.25862068965517243, \"recall\": 0.22388059701492538, \"f1-score\": 0.24, \"support\": 67.0}, {\"index\": 3.0, \"precision\": 0.1038961038961039, \"recall\": 0.12698412698412698, \"f1-score\": 0.11428571428571428, \"support\": 63.0}, {\"index\": 4.0, \"precision\": 0.13114754098360656, \"recall\": 0.11940298507462686, \"f1-score\": 0.125, \"support\": 67.0}]}}, {\"mode\": \"vega-lite\"});\n",
       "</script>"
      ],
      "text/plain": [
       "alt.ConcatChart(...)"
      ]
     },
     "execution_count": 111,
     "metadata": {},
     "output_type": "execute_result"
    }
   ],
   "source": [
    "\n",
    "rf_cr_ttemp_supp_plot = alt.Chart(pl_cr_rf_ttemp)\\\n",
    "    .mark_bar().encode(\n",
    "        alt.X('index:O').title('Tempering Temperature (C)'),\n",
    "        alt.Y('support'),\n",
    "        alt.Color('f1-score')\n",
    "        )\n",
    "\n",
    "rf_cr_ttime_supp_plot = alt.Chart(pl_cr_rf_ttime)\\\n",
    "    .mark_bar().encode(\n",
    "        alt.X('index:O').title('Tempering Time (< min)'),\n",
    "        alt.Y('support'),\n",
    "        alt.Color('f1-score')\n",
    "        )\n",
    "rf_cr_ttemp_supp_plot\n",
    "\n",
    "alt.concat(rf_cr_ttemp_supp_plot, rf_cr_ttime_supp_plot).properties(title='After Balancing Tempering Time')"
   ]
  },
  {
   "cell_type": "markdown",
   "metadata": {},
   "source": [
    "## ExtraTreesClassifier has very poor accuracy\n",
    "\n",
    "16% for tempering time and 31% for tempering temperature\n",
    "\n",
    "Combined accuracy of 26.1%\n",
    "\n",
    "Moving to a Deep Neural Network model to try and improve performance. "
   ]
  },
  {
   "cell_type": "markdown",
   "metadata": {},
   "source": [
    "# Deep Neural Network Model"
   ]
  },
  {
   "cell_type": "code",
   "execution_count": 112,
   "metadata": {},
   "outputs": [
    {
     "data": {
      "text/html": [
       "<div><style>\n",
       ".dataframe > thead > tr,\n",
       ".dataframe > tbody > tr {\n",
       "  text-align: right;\n",
       "  white-space: pre-wrap;\n",
       "}\n",
       "</style>\n",
       "<small>shape: (3, 2)</small><table border=\"1\" class=\"dataframe\"><thead><tr><th>time</th><th>temp</th></tr><tr><td>f32</td><td>f32</td></tr></thead><tbody><tr><td>3.0</td><td>0.0</td></tr><tr><td>3.0</td><td>2.0</td></tr><tr><td>2.0</td><td>9.0</td></tr></tbody></table></div>"
      ],
      "text/plain": [
       "shape: (3, 2)\n",
       "┌──────┬──────┐\n",
       "│ time ┆ temp │\n",
       "│ ---  ┆ ---  │\n",
       "│ f32  ┆ f32  │\n",
       "╞══════╪══════╡\n",
       "│ 3.0  ┆ 0.0  │\n",
       "│ 3.0  ┆ 2.0  │\n",
       "│ 2.0  ┆ 9.0  │\n",
       "└──────┴──────┘"
      ]
     },
     "execution_count": 112,
     "metadata": {},
     "output_type": "execute_result"
    }
   ],
   "source": [
    "df_y_test = pl.DataFrame(y_test).with_columns(pl.col('column_0').alias('time'),\n",
    "                                              pl.col('column_1').alias('temp'))\\\n",
    "                                              .select(['time','temp'])\n",
    "df_y_test.tail(3)"
   ]
  },
  {
   "cell_type": "code",
   "execution_count": 113,
   "metadata": {},
   "outputs": [
    {
     "name": "stdout",
     "output_type": "stream",
     "text": [
      "Xdim 12 | ytimedim 5 | ytempdim 11\n"
     ]
    }
   ],
   "source": [
    "dim_input = X_test.shape[1]\n",
    "dim_output_time = df_y_test['time'].unique().shape[0]\n",
    "dim_output_temp = df_y_test['temp'].unique().shape[0]\n",
    "print(\"Xdim\", dim_input,\"| ytimedim\", dim_output_time, \"| ytempdim\", dim_output_temp)\n",
    "# dim_output = y_test.shape[0]\n",
    "# print(\"Xdim\", dim_input,\"| ydim\", dim_output)"
   ]
  },
  {
   "cell_type": "code",
   "execution_count": 114,
   "metadata": {},
   "outputs": [
    {
     "data": {
      "text/plain": [
       "<keras.src.callbacks.history.History at 0x79a322648a70>"
      ]
     },
     "execution_count": 114,
     "metadata": {},
     "output_type": "execute_result"
    }
   ],
   "source": [
    "# https://machinelearningmastery.com/multi-label-classification-with-deep-learning/\n",
    "\n",
    "# input\n",
    "inputs = Input(shape=(dim_input,))\n",
    "# fork model to predict times\n",
    "db1 = Dense(512, activation='relu')(inputs)\n",
    "db1 = Dense(128, activation='relu')(db1)\n",
    "db1 = Dense(32, activation='relu')(db1)\n",
    "# fork model to predict tempereatures\n",
    "db2 = Dense(512, activation='relu')(inputs)\n",
    "db2 = Dense(128, activation='relu')(db2)\n",
    "db2 = Dense(32, activation='relu')(db2)\n",
    "# Output layers for each label\n",
    "output1 = Dense(dim_output_time, activation='sigmoid', name='TTime_out')(db1)\n",
    "output2 = Dense(dim_output_temp, activation='sigmoid', name='TTemp_out')(db2)\n",
    "\n",
    "nn_model = Model(inputs=inputs, outputs=[output1, output2])\n",
    "\n",
    "nn_model.compile(optimizer='adam',\n",
    "                 loss={'TTime_out': 'sparse_categorical_crossentropy', \n",
    "                       'TTemp_out': 'sparse_categorical_crossentropy'},\n",
    "                 metrics={'TTime_out': 'sparse_categorical_accuracy', \n",
    "                       'TTemp_out': 'sparse_categorical_accuracy'})\n",
    "\n",
    "nn_model.fit(x=X_train, y=[y_train[:,0], \n",
    "                           y_train[:,1]], \n",
    "                        verbose=0, \n",
    "                        epochs=100,\n",
    "                        validation_split=0.2)\n"
   ]
  },
  {
   "cell_type": "markdown",
   "metadata": {},
   "source": [
    "## Evaluate NN model\n",
    "\n",
    "Fit and model done 5 times to get stability from the accuracies generated per model."
   ]
  },
  {
   "cell_type": "code",
   "execution_count": 115,
   "metadata": {},
   "outputs": [],
   "source": [
    "def make_pred(model, y_test):\n",
    "    # Make the softmax prediction\n",
    "    y_pred = model.predict(X_test)\n",
    "    # Collapse softmax into a pair of columns, with ordinal encoded values\n",
    "    pred_time = np.argmax(y_pred[0], axis=1)\n",
    "    pred_temp = np.argmax(y_pred[1], axis=1)\n",
    "    # Combine into (,2) rank to compare with y_test \n",
    "    y_pred = np.array(list(zip(pred_time,pred_temp)))\n",
    "    return y_pred"
   ]
  },
  {
   "cell_type": "code",
   "execution_count": 116,
   "metadata": {},
   "outputs": [],
   "source": [
    "def eval_2headed_model(model, y_test):\n",
    "    #make and process the model prediction into the same form vs y_test\n",
    "    y_pred = make_pred(model, y_test)\n",
    "    \n",
    "    accuracies = []\n",
    "    for i in range(y_test.shape[1]):\n",
    "        acc = accuracy_score(y_test[:, i],y_pred[:, i])\n",
    "        accuracies.append(acc)\n",
    "\n",
    "    return accuracies[0], accuracies[1], np.mean(accuracies)"
   ]
  },
  {
   "cell_type": "code",
   "execution_count": 117,
   "metadata": {},
   "outputs": [],
   "source": [
    "def eval_avg_5_times(model, y_test, n=5):\n",
    "    timeAccs = []\n",
    "    tempAccs = []\n",
    "    avgAccs = []\n",
    "\n",
    "    x = 0\n",
    "    while x < n:\n",
    "        timeAcc, tempAcc, avgAcc = eval_2headed_model(model, y_test)\n",
    "        timeAccs.append(timeAcc)\n",
    "        tempAccs.append(tempAcc)\n",
    "        avgAccs.append(avgAcc)\n",
    "        x += 1\n",
    "\n",
    "    print(\"timeAcc:\", round(np.mean(timeAccs),3), \"tempAcc:\", round(np.mean(tempAccs),3))\n",
    "    print(\"Average Accuracy:\", round(np.mean(avgAccs),3))\n",
    "    \n"
   ]
  },
  {
   "cell_type": "code",
   "execution_count": 118,
   "metadata": {},
   "outputs": [
    {
     "name": "stdout",
     "output_type": "stream",
     "text": [
      "\u001b[1m11/11\u001b[0m \u001b[32m━━━━━━━━━━━━━━━━━━━━\u001b[0m\u001b[37m\u001b[0m \u001b[1m0s\u001b[0m 3ms/step \n",
      "\u001b[1m11/11\u001b[0m \u001b[32m━━━━━━━━━━━━━━━━━━━━\u001b[0m\u001b[37m\u001b[0m \u001b[1m0s\u001b[0m 570us/step\n",
      "\u001b[1m11/11\u001b[0m \u001b[32m━━━━━━━━━━━━━━━━━━━━\u001b[0m\u001b[37m\u001b[0m \u001b[1m0s\u001b[0m 515us/step\n",
      "\u001b[1m11/11\u001b[0m \u001b[32m━━━━━━━━━━━━━━━━━━━━\u001b[0m\u001b[37m\u001b[0m \u001b[1m0s\u001b[0m 449us/step\n",
      "\u001b[1m11/11\u001b[0m \u001b[32m━━━━━━━━━━━━━━━━━━━━\u001b[0m\u001b[37m\u001b[0m \u001b[1m0s\u001b[0m 527us/step\n",
      "timeAcc: 0.23 tempAcc: 0.416\n",
      "Average Accuracy: 0.323\n"
     ]
    }
   ],
   "source": [
    "eval_avg_5_times(nn_model, y_test)"
   ]
  },
  {
   "cell_type": "markdown",
   "metadata": {},
   "source": [
    "# Build a Tuner"
   ]
  },
  {
   "cell_type": "code",
   "execution_count": 119,
   "metadata": {},
   "outputs": [],
   "source": [
    "def create_hp_model(hp):\n",
    "    #Activation for all hidden layers\n",
    "    activation = hp.Choice('activation',['relu','tanh','sigmoid'])\n",
    "    # input\n",
    "    inputs = Input(shape=(dim_input,))\n",
    "    x = inputs\n",
    "    \n",
    "    # fork model to predict times\n",
    "    x0 = Dense(units=hp.Int('time_units1',\n",
    "                             min_value=32,\n",
    "                             max_value=512,\n",
    "                             sampling='linear'), \n",
    "                             activation=activation)(x)\n",
    "    x0 = Dense(units=hp.Int('time_units2',\n",
    "                             min_value=32,\n",
    "                             max_value=512,\n",
    "                             sampling='linear'), \n",
    "                             activation=activation)(x0)\n",
    "    x0 = Dense(units=hp.Int('time_units3',\n",
    "                             min_value=16,\n",
    "                             max_value=256,\n",
    "                             sampling='linear'), \n",
    "                             activation=activation)(x0)\n",
    "    x0 = Dense(units=hp.Int('time_units4',\n",
    "                             min_value=4,\n",
    "                             max_value=128,\n",
    "                             sampling='linear'), \n",
    "                             activation=activation)(x0)\n",
    "    \n",
    "    # fork model to predict temp\n",
    "    x1 = Dense(units=hp.Int('temp_units1',\n",
    "                             min_value=32,\n",
    "                             max_value=256,\n",
    "                             sampling='linear'), \n",
    "                             activation=activation)(x)\n",
    "    x1 = Dense(units=hp.Int('temp_units2',\n",
    "                             min_value=32,\n",
    "                             max_value=128,\n",
    "                             sampling='linear'), \n",
    "                             activation=activation)(x1)\n",
    "    x1 = Dense(units=hp.Int('temp_units3',\n",
    "                             min_value=4,\n",
    "                             max_value=32,\n",
    "                             sampling='linear'), \n",
    "                             activation=activation)(x1)\n",
    "    \n",
    "    # Output layers for each label\n",
    "    output0 = Dense(dim_output_time, activation='softmax', name='TTime_out')(x0)\n",
    "    output1 = Dense(dim_output_temp, activation='softmax', name='TTemp_out')(x1)\n",
    "\n",
    "    nn_model = Model(inputs=inputs, outputs=[output0, output1])\n",
    "\n",
    "    nn_model.compile(optimizer='sgd',\n",
    "                     loss={'TTime_out': 'sparse_categorical_crossentropy', \n",
    "                           'TTemp_out': 'sparse_categorical_crossentropy'},\n",
    "                     loss_weights={'TTime_out': 1.0, \n",
    "                           'TTemp_out': 1.0},\n",
    "                     metrics=[\"accuracy\",\"accuracy\"])\n",
    "    \n",
    "    return nn_model"
   ]
  },
  {
   "cell_type": "code",
   "execution_count": 120,
   "metadata": {},
   "outputs": [
    {
     "name": "stdout",
     "output_type": "stream",
     "text": [
      "Reloading Tuner from ./multiout_DNN/tuner0.json\n"
     ]
    }
   ],
   "source": [
    "tuner = kt.Hyperband(\n",
    "    create_hp_model,\n",
    "    objective=[\"val_loss\",\"val_loss\"],\n",
    "    max_epochs=20,\n",
    "    factor=5,\n",
    "    hyperband_iterations=2,\n",
    "    project_name='multiout_DNN',\n",
    "    executions_per_trial=5)\n"
   ]
  },
  {
   "cell_type": "code",
   "execution_count": 121,
   "metadata": {},
   "outputs": [],
   "source": [
    "tuner.search(x=X_train, \n",
    "             y=[y_train[:,0], \n",
    "                y_train[:,1]],\n",
    "             epochs=250,\n",
    "             validation_data=(X_test,[y_test[:,0], \n",
    "                                      y_test[:,1]]))"
   ]
  },
  {
   "cell_type": "code",
   "execution_count": 122,
   "metadata": {},
   "outputs": [],
   "source": [
    "best_model = tuner.get_best_models(1)[0]"
   ]
  },
  {
   "cell_type": "code",
   "execution_count": 123,
   "metadata": {},
   "outputs": [
    {
     "data": {
      "text/plain": [
       "<keras.src.callbacks.history.History at 0x79a3881ea6c0>"
      ]
     },
     "execution_count": 123,
     "metadata": {},
     "output_type": "execute_result"
    }
   ],
   "source": [
    "best_model.fit(x=X_train, \n",
    "               y=[y_train[:,0], \n",
    "                  y_train[:,1]], \n",
    "               verbose=0,\n",
    "               epochs=3)"
   ]
  },
  {
   "cell_type": "code",
   "execution_count": 124,
   "metadata": {},
   "outputs": [
    {
     "data": {
      "text/plain": [
       "{'activation': 'tanh',\n",
       " 'time_units1': 501,\n",
       " 'time_units2': 500,\n",
       " 'time_units3': 50,\n",
       " 'time_units4': 8,\n",
       " 'temp_units1': 256,\n",
       " 'temp_units2': 82,\n",
       " 'temp_units3': 18,\n",
       " 'tuner/epochs': 20,\n",
       " 'tuner/initial_epoch': 4,\n",
       " 'tuner/bracket': 1,\n",
       " 'tuner/round': 1,\n",
       " 'tuner/trial_id': '0016'}"
      ]
     },
     "execution_count": 124,
     "metadata": {},
     "output_type": "execute_result"
    }
   ],
   "source": [
    "tuner.get_best_hyperparameters(1)[0].values"
   ]
  },
  {
   "cell_type": "code",
   "execution_count": 125,
   "metadata": {},
   "outputs": [
    {
     "name": "stdout",
     "output_type": "stream",
     "text": [
      "\u001b[1m11/11\u001b[0m \u001b[32m━━━━━━━━━━━━━━━━━━━━\u001b[0m\u001b[37m\u001b[0m \u001b[1m0s\u001b[0m 4ms/step \n",
      "\u001b[1m11/11\u001b[0m \u001b[32m━━━━━━━━━━━━━━━━━━━━\u001b[0m\u001b[37m\u001b[0m \u001b[1m0s\u001b[0m 890us/step\n",
      "\u001b[1m11/11\u001b[0m \u001b[32m━━━━━━━━━━━━━━━━━━━━\u001b[0m\u001b[37m\u001b[0m \u001b[1m0s\u001b[0m 772us/step\n",
      "\u001b[1m11/11\u001b[0m \u001b[32m━━━━━━━━━━━━━━━━━━━━\u001b[0m\u001b[37m\u001b[0m \u001b[1m0s\u001b[0m 651us/step\n",
      "\u001b[1m11/11\u001b[0m \u001b[32m━━━━━━━━━━━━━━━━━━━━\u001b[0m\u001b[37m\u001b[0m \u001b[1m0s\u001b[0m 621us/step\n",
      "timeAcc: 0.307 tempAcc: 0.326\n",
      "Average Accuracy: 0.317\n"
     ]
    }
   ],
   "source": [
    "eval_avg_5_times(best_model, y_test, 5)"
   ]
  },
  {
   "cell_type": "markdown",
   "metadata": {},
   "source": [
    "# Two headed Model Optimization\n",
    "\n",
    "property | Model Structure 1 | Model Structure 2 | Model Structure 3 | Structure1 SDG\n",
    "---|---|---|---|---\n",
    "timeAcc| 0.307 | 0.258 |0.252 | 0.28\n",
    "tempAcc| 0.481 | 0.407 | 0.466 |  0.373\n",
    "Weighted Average Accuracy| 0.394 | 0.332 | 0.359 | 3.26\n",
    "activation  | 'relu' | 'relu' | 'relu' | 'relu' \n",
    "time_units1 | 487 | 96 | 128 |510\n",
    "time_units2 | 143 | -- | -- | 175\n",
    "time_units3 | 246 | 16 | 160 | 189\n",
    "time_units4 | 51 | 52 | 92 | 31\n",
    "temp_units1 | 172 | 160 | 128 | 243\n",
    "temp_units2 | 84 | -- | 64 | 116\n",
    "temp_units3 | 29 | 12 | 20 | 32\n",
    "tuner/epochs |  20 | 20 | 20 | 20\n",
    "\n",
    "---\n",
    "\n",
    "Model Structure 1\n",
    "```\n",
    "Input-------L1---L2---L3---L4---TimeOutput\n",
    "        |\n",
    "        ----L1---L2---L3---TempOutput\n",
    "```  \n",
    "---\n",
    "\n",
    "Model Structure 2\n",
    "```\n",
    "Input-------L1---L3---L4---TimeOutput\n",
    "        |\n",
    "        ----L1---L3---TempOutput\n",
    "```  \n",
    "\n",
    "Model Structure 3\n",
    "```\n",
    "Input-------L1---L3---L4---TimeOutput\n",
    "        |\n",
    "        ----L1---L2---L3---TempOutput\n",
    "```  \n",
    "---\n",
    "     "
   ]
  },
  {
   "cell_type": "markdown",
   "metadata": {},
   "source": [
    "# Chosen Model Structure 1, optimizing optimizer"
   ]
  },
  {
   "cell_type": "code",
   "execution_count": 126,
   "metadata": {
    "notebookRunGroups": {
     "groupValue": "1"
    }
   },
   "outputs": [
    {
     "name": "stdout",
     "output_type": "stream",
     "text": [
      "\u001b[1m11/11\u001b[0m \u001b[32m━━━━━━━━━━━━━━━━━━━━\u001b[0m\u001b[37m\u001b[0m \u001b[1m0s\u001b[0m 3ms/step \n",
      "\u001b[1m11/11\u001b[0m \u001b[32m━━━━━━━━━━━━━━━━━━━━\u001b[0m\u001b[37m\u001b[0m \u001b[1m0s\u001b[0m 522us/step\n",
      "\u001b[1m11/11\u001b[0m \u001b[32m━━━━━━━━━━━━━━━━━━━━\u001b[0m\u001b[37m\u001b[0m \u001b[1m0s\u001b[0m 552us/step\n",
      "\u001b[1m11/11\u001b[0m \u001b[32m━━━━━━━━━━━━━━━━━━━━\u001b[0m\u001b[37m\u001b[0m \u001b[1m0s\u001b[0m 574us/step\n",
      "\u001b[1m11/11\u001b[0m \u001b[32m━━━━━━━━━━━━━━━━━━━━\u001b[0m\u001b[37m\u001b[0m \u001b[1m0s\u001b[0m 526us/step\n",
      "\u001b[1m11/11\u001b[0m \u001b[32m━━━━━━━━━━━━━━━━━━━━\u001b[0m\u001b[37m\u001b[0m \u001b[1m0s\u001b[0m 531us/step\n",
      "\u001b[1m11/11\u001b[0m \u001b[32m━━━━━━━━━━━━━━━━━━━━\u001b[0m\u001b[37m\u001b[0m \u001b[1m0s\u001b[0m 564us/step\n",
      "\u001b[1m11/11\u001b[0m \u001b[32m━━━━━━━━━━━━━━━━━━━━\u001b[0m\u001b[37m\u001b[0m \u001b[1m0s\u001b[0m 501us/step\n",
      "\u001b[1m11/11\u001b[0m \u001b[32m━━━━━━━━━━━━━━━━━━━━\u001b[0m\u001b[37m\u001b[0m \u001b[1m0s\u001b[0m 526us/step\n",
      "\u001b[1m11/11\u001b[0m \u001b[32m━━━━━━━━━━━━━━━━━━━━\u001b[0m\u001b[37m\u001b[0m \u001b[1m0s\u001b[0m 478us/step\n",
      "\u001b[1m11/11\u001b[0m \u001b[32m━━━━━━━━━━━━━━━━━━━━\u001b[0m\u001b[37m\u001b[0m \u001b[1m0s\u001b[0m 531us/step\n",
      "\u001b[1m11/11\u001b[0m \u001b[32m━━━━━━━━━━━━━━━━━━━━\u001b[0m\u001b[37m\u001b[0m \u001b[1m0s\u001b[0m 505us/step\n",
      "\u001b[1m11/11\u001b[0m \u001b[32m━━━━━━━━━━━━━━━━━━━━\u001b[0m\u001b[37m\u001b[0m \u001b[1m0s\u001b[0m 499us/step\n",
      "\u001b[1m11/11\u001b[0m \u001b[32m━━━━━━━━━━━━━━━━━━━━\u001b[0m\u001b[37m\u001b[0m \u001b[1m0s\u001b[0m 480us/step\n",
      "\u001b[1m11/11\u001b[0m \u001b[32m━━━━━━━━━━━━━━━━━━━━\u001b[0m\u001b[37m\u001b[0m \u001b[1m0s\u001b[0m 489us/step\n",
      "timeAcc: 0.208 tempAcc: 0.453\n",
      "Average Accuracy: 0.331\n"
     ]
    }
   ],
   "source": [
    "def create_model(optimizer='adam'):\n",
    "\n",
    "    # input\n",
    "    inputs = Input(shape=(dim_input,))\n",
    "    x = inputs\n",
    "    \n",
    "    # fork model to predict times\n",
    "    x0 = Dense(units=487, activation='relu')(x)\n",
    "    x0 = Dense(units=143, activation='relu')(x0)\n",
    "    x0 = Dense(units=246, activation='relu')(x0)\n",
    "    x0 = Dense(units=51, activation='relu')(x0)\n",
    "    \n",
    "    # fork model to predict temp\n",
    "    x1 = Dense(units=172, activation='relu')(x)\n",
    "    x1 = Dense(units=84, activation='relu')(x1)\n",
    "    x1 = Dense(units=29, activation='relu')(x1)\n",
    "    \n",
    "    # Output layers for each label\n",
    "    output0 = Dense(dim_output_time, activation='softmax', name='TTime_out')(x0)\n",
    "    output1 = Dense(dim_output_temp, activation='softmax', name='TTemp_out')(x1)\n",
    "\n",
    "    nn_model = Model(inputs=inputs, outputs=[output0, output1])\n",
    "\n",
    "    nn_model.compile(optimizer=optimizer,\n",
    "                     loss={'TTime_out': 'sparse_categorical_crossentropy', \n",
    "                           'TTemp_out': 'sparse_categorical_crossentropy'},\n",
    "                     loss_weights={'TTime_out': 1.0, \n",
    "                           'TTemp_out': 1.0},\n",
    "                     metrics=[\"accuracy\",\"accuracy\"])\n",
    "    \n",
    "    return nn_model\n",
    "\n",
    "model = create_model()\n",
    "model.fit(x=X_train, \n",
    "          y=[y_train[:,0], \n",
    "             y_train[:,1]], \n",
    "          verbose=0,\n",
    "          epochs=150)\n",
    "eval_avg_5_times(model, y_test, n=15)"
   ]
  },
  {
   "cell_type": "code",
   "execution_count": 127,
   "metadata": {},
   "outputs": [],
   "source": [
    "optimizers = [name.lower() for name in [\"Adadelta\", \n",
    "                                        \"Adafactor\", \n",
    "                                        \"Adagrad\", \n",
    "                                        \"Adam\", \n",
    "                                        \"AdamW\", \n",
    "                                        \"Adamax\", \n",
    "                                        \"Ftrl\", \n",
    "                                        \"Lion\", \n",
    "                                        \"Nadam\", \n",
    "                                        \"RMSprop\", \n",
    "                                        \"SGD\"]]"
   ]
  },
  {
   "cell_type": "code",
   "execution_count": 128,
   "metadata": {},
   "outputs": [
    {
     "name": "stdout",
     "output_type": "stream",
     "text": [
      "Optimizer: adadelta\n",
      "\u001b[1m11/11\u001b[0m \u001b[32m━━━━━━━━━━━━━━━━━━━━\u001b[0m\u001b[37m\u001b[0m \u001b[1m0s\u001b[0m 3ms/step \n",
      "\u001b[1m11/11\u001b[0m \u001b[32m━━━━━━━━━━━━━━━━━━━━\u001b[0m\u001b[37m\u001b[0m \u001b[1m0s\u001b[0m 577us/step\n",
      "\u001b[1m11/11\u001b[0m \u001b[32m━━━━━━━━━━━━━━━━━━━━\u001b[0m\u001b[37m\u001b[0m \u001b[1m0s\u001b[0m 484us/step\n",
      "\u001b[1m11/11\u001b[0m \u001b[32m━━━━━━━━━━━━━━━━━━━━\u001b[0m\u001b[37m\u001b[0m \u001b[1m0s\u001b[0m 597us/step\n",
      "\u001b[1m11/11\u001b[0m \u001b[32m━━━━━━━━━━━━━━━━━━━━\u001b[0m\u001b[37m\u001b[0m \u001b[1m0s\u001b[0m 574us/step\n",
      "\u001b[1m11/11\u001b[0m \u001b[32m━━━━━━━━━━━━━━━━━━━━\u001b[0m\u001b[37m\u001b[0m \u001b[1m0s\u001b[0m 559us/step\n",
      "\u001b[1m11/11\u001b[0m \u001b[32m━━━━━━━━━━━━━━━━━━━━\u001b[0m\u001b[37m\u001b[0m \u001b[1m0s\u001b[0m 668us/step\n",
      "\u001b[1m11/11\u001b[0m \u001b[32m━━━━━━━━━━━━━━━━━━━━\u001b[0m\u001b[37m\u001b[0m \u001b[1m0s\u001b[0m 536us/step\n",
      "\u001b[1m11/11\u001b[0m \u001b[32m━━━━━━━━━━━━━━━━━━━━\u001b[0m\u001b[37m\u001b[0m \u001b[1m0s\u001b[0m 541us/step\n",
      "\u001b[1m11/11\u001b[0m \u001b[32m━━━━━━━━━━━━━━━━━━━━\u001b[0m\u001b[37m\u001b[0m \u001b[1m0s\u001b[0m 566us/step\n",
      "\u001b[1m11/11\u001b[0m \u001b[32m━━━━━━━━━━━━━━━━━━━━\u001b[0m\u001b[37m\u001b[0m \u001b[1m0s\u001b[0m 492us/step\n",
      "\u001b[1m11/11\u001b[0m \u001b[32m━━━━━━━━━━━━━━━━━━━━\u001b[0m\u001b[37m\u001b[0m \u001b[1m0s\u001b[0m 519us/step\n",
      "\u001b[1m11/11\u001b[0m \u001b[32m━━━━━━━━━━━━━━━━━━━━\u001b[0m\u001b[37m\u001b[0m \u001b[1m0s\u001b[0m 465us/step\n",
      "\u001b[1m11/11\u001b[0m \u001b[32m━━━━━━━━━━━━━━━━━━━━\u001b[0m\u001b[37m\u001b[0m \u001b[1m0s\u001b[0m 586us/step\n",
      "\u001b[1m11/11\u001b[0m \u001b[32m━━━━━━━━━━━━━━━━━━━━\u001b[0m\u001b[37m\u001b[0m \u001b[1m0s\u001b[0m 467us/step\n",
      "timeAcc: 0.276 tempAcc: 0.087\n",
      "Average Accuracy: 0.182\n",
      "Optimizer: adafactor\n",
      "\u001b[1m11/11\u001b[0m \u001b[32m━━━━━━━━━━━━━━━━━━━━\u001b[0m\u001b[37m\u001b[0m \u001b[1m0s\u001b[0m 3ms/step \n",
      "\u001b[1m11/11\u001b[0m \u001b[32m━━━━━━━━━━━━━━━━━━━━\u001b[0m\u001b[37m\u001b[0m \u001b[1m0s\u001b[0m 819us/step\n",
      "\u001b[1m11/11\u001b[0m \u001b[32m━━━━━━━━━━━━━━━━━━━━\u001b[0m\u001b[37m\u001b[0m \u001b[1m0s\u001b[0m 621us/step\n",
      "\u001b[1m11/11\u001b[0m \u001b[32m━━━━━━━━━━━━━━━━━━━━\u001b[0m\u001b[37m\u001b[0m \u001b[1m0s\u001b[0m 603us/step\n",
      "\u001b[1m11/11\u001b[0m \u001b[32m━━━━━━━━━━━━━━━━━━━━\u001b[0m\u001b[37m\u001b[0m \u001b[1m0s\u001b[0m 572us/step\n",
      "\u001b[1m11/11\u001b[0m \u001b[32m━━━━━━━━━━━━━━━━━━━━\u001b[0m\u001b[37m\u001b[0m \u001b[1m0s\u001b[0m 610us/step\n",
      "\u001b[1m11/11\u001b[0m \u001b[32m━━━━━━━━━━━━━━━━━━━━\u001b[0m\u001b[37m\u001b[0m \u001b[1m0s\u001b[0m 549us/step\n",
      "\u001b[1m11/11\u001b[0m \u001b[32m━━━━━━━━━━━━━━━━━━━━\u001b[0m\u001b[37m\u001b[0m \u001b[1m0s\u001b[0m 619us/step\n",
      "\u001b[1m11/11\u001b[0m \u001b[32m━━━━━━━━━━━━━━━━━━━━\u001b[0m\u001b[37m\u001b[0m \u001b[1m0s\u001b[0m 555us/step\n",
      "\u001b[1m11/11\u001b[0m \u001b[32m━━━━━━━━━━━━━━━━━━━━\u001b[0m\u001b[37m\u001b[0m \u001b[1m0s\u001b[0m 588us/step\n",
      "\u001b[1m11/11\u001b[0m \u001b[32m━━━━━━━━━━━━━━━━━━━━\u001b[0m\u001b[37m\u001b[0m \u001b[1m0s\u001b[0m 503us/step\n",
      "\u001b[1m11/11\u001b[0m \u001b[32m━━━━━━━━━━━━━━━━━━━━\u001b[0m\u001b[37m\u001b[0m \u001b[1m0s\u001b[0m 543us/step\n",
      "\u001b[1m11/11\u001b[0m \u001b[32m━━━━━━━━━━━━━━━━━━━━\u001b[0m\u001b[37m\u001b[0m \u001b[1m0s\u001b[0m 545us/step\n",
      "\u001b[1m11/11\u001b[0m \u001b[32m━━━━━━━━━━━━━━━━━━━━\u001b[0m\u001b[37m\u001b[0m \u001b[1m0s\u001b[0m 543us/step\n",
      "\u001b[1m11/11\u001b[0m \u001b[32m━━━━━━━━━━━━━━━━━━━━\u001b[0m\u001b[37m\u001b[0m \u001b[1m0s\u001b[0m 619us/step\n",
      "timeAcc: 0.196 tempAcc: 0.124\n",
      "Average Accuracy: 0.16\n",
      "Optimizer: adagrad\n",
      "\u001b[1m11/11\u001b[0m \u001b[32m━━━━━━━━━━━━━━━━━━━━\u001b[0m\u001b[37m\u001b[0m \u001b[1m0s\u001b[0m 3ms/step \n",
      "\u001b[1m11/11\u001b[0m \u001b[32m━━━━━━━━━━━━━━━━━━━━\u001b[0m\u001b[37m\u001b[0m \u001b[1m0s\u001b[0m 521us/step\n",
      "\u001b[1m11/11\u001b[0m \u001b[32m━━━━━━━━━━━━━━━━━━━━\u001b[0m\u001b[37m\u001b[0m \u001b[1m0s\u001b[0m 503us/step\n",
      "\u001b[1m11/11\u001b[0m \u001b[32m━━━━━━━━━━━━━━━━━━━━\u001b[0m\u001b[37m\u001b[0m \u001b[1m0s\u001b[0m 461us/step\n",
      "\u001b[1m11/11\u001b[0m \u001b[32m━━━━━━━━━━━━━━━━━━━━\u001b[0m\u001b[37m\u001b[0m \u001b[1m0s\u001b[0m 532us/step\n",
      "\u001b[1m11/11\u001b[0m \u001b[32m━━━━━━━━━━━━━━━━━━━━\u001b[0m\u001b[37m\u001b[0m \u001b[1m0s\u001b[0m 539us/step\n",
      "\u001b[1m11/11\u001b[0m \u001b[32m━━━━━━━━━━━━━━━━━━━━\u001b[0m\u001b[37m\u001b[0m \u001b[1m0s\u001b[0m 521us/step\n",
      "\u001b[1m11/11\u001b[0m \u001b[32m━━━━━━━━━━━━━━━━━━━━\u001b[0m\u001b[37m\u001b[0m \u001b[1m0s\u001b[0m 583us/step\n",
      "\u001b[1m11/11\u001b[0m \u001b[32m━━━━━━━━━━━━━━━━━━━━\u001b[0m\u001b[37m\u001b[0m \u001b[1m0s\u001b[0m 512us/step\n",
      "\u001b[1m11/11\u001b[0m \u001b[32m━━━━━━━━━━━━━━━━━━━━\u001b[0m\u001b[37m\u001b[0m \u001b[1m0s\u001b[0m 518us/step\n",
      "\u001b[1m11/11\u001b[0m \u001b[32m━━━━━━━━━━━━━━━━━━━━\u001b[0m\u001b[37m\u001b[0m \u001b[1m0s\u001b[0m 470us/step\n",
      "\u001b[1m11/11\u001b[0m \u001b[32m━━━━━━━━━━━━━━━━━━━━\u001b[0m\u001b[37m\u001b[0m \u001b[1m0s\u001b[0m 548us/step\n",
      "\u001b[1m11/11\u001b[0m \u001b[32m━━━━━━━━━━━━━━━━━━━━\u001b[0m\u001b[37m\u001b[0m \u001b[1m0s\u001b[0m 520us/step\n",
      "\u001b[1m11/11\u001b[0m \u001b[32m━━━━━━━━━━━━━━━━━━━━\u001b[0m\u001b[37m\u001b[0m \u001b[1m0s\u001b[0m 572us/step\n",
      "\u001b[1m11/11\u001b[0m \u001b[32m━━━━━━━━━━━━━━━━━━━━\u001b[0m\u001b[37m\u001b[0m \u001b[1m0s\u001b[0m 484us/step\n",
      "timeAcc: 0.301 tempAcc: 0.32\n",
      "Average Accuracy: 0.311\n",
      "Optimizer: adam\n",
      "\u001b[1m11/11\u001b[0m \u001b[32m━━━━━━━━━━━━━━━━━━━━\u001b[0m\u001b[37m\u001b[0m \u001b[1m0s\u001b[0m 3ms/step \n",
      "\u001b[1m11/11\u001b[0m \u001b[32m━━━━━━━━━━━━━━━━━━━━\u001b[0m\u001b[37m\u001b[0m \u001b[1m0s\u001b[0m 528us/step\n",
      "\u001b[1m11/11\u001b[0m \u001b[32m━━━━━━━━━━━━━━━━━━━━\u001b[0m\u001b[37m\u001b[0m \u001b[1m0s\u001b[0m 520us/step\n",
      "\u001b[1m11/11\u001b[0m \u001b[32m━━━━━━━━━━━━━━━━━━━━\u001b[0m\u001b[37m\u001b[0m \u001b[1m0s\u001b[0m 489us/step\n",
      "\u001b[1m11/11\u001b[0m \u001b[32m━━━━━━━━━━━━━━━━━━━━\u001b[0m\u001b[37m\u001b[0m \u001b[1m0s\u001b[0m 518us/step\n",
      "\u001b[1m11/11\u001b[0m \u001b[32m━━━━━━━━━━━━━━━━━━━━\u001b[0m\u001b[37m\u001b[0m \u001b[1m0s\u001b[0m 530us/step\n",
      "\u001b[1m11/11\u001b[0m \u001b[32m━━━━━━━━━━━━━━━━━━━━\u001b[0m\u001b[37m\u001b[0m \u001b[1m0s\u001b[0m 493us/step\n",
      "\u001b[1m11/11\u001b[0m \u001b[32m━━━━━━━━━━━━━━━━━━━━\u001b[0m\u001b[37m\u001b[0m \u001b[1m0s\u001b[0m 456us/step\n",
      "\u001b[1m11/11\u001b[0m \u001b[32m━━━━━━━━━━━━━━━━━━━━\u001b[0m\u001b[37m\u001b[0m \u001b[1m0s\u001b[0m 527us/step\n",
      "\u001b[1m11/11\u001b[0m \u001b[32m━━━━━━━━━━━━━━━━━━━━\u001b[0m\u001b[37m\u001b[0m \u001b[1m0s\u001b[0m 548us/step\n",
      "\u001b[1m11/11\u001b[0m \u001b[32m━━━━━━━━━━━━━━━━━━━━\u001b[0m\u001b[37m\u001b[0m \u001b[1m0s\u001b[0m 480us/step\n",
      "\u001b[1m11/11\u001b[0m \u001b[32m━━━━━━━━━━━━━━━━━━━━\u001b[0m\u001b[37m\u001b[0m \u001b[1m0s\u001b[0m 534us/step\n",
      "\u001b[1m11/11\u001b[0m \u001b[32m━━━━━━━━━━━━━━━━━━━━\u001b[0m\u001b[37m\u001b[0m \u001b[1m0s\u001b[0m 457us/step\n",
      "\u001b[1m11/11\u001b[0m \u001b[32m━━━━━━━━━━━━━━━━━━━━\u001b[0m\u001b[37m\u001b[0m \u001b[1m0s\u001b[0m 500us/step\n",
      "\u001b[1m11/11\u001b[0m \u001b[32m━━━━━━━━━━━━━━━━━━━━\u001b[0m\u001b[37m\u001b[0m \u001b[1m0s\u001b[0m 473us/step\n",
      "timeAcc: 0.208 tempAcc: 0.457\n",
      "Average Accuracy: 0.332\n",
      "Optimizer: adamw\n",
      "\u001b[1m11/11\u001b[0m \u001b[32m━━━━━━━━━━━━━━━━━━━━\u001b[0m\u001b[37m\u001b[0m \u001b[1m0s\u001b[0m 4ms/step \n",
      "\u001b[1m11/11\u001b[0m \u001b[32m━━━━━━━━━━━━━━━━━━━━\u001b[0m\u001b[37m\u001b[0m \u001b[1m0s\u001b[0m 526us/step\n",
      "\u001b[1m11/11\u001b[0m \u001b[32m━━━━━━━━━━━━━━━━━━━━\u001b[0m\u001b[37m\u001b[0m \u001b[1m0s\u001b[0m 474us/step\n",
      "\u001b[1m11/11\u001b[0m \u001b[32m━━━━━━━━━━━━━━━━━━━━\u001b[0m\u001b[37m\u001b[0m \u001b[1m0s\u001b[0m 559us/step\n",
      "\u001b[1m11/11\u001b[0m \u001b[32m━━━━━━━━━━━━━━━━━━━━\u001b[0m\u001b[37m\u001b[0m \u001b[1m0s\u001b[0m 472us/step\n",
      "\u001b[1m11/11\u001b[0m \u001b[32m━━━━━━━━━━━━━━━━━━━━\u001b[0m\u001b[37m\u001b[0m \u001b[1m0s\u001b[0m 502us/step\n",
      "\u001b[1m11/11\u001b[0m \u001b[32m━━━━━━━━━━━━━━━━━━━━\u001b[0m\u001b[37m\u001b[0m \u001b[1m0s\u001b[0m 484us/step\n",
      "\u001b[1m11/11\u001b[0m \u001b[32m━━━━━━━━━━━━━━━━━━━━\u001b[0m\u001b[37m\u001b[0m \u001b[1m0s\u001b[0m 487us/step\n",
      "\u001b[1m11/11\u001b[0m \u001b[32m━━━━━━━━━━━━━━━━━━━━\u001b[0m\u001b[37m\u001b[0m \u001b[1m0s\u001b[0m 469us/step\n",
      "\u001b[1m11/11\u001b[0m \u001b[32m━━━━━━━━━━━━━━━━━━━━\u001b[0m\u001b[37m\u001b[0m \u001b[1m0s\u001b[0m 574us/step\n",
      "\u001b[1m11/11\u001b[0m \u001b[32m━━━━━━━━━━━━━━━━━━━━\u001b[0m\u001b[37m\u001b[0m \u001b[1m0s\u001b[0m 479us/step\n",
      "\u001b[1m11/11\u001b[0m \u001b[32m━━━━━━━━━━━━━━━━━━━━\u001b[0m\u001b[37m\u001b[0m \u001b[1m0s\u001b[0m 466us/step\n",
      "\u001b[1m11/11\u001b[0m \u001b[32m━━━━━━━━━━━━━━━━━━━━\u001b[0m\u001b[37m\u001b[0m \u001b[1m0s\u001b[0m 498us/step\n",
      "\u001b[1m11/11\u001b[0m \u001b[32m━━━━━━━━━━━━━━━━━━━━\u001b[0m\u001b[37m\u001b[0m \u001b[1m0s\u001b[0m 476us/step\n",
      "\u001b[1m11/11\u001b[0m \u001b[32m━━━━━━━━━━━━━━━━━━━━\u001b[0m\u001b[37m\u001b[0m \u001b[1m0s\u001b[0m 566us/step\n",
      "timeAcc: 0.227 tempAcc: 0.441\n",
      "Average Accuracy: 0.334\n",
      "Optimizer: adamax\n",
      "\u001b[1m11/11\u001b[0m \u001b[32m━━━━━━━━━━━━━━━━━━━━\u001b[0m\u001b[37m\u001b[0m \u001b[1m0s\u001b[0m 3ms/step \n",
      "\u001b[1m11/11\u001b[0m \u001b[32m━━━━━━━━━━━━━━━━━━━━\u001b[0m\u001b[37m\u001b[0m \u001b[1m0s\u001b[0m 559us/step\n",
      "\u001b[1m11/11\u001b[0m \u001b[32m━━━━━━━━━━━━━━━━━━━━\u001b[0m\u001b[37m\u001b[0m \u001b[1m0s\u001b[0m 751us/step\n",
      "\u001b[1m11/11\u001b[0m \u001b[32m━━━━━━━━━━━━━━━━━━━━\u001b[0m\u001b[37m\u001b[0m \u001b[1m0s\u001b[0m 502us/step\n",
      "\u001b[1m11/11\u001b[0m \u001b[32m━━━━━━━━━━━━━━━━━━━━\u001b[0m\u001b[37m\u001b[0m \u001b[1m0s\u001b[0m 526us/step\n",
      "\u001b[1m11/11\u001b[0m \u001b[32m━━━━━━━━━━━━━━━━━━━━\u001b[0m\u001b[37m\u001b[0m \u001b[1m0s\u001b[0m 544us/step\n",
      "\u001b[1m11/11\u001b[0m \u001b[32m━━━━━━━━━━━━━━━━━━━━\u001b[0m\u001b[37m\u001b[0m \u001b[1m0s\u001b[0m 648us/step\n",
      "\u001b[1m11/11\u001b[0m \u001b[32m━━━━━━━━━━━━━━━━━━━━\u001b[0m\u001b[37m\u001b[0m \u001b[1m0s\u001b[0m 546us/step\n",
      "\u001b[1m11/11\u001b[0m \u001b[32m━━━━━━━━━━━━━━━━━━━━\u001b[0m\u001b[37m\u001b[0m \u001b[1m0s\u001b[0m 520us/step\n",
      "\u001b[1m11/11\u001b[0m \u001b[32m━━━━━━━━━━━━━━━━━━━━\u001b[0m\u001b[37m\u001b[0m \u001b[1m0s\u001b[0m 555us/step\n",
      "\u001b[1m11/11\u001b[0m \u001b[32m━━━━━━━━━━━━━━━━━━━━\u001b[0m\u001b[37m\u001b[0m \u001b[1m0s\u001b[0m 570us/step\n",
      "\u001b[1m11/11\u001b[0m \u001b[32m━━━━━━━━━━━━━━━━━━━━\u001b[0m\u001b[37m\u001b[0m \u001b[1m0s\u001b[0m 478us/step\n",
      "\u001b[1m11/11\u001b[0m \u001b[32m━━━━━━━━━━━━━━━━━━━━\u001b[0m\u001b[37m\u001b[0m \u001b[1m0s\u001b[0m 550us/step\n",
      "\u001b[1m11/11\u001b[0m \u001b[32m━━━━━━━━━━━━━━━━━━━━\u001b[0m\u001b[37m\u001b[0m \u001b[1m0s\u001b[0m 579us/step\n",
      "\u001b[1m11/11\u001b[0m \u001b[32m━━━━━━━━━━━━━━━━━━━━\u001b[0m\u001b[37m\u001b[0m \u001b[1m0s\u001b[0m 559us/step\n",
      "timeAcc: 0.245 tempAcc: 0.469\n",
      "Average Accuracy: 0.357\n",
      "Optimizer: ftrl\n",
      "\u001b[1m11/11\u001b[0m \u001b[32m━━━━━━━━━━━━━━━━━━━━\u001b[0m\u001b[37m\u001b[0m \u001b[1m0s\u001b[0m 4ms/step \n",
      "\u001b[1m11/11\u001b[0m \u001b[32m━━━━━━━━━━━━━━━━━━━━\u001b[0m\u001b[37m\u001b[0m \u001b[1m0s\u001b[0m 525us/step\n",
      "\u001b[1m11/11\u001b[0m \u001b[32m━━━━━━━━━━━━━━━━━━━━\u001b[0m\u001b[37m\u001b[0m \u001b[1m0s\u001b[0m 476us/step\n",
      "\u001b[1m11/11\u001b[0m \u001b[32m━━━━━━━━━━━━━━━━━━━━\u001b[0m\u001b[37m\u001b[0m \u001b[1m0s\u001b[0m 469us/step\n",
      "\u001b[1m11/11\u001b[0m \u001b[32m━━━━━━━━━━━━━━━━━━━━\u001b[0m\u001b[37m\u001b[0m \u001b[1m0s\u001b[0m 510us/step\n",
      "\u001b[1m11/11\u001b[0m \u001b[32m━━━━━━━━━━━━━━━━━━━━\u001b[0m\u001b[37m\u001b[0m \u001b[1m0s\u001b[0m 497us/step\n",
      "\u001b[1m11/11\u001b[0m \u001b[32m━━━━━━━━━━━━━━━━━━━━\u001b[0m\u001b[37m\u001b[0m \u001b[1m0s\u001b[0m 504us/step\n",
      "\u001b[1m11/11\u001b[0m \u001b[32m━━━━━━━━━━━━━━━━━━━━\u001b[0m\u001b[37m\u001b[0m \u001b[1m0s\u001b[0m 512us/step\n",
      "\u001b[1m11/11\u001b[0m \u001b[32m━━━━━━━━━━━━━━━━━━━━\u001b[0m\u001b[37m\u001b[0m \u001b[1m0s\u001b[0m 1ms/step \n",
      "\u001b[1m11/11\u001b[0m \u001b[32m━━━━━━━━━━━━━━━━━━━━\u001b[0m\u001b[37m\u001b[0m \u001b[1m0s\u001b[0m 580us/step\n",
      "\u001b[1m11/11\u001b[0m \u001b[32m━━━━━━━━━━━━━━━━━━━━\u001b[0m\u001b[37m\u001b[0m \u001b[1m0s\u001b[0m 498us/step\n",
      "\u001b[1m11/11\u001b[0m \u001b[32m━━━━━━━━━━━━━━━━━━━━\u001b[0m\u001b[37m\u001b[0m \u001b[1m0s\u001b[0m 532us/step\n",
      "\u001b[1m11/11\u001b[0m \u001b[32m━━━━━━━━━━━━━━━━━━━━\u001b[0m\u001b[37m\u001b[0m \u001b[1m0s\u001b[0m 437us/step\n",
      "\u001b[1m11/11\u001b[0m \u001b[32m━━━━━━━━━━━━━━━━━━━━\u001b[0m\u001b[37m\u001b[0m \u001b[1m0s\u001b[0m 471us/step\n",
      "\u001b[1m11/11\u001b[0m \u001b[32m━━━━━━━━━━━━━━━━━━━━\u001b[0m\u001b[37m\u001b[0m \u001b[1m0s\u001b[0m 439us/step\n",
      "timeAcc: 0.208 tempAcc: 0.13\n",
      "Average Accuracy: 0.169\n",
      "Optimizer: lion\n",
      "\u001b[1m11/11\u001b[0m \u001b[32m━━━━━━━━━━━━━━━━━━━━\u001b[0m\u001b[37m\u001b[0m \u001b[1m0s\u001b[0m 3ms/step \n",
      "\u001b[1m11/11\u001b[0m \u001b[32m━━━━━━━━━━━━━━━━━━━━\u001b[0m\u001b[37m\u001b[0m \u001b[1m0s\u001b[0m 584us/step\n",
      "\u001b[1m11/11\u001b[0m \u001b[32m━━━━━━━━━━━━━━━━━━━━\u001b[0m\u001b[37m\u001b[0m \u001b[1m0s\u001b[0m 655us/step\n",
      "\u001b[1m11/11\u001b[0m \u001b[32m━━━━━━━━━━━━━━━━━━━━\u001b[0m\u001b[37m\u001b[0m \u001b[1m0s\u001b[0m 462us/step\n",
      "\u001b[1m11/11\u001b[0m \u001b[32m━━━━━━━━━━━━━━━━━━━━\u001b[0m\u001b[37m\u001b[0m \u001b[1m0s\u001b[0m 469us/step\n",
      "\u001b[1m11/11\u001b[0m \u001b[32m━━━━━━━━━━━━━━━━━━━━\u001b[0m\u001b[37m\u001b[0m \u001b[1m0s\u001b[0m 533us/step\n",
      "\u001b[1m11/11\u001b[0m \u001b[32m━━━━━━━━━━━━━━━━━━━━\u001b[0m\u001b[37m\u001b[0m \u001b[1m0s\u001b[0m 490us/step\n",
      "\u001b[1m11/11\u001b[0m \u001b[32m━━━━━━━━━━━━━━━━━━━━\u001b[0m\u001b[37m\u001b[0m \u001b[1m0s\u001b[0m 536us/step\n",
      "\u001b[1m11/11\u001b[0m \u001b[32m━━━━━━━━━━━━━━━━━━━━\u001b[0m\u001b[37m\u001b[0m \u001b[1m0s\u001b[0m 483us/step\n",
      "\u001b[1m11/11\u001b[0m \u001b[32m━━━━━━━━━━━━━━━━━━━━\u001b[0m\u001b[37m\u001b[0m \u001b[1m0s\u001b[0m 471us/step\n",
      "\u001b[1m11/11\u001b[0m \u001b[32m━━━━━━━━━━━━━━━━━━━━\u001b[0m\u001b[37m\u001b[0m \u001b[1m0s\u001b[0m 464us/step\n",
      "\u001b[1m11/11\u001b[0m \u001b[32m━━━━━━━━━━━━━━━━━━━━\u001b[0m\u001b[37m\u001b[0m \u001b[1m0s\u001b[0m 530us/step\n",
      "\u001b[1m11/11\u001b[0m \u001b[32m━━━━━━━━━━━━━━━━━━━━\u001b[0m\u001b[37m\u001b[0m \u001b[1m0s\u001b[0m 432us/step\n",
      "\u001b[1m11/11\u001b[0m \u001b[32m━━━━━━━━━━━━━━━━━━━━\u001b[0m\u001b[37m\u001b[0m \u001b[1m0s\u001b[0m 499us/step\n",
      "\u001b[1m11/11\u001b[0m \u001b[32m━━━━━━━━━━━━━━━━━━━━\u001b[0m\u001b[37m\u001b[0m \u001b[1m0s\u001b[0m 486us/step\n",
      "timeAcc: 0.28 tempAcc: 0.457\n",
      "Average Accuracy: 0.368\n",
      "Optimizer: nadam\n",
      "\u001b[1m11/11\u001b[0m \u001b[32m━━━━━━━━━━━━━━━━━━━━\u001b[0m\u001b[37m\u001b[0m \u001b[1m0s\u001b[0m 4ms/step \n",
      "\u001b[1m11/11\u001b[0m \u001b[32m━━━━━━━━━━━━━━━━━━━━\u001b[0m\u001b[37m\u001b[0m \u001b[1m0s\u001b[0m 559us/step\n",
      "\u001b[1m11/11\u001b[0m \u001b[32m━━━━━━━━━━━━━━━━━━━━\u001b[0m\u001b[37m\u001b[0m \u001b[1m0s\u001b[0m 535us/step\n",
      "\u001b[1m11/11\u001b[0m \u001b[32m━━━━━━━━━━━━━━━━━━━━\u001b[0m\u001b[37m\u001b[0m \u001b[1m0s\u001b[0m 515us/step\n",
      "\u001b[1m11/11\u001b[0m \u001b[32m━━━━━━━━━━━━━━━━━━━━\u001b[0m\u001b[37m\u001b[0m \u001b[1m0s\u001b[0m 496us/step\n",
      "\u001b[1m11/11\u001b[0m \u001b[32m━━━━━━━━━━━━━━━━━━━━\u001b[0m\u001b[37m\u001b[0m \u001b[1m0s\u001b[0m 483us/step\n",
      "\u001b[1m11/11\u001b[0m \u001b[32m━━━━━━━━━━━━━━━━━━━━\u001b[0m\u001b[37m\u001b[0m \u001b[1m0s\u001b[0m 445us/step\n",
      "\u001b[1m11/11\u001b[0m \u001b[32m━━━━━━━━━━━━━━━━━━━━\u001b[0m\u001b[37m\u001b[0m \u001b[1m0s\u001b[0m 521us/step\n",
      "\u001b[1m11/11\u001b[0m \u001b[32m━━━━━━━━━━━━━━━━━━━━\u001b[0m\u001b[37m\u001b[0m \u001b[1m0s\u001b[0m 556us/step\n",
      "\u001b[1m11/11\u001b[0m \u001b[32m━━━━━━━━━━━━━━━━━━━━\u001b[0m\u001b[37m\u001b[0m \u001b[1m0s\u001b[0m 497us/step\n",
      "\u001b[1m11/11\u001b[0m \u001b[32m━━━━━━━━━━━━━━━━━━━━\u001b[0m\u001b[37m\u001b[0m \u001b[1m0s\u001b[0m 496us/step\n",
      "\u001b[1m11/11\u001b[0m \u001b[32m━━━━━━━━━━━━━━━━━━━━\u001b[0m\u001b[37m\u001b[0m \u001b[1m0s\u001b[0m 436us/step\n",
      "\u001b[1m11/11\u001b[0m \u001b[32m━━━━━━━━━━━━━━━━━━━━\u001b[0m\u001b[37m\u001b[0m \u001b[1m0s\u001b[0m 478us/step\n",
      "\u001b[1m11/11\u001b[0m \u001b[32m━━━━━━━━━━━━━━━━━━━━\u001b[0m\u001b[37m\u001b[0m \u001b[1m0s\u001b[0m 582us/step\n",
      "\u001b[1m11/11\u001b[0m \u001b[32m━━━━━━━━━━━━━━━━━━━━\u001b[0m\u001b[37m\u001b[0m \u001b[1m0s\u001b[0m 472us/step\n",
      "timeAcc: 0.224 tempAcc: 0.46\n",
      "Average Accuracy: 0.342\n",
      "Optimizer: rmsprop\n",
      "\u001b[1m11/11\u001b[0m \u001b[32m━━━━━━━━━━━━━━━━━━━━\u001b[0m\u001b[37m\u001b[0m \u001b[1m0s\u001b[0m 4ms/step \n",
      "\u001b[1m11/11\u001b[0m \u001b[32m━━━━━━━━━━━━━━━━━━━━\u001b[0m\u001b[37m\u001b[0m \u001b[1m0s\u001b[0m 529us/step\n",
      "\u001b[1m11/11\u001b[0m \u001b[32m━━━━━━━━━━━━━━━━━━━━\u001b[0m\u001b[37m\u001b[0m \u001b[1m0s\u001b[0m 507us/step\n",
      "\u001b[1m11/11\u001b[0m \u001b[32m━━━━━━━━━━━━━━━━━━━━\u001b[0m\u001b[37m\u001b[0m \u001b[1m0s\u001b[0m 546us/step\n",
      "\u001b[1m11/11\u001b[0m \u001b[32m━━━━━━━━━━━━━━━━━━━━\u001b[0m\u001b[37m\u001b[0m \u001b[1m0s\u001b[0m 531us/step\n",
      "\u001b[1m11/11\u001b[0m \u001b[32m━━━━━━━━━━━━━━━━━━━━\u001b[0m\u001b[37m\u001b[0m \u001b[1m0s\u001b[0m 478us/step\n",
      "\u001b[1m11/11\u001b[0m \u001b[32m━━━━━━━━━━━━━━━━━━━━\u001b[0m\u001b[37m\u001b[0m \u001b[1m0s\u001b[0m 493us/step\n",
      "\u001b[1m11/11\u001b[0m \u001b[32m━━━━━━━━━━━━━━━━━━━━\u001b[0m\u001b[37m\u001b[0m \u001b[1m0s\u001b[0m 493us/step\n",
      "\u001b[1m11/11\u001b[0m \u001b[32m━━━━━━━━━━━━━━━━━━━━\u001b[0m\u001b[37m\u001b[0m \u001b[1m0s\u001b[0m 491us/step\n",
      "\u001b[1m11/11\u001b[0m \u001b[32m━━━━━━━━━━━━━━━━━━━━\u001b[0m\u001b[37m\u001b[0m \u001b[1m0s\u001b[0m 515us/step\n",
      "\u001b[1m11/11\u001b[0m \u001b[32m━━━━━━━━━━━━━━━━━━━━\u001b[0m\u001b[37m\u001b[0m \u001b[1m0s\u001b[0m 471us/step\n",
      "\u001b[1m11/11\u001b[0m \u001b[32m━━━━━━━━━━━━━━━━━━━━\u001b[0m\u001b[37m\u001b[0m \u001b[1m0s\u001b[0m 524us/step\n",
      "\u001b[1m11/11\u001b[0m \u001b[32m━━━━━━━━━━━━━━━━━━━━\u001b[0m\u001b[37m\u001b[0m \u001b[1m0s\u001b[0m 486us/step\n",
      "\u001b[1m11/11\u001b[0m \u001b[32m━━━━━━━━━━━━━━━━━━━━\u001b[0m\u001b[37m\u001b[0m \u001b[1m0s\u001b[0m 471us/step\n",
      "\u001b[1m11/11\u001b[0m \u001b[32m━━━━━━━━━━━━━━━━━━━━\u001b[0m\u001b[37m\u001b[0m \u001b[1m0s\u001b[0m 532us/step\n",
      "timeAcc: 0.217 tempAcc: 0.453\n",
      "Average Accuracy: 0.335\n",
      "Optimizer: sgd\n",
      "\u001b[1m11/11\u001b[0m \u001b[32m━━━━━━━━━━━━━━━━━━━━\u001b[0m\u001b[37m\u001b[0m \u001b[1m0s\u001b[0m 3ms/step \n",
      "\u001b[1m11/11\u001b[0m \u001b[32m━━━━━━━━━━━━━━━━━━━━\u001b[0m\u001b[37m\u001b[0m \u001b[1m0s\u001b[0m 519us/step\n",
      "\u001b[1m11/11\u001b[0m \u001b[32m━━━━━━━━━━━━━━━━━━━━\u001b[0m\u001b[37m\u001b[0m \u001b[1m0s\u001b[0m 553us/step\n",
      "\u001b[1m11/11\u001b[0m \u001b[32m━━━━━━━━━━━━━━━━━━━━\u001b[0m\u001b[37m\u001b[0m \u001b[1m0s\u001b[0m 557us/step\n",
      "\u001b[1m11/11\u001b[0m \u001b[32m━━━━━━━━━━━━━━━━━━━━\u001b[0m\u001b[37m\u001b[0m \u001b[1m0s\u001b[0m 475us/step\n",
      "\u001b[1m11/11\u001b[0m \u001b[32m━━━━━━━━━━━━━━━━━━━━\u001b[0m\u001b[37m\u001b[0m \u001b[1m0s\u001b[0m 490us/step\n",
      "\u001b[1m11/11\u001b[0m \u001b[32m━━━━━━━━━━━━━━━━━━━━\u001b[0m\u001b[37m\u001b[0m \u001b[1m0s\u001b[0m 473us/step\n",
      "\u001b[1m11/11\u001b[0m \u001b[32m━━━━━━━━━━━━━━━━━━━━\u001b[0m\u001b[37m\u001b[0m \u001b[1m0s\u001b[0m 502us/step\n",
      "\u001b[1m11/11\u001b[0m \u001b[32m━━━━━━━━━━━━━━━━━━━━\u001b[0m\u001b[37m\u001b[0m \u001b[1m0s\u001b[0m 489us/step\n",
      "\u001b[1m11/11\u001b[0m \u001b[32m━━━━━━━━━━━━━━━━━━━━\u001b[0m\u001b[37m\u001b[0m \u001b[1m0s\u001b[0m 470us/step\n",
      "\u001b[1m11/11\u001b[0m \u001b[32m━━━━━━━━━━━━━━━━━━━━\u001b[0m\u001b[37m\u001b[0m \u001b[1m0s\u001b[0m 483us/step\n",
      "\u001b[1m11/11\u001b[0m \u001b[32m━━━━━━━━━━━━━━━━━━━━\u001b[0m\u001b[37m\u001b[0m \u001b[1m0s\u001b[0m 468us/step\n",
      "\u001b[1m11/11\u001b[0m \u001b[32m━━━━━━━━━━━━━━━━━━━━\u001b[0m\u001b[37m\u001b[0m \u001b[1m0s\u001b[0m 486us/step\n",
      "\u001b[1m11/11\u001b[0m \u001b[32m━━━━━━━━━━━━━━━━━━━━\u001b[0m\u001b[37m\u001b[0m \u001b[1m0s\u001b[0m 473us/step\n",
      "\u001b[1m11/11\u001b[0m \u001b[32m━━━━━━━━━━━━━━━━━━━━\u001b[0m\u001b[37m\u001b[0m \u001b[1m0s\u001b[0m 595us/step\n",
      "timeAcc: 0.276 tempAcc: 0.425\n",
      "Average Accuracy: 0.351\n"
     ]
    }
   ],
   "source": [
    "for opt in optimizers:\n",
    "    model = create_model(opt)\n",
    "    model.fit(x=X_train, \n",
    "            y=[y_train[:,0], \n",
    "                y_train[:,1]],\n",
    "            verbose=0,\n",
    "            epochs=150,\n",
    "            validation_split=0.2)\n",
    "    print(\"Optimizer:\",opt)\n",
    "    eval_avg_5_times(model, y_test, n=15)"
   ]
  },
  {
   "cell_type": "markdown",
   "metadata": {},
   "source": [
    "optimizer results | averaged accuracy\n",
    "---|---\n",
    "adam|0.334\n",
    "adamw|0.323\n",
    "adamax|0.374\n",
    "nadam|0.314\n",
    "sgd|0.354\n",
    "adadelta|0.154\n",
    "adafactor|0.314\n",
    "adagrad|0.293\n",
    "ftrl|0.160\n",
    "lion|0.359\n",
    "rmsprop|0.337\n",
    "\n"
   ]
  },
  {
   "cell_type": "markdown",
   "metadata": {},
   "source": [
    "## Epoch optimization"
   ]
  },
  {
   "cell_type": "code",
   "execution_count": 129,
   "metadata": {},
   "outputs": [
    {
     "name": "stdout",
     "output_type": "stream",
     "text": [
      "\u001b[1m11/11\u001b[0m \u001b[32m━━━━━━━━━━━━━━━━━━━━\u001b[0m\u001b[37m\u001b[0m \u001b[1m0s\u001b[0m 4ms/step \n",
      "\u001b[1m11/11\u001b[0m \u001b[32m━━━━━━━━━━━━━━━━━━━━\u001b[0m\u001b[37m\u001b[0m \u001b[1m0s\u001b[0m 537us/step\n",
      "\u001b[1m11/11\u001b[0m \u001b[32m━━━━━━━━━━━━━━━━━━━━\u001b[0m\u001b[37m\u001b[0m \u001b[1m0s\u001b[0m 539us/step\n",
      "\u001b[1m11/11\u001b[0m \u001b[32m━━━━━━━━━━━━━━━━━━━━\u001b[0m\u001b[37m\u001b[0m \u001b[1m0s\u001b[0m 503us/step\n",
      "\u001b[1m11/11\u001b[0m \u001b[32m━━━━━━━━━━━━━━━━━━━━\u001b[0m\u001b[37m\u001b[0m \u001b[1m0s\u001b[0m 611us/step\n",
      "timeAcc: 0.227 tempAcc: 0.413\n",
      "Average Accuracy: 0.32\n"
     ]
    }
   ],
   "source": [
    "model = create_model(optimizer='sgd')\n",
    "fit = model.fit(x=X_train, \n",
    "         y=[y_train[:,0], \n",
    "            y_train[:,1]], \n",
    "         verbose=0,\n",
    "         epochs=250,\n",
    "         validation_split=0.2)\n",
    "eval_avg_5_times(model, y_test)\n",
    "\n"
   ]
  },
  {
   "cell_type": "code",
   "execution_count": 130,
   "metadata": {},
   "outputs": [
    {
     "data": {
      "text/html": [
       "<div><style>\n",
       ".dataframe > thead > tr,\n",
       ".dataframe > tbody > tr {\n",
       "  text-align: right;\n",
       "  white-space: pre-wrap;\n",
       "}\n",
       "</style>\n",
       "<small>shape: (3, 11)</small><table border=\"1\" class=\"dataframe\"><thead><tr><th>index</th><th>TTemp_out_accuracy</th><th>TTemp_out_loss</th><th>TTime_out_accuracy</th><th>TTime_out_loss</th><th>loss</th><th>val_TTemp_out_accuracy</th><th>val_TTemp_out_loss</th><th>val_TTime_out_accuracy</th><th>val_TTime_out_loss</th><th>val_loss</th></tr><tr><td>u32</td><td>f64</td><td>f64</td><td>f64</td><td>f64</td><td>f64</td><td>f64</td><td>f64</td><td>f64</td><td>f64</td><td>f64</td></tr></thead><tbody><tr><td>0</td><td>0.098573</td><td>2.367932</td><td>0.204929</td><td>1.602824</td><td>3.978793</td><td>0.129534</td><td>2.398861</td><td>0.217617</td><td>1.545109</td><td>3.970797</td></tr><tr><td>1</td><td>0.150454</td><td>2.3339</td><td>0.224384</td><td>1.597569</td><td>3.932766</td><td>0.160622</td><td>2.390521</td><td>0.264249</td><td>1.527635</td><td>3.942103</td></tr><tr><td>2</td><td>0.188067</td><td>2.309051</td><td>0.284047</td><td>1.585337</td><td>3.895646</td><td>0.139896</td><td>2.384152</td><td>0.284974</td><td>1.511478</td><td>3.917601</td></tr></tbody></table></div>"
      ],
      "text/plain": [
       "shape: (3, 11)\n",
       "┌───────┬────────────┬────────────┬────────────┬───┬────────────┬───────────┬───────────┬──────────┐\n",
       "│ index ┆ TTemp_out_ ┆ TTemp_out_ ┆ TTime_out_ ┆ … ┆ val_TTemp_ ┆ val_TTime ┆ val_TTime ┆ val_loss │\n",
       "│ ---   ┆ accuracy   ┆ loss       ┆ accuracy   ┆   ┆ out_loss   ┆ _out_accu ┆ _out_loss ┆ ---      │\n",
       "│ u32   ┆ ---        ┆ ---        ┆ ---        ┆   ┆ ---        ┆ racy      ┆ ---       ┆ f64      │\n",
       "│       ┆ f64        ┆ f64        ┆ f64        ┆   ┆ f64        ┆ ---       ┆ f64       ┆          │\n",
       "│       ┆            ┆            ┆            ┆   ┆            ┆ f64       ┆           ┆          │\n",
       "╞═══════╪════════════╪════════════╪════════════╪═══╪════════════╪═══════════╪═══════════╪══════════╡\n",
       "│ 0     ┆ 0.098573   ┆ 2.367932   ┆ 0.204929   ┆ … ┆ 2.398861   ┆ 0.217617  ┆ 1.545109  ┆ 3.970797 │\n",
       "│ 1     ┆ 0.150454   ┆ 2.3339     ┆ 0.224384   ┆ … ┆ 2.390521   ┆ 0.264249  ┆ 1.527635  ┆ 3.942103 │\n",
       "│ 2     ┆ 0.188067   ┆ 2.309051   ┆ 0.284047   ┆ … ┆ 2.384152   ┆ 0.284974  ┆ 1.511478  ┆ 3.917601 │\n",
       "└───────┴────────────┴────────────┴────────────┴───┴────────────┴───────────┴───────────┴──────────┘"
      ]
     },
     "execution_count": 130,
     "metadata": {},
     "output_type": "execute_result"
    }
   ],
   "source": [
    "history_df = pl.DataFrame(fit.history)\n",
    "history_df = history_df.with_row_index()\n",
    "history_df.head(3)\n"
   ]
  },
  {
   "cell_type": "code",
   "execution_count": 131,
   "metadata": {},
   "outputs": [],
   "source": [
    "df_loss = history_df.select(['index', 'TTemp_out_loss', 'TTime_out_loss', 'loss'])\n",
    "df_loss = df_loss.rename({'TTemp_out_loss':'Tempering Temperature Loss',\n",
    "                'TTime_out_loss':'Tempering Time Loss',\n",
    "                'loss':'Loss'})"
   ]
  },
  {
   "cell_type": "code",
   "execution_count": 132,
   "metadata": {},
   "outputs": [
    {
     "data": {
      "text/html": [
       "\n",
       "<style>\n",
       "  #altair-viz-86f5724b737447b9a7a46c7a3b75ef0c.vega-embed {\n",
       "    width: 100%;\n",
       "    display: flex;\n",
       "  }\n",
       "\n",
       "  #altair-viz-86f5724b737447b9a7a46c7a3b75ef0c.vega-embed details,\n",
       "  #altair-viz-86f5724b737447b9a7a46c7a3b75ef0c.vega-embed details summary {\n",
       "    position: relative;\n",
       "  }\n",
       "</style>\n",
       "<div id=\"altair-viz-86f5724b737447b9a7a46c7a3b75ef0c\"></div>\n",
       "<script type=\"text/javascript\">\n",
       "  var VEGA_DEBUG = (typeof VEGA_DEBUG == \"undefined\") ? {} : VEGA_DEBUG;\n",
       "  (function(spec, embedOpt){\n",
       "    let outputDiv = document.currentScript.previousElementSibling;\n",
       "    if (outputDiv.id !== \"altair-viz-86f5724b737447b9a7a46c7a3b75ef0c\") {\n",
       "      outputDiv = document.getElementById(\"altair-viz-86f5724b737447b9a7a46c7a3b75ef0c\");\n",
       "    }\n",
       "    const paths = {\n",
       "      \"vega\": \"https://cdn.jsdelivr.net/npm/vega@5?noext\",\n",
       "      \"vega-lib\": \"https://cdn.jsdelivr.net/npm/vega-lib?noext\",\n",
       "      \"vega-lite\": \"https://cdn.jsdelivr.net/npm/vega-lite@5.20.1?noext\",\n",
       "      \"vega-embed\": \"https://cdn.jsdelivr.net/npm/vega-embed@6?noext\",\n",
       "    };\n",
       "\n",
       "    function maybeLoadScript(lib, version) {\n",
       "      var key = `${lib.replace(\"-\", \"\")}_version`;\n",
       "      return (VEGA_DEBUG[key] == version) ?\n",
       "        Promise.resolve(paths[lib]) :\n",
       "        new Promise(function(resolve, reject) {\n",
       "          var s = document.createElement('script');\n",
       "          document.getElementsByTagName(\"head\")[0].appendChild(s);\n",
       "          s.async = true;\n",
       "          s.onload = () => {\n",
       "            VEGA_DEBUG[key] = version;\n",
       "            return resolve(paths[lib]);\n",
       "          };\n",
       "          s.onerror = () => reject(`Error loading script: ${paths[lib]}`);\n",
       "          s.src = paths[lib];\n",
       "        });\n",
       "    }\n",
       "\n",
       "    function showError(err) {\n",
       "      outputDiv.innerHTML = `<div class=\"error\" style=\"color:red;\">${err}</div>`;\n",
       "      throw err;\n",
       "    }\n",
       "\n",
       "    function displayChart(vegaEmbed) {\n",
       "      vegaEmbed(outputDiv, spec, embedOpt)\n",
       "        .catch(err => showError(`Javascript Error: ${err.message}<br>This usually means there's a typo in your chart specification. See the javascript console for the full traceback.`));\n",
       "    }\n",
       "\n",
       "    if(typeof define === \"function\" && define.amd) {\n",
       "      requirejs.config({paths});\n",
       "      require([\"vega-embed\"], displayChart, err => showError(`Error loading script: ${err.message}`));\n",
       "    } else {\n",
       "      maybeLoadScript(\"vega\", \"5\")\n",
       "        .then(() => maybeLoadScript(\"vega-lite\", \"5.20.1\"))\n",
       "        .then(() => maybeLoadScript(\"vega-embed\", \"6\"))\n",
       "        .catch(showError)\n",
       "        .then(() => displayChart(vegaEmbed));\n",
       "    }\n",
       "  })({\"config\": {\"view\": {\"continuousWidth\": 300, \"continuousHeight\": 300}}, \"repeat\": {\"layer\": [\"Tempering Temperature Loss\", \"Tempering Time Loss\", \"Loss\"]}, \"spec\": {\"data\": {\"name\": \"data-822dc56b649bb31e9ac903070ddddd60\"}, \"mark\": {\"type\": \"line\"}, \"encoding\": {\"color\": {\"datum\": {\"repeat\": \"layer\"}}, \"x\": {\"field\": \"index\", \"title\": \"Epochs\", \"type\": \"quantitative\"}, \"y\": {\"field\": {\"repeat\": \"layer\"}, \"title\": \"Loss elements\", \"type\": \"quantitative\"}}}, \"title\": \"Loss and Loss Elements by Epoch\", \"$schema\": \"https://vega.github.io/schema/vega-lite/v5.20.1.json\", \"datasets\": {\"data-822dc56b649bb31e9ac903070ddddd60\": [{\"index\": 0, \"Tempering Temperature Loss\": 2.367931842803955, \"Tempering Time Loss\": 1.6028244495391846, \"Loss\": 3.978792667388916}, {\"index\": 1, \"Tempering Temperature Loss\": 2.333900213241577, \"Tempering Time Loss\": 1.597569227218628, \"Loss\": 3.9327657222747803}, {\"index\": 2, \"Tempering Temperature Loss\": 2.309051275253296, \"Tempering Time Loss\": 1.5853371620178223, \"Loss\": 3.895646095275879}, {\"index\": 3, \"Tempering Temperature Loss\": 2.2848713397979736, \"Tempering Time Loss\": 1.573472023010254, \"Loss\": 3.8618955612182617}, {\"index\": 4, \"Tempering Temperature Loss\": 2.2658889293670654, \"Tempering Time Loss\": 1.5680229663848877, \"Loss\": 3.8313612937927246}, {\"index\": 5, \"Tempering Temperature Loss\": 2.2516748905181885, \"Tempering Time Loss\": 1.5607764720916748, \"Loss\": 3.8023359775543213}, {\"index\": 6, \"Tempering Temperature Loss\": 2.2231967449188232, \"Tempering Time Loss\": 1.551784634590149, \"Loss\": 3.774430751800537}, {\"index\": 7, \"Tempering Temperature Loss\": 2.2101449966430664, \"Tempering Time Loss\": 1.5514519214630127, \"Loss\": 3.744284152984619}, {\"index\": 8, \"Tempering Temperature Loss\": 2.1848337650299072, \"Tempering Time Loss\": 1.5425100326538086, \"Loss\": 3.71577525138855}, {\"index\": 9, \"Tempering Temperature Loss\": 2.1651816368103027, \"Tempering Time Loss\": 1.5303053855895996, \"Loss\": 3.6855335235595703}, {\"index\": 10, \"Tempering Temperature Loss\": 2.1445600986480713, \"Tempering Time Loss\": 1.5237834453582764, \"Loss\": 3.65535044670105}, {\"index\": 11, \"Tempering Temperature Loss\": 2.0993337631225586, \"Tempering Time Loss\": 1.5239874124526978, \"Loss\": 3.6241912841796875}, {\"index\": 12, \"Tempering Temperature Loss\": 2.0688512325286865, \"Tempering Time Loss\": 1.5140750408172607, \"Loss\": 3.593691110610962}, {\"index\": 13, \"Tempering Temperature Loss\": 2.0395865440368652, \"Tempering Time Loss\": 1.4968583583831787, \"Loss\": 3.560913324356079}, {\"index\": 14, \"Tempering Temperature Loss\": 2.0328421592712402, \"Tempering Time Loss\": 1.5082718133926392, \"Loss\": 3.5285539627075195}, {\"index\": 15, \"Tempering Temperature Loss\": 1.9907647371292114, \"Tempering Time Loss\": 1.5018641948699951, \"Loss\": 3.4969120025634766}, {\"index\": 16, \"Tempering Temperature Loss\": 1.9800130128860474, \"Tempering Time Loss\": 1.4902222156524658, \"Loss\": 3.466524839401245}, {\"index\": 17, \"Tempering Temperature Loss\": 1.9466851949691772, \"Tempering Time Loss\": 1.4809982776641846, \"Loss\": 3.433495283126831}, {\"index\": 18, \"Tempering Temperature Loss\": 1.9226717948913574, \"Tempering Time Loss\": 1.4769041538238525, \"Loss\": 3.4013893604278564}, {\"index\": 19, \"Tempering Temperature Loss\": 1.8987951278686523, \"Tempering Time Loss\": 1.4772754907608032, \"Loss\": 3.3699841499328613}, {\"index\": 20, \"Tempering Temperature Loss\": 1.8437981605529785, \"Tempering Time Loss\": 1.4682279825210571, \"Loss\": 3.338935375213623}, {\"index\": 21, \"Tempering Temperature Loss\": 1.8358430862426758, \"Tempering Time Loss\": 1.4720028638839722, \"Loss\": 3.308626651763916}, {\"index\": 22, \"Tempering Temperature Loss\": 1.8190172910690308, \"Tempering Time Loss\": 1.4679946899414062, \"Loss\": 3.2792651653289795}, {\"index\": 23, \"Tempering Temperature Loss\": 1.787588357925415, \"Tempering Time Loss\": 1.4647390842437744, \"Loss\": 3.2516045570373535}, {\"index\": 24, \"Tempering Temperature Loss\": 1.7547998428344727, \"Tempering Time Loss\": 1.4505620002746582, \"Loss\": 3.225614547729492}, {\"index\": 25, \"Tempering Temperature Loss\": 1.7526459693908691, \"Tempering Time Loss\": 1.448693037033081, \"Loss\": 3.1995961666107178}, {\"index\": 26, \"Tempering Temperature Loss\": 1.7234890460968018, \"Tempering Time Loss\": 1.4397969245910645, \"Loss\": 3.1768014430999756}, {\"index\": 27, \"Tempering Temperature Loss\": 1.6805741786956787, \"Tempering Time Loss\": 1.4461276531219482, \"Loss\": 3.1514663696289062}, {\"index\": 28, \"Tempering Temperature Loss\": 1.6835888624191284, \"Tempering Time Loss\": 1.447992205619812, \"Loss\": 3.1294546127319336}, {\"index\": 29, \"Tempering Temperature Loss\": 1.6676230430603027, \"Tempering Time Loss\": 1.4306273460388184, \"Loss\": 3.1067888736724854}, {\"index\": 30, \"Tempering Temperature Loss\": 1.6519416570663452, \"Tempering Time Loss\": 1.4311394691467285, \"Loss\": 3.0870132446289062}, {\"index\": 31, \"Tempering Temperature Loss\": 1.6362719535827637, \"Tempering Time Loss\": 1.4454635381698608, \"Loss\": 3.0665035247802734}, {\"index\": 32, \"Tempering Temperature Loss\": 1.6085877418518066, \"Tempering Time Loss\": 1.4441734552383423, \"Loss\": 3.046144723892212}, {\"index\": 33, \"Tempering Temperature Loss\": 1.5880851745605469, \"Tempering Time Loss\": 1.4223309755325317, \"Loss\": 3.0278987884521484}, {\"index\": 34, \"Tempering Temperature Loss\": 1.5672117471694946, \"Tempering Time Loss\": 1.4338014125823975, \"Loss\": 3.0099923610687256}, {\"index\": 35, \"Tempering Temperature Loss\": 1.5508495569229126, \"Tempering Time Loss\": 1.4252182245254517, \"Loss\": 2.9905383586883545}, {\"index\": 36, \"Tempering Temperature Loss\": 1.5589001178741455, \"Tempering Time Loss\": 1.4132945537567139, \"Loss\": 2.975095510482788}, {\"index\": 37, \"Tempering Temperature Loss\": 1.5233477354049683, \"Tempering Time Loss\": 1.4303315877914429, \"Loss\": 2.95835542678833}, {\"index\": 38, \"Tempering Temperature Loss\": 1.5303694009780884, \"Tempering Time Loss\": 1.4239997863769531, \"Loss\": 2.94288969039917}, {\"index\": 39, \"Tempering Temperature Loss\": 1.5158109664916992, \"Tempering Time Loss\": 1.4110201597213745, \"Loss\": 2.929563283920288}, {\"index\": 40, \"Tempering Temperature Loss\": 1.5062047243118286, \"Tempering Time Loss\": 1.420609951019287, \"Loss\": 2.91456937789917}, {\"index\": 41, \"Tempering Temperature Loss\": 1.491753339767456, \"Tempering Time Loss\": 1.4072213172912598, \"Loss\": 2.9006686210632324}, {\"index\": 42, \"Tempering Temperature Loss\": 1.4886419773101807, \"Tempering Time Loss\": 1.4212579727172852, \"Loss\": 2.886845827102661}, {\"index\": 43, \"Tempering Temperature Loss\": 1.4627244472503662, \"Tempering Time Loss\": 1.3970714807510376, \"Loss\": 2.87311053276062}, {\"index\": 44, \"Tempering Temperature Loss\": 1.4449177980422974, \"Tempering Time Loss\": 1.4206138849258423, \"Loss\": 2.861046552658081}, {\"index\": 45, \"Tempering Temperature Loss\": 1.4443097114562988, \"Tempering Time Loss\": 1.3948473930358887, \"Loss\": 2.8499343395233154}, {\"index\": 46, \"Tempering Temperature Loss\": 1.4453837871551514, \"Tempering Time Loss\": 1.4093692302703857, \"Loss\": 2.8368031978607178}, {\"index\": 47, \"Tempering Temperature Loss\": 1.4341456890106201, \"Tempering Time Loss\": 1.4056810140609741, \"Loss\": 2.823221206665039}, {\"index\": 48, \"Tempering Temperature Loss\": 1.4088751077651978, \"Tempering Time Loss\": 1.4027953147888184, \"Loss\": 2.8105344772338867}, {\"index\": 49, \"Tempering Temperature Loss\": 1.4007686376571655, \"Tempering Time Loss\": 1.4095345735549927, \"Loss\": 2.798821449279785}, {\"index\": 50, \"Tempering Temperature Loss\": 1.3927863836288452, \"Tempering Time Loss\": 1.3848904371261597, \"Loss\": 2.7912075519561768}, {\"index\": 51, \"Tempering Temperature Loss\": 1.388120174407959, \"Tempering Time Loss\": 1.3942904472351074, \"Loss\": 2.778144598007202}, {\"index\": 52, \"Tempering Temperature Loss\": 1.3653106689453125, \"Tempering Time Loss\": 1.4024447202682495, \"Loss\": 2.773041248321533}, {\"index\": 53, \"Tempering Temperature Loss\": 1.3781602382659912, \"Tempering Time Loss\": 1.3879863023757935, \"Loss\": 2.7627882957458496}, {\"index\": 54, \"Tempering Temperature Loss\": 1.355971336364746, \"Tempering Time Loss\": 1.3903472423553467, \"Loss\": 2.7519032955169678}, {\"index\": 55, \"Tempering Temperature Loss\": 1.3445582389831543, \"Tempering Time Loss\": 1.397639274597168, \"Loss\": 2.741272449493408}, {\"index\": 56, \"Tempering Temperature Loss\": 1.335792064666748, \"Tempering Time Loss\": 1.3833465576171875, \"Loss\": 2.733827590942383}, {\"index\": 57, \"Tempering Temperature Loss\": 1.3253352642059326, \"Tempering Time Loss\": 1.3996013402938843, \"Loss\": 2.7280330657958984}, {\"index\": 58, \"Tempering Temperature Loss\": 1.3485924005508423, \"Tempering Time Loss\": 1.396574854850769, \"Loss\": 2.717315673828125}, {\"index\": 59, \"Tempering Temperature Loss\": 1.311169147491455, \"Tempering Time Loss\": 1.3838385343551636, \"Loss\": 2.7121994495391846}, {\"index\": 60, \"Tempering Temperature Loss\": 1.3202483654022217, \"Tempering Time Loss\": 1.3779335021972656, \"Loss\": 2.7033114433288574}, {\"index\": 61, \"Tempering Temperature Loss\": 1.3130111694335938, \"Tempering Time Loss\": 1.391571044921875, \"Loss\": 2.692859172821045}, {\"index\": 62, \"Tempering Temperature Loss\": 1.2925174236297607, \"Tempering Time Loss\": 1.391935110092163, \"Loss\": 2.685551643371582}, {\"index\": 63, \"Tempering Temperature Loss\": 1.2996344566345215, \"Tempering Time Loss\": 1.374534010887146, \"Loss\": 2.6748859882354736}, {\"index\": 64, \"Tempering Temperature Loss\": 1.2776360511779785, \"Tempering Time Loss\": 1.3934004306793213, \"Loss\": 2.6686904430389404}, {\"index\": 65, \"Tempering Temperature Loss\": 1.2805562019348145, \"Tempering Time Loss\": 1.396836280822754, \"Loss\": 2.6639769077301025}, {\"index\": 66, \"Tempering Temperature Loss\": 1.257835865020752, \"Tempering Time Loss\": 1.3796113729476929, \"Loss\": 2.6558306217193604}, {\"index\": 67, \"Tempering Temperature Loss\": 1.2809741497039795, \"Tempering Time Loss\": 1.3786410093307495, \"Loss\": 2.64786958694458}, {\"index\": 68, \"Tempering Temperature Loss\": 1.2722960710525513, \"Tempering Time Loss\": 1.389094591140747, \"Loss\": 2.64052677154541}, {\"index\": 69, \"Tempering Temperature Loss\": 1.2582108974456787, \"Tempering Time Loss\": 1.3844256401062012, \"Loss\": 2.6392433643341064}, {\"index\": 70, \"Tempering Temperature Loss\": 1.2609466314315796, \"Tempering Time Loss\": 1.3852741718292236, \"Loss\": 2.6303555965423584}, {\"index\": 71, \"Tempering Temperature Loss\": 1.2568670511245728, \"Tempering Time Loss\": 1.3557724952697754, \"Loss\": 2.6235854625701904}, {\"index\": 72, \"Tempering Temperature Loss\": 1.2620714902877808, \"Tempering Time Loss\": 1.3757480382919312, \"Loss\": 2.6233274936676025}, {\"index\": 73, \"Tempering Temperature Loss\": 1.2278659343719482, \"Tempering Time Loss\": 1.3731123208999634, \"Loss\": 2.610358953475952}, {\"index\": 74, \"Tempering Temperature Loss\": 1.242789387702942, \"Tempering Time Loss\": 1.364031195640564, \"Loss\": 2.610656261444092}, {\"index\": 75, \"Tempering Temperature Loss\": 1.2194507122039795, \"Tempering Time Loss\": 1.3699284791946411, \"Loss\": 2.6026835441589355}, {\"index\": 76, \"Tempering Temperature Loss\": 1.2349265813827515, \"Tempering Time Loss\": 1.3762255907058716, \"Loss\": 2.602631092071533}, {\"index\": 77, \"Tempering Temperature Loss\": 1.2163910865783691, \"Tempering Time Loss\": 1.3645901679992676, \"Loss\": 2.5900416374206543}, {\"index\": 78, \"Tempering Temperature Loss\": 1.2149357795715332, \"Tempering Time Loss\": 1.3773772716522217, \"Loss\": 2.5871031284332275}, {\"index\": 79, \"Tempering Temperature Loss\": 1.2155898809432983, \"Tempering Time Loss\": 1.3698170185089111, \"Loss\": 2.582571506500244}, {\"index\": 80, \"Tempering Temperature Loss\": 1.2023305892944336, \"Tempering Time Loss\": 1.365475058555603, \"Loss\": 2.576357126235962}, {\"index\": 81, \"Tempering Temperature Loss\": 1.2437576055526733, \"Tempering Time Loss\": 1.3545253276824951, \"Loss\": 2.5710608959198}, {\"index\": 82, \"Tempering Temperature Loss\": 1.2495598793029785, \"Tempering Time Loss\": 1.342646598815918, \"Loss\": 2.566910743713379}, {\"index\": 83, \"Tempering Temperature Loss\": 1.1947025060653687, \"Tempering Time Loss\": 1.3503509759902954, \"Loss\": 2.5651814937591553}, {\"index\": 84, \"Tempering Temperature Loss\": 1.1846867799758911, \"Tempering Time Loss\": 1.3672966957092285, \"Loss\": 2.5630130767822266}, {\"index\": 85, \"Tempering Temperature Loss\": 1.1893632411956787, \"Tempering Time Loss\": 1.353466510772705, \"Loss\": 2.5546905994415283}, {\"index\": 86, \"Tempering Temperature Loss\": 1.1907271146774292, \"Tempering Time Loss\": 1.3515406847000122, \"Loss\": 2.5490336418151855}, {\"index\": 87, \"Tempering Temperature Loss\": 1.1826858520507812, \"Tempering Time Loss\": 1.3646795749664307, \"Loss\": 2.549290895462036}, {\"index\": 88, \"Tempering Temperature Loss\": 1.1899473667144775, \"Tempering Time Loss\": 1.3754996061325073, \"Loss\": 2.5402910709381104}, {\"index\": 89, \"Tempering Temperature Loss\": 1.1782405376434326, \"Tempering Time Loss\": 1.355180025100708, \"Loss\": 2.54313063621521}, {\"index\": 90, \"Tempering Temperature Loss\": 1.164225459098816, \"Tempering Time Loss\": 1.3583983182907104, \"Loss\": 2.5343995094299316}, {\"index\": 91, \"Tempering Temperature Loss\": 1.1639769077301025, \"Tempering Time Loss\": 1.3345569372177124, \"Loss\": 2.5342838764190674}, {\"index\": 92, \"Tempering Temperature Loss\": 1.154065728187561, \"Tempering Time Loss\": 1.3620609045028687, \"Loss\": 2.5278191566467285}, {\"index\": 93, \"Tempering Temperature Loss\": 1.1863445043563843, \"Tempering Time Loss\": 1.3588833808898926, \"Loss\": 2.5262646675109863}, {\"index\": 94, \"Tempering Temperature Loss\": 1.1815125942230225, \"Tempering Time Loss\": 1.3505616188049316, \"Loss\": 2.5245296955108643}, {\"index\": 95, \"Tempering Temperature Loss\": 1.1512079238891602, \"Tempering Time Loss\": 1.3557581901550293, \"Loss\": 2.5201632976531982}, {\"index\": 96, \"Tempering Temperature Loss\": 1.209030032157898, \"Tempering Time Loss\": 1.367767333984375, \"Loss\": 2.5146801471710205}, {\"index\": 97, \"Tempering Temperature Loss\": 1.164788842201233, \"Tempering Time Loss\": 1.338850736618042, \"Loss\": 2.511126756668091}, {\"index\": 98, \"Tempering Temperature Loss\": 1.1571662425994873, \"Tempering Time Loss\": 1.349676489830017, \"Loss\": 2.5110232830047607}, {\"index\": 99, \"Tempering Temperature Loss\": 1.166641354560852, \"Tempering Time Loss\": 1.3548542261123657, \"Loss\": 2.5056135654449463}, {\"index\": 100, \"Tempering Temperature Loss\": 1.135085105895996, \"Tempering Time Loss\": 1.3314118385314941, \"Loss\": 2.50171160697937}, {\"index\": 101, \"Tempering Temperature Loss\": 1.129500150680542, \"Tempering Time Loss\": 1.3561662435531616, \"Loss\": 2.4929299354553223}, {\"index\": 102, \"Tempering Temperature Loss\": 1.1565766334533691, \"Tempering Time Loss\": 1.334404468536377, \"Loss\": 2.491952657699585}, {\"index\": 103, \"Tempering Temperature Loss\": 1.1392463445663452, \"Tempering Time Loss\": 1.3701825141906738, \"Loss\": 2.4900782108306885}, {\"index\": 104, \"Tempering Temperature Loss\": 1.1331253051757812, \"Tempering Time Loss\": 1.3411937952041626, \"Loss\": 2.487375020980835}, {\"index\": 105, \"Tempering Temperature Loss\": 1.129703402519226, \"Tempering Time Loss\": 1.3487168550491333, \"Loss\": 2.479600429534912}, {\"index\": 106, \"Tempering Temperature Loss\": 1.1344302892684937, \"Tempering Time Loss\": 1.3520135879516602, \"Loss\": 2.4831671714782715}, {\"index\": 107, \"Tempering Temperature Loss\": 1.1314927339553833, \"Tempering Time Loss\": 1.360801339149475, \"Loss\": 2.4820454120635986}, {\"index\": 108, \"Tempering Temperature Loss\": 1.0980479717254639, \"Tempering Time Loss\": 1.3459656238555908, \"Loss\": 2.472842216491699}, {\"index\": 109, \"Tempering Temperature Loss\": 1.1080570220947266, \"Tempering Time Loss\": 1.3588294982910156, \"Loss\": 2.470086097717285}, {\"index\": 110, \"Tempering Temperature Loss\": 1.129610300064087, \"Tempering Time Loss\": 1.3457943201065063, \"Loss\": 2.4679951667785645}, {\"index\": 111, \"Tempering Temperature Loss\": 1.1308186054229736, \"Tempering Time Loss\": 1.350131869316101, \"Loss\": 2.46340274810791}, {\"index\": 112, \"Tempering Temperature Loss\": 1.132196068763733, \"Tempering Time Loss\": 1.3570942878723145, \"Loss\": 2.467820644378662}, {\"index\": 113, \"Tempering Temperature Loss\": 1.108499526977539, \"Tempering Time Loss\": 1.3447694778442383, \"Loss\": 2.4621851444244385}, {\"index\": 114, \"Tempering Temperature Loss\": 1.1049013137817383, \"Tempering Time Loss\": 1.3370957374572754, \"Loss\": 2.4589595794677734}, {\"index\": 115, \"Tempering Temperature Loss\": 1.0997600555419922, \"Tempering Time Loss\": 1.3372329473495483, \"Loss\": 2.454930067062378}, {\"index\": 116, \"Tempering Temperature Loss\": 1.1168283224105835, \"Tempering Time Loss\": 1.3313355445861816, \"Loss\": 2.4559240341186523}, {\"index\": 117, \"Tempering Temperature Loss\": 1.1098718643188477, \"Tempering Time Loss\": 1.3383845090866089, \"Loss\": 2.4499104022979736}, {\"index\": 118, \"Tempering Temperature Loss\": 1.1032806634902954, \"Tempering Time Loss\": 1.340104579925537, \"Loss\": 2.4486396312713623}, {\"index\": 119, \"Tempering Temperature Loss\": 1.116277813911438, \"Tempering Time Loss\": 1.3491950035095215, \"Loss\": 2.4446287155151367}, {\"index\": 120, \"Tempering Temperature Loss\": 1.098392128944397, \"Tempering Time Loss\": 1.3400850296020508, \"Loss\": 2.4428951740264893}, {\"index\": 121, \"Tempering Temperature Loss\": 1.0996497869491577, \"Tempering Time Loss\": 1.3187463283538818, \"Loss\": 2.4453961849212646}, {\"index\": 122, \"Tempering Temperature Loss\": 1.0834194421768188, \"Tempering Time Loss\": 1.3346558809280396, \"Loss\": 2.4329910278320312}, {\"index\": 123, \"Tempering Temperature Loss\": 1.0900722742080688, \"Tempering Time Loss\": 1.3166629076004028, \"Loss\": 2.4440500736236572}, {\"index\": 124, \"Tempering Temperature Loss\": 1.0827587842941284, \"Tempering Time Loss\": 1.3042126893997192, \"Loss\": 2.4309654235839844}, {\"index\": 125, \"Tempering Temperature Loss\": 1.1018527746200562, \"Tempering Time Loss\": 1.3321468830108643, \"Loss\": 2.4361555576324463}, {\"index\": 126, \"Tempering Temperature Loss\": 1.1098655462265015, \"Tempering Time Loss\": 1.3356493711471558, \"Loss\": 2.4349446296691895}, {\"index\": 127, \"Tempering Temperature Loss\": 1.1114017963409424, \"Tempering Time Loss\": 1.3261798620224, \"Loss\": 2.4287521839141846}, {\"index\": 128, \"Tempering Temperature Loss\": 1.0797291994094849, \"Tempering Time Loss\": 1.3349359035491943, \"Loss\": 2.4236996173858643}, {\"index\": 129, \"Tempering Temperature Loss\": 1.097129464149475, \"Tempering Time Loss\": 1.3332607746124268, \"Loss\": 2.419138193130493}, {\"index\": 130, \"Tempering Temperature Loss\": 1.0777192115783691, \"Tempering Time Loss\": 1.3236368894577026, \"Loss\": 2.42036509513855}, {\"index\": 131, \"Tempering Temperature Loss\": 1.1024736166000366, \"Tempering Time Loss\": 1.3412491083145142, \"Loss\": 2.4196505546569824}, {\"index\": 132, \"Tempering Temperature Loss\": 1.0904334783554077, \"Tempering Time Loss\": 1.3484623432159424, \"Loss\": 2.422529935836792}, {\"index\": 133, \"Tempering Temperature Loss\": 1.1138644218444824, \"Tempering Time Loss\": 1.327131748199463, \"Loss\": 2.414701461791992}, {\"index\": 134, \"Tempering Temperature Loss\": 1.086585521697998, \"Tempering Time Loss\": 1.3364624977111816, \"Loss\": 2.4070920944213867}, {\"index\": 135, \"Tempering Temperature Loss\": 1.0745720863342285, \"Tempering Time Loss\": 1.3253960609436035, \"Loss\": 2.411665439605713}, {\"index\": 136, \"Tempering Temperature Loss\": 1.0575780868530273, \"Tempering Time Loss\": 1.337443232536316, \"Loss\": 2.399564504623413}, {\"index\": 137, \"Tempering Temperature Loss\": 1.0645676851272583, \"Tempering Time Loss\": 1.3362127542495728, \"Loss\": 2.4012105464935303}, {\"index\": 138, \"Tempering Temperature Loss\": 1.0796854496002197, \"Tempering Time Loss\": 1.3163644075393677, \"Loss\": 2.4036028385162354}, {\"index\": 139, \"Tempering Temperature Loss\": 1.067765235900879, \"Tempering Time Loss\": 1.3244719505310059, \"Loss\": 2.3954038619995117}, {\"index\": 140, \"Tempering Temperature Loss\": 1.0569305419921875, \"Tempering Time Loss\": 1.3392181396484375, \"Loss\": 2.396411657333374}, {\"index\": 141, \"Tempering Temperature Loss\": 1.0746358633041382, \"Tempering Time Loss\": 1.329768419265747, \"Loss\": 2.394552707672119}, {\"index\": 142, \"Tempering Temperature Loss\": 1.0574380159378052, \"Tempering Time Loss\": 1.3085274696350098, \"Loss\": 2.3910269737243652}, {\"index\": 143, \"Tempering Temperature Loss\": 1.0733760595321655, \"Tempering Time Loss\": 1.3282808065414429, \"Loss\": 2.393601179122925}, {\"index\": 144, \"Tempering Temperature Loss\": 1.0711086988449097, \"Tempering Time Loss\": 1.319608211517334, \"Loss\": 2.392594575881958}, {\"index\": 145, \"Tempering Temperature Loss\": 1.0437617301940918, \"Tempering Time Loss\": 1.3099976778030396, \"Loss\": 2.39121675491333}, {\"index\": 146, \"Tempering Temperature Loss\": 1.0707019567489624, \"Tempering Time Loss\": 1.3205108642578125, \"Loss\": 2.3871936798095703}, {\"index\": 147, \"Tempering Temperature Loss\": 1.055140495300293, \"Tempering Time Loss\": 1.328891634941101, \"Loss\": 2.3862764835357666}, {\"index\": 148, \"Tempering Temperature Loss\": 1.0621927976608276, \"Tempering Time Loss\": 1.3274704217910767, \"Loss\": 2.3860232830047607}, {\"index\": 149, \"Tempering Temperature Loss\": 1.0629644393920898, \"Tempering Time Loss\": 1.3348591327667236, \"Loss\": 2.3863353729248047}, {\"index\": 150, \"Tempering Temperature Loss\": 1.054179310798645, \"Tempering Time Loss\": 1.3173984289169312, \"Loss\": 2.3828988075256348}, {\"index\": 151, \"Tempering Temperature Loss\": 1.0792553424835205, \"Tempering Time Loss\": 1.3323919773101807, \"Loss\": 2.374511480331421}, {\"index\": 152, \"Tempering Temperature Loss\": 1.0538318157196045, \"Tempering Time Loss\": 1.310092568397522, \"Loss\": 2.375847578048706}, {\"index\": 153, \"Tempering Temperature Loss\": 1.0803457498550415, \"Tempering Time Loss\": 1.3015326261520386, \"Loss\": 2.389467239379883}, {\"index\": 154, \"Tempering Temperature Loss\": 1.029212236404419, \"Tempering Time Loss\": 1.309332251548767, \"Loss\": 2.368917465209961}, {\"index\": 155, \"Tempering Temperature Loss\": 1.036872148513794, \"Tempering Time Loss\": 1.3228143453598022, \"Loss\": 2.369011640548706}, {\"index\": 156, \"Tempering Temperature Loss\": 1.0456945896148682, \"Tempering Time Loss\": 1.3114498853683472, \"Loss\": 2.366673231124878}, {\"index\": 157, \"Tempering Temperature Loss\": 1.0740352869033813, \"Tempering Time Loss\": 1.3260085582733154, \"Loss\": 2.3700098991394043}, {\"index\": 158, \"Tempering Temperature Loss\": 1.0378787517547607, \"Tempering Time Loss\": 1.3265835046768188, \"Loss\": 2.3761327266693115}, {\"index\": 159, \"Tempering Temperature Loss\": 1.048219084739685, \"Tempering Time Loss\": 1.326756238937378, \"Loss\": 2.3665874004364014}, {\"index\": 160, \"Tempering Temperature Loss\": 1.0350086688995361, \"Tempering Time Loss\": 1.3085606098175049, \"Loss\": 2.3658673763275146}, {\"index\": 161, \"Tempering Temperature Loss\": 1.059453010559082, \"Tempering Time Loss\": 1.3143779039382935, \"Loss\": 2.3586413860321045}, {\"index\": 162, \"Tempering Temperature Loss\": 1.040795087814331, \"Tempering Time Loss\": 1.3231812715530396, \"Loss\": 2.35788631439209}, {\"index\": 163, \"Tempering Temperature Loss\": 1.0211237668991089, \"Tempering Time Loss\": 1.3124438524246216, \"Loss\": 2.357011079788208}, {\"index\": 164, \"Tempering Temperature Loss\": 1.0326534509658813, \"Tempering Time Loss\": 1.305967092514038, \"Loss\": 2.3501827716827393}, {\"index\": 165, \"Tempering Temperature Loss\": 1.0337086915969849, \"Tempering Time Loss\": 1.3140379190444946, \"Loss\": 2.3556981086730957}, {\"index\": 166, \"Tempering Temperature Loss\": 1.0124393701553345, \"Tempering Time Loss\": 1.325238823890686, \"Loss\": 2.346376419067383}, {\"index\": 167, \"Tempering Temperature Loss\": 1.0251164436340332, \"Tempering Time Loss\": 1.3197941780090332, \"Loss\": 2.348755121231079}, {\"index\": 168, \"Tempering Temperature Loss\": 1.0604279041290283, \"Tempering Time Loss\": 1.3053772449493408, \"Loss\": 2.3471322059631348}, {\"index\": 169, \"Tempering Temperature Loss\": 1.0408997535705566, \"Tempering Time Loss\": 1.3213428258895874, \"Loss\": 2.3678488731384277}, {\"index\": 170, \"Tempering Temperature Loss\": 1.0535197257995605, \"Tempering Time Loss\": 1.3021957874298096, \"Loss\": 2.3523974418640137}, {\"index\": 171, \"Tempering Temperature Loss\": 1.029211163520813, \"Tempering Time Loss\": 1.314581036567688, \"Loss\": 2.3431661128997803}, {\"index\": 172, \"Tempering Temperature Loss\": 1.0379197597503662, \"Tempering Time Loss\": 1.331923484802246, \"Loss\": 2.360832929611206}, {\"index\": 173, \"Tempering Temperature Loss\": 1.0330308675765991, \"Tempering Time Loss\": 1.3060802221298218, \"Loss\": 2.3460686206817627}, {\"index\": 174, \"Tempering Temperature Loss\": 1.0043092966079712, \"Tempering Time Loss\": 1.3043262958526611, \"Loss\": 2.3398478031158447}, {\"index\": 175, \"Tempering Temperature Loss\": 1.0191341638565063, \"Tempering Time Loss\": 1.2881252765655518, \"Loss\": 2.336606502532959}, {\"index\": 176, \"Tempering Temperature Loss\": 0.9903397560119629, \"Tempering Time Loss\": 1.314747929573059, \"Loss\": 2.3243963718414307}, {\"index\": 177, \"Tempering Temperature Loss\": 1.012385606765747, \"Tempering Time Loss\": 1.3281199932098389, \"Loss\": 2.3233253955841064}, {\"index\": 178, \"Tempering Temperature Loss\": 1.0096569061279297, \"Tempering Time Loss\": 1.3196251392364502, \"Loss\": 2.3444902896881104}, {\"index\": 179, \"Tempering Temperature Loss\": 1.0116311311721802, \"Tempering Time Loss\": 1.3282573223114014, \"Loss\": 2.33176851272583}, {\"index\": 180, \"Tempering Temperature Loss\": 1.009730339050293, \"Tempering Time Loss\": 1.314162254333496, \"Loss\": 2.332636594772339}, {\"index\": 181, \"Tempering Temperature Loss\": 1.0181760787963867, \"Tempering Time Loss\": 1.3012067079544067, \"Loss\": 2.3374252319335938}, {\"index\": 182, \"Tempering Temperature Loss\": 1.0460704565048218, \"Tempering Time Loss\": 1.314913272857666, \"Loss\": 2.3324358463287354}, {\"index\": 183, \"Tempering Temperature Loss\": 1.00745689868927, \"Tempering Time Loss\": 1.3057360649108887, \"Loss\": 2.3250997066497803}, {\"index\": 184, \"Tempering Temperature Loss\": 0.9980275630950928, \"Tempering Time Loss\": 1.2970433235168457, \"Loss\": 2.32781982421875}, {\"index\": 185, \"Tempering Temperature Loss\": 1.0456016063690186, \"Tempering Time Loss\": 1.2948269844055176, \"Loss\": 2.329791307449341}, {\"index\": 186, \"Tempering Temperature Loss\": 1.0348891019821167, \"Tempering Time Loss\": 1.3194286823272705, \"Loss\": 2.318557024002075}, {\"index\": 187, \"Tempering Temperature Loss\": 1.039222240447998, \"Tempering Time Loss\": 1.3067870140075684, \"Loss\": 2.327679395675659}, {\"index\": 188, \"Tempering Temperature Loss\": 1.0182400941848755, \"Tempering Time Loss\": 1.3174532651901245, \"Loss\": 2.333756923675537}, {\"index\": 189, \"Tempering Temperature Loss\": 1.0310972929000854, \"Tempering Time Loss\": 1.3050907850265503, \"Loss\": 2.3199079036712646}, {\"index\": 190, \"Tempering Temperature Loss\": 0.997269868850708, \"Tempering Time Loss\": 1.3180367946624756, \"Loss\": 2.330125570297241}, {\"index\": 191, \"Tempering Temperature Loss\": 1.0074410438537598, \"Tempering Time Loss\": 1.3041523694992065, \"Loss\": 2.306457042694092}, {\"index\": 192, \"Tempering Temperature Loss\": 0.9826580882072449, \"Tempering Time Loss\": 1.2944893836975098, \"Loss\": 2.317549705505371}, {\"index\": 193, \"Tempering Temperature Loss\": 1.0001628398895264, \"Tempering Time Loss\": 1.299178123474121, \"Loss\": 2.3164455890655518}, {\"index\": 194, \"Tempering Temperature Loss\": 0.9918422102928162, \"Tempering Time Loss\": 1.327020287513733, \"Loss\": 2.3064982891082764}, {\"index\": 195, \"Tempering Temperature Loss\": 1.0065783262252808, \"Tempering Time Loss\": 1.296507716178894, \"Loss\": 2.320089340209961}, {\"index\": 196, \"Tempering Temperature Loss\": 1.0468963384628296, \"Tempering Time Loss\": 1.3013194799423218, \"Loss\": 2.3167707920074463}, {\"index\": 197, \"Tempering Temperature Loss\": 1.0023928880691528, \"Tempering Time Loss\": 1.315618872642517, \"Loss\": 2.3220627307891846}, {\"index\": 198, \"Tempering Temperature Loss\": 0.9962425231933594, \"Tempering Time Loss\": 1.3010919094085693, \"Loss\": 2.304243326187134}, {\"index\": 199, \"Tempering Temperature Loss\": 0.9908006191253662, \"Tempering Time Loss\": 1.3027465343475342, \"Loss\": 2.302952766418457}, {\"index\": 200, \"Tempering Temperature Loss\": 1.0061110258102417, \"Tempering Time Loss\": 1.2997967004776, \"Loss\": 2.3092849254608154}, {\"index\": 201, \"Tempering Temperature Loss\": 0.9935552477836609, \"Tempering Time Loss\": 1.296553611755371, \"Loss\": 2.302757501602173}, {\"index\": 202, \"Tempering Temperature Loss\": 1.037509560585022, \"Tempering Time Loss\": 1.274499773979187, \"Loss\": 2.2973520755767822}, {\"index\": 203, \"Tempering Temperature Loss\": 1.0053939819335938, \"Tempering Time Loss\": 1.2959805727005005, \"Loss\": 2.3154516220092773}, {\"index\": 204, \"Tempering Temperature Loss\": 0.9983386993408203, \"Tempering Time Loss\": 1.3185029029846191, \"Loss\": 2.3037846088409424}, {\"index\": 205, \"Tempering Temperature Loss\": 0.9778041839599609, \"Tempering Time Loss\": 1.3006162643432617, \"Loss\": 2.287691593170166}, {\"index\": 206, \"Tempering Temperature Loss\": 0.9999964237213135, \"Tempering Time Loss\": 1.2978637218475342, \"Loss\": 2.2998321056365967}, {\"index\": 207, \"Tempering Temperature Loss\": 0.997139036655426, \"Tempering Time Loss\": 1.3014663457870483, \"Loss\": 2.2916066646575928}, {\"index\": 208, \"Tempering Temperature Loss\": 0.9990784525871277, \"Tempering Time Loss\": 1.3047062158584595, \"Loss\": 2.305206537246704}, {\"index\": 209, \"Tempering Temperature Loss\": 0.9820850491523743, \"Tempering Time Loss\": 1.2917615175247192, \"Loss\": 2.294642925262451}, {\"index\": 210, \"Tempering Temperature Loss\": 0.9730374217033386, \"Tempering Time Loss\": 1.3006329536437988, \"Loss\": 2.283991575241089}, {\"index\": 211, \"Tempering Temperature Loss\": 0.9873995184898376, \"Tempering Time Loss\": 1.2948814630508423, \"Loss\": 2.3059298992156982}, {\"index\": 212, \"Tempering Temperature Loss\": 0.9996508955955505, \"Tempering Time Loss\": 1.3099693059921265, \"Loss\": 2.2775700092315674}, {\"index\": 213, \"Tempering Temperature Loss\": 1.0076589584350586, \"Tempering Time Loss\": 1.3093359470367432, \"Loss\": 2.31545090675354}, {\"index\": 214, \"Tempering Temperature Loss\": 0.9892092943191528, \"Tempering Time Loss\": 1.299672245979309, \"Loss\": 2.2771382331848145}, {\"index\": 215, \"Tempering Temperature Loss\": 0.9777138233184814, \"Tempering Time Loss\": 1.3014137744903564, \"Loss\": 2.282442331314087}, {\"index\": 216, \"Tempering Temperature Loss\": 1.0190218687057495, \"Tempering Time Loss\": 1.3133301734924316, \"Loss\": 2.2853691577911377}, {\"index\": 217, \"Tempering Temperature Loss\": 0.9884593486785889, \"Tempering Time Loss\": 1.2860922813415527, \"Loss\": 2.2839303016662598}, {\"index\": 218, \"Tempering Temperature Loss\": 0.9821226596832275, \"Tempering Time Loss\": 1.296187400817871, \"Loss\": 2.297471523284912}, {\"index\": 219, \"Tempering Temperature Loss\": 0.9872918128967285, \"Tempering Time Loss\": 1.2955669164657593, \"Loss\": 2.285884380340576}, {\"index\": 220, \"Tempering Temperature Loss\": 0.9842175245285034, \"Tempering Time Loss\": 1.2939451932907104, \"Loss\": 2.2782466411590576}, {\"index\": 221, \"Tempering Temperature Loss\": 0.9782330393791199, \"Tempering Time Loss\": 1.2944056987762451, \"Loss\": 2.279698610305786}, {\"index\": 222, \"Tempering Temperature Loss\": 0.9823178052902222, \"Tempering Time Loss\": 1.300452470779419, \"Loss\": 2.278406858444214}, {\"index\": 223, \"Tempering Temperature Loss\": 1.0309031009674072, \"Tempering Time Loss\": 1.3100380897521973, \"Loss\": 2.324747323989868}, {\"index\": 224, \"Tempering Temperature Loss\": 0.9936801195144653, \"Tempering Time Loss\": 1.3121726512908936, \"Loss\": 2.284991979598999}, {\"index\": 225, \"Tempering Temperature Loss\": 1.0027459859848022, \"Tempering Time Loss\": 1.3097310066223145, \"Loss\": 2.2893338203430176}, {\"index\": 226, \"Tempering Temperature Loss\": 0.9722015857696533, \"Tempering Time Loss\": 1.304213523864746, \"Loss\": 2.291290283203125}, {\"index\": 227, \"Tempering Temperature Loss\": 0.965740442276001, \"Tempering Time Loss\": 1.289783000946045, \"Loss\": 2.2652010917663574}, {\"index\": 228, \"Tempering Temperature Loss\": 0.9713752269744873, \"Tempering Time Loss\": 1.316720724105835, \"Loss\": 2.276172161102295}, {\"index\": 229, \"Tempering Temperature Loss\": 0.9698053598403931, \"Tempering Time Loss\": 1.2915780544281006, \"Loss\": 2.274304151535034}, {\"index\": 230, \"Tempering Temperature Loss\": 1.012358546257019, \"Tempering Time Loss\": 1.2790710926055908, \"Loss\": 2.2891979217529297}, {\"index\": 231, \"Tempering Temperature Loss\": 0.9746310710906982, \"Tempering Time Loss\": 1.2871171236038208, \"Loss\": 2.26938533782959}, {\"index\": 232, \"Tempering Temperature Loss\": 0.9728208780288696, \"Tempering Time Loss\": 1.289007306098938, \"Loss\": 2.2558233737945557}, {\"index\": 233, \"Tempering Temperature Loss\": 0.964577317237854, \"Tempering Time Loss\": 1.322920799255371, \"Loss\": 2.2857813835144043}, {\"index\": 234, \"Tempering Temperature Loss\": 0.9806145429611206, \"Tempering Time Loss\": 1.286108136177063, \"Loss\": 2.2677364349365234}, {\"index\": 235, \"Tempering Temperature Loss\": 0.9810806512832642, \"Tempering Time Loss\": 1.3045437335968018, \"Loss\": 2.286458969116211}, {\"index\": 236, \"Tempering Temperature Loss\": 0.9537779092788696, \"Tempering Time Loss\": 1.2960574626922607, \"Loss\": 2.2583611011505127}, {\"index\": 237, \"Tempering Temperature Loss\": 0.9926227331161499, \"Tempering Time Loss\": 1.2961941957473755, \"Loss\": 2.2975118160247803}, {\"index\": 238, \"Tempering Temperature Loss\": 0.9692503213882446, \"Tempering Time Loss\": 1.3073315620422363, \"Loss\": 2.2649800777435303}, {\"index\": 239, \"Tempering Temperature Loss\": 0.972093403339386, \"Tempering Time Loss\": 1.3108625411987305, \"Loss\": 2.264512538909912}, {\"index\": 240, \"Tempering Temperature Loss\": 0.9609482288360596, \"Tempering Time Loss\": 1.3028407096862793, \"Loss\": 2.266446828842163}, {\"index\": 241, \"Tempering Temperature Loss\": 0.9527156949043274, \"Tempering Time Loss\": 1.2832629680633545, \"Loss\": 2.2548656463623047}, {\"index\": 242, \"Tempering Temperature Loss\": 0.9662638902664185, \"Tempering Time Loss\": 1.3000586032867432, \"Loss\": 2.2577524185180664}, {\"index\": 243, \"Tempering Temperature Loss\": 0.9543419480323792, \"Tempering Time Loss\": 1.2755085229873657, \"Loss\": 2.2480669021606445}, {\"index\": 244, \"Tempering Temperature Loss\": 0.9830463528633118, \"Tempering Time Loss\": 1.2647405862808228, \"Loss\": 2.25429630279541}, {\"index\": 245, \"Tempering Temperature Loss\": 0.9488380551338196, \"Tempering Time Loss\": 1.2990386486053467, \"Loss\": 2.2535476684570312}, {\"index\": 246, \"Tempering Temperature Loss\": 0.9725183844566345, \"Tempering Time Loss\": 1.2965198755264282, \"Loss\": 2.2559852600097656}, {\"index\": 247, \"Tempering Temperature Loss\": 0.9753203392028809, \"Tempering Time Loss\": 1.291092038154602, \"Loss\": 2.2650022506713867}, {\"index\": 248, \"Tempering Temperature Loss\": 0.9743290543556213, \"Tempering Time Loss\": 1.3027029037475586, \"Loss\": 2.2526955604553223}, {\"index\": 249, \"Tempering Temperature Loss\": 1.0063319206237793, \"Tempering Time Loss\": 1.2798442840576172, \"Loss\": 2.278146743774414}]}}, {\"mode\": \"vega-lite\"});\n",
       "</script>"
      ],
      "text/plain": [
       "alt.RepeatChart(...)"
      ]
     },
     "execution_count": 132,
     "metadata": {},
     "output_type": "execute_result"
    }
   ],
   "source": [
    "chart_loss = alt.Chart(df_loss).mark_line().encode(\n",
    "    alt.X('index').title('Epochs'),\n",
    "    alt.Y(alt.repeat('layer'), type='quantitative').\\\n",
    "        title('Loss elements'),\n",
    "    color = alt.datum(alt.repeat('layer'))\n",
    ").repeat(\n",
    "    layer = ['Tempering Temperature Loss', 'Tempering Time Loss', 'Loss']\n",
    ").properties(title=\"Loss and Loss Elements by Epoch\")\n",
    "chart_loss.save(f\"{images_path}/DNN_loss.png\")\n",
    "chart_loss"
   ]
  },
  {
   "cell_type": "code",
   "execution_count": 133,
   "metadata": {},
   "outputs": [],
   "source": [
    "\n",
    "df_acc = history_df.select(['index', 'TTemp_out_accuracy', 'TTime_out_accuracy'])\n",
    "df_acc = df_acc.rename({'TTemp_out_accuracy':'Tempering Temperature Acc',\n",
    "                'TTime_out_accuracy':'Tempering Time Acc'})"
   ]
  },
  {
   "cell_type": "code",
   "execution_count": 134,
   "metadata": {},
   "outputs": [
    {
     "data": {
      "text/html": [
       "\n",
       "<style>\n",
       "  #altair-viz-765c7755c5014e4595d4cafa5ebef031.vega-embed {\n",
       "    width: 100%;\n",
       "    display: flex;\n",
       "  }\n",
       "\n",
       "  #altair-viz-765c7755c5014e4595d4cafa5ebef031.vega-embed details,\n",
       "  #altair-viz-765c7755c5014e4595d4cafa5ebef031.vega-embed details summary {\n",
       "    position: relative;\n",
       "  }\n",
       "</style>\n",
       "<div id=\"altair-viz-765c7755c5014e4595d4cafa5ebef031\"></div>\n",
       "<script type=\"text/javascript\">\n",
       "  var VEGA_DEBUG = (typeof VEGA_DEBUG == \"undefined\") ? {} : VEGA_DEBUG;\n",
       "  (function(spec, embedOpt){\n",
       "    let outputDiv = document.currentScript.previousElementSibling;\n",
       "    if (outputDiv.id !== \"altair-viz-765c7755c5014e4595d4cafa5ebef031\") {\n",
       "      outputDiv = document.getElementById(\"altair-viz-765c7755c5014e4595d4cafa5ebef031\");\n",
       "    }\n",
       "    const paths = {\n",
       "      \"vega\": \"https://cdn.jsdelivr.net/npm/vega@5?noext\",\n",
       "      \"vega-lib\": \"https://cdn.jsdelivr.net/npm/vega-lib?noext\",\n",
       "      \"vega-lite\": \"https://cdn.jsdelivr.net/npm/vega-lite@5.20.1?noext\",\n",
       "      \"vega-embed\": \"https://cdn.jsdelivr.net/npm/vega-embed@6?noext\",\n",
       "    };\n",
       "\n",
       "    function maybeLoadScript(lib, version) {\n",
       "      var key = `${lib.replace(\"-\", \"\")}_version`;\n",
       "      return (VEGA_DEBUG[key] == version) ?\n",
       "        Promise.resolve(paths[lib]) :\n",
       "        new Promise(function(resolve, reject) {\n",
       "          var s = document.createElement('script');\n",
       "          document.getElementsByTagName(\"head\")[0].appendChild(s);\n",
       "          s.async = true;\n",
       "          s.onload = () => {\n",
       "            VEGA_DEBUG[key] = version;\n",
       "            return resolve(paths[lib]);\n",
       "          };\n",
       "          s.onerror = () => reject(`Error loading script: ${paths[lib]}`);\n",
       "          s.src = paths[lib];\n",
       "        });\n",
       "    }\n",
       "\n",
       "    function showError(err) {\n",
       "      outputDiv.innerHTML = `<div class=\"error\" style=\"color:red;\">${err}</div>`;\n",
       "      throw err;\n",
       "    }\n",
       "\n",
       "    function displayChart(vegaEmbed) {\n",
       "      vegaEmbed(outputDiv, spec, embedOpt)\n",
       "        .catch(err => showError(`Javascript Error: ${err.message}<br>This usually means there's a typo in your chart specification. See the javascript console for the full traceback.`));\n",
       "    }\n",
       "\n",
       "    if(typeof define === \"function\" && define.amd) {\n",
       "      requirejs.config({paths});\n",
       "      require([\"vega-embed\"], displayChart, err => showError(`Error loading script: ${err.message}`));\n",
       "    } else {\n",
       "      maybeLoadScript(\"vega\", \"5\")\n",
       "        .then(() => maybeLoadScript(\"vega-lite\", \"5.20.1\"))\n",
       "        .then(() => maybeLoadScript(\"vega-embed\", \"6\"))\n",
       "        .catch(showError)\n",
       "        .then(() => displayChart(vegaEmbed));\n",
       "    }\n",
       "  })({\"config\": {\"view\": {\"continuousWidth\": 300, \"continuousHeight\": 300}}, \"repeat\": {\"layer\": [\"Tempering Temperature Acc\", \"Tempering Time Acc\"]}, \"spec\": {\"data\": {\"name\": \"data-05348e9107b92c6ef86277c42c261150\"}, \"mark\": {\"type\": \"line\"}, \"encoding\": {\"color\": {\"datum\": {\"repeat\": \"layer\"}}, \"x\": {\"field\": \"index\", \"title\": \"Epochs\", \"type\": \"quantitative\"}, \"y\": {\"field\": {\"repeat\": \"layer\"}, \"title\": \"Accuracies\", \"type\": \"quantitative\"}}}, \"title\": \"Accuracies by Epoch\", \"$schema\": \"https://vega.github.io/schema/vega-lite/v5.20.1.json\", \"datasets\": {\"data-05348e9107b92c6ef86277c42c261150\": [{\"index\": 0, \"Tempering Temperature Acc\": 0.09857328236103058, \"Tempering Time Acc\": 0.2049286663532257}, {\"index\": 1, \"Tempering Temperature Acc\": 0.15045395493507385, \"Tempering Time Acc\": 0.22438392043113708}, {\"index\": 2, \"Tempering Temperature Acc\": 0.1880674511194229, \"Tempering Time Acc\": 0.2840466797351837}, {\"index\": 3, \"Tempering Temperature Acc\": 0.21141374111175537, \"Tempering Time Acc\": 0.2996108829975128}, {\"index\": 4, \"Tempering Temperature Acc\": 0.21141374111175537, \"Tempering Time Acc\": 0.2983138859272003}, {\"index\": 5, \"Tempering Temperature Acc\": 0.22568093240261078, \"Tempering Time Acc\": 0.3203631639480591}, {\"index\": 6, \"Tempering Temperature Acc\": 0.23216602206230164, \"Tempering Time Acc\": 0.3450064957141876}, {\"index\": 7, \"Tempering Temperature Acc\": 0.2360570728778839, \"Tempering Time Acc\": 0.3463034927845001}, {\"index\": 8, \"Tempering Temperature Acc\": 0.24643319845199585, \"Tempering Time Acc\": 0.3501945436000824}, {\"index\": 9, \"Tempering Temperature Acc\": 0.26070037484169006, \"Tempering Time Acc\": 0.35667964816093445}, {\"index\": 10, \"Tempering Temperature Acc\": 0.26459142565727234, \"Tempering Time Acc\": 0.3527885973453522}, {\"index\": 11, \"Tempering Temperature Acc\": 0.27496758103370667, \"Tempering Time Acc\": 0.3488975465297699}, {\"index\": 12, \"Tempering Temperature Acc\": 0.2736705541610718, \"Tempering Time Acc\": 0.3618676960468292}, {\"index\": 13, \"Tempering Temperature Acc\": 0.27756160497665405, \"Tempering Time Acc\": 0.3540855944156647}, {\"index\": 14, \"Tempering Temperature Acc\": 0.28015562891960144, \"Tempering Time Acc\": 0.35667964816093445}, {\"index\": 15, \"Tempering Temperature Acc\": 0.2892347574234009, \"Tempering Time Acc\": 0.3540855944156647}, {\"index\": 16, \"Tempering Temperature Acc\": 0.287937730550766, \"Tempering Time Acc\": 0.3488975465297699}, {\"index\": 17, \"Tempering Temperature Acc\": 0.29701685905456543, \"Tempering Time Acc\": 0.3527885973453522}, {\"index\": 18, \"Tempering Temperature Acc\": 0.3009079098701477, \"Tempering Time Acc\": 0.3463034927845001}, {\"index\": 19, \"Tempering Temperature Acc\": 0.3151750862598419, \"Tempering Time Acc\": 0.3488975465297699}, {\"index\": 20, \"Tempering Temperature Acc\": 0.31258106231689453, \"Tempering Time Acc\": 0.3527885973453522}, {\"index\": 21, \"Tempering Temperature Acc\": 0.32814526557922363, \"Tempering Time Acc\": 0.35927367210388184}, {\"index\": 22, \"Tempering Temperature Acc\": 0.33852139115333557, \"Tempering Time Acc\": 0.3631647229194641}, {\"index\": 23, \"Tempering Temperature Acc\": 0.34370946884155273, \"Tempering Time Acc\": 0.35538262128829956}, {\"index\": 24, \"Tempering Temperature Acc\": 0.3450064957141876, \"Tempering Time Acc\": 0.34111544489860535}, {\"index\": 25, \"Tempering Temperature Acc\": 0.3463034927845001, \"Tempering Time Acc\": 0.3527885973453522}, {\"index\": 26, \"Tempering Temperature Acc\": 0.35927367210388184, \"Tempering Time Acc\": 0.34370946884155273}, {\"index\": 27, \"Tempering Temperature Acc\": 0.3761349022388458, \"Tempering Time Acc\": 0.35667964816093445}, {\"index\": 28, \"Tempering Temperature Acc\": 0.3683528006076813, \"Tempering Time Acc\": 0.3463034927845001}, {\"index\": 29, \"Tempering Temperature Acc\": 0.38651102781295776, \"Tempering Time Acc\": 0.34111544489860535}, {\"index\": 30, \"Tempering Temperature Acc\": 0.38910505175590515, \"Tempering Time Acc\": 0.3605706989765167}, {\"index\": 31, \"Tempering Temperature Acc\": 0.3929961025714874, \"Tempering Time Acc\": 0.34370946884155273}, {\"index\": 32, \"Tempering Temperature Acc\": 0.40337225794792175, \"Tempering Time Acc\": 0.3501945436000824}, {\"index\": 33, \"Tempering Temperature Acc\": 0.3981841802597046, \"Tempering Time Acc\": 0.3631647229194641}, {\"index\": 34, \"Tempering Temperature Acc\": 0.4150454103946686, \"Tempering Time Acc\": 0.3527885973453522}, {\"index\": 35, \"Tempering Temperature Acc\": 0.4137483835220337, \"Tempering Time Acc\": 0.3605706989765167}, {\"index\": 36, \"Tempering Temperature Acc\": 0.4254215359687805, \"Tempering Time Acc\": 0.3540855944156647}, {\"index\": 37, \"Tempering Temperature Acc\": 0.4409857392311096, \"Tempering Time Acc\": 0.35538262128829956}, {\"index\": 38, \"Tempering Temperature Acc\": 0.42282748222351074, \"Tempering Time Acc\": 0.3540855944156647}, {\"index\": 39, \"Tempering Temperature Acc\": 0.43320363759994507, \"Tempering Time Acc\": 0.35927367210388184}, {\"index\": 40, \"Tempering Temperature Acc\": 0.4461737871170044, \"Tempering Time Acc\": 0.35667964816093445}, {\"index\": 41, \"Tempering Temperature Acc\": 0.43839168548583984, \"Tempering Time Acc\": 0.3631647229194641}, {\"index\": 42, \"Tempering Temperature Acc\": 0.43450063467025757, \"Tempering Time Acc\": 0.35927367210388184}, {\"index\": 43, \"Tempering Temperature Acc\": 0.4448767900466919, \"Tempering Time Acc\": 0.35797664523124695}, {\"index\": 44, \"Tempering Temperature Acc\": 0.4578469395637512, \"Tempering Time Acc\": 0.35667964816093445}, {\"index\": 45, \"Tempering Temperature Acc\": 0.43450063467025757, \"Tempering Time Acc\": 0.364461749792099}, {\"index\": 46, \"Tempering Temperature Acc\": 0.443579763174057, \"Tempering Time Acc\": 0.3605706989765167}, {\"index\": 47, \"Tempering Temperature Acc\": 0.4474708139896393, \"Tempering Time Acc\": 0.3696497976779938}, {\"index\": 48, \"Tempering Temperature Acc\": 0.4591439664363861, \"Tempering Time Acc\": 0.3657587468624115}, {\"index\": 49, \"Tempering Temperature Acc\": 0.4747081696987152, \"Tempering Time Acc\": 0.37094682455062866}, {\"index\": 50, \"Tempering Temperature Acc\": 0.4591439664363861, \"Tempering Time Acc\": 0.37094682455062866}, {\"index\": 51, \"Tempering Temperature Acc\": 0.4617379903793335, \"Tempering Time Acc\": 0.3670557737350464}, {\"index\": 52, \"Tempering Temperature Acc\": 0.4773021936416626, \"Tempering Time Acc\": 0.3631647229194641}, {\"index\": 53, \"Tempering Temperature Acc\": 0.4798962473869324, \"Tempering Time Acc\": 0.37354084849357605}, {\"index\": 54, \"Tempering Temperature Acc\": 0.4734111428260803, \"Tempering Time Acc\": 0.3605706989765167}, {\"index\": 55, \"Tempering Temperature Acc\": 0.4760051965713501, \"Tempering Time Acc\": 0.37094682455062866}, {\"index\": 56, \"Tempering Temperature Acc\": 0.4734111428260803, \"Tempering Time Acc\": 0.37094682455062866}, {\"index\": 57, \"Tempering Temperature Acc\": 0.4734111428260803, \"Tempering Time Acc\": 0.3657587468624115}, {\"index\": 58, \"Tempering Temperature Acc\": 0.4785992205142975, \"Tempering Time Acc\": 0.364461749792099}, {\"index\": 59, \"Tempering Temperature Acc\": 0.4747081696987152, \"Tempering Time Acc\": 0.3618676960468292}, {\"index\": 60, \"Tempering Temperature Acc\": 0.4915693998336792, \"Tempering Time Acc\": 0.35927367210388184}, {\"index\": 61, \"Tempering Temperature Acc\": 0.5084306001663208, \"Tempering Time Acc\": 0.35927367210388184}, {\"index\": 62, \"Tempering Temperature Acc\": 0.496757447719574, \"Tempering Time Acc\": 0.3605706989765167}, {\"index\": 63, \"Tempering Temperature Acc\": 0.4941634237766266, \"Tempering Time Acc\": 0.3657587468624115}, {\"index\": 64, \"Tempering Temperature Acc\": 0.496757447719574, \"Tempering Time Acc\": 0.37094682455062866}, {\"index\": 65, \"Tempering Temperature Acc\": 0.5006484985351562, \"Tempering Time Acc\": 0.35538262128829956}, {\"index\": 66, \"Tempering Temperature Acc\": 0.505836546421051, \"Tempering Time Acc\": 0.3761349022388458}, {\"index\": 67, \"Tempering Temperature Acc\": 0.5162127017974854, \"Tempering Time Acc\": 0.37224385142326355}, {\"index\": 68, \"Tempering Temperature Acc\": 0.505836546421051, \"Tempering Time Acc\": 0.3683528006076813}, {\"index\": 69, \"Tempering Temperature Acc\": 0.5149157047271729, \"Tempering Time Acc\": 0.364461749792099}, {\"index\": 70, \"Tempering Temperature Acc\": 0.503242552280426, \"Tempering Time Acc\": 0.3826199769973755}, {\"index\": 71, \"Tempering Temperature Acc\": 0.5214007496833801, \"Tempering Time Acc\": 0.3683528006076813}, {\"index\": 72, \"Tempering Temperature Acc\": 0.4954604506492615, \"Tempering Time Acc\": 0.3774318993091583}, {\"index\": 73, \"Tempering Temperature Acc\": 0.5175096988677979, \"Tempering Time Acc\": 0.3761349022388458}, {\"index\": 74, \"Tempering Temperature Acc\": 0.5226978063583374, \"Tempering Time Acc\": 0.37224385142326355}, {\"index\": 75, \"Tempering Temperature Acc\": 0.5071336030960083, \"Tempering Time Acc\": 0.37354084849357605}, {\"index\": 76, \"Tempering Temperature Acc\": 0.5110246539115906, \"Tempering Time Acc\": 0.3839170038700104}, {\"index\": 77, \"Tempering Temperature Acc\": 0.5214007496833801, \"Tempering Time Acc\": 0.37354084849357605}, {\"index\": 78, \"Tempering Temperature Acc\": 0.5201037526130676, \"Tempering Time Acc\": 0.3852140009403229}, {\"index\": 79, \"Tempering Temperature Acc\": 0.5239948034286499, \"Tempering Time Acc\": 0.3787289261817932}, {\"index\": 80, \"Tempering Temperature Acc\": 0.5201037526130676, \"Tempering Time Acc\": 0.3826199769973755}, {\"index\": 81, \"Tempering Temperature Acc\": 0.5188067555427551, \"Tempering Time Acc\": 0.3813229501247406}, {\"index\": 82, \"Tempering Temperature Acc\": 0.5265888571739197, \"Tempering Time Acc\": 0.3761349022388458}, {\"index\": 83, \"Tempering Temperature Acc\": 0.5175096988677979, \"Tempering Time Acc\": 0.3852140009403229}, {\"index\": 84, \"Tempering Temperature Acc\": 0.5239948034286499, \"Tempering Time Acc\": 0.3826199769973755}, {\"index\": 85, \"Tempering Temperature Acc\": 0.530479907989502, \"Tempering Time Acc\": 0.3929961025714874}, {\"index\": 86, \"Tempering Temperature Acc\": 0.5369649529457092, \"Tempering Time Acc\": 0.3774318993091583}, {\"index\": 87, \"Tempering Temperature Acc\": 0.539559006690979, \"Tempering Time Acc\": 0.38910505175590515}, {\"index\": 88, \"Tempering Temperature Acc\": 0.539559006690979, \"Tempering Time Acc\": 0.3968871533870697}, {\"index\": 89, \"Tempering Temperature Acc\": 0.5317769050598145, \"Tempering Time Acc\": 0.3852140009403229}, {\"index\": 90, \"Tempering Temperature Acc\": 0.5447470545768738, \"Tempering Time Acc\": 0.3852140009403229}, {\"index\": 91, \"Tempering Temperature Acc\": 0.5226978063583374, \"Tempering Time Acc\": 0.39040207862854004}, {\"index\": 92, \"Tempering Temperature Acc\": 0.5408560037612915, \"Tempering Time Acc\": 0.3968871533870697}, {\"index\": 93, \"Tempering Temperature Acc\": 0.5369649529457092, \"Tempering Time Acc\": 0.3916991055011749}, {\"index\": 94, \"Tempering Temperature Acc\": 0.5343709588050842, \"Tempering Time Acc\": 0.3852140009403229}, {\"index\": 95, \"Tempering Temperature Acc\": 0.5343709588050842, \"Tempering Time Acc\": 0.3942931294441223}, {\"index\": 96, \"Tempering Temperature Acc\": 0.5369649529457092, \"Tempering Time Acc\": 0.3929961025714874}, {\"index\": 97, \"Tempering Temperature Acc\": 0.5369649529457092, \"Tempering Time Acc\": 0.38651102781295776}, {\"index\": 98, \"Tempering Temperature Acc\": 0.5343709588050842, \"Tempering Time Acc\": 0.3994812071323395}, {\"index\": 99, \"Tempering Temperature Acc\": 0.5382620096206665, \"Tempering Time Acc\": 0.38910505175590515}, {\"index\": 100, \"Tempering Temperature Acc\": 0.5369649529457092, \"Tempering Time Acc\": 0.38651102781295776}, {\"index\": 101, \"Tempering Temperature Acc\": 0.546044111251831, \"Tempering Time Acc\": 0.3929961025714874}, {\"index\": 102, \"Tempering Temperature Acc\": 0.5538262128829956, \"Tempering Time Acc\": 0.3981841802597046}, {\"index\": 103, \"Tempering Temperature Acc\": 0.548638105392456, \"Tempering Time Acc\": 0.3929961025714874}, {\"index\": 104, \"Tempering Temperature Acc\": 0.5369649529457092, \"Tempering Time Acc\": 0.3839170038700104}, {\"index\": 105, \"Tempering Temperature Acc\": 0.548638105392456, \"Tempering Time Acc\": 0.3852140009403229}, {\"index\": 106, \"Tempering Temperature Acc\": 0.5512321591377258, \"Tempering Time Acc\": 0.3839170038700104}, {\"index\": 107, \"Tempering Temperature Acc\": 0.5538262128829956, \"Tempering Time Acc\": 0.3800259530544281}, {\"index\": 108, \"Tempering Temperature Acc\": 0.5577172636985779, \"Tempering Time Acc\": 0.38780805468559265}, {\"index\": 109, \"Tempering Temperature Acc\": 0.5538262128829956, \"Tempering Time Acc\": 0.38780805468559265}, {\"index\": 110, \"Tempering Temperature Acc\": 0.5408560037612915, \"Tempering Time Acc\": 0.3916991055011749}, {\"index\": 111, \"Tempering Temperature Acc\": 0.5499351620674133, \"Tempering Time Acc\": 0.3981841802597046}, {\"index\": 112, \"Tempering Temperature Acc\": 0.5499351620674133, \"Tempering Time Acc\": 0.39040207862854004}, {\"index\": 113, \"Tempering Temperature Acc\": 0.5538262128829956, \"Tempering Time Acc\": 0.3942931294441223}, {\"index\": 114, \"Tempering Temperature Acc\": 0.5577172636985779, \"Tempering Time Acc\": 0.3852140009403229}, {\"index\": 115, \"Tempering Temperature Acc\": 0.5408560037612915, \"Tempering Time Acc\": 0.39040207862854004}, {\"index\": 116, \"Tempering Temperature Acc\": 0.5590142607688904, \"Tempering Time Acc\": 0.37224385142326355}, {\"index\": 117, \"Tempering Temperature Acc\": 0.5538262128829956, \"Tempering Time Acc\": 0.3968871533870697}, {\"index\": 118, \"Tempering Temperature Acc\": 0.5538262128829956, \"Tempering Time Acc\": 0.3916991055011749}, {\"index\": 119, \"Tempering Temperature Acc\": 0.5577172636985779, \"Tempering Time Acc\": 0.38651102781295776}, {\"index\": 120, \"Tempering Temperature Acc\": 0.5512321591377258, \"Tempering Time Acc\": 0.38910505175590515}, {\"index\": 121, \"Tempering Temperature Acc\": 0.5629053115844727, \"Tempering Time Acc\": 0.3929961025714874}, {\"index\": 122, \"Tempering Temperature Acc\": 0.5538262128829956, \"Tempering Time Acc\": 0.39040207862854004}, {\"index\": 123, \"Tempering Temperature Acc\": 0.5551232099533081, \"Tempering Time Acc\": 0.38910505175590515}, {\"index\": 124, \"Tempering Temperature Acc\": 0.5616083145141602, \"Tempering Time Acc\": 0.3994812071323395}, {\"index\": 125, \"Tempering Temperature Acc\": 0.5642023086547852, \"Tempering Time Acc\": 0.3852140009403229}, {\"index\": 126, \"Tempering Temperature Acc\": 0.5577172636985779, \"Tempering Time Acc\": 0.3929961025714874}, {\"index\": 127, \"Tempering Temperature Acc\": 0.548638105392456, \"Tempering Time Acc\": 0.40337225794792175}, {\"index\": 128, \"Tempering Temperature Acc\": 0.5525291562080383, \"Tempering Time Acc\": 0.3994812071323395}, {\"index\": 129, \"Tempering Temperature Acc\": 0.5654993653297424, \"Tempering Time Acc\": 0.3955901563167572}, {\"index\": 130, \"Tempering Temperature Acc\": 0.5642023086547852, \"Tempering Time Acc\": 0.400778204202652}, {\"index\": 131, \"Tempering Temperature Acc\": 0.5745784640312195, \"Tempering Time Acc\": 0.40337225794792175}, {\"index\": 132, \"Tempering Temperature Acc\": 0.5421530604362488, \"Tempering Time Acc\": 0.40596628189086914}, {\"index\": 133, \"Tempering Temperature Acc\": 0.5473411083221436, \"Tempering Time Acc\": 0.3994812071323395}, {\"index\": 134, \"Tempering Temperature Acc\": 0.5680933594703674, \"Tempering Time Acc\": 0.3994812071323395}, {\"index\": 135, \"Tempering Temperature Acc\": 0.5629053115844727, \"Tempering Time Acc\": 0.39040207862854004}, {\"index\": 136, \"Tempering Temperature Acc\": 0.5745784640312195, \"Tempering Time Acc\": 0.40466925501823425}, {\"index\": 137, \"Tempering Temperature Acc\": 0.5603112578392029, \"Tempering Time Acc\": 0.40726330876350403}, {\"index\": 138, \"Tempering Temperature Acc\": 0.5616083145141602, \"Tempering Time Acc\": 0.3916991055011749}, {\"index\": 139, \"Tempering Temperature Acc\": 0.5784695148468018, \"Tempering Time Acc\": 0.3994812071323395}, {\"index\": 140, \"Tempering Temperature Acc\": 0.5654993653297424, \"Tempering Time Acc\": 0.4098573327064514}, {\"index\": 141, \"Tempering Temperature Acc\": 0.575875461101532, \"Tempering Time Acc\": 0.3981841802597046}, {\"index\": 142, \"Tempering Temperature Acc\": 0.5616083145141602, \"Tempering Time Acc\": 0.400778204202652}, {\"index\": 143, \"Tempering Temperature Acc\": 0.5706874132156372, \"Tempering Time Acc\": 0.3839170038700104}, {\"index\": 144, \"Tempering Temperature Acc\": 0.5771725177764893, \"Tempering Time Acc\": 0.3968871533870697}, {\"index\": 145, \"Tempering Temperature Acc\": 0.5862516164779663, \"Tempering Time Acc\": 0.40856030583381653}, {\"index\": 146, \"Tempering Temperature Acc\": 0.5616083145141602, \"Tempering Time Acc\": 0.3955901563167572}, {\"index\": 147, \"Tempering Temperature Acc\": 0.5849546194076538, \"Tempering Time Acc\": 0.39040207862854004}, {\"index\": 148, \"Tempering Temperature Acc\": 0.5642023086547852, \"Tempering Time Acc\": 0.39040207862854004}, {\"index\": 149, \"Tempering Temperature Acc\": 0.573281466960907, \"Tempering Time Acc\": 0.3916991055011749}, {\"index\": 150, \"Tempering Temperature Acc\": 0.5810635685920715, \"Tempering Time Acc\": 0.3968871533870697}, {\"index\": 151, \"Tempering Temperature Acc\": 0.5862516164779663, \"Tempering Time Acc\": 0.40726330876350403}, {\"index\": 152, \"Tempering Temperature Acc\": 0.5901426672935486, \"Tempering Time Acc\": 0.40207523107528687}, {\"index\": 153, \"Tempering Temperature Acc\": 0.5525291562080383, \"Tempering Time Acc\": 0.400778204202652}, {\"index\": 154, \"Tempering Temperature Acc\": 0.5538262128829956, \"Tempering Time Acc\": 0.4098573327064514}, {\"index\": 155, \"Tempering Temperature Acc\": 0.5719844102859497, \"Tempering Time Acc\": 0.3994812071323395}, {\"index\": 156, \"Tempering Temperature Acc\": 0.5680933594703674, \"Tempering Time Acc\": 0.40337225794792175}, {\"index\": 157, \"Tempering Temperature Acc\": 0.5590142607688904, \"Tempering Time Acc\": 0.3994812071323395}, {\"index\": 158, \"Tempering Temperature Acc\": 0.5706874132156372, \"Tempering Time Acc\": 0.40596628189086914}, {\"index\": 159, \"Tempering Temperature Acc\": 0.573281466960907, \"Tempering Time Acc\": 0.40856030583381653}, {\"index\": 160, \"Tempering Temperature Acc\": 0.5888456702232361, \"Tempering Time Acc\": 0.40596628189086914}, {\"index\": 161, \"Tempering Temperature Acc\": 0.575875461101532, \"Tempering Time Acc\": 0.3981841802597046}, {\"index\": 162, \"Tempering Temperature Acc\": 0.5784695148468018, \"Tempering Time Acc\": 0.40207523107528687}, {\"index\": 163, \"Tempering Temperature Acc\": 0.5862516164779663, \"Tempering Time Acc\": 0.3981841802597046}, {\"index\": 164, \"Tempering Temperature Acc\": 0.575875461101532, \"Tempering Time Acc\": 0.3994812071323395}, {\"index\": 165, \"Tempering Temperature Acc\": 0.5693904161453247, \"Tempering Time Acc\": 0.40856030583381653}, {\"index\": 166, \"Tempering Temperature Acc\": 0.575875461101532, \"Tempering Time Acc\": 0.4098573327064514}, {\"index\": 167, \"Tempering Temperature Acc\": 0.5693904161453247, \"Tempering Time Acc\": 0.4124513566493988}, {\"index\": 168, \"Tempering Temperature Acc\": 0.5693904161453247, \"Tempering Time Acc\": 0.40726330876350403}, {\"index\": 169, \"Tempering Temperature Acc\": 0.5616083145141602, \"Tempering Time Acc\": 0.40337225794792175}, {\"index\": 170, \"Tempering Temperature Acc\": 0.5771725177764893, \"Tempering Time Acc\": 0.40856030583381653}, {\"index\": 171, \"Tempering Temperature Acc\": 0.5719844102859497, \"Tempering Time Acc\": 0.4124513566493988}, {\"index\": 172, \"Tempering Temperature Acc\": 0.5642023086547852, \"Tempering Time Acc\": 0.40856030583381653}, {\"index\": 173, \"Tempering Temperature Acc\": 0.582360565662384, \"Tempering Time Acc\": 0.4124513566493988}, {\"index\": 174, \"Tempering Temperature Acc\": 0.5680933594703674, \"Tempering Time Acc\": 0.40596628189086914}, {\"index\": 175, \"Tempering Temperature Acc\": 0.5706874132156372, \"Tempering Time Acc\": 0.4098573327064514}, {\"index\": 176, \"Tempering Temperature Acc\": 0.5875486135482788, \"Tempering Time Acc\": 0.3955901563167572}, {\"index\": 177, \"Tempering Temperature Acc\": 0.5927367210388184, \"Tempering Time Acc\": 0.3981841802597046}, {\"index\": 178, \"Tempering Temperature Acc\": 0.5966277718544006, \"Tempering Time Acc\": 0.40207523107528687}, {\"index\": 179, \"Tempering Temperature Acc\": 0.5771725177764893, \"Tempering Time Acc\": 0.3929961025714874}, {\"index\": 180, \"Tempering Temperature Acc\": 0.5797665119171143, \"Tempering Time Acc\": 0.40726330876350403}, {\"index\": 181, \"Tempering Temperature Acc\": 0.5745784640312195, \"Tempering Time Acc\": 0.40337225794792175}, {\"index\": 182, \"Tempering Temperature Acc\": 0.573281466960907, \"Tempering Time Acc\": 0.4111543595790863}, {\"index\": 183, \"Tempering Temperature Acc\": 0.582360565662384, \"Tempering Time Acc\": 0.40726330876350403}, {\"index\": 184, \"Tempering Temperature Acc\": 0.5836575627326965, \"Tempering Time Acc\": 0.3942931294441223}, {\"index\": 185, \"Tempering Temperature Acc\": 0.5862516164779663, \"Tempering Time Acc\": 0.3994812071323395}, {\"index\": 186, \"Tempering Temperature Acc\": 0.5667963624000549, \"Tempering Time Acc\": 0.4098573327064514}, {\"index\": 187, \"Tempering Temperature Acc\": 0.5927367210388184, \"Tempering Time Acc\": 0.4124513566493988}, {\"index\": 188, \"Tempering Temperature Acc\": 0.5745784640312195, \"Tempering Time Acc\": 0.40856030583381653}, {\"index\": 189, \"Tempering Temperature Acc\": 0.5875486135482788, \"Tempering Time Acc\": 0.4124513566493988}, {\"index\": 190, \"Tempering Temperature Acc\": 0.5771725177764893, \"Tempering Time Acc\": 0.40596628189086914}, {\"index\": 191, \"Tempering Temperature Acc\": 0.5875486135482788, \"Tempering Time Acc\": 0.40337225794792175}, {\"index\": 192, \"Tempering Temperature Acc\": 0.5810635685920715, \"Tempering Time Acc\": 0.40207523107528687}, {\"index\": 193, \"Tempering Temperature Acc\": 0.573281466960907, \"Tempering Time Acc\": 0.40207523107528687}, {\"index\": 194, \"Tempering Temperature Acc\": 0.5771725177764893, \"Tempering Time Acc\": 0.4124513566493988}, {\"index\": 195, \"Tempering Temperature Acc\": 0.5629053115844727, \"Tempering Time Acc\": 0.40337225794792175}, {\"index\": 196, \"Tempering Temperature Acc\": 0.582360565662384, \"Tempering Time Acc\": 0.3981841802597046}, {\"index\": 197, \"Tempering Temperature Acc\": 0.5745784640312195, \"Tempering Time Acc\": 0.4163424074649811}, {\"index\": 198, \"Tempering Temperature Acc\": 0.5901426672935486, \"Tempering Time Acc\": 0.4124513566493988}, {\"index\": 199, \"Tempering Temperature Acc\": 0.5875486135482788, \"Tempering Time Acc\": 0.4124513566493988}, {\"index\": 200, \"Tempering Temperature Acc\": 0.5784695148468018, \"Tempering Time Acc\": 0.4137483835220337}, {\"index\": 201, \"Tempering Temperature Acc\": 0.5810635685920715, \"Tempering Time Acc\": 0.40596628189086914}, {\"index\": 202, \"Tempering Temperature Acc\": 0.575875461101532, \"Tempering Time Acc\": 0.40726330876350403}, {\"index\": 203, \"Tempering Temperature Acc\": 0.5654993653297424, \"Tempering Time Acc\": 0.4124513566493988}, {\"index\": 204, \"Tempering Temperature Acc\": 0.6070038676261902, \"Tempering Time Acc\": 0.40337225794792175}, {\"index\": 205, \"Tempering Temperature Acc\": 0.5784695148468018, \"Tempering Time Acc\": 0.40856030583381653}, {\"index\": 206, \"Tempering Temperature Acc\": 0.5862516164779663, \"Tempering Time Acc\": 0.4163424074649811}, {\"index\": 207, \"Tempering Temperature Acc\": 0.5888456702232361, \"Tempering Time Acc\": 0.4124513566493988}, {\"index\": 208, \"Tempering Temperature Acc\": 0.5797665119171143, \"Tempering Time Acc\": 0.40337225794792175}, {\"index\": 209, \"Tempering Temperature Acc\": 0.582360565662384, \"Tempering Time Acc\": 0.42023345828056335}, {\"index\": 210, \"Tempering Temperature Acc\": 0.5914396643638611, \"Tempering Time Acc\": 0.40596628189086914}, {\"index\": 211, \"Tempering Temperature Acc\": 0.5992217659950256, \"Tempering Time Acc\": 0.41893643140792847}, {\"index\": 212, \"Tempering Temperature Acc\": 0.5927367210388184, \"Tempering Time Acc\": 0.41763943433761597}, {\"index\": 213, \"Tempering Temperature Acc\": 0.5940337181091309, \"Tempering Time Acc\": 0.4124513566493988}, {\"index\": 214, \"Tempering Temperature Acc\": 0.5992217659950256, \"Tempering Time Acc\": 0.4254215359687805}, {\"index\": 215, \"Tempering Temperature Acc\": 0.5901426672935486, \"Tempering Time Acc\": 0.40466925501823425}, {\"index\": 216, \"Tempering Temperature Acc\": 0.5927367210388184, \"Tempering Time Acc\": 0.41763943433761597}, {\"index\": 217, \"Tempering Temperature Acc\": 0.6121919751167297, \"Tempering Time Acc\": 0.40856030583381653}, {\"index\": 218, \"Tempering Temperature Acc\": 0.5784695148468018, \"Tempering Time Acc\": 0.40596628189086914}, {\"index\": 219, \"Tempering Temperature Acc\": 0.5719844102859497, \"Tempering Time Acc\": 0.40726330876350403}, {\"index\": 220, \"Tempering Temperature Acc\": 0.5940337181091309, \"Tempering Time Acc\": 0.40856030583381653}, {\"index\": 221, \"Tempering Temperature Acc\": 0.5901426672935486, \"Tempering Time Acc\": 0.40207523107528687}, {\"index\": 222, \"Tempering Temperature Acc\": 0.5927367210388184, \"Tempering Time Acc\": 0.4137483835220337}, {\"index\": 223, \"Tempering Temperature Acc\": 0.5862516164779663, \"Tempering Time Acc\": 0.3955901563167572}, {\"index\": 224, \"Tempering Temperature Acc\": 0.5836575627326965, \"Tempering Time Acc\": 0.4098573327064514}, {\"index\": 225, \"Tempering Temperature Acc\": 0.5849546194076538, \"Tempering Time Acc\": 0.4163424074649811}, {\"index\": 226, \"Tempering Temperature Acc\": 0.5849546194076538, \"Tempering Time Acc\": 0.400778204202652}, {\"index\": 227, \"Tempering Temperature Acc\": 0.5927367210388184, \"Tempering Time Acc\": 0.40466925501823425}, {\"index\": 228, \"Tempering Temperature Acc\": 0.5966277718544006, \"Tempering Time Acc\": 0.41763943433761597}, {\"index\": 229, \"Tempering Temperature Acc\": 0.5797665119171143, \"Tempering Time Acc\": 0.41763943433761597}, {\"index\": 230, \"Tempering Temperature Acc\": 0.5901426672935486, \"Tempering Time Acc\": 0.4137483835220337}, {\"index\": 231, \"Tempering Temperature Acc\": 0.5979247689247131, \"Tempering Time Acc\": 0.42023345828056335}, {\"index\": 232, \"Tempering Temperature Acc\": 0.5901426672935486, \"Tempering Time Acc\": 0.4137483835220337}, {\"index\": 233, \"Tempering Temperature Acc\": 0.5888456702232361, \"Tempering Time Acc\": 0.40466925501823425}, {\"index\": 234, \"Tempering Temperature Acc\": 0.5875486135482788, \"Tempering Time Acc\": 0.4137483835220337}, {\"index\": 235, \"Tempering Temperature Acc\": 0.5875486135482788, \"Tempering Time Acc\": 0.40466925501823425}, {\"index\": 236, \"Tempering Temperature Acc\": 0.5927367210388184, \"Tempering Time Acc\": 0.4111543595790863}, {\"index\": 237, \"Tempering Temperature Acc\": 0.582360565662384, \"Tempering Time Acc\": 0.40466925501823425}, {\"index\": 238, \"Tempering Temperature Acc\": 0.5771725177764893, \"Tempering Time Acc\": 0.42282748222351074}, {\"index\": 239, \"Tempering Temperature Acc\": 0.6031128168106079, \"Tempering Time Acc\": 0.40337225794792175}, {\"index\": 240, \"Tempering Temperature Acc\": 0.582360565662384, \"Tempering Time Acc\": 0.41763943433761597}, {\"index\": 241, \"Tempering Temperature Acc\": 0.6044098734855652, \"Tempering Time Acc\": 0.4111543595790863}, {\"index\": 242, \"Tempering Temperature Acc\": 0.5927367210388184, \"Tempering Time Acc\": 0.4163424074649811}, {\"index\": 243, \"Tempering Temperature Acc\": 0.5979247689247131, \"Tempering Time Acc\": 0.4150454103946686}, {\"index\": 244, \"Tempering Temperature Acc\": 0.5927367210388184, \"Tempering Time Acc\": 0.42282748222351074}, {\"index\": 245, \"Tempering Temperature Acc\": 0.5810635685920715, \"Tempering Time Acc\": 0.41763943433761597}, {\"index\": 246, \"Tempering Temperature Acc\": 0.5810635685920715, \"Tempering Time Acc\": 0.40856030583381653}, {\"index\": 247, \"Tempering Temperature Acc\": 0.5745784640312195, \"Tempering Time Acc\": 0.4124513566493988}, {\"index\": 248, \"Tempering Temperature Acc\": 0.5966277718544006, \"Tempering Time Acc\": 0.4111543595790863}, {\"index\": 249, \"Tempering Temperature Acc\": 0.5693904161453247, \"Tempering Time Acc\": 0.40856030583381653}]}}, {\"mode\": \"vega-lite\"});\n",
       "</script>"
      ],
      "text/plain": [
       "alt.RepeatChart(...)"
      ]
     },
     "execution_count": 134,
     "metadata": {},
     "output_type": "execute_result"
    }
   ],
   "source": [
    "chart_acc = alt.Chart(df_acc).mark_line().encode(\n",
    "    alt.X('index').title('Epochs'),\n",
    "    alt.Y(alt.repeat('layer'), type='quantitative').\\\n",
    "        title('Accuracies'),\n",
    "    color = alt.datum(alt.repeat('layer'))\n",
    ").repeat(\n",
    "    layer = ['Tempering Temperature Acc', 'Tempering Time Acc']\n",
    ").properties(title=\"Accuracies by Epoch\")\n",
    "chart_acc.save(f\"{images_path}/DNN_acc.png\")\n",
    "chart_acc"
   ]
  },
  {
   "cell_type": "markdown",
   "metadata": {},
   "source": [
    "# Model Selected, performance is poor"
   ]
  },
  {
   "cell_type": "code",
   "execution_count": 135,
   "metadata": {},
   "outputs": [
    {
     "name": "stdout",
     "output_type": "stream",
     "text": [
      "\u001b[1m11/11\u001b[0m \u001b[32m━━━━━━━━━━━━━━━━━━━━\u001b[0m\u001b[37m\u001b[0m \u001b[1m0s\u001b[0m 3ms/step \n",
      "\u001b[1m11/11\u001b[0m \u001b[32m━━━━━━━━━━━━━━━━━━━━\u001b[0m\u001b[37m\u001b[0m \u001b[1m0s\u001b[0m 670us/step\n",
      "\u001b[1m11/11\u001b[0m \u001b[32m━━━━━━━━━━━━━━━━━━━━\u001b[0m\u001b[37m\u001b[0m \u001b[1m0s\u001b[0m 533us/step\n",
      "\u001b[1m11/11\u001b[0m \u001b[32m━━━━━━━━━━━━━━━━━━━━\u001b[0m\u001b[37m\u001b[0m \u001b[1m0s\u001b[0m 518us/step\n",
      "\u001b[1m11/11\u001b[0m \u001b[32m━━━━━━━━━━━━━━━━━━━━\u001b[0m\u001b[37m\u001b[0m \u001b[1m0s\u001b[0m 505us/step\n",
      "timeAcc: 0.27 tempAcc: 0.416\n",
      "Average Accuracy: 0.343\n"
     ]
    }
   ],
   "source": [
    "model = create_model(optimizer='sgd')\n",
    "model.fit(x=X_train, \n",
    "        y=[y_train[:,0], \n",
    "            y_train[:,1]], \n",
    "        verbose=0,\n",
    "        epochs=100,\n",
    "        validation_split=0.2)\n",
    "eval_avg_5_times(model, y_test)"
   ]
  },
  {
   "cell_type": "markdown",
   "metadata": {},
   "source": [
    "# Next steps for multioutput \n",
    "\n",
    "The information contained in the dataset is insufficent for this modelling. It is possible that training two models, where the other target is a feature would provide better results than a singular dual headed model.\n",
    "\n",
    "This still may not provide enough information fo the models to perform as well as desired however. Collecting more rows from other scientific reviews would be the obvious next step.\n",
    "\n",
    "---"
   ]
  },
  {
   "cell_type": "markdown",
   "metadata": {},
   "source": [
    "# Transition to regression single target\n",
    "\n",
    "Target final hardness, include tempering process as data"
   ]
  },
  {
   "cell_type": "code",
   "execution_count": 137,
   "metadata": {},
   "outputs": [
    {
     "data": {
      "text/plain": [
       "PurePosixPath('/home/mox/Documents/coding_projects/bootcamp_local/Homeworks/Mild-Steel-Tempering/images/pred_hardness')"
      ]
     },
     "execution_count": 137,
     "metadata": {},
     "output_type": "execute_result"
    }
   ],
   "source": [
    "resources_path = pathlib.PurePath(pathlib.PurePath(cwd), 'resources', 'pred_hardness')\n",
    "\n",
    "images_path = pathlib.PurePath(pathlib.PurePath(cwd), 'images', 'pred_hardness')"
   ]
  },
  {
   "cell_type": "code",
   "execution_count": 138,
   "metadata": {},
   "outputs": [
    {
     "name": "stdout",
     "output_type": "stream",
     "text": [
      "(1286, 17)\n"
     ]
    },
    {
     "data": {
      "text/html": [
       "<div><style>\n",
       ".dataframe > thead > tr,\n",
       ".dataframe > tbody > tr {\n",
       "  text-align: right;\n",
       "  white-space: pre-wrap;\n",
       "}\n",
       "</style>\n",
       "<small>shape: (3, 17)</small><table border=\"1\" class=\"dataframe\"><thead><tr><th>steel_type</th><th>C</th><th>Mn</th><th>P</th><th>S</th><th>Si</th><th>Ni</th><th>Cr</th><th>Mo</th><th>V</th><th>Al</th><th>Cu</th><th>final_hardness_post_tempering_HRC</th><th>yield_strength_MPa</th><th>ultimate_strength_MPA</th><th>tempering_time_s</th><th>tempering_temperature_C</th></tr><tr><td>str</td><td>f64</td><td>f64</td><td>f64</td><td>f64</td><td>f64</td><td>f64</td><td>f64</td><td>f64</td><td>f64</td><td>f64</td><td>f64</td><td>f64</td><td>i64</td><td>i64</td><td>i64</td><td>f64</td></tr></thead><tbody><tr><td>&quot;1,15%C - plain carbon steel&quot;</td><td>1.15</td><td>0.58</td><td>0.012</td><td>0.021</td><td>0.09</td><td>0.0</td><td>0.01</td><td>0.0</td><td>0.0</td><td>0.0</td><td>0.0</td><td>32.0</td><td>525</td><td>685</td><td>86400</td><td>500.0</td></tr><tr><td>&quot;1,15%C - plain carbon steel&quot;</td><td>1.15</td><td>0.58</td><td>0.012</td><td>0.021</td><td>0.09</td><td>0.0</td><td>0.01</td><td>0.0</td><td>0.0</td><td>0.0</td><td>0.0</td><td>23.0</td><td>525</td><td>685</td><td>86400</td><td>600.0</td></tr><tr><td>&quot;1,15%C - plain carbon steel&quot;</td><td>1.15</td><td>0.58</td><td>0.012</td><td>0.021</td><td>0.09</td><td>0.0</td><td>0.01</td><td>0.0</td><td>0.0</td><td>0.0</td><td>0.0</td><td>4.5</td><td>525</td><td>685</td><td>86400</td><td>700.0</td></tr></tbody></table></div>"
      ],
      "text/plain": [
       "shape: (3, 17)\n",
       "┌──────────────┬──────┬──────┬───────┬───┬──────────────┬──────────────┬─────────────┬─────────────┐\n",
       "│ steel_type   ┆ C    ┆ Mn   ┆ P     ┆ … ┆ yield_streng ┆ ultimate_str ┆ tempering_t ┆ tempering_t │\n",
       "│ ---          ┆ ---  ┆ ---  ┆ ---   ┆   ┆ th_MPa       ┆ ength_MPA    ┆ ime_s       ┆ emperature_ │\n",
       "│ str          ┆ f64  ┆ f64  ┆ f64   ┆   ┆ ---          ┆ ---          ┆ ---         ┆ C           │\n",
       "│              ┆      ┆      ┆       ┆   ┆ i64          ┆ i64          ┆ i64         ┆ ---         │\n",
       "│              ┆      ┆      ┆       ┆   ┆              ┆              ┆             ┆ f64         │\n",
       "╞══════════════╪══════╪══════╪═══════╪═══╪══════════════╪══════════════╪═════════════╪═════════════╡\n",
       "│ 1,15%C -     ┆ 1.15 ┆ 0.58 ┆ 0.012 ┆ … ┆ 525          ┆ 685          ┆ 86400       ┆ 500.0       │\n",
       "│ plain carbon ┆      ┆      ┆       ┆   ┆              ┆              ┆             ┆             │\n",
       "│ steel        ┆      ┆      ┆       ┆   ┆              ┆              ┆             ┆             │\n",
       "│ 1,15%C -     ┆ 1.15 ┆ 0.58 ┆ 0.012 ┆ … ┆ 525          ┆ 685          ┆ 86400       ┆ 600.0       │\n",
       "│ plain carbon ┆      ┆      ┆       ┆   ┆              ┆              ┆             ┆             │\n",
       "│ steel        ┆      ┆      ┆       ┆   ┆              ┆              ┆             ┆             │\n",
       "│ 1,15%C -     ┆ 1.15 ┆ 0.58 ┆ 0.012 ┆ … ┆ 525          ┆ 685          ┆ 86400       ┆ 700.0       │\n",
       "│ plain carbon ┆      ┆      ┆       ┆   ┆              ┆              ┆             ┆             │\n",
       "│ steel        ┆      ┆      ┆       ┆   ┆              ┆              ┆             ┆             │\n",
       "└──────────────┴──────┴──────┴───────┴───┴──────────────┴──────────────┴─────────────┴─────────────┘"
      ]
     },
     "execution_count": 138,
     "metadata": {},
     "output_type": "execute_result"
    }
   ],
   "source": [
    "data = pl.read_csv(f'{resources_path.parent}/all_cols_post_scrape.csv')\n",
    "print(data.shape)\n",
    "data.tail(3)"
   ]
  },
  {
   "cell_type": "markdown",
   "metadata": {},
   "source": [
    "# Select columns that have relevant data for the analysis\n",
    "\n",
    "Exclude:\n",
    "* Source data - does not provide information about the problem\n",
    "* initial hardness - very incomplete data and no accurate way to fill it\n",
    "* searchable -  contains more information than searchable, but is likely relipcated in elemental\n",
    "  * Searchable contains fewer values, this grouping was used to scrape the strength values and contains no additional information\n",
    "  * steel_type contains steel denotation from the papers. The informationa in this column is replicated in the elemental composition columns\n",
    "  * PCA will handle this\n"
   ]
  },
  {
   "cell_type": "markdown",
   "metadata": {},
   "source": [
    "# Preprocessing the data for machine learning"
   ]
  },
  {
   "cell_type": "code",
   "execution_count": 139,
   "metadata": {},
   "outputs": [],
   "source": [
    "target_columns = ['final_hardness_post_tempering_HRC']\n",
    "\n",
    "X_prepre = data.drop(target_columns)\n",
    "\n",
    "y_prepre = data.select(target_columns)"
   ]
  },
  {
   "cell_type": "code",
   "execution_count": 140,
   "metadata": {},
   "outputs": [
    {
     "data": {
      "text/html": [
       "<div><style>\n",
       ".dataframe > thead > tr,\n",
       ".dataframe > tbody > tr {\n",
       "  text-align: right;\n",
       "  white-space: pre-wrap;\n",
       "}\n",
       "</style>\n",
       "<small>shape: (3, 1)</small><table border=\"1\" class=\"dataframe\"><thead><tr><th>final_hardness_post_tempering_HRC</th></tr><tr><td>f64</td></tr></thead><tbody><tr><td>50.6</td></tr><tr><td>48.3</td></tr><tr><td>43.7</td></tr></tbody></table></div>"
      ],
      "text/plain": [
       "shape: (3, 1)\n",
       "┌─────────────────────────────────┐\n",
       "│ final_hardness_post_tempering_… │\n",
       "│ ---                             │\n",
       "│ f64                             │\n",
       "╞═════════════════════════════════╡\n",
       "│ 50.6                            │\n",
       "│ 48.3                            │\n",
       "│ 43.7                            │\n",
       "└─────────────────────────────────┘"
      ]
     },
     "execution_count": 140,
     "metadata": {},
     "output_type": "execute_result"
    }
   ],
   "source": [
    "y_prepre.head(3)"
   ]
  },
  {
   "cell_type": "code",
   "execution_count": 141,
   "metadata": {},
   "outputs": [
    {
     "data": {
      "text/html": [
       "<div><style>\n",
       ".dataframe > thead > tr,\n",
       ".dataframe > tbody > tr {\n",
       "  text-align: right;\n",
       "  white-space: pre-wrap;\n",
       "}\n",
       "</style>\n",
       "<small>shape: (9, 2)</small><table border=\"1\" class=\"dataframe\"><thead><tr><th>statistic</th><th>final_hardness_post_tempering_HRC</th></tr><tr><td>str</td><td>f64</td></tr></thead><tbody><tr><td>&quot;count&quot;</td><td>1286.0</td></tr><tr><td>&quot;null_count&quot;</td><td>0.0</td></tr><tr><td>&quot;mean&quot;</td><td>41.810653</td></tr><tr><td>&quot;std&quot;</td><td>14.373455</td></tr><tr><td>&quot;min&quot;</td><td>0.9</td></tr><tr><td>&quot;25%&quot;</td><td>32.5</td></tr><tr><td>&quot;50%&quot;</td><td>43.6</td></tr><tr><td>&quot;75%&quot;</td><td>52.3</td></tr><tr><td>&quot;max&quot;</td><td>68.5</td></tr></tbody></table></div>"
      ],
      "text/plain": [
       "shape: (9, 2)\n",
       "┌────────────┬─────────────────────────────────┐\n",
       "│ statistic  ┆ final_hardness_post_tempering_… │\n",
       "│ ---        ┆ ---                             │\n",
       "│ str        ┆ f64                             │\n",
       "╞════════════╪═════════════════════════════════╡\n",
       "│ count      ┆ 1286.0                          │\n",
       "│ null_count ┆ 0.0                             │\n",
       "│ mean       ┆ 41.810653                       │\n",
       "│ std        ┆ 14.373455                       │\n",
       "│ min        ┆ 0.9                             │\n",
       "│ 25%        ┆ 32.5                            │\n",
       "│ 50%        ┆ 43.6                            │\n",
       "│ 75%        ┆ 52.3                            │\n",
       "│ max        ┆ 68.5                            │\n",
       "└────────────┴─────────────────────────────────┘"
      ]
     },
     "execution_count": 141,
     "metadata": {},
     "output_type": "execute_result"
    }
   ],
   "source": [
    "y_prepre.describe()"
   ]
  },
  {
   "cell_type": "markdown",
   "metadata": {},
   "source": [
    "# Preprocess target values\n",
    "\n",
    "Target values are continuious.\n",
    "\n",
    "Scaling provides a approximately 1% improvement of R-squared values\n",
    "\n",
    "Creating a y-scaler will allow me to inverse scale the model results "
   ]
  },
  {
   "cell_type": "code",
   "execution_count": 142,
   "metadata": {},
   "outputs": [],
   "source": [
    "y_scaler = StandardScaler()\n",
    "\n",
    "y_scaler.fit(y_prepre)\n",
    "\n",
    "y = y_scaler.transform(y_prepre)"
   ]
  },
  {
   "cell_type": "markdown",
   "metadata": {},
   "source": [
    "# Preprocess data values"
   ]
  },
  {
   "cell_type": "code",
   "execution_count": 143,
   "metadata": {},
   "outputs": [
    {
     "name": "stdout",
     "output_type": "stream",
     "text": [
      "(1286, 16)\n"
     ]
    },
    {
     "data": {
      "text/html": [
       "<div><style>\n",
       ".dataframe > thead > tr,\n",
       ".dataframe > tbody > tr {\n",
       "  text-align: right;\n",
       "  white-space: pre-wrap;\n",
       "}\n",
       "</style>\n",
       "<small>shape: (3, 16)</small><table border=\"1\" class=\"dataframe\"><thead><tr><th>steel_type</th><th>C</th><th>Mn</th><th>P</th><th>S</th><th>Si</th><th>Ni</th><th>Cr</th><th>Mo</th><th>V</th><th>Al</th><th>Cu</th><th>yield_strength_MPa</th><th>ultimate_strength_MPA</th><th>tempering_time_s</th><th>tempering_temperature_C</th></tr><tr><td>str</td><td>f64</td><td>f64</td><td>f64</td><td>f64</td><td>f64</td><td>f64</td><td>f64</td><td>f64</td><td>f64</td><td>f64</td><td>f64</td><td>i64</td><td>i64</td><td>i64</td><td>f64</td></tr></thead><tbody><tr><td>&quot;AISI-SAE 1026&quot;</td><td>0.25</td><td>0.79</td><td>0.012</td><td>0.026</td><td>0.11</td><td>0.0</td><td>0.0</td><td>0.0</td><td>0.0</td><td>0.0</td><td>0.0</td><td>415</td><td>490</td><td>600</td><td>204.4</td></tr><tr><td>&quot;AISI-SAE 1026&quot;</td><td>0.25</td><td>0.79</td><td>0.012</td><td>0.026</td><td>0.11</td><td>0.0</td><td>0.0</td><td>0.0</td><td>0.0</td><td>0.0</td><td>0.0</td><td>415</td><td>490</td><td>600</td><td>260.0</td></tr><tr><td>&quot;AISI-SAE 1026&quot;</td><td>0.25</td><td>0.79</td><td>0.012</td><td>0.026</td><td>0.11</td><td>0.0</td><td>0.0</td><td>0.0</td><td>0.0</td><td>0.0</td><td>0.0</td><td>415</td><td>490</td><td>600</td><td>315.6</td></tr></tbody></table></div>"
      ],
      "text/plain": [
       "shape: (3, 16)\n",
       "┌──────────────┬──────┬──────┬───────┬───┬──────────────┬──────────────┬─────────────┬─────────────┐\n",
       "│ steel_type   ┆ C    ┆ Mn   ┆ P     ┆ … ┆ yield_streng ┆ ultimate_str ┆ tempering_t ┆ tempering_t │\n",
       "│ ---          ┆ ---  ┆ ---  ┆ ---   ┆   ┆ th_MPa       ┆ ength_MPA    ┆ ime_s       ┆ emperature_ │\n",
       "│ str          ┆ f64  ┆ f64  ┆ f64   ┆   ┆ ---          ┆ ---          ┆ ---         ┆ C           │\n",
       "│              ┆      ┆      ┆       ┆   ┆ i64          ┆ i64          ┆ i64         ┆ ---         │\n",
       "│              ┆      ┆      ┆       ┆   ┆              ┆              ┆             ┆ f64         │\n",
       "╞══════════════╪══════╪══════╪═══════╪═══╪══════════════╪══════════════╪═════════════╪═════════════╡\n",
       "│ AISI-SAE     ┆ 0.25 ┆ 0.79 ┆ 0.012 ┆ … ┆ 415          ┆ 490          ┆ 600         ┆ 204.4       │\n",
       "│ 1026         ┆      ┆      ┆       ┆   ┆              ┆              ┆             ┆             │\n",
       "│ AISI-SAE     ┆ 0.25 ┆ 0.79 ┆ 0.012 ┆ … ┆ 415          ┆ 490          ┆ 600         ┆ 260.0       │\n",
       "│ 1026         ┆      ┆      ┆       ┆   ┆              ┆              ┆             ┆             │\n",
       "│ AISI-SAE     ┆ 0.25 ┆ 0.79 ┆ 0.012 ┆ … ┆ 415          ┆ 490          ┆ 600         ┆ 315.6       │\n",
       "│ 1026         ┆      ┆      ┆       ┆   ┆              ┆              ┆             ┆             │\n",
       "└──────────────┴──────┴──────┴───────┴───┴──────────────┴──────────────┴─────────────┴─────────────┘"
      ]
     },
     "execution_count": 143,
     "metadata": {},
     "output_type": "execute_result"
    }
   ],
   "source": [
    "print(X_prepre.shape)\n",
    "X_prepre.head(3)"
   ]
  },
  {
   "cell_type": "markdown",
   "metadata": {},
   "source": [
    "# Encode and scale variables\n",
    "\n",
    "Most columns are numeric and range from 0.0# to 1000 so scaling is necessary\n",
    "\n",
    "Steel names are categorical and would benefit from one-hot encoding.\n",
    "\n",
    "A pipeline would be best here, to allow introduction of new rows, but this is an exploratory project.\n"
   ]
  },
  {
   "cell_type": "code",
   "execution_count": 150,
   "metadata": {},
   "outputs": [],
   "source": [
    "to_scale = X_prepre.drop('steel_type')\n",
    "check_onehot = X_prepre.select('steel_type')"
   ]
  },
  {
   "cell_type": "markdown",
   "metadata": {},
   "source": [
    "## One hot encode steel types\n",
    "\n",
    "Encoding chosen because this is a categorical for a given material and testing suite\n",
    "\n",
    "### Unify steel names so there is only 1 column per steel code"
   ]
  },
  {
   "cell_type": "code",
   "execution_count": 151,
   "metadata": {},
   "outputs": [
    {
     "name": "stdout",
     "output_type": "stream",
     "text": [
      "30\n",
      "AISI 1030\n",
      "AISI-SAE 5140\n",
      "AISI 1055\n",
      "AISI-SAE 1042\n",
      "AISI 1074 Carbon Steel\n",
      "AISI 4640\n",
      "AISI 1049\n",
      "AISI-SAE 9254\n",
      "AISI 6145\n",
      "AISI-SAE 1026\n",
      "AISI-SAE 1050\n",
      "AISI-SAE 5160\n",
      "AISI 52100\n",
      "AISI-SAE 1035\n",
      "AISI-SAE 4027\n",
      "AISI-SAE 1038\n",
      "AISI-SAE 1040\n",
      "AISI 1090\n",
      "AISI-SAE 4140\n",
      "AISI-SAE 1045\n",
      "AISI 1095\n",
      "AISI-SAE 4037\n",
      "AISI 4047\n",
      "AISI-SAE 6150\n",
      "AISI-SAE 1065\n",
      "AISI-SAE 1335\n",
      "AISI-SAE 4340\n",
      "AISI-SAE 1080\n",
      "28\n"
     ]
    }
   ],
   "source": [
    "print(len(check_onehot.unique()))\n",
    "# correct duplicate name \n",
    "dict_rename.update({'AISI-SAE 1030': \"AISI 1030\"})\n",
    "to_onehot = check_onehot['steel_type']\\\n",
    "    .replace(dict_rename)\\\n",
    "    .str.strip_chars()\n",
    "[print(val) for val in to_onehot.unique()]\n",
    "print(len(to_onehot.unique()))"
   ]
  },
  {
   "cell_type": "code",
   "execution_count": 152,
   "metadata": {},
   "outputs": [
    {
     "data": {
      "text/plain": [
       "(1286, 1)"
      ]
     },
     "execution_count": 152,
     "metadata": {},
     "output_type": "execute_result"
    }
   ],
   "source": [
    "to_onehot = pl.DataFrame(to_onehot)\n",
    "to_onehot.shape"
   ]
  },
  {
   "cell_type": "code",
   "execution_count": 153,
   "metadata": {},
   "outputs": [
    {
     "data": {
      "text/html": [
       "<div><style>\n",
       ".dataframe > thead > tr,\n",
       ".dataframe > tbody > tr {\n",
       "  text-align: right;\n",
       "  white-space: pre-wrap;\n",
       "}\n",
       "</style>\n",
       "<small>shape: (3, 28)</small><table border=\"1\" class=\"dataframe\"><thead><tr><th>steel_type_AISI 1030</th><th>steel_type_AISI 1049</th><th>steel_type_AISI 1055</th><th>steel_type_AISI 1074 Carbon Steel</th><th>steel_type_AISI 1090</th><th>steel_type_AISI 1095</th><th>steel_type_AISI 4047</th><th>steel_type_AISI 4640</th><th>steel_type_AISI 52100</th><th>steel_type_AISI 6145</th><th>steel_type_AISI-SAE 1026</th><th>steel_type_AISI-SAE 1035</th><th>steel_type_AISI-SAE 1038</th><th>steel_type_AISI-SAE 1040</th><th>steel_type_AISI-SAE 1042</th><th>steel_type_AISI-SAE 1045</th><th>steel_type_AISI-SAE 1050</th><th>steel_type_AISI-SAE 1065</th><th>steel_type_AISI-SAE 1080</th><th>steel_type_AISI-SAE 1335</th><th>steel_type_AISI-SAE 4027</th><th>steel_type_AISI-SAE 4037</th><th>steel_type_AISI-SAE 4140</th><th>steel_type_AISI-SAE 4340</th><th>steel_type_AISI-SAE 5140</th><th>steel_type_AISI-SAE 5160</th><th>steel_type_AISI-SAE 6150</th><th>steel_type_AISI-SAE 9254</th></tr><tr><td>f64</td><td>f64</td><td>f64</td><td>f64</td><td>f64</td><td>f64</td><td>f64</td><td>f64</td><td>f64</td><td>f64</td><td>f64</td><td>f64</td><td>f64</td><td>f64</td><td>f64</td><td>f64</td><td>f64</td><td>f64</td><td>f64</td><td>f64</td><td>f64</td><td>f64</td><td>f64</td><td>f64</td><td>f64</td><td>f64</td><td>f64</td><td>f64</td></tr></thead><tbody><tr><td>0.0</td><td>0.0</td><td>0.0</td><td>0.0</td><td>0.0</td><td>1.0</td><td>0.0</td><td>0.0</td><td>0.0</td><td>0.0</td><td>0.0</td><td>0.0</td><td>0.0</td><td>0.0</td><td>0.0</td><td>0.0</td><td>0.0</td><td>0.0</td><td>0.0</td><td>0.0</td><td>0.0</td><td>0.0</td><td>0.0</td><td>0.0</td><td>0.0</td><td>0.0</td><td>0.0</td><td>0.0</td></tr><tr><td>0.0</td><td>0.0</td><td>0.0</td><td>0.0</td><td>0.0</td><td>1.0</td><td>0.0</td><td>0.0</td><td>0.0</td><td>0.0</td><td>0.0</td><td>0.0</td><td>0.0</td><td>0.0</td><td>0.0</td><td>0.0</td><td>0.0</td><td>0.0</td><td>0.0</td><td>0.0</td><td>0.0</td><td>0.0</td><td>0.0</td><td>0.0</td><td>0.0</td><td>0.0</td><td>0.0</td><td>0.0</td></tr><tr><td>0.0</td><td>0.0</td><td>0.0</td><td>0.0</td><td>0.0</td><td>1.0</td><td>0.0</td><td>0.0</td><td>0.0</td><td>0.0</td><td>0.0</td><td>0.0</td><td>0.0</td><td>0.0</td><td>0.0</td><td>0.0</td><td>0.0</td><td>0.0</td><td>0.0</td><td>0.0</td><td>0.0</td><td>0.0</td><td>0.0</td><td>0.0</td><td>0.0</td><td>0.0</td><td>0.0</td><td>0.0</td></tr></tbody></table></div>"
      ],
      "text/plain": [
       "shape: (3, 28)\n",
       "┌───────────┬───────────┬───────────┬───────────┬───┬───────────┬───────────┬───────────┬──────────┐\n",
       "│ steel_typ ┆ steel_typ ┆ steel_typ ┆ steel_typ ┆ … ┆ steel_typ ┆ steel_typ ┆ steel_typ ┆ steel_ty │\n",
       "│ e_AISI    ┆ e_AISI    ┆ e_AISI    ┆ e_AISI    ┆   ┆ e_AISI-SA ┆ e_AISI-SA ┆ e_AISI-SA ┆ pe_AISI- │\n",
       "│ 1030      ┆ 1049      ┆ 1055      ┆ 1074      ┆   ┆ E 5140    ┆ E 5160    ┆ E 6150    ┆ SAE 9254 │\n",
       "│ ---       ┆ ---       ┆ ---       ┆ Carbon    ┆   ┆ ---       ┆ ---       ┆ ---       ┆ ---      │\n",
       "│ f64       ┆ f64       ┆ f64       ┆ St…       ┆   ┆ f64       ┆ f64       ┆ f64       ┆ f64      │\n",
       "│           ┆           ┆           ┆ ---       ┆   ┆           ┆           ┆           ┆          │\n",
       "│           ┆           ┆           ┆ f64       ┆   ┆           ┆           ┆           ┆          │\n",
       "╞═══════════╪═══════════╪═══════════╪═══════════╪═══╪═══════════╪═══════════╪═══════════╪══════════╡\n",
       "│ 0.0       ┆ 0.0       ┆ 0.0       ┆ 0.0       ┆ … ┆ 0.0       ┆ 0.0       ┆ 0.0       ┆ 0.0      │\n",
       "│ 0.0       ┆ 0.0       ┆ 0.0       ┆ 0.0       ┆ … ┆ 0.0       ┆ 0.0       ┆ 0.0       ┆ 0.0      │\n",
       "│ 0.0       ┆ 0.0       ┆ 0.0       ┆ 0.0       ┆ … ┆ 0.0       ┆ 0.0       ┆ 0.0       ┆ 0.0      │\n",
       "└───────────┴───────────┴───────────┴───────────┴───┴───────────┴───────────┴───────────┴──────────┘"
      ]
     },
     "execution_count": 153,
     "metadata": {},
     "output_type": "execute_result"
    }
   ],
   "source": [
    "# create the transformers\n",
    "ohe = OneHotEncoder(handle_unknown='ignore')\n",
    "\n",
    "oh_transformed = ohe.fit_transform(to_onehot)\n",
    "\n",
    "# get the transformed column names\n",
    "ohe_names = ohe.get_feature_names_out()\n",
    "\n",
    "# 4 stack exchange methods tried. Then I made this one up ¯\\_(ツ)_/¯\n",
    "# Combinated of recenly changed API and polars I think, no way to rename all columns like in pandas.\n",
    "columns = [f'column_{x}' for x in range(0, 30)]\n",
    "rename_dict = dict(zip(columns, ohe_names))\n",
    "\n",
    "df_ohe_encoded = pl.DataFrame(oh_transformed.toarray()).rename(rename_dict)\n",
    "df_ohe_encoded.tail(3)"
   ]
  },
  {
   "cell_type": "markdown",
   "metadata": {},
   "source": [
    "## Scale numerical columns \n",
    "This will ensure the small elemental composition values are not overshadowed by the large strength properties "
   ]
  },
  {
   "cell_type": "code",
   "execution_count": 154,
   "metadata": {},
   "outputs": [
    {
     "data": {
      "text/html": [
       "<div><style>\n",
       ".dataframe > thead > tr,\n",
       ".dataframe > tbody > tr {\n",
       "  text-align: right;\n",
       "  white-space: pre-wrap;\n",
       "}\n",
       "</style>\n",
       "<small>shape: (3, 15)</small><table border=\"1\" class=\"dataframe\"><thead><tr><th>C</th><th>Mn</th><th>P</th><th>S</th><th>Si</th><th>Ni</th><th>Cr</th><th>Mo</th><th>V</th><th>Al</th><th>Cu</th><th>yield_strength_MPa</th><th>ultimate_strength_MPA</th><th>tempering_time_s</th><th>tempering_temperature_C</th></tr><tr><td>f64</td><td>f64</td><td>f64</td><td>f64</td><td>f64</td><td>f64</td><td>f64</td><td>f64</td><td>f64</td><td>f64</td><td>f64</td><td>i64</td><td>i64</td><td>i64</td><td>f64</td></tr></thead><tbody><tr><td>1.15</td><td>0.58</td><td>0.012</td><td>0.021</td><td>0.09</td><td>0.0</td><td>0.01</td><td>0.0</td><td>0.0</td><td>0.0</td><td>0.0</td><td>525</td><td>685</td><td>86400</td><td>500.0</td></tr><tr><td>1.15</td><td>0.58</td><td>0.012</td><td>0.021</td><td>0.09</td><td>0.0</td><td>0.01</td><td>0.0</td><td>0.0</td><td>0.0</td><td>0.0</td><td>525</td><td>685</td><td>86400</td><td>600.0</td></tr><tr><td>1.15</td><td>0.58</td><td>0.012</td><td>0.021</td><td>0.09</td><td>0.0</td><td>0.01</td><td>0.0</td><td>0.0</td><td>0.0</td><td>0.0</td><td>525</td><td>685</td><td>86400</td><td>700.0</td></tr></tbody></table></div>"
      ],
      "text/plain": [
       "shape: (3, 15)\n",
       "┌──────┬──────┬───────┬───────┬───┬────────────────┬───────────────┬───────────────┬───────────────┐\n",
       "│ C    ┆ Mn   ┆ P     ┆ S     ┆ … ┆ yield_strength ┆ ultimate_stre ┆ tempering_tim ┆ tempering_tem │\n",
       "│ ---  ┆ ---  ┆ ---   ┆ ---   ┆   ┆ _MPa           ┆ ngth_MPA      ┆ e_s           ┆ perature_C    │\n",
       "│ f64  ┆ f64  ┆ f64   ┆ f64   ┆   ┆ ---            ┆ ---           ┆ ---           ┆ ---           │\n",
       "│      ┆      ┆       ┆       ┆   ┆ i64            ┆ i64           ┆ i64           ┆ f64           │\n",
       "╞══════╪══════╪═══════╪═══════╪═══╪════════════════╪═══════════════╪═══════════════╪═══════════════╡\n",
       "│ 1.15 ┆ 0.58 ┆ 0.012 ┆ 0.021 ┆ … ┆ 525            ┆ 685           ┆ 86400         ┆ 500.0         │\n",
       "│ 1.15 ┆ 0.58 ┆ 0.012 ┆ 0.021 ┆ … ┆ 525            ┆ 685           ┆ 86400         ┆ 600.0         │\n",
       "│ 1.15 ┆ 0.58 ┆ 0.012 ┆ 0.021 ┆ … ┆ 525            ┆ 685           ┆ 86400         ┆ 700.0         │\n",
       "└──────┴──────┴───────┴───────┴───┴────────────────┴───────────────┴───────────────┴───────────────┘"
      ]
     },
     "execution_count": 154,
     "metadata": {},
     "output_type": "execute_result"
    }
   ],
   "source": [
    "to_scale.tail(3)"
   ]
  },
  {
   "cell_type": "code",
   "execution_count": 155,
   "metadata": {},
   "outputs": [
    {
     "data": {
      "text/html": [
       "<div><style>\n",
       ".dataframe > thead > tr,\n",
       ".dataframe > tbody > tr {\n",
       "  text-align: right;\n",
       "  white-space: pre-wrap;\n",
       "}\n",
       "</style>\n",
       "<small>shape: (3, 15)</small><table border=\"1\" class=\"dataframe\"><thead><tr><th>C</th><th>Mn</th><th>P</th><th>S</th><th>Si</th><th>Ni</th><th>Cr</th><th>Mo</th><th>V</th><th>Al</th><th>Cu</th><th>yield_strength_MPa</th><th>ultimate_strength_MPA</th><th>tempering_time_s</th><th>column_14</th></tr><tr><td>f64</td><td>f64</td><td>f64</td><td>f64</td><td>f64</td><td>f64</td><td>f64</td><td>f64</td><td>f64</td><td>f64</td><td>f64</td><td>f64</td><td>f64</td><td>f64</td><td>f64</td></tr></thead><tbody><tr><td>2.69532</td><td>-0.618793</td><td>-0.60703</td><td>-0.394811</td><td>-0.591857</td><td>-0.392117</td><td>-0.791743</td><td>-0.638219</td><td>-0.201129</td><td>0.0</td><td>-0.337311</td><td>0.188703</td><td>-0.105424</td><td>1.89775</td><td>0.467987</td></tr><tr><td>2.69532</td><td>-0.618793</td><td>-0.60703</td><td>-0.394811</td><td>-0.591857</td><td>-0.392117</td><td>-0.791743</td><td>-0.638219</td><td>-0.201129</td><td>0.0</td><td>-0.337311</td><td>0.188703</td><td>-0.105424</td><td>1.89775</td><td>1.028689</td></tr><tr><td>2.69532</td><td>-0.618793</td><td>-0.60703</td><td>-0.394811</td><td>-0.591857</td><td>-0.392117</td><td>-0.791743</td><td>-0.638219</td><td>-0.201129</td><td>0.0</td><td>-0.337311</td><td>0.188703</td><td>-0.105424</td><td>1.89775</td><td>1.589391</td></tr></tbody></table></div>"
      ],
      "text/plain": [
       "shape: (3, 15)\n",
       "┌─────────┬───────────┬──────────┬───────────┬───┬────────────┬────────────┬───────────┬───────────┐\n",
       "│ C       ┆ Mn        ┆ P        ┆ S         ┆ … ┆ yield_stre ┆ ultimate_s ┆ tempering ┆ column_14 │\n",
       "│ ---     ┆ ---       ┆ ---      ┆ ---       ┆   ┆ ngth_MPa   ┆ trength_MP ┆ _time_s   ┆ ---       │\n",
       "│ f64     ┆ f64       ┆ f64      ┆ f64       ┆   ┆ ---        ┆ A          ┆ ---       ┆ f64       │\n",
       "│         ┆           ┆          ┆           ┆   ┆ f64        ┆ ---        ┆ f64       ┆           │\n",
       "│         ┆           ┆          ┆           ┆   ┆            ┆ f64        ┆           ┆           │\n",
       "╞═════════╪═══════════╪══════════╪═══════════╪═══╪════════════╪════════════╪═══════════╪═══════════╡\n",
       "│ 2.69532 ┆ -0.618793 ┆ -0.60703 ┆ -0.394811 ┆ … ┆ 0.188703   ┆ -0.105424  ┆ 1.89775   ┆ 0.467987  │\n",
       "│ 2.69532 ┆ -0.618793 ┆ -0.60703 ┆ -0.394811 ┆ … ┆ 0.188703   ┆ -0.105424  ┆ 1.89775   ┆ 1.028689  │\n",
       "│ 2.69532 ┆ -0.618793 ┆ -0.60703 ┆ -0.394811 ┆ … ┆ 0.188703   ┆ -0.105424  ┆ 1.89775   ┆ 1.589391  │\n",
       "└─────────┴───────────┴──────────┴───────────┴───┴────────────┴────────────┴───────────┴───────────┘"
      ]
     },
     "execution_count": 155,
     "metadata": {},
     "output_type": "execute_result"
    }
   ],
   "source": [
    "scaler = StandardScaler()\n",
    "\n",
    "X_scaler = scaler.fit(to_scale)\n",
    "\n",
    "scaled = scaler.transform(to_scale)\n",
    "\n",
    "scaler_names = scaler.get_feature_names_out()\n",
    "columns = [f'column_{x}' for x in range(0, 14)]\n",
    "rename_dict = dict(zip(columns, scaler_names))\n",
    "\n",
    "df_scaled = pl.DataFrame(scaled).rename(rename_dict)\n",
    "df_scaled.tail(3)\n"
   ]
  },
  {
   "cell_type": "markdown",
   "metadata": {},
   "source": [
    "## Merge one hot encoded variables with scaled numeric variables"
   ]
  },
  {
   "cell_type": "code",
   "execution_count": 156,
   "metadata": {},
   "outputs": [
    {
     "data": {
      "text/html": [
       "<div><style>\n",
       ".dataframe > thead > tr,\n",
       ".dataframe > tbody > tr {\n",
       "  text-align: right;\n",
       "  white-space: pre-wrap;\n",
       "}\n",
       "</style>\n",
       "<small>shape: (1_286, 43)</small><table border=\"1\" class=\"dataframe\"><thead><tr><th>steel_type_AISI 1030</th><th>steel_type_AISI 1049</th><th>steel_type_AISI 1055</th><th>steel_type_AISI 1074 Carbon Steel</th><th>steel_type_AISI 1090</th><th>steel_type_AISI 1095</th><th>steel_type_AISI 4047</th><th>steel_type_AISI 4640</th><th>steel_type_AISI 52100</th><th>steel_type_AISI 6145</th><th>steel_type_AISI-SAE 1026</th><th>steel_type_AISI-SAE 1035</th><th>steel_type_AISI-SAE 1038</th><th>steel_type_AISI-SAE 1040</th><th>steel_type_AISI-SAE 1042</th><th>steel_type_AISI-SAE 1045</th><th>steel_type_AISI-SAE 1050</th><th>steel_type_AISI-SAE 1065</th><th>steel_type_AISI-SAE 1080</th><th>steel_type_AISI-SAE 1335</th><th>steel_type_AISI-SAE 4027</th><th>steel_type_AISI-SAE 4037</th><th>steel_type_AISI-SAE 4140</th><th>steel_type_AISI-SAE 4340</th><th>steel_type_AISI-SAE 5140</th><th>steel_type_AISI-SAE 5160</th><th>steel_type_AISI-SAE 6150</th><th>steel_type_AISI-SAE 9254</th><th>C</th><th>Mn</th><th>P</th><th>S</th><th>Si</th><th>Ni</th><th>Cr</th><th>Mo</th><th>V</th><th>Al</th><th>Cu</th><th>yield_strength_MPa</th><th>ultimate_strength_MPA</th><th>tempering_time_s</th><th>column_14</th></tr><tr><td>f64</td><td>f64</td><td>f64</td><td>f64</td><td>f64</td><td>f64</td><td>f64</td><td>f64</td><td>f64</td><td>f64</td><td>f64</td><td>f64</td><td>f64</td><td>f64</td><td>f64</td><td>f64</td><td>f64</td><td>f64</td><td>f64</td><td>f64</td><td>f64</td><td>f64</td><td>f64</td><td>f64</td><td>f64</td><td>f64</td><td>f64</td><td>f64</td><td>f64</td><td>f64</td><td>f64</td><td>f64</td><td>f64</td><td>f64</td><td>f64</td><td>f64</td><td>f64</td><td>f64</td><td>f64</td><td>f64</td><td>f64</td><td>f64</td><td>f64</td></tr></thead><tbody><tr><td>0.0</td><td>0.0</td><td>0.0</td><td>0.0</td><td>0.0</td><td>0.0</td><td>0.0</td><td>0.0</td><td>0.0</td><td>0.0</td><td>1.0</td><td>0.0</td><td>0.0</td><td>0.0</td><td>0.0</td><td>0.0</td><td>0.0</td><td>0.0</td><td>0.0</td><td>0.0</td><td>0.0</td><td>0.0</td><td>0.0</td><td>0.0</td><td>0.0</td><td>0.0</td><td>0.0</td><td>0.0</td><td>-1.155898</td><td>0.167872</td><td>-0.60703</td><td>0.268364</td><td>-0.513467</td><td>-0.392117</td><td>-0.813526</td><td>-0.638219</td><td>-0.201129</td><td>0.0</td><td>-0.337311</td><td>-0.342255</td><td>-1.009596</td><td>-0.617861</td><td>-1.189448</td></tr><tr><td>0.0</td><td>0.0</td><td>0.0</td><td>0.0</td><td>0.0</td><td>0.0</td><td>0.0</td><td>0.0</td><td>0.0</td><td>0.0</td><td>1.0</td><td>0.0</td><td>0.0</td><td>0.0</td><td>0.0</td><td>0.0</td><td>0.0</td><td>0.0</td><td>0.0</td><td>0.0</td><td>0.0</td><td>0.0</td><td>0.0</td><td>0.0</td><td>0.0</td><td>0.0</td><td>0.0</td><td>0.0</td><td>-1.155898</td><td>0.167872</td><td>-0.60703</td><td>0.268364</td><td>-0.513467</td><td>-0.392117</td><td>-0.813526</td><td>-0.638219</td><td>-0.201129</td><td>0.0</td><td>-0.337311</td><td>-0.342255</td><td>-1.009596</td><td>-0.617861</td><td>-0.877697</td></tr><tr><td>0.0</td><td>0.0</td><td>0.0</td><td>0.0</td><td>0.0</td><td>0.0</td><td>0.0</td><td>0.0</td><td>0.0</td><td>0.0</td><td>1.0</td><td>0.0</td><td>0.0</td><td>0.0</td><td>0.0</td><td>0.0</td><td>0.0</td><td>0.0</td><td>0.0</td><td>0.0</td><td>0.0</td><td>0.0</td><td>0.0</td><td>0.0</td><td>0.0</td><td>0.0</td><td>0.0</td><td>0.0</td><td>-1.155898</td><td>0.167872</td><td>-0.60703</td><td>0.268364</td><td>-0.513467</td><td>-0.392117</td><td>-0.813526</td><td>-0.638219</td><td>-0.201129</td><td>0.0</td><td>-0.337311</td><td>-0.342255</td><td>-1.009596</td><td>-0.617861</td><td>-0.565947</td></tr><tr><td>0.0</td><td>0.0</td><td>0.0</td><td>0.0</td><td>0.0</td><td>0.0</td><td>0.0</td><td>0.0</td><td>0.0</td><td>0.0</td><td>1.0</td><td>0.0</td><td>0.0</td><td>0.0</td><td>0.0</td><td>0.0</td><td>0.0</td><td>0.0</td><td>0.0</td><td>0.0</td><td>0.0</td><td>0.0</td><td>0.0</td><td>0.0</td><td>0.0</td><td>0.0</td><td>0.0</td><td>0.0</td><td>-1.155898</td><td>0.167872</td><td>-0.60703</td><td>0.268364</td><td>-0.513467</td><td>-0.392117</td><td>-0.813526</td><td>-0.638219</td><td>-0.201129</td><td>0.0</td><td>-0.337311</td><td>-0.342255</td><td>-1.009596</td><td>-0.617861</td><td>-0.254758</td></tr><tr><td>0.0</td><td>0.0</td><td>0.0</td><td>0.0</td><td>0.0</td><td>0.0</td><td>0.0</td><td>0.0</td><td>0.0</td><td>0.0</td><td>1.0</td><td>0.0</td><td>0.0</td><td>0.0</td><td>0.0</td><td>0.0</td><td>0.0</td><td>0.0</td><td>0.0</td><td>0.0</td><td>0.0</td><td>0.0</td><td>0.0</td><td>0.0</td><td>0.0</td><td>0.0</td><td>0.0</td><td>0.0</td><td>-1.155898</td><td>0.167872</td><td>-0.60703</td><td>0.268364</td><td>-0.513467</td><td>-0.392117</td><td>-0.813526</td><td>-0.638219</td><td>-0.201129</td><td>0.0</td><td>-0.337311</td><td>-0.342255</td><td>-1.009596</td><td>-0.617861</td><td>0.056993</td></tr><tr><td>&hellip;</td><td>&hellip;</td><td>&hellip;</td><td>&hellip;</td><td>&hellip;</td><td>&hellip;</td><td>&hellip;</td><td>&hellip;</td><td>&hellip;</td><td>&hellip;</td><td>&hellip;</td><td>&hellip;</td><td>&hellip;</td><td>&hellip;</td><td>&hellip;</td><td>&hellip;</td><td>&hellip;</td><td>&hellip;</td><td>&hellip;</td><td>&hellip;</td><td>&hellip;</td><td>&hellip;</td><td>&hellip;</td><td>&hellip;</td><td>&hellip;</td><td>&hellip;</td><td>&hellip;</td><td>&hellip;</td><td>&hellip;</td><td>&hellip;</td><td>&hellip;</td><td>&hellip;</td><td>&hellip;</td><td>&hellip;</td><td>&hellip;</td><td>&hellip;</td><td>&hellip;</td><td>&hellip;</td><td>&hellip;</td><td>&hellip;</td><td>&hellip;</td><td>&hellip;</td><td>&hellip;</td></tr><tr><td>0.0</td><td>0.0</td><td>0.0</td><td>0.0</td><td>0.0</td><td>1.0</td><td>0.0</td><td>0.0</td><td>0.0</td><td>0.0</td><td>0.0</td><td>0.0</td><td>0.0</td><td>0.0</td><td>0.0</td><td>0.0</td><td>0.0</td><td>0.0</td><td>0.0</td><td>0.0</td><td>0.0</td><td>0.0</td><td>0.0</td><td>0.0</td><td>0.0</td><td>0.0</td><td>0.0</td><td>0.0</td><td>2.69532</td><td>-0.618793</td><td>-0.60703</td><td>-0.394811</td><td>-0.591857</td><td>-0.392117</td><td>-0.791743</td><td>-0.638219</td><td>-0.201129</td><td>0.0</td><td>-0.337311</td><td>0.188703</td><td>-0.105424</td><td>1.89775</td><td>-0.653417</td></tr><tr><td>0.0</td><td>0.0</td><td>0.0</td><td>0.0</td><td>0.0</td><td>1.0</td><td>0.0</td><td>0.0</td><td>0.0</td><td>0.0</td><td>0.0</td><td>0.0</td><td>0.0</td><td>0.0</td><td>0.0</td><td>0.0</td><td>0.0</td><td>0.0</td><td>0.0</td><td>0.0</td><td>0.0</td><td>0.0</td><td>0.0</td><td>0.0</td><td>0.0</td><td>0.0</td><td>0.0</td><td>0.0</td><td>2.69532</td><td>-0.618793</td><td>-0.60703</td><td>-0.394811</td><td>-0.591857</td><td>-0.392117</td><td>-0.791743</td><td>-0.638219</td><td>-0.201129</td><td>0.0</td><td>-0.337311</td><td>0.188703</td><td>-0.105424</td><td>1.89775</td><td>-0.092715</td></tr><tr><td>0.0</td><td>0.0</td><td>0.0</td><td>0.0</td><td>0.0</td><td>1.0</td><td>0.0</td><td>0.0</td><td>0.0</td><td>0.0</td><td>0.0</td><td>0.0</td><td>0.0</td><td>0.0</td><td>0.0</td><td>0.0</td><td>0.0</td><td>0.0</td><td>0.0</td><td>0.0</td><td>0.0</td><td>0.0</td><td>0.0</td><td>0.0</td><td>0.0</td><td>0.0</td><td>0.0</td><td>0.0</td><td>2.69532</td><td>-0.618793</td><td>-0.60703</td><td>-0.394811</td><td>-0.591857</td><td>-0.392117</td><td>-0.791743</td><td>-0.638219</td><td>-0.201129</td><td>0.0</td><td>-0.337311</td><td>0.188703</td><td>-0.105424</td><td>1.89775</td><td>0.467987</td></tr><tr><td>0.0</td><td>0.0</td><td>0.0</td><td>0.0</td><td>0.0</td><td>1.0</td><td>0.0</td><td>0.0</td><td>0.0</td><td>0.0</td><td>0.0</td><td>0.0</td><td>0.0</td><td>0.0</td><td>0.0</td><td>0.0</td><td>0.0</td><td>0.0</td><td>0.0</td><td>0.0</td><td>0.0</td><td>0.0</td><td>0.0</td><td>0.0</td><td>0.0</td><td>0.0</td><td>0.0</td><td>0.0</td><td>2.69532</td><td>-0.618793</td><td>-0.60703</td><td>-0.394811</td><td>-0.591857</td><td>-0.392117</td><td>-0.791743</td><td>-0.638219</td><td>-0.201129</td><td>0.0</td><td>-0.337311</td><td>0.188703</td><td>-0.105424</td><td>1.89775</td><td>1.028689</td></tr><tr><td>0.0</td><td>0.0</td><td>0.0</td><td>0.0</td><td>0.0</td><td>1.0</td><td>0.0</td><td>0.0</td><td>0.0</td><td>0.0</td><td>0.0</td><td>0.0</td><td>0.0</td><td>0.0</td><td>0.0</td><td>0.0</td><td>0.0</td><td>0.0</td><td>0.0</td><td>0.0</td><td>0.0</td><td>0.0</td><td>0.0</td><td>0.0</td><td>0.0</td><td>0.0</td><td>0.0</td><td>0.0</td><td>2.69532</td><td>-0.618793</td><td>-0.60703</td><td>-0.394811</td><td>-0.591857</td><td>-0.392117</td><td>-0.791743</td><td>-0.638219</td><td>-0.201129</td><td>0.0</td><td>-0.337311</td><td>0.188703</td><td>-0.105424</td><td>1.89775</td><td>1.589391</td></tr></tbody></table></div>"
      ],
      "text/plain": [
       "shape: (1_286, 43)\n",
       "┌───────────┬───────────┬───────────┬───────────┬───┬───────────┬───────────┬───────────┬──────────┐\n",
       "│ steel_typ ┆ steel_typ ┆ steel_typ ┆ steel_typ ┆ … ┆ yield_str ┆ ultimate_ ┆ tempering ┆ column_1 │\n",
       "│ e_AISI    ┆ e_AISI    ┆ e_AISI    ┆ e_AISI    ┆   ┆ ength_MPa ┆ strength_ ┆ _time_s   ┆ 4        │\n",
       "│ 1030      ┆ 1049      ┆ 1055      ┆ 1074      ┆   ┆ ---       ┆ MPA       ┆ ---       ┆ ---      │\n",
       "│ ---       ┆ ---       ┆ ---       ┆ Carbon    ┆   ┆ f64       ┆ ---       ┆ f64       ┆ f64      │\n",
       "│ f64       ┆ f64       ┆ f64       ┆ St…       ┆   ┆           ┆ f64       ┆           ┆          │\n",
       "│           ┆           ┆           ┆ ---       ┆   ┆           ┆           ┆           ┆          │\n",
       "│           ┆           ┆           ┆ f64       ┆   ┆           ┆           ┆           ┆          │\n",
       "╞═══════════╪═══════════╪═══════════╪═══════════╪═══╪═══════════╪═══════════╪═══════════╪══════════╡\n",
       "│ 0.0       ┆ 0.0       ┆ 0.0       ┆ 0.0       ┆ … ┆ -0.342255 ┆ -1.009596 ┆ -0.617861 ┆ -1.18944 │\n",
       "│           ┆           ┆           ┆           ┆   ┆           ┆           ┆           ┆ 8        │\n",
       "│ 0.0       ┆ 0.0       ┆ 0.0       ┆ 0.0       ┆ … ┆ -0.342255 ┆ -1.009596 ┆ -0.617861 ┆ -0.87769 │\n",
       "│           ┆           ┆           ┆           ┆   ┆           ┆           ┆           ┆ 7        │\n",
       "│ 0.0       ┆ 0.0       ┆ 0.0       ┆ 0.0       ┆ … ┆ -0.342255 ┆ -1.009596 ┆ -0.617861 ┆ -0.56594 │\n",
       "│           ┆           ┆           ┆           ┆   ┆           ┆           ┆           ┆ 7        │\n",
       "│ 0.0       ┆ 0.0       ┆ 0.0       ┆ 0.0       ┆ … ┆ -0.342255 ┆ -1.009596 ┆ -0.617861 ┆ -0.25475 │\n",
       "│           ┆           ┆           ┆           ┆   ┆           ┆           ┆           ┆ 8        │\n",
       "│ 0.0       ┆ 0.0       ┆ 0.0       ┆ 0.0       ┆ … ┆ -0.342255 ┆ -1.009596 ┆ -0.617861 ┆ 0.056993 │\n",
       "│ …         ┆ …         ┆ …         ┆ …         ┆ … ┆ …         ┆ …         ┆ …         ┆ …        │\n",
       "│ 0.0       ┆ 0.0       ┆ 0.0       ┆ 0.0       ┆ … ┆ 0.188703  ┆ -0.105424 ┆ 1.89775   ┆ -0.65341 │\n",
       "│           ┆           ┆           ┆           ┆   ┆           ┆           ┆           ┆ 7        │\n",
       "│ 0.0       ┆ 0.0       ┆ 0.0       ┆ 0.0       ┆ … ┆ 0.188703  ┆ -0.105424 ┆ 1.89775   ┆ -0.09271 │\n",
       "│           ┆           ┆           ┆           ┆   ┆           ┆           ┆           ┆ 5        │\n",
       "│ 0.0       ┆ 0.0       ┆ 0.0       ┆ 0.0       ┆ … ┆ 0.188703  ┆ -0.105424 ┆ 1.89775   ┆ 0.467987 │\n",
       "│ 0.0       ┆ 0.0       ┆ 0.0       ┆ 0.0       ┆ … ┆ 0.188703  ┆ -0.105424 ┆ 1.89775   ┆ 1.028689 │\n",
       "│ 0.0       ┆ 0.0       ┆ 0.0       ┆ 0.0       ┆ … ┆ 0.188703  ┆ -0.105424 ┆ 1.89775   ┆ 1.589391 │\n",
       "└───────────┴───────────┴───────────┴───────────┴───┴───────────┴───────────┴───────────┴──────────┘"
      ]
     },
     "execution_count": 156,
     "metadata": {},
     "output_type": "execute_result"
    }
   ],
   "source": [
    "X = pl.concat([df_ohe_encoded, df_scaled], how='horizontal')\n",
    "X"
   ]
  },
  {
   "cell_type": "code",
   "execution_count": 157,
   "metadata": {},
   "outputs": [],
   "source": [
    "X.write_csv(f\"{resources_path}/X_nopreproc.csv\")\n",
    "\n",
    "pl.DataFrame(y).write_csv(f\"{resources_path}/y_nopreproc.csv\")"
   ]
  },
  {
   "cell_type": "markdown",
   "metadata": {},
   "source": [
    "## Modelling for data preprocess\n",
    "\n",
    "PCA modelling used to reduce X dimensions from 44 to 12 maintaining 95.7% of the explained variance.\n",
    "\n",
    "KBinsDiscretizer used to bin imbalanced Y target. 15 bins, where half have less than 5 support reduced to 5 similarly supported bins\n",
    "\n",
    "### PCA analysis\n",
    "\n",
    "Introduction of two strength metrics certainly introduced multcolinearity, with eachother and with the elemental composision, some of whicha re indicators of strength.\n",
    "\n",
    "PCA analysis will be done to alleiviate these factors."
   ]
  },
  {
   "cell_type": "code",
   "execution_count": 159,
   "metadata": {},
   "outputs": [],
   "source": [
    "# Checkpoint to ensure it runs\n",
    "#  X = pl.read_csv(f\"{resources_path}/X_nopreproc.csv\")"
   ]
  },
  {
   "cell_type": "code",
   "execution_count": 160,
   "metadata": {},
   "outputs": [],
   "source": [
    "pca_explained_sum = {'x': [], 'pca_explained_var': []}\n",
    "pca_explained_min = {'x': [], 'pca_explained_min_component': []}\n",
    "for x in range(3,30):\n",
    "    pca = PCA(n_components=x ,random_state=random_state)\n",
    "\n",
    "    pca.fit(X)\n",
    "\n",
    "    pca_explained_sum['x'].append(x)\n",
    "    sum_explained = np.sum(pca.explained_variance_ratio_)\n",
    "    pca_explained_sum['pca_explained_var'].append(sum_explained)\n",
    "\n",
    "    pca_explained_min['x'].append(x)\n",
    "    min_explained = np.min(pca.explained_variance_ratio_)\n",
    "    pca_explained_min['pca_explained_min_component'].append(min_explained)"
   ]
  },
  {
   "cell_type": "code",
   "execution_count": 161,
   "metadata": {},
   "outputs": [],
   "source": [
    "df_pca_explained = pl.DataFrame(pca_explained_sum)"
   ]
  },
  {
   "cell_type": "markdown",
   "metadata": {},
   "source": [
    "### PCA component number determination"
   ]
  },
  {
   "cell_type": "code",
   "execution_count": 162,
   "metadata": {},
   "outputs": [
    {
     "data": {
      "text/html": [
       "\n",
       "<style>\n",
       "  #altair-viz-f257a88974e748cf917d394ace52bc8f.vega-embed {\n",
       "    width: 100%;\n",
       "    display: flex;\n",
       "  }\n",
       "\n",
       "  #altair-viz-f257a88974e748cf917d394ace52bc8f.vega-embed details,\n",
       "  #altair-viz-f257a88974e748cf917d394ace52bc8f.vega-embed details summary {\n",
       "    position: relative;\n",
       "  }\n",
       "</style>\n",
       "<div id=\"altair-viz-f257a88974e748cf917d394ace52bc8f\"></div>\n",
       "<script type=\"text/javascript\">\n",
       "  var VEGA_DEBUG = (typeof VEGA_DEBUG == \"undefined\") ? {} : VEGA_DEBUG;\n",
       "  (function(spec, embedOpt){\n",
       "    let outputDiv = document.currentScript.previousElementSibling;\n",
       "    if (outputDiv.id !== \"altair-viz-f257a88974e748cf917d394ace52bc8f\") {\n",
       "      outputDiv = document.getElementById(\"altair-viz-f257a88974e748cf917d394ace52bc8f\");\n",
       "    }\n",
       "    const paths = {\n",
       "      \"vega\": \"https://cdn.jsdelivr.net/npm/vega@5?noext\",\n",
       "      \"vega-lib\": \"https://cdn.jsdelivr.net/npm/vega-lib?noext\",\n",
       "      \"vega-lite\": \"https://cdn.jsdelivr.net/npm/vega-lite@5.20.1?noext\",\n",
       "      \"vega-embed\": \"https://cdn.jsdelivr.net/npm/vega-embed@6?noext\",\n",
       "    };\n",
       "\n",
       "    function maybeLoadScript(lib, version) {\n",
       "      var key = `${lib.replace(\"-\", \"\")}_version`;\n",
       "      return (VEGA_DEBUG[key] == version) ?\n",
       "        Promise.resolve(paths[lib]) :\n",
       "        new Promise(function(resolve, reject) {\n",
       "          var s = document.createElement('script');\n",
       "          document.getElementsByTagName(\"head\")[0].appendChild(s);\n",
       "          s.async = true;\n",
       "          s.onload = () => {\n",
       "            VEGA_DEBUG[key] = version;\n",
       "            return resolve(paths[lib]);\n",
       "          };\n",
       "          s.onerror = () => reject(`Error loading script: ${paths[lib]}`);\n",
       "          s.src = paths[lib];\n",
       "        });\n",
       "    }\n",
       "\n",
       "    function showError(err) {\n",
       "      outputDiv.innerHTML = `<div class=\"error\" style=\"color:red;\">${err}</div>`;\n",
       "      throw err;\n",
       "    }\n",
       "\n",
       "    function displayChart(vegaEmbed) {\n",
       "      vegaEmbed(outputDiv, spec, embedOpt)\n",
       "        .catch(err => showError(`Javascript Error: ${err.message}<br>This usually means there's a typo in your chart specification. See the javascript console for the full traceback.`));\n",
       "    }\n",
       "\n",
       "    if(typeof define === \"function\" && define.amd) {\n",
       "      requirejs.config({paths});\n",
       "      require([\"vega-embed\"], displayChart, err => showError(`Error loading script: ${err.message}`));\n",
       "    } else {\n",
       "      maybeLoadScript(\"vega\", \"5\")\n",
       "        .then(() => maybeLoadScript(\"vega-lite\", \"5.20.1\"))\n",
       "        .then(() => maybeLoadScript(\"vega-embed\", \"6\"))\n",
       "        .catch(showError)\n",
       "        .then(() => displayChart(vegaEmbed));\n",
       "    }\n",
       "  })({\"config\": {\"view\": {\"continuousWidth\": 300, \"continuousHeight\": 300}}, \"data\": {\"name\": \"data-ffab907ee99c65fb358884a3de5da91c\"}, \"mark\": {\"type\": \"line\"}, \"encoding\": {\"x\": {\"field\": \"x\", \"title\": \"PCA X\", \"type\": \"quantitative\"}, \"y\": {\"field\": \"pca_explained_var\", \"scale\": {\"domain\": [0.5, 1]}, \"title\": \"Total explained variance\", \"type\": \"quantitative\"}}, \"title\": \"Total Explained Variance vs Number of PCA Features\", \"$schema\": \"https://vega.github.io/schema/vega-lite/v5.20.1.json\", \"datasets\": {\"data-ffab907ee99c65fb358884a3de5da91c\": [{\"x\": 3, \"pca_explained_var\": 0.4653074367529578}, {\"x\": 4, \"pca_explained_var\": 0.5631839925513059}, {\"x\": 5, \"pca_explained_var\": 0.6405907358484287}, {\"x\": 6, \"pca_explained_var\": 0.7078622730072375}, {\"x\": 7, \"pca_explained_var\": 0.7714124862007338}, {\"x\": 8, \"pca_explained_var\": 0.8269726660279423}, {\"x\": 9, \"pca_explained_var\": 0.8709322056678082}, {\"x\": 10, \"pca_explained_var\": 0.9088271332144255}, {\"x\": 11, \"pca_explained_var\": 0.9345439324744531}, {\"x\": 12, \"pca_explained_var\": 0.9500253454829435}, {\"x\": 13, \"pca_explained_var\": 0.9616449002020466}, {\"x\": 14, \"pca_explained_var\": 0.9684864590128204}, {\"x\": 15, \"pca_explained_var\": 0.9716781783909014}, {\"x\": 16, \"pca_explained_var\": 0.974683614984519}, {\"x\": 17, \"pca_explained_var\": 0.9774574867586572}, {\"x\": 18, \"pca_explained_var\": 0.9800371061278896}, {\"x\": 19, \"pca_explained_var\": 0.9824660304818559}, {\"x\": 20, \"pca_explained_var\": 0.984781548183212}, {\"x\": 21, \"pca_explained_var\": 0.9869174265510642}, {\"x\": 22, \"pca_explained_var\": 0.9890183894489988}, {\"x\": 23, \"pca_explained_var\": 0.9911053272594159}, {\"x\": 24, \"pca_explained_var\": 0.9931691148411187}, {\"x\": 25, \"pca_explained_var\": 0.9951470742234876}, {\"x\": 26, \"pca_explained_var\": 0.996346291307348}, {\"x\": 27, \"pca_explained_var\": 0.9974184556382504}, {\"x\": 28, \"pca_explained_var\": 0.9983406002094691}, {\"x\": 29, \"pca_explained_var\": 0.9989561780349904}]}}, {\"mode\": \"vega-lite\"});\n",
       "</script>"
      ],
      "text/plain": [
       "alt.Chart(...)"
      ]
     },
     "execution_count": 162,
     "metadata": {},
     "output_type": "execute_result"
    }
   ],
   "source": [
    "alt.Chart(df_pca_explained,\n",
    "          title= \"Total Explained Variance vs Number of PCA Features\").mark_line().encode(\n",
    "    alt.X('x:Q').title(\"PCA X\"),\n",
    "    alt.Y('pca_explained_var:Q')\\\n",
    "        .scale(domain=(0.5,1))\\\n",
    "            .title(\"Total explained variance\")\n",
    ")"
   ]
  },
  {
   "cell_type": "markdown",
   "metadata": {},
   "source": [
    "### Value of increasing PCA components decreases between 10 and 15"
   ]
  },
  {
   "cell_type": "code",
   "execution_count": 163,
   "metadata": {},
   "outputs": [
    {
     "data": {
      "text/html": [
       "<div><style>\n",
       ".dataframe > thead > tr,\n",
       ".dataframe > tbody > tr {\n",
       "  text-align: right;\n",
       "  white-space: pre-wrap;\n",
       "}\n",
       "</style>\n",
       "<small>shape: (6, 2)</small><table border=\"1\" class=\"dataframe\"><thead><tr><th>x</th><th>pca_explained_min_component</th></tr><tr><td>i64</td><td>f64</td></tr></thead><tbody><tr><td>10</td><td>0.037895</td></tr><tr><td>11</td><td>0.025717</td></tr><tr><td>12</td><td>0.015481</td></tr><tr><td>13</td><td>0.01162</td></tr><tr><td>14</td><td>0.006842</td></tr><tr><td>15</td><td>0.003192</td></tr></tbody></table></div>"
      ],
      "text/plain": [
       "shape: (6, 2)\n",
       "┌─────┬─────────────────────────────┐\n",
       "│ x   ┆ pca_explained_min_component │\n",
       "│ --- ┆ ---                         │\n",
       "│ i64 ┆ f64                         │\n",
       "╞═════╪═════════════════════════════╡\n",
       "│ 10  ┆ 0.037895                    │\n",
       "│ 11  ┆ 0.025717                    │\n",
       "│ 12  ┆ 0.015481                    │\n",
       "│ 13  ┆ 0.01162                     │\n",
       "│ 14  ┆ 0.006842                    │\n",
       "│ 15  ┆ 0.003192                    │\n",
       "└─────┴─────────────────────────────┘"
      ]
     },
     "execution_count": 163,
     "metadata": {},
     "output_type": "execute_result"
    }
   ],
   "source": [
    "df_pca_explained_min = pl.DataFrame(pca_explained_min)\n",
    "df_pca_explained_min.filter(pl.col('x').le(15) & pl.col('x').ge(10))"
   ]
  },
  {
   "cell_type": "markdown",
   "metadata": {},
   "source": [
    "### PCA component number 13 selected\n",
    "Component 13 has half the explained ratio contribution as component 13, and component 14 decreased by a factor of 10\n",
    "\n",
    "13 components has explains 96.2% of the variance."
   ]
  },
  {
   "cell_type": "code",
   "execution_count": 164,
   "metadata": {},
   "outputs": [
    {
     "data": {
      "text/html": [
       "<div><style>\n",
       ".dataframe > thead > tr,\n",
       ".dataframe > tbody > tr {\n",
       "  text-align: right;\n",
       "  white-space: pre-wrap;\n",
       "}\n",
       "</style>\n",
       "<small>shape: (1, 2)</small><table border=\"1\" class=\"dataframe\"><thead><tr><th>x</th><th>pca_explained_var</th></tr><tr><td>i64</td><td>f64</td></tr></thead><tbody><tr><td>13</td><td>0.961645</td></tr></tbody></table></div>"
      ],
      "text/plain": [
       "shape: (1, 2)\n",
       "┌─────┬───────────────────┐\n",
       "│ x   ┆ pca_explained_var │\n",
       "│ --- ┆ ---               │\n",
       "│ i64 ┆ f64               │\n",
       "╞═════╪═══════════════════╡\n",
       "│ 13  ┆ 0.961645          │\n",
       "└─────┴───────────────────┘"
      ]
     },
     "execution_count": 164,
     "metadata": {},
     "output_type": "execute_result"
    }
   ],
   "source": [
    "df_pca_explained.filter(pl.col(\"x\").eq(13))"
   ]
  },
  {
   "cell_type": "code",
   "execution_count": 165,
   "metadata": {},
   "outputs": [
    {
     "data": {
      "text/html": [
       "<div><style>\n",
       ".dataframe > thead > tr,\n",
       ".dataframe > tbody > tr {\n",
       "  text-align: right;\n",
       "  white-space: pre-wrap;\n",
       "}\n",
       "</style>\n",
       "<small>shape: (3, 13)</small><table border=\"1\" class=\"dataframe\"><thead><tr><th>column_0</th><th>column_1</th><th>column_2</th><th>column_3</th><th>column_4</th><th>column_5</th><th>column_6</th><th>column_7</th><th>column_8</th><th>column_9</th><th>column_10</th><th>column_11</th><th>column_12</th></tr><tr><td>f64</td><td>f64</td><td>f64</td><td>f64</td><td>f64</td><td>f64</td><td>f64</td><td>f64</td><td>f64</td><td>f64</td><td>f64</td><td>f64</td><td>f64</td></tr></thead><tbody><tr><td>-1.396549</td><td>0.357322</td><td>0.11312</td><td>-0.35176</td><td>-0.475294</td><td>-0.085418</td><td>-1.457699</td><td>0.792878</td><td>-0.123649</td><td>-0.967397</td><td>-0.402453</td><td>0.138054</td><td>0.316879</td></tr><tr><td>-1.408114</td><td>0.303587</td><td>0.136813</td><td>-0.349753</td><td>-0.573852</td><td>-0.23484</td><td>-1.270245</td><td>0.633357</td><td>-0.123784</td><td>-0.940428</td><td>-0.405776</td><td>0.141606</td><td>0.304695</td></tr><tr><td>-1.419679</td><td>0.249852</td><td>0.160507</td><td>-0.347746</td><td>-0.67241</td><td>-0.384263</td><td>-1.082791</td><td>0.473836</td><td>-0.123919</td><td>-0.913459</td><td>-0.409099</td><td>0.145159</td><td>0.292511</td></tr></tbody></table></div>"
      ],
      "text/plain": [
       "shape: (3, 13)\n",
       "┌───────────┬──────────┬──────────┬───────────┬───┬───────────┬───────────┬───────────┬───────────┐\n",
       "│ column_0  ┆ column_1 ┆ column_2 ┆ column_3  ┆ … ┆ column_9  ┆ column_10 ┆ column_11 ┆ column_12 │\n",
       "│ ---       ┆ ---      ┆ ---      ┆ ---       ┆   ┆ ---       ┆ ---       ┆ ---       ┆ ---       │\n",
       "│ f64       ┆ f64      ┆ f64      ┆ f64       ┆   ┆ f64       ┆ f64       ┆ f64       ┆ f64       │\n",
       "╞═══════════╪══════════╪══════════╪═══════════╪═══╪═══════════╪═══════════╪═══════════╪═══════════╡\n",
       "│ -1.396549 ┆ 0.357322 ┆ 0.11312  ┆ -0.35176  ┆ … ┆ -0.967397 ┆ -0.402453 ┆ 0.138054  ┆ 0.316879  │\n",
       "│ -1.408114 ┆ 0.303587 ┆ 0.136813 ┆ -0.349753 ┆ … ┆ -0.940428 ┆ -0.405776 ┆ 0.141606  ┆ 0.304695  │\n",
       "│ -1.419679 ┆ 0.249852 ┆ 0.160507 ┆ -0.347746 ┆ … ┆ -0.913459 ┆ -0.409099 ┆ 0.145159  ┆ 0.292511  │\n",
       "└───────────┴──────────┴──────────┴───────────┴───┴───────────┴───────────┴───────────┴───────────┘"
      ]
     },
     "execution_count": 165,
     "metadata": {},
     "output_type": "execute_result"
    }
   ],
   "source": [
    "pca = PCA(n_components= 13, random_state=random_state)\n",
    "\n",
    "pca.fit(X)\n",
    "\n",
    "X_pca = pca.transform(X)\n",
    "\n",
    "df_pca = pl.DataFrame(X_pca)\n",
    "df_pca.head(3)"
   ]
  },
  {
   "cell_type": "code",
   "execution_count": 166,
   "metadata": {},
   "outputs": [
    {
     "data": {
      "text/html": [
       "<div><style>\n",
       ".dataframe > thead > tr,\n",
       ".dataframe > tbody > tr {\n",
       "  text-align: right;\n",
       "  white-space: pre-wrap;\n",
       "}\n",
       "</style>\n",
       "<small>shape: (9, 14)</small><table border=\"1\" class=\"dataframe\"><thead><tr><th>statistic</th><th>column_0</th><th>column_1</th><th>column_2</th><th>column_3</th><th>column_4</th><th>column_5</th><th>column_6</th><th>column_7</th><th>column_8</th><th>column_9</th><th>column_10</th><th>column_11</th><th>column_12</th></tr><tr><td>str</td><td>f64</td><td>f64</td><td>f64</td><td>f64</td><td>f64</td><td>f64</td><td>f64</td><td>f64</td><td>f64</td><td>f64</td><td>f64</td><td>f64</td><td>f64</td></tr></thead><tbody><tr><td>&quot;count&quot;</td><td>1286.0</td><td>1286.0</td><td>1286.0</td><td>1286.0</td><td>1286.0</td><td>1286.0</td><td>1286.0</td><td>1286.0</td><td>1286.0</td><td>1286.0</td><td>1286.0</td><td>1286.0</td><td>1286.0</td></tr><tr><td>&quot;null_count&quot;</td><td>0.0</td><td>0.0</td><td>0.0</td><td>0.0</td><td>0.0</td><td>0.0</td><td>0.0</td><td>0.0</td><td>0.0</td><td>0.0</td><td>0.0</td><td>0.0</td><td>0.0</td></tr><tr><td>&quot;mean&quot;</td><td>-2.7626e-17</td><td>1.1050e-16</td><td>4.1439e-18</td><td>-1.1050e-17</td><td>1.3813e-17</td><td>9.2547e-17</td><td>-3.4533e-17</td><td>-3.0389e-17</td><td>-7.0446e-17</td><td>2.7626e-18</td><td>1.6576e-17</td><td>-3.0389e-17</td><td>-3.5914e-17</td></tr><tr><td>&quot;std&quot;</td><td>1.653448</td><td>1.572193</td><td>1.326167</td><td>1.210351</td><td>1.076369</td><td>1.003431</td><td>0.975282</td><td>0.911914</td><td>0.811145</td><td>0.753117</td><td>0.620412</td><td>0.481368</td><td>0.417029</td></tr><tr><td>&quot;min&quot;</td><td>-2.755651</td><td>-2.749125</td><td>-2.631238</td><td>-2.526038</td><td>-3.325919</td><td>-1.580944</td><td>-2.390954</td><td>-2.977647</td><td>-1.634804</td><td>-1.47535</td><td>-1.006469</td><td>-0.940166</td><td>-0.97989</td></tr><tr><td>&quot;25%&quot;</td><td>-1.107186</td><td>-1.236004</td><td>-0.652254</td><td>-0.596507</td><td>-0.673487</td><td>-0.753635</td><td>-0.706409</td><td>-0.567779</td><td>-0.509937</td><td>-0.442693</td><td>-0.411362</td><td>-0.270313</td><td>-0.360951</td></tr><tr><td>&quot;50%&quot;</td><td>-0.188674</td><td>-0.121004</td><td>-0.113746</td><td>-0.187207</td><td>-0.016828</td><td>-0.195364</td><td>-0.037295</td><td>-0.023571</td><td>0.066648</td><td>-0.027211</td><td>-0.168751</td><td>0.012771</td><td>0.094007</td></tr><tr><td>&quot;75%&quot;</td><td>0.473879</td><td>1.091142</td><td>0.54757</td><td>0.852972</td><td>0.593213</td><td>0.34491</td><td>0.575031</td><td>0.474041</td><td>0.529772</td><td>0.249033</td><td>0.422331</td><td>0.249639</td><td>0.301865</td></tr><tr><td>&quot;max&quot;</td><td>4.895881</td><td>3.739467</td><td>4.450363</td><td>3.646042</td><td>4.063784</td><td>3.125609</td><td>4.122047</td><td>3.998631</td><td>1.510213</td><td>2.563479</td><td>1.49625</td><td>1.012016</td><td>0.760051</td></tr></tbody></table></div>"
      ],
      "text/plain": [
       "shape: (9, 14)\n",
       "┌───────────┬───────────┬───────────┬───────────┬───┬───────────┬───────────┬───────────┬──────────┐\n",
       "│ statistic ┆ column_0  ┆ column_1  ┆ column_2  ┆ … ┆ column_9  ┆ column_10 ┆ column_11 ┆ column_1 │\n",
       "│ ---       ┆ ---       ┆ ---       ┆ ---       ┆   ┆ ---       ┆ ---       ┆ ---       ┆ 2        │\n",
       "│ str       ┆ f64       ┆ f64       ┆ f64       ┆   ┆ f64       ┆ f64       ┆ f64       ┆ ---      │\n",
       "│           ┆           ┆           ┆           ┆   ┆           ┆           ┆           ┆ f64      │\n",
       "╞═══════════╪═══════════╪═══════════╪═══════════╪═══╪═══════════╪═══════════╪═══════════╪══════════╡\n",
       "│ count     ┆ 1286.0    ┆ 1286.0    ┆ 1286.0    ┆ … ┆ 1286.0    ┆ 1286.0    ┆ 1286.0    ┆ 1286.0   │\n",
       "│ null_coun ┆ 0.0       ┆ 0.0       ┆ 0.0       ┆ … ┆ 0.0       ┆ 0.0       ┆ 0.0       ┆ 0.0      │\n",
       "│ t         ┆           ┆           ┆           ┆   ┆           ┆           ┆           ┆          │\n",
       "│ mean      ┆ -2.7626e- ┆ 1.1050e-1 ┆ 4.1439e-1 ┆ … ┆ 2.7626e-1 ┆ 1.6576e-1 ┆ -3.0389e- ┆ -3.5914e │\n",
       "│           ┆ 17        ┆ 6         ┆ 8         ┆   ┆ 8         ┆ 7         ┆ 17        ┆ -17      │\n",
       "│ std       ┆ 1.653448  ┆ 1.572193  ┆ 1.326167  ┆ … ┆ 0.753117  ┆ 0.620412  ┆ 0.481368  ┆ 0.417029 │\n",
       "│ min       ┆ -2.755651 ┆ -2.749125 ┆ -2.631238 ┆ … ┆ -1.47535  ┆ -1.006469 ┆ -0.940166 ┆ -0.97989 │\n",
       "│ 25%       ┆ -1.107186 ┆ -1.236004 ┆ -0.652254 ┆ … ┆ -0.442693 ┆ -0.411362 ┆ -0.270313 ┆ -0.36095 │\n",
       "│           ┆           ┆           ┆           ┆   ┆           ┆           ┆           ┆ 1        │\n",
       "│ 50%       ┆ -0.188674 ┆ -0.121004 ┆ -0.113746 ┆ … ┆ -0.027211 ┆ -0.168751 ┆ 0.012771  ┆ 0.094007 │\n",
       "│ 75%       ┆ 0.473879  ┆ 1.091142  ┆ 0.54757   ┆ … ┆ 0.249033  ┆ 0.422331  ┆ 0.249639  ┆ 0.301865 │\n",
       "│ max       ┆ 4.895881  ┆ 3.739467  ┆ 4.450363  ┆ … ┆ 2.563479  ┆ 1.49625   ┆ 1.012016  ┆ 0.760051 │\n",
       "└───────────┴───────────┴───────────┴───────────┴───┴───────────┴───────────┴───────────┴──────────┘"
      ]
     },
     "execution_count": 166,
     "metadata": {},
     "output_type": "execute_result"
    }
   ],
   "source": [
    "df_pca.describe()"
   ]
  },
  {
   "cell_type": "markdown",
   "metadata": {},
   "source": [
    "## Check data balance before train-test-split\n",
    "Balancing the target is unnecessary as it is a continuous variable. \n",
    "\n",
    "It is not effected by imbalance in the same way a categorical target is."
   ]
  },
  {
   "cell_type": "code",
   "execution_count": 167,
   "metadata": {},
   "outputs": [],
   "source": [
    "df_pca.write_csv(f'{resources_path}/df_X.csv')\n",
    "pl.DataFrame(y).write_csv(f'{resources_path}/df_y.csv')\n"
   ]
  },
  {
   "cell_type": "markdown",
   "metadata": {},
   "source": [
    "# Regression Modelling"
   ]
  },
  {
   "cell_type": "code",
   "execution_count": 168,
   "metadata": {},
   "outputs": [],
   "source": [
    "X = pl.read_csv(f'{resources_path}/df_X.csv')\n",
    "y = pl.read_csv(f'{resources_path}/df_y.csv')\n",
    "# Polars does not always work well with Keras\n",
    "X = X.to_numpy()\n",
    "y = y.to_numpy()"
   ]
  },
  {
   "cell_type": "markdown",
   "metadata": {},
   "source": [
    "## Test train split"
   ]
  },
  {
   "cell_type": "code",
   "execution_count": 169,
   "metadata": {},
   "outputs": [],
   "source": [
    "X_train, X_test, y_train, y_test = train_test_split(X, \n",
    "                                                    y, \n",
    "                                                    random_state=random_state)"
   ]
  },
  {
   "cell_type": "markdown",
   "metadata": {},
   "source": [
    "## Gradient boost regression\n",
    "\n",
    "The final hardness is a continuos varaible, that may be non-linear with respect to the supporting features. \n",
    "\n",
    "### This model does perform well, r2 = 0.93\n",
    "\n",
    "I will attmpt to use neural network modelling to see if it can be improved, and to get history.\n"
   ]
  },
  {
   "cell_type": "code",
   "execution_count": 176,
   "metadata": {},
   "outputs": [
    {
     "name": "stderr",
     "output_type": "stream",
     "text": [
      "/home/mox/Documents/coding_projects/bootcamp_local/Homeworks/Mild-Steel-Tempering/.venv/lib/python3.12/site-packages/sklearn/ensemble/_gb.py:668: DataConversionWarning: A column-vector y was passed when a 1d array was expected. Please change the shape of y to (n_samples, ), for example using ravel().\n",
      "  y = column_or_1d(y, warn=True)  # TODO: Is this still required?\n"
     ]
    },
    {
     "data": {
      "text/html": [
       "<style>#sk-container-id-3 {\n",
       "  /* Definition of color scheme common for light and dark mode */\n",
       "  --sklearn-color-text: black;\n",
       "  --sklearn-color-line: gray;\n",
       "  /* Definition of color scheme for unfitted estimators */\n",
       "  --sklearn-color-unfitted-level-0: #fff5e6;\n",
       "  --sklearn-color-unfitted-level-1: #f6e4d2;\n",
       "  --sklearn-color-unfitted-level-2: #ffe0b3;\n",
       "  --sklearn-color-unfitted-level-3: chocolate;\n",
       "  /* Definition of color scheme for fitted estimators */\n",
       "  --sklearn-color-fitted-level-0: #f0f8ff;\n",
       "  --sklearn-color-fitted-level-1: #d4ebff;\n",
       "  --sklearn-color-fitted-level-2: #b3dbfd;\n",
       "  --sklearn-color-fitted-level-3: cornflowerblue;\n",
       "\n",
       "  /* Specific color for light theme */\n",
       "  --sklearn-color-text-on-default-background: var(--sg-text-color, var(--theme-code-foreground, var(--jp-content-font-color1, black)));\n",
       "  --sklearn-color-background: var(--sg-background-color, var(--theme-background, var(--jp-layout-color0, white)));\n",
       "  --sklearn-color-border-box: var(--sg-text-color, var(--theme-code-foreground, var(--jp-content-font-color1, black)));\n",
       "  --sklearn-color-icon: #696969;\n",
       "\n",
       "  @media (prefers-color-scheme: dark) {\n",
       "    /* Redefinition of color scheme for dark theme */\n",
       "    --sklearn-color-text-on-default-background: var(--sg-text-color, var(--theme-code-foreground, var(--jp-content-font-color1, white)));\n",
       "    --sklearn-color-background: var(--sg-background-color, var(--theme-background, var(--jp-layout-color0, #111)));\n",
       "    --sklearn-color-border-box: var(--sg-text-color, var(--theme-code-foreground, var(--jp-content-font-color1, white)));\n",
       "    --sklearn-color-icon: #878787;\n",
       "  }\n",
       "}\n",
       "\n",
       "#sk-container-id-3 {\n",
       "  color: var(--sklearn-color-text);\n",
       "}\n",
       "\n",
       "#sk-container-id-3 pre {\n",
       "  padding: 0;\n",
       "}\n",
       "\n",
       "#sk-container-id-3 input.sk-hidden--visually {\n",
       "  border: 0;\n",
       "  clip: rect(1px 1px 1px 1px);\n",
       "  clip: rect(1px, 1px, 1px, 1px);\n",
       "  height: 1px;\n",
       "  margin: -1px;\n",
       "  overflow: hidden;\n",
       "  padding: 0;\n",
       "  position: absolute;\n",
       "  width: 1px;\n",
       "}\n",
       "\n",
       "#sk-container-id-3 div.sk-dashed-wrapped {\n",
       "  border: 1px dashed var(--sklearn-color-line);\n",
       "  margin: 0 0.4em 0.5em 0.4em;\n",
       "  box-sizing: border-box;\n",
       "  padding-bottom: 0.4em;\n",
       "  background-color: var(--sklearn-color-background);\n",
       "}\n",
       "\n",
       "#sk-container-id-3 div.sk-container {\n",
       "  /* jupyter's `normalize.less` sets `[hidden] { display: none; }`\n",
       "     but bootstrap.min.css set `[hidden] { display: none !important; }`\n",
       "     so we also need the `!important` here to be able to override the\n",
       "     default hidden behavior on the sphinx rendered scikit-learn.org.\n",
       "     See: https://github.com/scikit-learn/scikit-learn/issues/21755 */\n",
       "  display: inline-block !important;\n",
       "  position: relative;\n",
       "}\n",
       "\n",
       "#sk-container-id-3 div.sk-text-repr-fallback {\n",
       "  display: none;\n",
       "}\n",
       "\n",
       "div.sk-parallel-item,\n",
       "div.sk-serial,\n",
       "div.sk-item {\n",
       "  /* draw centered vertical line to link estimators */\n",
       "  background-image: linear-gradient(var(--sklearn-color-text-on-default-background), var(--sklearn-color-text-on-default-background));\n",
       "  background-size: 2px 100%;\n",
       "  background-repeat: no-repeat;\n",
       "  background-position: center center;\n",
       "}\n",
       "\n",
       "/* Parallel-specific style estimator block */\n",
       "\n",
       "#sk-container-id-3 div.sk-parallel-item::after {\n",
       "  content: \"\";\n",
       "  width: 100%;\n",
       "  border-bottom: 2px solid var(--sklearn-color-text-on-default-background);\n",
       "  flex-grow: 1;\n",
       "}\n",
       "\n",
       "#sk-container-id-3 div.sk-parallel {\n",
       "  display: flex;\n",
       "  align-items: stretch;\n",
       "  justify-content: center;\n",
       "  background-color: var(--sklearn-color-background);\n",
       "  position: relative;\n",
       "}\n",
       "\n",
       "#sk-container-id-3 div.sk-parallel-item {\n",
       "  display: flex;\n",
       "  flex-direction: column;\n",
       "}\n",
       "\n",
       "#sk-container-id-3 div.sk-parallel-item:first-child::after {\n",
       "  align-self: flex-end;\n",
       "  width: 50%;\n",
       "}\n",
       "\n",
       "#sk-container-id-3 div.sk-parallel-item:last-child::after {\n",
       "  align-self: flex-start;\n",
       "  width: 50%;\n",
       "}\n",
       "\n",
       "#sk-container-id-3 div.sk-parallel-item:only-child::after {\n",
       "  width: 0;\n",
       "}\n",
       "\n",
       "/* Serial-specific style estimator block */\n",
       "\n",
       "#sk-container-id-3 div.sk-serial {\n",
       "  display: flex;\n",
       "  flex-direction: column;\n",
       "  align-items: center;\n",
       "  background-color: var(--sklearn-color-background);\n",
       "  padding-right: 1em;\n",
       "  padding-left: 1em;\n",
       "}\n",
       "\n",
       "\n",
       "/* Toggleable style: style used for estimator/Pipeline/ColumnTransformer box that is\n",
       "clickable and can be expanded/collapsed.\n",
       "- Pipeline and ColumnTransformer use this feature and define the default style\n",
       "- Estimators will overwrite some part of the style using the `sk-estimator` class\n",
       "*/\n",
       "\n",
       "/* Pipeline and ColumnTransformer style (default) */\n",
       "\n",
       "#sk-container-id-3 div.sk-toggleable {\n",
       "  /* Default theme specific background. It is overwritten whether we have a\n",
       "  specific estimator or a Pipeline/ColumnTransformer */\n",
       "  background-color: var(--sklearn-color-background);\n",
       "}\n",
       "\n",
       "/* Toggleable label */\n",
       "#sk-container-id-3 label.sk-toggleable__label {\n",
       "  cursor: pointer;\n",
       "  display: block;\n",
       "  width: 100%;\n",
       "  margin-bottom: 0;\n",
       "  padding: 0.5em;\n",
       "  box-sizing: border-box;\n",
       "  text-align: center;\n",
       "}\n",
       "\n",
       "#sk-container-id-3 label.sk-toggleable__label-arrow:before {\n",
       "  /* Arrow on the left of the label */\n",
       "  content: \"▸\";\n",
       "  float: left;\n",
       "  margin-right: 0.25em;\n",
       "  color: var(--sklearn-color-icon);\n",
       "}\n",
       "\n",
       "#sk-container-id-3 label.sk-toggleable__label-arrow:hover:before {\n",
       "  color: var(--sklearn-color-text);\n",
       "}\n",
       "\n",
       "/* Toggleable content - dropdown */\n",
       "\n",
       "#sk-container-id-3 div.sk-toggleable__content {\n",
       "  max-height: 0;\n",
       "  max-width: 0;\n",
       "  overflow: hidden;\n",
       "  text-align: left;\n",
       "  /* unfitted */\n",
       "  background-color: var(--sklearn-color-unfitted-level-0);\n",
       "}\n",
       "\n",
       "#sk-container-id-3 div.sk-toggleable__content.fitted {\n",
       "  /* fitted */\n",
       "  background-color: var(--sklearn-color-fitted-level-0);\n",
       "}\n",
       "\n",
       "#sk-container-id-3 div.sk-toggleable__content pre {\n",
       "  margin: 0.2em;\n",
       "  border-radius: 0.25em;\n",
       "  color: var(--sklearn-color-text);\n",
       "  /* unfitted */\n",
       "  background-color: var(--sklearn-color-unfitted-level-0);\n",
       "}\n",
       "\n",
       "#sk-container-id-3 div.sk-toggleable__content.fitted pre {\n",
       "  /* unfitted */\n",
       "  background-color: var(--sklearn-color-fitted-level-0);\n",
       "}\n",
       "\n",
       "#sk-container-id-3 input.sk-toggleable__control:checked~div.sk-toggleable__content {\n",
       "  /* Expand drop-down */\n",
       "  max-height: 200px;\n",
       "  max-width: 100%;\n",
       "  overflow: auto;\n",
       "}\n",
       "\n",
       "#sk-container-id-3 input.sk-toggleable__control:checked~label.sk-toggleable__label-arrow:before {\n",
       "  content: \"▾\";\n",
       "}\n",
       "\n",
       "/* Pipeline/ColumnTransformer-specific style */\n",
       "\n",
       "#sk-container-id-3 div.sk-label input.sk-toggleable__control:checked~label.sk-toggleable__label {\n",
       "  color: var(--sklearn-color-text);\n",
       "  background-color: var(--sklearn-color-unfitted-level-2);\n",
       "}\n",
       "\n",
       "#sk-container-id-3 div.sk-label.fitted input.sk-toggleable__control:checked~label.sk-toggleable__label {\n",
       "  background-color: var(--sklearn-color-fitted-level-2);\n",
       "}\n",
       "\n",
       "/* Estimator-specific style */\n",
       "\n",
       "/* Colorize estimator box */\n",
       "#sk-container-id-3 div.sk-estimator input.sk-toggleable__control:checked~label.sk-toggleable__label {\n",
       "  /* unfitted */\n",
       "  background-color: var(--sklearn-color-unfitted-level-2);\n",
       "}\n",
       "\n",
       "#sk-container-id-3 div.sk-estimator.fitted input.sk-toggleable__control:checked~label.sk-toggleable__label {\n",
       "  /* fitted */\n",
       "  background-color: var(--sklearn-color-fitted-level-2);\n",
       "}\n",
       "\n",
       "#sk-container-id-3 div.sk-label label.sk-toggleable__label,\n",
       "#sk-container-id-3 div.sk-label label {\n",
       "  /* The background is the default theme color */\n",
       "  color: var(--sklearn-color-text-on-default-background);\n",
       "}\n",
       "\n",
       "/* On hover, darken the color of the background */\n",
       "#sk-container-id-3 div.sk-label:hover label.sk-toggleable__label {\n",
       "  color: var(--sklearn-color-text);\n",
       "  background-color: var(--sklearn-color-unfitted-level-2);\n",
       "}\n",
       "\n",
       "/* Label box, darken color on hover, fitted */\n",
       "#sk-container-id-3 div.sk-label.fitted:hover label.sk-toggleable__label.fitted {\n",
       "  color: var(--sklearn-color-text);\n",
       "  background-color: var(--sklearn-color-fitted-level-2);\n",
       "}\n",
       "\n",
       "/* Estimator label */\n",
       "\n",
       "#sk-container-id-3 div.sk-label label {\n",
       "  font-family: monospace;\n",
       "  font-weight: bold;\n",
       "  display: inline-block;\n",
       "  line-height: 1.2em;\n",
       "}\n",
       "\n",
       "#sk-container-id-3 div.sk-label-container {\n",
       "  text-align: center;\n",
       "}\n",
       "\n",
       "/* Estimator-specific */\n",
       "#sk-container-id-3 div.sk-estimator {\n",
       "  font-family: monospace;\n",
       "  border: 1px dotted var(--sklearn-color-border-box);\n",
       "  border-radius: 0.25em;\n",
       "  box-sizing: border-box;\n",
       "  margin-bottom: 0.5em;\n",
       "  /* unfitted */\n",
       "  background-color: var(--sklearn-color-unfitted-level-0);\n",
       "}\n",
       "\n",
       "#sk-container-id-3 div.sk-estimator.fitted {\n",
       "  /* fitted */\n",
       "  background-color: var(--sklearn-color-fitted-level-0);\n",
       "}\n",
       "\n",
       "/* on hover */\n",
       "#sk-container-id-3 div.sk-estimator:hover {\n",
       "  /* unfitted */\n",
       "  background-color: var(--sklearn-color-unfitted-level-2);\n",
       "}\n",
       "\n",
       "#sk-container-id-3 div.sk-estimator.fitted:hover {\n",
       "  /* fitted */\n",
       "  background-color: var(--sklearn-color-fitted-level-2);\n",
       "}\n",
       "\n",
       "/* Specification for estimator info (e.g. \"i\" and \"?\") */\n",
       "\n",
       "/* Common style for \"i\" and \"?\" */\n",
       "\n",
       ".sk-estimator-doc-link,\n",
       "a:link.sk-estimator-doc-link,\n",
       "a:visited.sk-estimator-doc-link {\n",
       "  float: right;\n",
       "  font-size: smaller;\n",
       "  line-height: 1em;\n",
       "  font-family: monospace;\n",
       "  background-color: var(--sklearn-color-background);\n",
       "  border-radius: 1em;\n",
       "  height: 1em;\n",
       "  width: 1em;\n",
       "  text-decoration: none !important;\n",
       "  margin-left: 1ex;\n",
       "  /* unfitted */\n",
       "  border: var(--sklearn-color-unfitted-level-1) 1pt solid;\n",
       "  color: var(--sklearn-color-unfitted-level-1);\n",
       "}\n",
       "\n",
       ".sk-estimator-doc-link.fitted,\n",
       "a:link.sk-estimator-doc-link.fitted,\n",
       "a:visited.sk-estimator-doc-link.fitted {\n",
       "  /* fitted */\n",
       "  border: var(--sklearn-color-fitted-level-1) 1pt solid;\n",
       "  color: var(--sklearn-color-fitted-level-1);\n",
       "}\n",
       "\n",
       "/* On hover */\n",
       "div.sk-estimator:hover .sk-estimator-doc-link:hover,\n",
       ".sk-estimator-doc-link:hover,\n",
       "div.sk-label-container:hover .sk-estimator-doc-link:hover,\n",
       ".sk-estimator-doc-link:hover {\n",
       "  /* unfitted */\n",
       "  background-color: var(--sklearn-color-unfitted-level-3);\n",
       "  color: var(--sklearn-color-background);\n",
       "  text-decoration: none;\n",
       "}\n",
       "\n",
       "div.sk-estimator.fitted:hover .sk-estimator-doc-link.fitted:hover,\n",
       ".sk-estimator-doc-link.fitted:hover,\n",
       "div.sk-label-container:hover .sk-estimator-doc-link.fitted:hover,\n",
       ".sk-estimator-doc-link.fitted:hover {\n",
       "  /* fitted */\n",
       "  background-color: var(--sklearn-color-fitted-level-3);\n",
       "  color: var(--sklearn-color-background);\n",
       "  text-decoration: none;\n",
       "}\n",
       "\n",
       "/* Span, style for the box shown on hovering the info icon */\n",
       ".sk-estimator-doc-link span {\n",
       "  display: none;\n",
       "  z-index: 9999;\n",
       "  position: relative;\n",
       "  font-weight: normal;\n",
       "  right: .2ex;\n",
       "  padding: .5ex;\n",
       "  margin: .5ex;\n",
       "  width: min-content;\n",
       "  min-width: 20ex;\n",
       "  max-width: 50ex;\n",
       "  color: var(--sklearn-color-text);\n",
       "  box-shadow: 2pt 2pt 4pt #999;\n",
       "  /* unfitted */\n",
       "  background: var(--sklearn-color-unfitted-level-0);\n",
       "  border: .5pt solid var(--sklearn-color-unfitted-level-3);\n",
       "}\n",
       "\n",
       ".sk-estimator-doc-link.fitted span {\n",
       "  /* fitted */\n",
       "  background: var(--sklearn-color-fitted-level-0);\n",
       "  border: var(--sklearn-color-fitted-level-3);\n",
       "}\n",
       "\n",
       ".sk-estimator-doc-link:hover span {\n",
       "  display: block;\n",
       "}\n",
       "\n",
       "/* \"?\"-specific style due to the `<a>` HTML tag */\n",
       "\n",
       "#sk-container-id-3 a.estimator_doc_link {\n",
       "  float: right;\n",
       "  font-size: 1rem;\n",
       "  line-height: 1em;\n",
       "  font-family: monospace;\n",
       "  background-color: var(--sklearn-color-background);\n",
       "  border-radius: 1rem;\n",
       "  height: 1rem;\n",
       "  width: 1rem;\n",
       "  text-decoration: none;\n",
       "  /* unfitted */\n",
       "  color: var(--sklearn-color-unfitted-level-1);\n",
       "  border: var(--sklearn-color-unfitted-level-1) 1pt solid;\n",
       "}\n",
       "\n",
       "#sk-container-id-3 a.estimator_doc_link.fitted {\n",
       "  /* fitted */\n",
       "  border: var(--sklearn-color-fitted-level-1) 1pt solid;\n",
       "  color: var(--sklearn-color-fitted-level-1);\n",
       "}\n",
       "\n",
       "/* On hover */\n",
       "#sk-container-id-3 a.estimator_doc_link:hover {\n",
       "  /* unfitted */\n",
       "  background-color: var(--sklearn-color-unfitted-level-3);\n",
       "  color: var(--sklearn-color-background);\n",
       "  text-decoration: none;\n",
       "}\n",
       "\n",
       "#sk-container-id-3 a.estimator_doc_link.fitted:hover {\n",
       "  /* fitted */\n",
       "  background-color: var(--sklearn-color-fitted-level-3);\n",
       "}\n",
       "</style><div id=\"sk-container-id-3\" class=\"sk-top-container\"><div class=\"sk-text-repr-fallback\"><pre>GradientBoostingRegressor(random_state=2112250415)</pre><b>In a Jupyter environment, please rerun this cell to show the HTML representation or trust the notebook. <br />On GitHub, the HTML representation is unable to render, please try loading this page with nbviewer.org.</b></div><div class=\"sk-container\" hidden><div class=\"sk-item\"><div class=\"sk-estimator fitted sk-toggleable\"><input class=\"sk-toggleable__control sk-hidden--visually\" id=\"sk-estimator-id-3\" type=\"checkbox\" checked><label for=\"sk-estimator-id-3\" class=\"sk-toggleable__label fitted sk-toggleable__label-arrow fitted\">&nbsp;&nbsp;GradientBoostingRegressor<a class=\"sk-estimator-doc-link fitted\" rel=\"noreferrer\" target=\"_blank\" href=\"https://scikit-learn.org/1.5/modules/generated/sklearn.ensemble.GradientBoostingRegressor.html\">?<span>Documentation for GradientBoostingRegressor</span></a><span class=\"sk-estimator-doc-link fitted\">i<span>Fitted</span></span></label><div class=\"sk-toggleable__content fitted\"><pre>GradientBoostingRegressor(random_state=2112250415)</pre></div> </div></div></div></div>"
      ],
      "text/plain": [
       "GradientBoostingRegressor(random_state=2112250415)"
      ]
     },
     "execution_count": 176,
     "metadata": {},
     "output_type": "execute_result"
    }
   ],
   "source": [
    "gb_regressor = GradientBoostingRegressor(random_state=random_state)\n",
    "\n",
    "gb_regressor.fit(X_train, y_train)\n"
   ]
  },
  {
   "cell_type": "code",
   "execution_count": 177,
   "metadata": {},
   "outputs": [
    {
     "data": {
      "text/plain": [
       "(322,)"
      ]
     },
     "execution_count": 177,
     "metadata": {},
     "output_type": "execute_result"
    }
   ],
   "source": [
    "y_pred = gb_regressor.predict(X_test)\n",
    "y_pred.shape"
   ]
  },
  {
   "cell_type": "code",
   "execution_count": 178,
   "metadata": {},
   "outputs": [],
   "source": [
    "# match y_test shape to model output shape\n",
    "def reshape_y_for_eval(y_test):\n",
    "    return y_test.reshape(1,-1)[0]"
   ]
  },
  {
   "cell_type": "code",
   "execution_count": 179,
   "metadata": {},
   "outputs": [
    {
     "name": "stdout",
     "output_type": "stream",
     "text": [
      "R2 score: 0.928\n"
     ]
    }
   ],
   "source": [
    "print(\"R2 score:\", round(gb_regressor.score(X_test, reshape_y_for_eval(y_test)),3))"
   ]
  },
  {
   "cell_type": "markdown",
   "metadata": {},
   "source": [
    "### Invert the y scaling transformation for plotting \n",
    "Make the hardness values mean something to a domain expert"
   ]
  },
  {
   "cell_type": "code",
   "execution_count": 180,
   "metadata": {},
   "outputs": [],
   "source": [
    "def y_inverse_transform(y_data):\n",
    "    result = y_scaler.inverse_transform(y_data.reshape(-1, 1)).reshape(1,-1)[0]\n",
    "    return result"
   ]
  },
  {
   "cell_type": "code",
   "execution_count": 181,
   "metadata": {},
   "outputs": [],
   "source": [
    "y_test_invscal = y_inverse_transform(y_test)\n",
    "y_pred_invscal = y_inverse_transform(y_pred)"
   ]
  },
  {
   "cell_type": "code",
   "execution_count": 182,
   "metadata": {},
   "outputs": [
    {
     "data": {
      "text/html": [
       "<div><style>\n",
       ".dataframe > thead > tr,\n",
       ".dataframe > tbody > tr {\n",
       "  text-align: right;\n",
       "  white-space: pre-wrap;\n",
       "}\n",
       "</style>\n",
       "<small>shape: (3, 2)</small><table border=\"1\" class=\"dataframe\"><thead><tr><th>Real Final Hardness (HRC)</th><th>Predicted Final Hardness (HRC)</th></tr><tr><td>f64</td><td>f64</td></tr></thead><tbody><tr><td>57.5</td><td>56.934392</td></tr><tr><td>60.4</td><td>60.633832</td></tr><tr><td>47.5</td><td>45.07313</td></tr></tbody></table></div>"
      ],
      "text/plain": [
       "shape: (3, 2)\n",
       "┌───────────────────────────┬────────────────────────────────┐\n",
       "│ Real Final Hardness (HRC) ┆ Predicted Final Hardness (HRC) │\n",
       "│ ---                       ┆ ---                            │\n",
       "│ f64                       ┆ f64                            │\n",
       "╞═══════════════════════════╪════════════════════════════════╡\n",
       "│ 57.5                      ┆ 56.934392                      │\n",
       "│ 60.4                      ┆ 60.633832                      │\n",
       "│ 47.5                      ┆ 45.07313                       │\n",
       "└───────────────────────────┴────────────────────────────────┘"
      ]
     },
     "execution_count": 182,
     "metadata": {},
     "output_type": "execute_result"
    }
   ],
   "source": [
    "test_df = pl.DataFrame({'Real Final Hardness (HRC)' : y_test_invscal,\n",
    "                        'Predicted Final Hardness (HRC)' : y_pred_invscal})\n",
    "test_df.head(3)"
   ]
  },
  {
   "cell_type": "code",
   "execution_count": 183,
   "metadata": {},
   "outputs": [
    {
     "data": {
      "text/html": [
       "\n",
       "<style>\n",
       "  #altair-viz-800bf27b738848f0b5e3a032fae45a29.vega-embed {\n",
       "    width: 100%;\n",
       "    display: flex;\n",
       "  }\n",
       "\n",
       "  #altair-viz-800bf27b738848f0b5e3a032fae45a29.vega-embed details,\n",
       "  #altair-viz-800bf27b738848f0b5e3a032fae45a29.vega-embed details summary {\n",
       "    position: relative;\n",
       "  }\n",
       "</style>\n",
       "<div id=\"altair-viz-800bf27b738848f0b5e3a032fae45a29\"></div>\n",
       "<script type=\"text/javascript\">\n",
       "  var VEGA_DEBUG = (typeof VEGA_DEBUG == \"undefined\") ? {} : VEGA_DEBUG;\n",
       "  (function(spec, embedOpt){\n",
       "    let outputDiv = document.currentScript.previousElementSibling;\n",
       "    if (outputDiv.id !== \"altair-viz-800bf27b738848f0b5e3a032fae45a29\") {\n",
       "      outputDiv = document.getElementById(\"altair-viz-800bf27b738848f0b5e3a032fae45a29\");\n",
       "    }\n",
       "    const paths = {\n",
       "      \"vega\": \"https://cdn.jsdelivr.net/npm/vega@5?noext\",\n",
       "      \"vega-lib\": \"https://cdn.jsdelivr.net/npm/vega-lib?noext\",\n",
       "      \"vega-lite\": \"https://cdn.jsdelivr.net/npm/vega-lite@5.20.1?noext\",\n",
       "      \"vega-embed\": \"https://cdn.jsdelivr.net/npm/vega-embed@6?noext\",\n",
       "    };\n",
       "\n",
       "    function maybeLoadScript(lib, version) {\n",
       "      var key = `${lib.replace(\"-\", \"\")}_version`;\n",
       "      return (VEGA_DEBUG[key] == version) ?\n",
       "        Promise.resolve(paths[lib]) :\n",
       "        new Promise(function(resolve, reject) {\n",
       "          var s = document.createElement('script');\n",
       "          document.getElementsByTagName(\"head\")[0].appendChild(s);\n",
       "          s.async = true;\n",
       "          s.onload = () => {\n",
       "            VEGA_DEBUG[key] = version;\n",
       "            return resolve(paths[lib]);\n",
       "          };\n",
       "          s.onerror = () => reject(`Error loading script: ${paths[lib]}`);\n",
       "          s.src = paths[lib];\n",
       "        });\n",
       "    }\n",
       "\n",
       "    function showError(err) {\n",
       "      outputDiv.innerHTML = `<div class=\"error\" style=\"color:red;\">${err}</div>`;\n",
       "      throw err;\n",
       "    }\n",
       "\n",
       "    function displayChart(vegaEmbed) {\n",
       "      vegaEmbed(outputDiv, spec, embedOpt)\n",
       "        .catch(err => showError(`Javascript Error: ${err.message}<br>This usually means there's a typo in your chart specification. See the javascript console for the full traceback.`));\n",
       "    }\n",
       "\n",
       "    if(typeof define === \"function\" && define.amd) {\n",
       "      requirejs.config({paths});\n",
       "      require([\"vega-embed\"], displayChart, err => showError(`Error loading script: ${err.message}`));\n",
       "    } else {\n",
       "      maybeLoadScript(\"vega\", \"5\")\n",
       "        .then(() => maybeLoadScript(\"vega-lite\", \"5.20.1\"))\n",
       "        .then(() => maybeLoadScript(\"vega-embed\", \"6\"))\n",
       "        .catch(showError)\n",
       "        .then(() => displayChart(vegaEmbed));\n",
       "    }\n",
       "  })({\"config\": {\"view\": {\"continuousWidth\": 300, \"continuousHeight\": 300}}, \"layer\": [{\"mark\": {\"type\": \"point\"}, \"encoding\": {\"x\": {\"field\": \"Real Final Hardness (HRC)\", \"type\": \"quantitative\"}, \"y\": {\"field\": \"Predicted Final Hardness (HRC)\", \"type\": \"quantitative\"}}}, {\"mark\": {\"type\": \"line\", \"color\": \"red\"}, \"encoding\": {\"x\": {\"field\": \"Real Final Hardness (HRC)\", \"type\": \"quantitative\"}, \"y\": {\"field\": \"Predicted Final Hardness (HRC)\", \"type\": \"quantitative\"}}, \"transform\": [{\"on\": \"Real Final Hardness (HRC)\", \"regression\": \"Predicted Final Hardness (HRC)\", \"method\": \"linear\"}]}], \"data\": {\"name\": \"data-84fe3143b2eec66534f17b7ef157c356\"}, \"title\": \"GBRegression Fit\", \"$schema\": \"https://vega.github.io/schema/vega-lite/v5.20.1.json\", \"datasets\": {\"data-84fe3143b2eec66534f17b7ef157c356\": [{\"Real Final Hardness (HRC)\": 57.5, \"Predicted Final Hardness (HRC)\": 56.93439249437436}, {\"Real Final Hardness (HRC)\": 60.4, \"Predicted Final Hardness (HRC)\": 60.633831518678306}, {\"Real Final Hardness (HRC)\": 47.5, \"Predicted Final Hardness (HRC)\": 45.07312969514121}, {\"Real Final Hardness (HRC)\": 31.5, \"Predicted Final Hardness (HRC)\": 26.65033710271666}, {\"Real Final Hardness (HRC)\": 30.4, \"Predicted Final Hardness (HRC)\": 31.760828832468388}, {\"Real Final Hardness (HRC)\": 39.6, \"Predicted Final Hardness (HRC)\": 39.595480820637235}, {\"Real Final Hardness (HRC)\": 16.3, \"Predicted Final Hardness (HRC)\": 16.457895420960728}, {\"Real Final Hardness (HRC)\": 26.7, \"Predicted Final Hardness (HRC)\": 33.33392194364889}, {\"Real Final Hardness (HRC)\": 22.5, \"Predicted Final Hardness (HRC)\": 24.90038477170153}, {\"Real Final Hardness (HRC)\": 53.4, \"Predicted Final Hardness (HRC)\": 51.02084167583247}, {\"Real Final Hardness (HRC)\": 64.0, \"Predicted Final Hardness (HRC)\": 64.04808906554578}, {\"Real Final Hardness (HRC)\": 17.5, \"Predicted Final Hardness (HRC)\": 22.840556788389947}, {\"Real Final Hardness (HRC)\": 46.5, \"Predicted Final Hardness (HRC)\": 42.74209709740999}, {\"Real Final Hardness (HRC)\": 19.6, \"Predicted Final Hardness (HRC)\": 24.734329312435754}, {\"Real Final Hardness (HRC)\": 34.1, \"Predicted Final Hardness (HRC)\": 33.32736955441367}, {\"Real Final Hardness (HRC)\": 45.6, \"Predicted Final Hardness (HRC)\": 51.67270985887972}, {\"Real Final Hardness (HRC)\": 57.5, \"Predicted Final Hardness (HRC)\": 61.00418478534766}, {\"Real Final Hardness (HRC)\": 56.5, \"Predicted Final Hardness (HRC)\": 46.15340974258601}, {\"Real Final Hardness (HRC)\": 32.1, \"Predicted Final Hardness (HRC)\": 31.94160441126531}, {\"Real Final Hardness (HRC)\": 29.5, \"Predicted Final Hardness (HRC)\": 25.801507701669472}, {\"Real Final Hardness (HRC)\": 49.0, \"Predicted Final Hardness (HRC)\": 49.659430821211906}, {\"Real Final Hardness (HRC)\": 51.0, \"Predicted Final Hardness (HRC)\": 49.477389612538566}, {\"Real Final Hardness (HRC)\": 54.3, \"Predicted Final Hardness (HRC)\": 43.23106695832917}, {\"Real Final Hardness (HRC)\": 22.4, \"Predicted Final Hardness (HRC)\": 24.789631519185416}, {\"Real Final Hardness (HRC)\": 60.3, \"Predicted Final Hardness (HRC)\": 57.0603808644563}, {\"Real Final Hardness (HRC)\": 44.0, \"Predicted Final Hardness (HRC)\": 44.37149967624071}, {\"Real Final Hardness (HRC)\": 36.2, \"Predicted Final Hardness (HRC)\": 36.97682284035405}, {\"Real Final Hardness (HRC)\": 46.9, \"Predicted Final Hardness (HRC)\": 44.22735052358213}, {\"Real Final Hardness (HRC)\": 52.6, \"Predicted Final Hardness (HRC)\": 51.585797086268144}, {\"Real Final Hardness (HRC)\": 56.7, \"Predicted Final Hardness (HRC)\": 54.54267492330287}, {\"Real Final Hardness (HRC)\": 39.5, \"Predicted Final Hardness (HRC)\": 37.93921488431353}, {\"Real Final Hardness (HRC)\": 39.7, \"Predicted Final Hardness (HRC)\": 39.95937985371517}, {\"Real Final Hardness (HRC)\": 37.6, \"Predicted Final Hardness (HRC)\": 37.80772459699094}, {\"Real Final Hardness (HRC)\": 56.5, \"Predicted Final Hardness (HRC)\": 59.59282799231666}, {\"Real Final Hardness (HRC)\": 41.5, \"Predicted Final Hardness (HRC)\": 44.03858640589169}, {\"Real Final Hardness (HRC)\": 34.6, \"Predicted Final Hardness (HRC)\": 35.74837603364513}, {\"Real Final Hardness (HRC)\": 44.0, \"Predicted Final Hardness (HRC)\": 47.433993004502156}, {\"Real Final Hardness (HRC)\": 49.5, \"Predicted Final Hardness (HRC)\": 54.88756666178992}, {\"Real Final Hardness (HRC)\": 40.0, \"Predicted Final Hardness (HRC)\": 45.63414051246886}, {\"Real Final Hardness (HRC)\": 47.7, \"Predicted Final Hardness (HRC)\": 49.0447424815123}, {\"Real Final Hardness (HRC)\": 39.5, \"Predicted Final Hardness (HRC)\": 45.56812258651417}, {\"Real Final Hardness (HRC)\": 49.9, \"Predicted Final Hardness (HRC)\": 52.765388784625365}, {\"Real Final Hardness (HRC)\": 65.5, \"Predicted Final Hardness (HRC)\": 59.75719697850509}, {\"Real Final Hardness (HRC)\": 16.5, \"Predicted Final Hardness (HRC)\": 13.440852344449265}, {\"Real Final Hardness (HRC)\": 51.2, \"Predicted Final Hardness (HRC)\": 46.67589867232617}, {\"Real Final Hardness (HRC)\": 44.9, \"Predicted Final Hardness (HRC)\": 48.31316707965091}, {\"Real Final Hardness (HRC)\": 36.1, \"Predicted Final Hardness (HRC)\": 36.80769816448191}, {\"Real Final Hardness (HRC)\": 17.1, \"Predicted Final Hardness (HRC)\": 20.066768809573876}, {\"Real Final Hardness (HRC)\": 59.5, \"Predicted Final Hardness (HRC)\": 57.50018798121024}, {\"Real Final Hardness (HRC)\": 56.5, \"Predicted Final Hardness (HRC)\": 59.79719170962581}, {\"Real Final Hardness (HRC)\": 52.2, \"Predicted Final Hardness (HRC)\": 57.21380402562229}, {\"Real Final Hardness (HRC)\": 18.0, \"Predicted Final Hardness (HRC)\": 30.4877787046521}, {\"Real Final Hardness (HRC)\": 14.0, \"Predicted Final Hardness (HRC)\": 25.00560541851354}, {\"Real Final Hardness (HRC)\": 44.0, \"Predicted Final Hardness (HRC)\": 41.261239664679664}, {\"Real Final Hardness (HRC)\": 18.7, \"Predicted Final Hardness (HRC)\": 10.684495182451279}, {\"Real Final Hardness (HRC)\": 33.2, \"Predicted Final Hardness (HRC)\": 39.037890886092015}, {\"Real Final Hardness (HRC)\": 48.0, \"Predicted Final Hardness (HRC)\": 47.36327813997211}, {\"Real Final Hardness (HRC)\": 18.5, \"Predicted Final Hardness (HRC)\": 10.01500778844057}, {\"Real Final Hardness (HRC)\": 27.8, \"Predicted Final Hardness (HRC)\": 27.403187134687727}, {\"Real Final Hardness (HRC)\": 49.0, \"Predicted Final Hardness (HRC)\": 51.61524039003309}, {\"Real Final Hardness (HRC)\": 32.2, \"Predicted Final Hardness (HRC)\": 32.51587080567719}, {\"Real Final Hardness (HRC)\": 39.4, \"Predicted Final Hardness (HRC)\": 36.64052603450013}, {\"Real Final Hardness (HRC)\": 9.899999999999999, \"Predicted Final Hardness (HRC)\": 11.478318433406987}, {\"Real Final Hardness (HRC)\": 42.9, \"Predicted Final Hardness (HRC)\": 43.058951584168675}, {\"Real Final Hardness (HRC)\": 39.0, \"Predicted Final Hardness (HRC)\": 35.10592227138833}, {\"Real Final Hardness (HRC)\": 12.499999999999996, \"Predicted Final Hardness (HRC)\": 20.431911540565263}, {\"Real Final Hardness (HRC)\": 51.0, \"Predicted Final Hardness (HRC)\": 51.02767569848779}, {\"Real Final Hardness (HRC)\": 9.5, \"Predicted Final Hardness (HRC)\": 9.277416638210148}, {\"Real Final Hardness (HRC)\": 58.5, \"Predicted Final Hardness (HRC)\": 58.22027685820754}, {\"Real Final Hardness (HRC)\": 33.9, \"Predicted Final Hardness (HRC)\": 40.167004582644196}, {\"Real Final Hardness (HRC)\": 23.1, \"Predicted Final Hardness (HRC)\": 23.940442373273722}, {\"Real Final Hardness (HRC)\": 66.5, \"Predicted Final Hardness (HRC)\": 64.94573262179141}, {\"Real Final Hardness (HRC)\": 27.0, \"Predicted Final Hardness (HRC)\": 30.874154322408657}, {\"Real Final Hardness (HRC)\": 49.8, \"Predicted Final Hardness (HRC)\": 50.48341737128018}, {\"Real Final Hardness (HRC)\": 28.8, \"Predicted Final Hardness (HRC)\": 31.3121818520475}, {\"Real Final Hardness (HRC)\": 53.7, \"Predicted Final Hardness (HRC)\": 55.52781332723268}, {\"Real Final Hardness (HRC)\": 54.4, \"Predicted Final Hardness (HRC)\": 46.13213494928967}, {\"Real Final Hardness (HRC)\": 36.9, \"Predicted Final Hardness (HRC)\": 39.87875996195055}, {\"Real Final Hardness (HRC)\": 49.0, \"Predicted Final Hardness (HRC)\": 44.76194725455008}, {\"Real Final Hardness (HRC)\": 59.5, \"Predicted Final Hardness (HRC)\": 54.301780129409806}, {\"Real Final Hardness (HRC)\": 63.5, \"Predicted Final Hardness (HRC)\": 61.285557955586924}, {\"Real Final Hardness (HRC)\": 35.0, \"Predicted Final Hardness (HRC)\": 32.055737101915376}, {\"Real Final Hardness (HRC)\": 46.4, \"Predicted Final Hardness (HRC)\": 46.75737744169209}, {\"Real Final Hardness (HRC)\": 19.4, \"Predicted Final Hardness (HRC)\": 31.934138626010952}, {\"Real Final Hardness (HRC)\": 43.1, \"Predicted Final Hardness (HRC)\": 46.45608729342742}, {\"Real Final Hardness (HRC)\": 48.7, \"Predicted Final Hardness (HRC)\": 43.455589047744525}, {\"Real Final Hardness (HRC)\": 6.5, \"Predicted Final Hardness (HRC)\": 10.157933000730804}, {\"Real Final Hardness (HRC)\": 43.7, \"Predicted Final Hardness (HRC)\": 41.832125862271205}, {\"Real Final Hardness (HRC)\": 50.5, \"Predicted Final Hardness (HRC)\": 51.10673730277228}, {\"Real Final Hardness (HRC)\": 19.5, \"Predicted Final Hardness (HRC)\": 23.852290667643427}, {\"Real Final Hardness (HRC)\": 63.5, \"Predicted Final Hardness (HRC)\": 64.27175971267701}, {\"Real Final Hardness (HRC)\": 48.0, \"Predicted Final Hardness (HRC)\": 45.76601392261504}, {\"Real Final Hardness (HRC)\": 56.7, \"Predicted Final Hardness (HRC)\": 54.671681713546704}, {\"Real Final Hardness (HRC)\": 52.5, \"Predicted Final Hardness (HRC)\": 38.12601031706926}, {\"Real Final Hardness (HRC)\": 32.0, \"Predicted Final Hardness (HRC)\": 38.81624172244979}, {\"Real Final Hardness (HRC)\": 30.5, \"Predicted Final Hardness (HRC)\": 33.12430646502316}, {\"Real Final Hardness (HRC)\": 29.6, \"Predicted Final Hardness (HRC)\": 26.293930068908196}, {\"Real Final Hardness (HRC)\": 62.9, \"Predicted Final Hardness (HRC)\": 61.02217329862894}, {\"Real Final Hardness (HRC)\": 12.499999999999996, \"Predicted Final Hardness (HRC)\": 9.799314927381317}, {\"Real Final Hardness (HRC)\": 61.0, \"Predicted Final Hardness (HRC)\": 59.79719170962581}, {\"Real Final Hardness (HRC)\": 39.9, \"Predicted Final Hardness (HRC)\": 41.02414388068164}, {\"Real Final Hardness (HRC)\": 51.9, \"Predicted Final Hardness (HRC)\": 47.56486733630898}, {\"Real Final Hardness (HRC)\": 22.4, \"Predicted Final Hardness (HRC)\": 25.073207398215743}, {\"Real Final Hardness (HRC)\": 34.5, \"Predicted Final Hardness (HRC)\": 25.994328117278336}, {\"Real Final Hardness (HRC)\": 39.3, \"Predicted Final Hardness (HRC)\": 40.613738063129034}, {\"Real Final Hardness (HRC)\": 29.0, \"Predicted Final Hardness (HRC)\": 35.042118358458744}, {\"Real Final Hardness (HRC)\": 31.0, \"Predicted Final Hardness (HRC)\": 31.47062797913626}, {\"Real Final Hardness (HRC)\": 4.5, \"Predicted Final Hardness (HRC)\": 15.802676054911366}, {\"Real Final Hardness (HRC)\": 38.6, \"Predicted Final Hardness (HRC)\": 37.542464095700865}, {\"Real Final Hardness (HRC)\": 53.2, \"Predicted Final Hardness (HRC)\": 55.98932777160554}, {\"Real Final Hardness (HRC)\": 50.0, \"Predicted Final Hardness (HRC)\": 44.73926324505373}, {\"Real Final Hardness (HRC)\": 43.0, \"Predicted Final Hardness (HRC)\": 34.79689738279733}, {\"Real Final Hardness (HRC)\": 51.4, \"Predicted Final Hardness (HRC)\": 52.25075936306219}, {\"Real Final Hardness (HRC)\": 61.0, \"Predicted Final Hardness (HRC)\": 63.01434010160441}, {\"Real Final Hardness (HRC)\": 34.8, \"Predicted Final Hardness (HRC)\": 27.32048611403588}, {\"Real Final Hardness (HRC)\": 8.600000000000001, \"Predicted Final Hardness (HRC)\": 12.396520127079572}, {\"Real Final Hardness (HRC)\": 54.5, \"Predicted Final Hardness (HRC)\": 55.006583241017914}, {\"Real Final Hardness (HRC)\": 38.5, \"Predicted Final Hardness (HRC)\": 37.98481296273779}, {\"Real Final Hardness (HRC)\": 23.0, \"Predicted Final Hardness (HRC)\": 17.65688458098244}, {\"Real Final Hardness (HRC)\": 46.5, \"Predicted Final Hardness (HRC)\": 48.02030315860308}, {\"Real Final Hardness (HRC)\": 47.5, \"Predicted Final Hardness (HRC)\": 48.28333241240991}, {\"Real Final Hardness (HRC)\": 51.4, \"Predicted Final Hardness (HRC)\": 52.000208937429804}, {\"Real Final Hardness (HRC)\": 49.3, \"Predicted Final Hardness (HRC)\": 45.2162797494198}, {\"Real Final Hardness (HRC)\": 38.5, \"Predicted Final Hardness (HRC)\": 38.61044553361664}, {\"Real Final Hardness (HRC)\": 63.2, \"Predicted Final Hardness (HRC)\": 60.13934468394091}, {\"Real Final Hardness (HRC)\": 37.4, \"Predicted Final Hardness (HRC)\": 43.283261256157296}, {\"Real Final Hardness (HRC)\": 59.1, \"Predicted Final Hardness (HRC)\": 58.69247001109983}, {\"Real Final Hardness (HRC)\": 6.0, \"Predicted Final Hardness (HRC)\": 6.9858870077093655}, {\"Real Final Hardness (HRC)\": 35.4, \"Predicted Final Hardness (HRC)\": 38.94749583475897}, {\"Real Final Hardness (HRC)\": 43.0, \"Predicted Final Hardness (HRC)\": 42.55660908470762}, {\"Real Final Hardness (HRC)\": 31.5, \"Predicted Final Hardness (HRC)\": 23.62500347313193}, {\"Real Final Hardness (HRC)\": 58.7, \"Predicted Final Hardness (HRC)\": 56.1079886135565}, {\"Real Final Hardness (HRC)\": 39.0, \"Predicted Final Hardness (HRC)\": 35.706567531726336}, {\"Real Final Hardness (HRC)\": 45.2, \"Predicted Final Hardness (HRC)\": 40.23492775973218}, {\"Real Final Hardness (HRC)\": 18.9, \"Predicted Final Hardness (HRC)\": 24.81616999502015}, {\"Real Final Hardness (HRC)\": 63.3, \"Predicted Final Hardness (HRC)\": 60.76730940510393}, {\"Real Final Hardness (HRC)\": 35.5, \"Predicted Final Hardness (HRC)\": 35.9127983125018}, {\"Real Final Hardness (HRC)\": 61.0, \"Predicted Final Hardness (HRC)\": 58.33493896989549}, {\"Real Final Hardness (HRC)\": 14.2, \"Predicted Final Hardness (HRC)\": 18.668531268954037}, {\"Real Final Hardness (HRC)\": 31.5, \"Predicted Final Hardness (HRC)\": 32.5533971626983}, {\"Real Final Hardness (HRC)\": 40.3, \"Predicted Final Hardness (HRC)\": 40.613738063129034}, {\"Real Final Hardness (HRC)\": 56.0, \"Predicted Final Hardness (HRC)\": 57.61248845369265}, {\"Real Final Hardness (HRC)\": 35.1, \"Predicted Final Hardness (HRC)\": 36.095820804872645}, {\"Real Final Hardness (HRC)\": 50.7, \"Predicted Final Hardness (HRC)\": 48.66522366707355}, {\"Real Final Hardness (HRC)\": 39.2, \"Predicted Final Hardness (HRC)\": 44.081011454588825}, {\"Real Final Hardness (HRC)\": 30.5, \"Predicted Final Hardness (HRC)\": 33.649765331750466}, {\"Real Final Hardness (HRC)\": 44.1, \"Predicted Final Hardness (HRC)\": 39.134315074621895}, {\"Real Final Hardness (HRC)\": 30.3, \"Predicted Final Hardness (HRC)\": 31.830990905229115}, {\"Real Final Hardness (HRC)\": 49.2, \"Predicted Final Hardness (HRC)\": 48.652032399055166}, {\"Real Final Hardness (HRC)\": 46.5, \"Predicted Final Hardness (HRC)\": 41.57905681400754}, {\"Real Final Hardness (HRC)\": 51.4, \"Predicted Final Hardness (HRC)\": 54.36791838194989}, {\"Real Final Hardness (HRC)\": 47.2, \"Predicted Final Hardness (HRC)\": 48.540797145707344}, {\"Real Final Hardness (HRC)\": 53.2, \"Predicted Final Hardness (HRC)\": 51.6239396511122}, {\"Real Final Hardness (HRC)\": 66.5, \"Predicted Final Hardness (HRC)\": 65.96240989391048}, {\"Real Final Hardness (HRC)\": 48.1, \"Predicted Final Hardness (HRC)\": 52.269679752424935}, {\"Real Final Hardness (HRC)\": 50.4, \"Predicted Final Hardness (HRC)\": 48.775687289709644}, {\"Real Final Hardness (HRC)\": 41.5, \"Predicted Final Hardness (HRC)\": 37.26790624939059}, {\"Real Final Hardness (HRC)\": 62.5, \"Predicted Final Hardness (HRC)\": 60.012467027772516}, {\"Real Final Hardness (HRC)\": 44.0, \"Predicted Final Hardness (HRC)\": 46.98782086799932}, {\"Real Final Hardness (HRC)\": 31.2, \"Predicted Final Hardness (HRC)\": 31.419635560947533}, {\"Real Final Hardness (HRC)\": 15.5, \"Predicted Final Hardness (HRC)\": 19.074201621076057}, {\"Real Final Hardness (HRC)\": 19.0, \"Predicted Final Hardness (HRC)\": 22.820633492574647}, {\"Real Final Hardness (HRC)\": 39.6, \"Predicted Final Hardness (HRC)\": 41.2539995345641}, {\"Real Final Hardness (HRC)\": 44.9, \"Predicted Final Hardness (HRC)\": 42.70284619711318}, {\"Real Final Hardness (HRC)\": 60.1, \"Predicted Final Hardness (HRC)\": 57.0603808644563}, {\"Real Final Hardness (HRC)\": 29.7, \"Predicted Final Hardness (HRC)\": 34.24003492975807}, {\"Real Final Hardness (HRC)\": 50.3, \"Predicted Final Hardness (HRC)\": 47.89495034960316}, {\"Real Final Hardness (HRC)\": 29.5, \"Predicted Final Hardness (HRC)\": 31.94160441126531}, {\"Real Final Hardness (HRC)\": 36.5, \"Predicted Final Hardness (HRC)\": 41.288550968281676}, {\"Real Final Hardness (HRC)\": 38.2, \"Predicted Final Hardness (HRC)\": 36.352063600723625}, {\"Real Final Hardness (HRC)\": 19.4, \"Predicted Final Hardness (HRC)\": 27.67685446606322}, {\"Real Final Hardness (HRC)\": 52.9, \"Predicted Final Hardness (HRC)\": 51.724589145729155}, {\"Real Final Hardness (HRC)\": 45.0, \"Predicted Final Hardness (HRC)\": 43.2402247118954}, {\"Real Final Hardness (HRC)\": 16.0, \"Predicted Final Hardness (HRC)\": 17.15411323573776}, {\"Real Final Hardness (HRC)\": 67.5, \"Predicted Final Hardness (HRC)\": 65.57756507670172}, {\"Real Final Hardness (HRC)\": 10.899999999999995, \"Predicted Final Hardness (HRC)\": 13.628057296287793}, {\"Real Final Hardness (HRC)\": 59.1, \"Predicted Final Hardness (HRC)\": 60.94341819384646}, {\"Real Final Hardness (HRC)\": 41.2, \"Predicted Final Hardness (HRC)\": 47.87772561065122}, {\"Real Final Hardness (HRC)\": 46.7, \"Predicted Final Hardness (HRC)\": 46.91474365188366}, {\"Real Final Hardness (HRC)\": 47.5, \"Predicted Final Hardness (HRC)\": 47.29344131219314}, {\"Real Final Hardness (HRC)\": 45.7, \"Predicted Final Hardness (HRC)\": 50.27144028363185}, {\"Real Final Hardness (HRC)\": 35.5, \"Predicted Final Hardness (HRC)\": 27.591217627915782}, {\"Real Final Hardness (HRC)\": 35.8, \"Predicted Final Hardness (HRC)\": 32.990825730694475}, {\"Real Final Hardness (HRC)\": 47.2, \"Predicted Final Hardness (HRC)\": 50.83910561518068}, {\"Real Final Hardness (HRC)\": 36.2, \"Predicted Final Hardness (HRC)\": 36.97682284035405}, {\"Real Final Hardness (HRC)\": 48.5, \"Predicted Final Hardness (HRC)\": 48.26591708018107}, {\"Real Final Hardness (HRC)\": 25.5, \"Predicted Final Hardness (HRC)\": 25.574554864141664}, {\"Real Final Hardness (HRC)\": 27.199999999999996, \"Predicted Final Hardness (HRC)\": 27.647419442899256}, {\"Real Final Hardness (HRC)\": 25.3, \"Predicted Final Hardness (HRC)\": 25.95128558154242}, {\"Real Final Hardness (HRC)\": 48.9, \"Predicted Final Hardness (HRC)\": 48.92994097769207}, {\"Real Final Hardness (HRC)\": 27.8, \"Predicted Final Hardness (HRC)\": 28.87481493362449}, {\"Real Final Hardness (HRC)\": 50.0, \"Predicted Final Hardness (HRC)\": 47.976089584950984}, {\"Real Final Hardness (HRC)\": 42.5, \"Predicted Final Hardness (HRC)\": 32.339443810075196}, {\"Real Final Hardness (HRC)\": 56.4, \"Predicted Final Hardness (HRC)\": 58.46083504332173}, {\"Real Final Hardness (HRC)\": 63.1, \"Predicted Final Hardness (HRC)\": 61.87079252028674}, {\"Real Final Hardness (HRC)\": 39.2, \"Predicted Final Hardness (HRC)\": 37.78917621577212}, {\"Real Final Hardness (HRC)\": 52.6, \"Predicted Final Hardness (HRC)\": 49.886276350149444}, {\"Real Final Hardness (HRC)\": 33.0, \"Predicted Final Hardness (HRC)\": 29.32764246706069}, {\"Real Final Hardness (HRC)\": 37.0, \"Predicted Final Hardness (HRC)\": 34.92368608895217}, {\"Real Final Hardness (HRC)\": 50.0, \"Predicted Final Hardness (HRC)\": 54.87262809589325}, {\"Real Final Hardness (HRC)\": 30.9, \"Predicted Final Hardness (HRC)\": 32.02868764347102}, {\"Real Final Hardness (HRC)\": 48.0, \"Predicted Final Hardness (HRC)\": 50.69794131943693}, {\"Real Final Hardness (HRC)\": 24.2, \"Predicted Final Hardness (HRC)\": 22.610640673737887}, {\"Real Final Hardness (HRC)\": 36.6, \"Predicted Final Hardness (HRC)\": 35.347419518416096}, {\"Real Final Hardness (HRC)\": 46.8, \"Predicted Final Hardness (HRC)\": 46.41414875758285}, {\"Real Final Hardness (HRC)\": 37.0, \"Predicted Final Hardness (HRC)\": 31.758345578567315}, {\"Real Final Hardness (HRC)\": 50.0, \"Predicted Final Hardness (HRC)\": 48.35613979385005}, {\"Real Final Hardness (HRC)\": 31.4, \"Predicted Final Hardness (HRC)\": 35.50167812301568}, {\"Real Final Hardness (HRC)\": 54.5, \"Predicted Final Hardness (HRC)\": 53.14527690001794}, {\"Real Final Hardness (HRC)\": 63.0, \"Predicted Final Hardness (HRC)\": 61.285557955586924}, {\"Real Final Hardness (HRC)\": 46.5, \"Predicted Final Hardness (HRC)\": 47.12140173013235}, {\"Real Final Hardness (HRC)\": 45.3, \"Predicted Final Hardness (HRC)\": 43.85616949174386}, {\"Real Final Hardness (HRC)\": 62.7, \"Predicted Final Hardness (HRC)\": 61.02217329862894}, {\"Real Final Hardness (HRC)\": 55.3, \"Predicted Final Hardness (HRC)\": 55.95956393354907}, {\"Real Final Hardness (HRC)\": 62.4, \"Predicted Final Hardness (HRC)\": 60.76730940510393}, {\"Real Final Hardness (HRC)\": 63.3, \"Predicted Final Hardness (HRC)\": 61.02217329862894}, {\"Real Final Hardness (HRC)\": 65.5, \"Predicted Final Hardness (HRC)\": 64.17455298747907}, {\"Real Final Hardness (HRC)\": 33.3, \"Predicted Final Hardness (HRC)\": 36.881761993401526}, {\"Real Final Hardness (HRC)\": 33.5, \"Predicted Final Hardness (HRC)\": 34.599673276574215}, {\"Real Final Hardness (HRC)\": 48.6, \"Predicted Final Hardness (HRC)\": 48.45430922000146}, {\"Real Final Hardness (HRC)\": 37.1, \"Predicted Final Hardness (HRC)\": 38.085091398971535}, {\"Real Final Hardness (HRC)\": 66.5, \"Predicted Final Hardness (HRC)\": 65.3182568669095}, {\"Real Final Hardness (HRC)\": 54.5, \"Predicted Final Hardness (HRC)\": 55.36265093801973}, {\"Real Final Hardness (HRC)\": 67.0, \"Predicted Final Hardness (HRC)\": 65.33196178728349}, {\"Real Final Hardness (HRC)\": 66.5, \"Predicted Final Hardness (HRC)\": 60.012467027772516}, {\"Real Final Hardness (HRC)\": 63.5, \"Predicted Final Hardness (HRC)\": 59.83107498321707}, {\"Real Final Hardness (HRC)\": 63.3, \"Predicted Final Hardness (HRC)\": 60.13934468394091}, {\"Real Final Hardness (HRC)\": 57.7, \"Predicted Final Hardness (HRC)\": 53.201807472961356}, {\"Real Final Hardness (HRC)\": 36.9, \"Predicted Final Hardness (HRC)\": 39.12838891981326}, {\"Real Final Hardness (HRC)\": 48.3, \"Predicted Final Hardness (HRC)\": 46.982553022899204}, {\"Real Final Hardness (HRC)\": 49.6, \"Predicted Final Hardness (HRC)\": 42.61513494927129}, {\"Real Final Hardness (HRC)\": 33.0, \"Predicted Final Hardness (HRC)\": 30.203391575567913}, {\"Real Final Hardness (HRC)\": 50.0, \"Predicted Final Hardness (HRC)\": 50.774578051285374}, {\"Real Final Hardness (HRC)\": 60.8, \"Predicted Final Hardness (HRC)\": 59.74322562068078}, {\"Real Final Hardness (HRC)\": 47.0, \"Predicted Final Hardness (HRC)\": 48.766414737159074}, {\"Real Final Hardness (HRC)\": 66.0, \"Predicted Final Hardness (HRC)\": 64.27175971267701}, {\"Real Final Hardness (HRC)\": 57.4, \"Predicted Final Hardness (HRC)\": 60.33909719370948}, {\"Real Final Hardness (HRC)\": 13.5, \"Predicted Final Hardness (HRC)\": 18.62009304735812}, {\"Real Final Hardness (HRC)\": 48.3, \"Predicted Final Hardness (HRC)\": 50.32841742616412}, {\"Real Final Hardness (HRC)\": 38.1, \"Predicted Final Hardness (HRC)\": 43.56276611795075}, {\"Real Final Hardness (HRC)\": 41.0, \"Predicted Final Hardness (HRC)\": 44.37149967624071}, {\"Real Final Hardness (HRC)\": 35.6, \"Predicted Final Hardness (HRC)\": 32.96997788644751}, {\"Real Final Hardness (HRC)\": 48.5, \"Predicted Final Hardness (HRC)\": 41.288550968281676}, {\"Real Final Hardness (HRC)\": 42.5, \"Predicted Final Hardness (HRC)\": 45.31115021815177}, {\"Real Final Hardness (HRC)\": 51.2, \"Predicted Final Hardness (HRC)\": 49.7207386614231}, {\"Real Final Hardness (HRC)\": 46.5, \"Predicted Final Hardness (HRC)\": 48.93643890340164}, {\"Real Final Hardness (HRC)\": 54.6, \"Predicted Final Hardness (HRC)\": 41.26588198880181}, {\"Real Final Hardness (HRC)\": 58.3, \"Predicted Final Hardness (HRC)\": 56.5416229709006}, {\"Real Final Hardness (HRC)\": 43.6, \"Predicted Final Hardness (HRC)\": 40.958200950399345}, {\"Real Final Hardness (HRC)\": 51.6, \"Predicted Final Hardness (HRC)\": 49.96992411421107}, {\"Real Final Hardness (HRC)\": 46.0, \"Predicted Final Hardness (HRC)\": 50.101003211427155}, {\"Real Final Hardness (HRC)\": 49.1, \"Predicted Final Hardness (HRC)\": 44.32404213663136}, {\"Real Final Hardness (HRC)\": 31.9, \"Predicted Final Hardness (HRC)\": 34.32923211669682}, {\"Real Final Hardness (HRC)\": 49.5, \"Predicted Final Hardness (HRC)\": 50.825000600326256}, {\"Real Final Hardness (HRC)\": 58.4, \"Predicted Final Hardness (HRC)\": 60.56328527269654}, {\"Real Final Hardness (HRC)\": 59.5, \"Predicted Final Hardness (HRC)\": 61.493271632317416}, {\"Real Final Hardness (HRC)\": 49.9, \"Predicted Final Hardness (HRC)\": 51.04741201544475}, {\"Real Final Hardness (HRC)\": 59.8, \"Predicted Final Hardness (HRC)\": 62.9077365370308}, {\"Real Final Hardness (HRC)\": 19.2, \"Predicted Final Hardness (HRC)\": 25.015127784643852}, {\"Real Final Hardness (HRC)\": 34.2, \"Predicted Final Hardness (HRC)\": 32.990825730694475}, {\"Real Final Hardness (HRC)\": 34.0, \"Predicted Final Hardness (HRC)\": 32.130512622447846}, {\"Real Final Hardness (HRC)\": 22.6, \"Predicted Final Hardness (HRC)\": 25.232723052107342}, {\"Real Final Hardness (HRC)\": 49.0, \"Predicted Final Hardness (HRC)\": 49.659430821211906}, {\"Real Final Hardness (HRC)\": 58.5, \"Predicted Final Hardness (HRC)\": 63.76049320569358}, {\"Real Final Hardness (HRC)\": 44.8, \"Predicted Final Hardness (HRC)\": 45.146462340249116}, {\"Real Final Hardness (HRC)\": 39.0, \"Predicted Final Hardness (HRC)\": 39.68464166003226}, {\"Real Final Hardness (HRC)\": 17.3, \"Predicted Final Hardness (HRC)\": 18.878190455827074}, {\"Real Final Hardness (HRC)\": 60.5, \"Predicted Final Hardness (HRC)\": 60.382061984809155}, {\"Real Final Hardness (HRC)\": 60.0, \"Predicted Final Hardness (HRC)\": 60.633831518678306}, {\"Real Final Hardness (HRC)\": 50.5, \"Predicted Final Hardness (HRC)\": 49.73211245241542}, {\"Real Final Hardness (HRC)\": 28.5, \"Predicted Final Hardness (HRC)\": 28.39486421160069}, {\"Real Final Hardness (HRC)\": 8.600000000000001, \"Predicted Final Hardness (HRC)\": 13.848324213636701}, {\"Real Final Hardness (HRC)\": 38.5, \"Predicted Final Hardness (HRC)\": 39.168203068396195}, {\"Real Final Hardness (HRC)\": 29.0, \"Predicted Final Hardness (HRC)\": 27.903343973757018}, {\"Real Final Hardness (HRC)\": 47.6, \"Predicted Final Hardness (HRC)\": 45.61242101156808}, {\"Real Final Hardness (HRC)\": 29.1, \"Predicted Final Hardness (HRC)\": 35.4109974359518}, {\"Real Final Hardness (HRC)\": 49.1, \"Predicted Final Hardness (HRC)\": 49.15744002237333}, {\"Real Final Hardness (HRC)\": 67.5, \"Predicted Final Hardness (HRC)\": 64.94573262179141}, {\"Real Final Hardness (HRC)\": 57.8, \"Predicted Final Hardness (HRC)\": 46.453241456101715}, {\"Real Final Hardness (HRC)\": 20.5, \"Predicted Final Hardness (HRC)\": 23.25385041514382}, {\"Real Final Hardness (HRC)\": 67.5, \"Predicted Final Hardness (HRC)\": 64.17455298747907}, {\"Real Final Hardness (HRC)\": 44.3, \"Predicted Final Hardness (HRC)\": 42.389549588063026}, {\"Real Final Hardness (HRC)\": 31.2, \"Predicted Final Hardness (HRC)\": 30.783006891503046}, {\"Real Final Hardness (HRC)\": 11.400000000000002, \"Predicted Final Hardness (HRC)\": 11.802963573372175}, {\"Real Final Hardness (HRC)\": 28.0, \"Predicted Final Hardness (HRC)\": 28.23681698106452}, {\"Real Final Hardness (HRC)\": 57.5, \"Predicted Final Hardness (HRC)\": 59.59341447511172}, {\"Real Final Hardness (HRC)\": 56.7, \"Predicted Final Hardness (HRC)\": 54.13454260582455}, {\"Real Final Hardness (HRC)\": 37.5, \"Predicted Final Hardness (HRC)\": 33.86993069550977}, {\"Real Final Hardness (HRC)\": 54.5, \"Predicted Final Hardness (HRC)\": 53.98748565847263}, {\"Real Final Hardness (HRC)\": 31.3, \"Predicted Final Hardness (HRC)\": 36.19456915449288}, {\"Real Final Hardness (HRC)\": 37.3, \"Predicted Final Hardness (HRC)\": 41.85062445178005}, {\"Real Final Hardness (HRC)\": 45.0, \"Predicted Final Hardness (HRC)\": 47.2801774619908}, {\"Real Final Hardness (HRC)\": 34.6, \"Predicted Final Hardness (HRC)\": 31.375658821470026}, {\"Real Final Hardness (HRC)\": 51.6, \"Predicted Final Hardness (HRC)\": 58.36569392811988}, {\"Real Final Hardness (HRC)\": 46.5, \"Predicted Final Hardness (HRC)\": 50.678777007051025}, {\"Real Final Hardness (HRC)\": 51.5, \"Predicted Final Hardness (HRC)\": 53.122627188466296}, {\"Real Final Hardness (HRC)\": 17.1, \"Predicted Final Hardness (HRC)\": 22.458102719061383}, {\"Real Final Hardness (HRC)\": 49.1, \"Predicted Final Hardness (HRC)\": 44.05291613230241}, {\"Real Final Hardness (HRC)\": 51.7, \"Predicted Final Hardness (HRC)\": 41.26588198880181}, {\"Real Final Hardness (HRC)\": 64.5, \"Predicted Final Hardness (HRC)\": 64.17455298747907}, {\"Real Final Hardness (HRC)\": 53.4, \"Predicted Final Hardness (HRC)\": 52.04877348975616}, {\"Real Final Hardness (HRC)\": 29.2, \"Predicted Final Hardness (HRC)\": 35.791831839572396}, {\"Real Final Hardness (HRC)\": 51.9, \"Predicted Final Hardness (HRC)\": 57.7092708628139}, {\"Real Final Hardness (HRC)\": 30.5, \"Predicted Final Hardness (HRC)\": 27.591217627915782}, {\"Real Final Hardness (HRC)\": 29.6, \"Predicted Final Hardness (HRC)\": 33.419175226566104}, {\"Real Final Hardness (HRC)\": 9.399999999999999, \"Predicted Final Hardness (HRC)\": 15.924353646221782}, {\"Real Final Hardness (HRC)\": 20.9, \"Predicted Final Hardness (HRC)\": 24.585872896038424}, {\"Real Final Hardness (HRC)\": 45.5, \"Predicted Final Hardness (HRC)\": 50.59395052930336}, {\"Real Final Hardness (HRC)\": 39.3, \"Predicted Final Hardness (HRC)\": 36.352063600723625}, {\"Real Final Hardness (HRC)\": 31.6, \"Predicted Final Hardness (HRC)\": 37.207008830184904}, {\"Real Final Hardness (HRC)\": 36.3, \"Predicted Final Hardness (HRC)\": 38.87413602168358}, {\"Real Final Hardness (HRC)\": 13.5, \"Predicted Final Hardness (HRC)\": 17.57490316652139}, {\"Real Final Hardness (HRC)\": 28.5, \"Predicted Final Hardness (HRC)\": 31.963302573461426}, {\"Real Final Hardness (HRC)\": 29.7, \"Predicted Final Hardness (HRC)\": 30.58872889050298}, {\"Real Final Hardness (HRC)\": 2.6000000000000014, \"Predicted Final Hardness (HRC)\": 7.259344513964564}, {\"Real Final Hardness (HRC)\": 21.2, \"Predicted Final Hardness (HRC)\": 25.218427383510033}, {\"Real Final Hardness (HRC)\": 16.5, \"Predicted Final Hardness (HRC)\": 21.973954896041384}, {\"Real Final Hardness (HRC)\": 20.9, \"Predicted Final Hardness (HRC)\": 22.14534078745578}, {\"Real Final Hardness (HRC)\": 21.0, \"Predicted Final Hardness (HRC)\": 20.0104702603841}, {\"Real Final Hardness (HRC)\": 31.0, \"Predicted Final Hardness (HRC)\": 26.043654341976307}, {\"Real Final Hardness (HRC)\": 53.2, \"Predicted Final Hardness (HRC)\": 47.26734511110523}, {\"Real Final Hardness (HRC)\": 46.4, \"Predicted Final Hardness (HRC)\": 46.448146471886176}]}}, {\"mode\": \"vega-lite\"});\n",
       "</script>"
      ],
      "text/plain": [
       "alt.LayerChart(...)"
      ]
     },
     "execution_count": 183,
     "metadata": {},
     "output_type": "execute_result"
    }
   ],
   "source": [
    "base = alt.Chart(test_df).mark_point().encode(\n",
    "    alt.X('Real Final Hardness (HRC)'),\n",
    "    alt.Y('Predicted Final Hardness (HRC)')\n",
    ")\n",
    "\n",
    "fit = base.transform_regression(\n",
    "    'Real Final Hardness (HRC)','Predicted Final Hardness (HRC)', method='linear'\n",
    ").mark_line(color='red').encode()\n",
    "\n",
    "plot = (base + fit).properties(title='GBRegression Fit')\n",
    "plot.save(f\"{images_path}/GBR_fit.png\")\n",
    "plot"
   ]
  },
  {
   "cell_type": "markdown",
   "metadata": {},
   "source": [
    "## Gradient boost regression as a good fit\n",
    "\n",
    "R2 score is 0.92 without scaling. This is quite good.\n",
    "\n",
    "R2 score is 0.93 with y-scaling. Marginally better.\n",
    "\n",
    "Moving to a Deep Neural Network model to try and improve performance. \n",
    "\n",
    "# Deep Neural Network Model"
   ]
  },
  {
   "cell_type": "code",
   "execution_count": 184,
   "metadata": {},
   "outputs": [
    {
     "name": "stdout",
     "output_type": "stream",
     "text": [
      "Xdim 13 | ydim 1\n"
     ]
    }
   ],
   "source": [
    "dim_input = X_test.shape[1]\n",
    "dim_output = y.shape[1]\n",
    "print(\"Xdim\", dim_input,\"| ydim\", dim_output)"
   ]
  },
  {
   "cell_type": "code",
   "execution_count": 187,
   "metadata": {},
   "outputs": [],
   "source": [
    "# https://machinelearningmastery.com/multi-label-classification-with-deep-learning/\n",
    "\n",
    "# input\n",
    "layers = [Dense(16, activation='relu'),\n",
    "          # fork model to predict hardness\n",
    "          Dense(units=16, activation='relu'),\n",
    "        #Dense(units=64, activation='relu'),\n",
    "        #Dense(units=64, activation='relu'),\n",
    "          # Output layers for each label\n",
    "          Dense(dim_output, name='Hardness')\n",
    "]\n",
    "\n",
    "nn_model = Sequential(layers)\n",
    "\n",
    "nn_model.compile(optimizer=optimizers.Adam(0.0005),\n",
    "                 loss='mean_absolute_error',\n",
    "                 metrics=['mse'])\n",
    "\n",
    "nn_history = nn_model.fit(x=X_train, y=y_train, \n",
    "                        verbose=0, \n",
    "                        epochs=100,\n",
    "                        validation_split = 0.2)\n"
   ]
  },
  {
   "cell_type": "code",
   "execution_count": 188,
   "metadata": {},
   "outputs": [
    {
     "data": {
      "text/html": [
       "<pre style=\"white-space:pre;overflow-x:auto;line-height:normal;font-family:Menlo,'DejaVu Sans Mono',consolas,'Courier New',monospace\"><span style=\"font-weight: bold\">Model: \"sequential_1\"</span>\n",
       "</pre>\n"
      ],
      "text/plain": [
       "\u001b[1mModel: \"sequential_1\"\u001b[0m\n"
      ]
     },
     "metadata": {},
     "output_type": "display_data"
    },
    {
     "data": {
      "text/html": [
       "<pre style=\"white-space:pre;overflow-x:auto;line-height:normal;font-family:Menlo,'DejaVu Sans Mono',consolas,'Courier New',monospace\">┏━━━━━━━━━━━━━━━━━━━━━━━━━━━━━━━━━┳━━━━━━━━━━━━━━━━━━━━━━━━┳━━━━━━━━━━━━━━━┓\n",
       "┃<span style=\"font-weight: bold\"> Layer (type)                    </span>┃<span style=\"font-weight: bold\"> Output Shape           </span>┃<span style=\"font-weight: bold\">       Param # </span>┃\n",
       "┡━━━━━━━━━━━━━━━━━━━━━━━━━━━━━━━━━╇━━━━━━━━━━━━━━━━━━━━━━━━╇━━━━━━━━━━━━━━━┩\n",
       "│ dense_107 (<span style=\"color: #0087ff; text-decoration-color: #0087ff\">Dense</span>)               │ (<span style=\"color: #00d7ff; text-decoration-color: #00d7ff\">None</span>, <span style=\"color: #00af00; text-decoration-color: #00af00\">16</span>)             │           <span style=\"color: #00af00; text-decoration-color: #00af00\">224</span> │\n",
       "├─────────────────────────────────┼────────────────────────┼───────────────┤\n",
       "│ dense_108 (<span style=\"color: #0087ff; text-decoration-color: #0087ff\">Dense</span>)               │ (<span style=\"color: #00d7ff; text-decoration-color: #00d7ff\">None</span>, <span style=\"color: #00af00; text-decoration-color: #00af00\">16</span>)             │           <span style=\"color: #00af00; text-decoration-color: #00af00\">272</span> │\n",
       "├─────────────────────────────────┼────────────────────────┼───────────────┤\n",
       "│ Hardness (<span style=\"color: #0087ff; text-decoration-color: #0087ff\">Dense</span>)                │ (<span style=\"color: #00d7ff; text-decoration-color: #00d7ff\">None</span>, <span style=\"color: #00af00; text-decoration-color: #00af00\">1</span>)              │            <span style=\"color: #00af00; text-decoration-color: #00af00\">17</span> │\n",
       "└─────────────────────────────────┴────────────────────────┴───────────────┘\n",
       "</pre>\n"
      ],
      "text/plain": [
       "┏━━━━━━━━━━━━━━━━━━━━━━━━━━━━━━━━━┳━━━━━━━━━━━━━━━━━━━━━━━━┳━━━━━━━━━━━━━━━┓\n",
       "┃\u001b[1m \u001b[0m\u001b[1mLayer (type)                   \u001b[0m\u001b[1m \u001b[0m┃\u001b[1m \u001b[0m\u001b[1mOutput Shape          \u001b[0m\u001b[1m \u001b[0m┃\u001b[1m \u001b[0m\u001b[1m      Param #\u001b[0m\u001b[1m \u001b[0m┃\n",
       "┡━━━━━━━━━━━━━━━━━━━━━━━━━━━━━━━━━╇━━━━━━━━━━━━━━━━━━━━━━━━╇━━━━━━━━━━━━━━━┩\n",
       "│ dense_107 (\u001b[38;5;33mDense\u001b[0m)               │ (\u001b[38;5;45mNone\u001b[0m, \u001b[38;5;34m16\u001b[0m)             │           \u001b[38;5;34m224\u001b[0m │\n",
       "├─────────────────────────────────┼────────────────────────┼───────────────┤\n",
       "│ dense_108 (\u001b[38;5;33mDense\u001b[0m)               │ (\u001b[38;5;45mNone\u001b[0m, \u001b[38;5;34m16\u001b[0m)             │           \u001b[38;5;34m272\u001b[0m │\n",
       "├─────────────────────────────────┼────────────────────────┼───────────────┤\n",
       "│ Hardness (\u001b[38;5;33mDense\u001b[0m)                │ (\u001b[38;5;45mNone\u001b[0m, \u001b[38;5;34m1\u001b[0m)              │            \u001b[38;5;34m17\u001b[0m │\n",
       "└─────────────────────────────────┴────────────────────────┴───────────────┘\n"
      ]
     },
     "metadata": {},
     "output_type": "display_data"
    },
    {
     "data": {
      "text/html": [
       "<pre style=\"white-space:pre;overflow-x:auto;line-height:normal;font-family:Menlo,'DejaVu Sans Mono',consolas,'Courier New',monospace\"><span style=\"font-weight: bold\"> Total params: </span><span style=\"color: #00af00; text-decoration-color: #00af00\">1,541</span> (6.02 KB)\n",
       "</pre>\n"
      ],
      "text/plain": [
       "\u001b[1m Total params: \u001b[0m\u001b[38;5;34m1,541\u001b[0m (6.02 KB)\n"
      ]
     },
     "metadata": {},
     "output_type": "display_data"
    },
    {
     "data": {
      "text/html": [
       "<pre style=\"white-space:pre;overflow-x:auto;line-height:normal;font-family:Menlo,'DejaVu Sans Mono',consolas,'Courier New',monospace\"><span style=\"font-weight: bold\"> Trainable params: </span><span style=\"color: #00af00; text-decoration-color: #00af00\">513</span> (2.00 KB)\n",
       "</pre>\n"
      ],
      "text/plain": [
       "\u001b[1m Trainable params: \u001b[0m\u001b[38;5;34m513\u001b[0m (2.00 KB)\n"
      ]
     },
     "metadata": {},
     "output_type": "display_data"
    },
    {
     "data": {
      "text/html": [
       "<pre style=\"white-space:pre;overflow-x:auto;line-height:normal;font-family:Menlo,'DejaVu Sans Mono',consolas,'Courier New',monospace\"><span style=\"font-weight: bold\"> Non-trainable params: </span><span style=\"color: #00af00; text-decoration-color: #00af00\">0</span> (0.00 B)\n",
       "</pre>\n"
      ],
      "text/plain": [
       "\u001b[1m Non-trainable params: \u001b[0m\u001b[38;5;34m0\u001b[0m (0.00 B)\n"
      ]
     },
     "metadata": {},
     "output_type": "display_data"
    },
    {
     "data": {
      "text/html": [
       "<pre style=\"white-space:pre;overflow-x:auto;line-height:normal;font-family:Menlo,'DejaVu Sans Mono',consolas,'Courier New',monospace\"><span style=\"font-weight: bold\"> Optimizer params: </span><span style=\"color: #00af00; text-decoration-color: #00af00\">1,028</span> (4.02 KB)\n",
       "</pre>\n"
      ],
      "text/plain": [
       "\u001b[1m Optimizer params: \u001b[0m\u001b[38;5;34m1,028\u001b[0m (4.02 KB)\n"
      ]
     },
     "metadata": {},
     "output_type": "display_data"
    }
   ],
   "source": [
    "nn_model.summary()"
   ]
  },
  {
   "cell_type": "markdown",
   "metadata": {},
   "source": [
    "## Evaluate NN model\n",
    "\n",
    "Inital NN model is slightly worse than a gradient boosted regression"
   ]
  },
  {
   "cell_type": "code",
   "execution_count": 189,
   "metadata": {},
   "outputs": [
    {
     "name": "stdout",
     "output_type": "stream",
     "text": [
      "\u001b[1m11/11\u001b[0m \u001b[32m━━━━━━━━━━━━━━━━━━━━\u001b[0m\u001b[37m\u001b[0m \u001b[1m0s\u001b[0m 1ms/step - loss: 0.1942 - mse: 0.0849  \n"
     ]
    },
    {
     "data": {
      "text/plain": [
       "{'loss': 0.1872628778219223, 'mse': 0.07653665542602539}"
      ]
     },
     "execution_count": 189,
     "metadata": {},
     "output_type": "execute_result"
    }
   ],
   "source": [
    "result = nn_model.evaluate(X_test, y_test, return_dict=True)\n",
    "result"
   ]
  },
  {
   "cell_type": "code",
   "execution_count": 195,
   "metadata": {},
   "outputs": [
    {
     "data": {
      "text/html": [
       "<div><style>\n",
       ".dataframe > thead > tr,\n",
       ".dataframe > tbody > tr {\n",
       "  text-align: right;\n",
       "  white-space: pre-wrap;\n",
       "}\n",
       "</style>\n",
       "<small>shape: (3, 5)</small><table border=\"1\" class=\"dataframe\"><thead><tr><th>index</th><th>loss</th><th>mse</th><th>val_loss</th><th>val_mse</th></tr><tr><td>u32</td><td>f64</td><td>f64</td><td>f64</td><td>f64</td></tr></thead><tbody><tr><td>97</td><td>0.15537</td><td>0.053676</td><td>0.208768</td><td>0.09214</td></tr><tr><td>98</td><td>0.155072</td><td>0.053986</td><td>0.209339</td><td>0.093257</td></tr><tr><td>99</td><td>0.154724</td><td>0.054117</td><td>0.210175</td><td>0.093677</td></tr></tbody></table></div>"
      ],
      "text/plain": [
       "shape: (3, 5)\n",
       "┌───────┬──────────┬──────────┬──────────┬──────────┐\n",
       "│ index ┆ loss     ┆ mse      ┆ val_loss ┆ val_mse  │\n",
       "│ ---   ┆ ---      ┆ ---      ┆ ---      ┆ ---      │\n",
       "│ u32   ┆ f64      ┆ f64      ┆ f64      ┆ f64      │\n",
       "╞═══════╪══════════╪══════════╪══════════╪══════════╡\n",
       "│ 97    ┆ 0.15537  ┆ 0.053676 ┆ 0.208768 ┆ 0.09214  │\n",
       "│ 98    ┆ 0.155072 ┆ 0.053986 ┆ 0.209339 ┆ 0.093257 │\n",
       "│ 99    ┆ 0.154724 ┆ 0.054117 ┆ 0.210175 ┆ 0.093677 │\n",
       "└───────┴──────────┴──────────┴──────────┴──────────┘"
      ]
     },
     "execution_count": 195,
     "metadata": {},
     "output_type": "execute_result"
    }
   ],
   "source": [
    "history_df = pl.DataFrame(nn_history.history)\n",
    "history_df = history_df.with_row_index()\n",
    "history_df.tail(3)"
   ]
  },
  {
   "cell_type": "code",
   "execution_count": 193,
   "metadata": {},
   "outputs": [],
   "source": [
    "def plot_model_history(df, name='DNN', feature='mse', tuner=False):\n",
    "    title = f'{feature}'.title() if feature != 'mse' else \"Mean Squared Error\"\n",
    "    selector = ['index', feature]\n",
    "    if tuner: selector.append(f'val_{feature}')\n",
    "\n",
    "    df_reduced = df.select(selector)\n",
    "\n",
    "    plot = alt.Chart(df_reduced).mark_line().encode(\n",
    "        alt.X('index').title('Epochs'),\n",
    "        alt.Y(alt.repeat('layer'), type='quantitative').\\\n",
    "            title(title),\n",
    "        color = alt.datum(alt.repeat('layer'))\n",
    "    ).repeat(\n",
    "        layer = selector[1:]\n",
    "    ).properties(title=f\"{title} by Epoch\")\n",
    "\n",
    "    plot.show()\n",
    "\n",
    "    plot.save(f\"{images_path}/{name}_{feature}.png\")\n"
   ]
  },
  {
   "cell_type": "code",
   "execution_count": 194,
   "metadata": {},
   "outputs": [
    {
     "data": {
      "text/html": [
       "\n",
       "<style>\n",
       "  #altair-viz-728e8c843b3e4f06870faac6b7b1b29a.vega-embed {\n",
       "    width: 100%;\n",
       "    display: flex;\n",
       "  }\n",
       "\n",
       "  #altair-viz-728e8c843b3e4f06870faac6b7b1b29a.vega-embed details,\n",
       "  #altair-viz-728e8c843b3e4f06870faac6b7b1b29a.vega-embed details summary {\n",
       "    position: relative;\n",
       "  }\n",
       "</style>\n",
       "<div id=\"altair-viz-728e8c843b3e4f06870faac6b7b1b29a\"></div>\n",
       "<script type=\"text/javascript\">\n",
       "  var VEGA_DEBUG = (typeof VEGA_DEBUG == \"undefined\") ? {} : VEGA_DEBUG;\n",
       "  (function(spec, embedOpt){\n",
       "    let outputDiv = document.currentScript.previousElementSibling;\n",
       "    if (outputDiv.id !== \"altair-viz-728e8c843b3e4f06870faac6b7b1b29a\") {\n",
       "      outputDiv = document.getElementById(\"altair-viz-728e8c843b3e4f06870faac6b7b1b29a\");\n",
       "    }\n",
       "    const paths = {\n",
       "      \"vega\": \"https://cdn.jsdelivr.net/npm/vega@5?noext\",\n",
       "      \"vega-lib\": \"https://cdn.jsdelivr.net/npm/vega-lib?noext\",\n",
       "      \"vega-lite\": \"https://cdn.jsdelivr.net/npm/vega-lite@5.20.1?noext\",\n",
       "      \"vega-embed\": \"https://cdn.jsdelivr.net/npm/vega-embed@6?noext\",\n",
       "    };\n",
       "\n",
       "    function maybeLoadScript(lib, version) {\n",
       "      var key = `${lib.replace(\"-\", \"\")}_version`;\n",
       "      return (VEGA_DEBUG[key] == version) ?\n",
       "        Promise.resolve(paths[lib]) :\n",
       "        new Promise(function(resolve, reject) {\n",
       "          var s = document.createElement('script');\n",
       "          document.getElementsByTagName(\"head\")[0].appendChild(s);\n",
       "          s.async = true;\n",
       "          s.onload = () => {\n",
       "            VEGA_DEBUG[key] = version;\n",
       "            return resolve(paths[lib]);\n",
       "          };\n",
       "          s.onerror = () => reject(`Error loading script: ${paths[lib]}`);\n",
       "          s.src = paths[lib];\n",
       "        });\n",
       "    }\n",
       "\n",
       "    function showError(err) {\n",
       "      outputDiv.innerHTML = `<div class=\"error\" style=\"color:red;\">${err}</div>`;\n",
       "      throw err;\n",
       "    }\n",
       "\n",
       "    function displayChart(vegaEmbed) {\n",
       "      vegaEmbed(outputDiv, spec, embedOpt)\n",
       "        .catch(err => showError(`Javascript Error: ${err.message}<br>This usually means there's a typo in your chart specification. See the javascript console for the full traceback.`));\n",
       "    }\n",
       "\n",
       "    if(typeof define === \"function\" && define.amd) {\n",
       "      requirejs.config({paths});\n",
       "      require([\"vega-embed\"], displayChart, err => showError(`Error loading script: ${err.message}`));\n",
       "    } else {\n",
       "      maybeLoadScript(\"vega\", \"5\")\n",
       "        .then(() => maybeLoadScript(\"vega-lite\", \"5.20.1\"))\n",
       "        .then(() => maybeLoadScript(\"vega-embed\", \"6\"))\n",
       "        .catch(showError)\n",
       "        .then(() => displayChart(vegaEmbed));\n",
       "    }\n",
       "  })({\"config\": {\"view\": {\"continuousWidth\": 300, \"continuousHeight\": 300}}, \"repeat\": {\"layer\": [\"mse\", \"val_mse\"]}, \"spec\": {\"data\": {\"name\": \"data-1bb6db02cce660ba9ed3f40221a0c614\"}, \"mark\": {\"type\": \"line\"}, \"encoding\": {\"color\": {\"datum\": {\"repeat\": \"layer\"}}, \"x\": {\"field\": \"index\", \"title\": \"Epochs\", \"type\": \"quantitative\"}, \"y\": {\"field\": {\"repeat\": \"layer\"}, \"title\": \"Mean Squared Error\", \"type\": \"quantitative\"}}}, \"title\": \"Mean Squared Error by Epoch\", \"$schema\": \"https://vega.github.io/schema/vega-lite/v5.20.1.json\", \"datasets\": {\"data-1bb6db02cce660ba9ed3f40221a0c614\": [{\"index\": 0, \"mse\": 1.3143527507781982, \"val_mse\": 1.089173674583435}, {\"index\": 1, \"mse\": 1.0355987548828125, \"val_mse\": 0.8862069249153137}, {\"index\": 2, \"mse\": 0.833548367023468, \"val_mse\": 0.7378367185592651}, {\"index\": 3, \"mse\": 0.680658221244812, \"val_mse\": 0.6114401817321777}, {\"index\": 4, \"mse\": 0.551759660243988, \"val_mse\": 0.5052321553230286}, {\"index\": 5, \"mse\": 0.4485693573951721, \"val_mse\": 0.41655993461608887}, {\"index\": 6, \"mse\": 0.3707335591316223, \"val_mse\": 0.3496827483177185}, {\"index\": 7, \"mse\": 0.31139686703681946, \"val_mse\": 0.29677143692970276}, {\"index\": 8, \"mse\": 0.26301079988479614, \"val_mse\": 0.2563380002975464}, {\"index\": 9, \"mse\": 0.22723345458507538, \"val_mse\": 0.22750017046928406}, {\"index\": 10, \"mse\": 0.20331497490406036, \"val_mse\": 0.2064935714006424}, {\"index\": 11, \"mse\": 0.18014174699783325, \"val_mse\": 0.18879187107086182}, {\"index\": 12, \"mse\": 0.1636333018541336, \"val_mse\": 0.17936450242996216}, {\"index\": 13, \"mse\": 0.15266761183738708, \"val_mse\": 0.1707451045513153}, {\"index\": 14, \"mse\": 0.13791580498218536, \"val_mse\": 0.16232018172740936}, {\"index\": 15, \"mse\": 0.13063138723373413, \"val_mse\": 0.15748141705989838}, {\"index\": 16, \"mse\": 0.12110184133052826, \"val_mse\": 0.15070605278015137}, {\"index\": 17, \"mse\": 0.1151929423213005, \"val_mse\": 0.14718462526798248}, {\"index\": 18, \"mse\": 0.10744356364011765, \"val_mse\": 0.141998752951622}, {\"index\": 19, \"mse\": 0.10103695094585419, \"val_mse\": 0.1386469602584839}, {\"index\": 20, \"mse\": 0.0950922966003418, \"val_mse\": 0.13427862524986267}, {\"index\": 21, \"mse\": 0.09006989002227783, \"val_mse\": 0.12927810847759247}, {\"index\": 22, \"mse\": 0.08537694066762924, \"val_mse\": 0.12724611163139343}, {\"index\": 23, \"mse\": 0.08177532255649567, \"val_mse\": 0.12340887635946274}, {\"index\": 24, \"mse\": 0.07887819409370422, \"val_mse\": 0.1187833771109581}, {\"index\": 25, \"mse\": 0.07644736766815186, \"val_mse\": 0.11816291511058807}, {\"index\": 26, \"mse\": 0.07409266382455826, \"val_mse\": 0.11705108731985092}, {\"index\": 27, \"mse\": 0.0723794549703598, \"val_mse\": 0.11550500988960266}, {\"index\": 28, \"mse\": 0.07152554392814636, \"val_mse\": 0.1128184050321579}, {\"index\": 29, \"mse\": 0.06919927895069122, \"val_mse\": 0.11234354972839355}, {\"index\": 30, \"mse\": 0.0686994418501854, \"val_mse\": 0.11072125285863876}, {\"index\": 31, \"mse\": 0.0686582401394844, \"val_mse\": 0.11043433099985123}, {\"index\": 32, \"mse\": 0.06648916006088257, \"val_mse\": 0.11056432873010635}, {\"index\": 33, \"mse\": 0.06715897470712662, \"val_mse\": 0.10851935297250748}, {\"index\": 34, \"mse\": 0.06599064916372299, \"val_mse\": 0.11065453290939331}, {\"index\": 35, \"mse\": 0.06507106870412827, \"val_mse\": 0.10642720758914948}, {\"index\": 36, \"mse\": 0.06465812027454376, \"val_mse\": 0.10774629563093185}, {\"index\": 37, \"mse\": 0.06417561322450638, \"val_mse\": 0.10645490139722824}, {\"index\": 38, \"mse\": 0.06427223235368729, \"val_mse\": 0.10397379100322723}, {\"index\": 39, \"mse\": 0.0641433373093605, \"val_mse\": 0.10626139491796494}, {\"index\": 40, \"mse\": 0.06309685856103897, \"val_mse\": 0.10469900071620941}, {\"index\": 41, \"mse\": 0.06336454302072525, \"val_mse\": 0.10544183105230331}, {\"index\": 42, \"mse\": 0.062482062727212906, \"val_mse\": 0.10575903952121735}, {\"index\": 43, \"mse\": 0.06179901584982872, \"val_mse\": 0.10420594364404678}, {\"index\": 44, \"mse\": 0.06186481937766075, \"val_mse\": 0.10253462195396423}, {\"index\": 45, \"mse\": 0.06055606156587601, \"val_mse\": 0.10137897729873657}, {\"index\": 46, \"mse\": 0.06093889847397804, \"val_mse\": 0.10212547332048416}, {\"index\": 47, \"mse\": 0.06060955673456192, \"val_mse\": 0.10036799311637878}, {\"index\": 48, \"mse\": 0.06048666685819626, \"val_mse\": 0.09961827844381332}, {\"index\": 49, \"mse\": 0.06014597415924072, \"val_mse\": 0.09951040893793106}, {\"index\": 50, \"mse\": 0.05988810956478119, \"val_mse\": 0.10035108029842377}, {\"index\": 51, \"mse\": 0.05910465121269226, \"val_mse\": 0.09877502173185349}, {\"index\": 52, \"mse\": 0.05924723669886589, \"val_mse\": 0.09770722687244415}, {\"index\": 53, \"mse\": 0.05896725505590439, \"val_mse\": 0.099872887134552}, {\"index\": 54, \"mse\": 0.058790069073438644, \"val_mse\": 0.09731028974056244}, {\"index\": 55, \"mse\": 0.05878176912665367, \"val_mse\": 0.0955452173948288}, {\"index\": 56, \"mse\": 0.05771598219871521, \"val_mse\": 0.09774308651685715}, {\"index\": 57, \"mse\": 0.058889150619506836, \"val_mse\": 0.09715352207422256}, {\"index\": 58, \"mse\": 0.05867587774991989, \"val_mse\": 0.09698377549648285}, {\"index\": 59, \"mse\": 0.05753438547253609, \"val_mse\": 0.0967748761177063}, {\"index\": 60, \"mse\": 0.057807404547929764, \"val_mse\": 0.09621071815490723}, {\"index\": 61, \"mse\": 0.05740661174058914, \"val_mse\": 0.0991031676530838}, {\"index\": 62, \"mse\": 0.05729391425848007, \"val_mse\": 0.09609813243150711}, {\"index\": 63, \"mse\": 0.057234447449445724, \"val_mse\": 0.09774643182754517}, {\"index\": 64, \"mse\": 0.05701359361410141, \"val_mse\": 0.09722846001386642}, {\"index\": 65, \"mse\": 0.056942470371723175, \"val_mse\": 0.09517345577478409}, {\"index\": 66, \"mse\": 0.05705709382891655, \"val_mse\": 0.09596255421638489}, {\"index\": 67, \"mse\": 0.0577084943652153, \"val_mse\": 0.09580406546592712}, {\"index\": 68, \"mse\": 0.05621013790369034, \"val_mse\": 0.0939287468791008}, {\"index\": 69, \"mse\": 0.055712103843688965, \"val_mse\": 0.09618466347455978}, {\"index\": 70, \"mse\": 0.055480170994997025, \"val_mse\": 0.09420552104711533}, {\"index\": 71, \"mse\": 0.05550898239016533, \"val_mse\": 0.09531447291374207}, {\"index\": 72, \"mse\": 0.05569734424352646, \"val_mse\": 0.09480863064527512}, {\"index\": 73, \"mse\": 0.05517864599823952, \"val_mse\": 0.09468308091163635}, {\"index\": 74, \"mse\": 0.05615926533937454, \"val_mse\": 0.0934586375951767}, {\"index\": 75, \"mse\": 0.055442679673433304, \"val_mse\": 0.09519024938344955}, {\"index\": 76, \"mse\": 0.055965472012758255, \"val_mse\": 0.09594259411096573}, {\"index\": 77, \"mse\": 0.05544067174196243, \"val_mse\": 0.09322232753038406}, {\"index\": 78, \"mse\": 0.05537225678563118, \"val_mse\": 0.09250979870557785}, {\"index\": 79, \"mse\": 0.055643077939748764, \"val_mse\": 0.09480395168066025}, {\"index\": 80, \"mse\": 0.05505991354584694, \"val_mse\": 0.09303022921085358}, {\"index\": 81, \"mse\": 0.05490947514772415, \"val_mse\": 0.0931987389922142}, {\"index\": 82, \"mse\": 0.05437939614057541, \"val_mse\": 0.09336456656455994}, {\"index\": 83, \"mse\": 0.0551624558866024, \"val_mse\": 0.09457389265298843}, {\"index\": 84, \"mse\": 0.054957449436187744, \"val_mse\": 0.09209109097719193}, {\"index\": 85, \"mse\": 0.05474467575550079, \"val_mse\": 0.09326613694429398}, {\"index\": 86, \"mse\": 0.05507802590727806, \"val_mse\": 0.09359988570213318}, {\"index\": 87, \"mse\": 0.05470289662480354, \"val_mse\": 0.09199612587690353}, {\"index\": 88, \"mse\": 0.053906265646219254, \"val_mse\": 0.09292200207710266}, {\"index\": 89, \"mse\": 0.054084718227386475, \"val_mse\": 0.09414107352495193}, {\"index\": 90, \"mse\": 0.05456472188234329, \"val_mse\": 0.09010614454746246}, {\"index\": 91, \"mse\": 0.053867898881435394, \"val_mse\": 0.09073881804943085}, {\"index\": 92, \"mse\": 0.05342370644211769, \"val_mse\": 0.09267250448465347}, {\"index\": 93, \"mse\": 0.054840054363012314, \"val_mse\": 0.09314054995775223}, {\"index\": 94, \"mse\": 0.053834736347198486, \"val_mse\": 0.0938093364238739}, {\"index\": 95, \"mse\": 0.05355512723326683, \"val_mse\": 0.09155697375535965}, {\"index\": 96, \"mse\": 0.05368205904960632, \"val_mse\": 0.09176640957593918}, {\"index\": 97, \"mse\": 0.053675878793001175, \"val_mse\": 0.09213970601558685}, {\"index\": 98, \"mse\": 0.05398601293563843, \"val_mse\": 0.09325674921274185}, {\"index\": 99, \"mse\": 0.05411665514111519, \"val_mse\": 0.09367749840021133}]}}, {\"mode\": \"vega-lite\"});\n",
       "</script>"
      ],
      "text/plain": [
       "alt.RepeatChart(...)"
      ]
     },
     "metadata": {},
     "output_type": "display_data"
    },
    {
     "data": {
      "text/html": [
       "\n",
       "<style>\n",
       "  #altair-viz-9c521dec37a0470baa06a9678a1ab23f.vega-embed {\n",
       "    width: 100%;\n",
       "    display: flex;\n",
       "  }\n",
       "\n",
       "  #altair-viz-9c521dec37a0470baa06a9678a1ab23f.vega-embed details,\n",
       "  #altair-viz-9c521dec37a0470baa06a9678a1ab23f.vega-embed details summary {\n",
       "    position: relative;\n",
       "  }\n",
       "</style>\n",
       "<div id=\"altair-viz-9c521dec37a0470baa06a9678a1ab23f\"></div>\n",
       "<script type=\"text/javascript\">\n",
       "  var VEGA_DEBUG = (typeof VEGA_DEBUG == \"undefined\") ? {} : VEGA_DEBUG;\n",
       "  (function(spec, embedOpt){\n",
       "    let outputDiv = document.currentScript.previousElementSibling;\n",
       "    if (outputDiv.id !== \"altair-viz-9c521dec37a0470baa06a9678a1ab23f\") {\n",
       "      outputDiv = document.getElementById(\"altair-viz-9c521dec37a0470baa06a9678a1ab23f\");\n",
       "    }\n",
       "    const paths = {\n",
       "      \"vega\": \"https://cdn.jsdelivr.net/npm/vega@5?noext\",\n",
       "      \"vega-lib\": \"https://cdn.jsdelivr.net/npm/vega-lib?noext\",\n",
       "      \"vega-lite\": \"https://cdn.jsdelivr.net/npm/vega-lite@5.20.1?noext\",\n",
       "      \"vega-embed\": \"https://cdn.jsdelivr.net/npm/vega-embed@6?noext\",\n",
       "    };\n",
       "\n",
       "    function maybeLoadScript(lib, version) {\n",
       "      var key = `${lib.replace(\"-\", \"\")}_version`;\n",
       "      return (VEGA_DEBUG[key] == version) ?\n",
       "        Promise.resolve(paths[lib]) :\n",
       "        new Promise(function(resolve, reject) {\n",
       "          var s = document.createElement('script');\n",
       "          document.getElementsByTagName(\"head\")[0].appendChild(s);\n",
       "          s.async = true;\n",
       "          s.onload = () => {\n",
       "            VEGA_DEBUG[key] = version;\n",
       "            return resolve(paths[lib]);\n",
       "          };\n",
       "          s.onerror = () => reject(`Error loading script: ${paths[lib]}`);\n",
       "          s.src = paths[lib];\n",
       "        });\n",
       "    }\n",
       "\n",
       "    function showError(err) {\n",
       "      outputDiv.innerHTML = `<div class=\"error\" style=\"color:red;\">${err}</div>`;\n",
       "      throw err;\n",
       "    }\n",
       "\n",
       "    function displayChart(vegaEmbed) {\n",
       "      vegaEmbed(outputDiv, spec, embedOpt)\n",
       "        .catch(err => showError(`Javascript Error: ${err.message}<br>This usually means there's a typo in your chart specification. See the javascript console for the full traceback.`));\n",
       "    }\n",
       "\n",
       "    if(typeof define === \"function\" && define.amd) {\n",
       "      requirejs.config({paths});\n",
       "      require([\"vega-embed\"], displayChart, err => showError(`Error loading script: ${err.message}`));\n",
       "    } else {\n",
       "      maybeLoadScript(\"vega\", \"5\")\n",
       "        .then(() => maybeLoadScript(\"vega-lite\", \"5.20.1\"))\n",
       "        .then(() => maybeLoadScript(\"vega-embed\", \"6\"))\n",
       "        .catch(showError)\n",
       "        .then(() => displayChart(vegaEmbed));\n",
       "    }\n",
       "  })({\"config\": {\"view\": {\"continuousWidth\": 300, \"continuousHeight\": 300}}, \"repeat\": {\"layer\": [\"loss\", \"val_loss\"]}, \"spec\": {\"data\": {\"name\": \"data-80943b5eb6743cd1a39f5bbc2baec12d\"}, \"mark\": {\"type\": \"line\"}, \"encoding\": {\"color\": {\"datum\": {\"repeat\": \"layer\"}}, \"x\": {\"field\": \"index\", \"title\": \"Epochs\", \"type\": \"quantitative\"}, \"y\": {\"field\": {\"repeat\": \"layer\"}, \"title\": \"Loss\", \"type\": \"quantitative\"}}}, \"title\": \"Loss by Epoch\", \"$schema\": \"https://vega.github.io/schema/vega-lite/v5.20.1.json\", \"datasets\": {\"data-80943b5eb6743cd1a39f5bbc2baec12d\": [{\"index\": 0, \"loss\": 0.9399876594543457, \"val_loss\": 0.8693855404853821}, {\"index\": 1, \"loss\": 0.8321426510810852, \"val_loss\": 0.7761838436126709}, {\"index\": 2, \"loss\": 0.7431589961051941, \"val_loss\": 0.7000876069068909}, {\"index\": 3, \"loss\": 0.6640642285346985, \"val_loss\": 0.6259661316871643}, {\"index\": 4, \"loss\": 0.5881039500236511, \"val_loss\": 0.557569682598114}, {\"index\": 5, \"loss\": 0.5166045427322388, \"val_loss\": 0.48708388209342957}, {\"index\": 6, \"loss\": 0.4480001926422119, \"val_loss\": 0.42378050088882446}, {\"index\": 7, \"loss\": 0.39695215225219727, \"val_loss\": 0.37938183546066284}, {\"index\": 8, \"loss\": 0.35739219188690186, \"val_loss\": 0.3511567711830139}, {\"index\": 9, \"loss\": 0.3280152678489685, \"val_loss\": 0.32578134536743164}, {\"index\": 10, \"loss\": 0.3062441945075989, \"val_loss\": 0.30722934007644653}, {\"index\": 11, \"loss\": 0.29192015528678894, \"val_loss\": 0.30009135603904724}, {\"index\": 12, \"loss\": 0.2770960330963135, \"val_loss\": 0.28725528717041016}, {\"index\": 13, \"loss\": 0.26555562019348145, \"val_loss\": 0.28223344683647156}, {\"index\": 14, \"loss\": 0.25574812293052673, \"val_loss\": 0.27614858746528625}, {\"index\": 15, \"loss\": 0.24748162925243378, \"val_loss\": 0.2753050923347473}, {\"index\": 16, \"loss\": 0.23955993354320526, \"val_loss\": 0.26702550053596497}, {\"index\": 17, \"loss\": 0.23260854184627533, \"val_loss\": 0.2648475468158722}, {\"index\": 18, \"loss\": 0.22599990665912628, \"val_loss\": 0.2573891580104828}, {\"index\": 19, \"loss\": 0.22018584609031677, \"val_loss\": 0.25739648938179016}, {\"index\": 20, \"loss\": 0.21438449621200562, \"val_loss\": 0.2524696886539459}, {\"index\": 21, \"loss\": 0.21048599481582642, \"val_loss\": 0.24878829717636108}, {\"index\": 22, \"loss\": 0.20521417260169983, \"val_loss\": 0.24614529311656952}, {\"index\": 23, \"loss\": 0.20163869857788086, \"val_loss\": 0.2430853545665741}, {\"index\": 24, \"loss\": 0.19839586317539215, \"val_loss\": 0.23719407618045807}, {\"index\": 25, \"loss\": 0.19469767808914185, \"val_loss\": 0.2366529405117035}, {\"index\": 26, \"loss\": 0.19174744188785553, \"val_loss\": 0.2354213297367096}, {\"index\": 27, \"loss\": 0.18915203213691711, \"val_loss\": 0.2335531860589981}, {\"index\": 28, \"loss\": 0.1881890594959259, \"val_loss\": 0.22992335259914398}, {\"index\": 29, \"loss\": 0.18515153229236603, \"val_loss\": 0.2302248328924179}, {\"index\": 30, \"loss\": 0.18285350501537323, \"val_loss\": 0.22720099985599518}, {\"index\": 31, \"loss\": 0.18188898265361786, \"val_loss\": 0.22664551436901093}, {\"index\": 32, \"loss\": 0.17925454676151276, \"val_loss\": 0.2287110835313797}, {\"index\": 33, \"loss\": 0.17902226746082306, \"val_loss\": 0.22454063594341278}, {\"index\": 34, \"loss\": 0.17867913842201233, \"val_loss\": 0.22974173724651337}, {\"index\": 35, \"loss\": 0.17812000215053558, \"val_loss\": 0.22208905220031738}, {\"index\": 36, \"loss\": 0.17621199786663055, \"val_loss\": 0.2235201746225357}, {\"index\": 37, \"loss\": 0.17621862888336182, \"val_loss\": 0.22301611304283142}, {\"index\": 38, \"loss\": 0.17521105706691742, \"val_loss\": 0.21898259222507477}, {\"index\": 39, \"loss\": 0.17522558569908142, \"val_loss\": 0.22167666256427765}, {\"index\": 40, \"loss\": 0.17296549677848816, \"val_loss\": 0.2208435982465744}, {\"index\": 41, \"loss\": 0.17318622767925262, \"val_loss\": 0.2236110121011734}, {\"index\": 42, \"loss\": 0.1721927672624588, \"val_loss\": 0.22326628863811493}, {\"index\": 43, \"loss\": 0.1711733192205429, \"val_loss\": 0.222088024020195}, {\"index\": 44, \"loss\": 0.1712818443775177, \"val_loss\": 0.219264417886734}, {\"index\": 45, \"loss\": 0.16984570026397705, \"val_loss\": 0.21843679249286652}, {\"index\": 46, \"loss\": 0.16931353509426117, \"val_loss\": 0.21913443505764008}, {\"index\": 47, \"loss\": 0.1694025844335556, \"val_loss\": 0.21775083243846893}, {\"index\": 48, \"loss\": 0.16836470365524292, \"val_loss\": 0.21553967893123627}, {\"index\": 49, \"loss\": 0.16896627843379974, \"val_loss\": 0.21631775796413422}, {\"index\": 50, \"loss\": 0.16817931830883026, \"val_loss\": 0.21702928841114044}, {\"index\": 51, \"loss\": 0.16717705130577087, \"val_loss\": 0.2162272185087204}, {\"index\": 52, \"loss\": 0.16755692660808563, \"val_loss\": 0.215341255068779}, {\"index\": 53, \"loss\": 0.16652967035770416, \"val_loss\": 0.2196217030286789}, {\"index\": 54, \"loss\": 0.166951522231102, \"val_loss\": 0.21567773818969727}, {\"index\": 55, \"loss\": 0.16718193888664246, \"val_loss\": 0.21330881118774414}, {\"index\": 56, \"loss\": 0.16456767916679382, \"val_loss\": 0.2161068469285965}, {\"index\": 57, \"loss\": 0.16530725359916687, \"val_loss\": 0.2125018835067749}, {\"index\": 58, \"loss\": 0.16487205028533936, \"val_loss\": 0.21485523879528046}, {\"index\": 59, \"loss\": 0.16369427740573883, \"val_loss\": 0.21407464146614075}, {\"index\": 60, \"loss\": 0.16340161859989166, \"val_loss\": 0.21295173466205597}, {\"index\": 61, \"loss\": 0.1639665812253952, \"val_loss\": 0.21829667687416077}, {\"index\": 62, \"loss\": 0.16296367347240448, \"val_loss\": 0.21394765377044678}, {\"index\": 63, \"loss\": 0.1618400365114212, \"val_loss\": 0.21527843177318573}, {\"index\": 64, \"loss\": 0.16206733882427216, \"val_loss\": 0.21510162949562073}, {\"index\": 65, \"loss\": 0.16269108653068542, \"val_loss\": 0.21466673910617828}, {\"index\": 66, \"loss\": 0.1628420650959015, \"val_loss\": 0.21429164707660675}, {\"index\": 67, \"loss\": 0.16321980953216553, \"val_loss\": 0.2130543738603592}, {\"index\": 68, \"loss\": 0.16216227412223816, \"val_loss\": 0.2125793844461441}, {\"index\": 69, \"loss\": 0.16074998676776886, \"val_loss\": 0.2142927497625351}, {\"index\": 70, \"loss\": 0.1603003740310669, \"val_loss\": 0.2122052013874054}, {\"index\": 71, \"loss\": 0.16004952788352966, \"val_loss\": 0.21423538029193878}, {\"index\": 72, \"loss\": 0.16029390692710876, \"val_loss\": 0.21311908960342407}, {\"index\": 73, \"loss\": 0.15987035632133484, \"val_loss\": 0.21292221546173096}, {\"index\": 74, \"loss\": 0.1601501852273941, \"val_loss\": 0.2112390547990799}, {\"index\": 75, \"loss\": 0.16028542816638947, \"val_loss\": 0.21358059346675873}, {\"index\": 76, \"loss\": 0.16015563905239105, \"val_loss\": 0.21377970278263092}, {\"index\": 77, \"loss\": 0.15919016301631927, \"val_loss\": 0.21015244722366333}, {\"index\": 78, \"loss\": 0.159113809466362, \"val_loss\": 0.20772415399551392}, {\"index\": 79, \"loss\": 0.15963834524154663, \"val_loss\": 0.21296648681163788}, {\"index\": 80, \"loss\": 0.15881706774234772, \"val_loss\": 0.21127089858055115}, {\"index\": 81, \"loss\": 0.15787270665168762, \"val_loss\": 0.21117357909679413}, {\"index\": 82, \"loss\": 0.15742024779319763, \"val_loss\": 0.21092894673347473}, {\"index\": 83, \"loss\": 0.1580742448568344, \"val_loss\": 0.21250471472740173}, {\"index\": 84, \"loss\": 0.15724068880081177, \"val_loss\": 0.20808877050876617}, {\"index\": 85, \"loss\": 0.15902787446975708, \"val_loss\": 0.21080584824085236}, {\"index\": 86, \"loss\": 0.1584968864917755, \"val_loss\": 0.21109281480312347}, {\"index\": 87, \"loss\": 0.15664169192314148, \"val_loss\": 0.20973831415176392}, {\"index\": 88, \"loss\": 0.15643556416034698, \"val_loss\": 0.210877925157547}, {\"index\": 89, \"loss\": 0.15618321299552917, \"val_loss\": 0.21179422736167908}, {\"index\": 90, \"loss\": 0.1580495834350586, \"val_loss\": 0.2069149911403656}, {\"index\": 91, \"loss\": 0.15650434792041779, \"val_loss\": 0.20808541774749756}, {\"index\": 92, \"loss\": 0.15665507316589355, \"val_loss\": 0.20984983444213867}, {\"index\": 93, \"loss\": 0.1580638885498047, \"val_loss\": 0.20756064355373383}, {\"index\": 94, \"loss\": 0.1558326929807663, \"val_loss\": 0.21130037307739258}, {\"index\": 95, \"loss\": 0.15467002987861633, \"val_loss\": 0.20818328857421875}, {\"index\": 96, \"loss\": 0.15569709241390228, \"val_loss\": 0.20849046111106873}, {\"index\": 97, \"loss\": 0.15536950528621674, \"val_loss\": 0.20876821875572205}, {\"index\": 98, \"loss\": 0.1550721824169159, \"val_loss\": 0.20933853089809418}, {\"index\": 99, \"loss\": 0.15472392737865448, \"val_loss\": 0.21017484366893768}]}}, {\"mode\": \"vega-lite\"});\n",
       "</script>"
      ],
      "text/plain": [
       "alt.RepeatChart(...)"
      ]
     },
     "metadata": {},
     "output_type": "display_data"
    }
   ],
   "source": [
    "plot_model_history(history_df, feature='mse', name=\"initial_NN\", tuner=True)\n",
    "plot_model_history(history_df, feature='loss', name=\"initial_NN\", tuner=True)"
   ]
  },
  {
   "cell_type": "markdown",
   "metadata": {},
   "source": [
    "# Results\n",
    "\n",
    "NN model pushes R2 down to 0.5 with onyl about 25 epochs"
   ]
  },
  {
   "cell_type": "markdown",
   "metadata": {},
   "source": [
    "# Build a Tuner"
   ]
  },
  {
   "cell_type": "code",
   "execution_count": 198,
   "metadata": {},
   "outputs": [],
   "source": [
    "name = \"hardness_DNN_tuner\"\n",
    "def create_hp_model(hp):\n",
    "    #Activation for all hidden layers\n",
    "      activation = hp.Choice('activation',['relu','tanh','sigmoid'])\n",
    "\n",
    "      layers = [Dense(units=hp.Int('time_units1',\n",
    "                             min_value=8,\n",
    "                             max_value=256,\n",
    "                             sampling='linear'), \n",
    "                             activation=activation),\n",
    "                             # fork model to predict hardness\n",
    "                  Dense(units=hp.Int('time_units2',\n",
    "                             min_value=8,\n",
    "                             max_value=256,\n",
    "                             sampling='linear'), \n",
    "                             activation=activation),\n",
    "                  Dense(dim_output, name='Hardness')\n",
    "          ]\n",
    "    \n",
    "      nn_model = Sequential(layers)\n",
    "\n",
    "      nn_model.compile(optimizer=optimizers.Adam(0.001),\n",
    "                 loss='mean_absolute_error',\n",
    "                 metrics=['mse'])\n",
    "    \n",
    "      return nn_model"
   ]
  },
  {
   "cell_type": "code",
   "execution_count": 200,
   "metadata": {},
   "outputs": [],
   "source": [
    "tuner = kt.Hyperband(\n",
    "    create_hp_model,\n",
    "    objective=[\"val_loss\",\"val_loss\"],\n",
    "    max_epochs=20,\n",
    "    factor=5,\n",
    "    hyperband_iterations=2,\n",
    "    project_name=name,\n",
    "    executions_per_trial=5)\n"
   ]
  },
  {
   "cell_type": "code",
   "execution_count": 201,
   "metadata": {},
   "outputs": [
    {
     "name": "stdout",
     "output_type": "stream",
     "text": [
      "Trial 26 Complete [00h 00m 13s]\n",
      "multi_objective: 0.21475284695625305\n",
      "\n",
      "Best multi_objective So Far: 0.1544054001569748\n",
      "Total elapsed time: 00h 03m 48s\n"
     ]
    }
   ],
   "source": [
    "tuner.search(x=X_train, \n",
    "             y=y_train,\n",
    "             epochs=250,\n",
    "             validation_data=(X_test,y_test))"
   ]
  },
  {
   "cell_type": "code",
   "execution_count": 202,
   "metadata": {},
   "outputs": [
    {
     "name": "stderr",
     "output_type": "stream",
     "text": [
      "/home/mox/Documents/coding_projects/bootcamp_local/Homeworks/Mild-Steel-Tempering/.venv/lib/python3.12/site-packages/keras/src/saving/saving_lib.py:719: UserWarning: Skipping variable loading for optimizer 'adam', because it has 2 variables whereas the saved optimizer has 14 variables. \n",
      "  saveable.load_own_variables(weights_store.get(inner_path))\n"
     ]
    }
   ],
   "source": [
    "best_model = tuner.get_best_models(1)[0]"
   ]
  },
  {
   "cell_type": "code",
   "execution_count": 203,
   "metadata": {},
   "outputs": [],
   "source": [
    "fit_history = best_model.fit(x=X_train, \n",
    "               y=y_train, \n",
    "               verbose=0,\n",
    "               epochs=150)"
   ]
  },
  {
   "cell_type": "code",
   "execution_count": 204,
   "metadata": {},
   "outputs": [
    {
     "data": {
      "text/plain": [
       "{'activation': 'relu',\n",
       " 'time_units1': 189,\n",
       " 'time_units2': 40,\n",
       " 'tuner/epochs': 20,\n",
       " 'tuner/initial_epoch': 4,\n",
       " 'tuner/bracket': 1,\n",
       " 'tuner/round': 1,\n",
       " 'tuner/trial_id': '0019'}"
      ]
     },
     "execution_count": 204,
     "metadata": {},
     "output_type": "execute_result"
    }
   ],
   "source": [
    "tuner.get_best_hyperparameters(1)[0].values"
   ]
  },
  {
   "cell_type": "code",
   "execution_count": 205,
   "metadata": {},
   "outputs": [
    {
     "data": {
      "text/html": [
       "<div><style>\n",
       ".dataframe > thead > tr,\n",
       ".dataframe > tbody > tr {\n",
       "  text-align: right;\n",
       "  white-space: pre-wrap;\n",
       "}\n",
       "</style>\n",
       "<small>shape: (3, 3)</small><table border=\"1\" class=\"dataframe\"><thead><tr><th>index</th><th>loss</th><th>mse</th></tr><tr><td>u32</td><td>f64</td><td>f64</td></tr></thead><tbody><tr><td>0</td><td>0.151295</td><td>0.049126</td></tr><tr><td>1</td><td>0.13581</td><td>0.043849</td></tr><tr><td>2</td><td>0.137467</td><td>0.042389</td></tr></tbody></table></div>"
      ],
      "text/plain": [
       "shape: (3, 3)\n",
       "┌───────┬──────────┬──────────┐\n",
       "│ index ┆ loss     ┆ mse      │\n",
       "│ ---   ┆ ---      ┆ ---      │\n",
       "│ u32   ┆ f64      ┆ f64      │\n",
       "╞═══════╪══════════╪══════════╡\n",
       "│ 0     ┆ 0.151295 ┆ 0.049126 │\n",
       "│ 1     ┆ 0.13581  ┆ 0.043849 │\n",
       "│ 2     ┆ 0.137467 ┆ 0.042389 │\n",
       "└───────┴──────────┴──────────┘"
      ]
     },
     "execution_count": 205,
     "metadata": {},
     "output_type": "execute_result"
    }
   ],
   "source": [
    "history_df = pl.DataFrame(fit_history.history)\n",
    "history_df = history_df.with_row_index()\n",
    "history_df.head(3)"
   ]
  },
  {
   "cell_type": "code",
   "execution_count": 207,
   "metadata": {},
   "outputs": [
    {
     "data": {
      "text/html": [
       "\n",
       "<style>\n",
       "  #altair-viz-caf8a3290a4f4e45af1877c537d40a6e.vega-embed {\n",
       "    width: 100%;\n",
       "    display: flex;\n",
       "  }\n",
       "\n",
       "  #altair-viz-caf8a3290a4f4e45af1877c537d40a6e.vega-embed details,\n",
       "  #altair-viz-caf8a3290a4f4e45af1877c537d40a6e.vega-embed details summary {\n",
       "    position: relative;\n",
       "  }\n",
       "</style>\n",
       "<div id=\"altair-viz-caf8a3290a4f4e45af1877c537d40a6e\"></div>\n",
       "<script type=\"text/javascript\">\n",
       "  var VEGA_DEBUG = (typeof VEGA_DEBUG == \"undefined\") ? {} : VEGA_DEBUG;\n",
       "  (function(spec, embedOpt){\n",
       "    let outputDiv = document.currentScript.previousElementSibling;\n",
       "    if (outputDiv.id !== \"altair-viz-caf8a3290a4f4e45af1877c537d40a6e\") {\n",
       "      outputDiv = document.getElementById(\"altair-viz-caf8a3290a4f4e45af1877c537d40a6e\");\n",
       "    }\n",
       "    const paths = {\n",
       "      \"vega\": \"https://cdn.jsdelivr.net/npm/vega@5?noext\",\n",
       "      \"vega-lib\": \"https://cdn.jsdelivr.net/npm/vega-lib?noext\",\n",
       "      \"vega-lite\": \"https://cdn.jsdelivr.net/npm/vega-lite@5.20.1?noext\",\n",
       "      \"vega-embed\": \"https://cdn.jsdelivr.net/npm/vega-embed@6?noext\",\n",
       "    };\n",
       "\n",
       "    function maybeLoadScript(lib, version) {\n",
       "      var key = `${lib.replace(\"-\", \"\")}_version`;\n",
       "      return (VEGA_DEBUG[key] == version) ?\n",
       "        Promise.resolve(paths[lib]) :\n",
       "        new Promise(function(resolve, reject) {\n",
       "          var s = document.createElement('script');\n",
       "          document.getElementsByTagName(\"head\")[0].appendChild(s);\n",
       "          s.async = true;\n",
       "          s.onload = () => {\n",
       "            VEGA_DEBUG[key] = version;\n",
       "            return resolve(paths[lib]);\n",
       "          };\n",
       "          s.onerror = () => reject(`Error loading script: ${paths[lib]}`);\n",
       "          s.src = paths[lib];\n",
       "        });\n",
       "    }\n",
       "\n",
       "    function showError(err) {\n",
       "      outputDiv.innerHTML = `<div class=\"error\" style=\"color:red;\">${err}</div>`;\n",
       "      throw err;\n",
       "    }\n",
       "\n",
       "    function displayChart(vegaEmbed) {\n",
       "      vegaEmbed(outputDiv, spec, embedOpt)\n",
       "        .catch(err => showError(`Javascript Error: ${err.message}<br>This usually means there's a typo in your chart specification. See the javascript console for the full traceback.`));\n",
       "    }\n",
       "\n",
       "    if(typeof define === \"function\" && define.amd) {\n",
       "      requirejs.config({paths});\n",
       "      require([\"vega-embed\"], displayChart, err => showError(`Error loading script: ${err.message}`));\n",
       "    } else {\n",
       "      maybeLoadScript(\"vega\", \"5\")\n",
       "        .then(() => maybeLoadScript(\"vega-lite\", \"5.20.1\"))\n",
       "        .then(() => maybeLoadScript(\"vega-embed\", \"6\"))\n",
       "        .catch(showError)\n",
       "        .then(() => displayChart(vegaEmbed));\n",
       "    }\n",
       "  })({\"config\": {\"view\": {\"continuousWidth\": 300, \"continuousHeight\": 300}}, \"repeat\": {\"layer\": [\"mse\"]}, \"spec\": {\"data\": {\"name\": \"data-3b86baaf468d815f53aeef32a42668c7\"}, \"mark\": {\"type\": \"line\"}, \"encoding\": {\"color\": {\"datum\": {\"repeat\": \"layer\"}}, \"x\": {\"field\": \"index\", \"title\": \"Epochs\", \"type\": \"quantitative\"}, \"y\": {\"field\": {\"repeat\": \"layer\"}, \"title\": \"Mean Squared Error\", \"type\": \"quantitative\"}}}, \"title\": \"Mean Squared Error by Epoch\", \"$schema\": \"https://vega.github.io/schema/vega-lite/v5.20.1.json\", \"datasets\": {\"data-3b86baaf468d815f53aeef32a42668c7\": [{\"index\": 0, \"mse\": 0.04912624880671501}, {\"index\": 1, \"mse\": 0.04384884610772133}, {\"index\": 2, \"mse\": 0.04238871857523918}, {\"index\": 3, \"mse\": 0.04272402450442314}, {\"index\": 4, \"mse\": 0.043518517166376114}, {\"index\": 5, \"mse\": 0.044191062450408936}, {\"index\": 6, \"mse\": 0.039785757660865784}, {\"index\": 7, \"mse\": 0.04021226614713669}, {\"index\": 8, \"mse\": 0.04281514883041382}, {\"index\": 9, \"mse\": 0.03643594682216644}, {\"index\": 10, \"mse\": 0.040645092725753784}, {\"index\": 11, \"mse\": 0.03982431814074516}, {\"index\": 12, \"mse\": 0.03891696035861969}, {\"index\": 13, \"mse\": 0.04013823717832565}, {\"index\": 14, \"mse\": 0.03567403927445412}, {\"index\": 15, \"mse\": 0.03398795798420906}, {\"index\": 16, \"mse\": 0.040283773094415665}, {\"index\": 17, \"mse\": 0.034827232360839844}, {\"index\": 18, \"mse\": 0.03217753395438194}, {\"index\": 19, \"mse\": 0.03513652831315994}, {\"index\": 20, \"mse\": 0.03498263284564018}, {\"index\": 21, \"mse\": 0.031735729426145554}, {\"index\": 22, \"mse\": 0.03895828127861023}, {\"index\": 23, \"mse\": 0.032588060945272446}, {\"index\": 24, \"mse\": 0.032418858259916306}, {\"index\": 25, \"mse\": 0.033722229301929474}, {\"index\": 26, \"mse\": 0.031161660328507423}, {\"index\": 27, \"mse\": 0.033343829214572906}, {\"index\": 28, \"mse\": 0.03143511340022087}, {\"index\": 29, \"mse\": 0.03253260254859924}, {\"index\": 30, \"mse\": 0.032796844840049744}, {\"index\": 31, \"mse\": 0.029597386717796326}, {\"index\": 32, \"mse\": 0.029881184920668602}, {\"index\": 33, \"mse\": 0.02974599413573742}, {\"index\": 34, \"mse\": 0.029377538710832596}, {\"index\": 35, \"mse\": 0.028589220717549324}, {\"index\": 36, \"mse\": 0.030303211882710457}, {\"index\": 37, \"mse\": 0.029229218140244484}, {\"index\": 38, \"mse\": 0.029445912688970566}, {\"index\": 39, \"mse\": 0.027136074379086494}, {\"index\": 40, \"mse\": 0.0286148302257061}, {\"index\": 41, \"mse\": 0.028130430728197098}, {\"index\": 42, \"mse\": 0.02661294676363468}, {\"index\": 43, \"mse\": 0.03152736276388168}, {\"index\": 44, \"mse\": 0.02790193445980549}, {\"index\": 45, \"mse\": 0.029999274760484695}, {\"index\": 46, \"mse\": 0.0271077211946249}, {\"index\": 47, \"mse\": 0.02441440150141716}, {\"index\": 48, \"mse\": 0.026518482714891434}, {\"index\": 49, \"mse\": 0.025635140016674995}, {\"index\": 50, \"mse\": 0.030523832887411118}, {\"index\": 51, \"mse\": 0.025497693568468094}, {\"index\": 52, \"mse\": 0.025367524474859238}, {\"index\": 53, \"mse\": 0.02475145272910595}, {\"index\": 54, \"mse\": 0.025190293788909912}, {\"index\": 55, \"mse\": 0.02607768587768078}, {\"index\": 56, \"mse\": 0.023509761318564415}, {\"index\": 57, \"mse\": 0.024319635704159737}, {\"index\": 58, \"mse\": 0.022651758044958115}, {\"index\": 59, \"mse\": 0.028896167874336243}, {\"index\": 60, \"mse\": 0.026393041014671326}, {\"index\": 61, \"mse\": 0.025999896228313446}, {\"index\": 62, \"mse\": 0.022114990279078484}, {\"index\": 63, \"mse\": 0.023232413455843925}, {\"index\": 64, \"mse\": 0.0228921826928854}, {\"index\": 65, \"mse\": 0.02429364249110222}, {\"index\": 66, \"mse\": 0.022686980664730072}, {\"index\": 67, \"mse\": 0.023931704461574554}, {\"index\": 68, \"mse\": 0.02265971153974533}, {\"index\": 69, \"mse\": 0.022870272397994995}, {\"index\": 70, \"mse\": 0.020437952131032944}, {\"index\": 71, \"mse\": 0.02194836549460888}, {\"index\": 72, \"mse\": 0.023036926984786987}, {\"index\": 73, \"mse\": 0.020843779668211937}, {\"index\": 74, \"mse\": 0.02255474217236042}, {\"index\": 75, \"mse\": 0.024018272757530212}, {\"index\": 76, \"mse\": 0.0208527073264122}, {\"index\": 77, \"mse\": 0.020129302516579628}, {\"index\": 78, \"mse\": 0.022469932213425636}, {\"index\": 79, \"mse\": 0.021483270451426506}, {\"index\": 80, \"mse\": 0.02054809033870697}, {\"index\": 81, \"mse\": 0.022191239520907402}, {\"index\": 82, \"mse\": 0.01908433996140957}, {\"index\": 83, \"mse\": 0.0197567418217659}, {\"index\": 84, \"mse\": 0.018934765830636024}, {\"index\": 85, \"mse\": 0.020411638543009758}, {\"index\": 86, \"mse\": 0.021686198189854622}, {\"index\": 87, \"mse\": 0.02252908982336521}, {\"index\": 88, \"mse\": 0.021286655217409134}, {\"index\": 89, \"mse\": 0.021900614723563194}, {\"index\": 90, \"mse\": 0.01929555833339691}, {\"index\": 91, \"mse\": 0.02113145962357521}, {\"index\": 92, \"mse\": 0.02243850752711296}, {\"index\": 93, \"mse\": 0.02021431364119053}, {\"index\": 94, \"mse\": 0.02231198363006115}, {\"index\": 95, \"mse\": 0.021874945610761642}, {\"index\": 96, \"mse\": 0.020374804735183716}, {\"index\": 97, \"mse\": 0.01871863380074501}, {\"index\": 98, \"mse\": 0.019383782520890236}, {\"index\": 99, \"mse\": 0.019448937848210335}, {\"index\": 100, \"mse\": 0.01947648450732231}, {\"index\": 101, \"mse\": 0.01913418620824814}, {\"index\": 102, \"mse\": 0.019827846437692642}, {\"index\": 103, \"mse\": 0.020309995859861374}, {\"index\": 104, \"mse\": 0.01808580942451954}, {\"index\": 105, \"mse\": 0.01843271404504776}, {\"index\": 106, \"mse\": 0.01883026398718357}, {\"index\": 107, \"mse\": 0.018532024696469307}, {\"index\": 108, \"mse\": 0.021446412429213524}, {\"index\": 109, \"mse\": 0.01850624568760395}, {\"index\": 110, \"mse\": 0.02146896906197071}, {\"index\": 111, \"mse\": 0.019172124564647675}, {\"index\": 112, \"mse\": 0.01910104788839817}, {\"index\": 113, \"mse\": 0.020164670422673225}, {\"index\": 114, \"mse\": 0.022746704518795013}, {\"index\": 115, \"mse\": 0.017864713445305824}, {\"index\": 116, \"mse\": 0.01710772141814232}, {\"index\": 117, \"mse\": 0.016308581456542015}, {\"index\": 118, \"mse\": 0.017767267301678658}, {\"index\": 119, \"mse\": 0.015902787446975708}, {\"index\": 120, \"mse\": 0.019091203808784485}, {\"index\": 121, \"mse\": 0.01576189510524273}, {\"index\": 122, \"mse\": 0.018943069502711296}, {\"index\": 123, \"mse\": 0.016957435756921768}, {\"index\": 124, \"mse\": 0.017712270841002464}, {\"index\": 125, \"mse\": 0.017690390348434448}, {\"index\": 126, \"mse\": 0.016334468498826027}, {\"index\": 127, \"mse\": 0.018381698057055473}, {\"index\": 128, \"mse\": 0.01711469143629074}, {\"index\": 129, \"mse\": 0.017758846282958984}, {\"index\": 130, \"mse\": 0.015397092327475548}, {\"index\": 131, \"mse\": 0.01585201732814312}, {\"index\": 132, \"mse\": 0.017442487180233}, {\"index\": 133, \"mse\": 0.017511943355202675}, {\"index\": 134, \"mse\": 0.015290684066712856}, {\"index\": 135, \"mse\": 0.01852479949593544}, {\"index\": 136, \"mse\": 0.017130382359027863}, {\"index\": 137, \"mse\": 0.015617672353982925}, {\"index\": 138, \"mse\": 0.01572214998304844}, {\"index\": 139, \"mse\": 0.01594139263033867}, {\"index\": 140, \"mse\": 0.015916340053081512}, {\"index\": 141, \"mse\": 0.017294926568865776}, {\"index\": 142, \"mse\": 0.01539166271686554}, {\"index\": 143, \"mse\": 0.016151707619428635}, {\"index\": 144, \"mse\": 0.01689498871564865}, {\"index\": 145, \"mse\": 0.015735117718577385}, {\"index\": 146, \"mse\": 0.017404617741703987}, {\"index\": 147, \"mse\": 0.015858817845582962}, {\"index\": 148, \"mse\": 0.01604999415576458}, {\"index\": 149, \"mse\": 0.01625625602900982}]}}, {\"mode\": \"vega-lite\"});\n",
       "</script>"
      ],
      "text/plain": [
       "alt.RepeatChart(...)"
      ]
     },
     "metadata": {},
     "output_type": "display_data"
    },
    {
     "data": {
      "text/html": [
       "\n",
       "<style>\n",
       "  #altair-viz-dd5e2d0ce270410a89d57fc34bc0d125.vega-embed {\n",
       "    width: 100%;\n",
       "    display: flex;\n",
       "  }\n",
       "\n",
       "  #altair-viz-dd5e2d0ce270410a89d57fc34bc0d125.vega-embed details,\n",
       "  #altair-viz-dd5e2d0ce270410a89d57fc34bc0d125.vega-embed details summary {\n",
       "    position: relative;\n",
       "  }\n",
       "</style>\n",
       "<div id=\"altair-viz-dd5e2d0ce270410a89d57fc34bc0d125\"></div>\n",
       "<script type=\"text/javascript\">\n",
       "  var VEGA_DEBUG = (typeof VEGA_DEBUG == \"undefined\") ? {} : VEGA_DEBUG;\n",
       "  (function(spec, embedOpt){\n",
       "    let outputDiv = document.currentScript.previousElementSibling;\n",
       "    if (outputDiv.id !== \"altair-viz-dd5e2d0ce270410a89d57fc34bc0d125\") {\n",
       "      outputDiv = document.getElementById(\"altair-viz-dd5e2d0ce270410a89d57fc34bc0d125\");\n",
       "    }\n",
       "    const paths = {\n",
       "      \"vega\": \"https://cdn.jsdelivr.net/npm/vega@5?noext\",\n",
       "      \"vega-lib\": \"https://cdn.jsdelivr.net/npm/vega-lib?noext\",\n",
       "      \"vega-lite\": \"https://cdn.jsdelivr.net/npm/vega-lite@5.20.1?noext\",\n",
       "      \"vega-embed\": \"https://cdn.jsdelivr.net/npm/vega-embed@6?noext\",\n",
       "    };\n",
       "\n",
       "    function maybeLoadScript(lib, version) {\n",
       "      var key = `${lib.replace(\"-\", \"\")}_version`;\n",
       "      return (VEGA_DEBUG[key] == version) ?\n",
       "        Promise.resolve(paths[lib]) :\n",
       "        new Promise(function(resolve, reject) {\n",
       "          var s = document.createElement('script');\n",
       "          document.getElementsByTagName(\"head\")[0].appendChild(s);\n",
       "          s.async = true;\n",
       "          s.onload = () => {\n",
       "            VEGA_DEBUG[key] = version;\n",
       "            return resolve(paths[lib]);\n",
       "          };\n",
       "          s.onerror = () => reject(`Error loading script: ${paths[lib]}`);\n",
       "          s.src = paths[lib];\n",
       "        });\n",
       "    }\n",
       "\n",
       "    function showError(err) {\n",
       "      outputDiv.innerHTML = `<div class=\"error\" style=\"color:red;\">${err}</div>`;\n",
       "      throw err;\n",
       "    }\n",
       "\n",
       "    function displayChart(vegaEmbed) {\n",
       "      vegaEmbed(outputDiv, spec, embedOpt)\n",
       "        .catch(err => showError(`Javascript Error: ${err.message}<br>This usually means there's a typo in your chart specification. See the javascript console for the full traceback.`));\n",
       "    }\n",
       "\n",
       "    if(typeof define === \"function\" && define.amd) {\n",
       "      requirejs.config({paths});\n",
       "      require([\"vega-embed\"], displayChart, err => showError(`Error loading script: ${err.message}`));\n",
       "    } else {\n",
       "      maybeLoadScript(\"vega\", \"5\")\n",
       "        .then(() => maybeLoadScript(\"vega-lite\", \"5.20.1\"))\n",
       "        .then(() => maybeLoadScript(\"vega-embed\", \"6\"))\n",
       "        .catch(showError)\n",
       "        .then(() => displayChart(vegaEmbed));\n",
       "    }\n",
       "  })({\"config\": {\"view\": {\"continuousWidth\": 300, \"continuousHeight\": 300}}, \"repeat\": {\"layer\": [\"loss\"]}, \"spec\": {\"data\": {\"name\": \"data-56685c830006a19a8254676d4ab506b4\"}, \"mark\": {\"type\": \"line\"}, \"encoding\": {\"color\": {\"datum\": {\"repeat\": \"layer\"}}, \"x\": {\"field\": \"index\", \"title\": \"Epochs\", \"type\": \"quantitative\"}, \"y\": {\"field\": {\"repeat\": \"layer\"}, \"title\": \"Loss\", \"type\": \"quantitative\"}}}, \"title\": \"Loss by Epoch\", \"$schema\": \"https://vega.github.io/schema/vega-lite/v5.20.1.json\", \"datasets\": {\"data-56685c830006a19a8254676d4ab506b4\": [{\"index\": 0, \"loss\": 0.15129539370536804}, {\"index\": 1, \"loss\": 0.1358102411031723}, {\"index\": 2, \"loss\": 0.13746654987335205}, {\"index\": 3, \"loss\": 0.1373181790113449}, {\"index\": 4, \"loss\": 0.14378666877746582}, {\"index\": 5, \"loss\": 0.14458028972148895}, {\"index\": 6, \"loss\": 0.1302141398191452}, {\"index\": 7, \"loss\": 0.1344037503004074}, {\"index\": 8, \"loss\": 0.13698916137218475}, {\"index\": 9, \"loss\": 0.12491029500961304}, {\"index\": 10, \"loss\": 0.13303682208061218}, {\"index\": 11, \"loss\": 0.1303747296333313}, {\"index\": 12, \"loss\": 0.1274467259645462}, {\"index\": 13, \"loss\": 0.13025479018688202}, {\"index\": 14, \"loss\": 0.12726141512393951}, {\"index\": 15, \"loss\": 0.12009745836257935}, {\"index\": 16, \"loss\": 0.13157443702220917}, {\"index\": 17, \"loss\": 0.12011173367500305}, {\"index\": 18, \"loss\": 0.11802513897418976}, {\"index\": 19, \"loss\": 0.11900463700294495}, {\"index\": 20, \"loss\": 0.12217126786708832}, {\"index\": 21, \"loss\": 0.11531277745962143}, {\"index\": 22, \"loss\": 0.13304708898067474}, {\"index\": 23, \"loss\": 0.11631975322961807}, {\"index\": 24, \"loss\": 0.1162661761045456}, {\"index\": 25, \"loss\": 0.11926531791687012}, {\"index\": 26, \"loss\": 0.111538827419281}, {\"index\": 27, \"loss\": 0.11814293265342712}, {\"index\": 28, \"loss\": 0.11406528949737549}, {\"index\": 29, \"loss\": 0.11745888739824295}, {\"index\": 30, \"loss\": 0.11931950598955154}, {\"index\": 31, \"loss\": 0.11192960292100906}, {\"index\": 32, \"loss\": 0.11120933294296265}, {\"index\": 33, \"loss\": 0.11501994729042053}, {\"index\": 34, \"loss\": 0.11062447726726532}, {\"index\": 35, \"loss\": 0.10881362855434418}, {\"index\": 36, \"loss\": 0.11445802450180054}, {\"index\": 37, \"loss\": 0.11322146654129028}, {\"index\": 38, \"loss\": 0.11033692955970764}, {\"index\": 39, \"loss\": 0.10836632549762726}, {\"index\": 40, \"loss\": 0.10931041836738586}, {\"index\": 41, \"loss\": 0.1083034947514534}, {\"index\": 42, \"loss\": 0.10684877634048462}, {\"index\": 43, \"loss\": 0.11298492550849915}, {\"index\": 44, \"loss\": 0.10921616852283478}, {\"index\": 45, \"loss\": 0.1112150326371193}, {\"index\": 46, \"loss\": 0.10439204424619675}, {\"index\": 47, \"loss\": 0.10214386880397797}, {\"index\": 48, \"loss\": 0.10483573377132416}, {\"index\": 49, \"loss\": 0.09917815774679184}, {\"index\": 50, \"loss\": 0.11454378068447113}, {\"index\": 51, \"loss\": 0.10385848581790924}, {\"index\": 52, \"loss\": 0.10393155366182327}, {\"index\": 53, \"loss\": 0.09921889007091522}, {\"index\": 54, \"loss\": 0.10570116341114044}, {\"index\": 55, \"loss\": 0.10659125447273254}, {\"index\": 56, \"loss\": 0.10061491280794144}, {\"index\": 57, \"loss\": 0.09846633672714233}, {\"index\": 58, \"loss\": 0.09653088450431824}, {\"index\": 59, \"loss\": 0.10895943641662598}, {\"index\": 60, \"loss\": 0.10775306075811386}, {\"index\": 61, \"loss\": 0.10250955820083618}, {\"index\": 62, \"loss\": 0.09574483335018158}, {\"index\": 63, \"loss\": 0.09669897705316544}, {\"index\": 64, \"loss\": 0.09754496812820435}, {\"index\": 65, \"loss\": 0.10007721185684204}, {\"index\": 66, \"loss\": 0.09716152399778366}, {\"index\": 67, \"loss\": 0.09858149290084839}, {\"index\": 68, \"loss\": 0.09297099709510803}, {\"index\": 69, \"loss\": 0.0950336828827858}, {\"index\": 70, \"loss\": 0.09199267625808716}, {\"index\": 71, \"loss\": 0.09423772990703583}, {\"index\": 72, \"loss\": 0.09883978217840195}, {\"index\": 73, \"loss\": 0.09055068343877792}, {\"index\": 74, \"loss\": 0.09498564898967743}, {\"index\": 75, \"loss\": 0.10406091809272766}, {\"index\": 76, \"loss\": 0.08927614986896515}, {\"index\": 77, \"loss\": 0.08672825992107391}, {\"index\": 78, \"loss\": 0.09911560267210007}, {\"index\": 79, \"loss\": 0.09353353828191757}, {\"index\": 80, \"loss\": 0.09144975244998932}, {\"index\": 81, \"loss\": 0.09546450525522232}, {\"index\": 82, \"loss\": 0.08746964484453201}, {\"index\": 83, \"loss\": 0.08649581670761108}, {\"index\": 84, \"loss\": 0.08901676535606384}, {\"index\": 85, \"loss\": 0.0885685533285141}, {\"index\": 86, \"loss\": 0.09323175996541977}, {\"index\": 87, \"loss\": 0.094994455575943}, {\"index\": 88, \"loss\": 0.0953153520822525}, {\"index\": 89, \"loss\": 0.09314939379692078}, {\"index\": 90, \"loss\": 0.08624392002820969}, {\"index\": 91, \"loss\": 0.09123929589986801}, {\"index\": 92, \"loss\": 0.09432777017354965}, {\"index\": 93, \"loss\": 0.08785633742809296}, {\"index\": 94, \"loss\": 0.09399300813674927}, {\"index\": 95, \"loss\": 0.09144360572099686}, {\"index\": 96, \"loss\": 0.09099909663200378}, {\"index\": 97, \"loss\": 0.08431742340326309}, {\"index\": 98, \"loss\": 0.08904805779457092}, {\"index\": 99, \"loss\": 0.08727630227804184}, {\"index\": 100, \"loss\": 0.08870464563369751}, {\"index\": 101, \"loss\": 0.08549536019563675}, {\"index\": 102, \"loss\": 0.08678033947944641}, {\"index\": 103, \"loss\": 0.09017766267061234}, {\"index\": 104, \"loss\": 0.08362480998039246}, {\"index\": 105, \"loss\": 0.08398466557264328}, {\"index\": 106, \"loss\": 0.08754216134548187}, {\"index\": 107, \"loss\": 0.08682906627655029}, {\"index\": 108, \"loss\": 0.09308696538209915}, {\"index\": 109, \"loss\": 0.08676163852214813}, {\"index\": 110, \"loss\": 0.09483116865158081}, {\"index\": 111, \"loss\": 0.08421316742897034}, {\"index\": 112, \"loss\": 0.08595405519008636}, {\"index\": 113, \"loss\": 0.0897926539182663}, {\"index\": 114, \"loss\": 0.10064473003149033}, {\"index\": 115, \"loss\": 0.08400916308164597}, {\"index\": 116, \"loss\": 0.08127500861883163}, {\"index\": 117, \"loss\": 0.07882823050022125}, {\"index\": 118, \"loss\": 0.08251838386058807}, {\"index\": 119, \"loss\": 0.07941744476556778}, {\"index\": 120, \"loss\": 0.08763927966356277}, {\"index\": 121, \"loss\": 0.07948315143585205}, {\"index\": 122, \"loss\": 0.08641546219587326}, {\"index\": 123, \"loss\": 0.08112602680921555}, {\"index\": 124, \"loss\": 0.08238235116004944}, {\"index\": 125, \"loss\": 0.08317988365888596}, {\"index\": 126, \"loss\": 0.0777406394481659}, {\"index\": 127, \"loss\": 0.08334273844957352}, {\"index\": 128, \"loss\": 0.08371827006340027}, {\"index\": 129, \"loss\": 0.08211278915405273}, {\"index\": 130, \"loss\": 0.07571516185998917}, {\"index\": 131, \"loss\": 0.07568537443876266}, {\"index\": 132, \"loss\": 0.07976236194372177}, {\"index\": 133, \"loss\": 0.08241065591573715}, {\"index\": 134, \"loss\": 0.07865987718105316}, {\"index\": 135, \"loss\": 0.08481109887361526}, {\"index\": 136, \"loss\": 0.08092870563268661}, {\"index\": 137, \"loss\": 0.0761103630065918}, {\"index\": 138, \"loss\": 0.0761946439743042}, {\"index\": 139, \"loss\": 0.07655218243598938}, {\"index\": 140, \"loss\": 0.07927726954221725}, {\"index\": 141, \"loss\": 0.08145079761743546}, {\"index\": 142, \"loss\": 0.07688164710998535}, {\"index\": 143, \"loss\": 0.07995463162660599}, {\"index\": 144, \"loss\": 0.07836291193962097}, {\"index\": 145, \"loss\": 0.07869483530521393}, {\"index\": 146, \"loss\": 0.07914577424526215}, {\"index\": 147, \"loss\": 0.07913040369749069}, {\"index\": 148, \"loss\": 0.07575436681509018}, {\"index\": 149, \"loss\": 0.0784531980752945}]}}, {\"mode\": \"vega-lite\"});\n",
       "</script>"
      ],
      "text/plain": [
       "alt.RepeatChart(...)"
      ]
     },
     "metadata": {},
     "output_type": "display_data"
    }
   ],
   "source": [
    "plot_model_history(history_df, feature='mse', name=name, tuner=False)\n",
    "plot_model_history(history_df, feature='loss', name=name, tuner=False)"
   ]
  },
  {
   "cell_type": "markdown",
   "metadata": {},
   "source": [
    "# Optimizing optimizer"
   ]
  },
  {
   "cell_type": "code",
   "execution_count": 208,
   "metadata": {},
   "outputs": [],
   "source": [
    "\n",
    "def create_opt_model(opt):\n",
    "    #Activation for all hidden layers\n",
    "\n",
    "    layers = [Dense(units=164, \n",
    "                    activation='relu'),\n",
    "                Dense(units=24, \n",
    "                      activation='relu'),\n",
    "                Dense(dim_output, name='Hardness')\n",
    "          ]\n",
    "    \n",
    "    nn_model = Sequential(layers)\n",
    "\n",
    "    nn_model.compile(optimizer=opt,\n",
    "                 loss='mean_absolute_error',\n",
    "                 metrics=['mse'])\n",
    "    \n",
    "    return nn_model"
   ]
  },
  {
   "cell_type": "code",
   "execution_count": 213,
   "metadata": {},
   "outputs": [],
   "source": [
    "opts = [name.lower() for name in [\"Adadelta\", \n",
    "                                        \"Adafactor\", \n",
    "                                        \"Adagrad\", \n",
    "                                        \"Adam\", \n",
    "                                        \"AdamW\", \n",
    "                                        \"Adamax\", \n",
    "                                        \"Ftrl\", \n",
    "                                        \"Lion\", \n",
    "                                        \"Nadam\", \n",
    "                                        \"RMSprop\", \n",
    "                                        \"SGD\"]]"
   ]
  },
  {
   "cell_type": "code",
   "execution_count": 214,
   "metadata": {},
   "outputs": [
    {
     "name": "stdout",
     "output_type": "stream",
     "text": [
      "\u001b[1m11/11\u001b[0m \u001b[32m━━━━━━━━━━━━━━━━━━━━\u001b[0m\u001b[37m\u001b[0m \u001b[1m0s\u001b[0m 560us/step - loss: 0.1942 - mse: 0.0849\n",
      "\u001b[1m11/11\u001b[0m \u001b[32m━━━━━━━━━━━━━━━━━━━━\u001b[0m\u001b[37m\u001b[0m \u001b[1m0s\u001b[0m 615us/step - loss: 0.1942 - mse: 0.0849\n",
      "\u001b[1m11/11\u001b[0m \u001b[32m━━━━━━━━━━━━━━━━━━━━\u001b[0m\u001b[37m\u001b[0m \u001b[1m0s\u001b[0m 591us/step - loss: 0.1942 - mse: 0.0849\n",
      "\u001b[1m11/11\u001b[0m \u001b[32m━━━━━━━━━━━━━━━━━━━━\u001b[0m\u001b[37m\u001b[0m \u001b[1m0s\u001b[0m 652us/step - loss: 0.1942 - mse: 0.0849\n",
      "\u001b[1m11/11\u001b[0m \u001b[32m━━━━━━━━━━━━━━━━━━━━\u001b[0m\u001b[37m\u001b[0m \u001b[1m0s\u001b[0m 563us/step - loss: 0.1942 - mse: 0.0849\n",
      "\u001b[1m11/11\u001b[0m \u001b[32m━━━━━━━━━━━━━━━━━━━━\u001b[0m\u001b[37m\u001b[0m \u001b[1m0s\u001b[0m 793us/step - loss: 0.1942 - mse: 0.0849\n",
      "\u001b[1m11/11\u001b[0m \u001b[32m━━━━━━━━━━━━━━━━━━━━\u001b[0m\u001b[37m\u001b[0m \u001b[1m0s\u001b[0m 590us/step - loss: 0.1933 - mse: 0.0838\n",
      "\u001b[1m11/11\u001b[0m \u001b[32m━━━━━━━━━━━━━━━━━━━━\u001b[0m\u001b[37m\u001b[0m \u001b[1m0s\u001b[0m 587us/step - loss: 0.1942 - mse: 0.0849\n",
      "\u001b[1m11/11\u001b[0m \u001b[32m━━━━━━━━━━━━━━━━━━━━\u001b[0m\u001b[37m\u001b[0m \u001b[1m0s\u001b[0m 627us/step - loss: 0.1939 - mse: 0.0844\n",
      "\u001b[1m11/11\u001b[0m \u001b[32m━━━━━━━━━━━━━━━━━━━━\u001b[0m\u001b[37m\u001b[0m \u001b[1m0s\u001b[0m 449us/step - loss: 0.1942 - mse: 0.0849\n",
      "\u001b[1m11/11\u001b[0m \u001b[32m━━━━━━━━━━━━━━━━━━━━\u001b[0m\u001b[37m\u001b[0m \u001b[1m0s\u001b[0m 574us/step - loss: 0.1942 - mse: 0.0849\n",
      "Best Optimizer: sgd with MSE 0.07653665542602539\n"
     ]
    }
   ],
   "source": [
    "for opt in opts:\n",
    "    best_opt = 'starter'\n",
    "    best_mse = 4\n",
    "\n",
    "    model = create_opt_model(opt)\n",
    "    model.fit(x=X_train, \n",
    "            y=y_train,\n",
    "            verbose=0,\n",
    "            epochs=150)\n",
    "    \n",
    "    loss, mse = nn_model.evaluate(X_test, y_test)\n",
    "    \n",
    "    if mse < best_mse:\n",
    "        best_mse = mse\n",
    "        best_opt = opt\n",
    "\n",
    "print(\"Best Optimizer:\", best_opt, \"with MSE\", best_mse)"
   ]
  },
  {
   "cell_type": "markdown",
   "metadata": {},
   "source": [
    "## Epoch optimization"
   ]
  },
  {
   "cell_type": "code",
   "execution_count": 216,
   "metadata": {},
   "outputs": [],
   "source": [
    "model = create_opt_model(optimizers.SGD(0.01))\n",
    "fit = model.fit(x=X_train, \n",
    "         y=y_train, \n",
    "         verbose=0,\n",
    "         epochs=100)\n",
    "\n"
   ]
  },
  {
   "cell_type": "code",
   "execution_count": 217,
   "metadata": {},
   "outputs": [
    {
     "data": {
      "text/html": [
       "\n",
       "<style>\n",
       "  #altair-viz-8e69d3972833418186e43cea4de1192c.vega-embed {\n",
       "    width: 100%;\n",
       "    display: flex;\n",
       "  }\n",
       "\n",
       "  #altair-viz-8e69d3972833418186e43cea4de1192c.vega-embed details,\n",
       "  #altair-viz-8e69d3972833418186e43cea4de1192c.vega-embed details summary {\n",
       "    position: relative;\n",
       "  }\n",
       "</style>\n",
       "<div id=\"altair-viz-8e69d3972833418186e43cea4de1192c\"></div>\n",
       "<script type=\"text/javascript\">\n",
       "  var VEGA_DEBUG = (typeof VEGA_DEBUG == \"undefined\") ? {} : VEGA_DEBUG;\n",
       "  (function(spec, embedOpt){\n",
       "    let outputDiv = document.currentScript.previousElementSibling;\n",
       "    if (outputDiv.id !== \"altair-viz-8e69d3972833418186e43cea4de1192c\") {\n",
       "      outputDiv = document.getElementById(\"altair-viz-8e69d3972833418186e43cea4de1192c\");\n",
       "    }\n",
       "    const paths = {\n",
       "      \"vega\": \"https://cdn.jsdelivr.net/npm/vega@5?noext\",\n",
       "      \"vega-lib\": \"https://cdn.jsdelivr.net/npm/vega-lib?noext\",\n",
       "      \"vega-lite\": \"https://cdn.jsdelivr.net/npm/vega-lite@5.20.1?noext\",\n",
       "      \"vega-embed\": \"https://cdn.jsdelivr.net/npm/vega-embed@6?noext\",\n",
       "    };\n",
       "\n",
       "    function maybeLoadScript(lib, version) {\n",
       "      var key = `${lib.replace(\"-\", \"\")}_version`;\n",
       "      return (VEGA_DEBUG[key] == version) ?\n",
       "        Promise.resolve(paths[lib]) :\n",
       "        new Promise(function(resolve, reject) {\n",
       "          var s = document.createElement('script');\n",
       "          document.getElementsByTagName(\"head\")[0].appendChild(s);\n",
       "          s.async = true;\n",
       "          s.onload = () => {\n",
       "            VEGA_DEBUG[key] = version;\n",
       "            return resolve(paths[lib]);\n",
       "          };\n",
       "          s.onerror = () => reject(`Error loading script: ${paths[lib]}`);\n",
       "          s.src = paths[lib];\n",
       "        });\n",
       "    }\n",
       "\n",
       "    function showError(err) {\n",
       "      outputDiv.innerHTML = `<div class=\"error\" style=\"color:red;\">${err}</div>`;\n",
       "      throw err;\n",
       "    }\n",
       "\n",
       "    function displayChart(vegaEmbed) {\n",
       "      vegaEmbed(outputDiv, spec, embedOpt)\n",
       "        .catch(err => showError(`Javascript Error: ${err.message}<br>This usually means there's a typo in your chart specification. See the javascript console for the full traceback.`));\n",
       "    }\n",
       "\n",
       "    if(typeof define === \"function\" && define.amd) {\n",
       "      requirejs.config({paths});\n",
       "      require([\"vega-embed\"], displayChart, err => showError(`Error loading script: ${err.message}`));\n",
       "    } else {\n",
       "      maybeLoadScript(\"vega\", \"5\")\n",
       "        .then(() => maybeLoadScript(\"vega-lite\", \"5.20.1\"))\n",
       "        .then(() => maybeLoadScript(\"vega-embed\", \"6\"))\n",
       "        .catch(showError)\n",
       "        .then(() => displayChart(vegaEmbed));\n",
       "    }\n",
       "  })({\"config\": {\"view\": {\"continuousWidth\": 300, \"continuousHeight\": 300}}, \"repeat\": {\"layer\": [\"mse\"]}, \"spec\": {\"data\": {\"name\": \"data-bf6ff32fd0852616397c0f44ddc27299\"}, \"mark\": {\"type\": \"line\"}, \"encoding\": {\"color\": {\"datum\": {\"repeat\": \"layer\"}}, \"x\": {\"field\": \"index\", \"title\": \"Epochs\", \"type\": \"quantitative\"}, \"y\": {\"field\": {\"repeat\": \"layer\"}, \"title\": \"Mean Squared Error\", \"type\": \"quantitative\"}}}, \"title\": \"Mean Squared Error by Epoch\", \"$schema\": \"https://vega.github.io/schema/vega-lite/v5.20.1.json\", \"datasets\": {\"data-bf6ff32fd0852616397c0f44ddc27299\": [{\"index\": 0, \"mse\": 0.807958722114563}, {\"index\": 1, \"mse\": 0.4902074933052063}, {\"index\": 2, \"mse\": 0.2597692608833313}, {\"index\": 3, \"mse\": 0.14967823028564453}, {\"index\": 4, \"mse\": 0.1059466004371643}, {\"index\": 5, \"mse\": 0.09130723774433136}, {\"index\": 6, \"mse\": 0.08088476210832596}, {\"index\": 7, \"mse\": 0.07702622562646866}, {\"index\": 8, \"mse\": 0.07285057008266449}, {\"index\": 9, \"mse\": 0.07010818272829056}, {\"index\": 10, \"mse\": 0.0665723979473114}, {\"index\": 11, \"mse\": 0.06548133492469788}, {\"index\": 12, \"mse\": 0.06286213546991348}, {\"index\": 13, \"mse\": 0.06227552145719528}, {\"index\": 14, \"mse\": 0.06100863590836525}, {\"index\": 15, \"mse\": 0.059913963079452515}, {\"index\": 16, \"mse\": 0.059198807924985886}, {\"index\": 17, \"mse\": 0.057695236057043076}, {\"index\": 18, \"mse\": 0.05769430100917816}, {\"index\": 19, \"mse\": 0.05635616183280945}, {\"index\": 20, \"mse\": 0.055179841816425323}, {\"index\": 21, \"mse\": 0.05439765006303787}, {\"index\": 22, \"mse\": 0.05368814989924431}, {\"index\": 23, \"mse\": 0.05246783047914505}, {\"index\": 24, \"mse\": 0.052734412252902985}, {\"index\": 25, \"mse\": 0.05173700675368309}, {\"index\": 26, \"mse\": 0.05165858194231987}, {\"index\": 27, \"mse\": 0.05125364288687706}, {\"index\": 28, \"mse\": 0.04927331954240799}, {\"index\": 29, \"mse\": 0.05057073011994362}, {\"index\": 30, \"mse\": 0.04948940500617027}, {\"index\": 31, \"mse\": 0.04986800625920296}, {\"index\": 32, \"mse\": 0.048167478293180466}, {\"index\": 33, \"mse\": 0.048725519329309464}, {\"index\": 34, \"mse\": 0.047911565750837326}, {\"index\": 35, \"mse\": 0.04789327085018158}, {\"index\": 36, \"mse\": 0.04786397144198418}, {\"index\": 37, \"mse\": 0.04738748446106911}, {\"index\": 38, \"mse\": 0.047190435230731964}, {\"index\": 39, \"mse\": 0.0453450083732605}, {\"index\": 40, \"mse\": 0.04538270831108093}, {\"index\": 41, \"mse\": 0.046056024730205536}, {\"index\": 42, \"mse\": 0.045795951038599014}, {\"index\": 43, \"mse\": 0.04554884508252144}, {\"index\": 44, \"mse\": 0.04487941414117813}, {\"index\": 45, \"mse\": 0.04511556029319763}, {\"index\": 46, \"mse\": 0.044865455478429794}, {\"index\": 47, \"mse\": 0.04404594376683235}, {\"index\": 48, \"mse\": 0.04446842148900032}, {\"index\": 49, \"mse\": 0.04409414157271385}, {\"index\": 50, \"mse\": 0.04349709674715996}, {\"index\": 51, \"mse\": 0.0434369295835495}, {\"index\": 52, \"mse\": 0.04346849396824837}, {\"index\": 53, \"mse\": 0.044019173830747604}, {\"index\": 54, \"mse\": 0.04294329136610031}, {\"index\": 55, \"mse\": 0.042545147240161896}, {\"index\": 56, \"mse\": 0.043409474194049835}, {\"index\": 57, \"mse\": 0.04280412942171097}, {\"index\": 58, \"mse\": 0.04291261360049248}, {\"index\": 59, \"mse\": 0.04208238795399666}, {\"index\": 60, \"mse\": 0.04358324408531189}, {\"index\": 61, \"mse\": 0.043159354478120804}, {\"index\": 62, \"mse\": 0.04281758517026901}, {\"index\": 63, \"mse\": 0.043274857103824615}, {\"index\": 64, \"mse\": 0.04286538437008858}, {\"index\": 65, \"mse\": 0.04248587042093277}, {\"index\": 66, \"mse\": 0.043287936598062515}, {\"index\": 67, \"mse\": 0.041084591299295425}, {\"index\": 68, \"mse\": 0.041773103177547455}, {\"index\": 69, \"mse\": 0.04149996489286423}, {\"index\": 70, \"mse\": 0.041008301079273224}, {\"index\": 71, \"mse\": 0.04165942594408989}, {\"index\": 72, \"mse\": 0.03987288102507591}, {\"index\": 73, \"mse\": 0.041156597435474396}, {\"index\": 74, \"mse\": 0.040581148117780685}, {\"index\": 75, \"mse\": 0.040295615792274475}, {\"index\": 76, \"mse\": 0.040463756769895554}, {\"index\": 77, \"mse\": 0.039757292717695236}, {\"index\": 78, \"mse\": 0.040621161460876465}, {\"index\": 79, \"mse\": 0.04051975905895233}, {\"index\": 80, \"mse\": 0.04102948307991028}, {\"index\": 81, \"mse\": 0.0403127484023571}, {\"index\": 82, \"mse\": 0.039089981466531754}, {\"index\": 83, \"mse\": 0.03983591869473457}, {\"index\": 84, \"mse\": 0.03885903209447861}, {\"index\": 85, \"mse\": 0.040572673082351685}, {\"index\": 86, \"mse\": 0.03965669497847557}, {\"index\": 87, \"mse\": 0.03891073539853096}, {\"index\": 88, \"mse\": 0.04000471159815788}, {\"index\": 89, \"mse\": 0.03910192847251892}, {\"index\": 90, \"mse\": 0.03890812024474144}, {\"index\": 91, \"mse\": 0.04103315249085426}, {\"index\": 92, \"mse\": 0.03844388946890831}, {\"index\": 93, \"mse\": 0.038047242909669876}, {\"index\": 94, \"mse\": 0.03840165212750435}, {\"index\": 95, \"mse\": 0.03777269646525383}, {\"index\": 96, \"mse\": 0.03765665739774704}, {\"index\": 97, \"mse\": 0.037687383592128754}, {\"index\": 98, \"mse\": 0.03719416633248329}, {\"index\": 99, \"mse\": 0.03863424062728882}]}}, {\"mode\": \"vega-lite\"});\n",
       "</script>"
      ],
      "text/plain": [
       "alt.RepeatChart(...)"
      ]
     },
     "metadata": {},
     "output_type": "display_data"
    },
    {
     "data": {
      "text/html": [
       "\n",
       "<style>\n",
       "  #altair-viz-a13c8121857347f7a1d5ea9df52ada86.vega-embed {\n",
       "    width: 100%;\n",
       "    display: flex;\n",
       "  }\n",
       "\n",
       "  #altair-viz-a13c8121857347f7a1d5ea9df52ada86.vega-embed details,\n",
       "  #altair-viz-a13c8121857347f7a1d5ea9df52ada86.vega-embed details summary {\n",
       "    position: relative;\n",
       "  }\n",
       "</style>\n",
       "<div id=\"altair-viz-a13c8121857347f7a1d5ea9df52ada86\"></div>\n",
       "<script type=\"text/javascript\">\n",
       "  var VEGA_DEBUG = (typeof VEGA_DEBUG == \"undefined\") ? {} : VEGA_DEBUG;\n",
       "  (function(spec, embedOpt){\n",
       "    let outputDiv = document.currentScript.previousElementSibling;\n",
       "    if (outputDiv.id !== \"altair-viz-a13c8121857347f7a1d5ea9df52ada86\") {\n",
       "      outputDiv = document.getElementById(\"altair-viz-a13c8121857347f7a1d5ea9df52ada86\");\n",
       "    }\n",
       "    const paths = {\n",
       "      \"vega\": \"https://cdn.jsdelivr.net/npm/vega@5?noext\",\n",
       "      \"vega-lib\": \"https://cdn.jsdelivr.net/npm/vega-lib?noext\",\n",
       "      \"vega-lite\": \"https://cdn.jsdelivr.net/npm/vega-lite@5.20.1?noext\",\n",
       "      \"vega-embed\": \"https://cdn.jsdelivr.net/npm/vega-embed@6?noext\",\n",
       "    };\n",
       "\n",
       "    function maybeLoadScript(lib, version) {\n",
       "      var key = `${lib.replace(\"-\", \"\")}_version`;\n",
       "      return (VEGA_DEBUG[key] == version) ?\n",
       "        Promise.resolve(paths[lib]) :\n",
       "        new Promise(function(resolve, reject) {\n",
       "          var s = document.createElement('script');\n",
       "          document.getElementsByTagName(\"head\")[0].appendChild(s);\n",
       "          s.async = true;\n",
       "          s.onload = () => {\n",
       "            VEGA_DEBUG[key] = version;\n",
       "            return resolve(paths[lib]);\n",
       "          };\n",
       "          s.onerror = () => reject(`Error loading script: ${paths[lib]}`);\n",
       "          s.src = paths[lib];\n",
       "        });\n",
       "    }\n",
       "\n",
       "    function showError(err) {\n",
       "      outputDiv.innerHTML = `<div class=\"error\" style=\"color:red;\">${err}</div>`;\n",
       "      throw err;\n",
       "    }\n",
       "\n",
       "    function displayChart(vegaEmbed) {\n",
       "      vegaEmbed(outputDiv, spec, embedOpt)\n",
       "        .catch(err => showError(`Javascript Error: ${err.message}<br>This usually means there's a typo in your chart specification. See the javascript console for the full traceback.`));\n",
       "    }\n",
       "\n",
       "    if(typeof define === \"function\" && define.amd) {\n",
       "      requirejs.config({paths});\n",
       "      require([\"vega-embed\"], displayChart, err => showError(`Error loading script: ${err.message}`));\n",
       "    } else {\n",
       "      maybeLoadScript(\"vega\", \"5\")\n",
       "        .then(() => maybeLoadScript(\"vega-lite\", \"5.20.1\"))\n",
       "        .then(() => maybeLoadScript(\"vega-embed\", \"6\"))\n",
       "        .catch(showError)\n",
       "        .then(() => displayChart(vegaEmbed));\n",
       "    }\n",
       "  })({\"config\": {\"view\": {\"continuousWidth\": 300, \"continuousHeight\": 300}}, \"repeat\": {\"layer\": [\"loss\"]}, \"spec\": {\"data\": {\"name\": \"data-25ba41a05da3e57da7f8a1ea0bb767d6\"}, \"mark\": {\"type\": \"line\"}, \"encoding\": {\"color\": {\"datum\": {\"repeat\": \"layer\"}}, \"x\": {\"field\": \"index\", \"title\": \"Epochs\", \"type\": \"quantitative\"}, \"y\": {\"field\": {\"repeat\": \"layer\"}, \"title\": \"Loss\", \"type\": \"quantitative\"}}}, \"title\": \"Loss by Epoch\", \"$schema\": \"https://vega.github.io/schema/vega-lite/v5.20.1.json\", \"datasets\": {\"data-25ba41a05da3e57da7f8a1ea0bb767d6\": [{\"index\": 0, \"loss\": 0.7143967151641846}, {\"index\": 1, \"loss\": 0.5288798809051514}, {\"index\": 2, \"loss\": 0.3666592240333557}, {\"index\": 3, \"loss\": 0.273588091135025}, {\"index\": 4, \"loss\": 0.23395444452762604}, {\"index\": 5, \"loss\": 0.2170952409505844}, {\"index\": 6, \"loss\": 0.2056133896112442}, {\"index\": 7, \"loss\": 0.19643224775791168}, {\"index\": 8, \"loss\": 0.1909237653017044}, {\"index\": 9, \"loss\": 0.18474441766738892}, {\"index\": 10, \"loss\": 0.1809316724538803}, {\"index\": 11, \"loss\": 0.17627541720867157}, {\"index\": 12, \"loss\": 0.17430225014686584}, {\"index\": 13, \"loss\": 0.1726534515619278}, {\"index\": 14, \"loss\": 0.1708597093820572}, {\"index\": 15, \"loss\": 0.1691598743200302}, {\"index\": 16, \"loss\": 0.16680032014846802}, {\"index\": 17, \"loss\": 0.16374380886554718}, {\"index\": 18, \"loss\": 0.16286656260490417}, {\"index\": 19, \"loss\": 0.16167737543582916}, {\"index\": 20, \"loss\": 0.16123077273368835}, {\"index\": 21, \"loss\": 0.1588473618030548}, {\"index\": 22, \"loss\": 0.1578991711139679}, {\"index\": 23, \"loss\": 0.1569889783859253}, {\"index\": 24, \"loss\": 0.15527424216270447}, {\"index\": 25, \"loss\": 0.15278248488903046}, {\"index\": 26, \"loss\": 0.15409746766090393}, {\"index\": 27, \"loss\": 0.1519678831100464}, {\"index\": 28, \"loss\": 0.15033186972141266}, {\"index\": 29, \"loss\": 0.15151110291481018}, {\"index\": 30, \"loss\": 0.1494404524564743}, {\"index\": 31, \"loss\": 0.15032942593097687}, {\"index\": 32, \"loss\": 0.14683184027671814}, {\"index\": 33, \"loss\": 0.14863306283950806}, {\"index\": 34, \"loss\": 0.14693976938724518}, {\"index\": 35, \"loss\": 0.14402863383293152}, {\"index\": 36, \"loss\": 0.14495739340782166}, {\"index\": 37, \"loss\": 0.14415837824344635}, {\"index\": 38, \"loss\": 0.14440074563026428}, {\"index\": 39, \"loss\": 0.1415657103061676}, {\"index\": 40, \"loss\": 0.14157335460186005}, {\"index\": 41, \"loss\": 0.14222405850887299}, {\"index\": 42, \"loss\": 0.14158330857753754}, {\"index\": 43, \"loss\": 0.1405075639486313}, {\"index\": 44, \"loss\": 0.14022451639175415}, {\"index\": 45, \"loss\": 0.14035043120384216}, {\"index\": 46, \"loss\": 0.1377183198928833}, {\"index\": 47, \"loss\": 0.139139786362648}, {\"index\": 48, \"loss\": 0.13582508265972137}, {\"index\": 49, \"loss\": 0.13727210462093353}, {\"index\": 50, \"loss\": 0.1357271522283554}, {\"index\": 51, \"loss\": 0.13657382130622864}, {\"index\": 52, \"loss\": 0.13472843170166016}, {\"index\": 53, \"loss\": 0.1384935975074768}, {\"index\": 54, \"loss\": 0.13533206284046173}, {\"index\": 55, \"loss\": 0.13422907888889313}, {\"index\": 56, \"loss\": 0.1349986046552658}, {\"index\": 57, \"loss\": 0.1333608478307724}, {\"index\": 58, \"loss\": 0.13352398574352264}, {\"index\": 59, \"loss\": 0.13219943642616272}, {\"index\": 60, \"loss\": 0.13511928915977478}, {\"index\": 61, \"loss\": 0.13425873219966888}, {\"index\": 62, \"loss\": 0.13199159502983093}, {\"index\": 63, \"loss\": 0.13406522572040558}, {\"index\": 64, \"loss\": 0.13030387461185455}, {\"index\": 65, \"loss\": 0.13057667016983032}, {\"index\": 66, \"loss\": 0.13197000324726105}, {\"index\": 67, \"loss\": 0.13144613802433014}, {\"index\": 68, \"loss\": 0.13068853318691254}, {\"index\": 69, \"loss\": 0.12994103133678436}, {\"index\": 70, \"loss\": 0.1283353567123413}, {\"index\": 71, \"loss\": 0.12989172339439392}, {\"index\": 72, \"loss\": 0.12838375568389893}, {\"index\": 73, \"loss\": 0.12886719405651093}, {\"index\": 74, \"loss\": 0.12834936380386353}, {\"index\": 75, \"loss\": 0.13077548146247864}, {\"index\": 76, \"loss\": 0.13179631531238556}, {\"index\": 77, \"loss\": 0.12853220105171204}, {\"index\": 78, \"loss\": 0.12758411467075348}, {\"index\": 79, \"loss\": 0.12904061377048492}, {\"index\": 80, \"loss\": 0.12683063745498657}, {\"index\": 81, \"loss\": 0.1278734654188156}, {\"index\": 82, \"loss\": 0.12771956622600555}, {\"index\": 83, \"loss\": 0.12737180292606354}, {\"index\": 84, \"loss\": 0.12414845824241638}, {\"index\": 85, \"loss\": 0.12540459632873535}, {\"index\": 86, \"loss\": 0.12652043998241425}, {\"index\": 87, \"loss\": 0.12407977133989334}, {\"index\": 88, \"loss\": 0.12559884786605835}, {\"index\": 89, \"loss\": 0.12710683047771454}, {\"index\": 90, \"loss\": 0.1250501126050949}, {\"index\": 91, \"loss\": 0.1263938993215561}, {\"index\": 92, \"loss\": 0.12476582825183868}, {\"index\": 93, \"loss\": 0.12274667620658875}, {\"index\": 94, \"loss\": 0.12380550801753998}, {\"index\": 95, \"loss\": 0.123068667948246}, {\"index\": 96, \"loss\": 0.12256017327308655}, {\"index\": 97, \"loss\": 0.12178709357976913}, {\"index\": 98, \"loss\": 0.12342771887779236}, {\"index\": 99, \"loss\": 0.12446324527263641}]}}, {\"mode\": \"vega-lite\"});\n",
       "</script>"
      ],
      "text/plain": [
       "alt.RepeatChart(...)"
      ]
     },
     "metadata": {},
     "output_type": "display_data"
    }
   ],
   "source": [
    "name= 'epoch_test'\n",
    "history_df = pl.DataFrame(fit.history)\n",
    "history_df = history_df.with_row_index()\n",
    "history_df\n",
    "plot_model_history(history_df, feature='mse', name=name)\n",
    "plot_model_history(history_df, feature='loss', name=name)"
   ]
  },
  {
   "cell_type": "markdown",
   "metadata": {},
   "source": [
    "# Best Neural Network Model"
   ]
  },
  {
   "cell_type": "code",
   "execution_count": 218,
   "metadata": {},
   "outputs": [
    {
     "data": {
      "text/html": [
       "\n",
       "<style>\n",
       "  #altair-viz-35b9b6f7cdd743cea00ac0a75f36e547.vega-embed {\n",
       "    width: 100%;\n",
       "    display: flex;\n",
       "  }\n",
       "\n",
       "  #altair-viz-35b9b6f7cdd743cea00ac0a75f36e547.vega-embed details,\n",
       "  #altair-viz-35b9b6f7cdd743cea00ac0a75f36e547.vega-embed details summary {\n",
       "    position: relative;\n",
       "  }\n",
       "</style>\n",
       "<div id=\"altair-viz-35b9b6f7cdd743cea00ac0a75f36e547\"></div>\n",
       "<script type=\"text/javascript\">\n",
       "  var VEGA_DEBUG = (typeof VEGA_DEBUG == \"undefined\") ? {} : VEGA_DEBUG;\n",
       "  (function(spec, embedOpt){\n",
       "    let outputDiv = document.currentScript.previousElementSibling;\n",
       "    if (outputDiv.id !== \"altair-viz-35b9b6f7cdd743cea00ac0a75f36e547\") {\n",
       "      outputDiv = document.getElementById(\"altair-viz-35b9b6f7cdd743cea00ac0a75f36e547\");\n",
       "    }\n",
       "    const paths = {\n",
       "      \"vega\": \"https://cdn.jsdelivr.net/npm/vega@5?noext\",\n",
       "      \"vega-lib\": \"https://cdn.jsdelivr.net/npm/vega-lib?noext\",\n",
       "      \"vega-lite\": \"https://cdn.jsdelivr.net/npm/vega-lite@5.20.1?noext\",\n",
       "      \"vega-embed\": \"https://cdn.jsdelivr.net/npm/vega-embed@6?noext\",\n",
       "    };\n",
       "\n",
       "    function maybeLoadScript(lib, version) {\n",
       "      var key = `${lib.replace(\"-\", \"\")}_version`;\n",
       "      return (VEGA_DEBUG[key] == version) ?\n",
       "        Promise.resolve(paths[lib]) :\n",
       "        new Promise(function(resolve, reject) {\n",
       "          var s = document.createElement('script');\n",
       "          document.getElementsByTagName(\"head\")[0].appendChild(s);\n",
       "          s.async = true;\n",
       "          s.onload = () => {\n",
       "            VEGA_DEBUG[key] = version;\n",
       "            return resolve(paths[lib]);\n",
       "          };\n",
       "          s.onerror = () => reject(`Error loading script: ${paths[lib]}`);\n",
       "          s.src = paths[lib];\n",
       "        });\n",
       "    }\n",
       "\n",
       "    function showError(err) {\n",
       "      outputDiv.innerHTML = `<div class=\"error\" style=\"color:red;\">${err}</div>`;\n",
       "      throw err;\n",
       "    }\n",
       "\n",
       "    function displayChart(vegaEmbed) {\n",
       "      vegaEmbed(outputDiv, spec, embedOpt)\n",
       "        .catch(err => showError(`Javascript Error: ${err.message}<br>This usually means there's a typo in your chart specification. See the javascript console for the full traceback.`));\n",
       "    }\n",
       "\n",
       "    if(typeof define === \"function\" && define.amd) {\n",
       "      requirejs.config({paths});\n",
       "      require([\"vega-embed\"], displayChart, err => showError(`Error loading script: ${err.message}`));\n",
       "    } else {\n",
       "      maybeLoadScript(\"vega\", \"5\")\n",
       "        .then(() => maybeLoadScript(\"vega-lite\", \"5.20.1\"))\n",
       "        .then(() => maybeLoadScript(\"vega-embed\", \"6\"))\n",
       "        .catch(showError)\n",
       "        .then(() => displayChart(vegaEmbed));\n",
       "    }\n",
       "  })({\"config\": {\"view\": {\"continuousWidth\": 300, \"continuousHeight\": 300}}, \"repeat\": {\"layer\": [\"mse\"]}, \"spec\": {\"data\": {\"name\": \"data-e5dfa627d482738ff7a3d59fa4b22e3b\"}, \"mark\": {\"type\": \"line\"}, \"encoding\": {\"color\": {\"datum\": {\"repeat\": \"layer\"}}, \"x\": {\"field\": \"index\", \"title\": \"Epochs\", \"type\": \"quantitative\"}, \"y\": {\"field\": {\"repeat\": \"layer\"}, \"title\": \"Mean Squared Error\", \"type\": \"quantitative\"}}}, \"title\": \"Mean Squared Error by Epoch\", \"$schema\": \"https://vega.github.io/schema/vega-lite/v5.20.1.json\", \"datasets\": {\"data-e5dfa627d482738ff7a3d59fa4b22e3b\": [{\"index\": 0, \"mse\": 0.9074248671531677}, {\"index\": 1, \"mse\": 0.5039105415344238}, {\"index\": 2, \"mse\": 0.28494566679000854}, {\"index\": 3, \"mse\": 0.172117680311203}, {\"index\": 4, \"mse\": 0.12619294226169586}, {\"index\": 5, \"mse\": 0.11116599291563034}, {\"index\": 6, \"mse\": 0.09983725100755692}, {\"index\": 7, \"mse\": 0.08816830068826675}, {\"index\": 8, \"mse\": 0.08319108933210373}, {\"index\": 9, \"mse\": 0.07720136642456055}, {\"index\": 10, \"mse\": 0.07413197308778763}, {\"index\": 11, \"mse\": 0.07041626423597336}, {\"index\": 12, \"mse\": 0.06758064776659012}, {\"index\": 13, \"mse\": 0.0635046735405922}, {\"index\": 14, \"mse\": 0.0631469264626503}, {\"index\": 15, \"mse\": 0.062508724629879}, {\"index\": 16, \"mse\": 0.06107977405190468}, {\"index\": 17, \"mse\": 0.06095609441399574}, {\"index\": 18, \"mse\": 0.05898316204547882}, {\"index\": 19, \"mse\": 0.058147791773080826}, {\"index\": 20, \"mse\": 0.05647754669189453}, {\"index\": 21, \"mse\": 0.05515130236744881}, {\"index\": 22, \"mse\": 0.05540846660733223}, {\"index\": 23, \"mse\": 0.05311013013124466}, {\"index\": 24, \"mse\": 0.0543510802090168}]}}, {\"mode\": \"vega-lite\"});\n",
       "</script>"
      ],
      "text/plain": [
       "alt.RepeatChart(...)"
      ]
     },
     "metadata": {},
     "output_type": "display_data"
    },
    {
     "data": {
      "text/html": [
       "\n",
       "<style>\n",
       "  #altair-viz-25109ad1b93946cdb6c8cabeda0b9599.vega-embed {\n",
       "    width: 100%;\n",
       "    display: flex;\n",
       "  }\n",
       "\n",
       "  #altair-viz-25109ad1b93946cdb6c8cabeda0b9599.vega-embed details,\n",
       "  #altair-viz-25109ad1b93946cdb6c8cabeda0b9599.vega-embed details summary {\n",
       "    position: relative;\n",
       "  }\n",
       "</style>\n",
       "<div id=\"altair-viz-25109ad1b93946cdb6c8cabeda0b9599\"></div>\n",
       "<script type=\"text/javascript\">\n",
       "  var VEGA_DEBUG = (typeof VEGA_DEBUG == \"undefined\") ? {} : VEGA_DEBUG;\n",
       "  (function(spec, embedOpt){\n",
       "    let outputDiv = document.currentScript.previousElementSibling;\n",
       "    if (outputDiv.id !== \"altair-viz-25109ad1b93946cdb6c8cabeda0b9599\") {\n",
       "      outputDiv = document.getElementById(\"altair-viz-25109ad1b93946cdb6c8cabeda0b9599\");\n",
       "    }\n",
       "    const paths = {\n",
       "      \"vega\": \"https://cdn.jsdelivr.net/npm/vega@5?noext\",\n",
       "      \"vega-lib\": \"https://cdn.jsdelivr.net/npm/vega-lib?noext\",\n",
       "      \"vega-lite\": \"https://cdn.jsdelivr.net/npm/vega-lite@5.20.1?noext\",\n",
       "      \"vega-embed\": \"https://cdn.jsdelivr.net/npm/vega-embed@6?noext\",\n",
       "    };\n",
       "\n",
       "    function maybeLoadScript(lib, version) {\n",
       "      var key = `${lib.replace(\"-\", \"\")}_version`;\n",
       "      return (VEGA_DEBUG[key] == version) ?\n",
       "        Promise.resolve(paths[lib]) :\n",
       "        new Promise(function(resolve, reject) {\n",
       "          var s = document.createElement('script');\n",
       "          document.getElementsByTagName(\"head\")[0].appendChild(s);\n",
       "          s.async = true;\n",
       "          s.onload = () => {\n",
       "            VEGA_DEBUG[key] = version;\n",
       "            return resolve(paths[lib]);\n",
       "          };\n",
       "          s.onerror = () => reject(`Error loading script: ${paths[lib]}`);\n",
       "          s.src = paths[lib];\n",
       "        });\n",
       "    }\n",
       "\n",
       "    function showError(err) {\n",
       "      outputDiv.innerHTML = `<div class=\"error\" style=\"color:red;\">${err}</div>`;\n",
       "      throw err;\n",
       "    }\n",
       "\n",
       "    function displayChart(vegaEmbed) {\n",
       "      vegaEmbed(outputDiv, spec, embedOpt)\n",
       "        .catch(err => showError(`Javascript Error: ${err.message}<br>This usually means there's a typo in your chart specification. See the javascript console for the full traceback.`));\n",
       "    }\n",
       "\n",
       "    if(typeof define === \"function\" && define.amd) {\n",
       "      requirejs.config({paths});\n",
       "      require([\"vega-embed\"], displayChart, err => showError(`Error loading script: ${err.message}`));\n",
       "    } else {\n",
       "      maybeLoadScript(\"vega\", \"5\")\n",
       "        .then(() => maybeLoadScript(\"vega-lite\", \"5.20.1\"))\n",
       "        .then(() => maybeLoadScript(\"vega-embed\", \"6\"))\n",
       "        .catch(showError)\n",
       "        .then(() => displayChart(vegaEmbed));\n",
       "    }\n",
       "  })({\"config\": {\"view\": {\"continuousWidth\": 300, \"continuousHeight\": 300}}, \"repeat\": {\"layer\": [\"loss\"]}, \"spec\": {\"data\": {\"name\": \"data-6aad01d9d315ffa6aae8be8926df5dc4\"}, \"mark\": {\"type\": \"line\"}, \"encoding\": {\"color\": {\"datum\": {\"repeat\": \"layer\"}}, \"x\": {\"field\": \"index\", \"title\": \"Epochs\", \"type\": \"quantitative\"}, \"y\": {\"field\": {\"repeat\": \"layer\"}, \"title\": \"Loss\", \"type\": \"quantitative\"}}}, \"title\": \"Loss by Epoch\", \"$schema\": \"https://vega.github.io/schema/vega-lite/v5.20.1.json\", \"datasets\": {\"data-6aad01d9d315ffa6aae8be8926df5dc4\": [{\"index\": 0, \"loss\": 0.7750007510185242}, {\"index\": 1, \"loss\": 0.5505545139312744}, {\"index\": 2, \"loss\": 0.3890615701675415}, {\"index\": 3, \"loss\": 0.2913997769355774}, {\"index\": 4, \"loss\": 0.25443342328071594}, {\"index\": 5, \"loss\": 0.23622874915599823}, {\"index\": 6, \"loss\": 0.2234642207622528}, {\"index\": 7, \"loss\": 0.21069800853729248}, {\"index\": 8, \"loss\": 0.20281672477722168}, {\"index\": 9, \"loss\": 0.1951792687177658}, {\"index\": 10, \"loss\": 0.18849635124206543}, {\"index\": 11, \"loss\": 0.1847878396511078}, {\"index\": 12, \"loss\": 0.18153300881385803}, {\"index\": 13, \"loss\": 0.17603421211242676}, {\"index\": 14, \"loss\": 0.17516183853149414}, {\"index\": 15, \"loss\": 0.1717619150876999}, {\"index\": 16, \"loss\": 0.169829323887825}, {\"index\": 17, \"loss\": 0.17002828419208527}, {\"index\": 18, \"loss\": 0.1667264699935913}, {\"index\": 19, \"loss\": 0.16564540565013885}, {\"index\": 20, \"loss\": 0.16279473900794983}, {\"index\": 21, \"loss\": 0.1590135097503662}, {\"index\": 22, \"loss\": 0.1599424183368683}, {\"index\": 23, \"loss\": 0.15622484683990479}, {\"index\": 24, \"loss\": 0.15857839584350586}]}}, {\"mode\": \"vega-lite\"});\n",
       "</script>"
      ],
      "text/plain": [
       "alt.RepeatChart(...)"
      ]
     },
     "metadata": {},
     "output_type": "display_data"
    }
   ],
   "source": [
    "model = create_opt_model(opt)\n",
    "fit = model.fit(x=X_train, \n",
    "        y=y_train,\n",
    "        verbose=0,\n",
    "        epochs=25)\n",
    "\n",
    "name = 'final_NN'\n",
    "\n",
    "history_df = pl.DataFrame(fit.history)\n",
    "history_df = history_df.with_row_index()\n",
    "history_df\n",
    "\n",
    "plot_model_history(history_df, feature='mse', name=name)\n",
    "plot_model_history(history_df, feature='loss', name=name)"
   ]
  },
  {
   "cell_type": "markdown",
   "metadata": {},
   "source": [
    "# Best model, GBR combined with a search\n",
    "\n",
    "For the Purposes of building an engineering tool that would select the best tempering method to reach a desired hardness, a gradient boost regression should be used. \n",
    "\n",
    "From this dataset, an ensamble model would likely be most effective. Use a search tree tests to test pair predictions using the GBR model. This search would uses the predicted hardness difference from the desired hardness as a metric to settle on a set of tempering conditions. \n",
    "\n",
    "It is outside the scope of this project, but the XGB model is much less computationally expensive and just as accuracte as the neural network models. An additional piece of infortmation to be fully condifent that would be the best solutions would be to find the worst case search scenario, and how many GBR tests are done. No other system explored here would give satisfactory results however."
   ]
  },
  {
   "cell_type": "code",
   "execution_count": 219,
   "metadata": {},
   "outputs": [],
   "source": [
    "#"
   ]
  },
  {
   "cell_type": "code",
   "execution_count": null,
   "metadata": {},
   "outputs": [],
   "source": []
  },
  {
   "cell_type": "code",
   "execution_count": null,
   "metadata": {},
   "outputs": [],
   "source": []
  }
 ],
 "metadata": {
  "kernelspec": {
   "display_name": ".venv",
   "language": "python",
   "name": "python3"
  },
  "language_info": {
   "codemirror_mode": {
    "name": "ipython",
    "version": 3
   },
   "file_extension": ".py",
   "mimetype": "text/x-python",
   "name": "python",
   "nbconvert_exporter": "python",
   "pygments_lexer": "ipython3",
   "version": "3.12.7"
  }
 },
 "nbformat": 4,
 "nbformat_minor": 2
}
