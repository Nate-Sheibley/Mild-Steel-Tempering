{
 "cells": [
  {
   "cell_type": "code",
   "execution_count": 1,
   "metadata": {},
   "outputs": [
    {
     "name": "stdout",
     "output_type": "stream",
     "text": [
      "Requirement already satisfied: polars in ./.venv/lib/python3.12/site-packages (1.8.2)\n",
      "Requirement already satisfied: beautifulsoup4 in ./.venv/lib/python3.12/site-packages (4.12.3)\n",
      "Requirement already satisfied: splinter in ./.venv/lib/python3.12/site-packages (0.21.0)\n",
      "Requirement already satisfied: selenium in ./.venv/lib/python3.12/site-packages (4.25.0)\n",
      "Requirement already satisfied: soupsieve>1.2 in ./.venv/lib/python3.12/site-packages (from beautifulsoup4) (2.6)\n",
      "Requirement already satisfied: urllib3<3.0,>=1.26.14 in ./.venv/lib/python3.12/site-packages (from splinter) (2.2.3)\n",
      "Requirement already satisfied: trio~=0.17 in ./.venv/lib/python3.12/site-packages (from selenium) (0.26.2)\n",
      "Requirement already satisfied: trio-websocket~=0.9 in ./.venv/lib/python3.12/site-packages (from selenium) (0.11.1)\n",
      "Requirement already satisfied: certifi>=2021.10.8 in ./.venv/lib/python3.12/site-packages (from selenium) (2024.8.30)\n",
      "Requirement already satisfied: typing_extensions~=4.9 in ./.venv/lib/python3.12/site-packages (from selenium) (4.12.2)\n",
      "Requirement already satisfied: websocket-client~=1.8 in ./.venv/lib/python3.12/site-packages (from selenium) (1.8.0)\n",
      "Requirement already satisfied: attrs>=23.2.0 in ./.venv/lib/python3.12/site-packages (from trio~=0.17->selenium) (24.2.0)\n",
      "Requirement already satisfied: sortedcontainers in ./.venv/lib/python3.12/site-packages (from trio~=0.17->selenium) (2.4.0)\n",
      "Requirement already satisfied: idna in ./.venv/lib/python3.12/site-packages (from trio~=0.17->selenium) (3.10)\n",
      "Requirement already satisfied: outcome in ./.venv/lib/python3.12/site-packages (from trio~=0.17->selenium) (1.3.0.post0)\n",
      "Requirement already satisfied: sniffio>=1.3.0 in ./.venv/lib/python3.12/site-packages (from trio~=0.17->selenium) (1.3.1)\n",
      "Requirement already satisfied: wsproto>=0.14 in ./.venv/lib/python3.12/site-packages (from trio-websocket~=0.9->selenium) (1.2.0)\n",
      "Requirement already satisfied: pysocks!=1.5.7,<2.0,>=1.5.6 in ./.venv/lib/python3.12/site-packages (from urllib3[socks]<3,>=1.26->selenium) (1.7.1)\n",
      "Requirement already satisfied: h11<1,>=0.9.0 in ./.venv/lib/python3.12/site-packages (from wsproto>=0.14->trio-websocket~=0.9->selenium) (0.14.0)\n"
     ]
    }
   ],
   "source": [
    "!pip install polars beautifulsoup4 splinter selenium"
   ]
  },
  {
   "cell_type": "code",
   "execution_count": 2,
   "metadata": {},
   "outputs": [
    {
     "name": "stdout",
     "output_type": "stream",
     "text": [
      "Requirement already satisfied: pint in ./.venv/lib/python3.12/site-packages (0.24.3)\n",
      "Requirement already satisfied: appdirs>=1.4.4 in ./.venv/lib/python3.12/site-packages (from pint) (1.4.4)\n",
      "Requirement already satisfied: typing-extensions in ./.venv/lib/python3.12/site-packages (from pint) (4.12.2)\n",
      "Requirement already satisfied: flexcache>=0.3 in ./.venv/lib/python3.12/site-packages (from pint) (0.3)\n",
      "Requirement already satisfied: flexparser>=0.3 in ./.venv/lib/python3.12/site-packages (from pint) (0.3.1)\n"
     ]
    }
   ],
   "source": [
    "!pip install pint"
   ]
  },
  {
   "cell_type": "code",
   "execution_count": 3,
   "metadata": {},
   "outputs": [],
   "source": [
    "import polars as pl\n",
    "import numpy as np\n",
    "import pathlib\n",
    "import re\n",
    "from bs4 import BeautifulSoup\n",
    "# Will use firefox browser\n",
    "from splinter import Browser\n",
    "import time\n",
    "import pint"
   ]
  },
  {
   "cell_type": "markdown",
   "metadata": {},
   "source": [
    "## Prepping the data. Do not include in main"
   ]
  },
  {
   "cell_type": "code",
   "execution_count": 4,
   "metadata": {},
   "outputs": [
    {
     "name": "stdout",
     "output_type": "stream",
     "text": [
      "Path is project root\n"
     ]
    }
   ],
   "source": [
    "cwd = pathlib.Path.cwd()\n",
    "\n",
    "if cwd.name == 'Mild-Steel-Tempering':\n",
    "    print(\"Path is project root\")\n",
    "else:\n",
    "    print(\"Please correct current working directory to the project root\")"
   ]
  },
  {
   "cell_type": "code",
   "execution_count": 5,
   "metadata": {},
   "outputs": [
    {
     "data": {
      "text/plain": [
       "PurePosixPath('/home/mox/Documents/coding_projects/bootcamp_local/Homeworks/Mild-Steel-Tempering/resources')"
      ]
     },
     "execution_count": 5,
     "metadata": {},
     "output_type": "execute_result"
    }
   ],
   "source": [
    "resources_path = pathlib.PurePath(pathlib.PurePath(cwd), 'resources')\n",
    "resources_path"
   ]
  },
  {
   "cell_type": "code",
   "execution_count": 6,
   "metadata": {},
   "outputs": [
    {
     "name": "stdout",
     "output_type": "stream",
     "text": [
      "Rows: 8\n",
      "Columns: 1\n",
      "$ steel <str> 'AISI-SAE 4037', 'AISI 4047', 'AISI-SAE 1335', 'AISI 1049', 'AISI 52100', 'AISI-SAE 1042', 'AISI-SAE 9254', 'AISI-SAE 1080'\n",
      "\n"
     ]
    }
   ],
   "source": [
    "data_path = f\"{resources_path}/MIF_search.csv\"\n",
    "df_data = pl.read_csv(data_path)\n",
    "df_data.glimpse()"
   ]
  },
  {
   "cell_type": "markdown",
   "metadata": {},
   "source": [
    "## Visit the Website"
   ]
  },
  {
   "cell_type": "code",
   "execution_count": 7,
   "metadata": {},
   "outputs": [],
   "source": [
    "browser = Browser('firefox')\n",
    "# https://www.makeitfrom.com/material-group/Wrought-Alloy-Steel-SAE-AISI\n",
    "# OR\n",
    "# https://www.makeitfrom.com/material-group/Wrought-Carbon-Or-Non-Alloy-Steel\n",
    "base_url = \"https://www.makeitfrom.com\"\n",
    "search_url = \"https://duckduckgo.com/?hps=1&q=\"\n",
    "search_suffix = \"+site%3Amakeitfrom.com&atb=v427-1&ia=web\""
   ]
  },
  {
   "cell_type": "markdown",
   "metadata": {},
   "source": [
    "### Rename some steel present in MIF that were not searching correctly"
   ]
  },
  {
   "cell_type": "code",
   "execution_count": 8,
   "metadata": {},
   "outputs": [
    {
     "data": {
      "text/html": [
       "<div><style>\n",
       ".dataframe > thead > tr,\n",
       ".dataframe > tbody > tr {\n",
       "  text-align: right;\n",
       "  white-space: pre-wrap;\n",
       "}\n",
       "</style>\n",
       "<small>shape: (8, 1)</small><table border=\"1\" class=\"dataframe\"><thead><tr><th>steel</th></tr><tr><td>str</td></tr></thead><tbody><tr><td>&quot;AISI-SAE 4037&quot;</td></tr><tr><td>&quot;AISI 4047&quot;</td></tr><tr><td>&quot;AISI-SAE 1335&quot;</td></tr><tr><td>&quot;AISI 1049&quot;</td></tr><tr><td>&quot;AISI 52100&quot;</td></tr><tr><td>&quot;AISI-SAE 1042&quot;</td></tr><tr><td>&quot;AISI-SAE 9254&quot;</td></tr><tr><td>&quot;AISI-SAE 1080&quot;</td></tr></tbody></table></div>"
      ],
      "text/plain": [
       "shape: (8, 1)\n",
       "┌───────────────┐\n",
       "│ steel         │\n",
       "│ ---           │\n",
       "│ str           │\n",
       "╞═══════════════╡\n",
       "│ AISI-SAE 4037 │\n",
       "│ AISI 4047     │\n",
       "│ AISI-SAE 1335 │\n",
       "│ AISI 1049     │\n",
       "│ AISI 52100    │\n",
       "│ AISI-SAE 1042 │\n",
       "│ AISI-SAE 9254 │\n",
       "│ AISI-SAE 1080 │\n",
       "└───────────────┘"
      ]
     },
     "execution_count": 8,
     "metadata": {},
     "output_type": "execute_result"
    }
   ],
   "source": [
    "df_data"
   ]
  },
  {
   "cell_type": "code",
   "execution_count": 9,
   "metadata": {},
   "outputs": [
    {
     "name": "stdout",
     "output_type": "stream",
     "text": [
      "AISI-SAE 4037\n",
      "AISI 4047\n",
      "AISI-SAE 1335\n",
      "AISI 1049\n",
      "AISI 52100\n",
      "AISI-SAE 1042\n",
      "AISI-SAE 9254\n",
      "AISI-SAE 1080\n"
     ]
    },
    {
     "data": {
      "text/plain": [
       "8"
      ]
     },
     "execution_count": 9,
     "metadata": {},
     "output_type": "execute_result"
    }
   ],
   "source": [
    "len([print(steel) for steel in df_data['steel']])"
   ]
  },
  {
   "cell_type": "code",
   "execution_count": 10,
   "metadata": {},
   "outputs": [],
   "source": [
    "steels_to_search_MIF = df_data['steel']"
   ]
  },
  {
   "cell_type": "markdown",
   "metadata": {},
   "source": [
    "# scrape a single page\n",
    "grab cold drawn/rolled steel. The data better matches the AZoM data"
   ]
  },
  {
   "cell_type": "code",
   "execution_count": 11,
   "metadata": {},
   "outputs": [],
   "source": [
    "steel = \"AISI 1049\"\n",
    "steel_url = \"/material-properties/SAE-AISI-1049-G10490-Carbon-Steel\""
   ]
  },
  {
   "cell_type": "markdown",
   "metadata": {},
   "source": [
    "test vs https://www.makeitfrom.com/material-properties/SAE-AISI-4047-G40470-Molybdenum-Steel\n",
    "\n",
    "Do not need to nav deeper for this one"
   ]
  },
  {
   "cell_type": "code",
   "execution_count": null,
   "metadata": {},
   "outputs": [],
   "source": []
  },
  {
   "cell_type": "code",
   "execution_count": 12,
   "metadata": {},
   "outputs": [],
   "source": [
    "steel = \"AISI-SAE 4027\""
   ]
  },
  {
   "cell_type": "code",
   "execution_count": 13,
   "metadata": {},
   "outputs": [],
   "source": [
    "def handle_ranges(values_list):\n",
    "    if values_list[1] == 'to':\n",
    "        # map the range of values to a list of integers, then take the mean of it.\n",
    "        value = np.mean(list(map(int, values_list[0:3:2])))\n",
    "        units = values_list[3]\n",
    "    else:\n",
    "        value = np.float64(values_list[0])\n",
    "        units = values_list[1]\n",
    "    return value, units"
   ]
  },
  {
   "cell_type": "code",
   "execution_count": 14,
   "metadata": {},
   "outputs": [],
   "source": [
    "def get_row(soup):\n",
    "    mech_props = soup.find_all('div', class_='mech')\n",
    "    # -2 is a magic number\n",
    "    # the last 2 values are always tensile strength\n",
    "    uts = 'no_label'\n",
    "    uts_units = 'no_units'\n",
    "    ys = 'no_label'\n",
    "    ys_units = 'no_units'\n",
    "\n",
    "    for div in mech_props[-2:]:\n",
    "        ps = div.find_all('p')\n",
    "        # get the property name\n",
    "        label = ps[0].text\n",
    "        # get the string of values and units and split it\n",
    "        values = ps[1].text.split(' ')\n",
    "        # Grab the metric value \n",
    "        value, units = handle_ranges(values)\n",
    "        if 'uts' in label.lower():\n",
    "            uts = value\n",
    "            uts_units = units\n",
    "        elif 'yield' in label.lower():\n",
    "            ys = value\n",
    "            ys_units = units\n",
    "    row = (steel, ys, ys_units, uts, uts_units)\n",
    "    return row\n"
   ]
  },
  {
   "cell_type": "code",
   "execution_count": 15,
   "metadata": {},
   "outputs": [],
   "source": [
    "def handle_cold_drawn():\n",
    "    # Browser is already on steel page\n",
    "    soup = BeautifulSoup(browser.html, 'html.parser')\n",
    "    cold_drawn_present = True\n",
    "    steel_page = soup.find('div', class_='split links break-mid')\n",
    "    # https://stackoverflow.com/questions/33404049/navigation-with-beautifulsoup\n",
    "    \n",
    "    cold_drawn = steel_page.find('a', string= lambda text: text \\\n",
    "                            #cold drawn matches values from AZoM for steels that are on both\n",
    "                                and \"Cold Drawn\" in text\\\n",
    "                                # not \"and\" removed other processing in addtional to cold drawn if applicable\n",
    "                                and not \"and\" in text) \n",
    "    try: \n",
    "        cold_drawn_page = cold_drawn.get('href')\n",
    "        time.sleep(0.15)\n",
    "        browser.visit(f'{base_url}{cold_drawn_page}')\n",
    "    except AttributeError:\n",
    "        # do not go to the cold drawn page if not present\n",
    "        pass    "
   ]
  },
  {
   "cell_type": "code",
   "execution_count": 18,
   "metadata": {},
   "outputs": [
    {
     "name": "stdout",
     "output_type": "stream",
     "text": [
      "Working on: AISI-SAE 4037\n",
      "Working on: AISI 4047\n",
      "Working on: AISI-SAE 1335\n",
      "Working on: AISI 1049\n",
      "Working on: AISI 52100\n",
      "Working on: AISI-SAE 1042\n",
      "Working on: AISI-SAE 9254\n",
      "Working on: AISI-SAE 1080\n"
     ]
    },
    {
     "data": {
      "text/plain": [
       "[('steel', 'ys', 'ys_unit', 'uts', 'uts_unit'),\n",
       " ('AISI-SAE 4037', np.float64(290.0), 'MPa', np.float64(540.0), 'MPa'),\n",
       " ('AISI 4047', np.float64(310.0), 'MPa', np.float64(580.0), 'MPa'),\n",
       " ('AISI-SAE 1335', np.float64(300.0), 'MPa', np.float64(550.0), 'MPa'),\n",
       " ('AISI 1049', np.float64(640.0), 'MPa', np.float64(750.0), 'MPa'),\n",
       " ('AISI 52100', np.float64(460.0), 'MPa', np.float64(1300.0), 'MPa'),\n",
       " ('AISI-SAE 1042', np.float64(580.0), 'MPa', np.float64(700.0), 'MPa'),\n",
       " ('AISI-SAE 9254', np.float64(410.0), 'MPa', np.float64(660.0), 'MPa'),\n",
       " ('AISI-SAE 1080', np.float64(535.0), 'MPa', np.float64(820.0), 'MPa')]"
      ]
     },
     "execution_count": 18,
     "metadata": {},
     "output_type": "execute_result"
    }
   ],
   "source": [
    "\n",
    "list_of_scraped = [(\"steel\", \"ys\", \"ys_unit\", \"uts\", \"uts_unit\")] \n",
    "for steel in df_data['steel']:\n",
    "    print(\"Working on:\", steel)\n",
    "    #search MIF for the steel\n",
    "    time.sleep(0.15)\n",
    "    browser.visit(f\"{search_url}{steel}{search_suffix}\")\n",
    "    soup_search = BeautifulSoup(browser.html, 'html.parser')\n",
    "    steel_link = soup_search.find('a',{'data-testid': \"result-extras-url-link\"}).get('href')\n",
    "    \n",
    "    time.sleep(0.15)\n",
    "    browser.visit(steel_link)\n",
    "    # handle cold drawn will land us on the desired steel page\n",
    "    handle_cold_drawn()\n",
    "    soup_results = BeautifulSoup(browser.html, \"html.parser\")\n",
    "    list_of_scraped.append(get_row(soup_results))\n",
    "list_of_scraped\n"
   ]
  },
  {
   "cell_type": "code",
   "execution_count": 22,
   "metadata": {},
   "outputs": [
    {
     "data": {
      "text/html": [
       "<div><style>\n",
       ".dataframe > thead > tr,\n",
       ".dataframe > tbody > tr {\n",
       "  text-align: right;\n",
       "  white-space: pre-wrap;\n",
       "}\n",
       "</style>\n",
       "<small>shape: (8, 5)</small><table border=\"1\" class=\"dataframe\"><thead><tr><th>steel</th><th>ys</th><th>ys_unit</th><th>uts</th><th>uts_unit</th></tr><tr><td>str</td><td>str</td><td>str</td><td>str</td><td>str</td></tr></thead><tbody><tr><td>&quot;AISI-SAE 4037&quot;</td><td>&quot;290&quot;</td><td>&quot;MPa&quot;</td><td>&quot;540&quot;</td><td>&quot;MPa&quot;</td></tr><tr><td>&quot;AISI 4047&quot;</td><td>&quot;310&quot;</td><td>&quot;MPa&quot;</td><td>&quot;580&quot;</td><td>&quot;MPa&quot;</td></tr><tr><td>&quot;AISI-SAE 1335&quot;</td><td>&quot;300&quot;</td><td>&quot;MPa&quot;</td><td>&quot;550&quot;</td><td>&quot;MPa&quot;</td></tr><tr><td>&quot;AISI 1049&quot;</td><td>&quot;640&quot;</td><td>&quot;MPa&quot;</td><td>&quot;750&quot;</td><td>&quot;MPa&quot;</td></tr><tr><td>&quot;AISI 52100&quot;</td><td>&quot;460&quot;</td><td>&quot;MPa&quot;</td><td>&quot;1300&quot;</td><td>&quot;MPa&quot;</td></tr><tr><td>&quot;AISI-SAE 1042&quot;</td><td>&quot;580&quot;</td><td>&quot;MPa&quot;</td><td>&quot;700&quot;</td><td>&quot;MPa&quot;</td></tr><tr><td>&quot;AISI-SAE 9254&quot;</td><td>&quot;410&quot;</td><td>&quot;MPa&quot;</td><td>&quot;660&quot;</td><td>&quot;MPa&quot;</td></tr><tr><td>&quot;AISI-SAE 1080&quot;</td><td>&quot;535&quot;</td><td>&quot;MPa&quot;</td><td>&quot;820&quot;</td><td>&quot;MPa&quot;</td></tr></tbody></table></div>"
      ],
      "text/plain": [
       "shape: (8, 5)\n",
       "┌───────────────┬─────┬─────────┬──────┬──────────┐\n",
       "│ steel         ┆ ys  ┆ ys_unit ┆ uts  ┆ uts_unit │\n",
       "│ ---           ┆ --- ┆ ---     ┆ ---  ┆ ---      │\n",
       "│ str           ┆ str ┆ str     ┆ str  ┆ str      │\n",
       "╞═══════════════╪═════╪═════════╪══════╪══════════╡\n",
       "│ AISI-SAE 4037 ┆ 290 ┆ MPa     ┆ 540  ┆ MPa      │\n",
       "│ AISI 4047     ┆ 310 ┆ MPa     ┆ 580  ┆ MPa      │\n",
       "│ AISI-SAE 1335 ┆ 300 ┆ MPa     ┆ 550  ┆ MPa      │\n",
       "│ AISI 1049     ┆ 640 ┆ MPa     ┆ 750  ┆ MPa      │\n",
       "│ AISI 52100    ┆ 460 ┆ MPa     ┆ 1300 ┆ MPa      │\n",
       "│ AISI-SAE 1042 ┆ 580 ┆ MPa     ┆ 700  ┆ MPa      │\n",
       "│ AISI-SAE 9254 ┆ 410 ┆ MPa     ┆ 660  ┆ MPa      │\n",
       "│ AISI-SAE 1080 ┆ 535 ┆ MPa     ┆ 820  ┆ MPa      │\n",
       "└───────────────┴─────┴─────────┴──────┴──────────┘"
      ]
     },
     "execution_count": 22,
     "metadata": {},
     "output_type": "execute_result"
    }
   ],
   "source": [
    "df_MIF = pl.DataFrame(list_of_scraped, orient='row')\n",
    "df_MIF = df_MIF.rename(df_MIF.head(1).to_dicts().pop())[1:]\n",
    "df_MIF"
   ]
  },
  {
   "cell_type": "code",
   "execution_count": 24,
   "metadata": {},
   "outputs": [
    {
     "data": {
      "text/html": [
       "<div><style>\n",
       ".dataframe > thead > tr,\n",
       ".dataframe > tbody > tr {\n",
       "  text-align: right;\n",
       "  white-space: pre-wrap;\n",
       "}\n",
       "</style>\n",
       "<small>shape: (8, 3)</small><table border=\"1\" class=\"dataframe\"><thead><tr><th>steel</th><th>yield_strength_MPa</th><th>ultimate_strength_MPA</th></tr><tr><td>str</td><td>str</td><td>str</td></tr></thead><tbody><tr><td>&quot;AISI-SAE 4037&quot;</td><td>&quot;290&quot;</td><td>&quot;540&quot;</td></tr><tr><td>&quot;AISI 4047&quot;</td><td>&quot;310&quot;</td><td>&quot;580&quot;</td></tr><tr><td>&quot;AISI-SAE 1335&quot;</td><td>&quot;300&quot;</td><td>&quot;550&quot;</td></tr><tr><td>&quot;AISI 1049&quot;</td><td>&quot;640&quot;</td><td>&quot;750&quot;</td></tr><tr><td>&quot;AISI 52100&quot;</td><td>&quot;460&quot;</td><td>&quot;1300&quot;</td></tr><tr><td>&quot;AISI-SAE 1042&quot;</td><td>&quot;580&quot;</td><td>&quot;700&quot;</td></tr><tr><td>&quot;AISI-SAE 9254&quot;</td><td>&quot;410&quot;</td><td>&quot;660&quot;</td></tr><tr><td>&quot;AISI-SAE 1080&quot;</td><td>&quot;535&quot;</td><td>&quot;820&quot;</td></tr></tbody></table></div>"
      ],
      "text/plain": [
       "shape: (8, 3)\n",
       "┌───────────────┬────────────────────┬───────────────────────┐\n",
       "│ steel         ┆ yield_strength_MPa ┆ ultimate_strength_MPA │\n",
       "│ ---           ┆ ---                ┆ ---                   │\n",
       "│ str           ┆ str                ┆ str                   │\n",
       "╞═══════════════╪════════════════════╪═══════════════════════╡\n",
       "│ AISI-SAE 4037 ┆ 290                ┆ 540                   │\n",
       "│ AISI 4047     ┆ 310                ┆ 580                   │\n",
       "│ AISI-SAE 1335 ┆ 300                ┆ 550                   │\n",
       "│ AISI 1049     ┆ 640                ┆ 750                   │\n",
       "│ AISI 52100    ┆ 460                ┆ 1300                  │\n",
       "│ AISI-SAE 1042 ┆ 580                ┆ 700                   │\n",
       "│ AISI-SAE 9254 ┆ 410                ┆ 660                   │\n",
       "│ AISI-SAE 1080 ┆ 535                ┆ 820                   │\n",
       "└───────────────┴────────────────────┴───────────────────────┘"
      ]
     },
     "execution_count": 24,
     "metadata": {},
     "output_type": "execute_result"
    }
   ],
   "source": [
    "df_MIF_clean = df_MIF.select(['steel', 'ys', 'uts']).rename({'ys' : 'yield_strength_MPa',\n",
    "                                                             'uts' : 'ultimate_strength_MPA'})\n",
    "df_MIF_clean"
   ]
  },
  {
   "cell_type": "code",
   "execution_count": null,
   "metadata": {},
   "outputs": [],
   "source": []
  },
  {
   "cell_type": "markdown",
   "metadata": {},
   "source": [
    "# Itterations"
   ]
  },
  {
   "cell_type": "code",
   "execution_count": 17,
   "metadata": {},
   "outputs": [
    {
     "ename": "SyntaxError",
     "evalue": "invalid syntax (2918180382.py, line 2)",
     "output_type": "error",
     "traceback": [
      "\u001b[0;36m  Cell \u001b[0;32mIn[17], line 2\u001b[0;36m\u001b[0m\n\u001b[0;31m    =\u001b[0m\n\u001b[0m    ^\u001b[0m\n\u001b[0;31mSyntaxError\u001b[0m\u001b[0;31m:\u001b[0m invalid syntax\n"
     ]
    }
   ],
   "source": [
    "# Code to force an error so this doesn't run when run all\n",
    "="
   ]
  },
  {
   "cell_type": "code",
   "execution_count": 109,
   "metadata": {},
   "outputs": [],
   "source": [
    "def handle_ranges(values_list):\n",
    "    if values_list[1] == 'to':\n",
    "        # map the range of values to a list of integers, then take the mean of it.\n",
    "        value = np.mean(list(map(int, values_list[0:3:2])))\n",
    "        units = values_list[3]\n",
    "    else:\n",
    "        value = np.float64(values_list[0])\n",
    "        units = values_list[1]\n",
    "    return value, units"
   ]
  },
  {
   "cell_type": "code",
   "execution_count": 110,
   "metadata": {},
   "outputs": [
    {
     "name": "stdout",
     "output_type": "stream",
     "text": [
      "('AISI-SAE 1080', np.float64(505.0), 'MPa', np.float64(715.0), 'MPa')\n"
     ]
    }
   ],
   "source": [
    "\n",
    "soup = BeautifulSoup(browser.html, \"html.parser\")\n",
    "mech_props = soup.find_all('div', class_='mech')\n",
    "# -2 is a magic number\n",
    "# the last 2 values are always tensile strength\n",
    "uts = 'no_label'\n",
    "uts_units = 'no_units'\n",
    "ys = 'no_label'\n",
    "ys_units = 'no_units'\n",
    "\n",
    "for div in mech_props[-2:]:\n",
    "    ps = div.find_all('p')\n",
    "    # get the property name\n",
    "    label = ps[0].text\n",
    "    # get the string of values and units and split it\n",
    "    values = ps[1].text.split(' ')\n",
    "    # Grab the metric value \n",
    "    value, units = handle_ranges(values)\n",
    "    if 'uts' in label.lower():\n",
    "        uts = value\n",
    "        uts_units = units\n",
    "    elif 'yield' in label.lower():\n",
    "        ys = value\n",
    "        ys_units = units\n",
    "row = (steel, ys, ys_units, uts, uts_units)\n",
    "print(row)"
   ]
  },
  {
   "cell_type": "code",
   "execution_count": null,
   "metadata": {},
   "outputs": [],
   "source": []
  }
 ],
 "metadata": {
  "kernelspec": {
   "display_name": ".venv",
   "language": "python",
   "name": "python3"
  },
  "language_info": {
   "codemirror_mode": {
    "name": "ipython",
    "version": 3
   },
   "file_extension": ".py",
   "mimetype": "text/x-python",
   "name": "python",
   "nbconvert_exporter": "python",
   "pygments_lexer": "ipython3",
   "version": "3.12.6"
  }
 },
 "nbformat": 4,
 "nbformat_minor": 2
}
