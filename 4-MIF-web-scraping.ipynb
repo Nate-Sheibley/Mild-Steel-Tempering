{
 "cells": [
  {
   "cell_type": "code",
   "execution_count": 2,
   "metadata": {},
   "outputs": [
    {
     "name": "stdout",
     "output_type": "stream",
     "text": [
      "Requirement already satisfied: polars in ./.venv/lib/python3.12/site-packages (1.8.2)\n",
      "Requirement already satisfied: beautifulsoup4 in ./.venv/lib/python3.12/site-packages (4.12.3)\n",
      "Requirement already satisfied: splinter in ./.venv/lib/python3.12/site-packages (0.21.0)\n",
      "Requirement already satisfied: selenium in ./.venv/lib/python3.12/site-packages (4.25.0)\n",
      "Requirement already satisfied: soupsieve>1.2 in ./.venv/lib/python3.12/site-packages (from beautifulsoup4) (2.6)\n",
      "Requirement already satisfied: urllib3<3.0,>=1.26.14 in ./.venv/lib/python3.12/site-packages (from splinter) (2.2.3)\n",
      "Requirement already satisfied: trio~=0.17 in ./.venv/lib/python3.12/site-packages (from selenium) (0.26.2)\n",
      "Requirement already satisfied: trio-websocket~=0.9 in ./.venv/lib/python3.12/site-packages (from selenium) (0.11.1)\n",
      "Requirement already satisfied: certifi>=2021.10.8 in ./.venv/lib/python3.12/site-packages (from selenium) (2024.8.30)\n",
      "Requirement already satisfied: typing_extensions~=4.9 in ./.venv/lib/python3.12/site-packages (from selenium) (4.12.2)\n",
      "Requirement already satisfied: websocket-client~=1.8 in ./.venv/lib/python3.12/site-packages (from selenium) (1.8.0)\n",
      "Requirement already satisfied: attrs>=23.2.0 in ./.venv/lib/python3.12/site-packages (from trio~=0.17->selenium) (24.2.0)\n",
      "Requirement already satisfied: sortedcontainers in ./.venv/lib/python3.12/site-packages (from trio~=0.17->selenium) (2.4.0)\n",
      "Requirement already satisfied: idna in ./.venv/lib/python3.12/site-packages (from trio~=0.17->selenium) (3.10)\n",
      "Requirement already satisfied: outcome in ./.venv/lib/python3.12/site-packages (from trio~=0.17->selenium) (1.3.0.post0)\n",
      "Requirement already satisfied: sniffio>=1.3.0 in ./.venv/lib/python3.12/site-packages (from trio~=0.17->selenium) (1.3.1)\n",
      "Requirement already satisfied: wsproto>=0.14 in ./.venv/lib/python3.12/site-packages (from trio-websocket~=0.9->selenium) (1.2.0)\n",
      "Requirement already satisfied: pysocks!=1.5.7,<2.0,>=1.5.6 in ./.venv/lib/python3.12/site-packages (from urllib3[socks]<3,>=1.26->selenium) (1.7.1)\n",
      "Requirement already satisfied: h11<1,>=0.9.0 in ./.venv/lib/python3.12/site-packages (from wsproto>=0.14->trio-websocket~=0.9->selenium) (0.14.0)\n"
     ]
    }
   ],
   "source": [
    "!pip install polars beautifulsoup4 splinter selenium"
   ]
  },
  {
   "cell_type": "code",
   "execution_count": 3,
   "metadata": {},
   "outputs": [
    {
     "name": "stdout",
     "output_type": "stream",
     "text": [
      "Requirement already satisfied: pint in ./.venv/lib/python3.12/site-packages (0.24.3)\n",
      "Requirement already satisfied: appdirs>=1.4.4 in ./.venv/lib/python3.12/site-packages (from pint) (1.4.4)\n",
      "Requirement already satisfied: typing-extensions in ./.venv/lib/python3.12/site-packages (from pint) (4.12.2)\n",
      "Requirement already satisfied: flexcache>=0.3 in ./.venv/lib/python3.12/site-packages (from pint) (0.3)\n",
      "Requirement already satisfied: flexparser>=0.3 in ./.venv/lib/python3.12/site-packages (from pint) (0.3.1)\n"
     ]
    }
   ],
   "source": [
    "!pip install pint"
   ]
  },
  {
   "cell_type": "code",
   "execution_count": 4,
   "metadata": {},
   "outputs": [],
   "source": [
    "import polars as pl\n",
    "import pathlib\n",
    "import re\n",
    "from bs4 import BeautifulSoup\n",
    "# Will use firefox browser\n",
    "from splinter import Browser\n",
    "import time\n",
    "import pint"
   ]
  },
  {
   "cell_type": "markdown",
   "metadata": {},
   "source": [
    "## Prepping the data. Do not include in main"
   ]
  },
  {
   "cell_type": "code",
   "execution_count": 5,
   "metadata": {},
   "outputs": [
    {
     "name": "stdout",
     "output_type": "stream",
     "text": [
      "Path is project root\n"
     ]
    }
   ],
   "source": [
    "cwd = pathlib.Path.cwd()\n",
    "\n",
    "if cwd.name == 'Mild-Steel-Tempering':\n",
    "    print(\"Path is project root\")\n",
    "else:\n",
    "    print(\"Please correct current working directory to the project root\")"
   ]
  },
  {
   "cell_type": "code",
   "execution_count": 6,
   "metadata": {},
   "outputs": [
    {
     "data": {
      "text/plain": [
       "PurePosixPath('/home/mox/Documents/coding_projects/bootcamp_local/Homeworks/Mild-Steel-Tempering/resources')"
      ]
     },
     "execution_count": 6,
     "metadata": {},
     "output_type": "execute_result"
    }
   ],
   "source": [
    "resources_path = pathlib.PurePath(pathlib.PurePath(cwd), 'resources')\n",
    "resources_path"
   ]
  },
  {
   "cell_type": "code",
   "execution_count": 7,
   "metadata": {},
   "outputs": [
    {
     "name": "stdout",
     "output_type": "stream",
     "text": [
      "Rows: 8\n",
      "Columns: 1\n",
      "$ steel <str> 'AISI-SAE 4037', 'AISI-SAE 1042', 'AISI-SAE 1080', 'AISI-SAE 1335', 'AISI 4047', 'AISI 52100', 'AISI 1049', 'AISI-SAE 9254'\n",
      "\n"
     ]
    }
   ],
   "source": [
    "data_path = f\"{resources_path}/MIF_search.csv\"\n",
    "df_data = pl.read_csv(data_path)\n",
    "df_data.glimpse()"
   ]
  },
  {
   "cell_type": "markdown",
   "metadata": {},
   "source": [
    "## Visit the Website"
   ]
  },
  {
   "cell_type": "code",
   "execution_count": 8,
   "metadata": {},
   "outputs": [],
   "source": [
    "browser = Browser('firefox')\n",
    "# https://www.makeitfrom.com/material-group/Wrought-Alloy-Steel-SAE-AISI\n",
    "# OR\n",
    "# https://www.makeitfrom.com/material-group/Wrought-Carbon-Or-Non-Alloy-Steel\n",
    "base_url = \"https://www.makeitfrom.com/material-group/\"\n",
    "url_alloy_steel = \"Wrought-Alloy-Steel-SAE-AISI\"\n",
    "url_carbon_steel = \"Wrought-Carbon-Or-Non-Alloy-Steel\""
   ]
  },
  {
   "cell_type": "markdown",
   "metadata": {},
   "source": [
    "### Rename some steel present in MIF that were not searching correctly"
   ]
  },
  {
   "cell_type": "code",
   "execution_count": 8,
   "metadata": {},
   "outputs": [
    {
     "data": {
      "text/html": [
       "<div><style>\n",
       ".dataframe > thead > tr,\n",
       ".dataframe > tbody > tr {\n",
       "  text-align: right;\n",
       "  white-space: pre-wrap;\n",
       "}\n",
       "</style>\n",
       "<small>shape: (28, 1)</small><table border=\"1\" class=\"dataframe\"><thead><tr><th>searchable</th></tr><tr><td>str</td></tr></thead><tbody><tr><td>&quot;AISI-SAE 1335&quot;</td></tr><tr><td>&quot;AISI-SAE 4027&quot;</td></tr><tr><td>&quot;AISI 1055&quot;</td></tr><tr><td>&quot;AISI-SAE 1042&quot;</td></tr><tr><td>&quot;AISI 6145&quot;</td></tr><tr><td>&hellip;</td></tr><tr><td>&quot;AISI 4047&quot;</td></tr><tr><td>&quot;AISI-SAE 1080&quot;</td></tr><tr><td>&quot;AISI-SAE 1040&quot;</td></tr><tr><td>&quot;AISI-SAE 6150&quot;</td></tr><tr><td>&quot;AISI 1074 Carbon Steel&quot;</td></tr></tbody></table></div>"
      ],
      "text/plain": [
       "shape: (28, 1)\n",
       "┌────────────────────────┐\n",
       "│ searchable             │\n",
       "│ ---                    │\n",
       "│ str                    │\n",
       "╞════════════════════════╡\n",
       "│ AISI-SAE 1335          │\n",
       "│ AISI-SAE 4027          │\n",
       "│ AISI 1055              │\n",
       "│ AISI-SAE 1042          │\n",
       "│ AISI 6145              │\n",
       "│ …                      │\n",
       "│ AISI 4047              │\n",
       "│ AISI-SAE 1080          │\n",
       "│ AISI-SAE 1040          │\n",
       "│ AISI-SAE 6150          │\n",
       "│ AISI 1074 Carbon Steel │\n",
       "└────────────────────────┘"
      ]
     },
     "execution_count": 8,
     "metadata": {},
     "output_type": "execute_result"
    }
   ],
   "source": [
    "df_data"
   ]
  }
 ],
 "metadata": {
  "kernelspec": {
   "display_name": ".venv",
   "language": "python",
   "name": "python3"
  },
  "language_info": {
   "codemirror_mode": {
    "name": "ipython",
    "version": 3
   },
   "file_extension": ".py",
   "mimetype": "text/x-python",
   "name": "python",
   "nbconvert_exporter": "python",
   "pygments_lexer": "ipython3",
   "version": "3.12.6"
  }
 },
 "nbformat": 4,
 "nbformat_minor": 2
}
