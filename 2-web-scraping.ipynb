{
 "cells": [
  {
   "cell_type": "code",
   "execution_count": 1,
   "metadata": {},
   "outputs": [
    {
     "name": "stdout",
     "output_type": "stream",
     "text": [
      "Requirement already satisfied: polars in ./.venv/lib/python3.12/site-packages (1.8.2)\n",
      "Requirement already satisfied: beautifulsoup4 in ./.venv/lib/python3.12/site-packages (4.12.3)\n",
      "Requirement already satisfied: splinter in ./.venv/lib/python3.12/site-packages (0.21.0)\n",
      "Requirement already satisfied: selenium in ./.venv/lib/python3.12/site-packages (4.25.0)\n",
      "Requirement already satisfied: soupsieve>1.2 in ./.venv/lib/python3.12/site-packages (from beautifulsoup4) (2.6)\n",
      "Requirement already satisfied: urllib3<3.0,>=1.26.14 in ./.venv/lib/python3.12/site-packages (from splinter) (2.2.3)\n",
      "Requirement already satisfied: trio~=0.17 in ./.venv/lib/python3.12/site-packages (from selenium) (0.26.2)\n",
      "Requirement already satisfied: trio-websocket~=0.9 in ./.venv/lib/python3.12/site-packages (from selenium) (0.11.1)\n",
      "Requirement already satisfied: certifi>=2021.10.8 in ./.venv/lib/python3.12/site-packages (from selenium) (2024.8.30)\n",
      "Requirement already satisfied: typing_extensions~=4.9 in ./.venv/lib/python3.12/site-packages (from selenium) (4.12.2)\n",
      "Requirement already satisfied: websocket-client~=1.8 in ./.venv/lib/python3.12/site-packages (from selenium) (1.8.0)\n",
      "Requirement already satisfied: attrs>=23.2.0 in ./.venv/lib/python3.12/site-packages (from trio~=0.17->selenium) (24.2.0)\n",
      "Requirement already satisfied: sortedcontainers in ./.venv/lib/python3.12/site-packages (from trio~=0.17->selenium) (2.4.0)\n",
      "Requirement already satisfied: idna in ./.venv/lib/python3.12/site-packages (from trio~=0.17->selenium) (3.10)\n",
      "Requirement already satisfied: outcome in ./.venv/lib/python3.12/site-packages (from trio~=0.17->selenium) (1.3.0.post0)\n",
      "Requirement already satisfied: sniffio>=1.3.0 in ./.venv/lib/python3.12/site-packages (from trio~=0.17->selenium) (1.3.1)\n",
      "Requirement already satisfied: wsproto>=0.14 in ./.venv/lib/python3.12/site-packages (from trio-websocket~=0.9->selenium) (1.2.0)\n",
      "Requirement already satisfied: pysocks!=1.5.7,<2.0,>=1.5.6 in ./.venv/lib/python3.12/site-packages (from urllib3[socks]<3,>=1.26->selenium) (1.7.1)\n",
      "Requirement already satisfied: h11<1,>=0.9.0 in ./.venv/lib/python3.12/site-packages (from wsproto>=0.14->trio-websocket~=0.9->selenium) (0.14.0)\n"
     ]
    }
   ],
   "source": [
    "!pip install polars beautifulsoup4 splinter selenium"
   ]
  },
  {
   "cell_type": "code",
   "execution_count": 2,
   "metadata": {},
   "outputs": [
    {
     "name": "stdout",
     "output_type": "stream",
     "text": [
      "Requirement already satisfied: pint in ./.venv/lib/python3.12/site-packages (0.24.3)\n",
      "Requirement already satisfied: appdirs>=1.4.4 in ./.venv/lib/python3.12/site-packages (from pint) (1.4.4)\n",
      "Requirement already satisfied: typing-extensions in ./.venv/lib/python3.12/site-packages (from pint) (4.12.2)\n",
      "Requirement already satisfied: flexcache>=0.3 in ./.venv/lib/python3.12/site-packages (from pint) (0.3)\n",
      "Requirement already satisfied: flexparser>=0.3 in ./.venv/lib/python3.12/site-packages (from pint) (0.3.1)\n"
     ]
    }
   ],
   "source": [
    "!pip install pint"
   ]
  },
  {
   "cell_type": "code",
   "execution_count": 3,
   "metadata": {},
   "outputs": [],
   "source": [
    "import polars as pl\n",
    "import pathlib\n",
    "import re\n",
    "from bs4 import BeautifulSoup\n",
    "# Will use firefox browser\n",
    "from splinter import Browser\n",
    "import time\n",
    "import pint"
   ]
  },
  {
   "cell_type": "markdown",
   "metadata": {},
   "source": [
    "## Prepping the data. Do not include in main"
   ]
  },
  {
   "cell_type": "code",
   "execution_count": 4,
   "metadata": {},
   "outputs": [
    {
     "name": "stdout",
     "output_type": "stream",
     "text": [
      "Path is project root\n"
     ]
    }
   ],
   "source": [
    "cwd = pathlib.Path.cwd()\n",
    "\n",
    "if cwd.name == 'Mild-Steel-Tempering':\n",
    "    print(\"Path is project root\")\n",
    "else:\n",
    "    print(\"Please correct current working directory to the project root\")"
   ]
  },
  {
   "cell_type": "code",
   "execution_count": 5,
   "metadata": {},
   "outputs": [
    {
     "data": {
      "text/plain": [
       "PurePosixPath('/home/mox/Documents/coding_projects/bootcamp_local/Homeworks/Mild-Steel-Tempering/resources')"
      ]
     },
     "execution_count": 5,
     "metadata": {},
     "output_type": "execute_result"
    }
   ],
   "source": [
    "resources_path = pathlib.PurePath(pathlib.PurePath(cwd), 'resources')\n",
    "resources_path"
   ]
  },
  {
   "cell_type": "code",
   "execution_count": 6,
   "metadata": {},
   "outputs": [
    {
     "name": "stdout",
     "output_type": "stream",
     "text": [
      "Rows: 28\n",
      "Columns: 1\n",
      "$ steel_type <str> 'AISI-SAE 1045', 'AISI-SAE 1042', 'AISI 1030', 'AISI-SAE 4037', 'AISI 52100', 'AISI-SAE 1065', 'AISI-SAE 4340', 'AISI-SAE 1030', 'AISI-SAE 6150', 'AISI-SAE 5140'\n",
      "\n"
     ]
    }
   ],
   "source": [
    "data_path = f\"{resources_path}/searchable_steels.csv\"\n",
    "df_data = pl.read_csv(data_path)\n",
    "df_data.glimpse()"
   ]
  },
  {
   "cell_type": "markdown",
   "metadata": {},
   "source": [
    "## Visit the Website"
   ]
  },
  {
   "cell_type": "code",
   "execution_count": 7,
   "metadata": {},
   "outputs": [],
   "source": [
    "browser = Browser('firefox')\n",
    "base_url = \"https://www.azom.com\"\n",
    "search_path = \"/search.aspx?q=\""
   ]
  },
  {
   "cell_type": "code",
   "execution_count": 8,
   "metadata": {},
   "outputs": [],
   "source": [
    "dict_mt = {}"
   ]
  },
  {
   "cell_type": "markdown",
   "metadata": {},
   "source": [
    "### Rename some steel present in AZoM that were not searching correctly"
   ]
  },
  {
   "cell_type": "code",
   "execution_count": 9,
   "metadata": {},
   "outputs": [
    {
     "name": "stdout",
     "output_type": "stream",
     "text": [
      "AISI-SAE 1045\n",
      "AISI-SAE 1042\n",
      "AISI 1030\n",
      "AISI-SAE 4037\n",
      "AISI 52100\n",
      "AISI-SAE 1065\n",
      "AISI-SAE 4340\n",
      "AISI-SAE 1030\n",
      "AISI-SAE 6150\n",
      "AISI-SAE 5140\n",
      "AISI-SAE 1035\n",
      "AISI 4640\n",
      "AISI 1055\n",
      "AISI-SAE 1080\n",
      "AISI 1090\n",
      "AISI-SAE 4027\n",
      "AISI-SAE 1050\n",
      "AISI-SAE 1038\n",
      "AISI 1095\n",
      "AISI-SAE 1040\n",
      "AISI-SAE 1026\n",
      "AISI-SAE 5160\n",
      "AISI 6145\n",
      "AISI 4047\n",
      "AISI 1074 Carbon Steel\n",
      "AISI 1049\n",
      "AISI-SAE 1335\n",
      "AISI-SAE 4140\n"
     ]
    },
    {
     "data": {
      "text/plain": [
       "28"
      ]
     },
     "execution_count": 9,
     "metadata": {},
     "output_type": "execute_result"
    }
   ],
   "source": [
    "len([print(steel) for steel in df_data['steel_type']])"
   ]
  },
  {
   "cell_type": "code",
   "execution_count": 10,
   "metadata": {},
   "outputs": [],
   "source": [
    "# Search the steel \n",
    "def get_soup(soup):\n",
    "    search_result = soup.find('div', class_='resultsContainer')\n",
    "    first_item = search_result.find('a')\n",
    "    # https://pytutorial.com/get-element-href-beautifulsoup/\n",
    "    steel_link = first_item.get('href')\n",
    "    time.sleep(0.15)\n",
    "    browser.visit(f\"{base_url}{steel_link}\")\n",
    "    soup2 = BeautifulSoup(browser.html, 'html.parser')\n",
    "    return soup2\n",
    "\n"
   ]
  },
  {
   "cell_type": "code",
   "execution_count": 11,
   "metadata": {},
   "outputs": [],
   "source": [
    "# already have elemental composition\n",
    "# property - metric - imperial\n",
    "# table_elements = tables[0]\n",
    "# table_phys_props = tables[1]\n",
    "# table_mecha_props = tables[2]\n",
    "# table_therm_props = tables[3]\n",
    "# table_other_desigs = tables[4]\n",
    "#parse tables\n",
    "def get_tables(soup):\n",
    "    tables = []\n",
    "    # parse all tables in the\n",
    "    for html_table in soup.find_all('table'):\n",
    "        table = []\n",
    "        # parse rows in the table\n",
    "        for tr in html_table.find_all('tr'):\n",
    "            row = []\n",
    "            #parse data cells in the row\n",
    "            for t in tr.find_all(['th', 'td']):\n",
    "                text = t.get_text(strip=True)\n",
    "                #add data to row\n",
    "                row.append(text)\n",
    "            #add row to table\n",
    "            table.append(row)\n",
    "    #returns a list of list of lists\n",
    "    return tables\n",
    "    "
   ]
  },
  {
   "cell_type": "code",
   "execution_count": 18,
   "metadata": {},
   "outputs": [],
   "source": [
    "def make_dfs(lolols):\n",
    "    tables = []\n",
    "    # convert the list of lists to a dataframe\n",
    "    for lol in lolols:\n",
    "        try:\n",
    "            df = pl.DataFrame(lol, orient='row')\n",
    "            # rename columns using first row\n",
    "            # https://stackoverflow.com/questions/75187317/how-to-rename-column-names-with-first-row-in-polars\n",
    "            # [1:] removes the first row that replaced the column names \n",
    "            df = df.rename(df.head(1).to_dicts().pop())[1:]\n",
    "            # add the dataframe to the list of tables on for this steel\n",
    "            tables.append(df)\n",
    "        except:\n",
    "            tables.append(lol)\n",
    "    return tables"
   ]
  },
  {
   "cell_type": "code",
   "execution_count": 19,
   "metadata": {},
   "outputs": [
    {
     "name": "stdout",
     "output_type": "stream",
     "text": [
      "Working on: AISI-SAE 1045\n",
      "Working on: AISI-SAE 1042\n",
      "Working on: AISI 1030\n",
      "Working on: AISI-SAE 4037\n",
      "Working on: AISI 52100\n",
      "Working on: AISI-SAE 1065\n",
      "Working on: AISI-SAE 4340\n",
      "Working on: AISI-SAE 1030\n",
      "Working on: AISI-SAE 6150\n",
      "Working on: AISI-SAE 5140\n",
      "Working on: AISI-SAE 1035\n",
      "Working on: AISI 4640\n",
      "Working on: AISI 1055\n",
      "Working on: AISI-SAE 1080\n",
      "Working on: AISI 1090\n",
      "Working on: AISI-SAE 4027\n",
      "Working on: AISI-SAE 1050\n",
      "Working on: AISI-SAE 1038\n",
      "Working on: AISI 1095\n",
      "Working on: AISI-SAE 1040\n",
      "Working on: AISI-SAE 1026\n",
      "Working on: AISI-SAE 5160\n",
      "Working on: AISI 6145\n",
      "Working on: AISI 4047\n",
      "Working on: AISI 1074 Carbon Steel\n",
      "Working on: AISI 1049\n",
      "Working on: AISI-SAE 1335\n",
      "Working on: AISI-SAE 4140\n"
     ]
    }
   ],
   "source": [
    "dict_steel_tables = {}\n",
    "for steel in df_data['steel_type']:\n",
    "    print(\"Working on:\", steel)\n",
    "    #search AZoM for the steel\n",
    "    browser.visit(f\"{base_url}{search_path}{steel}\")\n",
    "    soup_search = BeautifulSoup(browser.html, 'html.parser')\n",
    "\n",
    "    #takes soup html and returns list of lists\n",
    "    soup = get_soup(soup_search)\n",
    "    lolols = get_tables(soup)\n",
    "    dict_steel_tables[steel] = make_dfs(lolols)\n",
    "    # tables list of lists and returns a dictionary\n",
    "    # robots.txt indicates Crawl-delay: 120\n",
    "    time.sleep(0.15)"
   ]
  },
  {
   "cell_type": "code",
   "execution_count": 20,
   "metadata": {},
   "outputs": [
    {
     "data": {
      "text/plain": [
       "{'AISI-SAE 1045': [],\n",
       " 'AISI-SAE 1042': [],\n",
       " 'AISI 1030': [],\n",
       " 'AISI-SAE 4037': [],\n",
       " 'AISI 52100': [],\n",
       " 'AISI-SAE 1065': [],\n",
       " 'AISI-SAE 4340': [],\n",
       " 'AISI-SAE 1030': [],\n",
       " 'AISI-SAE 6150': [],\n",
       " 'AISI-SAE 5140': [],\n",
       " 'AISI-SAE 1035': [],\n",
       " 'AISI 4640': [],\n",
       " 'AISI 1055': [],\n",
       " 'AISI-SAE 1080': [],\n",
       " 'AISI 1090': [],\n",
       " 'AISI-SAE 4027': [],\n",
       " 'AISI-SAE 1050': [],\n",
       " 'AISI-SAE 1038': [],\n",
       " 'AISI 1095': [],\n",
       " 'AISI-SAE 1040': [],\n",
       " 'AISI-SAE 1026': [],\n",
       " 'AISI-SAE 5160': [],\n",
       " 'AISI 6145': [],\n",
       " 'AISI 4047': [],\n",
       " 'AISI 1074 Carbon Steel': [],\n",
       " 'AISI 1049': [],\n",
       " 'AISI-SAE 1335': [],\n",
       " 'AISI-SAE 4140': []}"
      ]
     },
     "execution_count": 20,
     "metadata": {},
     "output_type": "execute_result"
    }
   ],
   "source": [
    "dict_steel_tables"
   ]
  },
  {
   "cell_type": "markdown",
   "metadata": {},
   "source": [
    "# Itteration and troubleshooting code"
   ]
  },
  {
   "cell_type": "code",
   "execution_count": 11,
   "metadata": {},
   "outputs": [],
   "source": [
    "browser = Browser('firefox')\n",
    "browser.visit(\"https://www.azom.com/article.aspx?ArticleID=9189\")\n",
    "soup = BeautifulSoup(browser.html, 'html.parser')\n",
    "#takes soup html and returns list of lists\n",
    "# tables list of lists and returns a dictionary\n",
    "# robots.txt indicates Crawl-delay: 120\n",
    "time.sleep(0.15)\n",
    "soup = BeautifulSoup(browser.html, 'html.parser')"
   ]
  },
  {
   "cell_type": "code",
   "execution_count": 25,
   "metadata": {},
   "outputs": [
    {
     "data": {
      "text/html": [
       "<div><style>\n",
       ".dataframe > thead > tr,\n",
       ".dataframe > tbody > tr {\n",
       "  text-align: right;\n",
       "  white-space: pre-wrap;\n",
       "}\n",
       "</style>\n",
       "<small>shape: (8, 3)</small><table border=\"1\" class=\"dataframe\"><thead><tr><th>Properties</th><th>Metric</th><th>Imperial</th></tr><tr><td>str</td><td>str</td><td>str</td></tr></thead><tbody><tr><td>&quot;Tensile strength&quot;</td><td>&quot;1213 MPa&quot;</td><td>&quot;175900 psi&quot;</td></tr><tr><td>&quot;Yield strength (@0.2%)&quot;</td><td>&quot;1165 MPa&quot;</td><td>&quot;169000 psi&quot;</td></tr><tr><td>&quot;Modulus of elasticity&quot;</td><td>&quot;201-209 GPa&quot;</td><td>&quot;29200-30300 ksi&quot;</td></tr><tr><td>&quot;Bulk modulus&quot;</td><td>&quot;160-170 GPa&quot;</td><td>&quot;23200-24700 ksi&quot;</td></tr><tr><td>&quot;Shear modulus&quot;</td><td>&quot;81-82 GPa&quot;</td><td>&quot;11700-11900 ksi&quot;</td></tr><tr><td>&quot;Poisson’s ratio&quot;</td><td>&quot;0.27-030&quot;</td><td>&quot;0.27-030&quot;</td></tr><tr><td>&quot;Elongation at break&quot;</td><td>&quot;16%&quot;</td><td>&quot;16%&quot;</td></tr><tr><td>&quot;Hardness, Brinell&quot;</td><td>&quot;429&quot;</td><td>&quot;429&quot;</td></tr></tbody></table></div>"
      ],
      "text/plain": [
       "shape: (8, 3)\n",
       "┌────────────────────────┬─────────────┬─────────────────┐\n",
       "│ Properties             ┆ Metric      ┆ Imperial        │\n",
       "│ ---                    ┆ ---         ┆ ---             │\n",
       "│ str                    ┆ str         ┆ str             │\n",
       "╞════════════════════════╪═════════════╪═════════════════╡\n",
       "│ Tensile strength       ┆ 1213 MPa    ┆ 175900 psi      │\n",
       "│ Yield strength (@0.2%) ┆ 1165 MPa    ┆ 169000 psi      │\n",
       "│ Modulus of elasticity  ┆ 201-209 GPa ┆ 29200-30300 ksi │\n",
       "│ Bulk modulus           ┆ 160-170 GPa ┆ 23200-24700 ksi │\n",
       "│ Shear modulus          ┆ 81-82 GPa   ┆ 11700-11900 ksi │\n",
       "│ Poisson’s ratio        ┆ 0.27-030    ┆ 0.27-030        │\n",
       "│ Elongation at break    ┆ 16%         ┆ 16%             │\n",
       "│ Hardness, Brinell      ┆ 429         ┆ 429             │\n",
       "└────────────────────────┴─────────────┴─────────────────┘"
      ]
     },
     "execution_count": 25,
     "metadata": {},
     "output_type": "execute_result"
    }
   ],
   "source": [
    "tables = []\n",
    "# parse all tables in the\n",
    "for html_table in soup.find_all('table'):\n",
    "    table = []\n",
    "    # parse rows in the table\n",
    "    for tr in html_table.find_all('tr'):\n",
    "        row = []\n",
    "        #parse data cells in the row\n",
    "        for t in tr.find_all(['th', 'td']):\n",
    "            text = t.get_text(strip=True)\n",
    "            #add data to row\n",
    "            row.append(text)\n",
    "        #add row to table\n",
    "        table.append(row)\n",
    "    # convert the list of lists to a dataframe\n",
    "    df = pl.DataFrame(table, orient='row')\n",
    "    # rename columns using first row\n",
    "    # https://stackoverflow.com/questions/75187317/how-to-rename-column-names-with-first-row-in-polars\n",
    "    # [1:] removes the first row that replaced the column names \n",
    "    df = df.rename(df.head(1).to_dicts().pop())[1:]\n",
    "    # add the dataframe to the list of tables on for this steel\n",
    "    tables.append(df)\n",
    "tables[2]"
   ]
  },
  {
   "cell_type": "code",
   "execution_count": 36,
   "metadata": {},
   "outputs": [
    {
     "ename": "IndexError",
     "evalue": "list index out of range",
     "output_type": "error",
     "traceback": [
      "\u001b[0;31m---------------------------------------------------------------------------\u001b[0m",
      "\u001b[0;31mIndexError\u001b[0m                                Traceback (most recent call last)",
      "Cell \u001b[0;32mIn[36], line 1\u001b[0m\n\u001b[0;32m----> 1\u001b[0m \u001b[43mtables\u001b[49m\u001b[43m[\u001b[49m\u001b[38;5;241;43m4\u001b[39;49m\u001b[43m]\u001b[49m\n",
      "\u001b[0;31mIndexError\u001b[0m: list index out of range"
     ]
    }
   ],
   "source": []
  },
  {
   "cell_type": "code",
   "execution_count": 33,
   "metadata": {},
   "outputs": [
    {
     "data": {
      "text/plain": [
       "[[['Element', 'Content (%)'],\n",
       "  ['Chromium, Cr', '0.8-1.1'],\n",
       "  ['Manganese, Mn', '≤0.7-0.9'],\n",
       "  ['Carbon, C', '≤0.43-0.48'],\n",
       "  ['Silicon, Si', '≤0.2-0.35'],\n",
       "  ['Vanadium, V', '≥0.15'],\n",
       "  ['Phosphorus, P', '≤0.04'],\n",
       "  ['Sulfur, S', '≤0.05']],\n",
       " [['Properties', 'Metric', 'Imperial'],\n",
       "  ['Density', '7.75 g/cm3', '0.280 lb/in3']],\n",
       " [['Properties', 'Metric', 'Imperial'],\n",
       "  ['Tensile strength', '1213 MPa', '175900 psi'],\n",
       "  ['Yield strength (@0.2%)', '1165 MPa', '169000 psi'],\n",
       "  ['Modulus of elasticity', '201-209 GPa', '29200-30300 ksi'],\n",
       "  ['Bulk modulus', '160-170 GPa', '23200-24700 ksi'],\n",
       "  ['Shear modulus', '81-82 GPa', '11700-11900 ksi'],\n",
       "  ['Poisson’s ratio', '0.27-030', '0.27-030'],\n",
       "  ['Elongation at break', '16%', '16%'],\n",
       "  ['Hardness, Brinell', '429', '429']],\n",
       " [['Properties', 'Metric', 'Imperial'],\n",
       "  ['Thermal expansion co-efficient', '10 µm/m°C', '5.5 µin/in°F'],\n",
       "  ['Thermal conductivity', '25 W/mK', '173.3 BTU.in/hrft².°F']]]"
      ]
     },
     "execution_count": 33,
     "metadata": {},
     "output_type": "execute_result"
    }
   ],
   "source": [
    "#  Parsing html tables - https://stackoverflow.com/questions/45843025/parsing-html-tables-with-beautifulsoup-in-python\n",
    "# html_tables = soup2.find_all('tbody')\n",
    "tables = [ # list of tables\n",
    "    [ # list of rows in table\n",
    "        # parse table data including headers\n",
    "        [t.get_text(strip=True) for t in tr.find_all(['th', 'td'])]\n",
    "        # for  each row of data\n",
    "        for tr in table.find_all('tr')\n",
    "    ] \n",
    "    for table in soup.find_all('table')\n",
    "]\n",
    "tables"
   ]
  },
  {
   "cell_type": "code",
   "execution_count": 13,
   "metadata": {},
   "outputs": [
    {
     "name": "stdout",
     "output_type": "stream",
     "text": [
      "Failed :  1  :  AISI-SAE 9264\n",
      "Failed :  2  :  AISI-SAE 2340\n",
      "Failed :  3  :  AISI-SAE 3140\n",
      "Failed :  4  :  AISI-SAE 4068\n"
     ]
    }
   ],
   "source": [
    "from selenium.webdriver.common.keys import Keys\n",
    "\n",
    "browser = Browser('firefox')\n",
    "i = 0\n",
    "\n",
    "for steel in df_data['steel_type']:\n",
    "    browser.visit(f\"{base_url}{search_path}{steel}\")\n",
    "    soup = BeautifulSoup(browser.html, 'html.parser')\n",
    "    try:\n",
    "        search_result = soup.find('div', class_='resultsContainer')\n",
    "        first_item = search_result.find('a')\n",
    "        # https://pytutorial.com/get-element-href-beautifulsoup/\n",
    "        steel_link = first_item.get('href')\n",
    "        time.sleep(0.15)\n",
    "        browser.visit(f\"{base_url}{steel_link}\")\n",
    "        soup2 = BeautifulSoup(browser.html, 'html.parser')\n",
    "        time.sleep(0.15)\n",
    "    except:\n",
    "        i += 1\n",
    "        print(\"Failed : \", i, \" : \", steel)\n",
    "        \n",
    "    \n",
    "\n",
    "    "
   ]
  },
  {
   "cell_type": "code",
   "execution_count": null,
   "metadata": {},
   "outputs": [],
   "source": [
    "# property - metric - imperial\n",
    "table_elements = tables[0]\n",
    "table_phys_props = tables[1]\n",
    "table_mecha_props = tables[2]\n",
    "table_therm_props = tables[3]\n",
    "table_other_desigs = tables[4]"
   ]
  },
  {
   "cell_type": "code",
   "execution_count": 21,
   "metadata": {},
   "outputs": [],
   "source": [
    "dict_props = {}\n",
    "table_mecha_props = tables[2]\n",
    "for row in table_mecha_props:\n",
    "    try:\n",
    "        #fail if empty list\n",
    "        to_parse_metric = row[1]\n",
    "        # parse numeric value as string\n",
    "        value = re.search(r\"[\\d+\\.\\d+]+\", to_parse_metric).group(0)\n",
    "        # parse space seperated value units that may end in numbers example: '7.858 g/ cm3'\n",
    "        unit = ''.join(to_parse_metric.split(' ')[1:])\n",
    "        if unit == '':\n",
    "            # parse unit if not space separated example: \"40.00%\"\n",
    "            unit = re.search(r\"[\\D]+$\", to_parse_metric).group(0)\n",
    "\n",
    "        #add values if no errors in parsing\n",
    "        # dict_props['metric'].append(value)\n",
    "        # dict_props['unit'].append(unit)\n",
    "        # dict_props[\"property\"].append(row[0].lower())\n",
    "        dict_props['steel_type'] = steel\n",
    "        dict_props[row[0].lower()] = (value, unit)\n",
    "    except:\n",
    "        pass\n",
    "    df = pl.DataFrame(dict_props)"
   ]
  },
  {
   "cell_type": "code",
   "execution_count": 17,
   "metadata": {},
   "outputs": [
    {
     "name": "stdout",
     "output_type": "stream",
     "text": [
      "value 7.858\n",
      "unit  g/cm3\n",
      "value 40.00\n",
      "unit  % \n",
      "value 29\n",
      "unit  %\n"
     ]
    },
    {
     "ename": "AttributeError",
     "evalue": "'NoneType' object has no attribute 'group'",
     "output_type": "error",
     "traceback": [
      "\u001b[0;31m---------------------------------------------------------------------------\u001b[0m",
      "\u001b[0;31mAttributeError\u001b[0m                            Traceback (most recent call last)",
      "Cell \u001b[0;32mIn[17], line 6\u001b[0m\n\u001b[1;32m      4\u001b[0m unit \u001b[38;5;241m=\u001b[39m \u001b[38;5;124m'\u001b[39m\u001b[38;5;124m'\u001b[39m\u001b[38;5;241m.\u001b[39mjoin(item\u001b[38;5;241m.\u001b[39msplit(\u001b[38;5;124m'\u001b[39m\u001b[38;5;124m \u001b[39m\u001b[38;5;124m'\u001b[39m)[\u001b[38;5;241m1\u001b[39m:])\n\u001b[1;32m      5\u001b[0m \u001b[38;5;28;01mif\u001b[39;00m unit \u001b[38;5;241m==\u001b[39m \u001b[38;5;124m'\u001b[39m\u001b[38;5;124m'\u001b[39m:\n\u001b[0;32m----> 6\u001b[0m     unit \u001b[38;5;241m=\u001b[39m \u001b[43mre\u001b[49m\u001b[38;5;241;43m.\u001b[39;49m\u001b[43msearch\u001b[49m\u001b[43m(\u001b[49m\u001b[38;5;124;43mr\u001b[39;49m\u001b[38;5;124;43m\"\u001b[39;49m\u001b[38;5;124;43m[\u001b[39;49m\u001b[38;5;124;43m\\\u001b[39;49m\u001b[38;5;124;43mD]+$\u001b[39;49m\u001b[38;5;124;43m\"\u001b[39;49m\u001b[43m,\u001b[49m\u001b[43m \u001b[49m\u001b[43mitem\u001b[49m\u001b[43m)\u001b[49m\u001b[38;5;241;43m.\u001b[39;49m\u001b[43mgroup\u001b[49m(\u001b[38;5;241m0\u001b[39m)\n\u001b[1;32m      7\u001b[0m \u001b[38;5;28mprint\u001b[39m(\u001b[38;5;124m'\u001b[39m\u001b[38;5;124mvalue\u001b[39m\u001b[38;5;124m'\u001b[39m, value)\n\u001b[1;32m      8\u001b[0m \u001b[38;5;28mprint\u001b[39m(\u001b[38;5;124m'\u001b[39m\u001b[38;5;124munit \u001b[39m\u001b[38;5;124m'\u001b[39m, unit)\n",
      "\u001b[0;31mAttributeError\u001b[0m: 'NoneType' object has no attribute 'group'"
     ]
    }
   ],
   "source": [
    "#Test Case\n",
    "list_to_parse  = ['7.858 g/ cm3', \"40.00% \", \"29%\", \"163\"]\n",
    "for item in list_to_parse:\n",
    "    value = re.search(r\"[\\d+\\.\\d+]+\", item).group(0)\n",
    "    unit = ''.join(item.split(' ')[1:])\n",
    "    if unit == '':\n",
    "        unit = re.search(r\"[\\D]+$\", item).group(0)\n",
    "    print('value', value)\n",
    "    print('unit ', unit)"
   ]
  },
  {
   "cell_type": "code",
   "execution_count": 20,
   "metadata": {},
   "outputs": [
    {
     "data": {
      "text/html": [
       "<div><style>\n",
       ".dataframe > thead > tr,\n",
       ".dataframe > tbody > tr {\n",
       "  text-align: right;\n",
       "  white-space: pre-wrap;\n",
       "}\n",
       "</style>\n",
       "<small>shape: (15, 3)</small><table border=\"1\" class=\"dataframe\"><thead><tr><th>property</th><th>metric</th><th>unit</th></tr><tr><td>str</td><td>str</td><td>str</td></tr></thead><tbody><tr><td>&quot;density (chemical composition …</td><td>&quot;7.845&quot;</td><td>&quot;g/cc&quot;</td></tr><tr><td>&quot;melting point&quot;</td><td>&quot;1521&quot;</td><td>&quot;°C&quot;</td></tr><tr><td>&quot;tensile strength&quot;</td><td>&quot;620&quot;</td><td>&quot;MPa&quot;</td></tr><tr><td>&quot;yield strength&quot;</td><td>&quot;415&quot;</td><td>&quot;MPa&quot;</td></tr><tr><td>&quot;bulk modulus (typical for stee…</td><td>&quot;140&quot;</td><td>&quot;GPa&quot;</td></tr><tr><td>&hellip;</td><td>&hellip;</td><td>&hellip;</td></tr><tr><td>&quot;izod impact (as rolled)&quot;</td><td>&quot;49&quot;</td><td>&quot;J&quot;</td></tr><tr><td>&quot;izod impact (normalized at 900…</td><td>&quot;65&quot;</td><td>&quot;J&quot;</td></tr><tr><td>&quot;thermal expansion co-efficient…</td><td>&quot;11.3&quot;</td><td>&quot;µm/m°C&quot;</td></tr><tr><td>&quot;thermal conductivity (@ 100°c/…</td><td>&quot;50.7&quot;</td><td>&quot;W/mK&quot;</td></tr><tr><td>&quot;thermal conductivity (@ 0°c)&quot;</td><td>&quot;51.9&quot;</td><td>&quot;W/mK&quot;</td></tr></tbody></table></div>"
      ],
      "text/plain": [
       "shape: (15, 3)\n",
       "┌─────────────────────────────────┬────────┬────────┐\n",
       "│ property                        ┆ metric ┆ unit   │\n",
       "│ ---                             ┆ ---    ┆ ---    │\n",
       "│ str                             ┆ str    ┆ str    │\n",
       "╞═════════════════════════════════╪════════╪════════╡\n",
       "│ density (chemical composition … ┆ 7.845  ┆ g/cc   │\n",
       "│ melting point                   ┆ 1521   ┆ °C     │\n",
       "│ tensile strength                ┆ 620    ┆ MPa    │\n",
       "│ yield strength                  ┆ 415    ┆ MPa    │\n",
       "│ bulk modulus (typical for stee… ┆ 140    ┆ GPa    │\n",
       "│ …                               ┆ …      ┆ …      │\n",
       "│ izod impact (as rolled)         ┆ 49     ┆ J      │\n",
       "│ izod impact (normalized at 900… ┆ 65     ┆ J      │\n",
       "│ thermal expansion co-efficient… ┆ 11.3   ┆ µm/m°C │\n",
       "│ thermal conductivity (@ 100°c/… ┆ 50.7   ┆ W/mK   │\n",
       "│ thermal conductivity (@ 0°c)    ┆ 51.9   ┆ W/mK   │\n",
       "└─────────────────────────────────┴────────┴────────┘"
      ]
     },
     "execution_count": 20,
     "metadata": {},
     "output_type": "execute_result"
    }
   ],
   "source": [
    "df_steel_properties = pl.DataFrame(dict_properties_mt.copy())\n",
    "df_steel_properties"
   ]
  },
  {
   "cell_type": "code",
   "execution_count": 18,
   "metadata": {},
   "outputs": [
    {
     "data": {
      "text/html": [
       "<div><style>\n",
       ".dataframe > thead > tr,\n",
       ".dataframe > tbody > tr {\n",
       "  text-align: right;\n",
       "  white-space: pre-wrap;\n",
       "}\n",
       "</style>\n",
       "<small>shape: (15, 3)</small><table border=\"1\" class=\"dataframe\"><thead><tr><th>property</th><th>metric</th><th>unit</th></tr><tr><td>str</td><td>str</td><td>str</td></tr></thead><tbody><tr><td>&quot;density (chemical composition …</td><td>&quot;7.845&quot;</td><td>&quot;g/cc&quot;</td></tr><tr><td>&quot;melting point&quot;</td><td>&quot;1521&quot;</td><td>&quot;°C&quot;</td></tr><tr><td>&quot;tensile strength&quot;</td><td>&quot;620&quot;</td><td>&quot;MPa&quot;</td></tr><tr><td>&quot;yield strength&quot;</td><td>&quot;415&quot;</td><td>&quot;MPa&quot;</td></tr><tr><td>&quot;bulk modulus (typical for stee…</td><td>&quot;140&quot;</td><td>&quot;GPa&quot;</td></tr><tr><td>&hellip;</td><td>&hellip;</td><td>&hellip;</td></tr><tr><td>&quot;izod impact (as rolled)&quot;</td><td>&quot;49&quot;</td><td>&quot;J&quot;</td></tr><tr><td>&quot;izod impact (normalized at 900…</td><td>&quot;65&quot;</td><td>&quot;J&quot;</td></tr><tr><td>&quot;thermal expansion co-efficient…</td><td>&quot;11.3&quot;</td><td>&quot;µm/m°C&quot;</td></tr><tr><td>&quot;thermal conductivity (@ 100°c/…</td><td>&quot;50.7&quot;</td><td>&quot;W/mK&quot;</td></tr><tr><td>&quot;thermal conductivity (@ 0°c)&quot;</td><td>&quot;51.9&quot;</td><td>&quot;W/mK&quot;</td></tr></tbody></table></div>"
      ],
      "text/plain": [
       "shape: (15, 3)\n",
       "┌─────────────────────────────────┬────────┬────────┐\n",
       "│ property                        ┆ metric ┆ unit   │\n",
       "│ ---                             ┆ ---    ┆ ---    │\n",
       "│ str                             ┆ str    ┆ str    │\n",
       "╞═════════════════════════════════╪════════╪════════╡\n",
       "│ density (chemical composition … ┆ 7.845  ┆ g/cc   │\n",
       "│ melting point                   ┆ 1521   ┆ °C     │\n",
       "│ tensile strength                ┆ 620    ┆ MPa    │\n",
       "│ yield strength                  ┆ 415    ┆ MPa    │\n",
       "│ bulk modulus (typical for stee… ┆ 140    ┆ GPa    │\n",
       "│ …                               ┆ …      ┆ …      │\n",
       "│ izod impact (as rolled)         ┆ 49     ┆ J      │\n",
       "│ izod impact (normalized at 900… ┆ 65     ┆ J      │\n",
       "│ thermal expansion co-efficient… ┆ 11.3   ┆ µm/m°C │\n",
       "│ thermal conductivity (@ 100°c/… ┆ 50.7   ┆ W/mK   │\n",
       "│ thermal conductivity (@ 0°c)    ┆ 51.9   ┆ W/mK   │\n",
       "└─────────────────────────────────┴────────┴────────┘"
      ]
     },
     "execution_count": 18,
     "metadata": {},
     "output_type": "execute_result"
    }
   ],
   "source": [
    "pl.DataFrame(properties_dict)"
   ]
  },
  {
   "cell_type": "code",
   "execution_count": 21,
   "metadata": {},
   "outputs": [
    {
     "data": {
      "text/plain": [
       "['density (chemical composition of 0.435% c, 0.69% mn, 0.20% si, annealed at 860°c (1580°f))',\n",
       " 'melting point',\n",
       " 'tensile strength',\n",
       " 'yield strength',\n",
       " 'bulk modulus (typical for steels)',\n",
       " 'shear modulus (typical for steels)',\n",
       " 'elastic modulus',\n",
       " 'elongation at break (in 50 mm)',\n",
       " 'reduction of area',\n",
       " 'izod impact (annealed at 790°c (1450°f))',\n",
       " 'izod impact (as rolled)',\n",
       " 'izod impact (normalized at 900°c (1650°f)',\n",
       " 'thermal expansion co-efficient (@ 20-100°c/68-212°f, composition of 0.40% c, 0.11% mn, 0.01% p, 0.03% s, 0.03% si, 0.03% cu)',\n",
       " 'thermal conductivity (@ 100°c/212°f)',\n",
       " 'thermal conductivity (@ 0°c)']"
      ]
     },
     "execution_count": 21,
     "metadata": {},
     "output_type": "execute_result"
    }
   ],
   "source": [
    "properties_dict['property']"
   ]
  },
  {
   "cell_type": "code",
   "execution_count": null,
   "metadata": {},
   "outputs": [],
   "source": []
  }
 ],
 "metadata": {
  "kernelspec": {
   "display_name": ".venv",
   "language": "python",
   "name": "python3"
  },
  "language_info": {
   "codemirror_mode": {
    "name": "ipython",
    "version": 3
   },
   "file_extension": ".py",
   "mimetype": "text/x-python",
   "name": "python",
   "nbconvert_exporter": "python",
   "pygments_lexer": "ipython3",
   "version": "3.12.6"
  }
 },
 "nbformat": 4,
 "nbformat_minor": 2
}
