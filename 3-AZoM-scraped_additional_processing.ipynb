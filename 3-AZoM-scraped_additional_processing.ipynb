{
 "cells": [
  {
   "cell_type": "markdown",
   "metadata": {},
   "source": [
    "# Continusing processing without Pint"
   ]
  },
  {
   "cell_type": "code",
   "execution_count": 14,
   "metadata": {},
   "outputs": [],
   "source": [
    "import polars as pl\n",
    "import numpy as np\n",
    "import pathlib\n",
    "import re"
   ]
  },
  {
   "cell_type": "code",
   "execution_count": 15,
   "metadata": {},
   "outputs": [
    {
     "name": "stdout",
     "output_type": "stream",
     "text": [
      "Path is projregexct current working directory to the project root\n"
     ]
    }
   ],
   "source": [
    "cwd = pathlib.Path.cwd()\n",
    "\n",
    "if cwd.name == 'Mild-Steel-Tempering':\n",
    "    print(\"Path is projregexct current working directory to the project root\")"
   ]
  },
  {
   "cell_type": "code",
   "execution_count": 16,
   "metadata": {},
   "outputs": [
    {
     "data": {
      "text/plain": [
       "PurePosixPath('/home/mox/Documents/coding_projects/bootcamp_local/Homeworks/Mild-Steel-Tempering/resources')"
      ]
     },
     "execution_count": 16,
     "metadata": {},
     "output_type": "execute_result"
    }
   ],
   "source": [
    "resources_path = pathlib.PurePath(pathlib.PurePath(cwd), 'resources')\n",
    "resources_path"
   ]
  },
  {
   "cell_type": "code",
   "execution_count": 17,
   "metadata": {},
   "outputs": [
    {
     "name": "stdout",
     "output_type": "stream",
     "text": [
      "Rows: 17\n",
      "Columns: 10\n",
      "$ steel         <str> 'AISI 1090', 'AISI-SAE 5140', 'AISI-SAE 4140', 'AISI-SAE 1045', 'AISI-SAE 1050', 'AISI-SAE 1035', 'AISI 6145', 'AISI-SAE 1038', 'AISI-SAE 5160', 'AISI 4640'\n",
      "$ density       <str> '7.85', '7.85', '7.85', '7.87', '7.85', '7.85', '7.75', '7.845', '7.85', '7.75'\n",
      "$ units_density <str> 'g/cm3', 'g/cm3', 'g/cm3', 'g/cm3', 'g/cm3', 'g/cm3', 'g/cm3', 'g/cm3', 'g/cm3', 'g/cm3'\n",
      "$ pr            <str> '0.27-0.30', '0.27-0.30', '0.27-0.30', '0.29', '0.27-0.30', '0.27-0.30', '0.27-030', '0.27-0.30', '0.27 – 0.30', '0.27-030'\n",
      "$ em            <str> '190-210', '190-210', '190-210', '200', '190-210', '190-210', '201-209', '190-210', '190-210', '201-209'\n",
      "$ em_unit       <str> 'GPa', 'GPa', 'GPa', 'GPa', 'GPa', 'GPa', 'GPa', 'GPa', 'GPa', 'GPa'\n",
      "$ ys            <i64> 540, 295, 415, 450, 580, 370, 1165, 485, 275, 1103\n",
      "$ ys_unit       <str> 'MPa', 'MPa', 'MPa', 'MPa', 'MPa', 'MPa', 'MPa', 'MPa', 'MPa', 'MPa'\n",
      "$ uts           <i64> 696, 570, 655, 585, 690, 585, 1213, 570, 724, 1276\n",
      "$ uts_unit      <str> 'MPa', 'MPa', 'MPa', 'MPa', 'MPa', 'MPa', 'MPa', 'MPa', 'MPa', 'MPa'\n",
      "\n"
     ]
    }
   ],
   "source": [
    "data_path = f\"{resources_path}/AZoM_scraped_properties.csv\"\n",
    "df_scraped = pl.read_csv(data_path)\n",
    "df_scraped.glimpse()"
   ]
  },
  {
   "cell_type": "code",
   "execution_count": 18,
   "metadata": {},
   "outputs": [
    {
     "data": {
      "text/html": [
       "<div><style>\n",
       ".dataframe > thead > tr,\n",
       ".dataframe > tbody > tr {\n",
       "  text-align: right;\n",
       "  white-space: pre-wrap;\n",
       "}\n",
       "</style>\n",
       "<small>shape: (2, 4)</small><table border=\"1\" class=\"dataframe\"><thead><tr><th>units_density</th><th>em_unit</th><th>ys_unit</th><th>uts_unit</th></tr><tr><td>str</td><td>str</td><td>str</td><td>str</td></tr></thead><tbody><tr><td>&quot;g/cc&quot;</td><td>&quot;GPa&quot;</td><td>&quot;MPa&quot;</td><td>&quot;MPa&quot;</td></tr><tr><td>&quot;g/cm3&quot;</td><td>&quot;GPa&quot;</td><td>&quot;MPa&quot;</td><td>&quot;MPa&quot;</td></tr></tbody></table></div>"
      ],
      "text/plain": [
       "shape: (2, 4)\n",
       "┌───────────────┬─────────┬─────────┬──────────┐\n",
       "│ units_density ┆ em_unit ┆ ys_unit ┆ uts_unit │\n",
       "│ ---           ┆ ---     ┆ ---     ┆ ---      │\n",
       "│ str           ┆ str     ┆ str     ┆ str      │\n",
       "╞═══════════════╪═════════╪═════════╪══════════╡\n",
       "│ g/cc          ┆ GPa     ┆ MPa     ┆ MPa      │\n",
       "│ g/cm3         ┆ GPa     ┆ MPa     ┆ MPa      │\n",
       "└───────────────┴─────────┴─────────┴──────────┘"
      ]
     },
     "execution_count": 18,
     "metadata": {},
     "output_type": "execute_result"
    }
   ],
   "source": [
    "df_scraped.select(['units_density', 'em_unit', \"ys_unit\", \"uts_unit\"]).unique()"
   ]
  },
  {
   "cell_type": "markdown",
   "metadata": {},
   "source": [
    "# Drop units columns are they are constant for each column\n",
    "\n",
    "Convert each column name to include the units"
   ]
  },
  {
   "cell_type": "markdown",
   "metadata": {},
   "source": [
    "All units in units_density are a 1:1 conversion with g/cm3\n",
    "\n",
    "g/mL (water) = g/cc = g/cm3 = grams per cubic centimeter"
   ]
  },
  {
   "cell_type": "code",
   "execution_count": 19,
   "metadata": {},
   "outputs": [
    {
     "name": "stdout",
     "output_type": "stream",
     "text": [
      "(17, 6)\n"
     ]
    },
    {
     "data": {
      "text/html": [
       "<div><style>\n",
       ".dataframe > thead > tr,\n",
       ".dataframe > tbody > tr {\n",
       "  text-align: right;\n",
       "  white-space: pre-wrap;\n",
       "}\n",
       "</style>\n",
       "<small>shape: (5, 6)</small><table border=\"1\" class=\"dataframe\"><thead><tr><th>steel</th><th>density_g_per_cm3</th><th>pr</th><th>em_GPa</th><th>ys_MPa</th><th>uts_MPa</th></tr><tr><td>str</td><td>str</td><td>str</td><td>str</td><td>i64</td><td>i64</td></tr></thead><tbody><tr><td>&quot;AISI 1090&quot;</td><td>&quot;7.85&quot;</td><td>&quot;0.27-0.30&quot;</td><td>&quot;190-210&quot;</td><td>540</td><td>696</td></tr><tr><td>&quot;AISI-SAE 5140&quot;</td><td>&quot;7.85&quot;</td><td>&quot;0.27-0.30&quot;</td><td>&quot;190-210&quot;</td><td>295</td><td>570</td></tr><tr><td>&quot;AISI-SAE 4140&quot;</td><td>&quot;7.85&quot;</td><td>&quot;0.27-0.30&quot;</td><td>&quot;190-210&quot;</td><td>415</td><td>655</td></tr><tr><td>&quot;AISI-SAE 1045&quot;</td><td>&quot;7.87&quot;</td><td>&quot;0.29&quot;</td><td>&quot;200&quot;</td><td>450</td><td>585</td></tr><tr><td>&quot;AISI-SAE 1050&quot;</td><td>&quot;7.85&quot;</td><td>&quot;0.27-0.30&quot;</td><td>&quot;190-210&quot;</td><td>580</td><td>690</td></tr></tbody></table></div>"
      ],
      "text/plain": [
       "shape: (5, 6)\n",
       "┌───────────────┬───────────────────┬───────────┬─────────┬────────┬─────────┐\n",
       "│ steel         ┆ density_g_per_cm3 ┆ pr        ┆ em_GPa  ┆ ys_MPa ┆ uts_MPa │\n",
       "│ ---           ┆ ---               ┆ ---       ┆ ---     ┆ ---    ┆ ---     │\n",
       "│ str           ┆ str               ┆ str       ┆ str     ┆ i64    ┆ i64     │\n",
       "╞═══════════════╪═══════════════════╪═══════════╪═════════╪════════╪═════════╡\n",
       "│ AISI 1090     ┆ 7.85              ┆ 0.27-0.30 ┆ 190-210 ┆ 540    ┆ 696     │\n",
       "│ AISI-SAE 5140 ┆ 7.85              ┆ 0.27-0.30 ┆ 190-210 ┆ 295    ┆ 570     │\n",
       "│ AISI-SAE 4140 ┆ 7.85              ┆ 0.27-0.30 ┆ 190-210 ┆ 415    ┆ 655     │\n",
       "│ AISI-SAE 1045 ┆ 7.87              ┆ 0.29      ┆ 200     ┆ 450    ┆ 585     │\n",
       "│ AISI-SAE 1050 ┆ 7.85              ┆ 0.27-0.30 ┆ 190-210 ┆ 580    ┆ 690     │\n",
       "└───────────────┴───────────────────┴───────────┴─────────┴────────┴─────────┘"
      ]
     },
     "execution_count": 19,
     "metadata": {},
     "output_type": "execute_result"
    }
   ],
   "source": [
    "df_scraped_unit_header = df_scraped.select(['steel', \n",
    "                                            'density', \n",
    "                                            'pr', \n",
    "                                            'em', \n",
    "                                            'ys',\n",
    "                                            'uts']).rename({'density' : 'density_g_per_cm3',\n",
    "                                                                        'em' : 'em_GPa',\n",
    "                                                                        'ys' : 'ys_MPa',\n",
    "                                                                        'uts' : 'uts_MPa'})\n",
    "\n",
    "print(df_scraped_unit_header.shape)    \n",
    "df_scraped_unit_header.head()"
   ]
  },
  {
   "cell_type": "code",
   "execution_count": 20,
   "metadata": {},
   "outputs": [
    {
     "data": {
      "text/html": [
       "<div><style>\n",
       ".dataframe > thead > tr,\n",
       ".dataframe > tbody > tr {\n",
       "  text-align: right;\n",
       "  white-space: pre-wrap;\n",
       "}\n",
       "</style>\n",
       "<small>shape: (9, 7)</small><table border=\"1\" class=\"dataframe\"><thead><tr><th>statistic</th><th>steel</th><th>density_g_per_cm3</th><th>pr</th><th>em_GPa</th><th>ys_MPa</th><th>uts_MPa</th></tr><tr><td>str</td><td>str</td><td>str</td><td>str</td><td>str</td><td>f64</td><td>f64</td></tr></thead><tbody><tr><td>&quot;count&quot;</td><td>&quot;17&quot;</td><td>&quot;17&quot;</td><td>&quot;17&quot;</td><td>&quot;17&quot;</td><td>17.0</td><td>17.0</td></tr><tr><td>&quot;null_count&quot;</td><td>&quot;0&quot;</td><td>&quot;0&quot;</td><td>&quot;0&quot;</td><td>&quot;0&quot;</td><td>0.0</td><td>0.0</td></tr><tr><td>&quot;mean&quot;</td><td>null</td><td>null</td><td>null</td><td>null</td><td>526.058824</td><td>698.176471</td></tr><tr><td>&quot;std&quot;</td><td>null</td><td>null</td><td>null</td><td>null</td><td>245.556122</td><td>217.899127</td></tr><tr><td>&quot;min&quot;</td><td>&quot;AISI 1030&quot;</td><td>&quot;7.7-8.03&quot;</td><td>&quot;0.27 – 0.30&quot;</td><td>&quot;190-210&quot;</td><td>275.0</td><td>515.0</td></tr><tr><td>&quot;25%&quot;</td><td>null</td><td>null</td><td>null</td><td>null</td><td>415.0</td><td>570.0</td></tr><tr><td>&quot;50%&quot;</td><td>null</td><td>null</td><td>null</td><td>null</td><td>470.0</td><td>655.0</td></tr><tr><td>&quot;75%&quot;</td><td>null</td><td>null</td><td>null</td><td>null</td><td>540.0</td><td>696.0</td></tr><tr><td>&quot;max&quot;</td><td>&quot;AISI-SAE 5160&quot;</td><td>&quot;7.87&quot;</td><td>&quot;0.29&quot;</td><td>&quot;201-209&quot;</td><td>1165.0</td><td>1276.0</td></tr></tbody></table></div>"
      ],
      "text/plain": [
       "shape: (9, 7)\n",
       "┌────────────┬───────────────┬───────────────────┬─────────────┬─────────┬────────────┬────────────┐\n",
       "│ statistic  ┆ steel         ┆ density_g_per_cm3 ┆ pr          ┆ em_GPa  ┆ ys_MPa     ┆ uts_MPa    │\n",
       "│ ---        ┆ ---           ┆ ---               ┆ ---         ┆ ---     ┆ ---        ┆ ---        │\n",
       "│ str        ┆ str           ┆ str               ┆ str         ┆ str     ┆ f64        ┆ f64        │\n",
       "╞════════════╪═══════════════╪═══════════════════╪═════════════╪═════════╪════════════╪════════════╡\n",
       "│ count      ┆ 17            ┆ 17                ┆ 17          ┆ 17      ┆ 17.0       ┆ 17.0       │\n",
       "│ null_count ┆ 0             ┆ 0                 ┆ 0           ┆ 0       ┆ 0.0        ┆ 0.0        │\n",
       "│ mean       ┆ null          ┆ null              ┆ null        ┆ null    ┆ 526.058824 ┆ 698.176471 │\n",
       "│ std        ┆ null          ┆ null              ┆ null        ┆ null    ┆ 245.556122 ┆ 217.899127 │\n",
       "│ min        ┆ AISI 1030     ┆ 7.7-8.03          ┆ 0.27 – 0.30 ┆ 190-210 ┆ 275.0      ┆ 515.0      │\n",
       "│ 25%        ┆ null          ┆ null              ┆ null        ┆ null    ┆ 415.0      ┆ 570.0      │\n",
       "│ 50%        ┆ null          ┆ null              ┆ null        ┆ null    ┆ 470.0      ┆ 655.0      │\n",
       "│ 75%        ┆ null          ┆ null              ┆ null        ┆ null    ┆ 540.0      ┆ 696.0      │\n",
       "│ max        ┆ AISI-SAE 5160 ┆ 7.87              ┆ 0.29        ┆ 201-209 ┆ 1165.0     ┆ 1276.0     │\n",
       "└────────────┴───────────────┴───────────────────┴─────────────┴─────────┴────────────┴────────────┘"
      ]
     },
     "execution_count": 20,
     "metadata": {},
     "output_type": "execute_result"
    }
   ],
   "source": [
    "df_scraped_unit_header.describe()"
   ]
  },
  {
   "cell_type": "markdown",
   "metadata": {},
   "source": [
    "### Many values have leading zero but no decimal resulting in parsing as whole number not decimal value"
   ]
  },
  {
   "cell_type": "code",
   "execution_count": 21,
   "metadata": {},
   "outputs": [],
   "source": [
    "def if_no_decimal_point(num):\n",
    "    #If leading 0 followed by number then replace leading 0 with \"0.\"\n",
    "    regex = r\"^0\\d\"\n",
    "    if re.search(regex, num):\n",
    "        #replace the \n",
    "        num = re.sub(\"^0\", \"0.\", num)\n",
    "    return np.float64(num)\n",
    "\n",
    "def strip_string(string):\n",
    "    return string.strip()\n"
   ]
  },
  {
   "cell_type": "code",
   "execution_count": 22,
   "metadata": {},
   "outputs": [
    {
     "name": "stderr",
     "output_type": "stream",
     "text": [
      "/tmp/ipykernel_90183/1643061001.py:4: MapWithoutReturnDtypeWarning: Calling `map_elements` without specifying `return_dtype` can lead to unpredictable results. Specify `return_dtype` to silence this warning.\n",
      "  s_numeric_l = s_split.map_elements(lambda x: list(map(if_no_decimal_point, x)))\n"
     ]
    },
    {
     "data": {
      "text/html": [
       "<div><style>\n",
       ".dataframe > thead > tr,\n",
       ".dataframe > tbody > tr {\n",
       "  text-align: right;\n",
       "  white-space: pre-wrap;\n",
       "}\n",
       "</style>\n",
       "<small>shape: (17, 6)</small><table border=\"1\" class=\"dataframe\"><thead><tr><th>steel</th><th>density_g_per_cm3</th><th>pr</th><th>em_GPa</th><th>ys_MPa</th><th>uts_MPa</th></tr><tr><td>str</td><td>f64</td><td>str</td><td>str</td><td>i64</td><td>i64</td></tr></thead><tbody><tr><td>&quot;AISI 1090&quot;</td><td>7.85</td><td>&quot;0.27-0.30&quot;</td><td>&quot;190-210&quot;</td><td>540</td><td>696</td></tr><tr><td>&quot;AISI-SAE 5140&quot;</td><td>7.85</td><td>&quot;0.27-0.30&quot;</td><td>&quot;190-210&quot;</td><td>295</td><td>570</td></tr><tr><td>&quot;AISI-SAE 4140&quot;</td><td>7.85</td><td>&quot;0.27-0.30&quot;</td><td>&quot;190-210&quot;</td><td>415</td><td>655</td></tr><tr><td>&quot;AISI-SAE 1045&quot;</td><td>7.87</td><td>&quot;0.29&quot;</td><td>&quot;200&quot;</td><td>450</td><td>585</td></tr><tr><td>&quot;AISI-SAE 1050&quot;</td><td>7.85</td><td>&quot;0.27-0.30&quot;</td><td>&quot;190-210&quot;</td><td>580</td><td>690</td></tr><tr><td>&hellip;</td><td>&hellip;</td><td>&hellip;</td><td>&hellip;</td><td>&hellip;</td><td>&hellip;</td></tr><tr><td>&quot;AISI 1074 Carbon Steel&quot;</td><td>7.865</td><td>&quot;0.27-0.30&quot;</td><td>&quot;190-210&quot;</td><td>505</td><td>650</td></tr><tr><td>&quot;AISI-SAE 4340&quot;</td><td>7.85</td><td>&quot;0.27-0.30&quot;</td><td>&quot;190-210&quot;</td><td>470</td><td>745</td></tr><tr><td>&quot;AISI-SAE 4027&quot;</td><td>7.85</td><td>&quot;0.27-0.30&quot;</td><td>&quot;190-210&quot;</td><td>325</td><td>515</td></tr><tr><td>&quot;AISI-SAE 1030&quot;</td><td>7.85</td><td>&quot;0.27-0.30&quot;</td><td>&quot;190-210&quot;</td><td>440</td><td>525</td></tr><tr><td>&quot;AISI 1030&quot;</td><td>7.85</td><td>&quot;0.27-0.30&quot;</td><td>&quot;190-210&quot;</td><td>440</td><td>525</td></tr></tbody></table></div>"
      ],
      "text/plain": [
       "shape: (17, 6)\n",
       "┌────────────────────────┬───────────────────┬───────────┬─────────┬────────┬─────────┐\n",
       "│ steel                  ┆ density_g_per_cm3 ┆ pr        ┆ em_GPa  ┆ ys_MPa ┆ uts_MPa │\n",
       "│ ---                    ┆ ---               ┆ ---       ┆ ---     ┆ ---    ┆ ---     │\n",
       "│ str                    ┆ f64               ┆ str       ┆ str     ┆ i64    ┆ i64     │\n",
       "╞════════════════════════╪═══════════════════╪═══════════╪═════════╪════════╪═════════╡\n",
       "│ AISI 1090              ┆ 7.85              ┆ 0.27-0.30 ┆ 190-210 ┆ 540    ┆ 696     │\n",
       "│ AISI-SAE 5140          ┆ 7.85              ┆ 0.27-0.30 ┆ 190-210 ┆ 295    ┆ 570     │\n",
       "│ AISI-SAE 4140          ┆ 7.85              ┆ 0.27-0.30 ┆ 190-210 ┆ 415    ┆ 655     │\n",
       "│ AISI-SAE 1045          ┆ 7.87              ┆ 0.29      ┆ 200     ┆ 450    ┆ 585     │\n",
       "│ AISI-SAE 1050          ┆ 7.85              ┆ 0.27-0.30 ┆ 190-210 ┆ 580    ┆ 690     │\n",
       "│ …                      ┆ …                 ┆ …         ┆ …       ┆ …      ┆ …       │\n",
       "│ AISI 1074 Carbon Steel ┆ 7.865             ┆ 0.27-0.30 ┆ 190-210 ┆ 505    ┆ 650     │\n",
       "│ AISI-SAE 4340          ┆ 7.85              ┆ 0.27-0.30 ┆ 190-210 ┆ 470    ┆ 745     │\n",
       "│ AISI-SAE 4027          ┆ 7.85              ┆ 0.27-0.30 ┆ 190-210 ┆ 325    ┆ 515     │\n",
       "│ AISI-SAE 1030          ┆ 7.85              ┆ 0.27-0.30 ┆ 190-210 ┆ 440    ┆ 525     │\n",
       "│ AISI 1030              ┆ 7.85              ┆ 0.27-0.30 ┆ 190-210 ┆ 440    ┆ 525     │\n",
       "└────────────────────────┴───────────────────┴───────────┴─────────┴────────┴─────────┘"
      ]
     },
     "execution_count": 22,
     "metadata": {},
     "output_type": "execute_result"
    }
   ],
   "source": [
    "#Clean density column\n",
    "df_scraped_clean = df_scraped_unit_header.clone()\n",
    "s_split = df_scraped_clean['density_g_per_cm3'].str.split('-')\n",
    "s_numeric_l = s_split.map_elements(lambda x: list(map(if_no_decimal_point, x)))\n",
    "s_mean_d = s_numeric_l.list.mean()\n",
    "\n",
    "df_scraped_clean.with_columns(density_g_per_cm3 = s_meand)"
   ]
  },
  {
   "cell_type": "code",
   "execution_count": 23,
   "metadata": {},
   "outputs": [
    {
     "name": "stderr",
     "output_type": "stream",
     "text": [
      "/tmp/ipykernel_90183/304290526.py:5: MapWithoutReturnDtypeWarning: Calling `map_elements` without specifying `return_dtype` can lead to unpredictable results. Specify `return_dtype` to silence this warning.\n",
      "  s_numeric_l = s_split.map_elements(lambda x: list(map(if_no_decimal_point, x)))\n"
     ]
    }
   ],
   "source": [
    "\n",
    "# AISI-SAE 5160 and AISI-SAE 6150 use a different dash than the others for the pr range\n",
    "# Discovered when 2 nulls showed up after processing\n",
    "s_same_dashes = df_scraped_clean[\"pr\"].str.replace('–', '-')\n",
    "s_split = s_same_dashes.str.split('-')\n",
    "s_numeric_l = s_split.map_elements(lambda x: list(map(if_no_decimal_point, x)))\n",
    "s_mean_pr = s_numeric_l.list.mean()\n"
   ]
  },
  {
   "cell_type": "code",
   "execution_count": 24,
   "metadata": {},
   "outputs": [
    {
     "name": "stderr",
     "output_type": "stream",
     "text": [
      "/tmp/ipykernel_90183/1369062398.py:3: MapWithoutReturnDtypeWarning: Calling `map_elements` without specifying `return_dtype` can lead to unpredictable results. Specify `return_dtype` to silence this warning.\n",
      "  s_numeric_l = s_split.map_elements(lambda x: list(map(if_no_decimal_point, x)))\n"
     ]
    }
   ],
   "source": [
    "s_same_dashes = df_scraped_clean[\"em_GPa\"].str.replace('–', '-')\n",
    "s_split = s_same_dashes.str.split('-')\n",
    "s_numeric_l = s_split.map_elements(lambda x: list(map(if_no_decimal_point, x)))\n",
    "s_mean_em = s_numeric_l.list.mean()"
   ]
  },
  {
   "cell_type": "code",
   "execution_count": 26,
   "metadata": {},
   "outputs": [
    {
     "data": {
      "text/html": [
       "<div><style>\n",
       ".dataframe > thead > tr,\n",
       ".dataframe > tbody > tr {\n",
       "  text-align: right;\n",
       "  white-space: pre-wrap;\n",
       "}\n",
       "</style>\n",
       "<small>shape: (9, 7)</small><table border=\"1\" class=\"dataframe\"><thead><tr><th>statistic</th><th>steel</th><th>density_g_per_cm3</th><th>poissons_ratio</th><th>elastic_modulus_GPa</th><th>yield_strength_MPa</th><th>ultimate_strength_MPA</th></tr><tr><td>str</td><td>str</td><td>f64</td><td>f64</td><td>f64</td><td>f64</td><td>f64</td></tr></thead><tbody><tr><td>&quot;count&quot;</td><td>&quot;17&quot;</td><td>17.0</td><td>17.0</td><td>17.0</td><td>17.0</td><td>17.0</td></tr><tr><td>&quot;null_count&quot;</td><td>&quot;0&quot;</td><td>0.0</td><td>0.0</td><td>0.0</td><td>0.0</td><td>0.0</td></tr><tr><td>&quot;mean&quot;</td><td>null</td><td>7.84</td><td>0.285294</td><td>200.588235</td><td>526.058824</td><td>698.176471</td></tr><tr><td>&quot;std&quot;</td><td>null</td><td>0.034415</td><td>0.001213</td><td>1.660528</td><td>245.556122</td><td>217.899127</td></tr><tr><td>&quot;min&quot;</td><td>&quot;AISI 1030&quot;</td><td>7.75</td><td>0.285</td><td>200.0</td><td>275.0</td><td>515.0</td></tr><tr><td>&quot;25%&quot;</td><td>null</td><td>7.85</td><td>0.285</td><td>200.0</td><td>415.0</td><td>570.0</td></tr><tr><td>&quot;50%&quot;</td><td>null</td><td>7.85</td><td>0.285</td><td>200.0</td><td>470.0</td><td>655.0</td></tr><tr><td>&quot;75%&quot;</td><td>null</td><td>7.85</td><td>0.285</td><td>200.0</td><td>540.0</td><td>696.0</td></tr><tr><td>&quot;max&quot;</td><td>&quot;AISI-SAE 5160&quot;</td><td>7.87</td><td>0.29</td><td>205.0</td><td>1165.0</td><td>1276.0</td></tr></tbody></table></div>"
      ],
      "text/plain": [
       "shape: (9, 7)\n",
       "┌────────────┬──────────────┬──────────────┬─────────────┬─────────────┬─────────────┬─────────────┐\n",
       "│ statistic  ┆ steel        ┆ density_g_pe ┆ poissons_ra ┆ elastic_mod ┆ yield_stren ┆ ultimate_st │\n",
       "│ ---        ┆ ---          ┆ r_cm3        ┆ tio         ┆ ulus_GPa    ┆ gth_MPa     ┆ rength_MPA  │\n",
       "│ str        ┆ str          ┆ ---          ┆ ---         ┆ ---         ┆ ---         ┆ ---         │\n",
       "│            ┆              ┆ f64          ┆ f64         ┆ f64         ┆ f64         ┆ f64         │\n",
       "╞════════════╪══════════════╪══════════════╪═════════════╪═════════════╪═════════════╪═════════════╡\n",
       "│ count      ┆ 17           ┆ 17.0         ┆ 17.0        ┆ 17.0        ┆ 17.0        ┆ 17.0        │\n",
       "│ null_count ┆ 0            ┆ 0.0          ┆ 0.0         ┆ 0.0         ┆ 0.0         ┆ 0.0         │\n",
       "│ mean       ┆ null         ┆ 7.84         ┆ 0.285294    ┆ 200.588235  ┆ 526.058824  ┆ 698.176471  │\n",
       "│ std        ┆ null         ┆ 0.034415     ┆ 0.001213    ┆ 1.660528    ┆ 245.556122  ┆ 217.899127  │\n",
       "│ min        ┆ AISI 1030    ┆ 7.75         ┆ 0.285       ┆ 200.0       ┆ 275.0       ┆ 515.0       │\n",
       "│ 25%        ┆ null         ┆ 7.85         ┆ 0.285       ┆ 200.0       ┆ 415.0       ┆ 570.0       │\n",
       "│ 50%        ┆ null         ┆ 7.85         ┆ 0.285       ┆ 200.0       ┆ 470.0       ┆ 655.0       │\n",
       "│ 75%        ┆ null         ┆ 7.85         ┆ 0.285       ┆ 200.0       ┆ 540.0       ┆ 696.0       │\n",
       "│ max        ┆ AISI-SAE     ┆ 7.87         ┆ 0.29        ┆ 205.0       ┆ 1165.0      ┆ 1276.0      │\n",
       "│            ┆ 5160         ┆              ┆             ┆             ┆             ┆             │\n",
       "└────────────┴──────────────┴──────────────┴─────────────┴─────────────┴─────────────┴─────────────┘"
      ]
     },
     "execution_count": 26,
     "metadata": {},
     "output_type": "execute_result"
    }
   ],
   "source": [
    "\n",
    "df_scraped_clean = df_scraped_clean.with_columns(density_g_per_cm3 = s_mean_d,\n",
    "                                                 poissons_ratio = s_mean_pr, \n",
    "                                                 elastic_modulus_GPa = s_mean_em,\n",
    "                                                 yield_strength_MPa = df_scraped_unit_header['ys_MPa'],\n",
    "                                                 ultimate_strength_MPA = df_scraped_unit_header['uts_MPa'])\\\n",
    "                                                    .select(['steel', \n",
    "                                                             \"density_g_per_cm3\", \n",
    "                                                             \"poissons_ratio\" , \n",
    "                                                             \"elastic_modulus_GPa\", \n",
    "                                                             \"yield_strength_MPa\", \n",
    "                                                             \"ultimate_strength_MPA\"])\n",
    "df_scraped_clean.describe()"
   ]
  },
  {
   "cell_type": "code",
   "execution_count": 27,
   "metadata": {},
   "outputs": [],
   "source": [
    "df_scraped_clean.write_csv(f'{resources_path}/AZoM_scraped_properties.csv')"
   ]
  },
  {
   "cell_type": "markdown",
   "metadata": {},
   "source": [
    "# Iterations on regex"
   ]
  },
  {
   "cell_type": "code",
   "execution_count": 187,
   "metadata": {},
   "outputs": [
    {
     "name": "stderr",
     "output_type": "stream",
     "text": [
      "/tmp/ipykernel_26553/2808776221.py:11: MapWithoutReturnDtypeWarning: Calling `map_elements` without specifying `return_dtype` can lead to unpredictable results. Specify `return_dtype` to silence this warning.\n",
      "  s_numeric_l = s_split.map_elements(lambda x: list(map(if_no_decimal_point, x)))\n"
     ]
    }
   ],
   "source": [
    "s_split = df_scraped_unit_header['poissons_ratio'].str.split('-')\n",
    "\n",
    "def if_no_decimal_point(num):\n",
    "    #If leading 0 followed by number then replace leading 0 with \"0.\"\n",
    "    regex = r\"^0\\d\"\n",
    "    if re.search(regex, num):\n",
    "        #replace the \n",
    "        num = re.sub(\"^0\", \"0.\", num)\n",
    "    return np.float64(num)\n",
    "\n",
    "s_numeric_l = s_split.map_elements(lambda x: list(map(if_no_decimal_point, x)))\n"
   ]
  },
  {
   "cell_type": "code",
   "execution_count": 174,
   "metadata": {},
   "outputs": [
    {
     "data": {
      "text/plain": [
       "[np.float64(0.3), np.float64(0.4), np.float64(0.5), np.float64(13.0)]"
      ]
     },
     "execution_count": 174,
     "metadata": {},
     "output_type": "execute_result"
    }
   ],
   "source": [
    "def if_no_decimal(num):\n",
    "    #If leading 0 followed by number then replace leading 0 with \"0.\"\n",
    "    regex = r\"^0\\d\"\n",
    "    if re.search(regex, num):\n",
    "        #replace the \n",
    "        num = re.sub(\"^0\", \"0.\", num)\n",
    "    return np.float64(num)\n",
    "\n",
    "lst = [\"030\",\"0.40\",\".5\",\"13\"]\n",
    "\n",
    "list(map(if_no_decimal, lst))"
   ]
  },
  {
   "cell_type": "code",
   "execution_count": 168,
   "metadata": {},
   "outputs": [
    {
     "name": "stdout",
     "output_type": "stream",
     "text": [
      "<re.Match object; span=(0, 2), match='04'>\n",
      "None\n",
      "None\n",
      "<re.Match object; span=(0, 2), match='04'>\n",
      "None\n"
     ]
    }
   ],
   "source": [
    "regex = r\"^0\\d\"\n",
    "\n",
    "for string in [\"040\",\"0.40\",\"40\",\"04\",\".4\"]:\n",
    "    print(re.search(regex, string))\n"
   ]
  },
  {
   "cell_type": "code",
   "execution_count": null,
   "metadata": {},
   "outputs": [],
   "source": []
  },
  {
   "cell_type": "code",
   "execution_count": null,
   "metadata": {},
   "outputs": [],
   "source": []
  },
  {
   "cell_type": "markdown",
   "metadata": {},
   "source": [
    "# Pint does not functionn as desired for units with a denominator and the documentation is out of date. \n",
    "\n",
    "Scrapping that section of the work. Units can be done manually"
   ]
  },
  {
   "cell_type": "code",
   "execution_count": 45,
   "metadata": {},
   "outputs": [
    {
     "name": "stdout",
     "output_type": "stream",
     "text": [
      "Requirement already satisfied: pandas in ./.venv/lib/python3.12/site-packages (2.2.3)\n",
      "Collecting pint_pandas\n",
      "  Downloading Pint_Pandas-0.6.2-py3-none-any.whl.metadata (3.5 kB)\n",
      "Requirement already satisfied: numpy>=1.26.0 in ./.venv/lib/python3.12/site-packages (from pandas) (2.1.1)\n",
      "Requirement already satisfied: python-dateutil>=2.8.2 in ./.venv/lib/python3.12/site-packages (from pandas) (2.9.0.post0)\n",
      "Requirement already satisfied: pytz>=2020.1 in ./.venv/lib/python3.12/site-packages (from pandas) (2024.2)\n",
      "Requirement already satisfied: tzdata>=2022.7 in ./.venv/lib/python3.12/site-packages (from pandas) (2024.2)\n",
      "Requirement already satisfied: pint>=0.24 in ./.venv/lib/python3.12/site-packages (from pint_pandas) (0.24.3)\n",
      "Requirement already satisfied: appdirs>=1.4.4 in ./.venv/lib/python3.12/site-packages (from pint>=0.24->pint_pandas) (1.4.4)\n",
      "Requirement already satisfied: typing-extensions in ./.venv/lib/python3.12/site-packages (from pint>=0.24->pint_pandas) (4.12.2)\n",
      "Requirement already satisfied: flexcache>=0.3 in ./.venv/lib/python3.12/site-packages (from pint>=0.24->pint_pandas) (0.3)\n",
      "Requirement already satisfied: flexparser>=0.3 in ./.venv/lib/python3.12/site-packages (from pint>=0.24->pint_pandas) (0.3.1)\n",
      "Requirement already satisfied: six>=1.5 in ./.venv/lib/python3.12/site-packages (from python-dateutil>=2.8.2->pandas) (1.16.0)\n",
      "Downloading Pint_Pandas-0.6.2-py3-none-any.whl (27 kB)\n",
      "Installing collected packages: pint_pandas\n",
      "Successfully installed pint_pandas-0.6.2\n"
     ]
    }
   ],
   "source": [
    "!pip install pandas pint_pandas"
   ]
  },
  {
   "cell_type": "code",
   "execution_count": 10,
   "metadata": {},
   "outputs": [],
   "source": [
    "import pathlib"
   ]
  },
  {
   "cell_type": "code",
   "execution_count": 92,
   "metadata": {},
   "outputs": [
    {
     "name": "stdout",
     "output_type": "stream",
     "text": [
      "{'numpy': '2.1.1', 'pandas': '2.2.3', 'pint': '0.24.3', 'pint_pandas': '0.6.2'}\n"
     ]
    }
   ],
   "source": [
    "# New imports\n",
    "import pandas as pd\n",
    "import pint\n",
    "import pint_pandas\n",
    "pint_pandas.show_versions()\n",
    "ureg = pint.UnitRegistry()\n",
    "pint.UnitRegistry().default_system = 'cgs'"
   ]
  },
  {
   "cell_type": "code",
   "execution_count": 11,
   "metadata": {},
   "outputs": [
    {
     "name": "stdout",
     "output_type": "stream",
     "text": [
      "Path is project root\n"
     ]
    }
   ],
   "source": [
    "cwd = pathlib.Path.cwd()\n",
    "\n",
    "if cwd.name == 'Mild-Steel-Tempering':\n",
    "    print(\"Path is project root\")\n",
    "else:\n",
    "    print(\"Please correct current working directory to the project root\")"
   ]
  },
  {
   "cell_type": "code",
   "execution_count": 12,
   "metadata": {},
   "outputs": [
    {
     "data": {
      "text/plain": [
       "PurePosixPath('/home/mox/Documents/coding_projects/bootcamp_local/Homeworks/Mild-Steel-Tempering/resources')"
      ]
     },
     "execution_count": 12,
     "metadata": {},
     "output_type": "execute_result"
    }
   ],
   "source": [
    "resources_path = pathlib.PurePath(pathlib.PurePath(cwd), 'resources')\n",
    "resources_path"
   ]
  },
  {
   "cell_type": "code",
   "execution_count": 16,
   "metadata": {},
   "outputs": [
    {
     "name": "stdout",
     "output_type": "stream",
     "text": [
      "<class 'pandas.core.frame.DataFrame'>\n",
      "RangeIndex: 28 entries, 0 to 27\n",
      "Data columns (total 6 columns):\n",
      " #   Column           Non-Null Count  Dtype  \n",
      "---  ------           --------------  -----  \n",
      " 0   steel            28 non-null     object \n",
      " 1   density          28 non-null     object \n",
      " 2   units_density    28 non-null     object \n",
      " 3   poissons_ratio   28 non-null     object \n",
      " 4   elastic_modulus  28 non-null     float64\n",
      " 5   units_em         28 non-null     object \n",
      "dtypes: float64(1), object(5)\n",
      "memory usage: 1.4+ KB\n"
     ]
    }
   ],
   "source": [
    "data_path = f\"{resources_path}/scraped_properties.csv\"\n",
    "df_data = pd.read_csv(data_path)\n",
    "df_data.info()"
   ]
  },
  {
   "cell_type": "code",
   "execution_count": 19,
   "metadata": {},
   "outputs": [
    {
     "data": {
      "text/plain": [
       "array(['g/cm3', 'g/cc', 'g/'], dtype=object)"
      ]
     },
     "execution_count": 19,
     "metadata": {},
     "output_type": "execute_result"
    }
   ],
   "source": [
    "df_data['units_density'].unique()"
   ]
  },
  {
   "cell_type": "code",
   "execution_count": 20,
   "metadata": {},
   "outputs": [
    {
     "data": {
      "text/plain": [
       "array(['g/cm3'], dtype=object)"
      ]
     },
     "execution_count": 20,
     "metadata": {},
     "output_type": "execute_result"
    }
   ],
   "source": [
    "df_data['units_em'].unique()"
   ]
  },
  {
   "cell_type": "markdown",
   "metadata": {},
   "source": [
    "# Clean units\n",
    "\n",
    "Unnecessary step all units are variations of grams per cubic centimeter\n",
    "\n",
    "This step is included to provide a guideline on how to unify units if there were different scales or to conversions to be done\n",
    "\n",
    "## pint can not be used for unit type conversion in polars. \n",
    "\n",
    "Pandas must be used. "
   ]
  },
  {
   "cell_type": "markdown",
   "metadata": {},
   "source": [
    "All units in units_density are a 1:1 conversion with g/cm3\n",
    "\n",
    "g/mL (water) = g/cc = g/cm3 = grams per cubic centimeter"
   ]
  },
  {
   "cell_type": "code",
   "execution_count": 156,
   "metadata": {},
   "outputs": [],
   "source": [
    "# pint does not recognize cm3 a a unit. cc is used. could define cm3 as cc\n",
    "df_data['units_density'] = \"g/cm3\""
   ]
  },
  {
   "cell_type": "code",
   "execution_count": 157,
   "metadata": {},
   "outputs": [
    {
     "data": {
      "text/plain": [
       "array(['g/cm3'], dtype=object)"
      ]
     },
     "execution_count": 157,
     "metadata": {},
     "output_type": "execute_result"
    }
   ],
   "source": [
    "df_data['units_density'].unique()"
   ]
  },
  {
   "cell_type": "code",
   "execution_count": 158,
   "metadata": {},
   "outputs": [
    {
     "data": {
      "text/html": [
       "gram/cubic_centimeter"
      ],
      "text/latex": [
       "$\\frac{\\mathrm{gram}}{\\mathrm{cubic\\_centimeter}}$"
      ],
      "text/plain": [
       "<Unit('gram / cubic_centimeter')>"
      ]
     },
     "execution_count": 158,
     "metadata": {},
     "output_type": "execute_result"
    }
   ],
   "source": [
    "g_per_cc = ureg.g / ureg.cc\n",
    "g_per_cc"
   ]
  },
  {
   "cell_type": "code",
   "execution_count": 99,
   "metadata": {},
   "outputs": [],
   "source": [
    "ureg.define('density = g / cc')"
   ]
  },
  {
   "cell_type": "code",
   "execution_count": 100,
   "metadata": {},
   "outputs": [
    {
     "ename": "UndefinedUnitError",
     "evalue": "'density' is not defined in the unit registry",
     "output_type": "error",
     "traceback": [
      "\u001b[0;31m---------------------------------------------------------------------------\u001b[0m",
      "\u001b[0;31mUndefinedUnitError\u001b[0m                        Traceback (most recent call last)",
      "Cell \u001b[0;32mIn[100], line 1\u001b[0m\n\u001b[0;32m----> 1\u001b[0m pint_density \u001b[38;5;241m=\u001b[39m \u001b[43mdf_data\u001b[49m\u001b[43m[\u001b[49m\u001b[38;5;124;43m'\u001b[39;49m\u001b[38;5;124;43mdensity\u001b[39;49m\u001b[38;5;124;43m'\u001b[39;49m\u001b[43m]\u001b[49m\u001b[38;5;241;43m.\u001b[39;49m\u001b[43mastype\u001b[49m\u001b[43m(\u001b[49m\u001b[38;5;124;43m'\u001b[39;49m\u001b[38;5;124;43mpint[density]\u001b[39;49m\u001b[38;5;124;43m'\u001b[39;49m\u001b[43m)\u001b[49m\n\u001b[1;32m      2\u001b[0m pint_density\n",
      "File \u001b[0;32m~/Documents/coding_projects/bootcamp_local/Homeworks/Mild-Steel-Tempering/.venv/lib/python3.12/site-packages/pandas/core/generic.py:6628\u001b[0m, in \u001b[0;36mNDFrame.astype\u001b[0;34m(self, dtype, copy, errors)\u001b[0m\n\u001b[1;32m   6625\u001b[0m                 \u001b[38;5;28;01mraise\u001b[39;00m\n\u001b[1;32m   6626\u001b[0m         results\u001b[38;5;241m.\u001b[39mappend(res_col)\n\u001b[0;32m-> 6628\u001b[0m \u001b[38;5;28;01melif\u001b[39;00m \u001b[43mis_extension_array_dtype\u001b[49m\u001b[43m(\u001b[49m\u001b[43mdtype\u001b[49m\u001b[43m)\u001b[49m \u001b[38;5;129;01mand\u001b[39;00m \u001b[38;5;28mself\u001b[39m\u001b[38;5;241m.\u001b[39mndim \u001b[38;5;241m>\u001b[39m \u001b[38;5;241m1\u001b[39m:\n\u001b[1;32m   6629\u001b[0m     \u001b[38;5;66;03m# TODO(EA2D): special case not needed with 2D EAs\u001b[39;00m\n\u001b[1;32m   6630\u001b[0m     dtype \u001b[38;5;241m=\u001b[39m pandas_dtype(dtype)\n\u001b[1;32m   6631\u001b[0m     \u001b[38;5;28;01mif\u001b[39;00m \u001b[38;5;28misinstance\u001b[39m(dtype, ExtensionDtype) \u001b[38;5;129;01mand\u001b[39;00m \u001b[38;5;28mall\u001b[39m(\n\u001b[1;32m   6632\u001b[0m         arr\u001b[38;5;241m.\u001b[39mdtype \u001b[38;5;241m==\u001b[39m dtype \u001b[38;5;28;01mfor\u001b[39;00m arr \u001b[38;5;129;01min\u001b[39;00m \u001b[38;5;28mself\u001b[39m\u001b[38;5;241m.\u001b[39m_mgr\u001b[38;5;241m.\u001b[39marrays\n\u001b[1;32m   6633\u001b[0m     ):\n",
      "File \u001b[0;32m~/Documents/coding_projects/bootcamp_local/Homeworks/Mild-Steel-Tempering/.venv/lib/python3.12/site-packages/pandas/core/dtypes/common.py:1328\u001b[0m, in \u001b[0;36mis_extension_array_dtype\u001b[0;34m(arr_or_dtype)\u001b[0m\n\u001b[1;32m   1326\u001b[0m     \u001b[38;5;28;01mreturn\u001b[39;00m \u001b[38;5;28;01mFalse\u001b[39;00m\n\u001b[1;32m   1327\u001b[0m \u001b[38;5;28;01melse\u001b[39;00m:\n\u001b[0;32m-> 1328\u001b[0m     \u001b[38;5;28;01mreturn\u001b[39;00m \u001b[43mregistry\u001b[49m\u001b[38;5;241;43m.\u001b[39;49m\u001b[43mfind\u001b[49m\u001b[43m(\u001b[49m\u001b[43mdtype\u001b[49m\u001b[43m)\u001b[49m \u001b[38;5;129;01mis\u001b[39;00m \u001b[38;5;129;01mnot\u001b[39;00m \u001b[38;5;28;01mNone\u001b[39;00m\n",
      "File \u001b[0;32m~/Documents/coding_projects/bootcamp_local/Homeworks/Mild-Steel-Tempering/.venv/lib/python3.12/site-packages/pandas/core/dtypes/base.py:576\u001b[0m, in \u001b[0;36mRegistry.find\u001b[0;34m(self, dtype)\u001b[0m\n\u001b[1;32m    574\u001b[0m \u001b[38;5;28;01mfor\u001b[39;00m dtype_type \u001b[38;5;129;01min\u001b[39;00m \u001b[38;5;28mself\u001b[39m\u001b[38;5;241m.\u001b[39mdtypes:\n\u001b[1;32m    575\u001b[0m     \u001b[38;5;28;01mtry\u001b[39;00m:\n\u001b[0;32m--> 576\u001b[0m         \u001b[38;5;28;01mreturn\u001b[39;00m \u001b[43mdtype_type\u001b[49m\u001b[38;5;241;43m.\u001b[39;49m\u001b[43mconstruct_from_string\u001b[49m\u001b[43m(\u001b[49m\u001b[43mdtype\u001b[49m\u001b[43m)\u001b[49m\n\u001b[1;32m    577\u001b[0m     \u001b[38;5;28;01mexcept\u001b[39;00m \u001b[38;5;167;01mTypeError\u001b[39;00m:\n\u001b[1;32m    578\u001b[0m         \u001b[38;5;28;01mpass\u001b[39;00m\n",
      "File \u001b[0;32m~/Documents/coding_projects/bootcamp_local/Homeworks/Mild-Steel-Tempering/.venv/lib/python3.12/site-packages/pint_pandas/pint_array.py:124\u001b[0m, in \u001b[0;36mPintType.construct_from_string\u001b[0;34m(cls, string)\u001b[0m\n\u001b[1;32m    118\u001b[0m \u001b[38;5;28;01mif\u001b[39;00m \u001b[38;5;28misinstance\u001b[39m(string, \u001b[38;5;28mstr\u001b[39m) \u001b[38;5;129;01mand\u001b[39;00m (\n\u001b[1;32m    119\u001b[0m     string\u001b[38;5;241m.\u001b[39mstartswith(\u001b[38;5;124m\"\u001b[39m\u001b[38;5;124mpint[\u001b[39m\u001b[38;5;124m\"\u001b[39m) \u001b[38;5;129;01mor\u001b[39;00m string\u001b[38;5;241m.\u001b[39mstartswith(\u001b[38;5;124m\"\u001b[39m\u001b[38;5;124mPint[\u001b[39m\u001b[38;5;124m\"\u001b[39m)\n\u001b[1;32m    120\u001b[0m ):\n\u001b[1;32m    121\u001b[0m     \u001b[38;5;66;03m# do not parse string like U as pint[U]\u001b[39;00m\n\u001b[1;32m    122\u001b[0m     \u001b[38;5;66;03m# avoid tuple to be regarded as unit\u001b[39;00m\n\u001b[1;32m    123\u001b[0m     \u001b[38;5;28;01mtry\u001b[39;00m:\n\u001b[0;32m--> 124\u001b[0m         \u001b[38;5;28;01mreturn\u001b[39;00m \u001b[38;5;28;43mcls\u001b[39;49m\u001b[43m(\u001b[49m\u001b[43munits\u001b[49m\u001b[38;5;241;43m=\u001b[39;49m\u001b[43mstring\u001b[49m\u001b[43m)\u001b[49m\n\u001b[1;32m    125\u001b[0m     \u001b[38;5;28;01mexcept\u001b[39;00m \u001b[38;5;167;01mValueError\u001b[39;00m:\n\u001b[1;32m    126\u001b[0m         \u001b[38;5;28;01mpass\u001b[39;00m\n",
      "File \u001b[0;32m~/Documents/coding_projects/bootcamp_local/Homeworks/Mild-Steel-Tempering/.venv/lib/python3.12/site-packages/pint_pandas/pint_array.py:80\u001b[0m, in \u001b[0;36mPintType.__new__\u001b[0;34m(cls, units)\u001b[0m\n\u001b[1;32m     75\u001b[0m     units \u001b[38;5;241m=\u001b[39m \u001b[38;5;28mcls\u001b[39m\u001b[38;5;241m.\u001b[39m_parse_dtype_strict(units)\n\u001b[1;32m     76\u001b[0m     \u001b[38;5;66;03m# ureg.unit returns a quantity with a magnitude of 1\u001b[39;00m\n\u001b[1;32m     77\u001b[0m     \u001b[38;5;66;03m# eg 1 mm. Initialising a quantity and taking its unit\u001b[39;00m\n\u001b[1;32m     78\u001b[0m     \u001b[38;5;66;03m# TODO: Seperate units from quantities in pint\u001b[39;00m\n\u001b[1;32m     79\u001b[0m     \u001b[38;5;66;03m# to simplify this bit\u001b[39;00m\n\u001b[0;32m---> 80\u001b[0m     units \u001b[38;5;241m=\u001b[39m \u001b[38;5;28;43mcls\u001b[39;49m\u001b[38;5;241;43m.\u001b[39;49m\u001b[43mureg\u001b[49m\u001b[38;5;241;43m.\u001b[39;49m\u001b[43mQuantity\u001b[49m\u001b[43m(\u001b[49m\u001b[38;5;241;43m1\u001b[39;49m\u001b[43m,\u001b[49m\u001b[43m \u001b[49m\u001b[43munits\u001b[49m\u001b[43m)\u001b[49m\u001b[38;5;241m.\u001b[39munits\n\u001b[1;32m     82\u001b[0m \u001b[38;5;28;01mtry\u001b[39;00m:\n\u001b[1;32m     83\u001b[0m     \u001b[38;5;66;03m# TODO: fix when Pint implements Callable typing\u001b[39;00m\n\u001b[1;32m     84\u001b[0m     \u001b[38;5;66;03m# TODO: wrap string into PintFormatStr class\u001b[39;00m\n\u001b[1;32m     85\u001b[0m     \u001b[38;5;28;01mreturn\u001b[39;00m \u001b[38;5;28mcls\u001b[39m\u001b[38;5;241m.\u001b[39m_cache[\u001b[38;5;124m\"\u001b[39m\u001b[38;5;124m{\u001b[39m\u001b[38;5;124m:P}\u001b[39m\u001b[38;5;124m\"\u001b[39m\u001b[38;5;241m.\u001b[39mformat(units)]  \u001b[38;5;66;03m# type: ignore\u001b[39;00m\n",
      "File \u001b[0;32m~/Documents/coding_projects/bootcamp_local/Homeworks/Mild-Steel-Tempering/.venv/lib/python3.12/site-packages/pint/facets/plain/quantity.py:212\u001b[0m, in \u001b[0;36mPlainQuantity.__new__\u001b[0;34m(cls, value, units)\u001b[0m\n\u001b[1;32m    210\u001b[0m     units \u001b[38;5;241m=\u001b[39m units\n\u001b[1;32m    211\u001b[0m \u001b[38;5;28;01melif\u001b[39;00m \u001b[38;5;28misinstance\u001b[39m(units, \u001b[38;5;28mstr\u001b[39m):\n\u001b[0;32m--> 212\u001b[0m     units \u001b[38;5;241m=\u001b[39m \u001b[43minst\u001b[49m\u001b[38;5;241;43m.\u001b[39;49m\u001b[43m_REGISTRY\u001b[49m\u001b[38;5;241;43m.\u001b[39;49m\u001b[43mparse_units\u001b[49m\u001b[43m(\u001b[49m\u001b[43munits\u001b[49m\u001b[43m)\u001b[49m\u001b[38;5;241m.\u001b[39m_units\n\u001b[1;32m    213\u001b[0m \u001b[38;5;28;01melif\u001b[39;00m \u001b[38;5;28misinstance\u001b[39m(units, SharedRegistryObject):\n\u001b[1;32m    214\u001b[0m     \u001b[38;5;28;01mif\u001b[39;00m \u001b[38;5;28misinstance\u001b[39m(units, PlainQuantity) \u001b[38;5;129;01mand\u001b[39;00m units\u001b[38;5;241m.\u001b[39mmagnitude \u001b[38;5;241m!=\u001b[39m \u001b[38;5;241m1\u001b[39m:\n",
      "File \u001b[0;32m~/Documents/coding_projects/bootcamp_local/Homeworks/Mild-Steel-Tempering/.venv/lib/python3.12/site-packages/pint/facets/plain/registry.py:1202\u001b[0m, in \u001b[0;36mGenericPlainRegistry.parse_units\u001b[0;34m(self, input_string, as_delta, case_sensitive)\u001b[0m\n\u001b[1;32m   1174\u001b[0m \u001b[38;5;28;01mdef\u001b[39;00m \u001b[38;5;21mparse_units\u001b[39m(\n\u001b[1;32m   1175\u001b[0m     \u001b[38;5;28mself\u001b[39m,\n\u001b[1;32m   1176\u001b[0m     input_string: \u001b[38;5;28mstr\u001b[39m,\n\u001b[1;32m   1177\u001b[0m     as_delta: \u001b[38;5;28mbool\u001b[39m \u001b[38;5;241m|\u001b[39m \u001b[38;5;28;01mNone\u001b[39;00m \u001b[38;5;241m=\u001b[39m \u001b[38;5;28;01mNone\u001b[39;00m,\n\u001b[1;32m   1178\u001b[0m     case_sensitive: \u001b[38;5;28mbool\u001b[39m \u001b[38;5;241m|\u001b[39m \u001b[38;5;28;01mNone\u001b[39;00m \u001b[38;5;241m=\u001b[39m \u001b[38;5;28;01mNone\u001b[39;00m,\n\u001b[1;32m   1179\u001b[0m ) \u001b[38;5;241m-\u001b[39m\u001b[38;5;241m>\u001b[39m UnitT:\n\u001b[1;32m   1180\u001b[0m \u001b[38;5;250m    \u001b[39m\u001b[38;5;124;03m\"\"\"Parse a units expression and returns a UnitContainer with\u001b[39;00m\n\u001b[1;32m   1181\u001b[0m \u001b[38;5;124;03m    the canonical names.\u001b[39;00m\n\u001b[1;32m   1182\u001b[0m \n\u001b[0;32m   (...)\u001b[0m\n\u001b[1;32m   1198\u001b[0m \n\u001b[1;32m   1199\u001b[0m \u001b[38;5;124;03m    \"\"\"\u001b[39;00m\n\u001b[1;32m   1201\u001b[0m     \u001b[38;5;28;01mreturn\u001b[39;00m \u001b[38;5;28mself\u001b[39m\u001b[38;5;241m.\u001b[39mUnit(\n\u001b[0;32m-> 1202\u001b[0m         \u001b[38;5;28;43mself\u001b[39;49m\u001b[38;5;241;43m.\u001b[39;49m\u001b[43mparse_units_as_container\u001b[49m\u001b[43m(\u001b[49m\u001b[43minput_string\u001b[49m\u001b[43m,\u001b[49m\u001b[43m \u001b[49m\u001b[43mas_delta\u001b[49m\u001b[43m,\u001b[49m\u001b[43m \u001b[49m\u001b[43mcase_sensitive\u001b[49m\u001b[43m)\u001b[49m\n\u001b[1;32m   1203\u001b[0m     )\n",
      "File \u001b[0;32m~/Documents/coding_projects/bootcamp_local/Homeworks/Mild-Steel-Tempering/.venv/lib/python3.12/site-packages/pint/facets/nonmultiplicative/registry.py:69\u001b[0m, in \u001b[0;36mGenericNonMultiplicativeRegistry.parse_units_as_container\u001b[0;34m(self, input_string, as_delta, case_sensitive)\u001b[0m\n\u001b[1;32m     66\u001b[0m \u001b[38;5;28;01mif\u001b[39;00m as_delta \u001b[38;5;129;01mis\u001b[39;00m \u001b[38;5;28;01mNone\u001b[39;00m:\n\u001b[1;32m     67\u001b[0m     as_delta \u001b[38;5;241m=\u001b[39m \u001b[38;5;28mself\u001b[39m\u001b[38;5;241m.\u001b[39mdefault_as_delta\n\u001b[0;32m---> 69\u001b[0m \u001b[38;5;28;01mreturn\u001b[39;00m \u001b[38;5;28;43msuper\u001b[39;49m\u001b[43m(\u001b[49m\u001b[43m)\u001b[49m\u001b[38;5;241;43m.\u001b[39;49m\u001b[43mparse_units_as_container\u001b[49m\u001b[43m(\u001b[49m\u001b[43minput_string\u001b[49m\u001b[43m,\u001b[49m\u001b[43m \u001b[49m\u001b[43mas_delta\u001b[49m\u001b[43m,\u001b[49m\u001b[43m \u001b[49m\u001b[43mcase_sensitive\u001b[49m\u001b[43m)\u001b[49m\n",
      "File \u001b[0;32m~/Documents/coding_projects/bootcamp_local/Homeworks/Mild-Steel-Tempering/.venv/lib/python3.12/site-packages/pint/facets/plain/registry.py:1217\u001b[0m, in \u001b[0;36mGenericPlainRegistry.parse_units_as_container\u001b[0;34m(self, input_string, as_delta, case_sensitive)\u001b[0m\n\u001b[1;32m   1211\u001b[0m as_delta \u001b[38;5;241m=\u001b[39m (\n\u001b[1;32m   1212\u001b[0m     as_delta \u001b[38;5;28;01mif\u001b[39;00m as_delta \u001b[38;5;129;01mis\u001b[39;00m \u001b[38;5;129;01mnot\u001b[39;00m \u001b[38;5;28;01mNone\u001b[39;00m \u001b[38;5;28;01melse\u001b[39;00m \u001b[38;5;28;01mTrue\u001b[39;00m\n\u001b[1;32m   1213\u001b[0m )  \u001b[38;5;66;03m# TODO This only exists in nonmultiplicative\u001b[39;00m\n\u001b[1;32m   1214\u001b[0m case_sensitive \u001b[38;5;241m=\u001b[39m (\n\u001b[1;32m   1215\u001b[0m     case_sensitive \u001b[38;5;28;01mif\u001b[39;00m case_sensitive \u001b[38;5;129;01mis\u001b[39;00m \u001b[38;5;129;01mnot\u001b[39;00m \u001b[38;5;28;01mNone\u001b[39;00m \u001b[38;5;28;01melse\u001b[39;00m \u001b[38;5;28mself\u001b[39m\u001b[38;5;241m.\u001b[39mcase_sensitive\n\u001b[1;32m   1216\u001b[0m )\n\u001b[0;32m-> 1217\u001b[0m \u001b[38;5;28;01mreturn\u001b[39;00m \u001b[38;5;28;43mself\u001b[39;49m\u001b[38;5;241;43m.\u001b[39;49m\u001b[43m_parse_units_as_container\u001b[49m\u001b[43m(\u001b[49m\u001b[43minput_string\u001b[49m\u001b[43m,\u001b[49m\u001b[43m \u001b[49m\u001b[43mas_delta\u001b[49m\u001b[43m,\u001b[49m\u001b[43m \u001b[49m\u001b[43mcase_sensitive\u001b[49m\u001b[43m)\u001b[49m\n",
      "File \u001b[0;32m~/Documents/coding_projects/bootcamp_local/Homeworks/Mild-Steel-Tempering/.venv/lib/python3.12/site-packages/pint/facets/plain/registry.py:1252\u001b[0m, in \u001b[0;36mGenericPlainRegistry._parse_units_as_container\u001b[0;34m(self, input_string, as_delta, case_sensitive)\u001b[0m\n\u001b[1;32m   1250\u001b[0m many \u001b[38;5;241m=\u001b[39m \u001b[38;5;28mlen\u001b[39m(units) \u001b[38;5;241m>\u001b[39m \u001b[38;5;241m1\u001b[39m\n\u001b[1;32m   1251\u001b[0m \u001b[38;5;28;01mfor\u001b[39;00m name \u001b[38;5;129;01min\u001b[39;00m units:\n\u001b[0;32m-> 1252\u001b[0m     cname \u001b[38;5;241m=\u001b[39m \u001b[38;5;28;43mself\u001b[39;49m\u001b[38;5;241;43m.\u001b[39;49m\u001b[43mget_name\u001b[49m\u001b[43m(\u001b[49m\u001b[43mname\u001b[49m\u001b[43m,\u001b[49m\u001b[43m \u001b[49m\u001b[43mcase_sensitive\u001b[49m\u001b[38;5;241;43m=\u001b[39;49m\u001b[43mcase_sensitive\u001b[49m\u001b[43m)\u001b[49m\n\u001b[1;32m   1253\u001b[0m     value \u001b[38;5;241m=\u001b[39m units[name]\n\u001b[1;32m   1254\u001b[0m     \u001b[38;5;28;01mif\u001b[39;00m \u001b[38;5;129;01mnot\u001b[39;00m cname:\n",
      "File \u001b[0;32m~/Documents/coding_projects/bootcamp_local/Homeworks/Mild-Steel-Tempering/.venv/lib/python3.12/site-packages/pint/facets/plain/registry.py:661\u001b[0m, in \u001b[0;36mGenericPlainRegistry.get_name\u001b[0;34m(self, name_or_alias, case_sensitive)\u001b[0m\n\u001b[1;32m    659\u001b[0m candidates \u001b[38;5;241m=\u001b[39m \u001b[38;5;28mself\u001b[39m\u001b[38;5;241m.\u001b[39mparse_unit_name(name_or_alias, case_sensitive)\n\u001b[1;32m    660\u001b[0m \u001b[38;5;28;01mif\u001b[39;00m \u001b[38;5;129;01mnot\u001b[39;00m candidates:\n\u001b[0;32m--> 661\u001b[0m     \u001b[38;5;28;01mraise\u001b[39;00m UndefinedUnitError(name_or_alias)\n\u001b[1;32m    663\u001b[0m prefix, unit_name, _ \u001b[38;5;241m=\u001b[39m candidates[\u001b[38;5;241m0\u001b[39m]\n\u001b[1;32m    664\u001b[0m \u001b[38;5;28;01mif\u001b[39;00m \u001b[38;5;28mlen\u001b[39m(candidates) \u001b[38;5;241m>\u001b[39m \u001b[38;5;241m1\u001b[39m:\n",
      "\u001b[0;31mUndefinedUnitError\u001b[0m: 'density' is not defined in the unit registry"
     ]
    }
   ],
   "source": [
    "pint_density = df_data['density'].astype('pint[density]')\n",
    "pint_density"
   ]
  },
  {
   "cell_type": "code",
   "execution_count": 93,
   "metadata": {},
   "outputs": [
    {
     "data": {
      "text/html": [
       "500 cubic_centimeter"
      ],
      "text/latex": [
       "$500\\ \\mathrm{cubic\\_centimeter}$"
      ],
      "text/plain": [
       "<Quantity(500, 'cubic_centimeter')>"
      ]
     },
     "execution_count": 93,
     "metadata": {},
     "output_type": "execute_result"
    }
   ],
   "source": [
    "pint_vol = 500 * ureg.cc\n",
    "pint_vol"
   ]
  },
  {
   "cell_type": "code",
   "execution_count": 94,
   "metadata": {},
   "outputs": [
    {
     "ename": "ValueError",
     "evalue": "Cannot operate with Quantity and Quantity of different registries.",
     "output_type": "error",
     "traceback": [
      "\u001b[0;31m---------------------------------------------------------------------------\u001b[0m",
      "\u001b[0;31mValueError\u001b[0m                                Traceback (most recent call last)",
      "Cell \u001b[0;32mIn[94], line 1\u001b[0m\n\u001b[0;32m----> 1\u001b[0m pint_mass \u001b[38;5;241m=\u001b[39m \u001b[43mpint_density\u001b[49m\u001b[43m \u001b[49m\u001b[38;5;241;43m*\u001b[39;49m\u001b[43m \u001b[49m\u001b[43mpint_vol\u001b[49m\n",
      "File \u001b[0;32m~/Documents/coding_projects/bootcamp_local/Homeworks/Mild-Steel-Tempering/.venv/lib/python3.12/site-packages/pandas/core/ops/common.py:76\u001b[0m, in \u001b[0;36m_unpack_zerodim_and_defer.<locals>.new_method\u001b[0;34m(self, other)\u001b[0m\n\u001b[1;32m     72\u001b[0m             \u001b[38;5;28;01mreturn\u001b[39;00m \u001b[38;5;28mNotImplemented\u001b[39m\n\u001b[1;32m     74\u001b[0m other \u001b[38;5;241m=\u001b[39m item_from_zerodim(other)\n\u001b[0;32m---> 76\u001b[0m \u001b[38;5;28;01mreturn\u001b[39;00m \u001b[43mmethod\u001b[49m\u001b[43m(\u001b[49m\u001b[38;5;28;43mself\u001b[39;49m\u001b[43m,\u001b[49m\u001b[43m \u001b[49m\u001b[43mother\u001b[49m\u001b[43m)\u001b[49m\n",
      "File \u001b[0;32m~/Documents/coding_projects/bootcamp_local/Homeworks/Mild-Steel-Tempering/.venv/lib/python3.12/site-packages/pandas/core/arraylike.py:202\u001b[0m, in \u001b[0;36mOpsMixin.__mul__\u001b[0;34m(self, other)\u001b[0m\n\u001b[1;32m    200\u001b[0m \u001b[38;5;129m@unpack_zerodim_and_defer\u001b[39m(\u001b[38;5;124m\"\u001b[39m\u001b[38;5;124m__mul__\u001b[39m\u001b[38;5;124m\"\u001b[39m)\n\u001b[1;32m    201\u001b[0m \u001b[38;5;28;01mdef\u001b[39;00m \u001b[38;5;21m__mul__\u001b[39m(\u001b[38;5;28mself\u001b[39m, other):\n\u001b[0;32m--> 202\u001b[0m     \u001b[38;5;28;01mreturn\u001b[39;00m \u001b[38;5;28;43mself\u001b[39;49m\u001b[38;5;241;43m.\u001b[39;49m\u001b[43m_arith_method\u001b[49m\u001b[43m(\u001b[49m\u001b[43mother\u001b[49m\u001b[43m,\u001b[49m\u001b[43m \u001b[49m\u001b[43moperator\u001b[49m\u001b[38;5;241;43m.\u001b[39;49m\u001b[43mmul\u001b[49m\u001b[43m)\u001b[49m\n",
      "File \u001b[0;32m~/Documents/coding_projects/bootcamp_local/Homeworks/Mild-Steel-Tempering/.venv/lib/python3.12/site-packages/pandas/core/series.py:6135\u001b[0m, in \u001b[0;36mSeries._arith_method\u001b[0;34m(self, other, op)\u001b[0m\n\u001b[1;32m   6133\u001b[0m \u001b[38;5;28;01mdef\u001b[39;00m \u001b[38;5;21m_arith_method\u001b[39m(\u001b[38;5;28mself\u001b[39m, other, op):\n\u001b[1;32m   6134\u001b[0m     \u001b[38;5;28mself\u001b[39m, other \u001b[38;5;241m=\u001b[39m \u001b[38;5;28mself\u001b[39m\u001b[38;5;241m.\u001b[39m_align_for_op(other)\n\u001b[0;32m-> 6135\u001b[0m     \u001b[38;5;28;01mreturn\u001b[39;00m \u001b[43mbase\u001b[49m\u001b[38;5;241;43m.\u001b[39;49m\u001b[43mIndexOpsMixin\u001b[49m\u001b[38;5;241;43m.\u001b[39;49m\u001b[43m_arith_method\u001b[49m\u001b[43m(\u001b[49m\u001b[38;5;28;43mself\u001b[39;49m\u001b[43m,\u001b[49m\u001b[43m \u001b[49m\u001b[43mother\u001b[49m\u001b[43m,\u001b[49m\u001b[43m \u001b[49m\u001b[43mop\u001b[49m\u001b[43m)\u001b[49m\n",
      "File \u001b[0;32m~/Documents/coding_projects/bootcamp_local/Homeworks/Mild-Steel-Tempering/.venv/lib/python3.12/site-packages/pandas/core/base.py:1382\u001b[0m, in \u001b[0;36mIndexOpsMixin._arith_method\u001b[0;34m(self, other, op)\u001b[0m\n\u001b[1;32m   1379\u001b[0m     rvalues \u001b[38;5;241m=\u001b[39m np\u001b[38;5;241m.\u001b[39marange(rvalues\u001b[38;5;241m.\u001b[39mstart, rvalues\u001b[38;5;241m.\u001b[39mstop, rvalues\u001b[38;5;241m.\u001b[39mstep)\n\u001b[1;32m   1381\u001b[0m \u001b[38;5;28;01mwith\u001b[39;00m np\u001b[38;5;241m.\u001b[39merrstate(\u001b[38;5;28mall\u001b[39m\u001b[38;5;241m=\u001b[39m\u001b[38;5;124m\"\u001b[39m\u001b[38;5;124mignore\u001b[39m\u001b[38;5;124m\"\u001b[39m):\n\u001b[0;32m-> 1382\u001b[0m     result \u001b[38;5;241m=\u001b[39m \u001b[43mops\u001b[49m\u001b[38;5;241;43m.\u001b[39;49m\u001b[43marithmetic_op\u001b[49m\u001b[43m(\u001b[49m\u001b[43mlvalues\u001b[49m\u001b[43m,\u001b[49m\u001b[43m \u001b[49m\u001b[43mrvalues\u001b[49m\u001b[43m,\u001b[49m\u001b[43m \u001b[49m\u001b[43mop\u001b[49m\u001b[43m)\u001b[49m\n\u001b[1;32m   1384\u001b[0m \u001b[38;5;28;01mreturn\u001b[39;00m \u001b[38;5;28mself\u001b[39m\u001b[38;5;241m.\u001b[39m_construct_result(result, name\u001b[38;5;241m=\u001b[39mres_name)\n",
      "File \u001b[0;32m~/Documents/coding_projects/bootcamp_local/Homeworks/Mild-Steel-Tempering/.venv/lib/python3.12/site-packages/pandas/core/ops/array_ops.py:273\u001b[0m, in \u001b[0;36marithmetic_op\u001b[0;34m(left, right, op)\u001b[0m\n\u001b[1;32m    260\u001b[0m \u001b[38;5;66;03m# NB: We assume that extract_array and ensure_wrapped_if_datetimelike\u001b[39;00m\n\u001b[1;32m    261\u001b[0m \u001b[38;5;66;03m#  have already been called on `left` and `right`,\u001b[39;00m\n\u001b[1;32m    262\u001b[0m \u001b[38;5;66;03m#  and `maybe_prepare_scalar_for_op` has already been called on `right`\u001b[39;00m\n\u001b[1;32m    263\u001b[0m \u001b[38;5;66;03m# We need to special-case datetime64/timedelta64 dtypes (e.g. because numpy\u001b[39;00m\n\u001b[1;32m    264\u001b[0m \u001b[38;5;66;03m# casts integer dtypes to timedelta64 when operating with timedelta64 - GH#22390)\u001b[39;00m\n\u001b[1;32m    266\u001b[0m \u001b[38;5;28;01mif\u001b[39;00m (\n\u001b[1;32m    267\u001b[0m     should_extension_dispatch(left, right)\n\u001b[1;32m    268\u001b[0m     \u001b[38;5;129;01mor\u001b[39;00m \u001b[38;5;28misinstance\u001b[39m(right, (Timedelta, BaseOffset, Timestamp))\n\u001b[0;32m   (...)\u001b[0m\n\u001b[1;32m    271\u001b[0m     \u001b[38;5;66;03m# Timedelta/Timestamp and other custom scalars are included in the check\u001b[39;00m\n\u001b[1;32m    272\u001b[0m     \u001b[38;5;66;03m# because numexpr will fail on it, see GH#31457\u001b[39;00m\n\u001b[0;32m--> 273\u001b[0m     res_values \u001b[38;5;241m=\u001b[39m \u001b[43mop\u001b[49m\u001b[43m(\u001b[49m\u001b[43mleft\u001b[49m\u001b[43m,\u001b[49m\u001b[43m \u001b[49m\u001b[43mright\u001b[49m\u001b[43m)\u001b[49m\n\u001b[1;32m    274\u001b[0m \u001b[38;5;28;01melse\u001b[39;00m:\n\u001b[1;32m    275\u001b[0m     \u001b[38;5;66;03m# TODO we should handle EAs consistently and move this check before the if/else\u001b[39;00m\n\u001b[1;32m    276\u001b[0m     \u001b[38;5;66;03m# (https://github.com/pandas-dev/pandas/issues/41165)\u001b[39;00m\n\u001b[1;32m    277\u001b[0m     \u001b[38;5;66;03m# error: Argument 2 to \"_bool_arith_check\" has incompatible type\u001b[39;00m\n\u001b[1;32m    278\u001b[0m     \u001b[38;5;66;03m# \"Union[ExtensionArray, ndarray[Any, Any]]\"; expected \"ndarray[Any, Any]\"\u001b[39;00m\n\u001b[1;32m    279\u001b[0m     _bool_arith_check(op, left, right)  \u001b[38;5;66;03m# type: ignore[arg-type]\u001b[39;00m\n",
      "File \u001b[0;32m~/Documents/coding_projects/bootcamp_local/Homeworks/Mild-Steel-Tempering/.venv/lib/python3.12/site-packages/pint_pandas/pint_array.py:834\u001b[0m, in \u001b[0;36mPintArray._create_method.<locals>._binop\u001b[0;34m(self, other)\u001b[0m\n\u001b[1;32m    831\u001b[0m rvalues \u001b[38;5;241m=\u001b[39m convert_values(other)\n\u001b[1;32m    832\u001b[0m \u001b[38;5;66;03m# If the operator is not defined for the underlying objects,\u001b[39;00m\n\u001b[1;32m    833\u001b[0m \u001b[38;5;66;03m# a TypeError should be raised\u001b[39;00m\n\u001b[0;32m--> 834\u001b[0m res \u001b[38;5;241m=\u001b[39m \u001b[43mop\u001b[49m\u001b[43m(\u001b[49m\u001b[43mlvalues\u001b[49m\u001b[43m,\u001b[49m\u001b[43m \u001b[49m\u001b[43mrvalues\u001b[49m\u001b[43m)\u001b[49m\n\u001b[1;32m    836\u001b[0m \u001b[38;5;28;01mif\u001b[39;00m op\u001b[38;5;241m.\u001b[39m\u001b[38;5;18m__name__\u001b[39m \u001b[38;5;241m==\u001b[39m \u001b[38;5;124m\"\u001b[39m\u001b[38;5;124mdivmod\u001b[39m\u001b[38;5;124m\"\u001b[39m:\n\u001b[1;32m    837\u001b[0m     \u001b[38;5;28;01mreturn\u001b[39;00m (\n\u001b[1;32m    838\u001b[0m         \u001b[38;5;28mcls\u001b[39m\u001b[38;5;241m.\u001b[39mfrom_1darray_quantity(res[\u001b[38;5;241m0\u001b[39m]),\n\u001b[1;32m    839\u001b[0m         \u001b[38;5;28mcls\u001b[39m\u001b[38;5;241m.\u001b[39mfrom_1darray_quantity(res[\u001b[38;5;241m1\u001b[39m]),\n\u001b[1;32m    840\u001b[0m     )\n",
      "File \u001b[0;32m~/Documents/coding_projects/bootcamp_local/Homeworks/Mild-Steel-Tempering/.venv/lib/python3.12/site-packages/pint/facets/plain/quantity.py:1018\u001b[0m, in \u001b[0;36mPlainQuantity.__mul__\u001b[0;34m(self, other)\u001b[0m\n\u001b[1;32m   1017\u001b[0m \u001b[38;5;28;01mdef\u001b[39;00m \u001b[38;5;21m__mul__\u001b[39m(\u001b[38;5;28mself\u001b[39m, other):\n\u001b[0;32m-> 1018\u001b[0m     \u001b[38;5;28;01mreturn\u001b[39;00m \u001b[38;5;28;43mself\u001b[39;49m\u001b[38;5;241;43m.\u001b[39;49m\u001b[43m_mul_div\u001b[49m\u001b[43m(\u001b[49m\u001b[43mother\u001b[49m\u001b[43m,\u001b[49m\u001b[43m \u001b[49m\u001b[43moperator\u001b[49m\u001b[38;5;241;43m.\u001b[39;49m\u001b[43mmul\u001b[49m\u001b[43m)\u001b[49m\n",
      "File \u001b[0;32m~/Documents/coding_projects/bootcamp_local/Homeworks/Mild-Steel-Tempering/.venv/lib/python3.12/site-packages/pint/facets/plain/quantity.py:101\u001b[0m, in \u001b[0;36mcheck_implemented.<locals>.wrapped\u001b[0;34m(self, *args, **kwargs)\u001b[0m\n\u001b[1;32m     99\u001b[0m \u001b[38;5;28;01melif\u001b[39;00m \u001b[38;5;28misinstance\u001b[39m(other, \u001b[38;5;28mlist\u001b[39m) \u001b[38;5;129;01mand\u001b[39;00m other \u001b[38;5;129;01mand\u001b[39;00m \u001b[38;5;28misinstance\u001b[39m(other[\u001b[38;5;241m0\u001b[39m], \u001b[38;5;28mtype\u001b[39m(\u001b[38;5;28mself\u001b[39m)):\n\u001b[1;32m    100\u001b[0m     \u001b[38;5;28;01mreturn\u001b[39;00m \u001b[38;5;28mNotImplemented\u001b[39m\n\u001b[0;32m--> 101\u001b[0m \u001b[38;5;28;01mreturn\u001b[39;00m \u001b[43mf\u001b[49m\u001b[43m(\u001b[49m\u001b[38;5;28;43mself\u001b[39;49m\u001b[43m,\u001b[49m\u001b[43m \u001b[49m\u001b[38;5;241;43m*\u001b[39;49m\u001b[43margs\u001b[49m\u001b[43m,\u001b[49m\u001b[43m \u001b[49m\u001b[38;5;241;43m*\u001b[39;49m\u001b[38;5;241;43m*\u001b[39;49m\u001b[43mkwargs\u001b[49m\u001b[43m)\u001b[49m\n",
      "File \u001b[0;32m~/Documents/coding_projects/bootcamp_local/Homeworks/Mild-Steel-Tempering/.venv/lib/python3.12/site-packages/pint/facets/plain/quantity.py:75\u001b[0m, in \u001b[0;36mireduce_dimensions.<locals>.wrapped\u001b[0;34m(self, *args, **kwargs)\u001b[0m\n\u001b[1;32m     74\u001b[0m \u001b[38;5;28;01mdef\u001b[39;00m \u001b[38;5;21mwrapped\u001b[39m(\u001b[38;5;28mself\u001b[39m, \u001b[38;5;241m*\u001b[39margs, \u001b[38;5;241m*\u001b[39m\u001b[38;5;241m*\u001b[39mkwargs):\n\u001b[0;32m---> 75\u001b[0m     result \u001b[38;5;241m=\u001b[39m \u001b[43mf\u001b[49m\u001b[43m(\u001b[49m\u001b[38;5;28;43mself\u001b[39;49m\u001b[43m,\u001b[49m\u001b[43m \u001b[49m\u001b[38;5;241;43m*\u001b[39;49m\u001b[43margs\u001b[49m\u001b[43m,\u001b[49m\u001b[43m \u001b[49m\u001b[38;5;241;43m*\u001b[39;49m\u001b[38;5;241;43m*\u001b[39;49m\u001b[43mkwargs\u001b[49m\u001b[43m)\u001b[49m\n\u001b[1;32m     76\u001b[0m     \u001b[38;5;28;01mtry\u001b[39;00m:\n\u001b[1;32m     77\u001b[0m         \u001b[38;5;28;01mif\u001b[39;00m result\u001b[38;5;241m.\u001b[39m_REGISTRY\u001b[38;5;241m.\u001b[39mautoconvert_to_preferred:\n",
      "File \u001b[0;32m~/Documents/coding_projects/bootcamp_local/Homeworks/Mild-Steel-Tempering/.venv/lib/python3.12/site-packages/pint/facets/plain/quantity.py:964\u001b[0m, in \u001b[0;36mPlainQuantity._mul_div\u001b[0;34m(self, other, magnitude_op, units_op)\u001b[0m\n\u001b[1;32m    961\u001b[0m offset_units_self \u001b[38;5;241m=\u001b[39m \u001b[38;5;28mself\u001b[39m\u001b[38;5;241m.\u001b[39m_get_non_multiplicative_units()\n\u001b[1;32m    962\u001b[0m no_offset_units_self \u001b[38;5;241m=\u001b[39m \u001b[38;5;28mlen\u001b[39m(offset_units_self)\n\u001b[0;32m--> 964\u001b[0m \u001b[38;5;28;01mif\u001b[39;00m \u001b[38;5;129;01mnot\u001b[39;00m \u001b[38;5;28;43mself\u001b[39;49m\u001b[38;5;241;43m.\u001b[39;49m\u001b[43m_check\u001b[49m\u001b[43m(\u001b[49m\u001b[43mother\u001b[49m\u001b[43m)\u001b[49m:\n\u001b[1;32m    965\u001b[0m     \u001b[38;5;28;01mif\u001b[39;00m \u001b[38;5;129;01mnot\u001b[39;00m \u001b[38;5;28mself\u001b[39m\u001b[38;5;241m.\u001b[39m_ok_for_muldiv(no_offset_units_self):\n\u001b[1;32m    966\u001b[0m         \u001b[38;5;28;01mraise\u001b[39;00m OffsetUnitCalculusError(\u001b[38;5;28mself\u001b[39m\u001b[38;5;241m.\u001b[39m_units, \u001b[38;5;28mgetattr\u001b[39m(other, \u001b[38;5;124m\"\u001b[39m\u001b[38;5;124munits\u001b[39m\u001b[38;5;124m\"\u001b[39m, \u001b[38;5;124m\"\u001b[39m\u001b[38;5;124m\"\u001b[39m))\n",
      "File \u001b[0;32m~/Documents/coding_projects/bootcamp_local/Homeworks/Mild-Steel-Tempering/.venv/lib/python3.12/site-packages/pint/util.py:997\u001b[0m, in \u001b[0;36mSharedRegistryObject._check\u001b[0;34m(self, other)\u001b[0m\n\u001b[1;32m    995\u001b[0m \u001b[38;5;28;01melif\u001b[39;00m \u001b[38;5;28misinstance\u001b[39m(other, SharedRegistryObject):\n\u001b[1;32m    996\u001b[0m     mess \u001b[38;5;241m=\u001b[39m \u001b[38;5;124m\"\u001b[39m\u001b[38;5;124mCannot operate with \u001b[39m\u001b[38;5;132;01m{}\u001b[39;00m\u001b[38;5;124m and \u001b[39m\u001b[38;5;132;01m{}\u001b[39;00m\u001b[38;5;124m of different registries.\u001b[39m\u001b[38;5;124m\"\u001b[39m\n\u001b[0;32m--> 997\u001b[0m     \u001b[38;5;28;01mraise\u001b[39;00m \u001b[38;5;167;01mValueError\u001b[39;00m(\n\u001b[1;32m    998\u001b[0m         mess\u001b[38;5;241m.\u001b[39mformat(\u001b[38;5;28mself\u001b[39m\u001b[38;5;241m.\u001b[39m\u001b[38;5;18m__class__\u001b[39m\u001b[38;5;241m.\u001b[39m\u001b[38;5;18m__name__\u001b[39m, other\u001b[38;5;241m.\u001b[39m\u001b[38;5;18m__class__\u001b[39m\u001b[38;5;241m.\u001b[39m\u001b[38;5;18m__name__\u001b[39m)\n\u001b[1;32m    999\u001b[0m     )\n\u001b[1;32m   1000\u001b[0m \u001b[38;5;28;01melse\u001b[39;00m:\n\u001b[1;32m   1001\u001b[0m     \u001b[38;5;28;01mreturn\u001b[39;00m \u001b[38;5;28;01mFalse\u001b[39;00m\n",
      "\u001b[0;31mValueError\u001b[0m: Cannot operate with Quantity and Quantity of different registries."
     ]
    }
   ],
   "source": [
    "pint_mass = pint_density * pint_vol"
   ]
  },
  {
   "cell_type": "markdown",
   "metadata": {},
   "source": [
    "## Demonstrate a unit conversion using pint\n",
    "\n",
    "g to kg should divide the values by 1000\n",
    "\n",
    "then cc to L should multiply by 1000"
   ]
  },
  {
   "cell_type": "code",
   "execution_count": 84,
   "metadata": {},
   "outputs": [
    {
     "ename": "TypeError",
     "evalue": "can't multiply sequence by non-int of type 'float'",
     "output_type": "error",
     "traceback": [
      "\u001b[0;31m---------------------------------------------------------------------------\u001b[0m",
      "\u001b[0;31mTypeError\u001b[0m                                 Traceback (most recent call last)",
      "Cell \u001b[0;32mIn[86], line 1\u001b[0m\n\u001b[0;32m----> 1\u001b[0m \u001b[43mpint_density\u001b[49m\u001b[38;5;241;43m.\u001b[39;49m\u001b[43mpint\u001b[49m\u001b[38;5;241;43m.\u001b[39;49m\u001b[43mto\u001b[49m\u001b[43m(\u001b[49m\u001b[38;5;124;43m\"\u001b[39;49m\u001b[38;5;124;43mkg\u001b[39;49m\u001b[38;5;124;43m\"\u001b[39;49m\u001b[43m)\u001b[49m\n",
      "File \u001b[0;32m~/Documents/coding_projects/bootcamp_local/Homeworks/Mild-Steel-Tempering/.venv/lib/python3.12/site-packages/pint_pandas/pint_array.py:1226\u001b[0m, in \u001b[0;36mDelegatedMethod.__get__.<locals>.delegated_method\u001b[0;34m(*args, **kwargs)\u001b[0m\n\u001b[1;32m   1225\u001b[0m \u001b[38;5;28;01mdef\u001b[39;00m \u001b[38;5;21mdelegated_method\u001b[39m(\u001b[38;5;241m*\u001b[39margs, \u001b[38;5;241m*\u001b[39m\u001b[38;5;241m*\u001b[39mkwargs):\n\u001b[0;32m-> 1226\u001b[0m     result \u001b[38;5;241m=\u001b[39m \u001b[43mmethod\u001b[49m\u001b[43m(\u001b[49m\u001b[38;5;241;43m*\u001b[39;49m\u001b[43margs\u001b[49m\u001b[43m,\u001b[49m\u001b[43m \u001b[49m\u001b[38;5;241;43m*\u001b[39;49m\u001b[38;5;241;43m*\u001b[39;49m\u001b[43mkwargs\u001b[49m\u001b[43m)\u001b[49m\n\u001b[1;32m   1227\u001b[0m     \u001b[38;5;28;01mif\u001b[39;00m \u001b[38;5;28mself\u001b[39m\u001b[38;5;241m.\u001b[39mto_series:\n\u001b[1;32m   1228\u001b[0m         \u001b[38;5;28;01mif\u001b[39;00m \u001b[38;5;28misinstance\u001b[39m(result, _Quantity):\n",
      "File \u001b[0;32m~/Documents/coding_projects/bootcamp_local/Homeworks/Mild-Steel-Tempering/.venv/lib/python3.12/site-packages/pint/facets/plain/quantity.py:536\u001b[0m, in \u001b[0;36mPlainQuantity.to\u001b[0;34m(self, other, *contexts, **ctx_kwargs)\u001b[0m\n\u001b[1;32m    519\u001b[0m \u001b[38;5;250m\u001b[39m\u001b[38;5;124;03m\"\"\"Return PlainQuantity rescaled to different units.\u001b[39;00m\n\u001b[1;32m    520\u001b[0m \n\u001b[1;32m    521\u001b[0m \u001b[38;5;124;03mParameters\u001b[39;00m\n\u001b[0;32m   (...)\u001b[0m\n\u001b[1;32m    532\u001b[0m \u001b[38;5;124;03mpint.PlainQuantity\u001b[39;00m\n\u001b[1;32m    533\u001b[0m \u001b[38;5;124;03m\"\"\"\u001b[39;00m\n\u001b[1;32m    534\u001b[0m other \u001b[38;5;241m=\u001b[39m to_units_container(other, \u001b[38;5;28mself\u001b[39m\u001b[38;5;241m.\u001b[39m_REGISTRY)\n\u001b[0;32m--> 536\u001b[0m magnitude \u001b[38;5;241m=\u001b[39m \u001b[38;5;28;43mself\u001b[39;49m\u001b[38;5;241;43m.\u001b[39;49m\u001b[43m_convert_magnitude_not_inplace\u001b[49m\u001b[43m(\u001b[49m\u001b[43mother\u001b[49m\u001b[43m,\u001b[49m\u001b[43m \u001b[49m\u001b[38;5;241;43m*\u001b[39;49m\u001b[43mcontexts\u001b[49m\u001b[43m,\u001b[49m\u001b[43m \u001b[49m\u001b[38;5;241;43m*\u001b[39;49m\u001b[38;5;241;43m*\u001b[39;49m\u001b[43mctx_kwargs\u001b[49m\u001b[43m)\u001b[49m\n\u001b[1;32m    538\u001b[0m \u001b[38;5;28;01mreturn\u001b[39;00m \u001b[38;5;28mself\u001b[39m\u001b[38;5;241m.\u001b[39m\u001b[38;5;18m__class__\u001b[39m(magnitude, other)\n",
      "File \u001b[0;32m~/Documents/coding_projects/bootcamp_local/Homeworks/Mild-Steel-Tempering/.venv/lib/python3.12/site-packages/pint/facets/plain/quantity.py:480\u001b[0m, in \u001b[0;36mPlainQuantity._convert_magnitude_not_inplace\u001b[0;34m(self, other, *contexts, **ctx_kwargs)\u001b[0m\n\u001b[1;32m    477\u001b[0m     \u001b[38;5;28;01mwith\u001b[39;00m \u001b[38;5;28mself\u001b[39m\u001b[38;5;241m.\u001b[39m_REGISTRY\u001b[38;5;241m.\u001b[39mcontext(\u001b[38;5;241m*\u001b[39mcontexts, \u001b[38;5;241m*\u001b[39m\u001b[38;5;241m*\u001b[39mctx_kwargs):\n\u001b[1;32m    478\u001b[0m         \u001b[38;5;28;01mreturn\u001b[39;00m \u001b[38;5;28mself\u001b[39m\u001b[38;5;241m.\u001b[39m_REGISTRY\u001b[38;5;241m.\u001b[39mconvert(\u001b[38;5;28mself\u001b[39m\u001b[38;5;241m.\u001b[39m_magnitude, \u001b[38;5;28mself\u001b[39m\u001b[38;5;241m.\u001b[39m_units, other)\n\u001b[0;32m--> 480\u001b[0m \u001b[38;5;28;01mreturn\u001b[39;00m \u001b[38;5;28;43mself\u001b[39;49m\u001b[38;5;241;43m.\u001b[39;49m\u001b[43m_REGISTRY\u001b[49m\u001b[38;5;241;43m.\u001b[39;49m\u001b[43mconvert\u001b[49m\u001b[43m(\u001b[49m\u001b[38;5;28;43mself\u001b[39;49m\u001b[38;5;241;43m.\u001b[39;49m\u001b[43m_magnitude\u001b[49m\u001b[43m,\u001b[49m\u001b[43m \u001b[49m\u001b[38;5;28;43mself\u001b[39;49m\u001b[38;5;241;43m.\u001b[39;49m\u001b[43m_units\u001b[49m\u001b[43m,\u001b[49m\u001b[43m \u001b[49m\u001b[43mother\u001b[49m\u001b[43m)\u001b[49m\n",
      "File \u001b[0;32m~/Documents/coding_projects/bootcamp_local/Homeworks/Mild-Steel-Tempering/.venv/lib/python3.12/site-packages/pint/facets/plain/registry.py:1041\u001b[0m, in \u001b[0;36mGenericPlainRegistry.convert\u001b[0;34m(self, value, src, dst, inplace)\u001b[0m\n\u001b[1;32m   1038\u001b[0m \u001b[38;5;28;01mif\u001b[39;00m src \u001b[38;5;241m==\u001b[39m dst:\n\u001b[1;32m   1039\u001b[0m     \u001b[38;5;28;01mreturn\u001b[39;00m value\n\u001b[0;32m-> 1041\u001b[0m \u001b[38;5;28;01mreturn\u001b[39;00m \u001b[38;5;28;43mself\u001b[39;49m\u001b[38;5;241;43m.\u001b[39;49m\u001b[43m_convert\u001b[49m\u001b[43m(\u001b[49m\u001b[43mvalue\u001b[49m\u001b[43m,\u001b[49m\u001b[43m \u001b[49m\u001b[43msrc\u001b[49m\u001b[43m,\u001b[49m\u001b[43m \u001b[49m\u001b[43mdst\u001b[49m\u001b[43m,\u001b[49m\u001b[43m \u001b[49m\u001b[43minplace\u001b[49m\u001b[43m)\u001b[49m\n",
      "File \u001b[0;32m~/Documents/coding_projects/bootcamp_local/Homeworks/Mild-Steel-Tempering/.venv/lib/python3.12/site-packages/pint/facets/context/registry.py:405\u001b[0m, in \u001b[0;36mGenericContextRegistry._convert\u001b[0;34m(self, value, src, dst, inplace)\u001b[0m\n\u001b[1;32m    401\u001b[0m             src \u001b[38;5;241m=\u001b[39m \u001b[38;5;28mself\u001b[39m\u001b[38;5;241m.\u001b[39m_active_ctx\u001b[38;5;241m.\u001b[39mtransform(a, b, \u001b[38;5;28mself\u001b[39m, src)\n\u001b[1;32m    403\u001b[0m         value, src \u001b[38;5;241m=\u001b[39m src\u001b[38;5;241m.\u001b[39m_magnitude, src\u001b[38;5;241m.\u001b[39m_units\n\u001b[0;32m--> 405\u001b[0m \u001b[38;5;28;01mreturn\u001b[39;00m \u001b[38;5;28;43msuper\u001b[39;49m\u001b[43m(\u001b[49m\u001b[43m)\u001b[49m\u001b[38;5;241;43m.\u001b[39;49m\u001b[43m_convert\u001b[49m\u001b[43m(\u001b[49m\u001b[43mvalue\u001b[49m\u001b[43m,\u001b[49m\u001b[43m \u001b[49m\u001b[43msrc\u001b[49m\u001b[43m,\u001b[49m\u001b[43m \u001b[49m\u001b[43mdst\u001b[49m\u001b[43m,\u001b[49m\u001b[43m \u001b[49m\u001b[43minplace\u001b[49m\u001b[43m)\u001b[49m\n",
      "File \u001b[0;32m~/Documents/coding_projects/bootcamp_local/Homeworks/Mild-Steel-Tempering/.venv/lib/python3.12/site-packages/pint/facets/nonmultiplicative/registry.py:259\u001b[0m, in \u001b[0;36mGenericNonMultiplicativeRegistry._convert\u001b[0;34m(self, value, src, dst, inplace)\u001b[0m\n\u001b[1;32m    257\u001b[0m \u001b[38;5;66;03m# convert if no offset units are present\u001b[39;00m\n\u001b[1;32m    258\u001b[0m \u001b[38;5;28;01mif\u001b[39;00m \u001b[38;5;129;01mnot\u001b[39;00m (src_offset_unit \u001b[38;5;129;01mor\u001b[39;00m dst_offset_unit):\n\u001b[0;32m--> 259\u001b[0m     \u001b[38;5;28;01mreturn\u001b[39;00m \u001b[38;5;28;43msuper\u001b[39;49m\u001b[43m(\u001b[49m\u001b[43m)\u001b[49m\u001b[38;5;241;43m.\u001b[39;49m\u001b[43m_convert\u001b[49m\u001b[43m(\u001b[49m\u001b[43mvalue\u001b[49m\u001b[43m,\u001b[49m\u001b[43m \u001b[49m\u001b[43msrc\u001b[49m\u001b[43m,\u001b[49m\u001b[43m \u001b[49m\u001b[43mdst\u001b[49m\u001b[43m,\u001b[49m\u001b[43m \u001b[49m\u001b[43minplace\u001b[49m\u001b[43m)\u001b[49m\n\u001b[1;32m    261\u001b[0m src_dim \u001b[38;5;241m=\u001b[39m \u001b[38;5;28mself\u001b[39m\u001b[38;5;241m.\u001b[39m_get_dimensionality(src)\n\u001b[1;32m    262\u001b[0m dst_dim \u001b[38;5;241m=\u001b[39m \u001b[38;5;28mself\u001b[39m\u001b[38;5;241m.\u001b[39m_get_dimensionality(dst)\n",
      "File \u001b[0;32m~/Documents/coding_projects/bootcamp_local/Homeworks/Mild-Steel-Tempering/.venv/lib/python3.12/site-packages/pint/facets/plain/registry.py:1088\u001b[0m, in \u001b[0;36mGenericPlainRegistry._convert\u001b[0;34m(self, value, src, dst, inplace, check_dimensionality)\u001b[0m\n\u001b[1;32m   1086\u001b[0m     value \u001b[38;5;241m*\u001b[39m\u001b[38;5;241m=\u001b[39m factor\n\u001b[1;32m   1087\u001b[0m \u001b[38;5;28;01melse\u001b[39;00m:\n\u001b[0;32m-> 1088\u001b[0m     value \u001b[38;5;241m=\u001b[39m \u001b[43mvalue\u001b[49m\u001b[43m \u001b[49m\u001b[38;5;241;43m*\u001b[39;49m\u001b[43m \u001b[49m\u001b[43mfactor\u001b[49m\n\u001b[1;32m   1090\u001b[0m \u001b[38;5;28;01mreturn\u001b[39;00m value\n",
      "\u001b[0;31mTypeError\u001b[0m: can't multiply sequence by non-int of type 'float'"
     ]
    }
   ],
   "source": [
    "pint_density.pint.to(\"kg / cc\")"
   ]
  },
  {
   "cell_type": "markdown",
   "metadata": {},
   "source": [
    "# Experimenting with pint and pandas\n"
   ]
  },
  {
   "cell_type": "code",
   "execution_count": 55,
   "metadata": {},
   "outputs": [
    {
     "data": {
      "text/html": [
       "<div>\n",
       "<style scoped>\n",
       "    .dataframe tbody tr th:only-of-type {\n",
       "        vertical-align: middle;\n",
       "    }\n",
       "\n",
       "    .dataframe tbody tr th {\n",
       "        vertical-align: top;\n",
       "    }\n",
       "\n",
       "    .dataframe thead th {\n",
       "        text-align: right;\n",
       "    }\n",
       "</style>\n",
       "<table border=\"1\" class=\"dataframe\">\n",
       "  <thead>\n",
       "    <tr style=\"text-align: right;\">\n",
       "      <th></th>\n",
       "      <th>density</th>\n",
       "      <th>angular_velocity</th>\n",
       "    </tr>\n",
       "  </thead>\n",
       "  <tbody>\n",
       "    <tr>\n",
       "      <th>0</th>\n",
       "      <td>1</td>\n",
       "      <td>1</td>\n",
       "    </tr>\n",
       "    <tr>\n",
       "      <th>1</th>\n",
       "      <td>2</td>\n",
       "      <td>2</td>\n",
       "    </tr>\n",
       "    <tr>\n",
       "      <th>2</th>\n",
       "      <td>2</td>\n",
       "      <td>2</td>\n",
       "    </tr>\n",
       "    <tr>\n",
       "      <th>3</th>\n",
       "      <td>3</td>\n",
       "      <td>3</td>\n",
       "    </tr>\n",
       "  </tbody>\n",
       "</table>\n",
       "</div>"
      ],
      "text/plain": [
       "   density  angular_velocity\n",
       "0        1                 1\n",
       "1        2                 2\n",
       "2        2                 2\n",
       "3        3                 3"
      ]
     },
     "execution_count": 55,
     "metadata": {},
     "output_type": "execute_result"
    }
   ],
   "source": [
    "\n",
    "df = pd.DataFrame({\n",
    "    \"density\": pd.Series([1, 2, 2, 3], dtype=\"pint[g / cc]\"),\n",
    "    \"angular_velocity\": pd.Series([1, 2, 2, 3], dtype=\"pint[cc]\"),\n",
    "})\n",
    "df\n",
    "\n"
   ]
  },
  {
   "cell_type": "code",
   "execution_count": 65,
   "metadata": {},
   "outputs": [
    {
     "data": {
      "text/html": [
       "<div>\n",
       "<style scoped>\n",
       "    .dataframe tbody tr th:only-of-type {\n",
       "        vertical-align: middle;\n",
       "    }\n",
       "\n",
       "    .dataframe tbody tr th {\n",
       "        vertical-align: top;\n",
       "    }\n",
       "\n",
       "    .dataframe thead th {\n",
       "        text-align: right;\n",
       "    }\n",
       "</style>\n",
       "<table border=\"1\" class=\"dataframe\">\n",
       "  <thead>\n",
       "    <tr style=\"text-align: right;\">\n",
       "      <th></th>\n",
       "      <th>density</th>\n",
       "      <th>vol</th>\n",
       "    </tr>\n",
       "  </thead>\n",
       "  <tbody>\n",
       "    <tr>\n",
       "      <th>0</th>\n",
       "      <td>1</td>\n",
       "      <td>1</td>\n",
       "    </tr>\n",
       "    <tr>\n",
       "      <th>1</th>\n",
       "      <td>2</td>\n",
       "      <td>2</td>\n",
       "    </tr>\n",
       "    <tr>\n",
       "      <th>2</th>\n",
       "      <td>2</td>\n",
       "      <td>2</td>\n",
       "    </tr>\n",
       "    <tr>\n",
       "      <th>3</th>\n",
       "      <td>3</td>\n",
       "      <td>3</td>\n",
       "    </tr>\n",
       "  </tbody>\n",
       "</table>\n",
       "</div>"
      ],
      "text/plain": [
       "   density  vol\n",
       "0        1    1\n",
       "1        2    2\n",
       "2        2    2\n",
       "3        3    3"
      ]
     },
     "execution_count": 65,
     "metadata": {},
     "output_type": "execute_result"
    }
   ],
   "source": [
    "\n",
    "df = pd.DataFrame({\n",
    "    \"density\": pd.Series([1, 2, 2, 3], dtype=\"pint[g / cc]\"),\n",
    "    \"vol\": pd.Series([1, 2, 2, 3], dtype=\"pint[cc]\"),\n",
    "})\n",
    "df\n"
   ]
  },
  {
   "cell_type": "code",
   "execution_count": 61,
   "metadata": {},
   "outputs": [
    {
     "name": "stdout",
     "output_type": "stream",
     "text": [
      "<class 'pandas.core.frame.DataFrame'>\n",
      "RangeIndex: 4 entries, 0 to 3\n",
      "Data columns (total 3 columns):\n",
      " #   Column   Non-Null Count  Dtype                        \n",
      "---  ------   --------------  -----                        \n",
      " 0   density  4 non-null      pint[gram / cubic_centimeter]\n",
      " 1   vol      4 non-null      pint[cubic_centimeter]       \n",
      " 2   grams    4 non-null      pint[gram]                   \n",
      "dtypes: pint[cubic_centimeter](1), pint[gram / cubic_centimeter](1), pint[gram](1)\n",
      "memory usage: 240.0 bytes\n"
     ]
    }
   ],
   "source": [
    "df['grams'] = df['density'] * df['vol']\n",
    "df.info()"
   ]
  },
  {
   "cell_type": "code",
   "execution_count": null,
   "metadata": {},
   "outputs": [],
   "source": []
  }
 ],
 "metadata": {
  "kernelspec": {
   "display_name": ".venv",
   "language": "python",
   "name": "python3"
  },
  "language_info": {
   "codemirror_mode": {
    "name": "ipython",
    "version": 3
   },
   "file_extension": ".py",
   "mimetype": "text/x-python",
   "name": "python",
   "nbconvert_exporter": "python",
   "pygments_lexer": "ipython3",
   "version": "3.12.6"
  }
 },
 "nbformat": 4,
 "nbformat_minor": 2
}
