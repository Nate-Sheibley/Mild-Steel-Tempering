{
 "cells": [
  {
   "cell_type": "code",
   "execution_count": 53,
   "metadata": {},
   "outputs": [
    {
     "name": "stdout",
     "output_type": "stream",
     "text": [
      "Requirement already satisfied: polars in ./.venv/lib/python3.12/site-packages (1.9.0)\n",
      "Requirement already satisfied: beautifulsoup4 in ./.venv/lib/python3.12/site-packages (4.12.3)\n",
      "Requirement already satisfied: splinter in ./.venv/lib/python3.12/site-packages (0.21.0)\n",
      "Requirement already satisfied: selenium in ./.venv/lib/python3.12/site-packages (4.25.0)\n",
      "Requirement already satisfied: scikit-learn in ./.venv/lib/python3.12/site-packages (1.5.2)\n",
      "Requirement already satisfied: altair in ./.venv/lib/python3.12/site-packages (5.4.1)\n",
      "Requirement already satisfied: vl-convert-python in ./.venv/lib/python3.12/site-packages (1.7.0)\n",
      "Requirement already satisfied: tensorflow in ./.venv/lib/python3.12/site-packages (2.17.0)\n",
      "Requirement already satisfied: keras-tuner in ./.venv/lib/python3.12/site-packages (1.4.7)\n",
      "Requirement already satisfied: pandas in ./.venv/lib/python3.12/site-packages (2.2.3)\n",
      "Requirement already satisfied: soupsieve>1.2 in ./.venv/lib/python3.12/site-packages (from beautifulsoup4) (2.6)\n",
      "Requirement already satisfied: urllib3<3.0,>=1.26.14 in ./.venv/lib/python3.12/site-packages (from splinter) (2.2.3)\n",
      "Requirement already satisfied: trio~=0.17 in ./.venv/lib/python3.12/site-packages (from selenium) (0.26.2)\n",
      "Requirement already satisfied: trio-websocket~=0.9 in ./.venv/lib/python3.12/site-packages (from selenium) (0.11.1)\n",
      "Requirement already satisfied: certifi>=2021.10.8 in ./.venv/lib/python3.12/site-packages (from selenium) (2024.8.30)\n",
      "Requirement already satisfied: typing_extensions~=4.9 in ./.venv/lib/python3.12/site-packages (from selenium) (4.12.2)\n",
      "Requirement already satisfied: websocket-client~=1.8 in ./.venv/lib/python3.12/site-packages (from selenium) (1.8.0)\n",
      "Requirement already satisfied: numpy>=1.19.5 in ./.venv/lib/python3.12/site-packages (from scikit-learn) (1.26.4)\n",
      "Requirement already satisfied: scipy>=1.6.0 in ./.venv/lib/python3.12/site-packages (from scikit-learn) (1.14.1)\n",
      "Requirement already satisfied: joblib>=1.2.0 in ./.venv/lib/python3.12/site-packages (from scikit-learn) (1.4.2)\n",
      "Requirement already satisfied: threadpoolctl>=3.1.0 in ./.venv/lib/python3.12/site-packages (from scikit-learn) (3.5.0)\n",
      "Requirement already satisfied: jinja2 in ./.venv/lib/python3.12/site-packages (from altair) (3.1.4)\n",
      "Requirement already satisfied: jsonschema>=3.0 in ./.venv/lib/python3.12/site-packages (from altair) (4.23.0)\n",
      "Requirement already satisfied: narwhals>=1.5.2 in ./.venv/lib/python3.12/site-packages (from altair) (1.9.3)\n",
      "Requirement already satisfied: packaging in ./.venv/lib/python3.12/site-packages (from altair) (24.1)\n",
      "Requirement already satisfied: absl-py>=1.0.0 in ./.venv/lib/python3.12/site-packages (from tensorflow) (2.1.0)\n",
      "Requirement already satisfied: astunparse>=1.6.0 in ./.venv/lib/python3.12/site-packages (from tensorflow) (1.6.3)\n",
      "Requirement already satisfied: flatbuffers>=24.3.25 in ./.venv/lib/python3.12/site-packages (from tensorflow) (24.3.25)\n",
      "Requirement already satisfied: gast!=0.5.0,!=0.5.1,!=0.5.2,>=0.2.1 in ./.venv/lib/python3.12/site-packages (from tensorflow) (0.6.0)\n",
      "Requirement already satisfied: google-pasta>=0.1.1 in ./.venv/lib/python3.12/site-packages (from tensorflow) (0.2.0)\n",
      "Requirement already satisfied: h5py>=3.10.0 in ./.venv/lib/python3.12/site-packages (from tensorflow) (3.12.1)\n",
      "Requirement already satisfied: libclang>=13.0.0 in ./.venv/lib/python3.12/site-packages (from tensorflow) (18.1.1)\n",
      "Requirement already satisfied: ml-dtypes<0.5.0,>=0.3.1 in ./.venv/lib/python3.12/site-packages (from tensorflow) (0.4.1)\n",
      "Requirement already satisfied: opt-einsum>=2.3.2 in ./.venv/lib/python3.12/site-packages (from tensorflow) (3.4.0)\n",
      "Requirement already satisfied: protobuf!=4.21.0,!=4.21.1,!=4.21.2,!=4.21.3,!=4.21.4,!=4.21.5,<5.0.0dev,>=3.20.3 in ./.venv/lib/python3.12/site-packages (from tensorflow) (4.25.5)\n",
      "Requirement already satisfied: requests<3,>=2.21.0 in ./.venv/lib/python3.12/site-packages (from tensorflow) (2.32.3)\n",
      "Requirement already satisfied: setuptools in ./.venv/lib/python3.12/site-packages (from tensorflow) (75.1.0)\n",
      "Requirement already satisfied: six>=1.12.0 in ./.venv/lib/python3.12/site-packages (from tensorflow) (1.16.0)\n",
      "Requirement already satisfied: termcolor>=1.1.0 in ./.venv/lib/python3.12/site-packages (from tensorflow) (2.5.0)\n",
      "Requirement already satisfied: wrapt>=1.11.0 in ./.venv/lib/python3.12/site-packages (from tensorflow) (1.16.0)\n",
      "Requirement already satisfied: grpcio<2.0,>=1.24.3 in ./.venv/lib/python3.12/site-packages (from tensorflow) (1.66.2)\n",
      "Requirement already satisfied: tensorboard<2.18,>=2.17 in ./.venv/lib/python3.12/site-packages (from tensorflow) (2.17.1)\n",
      "Requirement already satisfied: keras>=3.2.0 in ./.venv/lib/python3.12/site-packages (from tensorflow) (3.6.0)\n",
      "Requirement already satisfied: kt-legacy in ./.venv/lib/python3.12/site-packages (from keras-tuner) (1.0.5)\n",
      "Requirement already satisfied: python-dateutil>=2.8.2 in ./.venv/lib/python3.12/site-packages (from pandas) (2.9.0.post0)\n",
      "Requirement already satisfied: pytz>=2020.1 in ./.venv/lib/python3.12/site-packages (from pandas) (2024.2)\n",
      "Requirement already satisfied: tzdata>=2022.7 in ./.venv/lib/python3.12/site-packages (from pandas) (2024.2)\n",
      "Requirement already satisfied: wheel<1.0,>=0.23.0 in ./.venv/lib/python3.12/site-packages (from astunparse>=1.6.0->tensorflow) (0.44.0)\n",
      "Requirement already satisfied: attrs>=22.2.0 in ./.venv/lib/python3.12/site-packages (from jsonschema>=3.0->altair) (24.2.0)\n",
      "Requirement already satisfied: jsonschema-specifications>=2023.03.6 in ./.venv/lib/python3.12/site-packages (from jsonschema>=3.0->altair) (2024.10.1)\n",
      "Requirement already satisfied: referencing>=0.28.4 in ./.venv/lib/python3.12/site-packages (from jsonschema>=3.0->altair) (0.35.1)\n",
      "Requirement already satisfied: rpds-py>=0.7.1 in ./.venv/lib/python3.12/site-packages (from jsonschema>=3.0->altair) (0.20.0)\n",
      "Requirement already satisfied: rich in ./.venv/lib/python3.12/site-packages (from keras>=3.2.0->tensorflow) (13.9.2)\n",
      "Requirement already satisfied: namex in ./.venv/lib/python3.12/site-packages (from keras>=3.2.0->tensorflow) (0.0.8)\n",
      "Requirement already satisfied: optree in ./.venv/lib/python3.12/site-packages (from keras>=3.2.0->tensorflow) (0.13.0)\n",
      "Requirement already satisfied: charset-normalizer<4,>=2 in ./.venv/lib/python3.12/site-packages (from requests<3,>=2.21.0->tensorflow) (3.4.0)\n",
      "Requirement already satisfied: idna<4,>=2.5 in ./.venv/lib/python3.12/site-packages (from requests<3,>=2.21.0->tensorflow) (3.10)\n",
      "Requirement already satisfied: markdown>=2.6.8 in ./.venv/lib/python3.12/site-packages (from tensorboard<2.18,>=2.17->tensorflow) (3.7)\n",
      "Requirement already satisfied: tensorboard-data-server<0.8.0,>=0.7.0 in ./.venv/lib/python3.12/site-packages (from tensorboard<2.18,>=2.17->tensorflow) (0.7.2)\n",
      "Requirement already satisfied: werkzeug>=1.0.1 in ./.venv/lib/python3.12/site-packages (from tensorboard<2.18,>=2.17->tensorflow) (3.0.4)\n",
      "Requirement already satisfied: sortedcontainers in ./.venv/lib/python3.12/site-packages (from trio~=0.17->selenium) (2.4.0)\n",
      "Requirement already satisfied: outcome in ./.venv/lib/python3.12/site-packages (from trio~=0.17->selenium) (1.3.0.post0)\n",
      "Requirement already satisfied: sniffio>=1.3.0 in ./.venv/lib/python3.12/site-packages (from trio~=0.17->selenium) (1.3.1)\n",
      "Requirement already satisfied: wsproto>=0.14 in ./.venv/lib/python3.12/site-packages (from trio-websocket~=0.9->selenium) (1.2.0)\n",
      "Requirement already satisfied: pysocks!=1.5.7,<2.0,>=1.5.6 in ./.venv/lib/python3.12/site-packages (from urllib3[socks]<3,>=1.26->selenium) (1.7.1)\n",
      "Requirement already satisfied: MarkupSafe>=2.0 in ./.venv/lib/python3.12/site-packages (from jinja2->altair) (3.0.1)\n",
      "Requirement already satisfied: h11<1,>=0.9.0 in ./.venv/lib/python3.12/site-packages (from wsproto>=0.14->trio-websocket~=0.9->selenium) (0.14.0)\n",
      "Requirement already satisfied: markdown-it-py>=2.2.0 in ./.venv/lib/python3.12/site-packages (from rich->keras>=3.2.0->tensorflow) (3.0.0)\n",
      "Requirement already satisfied: pygments<3.0.0,>=2.13.0 in ./.venv/lib/python3.12/site-packages (from rich->keras>=3.2.0->tensorflow) (2.18.0)\n",
      "Requirement already satisfied: mdurl~=0.1 in ./.venv/lib/python3.12/site-packages (from markdown-it-py>=2.2.0->rich->keras>=3.2.0->tensorflow) (0.1.2)\n"
     ]
    }
   ],
   "source": [
    "!pip install polars beautifulsoup4 splinter selenium scikit-learn altair vl-convert-python tensorflow keras-tuner pandas"
   ]
  },
  {
   "cell_type": "code",
   "execution_count": 54,
   "metadata": {
    "notebookRunGroups": {
     "groupValue": "2"
    }
   },
   "outputs": [],
   "source": [
    "#Data Manipulation and display toools\n",
    "import polars as pl\n",
    "from polars.exceptions import InvalidOperationError\n",
    "import altair as alt\n",
    "import numpy as np\n",
    "import pathlib\n",
    "\n",
    "from IPython.display import display_html \n",
    "#Necessary for tensorflow on my machine due to distutils being depreciated\n",
    "\n",
    "# Data preprocessing tools\n",
    "from sklearn.preprocessing import StandardScaler, OneHotEncoder\n",
    "from sklearn.model_selection import train_test_split\n",
    "from sklearn.decomposition import PCA\n",
    "\n",
    "# Machine learning tools\n",
    "from sklearn.ensemble import GradientBoostingRegressor\n",
    "from sklearn.metrics import r2_score\n",
    "\n",
    "#Necessary for tensorflow on my machine due to distutils being depreciated\n",
    "import setuptools\n",
    "import tensorflow as tf\n",
    "from tensorflow.keras.layers import Dense\n",
    "from tensorflow.keras import Sequential\n",
    "import keras_tuner as kt\n",
    "\n",
    "random_state = 2112250415"
   ]
  },
  {
   "cell_type": "markdown",
   "metadata": {},
   "source": [
    "# Loading Data"
   ]
  },
  {
   "cell_type": "code",
   "execution_count": 55,
   "metadata": {
    "notebookRunGroups": {
     "groupValue": "2"
    }
   },
   "outputs": [
    {
     "name": "stdout",
     "output_type": "stream",
     "text": [
      "Path is project root\n"
     ]
    }
   ],
   "source": [
    "cwd = pathlib.Path.cwd()\n",
    "\n",
    "if cwd.name == 'Mild-Steel-Tempering':\n",
    "    print(\"Path is project root\")\n",
    "else:\n",
    "    print(\"Please correct current working directory to the project root\")\n"
   ]
  },
  {
   "cell_type": "code",
   "execution_count": 56,
   "metadata": {
    "notebookRunGroups": {
     "groupValue": "2"
    }
   },
   "outputs": [
    {
     "data": {
      "text/plain": [
       "PurePosixPath('/home/mox/Documents/coding_projects/bootcamp_local/Homeworks/Mild-Steel-Tempering/resources/pred_hardness')"
      ]
     },
     "execution_count": 56,
     "metadata": {},
     "output_type": "execute_result"
    }
   ],
   "source": [
    "resources_path = pathlib.PurePath(pathlib.PurePath(cwd), 'resources', 'pred_hardness')\n",
    "resources_path"
   ]
  },
  {
   "cell_type": "code",
   "execution_count": 57,
   "metadata": {
    "notebookRunGroups": {
     "groupValue": "2"
    }
   },
   "outputs": [
    {
     "data": {
      "text/plain": [
       "PurePosixPath('/home/mox/Documents/coding_projects/bootcamp_local/Homeworks/Mild-Steel-Tempering/images/pred_hardness')"
      ]
     },
     "execution_count": 57,
     "metadata": {},
     "output_type": "execute_result"
    }
   ],
   "source": [
    "images_path = pathlib.PurePath(pathlib.PurePath(cwd), 'images', 'pred_hardness')\n",
    "images_path"
   ]
  },
  {
   "cell_type": "markdown",
   "metadata": {},
   "source": [
    "# Loading Scraped data from the other file"
   ]
  },
  {
   "cell_type": "code",
   "execution_count": 58,
   "metadata": {},
   "outputs": [
    {
     "data": {
      "text/plain": [
       "(1286, 17)"
      ]
     },
     "execution_count": 58,
     "metadata": {},
     "output_type": "execute_result"
    }
   ],
   "source": [
    "data = pl.read_csv(f'{resources_path.parent}/all_cols_post_scrape.csv')\n",
    "data.shape"
   ]
  },
  {
   "cell_type": "code",
   "execution_count": 59,
   "metadata": {},
   "outputs": [
    {
     "data": {
      "text/html": [
       "<div><style>\n",
       ".dataframe > thead > tr,\n",
       ".dataframe > tbody > tr {\n",
       "  text-align: right;\n",
       "  white-space: pre-wrap;\n",
       "}\n",
       "</style>\n",
       "<small>shape: (3, 17)</small><table border=\"1\" class=\"dataframe\"><thead><tr><th>steel_type</th><th>C</th><th>Mn</th><th>P</th><th>S</th><th>Si</th><th>Ni</th><th>Cr</th><th>Mo</th><th>V</th><th>Al</th><th>Cu</th><th>final_hardness_post_tempering_HRC</th><th>yield_strength_MPa</th><th>ultimate_strength_MPA</th><th>tempering_time_s</th><th>tempering_temperature_C</th></tr><tr><td>str</td><td>f64</td><td>f64</td><td>f64</td><td>f64</td><td>f64</td><td>f64</td><td>f64</td><td>f64</td><td>f64</td><td>f64</td><td>f64</td><td>f64</td><td>i64</td><td>i64</td><td>i64</td><td>f64</td></tr></thead><tbody><tr><td>&quot;1,15%C - plain carbon steel&quot;</td><td>1.15</td><td>0.58</td><td>0.012</td><td>0.021</td><td>0.09</td><td>0.0</td><td>0.01</td><td>0.0</td><td>0.0</td><td>0.0</td><td>0.0</td><td>32.0</td><td>525</td><td>685</td><td>86400</td><td>500.0</td></tr><tr><td>&quot;1,15%C - plain carbon steel&quot;</td><td>1.15</td><td>0.58</td><td>0.012</td><td>0.021</td><td>0.09</td><td>0.0</td><td>0.01</td><td>0.0</td><td>0.0</td><td>0.0</td><td>0.0</td><td>23.0</td><td>525</td><td>685</td><td>86400</td><td>600.0</td></tr><tr><td>&quot;1,15%C - plain carbon steel&quot;</td><td>1.15</td><td>0.58</td><td>0.012</td><td>0.021</td><td>0.09</td><td>0.0</td><td>0.01</td><td>0.0</td><td>0.0</td><td>0.0</td><td>0.0</td><td>4.5</td><td>525</td><td>685</td><td>86400</td><td>700.0</td></tr></tbody></table></div>"
      ],
      "text/plain": [
       "shape: (3, 17)\n",
       "┌──────────────┬──────┬──────┬───────┬───┬──────────────┬──────────────┬─────────────┬─────────────┐\n",
       "│ steel_type   ┆ C    ┆ Mn   ┆ P     ┆ … ┆ yield_streng ┆ ultimate_str ┆ tempering_t ┆ tempering_t │\n",
       "│ ---          ┆ ---  ┆ ---  ┆ ---   ┆   ┆ th_MPa       ┆ ength_MPA    ┆ ime_s       ┆ emperature_ │\n",
       "│ str          ┆ f64  ┆ f64  ┆ f64   ┆   ┆ ---          ┆ ---          ┆ ---         ┆ C           │\n",
       "│              ┆      ┆      ┆       ┆   ┆ i64          ┆ i64          ┆ i64         ┆ ---         │\n",
       "│              ┆      ┆      ┆       ┆   ┆              ┆              ┆             ┆ f64         │\n",
       "╞══════════════╪══════╪══════╪═══════╪═══╪══════════════╪══════════════╪═════════════╪═════════════╡\n",
       "│ 1,15%C -     ┆ 1.15 ┆ 0.58 ┆ 0.012 ┆ … ┆ 525          ┆ 685          ┆ 86400       ┆ 500.0       │\n",
       "│ plain carbon ┆      ┆      ┆       ┆   ┆              ┆              ┆             ┆             │\n",
       "│ steel        ┆      ┆      ┆       ┆   ┆              ┆              ┆             ┆             │\n",
       "│ 1,15%C -     ┆ 1.15 ┆ 0.58 ┆ 0.012 ┆ … ┆ 525          ┆ 685          ┆ 86400       ┆ 600.0       │\n",
       "│ plain carbon ┆      ┆      ┆       ┆   ┆              ┆              ┆             ┆             │\n",
       "│ steel        ┆      ┆      ┆       ┆   ┆              ┆              ┆             ┆             │\n",
       "│ 1,15%C -     ┆ 1.15 ┆ 0.58 ┆ 0.012 ┆ … ┆ 525          ┆ 685          ┆ 86400       ┆ 700.0       │\n",
       "│ plain carbon ┆      ┆      ┆       ┆   ┆              ┆              ┆             ┆             │\n",
       "│ steel        ┆      ┆      ┆       ┆   ┆              ┆              ┆             ┆             │\n",
       "└──────────────┴──────┴──────┴───────┴───┴──────────────┴──────────────┴─────────────┴─────────────┘"
      ]
     },
     "execution_count": 59,
     "metadata": {},
     "output_type": "execute_result"
    }
   ],
   "source": [
    "data.tail(3)"
   ]
  },
  {
   "cell_type": "markdown",
   "metadata": {},
   "source": [
    "# Select columns that have relevant data for the analysis\n",
    "\n",
    "Exclude:\n",
    "* Source data - does not provide information about the problem\n",
    "* initial hardness - very incomplete data and no accurate way to fill it\n",
    "* searchable -  contains more information than searchable, but is likely relipcated in elemental\n",
    "  * Searchable contains fewer values, this grouping was used to scrape the strength values and contains no additional information\n",
    "  * steel_type contains steel denotation from the papers. The informationa in this column is replicated in the elemental composition columns\n",
    "  * PCA will handle this\n"
   ]
  },
  {
   "cell_type": "markdown",
   "metadata": {},
   "source": [
    "# Preprocessing the data for machine learning"
   ]
  },
  {
   "cell_type": "code",
   "execution_count": 60,
   "metadata": {},
   "outputs": [],
   "source": [
    "target_columns = ['final_hardness_post_tempering_HRC']\n",
    "\n",
    "X_prepre = data.drop(target_columns)\n",
    "\n",
    "y_prepre = data.select(target_columns)"
   ]
  },
  {
   "cell_type": "code",
   "execution_count": 61,
   "metadata": {},
   "outputs": [
    {
     "data": {
      "text/html": [
       "<div><style>\n",
       ".dataframe > thead > tr,\n",
       ".dataframe > tbody > tr {\n",
       "  text-align: right;\n",
       "  white-space: pre-wrap;\n",
       "}\n",
       "</style>\n",
       "<small>shape: (3, 1)</small><table border=\"1\" class=\"dataframe\"><thead><tr><th>final_hardness_post_tempering_HRC</th></tr><tr><td>f64</td></tr></thead><tbody><tr><td>50.6</td></tr><tr><td>48.3</td></tr><tr><td>43.7</td></tr></tbody></table></div>"
      ],
      "text/plain": [
       "shape: (3, 1)\n",
       "┌─────────────────────────────────┐\n",
       "│ final_hardness_post_tempering_… │\n",
       "│ ---                             │\n",
       "│ f64                             │\n",
       "╞═════════════════════════════════╡\n",
       "│ 50.6                            │\n",
       "│ 48.3                            │\n",
       "│ 43.7                            │\n",
       "└─────────────────────────────────┘"
      ]
     },
     "execution_count": 61,
     "metadata": {},
     "output_type": "execute_result"
    }
   ],
   "source": [
    "y_prepre.head(3)"
   ]
  },
  {
   "cell_type": "code",
   "execution_count": 62,
   "metadata": {},
   "outputs": [
    {
     "data": {
      "text/html": [
       "<div><style>\n",
       ".dataframe > thead > tr,\n",
       ".dataframe > tbody > tr {\n",
       "  text-align: right;\n",
       "  white-space: pre-wrap;\n",
       "}\n",
       "</style>\n",
       "<small>shape: (9, 2)</small><table border=\"1\" class=\"dataframe\"><thead><tr><th>statistic</th><th>final_hardness_post_tempering_HRC</th></tr><tr><td>str</td><td>f64</td></tr></thead><tbody><tr><td>&quot;count&quot;</td><td>1286.0</td></tr><tr><td>&quot;null_count&quot;</td><td>0.0</td></tr><tr><td>&quot;mean&quot;</td><td>41.810653</td></tr><tr><td>&quot;std&quot;</td><td>14.373455</td></tr><tr><td>&quot;min&quot;</td><td>0.9</td></tr><tr><td>&quot;25%&quot;</td><td>32.5</td></tr><tr><td>&quot;50%&quot;</td><td>43.6</td></tr><tr><td>&quot;75%&quot;</td><td>52.3</td></tr><tr><td>&quot;max&quot;</td><td>68.5</td></tr></tbody></table></div>"
      ],
      "text/plain": [
       "shape: (9, 2)\n",
       "┌────────────┬─────────────────────────────────┐\n",
       "│ statistic  ┆ final_hardness_post_tempering_… │\n",
       "│ ---        ┆ ---                             │\n",
       "│ str        ┆ f64                             │\n",
       "╞════════════╪═════════════════════════════════╡\n",
       "│ count      ┆ 1286.0                          │\n",
       "│ null_count ┆ 0.0                             │\n",
       "│ mean       ┆ 41.810653                       │\n",
       "│ std        ┆ 14.373455                       │\n",
       "│ min        ┆ 0.9                             │\n",
       "│ 25%        ┆ 32.5                            │\n",
       "│ 50%        ┆ 43.6                            │\n",
       "│ 75%        ┆ 52.3                            │\n",
       "│ max        ┆ 68.5                            │\n",
       "└────────────┴─────────────────────────────────┘"
      ]
     },
     "execution_count": 62,
     "metadata": {},
     "output_type": "execute_result"
    }
   ],
   "source": [
    "y_prepre.describe()"
   ]
  },
  {
   "cell_type": "markdown",
   "metadata": {},
   "source": [
    "# Preprocess target values\n",
    "\n",
    "Target values are continuious.\n",
    "\n",
    "TODO: determine preprocessing, if any. Test effects of scaling vs not."
   ]
  },
  {
   "cell_type": "code",
   "execution_count": 63,
   "metadata": {},
   "outputs": [],
   "source": [
    "y_scaler = StandardScaler()\n",
    "\n",
    "y_scaler.fit(y_prepre)\n",
    "\n",
    "y = y_scaler.transform(y_prepre)"
   ]
  },
  {
   "cell_type": "markdown",
   "metadata": {},
   "source": [
    "# Preprocess data values"
   ]
  },
  {
   "cell_type": "code",
   "execution_count": 64,
   "metadata": {},
   "outputs": [
    {
     "name": "stdout",
     "output_type": "stream",
     "text": [
      "(1286, 16)\n"
     ]
    },
    {
     "data": {
      "text/html": [
       "<div><style>\n",
       ".dataframe > thead > tr,\n",
       ".dataframe > tbody > tr {\n",
       "  text-align: right;\n",
       "  white-space: pre-wrap;\n",
       "}\n",
       "</style>\n",
       "<small>shape: (3, 16)</small><table border=\"1\" class=\"dataframe\"><thead><tr><th>steel_type</th><th>C</th><th>Mn</th><th>P</th><th>S</th><th>Si</th><th>Ni</th><th>Cr</th><th>Mo</th><th>V</th><th>Al</th><th>Cu</th><th>yield_strength_MPa</th><th>ultimate_strength_MPA</th><th>tempering_time_s</th><th>tempering_temperature_C</th></tr><tr><td>str</td><td>f64</td><td>f64</td><td>f64</td><td>f64</td><td>f64</td><td>f64</td><td>f64</td><td>f64</td><td>f64</td><td>f64</td><td>f64</td><td>i64</td><td>i64</td><td>i64</td><td>f64</td></tr></thead><tbody><tr><td>&quot;AISI-SAE 1026&quot;</td><td>0.25</td><td>0.79</td><td>0.012</td><td>0.026</td><td>0.11</td><td>0.0</td><td>0.0</td><td>0.0</td><td>0.0</td><td>0.0</td><td>0.0</td><td>415</td><td>490</td><td>600</td><td>204.4</td></tr><tr><td>&quot;AISI-SAE 1026&quot;</td><td>0.25</td><td>0.79</td><td>0.012</td><td>0.026</td><td>0.11</td><td>0.0</td><td>0.0</td><td>0.0</td><td>0.0</td><td>0.0</td><td>0.0</td><td>415</td><td>490</td><td>600</td><td>260.0</td></tr><tr><td>&quot;AISI-SAE 1026&quot;</td><td>0.25</td><td>0.79</td><td>0.012</td><td>0.026</td><td>0.11</td><td>0.0</td><td>0.0</td><td>0.0</td><td>0.0</td><td>0.0</td><td>0.0</td><td>415</td><td>490</td><td>600</td><td>315.6</td></tr></tbody></table></div>"
      ],
      "text/plain": [
       "shape: (3, 16)\n",
       "┌──────────────┬──────┬──────┬───────┬───┬──────────────┬──────────────┬─────────────┬─────────────┐\n",
       "│ steel_type   ┆ C    ┆ Mn   ┆ P     ┆ … ┆ yield_streng ┆ ultimate_str ┆ tempering_t ┆ tempering_t │\n",
       "│ ---          ┆ ---  ┆ ---  ┆ ---   ┆   ┆ th_MPa       ┆ ength_MPA    ┆ ime_s       ┆ emperature_ │\n",
       "│ str          ┆ f64  ┆ f64  ┆ f64   ┆   ┆ ---          ┆ ---          ┆ ---         ┆ C           │\n",
       "│              ┆      ┆      ┆       ┆   ┆ i64          ┆ i64          ┆ i64         ┆ ---         │\n",
       "│              ┆      ┆      ┆       ┆   ┆              ┆              ┆             ┆ f64         │\n",
       "╞══════════════╪══════╪══════╪═══════╪═══╪══════════════╪══════════════╪═════════════╪═════════════╡\n",
       "│ AISI-SAE     ┆ 0.25 ┆ 0.79 ┆ 0.012 ┆ … ┆ 415          ┆ 490          ┆ 600         ┆ 204.4       │\n",
       "│ 1026         ┆      ┆      ┆       ┆   ┆              ┆              ┆             ┆             │\n",
       "│ AISI-SAE     ┆ 0.25 ┆ 0.79 ┆ 0.012 ┆ … ┆ 415          ┆ 490          ┆ 600         ┆ 260.0       │\n",
       "│ 1026         ┆      ┆      ┆       ┆   ┆              ┆              ┆             ┆             │\n",
       "│ AISI-SAE     ┆ 0.25 ┆ 0.79 ┆ 0.012 ┆ … ┆ 415          ┆ 490          ┆ 600         ┆ 315.6       │\n",
       "│ 1026         ┆      ┆      ┆       ┆   ┆              ┆              ┆             ┆             │\n",
       "└──────────────┴──────┴──────┴───────┴───┴──────────────┴──────────────┴─────────────┴─────────────┘"
      ]
     },
     "execution_count": 64,
     "metadata": {},
     "output_type": "execute_result"
    }
   ],
   "source": [
    "print(X_prepre.shape)\n",
    "X_prepre.head(3)"
   ]
  },
  {
   "cell_type": "markdown",
   "metadata": {},
   "source": [
    "# Encode and scale variables\n",
    "Most columns are numeric and range from 0.0# to 1000 so scaling is necessary\n",
    "steel names are categorical and would benefit from one-hot encoding."
   ]
  },
  {
   "cell_type": "code",
   "execution_count": 65,
   "metadata": {},
   "outputs": [],
   "source": [
    "to_scale = X_prepre.drop('steel_type')\n",
    "check_onehot = X_prepre.select('steel_type')"
   ]
  },
  {
   "cell_type": "markdown",
   "metadata": {},
   "source": [
    "## One hot encode steel types\n",
    "\n",
    "Encoding chosen because this is a categorical for a given material and testing suite"
   ]
  },
  {
   "cell_type": "markdown",
   "metadata": {},
   "source": [
    "### Unify steel names so there is only 1 column per steel code"
   ]
  },
  {
   "cell_type": "code",
   "execution_count": 66,
   "metadata": {},
   "outputs": [],
   "source": [
    "#1945 source...\n",
    "# I can not access source for the 1945 paper on these\n",
    "# I assume they alloying elements are a bit strange due to wartime shortages\n",
    "# and potentially contamination between alloys due to the push to increasew prodiction\n",
    "dict_rename = {'0,98%C - plain carbon steel': 'AISI 1095', # copper and Cr, probably intentional?\n",
    "                   '1,15%C - plain carbon steel': 'AISI 1095', # small chromium impurity?\n",
    "                   '0,74%C - plain carbon steel': 'AISI 1074 Carbon Steel', \n",
    "                   '0,56%C - plain carbon steel': 'AISI 1055', # small chromium impurity?\n",
    "                   '0,89%C - plain carbon steel': 'AISI 1090', # Cu discounted as impurity\n",
    "                   'Nitriding Steel ': 'Non-searchable', \n",
    "                   '0,31%C - plain carbon steel': 'AISI 1030', # AISI 1030, Cr impurity\n",
    "                   # These 4 steels are automotive steels and free access to the properties is unavailable to my knowledge\n",
    "                   \"AISI-SAE 9264\" : 'AISI-SAE 9254', # access limited, may be AISI-SAE 9264 , not in AZoM\n",
    "                   \"AISI-SAE 2340\" : 'Non-searchable', # access limited, may be SAE J2340, not in AZoM\n",
    "                   \"AISI-SAE 3140\" : 'Non-searchable', # Not in AZoM. elemental match to SAE 3140 https://www.steel-grades.com/metals/18/5155/-SAE-3140.html\n",
    "                   \"AISI-SAE 4068\" : 'Non-searchable', # access limited, may be SAE 4068, not in AZoM\n",
    "                \n",
    "                    \"AISI-SAE 4640\" : \"AISI 4640\",\n",
    "                   \"AISI-SAE 4047\" : \"AISI 4047\",\n",
    "                   \"AISI-SAE 1049\" : \"AISI 1049\",\n",
    "                   \"AISI-SAE 6145\" : \"AISI 6145\",\n",
    "                   \"AISI-SAE E52100\" : \"AISI 52100\"} # # Not in AZoM elemental match to  SAE 4068https://www.steel-grades.com/Steel-Grades/Carbon-Steel/SAE-4068-.html"
   ]
  },
  {
   "cell_type": "code",
   "execution_count": 67,
   "metadata": {},
   "outputs": [
    {
     "name": "stdout",
     "output_type": "stream",
     "text": [
      "30\n",
      "AISI-SAE 5140\n",
      "AISI 1055\n",
      "AISI-SAE 1065\n",
      "AISI-SAE 1038\n",
      "AISI-SAE 1335\n",
      "AISI-SAE 4027\n",
      "AISI 4047\n",
      "AISI-SAE 1045\n",
      "AISI-SAE 4140\n",
      "AISI-SAE 9254\n",
      "AISI-SAE 1080\n",
      "AISI 6145\n",
      "AISI-SAE 4037\n",
      "AISI-SAE 4340\n",
      "AISI-SAE 1050\n",
      "AISI-SAE 1026\n",
      "AISI 4640\n",
      "AISI-SAE 5160\n",
      "AISI-SAE 6150\n",
      "AISI 1090\n",
      "AISI 52100\n",
      "AISI 1049\n",
      "AISI 1074 Carbon Steel\n",
      "AISI-SAE 1035\n",
      "AISI-SAE 1042\n",
      "AISI 1095\n",
      "AISI 1030\n",
      "AISI-SAE 1040\n",
      "28\n"
     ]
    }
   ],
   "source": [
    "print(len(check_onehot.unique()))\n",
    "# correct duplicate name \n",
    "dict_rename.update({'AISI-SAE 1030': \"AISI 1030\"})\n",
    "to_onehot = check_onehot['steel_type']\\\n",
    "    .replace(dict_rename)\\\n",
    "    .str.strip_chars()\n",
    "[print(val) for val in to_onehot.unique()]\n",
    "print(len(to_onehot.unique()))"
   ]
  },
  {
   "cell_type": "code",
   "execution_count": 68,
   "metadata": {},
   "outputs": [
    {
     "data": {
      "text/plain": [
       "(1286, 1)"
      ]
     },
     "execution_count": 68,
     "metadata": {},
     "output_type": "execute_result"
    }
   ],
   "source": [
    "to_onehot = pl.DataFrame(to_onehot)\n",
    "to_onehot.shape"
   ]
  },
  {
   "cell_type": "code",
   "execution_count": 69,
   "metadata": {},
   "outputs": [
    {
     "data": {
      "text/html": [
       "<div><style>\n",
       ".dataframe > thead > tr,\n",
       ".dataframe > tbody > tr {\n",
       "  text-align: right;\n",
       "  white-space: pre-wrap;\n",
       "}\n",
       "</style>\n",
       "<small>shape: (3, 28)</small><table border=\"1\" class=\"dataframe\"><thead><tr><th>steel_type_AISI 1030</th><th>steel_type_AISI 1049</th><th>steel_type_AISI 1055</th><th>steel_type_AISI 1074 Carbon Steel</th><th>steel_type_AISI 1090</th><th>steel_type_AISI 1095</th><th>steel_type_AISI 4047</th><th>steel_type_AISI 4640</th><th>steel_type_AISI 52100</th><th>steel_type_AISI 6145</th><th>steel_type_AISI-SAE 1026</th><th>steel_type_AISI-SAE 1035</th><th>steel_type_AISI-SAE 1038</th><th>steel_type_AISI-SAE 1040</th><th>steel_type_AISI-SAE 1042</th><th>steel_type_AISI-SAE 1045</th><th>steel_type_AISI-SAE 1050</th><th>steel_type_AISI-SAE 1065</th><th>steel_type_AISI-SAE 1080</th><th>steel_type_AISI-SAE 1335</th><th>steel_type_AISI-SAE 4027</th><th>steel_type_AISI-SAE 4037</th><th>steel_type_AISI-SAE 4140</th><th>steel_type_AISI-SAE 4340</th><th>steel_type_AISI-SAE 5140</th><th>steel_type_AISI-SAE 5160</th><th>steel_type_AISI-SAE 6150</th><th>steel_type_AISI-SAE 9254</th></tr><tr><td>f64</td><td>f64</td><td>f64</td><td>f64</td><td>f64</td><td>f64</td><td>f64</td><td>f64</td><td>f64</td><td>f64</td><td>f64</td><td>f64</td><td>f64</td><td>f64</td><td>f64</td><td>f64</td><td>f64</td><td>f64</td><td>f64</td><td>f64</td><td>f64</td><td>f64</td><td>f64</td><td>f64</td><td>f64</td><td>f64</td><td>f64</td><td>f64</td></tr></thead><tbody><tr><td>0.0</td><td>0.0</td><td>0.0</td><td>0.0</td><td>0.0</td><td>1.0</td><td>0.0</td><td>0.0</td><td>0.0</td><td>0.0</td><td>0.0</td><td>0.0</td><td>0.0</td><td>0.0</td><td>0.0</td><td>0.0</td><td>0.0</td><td>0.0</td><td>0.0</td><td>0.0</td><td>0.0</td><td>0.0</td><td>0.0</td><td>0.0</td><td>0.0</td><td>0.0</td><td>0.0</td><td>0.0</td></tr><tr><td>0.0</td><td>0.0</td><td>0.0</td><td>0.0</td><td>0.0</td><td>1.0</td><td>0.0</td><td>0.0</td><td>0.0</td><td>0.0</td><td>0.0</td><td>0.0</td><td>0.0</td><td>0.0</td><td>0.0</td><td>0.0</td><td>0.0</td><td>0.0</td><td>0.0</td><td>0.0</td><td>0.0</td><td>0.0</td><td>0.0</td><td>0.0</td><td>0.0</td><td>0.0</td><td>0.0</td><td>0.0</td></tr><tr><td>0.0</td><td>0.0</td><td>0.0</td><td>0.0</td><td>0.0</td><td>1.0</td><td>0.0</td><td>0.0</td><td>0.0</td><td>0.0</td><td>0.0</td><td>0.0</td><td>0.0</td><td>0.0</td><td>0.0</td><td>0.0</td><td>0.0</td><td>0.0</td><td>0.0</td><td>0.0</td><td>0.0</td><td>0.0</td><td>0.0</td><td>0.0</td><td>0.0</td><td>0.0</td><td>0.0</td><td>0.0</td></tr></tbody></table></div>"
      ],
      "text/plain": [
       "shape: (3, 28)\n",
       "┌───────────┬───────────┬───────────┬───────────┬───┬───────────┬───────────┬───────────┬──────────┐\n",
       "│ steel_typ ┆ steel_typ ┆ steel_typ ┆ steel_typ ┆ … ┆ steel_typ ┆ steel_typ ┆ steel_typ ┆ steel_ty │\n",
       "│ e_AISI    ┆ e_AISI    ┆ e_AISI    ┆ e_AISI    ┆   ┆ e_AISI-SA ┆ e_AISI-SA ┆ e_AISI-SA ┆ pe_AISI- │\n",
       "│ 1030      ┆ 1049      ┆ 1055      ┆ 1074      ┆   ┆ E 5140    ┆ E 5160    ┆ E 6150    ┆ SAE 9254 │\n",
       "│ ---       ┆ ---       ┆ ---       ┆ Carbon    ┆   ┆ ---       ┆ ---       ┆ ---       ┆ ---      │\n",
       "│ f64       ┆ f64       ┆ f64       ┆ St…       ┆   ┆ f64       ┆ f64       ┆ f64       ┆ f64      │\n",
       "│           ┆           ┆           ┆ ---       ┆   ┆           ┆           ┆           ┆          │\n",
       "│           ┆           ┆           ┆ f64       ┆   ┆           ┆           ┆           ┆          │\n",
       "╞═══════════╪═══════════╪═══════════╪═══════════╪═══╪═══════════╪═══════════╪═══════════╪══════════╡\n",
       "│ 0.0       ┆ 0.0       ┆ 0.0       ┆ 0.0       ┆ … ┆ 0.0       ┆ 0.0       ┆ 0.0       ┆ 0.0      │\n",
       "│ 0.0       ┆ 0.0       ┆ 0.0       ┆ 0.0       ┆ … ┆ 0.0       ┆ 0.0       ┆ 0.0       ┆ 0.0      │\n",
       "│ 0.0       ┆ 0.0       ┆ 0.0       ┆ 0.0       ┆ … ┆ 0.0       ┆ 0.0       ┆ 0.0       ┆ 0.0      │\n",
       "└───────────┴───────────┴───────────┴───────────┴───┴───────────┴───────────┴───────────┴──────────┘"
      ]
     },
     "execution_count": 69,
     "metadata": {},
     "output_type": "execute_result"
    }
   ],
   "source": [
    "# create the transformers\n",
    "ohe = OneHotEncoder(handle_unknown='ignore')\n",
    "\n",
    "oh_transformed = ohe.fit_transform(to_onehot)\n",
    "\n",
    "# get the transformed column names\n",
    "ohe_names = ohe.get_feature_names_out()\n",
    "\n",
    "# 4 stack exchange methods tried. Then I made this one up ¯\\_(ツ)_/¯\n",
    "# Combinated of recenly changed API and polars I think, no way to rename all columns like in pandas.\n",
    "columns = [f'column_{x}' for x in range(0, 30)]\n",
    "rename_dict = dict(zip(columns, ohe_names))\n",
    "\n",
    "df_ohe_encoded = pl.DataFrame(oh_transformed.toarray()).rename(rename_dict)\n",
    "df_ohe_encoded.tail(3)"
   ]
  },
  {
   "cell_type": "markdown",
   "metadata": {},
   "source": [
    "## Scale numerical columns \n",
    "This will ensure the small elemental composition values are not overshadowed by the large strength properties "
   ]
  },
  {
   "cell_type": "code",
   "execution_count": 70,
   "metadata": {},
   "outputs": [
    {
     "data": {
      "text/html": [
       "<div><style>\n",
       ".dataframe > thead > tr,\n",
       ".dataframe > tbody > tr {\n",
       "  text-align: right;\n",
       "  white-space: pre-wrap;\n",
       "}\n",
       "</style>\n",
       "<small>shape: (3, 15)</small><table border=\"1\" class=\"dataframe\"><thead><tr><th>C</th><th>Mn</th><th>P</th><th>S</th><th>Si</th><th>Ni</th><th>Cr</th><th>Mo</th><th>V</th><th>Al</th><th>Cu</th><th>yield_strength_MPa</th><th>ultimate_strength_MPA</th><th>tempering_time_s</th><th>tempering_temperature_C</th></tr><tr><td>f64</td><td>f64</td><td>f64</td><td>f64</td><td>f64</td><td>f64</td><td>f64</td><td>f64</td><td>f64</td><td>f64</td><td>f64</td><td>i64</td><td>i64</td><td>i64</td><td>f64</td></tr></thead><tbody><tr><td>1.15</td><td>0.58</td><td>0.012</td><td>0.021</td><td>0.09</td><td>0.0</td><td>0.01</td><td>0.0</td><td>0.0</td><td>0.0</td><td>0.0</td><td>525</td><td>685</td><td>86400</td><td>500.0</td></tr><tr><td>1.15</td><td>0.58</td><td>0.012</td><td>0.021</td><td>0.09</td><td>0.0</td><td>0.01</td><td>0.0</td><td>0.0</td><td>0.0</td><td>0.0</td><td>525</td><td>685</td><td>86400</td><td>600.0</td></tr><tr><td>1.15</td><td>0.58</td><td>0.012</td><td>0.021</td><td>0.09</td><td>0.0</td><td>0.01</td><td>0.0</td><td>0.0</td><td>0.0</td><td>0.0</td><td>525</td><td>685</td><td>86400</td><td>700.0</td></tr></tbody></table></div>"
      ],
      "text/plain": [
       "shape: (3, 15)\n",
       "┌──────┬──────┬───────┬───────┬───┬────────────────┬───────────────┬───────────────┬───────────────┐\n",
       "│ C    ┆ Mn   ┆ P     ┆ S     ┆ … ┆ yield_strength ┆ ultimate_stre ┆ tempering_tim ┆ tempering_tem │\n",
       "│ ---  ┆ ---  ┆ ---   ┆ ---   ┆   ┆ _MPa           ┆ ngth_MPA      ┆ e_s           ┆ perature_C    │\n",
       "│ f64  ┆ f64  ┆ f64   ┆ f64   ┆   ┆ ---            ┆ ---           ┆ ---           ┆ ---           │\n",
       "│      ┆      ┆       ┆       ┆   ┆ i64            ┆ i64           ┆ i64           ┆ f64           │\n",
       "╞══════╪══════╪═══════╪═══════╪═══╪════════════════╪═══════════════╪═══════════════╪═══════════════╡\n",
       "│ 1.15 ┆ 0.58 ┆ 0.012 ┆ 0.021 ┆ … ┆ 525            ┆ 685           ┆ 86400         ┆ 500.0         │\n",
       "│ 1.15 ┆ 0.58 ┆ 0.012 ┆ 0.021 ┆ … ┆ 525            ┆ 685           ┆ 86400         ┆ 600.0         │\n",
       "│ 1.15 ┆ 0.58 ┆ 0.012 ┆ 0.021 ┆ … ┆ 525            ┆ 685           ┆ 86400         ┆ 700.0         │\n",
       "└──────┴──────┴───────┴───────┴───┴────────────────┴───────────────┴───────────────┴───────────────┘"
      ]
     },
     "execution_count": 70,
     "metadata": {},
     "output_type": "execute_result"
    }
   ],
   "source": [
    "to_scale.tail(3)"
   ]
  },
  {
   "cell_type": "code",
   "execution_count": 71,
   "metadata": {},
   "outputs": [
    {
     "data": {
      "text/html": [
       "<div><style>\n",
       ".dataframe > thead > tr,\n",
       ".dataframe > tbody > tr {\n",
       "  text-align: right;\n",
       "  white-space: pre-wrap;\n",
       "}\n",
       "</style>\n",
       "<small>shape: (3, 15)</small><table border=\"1\" class=\"dataframe\"><thead><tr><th>C</th><th>Mn</th><th>P</th><th>S</th><th>Si</th><th>Ni</th><th>Cr</th><th>Mo</th><th>V</th><th>Al</th><th>Cu</th><th>yield_strength_MPa</th><th>ultimate_strength_MPA</th><th>tempering_time_s</th><th>column_14</th></tr><tr><td>f64</td><td>f64</td><td>f64</td><td>f64</td><td>f64</td><td>f64</td><td>f64</td><td>f64</td><td>f64</td><td>f64</td><td>f64</td><td>f64</td><td>f64</td><td>f64</td><td>f64</td></tr></thead><tbody><tr><td>2.69532</td><td>-0.618793</td><td>-0.60703</td><td>-0.394811</td><td>-0.591857</td><td>-0.392117</td><td>-0.791743</td><td>-0.638219</td><td>-0.201129</td><td>0.0</td><td>-0.337311</td><td>0.188703</td><td>-0.105424</td><td>1.89775</td><td>0.467987</td></tr><tr><td>2.69532</td><td>-0.618793</td><td>-0.60703</td><td>-0.394811</td><td>-0.591857</td><td>-0.392117</td><td>-0.791743</td><td>-0.638219</td><td>-0.201129</td><td>0.0</td><td>-0.337311</td><td>0.188703</td><td>-0.105424</td><td>1.89775</td><td>1.028689</td></tr><tr><td>2.69532</td><td>-0.618793</td><td>-0.60703</td><td>-0.394811</td><td>-0.591857</td><td>-0.392117</td><td>-0.791743</td><td>-0.638219</td><td>-0.201129</td><td>0.0</td><td>-0.337311</td><td>0.188703</td><td>-0.105424</td><td>1.89775</td><td>1.589391</td></tr></tbody></table></div>"
      ],
      "text/plain": [
       "shape: (3, 15)\n",
       "┌─────────┬───────────┬──────────┬───────────┬───┬────────────┬────────────┬───────────┬───────────┐\n",
       "│ C       ┆ Mn        ┆ P        ┆ S         ┆ … ┆ yield_stre ┆ ultimate_s ┆ tempering ┆ column_14 │\n",
       "│ ---     ┆ ---       ┆ ---      ┆ ---       ┆   ┆ ngth_MPa   ┆ trength_MP ┆ _time_s   ┆ ---       │\n",
       "│ f64     ┆ f64       ┆ f64      ┆ f64       ┆   ┆ ---        ┆ A          ┆ ---       ┆ f64       │\n",
       "│         ┆           ┆          ┆           ┆   ┆ f64        ┆ ---        ┆ f64       ┆           │\n",
       "│         ┆           ┆          ┆           ┆   ┆            ┆ f64        ┆           ┆           │\n",
       "╞═════════╪═══════════╪══════════╪═══════════╪═══╪════════════╪════════════╪═══════════╪═══════════╡\n",
       "│ 2.69532 ┆ -0.618793 ┆ -0.60703 ┆ -0.394811 ┆ … ┆ 0.188703   ┆ -0.105424  ┆ 1.89775   ┆ 0.467987  │\n",
       "│ 2.69532 ┆ -0.618793 ┆ -0.60703 ┆ -0.394811 ┆ … ┆ 0.188703   ┆ -0.105424  ┆ 1.89775   ┆ 1.028689  │\n",
       "│ 2.69532 ┆ -0.618793 ┆ -0.60703 ┆ -0.394811 ┆ … ┆ 0.188703   ┆ -0.105424  ┆ 1.89775   ┆ 1.589391  │\n",
       "└─────────┴───────────┴──────────┴───────────┴───┴────────────┴────────────┴───────────┴───────────┘"
      ]
     },
     "execution_count": 71,
     "metadata": {},
     "output_type": "execute_result"
    }
   ],
   "source": [
    "scaler = StandardScaler()\n",
    "\n",
    "X_scaler = scaler.fit(to_scale)\n",
    "\n",
    "scaled = scaler.transform(to_scale)\n",
    "\n",
    "scaler_names = scaler.get_feature_names_out()\n",
    "columns = [f'column_{x}' for x in range(0, 14)]\n",
    "rename_dict = dict(zip(columns, scaler_names))\n",
    "\n",
    "df_scaled = pl.DataFrame(scaled).rename(rename_dict)\n",
    "df_scaled.tail(3)\n"
   ]
  },
  {
   "cell_type": "markdown",
   "metadata": {},
   "source": [
    "## Merge one hot encoded variables with scaled numeric variables"
   ]
  },
  {
   "cell_type": "code",
   "execution_count": 72,
   "metadata": {},
   "outputs": [
    {
     "data": {
      "text/html": [
       "<div><style>\n",
       ".dataframe > thead > tr,\n",
       ".dataframe > tbody > tr {\n",
       "  text-align: right;\n",
       "  white-space: pre-wrap;\n",
       "}\n",
       "</style>\n",
       "<small>shape: (1_286, 43)</small><table border=\"1\" class=\"dataframe\"><thead><tr><th>steel_type_AISI 1030</th><th>steel_type_AISI 1049</th><th>steel_type_AISI 1055</th><th>steel_type_AISI 1074 Carbon Steel</th><th>steel_type_AISI 1090</th><th>steel_type_AISI 1095</th><th>steel_type_AISI 4047</th><th>steel_type_AISI 4640</th><th>steel_type_AISI 52100</th><th>steel_type_AISI 6145</th><th>steel_type_AISI-SAE 1026</th><th>steel_type_AISI-SAE 1035</th><th>steel_type_AISI-SAE 1038</th><th>steel_type_AISI-SAE 1040</th><th>steel_type_AISI-SAE 1042</th><th>steel_type_AISI-SAE 1045</th><th>steel_type_AISI-SAE 1050</th><th>steel_type_AISI-SAE 1065</th><th>steel_type_AISI-SAE 1080</th><th>steel_type_AISI-SAE 1335</th><th>steel_type_AISI-SAE 4027</th><th>steel_type_AISI-SAE 4037</th><th>steel_type_AISI-SAE 4140</th><th>steel_type_AISI-SAE 4340</th><th>steel_type_AISI-SAE 5140</th><th>steel_type_AISI-SAE 5160</th><th>steel_type_AISI-SAE 6150</th><th>steel_type_AISI-SAE 9254</th><th>C</th><th>Mn</th><th>P</th><th>S</th><th>Si</th><th>Ni</th><th>Cr</th><th>Mo</th><th>V</th><th>Al</th><th>Cu</th><th>yield_strength_MPa</th><th>ultimate_strength_MPA</th><th>tempering_time_s</th><th>column_14</th></tr><tr><td>f64</td><td>f64</td><td>f64</td><td>f64</td><td>f64</td><td>f64</td><td>f64</td><td>f64</td><td>f64</td><td>f64</td><td>f64</td><td>f64</td><td>f64</td><td>f64</td><td>f64</td><td>f64</td><td>f64</td><td>f64</td><td>f64</td><td>f64</td><td>f64</td><td>f64</td><td>f64</td><td>f64</td><td>f64</td><td>f64</td><td>f64</td><td>f64</td><td>f64</td><td>f64</td><td>f64</td><td>f64</td><td>f64</td><td>f64</td><td>f64</td><td>f64</td><td>f64</td><td>f64</td><td>f64</td><td>f64</td><td>f64</td><td>f64</td><td>f64</td></tr></thead><tbody><tr><td>0.0</td><td>0.0</td><td>0.0</td><td>0.0</td><td>0.0</td><td>0.0</td><td>0.0</td><td>0.0</td><td>0.0</td><td>0.0</td><td>1.0</td><td>0.0</td><td>0.0</td><td>0.0</td><td>0.0</td><td>0.0</td><td>0.0</td><td>0.0</td><td>0.0</td><td>0.0</td><td>0.0</td><td>0.0</td><td>0.0</td><td>0.0</td><td>0.0</td><td>0.0</td><td>0.0</td><td>0.0</td><td>-1.155898</td><td>0.167872</td><td>-0.60703</td><td>0.268364</td><td>-0.513467</td><td>-0.392117</td><td>-0.813526</td><td>-0.638219</td><td>-0.201129</td><td>0.0</td><td>-0.337311</td><td>-0.342255</td><td>-1.009596</td><td>-0.617861</td><td>-1.189448</td></tr><tr><td>0.0</td><td>0.0</td><td>0.0</td><td>0.0</td><td>0.0</td><td>0.0</td><td>0.0</td><td>0.0</td><td>0.0</td><td>0.0</td><td>1.0</td><td>0.0</td><td>0.0</td><td>0.0</td><td>0.0</td><td>0.0</td><td>0.0</td><td>0.0</td><td>0.0</td><td>0.0</td><td>0.0</td><td>0.0</td><td>0.0</td><td>0.0</td><td>0.0</td><td>0.0</td><td>0.0</td><td>0.0</td><td>-1.155898</td><td>0.167872</td><td>-0.60703</td><td>0.268364</td><td>-0.513467</td><td>-0.392117</td><td>-0.813526</td><td>-0.638219</td><td>-0.201129</td><td>0.0</td><td>-0.337311</td><td>-0.342255</td><td>-1.009596</td><td>-0.617861</td><td>-0.877697</td></tr><tr><td>0.0</td><td>0.0</td><td>0.0</td><td>0.0</td><td>0.0</td><td>0.0</td><td>0.0</td><td>0.0</td><td>0.0</td><td>0.0</td><td>1.0</td><td>0.0</td><td>0.0</td><td>0.0</td><td>0.0</td><td>0.0</td><td>0.0</td><td>0.0</td><td>0.0</td><td>0.0</td><td>0.0</td><td>0.0</td><td>0.0</td><td>0.0</td><td>0.0</td><td>0.0</td><td>0.0</td><td>0.0</td><td>-1.155898</td><td>0.167872</td><td>-0.60703</td><td>0.268364</td><td>-0.513467</td><td>-0.392117</td><td>-0.813526</td><td>-0.638219</td><td>-0.201129</td><td>0.0</td><td>-0.337311</td><td>-0.342255</td><td>-1.009596</td><td>-0.617861</td><td>-0.565947</td></tr><tr><td>0.0</td><td>0.0</td><td>0.0</td><td>0.0</td><td>0.0</td><td>0.0</td><td>0.0</td><td>0.0</td><td>0.0</td><td>0.0</td><td>1.0</td><td>0.0</td><td>0.0</td><td>0.0</td><td>0.0</td><td>0.0</td><td>0.0</td><td>0.0</td><td>0.0</td><td>0.0</td><td>0.0</td><td>0.0</td><td>0.0</td><td>0.0</td><td>0.0</td><td>0.0</td><td>0.0</td><td>0.0</td><td>-1.155898</td><td>0.167872</td><td>-0.60703</td><td>0.268364</td><td>-0.513467</td><td>-0.392117</td><td>-0.813526</td><td>-0.638219</td><td>-0.201129</td><td>0.0</td><td>-0.337311</td><td>-0.342255</td><td>-1.009596</td><td>-0.617861</td><td>-0.254758</td></tr><tr><td>0.0</td><td>0.0</td><td>0.0</td><td>0.0</td><td>0.0</td><td>0.0</td><td>0.0</td><td>0.0</td><td>0.0</td><td>0.0</td><td>1.0</td><td>0.0</td><td>0.0</td><td>0.0</td><td>0.0</td><td>0.0</td><td>0.0</td><td>0.0</td><td>0.0</td><td>0.0</td><td>0.0</td><td>0.0</td><td>0.0</td><td>0.0</td><td>0.0</td><td>0.0</td><td>0.0</td><td>0.0</td><td>-1.155898</td><td>0.167872</td><td>-0.60703</td><td>0.268364</td><td>-0.513467</td><td>-0.392117</td><td>-0.813526</td><td>-0.638219</td><td>-0.201129</td><td>0.0</td><td>-0.337311</td><td>-0.342255</td><td>-1.009596</td><td>-0.617861</td><td>0.056993</td></tr><tr><td>&hellip;</td><td>&hellip;</td><td>&hellip;</td><td>&hellip;</td><td>&hellip;</td><td>&hellip;</td><td>&hellip;</td><td>&hellip;</td><td>&hellip;</td><td>&hellip;</td><td>&hellip;</td><td>&hellip;</td><td>&hellip;</td><td>&hellip;</td><td>&hellip;</td><td>&hellip;</td><td>&hellip;</td><td>&hellip;</td><td>&hellip;</td><td>&hellip;</td><td>&hellip;</td><td>&hellip;</td><td>&hellip;</td><td>&hellip;</td><td>&hellip;</td><td>&hellip;</td><td>&hellip;</td><td>&hellip;</td><td>&hellip;</td><td>&hellip;</td><td>&hellip;</td><td>&hellip;</td><td>&hellip;</td><td>&hellip;</td><td>&hellip;</td><td>&hellip;</td><td>&hellip;</td><td>&hellip;</td><td>&hellip;</td><td>&hellip;</td><td>&hellip;</td><td>&hellip;</td><td>&hellip;</td></tr><tr><td>0.0</td><td>0.0</td><td>0.0</td><td>0.0</td><td>0.0</td><td>1.0</td><td>0.0</td><td>0.0</td><td>0.0</td><td>0.0</td><td>0.0</td><td>0.0</td><td>0.0</td><td>0.0</td><td>0.0</td><td>0.0</td><td>0.0</td><td>0.0</td><td>0.0</td><td>0.0</td><td>0.0</td><td>0.0</td><td>0.0</td><td>0.0</td><td>0.0</td><td>0.0</td><td>0.0</td><td>0.0</td><td>2.69532</td><td>-0.618793</td><td>-0.60703</td><td>-0.394811</td><td>-0.591857</td><td>-0.392117</td><td>-0.791743</td><td>-0.638219</td><td>-0.201129</td><td>0.0</td><td>-0.337311</td><td>0.188703</td><td>-0.105424</td><td>1.89775</td><td>-0.653417</td></tr><tr><td>0.0</td><td>0.0</td><td>0.0</td><td>0.0</td><td>0.0</td><td>1.0</td><td>0.0</td><td>0.0</td><td>0.0</td><td>0.0</td><td>0.0</td><td>0.0</td><td>0.0</td><td>0.0</td><td>0.0</td><td>0.0</td><td>0.0</td><td>0.0</td><td>0.0</td><td>0.0</td><td>0.0</td><td>0.0</td><td>0.0</td><td>0.0</td><td>0.0</td><td>0.0</td><td>0.0</td><td>0.0</td><td>2.69532</td><td>-0.618793</td><td>-0.60703</td><td>-0.394811</td><td>-0.591857</td><td>-0.392117</td><td>-0.791743</td><td>-0.638219</td><td>-0.201129</td><td>0.0</td><td>-0.337311</td><td>0.188703</td><td>-0.105424</td><td>1.89775</td><td>-0.092715</td></tr><tr><td>0.0</td><td>0.0</td><td>0.0</td><td>0.0</td><td>0.0</td><td>1.0</td><td>0.0</td><td>0.0</td><td>0.0</td><td>0.0</td><td>0.0</td><td>0.0</td><td>0.0</td><td>0.0</td><td>0.0</td><td>0.0</td><td>0.0</td><td>0.0</td><td>0.0</td><td>0.0</td><td>0.0</td><td>0.0</td><td>0.0</td><td>0.0</td><td>0.0</td><td>0.0</td><td>0.0</td><td>0.0</td><td>2.69532</td><td>-0.618793</td><td>-0.60703</td><td>-0.394811</td><td>-0.591857</td><td>-0.392117</td><td>-0.791743</td><td>-0.638219</td><td>-0.201129</td><td>0.0</td><td>-0.337311</td><td>0.188703</td><td>-0.105424</td><td>1.89775</td><td>0.467987</td></tr><tr><td>0.0</td><td>0.0</td><td>0.0</td><td>0.0</td><td>0.0</td><td>1.0</td><td>0.0</td><td>0.0</td><td>0.0</td><td>0.0</td><td>0.0</td><td>0.0</td><td>0.0</td><td>0.0</td><td>0.0</td><td>0.0</td><td>0.0</td><td>0.0</td><td>0.0</td><td>0.0</td><td>0.0</td><td>0.0</td><td>0.0</td><td>0.0</td><td>0.0</td><td>0.0</td><td>0.0</td><td>0.0</td><td>2.69532</td><td>-0.618793</td><td>-0.60703</td><td>-0.394811</td><td>-0.591857</td><td>-0.392117</td><td>-0.791743</td><td>-0.638219</td><td>-0.201129</td><td>0.0</td><td>-0.337311</td><td>0.188703</td><td>-0.105424</td><td>1.89775</td><td>1.028689</td></tr><tr><td>0.0</td><td>0.0</td><td>0.0</td><td>0.0</td><td>0.0</td><td>1.0</td><td>0.0</td><td>0.0</td><td>0.0</td><td>0.0</td><td>0.0</td><td>0.0</td><td>0.0</td><td>0.0</td><td>0.0</td><td>0.0</td><td>0.0</td><td>0.0</td><td>0.0</td><td>0.0</td><td>0.0</td><td>0.0</td><td>0.0</td><td>0.0</td><td>0.0</td><td>0.0</td><td>0.0</td><td>0.0</td><td>2.69532</td><td>-0.618793</td><td>-0.60703</td><td>-0.394811</td><td>-0.591857</td><td>-0.392117</td><td>-0.791743</td><td>-0.638219</td><td>-0.201129</td><td>0.0</td><td>-0.337311</td><td>0.188703</td><td>-0.105424</td><td>1.89775</td><td>1.589391</td></tr></tbody></table></div>"
      ],
      "text/plain": [
       "shape: (1_286, 43)\n",
       "┌───────────┬───────────┬───────────┬───────────┬───┬───────────┬───────────┬───────────┬──────────┐\n",
       "│ steel_typ ┆ steel_typ ┆ steel_typ ┆ steel_typ ┆ … ┆ yield_str ┆ ultimate_ ┆ tempering ┆ column_1 │\n",
       "│ e_AISI    ┆ e_AISI    ┆ e_AISI    ┆ e_AISI    ┆   ┆ ength_MPa ┆ strength_ ┆ _time_s   ┆ 4        │\n",
       "│ 1030      ┆ 1049      ┆ 1055      ┆ 1074      ┆   ┆ ---       ┆ MPA       ┆ ---       ┆ ---      │\n",
       "│ ---       ┆ ---       ┆ ---       ┆ Carbon    ┆   ┆ f64       ┆ ---       ┆ f64       ┆ f64      │\n",
       "│ f64       ┆ f64       ┆ f64       ┆ St…       ┆   ┆           ┆ f64       ┆           ┆          │\n",
       "│           ┆           ┆           ┆ ---       ┆   ┆           ┆           ┆           ┆          │\n",
       "│           ┆           ┆           ┆ f64       ┆   ┆           ┆           ┆           ┆          │\n",
       "╞═══════════╪═══════════╪═══════════╪═══════════╪═══╪═══════════╪═══════════╪═══════════╪══════════╡\n",
       "│ 0.0       ┆ 0.0       ┆ 0.0       ┆ 0.0       ┆ … ┆ -0.342255 ┆ -1.009596 ┆ -0.617861 ┆ -1.18944 │\n",
       "│           ┆           ┆           ┆           ┆   ┆           ┆           ┆           ┆ 8        │\n",
       "│ 0.0       ┆ 0.0       ┆ 0.0       ┆ 0.0       ┆ … ┆ -0.342255 ┆ -1.009596 ┆ -0.617861 ┆ -0.87769 │\n",
       "│           ┆           ┆           ┆           ┆   ┆           ┆           ┆           ┆ 7        │\n",
       "│ 0.0       ┆ 0.0       ┆ 0.0       ┆ 0.0       ┆ … ┆ -0.342255 ┆ -1.009596 ┆ -0.617861 ┆ -0.56594 │\n",
       "│           ┆           ┆           ┆           ┆   ┆           ┆           ┆           ┆ 7        │\n",
       "│ 0.0       ┆ 0.0       ┆ 0.0       ┆ 0.0       ┆ … ┆ -0.342255 ┆ -1.009596 ┆ -0.617861 ┆ -0.25475 │\n",
       "│           ┆           ┆           ┆           ┆   ┆           ┆           ┆           ┆ 8        │\n",
       "│ 0.0       ┆ 0.0       ┆ 0.0       ┆ 0.0       ┆ … ┆ -0.342255 ┆ -1.009596 ┆ -0.617861 ┆ 0.056993 │\n",
       "│ …         ┆ …         ┆ …         ┆ …         ┆ … ┆ …         ┆ …         ┆ …         ┆ …        │\n",
       "│ 0.0       ┆ 0.0       ┆ 0.0       ┆ 0.0       ┆ … ┆ 0.188703  ┆ -0.105424 ┆ 1.89775   ┆ -0.65341 │\n",
       "│           ┆           ┆           ┆           ┆   ┆           ┆           ┆           ┆ 7        │\n",
       "│ 0.0       ┆ 0.0       ┆ 0.0       ┆ 0.0       ┆ … ┆ 0.188703  ┆ -0.105424 ┆ 1.89775   ┆ -0.09271 │\n",
       "│           ┆           ┆           ┆           ┆   ┆           ┆           ┆           ┆ 5        │\n",
       "│ 0.0       ┆ 0.0       ┆ 0.0       ┆ 0.0       ┆ … ┆ 0.188703  ┆ -0.105424 ┆ 1.89775   ┆ 0.467987 │\n",
       "│ 0.0       ┆ 0.0       ┆ 0.0       ┆ 0.0       ┆ … ┆ 0.188703  ┆ -0.105424 ┆ 1.89775   ┆ 1.028689 │\n",
       "│ 0.0       ┆ 0.0       ┆ 0.0       ┆ 0.0       ┆ … ┆ 0.188703  ┆ -0.105424 ┆ 1.89775   ┆ 1.589391 │\n",
       "└───────────┴───────────┴───────────┴───────────┴───┴───────────┴───────────┴───────────┴──────────┘"
      ]
     },
     "execution_count": 72,
     "metadata": {},
     "output_type": "execute_result"
    }
   ],
   "source": [
    "X = pl.concat([df_ohe_encoded, df_scaled], how='horizontal')\n",
    "X"
   ]
  },
  {
   "cell_type": "code",
   "execution_count": 73,
   "metadata": {},
   "outputs": [],
   "source": [
    "X.write_csv(f\"{resources_path}/X_nopreproc.csv\")\n",
    "\n",
    "pl.DataFrame(y).write_csv(f\"{resources_path}/y_nopreproc.csv\")\n"
   ]
  },
  {
   "cell_type": "markdown",
   "metadata": {},
   "source": [
    "## Modelling for data preprocess\n",
    "\n",
    "PCA modelling used to reduce X dimensions from 44 to 12 maintaining 95.7% of the explained variance.\n",
    "\n",
    "KBinsDiscretizer used to bin imbalanced Y target. 15 bins, where half have less than 5 support reduced to 5 similarly supported bins"
   ]
  },
  {
   "cell_type": "markdown",
   "metadata": {},
   "source": [
    "### PCA analysis\n",
    "\n",
    "Introduction of two strength metrics certainly introduced multcolinearity, with eachother and with the elemental composision, some of whicha re indicators of strength.\n",
    "\n",
    "PCA analysis will be done to alleiviate these factors."
   ]
  },
  {
   "cell_type": "code",
   "execution_count": 74,
   "metadata": {},
   "outputs": [],
   "source": [
    "X = pl.read_csv(f\"{resources_path}/X_nopreproc.csv\")"
   ]
  },
  {
   "cell_type": "code",
   "execution_count": 75,
   "metadata": {},
   "outputs": [],
   "source": [
    "pca_explained_sum = {'x': [], 'pca_explained_var': []}\n",
    "pca_explained_min = {'x': [], 'pca_explained_min_component': []}\n",
    "for x in range(3,30):\n",
    "    pca = PCA(n_components=x ,random_state=random_state)\n",
    "\n",
    "    pca.fit(X)\n",
    "\n",
    "    pca_explained_sum['x'].append(x)\n",
    "    sum_explained = np.sum(pca.explained_variance_ratio_)\n",
    "    pca_explained_sum['pca_explained_var'].append(sum_explained)\n",
    "\n",
    "    pca_explained_min['x'].append(x)\n",
    "    min_explained = np.min(pca.explained_variance_ratio_)\n",
    "    pca_explained_min['pca_explained_min_component'].append(min_explained)"
   ]
  },
  {
   "cell_type": "code",
   "execution_count": 76,
   "metadata": {},
   "outputs": [],
   "source": [
    "df_pca_explained = pl.DataFrame(pca_explained_sum)"
   ]
  },
  {
   "cell_type": "markdown",
   "metadata": {},
   "source": [
    "### PCA component number determination"
   ]
  },
  {
   "cell_type": "code",
   "execution_count": 77,
   "metadata": {},
   "outputs": [
    {
     "data": {
      "text/html": [
       "\n",
       "<style>\n",
       "  #altair-viz-a001c06cebaf4bd1a50974a43231b6be.vega-embed {\n",
       "    width: 100%;\n",
       "    display: flex;\n",
       "  }\n",
       "\n",
       "  #altair-viz-a001c06cebaf4bd1a50974a43231b6be.vega-embed details,\n",
       "  #altair-viz-a001c06cebaf4bd1a50974a43231b6be.vega-embed details summary {\n",
       "    position: relative;\n",
       "  }\n",
       "</style>\n",
       "<div id=\"altair-viz-a001c06cebaf4bd1a50974a43231b6be\"></div>\n",
       "<script type=\"text/javascript\">\n",
       "  var VEGA_DEBUG = (typeof VEGA_DEBUG == \"undefined\") ? {} : VEGA_DEBUG;\n",
       "  (function(spec, embedOpt){\n",
       "    let outputDiv = document.currentScript.previousElementSibling;\n",
       "    if (outputDiv.id !== \"altair-viz-a001c06cebaf4bd1a50974a43231b6be\") {\n",
       "      outputDiv = document.getElementById(\"altair-viz-a001c06cebaf4bd1a50974a43231b6be\");\n",
       "    }\n",
       "    const paths = {\n",
       "      \"vega\": \"https://cdn.jsdelivr.net/npm/vega@5?noext\",\n",
       "      \"vega-lib\": \"https://cdn.jsdelivr.net/npm/vega-lib?noext\",\n",
       "      \"vega-lite\": \"https://cdn.jsdelivr.net/npm/vega-lite@5.20.1?noext\",\n",
       "      \"vega-embed\": \"https://cdn.jsdelivr.net/npm/vega-embed@6?noext\",\n",
       "    };\n",
       "\n",
       "    function maybeLoadScript(lib, version) {\n",
       "      var key = `${lib.replace(\"-\", \"\")}_version`;\n",
       "      return (VEGA_DEBUG[key] == version) ?\n",
       "        Promise.resolve(paths[lib]) :\n",
       "        new Promise(function(resolve, reject) {\n",
       "          var s = document.createElement('script');\n",
       "          document.getElementsByTagName(\"head\")[0].appendChild(s);\n",
       "          s.async = true;\n",
       "          s.onload = () => {\n",
       "            VEGA_DEBUG[key] = version;\n",
       "            return resolve(paths[lib]);\n",
       "          };\n",
       "          s.onerror = () => reject(`Error loading script: ${paths[lib]}`);\n",
       "          s.src = paths[lib];\n",
       "        });\n",
       "    }\n",
       "\n",
       "    function showError(err) {\n",
       "      outputDiv.innerHTML = `<div class=\"error\" style=\"color:red;\">${err}</div>`;\n",
       "      throw err;\n",
       "    }\n",
       "\n",
       "    function displayChart(vegaEmbed) {\n",
       "      vegaEmbed(outputDiv, spec, embedOpt)\n",
       "        .catch(err => showError(`Javascript Error: ${err.message}<br>This usually means there's a typo in your chart specification. See the javascript console for the full traceback.`));\n",
       "    }\n",
       "\n",
       "    if(typeof define === \"function\" && define.amd) {\n",
       "      requirejs.config({paths});\n",
       "      require([\"vega-embed\"], displayChart, err => showError(`Error loading script: ${err.message}`));\n",
       "    } else {\n",
       "      maybeLoadScript(\"vega\", \"5\")\n",
       "        .then(() => maybeLoadScript(\"vega-lite\", \"5.20.1\"))\n",
       "        .then(() => maybeLoadScript(\"vega-embed\", \"6\"))\n",
       "        .catch(showError)\n",
       "        .then(() => displayChart(vegaEmbed));\n",
       "    }\n",
       "  })({\"config\": {\"view\": {\"continuousWidth\": 300, \"continuousHeight\": 300}}, \"data\": {\"name\": \"data-ffab907ee99c65fb358884a3de5da91c\"}, \"mark\": {\"type\": \"line\"}, \"encoding\": {\"x\": {\"field\": \"x\", \"title\": \"PCA X\", \"type\": \"quantitative\"}, \"y\": {\"field\": \"pca_explained_var\", \"scale\": {\"domain\": [0.5, 1]}, \"title\": \"Total explained variance\", \"type\": \"quantitative\"}}, \"title\": \"Total Explained Variance vs Number of PCA Features\", \"$schema\": \"https://vega.github.io/schema/vega-lite/v5.20.1.json\", \"datasets\": {\"data-ffab907ee99c65fb358884a3de5da91c\": [{\"x\": 3, \"pca_explained_var\": 0.4653074367529578}, {\"x\": 4, \"pca_explained_var\": 0.5631839925513059}, {\"x\": 5, \"pca_explained_var\": 0.6405907358484287}, {\"x\": 6, \"pca_explained_var\": 0.7078622730072375}, {\"x\": 7, \"pca_explained_var\": 0.7714124862007338}, {\"x\": 8, \"pca_explained_var\": 0.8269726660279423}, {\"x\": 9, \"pca_explained_var\": 0.8709322056678082}, {\"x\": 10, \"pca_explained_var\": 0.9088271332144255}, {\"x\": 11, \"pca_explained_var\": 0.9345439324744531}, {\"x\": 12, \"pca_explained_var\": 0.9500253454829435}, {\"x\": 13, \"pca_explained_var\": 0.9616449002020466}, {\"x\": 14, \"pca_explained_var\": 0.9684864590128204}, {\"x\": 15, \"pca_explained_var\": 0.9716781783909014}, {\"x\": 16, \"pca_explained_var\": 0.974683614984519}, {\"x\": 17, \"pca_explained_var\": 0.9774574867586572}, {\"x\": 18, \"pca_explained_var\": 0.9800371061278896}, {\"x\": 19, \"pca_explained_var\": 0.9824660304818559}, {\"x\": 20, \"pca_explained_var\": 0.984781548183212}, {\"x\": 21, \"pca_explained_var\": 0.9869174265510642}, {\"x\": 22, \"pca_explained_var\": 0.9890183894489988}, {\"x\": 23, \"pca_explained_var\": 0.9911053272594159}, {\"x\": 24, \"pca_explained_var\": 0.9931691148411187}, {\"x\": 25, \"pca_explained_var\": 0.9951470742234876}, {\"x\": 26, \"pca_explained_var\": 0.996346291307348}, {\"x\": 27, \"pca_explained_var\": 0.9974184556382504}, {\"x\": 28, \"pca_explained_var\": 0.9983406002094691}, {\"x\": 29, \"pca_explained_var\": 0.9989561780349904}]}}, {\"mode\": \"vega-lite\"});\n",
       "</script>"
      ],
      "text/plain": [
       "alt.Chart(...)"
      ]
     },
     "execution_count": 77,
     "metadata": {},
     "output_type": "execute_result"
    }
   ],
   "source": [
    "alt.Chart(df_pca_explained,\n",
    "          title= \"Total Explained Variance vs Number of PCA Features\").mark_line().encode(\n",
    "    alt.X('x:Q').title(\"PCA X\"),\n",
    "    alt.Y('pca_explained_var:Q')\\\n",
    "        .scale(domain=(0.5,1))\\\n",
    "            .title(\"Total explained variance\")\n",
    ")"
   ]
  },
  {
   "cell_type": "markdown",
   "metadata": {},
   "source": [
    "### Value of increasing PCA components decreases between 10 and 15"
   ]
  },
  {
   "cell_type": "code",
   "execution_count": 78,
   "metadata": {},
   "outputs": [
    {
     "data": {
      "text/html": [
       "<div><style>\n",
       ".dataframe > thead > tr,\n",
       ".dataframe > tbody > tr {\n",
       "  text-align: right;\n",
       "  white-space: pre-wrap;\n",
       "}\n",
       "</style>\n",
       "<small>shape: (6, 2)</small><table border=\"1\" class=\"dataframe\"><thead><tr><th>x</th><th>pca_explained_min_component</th></tr><tr><td>i64</td><td>f64</td></tr></thead><tbody><tr><td>10</td><td>0.037895</td></tr><tr><td>11</td><td>0.025717</td></tr><tr><td>12</td><td>0.015481</td></tr><tr><td>13</td><td>0.01162</td></tr><tr><td>14</td><td>0.006842</td></tr><tr><td>15</td><td>0.003192</td></tr></tbody></table></div>"
      ],
      "text/plain": [
       "shape: (6, 2)\n",
       "┌─────┬─────────────────────────────┐\n",
       "│ x   ┆ pca_explained_min_component │\n",
       "│ --- ┆ ---                         │\n",
       "│ i64 ┆ f64                         │\n",
       "╞═════╪═════════════════════════════╡\n",
       "│ 10  ┆ 0.037895                    │\n",
       "│ 11  ┆ 0.025717                    │\n",
       "│ 12  ┆ 0.015481                    │\n",
       "│ 13  ┆ 0.01162                     │\n",
       "│ 14  ┆ 0.006842                    │\n",
       "│ 15  ┆ 0.003192                    │\n",
       "└─────┴─────────────────────────────┘"
      ]
     },
     "execution_count": 78,
     "metadata": {},
     "output_type": "execute_result"
    }
   ],
   "source": [
    "df_pca_explained_min = pl.DataFrame(pca_explained_min)\n",
    "df_pca_explained_min.filter(pl.col('x').le(15) & pl.col('x').ge(10))"
   ]
  },
  {
   "cell_type": "markdown",
   "metadata": {},
   "source": [
    "### PCA component number 13 selected\n",
    "Component 13 has half the explained ratio contribution as component 13, and component 14 decreased by a factor of 10\n",
    "\n",
    "13 components has explains 96.2% of the variance."
   ]
  },
  {
   "cell_type": "code",
   "execution_count": 79,
   "metadata": {},
   "outputs": [
    {
     "data": {
      "text/html": [
       "<div><style>\n",
       ".dataframe > thead > tr,\n",
       ".dataframe > tbody > tr {\n",
       "  text-align: right;\n",
       "  white-space: pre-wrap;\n",
       "}\n",
       "</style>\n",
       "<small>shape: (1, 2)</small><table border=\"1\" class=\"dataframe\"><thead><tr><th>x</th><th>pca_explained_var</th></tr><tr><td>i64</td><td>f64</td></tr></thead><tbody><tr><td>13</td><td>0.961645</td></tr></tbody></table></div>"
      ],
      "text/plain": [
       "shape: (1, 2)\n",
       "┌─────┬───────────────────┐\n",
       "│ x   ┆ pca_explained_var │\n",
       "│ --- ┆ ---               │\n",
       "│ i64 ┆ f64               │\n",
       "╞═════╪═══════════════════╡\n",
       "│ 13  ┆ 0.961645          │\n",
       "└─────┴───────────────────┘"
      ]
     },
     "execution_count": 79,
     "metadata": {},
     "output_type": "execute_result"
    }
   ],
   "source": [
    "df_pca_explained.filter(pl.col(\"x\").eq(13))"
   ]
  },
  {
   "cell_type": "code",
   "execution_count": 80,
   "metadata": {},
   "outputs": [
    {
     "data": {
      "text/html": [
       "<div><style>\n",
       ".dataframe > thead > tr,\n",
       ".dataframe > tbody > tr {\n",
       "  text-align: right;\n",
       "  white-space: pre-wrap;\n",
       "}\n",
       "</style>\n",
       "<small>shape: (3, 13)</small><table border=\"1\" class=\"dataframe\"><thead><tr><th>column_0</th><th>column_1</th><th>column_2</th><th>column_3</th><th>column_4</th><th>column_5</th><th>column_6</th><th>column_7</th><th>column_8</th><th>column_9</th><th>column_10</th><th>column_11</th><th>column_12</th></tr><tr><td>f64</td><td>f64</td><td>f64</td><td>f64</td><td>f64</td><td>f64</td><td>f64</td><td>f64</td><td>f64</td><td>f64</td><td>f64</td><td>f64</td><td>f64</td></tr></thead><tbody><tr><td>-1.396549</td><td>0.357322</td><td>0.11312</td><td>-0.35176</td><td>-0.475294</td><td>-0.085418</td><td>-1.457699</td><td>0.792878</td><td>-0.123649</td><td>-0.967397</td><td>-0.402453</td><td>0.138054</td><td>0.316879</td></tr><tr><td>-1.408114</td><td>0.303587</td><td>0.136813</td><td>-0.349753</td><td>-0.573852</td><td>-0.23484</td><td>-1.270245</td><td>0.633357</td><td>-0.123784</td><td>-0.940428</td><td>-0.405776</td><td>0.141606</td><td>0.304695</td></tr><tr><td>-1.419679</td><td>0.249852</td><td>0.160507</td><td>-0.347746</td><td>-0.67241</td><td>-0.384263</td><td>-1.082791</td><td>0.473836</td><td>-0.123919</td><td>-0.913459</td><td>-0.409099</td><td>0.145159</td><td>0.292511</td></tr></tbody></table></div>"
      ],
      "text/plain": [
       "shape: (3, 13)\n",
       "┌───────────┬──────────┬──────────┬───────────┬───┬───────────┬───────────┬───────────┬───────────┐\n",
       "│ column_0  ┆ column_1 ┆ column_2 ┆ column_3  ┆ … ┆ column_9  ┆ column_10 ┆ column_11 ┆ column_12 │\n",
       "│ ---       ┆ ---      ┆ ---      ┆ ---       ┆   ┆ ---       ┆ ---       ┆ ---       ┆ ---       │\n",
       "│ f64       ┆ f64      ┆ f64      ┆ f64       ┆   ┆ f64       ┆ f64       ┆ f64       ┆ f64       │\n",
       "╞═══════════╪══════════╪══════════╪═══════════╪═══╪═══════════╪═══════════╪═══════════╪═══════════╡\n",
       "│ -1.396549 ┆ 0.357322 ┆ 0.11312  ┆ -0.35176  ┆ … ┆ -0.967397 ┆ -0.402453 ┆ 0.138054  ┆ 0.316879  │\n",
       "│ -1.408114 ┆ 0.303587 ┆ 0.136813 ┆ -0.349753 ┆ … ┆ -0.940428 ┆ -0.405776 ┆ 0.141606  ┆ 0.304695  │\n",
       "│ -1.419679 ┆ 0.249852 ┆ 0.160507 ┆ -0.347746 ┆ … ┆ -0.913459 ┆ -0.409099 ┆ 0.145159  ┆ 0.292511  │\n",
       "└───────────┴──────────┴──────────┴───────────┴───┴───────────┴───────────┴───────────┴───────────┘"
      ]
     },
     "execution_count": 80,
     "metadata": {},
     "output_type": "execute_result"
    }
   ],
   "source": [
    "pca = PCA(n_components= 13, random_state=random_state)\n",
    "\n",
    "pca.fit(X)\n",
    "\n",
    "X_pca = pca.transform(X)\n",
    "\n",
    "df_pca = pl.DataFrame(X_pca)\n",
    "df_pca.head(3)"
   ]
  },
  {
   "cell_type": "code",
   "execution_count": 81,
   "metadata": {},
   "outputs": [
    {
     "data": {
      "text/html": [
       "<div><style>\n",
       ".dataframe > thead > tr,\n",
       ".dataframe > tbody > tr {\n",
       "  text-align: right;\n",
       "  white-space: pre-wrap;\n",
       "}\n",
       "</style>\n",
       "<small>shape: (9, 14)</small><table border=\"1\" class=\"dataframe\"><thead><tr><th>statistic</th><th>column_0</th><th>column_1</th><th>column_2</th><th>column_3</th><th>column_4</th><th>column_5</th><th>column_6</th><th>column_7</th><th>column_8</th><th>column_9</th><th>column_10</th><th>column_11</th><th>column_12</th></tr><tr><td>str</td><td>f64</td><td>f64</td><td>f64</td><td>f64</td><td>f64</td><td>f64</td><td>f64</td><td>f64</td><td>f64</td><td>f64</td><td>f64</td><td>f64</td><td>f64</td></tr></thead><tbody><tr><td>&quot;count&quot;</td><td>1286.0</td><td>1286.0</td><td>1286.0</td><td>1286.0</td><td>1286.0</td><td>1286.0</td><td>1286.0</td><td>1286.0</td><td>1286.0</td><td>1286.0</td><td>1286.0</td><td>1286.0</td><td>1286.0</td></tr><tr><td>&quot;null_count&quot;</td><td>0.0</td><td>0.0</td><td>0.0</td><td>0.0</td><td>0.0</td><td>0.0</td><td>0.0</td><td>0.0</td><td>0.0</td><td>0.0</td><td>0.0</td><td>0.0</td><td>0.0</td></tr><tr><td>&quot;mean&quot;</td><td>-2.7626e-17</td><td>1.1050e-16</td><td>4.1439e-18</td><td>-1.1050e-17</td><td>1.3813e-17</td><td>9.2547e-17</td><td>-3.4533e-17</td><td>-3.0389e-17</td><td>-7.0446e-17</td><td>2.7626e-18</td><td>1.6576e-17</td><td>-3.0389e-17</td><td>-3.5914e-17</td></tr><tr><td>&quot;std&quot;</td><td>1.653448</td><td>1.572193</td><td>1.326167</td><td>1.210351</td><td>1.076369</td><td>1.003431</td><td>0.975282</td><td>0.911914</td><td>0.811145</td><td>0.753117</td><td>0.620412</td><td>0.481368</td><td>0.417029</td></tr><tr><td>&quot;min&quot;</td><td>-2.755651</td><td>-2.749125</td><td>-2.631238</td><td>-2.526038</td><td>-3.325919</td><td>-1.580944</td><td>-2.390954</td><td>-2.977647</td><td>-1.634804</td><td>-1.47535</td><td>-1.006469</td><td>-0.940166</td><td>-0.97989</td></tr><tr><td>&quot;25%&quot;</td><td>-1.107186</td><td>-1.236004</td><td>-0.652254</td><td>-0.596507</td><td>-0.673487</td><td>-0.753635</td><td>-0.706409</td><td>-0.567779</td><td>-0.509937</td><td>-0.442693</td><td>-0.411362</td><td>-0.270313</td><td>-0.360951</td></tr><tr><td>&quot;50%&quot;</td><td>-0.188674</td><td>-0.121004</td><td>-0.113746</td><td>-0.187207</td><td>-0.016828</td><td>-0.195364</td><td>-0.037295</td><td>-0.023571</td><td>0.066648</td><td>-0.027211</td><td>-0.168751</td><td>0.012771</td><td>0.094007</td></tr><tr><td>&quot;75%&quot;</td><td>0.473879</td><td>1.091142</td><td>0.54757</td><td>0.852972</td><td>0.593213</td><td>0.34491</td><td>0.575031</td><td>0.474041</td><td>0.529772</td><td>0.249033</td><td>0.422331</td><td>0.249639</td><td>0.301865</td></tr><tr><td>&quot;max&quot;</td><td>4.895881</td><td>3.739467</td><td>4.450363</td><td>3.646042</td><td>4.063784</td><td>3.125609</td><td>4.122047</td><td>3.998631</td><td>1.510213</td><td>2.563479</td><td>1.49625</td><td>1.012016</td><td>0.760051</td></tr></tbody></table></div>"
      ],
      "text/plain": [
       "shape: (9, 14)\n",
       "┌───────────┬───────────┬───────────┬───────────┬───┬───────────┬───────────┬───────────┬──────────┐\n",
       "│ statistic ┆ column_0  ┆ column_1  ┆ column_2  ┆ … ┆ column_9  ┆ column_10 ┆ column_11 ┆ column_1 │\n",
       "│ ---       ┆ ---       ┆ ---       ┆ ---       ┆   ┆ ---       ┆ ---       ┆ ---       ┆ 2        │\n",
       "│ str       ┆ f64       ┆ f64       ┆ f64       ┆   ┆ f64       ┆ f64       ┆ f64       ┆ ---      │\n",
       "│           ┆           ┆           ┆           ┆   ┆           ┆           ┆           ┆ f64      │\n",
       "╞═══════════╪═══════════╪═══════════╪═══════════╪═══╪═══════════╪═══════════╪═══════════╪══════════╡\n",
       "│ count     ┆ 1286.0    ┆ 1286.0    ┆ 1286.0    ┆ … ┆ 1286.0    ┆ 1286.0    ┆ 1286.0    ┆ 1286.0   │\n",
       "│ null_coun ┆ 0.0       ┆ 0.0       ┆ 0.0       ┆ … ┆ 0.0       ┆ 0.0       ┆ 0.0       ┆ 0.0      │\n",
       "│ t         ┆           ┆           ┆           ┆   ┆           ┆           ┆           ┆          │\n",
       "│ mean      ┆ -2.7626e- ┆ 1.1050e-1 ┆ 4.1439e-1 ┆ … ┆ 2.7626e-1 ┆ 1.6576e-1 ┆ -3.0389e- ┆ -3.5914e │\n",
       "│           ┆ 17        ┆ 6         ┆ 8         ┆   ┆ 8         ┆ 7         ┆ 17        ┆ -17      │\n",
       "│ std       ┆ 1.653448  ┆ 1.572193  ┆ 1.326167  ┆ … ┆ 0.753117  ┆ 0.620412  ┆ 0.481368  ┆ 0.417029 │\n",
       "│ min       ┆ -2.755651 ┆ -2.749125 ┆ -2.631238 ┆ … ┆ -1.47535  ┆ -1.006469 ┆ -0.940166 ┆ -0.97989 │\n",
       "│ 25%       ┆ -1.107186 ┆ -1.236004 ┆ -0.652254 ┆ … ┆ -0.442693 ┆ -0.411362 ┆ -0.270313 ┆ -0.36095 │\n",
       "│           ┆           ┆           ┆           ┆   ┆           ┆           ┆           ┆ 1        │\n",
       "│ 50%       ┆ -0.188674 ┆ -0.121004 ┆ -0.113746 ┆ … ┆ -0.027211 ┆ -0.168751 ┆ 0.012771  ┆ 0.094007 │\n",
       "│ 75%       ┆ 0.473879  ┆ 1.091142  ┆ 0.54757   ┆ … ┆ 0.249033  ┆ 0.422331  ┆ 0.249639  ┆ 0.301865 │\n",
       "│ max       ┆ 4.895881  ┆ 3.739467  ┆ 4.450363  ┆ … ┆ 2.563479  ┆ 1.49625   ┆ 1.012016  ┆ 0.760051 │\n",
       "└───────────┴───────────┴───────────┴───────────┴───┴───────────┴───────────┴───────────┴──────────┘"
      ]
     },
     "execution_count": 81,
     "metadata": {},
     "output_type": "execute_result"
    }
   ],
   "source": [
    "df_pca.describe()"
   ]
  },
  {
   "cell_type": "markdown",
   "metadata": {},
   "source": [
    "## Check data balance before train-test-split\n",
    "Balancing the target is unnecessary as it is a continuous variable. \n",
    "\n",
    "It is not effected by imbalance in the same way a categorical target is."
   ]
  },
  {
   "cell_type": "code",
   "execution_count": 82,
   "metadata": {},
   "outputs": [],
   "source": [
    "df_pca.write_csv(f'{resources_path}/df_X.csv')\n",
    "pl.DataFrame(y).write_csv(f'{resources_path}/df_y.csv')\n"
   ]
  },
  {
   "cell_type": "markdown",
   "metadata": {},
   "source": [
    "# Modelling"
   ]
  },
  {
   "cell_type": "code",
   "execution_count": 83,
   "metadata": {},
   "outputs": [],
   "source": [
    "X = pl.read_csv(f'{resources_path}/df_X.csv')\n",
    "y = pl.read_csv(f'{resources_path}/df_y.csv')\n",
    "# Polars does not always work well with Keras\n",
    "X = X.to_numpy()\n",
    "y = y.to_numpy()"
   ]
  },
  {
   "cell_type": "markdown",
   "metadata": {},
   "source": [
    "## Test train split"
   ]
  },
  {
   "cell_type": "code",
   "execution_count": 84,
   "metadata": {},
   "outputs": [],
   "source": [
    "X_train, X_test, y_train, y_test = train_test_split(X, \n",
    "                                                    y, \n",
    "                                                    random_state=random_state)"
   ]
  },
  {
   "cell_type": "markdown",
   "metadata": {},
   "source": [
    "## Gradient boost regression\n",
    "\n",
    "The final hardness is a continuos varaible, that may be non-linear with respect to the supporting features. \n",
    "\n",
    "### This model does perform well.\n",
    "\n",
    "I will attmpt to use neural network modelling to see if it can be improved, and to get history.\n"
   ]
  },
  {
   "cell_type": "code",
   "execution_count": 85,
   "metadata": {},
   "outputs": [
    {
     "name": "stderr",
     "output_type": "stream",
     "text": [
      "/home/mox/Documents/coding_projects/bootcamp_local/Homeworks/Mild-Steel-Tempering/.venv/lib/python3.12/site-packages/sklearn/ensemble/_gb.py:668: DataConversionWarning: A column-vector y was passed when a 1d array was expected. Please change the shape of y to (n_samples, ), for example using ravel().\n",
      "  y = column_or_1d(y, warn=True)  # TODO: Is this still required?\n"
     ]
    },
    {
     "data": {
      "text/html": [
       "<style>#sk-container-id-2 {\n",
       "  /* Definition of color scheme common for light and dark mode */\n",
       "  --sklearn-color-text: black;\n",
       "  --sklearn-color-line: gray;\n",
       "  /* Definition of color scheme for unfitted estimators */\n",
       "  --sklearn-color-unfitted-level-0: #fff5e6;\n",
       "  --sklearn-color-unfitted-level-1: #f6e4d2;\n",
       "  --sklearn-color-unfitted-level-2: #ffe0b3;\n",
       "  --sklearn-color-unfitted-level-3: chocolate;\n",
       "  /* Definition of color scheme for fitted estimators */\n",
       "  --sklearn-color-fitted-level-0: #f0f8ff;\n",
       "  --sklearn-color-fitted-level-1: #d4ebff;\n",
       "  --sklearn-color-fitted-level-2: #b3dbfd;\n",
       "  --sklearn-color-fitted-level-3: cornflowerblue;\n",
       "\n",
       "  /* Specific color for light theme */\n",
       "  --sklearn-color-text-on-default-background: var(--sg-text-color, var(--theme-code-foreground, var(--jp-content-font-color1, black)));\n",
       "  --sklearn-color-background: var(--sg-background-color, var(--theme-background, var(--jp-layout-color0, white)));\n",
       "  --sklearn-color-border-box: var(--sg-text-color, var(--theme-code-foreground, var(--jp-content-font-color1, black)));\n",
       "  --sklearn-color-icon: #696969;\n",
       "\n",
       "  @media (prefers-color-scheme: dark) {\n",
       "    /* Redefinition of color scheme for dark theme */\n",
       "    --sklearn-color-text-on-default-background: var(--sg-text-color, var(--theme-code-foreground, var(--jp-content-font-color1, white)));\n",
       "    --sklearn-color-background: var(--sg-background-color, var(--theme-background, var(--jp-layout-color0, #111)));\n",
       "    --sklearn-color-border-box: var(--sg-text-color, var(--theme-code-foreground, var(--jp-content-font-color1, white)));\n",
       "    --sklearn-color-icon: #878787;\n",
       "  }\n",
       "}\n",
       "\n",
       "#sk-container-id-2 {\n",
       "  color: var(--sklearn-color-text);\n",
       "}\n",
       "\n",
       "#sk-container-id-2 pre {\n",
       "  padding: 0;\n",
       "}\n",
       "\n",
       "#sk-container-id-2 input.sk-hidden--visually {\n",
       "  border: 0;\n",
       "  clip: rect(1px 1px 1px 1px);\n",
       "  clip: rect(1px, 1px, 1px, 1px);\n",
       "  height: 1px;\n",
       "  margin: -1px;\n",
       "  overflow: hidden;\n",
       "  padding: 0;\n",
       "  position: absolute;\n",
       "  width: 1px;\n",
       "}\n",
       "\n",
       "#sk-container-id-2 div.sk-dashed-wrapped {\n",
       "  border: 1px dashed var(--sklearn-color-line);\n",
       "  margin: 0 0.4em 0.5em 0.4em;\n",
       "  box-sizing: border-box;\n",
       "  padding-bottom: 0.4em;\n",
       "  background-color: var(--sklearn-color-background);\n",
       "}\n",
       "\n",
       "#sk-container-id-2 div.sk-container {\n",
       "  /* jupyter's `normalize.less` sets `[hidden] { display: none; }`\n",
       "     but bootstrap.min.css set `[hidden] { display: none !important; }`\n",
       "     so we also need the `!important` here to be able to override the\n",
       "     default hidden behavior on the sphinx rendered scikit-learn.org.\n",
       "     See: https://github.com/scikit-learn/scikit-learn/issues/21755 */\n",
       "  display: inline-block !important;\n",
       "  position: relative;\n",
       "}\n",
       "\n",
       "#sk-container-id-2 div.sk-text-repr-fallback {\n",
       "  display: none;\n",
       "}\n",
       "\n",
       "div.sk-parallel-item,\n",
       "div.sk-serial,\n",
       "div.sk-item {\n",
       "  /* draw centered vertical line to link estimators */\n",
       "  background-image: linear-gradient(var(--sklearn-color-text-on-default-background), var(--sklearn-color-text-on-default-background));\n",
       "  background-size: 2px 100%;\n",
       "  background-repeat: no-repeat;\n",
       "  background-position: center center;\n",
       "}\n",
       "\n",
       "/* Parallel-specific style estimator block */\n",
       "\n",
       "#sk-container-id-2 div.sk-parallel-item::after {\n",
       "  content: \"\";\n",
       "  width: 100%;\n",
       "  border-bottom: 2px solid var(--sklearn-color-text-on-default-background);\n",
       "  flex-grow: 1;\n",
       "}\n",
       "\n",
       "#sk-container-id-2 div.sk-parallel {\n",
       "  display: flex;\n",
       "  align-items: stretch;\n",
       "  justify-content: center;\n",
       "  background-color: var(--sklearn-color-background);\n",
       "  position: relative;\n",
       "}\n",
       "\n",
       "#sk-container-id-2 div.sk-parallel-item {\n",
       "  display: flex;\n",
       "  flex-direction: column;\n",
       "}\n",
       "\n",
       "#sk-container-id-2 div.sk-parallel-item:first-child::after {\n",
       "  align-self: flex-end;\n",
       "  width: 50%;\n",
       "}\n",
       "\n",
       "#sk-container-id-2 div.sk-parallel-item:last-child::after {\n",
       "  align-self: flex-start;\n",
       "  width: 50%;\n",
       "}\n",
       "\n",
       "#sk-container-id-2 div.sk-parallel-item:only-child::after {\n",
       "  width: 0;\n",
       "}\n",
       "\n",
       "/* Serial-specific style estimator block */\n",
       "\n",
       "#sk-container-id-2 div.sk-serial {\n",
       "  display: flex;\n",
       "  flex-direction: column;\n",
       "  align-items: center;\n",
       "  background-color: var(--sklearn-color-background);\n",
       "  padding-right: 1em;\n",
       "  padding-left: 1em;\n",
       "}\n",
       "\n",
       "\n",
       "/* Toggleable style: style used for estimator/Pipeline/ColumnTransformer box that is\n",
       "clickable and can be expanded/collapsed.\n",
       "- Pipeline and ColumnTransformer use this feature and define the default style\n",
       "- Estimators will overwrite some part of the style using the `sk-estimator` class\n",
       "*/\n",
       "\n",
       "/* Pipeline and ColumnTransformer style (default) */\n",
       "\n",
       "#sk-container-id-2 div.sk-toggleable {\n",
       "  /* Default theme specific background. It is overwritten whether we have a\n",
       "  specific estimator or a Pipeline/ColumnTransformer */\n",
       "  background-color: var(--sklearn-color-background);\n",
       "}\n",
       "\n",
       "/* Toggleable label */\n",
       "#sk-container-id-2 label.sk-toggleable__label {\n",
       "  cursor: pointer;\n",
       "  display: block;\n",
       "  width: 100%;\n",
       "  margin-bottom: 0;\n",
       "  padding: 0.5em;\n",
       "  box-sizing: border-box;\n",
       "  text-align: center;\n",
       "}\n",
       "\n",
       "#sk-container-id-2 label.sk-toggleable__label-arrow:before {\n",
       "  /* Arrow on the left of the label */\n",
       "  content: \"▸\";\n",
       "  float: left;\n",
       "  margin-right: 0.25em;\n",
       "  color: var(--sklearn-color-icon);\n",
       "}\n",
       "\n",
       "#sk-container-id-2 label.sk-toggleable__label-arrow:hover:before {\n",
       "  color: var(--sklearn-color-text);\n",
       "}\n",
       "\n",
       "/* Toggleable content - dropdown */\n",
       "\n",
       "#sk-container-id-2 div.sk-toggleable__content {\n",
       "  max-height: 0;\n",
       "  max-width: 0;\n",
       "  overflow: hidden;\n",
       "  text-align: left;\n",
       "  /* unfitted */\n",
       "  background-color: var(--sklearn-color-unfitted-level-0);\n",
       "}\n",
       "\n",
       "#sk-container-id-2 div.sk-toggleable__content.fitted {\n",
       "  /* fitted */\n",
       "  background-color: var(--sklearn-color-fitted-level-0);\n",
       "}\n",
       "\n",
       "#sk-container-id-2 div.sk-toggleable__content pre {\n",
       "  margin: 0.2em;\n",
       "  border-radius: 0.25em;\n",
       "  color: var(--sklearn-color-text);\n",
       "  /* unfitted */\n",
       "  background-color: var(--sklearn-color-unfitted-level-0);\n",
       "}\n",
       "\n",
       "#sk-container-id-2 div.sk-toggleable__content.fitted pre {\n",
       "  /* unfitted */\n",
       "  background-color: var(--sklearn-color-fitted-level-0);\n",
       "}\n",
       "\n",
       "#sk-container-id-2 input.sk-toggleable__control:checked~div.sk-toggleable__content {\n",
       "  /* Expand drop-down */\n",
       "  max-height: 200px;\n",
       "  max-width: 100%;\n",
       "  overflow: auto;\n",
       "}\n",
       "\n",
       "#sk-container-id-2 input.sk-toggleable__control:checked~label.sk-toggleable__label-arrow:before {\n",
       "  content: \"▾\";\n",
       "}\n",
       "\n",
       "/* Pipeline/ColumnTransformer-specific style */\n",
       "\n",
       "#sk-container-id-2 div.sk-label input.sk-toggleable__control:checked~label.sk-toggleable__label {\n",
       "  color: var(--sklearn-color-text);\n",
       "  background-color: var(--sklearn-color-unfitted-level-2);\n",
       "}\n",
       "\n",
       "#sk-container-id-2 div.sk-label.fitted input.sk-toggleable__control:checked~label.sk-toggleable__label {\n",
       "  background-color: var(--sklearn-color-fitted-level-2);\n",
       "}\n",
       "\n",
       "/* Estimator-specific style */\n",
       "\n",
       "/* Colorize estimator box */\n",
       "#sk-container-id-2 div.sk-estimator input.sk-toggleable__control:checked~label.sk-toggleable__label {\n",
       "  /* unfitted */\n",
       "  background-color: var(--sklearn-color-unfitted-level-2);\n",
       "}\n",
       "\n",
       "#sk-container-id-2 div.sk-estimator.fitted input.sk-toggleable__control:checked~label.sk-toggleable__label {\n",
       "  /* fitted */\n",
       "  background-color: var(--sklearn-color-fitted-level-2);\n",
       "}\n",
       "\n",
       "#sk-container-id-2 div.sk-label label.sk-toggleable__label,\n",
       "#sk-container-id-2 div.sk-label label {\n",
       "  /* The background is the default theme color */\n",
       "  color: var(--sklearn-color-text-on-default-background);\n",
       "}\n",
       "\n",
       "/* On hover, darken the color of the background */\n",
       "#sk-container-id-2 div.sk-label:hover label.sk-toggleable__label {\n",
       "  color: var(--sklearn-color-text);\n",
       "  background-color: var(--sklearn-color-unfitted-level-2);\n",
       "}\n",
       "\n",
       "/* Label box, darken color on hover, fitted */\n",
       "#sk-container-id-2 div.sk-label.fitted:hover label.sk-toggleable__label.fitted {\n",
       "  color: var(--sklearn-color-text);\n",
       "  background-color: var(--sklearn-color-fitted-level-2);\n",
       "}\n",
       "\n",
       "/* Estimator label */\n",
       "\n",
       "#sk-container-id-2 div.sk-label label {\n",
       "  font-family: monospace;\n",
       "  font-weight: bold;\n",
       "  display: inline-block;\n",
       "  line-height: 1.2em;\n",
       "}\n",
       "\n",
       "#sk-container-id-2 div.sk-label-container {\n",
       "  text-align: center;\n",
       "}\n",
       "\n",
       "/* Estimator-specific */\n",
       "#sk-container-id-2 div.sk-estimator {\n",
       "  font-family: monospace;\n",
       "  border: 1px dotted var(--sklearn-color-border-box);\n",
       "  border-radius: 0.25em;\n",
       "  box-sizing: border-box;\n",
       "  margin-bottom: 0.5em;\n",
       "  /* unfitted */\n",
       "  background-color: var(--sklearn-color-unfitted-level-0);\n",
       "}\n",
       "\n",
       "#sk-container-id-2 div.sk-estimator.fitted {\n",
       "  /* fitted */\n",
       "  background-color: var(--sklearn-color-fitted-level-0);\n",
       "}\n",
       "\n",
       "/* on hover */\n",
       "#sk-container-id-2 div.sk-estimator:hover {\n",
       "  /* unfitted */\n",
       "  background-color: var(--sklearn-color-unfitted-level-2);\n",
       "}\n",
       "\n",
       "#sk-container-id-2 div.sk-estimator.fitted:hover {\n",
       "  /* fitted */\n",
       "  background-color: var(--sklearn-color-fitted-level-2);\n",
       "}\n",
       "\n",
       "/* Specification for estimator info (e.g. \"i\" and \"?\") */\n",
       "\n",
       "/* Common style for \"i\" and \"?\" */\n",
       "\n",
       ".sk-estimator-doc-link,\n",
       "a:link.sk-estimator-doc-link,\n",
       "a:visited.sk-estimator-doc-link {\n",
       "  float: right;\n",
       "  font-size: smaller;\n",
       "  line-height: 1em;\n",
       "  font-family: monospace;\n",
       "  background-color: var(--sklearn-color-background);\n",
       "  border-radius: 1em;\n",
       "  height: 1em;\n",
       "  width: 1em;\n",
       "  text-decoration: none !important;\n",
       "  margin-left: 1ex;\n",
       "  /* unfitted */\n",
       "  border: var(--sklearn-color-unfitted-level-1) 1pt solid;\n",
       "  color: var(--sklearn-color-unfitted-level-1);\n",
       "}\n",
       "\n",
       ".sk-estimator-doc-link.fitted,\n",
       "a:link.sk-estimator-doc-link.fitted,\n",
       "a:visited.sk-estimator-doc-link.fitted {\n",
       "  /* fitted */\n",
       "  border: var(--sklearn-color-fitted-level-1) 1pt solid;\n",
       "  color: var(--sklearn-color-fitted-level-1);\n",
       "}\n",
       "\n",
       "/* On hover */\n",
       "div.sk-estimator:hover .sk-estimator-doc-link:hover,\n",
       ".sk-estimator-doc-link:hover,\n",
       "div.sk-label-container:hover .sk-estimator-doc-link:hover,\n",
       ".sk-estimator-doc-link:hover {\n",
       "  /* unfitted */\n",
       "  background-color: var(--sklearn-color-unfitted-level-3);\n",
       "  color: var(--sklearn-color-background);\n",
       "  text-decoration: none;\n",
       "}\n",
       "\n",
       "div.sk-estimator.fitted:hover .sk-estimator-doc-link.fitted:hover,\n",
       ".sk-estimator-doc-link.fitted:hover,\n",
       "div.sk-label-container:hover .sk-estimator-doc-link.fitted:hover,\n",
       ".sk-estimator-doc-link.fitted:hover {\n",
       "  /* fitted */\n",
       "  background-color: var(--sklearn-color-fitted-level-3);\n",
       "  color: var(--sklearn-color-background);\n",
       "  text-decoration: none;\n",
       "}\n",
       "\n",
       "/* Span, style for the box shown on hovering the info icon */\n",
       ".sk-estimator-doc-link span {\n",
       "  display: none;\n",
       "  z-index: 9999;\n",
       "  position: relative;\n",
       "  font-weight: normal;\n",
       "  right: .2ex;\n",
       "  padding: .5ex;\n",
       "  margin: .5ex;\n",
       "  width: min-content;\n",
       "  min-width: 20ex;\n",
       "  max-width: 50ex;\n",
       "  color: var(--sklearn-color-text);\n",
       "  box-shadow: 2pt 2pt 4pt #999;\n",
       "  /* unfitted */\n",
       "  background: var(--sklearn-color-unfitted-level-0);\n",
       "  border: .5pt solid var(--sklearn-color-unfitted-level-3);\n",
       "}\n",
       "\n",
       ".sk-estimator-doc-link.fitted span {\n",
       "  /* fitted */\n",
       "  background: var(--sklearn-color-fitted-level-0);\n",
       "  border: var(--sklearn-color-fitted-level-3);\n",
       "}\n",
       "\n",
       ".sk-estimator-doc-link:hover span {\n",
       "  display: block;\n",
       "}\n",
       "\n",
       "/* \"?\"-specific style due to the `<a>` HTML tag */\n",
       "\n",
       "#sk-container-id-2 a.estimator_doc_link {\n",
       "  float: right;\n",
       "  font-size: 1rem;\n",
       "  line-height: 1em;\n",
       "  font-family: monospace;\n",
       "  background-color: var(--sklearn-color-background);\n",
       "  border-radius: 1rem;\n",
       "  height: 1rem;\n",
       "  width: 1rem;\n",
       "  text-decoration: none;\n",
       "  /* unfitted */\n",
       "  color: var(--sklearn-color-unfitted-level-1);\n",
       "  border: var(--sklearn-color-unfitted-level-1) 1pt solid;\n",
       "}\n",
       "\n",
       "#sk-container-id-2 a.estimator_doc_link.fitted {\n",
       "  /* fitted */\n",
       "  border: var(--sklearn-color-fitted-level-1) 1pt solid;\n",
       "  color: var(--sklearn-color-fitted-level-1);\n",
       "}\n",
       "\n",
       "/* On hover */\n",
       "#sk-container-id-2 a.estimator_doc_link:hover {\n",
       "  /* unfitted */\n",
       "  background-color: var(--sklearn-color-unfitted-level-3);\n",
       "  color: var(--sklearn-color-background);\n",
       "  text-decoration: none;\n",
       "}\n",
       "\n",
       "#sk-container-id-2 a.estimator_doc_link.fitted:hover {\n",
       "  /* fitted */\n",
       "  background-color: var(--sklearn-color-fitted-level-3);\n",
       "}\n",
       "</style><div id=\"sk-container-id-2\" class=\"sk-top-container\"><div class=\"sk-text-repr-fallback\"><pre>GradientBoostingRegressor(random_state=2112250415)</pre><b>In a Jupyter environment, please rerun this cell to show the HTML representation or trust the notebook. <br />On GitHub, the HTML representation is unable to render, please try loading this page with nbviewer.org.</b></div><div class=\"sk-container\" hidden><div class=\"sk-item\"><div class=\"sk-estimator fitted sk-toggleable\"><input class=\"sk-toggleable__control sk-hidden--visually\" id=\"sk-estimator-id-2\" type=\"checkbox\" checked><label for=\"sk-estimator-id-2\" class=\"sk-toggleable__label fitted sk-toggleable__label-arrow fitted\">&nbsp;&nbsp;GradientBoostingRegressor<a class=\"sk-estimator-doc-link fitted\" rel=\"noreferrer\" target=\"_blank\" href=\"https://scikit-learn.org/1.5/modules/generated/sklearn.ensemble.GradientBoostingRegressor.html\">?<span>Documentation for GradientBoostingRegressor</span></a><span class=\"sk-estimator-doc-link fitted\">i<span>Fitted</span></span></label><div class=\"sk-toggleable__content fitted\"><pre>GradientBoostingRegressor(random_state=2112250415)</pre></div> </div></div></div></div>"
      ],
      "text/plain": [
       "GradientBoostingRegressor(random_state=2112250415)"
      ]
     },
     "execution_count": 85,
     "metadata": {},
     "output_type": "execute_result"
    }
   ],
   "source": [
    "gb_regressor = GradientBoostingRegressor(random_state=random_state)\n",
    "\n",
    "gb_regressor.fit(X_train, y_train)\n"
   ]
  },
  {
   "cell_type": "code",
   "execution_count": 86,
   "metadata": {},
   "outputs": [
    {
     "data": {
      "text/plain": [
       "(322,)"
      ]
     },
     "execution_count": 86,
     "metadata": {},
     "output_type": "execute_result"
    }
   ],
   "source": [
    "y_pred = gb_regressor.predict(X_test)\n",
    "y_pred.shape"
   ]
  },
  {
   "cell_type": "code",
   "execution_count": 87,
   "metadata": {},
   "outputs": [],
   "source": [
    "# match y_test shape to model output shape\n",
    "def reshape_y_for_eval(y_test):\n",
    "    return y_test.reshape(1,-1)[0]"
   ]
  },
  {
   "cell_type": "code",
   "execution_count": 88,
   "metadata": {},
   "outputs": [
    {
     "name": "stdout",
     "output_type": "stream",
     "text": [
      "R2 score: 0.928\n"
     ]
    }
   ],
   "source": [
    "print(\"R2 score:\", round(gb_regressor.score(X_test, reshape_y_for_eval(y_test)),3))"
   ]
  },
  {
   "cell_type": "markdown",
   "metadata": {},
   "source": [
    "### Invert the y_scaling done prior to modelling for the plotting "
   ]
  },
  {
   "cell_type": "code",
   "execution_count": 89,
   "metadata": {
    "notebookRunGroups": {
     "groupValue": "2"
    }
   },
   "outputs": [],
   "source": [
    "def y_inverse_transform(y_data):\n",
    "    result = y_scaler.inverse_transform(y_data.reshape(-1, 1)).reshape(1,-1)[0]\n",
    "    return result"
   ]
  },
  {
   "cell_type": "code",
   "execution_count": 90,
   "metadata": {},
   "outputs": [],
   "source": [
    "y_test_invscal = y_inverse_transform(y_test)\n",
    "y_pred_invscal = y_inverse_transform(y_pred)"
   ]
  },
  {
   "cell_type": "code",
   "execution_count": 91,
   "metadata": {},
   "outputs": [
    {
     "data": {
      "text/html": [
       "<div><style>\n",
       ".dataframe > thead > tr,\n",
       ".dataframe > tbody > tr {\n",
       "  text-align: right;\n",
       "  white-space: pre-wrap;\n",
       "}\n",
       "</style>\n",
       "<small>shape: (3, 2)</small><table border=\"1\" class=\"dataframe\"><thead><tr><th>Real Final Hardness (HRC)</th><th>Predicted Final Hardness (HRC)</th></tr><tr><td>f64</td><td>f64</td></tr></thead><tbody><tr><td>57.5</td><td>56.934392</td></tr><tr><td>60.4</td><td>60.633832</td></tr><tr><td>47.5</td><td>45.07313</td></tr></tbody></table></div>"
      ],
      "text/plain": [
       "shape: (3, 2)\n",
       "┌───────────────────────────┬────────────────────────────────┐\n",
       "│ Real Final Hardness (HRC) ┆ Predicted Final Hardness (HRC) │\n",
       "│ ---                       ┆ ---                            │\n",
       "│ f64                       ┆ f64                            │\n",
       "╞═══════════════════════════╪════════════════════════════════╡\n",
       "│ 57.5                      ┆ 56.934392                      │\n",
       "│ 60.4                      ┆ 60.633832                      │\n",
       "│ 47.5                      ┆ 45.07313                       │\n",
       "└───────────────────────────┴────────────────────────────────┘"
      ]
     },
     "execution_count": 91,
     "metadata": {},
     "output_type": "execute_result"
    }
   ],
   "source": [
    "test_df = pl.DataFrame({'Real Final Hardness (HRC)' : y_test_invscal,\n",
    "                        'Predicted Final Hardness (HRC)' : y_pred_invscal})\n",
    "test_df.head(3)"
   ]
  },
  {
   "cell_type": "code",
   "execution_count": 92,
   "metadata": {},
   "outputs": [
    {
     "data": {
      "text/html": [
       "\n",
       "<style>\n",
       "  #altair-viz-a8402f860b754909a471adb43d8898b1.vega-embed {\n",
       "    width: 100%;\n",
       "    display: flex;\n",
       "  }\n",
       "\n",
       "  #altair-viz-a8402f860b754909a471adb43d8898b1.vega-embed details,\n",
       "  #altair-viz-a8402f860b754909a471adb43d8898b1.vega-embed details summary {\n",
       "    position: relative;\n",
       "  }\n",
       "</style>\n",
       "<div id=\"altair-viz-a8402f860b754909a471adb43d8898b1\"></div>\n",
       "<script type=\"text/javascript\">\n",
       "  var VEGA_DEBUG = (typeof VEGA_DEBUG == \"undefined\") ? {} : VEGA_DEBUG;\n",
       "  (function(spec, embedOpt){\n",
       "    let outputDiv = document.currentScript.previousElementSibling;\n",
       "    if (outputDiv.id !== \"altair-viz-a8402f860b754909a471adb43d8898b1\") {\n",
       "      outputDiv = document.getElementById(\"altair-viz-a8402f860b754909a471adb43d8898b1\");\n",
       "    }\n",
       "    const paths = {\n",
       "      \"vega\": \"https://cdn.jsdelivr.net/npm/vega@5?noext\",\n",
       "      \"vega-lib\": \"https://cdn.jsdelivr.net/npm/vega-lib?noext\",\n",
       "      \"vega-lite\": \"https://cdn.jsdelivr.net/npm/vega-lite@5.20.1?noext\",\n",
       "      \"vega-embed\": \"https://cdn.jsdelivr.net/npm/vega-embed@6?noext\",\n",
       "    };\n",
       "\n",
       "    function maybeLoadScript(lib, version) {\n",
       "      var key = `${lib.replace(\"-\", \"\")}_version`;\n",
       "      return (VEGA_DEBUG[key] == version) ?\n",
       "        Promise.resolve(paths[lib]) :\n",
       "        new Promise(function(resolve, reject) {\n",
       "          var s = document.createElement('script');\n",
       "          document.getElementsByTagName(\"head\")[0].appendChild(s);\n",
       "          s.async = true;\n",
       "          s.onload = () => {\n",
       "            VEGA_DEBUG[key] = version;\n",
       "            return resolve(paths[lib]);\n",
       "          };\n",
       "          s.onerror = () => reject(`Error loading script: ${paths[lib]}`);\n",
       "          s.src = paths[lib];\n",
       "        });\n",
       "    }\n",
       "\n",
       "    function showError(err) {\n",
       "      outputDiv.innerHTML = `<div class=\"error\" style=\"color:red;\">${err}</div>`;\n",
       "      throw err;\n",
       "    }\n",
       "\n",
       "    function displayChart(vegaEmbed) {\n",
       "      vegaEmbed(outputDiv, spec, embedOpt)\n",
       "        .catch(err => showError(`Javascript Error: ${err.message}<br>This usually means there's a typo in your chart specification. See the javascript console for the full traceback.`));\n",
       "    }\n",
       "\n",
       "    if(typeof define === \"function\" && define.amd) {\n",
       "      requirejs.config({paths});\n",
       "      require([\"vega-embed\"], displayChart, err => showError(`Error loading script: ${err.message}`));\n",
       "    } else {\n",
       "      maybeLoadScript(\"vega\", \"5\")\n",
       "        .then(() => maybeLoadScript(\"vega-lite\", \"5.20.1\"))\n",
       "        .then(() => maybeLoadScript(\"vega-embed\", \"6\"))\n",
       "        .catch(showError)\n",
       "        .then(() => displayChart(vegaEmbed));\n",
       "    }\n",
       "  })({\"config\": {\"view\": {\"continuousWidth\": 300, \"continuousHeight\": 300}}, \"layer\": [{\"mark\": {\"type\": \"point\"}, \"encoding\": {\"x\": {\"field\": \"Real Final Hardness (HRC)\", \"type\": \"quantitative\"}, \"y\": {\"field\": \"Predicted Final Hardness (HRC)\", \"type\": \"quantitative\"}}}, {\"mark\": {\"type\": \"line\", \"color\": \"red\"}, \"encoding\": {\"x\": {\"field\": \"Real Final Hardness (HRC)\", \"type\": \"quantitative\"}, \"y\": {\"field\": \"Predicted Final Hardness (HRC)\", \"type\": \"quantitative\"}}, \"transform\": [{\"on\": \"Real Final Hardness (HRC)\", \"regression\": \"Predicted Final Hardness (HRC)\", \"method\": \"linear\"}]}], \"data\": {\"name\": \"data-84fe3143b2eec66534f17b7ef157c356\"}, \"title\": \"GBRegression Fit\", \"$schema\": \"https://vega.github.io/schema/vega-lite/v5.20.1.json\", \"datasets\": {\"data-84fe3143b2eec66534f17b7ef157c356\": [{\"Real Final Hardness (HRC)\": 57.5, \"Predicted Final Hardness (HRC)\": 56.93439249437436}, {\"Real Final Hardness (HRC)\": 60.4, \"Predicted Final Hardness (HRC)\": 60.633831518678306}, {\"Real Final Hardness (HRC)\": 47.5, \"Predicted Final Hardness (HRC)\": 45.07312969514121}, {\"Real Final Hardness (HRC)\": 31.5, \"Predicted Final Hardness (HRC)\": 26.65033710271666}, {\"Real Final Hardness (HRC)\": 30.4, \"Predicted Final Hardness (HRC)\": 31.760828832468388}, {\"Real Final Hardness (HRC)\": 39.6, \"Predicted Final Hardness (HRC)\": 39.595480820637235}, {\"Real Final Hardness (HRC)\": 16.3, \"Predicted Final Hardness (HRC)\": 16.457895420960728}, {\"Real Final Hardness (HRC)\": 26.7, \"Predicted Final Hardness (HRC)\": 33.33392194364889}, {\"Real Final Hardness (HRC)\": 22.5, \"Predicted Final Hardness (HRC)\": 24.90038477170153}, {\"Real Final Hardness (HRC)\": 53.4, \"Predicted Final Hardness (HRC)\": 51.02084167583247}, {\"Real Final Hardness (HRC)\": 64.0, \"Predicted Final Hardness (HRC)\": 64.04808906554578}, {\"Real Final Hardness (HRC)\": 17.5, \"Predicted Final Hardness (HRC)\": 22.840556788389947}, {\"Real Final Hardness (HRC)\": 46.5, \"Predicted Final Hardness (HRC)\": 42.74209709740999}, {\"Real Final Hardness (HRC)\": 19.6, \"Predicted Final Hardness (HRC)\": 24.734329312435754}, {\"Real Final Hardness (HRC)\": 34.1, \"Predicted Final Hardness (HRC)\": 33.32736955441367}, {\"Real Final Hardness (HRC)\": 45.6, \"Predicted Final Hardness (HRC)\": 51.67270985887972}, {\"Real Final Hardness (HRC)\": 57.5, \"Predicted Final Hardness (HRC)\": 61.00418478534766}, {\"Real Final Hardness (HRC)\": 56.5, \"Predicted Final Hardness (HRC)\": 46.15340974258601}, {\"Real Final Hardness (HRC)\": 32.1, \"Predicted Final Hardness (HRC)\": 31.94160441126531}, {\"Real Final Hardness (HRC)\": 29.5, \"Predicted Final Hardness (HRC)\": 25.801507701669472}, {\"Real Final Hardness (HRC)\": 49.0, \"Predicted Final Hardness (HRC)\": 49.659430821211906}, {\"Real Final Hardness (HRC)\": 51.0, \"Predicted Final Hardness (HRC)\": 49.477389612538566}, {\"Real Final Hardness (HRC)\": 54.3, \"Predicted Final Hardness (HRC)\": 43.23106695832917}, {\"Real Final Hardness (HRC)\": 22.4, \"Predicted Final Hardness (HRC)\": 24.789631519185416}, {\"Real Final Hardness (HRC)\": 60.3, \"Predicted Final Hardness (HRC)\": 57.0603808644563}, {\"Real Final Hardness (HRC)\": 44.0, \"Predicted Final Hardness (HRC)\": 44.37149967624071}, {\"Real Final Hardness (HRC)\": 36.2, \"Predicted Final Hardness (HRC)\": 36.97682284035405}, {\"Real Final Hardness (HRC)\": 46.9, \"Predicted Final Hardness (HRC)\": 44.22735052358213}, {\"Real Final Hardness (HRC)\": 52.6, \"Predicted Final Hardness (HRC)\": 51.585797086268144}, {\"Real Final Hardness (HRC)\": 56.7, \"Predicted Final Hardness (HRC)\": 54.54267492330287}, {\"Real Final Hardness (HRC)\": 39.5, \"Predicted Final Hardness (HRC)\": 37.93921488431353}, {\"Real Final Hardness (HRC)\": 39.7, \"Predicted Final Hardness (HRC)\": 39.95937985371517}, {\"Real Final Hardness (HRC)\": 37.6, \"Predicted Final Hardness (HRC)\": 37.80772459699094}, {\"Real Final Hardness (HRC)\": 56.5, \"Predicted Final Hardness (HRC)\": 59.59282799231666}, {\"Real Final Hardness (HRC)\": 41.5, \"Predicted Final Hardness (HRC)\": 44.03858640589169}, {\"Real Final Hardness (HRC)\": 34.6, \"Predicted Final Hardness (HRC)\": 35.74837603364513}, {\"Real Final Hardness (HRC)\": 44.0, \"Predicted Final Hardness (HRC)\": 47.433993004502156}, {\"Real Final Hardness (HRC)\": 49.5, \"Predicted Final Hardness (HRC)\": 54.88756666178992}, {\"Real Final Hardness (HRC)\": 40.0, \"Predicted Final Hardness (HRC)\": 45.63414051246886}, {\"Real Final Hardness (HRC)\": 47.7, \"Predicted Final Hardness (HRC)\": 49.0447424815123}, {\"Real Final Hardness (HRC)\": 39.5, \"Predicted Final Hardness (HRC)\": 45.56812258651417}, {\"Real Final Hardness (HRC)\": 49.9, \"Predicted Final Hardness (HRC)\": 52.765388784625365}, {\"Real Final Hardness (HRC)\": 65.5, \"Predicted Final Hardness (HRC)\": 59.75719697850509}, {\"Real Final Hardness (HRC)\": 16.5, \"Predicted Final Hardness (HRC)\": 13.440852344449265}, {\"Real Final Hardness (HRC)\": 51.2, \"Predicted Final Hardness (HRC)\": 46.67589867232617}, {\"Real Final Hardness (HRC)\": 44.9, \"Predicted Final Hardness (HRC)\": 48.31316707965091}, {\"Real Final Hardness (HRC)\": 36.1, \"Predicted Final Hardness (HRC)\": 36.80769816448191}, {\"Real Final Hardness (HRC)\": 17.1, \"Predicted Final Hardness (HRC)\": 20.066768809573876}, {\"Real Final Hardness (HRC)\": 59.5, \"Predicted Final Hardness (HRC)\": 57.50018798121024}, {\"Real Final Hardness (HRC)\": 56.5, \"Predicted Final Hardness (HRC)\": 59.79719170962581}, {\"Real Final Hardness (HRC)\": 52.2, \"Predicted Final Hardness (HRC)\": 57.21380402562229}, {\"Real Final Hardness (HRC)\": 18.0, \"Predicted Final Hardness (HRC)\": 30.4877787046521}, {\"Real Final Hardness (HRC)\": 14.0, \"Predicted Final Hardness (HRC)\": 25.00560541851354}, {\"Real Final Hardness (HRC)\": 44.0, \"Predicted Final Hardness (HRC)\": 41.261239664679664}, {\"Real Final Hardness (HRC)\": 18.7, \"Predicted Final Hardness (HRC)\": 10.684495182451279}, {\"Real Final Hardness (HRC)\": 33.2, \"Predicted Final Hardness (HRC)\": 39.037890886092015}, {\"Real Final Hardness (HRC)\": 48.0, \"Predicted Final Hardness (HRC)\": 47.36327813997211}, {\"Real Final Hardness (HRC)\": 18.5, \"Predicted Final Hardness (HRC)\": 10.01500778844057}, {\"Real Final Hardness (HRC)\": 27.8, \"Predicted Final Hardness (HRC)\": 27.403187134687727}, {\"Real Final Hardness (HRC)\": 49.0, \"Predicted Final Hardness (HRC)\": 51.61524039003309}, {\"Real Final Hardness (HRC)\": 32.2, \"Predicted Final Hardness (HRC)\": 32.51587080567719}, {\"Real Final Hardness (HRC)\": 39.4, \"Predicted Final Hardness (HRC)\": 36.64052603450013}, {\"Real Final Hardness (HRC)\": 9.899999999999999, \"Predicted Final Hardness (HRC)\": 11.478318433406987}, {\"Real Final Hardness (HRC)\": 42.9, \"Predicted Final Hardness (HRC)\": 43.058951584168675}, {\"Real Final Hardness (HRC)\": 39.0, \"Predicted Final Hardness (HRC)\": 35.10592227138833}, {\"Real Final Hardness (HRC)\": 12.499999999999996, \"Predicted Final Hardness (HRC)\": 20.431911540565263}, {\"Real Final Hardness (HRC)\": 51.0, \"Predicted Final Hardness (HRC)\": 51.02767569848779}, {\"Real Final Hardness (HRC)\": 9.5, \"Predicted Final Hardness (HRC)\": 9.277416638210148}, {\"Real Final Hardness (HRC)\": 58.5, \"Predicted Final Hardness (HRC)\": 58.22027685820754}, {\"Real Final Hardness (HRC)\": 33.9, \"Predicted Final Hardness (HRC)\": 40.167004582644196}, {\"Real Final Hardness (HRC)\": 23.1, \"Predicted Final Hardness (HRC)\": 23.940442373273722}, {\"Real Final Hardness (HRC)\": 66.5, \"Predicted Final Hardness (HRC)\": 64.94573262179141}, {\"Real Final Hardness (HRC)\": 27.0, \"Predicted Final Hardness (HRC)\": 30.874154322408657}, {\"Real Final Hardness (HRC)\": 49.8, \"Predicted Final Hardness (HRC)\": 50.48341737128018}, {\"Real Final Hardness (HRC)\": 28.8, \"Predicted Final Hardness (HRC)\": 31.3121818520475}, {\"Real Final Hardness (HRC)\": 53.7, \"Predicted Final Hardness (HRC)\": 55.52781332723268}, {\"Real Final Hardness (HRC)\": 54.4, \"Predicted Final Hardness (HRC)\": 46.13213494928967}, {\"Real Final Hardness (HRC)\": 36.9, \"Predicted Final Hardness (HRC)\": 39.87875996195055}, {\"Real Final Hardness (HRC)\": 49.0, \"Predicted Final Hardness (HRC)\": 44.76194725455008}, {\"Real Final Hardness (HRC)\": 59.5, \"Predicted Final Hardness (HRC)\": 54.301780129409806}, {\"Real Final Hardness (HRC)\": 63.5, \"Predicted Final Hardness (HRC)\": 61.285557955586924}, {\"Real Final Hardness (HRC)\": 35.0, \"Predicted Final Hardness (HRC)\": 32.055737101915376}, {\"Real Final Hardness (HRC)\": 46.4, \"Predicted Final Hardness (HRC)\": 46.75737744169209}, {\"Real Final Hardness (HRC)\": 19.4, \"Predicted Final Hardness (HRC)\": 31.934138626010952}, {\"Real Final Hardness (HRC)\": 43.1, \"Predicted Final Hardness (HRC)\": 46.45608729342742}, {\"Real Final Hardness (HRC)\": 48.7, \"Predicted Final Hardness (HRC)\": 43.455589047744525}, {\"Real Final Hardness (HRC)\": 6.5, \"Predicted Final Hardness (HRC)\": 10.157933000730804}, {\"Real Final Hardness (HRC)\": 43.7, \"Predicted Final Hardness (HRC)\": 41.832125862271205}, {\"Real Final Hardness (HRC)\": 50.5, \"Predicted Final Hardness (HRC)\": 51.10673730277228}, {\"Real Final Hardness (HRC)\": 19.5, \"Predicted Final Hardness (HRC)\": 23.852290667643427}, {\"Real Final Hardness (HRC)\": 63.5, \"Predicted Final Hardness (HRC)\": 64.27175971267701}, {\"Real Final Hardness (HRC)\": 48.0, \"Predicted Final Hardness (HRC)\": 45.76601392261504}, {\"Real Final Hardness (HRC)\": 56.7, \"Predicted Final Hardness (HRC)\": 54.671681713546704}, {\"Real Final Hardness (HRC)\": 52.5, \"Predicted Final Hardness (HRC)\": 38.12601031706926}, {\"Real Final Hardness (HRC)\": 32.0, \"Predicted Final Hardness (HRC)\": 38.81624172244979}, {\"Real Final Hardness (HRC)\": 30.5, \"Predicted Final Hardness (HRC)\": 33.12430646502316}, {\"Real Final Hardness (HRC)\": 29.6, \"Predicted Final Hardness (HRC)\": 26.293930068908196}, {\"Real Final Hardness (HRC)\": 62.9, \"Predicted Final Hardness (HRC)\": 61.02217329862894}, {\"Real Final Hardness (HRC)\": 12.499999999999996, \"Predicted Final Hardness (HRC)\": 9.799314927381317}, {\"Real Final Hardness (HRC)\": 61.0, \"Predicted Final Hardness (HRC)\": 59.79719170962581}, {\"Real Final Hardness (HRC)\": 39.9, \"Predicted Final Hardness (HRC)\": 41.02414388068164}, {\"Real Final Hardness (HRC)\": 51.9, \"Predicted Final Hardness (HRC)\": 47.56486733630898}, {\"Real Final Hardness (HRC)\": 22.4, \"Predicted Final Hardness (HRC)\": 25.073207398215743}, {\"Real Final Hardness (HRC)\": 34.5, \"Predicted Final Hardness (HRC)\": 25.994328117278336}, {\"Real Final Hardness (HRC)\": 39.3, \"Predicted Final Hardness (HRC)\": 40.613738063129034}, {\"Real Final Hardness (HRC)\": 29.0, \"Predicted Final Hardness (HRC)\": 35.042118358458744}, {\"Real Final Hardness (HRC)\": 31.0, \"Predicted Final Hardness (HRC)\": 31.47062797913626}, {\"Real Final Hardness (HRC)\": 4.5, \"Predicted Final Hardness (HRC)\": 15.802676054911366}, {\"Real Final Hardness (HRC)\": 38.6, \"Predicted Final Hardness (HRC)\": 37.542464095700865}, {\"Real Final Hardness (HRC)\": 53.2, \"Predicted Final Hardness (HRC)\": 55.98932777160554}, {\"Real Final Hardness (HRC)\": 50.0, \"Predicted Final Hardness (HRC)\": 44.73926324505373}, {\"Real Final Hardness (HRC)\": 43.0, \"Predicted Final Hardness (HRC)\": 34.79689738279733}, {\"Real Final Hardness (HRC)\": 51.4, \"Predicted Final Hardness (HRC)\": 52.25075936306219}, {\"Real Final Hardness (HRC)\": 61.0, \"Predicted Final Hardness (HRC)\": 63.01434010160441}, {\"Real Final Hardness (HRC)\": 34.8, \"Predicted Final Hardness (HRC)\": 27.32048611403588}, {\"Real Final Hardness (HRC)\": 8.600000000000001, \"Predicted Final Hardness (HRC)\": 12.396520127079572}, {\"Real Final Hardness (HRC)\": 54.5, \"Predicted Final Hardness (HRC)\": 55.006583241017914}, {\"Real Final Hardness (HRC)\": 38.5, \"Predicted Final Hardness (HRC)\": 37.98481296273779}, {\"Real Final Hardness (HRC)\": 23.0, \"Predicted Final Hardness (HRC)\": 17.65688458098244}, {\"Real Final Hardness (HRC)\": 46.5, \"Predicted Final Hardness (HRC)\": 48.02030315860308}, {\"Real Final Hardness (HRC)\": 47.5, \"Predicted Final Hardness (HRC)\": 48.28333241240991}, {\"Real Final Hardness (HRC)\": 51.4, \"Predicted Final Hardness (HRC)\": 52.000208937429804}, {\"Real Final Hardness (HRC)\": 49.3, \"Predicted Final Hardness (HRC)\": 45.2162797494198}, {\"Real Final Hardness (HRC)\": 38.5, \"Predicted Final Hardness (HRC)\": 38.61044553361664}, {\"Real Final Hardness (HRC)\": 63.2, \"Predicted Final Hardness (HRC)\": 60.13934468394091}, {\"Real Final Hardness (HRC)\": 37.4, \"Predicted Final Hardness (HRC)\": 43.283261256157296}, {\"Real Final Hardness (HRC)\": 59.1, \"Predicted Final Hardness (HRC)\": 58.69247001109983}, {\"Real Final Hardness (HRC)\": 6.0, \"Predicted Final Hardness (HRC)\": 6.9858870077093655}, {\"Real Final Hardness (HRC)\": 35.4, \"Predicted Final Hardness (HRC)\": 38.94749583475897}, {\"Real Final Hardness (HRC)\": 43.0, \"Predicted Final Hardness (HRC)\": 42.55660908470762}, {\"Real Final Hardness (HRC)\": 31.5, \"Predicted Final Hardness (HRC)\": 23.62500347313193}, {\"Real Final Hardness (HRC)\": 58.7, \"Predicted Final Hardness (HRC)\": 56.1079886135565}, {\"Real Final Hardness (HRC)\": 39.0, \"Predicted Final Hardness (HRC)\": 35.706567531726336}, {\"Real Final Hardness (HRC)\": 45.2, \"Predicted Final Hardness (HRC)\": 40.23492775973218}, {\"Real Final Hardness (HRC)\": 18.9, \"Predicted Final Hardness (HRC)\": 24.81616999502015}, {\"Real Final Hardness (HRC)\": 63.3, \"Predicted Final Hardness (HRC)\": 60.76730940510393}, {\"Real Final Hardness (HRC)\": 35.5, \"Predicted Final Hardness (HRC)\": 35.9127983125018}, {\"Real Final Hardness (HRC)\": 61.0, \"Predicted Final Hardness (HRC)\": 58.33493896989549}, {\"Real Final Hardness (HRC)\": 14.2, \"Predicted Final Hardness (HRC)\": 18.668531268954037}, {\"Real Final Hardness (HRC)\": 31.5, \"Predicted Final Hardness (HRC)\": 32.5533971626983}, {\"Real Final Hardness (HRC)\": 40.3, \"Predicted Final Hardness (HRC)\": 40.613738063129034}, {\"Real Final Hardness (HRC)\": 56.0, \"Predicted Final Hardness (HRC)\": 57.61248845369265}, {\"Real Final Hardness (HRC)\": 35.1, \"Predicted Final Hardness (HRC)\": 36.095820804872645}, {\"Real Final Hardness (HRC)\": 50.7, \"Predicted Final Hardness (HRC)\": 48.66522366707355}, {\"Real Final Hardness (HRC)\": 39.2, \"Predicted Final Hardness (HRC)\": 44.081011454588825}, {\"Real Final Hardness (HRC)\": 30.5, \"Predicted Final Hardness (HRC)\": 33.649765331750466}, {\"Real Final Hardness (HRC)\": 44.1, \"Predicted Final Hardness (HRC)\": 39.134315074621895}, {\"Real Final Hardness (HRC)\": 30.3, \"Predicted Final Hardness (HRC)\": 31.830990905229115}, {\"Real Final Hardness (HRC)\": 49.2, \"Predicted Final Hardness (HRC)\": 48.652032399055166}, {\"Real Final Hardness (HRC)\": 46.5, \"Predicted Final Hardness (HRC)\": 41.57905681400754}, {\"Real Final Hardness (HRC)\": 51.4, \"Predicted Final Hardness (HRC)\": 54.36791838194989}, {\"Real Final Hardness (HRC)\": 47.2, \"Predicted Final Hardness (HRC)\": 48.540797145707344}, {\"Real Final Hardness (HRC)\": 53.2, \"Predicted Final Hardness (HRC)\": 51.6239396511122}, {\"Real Final Hardness (HRC)\": 66.5, \"Predicted Final Hardness (HRC)\": 65.96240989391048}, {\"Real Final Hardness (HRC)\": 48.1, \"Predicted Final Hardness (HRC)\": 52.269679752424935}, {\"Real Final Hardness (HRC)\": 50.4, \"Predicted Final Hardness (HRC)\": 48.775687289709644}, {\"Real Final Hardness (HRC)\": 41.5, \"Predicted Final Hardness (HRC)\": 37.26790624939059}, {\"Real Final Hardness (HRC)\": 62.5, \"Predicted Final Hardness (HRC)\": 60.012467027772516}, {\"Real Final Hardness (HRC)\": 44.0, \"Predicted Final Hardness (HRC)\": 46.98782086799932}, {\"Real Final Hardness (HRC)\": 31.2, \"Predicted Final Hardness (HRC)\": 31.419635560947533}, {\"Real Final Hardness (HRC)\": 15.5, \"Predicted Final Hardness (HRC)\": 19.074201621076057}, {\"Real Final Hardness (HRC)\": 19.0, \"Predicted Final Hardness (HRC)\": 22.820633492574647}, {\"Real Final Hardness (HRC)\": 39.6, \"Predicted Final Hardness (HRC)\": 41.2539995345641}, {\"Real Final Hardness (HRC)\": 44.9, \"Predicted Final Hardness (HRC)\": 42.70284619711318}, {\"Real Final Hardness (HRC)\": 60.1, \"Predicted Final Hardness (HRC)\": 57.0603808644563}, {\"Real Final Hardness (HRC)\": 29.7, \"Predicted Final Hardness (HRC)\": 34.24003492975807}, {\"Real Final Hardness (HRC)\": 50.3, \"Predicted Final Hardness (HRC)\": 47.89495034960316}, {\"Real Final Hardness (HRC)\": 29.5, \"Predicted Final Hardness (HRC)\": 31.94160441126531}, {\"Real Final Hardness (HRC)\": 36.5, \"Predicted Final Hardness (HRC)\": 41.288550968281676}, {\"Real Final Hardness (HRC)\": 38.2, \"Predicted Final Hardness (HRC)\": 36.352063600723625}, {\"Real Final Hardness (HRC)\": 19.4, \"Predicted Final Hardness (HRC)\": 27.67685446606322}, {\"Real Final Hardness (HRC)\": 52.9, \"Predicted Final Hardness (HRC)\": 51.724589145729155}, {\"Real Final Hardness (HRC)\": 45.0, \"Predicted Final Hardness (HRC)\": 43.2402247118954}, {\"Real Final Hardness (HRC)\": 16.0, \"Predicted Final Hardness (HRC)\": 17.15411323573776}, {\"Real Final Hardness (HRC)\": 67.5, \"Predicted Final Hardness (HRC)\": 65.57756507670172}, {\"Real Final Hardness (HRC)\": 10.899999999999995, \"Predicted Final Hardness (HRC)\": 13.628057296287793}, {\"Real Final Hardness (HRC)\": 59.1, \"Predicted Final Hardness (HRC)\": 60.94341819384646}, {\"Real Final Hardness (HRC)\": 41.2, \"Predicted Final Hardness (HRC)\": 47.87772561065122}, {\"Real Final Hardness (HRC)\": 46.7, \"Predicted Final Hardness (HRC)\": 46.91474365188366}, {\"Real Final Hardness (HRC)\": 47.5, \"Predicted Final Hardness (HRC)\": 47.29344131219314}, {\"Real Final Hardness (HRC)\": 45.7, \"Predicted Final Hardness (HRC)\": 50.27144028363185}, {\"Real Final Hardness (HRC)\": 35.5, \"Predicted Final Hardness (HRC)\": 27.591217627915782}, {\"Real Final Hardness (HRC)\": 35.8, \"Predicted Final Hardness (HRC)\": 32.990825730694475}, {\"Real Final Hardness (HRC)\": 47.2, \"Predicted Final Hardness (HRC)\": 50.83910561518068}, {\"Real Final Hardness (HRC)\": 36.2, \"Predicted Final Hardness (HRC)\": 36.97682284035405}, {\"Real Final Hardness (HRC)\": 48.5, \"Predicted Final Hardness (HRC)\": 48.26591708018107}, {\"Real Final Hardness (HRC)\": 25.5, \"Predicted Final Hardness (HRC)\": 25.574554864141664}, {\"Real Final Hardness (HRC)\": 27.199999999999996, \"Predicted Final Hardness (HRC)\": 27.647419442899256}, {\"Real Final Hardness (HRC)\": 25.3, \"Predicted Final Hardness (HRC)\": 25.95128558154242}, {\"Real Final Hardness (HRC)\": 48.9, \"Predicted Final Hardness (HRC)\": 48.92994097769207}, {\"Real Final Hardness (HRC)\": 27.8, \"Predicted Final Hardness (HRC)\": 28.87481493362449}, {\"Real Final Hardness (HRC)\": 50.0, \"Predicted Final Hardness (HRC)\": 47.976089584950984}, {\"Real Final Hardness (HRC)\": 42.5, \"Predicted Final Hardness (HRC)\": 32.339443810075196}, {\"Real Final Hardness (HRC)\": 56.4, \"Predicted Final Hardness (HRC)\": 58.46083504332173}, {\"Real Final Hardness (HRC)\": 63.1, \"Predicted Final Hardness (HRC)\": 61.87079252028674}, {\"Real Final Hardness (HRC)\": 39.2, \"Predicted Final Hardness (HRC)\": 37.78917621577212}, {\"Real Final Hardness (HRC)\": 52.6, \"Predicted Final Hardness (HRC)\": 49.886276350149444}, {\"Real Final Hardness (HRC)\": 33.0, \"Predicted Final Hardness (HRC)\": 29.32764246706069}, {\"Real Final Hardness (HRC)\": 37.0, \"Predicted Final Hardness (HRC)\": 34.92368608895217}, {\"Real Final Hardness (HRC)\": 50.0, \"Predicted Final Hardness (HRC)\": 54.87262809589325}, {\"Real Final Hardness (HRC)\": 30.9, \"Predicted Final Hardness (HRC)\": 32.02868764347102}, {\"Real Final Hardness (HRC)\": 48.0, \"Predicted Final Hardness (HRC)\": 50.69794131943693}, {\"Real Final Hardness (HRC)\": 24.2, \"Predicted Final Hardness (HRC)\": 22.610640673737887}, {\"Real Final Hardness (HRC)\": 36.6, \"Predicted Final Hardness (HRC)\": 35.347419518416096}, {\"Real Final Hardness (HRC)\": 46.8, \"Predicted Final Hardness (HRC)\": 46.41414875758285}, {\"Real Final Hardness (HRC)\": 37.0, \"Predicted Final Hardness (HRC)\": 31.758345578567315}, {\"Real Final Hardness (HRC)\": 50.0, \"Predicted Final Hardness (HRC)\": 48.35613979385005}, {\"Real Final Hardness (HRC)\": 31.4, \"Predicted Final Hardness (HRC)\": 35.50167812301568}, {\"Real Final Hardness (HRC)\": 54.5, \"Predicted Final Hardness (HRC)\": 53.14527690001794}, {\"Real Final Hardness (HRC)\": 63.0, \"Predicted Final Hardness (HRC)\": 61.285557955586924}, {\"Real Final Hardness (HRC)\": 46.5, \"Predicted Final Hardness (HRC)\": 47.12140173013235}, {\"Real Final Hardness (HRC)\": 45.3, \"Predicted Final Hardness (HRC)\": 43.85616949174386}, {\"Real Final Hardness (HRC)\": 62.7, \"Predicted Final Hardness (HRC)\": 61.02217329862894}, {\"Real Final Hardness (HRC)\": 55.3, \"Predicted Final Hardness (HRC)\": 55.95956393354907}, {\"Real Final Hardness (HRC)\": 62.4, \"Predicted Final Hardness (HRC)\": 60.76730940510393}, {\"Real Final Hardness (HRC)\": 63.3, \"Predicted Final Hardness (HRC)\": 61.02217329862894}, {\"Real Final Hardness (HRC)\": 65.5, \"Predicted Final Hardness (HRC)\": 64.17455298747907}, {\"Real Final Hardness (HRC)\": 33.3, \"Predicted Final Hardness (HRC)\": 36.881761993401526}, {\"Real Final Hardness (HRC)\": 33.5, \"Predicted Final Hardness (HRC)\": 34.599673276574215}, {\"Real Final Hardness (HRC)\": 48.6, \"Predicted Final Hardness (HRC)\": 48.45430922000146}, {\"Real Final Hardness (HRC)\": 37.1, \"Predicted Final Hardness (HRC)\": 38.085091398971535}, {\"Real Final Hardness (HRC)\": 66.5, \"Predicted Final Hardness (HRC)\": 65.3182568669095}, {\"Real Final Hardness (HRC)\": 54.5, \"Predicted Final Hardness (HRC)\": 55.36265093801973}, {\"Real Final Hardness (HRC)\": 67.0, \"Predicted Final Hardness (HRC)\": 65.33196178728349}, {\"Real Final Hardness (HRC)\": 66.5, \"Predicted Final Hardness (HRC)\": 60.012467027772516}, {\"Real Final Hardness (HRC)\": 63.5, \"Predicted Final Hardness (HRC)\": 59.83107498321707}, {\"Real Final Hardness (HRC)\": 63.3, \"Predicted Final Hardness (HRC)\": 60.13934468394091}, {\"Real Final Hardness (HRC)\": 57.7, \"Predicted Final Hardness (HRC)\": 53.201807472961356}, {\"Real Final Hardness (HRC)\": 36.9, \"Predicted Final Hardness (HRC)\": 39.12838891981326}, {\"Real Final Hardness (HRC)\": 48.3, \"Predicted Final Hardness (HRC)\": 46.982553022899204}, {\"Real Final Hardness (HRC)\": 49.6, \"Predicted Final Hardness (HRC)\": 42.61513494927129}, {\"Real Final Hardness (HRC)\": 33.0, \"Predicted Final Hardness (HRC)\": 30.203391575567913}, {\"Real Final Hardness (HRC)\": 50.0, \"Predicted Final Hardness (HRC)\": 50.774578051285374}, {\"Real Final Hardness (HRC)\": 60.8, \"Predicted Final Hardness (HRC)\": 59.74322562068078}, {\"Real Final Hardness (HRC)\": 47.0, \"Predicted Final Hardness (HRC)\": 48.766414737159074}, {\"Real Final Hardness (HRC)\": 66.0, \"Predicted Final Hardness (HRC)\": 64.27175971267701}, {\"Real Final Hardness (HRC)\": 57.4, \"Predicted Final Hardness (HRC)\": 60.33909719370948}, {\"Real Final Hardness (HRC)\": 13.5, \"Predicted Final Hardness (HRC)\": 18.62009304735812}, {\"Real Final Hardness (HRC)\": 48.3, \"Predicted Final Hardness (HRC)\": 50.32841742616412}, {\"Real Final Hardness (HRC)\": 38.1, \"Predicted Final Hardness (HRC)\": 43.56276611795075}, {\"Real Final Hardness (HRC)\": 41.0, \"Predicted Final Hardness (HRC)\": 44.37149967624071}, {\"Real Final Hardness (HRC)\": 35.6, \"Predicted Final Hardness (HRC)\": 32.96997788644751}, {\"Real Final Hardness (HRC)\": 48.5, \"Predicted Final Hardness (HRC)\": 41.288550968281676}, {\"Real Final Hardness (HRC)\": 42.5, \"Predicted Final Hardness (HRC)\": 45.31115021815177}, {\"Real Final Hardness (HRC)\": 51.2, \"Predicted Final Hardness (HRC)\": 49.7207386614231}, {\"Real Final Hardness (HRC)\": 46.5, \"Predicted Final Hardness (HRC)\": 48.93643890340164}, {\"Real Final Hardness (HRC)\": 54.6, \"Predicted Final Hardness (HRC)\": 41.26588198880181}, {\"Real Final Hardness (HRC)\": 58.3, \"Predicted Final Hardness (HRC)\": 56.5416229709006}, {\"Real Final Hardness (HRC)\": 43.6, \"Predicted Final Hardness (HRC)\": 40.958200950399345}, {\"Real Final Hardness (HRC)\": 51.6, \"Predicted Final Hardness (HRC)\": 49.96992411421107}, {\"Real Final Hardness (HRC)\": 46.0, \"Predicted Final Hardness (HRC)\": 50.101003211427155}, {\"Real Final Hardness (HRC)\": 49.1, \"Predicted Final Hardness (HRC)\": 44.32404213663136}, {\"Real Final Hardness (HRC)\": 31.9, \"Predicted Final Hardness (HRC)\": 34.32923211669682}, {\"Real Final Hardness (HRC)\": 49.5, \"Predicted Final Hardness (HRC)\": 50.825000600326256}, {\"Real Final Hardness (HRC)\": 58.4, \"Predicted Final Hardness (HRC)\": 60.56328527269654}, {\"Real Final Hardness (HRC)\": 59.5, \"Predicted Final Hardness (HRC)\": 61.493271632317416}, {\"Real Final Hardness (HRC)\": 49.9, \"Predicted Final Hardness (HRC)\": 51.04741201544475}, {\"Real Final Hardness (HRC)\": 59.8, \"Predicted Final Hardness (HRC)\": 62.9077365370308}, {\"Real Final Hardness (HRC)\": 19.2, \"Predicted Final Hardness (HRC)\": 25.015127784643852}, {\"Real Final Hardness (HRC)\": 34.2, \"Predicted Final Hardness (HRC)\": 32.990825730694475}, {\"Real Final Hardness (HRC)\": 34.0, \"Predicted Final Hardness (HRC)\": 32.130512622447846}, {\"Real Final Hardness (HRC)\": 22.6, \"Predicted Final Hardness (HRC)\": 25.232723052107342}, {\"Real Final Hardness (HRC)\": 49.0, \"Predicted Final Hardness (HRC)\": 49.659430821211906}, {\"Real Final Hardness (HRC)\": 58.5, \"Predicted Final Hardness (HRC)\": 63.76049320569358}, {\"Real Final Hardness (HRC)\": 44.8, \"Predicted Final Hardness (HRC)\": 45.146462340249116}, {\"Real Final Hardness (HRC)\": 39.0, \"Predicted Final Hardness (HRC)\": 39.68464166003226}, {\"Real Final Hardness (HRC)\": 17.3, \"Predicted Final Hardness (HRC)\": 18.878190455827074}, {\"Real Final Hardness (HRC)\": 60.5, \"Predicted Final Hardness (HRC)\": 60.382061984809155}, {\"Real Final Hardness (HRC)\": 60.0, \"Predicted Final Hardness (HRC)\": 60.633831518678306}, {\"Real Final Hardness (HRC)\": 50.5, \"Predicted Final Hardness (HRC)\": 49.73211245241542}, {\"Real Final Hardness (HRC)\": 28.5, \"Predicted Final Hardness (HRC)\": 28.39486421160069}, {\"Real Final Hardness (HRC)\": 8.600000000000001, \"Predicted Final Hardness (HRC)\": 13.848324213636701}, {\"Real Final Hardness (HRC)\": 38.5, \"Predicted Final Hardness (HRC)\": 39.168203068396195}, {\"Real Final Hardness (HRC)\": 29.0, \"Predicted Final Hardness (HRC)\": 27.903343973757018}, {\"Real Final Hardness (HRC)\": 47.6, \"Predicted Final Hardness (HRC)\": 45.61242101156808}, {\"Real Final Hardness (HRC)\": 29.1, \"Predicted Final Hardness (HRC)\": 35.4109974359518}, {\"Real Final Hardness (HRC)\": 49.1, \"Predicted Final Hardness (HRC)\": 49.15744002237333}, {\"Real Final Hardness (HRC)\": 67.5, \"Predicted Final Hardness (HRC)\": 64.94573262179141}, {\"Real Final Hardness (HRC)\": 57.8, \"Predicted Final Hardness (HRC)\": 46.453241456101715}, {\"Real Final Hardness (HRC)\": 20.5, \"Predicted Final Hardness (HRC)\": 23.25385041514382}, {\"Real Final Hardness (HRC)\": 67.5, \"Predicted Final Hardness (HRC)\": 64.17455298747907}, {\"Real Final Hardness (HRC)\": 44.3, \"Predicted Final Hardness (HRC)\": 42.389549588063026}, {\"Real Final Hardness (HRC)\": 31.2, \"Predicted Final Hardness (HRC)\": 30.783006891503046}, {\"Real Final Hardness (HRC)\": 11.400000000000002, \"Predicted Final Hardness (HRC)\": 11.802963573372175}, {\"Real Final Hardness (HRC)\": 28.0, \"Predicted Final Hardness (HRC)\": 28.23681698106452}, {\"Real Final Hardness (HRC)\": 57.5, \"Predicted Final Hardness (HRC)\": 59.59341447511172}, {\"Real Final Hardness (HRC)\": 56.7, \"Predicted Final Hardness (HRC)\": 54.13454260582455}, {\"Real Final Hardness (HRC)\": 37.5, \"Predicted Final Hardness (HRC)\": 33.86993069550977}, {\"Real Final Hardness (HRC)\": 54.5, \"Predicted Final Hardness (HRC)\": 53.98748565847263}, {\"Real Final Hardness (HRC)\": 31.3, \"Predicted Final Hardness (HRC)\": 36.19456915449288}, {\"Real Final Hardness (HRC)\": 37.3, \"Predicted Final Hardness (HRC)\": 41.85062445178005}, {\"Real Final Hardness (HRC)\": 45.0, \"Predicted Final Hardness (HRC)\": 47.2801774619908}, {\"Real Final Hardness (HRC)\": 34.6, \"Predicted Final Hardness (HRC)\": 31.375658821470026}, {\"Real Final Hardness (HRC)\": 51.6, \"Predicted Final Hardness (HRC)\": 58.36569392811988}, {\"Real Final Hardness (HRC)\": 46.5, \"Predicted Final Hardness (HRC)\": 50.678777007051025}, {\"Real Final Hardness (HRC)\": 51.5, \"Predicted Final Hardness (HRC)\": 53.122627188466296}, {\"Real Final Hardness (HRC)\": 17.1, \"Predicted Final Hardness (HRC)\": 22.458102719061383}, {\"Real Final Hardness (HRC)\": 49.1, \"Predicted Final Hardness (HRC)\": 44.05291613230241}, {\"Real Final Hardness (HRC)\": 51.7, \"Predicted Final Hardness (HRC)\": 41.26588198880181}, {\"Real Final Hardness (HRC)\": 64.5, \"Predicted Final Hardness (HRC)\": 64.17455298747907}, {\"Real Final Hardness (HRC)\": 53.4, \"Predicted Final Hardness (HRC)\": 52.04877348975616}, {\"Real Final Hardness (HRC)\": 29.2, \"Predicted Final Hardness (HRC)\": 35.791831839572396}, {\"Real Final Hardness (HRC)\": 51.9, \"Predicted Final Hardness (HRC)\": 57.7092708628139}, {\"Real Final Hardness (HRC)\": 30.5, \"Predicted Final Hardness (HRC)\": 27.591217627915782}, {\"Real Final Hardness (HRC)\": 29.6, \"Predicted Final Hardness (HRC)\": 33.419175226566104}, {\"Real Final Hardness (HRC)\": 9.399999999999999, \"Predicted Final Hardness (HRC)\": 15.924353646221782}, {\"Real Final Hardness (HRC)\": 20.9, \"Predicted Final Hardness (HRC)\": 24.585872896038424}, {\"Real Final Hardness (HRC)\": 45.5, \"Predicted Final Hardness (HRC)\": 50.59395052930336}, {\"Real Final Hardness (HRC)\": 39.3, \"Predicted Final Hardness (HRC)\": 36.352063600723625}, {\"Real Final Hardness (HRC)\": 31.6, \"Predicted Final Hardness (HRC)\": 37.207008830184904}, {\"Real Final Hardness (HRC)\": 36.3, \"Predicted Final Hardness (HRC)\": 38.87413602168358}, {\"Real Final Hardness (HRC)\": 13.5, \"Predicted Final Hardness (HRC)\": 17.57490316652139}, {\"Real Final Hardness (HRC)\": 28.5, \"Predicted Final Hardness (HRC)\": 31.963302573461426}, {\"Real Final Hardness (HRC)\": 29.7, \"Predicted Final Hardness (HRC)\": 30.58872889050298}, {\"Real Final Hardness (HRC)\": 2.6000000000000014, \"Predicted Final Hardness (HRC)\": 7.259344513964564}, {\"Real Final Hardness (HRC)\": 21.2, \"Predicted Final Hardness (HRC)\": 25.218427383510033}, {\"Real Final Hardness (HRC)\": 16.5, \"Predicted Final Hardness (HRC)\": 21.973954896041384}, {\"Real Final Hardness (HRC)\": 20.9, \"Predicted Final Hardness (HRC)\": 22.14534078745578}, {\"Real Final Hardness (HRC)\": 21.0, \"Predicted Final Hardness (HRC)\": 20.0104702603841}, {\"Real Final Hardness (HRC)\": 31.0, \"Predicted Final Hardness (HRC)\": 26.043654341976307}, {\"Real Final Hardness (HRC)\": 53.2, \"Predicted Final Hardness (HRC)\": 47.26734511110523}, {\"Real Final Hardness (HRC)\": 46.4, \"Predicted Final Hardness (HRC)\": 46.448146471886176}]}}, {\"mode\": \"vega-lite\"});\n",
       "</script>"
      ],
      "text/plain": [
       "alt.LayerChart(...)"
      ]
     },
     "execution_count": 92,
     "metadata": {},
     "output_type": "execute_result"
    }
   ],
   "source": [
    "base = alt.Chart(test_df).mark_point().encode(\n",
    "    alt.X('Real Final Hardness (HRC)'),\n",
    "    alt.Y('Predicted Final Hardness (HRC)')\n",
    ")\n",
    "\n",
    "fit = base.transform_regression(\n",
    "    'Real Final Hardness (HRC)','Predicted Final Hardness (HRC)', method='linear'\n",
    ").mark_line(color='red').encode()\n",
    "\n",
    "plot = (base + fit).properties(title='GBRegression Fit')\n",
    "plot.save(f\"{images_path}/GBR_fit.png\")\n",
    "plot"
   ]
  },
  {
   "cell_type": "markdown",
   "metadata": {},
   "source": [
    "## Gradient boost regression as a good fit\n",
    "\n",
    "R2 score is 0.92 without scaling. This is quite good.\n",
    "\n",
    "R2 score is 0.93 with y-scaling. Marginally better.\n",
    "\n",
    "Moving to a Deep Neural Network model to try and improve performance. "
   ]
  },
  {
   "cell_type": "markdown",
   "metadata": {},
   "source": [
    "# Deep Neural Network Model"
   ]
  },
  {
   "cell_type": "code",
   "execution_count": 93,
   "metadata": {},
   "outputs": [
    {
     "name": "stdout",
     "output_type": "stream",
     "text": [
      "Xdim 13 | ydim 1\n"
     ]
    }
   ],
   "source": [
    "dim_input = X_test.shape[1]\n",
    "dim_output = y.shape[1]\n",
    "print(\"Xdim\", dim_input,\"| ydim\", dim_output)"
   ]
  },
  {
   "cell_type": "code",
   "execution_count": 94,
   "metadata": {},
   "outputs": [],
   "source": [
    "# https://machinelearningmastery.com/multi-label-classification-with-deep-learning/\n",
    "\n",
    "# input\n",
    "layers = [Dense(16, activation='relu'),\n",
    "          # fork model to predict hardness\n",
    "          Dense(units=16, activation='relu'),\n",
    "        #Dense(units=64, activation='relu'),\n",
    "        #Dense(units=64, activation='relu'),\n",
    "          # Output layers for each label\n",
    "          Dense(dim_output, name='Hardness')\n",
    "]\n",
    "\n",
    "nn_model = Sequential(layers)\n",
    "\n",
    "nn_model.compile(optimizer=tf.keras.optimizers.Adam(0.0005),\n",
    "                 loss='mean_absolute_error',\n",
    "                 metrics=['mse'])\n",
    "\n",
    "nn_history = nn_model.fit(x=X_train, y=y_train, \n",
    "                        verbose=0, \n",
    "                        epochs=100,\n",
    "                        validation_split = 0.2)\n"
   ]
  },
  {
   "cell_type": "code",
   "execution_count": 95,
   "metadata": {},
   "outputs": [
    {
     "data": {
      "text/html": [
       "<pre style=\"white-space:pre;overflow-x:auto;line-height:normal;font-family:Menlo,'DejaVu Sans Mono',consolas,'Courier New',monospace\"><span style=\"font-weight: bold\">Model: \"sequential_1\"</span>\n",
       "</pre>\n"
      ],
      "text/plain": [
       "\u001b[1mModel: \"sequential_1\"\u001b[0m\n"
      ]
     },
     "metadata": {},
     "output_type": "display_data"
    },
    {
     "data": {
      "text/html": [
       "<pre style=\"white-space:pre;overflow-x:auto;line-height:normal;font-family:Menlo,'DejaVu Sans Mono',consolas,'Courier New',monospace\">┏━━━━━━━━━━━━━━━━━━━━━━━━━━━━━━━━━┳━━━━━━━━━━━━━━━━━━━━━━━━┳━━━━━━━━━━━━━━━┓\n",
       "┃<span style=\"font-weight: bold\"> Layer (type)                    </span>┃<span style=\"font-weight: bold\"> Output Shape           </span>┃<span style=\"font-weight: bold\">       Param # </span>┃\n",
       "┡━━━━━━━━━━━━━━━━━━━━━━━━━━━━━━━━━╇━━━━━━━━━━━━━━━━━━━━━━━━╇━━━━━━━━━━━━━━━┩\n",
       "│ dense_4 (<span style=\"color: #0087ff; text-decoration-color: #0087ff\">Dense</span>)                 │ (<span style=\"color: #00d7ff; text-decoration-color: #00d7ff\">None</span>, <span style=\"color: #00af00; text-decoration-color: #00af00\">16</span>)             │           <span style=\"color: #00af00; text-decoration-color: #00af00\">224</span> │\n",
       "├─────────────────────────────────┼────────────────────────┼───────────────┤\n",
       "│ dense_5 (<span style=\"color: #0087ff; text-decoration-color: #0087ff\">Dense</span>)                 │ (<span style=\"color: #00d7ff; text-decoration-color: #00d7ff\">None</span>, <span style=\"color: #00af00; text-decoration-color: #00af00\">16</span>)             │           <span style=\"color: #00af00; text-decoration-color: #00af00\">272</span> │\n",
       "├─────────────────────────────────┼────────────────────────┼───────────────┤\n",
       "│ Hardness (<span style=\"color: #0087ff; text-decoration-color: #0087ff\">Dense</span>)                │ (<span style=\"color: #00d7ff; text-decoration-color: #00d7ff\">None</span>, <span style=\"color: #00af00; text-decoration-color: #00af00\">1</span>)              │            <span style=\"color: #00af00; text-decoration-color: #00af00\">17</span> │\n",
       "└─────────────────────────────────┴────────────────────────┴───────────────┘\n",
       "</pre>\n"
      ],
      "text/plain": [
       "┏━━━━━━━━━━━━━━━━━━━━━━━━━━━━━━━━━┳━━━━━━━━━━━━━━━━━━━━━━━━┳━━━━━━━━━━━━━━━┓\n",
       "┃\u001b[1m \u001b[0m\u001b[1mLayer (type)                   \u001b[0m\u001b[1m \u001b[0m┃\u001b[1m \u001b[0m\u001b[1mOutput Shape          \u001b[0m\u001b[1m \u001b[0m┃\u001b[1m \u001b[0m\u001b[1m      Param #\u001b[0m\u001b[1m \u001b[0m┃\n",
       "┡━━━━━━━━━━━━━━━━━━━━━━━━━━━━━━━━━╇━━━━━━━━━━━━━━━━━━━━━━━━╇━━━━━━━━━━━━━━━┩\n",
       "│ dense_4 (\u001b[38;5;33mDense\u001b[0m)                 │ (\u001b[38;5;45mNone\u001b[0m, \u001b[38;5;34m16\u001b[0m)             │           \u001b[38;5;34m224\u001b[0m │\n",
       "├─────────────────────────────────┼────────────────────────┼───────────────┤\n",
       "│ dense_5 (\u001b[38;5;33mDense\u001b[0m)                 │ (\u001b[38;5;45mNone\u001b[0m, \u001b[38;5;34m16\u001b[0m)             │           \u001b[38;5;34m272\u001b[0m │\n",
       "├─────────────────────────────────┼────────────────────────┼───────────────┤\n",
       "│ Hardness (\u001b[38;5;33mDense\u001b[0m)                │ (\u001b[38;5;45mNone\u001b[0m, \u001b[38;5;34m1\u001b[0m)              │            \u001b[38;5;34m17\u001b[0m │\n",
       "└─────────────────────────────────┴────────────────────────┴───────────────┘\n"
      ]
     },
     "metadata": {},
     "output_type": "display_data"
    },
    {
     "data": {
      "text/html": [
       "<pre style=\"white-space:pre;overflow-x:auto;line-height:normal;font-family:Menlo,'DejaVu Sans Mono',consolas,'Courier New',monospace\"><span style=\"font-weight: bold\"> Total params: </span><span style=\"color: #00af00; text-decoration-color: #00af00\">1,541</span> (6.02 KB)\n",
       "</pre>\n"
      ],
      "text/plain": [
       "\u001b[1m Total params: \u001b[0m\u001b[38;5;34m1,541\u001b[0m (6.02 KB)\n"
      ]
     },
     "metadata": {},
     "output_type": "display_data"
    },
    {
     "data": {
      "text/html": [
       "<pre style=\"white-space:pre;overflow-x:auto;line-height:normal;font-family:Menlo,'DejaVu Sans Mono',consolas,'Courier New',monospace\"><span style=\"font-weight: bold\"> Trainable params: </span><span style=\"color: #00af00; text-decoration-color: #00af00\">513</span> (2.00 KB)\n",
       "</pre>\n"
      ],
      "text/plain": [
       "\u001b[1m Trainable params: \u001b[0m\u001b[38;5;34m513\u001b[0m (2.00 KB)\n"
      ]
     },
     "metadata": {},
     "output_type": "display_data"
    },
    {
     "data": {
      "text/html": [
       "<pre style=\"white-space:pre;overflow-x:auto;line-height:normal;font-family:Menlo,'DejaVu Sans Mono',consolas,'Courier New',monospace\"><span style=\"font-weight: bold\"> Non-trainable params: </span><span style=\"color: #00af00; text-decoration-color: #00af00\">0</span> (0.00 B)\n",
       "</pre>\n"
      ],
      "text/plain": [
       "\u001b[1m Non-trainable params: \u001b[0m\u001b[38;5;34m0\u001b[0m (0.00 B)\n"
      ]
     },
     "metadata": {},
     "output_type": "display_data"
    },
    {
     "data": {
      "text/html": [
       "<pre style=\"white-space:pre;overflow-x:auto;line-height:normal;font-family:Menlo,'DejaVu Sans Mono',consolas,'Courier New',monospace\"><span style=\"font-weight: bold\"> Optimizer params: </span><span style=\"color: #00af00; text-decoration-color: #00af00\">1,028</span> (4.02 KB)\n",
       "</pre>\n"
      ],
      "text/plain": [
       "\u001b[1m Optimizer params: \u001b[0m\u001b[38;5;34m1,028\u001b[0m (4.02 KB)\n"
      ]
     },
     "metadata": {},
     "output_type": "display_data"
    }
   ],
   "source": [
    "nn_model.summary()"
   ]
  },
  {
   "cell_type": "markdown",
   "metadata": {},
   "source": [
    "## Evaluate NN model\n",
    "\n",
    "Fit and model done 5 times to get stability from the accuracies generated per model."
   ]
  },
  {
   "cell_type": "code",
   "execution_count": 96,
   "metadata": {},
   "outputs": [
    {
     "name": "stdout",
     "output_type": "stream",
     "text": [
      "\u001b[1m11/11\u001b[0m \u001b[32m━━━━━━━━━━━━━━━━━━━━\u001b[0m\u001b[37m\u001b[0m \u001b[1m0s\u001b[0m 1ms/step - loss: 0.1999 - mse: 0.0853  \n"
     ]
    },
    {
     "data": {
      "text/plain": [
       "{'loss': 0.19373619556427002, 'mse': 0.07823114842176437}"
      ]
     },
     "execution_count": 96,
     "metadata": {},
     "output_type": "execute_result"
    }
   ],
   "source": [
    "result = nn_model.evaluate(X_test, y_test, return_dict=True)\n",
    "result"
   ]
  },
  {
   "cell_type": "code",
   "execution_count": 97,
   "metadata": {},
   "outputs": [
    {
     "data": {
      "text/html": [
       "<div><style>\n",
       ".dataframe > thead > tr,\n",
       ".dataframe > tbody > tr {\n",
       "  text-align: right;\n",
       "  white-space: pre-wrap;\n",
       "}\n",
       "</style>\n",
       "<small>shape: (3, 5)</small><table border=\"1\" class=\"dataframe\"><thead><tr><th>index</th><th>loss</th><th>mse</th><th>val_loss</th><th>val_mse</th></tr><tr><td>u32</td><td>f64</td><td>f64</td><td>f64</td><td>f64</td></tr></thead><tbody><tr><td>0</td><td>0.773864</td><td>0.931551</td><td>0.751456</td><td>0.880189</td></tr><tr><td>1</td><td>0.72886</td><td>0.83766</td><td>0.71349</td><td>0.810281</td></tr><tr><td>2</td><td>0.688993</td><td>0.760518</td><td>0.675797</td><td>0.749298</td></tr></tbody></table></div>"
      ],
      "text/plain": [
       "shape: (3, 5)\n",
       "┌───────┬──────────┬──────────┬──────────┬──────────┐\n",
       "│ index ┆ loss     ┆ mse      ┆ val_loss ┆ val_mse  │\n",
       "│ ---   ┆ ---      ┆ ---      ┆ ---      ┆ ---      │\n",
       "│ u32   ┆ f64      ┆ f64      ┆ f64      ┆ f64      │\n",
       "╞═══════╪══════════╪══════════╪══════════╪══════════╡\n",
       "│ 0     ┆ 0.773864 ┆ 0.931551 ┆ 0.751456 ┆ 0.880189 │\n",
       "│ 1     ┆ 0.72886  ┆ 0.83766  ┆ 0.71349  ┆ 0.810281 │\n",
       "│ 2     ┆ 0.688993 ┆ 0.760518 ┆ 0.675797 ┆ 0.749298 │\n",
       "└───────┴──────────┴──────────┴──────────┴──────────┘"
      ]
     },
     "execution_count": 97,
     "metadata": {},
     "output_type": "execute_result"
    }
   ],
   "source": [
    "history_df = pl.DataFrame(nn_history.history)\n",
    "history_df = history_df.with_row_index()\n",
    "history_df.head(3)"
   ]
  },
  {
   "cell_type": "code",
   "execution_count": 98,
   "metadata": {},
   "outputs": [],
   "source": [
    "def plot_model_history(df, name='DNN', feature='mse', tuner=False):\n",
    "    title = f'{feature}'.title() if feature != 'mse' else \"Mean Squared Error\"\n",
    "    selector = ['index', feature]\n",
    "    if tuner: selector.append(f'val_{feature}')\n",
    "\n",
    "    df_reduced = df.select(selector)\n",
    "\n",
    "    plot = alt.Chart(df_reduced).mark_line().encode(\n",
    "        alt.X('index').title('Epochs'),\n",
    "        alt.Y(alt.repeat('layer'), type='quantitative').\\\n",
    "            title(title),\n",
    "        color = alt.datum(alt.repeat('layer'))\n",
    "    ).repeat(\n",
    "        layer = selector[1:]\n",
    "    ).properties(title=f\"{title} by Epoch\")\n",
    "\n",
    "    plot.show()\n",
    "\n",
    "    plot.save(f\"{images_path}/{name}_{feature}.png\")\n"
   ]
  },
  {
   "cell_type": "code",
   "execution_count": 99,
   "metadata": {},
   "outputs": [
    {
     "data": {
      "text/html": [
       "\n",
       "<style>\n",
       "  #altair-viz-e546ec4b29d74d2d8a5088714882b29f.vega-embed {\n",
       "    width: 100%;\n",
       "    display: flex;\n",
       "  }\n",
       "\n",
       "  #altair-viz-e546ec4b29d74d2d8a5088714882b29f.vega-embed details,\n",
       "  #altair-viz-e546ec4b29d74d2d8a5088714882b29f.vega-embed details summary {\n",
       "    position: relative;\n",
       "  }\n",
       "</style>\n",
       "<div id=\"altair-viz-e546ec4b29d74d2d8a5088714882b29f\"></div>\n",
       "<script type=\"text/javascript\">\n",
       "  var VEGA_DEBUG = (typeof VEGA_DEBUG == \"undefined\") ? {} : VEGA_DEBUG;\n",
       "  (function(spec, embedOpt){\n",
       "    let outputDiv = document.currentScript.previousElementSibling;\n",
       "    if (outputDiv.id !== \"altair-viz-e546ec4b29d74d2d8a5088714882b29f\") {\n",
       "      outputDiv = document.getElementById(\"altair-viz-e546ec4b29d74d2d8a5088714882b29f\");\n",
       "    }\n",
       "    const paths = {\n",
       "      \"vega\": \"https://cdn.jsdelivr.net/npm/vega@5?noext\",\n",
       "      \"vega-lib\": \"https://cdn.jsdelivr.net/npm/vega-lib?noext\",\n",
       "      \"vega-lite\": \"https://cdn.jsdelivr.net/npm/vega-lite@5.20.1?noext\",\n",
       "      \"vega-embed\": \"https://cdn.jsdelivr.net/npm/vega-embed@6?noext\",\n",
       "    };\n",
       "\n",
       "    function maybeLoadScript(lib, version) {\n",
       "      var key = `${lib.replace(\"-\", \"\")}_version`;\n",
       "      return (VEGA_DEBUG[key] == version) ?\n",
       "        Promise.resolve(paths[lib]) :\n",
       "        new Promise(function(resolve, reject) {\n",
       "          var s = document.createElement('script');\n",
       "          document.getElementsByTagName(\"head\")[0].appendChild(s);\n",
       "          s.async = true;\n",
       "          s.onload = () => {\n",
       "            VEGA_DEBUG[key] = version;\n",
       "            return resolve(paths[lib]);\n",
       "          };\n",
       "          s.onerror = () => reject(`Error loading script: ${paths[lib]}`);\n",
       "          s.src = paths[lib];\n",
       "        });\n",
       "    }\n",
       "\n",
       "    function showError(err) {\n",
       "      outputDiv.innerHTML = `<div class=\"error\" style=\"color:red;\">${err}</div>`;\n",
       "      throw err;\n",
       "    }\n",
       "\n",
       "    function displayChart(vegaEmbed) {\n",
       "      vegaEmbed(outputDiv, spec, embedOpt)\n",
       "        .catch(err => showError(`Javascript Error: ${err.message}<br>This usually means there's a typo in your chart specification. See the javascript console for the full traceback.`));\n",
       "    }\n",
       "\n",
       "    if(typeof define === \"function\" && define.amd) {\n",
       "      requirejs.config({paths});\n",
       "      require([\"vega-embed\"], displayChart, err => showError(`Error loading script: ${err.message}`));\n",
       "    } else {\n",
       "      maybeLoadScript(\"vega\", \"5\")\n",
       "        .then(() => maybeLoadScript(\"vega-lite\", \"5.20.1\"))\n",
       "        .then(() => maybeLoadScript(\"vega-embed\", \"6\"))\n",
       "        .catch(showError)\n",
       "        .then(() => displayChart(vegaEmbed));\n",
       "    }\n",
       "  })({\"config\": {\"view\": {\"continuousWidth\": 300, \"continuousHeight\": 300}}, \"repeat\": {\"layer\": [\"mse\", \"val_mse\"]}, \"spec\": {\"data\": {\"name\": \"data-d53facf0a5f4ad3e8f3739507b9e88cc\"}, \"mark\": {\"type\": \"line\"}, \"encoding\": {\"color\": {\"datum\": {\"repeat\": \"layer\"}}, \"x\": {\"field\": \"index\", \"title\": \"Epochs\", \"type\": \"quantitative\"}, \"y\": {\"field\": {\"repeat\": \"layer\"}, \"title\": \"Mean Squared Error\", \"type\": \"quantitative\"}}}, \"title\": \"Mean Squared Error by Epoch\", \"$schema\": \"https://vega.github.io/schema/vega-lite/v5.20.1.json\", \"datasets\": {\"data-d53facf0a5f4ad3e8f3739507b9e88cc\": [{\"index\": 0, \"mse\": 0.9315508604049683, \"val_mse\": 0.8801891803741455}, {\"index\": 1, \"mse\": 0.837660014629364, \"val_mse\": 0.8102808594703674}, {\"index\": 2, \"mse\": 0.7605180740356445, \"val_mse\": 0.7492983937263489}, {\"index\": 3, \"mse\": 0.6900340914726257, \"val_mse\": 0.6855196952819824}, {\"index\": 4, \"mse\": 0.6243428587913513, \"val_mse\": 0.6233426332473755}, {\"index\": 5, \"mse\": 0.5584257245063782, \"val_mse\": 0.5617013573646545}, {\"index\": 6, \"mse\": 0.49918457865715027, \"val_mse\": 0.5084971189498901}, {\"index\": 7, \"mse\": 0.44003570079803467, \"val_mse\": 0.4541616141796112}, {\"index\": 8, \"mse\": 0.3836848735809326, \"val_mse\": 0.4019962251186371}, {\"index\": 9, \"mse\": 0.33623483777046204, \"val_mse\": 0.3578328490257263}, {\"index\": 10, \"mse\": 0.29707324504852295, \"val_mse\": 0.32079675793647766}, {\"index\": 11, \"mse\": 0.26643869280815125, \"val_mse\": 0.2982732057571411}, {\"index\": 12, \"mse\": 0.244399294257164, \"val_mse\": 0.2805860936641693}, {\"index\": 13, \"mse\": 0.22496400773525238, \"val_mse\": 0.26500552892684937}, {\"index\": 14, \"mse\": 0.2096034586429596, \"val_mse\": 0.25129058957099915}, {\"index\": 15, \"mse\": 0.1986353099346161, \"val_mse\": 0.24068203568458557}, {\"index\": 16, \"mse\": 0.18761731684207916, \"val_mse\": 0.2313978523015976}, {\"index\": 17, \"mse\": 0.17729952931404114, \"val_mse\": 0.22071251273155212}, {\"index\": 18, \"mse\": 0.16885462403297424, \"val_mse\": 0.21274162828922272}, {\"index\": 19, \"mse\": 0.16034160554409027, \"val_mse\": 0.2088644653558731}, {\"index\": 20, \"mse\": 0.1544855833053589, \"val_mse\": 0.20002838969230652}, {\"index\": 21, \"mse\": 0.1510319858789444, \"val_mse\": 0.19281670451164246}, {\"index\": 22, \"mse\": 0.1448449194431305, \"val_mse\": 0.18790851533412933}, {\"index\": 23, \"mse\": 0.138621985912323, \"val_mse\": 0.18414239585399628}, {\"index\": 24, \"mse\": 0.1338181346654892, \"val_mse\": 0.18102553486824036}, {\"index\": 25, \"mse\": 0.12916529178619385, \"val_mse\": 0.1775067150592804}, {\"index\": 26, \"mse\": 0.12498275935649872, \"val_mse\": 0.1707155853509903}, {\"index\": 27, \"mse\": 0.12162800878286362, \"val_mse\": 0.16709356009960175}, {\"index\": 28, \"mse\": 0.11725816130638123, \"val_mse\": 0.16374662518501282}, {\"index\": 29, \"mse\": 0.11372251063585281, \"val_mse\": 0.15652737021446228}, {\"index\": 30, \"mse\": 0.1108144149184227, \"val_mse\": 0.15483227372169495}, {\"index\": 31, \"mse\": 0.10736095905303955, \"val_mse\": 0.1523222029209137}, {\"index\": 32, \"mse\": 0.10562791675329208, \"val_mse\": 0.14993272721767426}, {\"index\": 33, \"mse\": 0.10331110656261444, \"val_mse\": 0.14927159249782562}, {\"index\": 34, \"mse\": 0.10171771049499512, \"val_mse\": 0.1426541954278946}, {\"index\": 35, \"mse\": 0.09904026985168457, \"val_mse\": 0.14175988733768463}, {\"index\": 36, \"mse\": 0.09518052637577057, \"val_mse\": 0.13870249688625336}, {\"index\": 37, \"mse\": 0.092591293156147, \"val_mse\": 0.1376807987689972}, {\"index\": 38, \"mse\": 0.09187290817499161, \"val_mse\": 0.13285668194293976}, {\"index\": 39, \"mse\": 0.08975446224212646, \"val_mse\": 0.13225869834423065}, {\"index\": 40, \"mse\": 0.08744733035564423, \"val_mse\": 0.13153043389320374}, {\"index\": 41, \"mse\": 0.0856904610991478, \"val_mse\": 0.12948590517044067}, {\"index\": 42, \"mse\": 0.08360356092453003, \"val_mse\": 0.12613588571548462}, {\"index\": 43, \"mse\": 0.08225452899932861, \"val_mse\": 0.12494537234306335}, {\"index\": 44, \"mse\": 0.0803636759519577, \"val_mse\": 0.12415242195129395}, {\"index\": 45, \"mse\": 0.08001233637332916, \"val_mse\": 0.12395565211772919}, {\"index\": 46, \"mse\": 0.07773007452487946, \"val_mse\": 0.12076438963413239}, {\"index\": 47, \"mse\": 0.0746510699391365, \"val_mse\": 0.11930365115404129}, {\"index\": 48, \"mse\": 0.07465377449989319, \"val_mse\": 0.1196163147687912}, {\"index\": 49, \"mse\": 0.07305431365966797, \"val_mse\": 0.11919792741537094}, {\"index\": 50, \"mse\": 0.07234379649162292, \"val_mse\": 0.119417704641819}, {\"index\": 51, \"mse\": 0.0713786780834198, \"val_mse\": 0.11510369926691055}, {\"index\": 52, \"mse\": 0.06977168470621109, \"val_mse\": 0.1113116592168808}, {\"index\": 53, \"mse\": 0.06939434260129929, \"val_mse\": 0.11312783509492874}, {\"index\": 54, \"mse\": 0.06818639487028122, \"val_mse\": 0.11207807064056396}, {\"index\": 55, \"mse\": 0.0677761361002922, \"val_mse\": 0.1118074506521225}, {\"index\": 56, \"mse\": 0.0670940950512886, \"val_mse\": 0.11307889968156815}, {\"index\": 57, \"mse\": 0.06705119460821152, \"val_mse\": 0.11028938740491867}, {\"index\": 58, \"mse\": 0.06519731879234314, \"val_mse\": 0.10946787893772125}, {\"index\": 59, \"mse\": 0.06518514454364777, \"val_mse\": 0.10779540985822678}, {\"index\": 60, \"mse\": 0.06414052098989487, \"val_mse\": 0.10897327214479446}, {\"index\": 61, \"mse\": 0.06380177289247513, \"val_mse\": 0.10649160295724869}, {\"index\": 62, \"mse\": 0.06327453255653381, \"val_mse\": 0.10797872394323349}, {\"index\": 63, \"mse\": 0.06248173862695694, \"val_mse\": 0.10472852736711502}, {\"index\": 64, \"mse\": 0.06252946704626083, \"val_mse\": 0.10349689424037933}, {\"index\": 65, \"mse\": 0.061939600855112076, \"val_mse\": 0.10718243569135666}, {\"index\": 66, \"mse\": 0.06195135787129402, \"val_mse\": 0.10238057374954224}, {\"index\": 67, \"mse\": 0.0605740025639534, \"val_mse\": 0.10454456508159637}, {\"index\": 68, \"mse\": 0.06060158833861351, \"val_mse\": 0.10532236099243164}, {\"index\": 69, \"mse\": 0.060042206197977066, \"val_mse\": 0.10570673644542694}, {\"index\": 70, \"mse\": 0.059454575181007385, \"val_mse\": 0.10165448486804962}, {\"index\": 71, \"mse\": 0.05927550792694092, \"val_mse\": 0.10157943516969681}, {\"index\": 72, \"mse\": 0.05943351611495018, \"val_mse\": 0.10240421444177628}, {\"index\": 73, \"mse\": 0.05896342545747757, \"val_mse\": 0.10380371659994125}, {\"index\": 74, \"mse\": 0.05827566236257553, \"val_mse\": 0.10140382498502731}, {\"index\": 75, \"mse\": 0.05808969587087631, \"val_mse\": 0.09967519342899323}, {\"index\": 76, \"mse\": 0.05761130526661873, \"val_mse\": 0.10413830727338791}, {\"index\": 77, \"mse\": 0.05782610550522804, \"val_mse\": 0.1025829017162323}, {\"index\": 78, \"mse\": 0.05744742974638939, \"val_mse\": 0.10100473463535309}, {\"index\": 79, \"mse\": 0.05669068545103073, \"val_mse\": 0.10320529341697693}, {\"index\": 80, \"mse\": 0.05694394186139107, \"val_mse\": 0.10026009380817413}, {\"index\": 81, \"mse\": 0.057355258613824844, \"val_mse\": 0.10031162202358246}, {\"index\": 82, \"mse\": 0.056344859302043915, \"val_mse\": 0.10079971700906754}, {\"index\": 83, \"mse\": 0.055389996618032455, \"val_mse\": 0.09877459704875946}, {\"index\": 84, \"mse\": 0.055432453751564026, \"val_mse\": 0.10064415633678436}, {\"index\": 85, \"mse\": 0.055597126483917236, \"val_mse\": 0.09855085611343384}, {\"index\": 86, \"mse\": 0.055726151913404465, \"val_mse\": 0.09946469962596893}, {\"index\": 87, \"mse\": 0.05572247505187988, \"val_mse\": 0.09975514560937881}, {\"index\": 88, \"mse\": 0.055271316319704056, \"val_mse\": 0.10082259029150009}, {\"index\": 89, \"mse\": 0.05526689440011978, \"val_mse\": 0.09705032408237457}, {\"index\": 90, \"mse\": 0.0540672168135643, \"val_mse\": 0.09850785881280899}, {\"index\": 91, \"mse\": 0.053877491503953934, \"val_mse\": 0.09859128296375275}, {\"index\": 92, \"mse\": 0.05422041565179825, \"val_mse\": 0.09766974300146103}, {\"index\": 93, \"mse\": 0.05365006625652313, \"val_mse\": 0.09470418840646744}, {\"index\": 94, \"mse\": 0.05357500538229942, \"val_mse\": 0.09823065996170044}, {\"index\": 95, \"mse\": 0.053407616913318634, \"val_mse\": 0.09559536725282669}, {\"index\": 96, \"mse\": 0.05326157435774803, \"val_mse\": 0.09605120122432709}, {\"index\": 97, \"mse\": 0.052931711077690125, \"val_mse\": 0.09507782757282257}, {\"index\": 98, \"mse\": 0.053838469088077545, \"val_mse\": 0.09441711753606796}, {\"index\": 99, \"mse\": 0.05272216349840164, \"val_mse\": 0.09308496862649918}]}}, {\"mode\": \"vega-lite\"});\n",
       "</script>"
      ],
      "text/plain": [
       "alt.RepeatChart(...)"
      ]
     },
     "metadata": {},
     "output_type": "display_data"
    },
    {
     "data": {
      "text/html": [
       "\n",
       "<style>\n",
       "  #altair-viz-8eae86ded0c540cdb9be42234249e28c.vega-embed {\n",
       "    width: 100%;\n",
       "    display: flex;\n",
       "  }\n",
       "\n",
       "  #altair-viz-8eae86ded0c540cdb9be42234249e28c.vega-embed details,\n",
       "  #altair-viz-8eae86ded0c540cdb9be42234249e28c.vega-embed details summary {\n",
       "    position: relative;\n",
       "  }\n",
       "</style>\n",
       "<div id=\"altair-viz-8eae86ded0c540cdb9be42234249e28c\"></div>\n",
       "<script type=\"text/javascript\">\n",
       "  var VEGA_DEBUG = (typeof VEGA_DEBUG == \"undefined\") ? {} : VEGA_DEBUG;\n",
       "  (function(spec, embedOpt){\n",
       "    let outputDiv = document.currentScript.previousElementSibling;\n",
       "    if (outputDiv.id !== \"altair-viz-8eae86ded0c540cdb9be42234249e28c\") {\n",
       "      outputDiv = document.getElementById(\"altair-viz-8eae86ded0c540cdb9be42234249e28c\");\n",
       "    }\n",
       "    const paths = {\n",
       "      \"vega\": \"https://cdn.jsdelivr.net/npm/vega@5?noext\",\n",
       "      \"vega-lib\": \"https://cdn.jsdelivr.net/npm/vega-lib?noext\",\n",
       "      \"vega-lite\": \"https://cdn.jsdelivr.net/npm/vega-lite@5.20.1?noext\",\n",
       "      \"vega-embed\": \"https://cdn.jsdelivr.net/npm/vega-embed@6?noext\",\n",
       "    };\n",
       "\n",
       "    function maybeLoadScript(lib, version) {\n",
       "      var key = `${lib.replace(\"-\", \"\")}_version`;\n",
       "      return (VEGA_DEBUG[key] == version) ?\n",
       "        Promise.resolve(paths[lib]) :\n",
       "        new Promise(function(resolve, reject) {\n",
       "          var s = document.createElement('script');\n",
       "          document.getElementsByTagName(\"head\")[0].appendChild(s);\n",
       "          s.async = true;\n",
       "          s.onload = () => {\n",
       "            VEGA_DEBUG[key] = version;\n",
       "            return resolve(paths[lib]);\n",
       "          };\n",
       "          s.onerror = () => reject(`Error loading script: ${paths[lib]}`);\n",
       "          s.src = paths[lib];\n",
       "        });\n",
       "    }\n",
       "\n",
       "    function showError(err) {\n",
       "      outputDiv.innerHTML = `<div class=\"error\" style=\"color:red;\">${err}</div>`;\n",
       "      throw err;\n",
       "    }\n",
       "\n",
       "    function displayChart(vegaEmbed) {\n",
       "      vegaEmbed(outputDiv, spec, embedOpt)\n",
       "        .catch(err => showError(`Javascript Error: ${err.message}<br>This usually means there's a typo in your chart specification. See the javascript console for the full traceback.`));\n",
       "    }\n",
       "\n",
       "    if(typeof define === \"function\" && define.amd) {\n",
       "      requirejs.config({paths});\n",
       "      require([\"vega-embed\"], displayChart, err => showError(`Error loading script: ${err.message}`));\n",
       "    } else {\n",
       "      maybeLoadScript(\"vega\", \"5\")\n",
       "        .then(() => maybeLoadScript(\"vega-lite\", \"5.20.1\"))\n",
       "        .then(() => maybeLoadScript(\"vega-embed\", \"6\"))\n",
       "        .catch(showError)\n",
       "        .then(() => displayChart(vegaEmbed));\n",
       "    }\n",
       "  })({\"config\": {\"view\": {\"continuousWidth\": 300, \"continuousHeight\": 300}}, \"repeat\": {\"layer\": [\"loss\", \"val_loss\"]}, \"spec\": {\"data\": {\"name\": \"data-f825eb8402229ee261ad3e1895e732ce\"}, \"mark\": {\"type\": \"line\"}, \"encoding\": {\"color\": {\"datum\": {\"repeat\": \"layer\"}}, \"x\": {\"field\": \"index\", \"title\": \"Epochs\", \"type\": \"quantitative\"}, \"y\": {\"field\": {\"repeat\": \"layer\"}, \"title\": \"Loss\", \"type\": \"quantitative\"}}}, \"title\": \"Loss by Epoch\", \"$schema\": \"https://vega.github.io/schema/vega-lite/v5.20.1.json\", \"datasets\": {\"data-f825eb8402229ee261ad3e1895e732ce\": [{\"index\": 0, \"loss\": 0.7738635540008545, \"val_loss\": 0.7514557242393494}, {\"index\": 1, \"loss\": 0.7288599610328674, \"val_loss\": 0.7134898900985718}, {\"index\": 2, \"loss\": 0.6889927387237549, \"val_loss\": 0.6757965683937073}, {\"index\": 3, \"loss\": 0.6489566564559937, \"val_loss\": 0.6361090540885925}, {\"index\": 4, \"loss\": 0.6084570288658142, \"val_loss\": 0.5935607552528381}, {\"index\": 5, \"loss\": 0.5660203099250793, \"val_loss\": 0.5562182068824768}, {\"index\": 6, \"loss\": 0.5260134339332581, \"val_loss\": 0.520681619644165}, {\"index\": 7, \"loss\": 0.4867231547832489, \"val_loss\": 0.4832429885864258}, {\"index\": 8, \"loss\": 0.44811147451400757, \"val_loss\": 0.4437497854232788}, {\"index\": 9, \"loss\": 0.41104885935783386, \"val_loss\": 0.4072275757789612}, {\"index\": 10, \"loss\": 0.38273146748542786, \"val_loss\": 0.3790786564350128}, {\"index\": 11, \"loss\": 0.36044761538505554, \"val_loss\": 0.3614005446434021}, {\"index\": 12, \"loss\": 0.3429299294948578, \"val_loss\": 0.34984302520751953}, {\"index\": 13, \"loss\": 0.3280418813228607, \"val_loss\": 0.33838316798210144}, {\"index\": 14, \"loss\": 0.31626734137535095, \"val_loss\": 0.32569488883018494}, {\"index\": 15, \"loss\": 0.3058755099773407, \"val_loss\": 0.3151979148387909}, {\"index\": 16, \"loss\": 0.2956288754940033, \"val_loss\": 0.30977457761764526}, {\"index\": 17, \"loss\": 0.2879643142223358, \"val_loss\": 0.30381670594215393}, {\"index\": 18, \"loss\": 0.2805664539337158, \"val_loss\": 0.2979380786418915}, {\"index\": 19, \"loss\": 0.2741338908672333, \"val_loss\": 0.29549849033355713}, {\"index\": 20, \"loss\": 0.26701778173446655, \"val_loss\": 0.2901967167854309}, {\"index\": 21, \"loss\": 0.2637091279029846, \"val_loss\": 0.28345516324043274}, {\"index\": 22, \"loss\": 0.25988566875457764, \"val_loss\": 0.2802729904651642}, {\"index\": 23, \"loss\": 0.2526087462902069, \"val_loss\": 0.2790026068687439}, {\"index\": 24, \"loss\": 0.2486099898815155, \"val_loss\": 0.27878642082214355}, {\"index\": 25, \"loss\": 0.24395668506622314, \"val_loss\": 0.2766840159893036}, {\"index\": 26, \"loss\": 0.2405412495136261, \"val_loss\": 0.26969465613365173}, {\"index\": 27, \"loss\": 0.23739612102508545, \"val_loss\": 0.26770636439323425}, {\"index\": 28, \"loss\": 0.23276488482952118, \"val_loss\": 0.2653745114803314}, {\"index\": 29, \"loss\": 0.2297554612159729, \"val_loss\": 0.25917381048202515}, {\"index\": 30, \"loss\": 0.2259196788072586, \"val_loss\": 0.2598226070404053}, {\"index\": 31, \"loss\": 0.22292642295360565, \"val_loss\": 0.257636159658432}, {\"index\": 32, \"loss\": 0.22010095417499542, \"val_loss\": 0.25490057468414307}, {\"index\": 33, \"loss\": 0.21761196851730347, \"val_loss\": 0.2548791170120239}, {\"index\": 34, \"loss\": 0.21572960913181305, \"val_loss\": 0.2476619929075241}, {\"index\": 35, \"loss\": 0.213550865650177, \"val_loss\": 0.24892127513885498}, {\"index\": 36, \"loss\": 0.21039196848869324, \"val_loss\": 0.24497555196285248}, {\"index\": 37, \"loss\": 0.20689332485198975, \"val_loss\": 0.24486663937568665}, {\"index\": 38, \"loss\": 0.20632730424404144, \"val_loss\": 0.24128922820091248}, {\"index\": 39, \"loss\": 0.2033492475748062, \"val_loss\": 0.24110454320907593}, {\"index\": 40, \"loss\": 0.2011137455701828, \"val_loss\": 0.24173837900161743}, {\"index\": 41, \"loss\": 0.19979527592658997, \"val_loss\": 0.23976773023605347}, {\"index\": 42, \"loss\": 0.19714727997779846, \"val_loss\": 0.23599502444267273}, {\"index\": 43, \"loss\": 0.19598817825317383, \"val_loss\": 0.2356855571269989}, {\"index\": 44, \"loss\": 0.19375386834144592, \"val_loss\": 0.23571884632110596}, {\"index\": 45, \"loss\": 0.1931135058403015, \"val_loss\": 0.23336835205554962}, {\"index\": 46, \"loss\": 0.19061972200870514, \"val_loss\": 0.23251041769981384}, {\"index\": 47, \"loss\": 0.18845006823539734, \"val_loss\": 0.22943897545337677}, {\"index\": 48, \"loss\": 0.18873172998428345, \"val_loss\": 0.22955697774887085}, {\"index\": 49, \"loss\": 0.1852342188358307, \"val_loss\": 0.22990815341472626}, {\"index\": 50, \"loss\": 0.18398074805736542, \"val_loss\": 0.23031620681285858}, {\"index\": 51, \"loss\": 0.18352463841438293, \"val_loss\": 0.22573454678058624}, {\"index\": 52, \"loss\": 0.18177223205566406, \"val_loss\": 0.22150705754756927}, {\"index\": 53, \"loss\": 0.18188124895095825, \"val_loss\": 0.2253304272890091}, {\"index\": 54, \"loss\": 0.17908059060573578, \"val_loss\": 0.22351442277431488}, {\"index\": 55, \"loss\": 0.17845234274864197, \"val_loss\": 0.22429007291793823}, {\"index\": 56, \"loss\": 0.17755062878131866, \"val_loss\": 0.22577717900276184}, {\"index\": 57, \"loss\": 0.17775465548038483, \"val_loss\": 0.22238656878471375}, {\"index\": 58, \"loss\": 0.17505092918872833, \"val_loss\": 0.22262145578861237}, {\"index\": 59, \"loss\": 0.1754169464111328, \"val_loss\": 0.2201351374387741}, {\"index\": 60, \"loss\": 0.17348994314670563, \"val_loss\": 0.22277583181858063}, {\"index\": 61, \"loss\": 0.17340262234210968, \"val_loss\": 0.21865935623645782}, {\"index\": 62, \"loss\": 0.17270073294639587, \"val_loss\": 0.2212081104516983}, {\"index\": 63, \"loss\": 0.1717805713415146, \"val_loss\": 0.2179056853055954}, {\"index\": 64, \"loss\": 0.17066653072834015, \"val_loss\": 0.21590276062488556}, {\"index\": 65, \"loss\": 0.1704663783311844, \"val_loss\": 0.2208077758550644}, {\"index\": 66, \"loss\": 0.17101503908634186, \"val_loss\": 0.2142651379108429}, {\"index\": 67, \"loss\": 0.1695735603570938, \"val_loss\": 0.2163139283657074}, {\"index\": 68, \"loss\": 0.1686820536851883, \"val_loss\": 0.21774134039878845}, {\"index\": 69, \"loss\": 0.16811993718147278, \"val_loss\": 0.21842706203460693}, {\"index\": 70, \"loss\": 0.16705332696437836, \"val_loss\": 0.21341735124588013}, {\"index\": 71, \"loss\": 0.16740114986896515, \"val_loss\": 0.2127746045589447}, {\"index\": 72, \"loss\": 0.16668809950351715, \"val_loss\": 0.21331456303596497}, {\"index\": 73, \"loss\": 0.16710902750492096, \"val_loss\": 0.21590176224708557}, {\"index\": 74, \"loss\": 0.16563363373279572, \"val_loss\": 0.21281349658966064}, {\"index\": 75, \"loss\": 0.16568540036678314, \"val_loss\": 0.2106333076953888}, {\"index\": 76, \"loss\": 0.1634436696767807, \"val_loss\": 0.2155991643667221}, {\"index\": 77, \"loss\": 0.1636466085910797, \"val_loss\": 0.21408915519714355}, {\"index\": 78, \"loss\": 0.16414989531040192, \"val_loss\": 0.21238471567630768}, {\"index\": 79, \"loss\": 0.16283932328224182, \"val_loss\": 0.21576474606990814}, {\"index\": 80, \"loss\": 0.16244876384735107, \"val_loss\": 0.2097102552652359}, {\"index\": 81, \"loss\": 0.16270601749420166, \"val_loss\": 0.20939846336841583}, {\"index\": 82, \"loss\": 0.1614636331796646, \"val_loss\": 0.21265935897827148}, {\"index\": 83, \"loss\": 0.1607183963060379, \"val_loss\": 0.20977705717086792}, {\"index\": 84, \"loss\": 0.16015192866325378, \"val_loss\": 0.21079067885875702}, {\"index\": 85, \"loss\": 0.15984635055065155, \"val_loss\": 0.2076680213212967}, {\"index\": 86, \"loss\": 0.15996655821800232, \"val_loss\": 0.2083897441625595}, {\"index\": 87, \"loss\": 0.16025251150131226, \"val_loss\": 0.20911705493927002}, {\"index\": 88, \"loss\": 0.15972819924354553, \"val_loss\": 0.20999030768871307}, {\"index\": 89, \"loss\": 0.16014699637889862, \"val_loss\": 0.20561230182647705}, {\"index\": 90, \"loss\": 0.1582794338464737, \"val_loss\": 0.20775245130062103}, {\"index\": 91, \"loss\": 0.1576584428548813, \"val_loss\": 0.20649559795856476}, {\"index\": 92, \"loss\": 0.15769806504249573, \"val_loss\": 0.20698438584804535}, {\"index\": 93, \"loss\": 0.15756787359714508, \"val_loss\": 0.20343387126922607}, {\"index\": 94, \"loss\": 0.1569330096244812, \"val_loss\": 0.20792971551418304}, {\"index\": 95, \"loss\": 0.15611134469509125, \"val_loss\": 0.2039804607629776}, {\"index\": 96, \"loss\": 0.15579207241535187, \"val_loss\": 0.20355035364627838}, {\"index\": 97, \"loss\": 0.15580767393112183, \"val_loss\": 0.20292377471923828}, {\"index\": 98, \"loss\": 0.15701381862163544, \"val_loss\": 0.2027086615562439}, {\"index\": 99, \"loss\": 0.15622544288635254, \"val_loss\": 0.20161382853984833}]}}, {\"mode\": \"vega-lite\"});\n",
       "</script>"
      ],
      "text/plain": [
       "alt.RepeatChart(...)"
      ]
     },
     "metadata": {},
     "output_type": "display_data"
    }
   ],
   "source": [
    "plot_model_history(history_df, feature='mse', name=\"initial_NN\", tuner=True)\n",
    "plot_model_history(history_df, feature='loss', name=\"initial_NN\", tuner=True)"
   ]
  },
  {
   "cell_type": "markdown",
   "metadata": {},
   "source": [
    "# Results\n",
    "\n",
    "NN model pushes R2 down to 0.5 with very few epochs (<25)."
   ]
  },
  {
   "cell_type": "markdown",
   "metadata": {},
   "source": [
    "# Build a Tuner"
   ]
  },
  {
   "cell_type": "code",
   "execution_count": 100,
   "metadata": {},
   "outputs": [],
   "source": [
    "name = \"hardness_DNN_tuner\"\n",
    "def create_hp_model(hp):\n",
    "    #Activation for all hidden layers\n",
    "      activation = hp.Choice('activation',['relu','tanh','sigmoid'])\n",
    "\n",
    "      layers = [Dense(units=hp.Int('time_units1',\n",
    "                             min_value=8,\n",
    "                             max_value=256,\n",
    "                             sampling='linear'), \n",
    "                             activation=activation),\n",
    "                             # fork model to predict hardness\n",
    "                  Dense(units=hp.Int('time_units2',\n",
    "                             min_value=8,\n",
    "                             max_value=256,\n",
    "                             sampling='linear'), \n",
    "                             activation=activation),\n",
    "                  Dense(units=hp.Int('time_units3',\n",
    "                             min_value=8,\n",
    "                             max_value=256,\n",
    "                             sampling='linear'), \n",
    "                             activation=activation),\n",
    "                  Dense(units=hp.Int('time_units4',\n",
    "                             min_value=8,\n",
    "                             max_value=256,\n",
    "                             sampling='linear'), \n",
    "                             activation=activation),\n",
    "                  Dense(dim_output, name='Hardness')\n",
    "          ]\n",
    "    \n",
    "      nn_model = Sequential(layers)\n",
    "\n",
    "      nn_model.compile(optimizer=tf.keras.optimizers.Adam(0.001),\n",
    "                 loss='mean_absolute_error',\n",
    "                 metrics=['mse'])\n",
    "    \n",
    "      return nn_model"
   ]
  },
  {
   "cell_type": "code",
   "execution_count": 101,
   "metadata": {},
   "outputs": [],
   "source": [
    "tuner = kt.Hyperband(\n",
    "    create_hp_model,\n",
    "    objective=[\"val_loss\",\"val_loss\"],\n",
    "    max_epochs=20,\n",
    "    factor=5,\n",
    "    hyperband_iterations=2,\n",
    "    project_name=name,\n",
    "    executions_per_trial=5,\n",
    "    overwrite= True)# TODO: remove when done tuning this set and have saved DNN to github after model freeze\n"
   ]
  },
  {
   "cell_type": "code",
   "execution_count": 102,
   "metadata": {},
   "outputs": [
    {
     "name": "stdout",
     "output_type": "stream",
     "text": [
      "Trial 26 Complete [00h 00m 22s]\n",
      "multi_objective: 0.1552715092897415\n",
      "\n",
      "Best multi_objective So Far: 0.15430507361888884\n",
      "Total elapsed time: 00h 07m 10s\n"
     ]
    }
   ],
   "source": [
    "tuner.search(x=X_train, \n",
    "             y=y_train,\n",
    "             epochs=250,\n",
    "             validation_data=(X_test,y_test))"
   ]
  },
  {
   "cell_type": "code",
   "execution_count": 103,
   "metadata": {},
   "outputs": [],
   "source": [
    "best_model = tuner.get_best_models(1)[0]"
   ]
  },
  {
   "cell_type": "code",
   "execution_count": 104,
   "metadata": {},
   "outputs": [],
   "source": [
    "fit_history = best_model.fit(x=X_train, \n",
    "               y=y_train, \n",
    "               verbose=0,\n",
    "               epochs=150)"
   ]
  },
  {
   "cell_type": "code",
   "execution_count": 105,
   "metadata": {},
   "outputs": [
    {
     "data": {
      "text/plain": [
       "{'activation': 'relu',\n",
       " 'time_units1': 186,\n",
       " 'time_units2': 246,\n",
       " 'time_units3': 204,\n",
       " 'time_units4': 186,\n",
       " 'tuner/epochs': 20,\n",
       " 'tuner/initial_epoch': 4,\n",
       " 'tuner/bracket': 1,\n",
       " 'tuner/round': 1,\n",
       " 'tuner/trial_id': '0020'}"
      ]
     },
     "execution_count": 105,
     "metadata": {},
     "output_type": "execute_result"
    }
   ],
   "source": [
    "tuner.get_best_hyperparameters(1)[0].values"
   ]
  },
  {
   "cell_type": "code",
   "execution_count": 106,
   "metadata": {},
   "outputs": [
    {
     "data": {
      "text/html": [
       "<div><style>\n",
       ".dataframe > thead > tr,\n",
       ".dataframe > tbody > tr {\n",
       "  text-align: right;\n",
       "  white-space: pre-wrap;\n",
       "}\n",
       "</style>\n",
       "<small>shape: (3, 3)</small><table border=\"1\" class=\"dataframe\"><thead><tr><th>index</th><th>loss</th><th>mse</th></tr><tr><td>u32</td><td>f64</td><td>f64</td></tr></thead><tbody><tr><td>0</td><td>0.148872</td><td>0.044625</td></tr><tr><td>1</td><td>0.151511</td><td>0.048955</td></tr><tr><td>2</td><td>0.128788</td><td>0.03655</td></tr></tbody></table></div>"
      ],
      "text/plain": [
       "shape: (3, 3)\n",
       "┌───────┬──────────┬──────────┐\n",
       "│ index ┆ loss     ┆ mse      │\n",
       "│ ---   ┆ ---      ┆ ---      │\n",
       "│ u32   ┆ f64      ┆ f64      │\n",
       "╞═══════╪══════════╪══════════╡\n",
       "│ 0     ┆ 0.148872 ┆ 0.044625 │\n",
       "│ 1     ┆ 0.151511 ┆ 0.048955 │\n",
       "│ 2     ┆ 0.128788 ┆ 0.03655  │\n",
       "└───────┴──────────┴──────────┘"
      ]
     },
     "execution_count": 106,
     "metadata": {},
     "output_type": "execute_result"
    }
   ],
   "source": [
    "history_df = pl.DataFrame(fit_history.history)\n",
    "history_df = history_df.with_row_index()\n",
    "history_df.head(3)"
   ]
  },
  {
   "cell_type": "code",
   "execution_count": 107,
   "metadata": {},
   "outputs": [
    {
     "data": {
      "text/html": [
       "\n",
       "<style>\n",
       "  #altair-viz-1ea50465ea194bc09cb622600e547e07.vega-embed {\n",
       "    width: 100%;\n",
       "    display: flex;\n",
       "  }\n",
       "\n",
       "  #altair-viz-1ea50465ea194bc09cb622600e547e07.vega-embed details,\n",
       "  #altair-viz-1ea50465ea194bc09cb622600e547e07.vega-embed details summary {\n",
       "    position: relative;\n",
       "  }\n",
       "</style>\n",
       "<div id=\"altair-viz-1ea50465ea194bc09cb622600e547e07\"></div>\n",
       "<script type=\"text/javascript\">\n",
       "  var VEGA_DEBUG = (typeof VEGA_DEBUG == \"undefined\") ? {} : VEGA_DEBUG;\n",
       "  (function(spec, embedOpt){\n",
       "    let outputDiv = document.currentScript.previousElementSibling;\n",
       "    if (outputDiv.id !== \"altair-viz-1ea50465ea194bc09cb622600e547e07\") {\n",
       "      outputDiv = document.getElementById(\"altair-viz-1ea50465ea194bc09cb622600e547e07\");\n",
       "    }\n",
       "    const paths = {\n",
       "      \"vega\": \"https://cdn.jsdelivr.net/npm/vega@5?noext\",\n",
       "      \"vega-lib\": \"https://cdn.jsdelivr.net/npm/vega-lib?noext\",\n",
       "      \"vega-lite\": \"https://cdn.jsdelivr.net/npm/vega-lite@5.20.1?noext\",\n",
       "      \"vega-embed\": \"https://cdn.jsdelivr.net/npm/vega-embed@6?noext\",\n",
       "    };\n",
       "\n",
       "    function maybeLoadScript(lib, version) {\n",
       "      var key = `${lib.replace(\"-\", \"\")}_version`;\n",
       "      return (VEGA_DEBUG[key] == version) ?\n",
       "        Promise.resolve(paths[lib]) :\n",
       "        new Promise(function(resolve, reject) {\n",
       "          var s = document.createElement('script');\n",
       "          document.getElementsByTagName(\"head\")[0].appendChild(s);\n",
       "          s.async = true;\n",
       "          s.onload = () => {\n",
       "            VEGA_DEBUG[key] = version;\n",
       "            return resolve(paths[lib]);\n",
       "          };\n",
       "          s.onerror = () => reject(`Error loading script: ${paths[lib]}`);\n",
       "          s.src = paths[lib];\n",
       "        });\n",
       "    }\n",
       "\n",
       "    function showError(err) {\n",
       "      outputDiv.innerHTML = `<div class=\"error\" style=\"color:red;\">${err}</div>`;\n",
       "      throw err;\n",
       "    }\n",
       "\n",
       "    function displayChart(vegaEmbed) {\n",
       "      vegaEmbed(outputDiv, spec, embedOpt)\n",
       "        .catch(err => showError(`Javascript Error: ${err.message}<br>This usually means there's a typo in your chart specification. See the javascript console for the full traceback.`));\n",
       "    }\n",
       "\n",
       "    if(typeof define === \"function\" && define.amd) {\n",
       "      requirejs.config({paths});\n",
       "      require([\"vega-embed\"], displayChart, err => showError(`Error loading script: ${err.message}`));\n",
       "    } else {\n",
       "      maybeLoadScript(\"vega\", \"5\")\n",
       "        .then(() => maybeLoadScript(\"vega-lite\", \"5.20.1\"))\n",
       "        .then(() => maybeLoadScript(\"vega-embed\", \"6\"))\n",
       "        .catch(showError)\n",
       "        .then(() => displayChart(vegaEmbed));\n",
       "    }\n",
       "  })({\"config\": {\"view\": {\"continuousWidth\": 300, \"continuousHeight\": 300}}, \"repeat\": {\"layer\": [\"mse\"]}, \"spec\": {\"data\": {\"name\": \"data-85ed2f9ca135afb3c485618c27937216\"}, \"mark\": {\"type\": \"line\"}, \"encoding\": {\"color\": {\"datum\": {\"repeat\": \"layer\"}}, \"x\": {\"field\": \"index\", \"title\": \"Epochs\", \"type\": \"quantitative\"}, \"y\": {\"field\": {\"repeat\": \"layer\"}, \"title\": \"Mean Squared Error\", \"type\": \"quantitative\"}}}, \"title\": \"Mean Squared Error by Epoch\", \"$schema\": \"https://vega.github.io/schema/vega-lite/v5.20.1.json\", \"datasets\": {\"data-85ed2f9ca135afb3c485618c27937216\": [{\"index\": 0, \"mse\": 0.04462495818734169}, {\"index\": 1, \"mse\": 0.04895516484975815}, {\"index\": 2, \"mse\": 0.036550216376781464}, {\"index\": 3, \"mse\": 0.03781735897064209}, {\"index\": 4, \"mse\": 0.039644818753004074}, {\"index\": 5, \"mse\": 0.0375201441347599}, {\"index\": 6, \"mse\": 0.039665598422288895}, {\"index\": 7, \"mse\": 0.032590534538030624}, {\"index\": 8, \"mse\": 0.037304140627384186}, {\"index\": 9, \"mse\": 0.0373067706823349}, {\"index\": 10, \"mse\": 0.032234229147434235}, {\"index\": 11, \"mse\": 0.028957117348909378}, {\"index\": 12, \"mse\": 0.0326307937502861}, {\"index\": 13, \"mse\": 0.0316992811858654}, {\"index\": 14, \"mse\": 0.03515974432229996}, {\"index\": 15, \"mse\": 0.029896162450313568}, {\"index\": 16, \"mse\": 0.030542366206645966}, {\"index\": 17, \"mse\": 0.03369090333580971}, {\"index\": 18, \"mse\": 0.0369739755988121}, {\"index\": 19, \"mse\": 0.023164842277765274}, {\"index\": 20, \"mse\": 0.02619810216128826}, {\"index\": 21, \"mse\": 0.032885368913412094}, {\"index\": 22, \"mse\": 0.027824167162179947}, {\"index\": 23, \"mse\": 0.027403324842453003}, {\"index\": 24, \"mse\": 0.03683125600218773}, {\"index\": 25, \"mse\": 0.02669067494571209}, {\"index\": 26, \"mse\": 0.02408083714544773}, {\"index\": 27, \"mse\": 0.030331583693623543}, {\"index\": 28, \"mse\": 0.026238415390253067}, {\"index\": 29, \"mse\": 0.028241321444511414}, {\"index\": 30, \"mse\": 0.025600941851735115}, {\"index\": 31, \"mse\": 0.023681649938225746}, {\"index\": 32, \"mse\": 0.03266752511262894}, {\"index\": 33, \"mse\": 0.023909732699394226}, {\"index\": 34, \"mse\": 0.024384966120123863}, {\"index\": 35, \"mse\": 0.01923995465040207}, {\"index\": 36, \"mse\": 0.022919105365872383}, {\"index\": 37, \"mse\": 0.022761313244700432}, {\"index\": 38, \"mse\": 0.021866343915462494}, {\"index\": 39, \"mse\": 0.02617688663303852}, {\"index\": 40, \"mse\": 0.021145686507225037}, {\"index\": 41, \"mse\": 0.022045360878109932}, {\"index\": 42, \"mse\": 0.020190976560115814}, {\"index\": 43, \"mse\": 0.020145222544670105}, {\"index\": 44, \"mse\": 0.02190963551402092}, {\"index\": 45, \"mse\": 0.020098067820072174}, {\"index\": 46, \"mse\": 0.02668844722211361}, {\"index\": 47, \"mse\": 0.022128699347376823}, {\"index\": 48, \"mse\": 0.02093578688800335}, {\"index\": 49, \"mse\": 0.020845945924520493}, {\"index\": 50, \"mse\": 0.019726306200027466}, {\"index\": 51, \"mse\": 0.021557720378041267}, {\"index\": 52, \"mse\": 0.020056502893567085}, {\"index\": 53, \"mse\": 0.01736980862915516}, {\"index\": 54, \"mse\": 0.02141992375254631}, {\"index\": 55, \"mse\": 0.02275174856185913}, {\"index\": 56, \"mse\": 0.019539393484592438}, {\"index\": 57, \"mse\": 0.0196987297385931}, {\"index\": 58, \"mse\": 0.018991917371749878}, {\"index\": 59, \"mse\": 0.020466607064008713}, {\"index\": 60, \"mse\": 0.01916000247001648}, {\"index\": 61, \"mse\": 0.021453069522976875}, {\"index\": 62, \"mse\": 0.017528483644127846}, {\"index\": 63, \"mse\": 0.019168492406606674}, {\"index\": 64, \"mse\": 0.017305506393313408}, {\"index\": 65, \"mse\": 0.02310250699520111}, {\"index\": 66, \"mse\": 0.02187657728791237}, {\"index\": 67, \"mse\": 0.017963601276278496}, {\"index\": 68, \"mse\": 0.02483764849603176}, {\"index\": 69, \"mse\": 0.019320642575621605}, {\"index\": 70, \"mse\": 0.01785174198448658}, {\"index\": 71, \"mse\": 0.021297205239534378}, {\"index\": 72, \"mse\": 0.015586373396217823}, {\"index\": 73, \"mse\": 0.017972074449062347}, {\"index\": 74, \"mse\": 0.017724432051181793}, {\"index\": 75, \"mse\": 0.015430973842740059}, {\"index\": 76, \"mse\": 0.016263257712125778}, {\"index\": 77, \"mse\": 0.016981853172183037}, {\"index\": 78, \"mse\": 0.021152283996343613}, {\"index\": 79, \"mse\": 0.016052870079874992}, {\"index\": 80, \"mse\": 0.01947636902332306}, {\"index\": 81, \"mse\": 0.019230831414461136}, {\"index\": 82, \"mse\": 0.015117499977350235}, {\"index\": 83, \"mse\": 0.016382966190576553}, {\"index\": 84, \"mse\": 0.018604367971420288}, {\"index\": 85, \"mse\": 0.01511180866509676}, {\"index\": 86, \"mse\": 0.020594710484147072}, {\"index\": 87, \"mse\": 0.019982390105724335}, {\"index\": 88, \"mse\": 0.01541913766413927}, {\"index\": 89, \"mse\": 0.01933075115084648}, {\"index\": 90, \"mse\": 0.015316802076995373}, {\"index\": 91, \"mse\": 0.016728678718209267}, {\"index\": 92, \"mse\": 0.016802480444312096}, {\"index\": 93, \"mse\": 0.015894941985607147}, {\"index\": 94, \"mse\": 0.015457316301763058}, {\"index\": 95, \"mse\": 0.014372135512530804}, {\"index\": 96, \"mse\": 0.016913846135139465}, {\"index\": 97, \"mse\": 0.01664464734494686}, {\"index\": 98, \"mse\": 0.01794143207371235}, {\"index\": 99, \"mse\": 0.015292554162442684}, {\"index\": 100, \"mse\": 0.014057944528758526}, {\"index\": 101, \"mse\": 0.019994420930743217}, {\"index\": 102, \"mse\": 0.015073706395924091}, {\"index\": 103, \"mse\": 0.015434233471751213}, {\"index\": 104, \"mse\": 0.014951206743717194}, {\"index\": 105, \"mse\": 0.015777738764882088}, {\"index\": 106, \"mse\": 0.014205961488187313}, {\"index\": 107, \"mse\": 0.013099109753966331}, {\"index\": 108, \"mse\": 0.013897613622248173}, {\"index\": 109, \"mse\": 0.014628532342612743}, {\"index\": 110, \"mse\": 0.01511694211512804}, {\"index\": 111, \"mse\": 0.01574712060391903}, {\"index\": 112, \"mse\": 0.014266750775277615}, {\"index\": 113, \"mse\": 0.014830010011792183}, {\"index\": 114, \"mse\": 0.015189709141850471}, {\"index\": 115, \"mse\": 0.013738185167312622}, {\"index\": 116, \"mse\": 0.014484084211289883}, {\"index\": 117, \"mse\": 0.015680596232414246}, {\"index\": 118, \"mse\": 0.015509109944105148}, {\"index\": 119, \"mse\": 0.01543443650007248}, {\"index\": 120, \"mse\": 0.013867069035768509}, {\"index\": 121, \"mse\": 0.013790684752166271}, {\"index\": 122, \"mse\": 0.01516411080956459}, {\"index\": 123, \"mse\": 0.013614972122013569}, {\"index\": 124, \"mse\": 0.01610017940402031}, {\"index\": 125, \"mse\": 0.014430209062993526}, {\"index\": 126, \"mse\": 0.01604163460433483}, {\"index\": 127, \"mse\": 0.014221712946891785}, {\"index\": 128, \"mse\": 0.01561757456511259}, {\"index\": 129, \"mse\": 0.01496201753616333}, {\"index\": 130, \"mse\": 0.013458349741995335}, {\"index\": 131, \"mse\": 0.014451288618147373}, {\"index\": 132, \"mse\": 0.012871837243437767}, {\"index\": 133, \"mse\": 0.013858490623533726}, {\"index\": 134, \"mse\": 0.014247412793338299}, {\"index\": 135, \"mse\": 0.019849922508001328}, {\"index\": 136, \"mse\": 0.016980264335870743}, {\"index\": 137, \"mse\": 0.01290117297321558}, {\"index\": 138, \"mse\": 0.013003364205360413}, {\"index\": 139, \"mse\": 0.015745850279927254}, {\"index\": 140, \"mse\": 0.013367396779358387}, {\"index\": 141, \"mse\": 0.014070446603000164}, {\"index\": 142, \"mse\": 0.013724703341722488}, {\"index\": 143, \"mse\": 0.013726119883358479}, {\"index\": 144, \"mse\": 0.013051094487309456}, {\"index\": 145, \"mse\": 0.01741308532655239}, {\"index\": 146, \"mse\": 0.013463061302900314}, {\"index\": 147, \"mse\": 0.014554355293512344}, {\"index\": 148, \"mse\": 0.014544020406901836}, {\"index\": 149, \"mse\": 0.019634278491139412}]}}, {\"mode\": \"vega-lite\"});\n",
       "</script>"
      ],
      "text/plain": [
       "alt.RepeatChart(...)"
      ]
     },
     "metadata": {},
     "output_type": "display_data"
    },
    {
     "data": {
      "text/html": [
       "\n",
       "<style>\n",
       "  #altair-viz-7e3e8c4ba4f647d8b00a089585c00803.vega-embed {\n",
       "    width: 100%;\n",
       "    display: flex;\n",
       "  }\n",
       "\n",
       "  #altair-viz-7e3e8c4ba4f647d8b00a089585c00803.vega-embed details,\n",
       "  #altair-viz-7e3e8c4ba4f647d8b00a089585c00803.vega-embed details summary {\n",
       "    position: relative;\n",
       "  }\n",
       "</style>\n",
       "<div id=\"altair-viz-7e3e8c4ba4f647d8b00a089585c00803\"></div>\n",
       "<script type=\"text/javascript\">\n",
       "  var VEGA_DEBUG = (typeof VEGA_DEBUG == \"undefined\") ? {} : VEGA_DEBUG;\n",
       "  (function(spec, embedOpt){\n",
       "    let outputDiv = document.currentScript.previousElementSibling;\n",
       "    if (outputDiv.id !== \"altair-viz-7e3e8c4ba4f647d8b00a089585c00803\") {\n",
       "      outputDiv = document.getElementById(\"altair-viz-7e3e8c4ba4f647d8b00a089585c00803\");\n",
       "    }\n",
       "    const paths = {\n",
       "      \"vega\": \"https://cdn.jsdelivr.net/npm/vega@5?noext\",\n",
       "      \"vega-lib\": \"https://cdn.jsdelivr.net/npm/vega-lib?noext\",\n",
       "      \"vega-lite\": \"https://cdn.jsdelivr.net/npm/vega-lite@5.20.1?noext\",\n",
       "      \"vega-embed\": \"https://cdn.jsdelivr.net/npm/vega-embed@6?noext\",\n",
       "    };\n",
       "\n",
       "    function maybeLoadScript(lib, version) {\n",
       "      var key = `${lib.replace(\"-\", \"\")}_version`;\n",
       "      return (VEGA_DEBUG[key] == version) ?\n",
       "        Promise.resolve(paths[lib]) :\n",
       "        new Promise(function(resolve, reject) {\n",
       "          var s = document.createElement('script');\n",
       "          document.getElementsByTagName(\"head\")[0].appendChild(s);\n",
       "          s.async = true;\n",
       "          s.onload = () => {\n",
       "            VEGA_DEBUG[key] = version;\n",
       "            return resolve(paths[lib]);\n",
       "          };\n",
       "          s.onerror = () => reject(`Error loading script: ${paths[lib]}`);\n",
       "          s.src = paths[lib];\n",
       "        });\n",
       "    }\n",
       "\n",
       "    function showError(err) {\n",
       "      outputDiv.innerHTML = `<div class=\"error\" style=\"color:red;\">${err}</div>`;\n",
       "      throw err;\n",
       "    }\n",
       "\n",
       "    function displayChart(vegaEmbed) {\n",
       "      vegaEmbed(outputDiv, spec, embedOpt)\n",
       "        .catch(err => showError(`Javascript Error: ${err.message}<br>This usually means there's a typo in your chart specification. See the javascript console for the full traceback.`));\n",
       "    }\n",
       "\n",
       "    if(typeof define === \"function\" && define.amd) {\n",
       "      requirejs.config({paths});\n",
       "      require([\"vega-embed\"], displayChart, err => showError(`Error loading script: ${err.message}`));\n",
       "    } else {\n",
       "      maybeLoadScript(\"vega\", \"5\")\n",
       "        .then(() => maybeLoadScript(\"vega-lite\", \"5.20.1\"))\n",
       "        .then(() => maybeLoadScript(\"vega-embed\", \"6\"))\n",
       "        .catch(showError)\n",
       "        .then(() => displayChart(vegaEmbed));\n",
       "    }\n",
       "  })({\"config\": {\"view\": {\"continuousWidth\": 300, \"continuousHeight\": 300}}, \"repeat\": {\"layer\": [\"loss\"]}, \"spec\": {\"data\": {\"name\": \"data-1173f40791d1e728d5c1a6684c4d084b\"}, \"mark\": {\"type\": \"line\"}, \"encoding\": {\"color\": {\"datum\": {\"repeat\": \"layer\"}}, \"x\": {\"field\": \"index\", \"title\": \"Epochs\", \"type\": \"quantitative\"}, \"y\": {\"field\": {\"repeat\": \"layer\"}, \"title\": \"Loss\", \"type\": \"quantitative\"}}}, \"title\": \"Loss by Epoch\", \"$schema\": \"https://vega.github.io/schema/vega-lite/v5.20.1.json\", \"datasets\": {\"data-1173f40791d1e728d5c1a6684c4d084b\": [{\"index\": 0, \"loss\": 0.14887170493602753}, {\"index\": 1, \"loss\": 0.15151140093803406}, {\"index\": 2, \"loss\": 0.12878794968128204}, {\"index\": 3, \"loss\": 0.13336314260959625}, {\"index\": 4, \"loss\": 0.13473394513130188}, {\"index\": 5, \"loss\": 0.13053341209888458}, {\"index\": 6, \"loss\": 0.13997258245944977}, {\"index\": 7, \"loss\": 0.12420801818370819}, {\"index\": 8, \"loss\": 0.13736096024513245}, {\"index\": 9, \"loss\": 0.13513867557048798}, {\"index\": 10, \"loss\": 0.1207083910703659}, {\"index\": 11, \"loss\": 0.11290694028139114}, {\"index\": 12, \"loss\": 0.12102498859167099}, {\"index\": 13, \"loss\": 0.12154415249824524}, {\"index\": 14, \"loss\": 0.12595537304878235}, {\"index\": 15, \"loss\": 0.1150033175945282}, {\"index\": 16, \"loss\": 0.1223982498049736}, {\"index\": 17, \"loss\": 0.126983642578125}, {\"index\": 18, \"loss\": 0.13084626197814941}, {\"index\": 19, \"loss\": 0.10045094043016434}, {\"index\": 20, \"loss\": 0.10573486983776093}, {\"index\": 21, \"loss\": 0.11557319015264511}, {\"index\": 22, \"loss\": 0.11067259311676025}, {\"index\": 23, \"loss\": 0.10725539177656174}, {\"index\": 24, \"loss\": 0.13052523136138916}, {\"index\": 25, \"loss\": 0.11451678723096848}, {\"index\": 26, \"loss\": 0.1038966029882431}, {\"index\": 27, \"loss\": 0.11190962046384811}, {\"index\": 28, \"loss\": 0.10222282260656357}, {\"index\": 29, \"loss\": 0.11370307952165604}, {\"index\": 30, \"loss\": 0.10251040756702423}, {\"index\": 31, \"loss\": 0.10373212397098541}, {\"index\": 32, \"loss\": 0.11728248000144958}, {\"index\": 33, \"loss\": 0.10053801536560059}, {\"index\": 34, \"loss\": 0.09814343601465225}, {\"index\": 35, \"loss\": 0.08696188777685165}, {\"index\": 36, \"loss\": 0.0969003215432167}, {\"index\": 37, \"loss\": 0.09960240870714188}, {\"index\": 38, \"loss\": 0.09828628599643707}, {\"index\": 39, \"loss\": 0.10788330435752869}, {\"index\": 40, \"loss\": 0.09341359883546829}, {\"index\": 41, \"loss\": 0.10340826213359833}, {\"index\": 42, \"loss\": 0.09291928261518478}, {\"index\": 43, \"loss\": 0.0916401818394661}, {\"index\": 44, \"loss\": 0.09696129709482193}, {\"index\": 45, \"loss\": 0.09120785444974899}, {\"index\": 46, \"loss\": 0.1023845449090004}, {\"index\": 47, \"loss\": 0.0937371626496315}, {\"index\": 48, \"loss\": 0.09420456737279892}, {\"index\": 49, \"loss\": 0.09637495130300522}, {\"index\": 50, \"loss\": 0.09136782586574554}, {\"index\": 51, \"loss\": 0.09446896612644196}, {\"index\": 52, \"loss\": 0.08858690410852432}, {\"index\": 53, \"loss\": 0.08095990866422653}, {\"index\": 54, \"loss\": 0.0930904969573021}, {\"index\": 55, \"loss\": 0.09741146117448807}, {\"index\": 56, \"loss\": 0.08934226632118225}, {\"index\": 57, \"loss\": 0.09072770923376083}, {\"index\": 58, \"loss\": 0.08624807000160217}, {\"index\": 59, \"loss\": 0.08812105655670166}, {\"index\": 60, \"loss\": 0.08461978286504745}, {\"index\": 61, \"loss\": 0.0949745923280716}, {\"index\": 62, \"loss\": 0.08236148953437805}, {\"index\": 63, \"loss\": 0.08613744378089905}, {\"index\": 64, \"loss\": 0.08384434878826141}, {\"index\": 65, \"loss\": 0.10181556642055511}, {\"index\": 66, \"loss\": 0.0968359187245369}, {\"index\": 67, \"loss\": 0.08358926326036453}, {\"index\": 68, \"loss\": 0.10948381572961807}, {\"index\": 69, \"loss\": 0.08887986838817596}, {\"index\": 70, \"loss\": 0.08510110527276993}, {\"index\": 71, \"loss\": 0.09516756981611252}, {\"index\": 72, \"loss\": 0.07936655730009079}, {\"index\": 73, \"loss\": 0.0833071917295456}, {\"index\": 74, \"loss\": 0.08182872086763382}, {\"index\": 75, \"loss\": 0.07642394304275513}, {\"index\": 76, \"loss\": 0.08003335446119308}, {\"index\": 77, \"loss\": 0.07963480800390244}, {\"index\": 78, \"loss\": 0.08299863338470459}, {\"index\": 79, \"loss\": 0.082445427775383}, {\"index\": 80, \"loss\": 0.09566497057676315}, {\"index\": 81, \"loss\": 0.09036678075790405}, {\"index\": 82, \"loss\": 0.07668611407279968}, {\"index\": 83, \"loss\": 0.07694272696971893}, {\"index\": 84, \"loss\": 0.08128853887319565}, {\"index\": 85, \"loss\": 0.07579440623521805}, {\"index\": 86, \"loss\": 0.08284734934568405}, {\"index\": 87, \"loss\": 0.08283747732639313}, {\"index\": 88, \"loss\": 0.08018575608730316}, {\"index\": 89, \"loss\": 0.08426069468259811}, {\"index\": 90, \"loss\": 0.0767282098531723}, {\"index\": 91, \"loss\": 0.08068791776895523}, {\"index\": 92, \"loss\": 0.08229207992553711}, {\"index\": 93, \"loss\": 0.07781628519296646}, {\"index\": 94, \"loss\": 0.07774018496274948}, {\"index\": 95, \"loss\": 0.07568152993917465}, {\"index\": 96, \"loss\": 0.07962412387132645}, {\"index\": 97, \"loss\": 0.08104734867811203}, {\"index\": 98, \"loss\": 0.08486256748437881}, {\"index\": 99, \"loss\": 0.07598428428173065}, {\"index\": 100, \"loss\": 0.07226280868053436}, {\"index\": 101, \"loss\": 0.08367571234703064}, {\"index\": 102, \"loss\": 0.07261049002408981}, {\"index\": 103, \"loss\": 0.07609059661626816}, {\"index\": 104, \"loss\": 0.07389067113399506}, {\"index\": 105, \"loss\": 0.07697505503892899}, {\"index\": 106, \"loss\": 0.07097633183002472}, {\"index\": 107, \"loss\": 0.06715388596057892}, {\"index\": 108, \"loss\": 0.0697297602891922}, {\"index\": 109, \"loss\": 0.07609990239143372}, {\"index\": 110, \"loss\": 0.0761144757270813}, {\"index\": 111, \"loss\": 0.07676070928573608}, {\"index\": 112, \"loss\": 0.0737994909286499}, {\"index\": 113, \"loss\": 0.07450328022241592}, {\"index\": 114, \"loss\": 0.07467842847108841}, {\"index\": 115, \"loss\": 0.06953273713588715}, {\"index\": 116, \"loss\": 0.0696372538805008}, {\"index\": 117, \"loss\": 0.07294561713933945}, {\"index\": 118, \"loss\": 0.0748090073466301}, {\"index\": 119, \"loss\": 0.07924982905387878}, {\"index\": 120, \"loss\": 0.06957433372735977}, {\"index\": 121, \"loss\": 0.07077749073505402}, {\"index\": 122, \"loss\": 0.07339900732040405}, {\"index\": 123, \"loss\": 0.0690193697810173}, {\"index\": 124, \"loss\": 0.07246171683073044}, {\"index\": 125, \"loss\": 0.07334446161985397}, {\"index\": 126, \"loss\": 0.08005012571811676}, {\"index\": 127, \"loss\": 0.0729559063911438}, {\"index\": 128, \"loss\": 0.07585404068231583}, {\"index\": 129, \"loss\": 0.07332512736320496}, {\"index\": 130, \"loss\": 0.07087227702140808}, {\"index\": 131, \"loss\": 0.07185553014278412}, {\"index\": 132, \"loss\": 0.06818479299545288}, {\"index\": 133, \"loss\": 0.06945062428712845}, {\"index\": 134, \"loss\": 0.0711565837264061}, {\"index\": 135, \"loss\": 0.09039773046970367}, {\"index\": 136, \"loss\": 0.08252601325511932}, {\"index\": 137, \"loss\": 0.06567718088626862}, {\"index\": 138, \"loss\": 0.0680226981639862}, {\"index\": 139, \"loss\": 0.07186376303434372}, {\"index\": 140, \"loss\": 0.06991513818502426}, {\"index\": 141, \"loss\": 0.06837809830904007}, {\"index\": 142, \"loss\": 0.06773912906646729}, {\"index\": 143, \"loss\": 0.06738945096731186}, {\"index\": 144, \"loss\": 0.06900070607662201}, {\"index\": 145, \"loss\": 0.07482119649648666}, {\"index\": 146, \"loss\": 0.06840510666370392}, {\"index\": 147, \"loss\": 0.0715898796916008}, {\"index\": 148, \"loss\": 0.07218464463949203}, {\"index\": 149, \"loss\": 0.09345869719982147}]}}, {\"mode\": \"vega-lite\"});\n",
       "</script>"
      ],
      "text/plain": [
       "alt.RepeatChart(...)"
      ]
     },
     "metadata": {},
     "output_type": "display_data"
    }
   ],
   "source": [
    "plot_model_history(history_df, feature='mse', name=name, tuner=False)\n",
    "plot_model_history(history_df, feature='loss', name=name, tuner=False)"
   ]
  },
  {
   "cell_type": "markdown",
   "metadata": {},
   "source": [
    "# Optimizing optimizer"
   ]
  },
  {
   "cell_type": "code",
   "execution_count": 108,
   "metadata": {},
   "outputs": [],
   "source": [
    "\n",
    "def create_opt_model(opt):\n",
    "    #Activation for all hidden layers\n",
    "\n",
    "    layers = [Dense(units=164, \n",
    "                    activation='relu'),\n",
    "                Dense(units=24, \n",
    "                      activation='relu'),\n",
    "                Dense(dim_output, name='Hardness')\n",
    "          ]\n",
    "    \n",
    "    nn_model = Sequential(layers)\n",
    "\n",
    "    nn_model.compile(optimizer=opt,\n",
    "                 loss='mean_absolute_error',\n",
    "                 metrics=['mse'])\n",
    "    \n",
    "    return nn_model"
   ]
  },
  {
   "cell_type": "code",
   "execution_count": 109,
   "metadata": {},
   "outputs": [],
   "source": [
    "optimizers = [name.lower() for name in [\"Adadelta\", \n",
    "                                        \"Adafactor\", \n",
    "                                        \"Adagrad\", \n",
    "                                        \"Adam\", \n",
    "                                        \"AdamW\", \n",
    "                                        \"Adamax\", \n",
    "                                        \"Ftrl\", \n",
    "                                        \"Lion\", \n",
    "                                        \"Nadam\", \n",
    "                                        \"RMSprop\", \n",
    "                                        \"SGD\"]]"
   ]
  },
  {
   "cell_type": "code",
   "execution_count": 110,
   "metadata": {},
   "outputs": [
    {
     "name": "stdout",
     "output_type": "stream",
     "text": [
      "\u001b[1m11/11\u001b[0m \u001b[32m━━━━━━━━━━━━━━━━━━━━\u001b[0m\u001b[37m\u001b[0m \u001b[1m0s\u001b[0m 1ms/step - loss: 0.1999 - mse: 0.0853  \n",
      "\u001b[1m11/11\u001b[0m \u001b[32m━━━━━━━━━━━━━━━━━━━━\u001b[0m\u001b[37m\u001b[0m \u001b[1m0s\u001b[0m 655us/step - loss: 0.1972 - mse: 0.0828\n",
      "\u001b[1m11/11\u001b[0m \u001b[32m━━━━━━━━━━━━━━━━━━━━\u001b[0m\u001b[37m\u001b[0m \u001b[1m0s\u001b[0m 608us/step - loss: 0.1999 - mse: 0.0853\n",
      "\u001b[1m11/11\u001b[0m \u001b[32m━━━━━━━━━━━━━━━━━━━━\u001b[0m\u001b[37m\u001b[0m \u001b[1m0s\u001b[0m 547us/step - loss: 0.1999 - mse: 0.0853\n",
      "\u001b[1m11/11\u001b[0m \u001b[32m━━━━━━━━━━━━━━━━━━━━\u001b[0m\u001b[37m\u001b[0m \u001b[1m0s\u001b[0m 533us/step - loss: 0.1999 - mse: 0.0853\n",
      "\u001b[1m11/11\u001b[0m \u001b[32m━━━━━━━━━━━━━━━━━━━━\u001b[0m\u001b[37m\u001b[0m \u001b[1m0s\u001b[0m 500us/step - loss: 0.1999 - mse: 0.0853\n",
      "\u001b[1m11/11\u001b[0m \u001b[32m━━━━━━━━━━━━━━━━━━━━\u001b[0m\u001b[37m\u001b[0m \u001b[1m0s\u001b[0m 601us/step - loss: 0.1999 - mse: 0.0853\n",
      "\u001b[1m11/11\u001b[0m \u001b[32m━━━━━━━━━━━━━━━━━━━━\u001b[0m\u001b[37m\u001b[0m \u001b[1m0s\u001b[0m 538us/step - loss: 0.1999 - mse: 0.0853\n",
      "\u001b[1m11/11\u001b[0m \u001b[32m━━━━━━━━━━━━━━━━━━━━\u001b[0m\u001b[37m\u001b[0m \u001b[1m0s\u001b[0m 392us/step - loss: 0.1999 - mse: 0.0853\n",
      "\u001b[1m11/11\u001b[0m \u001b[32m━━━━━━━━━━━━━━━━━━━━\u001b[0m\u001b[37m\u001b[0m \u001b[1m0s\u001b[0m 605us/step - loss: 0.1999 - mse: 0.0853\n",
      "\u001b[1m11/11\u001b[0m \u001b[32m━━━━━━━━━━━━━━━━━━━━\u001b[0m\u001b[37m\u001b[0m \u001b[1m0s\u001b[0m 453us/step - loss: 0.1999 - mse: 0.0853\n",
      "Best Optimizer: sgd with MSE 0.07823114842176437\n"
     ]
    }
   ],
   "source": [
    "for opt in optimizers:\n",
    "    best_opt = 'starter'\n",
    "    best_mse = 4\n",
    "\n",
    "    model = create_opt_model(opt)\n",
    "    model.fit(x=X_train, \n",
    "            y=y_train,\n",
    "            verbose=0,\n",
    "            epochs=150)\n",
    "    \n",
    "    loss, mse = nn_model.evaluate(X_test, y_test)\n",
    "    \n",
    "    if mse < best_mse:\n",
    "        best_mse = mse\n",
    "        best_opt = opt\n",
    "\n",
    "print(\"Best Optimizer:\", best_opt, \"with MSE\", best_mse)"
   ]
  },
  {
   "cell_type": "markdown",
   "metadata": {},
   "source": [
    "## Epoch optimization"
   ]
  },
  {
   "cell_type": "code",
   "execution_count": 111,
   "metadata": {},
   "outputs": [],
   "source": [
    "model = create_opt_model(tf.keras.optimizers.SGD(0.01))\n",
    "fit = model.fit(x=X_train, \n",
    "         y=y_train, \n",
    "         verbose=0,\n",
    "         epochs=100)\n",
    "\n"
   ]
  },
  {
   "cell_type": "code",
   "execution_count": 112,
   "metadata": {},
   "outputs": [
    {
     "data": {
      "text/html": [
       "\n",
       "<style>\n",
       "  #altair-viz-cb0f70afe9f84c9f8b8d60506bdbabbd.vega-embed {\n",
       "    width: 100%;\n",
       "    display: flex;\n",
       "  }\n",
       "\n",
       "  #altair-viz-cb0f70afe9f84c9f8b8d60506bdbabbd.vega-embed details,\n",
       "  #altair-viz-cb0f70afe9f84c9f8b8d60506bdbabbd.vega-embed details summary {\n",
       "    position: relative;\n",
       "  }\n",
       "</style>\n",
       "<div id=\"altair-viz-cb0f70afe9f84c9f8b8d60506bdbabbd\"></div>\n",
       "<script type=\"text/javascript\">\n",
       "  var VEGA_DEBUG = (typeof VEGA_DEBUG == \"undefined\") ? {} : VEGA_DEBUG;\n",
       "  (function(spec, embedOpt){\n",
       "    let outputDiv = document.currentScript.previousElementSibling;\n",
       "    if (outputDiv.id !== \"altair-viz-cb0f70afe9f84c9f8b8d60506bdbabbd\") {\n",
       "      outputDiv = document.getElementById(\"altair-viz-cb0f70afe9f84c9f8b8d60506bdbabbd\");\n",
       "    }\n",
       "    const paths = {\n",
       "      \"vega\": \"https://cdn.jsdelivr.net/npm/vega@5?noext\",\n",
       "      \"vega-lib\": \"https://cdn.jsdelivr.net/npm/vega-lib?noext\",\n",
       "      \"vega-lite\": \"https://cdn.jsdelivr.net/npm/vega-lite@5.20.1?noext\",\n",
       "      \"vega-embed\": \"https://cdn.jsdelivr.net/npm/vega-embed@6?noext\",\n",
       "    };\n",
       "\n",
       "    function maybeLoadScript(lib, version) {\n",
       "      var key = `${lib.replace(\"-\", \"\")}_version`;\n",
       "      return (VEGA_DEBUG[key] == version) ?\n",
       "        Promise.resolve(paths[lib]) :\n",
       "        new Promise(function(resolve, reject) {\n",
       "          var s = document.createElement('script');\n",
       "          document.getElementsByTagName(\"head\")[0].appendChild(s);\n",
       "          s.async = true;\n",
       "          s.onload = () => {\n",
       "            VEGA_DEBUG[key] = version;\n",
       "            return resolve(paths[lib]);\n",
       "          };\n",
       "          s.onerror = () => reject(`Error loading script: ${paths[lib]}`);\n",
       "          s.src = paths[lib];\n",
       "        });\n",
       "    }\n",
       "\n",
       "    function showError(err) {\n",
       "      outputDiv.innerHTML = `<div class=\"error\" style=\"color:red;\">${err}</div>`;\n",
       "      throw err;\n",
       "    }\n",
       "\n",
       "    function displayChart(vegaEmbed) {\n",
       "      vegaEmbed(outputDiv, spec, embedOpt)\n",
       "        .catch(err => showError(`Javascript Error: ${err.message}<br>This usually means there's a typo in your chart specification. See the javascript console for the full traceback.`));\n",
       "    }\n",
       "\n",
       "    if(typeof define === \"function\" && define.amd) {\n",
       "      requirejs.config({paths});\n",
       "      require([\"vega-embed\"], displayChart, err => showError(`Error loading script: ${err.message}`));\n",
       "    } else {\n",
       "      maybeLoadScript(\"vega\", \"5\")\n",
       "        .then(() => maybeLoadScript(\"vega-lite\", \"5.20.1\"))\n",
       "        .then(() => maybeLoadScript(\"vega-embed\", \"6\"))\n",
       "        .catch(showError)\n",
       "        .then(() => displayChart(vegaEmbed));\n",
       "    }\n",
       "  })({\"config\": {\"view\": {\"continuousWidth\": 300, \"continuousHeight\": 300}}, \"repeat\": {\"layer\": [\"mse\"]}, \"spec\": {\"data\": {\"name\": \"data-f79bd1ff9ebb1457704e343f6f0bae87\"}, \"mark\": {\"type\": \"line\"}, \"encoding\": {\"color\": {\"datum\": {\"repeat\": \"layer\"}}, \"x\": {\"field\": \"index\", \"title\": \"Epochs\", \"type\": \"quantitative\"}, \"y\": {\"field\": {\"repeat\": \"layer\"}, \"title\": \"Mean Squared Error\", \"type\": \"quantitative\"}}}, \"title\": \"Mean Squared Error by Epoch\", \"$schema\": \"https://vega.github.io/schema/vega-lite/v5.20.1.json\", \"datasets\": {\"data-f79bd1ff9ebb1457704e343f6f0bae87\": [{\"index\": 0, \"mse\": 0.9474806189537048}, {\"index\": 1, \"mse\": 0.4754382073879242}, {\"index\": 2, \"mse\": 0.20506422221660614}, {\"index\": 3, \"mse\": 0.11795555800199509}, {\"index\": 4, \"mse\": 0.09455203264951706}, {\"index\": 5, \"mse\": 0.08491422981023788}, {\"index\": 6, \"mse\": 0.07980398088693619}, {\"index\": 7, \"mse\": 0.07397745549678802}, {\"index\": 8, \"mse\": 0.06985363364219666}, {\"index\": 9, \"mse\": 0.06677280366420746}, {\"index\": 10, \"mse\": 0.06288004666566849}, {\"index\": 11, \"mse\": 0.06178543344140053}, {\"index\": 12, \"mse\": 0.05963018164038658}, {\"index\": 13, \"mse\": 0.05830618739128113}, {\"index\": 14, \"mse\": 0.05731756612658501}, {\"index\": 15, \"mse\": 0.05613407492637634}, {\"index\": 16, \"mse\": 0.05526462197303772}, {\"index\": 17, \"mse\": 0.053756676614284515}, {\"index\": 18, \"mse\": 0.053339406847953796}, {\"index\": 19, \"mse\": 0.05318193882703781}, {\"index\": 20, \"mse\": 0.05201680585741997}, {\"index\": 21, \"mse\": 0.05144893750548363}, {\"index\": 22, \"mse\": 0.052387990057468414}, {\"index\": 23, \"mse\": 0.0507795587182045}, {\"index\": 24, \"mse\": 0.04888830706477165}, {\"index\": 25, \"mse\": 0.04895714297890663}, {\"index\": 26, \"mse\": 0.04878171905875206}, {\"index\": 27, \"mse\": 0.0483330562710762}, {\"index\": 28, \"mse\": 0.04817984625697136}, {\"index\": 29, \"mse\": 0.04796028882265091}, {\"index\": 30, \"mse\": 0.04772550240159035}, {\"index\": 31, \"mse\": 0.04700367525219917}, {\"index\": 32, \"mse\": 0.046350862830877304}, {\"index\": 33, \"mse\": 0.04598424211144447}, {\"index\": 34, \"mse\": 0.04528069496154785}, {\"index\": 35, \"mse\": 0.04509725794196129}, {\"index\": 36, \"mse\": 0.04603777453303337}, {\"index\": 37, \"mse\": 0.043831005692481995}, {\"index\": 38, \"mse\": 0.04473457857966423}, {\"index\": 39, \"mse\": 0.0451742559671402}, {\"index\": 40, \"mse\": 0.0437813475728035}, {\"index\": 41, \"mse\": 0.04303321614861488}, {\"index\": 42, \"mse\": 0.04350326210260391}, {\"index\": 43, \"mse\": 0.04370056465268135}, {\"index\": 44, \"mse\": 0.041739702224731445}, {\"index\": 45, \"mse\": 0.04223399981856346}, {\"index\": 46, \"mse\": 0.04326281324028969}, {\"index\": 47, \"mse\": 0.041795749217271805}, {\"index\": 48, \"mse\": 0.04282614216208458}, {\"index\": 49, \"mse\": 0.04212670773267746}, {\"index\": 50, \"mse\": 0.04169384390115738}, {\"index\": 51, \"mse\": 0.04120749607682228}, {\"index\": 52, \"mse\": 0.04133477434515953}, {\"index\": 53, \"mse\": 0.04230175539851189}, {\"index\": 54, \"mse\": 0.04388516768813133}, {\"index\": 55, \"mse\": 0.04065725579857826}, {\"index\": 56, \"mse\": 0.04075579345226288}, {\"index\": 57, \"mse\": 0.04118599370121956}, {\"index\": 58, \"mse\": 0.04090980440378189}, {\"index\": 59, \"mse\": 0.04067552834749222}, {\"index\": 60, \"mse\": 0.03913332149386406}, {\"index\": 61, \"mse\": 0.040470197796821594}, {\"index\": 62, \"mse\": 0.040372852236032486}, {\"index\": 63, \"mse\": 0.040941428393125534}, {\"index\": 64, \"mse\": 0.03976323828101158}, {\"index\": 65, \"mse\": 0.039971403777599335}, {\"index\": 66, \"mse\": 0.04072891175746918}, {\"index\": 67, \"mse\": 0.03900628536939621}, {\"index\": 68, \"mse\": 0.04028492793440819}, {\"index\": 69, \"mse\": 0.03919440880417824}, {\"index\": 70, \"mse\": 0.03934435173869133}, {\"index\": 71, \"mse\": 0.038946911692619324}, {\"index\": 72, \"mse\": 0.03913651779294014}, {\"index\": 73, \"mse\": 0.03880928456783295}, {\"index\": 74, \"mse\": 0.03779355809092522}, {\"index\": 75, \"mse\": 0.038718901574611664}, {\"index\": 76, \"mse\": 0.03823509439826012}, {\"index\": 77, \"mse\": 0.039043132215738297}, {\"index\": 78, \"mse\": 0.03781475871801376}, {\"index\": 79, \"mse\": 0.038644831627607346}, {\"index\": 80, \"mse\": 0.03855095058679581}, {\"index\": 81, \"mse\": 0.03785010054707527}, {\"index\": 82, \"mse\": 0.03733447194099426}, {\"index\": 83, \"mse\": 0.03707566857337952}, {\"index\": 84, \"mse\": 0.03924449905753136}, {\"index\": 85, \"mse\": 0.03797735646367073}, {\"index\": 86, \"mse\": 0.037351351231336594}, {\"index\": 87, \"mse\": 0.03697413578629494}, {\"index\": 88, \"mse\": 0.03633439913392067}, {\"index\": 89, \"mse\": 0.03707486763596535}, {\"index\": 90, \"mse\": 0.037681207060813904}, {\"index\": 91, \"mse\": 0.03735349327325821}, {\"index\": 92, \"mse\": 0.03554515540599823}, {\"index\": 93, \"mse\": 0.038133405148983}, {\"index\": 94, \"mse\": 0.03688257187604904}, {\"index\": 95, \"mse\": 0.03803088143467903}, {\"index\": 96, \"mse\": 0.03769196942448616}, {\"index\": 97, \"mse\": 0.035983387380838394}, {\"index\": 98, \"mse\": 0.036404650658369064}, {\"index\": 99, \"mse\": 0.03585764020681381}]}}, {\"mode\": \"vega-lite\"});\n",
       "</script>"
      ],
      "text/plain": [
       "alt.RepeatChart(...)"
      ]
     },
     "metadata": {},
     "output_type": "display_data"
    },
    {
     "data": {
      "text/html": [
       "\n",
       "<style>\n",
       "  #altair-viz-fdfbf704b81b446ca06ad8b1775de56b.vega-embed {\n",
       "    width: 100%;\n",
       "    display: flex;\n",
       "  }\n",
       "\n",
       "  #altair-viz-fdfbf704b81b446ca06ad8b1775de56b.vega-embed details,\n",
       "  #altair-viz-fdfbf704b81b446ca06ad8b1775de56b.vega-embed details summary {\n",
       "    position: relative;\n",
       "  }\n",
       "</style>\n",
       "<div id=\"altair-viz-fdfbf704b81b446ca06ad8b1775de56b\"></div>\n",
       "<script type=\"text/javascript\">\n",
       "  var VEGA_DEBUG = (typeof VEGA_DEBUG == \"undefined\") ? {} : VEGA_DEBUG;\n",
       "  (function(spec, embedOpt){\n",
       "    let outputDiv = document.currentScript.previousElementSibling;\n",
       "    if (outputDiv.id !== \"altair-viz-fdfbf704b81b446ca06ad8b1775de56b\") {\n",
       "      outputDiv = document.getElementById(\"altair-viz-fdfbf704b81b446ca06ad8b1775de56b\");\n",
       "    }\n",
       "    const paths = {\n",
       "      \"vega\": \"https://cdn.jsdelivr.net/npm/vega@5?noext\",\n",
       "      \"vega-lib\": \"https://cdn.jsdelivr.net/npm/vega-lib?noext\",\n",
       "      \"vega-lite\": \"https://cdn.jsdelivr.net/npm/vega-lite@5.20.1?noext\",\n",
       "      \"vega-embed\": \"https://cdn.jsdelivr.net/npm/vega-embed@6?noext\",\n",
       "    };\n",
       "\n",
       "    function maybeLoadScript(lib, version) {\n",
       "      var key = `${lib.replace(\"-\", \"\")}_version`;\n",
       "      return (VEGA_DEBUG[key] == version) ?\n",
       "        Promise.resolve(paths[lib]) :\n",
       "        new Promise(function(resolve, reject) {\n",
       "          var s = document.createElement('script');\n",
       "          document.getElementsByTagName(\"head\")[0].appendChild(s);\n",
       "          s.async = true;\n",
       "          s.onload = () => {\n",
       "            VEGA_DEBUG[key] = version;\n",
       "            return resolve(paths[lib]);\n",
       "          };\n",
       "          s.onerror = () => reject(`Error loading script: ${paths[lib]}`);\n",
       "          s.src = paths[lib];\n",
       "        });\n",
       "    }\n",
       "\n",
       "    function showError(err) {\n",
       "      outputDiv.innerHTML = `<div class=\"error\" style=\"color:red;\">${err}</div>`;\n",
       "      throw err;\n",
       "    }\n",
       "\n",
       "    function displayChart(vegaEmbed) {\n",
       "      vegaEmbed(outputDiv, spec, embedOpt)\n",
       "        .catch(err => showError(`Javascript Error: ${err.message}<br>This usually means there's a typo in your chart specification. See the javascript console for the full traceback.`));\n",
       "    }\n",
       "\n",
       "    if(typeof define === \"function\" && define.amd) {\n",
       "      requirejs.config({paths});\n",
       "      require([\"vega-embed\"], displayChart, err => showError(`Error loading script: ${err.message}`));\n",
       "    } else {\n",
       "      maybeLoadScript(\"vega\", \"5\")\n",
       "        .then(() => maybeLoadScript(\"vega-lite\", \"5.20.1\"))\n",
       "        .then(() => maybeLoadScript(\"vega-embed\", \"6\"))\n",
       "        .catch(showError)\n",
       "        .then(() => displayChart(vegaEmbed));\n",
       "    }\n",
       "  })({\"config\": {\"view\": {\"continuousWidth\": 300, \"continuousHeight\": 300}}, \"repeat\": {\"layer\": [\"loss\"]}, \"spec\": {\"data\": {\"name\": \"data-9655dd827c2232ecddce0723740e293e\"}, \"mark\": {\"type\": \"line\"}, \"encoding\": {\"color\": {\"datum\": {\"repeat\": \"layer\"}}, \"x\": {\"field\": \"index\", \"title\": \"Epochs\", \"type\": \"quantitative\"}, \"y\": {\"field\": {\"repeat\": \"layer\"}, \"title\": \"Loss\", \"type\": \"quantitative\"}}}, \"title\": \"Loss by Epoch\", \"$schema\": \"https://vega.github.io/schema/vega-lite/v5.20.1.json\", \"datasets\": {\"data-9655dd827c2232ecddce0723740e293e\": [{\"index\": 0, \"loss\": 0.8030838966369629}, {\"index\": 1, \"loss\": 0.5455930233001709}, {\"index\": 2, \"loss\": 0.3498367667198181}, {\"index\": 3, \"loss\": 0.2570548355579376}, {\"index\": 4, \"loss\": 0.22871778905391693}, {\"index\": 5, \"loss\": 0.21641911566257477}, {\"index\": 6, \"loss\": 0.20742404460906982}, {\"index\": 7, \"loss\": 0.19748426973819733}, {\"index\": 8, \"loss\": 0.1903991997241974}, {\"index\": 9, \"loss\": 0.18380825221538544}, {\"index\": 10, \"loss\": 0.18015524744987488}, {\"index\": 11, \"loss\": 0.1785273253917694}, {\"index\": 12, \"loss\": 0.1729932725429535}, {\"index\": 13, \"loss\": 0.17029212415218353}, {\"index\": 14, \"loss\": 0.16844873130321503}, {\"index\": 15, \"loss\": 0.16479115188121796}, {\"index\": 16, \"loss\": 0.1631087362766266}, {\"index\": 17, \"loss\": 0.16150236129760742}, {\"index\": 18, \"loss\": 0.1590607762336731}, {\"index\": 19, \"loss\": 0.15906913578510284}, {\"index\": 20, \"loss\": 0.15603147447109222}, {\"index\": 21, \"loss\": 0.15545813739299774}, {\"index\": 22, \"loss\": 0.15589982271194458}, {\"index\": 23, \"loss\": 0.15201108157634735}, {\"index\": 24, \"loss\": 0.15167106688022614}, {\"index\": 25, \"loss\": 0.15018083155155182}, {\"index\": 26, \"loss\": 0.14998416602611542}, {\"index\": 27, \"loss\": 0.148624449968338}, {\"index\": 28, \"loss\": 0.14861832559108734}, {\"index\": 29, \"loss\": 0.1483868658542633}, {\"index\": 30, \"loss\": 0.1478230357170105}, {\"index\": 31, \"loss\": 0.14470218122005463}, {\"index\": 32, \"loss\": 0.1461924910545349}, {\"index\": 33, \"loss\": 0.14253322780132294}, {\"index\": 34, \"loss\": 0.14227239787578583}, {\"index\": 35, \"loss\": 0.14105744659900665}, {\"index\": 36, \"loss\": 0.14228230714797974}, {\"index\": 37, \"loss\": 0.13934588432312012}, {\"index\": 38, \"loss\": 0.14107902348041534}, {\"index\": 39, \"loss\": 0.14200890064239502}, {\"index\": 40, \"loss\": 0.13995523750782013}, {\"index\": 41, \"loss\": 0.1366850882768631}, {\"index\": 42, \"loss\": 0.1376000940799713}, {\"index\": 43, \"loss\": 0.13779528439044952}, {\"index\": 44, \"loss\": 0.1351216584444046}, {\"index\": 45, \"loss\": 0.13789281249046326}, {\"index\": 46, \"loss\": 0.13488224148750305}, {\"index\": 47, \"loss\": 0.13545742630958557}, {\"index\": 48, \"loss\": 0.1357235461473465}, {\"index\": 49, \"loss\": 0.13476257026195526}, {\"index\": 50, \"loss\": 0.13365225493907928}, {\"index\": 51, \"loss\": 0.1315576732158661}, {\"index\": 52, \"loss\": 0.13261133432388306}, {\"index\": 53, \"loss\": 0.13263553380966187}, {\"index\": 54, \"loss\": 0.13757170736789703}, {\"index\": 55, \"loss\": 0.130008265376091}, {\"index\": 56, \"loss\": 0.13053646683692932}, {\"index\": 57, \"loss\": 0.1341741532087326}, {\"index\": 58, \"loss\": 0.1300780326128006}, {\"index\": 59, \"loss\": 0.13246914744377136}, {\"index\": 60, \"loss\": 0.12872712314128876}, {\"index\": 61, \"loss\": 0.13023270666599274}, {\"index\": 62, \"loss\": 0.13006889820098877}, {\"index\": 63, \"loss\": 0.1288982629776001}, {\"index\": 64, \"loss\": 0.12765377759933472}, {\"index\": 65, \"loss\": 0.12686221301555634}, {\"index\": 66, \"loss\": 0.1304263323545456}, {\"index\": 67, \"loss\": 0.12706723809242249}, {\"index\": 68, \"loss\": 0.12811575829982758}, {\"index\": 69, \"loss\": 0.12695825099945068}, {\"index\": 70, \"loss\": 0.12973496317863464}, {\"index\": 71, \"loss\": 0.12668393552303314}, {\"index\": 72, \"loss\": 0.1260003298521042}, {\"index\": 73, \"loss\": 0.12578444182872772}, {\"index\": 74, \"loss\": 0.124196857213974}, {\"index\": 75, \"loss\": 0.1261143833398819}, {\"index\": 76, \"loss\": 0.12548451125621796}, {\"index\": 77, \"loss\": 0.12638883292675018}, {\"index\": 78, \"loss\": 0.12438440322875977}, {\"index\": 79, \"loss\": 0.12345022708177567}, {\"index\": 80, \"loss\": 0.12865272164344788}, {\"index\": 81, \"loss\": 0.12324278056621552}, {\"index\": 82, \"loss\": 0.12420155107975006}, {\"index\": 83, \"loss\": 0.12221208214759827}, {\"index\": 84, \"loss\": 0.12671314179897308}, {\"index\": 85, \"loss\": 0.12328837066888809}, {\"index\": 86, \"loss\": 0.12415743619203568}, {\"index\": 87, \"loss\": 0.12254370748996735}, {\"index\": 88, \"loss\": 0.12222031503915787}, {\"index\": 89, \"loss\": 0.12167823314666748}, {\"index\": 90, \"loss\": 0.12284465879201889}, {\"index\": 91, \"loss\": 0.12125201523303986}, {\"index\": 92, \"loss\": 0.1201467365026474}, {\"index\": 93, \"loss\": 0.12475012987852097}, {\"index\": 94, \"loss\": 0.12149956077337265}, {\"index\": 95, \"loss\": 0.1234387531876564}, {\"index\": 96, \"loss\": 0.12285423278808594}, {\"index\": 97, \"loss\": 0.12032932788133621}, {\"index\": 98, \"loss\": 0.12097843736410141}, {\"index\": 99, \"loss\": 0.12046994268894196}]}}, {\"mode\": \"vega-lite\"});\n",
       "</script>"
      ],
      "text/plain": [
       "alt.RepeatChart(...)"
      ]
     },
     "metadata": {},
     "output_type": "display_data"
    }
   ],
   "source": [
    "name= 'epoch_test'\n",
    "history_df = pl.DataFrame(fit.history)\n",
    "history_df = history_df.with_row_index()\n",
    "history_df\n",
    "plot_model_history(history_df, feature='mse', name=name)\n",
    "plot_model_history(history_df, feature='loss', name=name)"
   ]
  },
  {
   "cell_type": "markdown",
   "metadata": {},
   "source": [
    "# Model Selected, performance is poor"
   ]
  },
  {
   "cell_type": "code",
   "execution_count": 114,
   "metadata": {},
   "outputs": [
    {
     "data": {
      "text/html": [
       "\n",
       "<style>\n",
       "  #altair-viz-a0764d9986b2455c9a0f8e28fec283d4.vega-embed {\n",
       "    width: 100%;\n",
       "    display: flex;\n",
       "  }\n",
       "\n",
       "  #altair-viz-a0764d9986b2455c9a0f8e28fec283d4.vega-embed details,\n",
       "  #altair-viz-a0764d9986b2455c9a0f8e28fec283d4.vega-embed details summary {\n",
       "    position: relative;\n",
       "  }\n",
       "</style>\n",
       "<div id=\"altair-viz-a0764d9986b2455c9a0f8e28fec283d4\"></div>\n",
       "<script type=\"text/javascript\">\n",
       "  var VEGA_DEBUG = (typeof VEGA_DEBUG == \"undefined\") ? {} : VEGA_DEBUG;\n",
       "  (function(spec, embedOpt){\n",
       "    let outputDiv = document.currentScript.previousElementSibling;\n",
       "    if (outputDiv.id !== \"altair-viz-a0764d9986b2455c9a0f8e28fec283d4\") {\n",
       "      outputDiv = document.getElementById(\"altair-viz-a0764d9986b2455c9a0f8e28fec283d4\");\n",
       "    }\n",
       "    const paths = {\n",
       "      \"vega\": \"https://cdn.jsdelivr.net/npm/vega@5?noext\",\n",
       "      \"vega-lib\": \"https://cdn.jsdelivr.net/npm/vega-lib?noext\",\n",
       "      \"vega-lite\": \"https://cdn.jsdelivr.net/npm/vega-lite@5.20.1?noext\",\n",
       "      \"vega-embed\": \"https://cdn.jsdelivr.net/npm/vega-embed@6?noext\",\n",
       "    };\n",
       "\n",
       "    function maybeLoadScript(lib, version) {\n",
       "      var key = `${lib.replace(\"-\", \"\")}_version`;\n",
       "      return (VEGA_DEBUG[key] == version) ?\n",
       "        Promise.resolve(paths[lib]) :\n",
       "        new Promise(function(resolve, reject) {\n",
       "          var s = document.createElement('script');\n",
       "          document.getElementsByTagName(\"head\")[0].appendChild(s);\n",
       "          s.async = true;\n",
       "          s.onload = () => {\n",
       "            VEGA_DEBUG[key] = version;\n",
       "            return resolve(paths[lib]);\n",
       "          };\n",
       "          s.onerror = () => reject(`Error loading script: ${paths[lib]}`);\n",
       "          s.src = paths[lib];\n",
       "        });\n",
       "    }\n",
       "\n",
       "    function showError(err) {\n",
       "      outputDiv.innerHTML = `<div class=\"error\" style=\"color:red;\">${err}</div>`;\n",
       "      throw err;\n",
       "    }\n",
       "\n",
       "    function displayChart(vegaEmbed) {\n",
       "      vegaEmbed(outputDiv, spec, embedOpt)\n",
       "        .catch(err => showError(`Javascript Error: ${err.message}<br>This usually means there's a typo in your chart specification. See the javascript console for the full traceback.`));\n",
       "    }\n",
       "\n",
       "    if(typeof define === \"function\" && define.amd) {\n",
       "      requirejs.config({paths});\n",
       "      require([\"vega-embed\"], displayChart, err => showError(`Error loading script: ${err.message}`));\n",
       "    } else {\n",
       "      maybeLoadScript(\"vega\", \"5\")\n",
       "        .then(() => maybeLoadScript(\"vega-lite\", \"5.20.1\"))\n",
       "        .then(() => maybeLoadScript(\"vega-embed\", \"6\"))\n",
       "        .catch(showError)\n",
       "        .then(() => displayChart(vegaEmbed));\n",
       "    }\n",
       "  })({\"config\": {\"view\": {\"continuousWidth\": 300, \"continuousHeight\": 300}}, \"repeat\": {\"layer\": [\"mse\"]}, \"spec\": {\"data\": {\"name\": \"data-dc118b64267970e11f8685740365c486\"}, \"mark\": {\"type\": \"line\"}, \"encoding\": {\"color\": {\"datum\": {\"repeat\": \"layer\"}}, \"x\": {\"field\": \"index\", \"title\": \"Epochs\", \"type\": \"quantitative\"}, \"y\": {\"field\": {\"repeat\": \"layer\"}, \"title\": \"Mean Squared Error\", \"type\": \"quantitative\"}}}, \"title\": \"Mean Squared Error by Epoch\", \"$schema\": \"https://vega.github.io/schema/vega-lite/v5.20.1.json\", \"datasets\": {\"data-dc118b64267970e11f8685740365c486\": [{\"index\": 0, \"mse\": 0.9747070670127869}, {\"index\": 1, \"mse\": 0.6896169781684875}, {\"index\": 2, \"mse\": 0.44842660427093506}, {\"index\": 3, \"mse\": 0.2628762722015381}, {\"index\": 4, \"mse\": 0.16456842422485352}, {\"index\": 5, \"mse\": 0.12192933261394501}, {\"index\": 6, \"mse\": 0.10270706564188004}, {\"index\": 7, \"mse\": 0.09098698943853378}, {\"index\": 8, \"mse\": 0.082777239382267}, {\"index\": 9, \"mse\": 0.07820125669240952}, {\"index\": 10, \"mse\": 0.07429495453834534}, {\"index\": 11, \"mse\": 0.07172838598489761}, {\"index\": 12, \"mse\": 0.0685839056968689}, {\"index\": 13, \"mse\": 0.0670364499092102}, {\"index\": 14, \"mse\": 0.06369338929653168}, {\"index\": 15, \"mse\": 0.06475884467363358}, {\"index\": 16, \"mse\": 0.06042143329977989}, {\"index\": 17, \"mse\": 0.06011078506708145}, {\"index\": 18, \"mse\": 0.05869554355740547}, {\"index\": 19, \"mse\": 0.05803876370191574}, {\"index\": 20, \"mse\": 0.05803200602531433}, {\"index\": 21, \"mse\": 0.05841915309429169}, {\"index\": 22, \"mse\": 0.055409010499715805}, {\"index\": 23, \"mse\": 0.057814255356788635}, {\"index\": 24, \"mse\": 0.05513904243707657}]}}, {\"mode\": \"vega-lite\"});\n",
       "</script>"
      ],
      "text/plain": [
       "alt.RepeatChart(...)"
      ]
     },
     "metadata": {},
     "output_type": "display_data"
    },
    {
     "data": {
      "text/html": [
       "\n",
       "<style>\n",
       "  #altair-viz-9ec5e0c0430c492dbc117212897f2ac6.vega-embed {\n",
       "    width: 100%;\n",
       "    display: flex;\n",
       "  }\n",
       "\n",
       "  #altair-viz-9ec5e0c0430c492dbc117212897f2ac6.vega-embed details,\n",
       "  #altair-viz-9ec5e0c0430c492dbc117212897f2ac6.vega-embed details summary {\n",
       "    position: relative;\n",
       "  }\n",
       "</style>\n",
       "<div id=\"altair-viz-9ec5e0c0430c492dbc117212897f2ac6\"></div>\n",
       "<script type=\"text/javascript\">\n",
       "  var VEGA_DEBUG = (typeof VEGA_DEBUG == \"undefined\") ? {} : VEGA_DEBUG;\n",
       "  (function(spec, embedOpt){\n",
       "    let outputDiv = document.currentScript.previousElementSibling;\n",
       "    if (outputDiv.id !== \"altair-viz-9ec5e0c0430c492dbc117212897f2ac6\") {\n",
       "      outputDiv = document.getElementById(\"altair-viz-9ec5e0c0430c492dbc117212897f2ac6\");\n",
       "    }\n",
       "    const paths = {\n",
       "      \"vega\": \"https://cdn.jsdelivr.net/npm/vega@5?noext\",\n",
       "      \"vega-lib\": \"https://cdn.jsdelivr.net/npm/vega-lib?noext\",\n",
       "      \"vega-lite\": \"https://cdn.jsdelivr.net/npm/vega-lite@5.20.1?noext\",\n",
       "      \"vega-embed\": \"https://cdn.jsdelivr.net/npm/vega-embed@6?noext\",\n",
       "    };\n",
       "\n",
       "    function maybeLoadScript(lib, version) {\n",
       "      var key = `${lib.replace(\"-\", \"\")}_version`;\n",
       "      return (VEGA_DEBUG[key] == version) ?\n",
       "        Promise.resolve(paths[lib]) :\n",
       "        new Promise(function(resolve, reject) {\n",
       "          var s = document.createElement('script');\n",
       "          document.getElementsByTagName(\"head\")[0].appendChild(s);\n",
       "          s.async = true;\n",
       "          s.onload = () => {\n",
       "            VEGA_DEBUG[key] = version;\n",
       "            return resolve(paths[lib]);\n",
       "          };\n",
       "          s.onerror = () => reject(`Error loading script: ${paths[lib]}`);\n",
       "          s.src = paths[lib];\n",
       "        });\n",
       "    }\n",
       "\n",
       "    function showError(err) {\n",
       "      outputDiv.innerHTML = `<div class=\"error\" style=\"color:red;\">${err}</div>`;\n",
       "      throw err;\n",
       "    }\n",
       "\n",
       "    function displayChart(vegaEmbed) {\n",
       "      vegaEmbed(outputDiv, spec, embedOpt)\n",
       "        .catch(err => showError(`Javascript Error: ${err.message}<br>This usually means there's a typo in your chart specification. See the javascript console for the full traceback.`));\n",
       "    }\n",
       "\n",
       "    if(typeof define === \"function\" && define.amd) {\n",
       "      requirejs.config({paths});\n",
       "      require([\"vega-embed\"], displayChart, err => showError(`Error loading script: ${err.message}`));\n",
       "    } else {\n",
       "      maybeLoadScript(\"vega\", \"5\")\n",
       "        .then(() => maybeLoadScript(\"vega-lite\", \"5.20.1\"))\n",
       "        .then(() => maybeLoadScript(\"vega-embed\", \"6\"))\n",
       "        .catch(showError)\n",
       "        .then(() => displayChart(vegaEmbed));\n",
       "    }\n",
       "  })({\"config\": {\"view\": {\"continuousWidth\": 300, \"continuousHeight\": 300}}, \"repeat\": {\"layer\": [\"loss\"]}, \"spec\": {\"data\": {\"name\": \"data-ecd35f2098246ed9e24f88d822ad421b\"}, \"mark\": {\"type\": \"line\"}, \"encoding\": {\"color\": {\"datum\": {\"repeat\": \"layer\"}}, \"x\": {\"field\": \"index\", \"title\": \"Epochs\", \"type\": \"quantitative\"}, \"y\": {\"field\": {\"repeat\": \"layer\"}, \"title\": \"Loss\", \"type\": \"quantitative\"}}}, \"title\": \"Loss by Epoch\", \"$schema\": \"https://vega.github.io/schema/vega-lite/v5.20.1.json\", \"datasets\": {\"data-ecd35f2098246ed9e24f88d822ad421b\": [{\"index\": 0, \"loss\": 0.7966778874397278}, {\"index\": 1, \"loss\": 0.643528938293457}, {\"index\": 2, \"loss\": 0.4959537088871002}, {\"index\": 3, \"loss\": 0.36614227294921875}, {\"index\": 4, \"loss\": 0.29073747992515564}, {\"index\": 5, \"loss\": 0.2542751431465149}, {\"index\": 6, \"loss\": 0.2325373888015747}, {\"index\": 7, \"loss\": 0.22037702798843384}, {\"index\": 8, \"loss\": 0.20817041397094727}, {\"index\": 9, \"loss\": 0.20071302354335785}, {\"index\": 10, \"loss\": 0.1950894147157669}, {\"index\": 11, \"loss\": 0.19025282561779022}, {\"index\": 12, \"loss\": 0.18490652740001678}, {\"index\": 13, \"loss\": 0.18180285394191742}, {\"index\": 14, \"loss\": 0.17663244903087616}, {\"index\": 15, \"loss\": 0.17707009613513947}, {\"index\": 16, \"loss\": 0.17098727822303772}, {\"index\": 17, \"loss\": 0.16967284679412842}, {\"index\": 18, \"loss\": 0.16680043935775757}, {\"index\": 19, \"loss\": 0.16368666291236877}, {\"index\": 20, \"loss\": 0.16307958960533142}, {\"index\": 21, \"loss\": 0.16528303921222687}, {\"index\": 22, \"loss\": 0.16018763184547424}, {\"index\": 23, \"loss\": 0.1604095697402954}, {\"index\": 24, \"loss\": 0.15887513756752014}]}}, {\"mode\": \"vega-lite\"});\n",
       "</script>"
      ],
      "text/plain": [
       "alt.RepeatChart(...)"
      ]
     },
     "metadata": {},
     "output_type": "display_data"
    }
   ],
   "source": [
    "model = create_opt_model(opt)\n",
    "fit = model.fit(x=X_train, \n",
    "        y=y_train,\n",
    "        verbose=0,\n",
    "        epochs=25)\n",
    "name = 'final_NN'\n",
    "history_df = pl.DataFrame(fit.history)\n",
    "history_df = history_df.with_row_index()\n",
    "history_df\n",
    "plot_model_history(history_df, feature='mse', name=name)\n",
    "plot_model_history(history_df, feature='loss', name=name)"
   ]
  },
  {
   "cell_type": "code",
   "execution_count": null,
   "metadata": {},
   "outputs": [],
   "source": []
  },
  {
   "cell_type": "code",
   "execution_count": null,
   "metadata": {},
   "outputs": [],
   "source": []
  }
 ],
 "metadata": {
  "kernelspec": {
   "display_name": ".venv",
   "language": "python",
   "name": "python3"
  },
  "language_info": {
   "codemirror_mode": {
    "name": "ipython",
    "version": 3
   },
   "file_extension": ".py",
   "mimetype": "text/x-python",
   "name": "python",
   "nbconvert_exporter": "python",
   "pygments_lexer": "ipython3",
   "version": "3.12.7"
  }
 },
 "nbformat": 4,
 "nbformat_minor": 2
}
